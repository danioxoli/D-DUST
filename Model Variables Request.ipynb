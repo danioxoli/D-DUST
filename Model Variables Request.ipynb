{
 "cells": [
  {
   "cell_type": "markdown",
   "id": "f8470b6c",
   "metadata": {
    "tags": []
   },
   "source": [
    "<img style=\"margin-right:80px; margin-left:80px\" src=img/DDUST__Nero.png width=\"170\"> <img style=\"margin-right:80px\" src=img/01_Polimi_centrato_BN_positivo.png width=\"170\"> <img style=\"margin-right:80px\" src=img/sigillo_testo_colori_300dpi.png width=\"170\"> <img style=\"margin-right:80px\" src=img/fondazione-politecnico-di-milano.png width=\"170\"> <img src=img/ML_FCARIPLO_cmyk__base_100mm.png width=\"170\">\n",
    "<br>\n",
    "\n",
    "----\n",
    "\n",
    "\n",
    "# API Request notebook for climate and air quality data from Copernicus Atmosphere Monitoring Service (CAMS) and Copernicus Climate Change Service (C3S)"
   ]
  },
  {
   "cell_type": "markdown",
   "id": "1b7a1317",
   "metadata": {},
   "source": [
    "This notebook is used to download data derived from meteorological and air quality models. It is divided into 2 parts:\n",
    "- The first part requests data using the `CDS API` Python library. It's used to download data concerning air quality variables from Copernicus Atmosphere Monitoring Service (CAMS) models.\n",
    "- The second part requests data using the `Google Earth Engine` Python API library. It's used to download data concerning meteorological variables obtained from the Copernicus Climate Change Service ERA5-land hourly Reanalysis model."
   ]
  },
  {
   "cell_type": "markdown",
   "id": "e5d2ac54",
   "metadata": {},
   "source": [
    "### Link to Copernicus Services:\n",
    "- Link to [ADS Atmosphere Copernicus (CAMS)](https://ads.atmosphere.copernicus.eu/cdsapp#!/dataset/cams-europe-air-quality-forecasts?tab=overview)\n",
    "- Link to [CDS Climate Copernicus (C3S)](https://cds.climate.copernicus.eu/cdsapp#!/dataset/reanalysis-era5-land?tab=overview)"
   ]
  },
  {
   "cell_type": "markdown",
   "id": "083a73fd",
   "metadata": {},
   "source": [
    "### How to access the CDS API:\n",
    "It's possible to change `key` and `value` pairs provided from the website in the `.cdsapirc` file as explained in the following link: https://ads.atmosphere.copernicus.eu/api-how-to \n",
    "\n",
    "Alternatively, `key` and `value` can be used as input directly inside the `cdsapi` API request if the notebook is not shared and it's run locally.\n",
    "\n",
    "Also, in order to run this notebook, it is required to add your CDSAPI token inside the `keys.json` file provided inside the repository."
   ]
  },
  {
   "cell_type": "markdown",
   "id": "3049c512",
   "metadata": {},
   "source": [
    "### Reference material:<br> \n",
    "- GitHub Repository containing examples from ECMWF: https://github.com/ecmwf-projects/copernicus-training\n",
    "- Example: https://github.com/ecmwf-projects/copernicus-training/blob/master/2021-02-Copernicus-ECMWF-data-tutorial.ipynb"
   ]
  },
  {
   "cell_type": "markdown",
   "id": "d95bf0f7",
   "metadata": {},
   "source": [
    "### Import libraries and API authentication"
   ]
  },
  {
   "cell_type": "code",
   "execution_count": 5,
   "id": "f7aed58a",
   "metadata": {},
   "outputs": [],
   "source": [
    "import warnings\n",
    "warnings.filterwarnings('ignore')\n",
    "\n",
    "import cdsapi\n",
    "import os\n",
    "import geopandas as gpd\n",
    "import xarray as xr\n",
    "import json\n",
    "import ipywidgets as widgets\n",
    "import ee\n",
    "import geemap\n",
    "import datetime\n",
    "\n",
    "\n",
    "# Current working directory path:\n",
    "cwd = os.getcwd()\n",
    "\n",
    "# Import functions defined for DDUST project:\n",
    "from functions import DDUST_methods"
   ]
  },
  {
   "cell_type": "code",
   "execution_count": 2,
   "id": "698c5c54",
   "metadata": {},
   "outputs": [
    {
     "data": {
      "text/html": [
       "<p>To authorize access needed by Earth Engine, open the following\n",
       "        URL in a web browser and follow the instructions:</p>\n",
       "        <p><a href=https://code.earthengine.google.com/client-auth?scopes=https%3A//www.googleapis.com/auth/earthengine%20https%3A//www.googleapis.com/auth/devstorage.full_control&request_id=e2Q8MGUjHZUD5JSDZAmhvu2rXa1gq4aWKrfJKFkfETc&tc=EERmR6nK7TcqjmBAmxSci2cTM120EKmkCjae_f9v0vo&cc=nQLZomJhLP56E6mlWah08_MNuQ_54dPuPVpOqwhYk2k>https://code.earthengine.google.com/client-auth?scopes=https%3A//www.googleapis.com/auth/earthengine%20https%3A//www.googleapis.com/auth/devstorage.full_control&request_id=e2Q8MGUjHZUD5JSDZAmhvu2rXa1gq4aWKrfJKFkfETc&tc=EERmR6nK7TcqjmBAmxSci2cTM120EKmkCjae_f9v0vo&cc=nQLZomJhLP56E6mlWah08_MNuQ_54dPuPVpOqwhYk2k</a></p>\n",
       "        <p>The authorization workflow will generate a code, which you\n",
       "        should paste in the box below</p>\n",
       "        "
      ],
      "text/plain": [
       "<IPython.core.display.HTML object>"
      ]
     },
     "metadata": {},
     "output_type": "display_data"
    },
    {
     "name": "stdin",
     "output_type": "stream",
     "text": [
      "Enter verification code:  4/1AdQt8qi6FiacQBRNQfaraVSPfjnvj8HWFsESCSTh6b6njULGxCekS9YYxSs\n"
     ]
    },
    {
     "name": "stdout",
     "output_type": "stream",
     "text": [
      "\n",
      "Successfully saved authorization token.\n"
     ]
    }
   ],
   "source": [
    "# Google Earth Engine authentication (a Google account is required):\n",
    "ee.Authenticate()"
   ]
  },
  {
   "cell_type": "code",
   "execution_count": 3,
   "id": "5c2777ff",
   "metadata": {},
   "outputs": [],
   "source": [
    "# Initialize Google Earth Engine API:\n",
    "ee.Initialize()"
   ]
  },
  {
   "cell_type": "code",
   "execution_count": 6,
   "id": "e3a18833",
   "metadata": {},
   "outputs": [],
   "source": [
    "# CDSAPI: Importing key/value from .json file for API authentication:\n",
    "f = open('keys.json')\n",
    "keys = json.load(f)\n",
    "c_atm = cdsapi.Client(keys[\"ATM_ID\"], keys[\"ATM_KEY\"])"
   ]
  },
  {
   "cell_type": "markdown",
   "id": "bcc4e8e1",
   "metadata": {},
   "source": [
    "### Set starting and end date for data request:"
   ]
  },
  {
   "cell_type": "markdown",
   "id": "f00feba5",
   "metadata": {},
   "source": [
    "The date selection is done through the `date.json` file that contains the date range for requesting the data. The `date.json` file is the same for all the project's notebooks:"
   ]
  },
  {
   "cell_type": "code",
   "execution_count": 7,
   "id": "6f0158ed",
   "metadata": {},
   "outputs": [],
   "source": [
    "d = open('date.json') #Open .json file where manuring weeks and year are saved\n",
    "date = json.load(d)\n",
    "year = date['year']\n",
    "custom_week = date['custom_week']"
   ]
  },
  {
   "cell_type": "code",
   "execution_count": 8,
   "id": "91ff3195",
   "metadata": {},
   "outputs": [
    {
     "name": "stdout",
     "output_type": "stream",
     "text": [
      "The starting date is 2021-03-10 and the ending date is 2021-03-15 . The date is define as yyyy-mm-dd.\n"
     ]
    }
   ],
   "source": [
    "# Select start and end date of the corresponding selected week:\n",
    "start_date = str(datetime.datetime.strptime((str(year)+'-'+custom_week[0]), \"%Y-%m-%d\").date())\n",
    "end_date = str(datetime.datetime.strptime((str(year)+'-'+custom_week[1]), \"%Y-%m-%d\").date())\n",
    "print(\"The starting date is\", start_date,\"and the ending date is\" , end_date,\". The date is define as yyyy-mm-dd.\")"
   ]
  },
  {
   "cell_type": "markdown",
   "id": "bda5e0b0",
   "metadata": {},
   "source": [
    "### Import Bounding Box"
   ]
  },
  {
   "cell_type": "code",
   "execution_count": 9,
   "id": "15ba4116",
   "metadata": {},
   "outputs": [],
   "source": [
    "area_path = cwd + '/grid/grid_0_1.gpkg'\n",
    "area = gpd.read_file(area_path).to_crs(4326)\n",
    "bounds = area.total_bounds\n",
    "roi = ee.Geometry.BBox(bounds[0],bounds[1],bounds[2],bounds[3])"
   ]
  },
  {
   "cell_type": "markdown",
   "id": "a64bd903-745f-4b30-ad24-66f69c2e836d",
   "metadata": {},
   "source": [
    "Define the scale for the ERA5 data download:"
   ]
  },
  {
   "cell_type": "code",
   "execution_count": 10,
   "id": "7ca4ed36-4a16-4b76-a115-11b1e64471f1",
   "metadata": {},
   "outputs": [],
   "source": [
    "era5_scale = 1000"
   ]
  },
  {
   "cell_type": "markdown",
   "id": "c98300b4",
   "metadata": {},
   "source": [
    "- - -"
   ]
  },
  {
   "cell_type": "markdown",
   "id": "4b237c28",
   "metadata": {},
   "source": [
    "# CDAPI Data Requests for Copernicus Atmosphere Monitoring Service (CAMS)"
   ]
  },
  {
   "cell_type": "markdown",
   "id": "f7050f7a",
   "metadata": {},
   "source": [
    "This part contains the requests for the following variables:\n",
    "- Particulate matter (PM10, PM2.5)\n",
    "- Ammonia (NH3)\n",
    "- Sulphur Dioxide (SO2)\n",
    "- Nitrogen Dioxide (NO2)\n",
    "- Nitrogen Monoxide (NO)\n",
    "- Carbon Monoxide (CO)\n",
    "- Ozone (O3)\n",
    "- Dust\n",
    "- NMVOCs (Non-Methane Volatile Organic Compounds)\n",
    "\n",
    "Each section just requires hourly data in the time range (start & end date) for each variable. The data are required in the bounding box only, and a mean value it's calculated. The output format is a netCDF file."
   ]
  },
  {
   "cell_type": "markdown",
   "id": "b9a94b82",
   "metadata": {},
   "source": [
    "# [PM2.5 - Particulate Matter](https://ads.atmosphere.copernicus.eu/cdsapp#!/dataset/cams-europe-air-quality-forecasts?tab=overview) "
   ]
  },
  {
   "cell_type": "code",
   "execution_count": 11,
   "id": "b39fdf32",
   "metadata": {},
   "outputs": [
    {
     "name": "stderr",
     "output_type": "stream",
     "text": [
      "2022-08-22 10:58:45,527 INFO Welcome to the CDS\n",
      "2022-08-22 10:58:45,527 INFO Sending request to https://ads.atmosphere.copernicus.eu/api/v2/resources/cams-europe-air-quality-forecasts\n",
      "2022-08-22 10:58:45,564 INFO Request is queued\n",
      "2022-08-22 10:58:46,597 INFO Request is running\n",
      "2022-08-22 10:59:18,012 INFO Request is completed\n",
      "2022-08-22 10:59:18,012 INFO Downloading https://download-0000-ads-clone.copernicus-climate.eu/cache-compute-0000/cache/data8/adaptor.cams_regional_fc.retrieve-1661158747.0440676-25494-14-9a4d1a51-e72b-4349-8351-b6de67e0c797.nc to C:\\Users\\Administrator\\OneDrive - Politecnico di Milano\\WP2\\D-DUST\\temp\\pm25_cams.nc (368.2K)\n",
      "2022-08-22 10:59:18,331 INFO Download rate 1.1M/s\n"
     ]
    }
   ],
   "source": [
    "pm25_path = cwd+r'\\temp\\pm25_cams.nc'\n",
    "pm25 = c_atm.retrieve(\n",
    "    'cams-europe-air-quality-forecasts',\n",
    "    {\n",
    "        'variable': 'particulate_matter_2.5um',\n",
    "        'model': 'ensemble',\n",
    "        'level': '0',\n",
    "        'date': start_date+'/'+end_date,\n",
    "        'type': 'analysis',\n",
    "        'time': [\n",
    "            '00:00', '01:00', '02:00',\n",
    "            '03:00', '04:00', '05:00',\n",
    "            '06:00', '07:00', '08:00',\n",
    "            '09:00', '10:00', '11:00',\n",
    "            '12:00', '13:00', '14:00',\n",
    "            '15:00', '16:00', '17:00',\n",
    "            '18:00', '19:00', '20:00',\n",
    "            '21:00', '22:00', '23:00',\n",
    "        ],\n",
    "        'leadtime_hour': '0',\n",
    "        'area': [\n",
    "            bounds[3], bounds[0], bounds[1],\n",
    "            bounds[2],\n",
    "        ],\n",
    "        'format': 'netcdf',\n",
    "    },\n",
    "    pm25_path\n",
    "    )"
   ]
  },
  {
   "cell_type": "code",
   "execution_count": 12,
   "id": "18229d79",
   "metadata": {},
   "outputs": [],
   "source": [
    "pm25 = xr.open_dataset(pm25_path)"
   ]
  },
  {
   "cell_type": "code",
   "execution_count": 13,
   "id": "643d4da3",
   "metadata": {},
   "outputs": [],
   "source": [
    "pm25_mean = pm25.mean(dim='time')"
   ]
  },
  {
   "cell_type": "code",
   "execution_count": 14,
   "id": "cd886a47",
   "metadata": {},
   "outputs": [],
   "source": [
    "pm25_mean.to_netcdf(pm25_path)"
   ]
  },
  {
   "cell_type": "markdown",
   "id": "83230de8",
   "metadata": {},
   "source": [
    "- - -"
   ]
  },
  {
   "cell_type": "markdown",
   "id": "dbd13a70",
   "metadata": {},
   "source": [
    "# [NH3 - Ammonia](https://ads.atmosphere.copernicus.eu/cdsapp#!/dataset/cams-europe-air-quality-forecasts?tab=overview) "
   ]
  },
  {
   "cell_type": "code",
   "execution_count": 15,
   "id": "ec724708",
   "metadata": {},
   "outputs": [
    {
     "name": "stderr",
     "output_type": "stream",
     "text": [
      "2022-08-22 10:59:18,785 INFO Welcome to the CDS\n",
      "2022-08-22 10:59:18,786 INFO Sending request to https://ads.atmosphere.copernicus.eu/api/v2/resources/cams-europe-air-quality-forecasts\n",
      "2022-08-22 10:59:18,823 INFO Request is queued\n",
      "2022-08-22 10:59:19,867 INFO Request is running\n",
      "2022-08-22 10:59:51,270 INFO Request is completed\n",
      "2022-08-22 10:59:51,272 INFO Downloading https://download-0005-ads-clone.copernicus-climate.eu/cache-compute-0005/cache/data9/adaptor.cams_regional_fc.retrieve-1661158781.424463-792-11-3d9ecf87-f8f2-482e-82d2-7a5c7e2065a1.nc to C:\\Users\\Administrator\\OneDrive - Politecnico di Milano\\WP2\\D-DUST\\temp\\nh3_cams.nc (368.2K)\n",
      "2022-08-22 10:59:51,513 INFO Download rate 1.5M/s\n"
     ]
    }
   ],
   "source": [
    "nh3_path = cwd+r'\\temp\\nh3_cams.nc'\n",
    "nh3 = c_atm.retrieve(\n",
    "    'cams-europe-air-quality-forecasts',\n",
    "    {\n",
    "        'variable': 'ammonia',\n",
    "        'model': 'ensemble',\n",
    "        'level': '0',\n",
    "        'date': start_date+'/'+end_date,\n",
    "        'type': 'analysis',\n",
    "        'time': [\n",
    "            '00:00', '01:00', '02:00',\n",
    "            '03:00', '04:00', '05:00',\n",
    "            '06:00', '07:00', '08:00',\n",
    "            '09:00', '10:00', '11:00',\n",
    "            '12:00', '13:00', '14:00',\n",
    "            '15:00', '16:00', '17:00',\n",
    "            '18:00', '19:00', '20:00',\n",
    "            '21:00', '22:00', '23:00',\n",
    "        ],\n",
    "        'leadtime_hour': '0',\n",
    "        'area': [\n",
    "            bounds[3], bounds[0], bounds[1],\n",
    "            bounds[2],\n",
    "        ],\n",
    "        'format': 'netcdf',\n",
    "    },\n",
    "    nh3_path\n",
    "    )"
   ]
  },
  {
   "cell_type": "code",
   "execution_count": 16,
   "id": "18c87c61",
   "metadata": {},
   "outputs": [],
   "source": [
    "nh3 = xr.open_dataset(nh3_path)"
   ]
  },
  {
   "cell_type": "code",
   "execution_count": 17,
   "id": "f8a26e46",
   "metadata": {},
   "outputs": [],
   "source": [
    "nh3_mean = nh3.mean(dim='time')"
   ]
  },
  {
   "cell_type": "code",
   "execution_count": 18,
   "id": "1e88261c",
   "metadata": {},
   "outputs": [],
   "source": [
    "nh3_mean.to_netcdf(nh3_path)"
   ]
  },
  {
   "cell_type": "markdown",
   "id": "1e71fa57",
   "metadata": {},
   "source": [
    "- - -"
   ]
  },
  {
   "cell_type": "markdown",
   "id": "384c9752",
   "metadata": {},
   "source": [
    "# [SO2 - Sulphur Dioxide](https://ads.atmosphere.copernicus.eu/cdsapp#!/dataset/cams-europe-air-quality-forecasts?tab=overview) "
   ]
  },
  {
   "cell_type": "code",
   "execution_count": 19,
   "id": "3d783cd7",
   "metadata": {},
   "outputs": [
    {
     "name": "stderr",
     "output_type": "stream",
     "text": [
      "2022-08-22 10:59:51,661 INFO Welcome to the CDS\n",
      "2022-08-22 10:59:51,662 INFO Sending request to https://ads.atmosphere.copernicus.eu/api/v2/resources/cams-europe-air-quality-forecasts\n",
      "2022-08-22 10:59:51,700 INFO Request is queued\n",
      "2022-08-22 10:59:52,735 INFO Request is running\n",
      "2022-08-22 11:00:24,150 INFO Request is completed\n",
      "2022-08-22 11:00:24,150 INFO Downloading https://download-0002-ads-clone.copernicus-climate.eu/cache-compute-0002/cache/data9/adaptor.cams_regional_fc.retrieve-1661158813.226386-25081-3-ced715c3-4a36-42a4-a46a-07ab13c2ca31.nc to C:\\Users\\Administrator\\OneDrive - Politecnico di Milano\\WP2\\D-DUST/temp/so2_cams.nc (368.2K)\n",
      "2022-08-22 11:00:24,407 INFO Download rate 1.4M/s\n"
     ]
    }
   ],
   "source": [
    "so2_path = cwd + r'/temp/so2_cams.nc'\n",
    "so2 = c_atm.retrieve(\n",
    "    'cams-europe-air-quality-forecasts',\n",
    "    {\n",
    "        'variable': 'sulphur_dioxide',\n",
    "        'model': 'ensemble',\n",
    "        'level': '0',\n",
    "        'date': start_date+'/'+end_date,\n",
    "        'type': 'analysis',\n",
    "        'time': [\n",
    "            '00:00', '01:00', '02:00',\n",
    "            '03:00', '04:00', '05:00',\n",
    "            '06:00', '07:00', '08:00',\n",
    "            '09:00', '10:00', '11:00',\n",
    "            '12:00', '13:00', '14:00',\n",
    "            '15:00', '16:00', '17:00',\n",
    "            '18:00', '19:00', '20:00',\n",
    "            '21:00', '22:00', '23:00',\n",
    "        ],\n",
    "        'leadtime_hour': '0',\n",
    "        'area': [\n",
    "            bounds[3], bounds[0], bounds[1],\n",
    "            bounds[2],\n",
    "        ],\n",
    "        'format': 'netcdf',\n",
    "    },\n",
    "    so2_path\n",
    "    )"
   ]
  },
  {
   "cell_type": "code",
   "execution_count": 20,
   "id": "2dc9530d",
   "metadata": {},
   "outputs": [],
   "source": [
    "so2 = xr.open_dataset(so2_path)"
   ]
  },
  {
   "cell_type": "code",
   "execution_count": 21,
   "id": "e043e188",
   "metadata": {},
   "outputs": [],
   "source": [
    "so2_mean = so2.mean(dim='time')"
   ]
  },
  {
   "cell_type": "code",
   "execution_count": 22,
   "id": "7cb4a0a0",
   "metadata": {},
   "outputs": [],
   "source": [
    "so2_mean.to_netcdf(so2_path)"
   ]
  },
  {
   "cell_type": "markdown",
   "id": "70f2f8b2",
   "metadata": {},
   "source": [
    "- - -"
   ]
  },
  {
   "cell_type": "markdown",
   "id": "c0a3d022",
   "metadata": {},
   "source": [
    "# [NO2 - Nitrogen Dioxide](https://ads.atmosphere.copernicus.eu/cdsapp#!/dataset/cams-europe-air-quality-forecasts?tab=overview) "
   ]
  },
  {
   "cell_type": "code",
   "execution_count": 23,
   "id": "8f3d4d3b",
   "metadata": {},
   "outputs": [
    {
     "name": "stderr",
     "output_type": "stream",
     "text": [
      "2022-08-22 11:00:24,543 INFO Welcome to the CDS\n",
      "2022-08-22 11:00:24,544 INFO Sending request to https://ads.atmosphere.copernicus.eu/api/v2/resources/cams-europe-air-quality-forecasts\n",
      "2022-08-22 11:00:24,580 INFO Request is queued\n",
      "2022-08-22 11:00:25,614 INFO Request is running\n",
      "2022-08-22 11:00:57,020 INFO Request is completed\n",
      "2022-08-22 11:00:57,021 INFO Downloading https://download-0004-ads-clone.copernicus-climate.eu/cache-compute-0004/cache/data7/adaptor.cams_regional_fc.retrieve-1661158847.6296396-9994-14-2b8b411f-fc62-4372-a395-6d9c771a6bd1.nc to C:\\Users\\Administrator\\OneDrive - Politecnico di Milano\\WP2\\D-DUST/temp/no2_cams.nc (368.2K)\n",
      "2022-08-22 11:00:57,283 INFO Download rate 1.4M/s \n"
     ]
    }
   ],
   "source": [
    "no2_path = cwd + r'/temp/no2_cams.nc'\n",
    "no2 = c_atm.retrieve(\n",
    "    'cams-europe-air-quality-forecasts',\n",
    "    {\n",
    "        'variable': 'nitrogen_dioxide',\n",
    "        'model': 'ensemble',\n",
    "        'level': '0',\n",
    "        'date': start_date+'/'+end_date,\n",
    "        'type': 'analysis',\n",
    "        'time': [\n",
    "            '00:00', '01:00', '02:00',\n",
    "            '03:00', '04:00', '05:00',\n",
    "            '06:00', '07:00', '08:00',\n",
    "            '09:00', '10:00', '11:00',\n",
    "            '12:00', '13:00', '14:00',\n",
    "            '15:00', '16:00', '17:00',\n",
    "            '18:00', '19:00', '20:00',\n",
    "            '21:00', '22:00', '23:00',\n",
    "        ],\n",
    "        'leadtime_hour': '0',\n",
    "        'area': [\n",
    "            bounds[3], bounds[0], bounds[1],\n",
    "            bounds[2],\n",
    "        ],\n",
    "        'format': 'netcdf',\n",
    "    },\n",
    "    no2_path\n",
    "    )"
   ]
  },
  {
   "cell_type": "code",
   "execution_count": 24,
   "id": "acc56fcd",
   "metadata": {},
   "outputs": [],
   "source": [
    "no2 = xr.open_dataset(no2_path)"
   ]
  },
  {
   "cell_type": "code",
   "execution_count": 25,
   "id": "1a531f79",
   "metadata": {},
   "outputs": [],
   "source": [
    "no2_mean = no2.mean(dim='time')"
   ]
  },
  {
   "cell_type": "code",
   "execution_count": 26,
   "id": "a3c72e80",
   "metadata": {},
   "outputs": [],
   "source": [
    "no2_mean.to_netcdf(no2_path)"
   ]
  },
  {
   "cell_type": "markdown",
   "id": "73484d5c",
   "metadata": {},
   "source": [
    "- - -"
   ]
  },
  {
   "cell_type": "markdown",
   "id": "51fba870",
   "metadata": {},
   "source": [
    "# [NO - Nitrogen Monoxide](https://ads.atmosphere.copernicus.eu/cdsapp#!/dataset/cams-europe-air-quality-forecasts?tab=overview)"
   ]
  },
  {
   "cell_type": "code",
   "execution_count": 27,
   "id": "8bc8305f",
   "metadata": {},
   "outputs": [
    {
     "name": "stderr",
     "output_type": "stream",
     "text": [
      "2022-08-22 11:00:57,421 INFO Welcome to the CDS\n",
      "2022-08-22 11:00:57,422 INFO Sending request to https://ads.atmosphere.copernicus.eu/api/v2/resources/cams-europe-air-quality-forecasts\n",
      "2022-08-22 11:00:57,459 INFO Request is queued\n",
      "2022-08-22 11:00:58,489 INFO Request is running\n",
      "2022-08-22 11:01:29,894 INFO Request is completed\n",
      "2022-08-22 11:01:29,894 INFO Downloading https://download-0005-ads-clone.copernicus-climate.eu/cache-compute-0005/cache/data8/adaptor.cams_regional_fc.retrieve-1661158879.3712132-30265-10-b20b5bf6-32b7-477b-8b97-f70a4128e8bb.nc to C:\\Users\\Administrator\\OneDrive - Politecnico di Milano\\WP2\\D-DUST/temp/no_cams.nc (368.2K)\n",
      "2022-08-22 11:01:30,109 INFO Download rate 1.7M/s \n"
     ]
    }
   ],
   "source": [
    "no_path = cwd + r'/temp/no_cams.nc'\n",
    "no = c_atm.retrieve(\n",
    "    'cams-europe-air-quality-forecasts',\n",
    "    {\n",
    "        'variable': 'nitrogen_monoxide',\n",
    "        'model': 'ensemble',\n",
    "        'level': '0',\n",
    "        'date': start_date+'/'+end_date,\n",
    "        'type': 'analysis',\n",
    "        'time': [\n",
    "            '00:00', '01:00', '02:00',\n",
    "            '03:00', '04:00', '05:00',\n",
    "            '06:00', '07:00', '08:00',\n",
    "            '09:00', '10:00', '11:00',\n",
    "            '12:00', '13:00', '14:00',\n",
    "            '15:00', '16:00', '17:00',\n",
    "            '18:00', '19:00', '20:00',\n",
    "            '21:00', '22:00', '23:00',\n",
    "        ],\n",
    "        'leadtime_hour': '0',\n",
    "        'area': [\n",
    "            bounds[3], bounds[0], bounds[1],\n",
    "            bounds[2],\n",
    "        ],\n",
    "        'format': 'netcdf',\n",
    "    },\n",
    "    no_path\n",
    "    )"
   ]
  },
  {
   "cell_type": "code",
   "execution_count": 28,
   "id": "bbe636f1",
   "metadata": {},
   "outputs": [],
   "source": [
    "no = xr.open_dataset(no_path)"
   ]
  },
  {
   "cell_type": "code",
   "execution_count": 29,
   "id": "b88fa2e1",
   "metadata": {},
   "outputs": [],
   "source": [
    "no_mean = no.mean(dim='time')"
   ]
  },
  {
   "cell_type": "code",
   "execution_count": 30,
   "id": "566176d1",
   "metadata": {},
   "outputs": [],
   "source": [
    "no_mean.to_netcdf(no_path)"
   ]
  },
  {
   "cell_type": "markdown",
   "id": "03250b75",
   "metadata": {},
   "source": [
    "- - -"
   ]
  },
  {
   "cell_type": "markdown",
   "id": "d95aa5ab",
   "metadata": {},
   "source": [
    "# [CO - Carbon Monoxide](https://ads.atmosphere.copernicus.eu/cdsapp#!/dataset/cams-europe-air-quality-forecasts?tab=overview)"
   ]
  },
  {
   "cell_type": "code",
   "execution_count": 31,
   "id": "94dbfb83",
   "metadata": {},
   "outputs": [
    {
     "name": "stderr",
     "output_type": "stream",
     "text": [
      "2022-08-22 11:01:30,240 INFO Welcome to the CDS\n",
      "2022-08-22 11:01:30,241 INFO Sending request to https://ads.atmosphere.copernicus.eu/api/v2/resources/cams-europe-air-quality-forecasts\n",
      "2022-08-22 11:01:30,277 INFO Request is queued\n",
      "2022-08-22 11:01:31,307 INFO Request is running\n",
      "2022-08-22 11:02:02,801 INFO Request is completed\n",
      "2022-08-22 11:02:02,802 INFO Downloading https://download-0005-ads-clone.copernicus-climate.eu/cache-compute-0005/cache/data0/adaptor.cams_regional_fc.retrieve-1661158912.7619529-8502-14-9788ea9a-08c4-4188-97fc-c6c1e711bf5e.nc to C:\\Users\\Administrator\\OneDrive - Politecnico di Milano\\WP2\\D-DUST/temp/co_cams.nc (368.2K)\n",
      "2022-08-22 11:02:03,344 INFO Download rate 680.8K/s\n"
     ]
    }
   ],
   "source": [
    "co_path = cwd + r'/temp/co_cams.nc'\n",
    "co = c_atm.retrieve(\n",
    "    'cams-europe-air-quality-forecasts',\n",
    "    {\n",
    "        'variable': 'carbon_monoxide',\n",
    "        'model': 'ensemble',\n",
    "        'level': '0',\n",
    "        'date': start_date+'/'+end_date,\n",
    "        'type': 'analysis',\n",
    "        'time': [\n",
    "            '00:00', '01:00', '02:00',\n",
    "            '03:00', '04:00', '05:00',\n",
    "            '06:00', '07:00', '08:00',\n",
    "            '09:00', '10:00', '11:00',\n",
    "            '12:00', '13:00', '14:00',\n",
    "            '15:00', '16:00', '17:00',\n",
    "            '18:00', '19:00', '20:00',\n",
    "            '21:00', '22:00', '23:00',\n",
    "        ],\n",
    "        'leadtime_hour': '0',\n",
    "        'area': [\n",
    "            bounds[3], bounds[0], bounds[1],\n",
    "            bounds[2],\n",
    "        ],\n",
    "        'format': 'netcdf',\n",
    "    },\n",
    "    co_path\n",
    "    )"
   ]
  },
  {
   "cell_type": "code",
   "execution_count": 32,
   "id": "6898d246",
   "metadata": {},
   "outputs": [],
   "source": [
    "co = xr.open_dataset(co_path)"
   ]
  },
  {
   "cell_type": "code",
   "execution_count": 33,
   "id": "745ad796",
   "metadata": {},
   "outputs": [],
   "source": [
    "co_mean = co.mean(dim='time')"
   ]
  },
  {
   "cell_type": "code",
   "execution_count": 34,
   "id": "acaea161",
   "metadata": {},
   "outputs": [],
   "source": [
    "co_mean.to_netcdf(co_path)"
   ]
  },
  {
   "cell_type": "markdown",
   "id": "adddfe3f",
   "metadata": {},
   "source": [
    "---"
   ]
  },
  {
   "cell_type": "markdown",
   "id": "6f665a3f",
   "metadata": {},
   "source": [
    "# [O3 - Ozone](https://ads.atmosphere.copernicus.eu/cdsapp#!/dataset/cams-europe-air-quality-forecasts?tab=overview)"
   ]
  },
  {
   "cell_type": "code",
   "execution_count": 35,
   "id": "21230b1e",
   "metadata": {},
   "outputs": [
    {
     "name": "stderr",
     "output_type": "stream",
     "text": [
      "2022-08-22 11:02:03,489 INFO Welcome to the CDS\n",
      "2022-08-22 11:02:03,490 INFO Sending request to https://ads.atmosphere.copernicus.eu/api/v2/resources/cams-europe-air-quality-forecasts\n",
      "2022-08-22 11:02:03,530 INFO Request is queued\n",
      "2022-08-22 11:02:04,566 INFO Request is running\n",
      "2022-08-22 11:02:35,975 INFO Request is completed\n",
      "2022-08-22 11:02:35,976 INFO Downloading https://download-0001-ads-clone.copernicus-climate.eu/cache-compute-0001/cache/data3/adaptor.cams_regional_fc.retrieve-1661158945.0054576-29562-4-92b14a14-5f08-40f8-a024-948dee2124d3.nc to C:\\Users\\Administrator\\OneDrive - Politecnico di Milano\\WP2\\D-DUST/temp/o3_cams.nc (368.1K)\n",
      "2022-08-22 11:02:36,234 INFO Download rate 1.4M/s\n"
     ]
    }
   ],
   "source": [
    "o3_path = cwd + r'/temp/o3_cams.nc'\n",
    "o3 = c_atm.retrieve(\n",
    "    'cams-europe-air-quality-forecasts',\n",
    "    {\n",
    "        'variable': 'ozone',\n",
    "        'model': 'ensemble',\n",
    "        'level': '0',\n",
    "        'date': start_date+'/'+end_date,\n",
    "        'type': 'analysis',\n",
    "        'time': [\n",
    "            '00:00', '01:00', '02:00',\n",
    "            '03:00', '04:00', '05:00',\n",
    "            '06:00', '07:00', '08:00',\n",
    "            '09:00', '10:00', '11:00',\n",
    "            '12:00', '13:00', '14:00',\n",
    "            '15:00', '16:00', '17:00',\n",
    "            '18:00', '19:00', '20:00',\n",
    "            '21:00', '22:00', '23:00',\n",
    "        ],\n",
    "        'leadtime_hour': '0',\n",
    "        'area': [\n",
    "            bounds[3], bounds[0], bounds[1],\n",
    "            bounds[2],\n",
    "        ],\n",
    "        'format': 'netcdf',\n",
    "    },\n",
    "    o3_path\n",
    "    )"
   ]
  },
  {
   "cell_type": "code",
   "execution_count": 36,
   "id": "ddf9a537",
   "metadata": {},
   "outputs": [],
   "source": [
    "o3 = xr.open_dataset(o3_path)"
   ]
  },
  {
   "cell_type": "code",
   "execution_count": 37,
   "id": "255d6bc3",
   "metadata": {},
   "outputs": [],
   "source": [
    "o3_mean = o3.mean(dim='time')"
   ]
  },
  {
   "cell_type": "code",
   "execution_count": 38,
   "id": "696964e3",
   "metadata": {},
   "outputs": [],
   "source": [
    "o3_mean.to_netcdf(o3_path)"
   ]
  },
  {
   "cell_type": "markdown",
   "id": "7484d19f",
   "metadata": {},
   "source": [
    "---"
   ]
  },
  {
   "cell_type": "markdown",
   "id": "d0f0e461",
   "metadata": {
    "tags": []
   },
   "source": [
    "# [Dust](https://ads.atmosphere.copernicus.eu/cdsapp#!/dataset/cams-europe-air-quality-forecasts?tab=overview)"
   ]
  },
  {
   "cell_type": "code",
   "execution_count": 39,
   "id": "27ee3eba",
   "metadata": {},
   "outputs": [
    {
     "name": "stderr",
     "output_type": "stream",
     "text": [
      "2022-08-22 11:02:36,381 INFO Welcome to the CDS\n",
      "2022-08-22 11:02:36,381 INFO Sending request to https://ads.atmosphere.copernicus.eu/api/v2/resources/cams-europe-air-quality-forecasts\n",
      "2022-08-22 11:02:36,418 INFO Request is queued\n",
      "2022-08-22 11:02:37,461 INFO Request is running\n",
      "2022-08-22 11:02:57,434 INFO Request is completed\n",
      "2022-08-22 11:02:57,435 INFO Downloading https://download-0001-ads-clone.copernicus-climate.eu/cache-compute-0001/cache/data8/adaptor.cams_regional_fc.retrieve-1661158977.204503-30446-14-c0d0e20c-8713-4c5d-b3fa-a196c2ec4d8e.nc to C:\\Users\\Administrator\\OneDrive - Politecnico di Milano\\WP2\\D-DUST/temp/dust_cams.nc (368.1K)\n",
      "2022-08-22 11:02:57,594 INFO Download rate 2.3M/s \n"
     ]
    }
   ],
   "source": [
    "dust_path = cwd + r'/temp/dust_cams.nc'\n",
    "dust = c_atm.retrieve(\n",
    "    'cams-europe-air-quality-forecasts',\n",
    "    {\n",
    "        'variable': 'dust',\n",
    "        'model': 'ensemble',\n",
    "        'level': '0',\n",
    "        'date': start_date+'/'+end_date,\n",
    "        'type': 'analysis',\n",
    "        'time': [\n",
    "            '00:00', '01:00', '02:00',\n",
    "            '03:00', '04:00', '05:00',\n",
    "            '06:00', '07:00', '08:00',\n",
    "            '09:00', '10:00', '11:00',\n",
    "            '12:00', '13:00', '14:00',\n",
    "            '15:00', '16:00', '17:00',\n",
    "            '18:00', '19:00', '20:00',\n",
    "            '21:00', '22:00', '23:00',\n",
    "        ],\n",
    "        'leadtime_hour': '0',\n",
    "        'area': [\n",
    "            bounds[3], bounds[0], bounds[1],\n",
    "            bounds[2],\n",
    "        ],\n",
    "        'format': 'netcdf',\n",
    "    },\n",
    "    dust_path\n",
    "    )"
   ]
  },
  {
   "cell_type": "code",
   "execution_count": 40,
   "id": "90b85837",
   "metadata": {},
   "outputs": [],
   "source": [
    "dust = xr.open_dataset(dust_path)"
   ]
  },
  {
   "cell_type": "code",
   "execution_count": 41,
   "id": "8ffab273",
   "metadata": {},
   "outputs": [],
   "source": [
    "dust_mean = dust.mean(dim='time')"
   ]
  },
  {
   "cell_type": "code",
   "execution_count": 42,
   "id": "e95419fe",
   "metadata": {},
   "outputs": [],
   "source": [
    "dust_mean.to_netcdf(dust_path)"
   ]
  },
  {
   "cell_type": "markdown",
   "id": "4aa46b02",
   "metadata": {},
   "source": [
    "# [PM10 - Particulate Matter](https://ads.atmosphere.copernicus.eu/cdsapp#!/dataset/cams-europe-air-quality-forecasts?tab=overview)"
   ]
  },
  {
   "cell_type": "code",
   "execution_count": 43,
   "id": "cc5202e0",
   "metadata": {
    "scrolled": true
   },
   "outputs": [
    {
     "name": "stderr",
     "output_type": "stream",
     "text": [
      "2022-08-22 11:02:57,738 INFO Welcome to the CDS\n",
      "2022-08-22 11:02:57,739 INFO Sending request to https://ads.atmosphere.copernicus.eu/api/v2/resources/cams-europe-air-quality-forecasts\n",
      "2022-08-22 11:02:57,774 INFO Request is queued\n",
      "2022-08-22 11:02:58,820 INFO Request is running\n",
      "2022-08-22 11:03:18,791 INFO Request is completed\n",
      "2022-08-22 11:03:18,791 INFO Downloading https://download-0001-ads-clone.copernicus-climate.eu/cache-compute-0001/cache/data0/adaptor.cams_regional_fc.retrieve-1661158998.1837306-30049-12-86309ef1-ee44-4c9b-9b3d-e92a16a00eb0.nc to C:\\Users\\Administrator\\OneDrive - Politecnico di Milano\\WP2\\D-DUST/temp/pm10_cams.nc (368.2K)\n",
      "2022-08-22 11:03:18,937 INFO Download rate 2.5M/s \n"
     ]
    }
   ],
   "source": [
    "pm10_path = cwd + r'/temp/pm10_cams.nc'\n",
    "pm10 = c_atm.retrieve(\n",
    "    'cams-europe-air-quality-forecasts',\n",
    "    {\n",
    "        'model': 'ensemble',\n",
    "        'date': start_date+'/'+end_date,\n",
    "        'format': 'netcdf',\n",
    "        'level': '0',\n",
    "        'type': 'analysis',\n",
    "        'variable': 'particulate_matter_10um',\n",
    "        'leadtime_hour': '0',\n",
    "        'time': [\n",
    "            '00:00', '01:00', '02:00',\n",
    "            '03:00', '04:00', '05:00',\n",
    "            '06:00', '07:00', '08:00',\n",
    "            '09:00', '10:00', '11:00',\n",
    "            '12:00', '13:00', '14:00',\n",
    "            '15:00', '16:00', '17:00',\n",
    "            '18:00', '19:00', '20:00',\n",
    "            '21:00', '22:00', '23:00',\n",
    "        ],\n",
    "        'area': [\n",
    "            bounds[3], bounds[0], bounds[1],\n",
    "            bounds[2]],\n",
    "        'format': 'netcdf'\n",
    "    },\n",
    "    pm10_path)"
   ]
  },
  {
   "cell_type": "code",
   "execution_count": 44,
   "id": "3bcf9d0c",
   "metadata": {},
   "outputs": [],
   "source": [
    "pm10 = xr.open_dataset(pm10_path)"
   ]
  },
  {
   "cell_type": "code",
   "execution_count": 45,
   "id": "6f5cc72d",
   "metadata": {},
   "outputs": [],
   "source": [
    "pm10_mean = pm10.mean(dim='time')"
   ]
  },
  {
   "cell_type": "code",
   "execution_count": 46,
   "id": "37709319",
   "metadata": {},
   "outputs": [],
   "source": [
    "pm10_mean.to_netcdf(pm10_path)"
   ]
  },
  {
   "cell_type": "markdown",
   "id": "f52628ac",
   "metadata": {},
   "source": [
    "# [NMVOCs - Non Methane VOCs](https://ads.atmosphere.copernicus.eu/cdsapp#!/dataset/cams-europe-air-quality-forecasts?tab=overview)"
   ]
  },
  {
   "cell_type": "code",
   "execution_count": 47,
   "id": "264161a2",
   "metadata": {},
   "outputs": [
    {
     "name": "stderr",
     "output_type": "stream",
     "text": [
      "2022-08-22 11:03:19,078 INFO Welcome to the CDS\n",
      "2022-08-22 11:03:19,079 INFO Sending request to https://ads.atmosphere.copernicus.eu/api/v2/resources/cams-europe-air-quality-forecasts\n",
      "2022-08-22 11:03:19,117 INFO Request is queued\n",
      "2022-08-22 11:03:20,162 INFO Request is running\n",
      "2022-08-22 11:03:51,566 INFO Request is completed\n",
      "2022-08-22 11:03:51,567 INFO Downloading https://download-0004-ads-clone.copernicus-climate.eu/cache-compute-0004/cache/data7/adaptor.cams_regional_fc.retrieve-1661159020.2213578-12004-14-c0a35a7f-d313-4b87-9866-ed8acd5fe2be.nc to C:\\Users\\Administrator\\OneDrive - Politecnico di Milano\\WP2\\D-DUST/temp/nmvocs_cams.nc (368.2K)\n",
      "2022-08-22 11:03:51,804 INFO Download rate 1.5M/s \n"
     ]
    }
   ],
   "source": [
    "nmvocs_path = cwd + r'/temp/nmvocs_cams.nc'\n",
    "nmvocs = c_atm.retrieve(\n",
    "    'cams-europe-air-quality-forecasts',\n",
    "    {\n",
    "        'model': 'ensemble',\n",
    "        'date': start_date+'/'+end_date,\n",
    "        'format': 'netcdf',\n",
    "        'level': '0',\n",
    "        'type': 'analysis',\n",
    "        'variable': 'non_methane_vocs',\n",
    "        'leadtime_hour': '0',\n",
    "        'time': [\n",
    "            '00:00', '01:00', '02:00',\n",
    "            '03:00', '04:00', '05:00',\n",
    "            '06:00', '07:00', '08:00',\n",
    "            '09:00', '10:00', '11:00',\n",
    "            '12:00', '13:00', '14:00',\n",
    "            '15:00', '16:00', '17:00',\n",
    "            '18:00', '19:00', '20:00',\n",
    "            '21:00', '22:00', '23:00',\n",
    "        ],\n",
    "        'area': [\n",
    "            bounds[3], bounds[0], bounds[1],\n",
    "            bounds[2]],\n",
    "        'format': 'netcdf'\n",
    "    },\n",
    "    nmvocs_path)"
   ]
  },
  {
   "cell_type": "code",
   "execution_count": 48,
   "id": "83cf504c",
   "metadata": {},
   "outputs": [],
   "source": [
    "nmvocs = xr.open_dataset(nmvocs_path)"
   ]
  },
  {
   "cell_type": "code",
   "execution_count": 49,
   "id": "649f287d",
   "metadata": {},
   "outputs": [],
   "source": [
    "nmvocs_mean = nmvocs.mean(dim='time')"
   ]
  },
  {
   "cell_type": "code",
   "execution_count": 50,
   "id": "a947c8ca",
   "metadata": {},
   "outputs": [],
   "source": [
    "nmvocs_mean.to_netcdf(nmvocs_path)"
   ]
  },
  {
   "cell_type": "markdown",
   "id": "a45bcdae",
   "metadata": {},
   "source": [
    "---"
   ]
  },
  {
   "cell_type": "markdown",
   "id": "d317c226",
   "metadata": {},
   "source": [
    "# [ECMWF C3S ERA-5 Climate Reanalysis](https://developers.google.com/earth-engine/datasets/catalog/ECMWF_ERA5_LAND_HOURLY) \n",
    "WCMWF C3S ERA-5 Model data are retrieved using Google Earth Engine API.\n",
    "The data selected are:\n",
    " - Air temperature at 2 m above the land surface\n",
    " - Precipitation is defined as accumulated liquid and frozen water, including rain and snow\n",
    " - Pressure is defined as the weight of all the air in a column vertically above the area of the Earth's surface represented at a fixed point.\n",
    " - Northward and eastward wind (u_wind, v_component 10 m above the land surface\n",
    " - Soil humidity is defined as volume of water in soil layer 1 (0 - 7 cm)"
   ]
  },
  {
   "cell_type": "code",
   "execution_count": 51,
   "id": "662c180f",
   "metadata": {},
   "outputs": [
    {
     "data": {
      "application/vnd.jupyter.widget-view+json": {
       "model_id": "d4c019750980414385d7f55d6a27608c",
       "version_major": 2,
       "version_minor": 0
      },
      "text/plain": [
       "Map(center=[45.5, 10], controls=(WidgetControl(options=['position', 'transparent_bg'], widget=HBox(children=(T…"
      ]
     },
     "metadata": {},
     "output_type": "display_data"
    }
   ],
   "source": [
    "Map_era5 = geemap.Map(center=[45.5,10], zoom = 7 )\n",
    "Map_era5"
   ]
  },
  {
   "cell_type": "code",
   "execution_count": 52,
   "id": "7ff92d64",
   "metadata": {},
   "outputs": [],
   "source": [
    "# Daily mean 2m air temperature\n",
    "temp_2m = ee.ImageCollection('ECMWF/ERA5_LAND/HOURLY')\\\n",
    "                   .select('temperature_2m')\\\n",
    "                   .filter(ee.Filter.date(start_date, end_date));\n",
    "\n",
    "# Daily total precipitation sums\n",
    "prec = ee.ImageCollection('ECMWF/ERA5_LAND/HOURLY')\\\n",
    "                  .select('total_precipitation')\\\n",
    "                  .filter(ee.Filter.date(start_date, end_date));\n",
    "\n",
    "# Daily mean surface pressure\n",
    "press = ee.ImageCollection('ECMWF/ERA5_LAND/HOURLY')\\\n",
    "                  .select('surface_pressure')\\\n",
    "                  .filter(ee.Filter.date(start_date, end_date));\n",
    "\n",
    "# Daily mean 10m u-component of wind\n",
    "u_wind = ee.ImageCollection('ECMWF/ERA5_LAND/HOURLY')\\\n",
    "                          .select('u_component_of_wind_10m')\\\n",
    "                          .filter(ee.Filter.date(start_date, end_date));\n",
    "\n",
    "# Daily mean 10m v-component of wind\n",
    "v_wind = ee.ImageCollection('ECMWF/ERA5_LAND/HOURLY')\\\n",
    "                          .select('v_component_of_wind_10m')\\\n",
    "                          .filter(ee.Filter.date(start_date, end_date));\n",
    "\n",
    "\n",
    "# Daily volumetric soil water content (level 1)\n",
    "hum = ee.ImageCollection('ECMWF/ERA5_LAND/HOURLY')\\\n",
    "                          .select('volumetric_soil_water_layer_1')\\\n",
    "                          .filter(ee.Filter.date(start_date, end_date));\n",
    "\n",
    "\n",
    "# Visualization palette for temperature at 2m\n",
    "temp_2m_viz  = {\n",
    "  'min': 220,\n",
    "  'max': 304,\n",
    "  'palette': ['#FFFFFF', '#00FFFF', '#0080FF', '#DA00FF', '#FFA400', '#FF0000']\n",
    "};\n",
    "\n",
    "# Visualization palette for pressure (surface pressure)\n",
    "press_viz = {\n",
    "  'min': 65000,\n",
    "  'max': 120000,\n",
    "  'palette': [\n",
    "    '#01FFFF', '#058BFF', '#0600FF', '#DF00FF', '#FF00FF', '#FF8C00', '#FF8C00'\n",
    "  ]\n",
    "};\n",
    "\n",
    "# Visualization palette for total precipitation\n",
    "prec_viz  = {\n",
    "  'min': 0,\n",
    "  'max': 0.1,\n",
    "  'palette': ['#FFFFFF', '#00FFFF', '#0080FF', '#DA00FF', '#FFA400', '#FF0000']\n",
    "};\n",
    "\n",
    "# Visualization palette for u-component of 10m wind\n",
    "u_wind_viz = {\n",
    "  'min': 0,\n",
    "  'max': 30,\n",
    "  'palette': [\n",
    "    '#FFFFFF', '#FFFF71', '#DEFF00', '#9EFF00', '#77B038', '#007E55', '#005F51',\n",
    "    '#004B51', '#013A7B', '#023AAD'\n",
    "  ]\n",
    "}\n",
    "                           \n",
    "# Visualization palette for v-component of 10m wind\n",
    "v_wind_viz = {\n",
    "  'min': 0,\n",
    "  'max': 30,\n",
    "  'palette': [\n",
    "    '#FFFFFF', '#FFFF71', '#DEFF00', '#9EFF00', '#77B038', '#007E55', '#005F51',\n",
    "    '#004B51', '#013A7B', '#023AAD'\n",
    "  ]\n",
    "};\n",
    "\n",
    "# Visualization palette for soil humitidy\n",
    "hum_viz = {\n",
    "  'min': 0,\n",
    "  'max': 1,\n",
    "  'palette': [\n",
    "    '#FFFFFF', '#FFFF71', '#DEFF00', '#9EFF00', '#77B038', '#007E55', '#005F51',\n",
    "    '#004B51', '#013A7B', '#023AAD'\n",
    "  ]\n",
    "};\n",
    "\n",
    "temp_2m = temp_2m.mean()\n",
    "press = press.mean()\n",
    "prec = prec.mean()\n",
    "u_wind = u_wind.mean()\n",
    "v_wind = v_wind.mean()\n",
    "hum = hum.mean()"
   ]
  },
  {
   "cell_type": "code",
   "execution_count": 53,
   "id": "db73efb0",
   "metadata": {},
   "outputs": [],
   "source": [
    "#Clip over the ROI previously defined\n",
    "temp_2m_clip = temp_2m.clip(roi)\n",
    "press_clip = press.clip(roi)\n",
    "prec_clip = prec.clip(roi)\n",
    "u_wind_clip = u_wind.clip(roi)\n",
    "v_wind_clip = v_wind.clip(roi)\n",
    "hum_clip = hum.clip(roi)\n",
    "\n",
    "Map_era5.addLayer(temp_2m_clip, temp_2m_viz, '2m temperature');\n",
    "Map_era5.addLayer(press_clip, press_viz, 'press');\n",
    "Map_era5.addLayer(prec_clip, prec_viz, 'precipitation');\n",
    "Map_era5.addLayer(u_wind_clip, u_wind_viz, 'u wind');\n",
    "Map_era5.addLayer(v_wind_clip, v_wind_viz, 'v wind');\n",
    "Map_era5.addLayer(hum_clip, hum_viz, 'soil humitidy');"
   ]
  },
  {
   "cell_type": "code",
   "execution_count": 54,
   "id": "178273df",
   "metadata": {},
   "outputs": [
    {
     "name": "stdout",
     "output_type": "stream",
     "text": [
      "Generating URL ...\n",
      "Downloading data from https://earthengine.googleapis.com/v1alpha/projects/earthengine-legacy/thumbnails/2e3c195fa7bf7e589cc4b13127ea4203-9308c7f37dea2729d27badd71bffec75:getPixels\n",
      "Please wait ...\n",
      "Data downloaded to C:\\Users\\Administrator\\OneDrive - Politecnico di Milano\\WP2\\D-DUST\\temp\\temp_2m.tif\n"
     ]
    }
   ],
   "source": [
    "out_dir = os.path.expanduser(cwd + '/temp')\n",
    "filename = os.path.join(out_dir, 'temp_2m.tif')\n",
    "geemap.ee_export_image(temp_2m_clip, filename=filename, scale=era5_scale)"
   ]
  },
  {
   "cell_type": "code",
   "execution_count": 55,
   "id": "d43232d8",
   "metadata": {},
   "outputs": [
    {
     "name": "stdout",
     "output_type": "stream",
     "text": [
      "Generating URL ...\n",
      "Downloading data from https://earthengine.googleapis.com/v1alpha/projects/earthengine-legacy/thumbnails/dd3ce778792e167e1ebab01bae483e7c-9375ce64e93cc708fe860f492eff89d8:getPixels\n",
      "Please wait ...\n",
      "Data downloaded to C:\\Users\\Administrator\\OneDrive - Politecnico di Milano\\WP2\\D-DUST\\temp\\press.tif\n"
     ]
    }
   ],
   "source": [
    "out_dir = os.path.expanduser(cwd + '/temp')\n",
    "filename = os.path.join(out_dir, 'press.tif')\n",
    "geemap.ee_export_image(press_clip, filename=filename, scale=era5_scale)"
   ]
  },
  {
   "cell_type": "code",
   "execution_count": 56,
   "id": "926415dc",
   "metadata": {},
   "outputs": [
    {
     "name": "stdout",
     "output_type": "stream",
     "text": [
      "Generating URL ...\n",
      "Downloading data from https://earthengine.googleapis.com/v1alpha/projects/earthengine-legacy/thumbnails/877aaafaf6934977798c40a78f3e5128-9801282a2c2fca6409fbe1ae8c2f7734:getPixels\n",
      "Please wait ...\n",
      "Data downloaded to C:\\Users\\Administrator\\OneDrive - Politecnico di Milano\\WP2\\D-DUST\\temp\\prec.tif\n"
     ]
    }
   ],
   "source": [
    "out_dir = os.path.expanduser(cwd + '/temp')\n",
    "filename = os.path.join(out_dir, 'prec.tif')\n",
    "geemap.ee_export_image(prec_clip, filename=filename, scale=era5_scale)"
   ]
  },
  {
   "cell_type": "code",
   "execution_count": 57,
   "id": "344a37cf",
   "metadata": {},
   "outputs": [
    {
     "name": "stdout",
     "output_type": "stream",
     "text": [
      "Generating URL ...\n",
      "Downloading data from https://earthengine.googleapis.com/v1alpha/projects/earthengine-legacy/thumbnails/302ac9e77ac770b9226bd8a50da4cccc-23f3b5a81b846b256976794eacc198f9:getPixels\n",
      "Please wait ...\n",
      "Data downloaded to C:\\Users\\Administrator\\OneDrive - Politecnico di Milano\\WP2\\D-DUST\\temp\\e_wind.tif\n"
     ]
    }
   ],
   "source": [
    "out_dir = os.path.expanduser(cwd + '/temp')\n",
    "filename = os.path.join(out_dir, 'e_wind.tif')\n",
    "geemap.ee_export_image(u_wind_clip, filename=filename, scale=era5_scale)"
   ]
  },
  {
   "cell_type": "code",
   "execution_count": 58,
   "id": "2c5ab878",
   "metadata": {},
   "outputs": [
    {
     "name": "stdout",
     "output_type": "stream",
     "text": [
      "Generating URL ...\n",
      "Downloading data from https://earthengine.googleapis.com/v1alpha/projects/earthengine-legacy/thumbnails/d67ff5807e329ef1306f0d9a6c52817a-3e4c23972bbd1a2f8c519ce9b7ee5791:getPixels\n",
      "Please wait ...\n",
      "Data downloaded to C:\\Users\\Administrator\\OneDrive - Politecnico di Milano\\WP2\\D-DUST\\temp\\n_wind.tif\n"
     ]
    }
   ],
   "source": [
    "out_dir = os.path.expanduser(cwd + '/temp')\n",
    "filename = os.path.join(out_dir, 'n_wind.tif')\n",
    "geemap.ee_export_image(v_wind_clip, filename=filename, scale=era5_scale)"
   ]
  },
  {
   "cell_type": "code",
   "execution_count": 59,
   "id": "b772ba4d",
   "metadata": {},
   "outputs": [
    {
     "name": "stdout",
     "output_type": "stream",
     "text": [
      "Generating URL ...\n",
      "Downloading data from https://earthengine.googleapis.com/v1alpha/projects/earthengine-legacy/thumbnails/902b305d65706bf57139c254da7e9306-9e0c8d37b73305433dc453c76b9f3260:getPixels\n",
      "Please wait ...\n",
      "Data downloaded to C:\\Users\\Administrator\\OneDrive - Politecnico di Milano\\WP2\\D-DUST\\temp\\soil_hum.tif\n"
     ]
    }
   ],
   "source": [
    "out_dir = os.path.expanduser(cwd + '/temp')\n",
    "filename = os.path.join(out_dir, 'soil_hum.tif')\n",
    "geemap.ee_export_image(hum_clip, filename=filename, scale=era5_scale)"
   ]
  },
  {
   "cell_type": "code",
   "execution_count": null,
   "id": "c6188b5a",
   "metadata": {},
   "outputs": [],
   "source": []
  }
 ],
 "metadata": {
  "kernelspec": {
   "display_name": "Python 3 (ipykernel)",
   "language": "python",
   "name": "python3"
  },
  "language_info": {
   "codemirror_mode": {
    "name": "ipython",
    "version": 3
   },
   "file_extension": ".py",
   "mimetype": "text/x-python",
   "name": "python",
   "nbconvert_exporter": "python",
   "pygments_lexer": "ipython3",
   "version": "3.9.10"
  }
 },
 "nbformat": 4,
 "nbformat_minor": 5
}
