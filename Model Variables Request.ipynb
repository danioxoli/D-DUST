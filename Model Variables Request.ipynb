{
 "cells": [
  {
   "cell_type": "markdown",
   "id": "f8470b6c",
   "metadata": {},
   "source": [
    "# API Request notebook for climate and air quality data from Copernicus Atmosphere Monitoring Service (CAMS) and Copernicus Climate Change Service (C3S)"
   ]
  },
  {
   "cell_type": "markdown",
   "id": "1b7a1317",
   "metadata": {},
   "source": [
    "This notebook is used to download data derived from meteorological and air quality models. It's divided into 2 parts:\n",
    "- The first part requests data using **CDS API** Python library. It's used to download data concerning air quality variables from Copernicus Atmosphere Monitoring Service (CAMS) model.\n",
    "- The second part requests data using **Google Earth Engine** Python API library. It's used to dowload data concerning meteorological variables obtained from the Compernicus Climate Change Servince ERA5-land hourly Reanalysis model."
   ]
  },
  {
   "cell_type": "markdown",
   "id": "e5d2ac54",
   "metadata": {},
   "source": [
    "### Link to Copernicus Services:\n",
    "- Link to ADS Atmosphere Copernicus (CAMS): https://ads.atmosphere.copernicus.eu/cdsapp#!/dataset/cams-europe-air-quality-forecasts?tab=overview\n",
    "- Link to CDS Climate Copernicus (C3S): https://cds.climate.copernicus.eu/cdsapp#!/dataset/reanalysis-era5-land?tab=overview"
   ]
  },
  {
   "cell_type": "markdown",
   "id": "083a73fd",
   "metadata": {},
   "source": [
    "### How to access the CDS API:\n",
    "It's possible to change **key** and **value** provided from the website in the **.cdsapirc** file as explained in the following link:\n",
    "- Air quality model data from CAMS: https://ads.atmosphere.copernicus.eu/api-how-to \n",
    "\n",
    "Otherwise **key** and **value** can be used as input directly inside the **cdsapi** API request."
   ]
  },
  {
   "cell_type": "markdown",
   "id": "3049c512",
   "metadata": {},
   "source": [
    "### Reference material:<br> \n",
    "- GitHub Repository containing examples from ECMWF: https://github.com/ecmwf-projects/copernicus-training\n",
    "- Example: https://github.com/ecmwf-projects/copernicus-training/blob/master/2021-02-Copernicus-ECMWF-data-tutorial.ipynb"
   ]
  },
  {
   "cell_type": "markdown",
   "id": "d95bf0f7",
   "metadata": {},
   "source": [
    "### Import libraries and API authentication"
   ]
  },
  {
   "cell_type": "code",
   "execution_count": 2,
   "id": "f7aed58a",
   "metadata": {},
   "outputs": [
    {
     "name": "stderr",
     "output_type": "stream",
     "text": [
      "C:\\Users\\Administrator\\anaconda3\\envs\\ddust\\lib\\site-packages\\xarray\\backends\\cfgrib_.py:27: UserWarning: Failed to load cfgrib - most likely there is a problem accessing the ecCodes library. Try `import cfgrib` to get the full error message\n",
      "  warnings.warn(\n"
     ]
    }
   ],
   "source": [
    "import cdsapi\n",
    "import os\n",
    "import geopandas as gpd\n",
    "import xarray as xr\n",
    "import json\n",
    "import ipywidgets as widgets\n",
    "import ee\n",
    "import geemap\n",
    "\n",
    "import warnings\n",
    "warnings.filterwarnings('ignore')\n",
    "\n",
    "# Import functions defined for DDUST project:\n",
    "from functions import my_methods"
   ]
  },
  {
   "cell_type": "code",
   "execution_count": 3,
   "id": "698c5c54",
   "metadata": {},
   "outputs": [
    {
     "data": {
      "text/html": [
       "<p>To authorize access needed by Earth Engine, open the following\n",
       "        URL in a web browser and follow the instructions:</p>\n",
       "        <p><a href=https://accounts.google.com/o/oauth2/auth?client_id=517222506229-vsmmajv00ul0bs7p89v5m89qs8eb9359.apps.googleusercontent.com&scope=https%3A%2F%2Fwww.googleapis.com%2Fauth%2Fearthengine+https%3A%2F%2Fwww.googleapis.com%2Fauth%2Fdevstorage.full_control&redirect_uri=urn%3Aietf%3Awg%3Aoauth%3A2.0%3Aoob&response_type=code&code_challenge=6rp98fV42irB5FxZ97rVdqq0GJaZXZaIfOB1JC3_aU0&code_challenge_method=S256>https://accounts.google.com/o/oauth2/auth?client_id=517222506229-vsmmajv00ul0bs7p89v5m89qs8eb9359.apps.googleusercontent.com&scope=https%3A%2F%2Fwww.googleapis.com%2Fauth%2Fearthengine+https%3A%2F%2Fwww.googleapis.com%2Fauth%2Fdevstorage.full_control&redirect_uri=urn%3Aietf%3Awg%3Aoauth%3A2.0%3Aoob&response_type=code&code_challenge=6rp98fV42irB5FxZ97rVdqq0GJaZXZaIfOB1JC3_aU0&code_challenge_method=S256</a></p>\n",
       "        <p>The authorization workflow will generate a code, which you\n",
       "        should paste in the box below</p>\n",
       "        "
      ],
      "text/plain": [
       "<IPython.core.display.HTML object>"
      ]
     },
     "metadata": {},
     "output_type": "display_data"
    },
    {
     "name": "stdin",
     "output_type": "stream",
     "text": [
      "Enter verification code:  4/1AX4XfWg6xhDY1i-uc9Wr5Aq6BUg6iGf36yXmyWPgmH0ew-hSTeONwAABYyQ\n"
     ]
    },
    {
     "name": "stdout",
     "output_type": "stream",
     "text": [
      "\n",
      "Successfully saved authorization token.\n"
     ]
    }
   ],
   "source": [
    "# Google Earth Engine authentication (a Google account is required):\n",
    "ee.Authenticate()"
   ]
  },
  {
   "cell_type": "code",
   "execution_count": 3,
   "id": "5c2777ff",
   "metadata": {},
   "outputs": [],
   "source": [
    "# Initialize Google Earth Engine API:\n",
    "ee.Initialize()"
   ]
  },
  {
   "cell_type": "code",
   "execution_count": 3,
   "id": "e3a18833",
   "metadata": {},
   "outputs": [],
   "source": [
    "# CDSAPI: Importing key/value from .json file for API authentication:\n",
    "f = open('keys.json')\n",
    "keys = json.load(f)\n",
    "c_atm = cdsapi.Client(keys[\"ATM_ID\"], keys[\"ATM_KEY\"])"
   ]
  },
  {
   "cell_type": "code",
   "execution_count": 3,
   "id": "b19bf8c7",
   "metadata": {},
   "outputs": [],
   "source": [
    "# Current working directory path:\n",
    "cwd = os.getcwd()"
   ]
  },
  {
   "cell_type": "markdown",
   "id": "bcc4e8e1",
   "metadata": {},
   "source": [
    "### Set starting and end date for data request:"
   ]
  },
  {
   "cell_type": "markdown",
   "id": "f00feba5",
   "metadata": {},
   "source": [
    "The date selection is done through the **date.json** file that contains as **keys** the crop name (e.g. cereal_week) and as **values** a list of the corresponding manuring/observation weeks. The  **date.json** file is the same for all the project's notebooks:"
   ]
  },
  {
   "cell_type": "code",
   "execution_count": 8,
   "id": "6f0158ed",
   "metadata": {},
   "outputs": [],
   "source": [
    "d = open('date.json')\n",
    "date = json.load(d)\n",
    "year = date['year']\n",
    "mais_week = date['mais_week']\n",
    "rice_week = date['rice_week']\n",
    "cereal_week = date['cereal_week']\n",
    "custom_week = date['custom_week']"
   ]
  },
  {
   "cell_type": "markdown",
   "id": "6506fc81",
   "metadata": {},
   "source": [
    "The calendar **manuring_periods** functions allows to create and visualize the calendar with corresponding manuring weeks:"
   ]
  },
  {
   "cell_type": "code",
   "execution_count": 9,
   "id": "80cd0ab1",
   "metadata": {},
   "outputs": [
    {
     "data": {
      "application/vnd.plotly.v1+json": {
       "config": {
        "plotlyServerURL": "https://plot.ly"
       },
       "data": [
        {
         "colorscale": [
          [
           0,
           "rgb(247,252,245)"
          ],
          [
           0.125,
           "rgb(229,245,224)"
          ],
          [
           0.25,
           "rgb(199,233,192)"
          ],
          [
           0.375,
           "rgb(161,217,155)"
          ],
          [
           0.5,
           "rgb(116,196,118)"
          ],
          [
           0.625,
           "rgb(65,171,93)"
          ],
          [
           0.75,
           "rgb(35,139,69)"
          ],
          [
           0.875,
           "rgb(0,109,44)"
          ],
          [
           1,
           "rgb(0,68,27)"
          ]
         ],
         "customdata": [
          [
           "2021-01-01",
           "y"
          ],
          [
           "2021-01-02",
           "y"
          ],
          [
           "2021-01-03",
           "y"
          ],
          [
           "2021-01-04",
           "y"
          ],
          [
           "2021-01-05",
           "y"
          ],
          [
           "2021-01-06",
           "y"
          ],
          [
           "2021-01-07",
           "y"
          ],
          [
           "2021-01-08",
           "y"
          ],
          [
           "2021-01-09",
           "y"
          ],
          [
           "2021-01-10",
           "y"
          ],
          [
           "2021-01-11",
           "y"
          ],
          [
           "2021-01-12",
           "y"
          ],
          [
           "2021-01-13",
           "y"
          ],
          [
           "2021-01-14",
           "y"
          ],
          [
           "2021-01-15",
           "y"
          ],
          [
           "2021-01-16",
           "y"
          ],
          [
           "2021-01-17",
           "y"
          ],
          [
           "2021-01-18",
           "y"
          ],
          [
           "2021-01-19",
           "y"
          ],
          [
           "2021-01-20",
           "y"
          ],
          [
           "2021-01-21",
           "y"
          ],
          [
           "2021-01-22",
           "y"
          ],
          [
           "2021-01-23",
           "y"
          ],
          [
           "2021-01-24",
           "y"
          ],
          [
           "2021-01-25",
           "y"
          ],
          [
           "2021-01-26",
           "y"
          ],
          [
           "2021-01-27",
           "y"
          ],
          [
           "2021-01-28",
           "y"
          ],
          [
           "2021-01-29",
           "y"
          ],
          [
           "2021-01-30",
           "y"
          ],
          [
           "2021-01-31",
           "y"
          ],
          [
           "2021-02-01",
           "y"
          ],
          [
           "2021-02-02",
           "y"
          ],
          [
           "2021-02-03",
           "y"
          ],
          [
           "2021-02-04",
           "y"
          ],
          [
           "2021-02-05",
           "y"
          ],
          [
           "2021-02-06",
           "y"
          ],
          [
           "2021-02-07",
           "y"
          ],
          [
           "2021-02-08",
           "y"
          ],
          [
           "2021-02-09",
           "y"
          ],
          [
           "2021-02-10",
           "y"
          ],
          [
           "2021-02-11",
           "y"
          ],
          [
           "2021-02-12",
           "y"
          ],
          [
           "2021-02-13",
           "y"
          ],
          [
           "2021-02-14",
           "y"
          ],
          [
           "2021-02-15",
           "y"
          ],
          [
           "2021-02-16",
           "y"
          ],
          [
           "2021-02-17",
           "y"
          ],
          [
           "2021-02-18",
           "y"
          ],
          [
           "2021-02-19",
           "y"
          ],
          [
           "2021-02-20",
           "y"
          ],
          [
           "2021-02-21",
           "y"
          ],
          [
           "2021-02-22",
           "y"
          ],
          [
           "2021-02-23",
           "y"
          ],
          [
           "2021-02-24",
           "y"
          ],
          [
           "2021-02-25",
           "y"
          ],
          [
           "2021-02-26",
           "y"
          ],
          [
           "2021-02-27",
           "y"
          ],
          [
           "2021-02-28",
           "y"
          ],
          [
           "2021-03-01",
           "y"
          ],
          [
           "2021-03-02",
           "y"
          ],
          [
           "2021-03-03",
           "y"
          ],
          [
           "2021-03-04",
           "y"
          ],
          [
           "2021-03-05",
           "y"
          ],
          [
           "2021-03-06",
           "y"
          ],
          [
           "2021-03-07",
           "y"
          ],
          [
           "2021-03-08",
           "y"
          ],
          [
           "2021-03-09",
           "y"
          ],
          [
           "2021-03-10",
           "y"
          ],
          [
           "2021-03-11",
           "y"
          ],
          [
           "2021-03-12",
           "y"
          ],
          [
           "2021-03-13",
           "y"
          ],
          [
           "2021-03-14",
           "y"
          ],
          [
           "2021-03-15",
           "y"
          ],
          [
           "2021-03-16",
           "y"
          ],
          [
           "2021-03-17",
           "y"
          ],
          [
           "2021-03-18",
           "y"
          ],
          [
           "2021-03-19",
           "y"
          ],
          [
           "2021-03-20",
           "y"
          ],
          [
           "2021-03-21",
           "y"
          ],
          [
           "2021-03-22",
           "y"
          ],
          [
           "2021-03-23",
           "y"
          ],
          [
           "2021-03-24",
           "y"
          ],
          [
           "2021-03-25",
           "y"
          ],
          [
           "2021-03-26",
           "y"
          ],
          [
           "2021-03-27",
           "y"
          ],
          [
           "2021-03-28",
           "y"
          ],
          [
           "2021-03-29",
           "y"
          ],
          [
           "2021-03-30",
           "y"
          ],
          [
           "2021-03-31",
           "y"
          ],
          [
           "2021-04-01",
           "y"
          ],
          [
           "2021-04-02",
           "y"
          ],
          [
           "2021-04-03",
           "y"
          ],
          [
           "2021-04-04",
           "y"
          ],
          [
           "2021-04-05",
           "y"
          ],
          [
           "2021-04-06",
           "y"
          ],
          [
           "2021-04-07",
           "y"
          ],
          [
           "2021-04-08",
           "y"
          ],
          [
           "2021-04-09",
           "y"
          ],
          [
           "2021-04-10",
           "y"
          ],
          [
           "2021-04-11",
           "y"
          ],
          [
           "2021-04-12",
           "y"
          ],
          [
           "2021-04-13",
           "y"
          ],
          [
           "2021-04-14",
           "y"
          ],
          [
           "2021-04-15",
           "y"
          ],
          [
           "2021-04-16",
           "y"
          ],
          [
           "2021-04-17",
           "y"
          ],
          [
           "2021-04-18",
           "y"
          ],
          [
           "2021-04-19",
           "y"
          ],
          [
           "2021-04-20",
           "y"
          ],
          [
           "2021-04-21",
           "y"
          ],
          [
           "2021-04-22",
           "y"
          ],
          [
           "2021-04-23",
           "y"
          ],
          [
           "2021-04-24",
           "y"
          ],
          [
           "2021-04-25",
           "y"
          ],
          [
           "2021-04-26",
           "y"
          ],
          [
           "2021-04-27",
           "y"
          ],
          [
           "2021-04-28",
           "y"
          ],
          [
           "2021-04-29",
           "y"
          ],
          [
           "2021-04-30",
           "y"
          ],
          [
           "2021-05-01",
           "y"
          ],
          [
           "2021-05-02",
           "y"
          ],
          [
           "2021-05-03",
           "y"
          ],
          [
           "2021-05-04",
           "y"
          ],
          [
           "2021-05-05",
           "y"
          ],
          [
           "2021-05-06",
           "y"
          ],
          [
           "2021-05-07",
           "y"
          ],
          [
           "2021-05-08",
           "y"
          ],
          [
           "2021-05-09",
           "y"
          ],
          [
           "2021-05-10",
           "y"
          ],
          [
           "2021-05-11",
           "y"
          ],
          [
           "2021-05-12",
           "y"
          ],
          [
           "2021-05-13",
           "y"
          ],
          [
           "2021-05-14",
           "y"
          ],
          [
           "2021-05-15",
           "y"
          ],
          [
           "2021-05-16",
           "y"
          ],
          [
           "2021-05-17",
           "y"
          ],
          [
           "2021-05-18",
           "y"
          ],
          [
           "2021-05-19",
           "y"
          ],
          [
           "2021-05-20",
           "y"
          ],
          [
           "2021-05-21",
           "y"
          ],
          [
           "2021-05-22",
           "y"
          ],
          [
           "2021-05-23",
           "y"
          ],
          [
           "2021-05-24",
           "y"
          ],
          [
           "2021-05-25",
           "y"
          ],
          [
           "2021-05-26",
           "y"
          ],
          [
           "2021-05-27",
           "y"
          ],
          [
           "2021-05-28",
           "y"
          ],
          [
           "2021-05-29",
           "y"
          ],
          [
           "2021-05-30",
           "y"
          ],
          [
           "2021-05-31",
           "y"
          ],
          [
           "2021-06-01",
           "y"
          ],
          [
           "2021-06-02",
           "y"
          ],
          [
           "2021-06-03",
           "y"
          ],
          [
           "2021-06-04",
           "y"
          ],
          [
           "2021-06-05",
           "y"
          ],
          [
           "2021-06-06",
           "y"
          ],
          [
           "2021-06-07",
           "y"
          ],
          [
           "2021-06-08",
           "y"
          ],
          [
           "2021-06-09",
           "y"
          ],
          [
           "2021-06-10",
           "y"
          ],
          [
           "2021-06-11",
           "y"
          ],
          [
           "2021-06-12",
           "y"
          ],
          [
           "2021-06-13",
           "y"
          ],
          [
           "2021-06-14",
           "y"
          ],
          [
           "2021-06-15",
           "y"
          ],
          [
           "2021-06-16",
           "y"
          ],
          [
           "2021-06-17",
           "y"
          ],
          [
           "2021-06-18",
           "y"
          ],
          [
           "2021-06-19",
           "y"
          ],
          [
           "2021-06-20",
           "y"
          ],
          [
           "2021-06-21",
           "y"
          ],
          [
           "2021-06-22",
           "y"
          ],
          [
           "2021-06-23",
           "y"
          ],
          [
           "2021-06-24",
           "y"
          ],
          [
           "2021-06-25",
           "y"
          ],
          [
           "2021-06-26",
           "y"
          ],
          [
           "2021-06-27",
           "y"
          ],
          [
           "2021-06-28",
           "y"
          ],
          [
           "2021-06-29",
           "y"
          ],
          [
           "2021-06-30",
           "y"
          ],
          [
           "2021-07-01",
           "y"
          ],
          [
           "2021-07-02",
           "y"
          ],
          [
           "2021-07-03",
           "y"
          ],
          [
           "2021-07-04",
           "y"
          ],
          [
           "2021-07-05",
           "y"
          ],
          [
           "2021-07-06",
           "y"
          ],
          [
           "2021-07-07",
           "y"
          ],
          [
           "2021-07-08",
           "y"
          ],
          [
           "2021-07-09",
           "y"
          ],
          [
           "2021-07-10",
           "y"
          ],
          [
           "2021-07-11",
           "y"
          ],
          [
           "2021-07-12",
           "y"
          ],
          [
           "2021-07-13",
           "y"
          ],
          [
           "2021-07-14",
           "y"
          ],
          [
           "2021-07-15",
           "y"
          ],
          [
           "2021-07-16",
           "y"
          ],
          [
           "2021-07-17",
           "y"
          ],
          [
           "2021-07-18",
           "y"
          ],
          [
           "2021-07-19",
           "y"
          ],
          [
           "2021-07-20",
           "y"
          ],
          [
           "2021-07-21",
           "y"
          ],
          [
           "2021-07-22",
           "y"
          ],
          [
           "2021-07-23",
           "y"
          ],
          [
           "2021-07-24",
           "y"
          ],
          [
           "2021-07-25",
           "y"
          ],
          [
           "2021-07-26",
           "y"
          ],
          [
           "2021-07-27",
           "y"
          ],
          [
           "2021-07-28",
           "y"
          ],
          [
           "2021-07-29",
           "y"
          ],
          [
           "2021-07-30",
           "y"
          ],
          [
           "2021-07-31",
           "y"
          ],
          [
           "2021-08-01",
           "y"
          ],
          [
           "2021-08-02",
           "y"
          ],
          [
           "2021-08-03",
           "y"
          ],
          [
           "2021-08-04",
           "y"
          ],
          [
           "2021-08-05",
           "y"
          ],
          [
           "2021-08-06",
           "y"
          ],
          [
           "2021-08-07",
           "y"
          ],
          [
           "2021-08-08",
           "y"
          ],
          [
           "2021-08-09",
           "y"
          ],
          [
           "2021-08-10",
           "y"
          ],
          [
           "2021-08-11",
           "y"
          ],
          [
           "2021-08-12",
           "y"
          ],
          [
           "2021-08-13",
           "y"
          ],
          [
           "2021-08-14",
           "y"
          ],
          [
           "2021-08-15",
           "y"
          ],
          [
           "2021-08-16",
           "y"
          ],
          [
           "2021-08-17",
           "y"
          ],
          [
           "2021-08-18",
           "y"
          ],
          [
           "2021-08-19",
           "y"
          ],
          [
           "2021-08-20",
           "y"
          ],
          [
           "2021-08-21",
           "y"
          ],
          [
           "2021-08-22",
           "y"
          ],
          [
           "2021-08-23",
           "y"
          ],
          [
           "2021-08-24",
           "y"
          ],
          [
           "2021-08-25",
           "y"
          ],
          [
           "2021-08-26",
           "y"
          ],
          [
           "2021-08-27",
           "y"
          ],
          [
           "2021-08-28",
           "y"
          ],
          [
           "2021-08-29",
           "y"
          ],
          [
           "2021-08-30",
           "y"
          ],
          [
           "2021-08-31",
           "y"
          ],
          [
           "2021-09-01",
           "y"
          ],
          [
           "2021-09-02",
           "y"
          ],
          [
           "2021-09-03",
           "y"
          ],
          [
           "2021-09-04",
           "y"
          ],
          [
           "2021-09-05",
           "y"
          ],
          [
           "2021-09-06",
           "y"
          ],
          [
           "2021-09-07",
           "y"
          ],
          [
           "2021-09-08",
           "y"
          ],
          [
           "2021-09-09",
           "y"
          ],
          [
           "2021-09-10",
           "y"
          ],
          [
           "2021-09-11",
           "y"
          ],
          [
           "2021-09-12",
           "y"
          ],
          [
           "2021-09-13",
           "y"
          ],
          [
           "2021-09-14",
           "y"
          ],
          [
           "2021-09-15",
           "y"
          ],
          [
           "2021-09-16",
           "y"
          ],
          [
           "2021-09-17",
           "y"
          ],
          [
           "2021-09-18",
           "y"
          ],
          [
           "2021-09-19",
           "y"
          ],
          [
           "2021-09-20",
           "y"
          ],
          [
           "2021-09-21",
           "y"
          ],
          [
           "2021-09-22",
           "y"
          ],
          [
           "2021-09-23",
           "y"
          ],
          [
           "2021-09-24",
           "y"
          ],
          [
           "2021-09-25",
           "y"
          ],
          [
           "2021-09-26",
           "y"
          ],
          [
           "2021-09-27",
           "y"
          ],
          [
           "2021-09-28",
           "y"
          ],
          [
           "2021-09-29",
           "y"
          ],
          [
           "2021-09-30",
           "y"
          ],
          [
           "2021-10-01",
           "y"
          ],
          [
           "2021-10-02",
           "y"
          ],
          [
           "2021-10-03",
           "y"
          ],
          [
           "2021-10-04",
           "y"
          ],
          [
           "2021-10-05",
           "y"
          ],
          [
           "2021-10-06",
           "y"
          ],
          [
           "2021-10-07",
           "y"
          ],
          [
           "2021-10-08",
           "y"
          ],
          [
           "2021-10-09",
           "y"
          ],
          [
           "2021-10-10",
           "y"
          ],
          [
           "2021-10-11",
           "y"
          ],
          [
           "2021-10-12",
           "y"
          ],
          [
           "2021-10-13",
           "y"
          ],
          [
           "2021-10-14",
           "y"
          ],
          [
           "2021-10-15",
           "y"
          ],
          [
           "2021-10-16",
           "y"
          ],
          [
           "2021-10-17",
           "y"
          ],
          [
           "2021-10-18",
           "y"
          ],
          [
           "2021-10-19",
           "y"
          ],
          [
           "2021-10-20",
           "y"
          ],
          [
           "2021-10-21",
           "y"
          ],
          [
           "2021-10-22",
           "y"
          ],
          [
           "2021-10-23",
           "y"
          ],
          [
           "2021-10-24",
           "y"
          ],
          [
           "2021-10-25",
           "y"
          ],
          [
           "2021-10-26",
           "y"
          ],
          [
           "2021-10-27",
           "y"
          ],
          [
           "2021-10-28",
           "y"
          ],
          [
           "2021-10-29",
           "y"
          ],
          [
           "2021-10-30",
           "y"
          ],
          [
           "2021-10-31",
           "y"
          ],
          [
           "2021-11-01",
           "y"
          ],
          [
           "2021-11-02",
           "y"
          ],
          [
           "2021-11-03",
           "y"
          ],
          [
           "2021-11-04",
           "y"
          ],
          [
           "2021-11-05",
           "y"
          ],
          [
           "2021-11-06",
           "y"
          ],
          [
           "2021-11-07",
           "y"
          ],
          [
           "2021-11-08",
           "y"
          ],
          [
           "2021-11-09",
           "y"
          ],
          [
           "2021-11-10",
           "y"
          ],
          [
           "2021-11-11",
           "y"
          ],
          [
           "2021-11-12",
           "y"
          ],
          [
           "2021-11-13",
           "y"
          ],
          [
           "2021-11-14",
           "y"
          ],
          [
           "2021-11-15",
           "y"
          ],
          [
           "2021-11-16",
           "y"
          ],
          [
           "2021-11-17",
           "y"
          ],
          [
           "2021-11-18",
           "y"
          ],
          [
           "2021-11-19",
           "y"
          ],
          [
           "2021-11-20",
           "y"
          ],
          [
           "2021-11-21",
           "y"
          ],
          [
           "2021-11-22",
           "y"
          ],
          [
           "2021-11-23",
           "y"
          ],
          [
           "2021-11-24",
           "y"
          ],
          [
           "2021-11-25",
           "y"
          ],
          [
           "2021-11-26",
           "y"
          ],
          [
           "2021-11-27",
           "y"
          ],
          [
           "2021-11-28",
           "y"
          ],
          [
           "2021-11-29",
           "y"
          ],
          [
           "2021-11-30",
           "y"
          ],
          [
           "2021-12-01",
           "y"
          ],
          [
           "2021-12-02",
           "y"
          ],
          [
           "2021-12-03",
           "y"
          ],
          [
           "2021-12-04",
           "y"
          ],
          [
           "2021-12-05",
           "y"
          ],
          [
           "2021-12-06",
           "y"
          ],
          [
           "2021-12-07",
           "y"
          ],
          [
           "2021-12-08",
           "y"
          ],
          [
           "2021-12-09",
           "y"
          ],
          [
           "2021-12-10",
           "y"
          ],
          [
           "2021-12-11",
           "y"
          ],
          [
           "2021-12-12",
           "y"
          ],
          [
           "2021-12-13",
           "y"
          ],
          [
           "2021-12-14",
           "y"
          ],
          [
           "2021-12-15",
           "y"
          ],
          [
           "2021-12-16",
           "y"
          ],
          [
           "2021-12-17",
           "y"
          ],
          [
           "2021-12-18",
           "y"
          ],
          [
           "2021-12-19",
           "y"
          ],
          [
           "2021-12-20",
           "y"
          ],
          [
           "2021-12-21",
           "y"
          ],
          [
           "2021-12-22",
           "y"
          ],
          [
           "2021-12-23",
           "y"
          ],
          [
           "2021-12-24",
           "y"
          ],
          [
           "2021-12-25",
           "y"
          ],
          [
           "2021-12-26",
           "y"
          ],
          [
           "2021-12-27",
           "y"
          ],
          [
           "2021-12-28",
           "y"
          ],
          [
           "2021-12-29",
           "y"
          ],
          [
           "2021-12-30",
           "y"
          ],
          [
           "2021-12-31",
           "y"
          ]
         ],
         "hovertemplate": "%{customdata[0]} <br>%{customdata[1]}=%{z} <br>Week=%{x}",
         "name": "2021",
         "showscale": false,
         "type": "heatmap",
         "x": [
          0,
          0,
          0,
          1,
          1,
          1,
          1,
          1,
          1,
          1,
          2,
          2,
          2,
          2,
          2,
          2,
          2,
          3,
          3,
          3,
          3,
          3,
          3,
          3,
          4,
          4,
          4,
          4,
          4,
          4,
          4,
          5,
          5,
          5,
          5,
          5,
          5,
          5,
          6,
          6,
          6,
          6,
          6,
          6,
          6,
          7,
          7,
          7,
          7,
          7,
          7,
          7,
          8,
          8,
          8,
          8,
          8,
          8,
          8,
          9,
          9,
          9,
          9,
          9,
          9,
          9,
          10,
          10,
          10,
          10,
          10,
          10,
          10,
          11,
          11,
          11,
          11,
          11,
          11,
          11,
          12,
          12,
          12,
          12,
          12,
          12,
          12,
          13,
          13,
          13,
          13,
          13,
          13,
          13,
          14,
          14,
          14,
          14,
          14,
          14,
          14,
          15,
          15,
          15,
          15,
          15,
          15,
          15,
          16,
          16,
          16,
          16,
          16,
          16,
          16,
          17,
          17,
          17,
          17,
          17,
          17,
          17,
          18,
          18,
          18,
          18,
          18,
          18,
          18,
          19,
          19,
          19,
          19,
          19,
          19,
          19,
          20,
          20,
          20,
          20,
          20,
          20,
          20,
          21,
          21,
          21,
          21,
          21,
          21,
          21,
          22,
          22,
          22,
          22,
          22,
          22,
          22,
          23,
          23,
          23,
          23,
          23,
          23,
          23,
          24,
          24,
          24,
          24,
          24,
          24,
          24,
          25,
          25,
          25,
          25,
          25,
          25,
          25,
          26,
          26,
          26,
          26,
          26,
          26,
          26,
          27,
          27,
          27,
          27,
          27,
          27,
          27,
          28,
          28,
          28,
          28,
          28,
          28,
          28,
          29,
          29,
          29,
          29,
          29,
          29,
          29,
          30,
          30,
          30,
          30,
          30,
          30,
          30,
          31,
          31,
          31,
          31,
          31,
          31,
          31,
          32,
          32,
          32,
          32,
          32,
          32,
          32,
          33,
          33,
          33,
          33,
          33,
          33,
          33,
          34,
          34,
          34,
          34,
          34,
          34,
          34,
          35,
          35,
          35,
          35,
          35,
          35,
          35,
          36,
          36,
          36,
          36,
          36,
          36,
          36,
          37,
          37,
          37,
          37,
          37,
          37,
          37,
          38,
          38,
          38,
          38,
          38,
          38,
          38,
          39,
          39,
          39,
          39,
          39,
          39,
          39,
          40,
          40,
          40,
          40,
          40,
          40,
          40,
          41,
          41,
          41,
          41,
          41,
          41,
          41,
          42,
          42,
          42,
          42,
          42,
          42,
          42,
          43,
          43,
          43,
          43,
          43,
          43,
          43,
          44,
          44,
          44,
          44,
          44,
          44,
          44,
          45,
          45,
          45,
          45,
          45,
          45,
          45,
          46,
          46,
          46,
          46,
          46,
          46,
          46,
          47,
          47,
          47,
          47,
          47,
          47,
          47,
          48,
          48,
          48,
          48,
          48,
          48,
          48,
          49,
          49,
          49,
          49,
          49,
          49,
          49,
          50,
          50,
          50,
          50,
          50,
          50,
          50,
          51,
          51,
          51,
          51,
          51,
          51,
          51,
          52,
          52,
          52,
          52,
          52
         ],
         "xaxis": "x",
         "xgap": 1,
         "y": [
          4,
          5,
          6,
          0,
          1,
          2,
          3,
          4,
          5,
          6,
          0,
          1,
          2,
          3,
          4,
          5,
          6,
          0,
          1,
          2,
          3,
          4,
          5,
          6,
          0,
          1,
          2,
          3,
          4,
          5,
          6,
          0,
          1,
          2,
          3,
          4,
          5,
          6,
          0,
          1,
          2,
          3,
          4,
          5,
          6,
          0,
          1,
          2,
          3,
          4,
          5,
          6,
          0,
          1,
          2,
          3,
          4,
          5,
          6,
          0,
          1,
          2,
          3,
          4,
          5,
          6,
          0,
          1,
          2,
          3,
          4,
          5,
          6,
          0,
          1,
          2,
          3,
          4,
          5,
          6,
          0,
          1,
          2,
          3,
          4,
          5,
          6,
          0,
          1,
          2,
          3,
          4,
          5,
          6,
          0,
          1,
          2,
          3,
          4,
          5,
          6,
          0,
          1,
          2,
          3,
          4,
          5,
          6,
          0,
          1,
          2,
          3,
          4,
          5,
          6,
          0,
          1,
          2,
          3,
          4,
          5,
          6,
          0,
          1,
          2,
          3,
          4,
          5,
          6,
          0,
          1,
          2,
          3,
          4,
          5,
          6,
          0,
          1,
          2,
          3,
          4,
          5,
          6,
          0,
          1,
          2,
          3,
          4,
          5,
          6,
          0,
          1,
          2,
          3,
          4,
          5,
          6,
          0,
          1,
          2,
          3,
          4,
          5,
          6,
          0,
          1,
          2,
          3,
          4,
          5,
          6,
          0,
          1,
          2,
          3,
          4,
          5,
          6,
          0,
          1,
          2,
          3,
          4,
          5,
          6,
          0,
          1,
          2,
          3,
          4,
          5,
          6,
          0,
          1,
          2,
          3,
          4,
          5,
          6,
          0,
          1,
          2,
          3,
          4,
          5,
          6,
          0,
          1,
          2,
          3,
          4,
          5,
          6,
          0,
          1,
          2,
          3,
          4,
          5,
          6,
          0,
          1,
          2,
          3,
          4,
          5,
          6,
          0,
          1,
          2,
          3,
          4,
          5,
          6,
          0,
          1,
          2,
          3,
          4,
          5,
          6,
          0,
          1,
          2,
          3,
          4,
          5,
          6,
          0,
          1,
          2,
          3,
          4,
          5,
          6,
          0,
          1,
          2,
          3,
          4,
          5,
          6,
          0,
          1,
          2,
          3,
          4,
          5,
          6,
          0,
          1,
          2,
          3,
          4,
          5,
          6,
          0,
          1,
          2,
          3,
          4,
          5,
          6,
          0,
          1,
          2,
          3,
          4,
          5,
          6,
          0,
          1,
          2,
          3,
          4,
          5,
          6,
          0,
          1,
          2,
          3,
          4,
          5,
          6,
          0,
          1,
          2,
          3,
          4,
          5,
          6,
          0,
          1,
          2,
          3,
          4,
          5,
          6,
          0,
          1,
          2,
          3,
          4,
          5,
          6,
          0,
          1,
          2,
          3,
          4,
          5,
          6,
          0,
          1,
          2,
          3,
          4,
          5,
          6,
          0,
          1,
          2,
          3,
          4,
          5,
          6,
          0,
          1,
          2,
          3,
          4,
          5,
          6,
          0,
          1,
          2,
          3,
          4,
          5,
          6,
          0,
          1,
          2,
          3,
          4
         ],
         "yaxis": "y",
         "ygap": 1,
         "z": [
          0,
          0,
          0,
          0,
          0,
          0,
          0,
          0,
          0,
          0,
          0,
          0,
          0,
          0,
          0,
          0,
          0,
          0,
          0,
          0,
          0,
          0,
          0,
          0,
          0,
          0,
          0,
          0,
          0,
          0,
          0,
          0,
          0,
          0,
          0,
          0,
          0,
          0,
          0,
          0,
          0,
          0,
          0,
          0,
          0,
          0,
          0,
          0,
          0,
          0,
          0,
          0,
          0,
          0,
          0,
          0,
          0,
          0,
          0,
          1,
          1,
          1,
          1,
          1,
          1,
          1,
          1,
          1,
          1,
          1,
          1,
          1,
          1,
          1,
          1,
          1,
          1,
          1,
          1,
          1,
          0,
          0,
          0,
          0,
          0,
          0,
          0,
          0,
          0,
          0,
          0,
          0,
          0,
          0,
          1,
          1,
          1,
          1,
          1,
          1,
          1,
          1,
          1,
          1,
          1,
          1,
          1,
          1,
          1,
          1,
          1,
          1,
          1,
          1,
          1,
          0,
          0,
          0,
          0,
          0,
          0,
          0,
          0,
          0,
          0,
          0,
          0,
          0,
          0,
          0,
          0,
          0,
          0,
          0,
          0,
          0,
          0,
          0,
          0,
          0,
          0,
          0,
          0,
          0,
          0,
          0,
          0,
          0,
          0,
          0,
          0,
          0,
          0,
          0,
          0,
          0,
          0,
          0,
          0,
          0,
          0,
          0,
          0,
          0,
          0,
          0,
          0,
          0,
          0,
          0,
          0,
          1,
          1,
          1,
          1,
          1,
          1,
          1,
          0,
          0,
          0,
          0,
          0,
          0,
          0,
          0,
          0,
          0,
          0,
          0,
          0,
          0,
          0,
          0,
          0,
          0,
          0,
          0,
          0,
          0,
          0,
          0,
          0,
          0,
          0,
          0,
          0,
          0,
          0,
          0,
          0,
          0,
          0,
          0,
          0,
          0,
          0,
          0,
          0,
          0,
          0,
          0,
          0,
          0,
          0,
          0,
          0,
          0,
          0,
          0,
          0,
          0,
          0,
          0,
          0,
          0,
          0,
          0,
          0,
          0,
          0,
          0,
          0,
          0,
          0,
          0,
          0,
          0,
          0,
          0,
          0,
          0,
          0,
          0,
          0,
          0,
          0,
          0,
          0,
          0,
          0,
          0,
          0,
          0,
          0,
          0,
          0,
          0,
          0,
          0,
          0,
          0,
          0,
          0,
          0,
          0,
          0,
          0,
          0,
          0,
          0,
          0,
          0,
          0,
          0,
          0,
          0,
          0,
          0,
          0,
          1,
          1,
          1,
          1,
          1,
          1,
          1,
          0,
          0,
          0,
          0,
          0,
          0,
          0,
          0,
          0,
          0,
          0,
          0,
          0,
          0,
          0,
          0,
          0,
          0,
          0,
          0,
          0,
          0,
          0,
          0,
          0,
          0,
          0,
          0,
          0,
          0,
          0,
          0,
          0,
          0,
          0,
          0,
          0,
          0,
          0,
          0,
          0,
          0,
          0,
          0,
          0,
          0,
          0,
          0,
          0,
          0,
          0,
          0,
          0,
          0,
          0,
          0,
          0,
          0,
          0,
          0,
          0,
          0,
          0,
          0,
          0,
          0,
          0,
          0
         ]
        },
        {
         "hoverinfo": "skip",
         "line": {
          "color": "#9e9e9e",
          "width": 1
         },
         "mode": "lines",
         "type": "scatter",
         "x": [
          -0.5,
          -0.5
         ],
         "xaxis": "x",
         "y": [
          3.5,
          6.5
         ],
         "yaxis": "y"
        },
        {
         "hoverinfo": "skip",
         "line": {
          "color": "#9e9e9e",
          "width": 1
         },
         "mode": "lines",
         "type": "scatter",
         "x": [
          -0.5,
          0.5
         ],
         "xaxis": "x",
         "y": [
          3.5,
          3.5
         ],
         "yaxis": "y"
        },
        {
         "hoverinfo": "skip",
         "line": {
          "color": "#9e9e9e",
          "width": 1
         },
         "mode": "lines",
         "type": "scatter",
         "x": [
          0.5,
          0.5
         ],
         "xaxis": "x",
         "y": [
          3.5,
          -0.5
         ],
         "yaxis": "y"
        },
        {
         "hoverinfo": "skip",
         "line": {
          "color": "#9e9e9e",
          "width": 1
         },
         "mode": "lines",
         "type": "scatter",
         "x": [
          4.5,
          4.5
         ],
         "xaxis": "x",
         "y": [
          -0.5,
          6.5
         ],
         "yaxis": "y"
        },
        {
         "hoverinfo": "skip",
         "line": {
          "color": "#9e9e9e",
          "width": 1
         },
         "mode": "lines",
         "type": "scatter",
         "x": [
          8.5,
          8.5
         ],
         "xaxis": "x",
         "y": [
          -0.5,
          6.5
         ],
         "yaxis": "y"
        },
        {
         "hoverinfo": "skip",
         "line": {
          "color": "#9e9e9e",
          "width": 1
         },
         "mode": "lines",
         "type": "scatter",
         "x": [
          12.5,
          12.5
         ],
         "xaxis": "x",
         "y": [
          2.5,
          6.5
         ],
         "yaxis": "y"
        },
        {
         "hoverinfo": "skip",
         "line": {
          "color": "#9e9e9e",
          "width": 1
         },
         "mode": "lines",
         "type": "scatter",
         "x": [
          12.5,
          13.5
         ],
         "xaxis": "x",
         "y": [
          2.5,
          2.5
         ],
         "yaxis": "y"
        },
        {
         "hoverinfo": "skip",
         "line": {
          "color": "#9e9e9e",
          "width": 1
         },
         "mode": "lines",
         "type": "scatter",
         "x": [
          13.5,
          13.5
         ],
         "xaxis": "x",
         "y": [
          2.5,
          -0.5
         ],
         "yaxis": "y"
        },
        {
         "hoverinfo": "skip",
         "line": {
          "color": "#9e9e9e",
          "width": 1
         },
         "mode": "lines",
         "type": "scatter",
         "x": [
          16.5,
          16.5
         ],
         "xaxis": "x",
         "y": [
          4.5,
          6.5
         ],
         "yaxis": "y"
        },
        {
         "hoverinfo": "skip",
         "line": {
          "color": "#9e9e9e",
          "width": 1
         },
         "mode": "lines",
         "type": "scatter",
         "x": [
          16.5,
          17.5
         ],
         "xaxis": "x",
         "y": [
          4.5,
          4.5
         ],
         "yaxis": "y"
        },
        {
         "hoverinfo": "skip",
         "line": {
          "color": "#9e9e9e",
          "width": 1
         },
         "mode": "lines",
         "type": "scatter",
         "x": [
          17.5,
          17.5
         ],
         "xaxis": "x",
         "y": [
          4.5,
          -0.5
         ],
         "yaxis": "y"
        },
        {
         "hoverinfo": "skip",
         "line": {
          "color": "#9e9e9e",
          "width": 1
         },
         "mode": "lines",
         "type": "scatter",
         "x": [
          21.5,
          21.5
         ],
         "xaxis": "x",
         "y": [
          0.5,
          6.5
         ],
         "yaxis": "y"
        },
        {
         "hoverinfo": "skip",
         "line": {
          "color": "#9e9e9e",
          "width": 1
         },
         "mode": "lines",
         "type": "scatter",
         "x": [
          21.5,
          22.5
         ],
         "xaxis": "x",
         "y": [
          0.5,
          0.5
         ],
         "yaxis": "y"
        },
        {
         "hoverinfo": "skip",
         "line": {
          "color": "#9e9e9e",
          "width": 1
         },
         "mode": "lines",
         "type": "scatter",
         "x": [
          22.5,
          22.5
         ],
         "xaxis": "x",
         "y": [
          0.5,
          -0.5
         ],
         "yaxis": "y"
        },
        {
         "hoverinfo": "skip",
         "line": {
          "color": "#9e9e9e",
          "width": 1
         },
         "mode": "lines",
         "type": "scatter",
         "x": [
          25.5,
          25.5
         ],
         "xaxis": "x",
         "y": [
          2.5,
          6.5
         ],
         "yaxis": "y"
        },
        {
         "hoverinfo": "skip",
         "line": {
          "color": "#9e9e9e",
          "width": 1
         },
         "mode": "lines",
         "type": "scatter",
         "x": [
          25.5,
          26.5
         ],
         "xaxis": "x",
         "y": [
          2.5,
          2.5
         ],
         "yaxis": "y"
        },
        {
         "hoverinfo": "skip",
         "line": {
          "color": "#9e9e9e",
          "width": 1
         },
         "mode": "lines",
         "type": "scatter",
         "x": [
          26.5,
          26.5
         ],
         "xaxis": "x",
         "y": [
          2.5,
          -0.5
         ],
         "yaxis": "y"
        },
        {
         "hoverinfo": "skip",
         "line": {
          "color": "#9e9e9e",
          "width": 1
         },
         "mode": "lines",
         "type": "scatter",
         "x": [
          29.5,
          29.5
         ],
         "xaxis": "x",
         "y": [
          5.5,
          6.5
         ],
         "yaxis": "y"
        },
        {
         "hoverinfo": "skip",
         "line": {
          "color": "#9e9e9e",
          "width": 1
         },
         "mode": "lines",
         "type": "scatter",
         "x": [
          29.5,
          30.5
         ],
         "xaxis": "x",
         "y": [
          5.5,
          5.5
         ],
         "yaxis": "y"
        },
        {
         "hoverinfo": "skip",
         "line": {
          "color": "#9e9e9e",
          "width": 1
         },
         "mode": "lines",
         "type": "scatter",
         "x": [
          30.5,
          30.5
         ],
         "xaxis": "x",
         "y": [
          5.5,
          -0.5
         ],
         "yaxis": "y"
        },
        {
         "hoverinfo": "skip",
         "line": {
          "color": "#9e9e9e",
          "width": 1
         },
         "mode": "lines",
         "type": "scatter",
         "x": [
          34.5,
          34.5
         ],
         "xaxis": "x",
         "y": [
          1.5,
          6.5
         ],
         "yaxis": "y"
        },
        {
         "hoverinfo": "skip",
         "line": {
          "color": "#9e9e9e",
          "width": 1
         },
         "mode": "lines",
         "type": "scatter",
         "x": [
          34.5,
          35.5
         ],
         "xaxis": "x",
         "y": [
          1.5,
          1.5
         ],
         "yaxis": "y"
        },
        {
         "hoverinfo": "skip",
         "line": {
          "color": "#9e9e9e",
          "width": 1
         },
         "mode": "lines",
         "type": "scatter",
         "x": [
          35.5,
          35.5
         ],
         "xaxis": "x",
         "y": [
          1.5,
          -0.5
         ],
         "yaxis": "y"
        },
        {
         "hoverinfo": "skip",
         "line": {
          "color": "#9e9e9e",
          "width": 1
         },
         "mode": "lines",
         "type": "scatter",
         "x": [
          38.5,
          38.5
         ],
         "xaxis": "x",
         "y": [
          3.5,
          6.5
         ],
         "yaxis": "y"
        },
        {
         "hoverinfo": "skip",
         "line": {
          "color": "#9e9e9e",
          "width": 1
         },
         "mode": "lines",
         "type": "scatter",
         "x": [
          38.5,
          39.5
         ],
         "xaxis": "x",
         "y": [
          3.5,
          3.5
         ],
         "yaxis": "y"
        },
        {
         "hoverinfo": "skip",
         "line": {
          "color": "#9e9e9e",
          "width": 1
         },
         "mode": "lines",
         "type": "scatter",
         "x": [
          39.5,
          39.5
         ],
         "xaxis": "x",
         "y": [
          3.5,
          -0.5
         ],
         "yaxis": "y"
        },
        {
         "hoverinfo": "skip",
         "line": {
          "color": "#9e9e9e",
          "width": 1
         },
         "mode": "lines",
         "type": "scatter",
         "x": [
          43.5,
          43.5
         ],
         "xaxis": "x",
         "y": [
          -0.5,
          6.5
         ],
         "yaxis": "y"
        },
        {
         "hoverinfo": "skip",
         "line": {
          "color": "#9e9e9e",
          "width": 1
         },
         "mode": "lines",
         "type": "scatter",
         "x": [
          47.5,
          47.5
         ],
         "xaxis": "x",
         "y": [
          1.5,
          6.5
         ],
         "yaxis": "y"
        },
        {
         "hoverinfo": "skip",
         "line": {
          "color": "#9e9e9e",
          "width": 1
         },
         "mode": "lines",
         "type": "scatter",
         "x": [
          47.5,
          48.5
         ],
         "xaxis": "x",
         "y": [
          1.5,
          1.5
         ],
         "yaxis": "y"
        },
        {
         "hoverinfo": "skip",
         "line": {
          "color": "#9e9e9e",
          "width": 1
         },
         "mode": "lines",
         "type": "scatter",
         "x": [
          48.5,
          48.5
         ],
         "xaxis": "x",
         "y": [
          1.5,
          -0.5
         ],
         "yaxis": "y"
        }
       ],
       "layout": {
        "font": {
         "color": "#9e9e9e",
         "size": 10
        },
        "height": 150,
        "margin": {
         "b": 20,
         "t": 20
        },
        "plot_bgcolor": "#fff",
        "showlegend": false,
        "template": {
         "data": {
          "bar": [
           {
            "error_x": {
             "color": "#2a3f5f"
            },
            "error_y": {
             "color": "#2a3f5f"
            },
            "marker": {
             "line": {
              "color": "#E5ECF6",
              "width": 0.5
             },
             "pattern": {
              "fillmode": "overlay",
              "size": 10,
              "solidity": 0.2
             }
            },
            "type": "bar"
           }
          ],
          "barpolar": [
           {
            "marker": {
             "line": {
              "color": "#E5ECF6",
              "width": 0.5
             },
             "pattern": {
              "fillmode": "overlay",
              "size": 10,
              "solidity": 0.2
             }
            },
            "type": "barpolar"
           }
          ],
          "carpet": [
           {
            "aaxis": {
             "endlinecolor": "#2a3f5f",
             "gridcolor": "white",
             "linecolor": "white",
             "minorgridcolor": "white",
             "startlinecolor": "#2a3f5f"
            },
            "baxis": {
             "endlinecolor": "#2a3f5f",
             "gridcolor": "white",
             "linecolor": "white",
             "minorgridcolor": "white",
             "startlinecolor": "#2a3f5f"
            },
            "type": "carpet"
           }
          ],
          "choropleth": [
           {
            "colorbar": {
             "outlinewidth": 0,
             "ticks": ""
            },
            "type": "choropleth"
           }
          ],
          "contour": [
           {
            "colorbar": {
             "outlinewidth": 0,
             "ticks": ""
            },
            "colorscale": [
             [
              0,
              "#0d0887"
             ],
             [
              0.1111111111111111,
              "#46039f"
             ],
             [
              0.2222222222222222,
              "#7201a8"
             ],
             [
              0.3333333333333333,
              "#9c179e"
             ],
             [
              0.4444444444444444,
              "#bd3786"
             ],
             [
              0.5555555555555556,
              "#d8576b"
             ],
             [
              0.6666666666666666,
              "#ed7953"
             ],
             [
              0.7777777777777778,
              "#fb9f3a"
             ],
             [
              0.8888888888888888,
              "#fdca26"
             ],
             [
              1,
              "#f0f921"
             ]
            ],
            "type": "contour"
           }
          ],
          "contourcarpet": [
           {
            "colorbar": {
             "outlinewidth": 0,
             "ticks": ""
            },
            "type": "contourcarpet"
           }
          ],
          "heatmap": [
           {
            "colorbar": {
             "outlinewidth": 0,
             "ticks": ""
            },
            "colorscale": [
             [
              0,
              "#0d0887"
             ],
             [
              0.1111111111111111,
              "#46039f"
             ],
             [
              0.2222222222222222,
              "#7201a8"
             ],
             [
              0.3333333333333333,
              "#9c179e"
             ],
             [
              0.4444444444444444,
              "#bd3786"
             ],
             [
              0.5555555555555556,
              "#d8576b"
             ],
             [
              0.6666666666666666,
              "#ed7953"
             ],
             [
              0.7777777777777778,
              "#fb9f3a"
             ],
             [
              0.8888888888888888,
              "#fdca26"
             ],
             [
              1,
              "#f0f921"
             ]
            ],
            "type": "heatmap"
           }
          ],
          "heatmapgl": [
           {
            "colorbar": {
             "outlinewidth": 0,
             "ticks": ""
            },
            "colorscale": [
             [
              0,
              "#0d0887"
             ],
             [
              0.1111111111111111,
              "#46039f"
             ],
             [
              0.2222222222222222,
              "#7201a8"
             ],
             [
              0.3333333333333333,
              "#9c179e"
             ],
             [
              0.4444444444444444,
              "#bd3786"
             ],
             [
              0.5555555555555556,
              "#d8576b"
             ],
             [
              0.6666666666666666,
              "#ed7953"
             ],
             [
              0.7777777777777778,
              "#fb9f3a"
             ],
             [
              0.8888888888888888,
              "#fdca26"
             ],
             [
              1,
              "#f0f921"
             ]
            ],
            "type": "heatmapgl"
           }
          ],
          "histogram": [
           {
            "marker": {
             "pattern": {
              "fillmode": "overlay",
              "size": 10,
              "solidity": 0.2
             }
            },
            "type": "histogram"
           }
          ],
          "histogram2d": [
           {
            "colorbar": {
             "outlinewidth": 0,
             "ticks": ""
            },
            "colorscale": [
             [
              0,
              "#0d0887"
             ],
             [
              0.1111111111111111,
              "#46039f"
             ],
             [
              0.2222222222222222,
              "#7201a8"
             ],
             [
              0.3333333333333333,
              "#9c179e"
             ],
             [
              0.4444444444444444,
              "#bd3786"
             ],
             [
              0.5555555555555556,
              "#d8576b"
             ],
             [
              0.6666666666666666,
              "#ed7953"
             ],
             [
              0.7777777777777778,
              "#fb9f3a"
             ],
             [
              0.8888888888888888,
              "#fdca26"
             ],
             [
              1,
              "#f0f921"
             ]
            ],
            "type": "histogram2d"
           }
          ],
          "histogram2dcontour": [
           {
            "colorbar": {
             "outlinewidth": 0,
             "ticks": ""
            },
            "colorscale": [
             [
              0,
              "#0d0887"
             ],
             [
              0.1111111111111111,
              "#46039f"
             ],
             [
              0.2222222222222222,
              "#7201a8"
             ],
             [
              0.3333333333333333,
              "#9c179e"
             ],
             [
              0.4444444444444444,
              "#bd3786"
             ],
             [
              0.5555555555555556,
              "#d8576b"
             ],
             [
              0.6666666666666666,
              "#ed7953"
             ],
             [
              0.7777777777777778,
              "#fb9f3a"
             ],
             [
              0.8888888888888888,
              "#fdca26"
             ],
             [
              1,
              "#f0f921"
             ]
            ],
            "type": "histogram2dcontour"
           }
          ],
          "mesh3d": [
           {
            "colorbar": {
             "outlinewidth": 0,
             "ticks": ""
            },
            "type": "mesh3d"
           }
          ],
          "parcoords": [
           {
            "line": {
             "colorbar": {
              "outlinewidth": 0,
              "ticks": ""
             }
            },
            "type": "parcoords"
           }
          ],
          "pie": [
           {
            "automargin": true,
            "type": "pie"
           }
          ],
          "scatter": [
           {
            "marker": {
             "colorbar": {
              "outlinewidth": 0,
              "ticks": ""
             }
            },
            "type": "scatter"
           }
          ],
          "scatter3d": [
           {
            "line": {
             "colorbar": {
              "outlinewidth": 0,
              "ticks": ""
             }
            },
            "marker": {
             "colorbar": {
              "outlinewidth": 0,
              "ticks": ""
             }
            },
            "type": "scatter3d"
           }
          ],
          "scattercarpet": [
           {
            "marker": {
             "colorbar": {
              "outlinewidth": 0,
              "ticks": ""
             }
            },
            "type": "scattercarpet"
           }
          ],
          "scattergeo": [
           {
            "marker": {
             "colorbar": {
              "outlinewidth": 0,
              "ticks": ""
             }
            },
            "type": "scattergeo"
           }
          ],
          "scattergl": [
           {
            "marker": {
             "colorbar": {
              "outlinewidth": 0,
              "ticks": ""
             }
            },
            "type": "scattergl"
           }
          ],
          "scattermapbox": [
           {
            "marker": {
             "colorbar": {
              "outlinewidth": 0,
              "ticks": ""
             }
            },
            "type": "scattermapbox"
           }
          ],
          "scatterpolar": [
           {
            "marker": {
             "colorbar": {
              "outlinewidth": 0,
              "ticks": ""
             }
            },
            "type": "scatterpolar"
           }
          ],
          "scatterpolargl": [
           {
            "marker": {
             "colorbar": {
              "outlinewidth": 0,
              "ticks": ""
             }
            },
            "type": "scatterpolargl"
           }
          ],
          "scatterternary": [
           {
            "marker": {
             "colorbar": {
              "outlinewidth": 0,
              "ticks": ""
             }
            },
            "type": "scatterternary"
           }
          ],
          "surface": [
           {
            "colorbar": {
             "outlinewidth": 0,
             "ticks": ""
            },
            "colorscale": [
             [
              0,
              "#0d0887"
             ],
             [
              0.1111111111111111,
              "#46039f"
             ],
             [
              0.2222222222222222,
              "#7201a8"
             ],
             [
              0.3333333333333333,
              "#9c179e"
             ],
             [
              0.4444444444444444,
              "#bd3786"
             ],
             [
              0.5555555555555556,
              "#d8576b"
             ],
             [
              0.6666666666666666,
              "#ed7953"
             ],
             [
              0.7777777777777778,
              "#fb9f3a"
             ],
             [
              0.8888888888888888,
              "#fdca26"
             ],
             [
              1,
              "#f0f921"
             ]
            ],
            "type": "surface"
           }
          ],
          "table": [
           {
            "cells": {
             "fill": {
              "color": "#EBF0F8"
             },
             "line": {
              "color": "white"
             }
            },
            "header": {
             "fill": {
              "color": "#C8D4E3"
             },
             "line": {
              "color": "white"
             }
            },
            "type": "table"
           }
          ]
         },
         "layout": {
          "annotationdefaults": {
           "arrowcolor": "#2a3f5f",
           "arrowhead": 0,
           "arrowwidth": 1
          },
          "autotypenumbers": "strict",
          "coloraxis": {
           "colorbar": {
            "outlinewidth": 0,
            "ticks": ""
           }
          },
          "colorscale": {
           "diverging": [
            [
             0,
             "#8e0152"
            ],
            [
             0.1,
             "#c51b7d"
            ],
            [
             0.2,
             "#de77ae"
            ],
            [
             0.3,
             "#f1b6da"
            ],
            [
             0.4,
             "#fde0ef"
            ],
            [
             0.5,
             "#f7f7f7"
            ],
            [
             0.6,
             "#e6f5d0"
            ],
            [
             0.7,
             "#b8e186"
            ],
            [
             0.8,
             "#7fbc41"
            ],
            [
             0.9,
             "#4d9221"
            ],
            [
             1,
             "#276419"
            ]
           ],
           "sequential": [
            [
             0,
             "#0d0887"
            ],
            [
             0.1111111111111111,
             "#46039f"
            ],
            [
             0.2222222222222222,
             "#7201a8"
            ],
            [
             0.3333333333333333,
             "#9c179e"
            ],
            [
             0.4444444444444444,
             "#bd3786"
            ],
            [
             0.5555555555555556,
             "#d8576b"
            ],
            [
             0.6666666666666666,
             "#ed7953"
            ],
            [
             0.7777777777777778,
             "#fb9f3a"
            ],
            [
             0.8888888888888888,
             "#fdca26"
            ],
            [
             1,
             "#f0f921"
            ]
           ],
           "sequentialminus": [
            [
             0,
             "#0d0887"
            ],
            [
             0.1111111111111111,
             "#46039f"
            ],
            [
             0.2222222222222222,
             "#7201a8"
            ],
            [
             0.3333333333333333,
             "#9c179e"
            ],
            [
             0.4444444444444444,
             "#bd3786"
            ],
            [
             0.5555555555555556,
             "#d8576b"
            ],
            [
             0.6666666666666666,
             "#ed7953"
            ],
            [
             0.7777777777777778,
             "#fb9f3a"
            ],
            [
             0.8888888888888888,
             "#fdca26"
            ],
            [
             1,
             "#f0f921"
            ]
           ]
          },
          "colorway": [
           "#636efa",
           "#EF553B",
           "#00cc96",
           "#ab63fa",
           "#FFA15A",
           "#19d3f3",
           "#FF6692",
           "#B6E880",
           "#FF97FF",
           "#FECB52"
          ],
          "font": {
           "color": "#2a3f5f"
          },
          "geo": {
           "bgcolor": "white",
           "lakecolor": "white",
           "landcolor": "#E5ECF6",
           "showlakes": true,
           "showland": true,
           "subunitcolor": "white"
          },
          "hoverlabel": {
           "align": "left"
          },
          "hovermode": "closest",
          "mapbox": {
           "style": "light"
          },
          "paper_bgcolor": "white",
          "plot_bgcolor": "#E5ECF6",
          "polar": {
           "angularaxis": {
            "gridcolor": "white",
            "linecolor": "white",
            "ticks": ""
           },
           "bgcolor": "#E5ECF6",
           "radialaxis": {
            "gridcolor": "white",
            "linecolor": "white",
            "ticks": ""
           }
          },
          "scene": {
           "xaxis": {
            "backgroundcolor": "#E5ECF6",
            "gridcolor": "white",
            "gridwidth": 2,
            "linecolor": "white",
            "showbackground": true,
            "ticks": "",
            "zerolinecolor": "white"
           },
           "yaxis": {
            "backgroundcolor": "#E5ECF6",
            "gridcolor": "white",
            "gridwidth": 2,
            "linecolor": "white",
            "showbackground": true,
            "ticks": "",
            "zerolinecolor": "white"
           },
           "zaxis": {
            "backgroundcolor": "#E5ECF6",
            "gridcolor": "white",
            "gridwidth": 2,
            "linecolor": "white",
            "showbackground": true,
            "ticks": "",
            "zerolinecolor": "white"
           }
          },
          "shapedefaults": {
           "line": {
            "color": "#2a3f5f"
           }
          },
          "ternary": {
           "aaxis": {
            "gridcolor": "white",
            "linecolor": "white",
            "ticks": ""
           },
           "baxis": {
            "gridcolor": "white",
            "linecolor": "white",
            "ticks": ""
           },
           "bgcolor": "#E5ECF6",
           "caxis": {
            "gridcolor": "white",
            "linecolor": "white",
            "ticks": ""
           }
          },
          "title": {
           "x": 0.05
          },
          "xaxis": {
           "automargin": true,
           "gridcolor": "white",
           "linecolor": "white",
           "ticks": "",
           "title": {
            "standoff": 15
           },
           "zerolinecolor": "white",
           "zerolinewidth": 2
          },
          "yaxis": {
           "automargin": true,
           "gridcolor": "white",
           "linecolor": "white",
           "ticks": "",
           "title": {
            "standoff": 15
           },
           "zerolinecolor": "white",
           "zerolinewidth": 2
          }
         }
        },
        "title": {
         "text": ""
        },
        "width": 800,
        "xaxis": {
         "anchor": "y",
         "autorange": true,
         "domain": [
          0,
          1
         ],
         "range": [
          -0.5,
          52.5
         ],
         "showgrid": false,
         "showline": false,
         "tickmode": "array",
         "ticktext": [
          "January",
          "February",
          "March",
          "April",
          "May",
          "June",
          "July",
          "August",
          "September",
          "October",
          "November",
          "December"
         ],
         "tickvals": [
          2.2857142857142856,
          6.285714285714286,
          10.714285714285714,
          15,
          19.428571428571427,
          23.714285714285715,
          28.142857142857142,
          32.57142857142857,
          36.857142857142854,
          41.285714285714285,
          45.57142857142857,
          50
         ],
         "type": "linear",
         "zeroline": false
        },
        "yaxis": {
         "anchor": "x",
         "autorange": true,
         "domain": [
          0,
          1
         ],
         "range": [
          6.888888888888889,
          -0.8888888888888891
         ],
         "showgrid": false,
         "showline": false,
         "tickmode": "array",
         "ticktext": [
          "Mon",
          "Tue",
          "Wed",
          "Thu",
          "Fri",
          "Sat",
          "Sun"
         ],
         "tickvals": [
          0,
          1,
          2,
          3,
          4,
          5,
          6
         ],
         "type": "linear",
         "zeroline": false
        }
       }
      },
      "image/png": "[encoded data removed]",
      "text/html": [
       "<div>                            <div id=\"663129cc-515d-4650-a9af-dab2666ec0f1\" class=\"plotly-graph-div\" style=\"height:150px; width:800px;\"></div>            <script type=\"text/javascript\">                require([\"plotly\"], function(Plotly) {                    window.PLOTLYENV=window.PLOTLYENV || {};                                    if (document.getElementById(\"663129cc-515d-4650-a9af-dab2666ec0f1\")) {                    Plotly.newPlot(                        \"663129cc-515d-4650-a9af-dab2666ec0f1\",                        [{\"colorscale\":[[0.0,\"rgb(247,252,245)\"],[0.125,\"rgb(229,245,224)\"],[0.25,\"rgb(199,233,192)\"],[0.375,\"rgb(161,217,155)\"],[0.5,\"rgb(116,196,118)\"],[0.625,\"rgb(65,171,93)\"],[0.75,\"rgb(35,139,69)\"],[0.875,\"rgb(0,109,44)\"],[1.0,\"rgb(0,68,27)\"]],\"customdata\":[[\"2021-01-01\",\"y\"],[\"2021-01-02\",\"y\"],[\"2021-01-03\",\"y\"],[\"2021-01-04\",\"y\"],[\"2021-01-05\",\"y\"],[\"2021-01-06\",\"y\"],[\"2021-01-07\",\"y\"],[\"2021-01-08\",\"y\"],[\"2021-01-09\",\"y\"],[\"2021-01-10\",\"y\"],[\"2021-01-11\",\"y\"],[\"2021-01-12\",\"y\"],[\"2021-01-13\",\"y\"],[\"2021-01-14\",\"y\"],[\"2021-01-15\",\"y\"],[\"2021-01-16\",\"y\"],[\"2021-01-17\",\"y\"],[\"2021-01-18\",\"y\"],[\"2021-01-19\",\"y\"],[\"2021-01-20\",\"y\"],[\"2021-01-21\",\"y\"],[\"2021-01-22\",\"y\"],[\"2021-01-23\",\"y\"],[\"2021-01-24\",\"y\"],[\"2021-01-25\",\"y\"],[\"2021-01-26\",\"y\"],[\"2021-01-27\",\"y\"],[\"2021-01-28\",\"y\"],[\"2021-01-29\",\"y\"],[\"2021-01-30\",\"y\"],[\"2021-01-31\",\"y\"],[\"2021-02-01\",\"y\"],[\"2021-02-02\",\"y\"],[\"2021-02-03\",\"y\"],[\"2021-02-04\",\"y\"],[\"2021-02-05\",\"y\"],[\"2021-02-06\",\"y\"],[\"2021-02-07\",\"y\"],[\"2021-02-08\",\"y\"],[\"2021-02-09\",\"y\"],[\"2021-02-10\",\"y\"],[\"2021-02-11\",\"y\"],[\"2021-02-12\",\"y\"],[\"2021-02-13\",\"y\"],[\"2021-02-14\",\"y\"],[\"2021-02-15\",\"y\"],[\"2021-02-16\",\"y\"],[\"2021-02-17\",\"y\"],[\"2021-02-18\",\"y\"],[\"2021-02-19\",\"y\"],[\"2021-02-20\",\"y\"],[\"2021-02-21\",\"y\"],[\"2021-02-22\",\"y\"],[\"2021-02-23\",\"y\"],[\"2021-02-24\",\"y\"],[\"2021-02-25\",\"y\"],[\"2021-02-26\",\"y\"],[\"2021-02-27\",\"y\"],[\"2021-02-28\",\"y\"],[\"2021-03-01\",\"y\"],[\"2021-03-02\",\"y\"],[\"2021-03-03\",\"y\"],[\"2021-03-04\",\"y\"],[\"2021-03-05\",\"y\"],[\"2021-03-06\",\"y\"],[\"2021-03-07\",\"y\"],[\"2021-03-08\",\"y\"],[\"2021-03-09\",\"y\"],[\"2021-03-10\",\"y\"],[\"2021-03-11\",\"y\"],[\"2021-03-12\",\"y\"],[\"2021-03-13\",\"y\"],[\"2021-03-14\",\"y\"],[\"2021-03-15\",\"y\"],[\"2021-03-16\",\"y\"],[\"2021-03-17\",\"y\"],[\"2021-03-18\",\"y\"],[\"2021-03-19\",\"y\"],[\"2021-03-20\",\"y\"],[\"2021-03-21\",\"y\"],[\"2021-03-22\",\"y\"],[\"2021-03-23\",\"y\"],[\"2021-03-24\",\"y\"],[\"2021-03-25\",\"y\"],[\"2021-03-26\",\"y\"],[\"2021-03-27\",\"y\"],[\"2021-03-28\",\"y\"],[\"2021-03-29\",\"y\"],[\"2021-03-30\",\"y\"],[\"2021-03-31\",\"y\"],[\"2021-04-01\",\"y\"],[\"2021-04-02\",\"y\"],[\"2021-04-03\",\"y\"],[\"2021-04-04\",\"y\"],[\"2021-04-05\",\"y\"],[\"2021-04-06\",\"y\"],[\"2021-04-07\",\"y\"],[\"2021-04-08\",\"y\"],[\"2021-04-09\",\"y\"],[\"2021-04-10\",\"y\"],[\"2021-04-11\",\"y\"],[\"2021-04-12\",\"y\"],[\"2021-04-13\",\"y\"],[\"2021-04-14\",\"y\"],[\"2021-04-15\",\"y\"],[\"2021-04-16\",\"y\"],[\"2021-04-17\",\"y\"],[\"2021-04-18\",\"y\"],[\"2021-04-19\",\"y\"],[\"2021-04-20\",\"y\"],[\"2021-04-21\",\"y\"],[\"2021-04-22\",\"y\"],[\"2021-04-23\",\"y\"],[\"2021-04-24\",\"y\"],[\"2021-04-25\",\"y\"],[\"2021-04-26\",\"y\"],[\"2021-04-27\",\"y\"],[\"2021-04-28\",\"y\"],[\"2021-04-29\",\"y\"],[\"2021-04-30\",\"y\"],[\"2021-05-01\",\"y\"],[\"2021-05-02\",\"y\"],[\"2021-05-03\",\"y\"],[\"2021-05-04\",\"y\"],[\"2021-05-05\",\"y\"],[\"2021-05-06\",\"y\"],[\"2021-05-07\",\"y\"],[\"2021-05-08\",\"y\"],[\"2021-05-09\",\"y\"],[\"2021-05-10\",\"y\"],[\"2021-05-11\",\"y\"],[\"2021-05-12\",\"y\"],[\"2021-05-13\",\"y\"],[\"2021-05-14\",\"y\"],[\"2021-05-15\",\"y\"],[\"2021-05-16\",\"y\"],[\"2021-05-17\",\"y\"],[\"2021-05-18\",\"y\"],[\"2021-05-19\",\"y\"],[\"2021-05-20\",\"y\"],[\"2021-05-21\",\"y\"],[\"2021-05-22\",\"y\"],[\"2021-05-23\",\"y\"],[\"2021-05-24\",\"y\"],[\"2021-05-25\",\"y\"],[\"2021-05-26\",\"y\"],[\"2021-05-27\",\"y\"],[\"2021-05-28\",\"y\"],[\"2021-05-29\",\"y\"],[\"2021-05-30\",\"y\"],[\"2021-05-31\",\"y\"],[\"2021-06-01\",\"y\"],[\"2021-06-02\",\"y\"],[\"2021-06-03\",\"y\"],[\"2021-06-04\",\"y\"],[\"2021-06-05\",\"y\"],[\"2021-06-06\",\"y\"],[\"2021-06-07\",\"y\"],[\"2021-06-08\",\"y\"],[\"2021-06-09\",\"y\"],[\"2021-06-10\",\"y\"],[\"2021-06-11\",\"y\"],[\"2021-06-12\",\"y\"],[\"2021-06-13\",\"y\"],[\"2021-06-14\",\"y\"],[\"2021-06-15\",\"y\"],[\"2021-06-16\",\"y\"],[\"2021-06-17\",\"y\"],[\"2021-06-18\",\"y\"],[\"2021-06-19\",\"y\"],[\"2021-06-20\",\"y\"],[\"2021-06-21\",\"y\"],[\"2021-06-22\",\"y\"],[\"2021-06-23\",\"y\"],[\"2021-06-24\",\"y\"],[\"2021-06-25\",\"y\"],[\"2021-06-26\",\"y\"],[\"2021-06-27\",\"y\"],[\"2021-06-28\",\"y\"],[\"2021-06-29\",\"y\"],[\"2021-06-30\",\"y\"],[\"2021-07-01\",\"y\"],[\"2021-07-02\",\"y\"],[\"2021-07-03\",\"y\"],[\"2021-07-04\",\"y\"],[\"2021-07-05\",\"y\"],[\"2021-07-06\",\"y\"],[\"2021-07-07\",\"y\"],[\"2021-07-08\",\"y\"],[\"2021-07-09\",\"y\"],[\"2021-07-10\",\"y\"],[\"2021-07-11\",\"y\"],[\"2021-07-12\",\"y\"],[\"2021-07-13\",\"y\"],[\"2021-07-14\",\"y\"],[\"2021-07-15\",\"y\"],[\"2021-07-16\",\"y\"],[\"2021-07-17\",\"y\"],[\"2021-07-18\",\"y\"],[\"2021-07-19\",\"y\"],[\"2021-07-20\",\"y\"],[\"2021-07-21\",\"y\"],[\"2021-07-22\",\"y\"],[\"2021-07-23\",\"y\"],[\"2021-07-24\",\"y\"],[\"2021-07-25\",\"y\"],[\"2021-07-26\",\"y\"],[\"2021-07-27\",\"y\"],[\"2021-07-28\",\"y\"],[\"2021-07-29\",\"y\"],[\"2021-07-30\",\"y\"],[\"2021-07-31\",\"y\"],[\"2021-08-01\",\"y\"],[\"2021-08-02\",\"y\"],[\"2021-08-03\",\"y\"],[\"2021-08-04\",\"y\"],[\"2021-08-05\",\"y\"],[\"2021-08-06\",\"y\"],[\"2021-08-07\",\"y\"],[\"2021-08-08\",\"y\"],[\"2021-08-09\",\"y\"],[\"2021-08-10\",\"y\"],[\"2021-08-11\",\"y\"],[\"2021-08-12\",\"y\"],[\"2021-08-13\",\"y\"],[\"2021-08-14\",\"y\"],[\"2021-08-15\",\"y\"],[\"2021-08-16\",\"y\"],[\"2021-08-17\",\"y\"],[\"2021-08-18\",\"y\"],[\"2021-08-19\",\"y\"],[\"2021-08-20\",\"y\"],[\"2021-08-21\",\"y\"],[\"2021-08-22\",\"y\"],[\"2021-08-23\",\"y\"],[\"2021-08-24\",\"y\"],[\"2021-08-25\",\"y\"],[\"2021-08-26\",\"y\"],[\"2021-08-27\",\"y\"],[\"2021-08-28\",\"y\"],[\"2021-08-29\",\"y\"],[\"2021-08-30\",\"y\"],[\"2021-08-31\",\"y\"],[\"2021-09-01\",\"y\"],[\"2021-09-02\",\"y\"],[\"2021-09-03\",\"y\"],[\"2021-09-04\",\"y\"],[\"2021-09-05\",\"y\"],[\"2021-09-06\",\"y\"],[\"2021-09-07\",\"y\"],[\"2021-09-08\",\"y\"],[\"2021-09-09\",\"y\"],[\"2021-09-10\",\"y\"],[\"2021-09-11\",\"y\"],[\"2021-09-12\",\"y\"],[\"2021-09-13\",\"y\"],[\"2021-09-14\",\"y\"],[\"2021-09-15\",\"y\"],[\"2021-09-16\",\"y\"],[\"2021-09-17\",\"y\"],[\"2021-09-18\",\"y\"],[\"2021-09-19\",\"y\"],[\"2021-09-20\",\"y\"],[\"2021-09-21\",\"y\"],[\"2021-09-22\",\"y\"],[\"2021-09-23\",\"y\"],[\"2021-09-24\",\"y\"],[\"2021-09-25\",\"y\"],[\"2021-09-26\",\"y\"],[\"2021-09-27\",\"y\"],[\"2021-09-28\",\"y\"],[\"2021-09-29\",\"y\"],[\"2021-09-30\",\"y\"],[\"2021-10-01\",\"y\"],[\"2021-10-02\",\"y\"],[\"2021-10-03\",\"y\"],[\"2021-10-04\",\"y\"],[\"2021-10-05\",\"y\"],[\"2021-10-06\",\"y\"],[\"2021-10-07\",\"y\"],[\"2021-10-08\",\"y\"],[\"2021-10-09\",\"y\"],[\"2021-10-10\",\"y\"],[\"2021-10-11\",\"y\"],[\"2021-10-12\",\"y\"],[\"2021-10-13\",\"y\"],[\"2021-10-14\",\"y\"],[\"2021-10-15\",\"y\"],[\"2021-10-16\",\"y\"],[\"2021-10-17\",\"y\"],[\"2021-10-18\",\"y\"],[\"2021-10-19\",\"y\"],[\"2021-10-20\",\"y\"],[\"2021-10-21\",\"y\"],[\"2021-10-22\",\"y\"],[\"2021-10-23\",\"y\"],[\"2021-10-24\",\"y\"],[\"2021-10-25\",\"y\"],[\"2021-10-26\",\"y\"],[\"2021-10-27\",\"y\"],[\"2021-10-28\",\"y\"],[\"2021-10-29\",\"y\"],[\"2021-10-30\",\"y\"],[\"2021-10-31\",\"y\"],[\"2021-11-01\",\"y\"],[\"2021-11-02\",\"y\"],[\"2021-11-03\",\"y\"],[\"2021-11-04\",\"y\"],[\"2021-11-05\",\"y\"],[\"2021-11-06\",\"y\"],[\"2021-11-07\",\"y\"],[\"2021-11-08\",\"y\"],[\"2021-11-09\",\"y\"],[\"2021-11-10\",\"y\"],[\"2021-11-11\",\"y\"],[\"2021-11-12\",\"y\"],[\"2021-11-13\",\"y\"],[\"2021-11-14\",\"y\"],[\"2021-11-15\",\"y\"],[\"2021-11-16\",\"y\"],[\"2021-11-17\",\"y\"],[\"2021-11-18\",\"y\"],[\"2021-11-19\",\"y\"],[\"2021-11-20\",\"y\"],[\"2021-11-21\",\"y\"],[\"2021-11-22\",\"y\"],[\"2021-11-23\",\"y\"],[\"2021-11-24\",\"y\"],[\"2021-11-25\",\"y\"],[\"2021-11-26\",\"y\"],[\"2021-11-27\",\"y\"],[\"2021-11-28\",\"y\"],[\"2021-11-29\",\"y\"],[\"2021-11-30\",\"y\"],[\"2021-12-01\",\"y\"],[\"2021-12-02\",\"y\"],[\"2021-12-03\",\"y\"],[\"2021-12-04\",\"y\"],[\"2021-12-05\",\"y\"],[\"2021-12-06\",\"y\"],[\"2021-12-07\",\"y\"],[\"2021-12-08\",\"y\"],[\"2021-12-09\",\"y\"],[\"2021-12-10\",\"y\"],[\"2021-12-11\",\"y\"],[\"2021-12-12\",\"y\"],[\"2021-12-13\",\"y\"],[\"2021-12-14\",\"y\"],[\"2021-12-15\",\"y\"],[\"2021-12-16\",\"y\"],[\"2021-12-17\",\"y\"],[\"2021-12-18\",\"y\"],[\"2021-12-19\",\"y\"],[\"2021-12-20\",\"y\"],[\"2021-12-21\",\"y\"],[\"2021-12-22\",\"y\"],[\"2021-12-23\",\"y\"],[\"2021-12-24\",\"y\"],[\"2021-12-25\",\"y\"],[\"2021-12-26\",\"y\"],[\"2021-12-27\",\"y\"],[\"2021-12-28\",\"y\"],[\"2021-12-29\",\"y\"],[\"2021-12-30\",\"y\"],[\"2021-12-31\",\"y\"]],\"hovertemplate\":\"%{customdata[0]} <br>%{customdata[1]}=%{z} <br>Week=%{x}\",\"name\":\"2021\",\"showscale\":false,\"x\":[0,0,0,1,1,1,1,1,1,1,2,2,2,2,2,2,2,3,3,3,3,3,3,3,4,4,4,4,4,4,4,5,5,5,5,5,5,5,6,6,6,6,6,6,6,7,7,7,7,7,7,7,8,8,8,8,8,8,8,9,9,9,9,9,9,9,10,10,10,10,10,10,10,11,11,11,11,11,11,11,12,12,12,12,12,12,12,13,13,13,13,13,13,13,14,14,14,14,14,14,14,15,15,15,15,15,15,15,16,16,16,16,16,16,16,17,17,17,17,17,17,17,18,18,18,18,18,18,18,19,19,19,19,19,19,19,20,20,20,20,20,20,20,21,21,21,21,21,21,21,22,22,22,22,22,22,22,23,23,23,23,23,23,23,24,24,24,24,24,24,24,25,25,25,25,25,25,25,26,26,26,26,26,26,26,27,27,27,27,27,27,27,28,28,28,28,28,28,28,29,29,29,29,29,29,29,30,30,30,30,30,30,30,31,31,31,31,31,31,31,32,32,32,32,32,32,32,33,33,33,33,33,33,33,34,34,34,34,34,34,34,35,35,35,35,35,35,35,36,36,36,36,36,36,36,37,37,37,37,37,37,37,38,38,38,38,38,38,38,39,39,39,39,39,39,39,40,40,40,40,40,40,40,41,41,41,41,41,41,41,42,42,42,42,42,42,42,43,43,43,43,43,43,43,44,44,44,44,44,44,44,45,45,45,45,45,45,45,46,46,46,46,46,46,46,47,47,47,47,47,47,47,48,48,48,48,48,48,48,49,49,49,49,49,49,49,50,50,50,50,50,50,50,51,51,51,51,51,51,51,52,52,52,52,52],\"xgap\":1,\"y\":[4,5,6,0,1,2,3,4,5,6,0,1,2,3,4,5,6,0,1,2,3,4,5,6,0,1,2,3,4,5,6,0,1,2,3,4,5,6,0,1,2,3,4,5,6,0,1,2,3,4,5,6,0,1,2,3,4,5,6,0,1,2,3,4,5,6,0,1,2,3,4,5,6,0,1,2,3,4,5,6,0,1,2,3,4,5,6,0,1,2,3,4,5,6,0,1,2,3,4,5,6,0,1,2,3,4,5,6,0,1,2,3,4,5,6,0,1,2,3,4,5,6,0,1,2,3,4,5,6,0,1,2,3,4,5,6,0,1,2,3,4,5,6,0,1,2,3,4,5,6,0,1,2,3,4,5,6,0,1,2,3,4,5,6,0,1,2,3,4,5,6,0,1,2,3,4,5,6,0,1,2,3,4,5,6,0,1,2,3,4,5,6,0,1,2,3,4,5,6,0,1,2,3,4,5,6,0,1,2,3,4,5,6,0,1,2,3,4,5,6,0,1,2,3,4,5,6,0,1,2,3,4,5,6,0,1,2,3,4,5,6,0,1,2,3,4,5,6,0,1,2,3,4,5,6,0,1,2,3,4,5,6,0,1,2,3,4,5,6,0,1,2,3,4,5,6,0,1,2,3,4,5,6,0,1,2,3,4,5,6,0,1,2,3,4,5,6,0,1,2,3,4,5,6,0,1,2,3,4,5,6,0,1,2,3,4,5,6,0,1,2,3,4,5,6,0,1,2,3,4,5,6,0,1,2,3,4,5,6,0,1,2,3,4,5,6,0,1,2,3,4,5,6,0,1,2,3,4,5,6,0,1,2,3,4],\"ygap\":1,\"z\":[0.0,0.0,0.0,0.0,0.0,0.0,0.0,0.0,0.0,0.0,0.0,0.0,0.0,0.0,0.0,0.0,0.0,0.0,0.0,0.0,0.0,0.0,0.0,0.0,0.0,0.0,0.0,0.0,0.0,0.0,0.0,0.0,0.0,0.0,0.0,0.0,0.0,0.0,0.0,0.0,0.0,0.0,0.0,0.0,0.0,0.0,0.0,0.0,0.0,0.0,0.0,0.0,0.0,0.0,0.0,0.0,0.0,0.0,0.0,1.0,1.0,1.0,1.0,1.0,1.0,1.0,1.0,1.0,1.0,1.0,1.0,1.0,1.0,1.0,1.0,1.0,1.0,1.0,1.0,1.0,0.0,0.0,0.0,0.0,0.0,0.0,0.0,0.0,0.0,0.0,0.0,0.0,0.0,0.0,1.0,1.0,1.0,1.0,1.0,1.0,1.0,1.0,1.0,1.0,1.0,1.0,1.0,1.0,1.0,1.0,1.0,1.0,1.0,1.0,1.0,0.0,0.0,0.0,0.0,0.0,0.0,0.0,0.0,0.0,0.0,0.0,0.0,0.0,0.0,0.0,0.0,0.0,0.0,0.0,0.0,0.0,0.0,0.0,0.0,0.0,0.0,0.0,0.0,0.0,0.0,0.0,0.0,0.0,0.0,0.0,0.0,0.0,0.0,0.0,0.0,0.0,0.0,0.0,0.0,0.0,0.0,0.0,0.0,0.0,0.0,0.0,0.0,0.0,0.0,0.0,0.0,1.0,1.0,1.0,1.0,1.0,1.0,1.0,0.0,0.0,0.0,0.0,0.0,0.0,0.0,0.0,0.0,0.0,0.0,0.0,0.0,0.0,0.0,0.0,0.0,0.0,0.0,0.0,0.0,0.0,0.0,0.0,0.0,0.0,0.0,0.0,0.0,0.0,0.0,0.0,0.0,0.0,0.0,0.0,0.0,0.0,0.0,0.0,0.0,0.0,0.0,0.0,0.0,0.0,0.0,0.0,0.0,0.0,0.0,0.0,0.0,0.0,0.0,0.0,0.0,0.0,0.0,0.0,0.0,0.0,0.0,0.0,0.0,0.0,0.0,0.0,0.0,0.0,0.0,0.0,0.0,0.0,0.0,0.0,0.0,0.0,0.0,0.0,0.0,0.0,0.0,0.0,0.0,0.0,0.0,0.0,0.0,0.0,0.0,0.0,0.0,0.0,0.0,0.0,0.0,0.0,0.0,0.0,0.0,0.0,0.0,0.0,0.0,0.0,0.0,0.0,0.0,0.0,0.0,0.0,1.0,1.0,1.0,1.0,1.0,1.0,1.0,0.0,0.0,0.0,0.0,0.0,0.0,0.0,0.0,0.0,0.0,0.0,0.0,0.0,0.0,0.0,0.0,0.0,0.0,0.0,0.0,0.0,0.0,0.0,0.0,0.0,0.0,0.0,0.0,0.0,0.0,0.0,0.0,0.0,0.0,0.0,0.0,0.0,0.0,0.0,0.0,0.0,0.0,0.0,0.0,0.0,0.0,0.0,0.0,0.0,0.0,0.0,0.0,0.0,0.0,0.0,0.0,0.0,0.0,0.0,0.0,0.0,0.0,0.0,0.0,0.0,0.0,0.0,0.0],\"type\":\"heatmap\",\"xaxis\":\"x\",\"yaxis\":\"y\"},{\"hoverinfo\":\"skip\",\"line\":{\"color\":\"#9e9e9e\",\"width\":1},\"mode\":\"lines\",\"x\":[-0.5,-0.5],\"y\":[3.5,6.5],\"type\":\"scatter\",\"xaxis\":\"x\",\"yaxis\":\"y\"},{\"hoverinfo\":\"skip\",\"line\":{\"color\":\"#9e9e9e\",\"width\":1},\"mode\":\"lines\",\"x\":[-0.5,0.5],\"y\":[3.5,3.5],\"type\":\"scatter\",\"xaxis\":\"x\",\"yaxis\":\"y\"},{\"hoverinfo\":\"skip\",\"line\":{\"color\":\"#9e9e9e\",\"width\":1},\"mode\":\"lines\",\"x\":[0.5,0.5],\"y\":[3.5,-0.5],\"type\":\"scatter\",\"xaxis\":\"x\",\"yaxis\":\"y\"},{\"hoverinfo\":\"skip\",\"line\":{\"color\":\"#9e9e9e\",\"width\":1},\"mode\":\"lines\",\"x\":[4.5,4.5],\"y\":[-0.5,6.5],\"type\":\"scatter\",\"xaxis\":\"x\",\"yaxis\":\"y\"},{\"hoverinfo\":\"skip\",\"line\":{\"color\":\"#9e9e9e\",\"width\":1},\"mode\":\"lines\",\"x\":[8.5,8.5],\"y\":[-0.5,6.5],\"type\":\"scatter\",\"xaxis\":\"x\",\"yaxis\":\"y\"},{\"hoverinfo\":\"skip\",\"line\":{\"color\":\"#9e9e9e\",\"width\":1},\"mode\":\"lines\",\"x\":[12.5,12.5],\"y\":[2.5,6.5],\"type\":\"scatter\",\"xaxis\":\"x\",\"yaxis\":\"y\"},{\"hoverinfo\":\"skip\",\"line\":{\"color\":\"#9e9e9e\",\"width\":1},\"mode\":\"lines\",\"x\":[12.5,13.5],\"y\":[2.5,2.5],\"type\":\"scatter\",\"xaxis\":\"x\",\"yaxis\":\"y\"},{\"hoverinfo\":\"skip\",\"line\":{\"color\":\"#9e9e9e\",\"width\":1},\"mode\":\"lines\",\"x\":[13.5,13.5],\"y\":[2.5,-0.5],\"type\":\"scatter\",\"xaxis\":\"x\",\"yaxis\":\"y\"},{\"hoverinfo\":\"skip\",\"line\":{\"color\":\"#9e9e9e\",\"width\":1},\"mode\":\"lines\",\"x\":[16.5,16.5],\"y\":[4.5,6.5],\"type\":\"scatter\",\"xaxis\":\"x\",\"yaxis\":\"y\"},{\"hoverinfo\":\"skip\",\"line\":{\"color\":\"#9e9e9e\",\"width\":1},\"mode\":\"lines\",\"x\":[16.5,17.5],\"y\":[4.5,4.5],\"type\":\"scatter\",\"xaxis\":\"x\",\"yaxis\":\"y\"},{\"hoverinfo\":\"skip\",\"line\":{\"color\":\"#9e9e9e\",\"width\":1},\"mode\":\"lines\",\"x\":[17.5,17.5],\"y\":[4.5,-0.5],\"type\":\"scatter\",\"xaxis\":\"x\",\"yaxis\":\"y\"},{\"hoverinfo\":\"skip\",\"line\":{\"color\":\"#9e9e9e\",\"width\":1},\"mode\":\"lines\",\"x\":[21.5,21.5],\"y\":[0.5,6.5],\"type\":\"scatter\",\"xaxis\":\"x\",\"yaxis\":\"y\"},{\"hoverinfo\":\"skip\",\"line\":{\"color\":\"#9e9e9e\",\"width\":1},\"mode\":\"lines\",\"x\":[21.5,22.5],\"y\":[0.5,0.5],\"type\":\"scatter\",\"xaxis\":\"x\",\"yaxis\":\"y\"},{\"hoverinfo\":\"skip\",\"line\":{\"color\":\"#9e9e9e\",\"width\":1},\"mode\":\"lines\",\"x\":[22.5,22.5],\"y\":[0.5,-0.5],\"type\":\"scatter\",\"xaxis\":\"x\",\"yaxis\":\"y\"},{\"hoverinfo\":\"skip\",\"line\":{\"color\":\"#9e9e9e\",\"width\":1},\"mode\":\"lines\",\"x\":[25.5,25.5],\"y\":[2.5,6.5],\"type\":\"scatter\",\"xaxis\":\"x\",\"yaxis\":\"y\"},{\"hoverinfo\":\"skip\",\"line\":{\"color\":\"#9e9e9e\",\"width\":1},\"mode\":\"lines\",\"x\":[25.5,26.5],\"y\":[2.5,2.5],\"type\":\"scatter\",\"xaxis\":\"x\",\"yaxis\":\"y\"},{\"hoverinfo\":\"skip\",\"line\":{\"color\":\"#9e9e9e\",\"width\":1},\"mode\":\"lines\",\"x\":[26.5,26.5],\"y\":[2.5,-0.5],\"type\":\"scatter\",\"xaxis\":\"x\",\"yaxis\":\"y\"},{\"hoverinfo\":\"skip\",\"line\":{\"color\":\"#9e9e9e\",\"width\":1},\"mode\":\"lines\",\"x\":[29.5,29.5],\"y\":[5.5,6.5],\"type\":\"scatter\",\"xaxis\":\"x\",\"yaxis\":\"y\"},{\"hoverinfo\":\"skip\",\"line\":{\"color\":\"#9e9e9e\",\"width\":1},\"mode\":\"lines\",\"x\":[29.5,30.5],\"y\":[5.5,5.5],\"type\":\"scatter\",\"xaxis\":\"x\",\"yaxis\":\"y\"},{\"hoverinfo\":\"skip\",\"line\":{\"color\":\"#9e9e9e\",\"width\":1},\"mode\":\"lines\",\"x\":[30.5,30.5],\"y\":[5.5,-0.5],\"type\":\"scatter\",\"xaxis\":\"x\",\"yaxis\":\"y\"},{\"hoverinfo\":\"skip\",\"line\":{\"color\":\"#9e9e9e\",\"width\":1},\"mode\":\"lines\",\"x\":[34.5,34.5],\"y\":[1.5,6.5],\"type\":\"scatter\",\"xaxis\":\"x\",\"yaxis\":\"y\"},{\"hoverinfo\":\"skip\",\"line\":{\"color\":\"#9e9e9e\",\"width\":1},\"mode\":\"lines\",\"x\":[34.5,35.5],\"y\":[1.5,1.5],\"type\":\"scatter\",\"xaxis\":\"x\",\"yaxis\":\"y\"},{\"hoverinfo\":\"skip\",\"line\":{\"color\":\"#9e9e9e\",\"width\":1},\"mode\":\"lines\",\"x\":[35.5,35.5],\"y\":[1.5,-0.5],\"type\":\"scatter\",\"xaxis\":\"x\",\"yaxis\":\"y\"},{\"hoverinfo\":\"skip\",\"line\":{\"color\":\"#9e9e9e\",\"width\":1},\"mode\":\"lines\",\"x\":[38.5,38.5],\"y\":[3.5,6.5],\"type\":\"scatter\",\"xaxis\":\"x\",\"yaxis\":\"y\"},{\"hoverinfo\":\"skip\",\"line\":{\"color\":\"#9e9e9e\",\"width\":1},\"mode\":\"lines\",\"x\":[38.5,39.5],\"y\":[3.5,3.5],\"type\":\"scatter\",\"xaxis\":\"x\",\"yaxis\":\"y\"},{\"hoverinfo\":\"skip\",\"line\":{\"color\":\"#9e9e9e\",\"width\":1},\"mode\":\"lines\",\"x\":[39.5,39.5],\"y\":[3.5,-0.5],\"type\":\"scatter\",\"xaxis\":\"x\",\"yaxis\":\"y\"},{\"hoverinfo\":\"skip\",\"line\":{\"color\":\"#9e9e9e\",\"width\":1},\"mode\":\"lines\",\"x\":[43.5,43.5],\"y\":[-0.5,6.5],\"type\":\"scatter\",\"xaxis\":\"x\",\"yaxis\":\"y\"},{\"hoverinfo\":\"skip\",\"line\":{\"color\":\"#9e9e9e\",\"width\":1},\"mode\":\"lines\",\"x\":[47.5,47.5],\"y\":[1.5,6.5],\"type\":\"scatter\",\"xaxis\":\"x\",\"yaxis\":\"y\"},{\"hoverinfo\":\"skip\",\"line\":{\"color\":\"#9e9e9e\",\"width\":1},\"mode\":\"lines\",\"x\":[47.5,48.5],\"y\":[1.5,1.5],\"type\":\"scatter\",\"xaxis\":\"x\",\"yaxis\":\"y\"},{\"hoverinfo\":\"skip\",\"line\":{\"color\":\"#9e9e9e\",\"width\":1},\"mode\":\"lines\",\"x\":[48.5,48.5],\"y\":[1.5,-0.5],\"type\":\"scatter\",\"xaxis\":\"x\",\"yaxis\":\"y\"}],                        {\"template\":{\"data\":{\"bar\":[{\"error_x\":{\"color\":\"#2a3f5f\"},\"error_y\":{\"color\":\"#2a3f5f\"},\"marker\":{\"line\":{\"color\":\"#E5ECF6\",\"width\":0.5},\"pattern\":{\"fillmode\":\"overlay\",\"size\":10,\"solidity\":0.2}},\"type\":\"bar\"}],\"barpolar\":[{\"marker\":{\"line\":{\"color\":\"#E5ECF6\",\"width\":0.5},\"pattern\":{\"fillmode\":\"overlay\",\"size\":10,\"solidity\":0.2}},\"type\":\"barpolar\"}],\"carpet\":[{\"aaxis\":{\"endlinecolor\":\"#2a3f5f\",\"gridcolor\":\"white\",\"linecolor\":\"white\",\"minorgridcolor\":\"white\",\"startlinecolor\":\"#2a3f5f\"},\"baxis\":{\"endlinecolor\":\"#2a3f5f\",\"gridcolor\":\"white\",\"linecolor\":\"white\",\"minorgridcolor\":\"white\",\"startlinecolor\":\"#2a3f5f\"},\"type\":\"carpet\"}],\"choropleth\":[{\"colorbar\":{\"outlinewidth\":0,\"ticks\":\"\"},\"type\":\"choropleth\"}],\"contour\":[{\"colorbar\":{\"outlinewidth\":0,\"ticks\":\"\"},\"colorscale\":[[0.0,\"#0d0887\"],[0.1111111111111111,\"#46039f\"],[0.2222222222222222,\"#7201a8\"],[0.3333333333333333,\"#9c179e\"],[0.4444444444444444,\"#bd3786\"],[0.5555555555555556,\"#d8576b\"],[0.6666666666666666,\"#ed7953\"],[0.7777777777777778,\"#fb9f3a\"],[0.8888888888888888,\"#fdca26\"],[1.0,\"#f0f921\"]],\"type\":\"contour\"}],\"contourcarpet\":[{\"colorbar\":{\"outlinewidth\":0,\"ticks\":\"\"},\"type\":\"contourcarpet\"}],\"heatmap\":[{\"colorbar\":{\"outlinewidth\":0,\"ticks\":\"\"},\"colorscale\":[[0.0,\"#0d0887\"],[0.1111111111111111,\"#46039f\"],[0.2222222222222222,\"#7201a8\"],[0.3333333333333333,\"#9c179e\"],[0.4444444444444444,\"#bd3786\"],[0.5555555555555556,\"#d8576b\"],[0.6666666666666666,\"#ed7953\"],[0.7777777777777778,\"#fb9f3a\"],[0.8888888888888888,\"#fdca26\"],[1.0,\"#f0f921\"]],\"type\":\"heatmap\"}],\"heatmapgl\":[{\"colorbar\":{\"outlinewidth\":0,\"ticks\":\"\"},\"colorscale\":[[0.0,\"#0d0887\"],[0.1111111111111111,\"#46039f\"],[0.2222222222222222,\"#7201a8\"],[0.3333333333333333,\"#9c179e\"],[0.4444444444444444,\"#bd3786\"],[0.5555555555555556,\"#d8576b\"],[0.6666666666666666,\"#ed7953\"],[0.7777777777777778,\"#fb9f3a\"],[0.8888888888888888,\"#fdca26\"],[1.0,\"#f0f921\"]],\"type\":\"heatmapgl\"}],\"histogram\":[{\"marker\":{\"pattern\":{\"fillmode\":\"overlay\",\"size\":10,\"solidity\":0.2}},\"type\":\"histogram\"}],\"histogram2d\":[{\"colorbar\":{\"outlinewidth\":0,\"ticks\":\"\"},\"colorscale\":[[0.0,\"#0d0887\"],[0.1111111111111111,\"#46039f\"],[0.2222222222222222,\"#7201a8\"],[0.3333333333333333,\"#9c179e\"],[0.4444444444444444,\"#bd3786\"],[0.5555555555555556,\"#d8576b\"],[0.6666666666666666,\"#ed7953\"],[0.7777777777777778,\"#fb9f3a\"],[0.8888888888888888,\"#fdca26\"],[1.0,\"#f0f921\"]],\"type\":\"histogram2d\"}],\"histogram2dcontour\":[{\"colorbar\":{\"outlinewidth\":0,\"ticks\":\"\"},\"colorscale\":[[0.0,\"#0d0887\"],[0.1111111111111111,\"#46039f\"],[0.2222222222222222,\"#7201a8\"],[0.3333333333333333,\"#9c179e\"],[0.4444444444444444,\"#bd3786\"],[0.5555555555555556,\"#d8576b\"],[0.6666666666666666,\"#ed7953\"],[0.7777777777777778,\"#fb9f3a\"],[0.8888888888888888,\"#fdca26\"],[1.0,\"#f0f921\"]],\"type\":\"histogram2dcontour\"}],\"mesh3d\":[{\"colorbar\":{\"outlinewidth\":0,\"ticks\":\"\"},\"type\":\"mesh3d\"}],\"parcoords\":[{\"line\":{\"colorbar\":{\"outlinewidth\":0,\"ticks\":\"\"}},\"type\":\"parcoords\"}],\"pie\":[{\"automargin\":true,\"type\":\"pie\"}],\"scatter\":[{\"marker\":{\"colorbar\":{\"outlinewidth\":0,\"ticks\":\"\"}},\"type\":\"scatter\"}],\"scatter3d\":[{\"line\":{\"colorbar\":{\"outlinewidth\":0,\"ticks\":\"\"}},\"marker\":{\"colorbar\":{\"outlinewidth\":0,\"ticks\":\"\"}},\"type\":\"scatter3d\"}],\"scattercarpet\":[{\"marker\":{\"colorbar\":{\"outlinewidth\":0,\"ticks\":\"\"}},\"type\":\"scattercarpet\"}],\"scattergeo\":[{\"marker\":{\"colorbar\":{\"outlinewidth\":0,\"ticks\":\"\"}},\"type\":\"scattergeo\"}],\"scattergl\":[{\"marker\":{\"colorbar\":{\"outlinewidth\":0,\"ticks\":\"\"}},\"type\":\"scattergl\"}],\"scattermapbox\":[{\"marker\":{\"colorbar\":{\"outlinewidth\":0,\"ticks\":\"\"}},\"type\":\"scattermapbox\"}],\"scatterpolar\":[{\"marker\":{\"colorbar\":{\"outlinewidth\":0,\"ticks\":\"\"}},\"type\":\"scatterpolar\"}],\"scatterpolargl\":[{\"marker\":{\"colorbar\":{\"outlinewidth\":0,\"ticks\":\"\"}},\"type\":\"scatterpolargl\"}],\"scatterternary\":[{\"marker\":{\"colorbar\":{\"outlinewidth\":0,\"ticks\":\"\"}},\"type\":\"scatterternary\"}],\"surface\":[{\"colorbar\":{\"outlinewidth\":0,\"ticks\":\"\"},\"colorscale\":[[0.0,\"#0d0887\"],[0.1111111111111111,\"#46039f\"],[0.2222222222222222,\"#7201a8\"],[0.3333333333333333,\"#9c179e\"],[0.4444444444444444,\"#bd3786\"],[0.5555555555555556,\"#d8576b\"],[0.6666666666666666,\"#ed7953\"],[0.7777777777777778,\"#fb9f3a\"],[0.8888888888888888,\"#fdca26\"],[1.0,\"#f0f921\"]],\"type\":\"surface\"}],\"table\":[{\"cells\":{\"fill\":{\"color\":\"#EBF0F8\"},\"line\":{\"color\":\"white\"}},\"header\":{\"fill\":{\"color\":\"#C8D4E3\"},\"line\":{\"color\":\"white\"}},\"type\":\"table\"}]},\"layout\":{\"annotationdefaults\":{\"arrowcolor\":\"#2a3f5f\",\"arrowhead\":0,\"arrowwidth\":1},\"autotypenumbers\":\"strict\",\"coloraxis\":{\"colorbar\":{\"outlinewidth\":0,\"ticks\":\"\"}},\"colorscale\":{\"diverging\":[[0,\"#8e0152\"],[0.1,\"#c51b7d\"],[0.2,\"#de77ae\"],[0.3,\"#f1b6da\"],[0.4,\"#fde0ef\"],[0.5,\"#f7f7f7\"],[0.6,\"#e6f5d0\"],[0.7,\"#b8e186\"],[0.8,\"#7fbc41\"],[0.9,\"#4d9221\"],[1,\"#276419\"]],\"sequential\":[[0.0,\"#0d0887\"],[0.1111111111111111,\"#46039f\"],[0.2222222222222222,\"#7201a8\"],[0.3333333333333333,\"#9c179e\"],[0.4444444444444444,\"#bd3786\"],[0.5555555555555556,\"#d8576b\"],[0.6666666666666666,\"#ed7953\"],[0.7777777777777778,\"#fb9f3a\"],[0.8888888888888888,\"#fdca26\"],[1.0,\"#f0f921\"]],\"sequentialminus\":[[0.0,\"#0d0887\"],[0.1111111111111111,\"#46039f\"],[0.2222222222222222,\"#7201a8\"],[0.3333333333333333,\"#9c179e\"],[0.4444444444444444,\"#bd3786\"],[0.5555555555555556,\"#d8576b\"],[0.6666666666666666,\"#ed7953\"],[0.7777777777777778,\"#fb9f3a\"],[0.8888888888888888,\"#fdca26\"],[1.0,\"#f0f921\"]]},\"colorway\":[\"#636efa\",\"#EF553B\",\"#00cc96\",\"#ab63fa\",\"#FFA15A\",\"#19d3f3\",\"#FF6692\",\"#B6E880\",\"#FF97FF\",\"#FECB52\"],\"font\":{\"color\":\"#2a3f5f\"},\"geo\":{\"bgcolor\":\"white\",\"lakecolor\":\"white\",\"landcolor\":\"#E5ECF6\",\"showlakes\":true,\"showland\":true,\"subunitcolor\":\"white\"},\"hoverlabel\":{\"align\":\"left\"},\"hovermode\":\"closest\",\"mapbox\":{\"style\":\"light\"},\"paper_bgcolor\":\"white\",\"plot_bgcolor\":\"#E5ECF6\",\"polar\":{\"angularaxis\":{\"gridcolor\":\"white\",\"linecolor\":\"white\",\"ticks\":\"\"},\"bgcolor\":\"#E5ECF6\",\"radialaxis\":{\"gridcolor\":\"white\",\"linecolor\":\"white\",\"ticks\":\"\"}},\"scene\":{\"xaxis\":{\"backgroundcolor\":\"#E5ECF6\",\"gridcolor\":\"white\",\"gridwidth\":2,\"linecolor\":\"white\",\"showbackground\":true,\"ticks\":\"\",\"zerolinecolor\":\"white\"},\"yaxis\":{\"backgroundcolor\":\"#E5ECF6\",\"gridcolor\":\"white\",\"gridwidth\":2,\"linecolor\":\"white\",\"showbackground\":true,\"ticks\":\"\",\"zerolinecolor\":\"white\"},\"zaxis\":{\"backgroundcolor\":\"#E5ECF6\",\"gridcolor\":\"white\",\"gridwidth\":2,\"linecolor\":\"white\",\"showbackground\":true,\"ticks\":\"\",\"zerolinecolor\":\"white\"}},\"shapedefaults\":{\"line\":{\"color\":\"#2a3f5f\"}},\"ternary\":{\"aaxis\":{\"gridcolor\":\"white\",\"linecolor\":\"white\",\"ticks\":\"\"},\"baxis\":{\"gridcolor\":\"white\",\"linecolor\":\"white\",\"ticks\":\"\"},\"bgcolor\":\"#E5ECF6\",\"caxis\":{\"gridcolor\":\"white\",\"linecolor\":\"white\",\"ticks\":\"\"}},\"title\":{\"x\":0.05},\"xaxis\":{\"automargin\":true,\"gridcolor\":\"white\",\"linecolor\":\"white\",\"ticks\":\"\",\"title\":{\"standoff\":15},\"zerolinecolor\":\"white\",\"zerolinewidth\":2},\"yaxis\":{\"automargin\":true,\"gridcolor\":\"white\",\"linecolor\":\"white\",\"ticks\":\"\",\"title\":{\"standoff\":15},\"zerolinecolor\":\"white\",\"zerolinewidth\":2}}},\"xaxis\":{\"anchor\":\"y\",\"domain\":[0.0,1.0],\"showgrid\":false,\"showline\":false,\"tickmode\":\"array\",\"ticktext\":[\"January\",\"February\",\"March\",\"April\",\"May\",\"June\",\"July\",\"August\",\"September\",\"October\",\"November\",\"December\"],\"tickvals\":[2.2857142857142856,6.285714285714286,10.714285714285714,15.0,19.428571428571427,23.714285714285715,28.142857142857142,32.57142857142857,36.857142857142854,41.285714285714285,45.57142857142857,50.0],\"zeroline\":false},\"yaxis\":{\"anchor\":\"x\",\"domain\":[0.0,1.0],\"autorange\":\"reversed\",\"showgrid\":false,\"showline\":false,\"tickmode\":\"array\",\"ticktext\":[\"Mon\",\"Tue\",\"Wed\",\"Thu\",\"Fri\",\"Sat\",\"Sun\"],\"tickvals\":[0,1,2,3,4,5,6],\"zeroline\":false},\"font\":{\"color\":\"#9e9e9e\",\"size\":10},\"margin\":{\"b\":20,\"t\":20},\"title\":{\"text\":\"\"},\"plot_bgcolor\":\"#fff\",\"showlegend\":false,\"width\":800,\"height\":150},                        {\"responsive\": true}                    ).then(function(){\n",
       "                            \n",
       "var gd = document.getElementById('663129cc-515d-4650-a9af-dab2666ec0f1');\n",
       "var x = new MutationObserver(function (mutations, observer) {{\n",
       "        var display = window.getComputedStyle(gd).display;\n",
       "        if (!display || display === 'none') {{\n",
       "            console.log([gd, 'removed!']);\n",
       "            Plotly.purge(gd);\n",
       "            observer.disconnect();\n",
       "        }}\n",
       "}});\n",
       "\n",
       "// Listen for the removal of the full notebook cells\n",
       "var notebookContainer = gd.closest('#notebook-container');\n",
       "if (notebookContainer) {{\n",
       "    x.observe(notebookContainer, {childList: true});\n",
       "}}\n",
       "\n",
       "// Listen for the clearing of the current output cell\n",
       "var outputEl = gd.closest('.output');\n",
       "if (outputEl) {{\n",
       "    x.observe(outputEl, {childList: true});\n",
       "}}\n",
       "\n",
       "                        })                };                });            </script>        </div>"
      ]
     },
     "metadata": {},
     "output_type": "display_data"
    }
   ],
   "source": [
    "calendar = my_methods.manuring_periods(year, mais_week, rice_week, cereal_week, custom_week)"
   ]
  },
  {
   "cell_type": "code",
   "execution_count": 10,
   "id": "43dd875c",
   "metadata": {},
   "outputs": [
    {
     "data": {
      "application/vnd.jupyter.widget-view+json": {
       "model_id": "29654eff9dd4474caebe27aab693fd0c",
       "version_major": 2,
       "version_minor": 0
      },
      "text/plain": [
       "Dropdown(description='Week:', options=('mais_week', 'rice_week', 'cereal_week', 'custom_week'), value='mais_we…"
      ]
     },
     "metadata": {},
     "output_type": "display_data"
    }
   ],
   "source": [
    "# With this widget is possible to select from the dropdown list the required week\n",
    "select_week = widgets.Dropdown(\n",
    "    options=['mais_week', 'rice_week', 'cereal_week', 'custom_week'],\n",
    "    description='Week:',\n",
    "    disabled=False)\n",
    "select_week"
   ]
  },
  {
   "cell_type": "code",
   "execution_count": 10,
   "id": "91ff3195",
   "metadata": {},
   "outputs": [
    {
     "name": "stdout",
     "output_type": "stream",
     "text": [
      "For mais_week the starting date is 2021-03-01 and the ending date is 2021-03-21\n"
     ]
    }
   ],
   "source": [
    "# Select start and end date of the corresponding selected week:\n",
    "start_date = calendar[date[select_week.value][0]][0]\n",
    "end_date = calendar[date[select_week.value][-1]][-1]\n",
    "print(\"For\", select_week.value, \"the starting date is\", start_date,\"and the ending date is\" , end_date)"
   ]
  },
  {
   "cell_type": "markdown",
   "id": "bda5e0b0",
   "metadata": {},
   "source": [
    "### Import Bounding Box"
   ]
  },
  {
   "cell_type": "code",
   "execution_count": 4,
   "id": "15ba4116",
   "metadata": {},
   "outputs": [],
   "source": [
    "area_path = cwd + '/grid/grid_cams.gpkg'\n",
    "area = gpd.read_file(area_path).to_crs(4326)\n",
    "bounds = area.total_bounds"
   ]
  },
  {
   "cell_type": "code",
   "execution_count": 12,
   "id": "a7dd2873",
   "metadata": {},
   "outputs": [],
   "source": [
    "# Define a Region Of Interest using a Bounding Box (\"roi\" variable is used in GEE API only, while\n",
    "#in CDAPI the Bounding Box coordinates are given directly in the request)\n",
    "roi = ee.Geometry.BBox(bounds[0],bounds[1],bounds[2],bounds[3])"
   ]
  },
  {
   "cell_type": "code",
   "execution_count": 13,
   "id": "d0406e6c",
   "metadata": {},
   "outputs": [],
   "source": [
    "start_date = calendar[date[select_week.value][0]][0]\n",
    "end_date = calendar[date[select_week.value][-1]][-1]"
   ]
  },
  {
   "cell_type": "markdown",
   "id": "c98300b4",
   "metadata": {},
   "source": [
    "- - -"
   ]
  },
  {
   "cell_type": "markdown",
   "id": "4b237c28",
   "metadata": {},
   "source": [
    "# CDAPI Data Requests for Copernicus Atmosphere Monitoring Service (CAMS)"
   ]
  },
  {
   "cell_type": "markdown",
   "id": "f7050f7a",
   "metadata": {},
   "source": [
    "This part contains the requests for the following variables:\n",
    "- PM2.5\n",
    "- Ammonia NH3\n",
    "- Sulphur Dioxide SO2\n",
    "- Nitrogen Dioxide NO2\n",
    "- Nitrogen Monoxide NO\n",
    "- Carbon Monoxide CO\n",
    "- Ozone O3\n",
    "- Dust\n",
    "- PM10\n",
    "- NMVOCs (Non-Methane Volatile Organic Compounds)\n",
    "\n",
    "Each section just requires hourly data in the time range (start & end date) for each variable. The data are required in the bounding box only, and a mean value it's calculated. The output format is a netCDF file."
   ]
  },
  {
   "cell_type": "markdown",
   "id": "b9a94b82",
   "metadata": {},
   "source": [
    "# [PM2.5 - Particulate Matter](https://ads.atmosphere.copernicus.eu/cdsapp#!/dataset/cams-europe-air-quality-forecasts?tab=overview) "
   ]
  },
  {
   "cell_type": "code",
   "execution_count": 14,
   "id": "b39fdf32",
   "metadata": {},
   "outputs": [
    {
     "name": "stderr",
     "output_type": "stream",
     "text": [
      "2022-04-05 10:10:11,973 INFO Welcome to the CDS\n",
      "2022-04-05 10:10:11,974 INFO Sending request to https://ads.atmosphere.copernicus.eu/api/v2/resources/cams-europe-air-quality-forecasts\n",
      "2022-04-05 10:10:12,030 INFO Request is queued\n",
      "2022-04-05 10:10:13,093 INFO Request is running\n",
      "2022-04-05 10:13:03,866 INFO Request is completed\n",
      "2022-04-05 10:13:03,867 INFO Downloading https://download-0002-ads-clone.copernicus-climate.eu/cache-compute-0002/cache/data4/adaptor.cams_regional_fc.retrieve-1649146337.100575-11017-6-c5efd161-42ae-4cb8-8fbe-c923e32e2bb1.nc to C:\\Users\\Administrator\\OneDrive - Politecnico di Milano\\WP2\\D-DUST\\temp\\pm25_cams.nc (1.6M)\n",
      "2022-04-05 10:13:04,248 INFO Download rate 4.2M/s   \n"
     ]
    }
   ],
   "source": [
    "pm25_path = cwd+r'\\temp\\pm25_cams.nc'\n",
    "pm25 = c_atm.retrieve(\n",
    "    'cams-europe-air-quality-forecasts',\n",
    "    {\n",
    "        'variable': 'particulate_matter_2.5um',\n",
    "        'model': 'ensemble',\n",
    "        'level': '0',\n",
    "        'date': start_date+'/'+end_date,\n",
    "        'type': 'analysis',\n",
    "        'time': [\n",
    "            '00:00', '01:00', '02:00',\n",
    "            '03:00', '04:00', '05:00',\n",
    "            '06:00', '07:00', '08:00',\n",
    "            '09:00', '10:00', '11:00',\n",
    "            '12:00', '13:00', '14:00',\n",
    "            '15:00', '16:00', '17:00',\n",
    "            '18:00', '19:00', '20:00',\n",
    "            '21:00', '22:00', '23:00',\n",
    "        ],\n",
    "        'leadtime_hour': '0',\n",
    "        'area': [\n",
    "            bounds[3], bounds[0], bounds[1],\n",
    "            bounds[2],\n",
    "        ],\n",
    "        'format': 'netcdf',\n",
    "    },\n",
    "    pm25_path\n",
    "    )"
   ]
  },
  {
   "cell_type": "code",
   "execution_count": 15,
   "id": "18229d79",
   "metadata": {},
   "outputs": [],
   "source": [
    "pm25 = xr.open_dataset(pm25_path)"
   ]
  },
  {
   "cell_type": "code",
   "execution_count": 16,
   "id": "643d4da3",
   "metadata": {},
   "outputs": [],
   "source": [
    "pm25_mean = pm25.mean(dim='time')"
   ]
  },
  {
   "cell_type": "code",
   "execution_count": 17,
   "id": "cd886a47",
   "metadata": {},
   "outputs": [],
   "source": [
    "pm25_mean.to_netcdf(cwd+r'\\temp\\pm25_cams.nc')"
   ]
  },
  {
   "cell_type": "markdown",
   "id": "83230de8",
   "metadata": {},
   "source": [
    "- - -"
   ]
  },
  {
   "cell_type": "markdown",
   "id": "dbd13a70",
   "metadata": {},
   "source": [
    "# [NH3 - Ammonia](https://ads.atmosphere.copernicus.eu/cdsapp#!/dataset/cams-europe-air-quality-forecasts?tab=overview) "
   ]
  },
  {
   "cell_type": "code",
   "execution_count": 18,
   "id": "ec724708",
   "metadata": {},
   "outputs": [
    {
     "name": "stderr",
     "output_type": "stream",
     "text": [
      "2022-04-05 10:13:04,566 INFO Welcome to the CDS\n",
      "2022-04-05 10:13:04,567 INFO Sending request to https://ads.atmosphere.copernicus.eu/api/v2/resources/cams-europe-air-quality-forecasts\n",
      "2022-04-05 10:13:04,605 INFO Request is queued\n",
      "2022-04-05 10:13:05,638 INFO Request is running\n",
      "2022-04-05 10:14:58,314 INFO Request is completed\n",
      "2022-04-05 10:14:58,315 INFO Downloading https://download-0000-ads-clone.copernicus-climate.eu/cache-compute-0000/cache/data2/adaptor.cams_regional_fc.retrieve-1649146470.486371-17646-13-edbc10f4-13f4-4384-9b23-97d0607f5c82.nc to C:\\Users\\Administrator\\OneDrive - Politecnico di Milano\\WP2\\D-DUST\\temp\\nh3_cams.nc (1.6M)\n",
      "2022-04-05 10:14:58,762 INFO Download rate 3.6M/s   \n"
     ]
    }
   ],
   "source": [
    "nh3_path = cwd+r'\\temp\\nh3_cams.nc'\n",
    "nh3 = c_atm.retrieve(\n",
    "    'cams-europe-air-quality-forecasts',\n",
    "    {\n",
    "        'variable': 'ammonia',\n",
    "        'model': 'ensemble',\n",
    "        'level': '0',\n",
    "        'date': start_date+'/'+end_date,\n",
    "        'type': 'analysis',\n",
    "        'time': [\n",
    "            '00:00', '01:00', '02:00',\n",
    "            '03:00', '04:00', '05:00',\n",
    "            '06:00', '07:00', '08:00',\n",
    "            '09:00', '10:00', '11:00',\n",
    "            '12:00', '13:00', '14:00',\n",
    "            '15:00', '16:00', '17:00',\n",
    "            '18:00', '19:00', '20:00',\n",
    "            '21:00', '22:00', '23:00',\n",
    "        ],\n",
    "        'leadtime_hour': '0',\n",
    "        'area': [\n",
    "            bounds[3], bounds[0], bounds[1],\n",
    "            bounds[2],\n",
    "        ],\n",
    "        'format': 'netcdf',\n",
    "    },\n",
    "    nh3_path\n",
    "    )"
   ]
  },
  {
   "cell_type": "code",
   "execution_count": 19,
   "id": "18c87c61",
   "metadata": {},
   "outputs": [],
   "source": [
    "nh3 = xr.open_dataset(nh3_path)"
   ]
  },
  {
   "cell_type": "code",
   "execution_count": 20,
   "id": "f8a26e46",
   "metadata": {},
   "outputs": [],
   "source": [
    "nh3_mean = nh3.mean(dim='time')"
   ]
  },
  {
   "cell_type": "code",
   "execution_count": 21,
   "id": "1e88261c",
   "metadata": {},
   "outputs": [],
   "source": [
    "nh3_mean.to_netcdf(cwd+r'\\temp\\nh3_cams.nc', 'w')"
   ]
  },
  {
   "cell_type": "markdown",
   "id": "1e71fa57",
   "metadata": {},
   "source": [
    "- - -"
   ]
  },
  {
   "cell_type": "markdown",
   "id": "384c9752",
   "metadata": {},
   "source": [
    "# [SO2 - Sulphur Dioxide](https://ads.atmosphere.copernicus.eu/cdsapp#!/dataset/cams-europe-air-quality-forecasts?tab=overview) "
   ]
  },
  {
   "cell_type": "markdown",
   "id": "b3bca8ee",
   "metadata": {},
   "source": [
    "Download and write .nc file for sulphur sioxide (SO2) over the study area:"
   ]
  },
  {
   "cell_type": "code",
   "execution_count": 22,
   "id": "3d783cd7",
   "metadata": {},
   "outputs": [
    {
     "name": "stderr",
     "output_type": "stream",
     "text": [
      "2022-04-05 10:14:58,897 INFO Welcome to the CDS\n",
      "2022-04-05 10:14:58,898 INFO Sending request to https://ads.atmosphere.copernicus.eu/api/v2/resources/cams-europe-air-quality-forecasts\n",
      "2022-04-05 10:14:58,936 INFO Request is queued\n",
      "2022-04-05 10:14:59,971 INFO Request is running\n",
      "2022-04-05 10:16:52,662 INFO Request is completed\n",
      "2022-04-05 10:16:52,663 INFO Downloading https://download-0002-ads-clone.copernicus-climate.eu/cache-compute-0002/cache/data0/adaptor.cams_regional_fc.retrieve-1649146588.1633084-16069-8-3ce37bd7-f3aa-40bd-87b5-de3351acc1de.nc to C:\\Users\\Administrator\\OneDrive - Politecnico di Milano\\WP2\\D-DUST/temp/so2_cams.nc (1.6M)\n",
      "2022-04-05 10:16:53,071 INFO Download rate 3.9M/s   \n"
     ]
    }
   ],
   "source": [
    "so2_path = cwd + r'/temp/so2_cams.nc'\n",
    "so2 = c_atm.retrieve(\n",
    "    'cams-europe-air-quality-forecasts',\n",
    "    {\n",
    "        'variable': 'sulphur_dioxide',\n",
    "        'model': 'ensemble',\n",
    "        'level': '0',\n",
    "        'date': start_date+'/'+end_date,\n",
    "        'type': 'analysis',\n",
    "        'time': [\n",
    "            '00:00', '01:00', '02:00',\n",
    "            '03:00', '04:00', '05:00',\n",
    "            '06:00', '07:00', '08:00',\n",
    "            '09:00', '10:00', '11:00',\n",
    "            '12:00', '13:00', '14:00',\n",
    "            '15:00', '16:00', '17:00',\n",
    "            '18:00', '19:00', '20:00',\n",
    "            '21:00', '22:00', '23:00',\n",
    "        ],\n",
    "        'leadtime_hour': '0',\n",
    "        'area': [\n",
    "            bounds[3], bounds[0], bounds[1],\n",
    "            bounds[2],\n",
    "        ],\n",
    "        'format': 'netcdf',\n",
    "    },\n",
    "    so2_path\n",
    "    )"
   ]
  },
  {
   "cell_type": "code",
   "execution_count": 23,
   "id": "2dc9530d",
   "metadata": {},
   "outputs": [],
   "source": [
    "so2 = xr.open_dataset(so2_path)"
   ]
  },
  {
   "cell_type": "code",
   "execution_count": 24,
   "id": "e043e188",
   "metadata": {},
   "outputs": [],
   "source": [
    "so2_mean = so2.mean(dim='time')"
   ]
  },
  {
   "cell_type": "code",
   "execution_count": 25,
   "id": "7cb4a0a0",
   "metadata": {},
   "outputs": [],
   "source": [
    "so2_mean.to_netcdf(so2_path)"
   ]
  },
  {
   "cell_type": "markdown",
   "id": "70f2f8b2",
   "metadata": {},
   "source": [
    "- - -"
   ]
  },
  {
   "cell_type": "markdown",
   "id": "c0a3d022",
   "metadata": {},
   "source": [
    "# [NO2 - Nitrogen Dioxide](https://ads.atmosphere.copernicus.eu/cdsapp#!/dataset/cams-europe-air-quality-forecasts?tab=overview) "
   ]
  },
  {
   "cell_type": "code",
   "execution_count": 26,
   "id": "8f3d4d3b",
   "metadata": {},
   "outputs": [
    {
     "name": "stderr",
     "output_type": "stream",
     "text": [
      "2022-04-05 10:16:53,213 INFO Welcome to the CDS\n",
      "2022-04-05 10:16:53,214 INFO Sending request to https://ads.atmosphere.copernicus.eu/api/v2/resources/cams-europe-air-quality-forecasts\n",
      "2022-04-05 10:16:53,259 INFO Request is queued\n",
      "2022-04-05 10:16:54,301 INFO Request is running\n",
      "2022-04-05 10:18:46,988 INFO Request is completed\n",
      "2022-04-05 10:18:46,988 INFO Downloading https://download-0002-ads-clone.copernicus-climate.eu/cache-compute-0002/cache/data0/adaptor.cams_regional_fc.retrieve-1649146701.3324254-16934-8-5f6b3355-92bf-4929-babd-bd17248db716.nc to C:\\Users\\Administrator\\OneDrive - Politecnico di Milano\\WP2\\D-DUST/temp/no2_cams.nc (1.6M)\n",
      "2022-04-05 10:18:47,338 INFO Download rate 4.6M/s   \n"
     ]
    }
   ],
   "source": [
    "no2_path = cwd + r'/temp/no2_cams.nc'\n",
    "no2 = c_atm.retrieve(\n",
    "    'cams-europe-air-quality-forecasts',\n",
    "    {\n",
    "        'variable': 'nitrogen_dioxide',\n",
    "        'model': 'ensemble',\n",
    "        'level': '0',\n",
    "        'date': start_date+'/'+end_date,\n",
    "        'type': 'analysis',\n",
    "        'time': [\n",
    "            '00:00', '01:00', '02:00',\n",
    "            '03:00', '04:00', '05:00',\n",
    "            '06:00', '07:00', '08:00',\n",
    "            '09:00', '10:00', '11:00',\n",
    "            '12:00', '13:00', '14:00',\n",
    "            '15:00', '16:00', '17:00',\n",
    "            '18:00', '19:00', '20:00',\n",
    "            '21:00', '22:00', '23:00',\n",
    "        ],\n",
    "        'leadtime_hour': '0',\n",
    "        'area': [\n",
    "            bounds[3], bounds[0], bounds[1],\n",
    "            bounds[2],\n",
    "        ],\n",
    "        'format': 'netcdf',\n",
    "    },\n",
    "    no2_path\n",
    "    )"
   ]
  },
  {
   "cell_type": "code",
   "execution_count": 27,
   "id": "acc56fcd",
   "metadata": {},
   "outputs": [],
   "source": [
    "no2 = xr.open_dataset(no2_path)"
   ]
  },
  {
   "cell_type": "code",
   "execution_count": 28,
   "id": "1a531f79",
   "metadata": {},
   "outputs": [],
   "source": [
    "no2_mean = no2.mean(dim='time')"
   ]
  },
  {
   "cell_type": "code",
   "execution_count": 29,
   "id": "a3c72e80",
   "metadata": {},
   "outputs": [],
   "source": [
    "no2_mean.to_netcdf(no2_path)"
   ]
  },
  {
   "cell_type": "markdown",
   "id": "73484d5c",
   "metadata": {},
   "source": [
    "- - -"
   ]
  },
  {
   "cell_type": "markdown",
   "id": "51fba870",
   "metadata": {},
   "source": [
    "# [NO - Nitrogen Monoxide](https://ads.atmosphere.copernicus.eu/cdsapp#!/dataset/cams-europe-air-quality-forecasts?tab=overview)"
   ]
  },
  {
   "cell_type": "code",
   "execution_count": 30,
   "id": "8bc8305f",
   "metadata": {},
   "outputs": [
    {
     "name": "stderr",
     "output_type": "stream",
     "text": [
      "2022-04-05 10:18:47,483 INFO Welcome to the CDS\n",
      "2022-04-05 10:18:47,484 INFO Sending request to https://ads.atmosphere.copernicus.eu/api/v2/resources/cams-europe-air-quality-forecasts\n",
      "2022-04-05 10:18:47,524 INFO Request is queued\n",
      "2022-04-05 10:18:48,568 INFO Request is running\n",
      "2022-04-05 10:20:41,277 INFO Request is completed\n",
      "2022-04-05 10:20:41,278 INFO Downloading https://download-0002-ads-clone.copernicus-climate.eu/cache-compute-0002/cache/data1/adaptor.cams_regional_fc.retrieve-1649146815.7812655-11017-14-b774c18f-ba41-41cb-87ee-1d4a8c516e17.nc to C:\\Users\\Administrator\\OneDrive - Politecnico di Milano\\WP2\\D-DUST/temp/no_cams.nc (1.6M)\n",
      "2022-04-05 10:20:41,598 INFO Download rate 5M/s     \n"
     ]
    }
   ],
   "source": [
    "no_path = cwd + r'/temp/no_cams.nc'\n",
    "no = c_atm.retrieve(\n",
    "    'cams-europe-air-quality-forecasts',\n",
    "    {\n",
    "        'variable': 'nitrogen_monoxide',\n",
    "        'model': 'ensemble',\n",
    "        'level': '0',\n",
    "        'date': start_date+'/'+end_date,\n",
    "        'type': 'analysis',\n",
    "        'time': [\n",
    "            '00:00', '01:00', '02:00',\n",
    "            '03:00', '04:00', '05:00',\n",
    "            '06:00', '07:00', '08:00',\n",
    "            '09:00', '10:00', '11:00',\n",
    "            '12:00', '13:00', '14:00',\n",
    "            '15:00', '16:00', '17:00',\n",
    "            '18:00', '19:00', '20:00',\n",
    "            '21:00', '22:00', '23:00',\n",
    "        ],\n",
    "        'leadtime_hour': '0',\n",
    "        'area': [\n",
    "            bounds[3], bounds[0], bounds[1],\n",
    "            bounds[2],\n",
    "        ],\n",
    "        'format': 'netcdf',\n",
    "    },\n",
    "    no_path\n",
    "    )"
   ]
  },
  {
   "cell_type": "code",
   "execution_count": 31,
   "id": "bbe636f1",
   "metadata": {},
   "outputs": [],
   "source": [
    "no = xr.open_dataset(no_path)"
   ]
  },
  {
   "cell_type": "code",
   "execution_count": 32,
   "id": "b88fa2e1",
   "metadata": {},
   "outputs": [],
   "source": [
    "no_mean = no.mean(dim='time')"
   ]
  },
  {
   "cell_type": "code",
   "execution_count": 33,
   "id": "566176d1",
   "metadata": {},
   "outputs": [],
   "source": [
    "no_mean.to_netcdf(no_path)"
   ]
  },
  {
   "cell_type": "markdown",
   "id": "03250b75",
   "metadata": {},
   "source": [
    "- - -"
   ]
  },
  {
   "cell_type": "markdown",
   "id": "d95aa5ab",
   "metadata": {},
   "source": [
    "# [CO - Carbon Monoxide](https://ads.atmosphere.copernicus.eu/cdsapp#!/dataset/cams-europe-air-quality-forecasts?tab=overview)"
   ]
  },
  {
   "cell_type": "code",
   "execution_count": 34,
   "id": "94dbfb83",
   "metadata": {},
   "outputs": [
    {
     "name": "stderr",
     "output_type": "stream",
     "text": [
      "2022-04-05 10:20:41,752 INFO Welcome to the CDS\n",
      "2022-04-05 10:20:41,753 INFO Sending request to https://ads.atmosphere.copernicus.eu/api/v2/resources/cams-europe-air-quality-forecasts\n",
      "2022-04-05 10:20:41,793 INFO Request is queued\n",
      "2022-04-05 10:20:42,840 INFO Request is running\n",
      "2022-04-05 10:22:35,549 INFO Request is completed\n",
      "2022-04-05 10:22:35,550 INFO Downloading https://download-0003-ads-clone.copernicus-climate.eu/cache-compute-0003/cache/data3/adaptor.cams_regional_fc.retrieve-1649146930.5851908-14353-2-02149af4-acf1-4658-b83a-ba4a2310d21c.nc to C:\\Users\\Administrator\\OneDrive - Politecnico di Milano\\WP2\\D-DUST/temp/co_cams.nc (1.6M)\n",
      "2022-04-05 10:22:35,971 INFO Download rate 3.8M/s   \n"
     ]
    }
   ],
   "source": [
    "co_path = cwd + r'/temp/co_cams.nc'\n",
    "co = c_atm.retrieve(\n",
    "    'cams-europe-air-quality-forecasts',\n",
    "    {\n",
    "        'variable': 'carbon_monoxide',\n",
    "        'model': 'ensemble',\n",
    "        'level': '0',\n",
    "        'date': start_date+'/'+end_date,\n",
    "        'type': 'analysis',\n",
    "        'time': [\n",
    "            '00:00', '01:00', '02:00',\n",
    "            '03:00', '04:00', '05:00',\n",
    "            '06:00', '07:00', '08:00',\n",
    "            '09:00', '10:00', '11:00',\n",
    "            '12:00', '13:00', '14:00',\n",
    "            '15:00', '16:00', '17:00',\n",
    "            '18:00', '19:00', '20:00',\n",
    "            '21:00', '22:00', '23:00',\n",
    "        ],\n",
    "        'leadtime_hour': '0',\n",
    "        'area': [\n",
    "            bounds[3], bounds[0], bounds[1],\n",
    "            bounds[2],\n",
    "        ],\n",
    "        'format': 'netcdf',\n",
    "    },\n",
    "    co_path\n",
    "    )"
   ]
  },
  {
   "cell_type": "code",
   "execution_count": 35,
   "id": "6898d246",
   "metadata": {},
   "outputs": [],
   "source": [
    "co = xr.open_dataset(co_path)"
   ]
  },
  {
   "cell_type": "code",
   "execution_count": 36,
   "id": "745ad796",
   "metadata": {},
   "outputs": [],
   "source": [
    "co_mean = co.mean(dim='time')"
   ]
  },
  {
   "cell_type": "code",
   "execution_count": 37,
   "id": "acaea161",
   "metadata": {},
   "outputs": [],
   "source": [
    "co_mean.to_netcdf(co_path)"
   ]
  },
  {
   "cell_type": "markdown",
   "id": "adddfe3f",
   "metadata": {},
   "source": [
    "---"
   ]
  },
  {
   "cell_type": "markdown",
   "id": "6f665a3f",
   "metadata": {},
   "source": [
    "# [O3 - Ozone](https://ads.atmosphere.copernicus.eu/cdsapp#!/dataset/cams-europe-air-quality-forecasts?tab=overview)"
   ]
  },
  {
   "cell_type": "code",
   "execution_count": 38,
   "id": "21230b1e",
   "metadata": {},
   "outputs": [
    {
     "name": "stderr",
     "output_type": "stream",
     "text": [
      "2022-04-05 10:22:36,116 INFO Welcome to the CDS\n",
      "2022-04-05 10:22:36,117 INFO Sending request to https://ads.atmosphere.copernicus.eu/api/v2/resources/cams-europe-air-quality-forecasts\n",
      "2022-04-05 10:22:36,167 INFO Request is queued\n",
      "2022-04-05 10:22:37,208 INFO Request is running\n",
      "2022-04-05 10:24:29,928 INFO Request is completed\n",
      "2022-04-05 10:24:29,929 INFO Downloading https://download-0000-ads-clone.copernicus-climate.eu/cache-compute-0000/cache/data1/adaptor.cams_regional_fc.retrieve-1649147042.3594909-29202-8-6e5d5df9-1411-40f0-baff-71abdb98062a.nc to C:\\Users\\Administrator\\OneDrive - Politecnico di Milano\\WP2\\D-DUST/temp/o3_cams.nc (1.6M)\n",
      "2022-04-05 10:24:30,272 INFO Download rate 4.6M/s   \n"
     ]
    }
   ],
   "source": [
    "o3_path = cwd + r'/temp/o3_cams.nc'\n",
    "o3 = c_atm.retrieve(\n",
    "    'cams-europe-air-quality-forecasts',\n",
    "    {\n",
    "        'variable': 'ozone',\n",
    "        'model': 'ensemble',\n",
    "        'level': '0',\n",
    "        'date': start_date+'/'+end_date,\n",
    "        'type': 'analysis',\n",
    "        'time': [\n",
    "            '00:00', '01:00', '02:00',\n",
    "            '03:00', '04:00', '05:00',\n",
    "            '06:00', '07:00', '08:00',\n",
    "            '09:00', '10:00', '11:00',\n",
    "            '12:00', '13:00', '14:00',\n",
    "            '15:00', '16:00', '17:00',\n",
    "            '18:00', '19:00', '20:00',\n",
    "            '21:00', '22:00', '23:00',\n",
    "        ],\n",
    "        'leadtime_hour': '0',\n",
    "        'area': [\n",
    "            bounds[3], bounds[0], bounds[1],\n",
    "            bounds[2],\n",
    "        ],\n",
    "        'format': 'netcdf',\n",
    "    },\n",
    "    o3_path\n",
    "    )"
   ]
  },
  {
   "cell_type": "code",
   "execution_count": 39,
   "id": "ddf9a537",
   "metadata": {},
   "outputs": [],
   "source": [
    "o3 = xr.open_dataset(o3_path)"
   ]
  },
  {
   "cell_type": "code",
   "execution_count": 40,
   "id": "255d6bc3",
   "metadata": {},
   "outputs": [],
   "source": [
    "o3_mean = o3.mean(dim='time')"
   ]
  },
  {
   "cell_type": "code",
   "execution_count": 41,
   "id": "696964e3",
   "metadata": {},
   "outputs": [],
   "source": [
    "o3_mean.to_netcdf(o3_path)"
   ]
  },
  {
   "cell_type": "markdown",
   "id": "7484d19f",
   "metadata": {},
   "source": [
    "---"
   ]
  },
  {
   "cell_type": "markdown",
   "id": "d0f0e461",
   "metadata": {
    "tags": []
   },
   "source": [
    "# [Dust](https://ads.atmosphere.copernicus.eu/cdsapp#!/dataset/cams-europe-air-quality-forecasts?tab=overview)"
   ]
  },
  {
   "cell_type": "code",
   "execution_count": 1,
   "id": "27ee3eba",
   "metadata": {},
   "outputs": [
    {
     "ename": "NameError",
     "evalue": "name 'cwd' is not defined",
     "output_type": "error",
     "traceback": [
      "\u001b[1;31m---------------------------------------------------------------------------\u001b[0m",
      "\u001b[1;31mNameError\u001b[0m                                 Traceback (most recent call last)",
      "Input \u001b[1;32mIn [1]\u001b[0m, in \u001b[0;36m<module>\u001b[1;34m\u001b[0m\n\u001b[1;32m----> 1\u001b[0m dust_path \u001b[38;5;241m=\u001b[39m \u001b[43mcwd\u001b[49m \u001b[38;5;241m+\u001b[39m \u001b[38;5;124mr\u001b[39m\u001b[38;5;124m'\u001b[39m\u001b[38;5;124m/temp/dust_cams.nc\u001b[39m\u001b[38;5;124m'\u001b[39m\n\u001b[0;32m      2\u001b[0m dust \u001b[38;5;241m=\u001b[39m c_atm\u001b[38;5;241m.\u001b[39mretrieve(\n\u001b[0;32m      3\u001b[0m     \u001b[38;5;124m'\u001b[39m\u001b[38;5;124mcams-europe-air-quality-forecasts\u001b[39m\u001b[38;5;124m'\u001b[39m,\n\u001b[0;32m      4\u001b[0m     {\n\u001b[1;32m   (...)\u001b[0m\n\u001b[0;32m     27\u001b[0m     dust_path\n\u001b[0;32m     28\u001b[0m     )\n",
      "\u001b[1;31mNameError\u001b[0m: name 'cwd' is not defined"
     ]
    }
   ],
   "source": [
    "dust_path = cwd + r'/temp/dust_cams.nc'\n",
    "dust = c_atm.retrieve(\n",
    "    'cams-europe-air-quality-forecasts',\n",
    "    {\n",
    "        'variable': 'dust',\n",
    "        'model': 'ensemble',\n",
    "        'level': '0',\n",
    "        'date': start_date+'/'+end_date,\n",
    "        'type': 'analysis',\n",
    "        'time': [\n",
    "            '00:00', '01:00', '02:00',\n",
    "            '03:00', '04:00', '05:00',\n",
    "            '06:00', '07:00', '08:00',\n",
    "            '09:00', '10:00', '11:00',\n",
    "            '12:00', '13:00', '14:00',\n",
    "            '15:00', '16:00', '17:00',\n",
    "            '18:00', '19:00', '20:00',\n",
    "            '21:00', '22:00', '23:00',\n",
    "        ],\n",
    "        'leadtime_hour': '0',\n",
    "        'area': [\n",
    "            bounds[3], bounds[0], bounds[1],\n",
    "            bounds[2],\n",
    "        ],\n",
    "        'format': 'netcdf',\n",
    "    },\n",
    "    dust_path\n",
    "    )"
   ]
  },
  {
   "cell_type": "code",
   "execution_count": 43,
   "id": "90b85837",
   "metadata": {},
   "outputs": [],
   "source": [
    "dust = xr.open_dataset(dust_path)"
   ]
  },
  {
   "cell_type": "code",
   "execution_count": 44,
   "id": "8ffab273",
   "metadata": {},
   "outputs": [],
   "source": [
    "dust_mean = dust.mean(dim='time')"
   ]
  },
  {
   "cell_type": "code",
   "execution_count": 45,
   "id": "e95419fe",
   "metadata": {},
   "outputs": [],
   "source": [
    "dust_mean.to_netcdf(dust_path)"
   ]
  },
  {
   "cell_type": "markdown",
   "id": "4aa46b02",
   "metadata": {},
   "source": [
    "# [PM10 - Particulate Matter](https://ads.atmosphere.copernicus.eu/cdsapp#!/dataset/cams-europe-air-quality-forecasts?tab=overview)"
   ]
  },
  {
   "cell_type": "code",
   "execution_count": 46,
   "id": "cc5202e0",
   "metadata": {
    "scrolled": true
   },
   "outputs": [
    {
     "name": "stderr",
     "output_type": "stream",
     "text": [
      "2022-04-05 10:26:24,785 INFO Welcome to the CDS\n",
      "2022-04-05 10:26:24,786 INFO Sending request to https://ads.atmosphere.copernicus.eu/api/v2/resources/cams-europe-air-quality-forecasts\n",
      "2022-04-05 10:26:24,823 INFO Request is queued\n",
      "2022-04-05 10:26:25,866 INFO Request is running\n",
      "2022-04-05 10:28:18,585 INFO Request is completed\n",
      "2022-04-05 10:28:18,586 INFO Downloading https://download-0000-ads-clone.copernicus-climate.eu/cache-compute-0000/cache/data7/adaptor.cams_regional_fc.retrieve-1649147267.8785212-31110-1-ad55a589-11e5-4fe0-9e06-d38dd1cf98bf.nc to C:\\Users\\Administrator\\OneDrive - Politecnico di Milano\\WP2\\D-DUST/temp/pm10_cams.nc (1.6M)\n",
      "2022-04-05 10:28:18,940 INFO Download rate 4.5M/s   \n"
     ]
    }
   ],
   "source": [
    "pm10_path = cwd + r'/temp/pm10_cams.nc'\n",
    "pm10 = c_atm.retrieve(\n",
    "    'cams-europe-air-quality-forecasts',\n",
    "    {\n",
    "        'model': 'ensemble',\n",
    "        'date': start_date+'/'+end_date,\n",
    "        'format': 'netcdf',\n",
    "        'level': '0',\n",
    "        'type': 'analysis',\n",
    "        'variable': 'particulate_matter_10um',\n",
    "        'leadtime_hour': '0',\n",
    "        'time': [\n",
    "            '00:00', '01:00', '02:00',\n",
    "            '03:00', '04:00', '05:00',\n",
    "            '06:00', '07:00', '08:00',\n",
    "            '09:00', '10:00', '11:00',\n",
    "            '12:00', '13:00', '14:00',\n",
    "            '15:00', '16:00', '17:00',\n",
    "            '18:00', '19:00', '20:00',\n",
    "            '21:00', '22:00', '23:00',\n",
    "        ],\n",
    "        'area': [\n",
    "            bounds[3], bounds[0], bounds[1],\n",
    "            bounds[2]],\n",
    "        'format': 'netcdf'\n",
    "    },\n",
    "    pm10_path)"
   ]
  },
  {
   "cell_type": "code",
   "execution_count": 47,
   "id": "3bcf9d0c",
   "metadata": {},
   "outputs": [],
   "source": [
    "pm10 = xr.open_dataset(pm10_path)"
   ]
  },
  {
   "cell_type": "code",
   "execution_count": 48,
   "id": "6f5cc72d",
   "metadata": {},
   "outputs": [],
   "source": [
    "pm10_mean = pm10.mean(dim='time')"
   ]
  },
  {
   "cell_type": "code",
   "execution_count": 49,
   "id": "37709319",
   "metadata": {},
   "outputs": [],
   "source": [
    "pm10_mean.to_netcdf(pm10_path)"
   ]
  },
  {
   "cell_type": "markdown",
   "id": "f52628ac",
   "metadata": {},
   "source": [
    "# [NMVOCs - Non Methane VOCs](https://ads.atmosphere.copernicus.eu/cdsapp#!/dataset/cams-europe-air-quality-forecasts?tab=overview)"
   ]
  },
  {
   "cell_type": "code",
   "execution_count": 50,
   "id": "264161a2",
   "metadata": {},
   "outputs": [
    {
     "name": "stderr",
     "output_type": "stream",
     "text": [
      "2022-04-05 10:28:19,076 INFO Welcome to the CDS\n",
      "2022-04-05 10:28:19,077 INFO Sending request to https://ads.atmosphere.copernicus.eu/api/v2/resources/cams-europe-air-quality-forecasts\n",
      "2022-04-05 10:28:19,117 INFO Request is queued\n",
      "2022-04-05 10:28:20,153 INFO Request is running\n",
      "2022-04-05 10:30:12,851 INFO Request is completed\n",
      "2022-04-05 10:30:12,852 INFO Downloading https://download-0001-ads-clone.copernicus-climate.eu/cache-compute-0001/cache/data0/adaptor.cams_regional_fc.retrieve-1649147383.6578252-7909-13-fa671371-f8b5-4e9b-8302-df70c9f4de1b.nc to C:\\Users\\Administrator\\OneDrive - Politecnico di Milano\\WP2\\D-DUST/temp/nmvocs_cams.nc (1.6M)\n",
      "2022-04-05 10:30:13,201 INFO Download rate 4.6M/s   \n"
     ]
    }
   ],
   "source": [
    "nmvocs_path = cwd + r'/temp/nmvocs_cams.nc'\n",
    "nmvocs = c_atm.retrieve(\n",
    "    'cams-europe-air-quality-forecasts',\n",
    "    {\n",
    "        'model': 'ensemble',\n",
    "        'date': start_date+'/'+end_date,\n",
    "        'format': 'netcdf',\n",
    "        'level': '0',\n",
    "        'type': 'analysis',\n",
    "        'variable': 'non_methane_vocs',\n",
    "        'leadtime_hour': '0',\n",
    "        'time': [\n",
    "            '00:00', '01:00', '02:00',\n",
    "            '03:00', '04:00', '05:00',\n",
    "            '06:00', '07:00', '08:00',\n",
    "            '09:00', '10:00', '11:00',\n",
    "            '12:00', '13:00', '14:00',\n",
    "            '15:00', '16:00', '17:00',\n",
    "            '18:00', '19:00', '20:00',\n",
    "            '21:00', '22:00', '23:00',\n",
    "        ],\n",
    "        'area': [\n",
    "            bounds[3], bounds[0], bounds[1],\n",
    "            bounds[2]],\n",
    "        'format': 'netcdf'\n",
    "    },\n",
    "    nmvocs_path)"
   ]
  },
  {
   "cell_type": "code",
   "execution_count": 51,
   "id": "83cf504c",
   "metadata": {},
   "outputs": [],
   "source": [
    "nmvocs = xr.open_dataset(nmvocs_path)"
   ]
  },
  {
   "cell_type": "code",
   "execution_count": 52,
   "id": "649f287d",
   "metadata": {},
   "outputs": [],
   "source": [
    "nmvocs_mean = nmvocs.mean(dim='time')"
   ]
  },
  {
   "cell_type": "code",
   "execution_count": 53,
   "id": "a947c8ca",
   "metadata": {},
   "outputs": [],
   "source": [
    "nmvocs_mean.to_netcdf(nmvocs_path)"
   ]
  },
  {
   "cell_type": "markdown",
   "id": "a45bcdae",
   "metadata": {},
   "source": [
    "---"
   ]
  },
  {
   "cell_type": "markdown",
   "id": "d317c226",
   "metadata": {},
   "source": [
    "# [ECMWF ERA-5 Climate Reanalysis](https://developers.google.com/earth-engine/datasets/catalog/ECMWF_ERA5_LAND_HOURLY) "
   ]
  },
  {
   "cell_type": "code",
   "execution_count": 54,
   "id": "662c180f",
   "metadata": {},
   "outputs": [
    {
     "data": {
      "application/vnd.jupyter.widget-view+json": {
       "model_id": "4305e6a7bbf24b81afec103fccc17868",
       "version_major": 2,
       "version_minor": 0
      },
      "text/plain": [
       "Map(center=[45.5, 10], controls=(WidgetControl(options=['position', 'transparent_bg'], widget=HBox(children=(T…"
      ]
     },
     "metadata": {},
     "output_type": "display_data"
    }
   ],
   "source": [
    "Map_era5 = geemap.Map(center=[45.5,10], zoom = 7 )\n",
    "Map_era5"
   ]
  },
  {
   "cell_type": "code",
   "execution_count": 55,
   "id": "7ff92d64",
   "metadata": {},
   "outputs": [],
   "source": [
    "# Daily mean 2m air temperature\n",
    "temp_2m = ee.ImageCollection('ECMWF/ERA5_LAND/HOURLY')\\\n",
    "                   .select('temperature_2m')\\\n",
    "                   .filter(ee.Filter.date(start_date, end_date));\n",
    "\n",
    "# Daily total precipitation sums\n",
    "prec = ee.ImageCollection('ECMWF/ERA5_LAND/HOURLY')\\\n",
    "                  .select('total_precipitation')\\\n",
    "                  .filter(ee.Filter.date(start_date, end_date));\n",
    "\n",
    "# Daily mean surface pressure\n",
    "press = ee.ImageCollection('ECMWF/ERA5_LAND/HOURLY')\\\n",
    "                  .select('surface_pressure')\\\n",
    "                  .filter(ee.Filter.date(start_date, end_date));\n",
    "\n",
    "# Daily mean 10m u-component of wind\n",
    "u_wind = ee.ImageCollection('ECMWF/ERA5_LAND/HOURLY')\\\n",
    "                          .select('u_component_of_wind_10m')\\\n",
    "                          .filter(ee.Filter.date(start_date, end_date));\n",
    "\n",
    "# Daily mean 10m v-component of wind\n",
    "v_wind = ee.ImageCollection('ECMWF/ERA5_LAND/HOURLY')\\\n",
    "                          .select('v_component_of_wind_10m')\\\n",
    "                          .filter(ee.Filter.date(start_date, end_date));\n",
    "\n",
    "\n",
    "# Daily volumetric soil water content (level 1)\n",
    "hum = ee.ImageCollection('ECMWF/ERA5_LAND/HOURLY')\\\n",
    "                          .select('volumetric_soil_water_layer_1')\\\n",
    "                          .filter(ee.Filter.date(start_date, end_date));\n",
    "\n",
    "\n",
    "# Visualization palette for temperature at 2m\n",
    "temp_2m_viz  = {\n",
    "  'min': 220,\n",
    "  'max': 304,\n",
    "  'palette': ['#FFFFFF', '#00FFFF', '#0080FF', '#DA00FF', '#FFA400', '#FF0000']\n",
    "};\n",
    "\n",
    "# Visualization palette for pressure (surface pressure)\n",
    "press_viz = {\n",
    "  'min': 65000,\n",
    "  'max': 120000,\n",
    "  'palette': [\n",
    "    '#01FFFF', '#058BFF', '#0600FF', '#DF00FF', '#FF00FF', '#FF8C00', '#FF8C00'\n",
    "  ]\n",
    "};\n",
    "\n",
    "# Visualization palette for total precipitation\n",
    "prec_viz  = {\n",
    "  'min': 0,\n",
    "  'max': 0.1,\n",
    "  'palette': ['#FFFFFF', '#00FFFF', '#0080FF', '#DA00FF', '#FFA400', '#FF0000']\n",
    "};\n",
    "\n",
    "# Visualization palette for u-component of 10m wind\n",
    "u_wind_viz = {\n",
    "  'min': 0,\n",
    "  'max': 30,\n",
    "  'palette': [\n",
    "    '#FFFFFF', '#FFFF71', '#DEFF00', '#9EFF00', '#77B038', '#007E55', '#005F51',\n",
    "    '#004B51', '#013A7B', '#023AAD'\n",
    "  ]\n",
    "}\n",
    "                           \n",
    "# Visualization palette for v-component of 10m wind\n",
    "v_wind_viz = {\n",
    "  'min': 0,\n",
    "  'max': 30,\n",
    "  'palette': [\n",
    "    '#FFFFFF', '#FFFF71', '#DEFF00', '#9EFF00', '#77B038', '#007E55', '#005F51',\n",
    "    '#004B51', '#013A7B', '#023AAD'\n",
    "  ]\n",
    "};\n",
    "\n",
    "# Visualization palette for soil humitidy\n",
    "hum_viz = {\n",
    "  'min': 0,\n",
    "  'max': 1,\n",
    "  'palette': [\n",
    "    '#FFFFFF', '#FFFF71', '#DEFF00', '#9EFF00', '#77B038', '#007E55', '#005F51',\n",
    "    '#004B51', '#013A7B', '#023AAD'\n",
    "  ]\n",
    "};\n",
    "\n",
    "temp_2m = temp_2m.mean()\n",
    "press = press.mean()\n",
    "prec = prec.mean()\n",
    "u_wind = u_wind.mean()\n",
    "v_wind = v_wind.mean()\n",
    "hum = hum.mean()"
   ]
  },
  {
   "cell_type": "code",
   "execution_count": 56,
   "id": "db73efb0",
   "metadata": {},
   "outputs": [],
   "source": [
    "#Clip over the ROI previously defined\n",
    "temp_2m_clip = temp_2m.clip(roi)\n",
    "press_clip = press.clip(roi)\n",
    "prec_clip = prec.clip(roi)\n",
    "u_wind_clip = u_wind.clip(roi)\n",
    "v_wind_clip = v_wind.clip(roi)\n",
    "hum_clip = hum.clip(roi)\n",
    "\n",
    "Map_era5.addLayer(temp_2m_clip, temp_2m_viz, '2m temperature');\n",
    "Map_era5.addLayer(press_clip, press_viz, 'press');\n",
    "Map_era5.addLayer(prec_clip, prec_viz, 'precipitation');\n",
    "Map_era5.addLayer(u_wind_clip, u_wind_viz, 'u wind');\n",
    "Map_era5.addLayer(v_wind_clip, v_wind_viz, 'v wind');\n",
    "Map_era5.addLayer(hum_clip, hum_viz, 'soil humitidy');"
   ]
  },
  {
   "cell_type": "code",
   "execution_count": 57,
   "id": "178273df",
   "metadata": {},
   "outputs": [
    {
     "name": "stdout",
     "output_type": "stream",
     "text": [
      "Generating URL ...\n",
      "Downloading data from https://earthengine.googleapis.com/v1alpha/projects/earthengine-legacy/thumbnails/367f8e9a50af5e9ea53336ebbe8c381b-02e80bedae97ba95f2c48d4b5ff31ccb:getPixels\n",
      "Please wait ...\n",
      "Data downloaded to C:\\Users\\Administrator\\OneDrive - Politecnico di Milano\\WP2\\D-DUST\\temp\\temp_2m.tif\n"
     ]
    }
   ],
   "source": [
    "out_dir = os.path.expanduser(cwd + '/temp')\n",
    "filename = os.path.join(out_dir, 'temp_2m.tif')\n",
    "geemap.ee_export_image(temp_2m_clip, filename=filename, scale=1000)"
   ]
  },
  {
   "cell_type": "code",
   "execution_count": 58,
   "id": "d43232d8",
   "metadata": {},
   "outputs": [
    {
     "name": "stdout",
     "output_type": "stream",
     "text": [
      "Generating URL ...\n",
      "Downloading data from https://earthengine.googleapis.com/v1alpha/projects/earthengine-legacy/thumbnails/c7412133416bdae9e6ced043eab6f857-b6832738bd69bb9a557f05fe1cd34d92:getPixels\n",
      "Please wait ...\n",
      "Data downloaded to C:\\Users\\Administrator\\OneDrive - Politecnico di Milano\\WP2\\D-DUST\\temp\\press.tif\n"
     ]
    }
   ],
   "source": [
    "out_dir = os.path.expanduser(cwd + '/temp')\n",
    "filename = os.path.join(out_dir, 'press.tif')\n",
    "geemap.ee_export_image(press_clip, filename=filename, scale=1000)"
   ]
  },
  {
   "cell_type": "code",
   "execution_count": 59,
   "id": "926415dc",
   "metadata": {},
   "outputs": [
    {
     "name": "stdout",
     "output_type": "stream",
     "text": [
      "Generating URL ...\n",
      "Downloading data from https://earthengine.googleapis.com/v1alpha/projects/earthengine-legacy/thumbnails/c04d08e710508de25853baa2344899a3-677b8d017b744458ea6ed5ac69403503:getPixels\n",
      "Please wait ...\n",
      "Data downloaded to C:\\Users\\Administrator\\OneDrive - Politecnico di Milano\\WP2\\D-DUST\\temp\\prec.tif\n"
     ]
    }
   ],
   "source": [
    "out_dir = os.path.expanduser(cwd + '/temp')\n",
    "filename = os.path.join(out_dir, 'prec.tif')\n",
    "geemap.ee_export_image(prec_clip, filename=filename, scale=1000)"
   ]
  },
  {
   "cell_type": "code",
   "execution_count": 60,
   "id": "344a37cf",
   "metadata": {},
   "outputs": [
    {
     "name": "stdout",
     "output_type": "stream",
     "text": [
      "Generating URL ...\n",
      "Downloading data from https://earthengine.googleapis.com/v1alpha/projects/earthengine-legacy/thumbnails/cc45af944f246f41c23a143039bb39a3-616d2b06d88dde0bb1623e1f5446655b:getPixels\n",
      "Please wait ...\n",
      "Data downloaded to C:\\Users\\Administrator\\OneDrive - Politecnico di Milano\\WP2\\D-DUST\\temp\\e_wind.tif\n"
     ]
    }
   ],
   "source": [
    "out_dir = os.path.expanduser(cwd + '/temp')\n",
    "filename = os.path.join(out_dir, 'e_wind.tif')\n",
    "geemap.ee_export_image(u_wind_clip, filename=filename, scale=1000)"
   ]
  },
  {
   "cell_type": "code",
   "execution_count": 61,
   "id": "2c5ab878",
   "metadata": {},
   "outputs": [
    {
     "name": "stdout",
     "output_type": "stream",
     "text": [
      "Generating URL ...\n",
      "Downloading data from https://earthengine.googleapis.com/v1alpha/projects/earthengine-legacy/thumbnails/41c710c1aa00da00d090a74b45b9b96c-dad4d1dabf48173b8ecf95605696456e:getPixels\n",
      "Please wait ...\n",
      "Data downloaded to C:\\Users\\Administrator\\OneDrive - Politecnico di Milano\\WP2\\D-DUST\\temp\\n_wind.tif\n"
     ]
    }
   ],
   "source": [
    "out_dir = os.path.expanduser(cwd + '/temp')\n",
    "filename = os.path.join(out_dir, 'n_wind.tif')\n",
    "geemap.ee_export_image(v_wind_clip, filename=filename, scale=1000)"
   ]
  },
  {
   "cell_type": "code",
   "execution_count": 62,
   "id": "b772ba4d",
   "metadata": {},
   "outputs": [
    {
     "name": "stdout",
     "output_type": "stream",
     "text": [
      "Generating URL ...\n",
      "Downloading data from https://earthengine.googleapis.com/v1alpha/projects/earthengine-legacy/thumbnails/e65adc5813d76b1e41ce0408499284bc-ff3c0d66596781c192e3a9d7083c55d9:getPixels\n",
      "Please wait ...\n",
      "Data downloaded to C:\\Users\\Administrator\\OneDrive - Politecnico di Milano\\WP2\\D-DUST\\temp\\soil_hum.tif\n"
     ]
    }
   ],
   "source": [
    "out_dir = os.path.expanduser(cwd + '/temp')\n",
    "filename = os.path.join(out_dir, 'soil_hum.tif')\n",
    "geemap.ee_export_image(hum_clip, filename=filename, scale=1000)"
   ]
  },
  {
   "cell_type": "code",
   "execution_count": null,
   "id": "c6188b5a",
   "metadata": {},
   "outputs": [],
   "source": []
  }
 ],
 "metadata": {
  "kernelspec": {
   "display_name": "Python 3 (ipykernel)",
   "language": "python",
   "name": "python3"
  },
  "language_info": {
   "codemirror_mode": {
    "name": "ipython",
    "version": 3
   },
   "file_extension": ".py",
   "mimetype": "text/x-python",
   "name": "python",
   "nbconvert_exporter": "python",
   "pygments_lexer": "ipython3",
   "version": "3.9.10"
  }
 },
 "nbformat": 4,
 "nbformat_minor": 5
}
