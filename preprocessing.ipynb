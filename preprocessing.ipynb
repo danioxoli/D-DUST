{
 "cells": [
  {
   "cell_type": "markdown",
   "id": "8a595331",
   "metadata": {},
   "source": [
    "# D-DUST Data Pre-Processing Notebook"
   ]
  },
  {
   "cell_type": "markdown",
   "id": "901b5dae",
   "metadata": {},
   "source": [
    "Check the following link to Data Management Plan and the Variable list table: <br>\n",
    "**1. [Data Management Plan (DMP)](https://docs.google.com/document/d/1n3PVat7PBTG76JnINOkL2pvBZuKQlakZkTgqNj39oAQ/edit#)**<br>\n",
    "**2. [Variables list table](https://docs.google.com/spreadsheets/d/1-5pwMSc1QlFyC8iIaA-l1fWhWtpqVio2/edit#gid=91313358)**"
   ]
  },
  {
   "cell_type": "markdown",
   "id": "47a6f2f5",
   "metadata": {},
   "source": [
    "This notebook describes the physical variables selected for the project and how they are preprocessed.\n",
    "These variables are divided into <u>4 categories</u>, as shown in the Variable list table:\n",
    "1. **Map Layer**: static layer used to describe Lombardy region morphology and its features (such as elevation, infrastructures, land use and cover etc.)\n",
    "2. **Model**: data retrieved from a model that uses satellite and in-situ observations of meteorological and air quality data as input (such as ERA5, CAMS).\n",
    "3. **Satellite**: data obtained directly from satellite observations (such as Sentinel-5P).\n",
    "4. **Ground Sensor**: data retrieved from ground monitoring stations measuring air quality and meteorological variables."
   ]
  },
  {
   "cell_type": "markdown",
   "id": "a7b0316e",
   "metadata": {},
   "source": [
    "## Import libraries"
   ]
  },
  {
   "cell_type": "code",
   "execution_count": null,
   "id": "eff716c0",
   "metadata": {},
   "outputs": [],
   "source": [
    "import os\n",
    "import pandas as pd\n",
    "import geopandas as gpd\n",
    "import numpy as np\n",
    "import rasterio as rio\n",
    "import rasterstats as rstat\n",
    "import shapely.speedups\n",
    "from shapely.geometry import shape\n",
    "from shapely.geometry import  MultiLineString\n",
    "shapely.speedups.enable()"
   ]
  },
  {
   "cell_type": "code",
   "execution_count": null,
   "id": "405957a0",
   "metadata": {},
   "outputs": [],
   "source": [
    "absolutepath = os.path.dirname(os.path.abspath(\"__file__\"))"
   ]
  },
  {
   "cell_type": "code",
   "execution_count": null,
   "id": "d1d67d18",
   "metadata": {},
   "outputs": [],
   "source": [
    "print(absolutepath)"
   ]
  },
  {
   "cell_type": "markdown",
   "id": "972837ff",
   "metadata": {},
   "source": [
    "## Import grids\n",
    "\n",
    "Three grids with different spatial resolution are used in this project:\n",
    "1. **grid_cams**: 0.1° x 0.1° resolution - Grid with CAMS Model spatial resolution.\n",
    "2. **grid_s5p**: 0.066° x 0.066° resolution - Grid with the Sentinel-5P approximate spatial resolution.\n",
    "3. **grid_st**: 0.01° x 0.01° resolution- Grid generated with at most one ARPA monitoring station for each pixel.\n",
    "\n",
    "These grids are defined as bounding box of the Lombardy region layer applying a buffer of 20 km."
   ]
  },
  {
   "cell_type": "code",
   "execution_count": null,
   "id": "6194cfd1",
   "metadata": {},
   "outputs": [],
   "source": [
    "grid_cams_path = absolutepath + '/grid/grid0_1.gpkg'\n",
    "grid_s5p_path = absolutepath + '/grid/grid0_066.gpkg'\n",
    "grid_st_path = absolutepath + '/grid/grid0_01.gpkg'\n",
    "grid_cams = gpd.read_file(grid_cams_path)\n",
    "grid_s5p = gpd.read_file(grid_s5p_path)\n",
    "grid_st = gpd.read_file(grid_st_path)"
   ]
  },
  {
   "cell_type": "markdown",
   "id": "e8c27e89",
   "metadata": {},
   "source": [
    "Grid selection"
   ]
  },
  {
   "cell_type": "code",
   "execution_count": null,
   "id": "843dba14",
   "metadata": {},
   "outputs": [],
   "source": [
    "grid = grid_cams"
   ]
  },
  {
   "cell_type": "code",
   "execution_count": null,
   "id": "23482afc",
   "metadata": {},
   "outputs": [],
   "source": [
    "m_to_km = 10**(-3)\n",
    "m2_to_km2 = 10**(-6)"
   ]
  },
  {
   "cell_type": "markdown",
   "id": "a02584c7",
   "metadata": {},
   "source": [
    "---"
   ]
  },
  {
   "cell_type": "markdown",
   "id": "3479eb93",
   "metadata": {},
   "source": [
    "# Importing Map Layers"
   ]
  },
  {
   "cell_type": "markdown",
   "id": "02bc4356",
   "metadata": {},
   "source": [
    "### [DUSAF - Land use - Geoportale Lombardia](https://www.geoportale.regione.lombardia.it/metadati?p_p_id=detailSheetMetadata_WAR_gptmetadataportlet&p_p_lifecycle=0&p_p_state=normal&p_p_mode=view&_detailSheetMetadata_WAR_gptmetadataportlet_uuid=%7B18EE7CDC-E51B-4DFB-99F8-3CF416FC3C70%7D) <br>"
   ]
  },
  {
   "cell_type": "markdown",
   "id": "6ffe9826",
   "metadata": {},
   "source": [
    "Consists in a multi-temporal geographic database that classifies land based on major land cover and land use types. Reference system EPSG:4326.<br>\n",
    "Land use:\n",
    "- 2 = Aree agricole.\n",
    "- 3 =Territori boscati e ambienti seminaturali.\n",
    "- 4 = Aree umide.\n",
    "- 5 = Corpi idrici.\n",
    "- 11 = Zone urbanizzate.\n",
    "- 12 = Insediamenti produttivo, grandi impianti e reti di comunicazione.\n",
    "- 13 = Aree estrattive, discariche, cantieri, terreni artefatti e abbandonati.\n",
    "- 14 = Aree verdi non agricole."
   ]
  },
  {
   "cell_type": "code",
   "execution_count": null,
   "id": "78fb8c19",
   "metadata": {},
   "outputs": [],
   "source": [
    "dusaf_path = absolutepath + '/land_use_cover/DUSAF6_dissolve_rast_4326.tiff'"
   ]
  },
  {
   "cell_type": "code",
   "execution_count": null,
   "id": "64a13eb1",
   "metadata": {},
   "outputs": [],
   "source": [
    "dusaf = rio.open(dusaf_path)\n",
    "dusaf_array = dusaf.read(1).astype('float64') \n",
    "dusaf_array[dusaf_array<1.0]=np.nan\n",
    "affine = dusaf.transform"
   ]
  },
  {
   "cell_type": "code",
   "execution_count": null,
   "id": "4b3a5636",
   "metadata": {},
   "outputs": [],
   "source": [
    "stats = rstat.zonal_stats(grid, dusaf_array, affine=affine, nodata=np.nan, stats=['majority'], categorical=True)\n",
    "majority_list = [{k: v for k, v in d.items() if k == 'majority'} for d in stats]\n",
    "grid = grid.join(pd.DataFrame(majority_list), how='left')\n",
    "grid = grid.rename(columns={\"majority\": \"dusaf\"})"
   ]
  },
  {
   "cell_type": "code",
   "execution_count": null,
   "id": "f5fb2405",
   "metadata": {},
   "outputs": [],
   "source": [
    "# Class counts in each tile\n",
    "stats2 = rstat.zonal_stats(grid, dusaf_array, affine=affine, nodata=np.nan, stats=['count'], categorical=True)\n",
    "p = pd.DataFrame.from_dict(stats2, orient='columns')\n",
    "p = p*m2_to_km2\n",
    "\n",
    "grid['dsf2'] = p[2.0]\n",
    "grid['dsf3'] = p[3.0]\n",
    "grid['dsf4'] = p[4.0]\n",
    "grid['dsf5'] = p[5.0]\n",
    "grid['dsf11'] = p[11.0]\n",
    "grid['dsf12'] = p[12.0]\n",
    "grid['dsf13'] = p[13.0]\n",
    "grid['dsf14'] = p[14.0]\n",
    "grid['dsfSum'] = p['count']"
   ]
  },
  {
   "cell_type": "markdown",
   "id": "f5ba17ce",
   "metadata": {},
   "source": [
    " - - -"
   ]
  },
  {
   "cell_type": "markdown",
   "id": "9a1b2e46",
   "metadata": {},
   "source": [
    "### [SIARL - Agricultural use - Geoportale Lombardia](https://www.geoportale.regione.lombardia.it/metadati?p_p_id=detailSheetMetadata_WAR_gptmetadataportlet&p_p_lifecycle=0&p_p_state=normal&p_p_mode=view&_detailSheetMetadata_WAR_gptmetadataportlet_uuid=%7B83483117-8742-4A1F-A16E-3A48AEE2EBE2%7D) <br>\n",
    "This layer contains the agricoltural use for each cadastral parcel provided by SIARL 2019 Catalog for the Lombardy region. Reference system EPSG:4326. <br>\n",
    "Agricoltural use:\n",
    "1. Altre coltivazioni agrarie\n",
    "2. Altri cereali\n",
    "3. Barbabietola\n",
    "4. Boschi e colture arboree\n",
    "5. Coltivazioni florovivaistiche\n",
    "6. Coltivazioni orticole\n",
    "7. Foraggere\n",
    "8. Frutticole\n",
    "9. Mais\n",
    "10. Olivo\n",
    "11. Piante industriali e legumi secchi\n",
    "12. Riso\n",
    "13. Sementi\n",
    "14. Tare e incolti\n",
    "15.  Terreni a riposo\n",
    "16. Vite\n",
    "17. Aree antropizzate\n",
    "18. Aree sterili naturali\n",
    "19. Corpi idrici\n",
    "20. Terreni agricoli non classificabili\n",
    "21. Vegetazione naturale"
   ]
  },
  {
   "cell_type": "code",
   "execution_count": null,
   "id": "9b49d827",
   "metadata": {},
   "outputs": [],
   "source": [
    "siarl_path = absolutepath + '/land_use_cover/siarl.tif'\n",
    "siarl = rio.open(siarl_path)"
   ]
  },
  {
   "cell_type": "code",
   "execution_count": null,
   "id": "d6a2089d",
   "metadata": {},
   "outputs": [],
   "source": [
    "siarl_array = siarl.read(1).astype('float64') \n",
    "siarl_array[siarl_array<1.0]=np.nan\n",
    "affine = siarl.transform"
   ]
  },
  {
   "cell_type": "code",
   "execution_count": null,
   "id": "198dee47",
   "metadata": {},
   "outputs": [],
   "source": [
    "stats_siarl = rstat.zonal_stats(grid, siarl_array, affine=affine, nodata=np.nan, stats=['majority'], categorical=True)\n",
    "majority_list = [{k: v for k, v in d.items() if k == 'majority'} for d in stats_siarl]\n",
    "grid = grid.join(pd.DataFrame(majority_list), how='left')\n",
    "grid = grid.rename(columns={\"majority\": \"siarl\"})"
   ]
  },
  {
   "cell_type": "code",
   "execution_count": null,
   "id": "d09a3ae0",
   "metadata": {},
   "outputs": [],
   "source": [
    "# Class counts in each tile\n",
    "stats2_siarl = rstat.zonal_stats(grid, siarl_array, affine=affine, nodata=np.nan, stats=['count'], categorical=True)\n",
    "p = pd.DataFrame.from_dict(stats2_siarl, orient='columns')\n",
    "p = p*m2_to_km2\n",
    "grid['siarl1'] = p[1.0]\n",
    "grid['siarl2'] = p[2.0]\n",
    "grid['siarl3'] = p[3.0]\n",
    "grid['siarl4'] = p[4.0]\n",
    "grid['siarl5'] = p[5.0]\n",
    "grid['siarl6'] = p[6.0]\n",
    "grid['siarl7'] = p[7.0]\n",
    "grid['siarl8'] = p[8.0]\n",
    "grid['siarl9'] = p[9.0]\n",
    "grid['siarl10'] = p[10.0]\n",
    "grid['siarl11'] = p[11.0]\n",
    "grid['siarl12'] = p[12.0]\n",
    "grid['siarl13'] = p[13.0]\n",
    "grid['siarl14'] = p[14.0]\n",
    "grid['siarl15'] = p[15.0]\n",
    "grid['siarl16'] = p[16.0]\n",
    "grid['siarl17'] = p[17.0]\n",
    "grid['siarl18'] = p[18.0]\n",
    "grid['siarl19'] = p[19.0]\n",
    "grid['siarl20'] = p[20.0]\n",
    "grid['siarl21'] = p[21.0]\n",
    "\n",
    "grid['siarlSum'] = p['count']"
   ]
  },
  {
   "cell_type": "markdown",
   "id": "9abe2abe",
   "metadata": {},
   "source": [
    "- - -"
   ]
  },
  {
   "cell_type": "markdown",
   "id": "8d2bfc48",
   "metadata": {},
   "source": [
    "### [Digital Terrain Model - Geoportale Lombardia](https://www.geoportale.regione.lombardia.it/metadati?p_p_id=detailSheetMetadata_WAR_gptmetadataportlet&p_p_lifecycle=0&p_p_state=normal&p_p_mode=view&_detailSheetMetadata_WAR_gptmetadataportlet_uuid=%7BFC06681A-2403-481F-B6FE-5F952DD48BAF%7D)<br>\n",
    "Digital Terrain Model of Lombardy region with 20 m resolution. Reference system EPSG:4326.\n",
    "1. **Elevation** = DTM with 20 m resolution\n",
    "2. **Aspect** = calculated previously from the elevation layer\n",
    "3. **Slope** = calculated previously from the elevation layer"
   ]
  },
  {
   "cell_type": "code",
   "execution_count": null,
   "id": "b80a33a8",
   "metadata": {},
   "outputs": [],
   "source": [
    "dtm_path = absolutepath + '/terrain/dtm20.tif'\n",
    "aspect_path = absolutepath + '/terrain/aspect.tif'\n",
    "slope_path = absolutepath + '/terrain/slope.tif'\n",
    "dtm = rio.open(dtm_path)\n",
    "aspect = rio.open(aspect_path)\n",
    "slope = rio.open(slope_path)"
   ]
  },
  {
   "cell_type": "code",
   "execution_count": null,
   "id": "75b9d009",
   "metadata": {},
   "outputs": [],
   "source": [
    "dtm_array = dtm.read(1)\n",
    "dtm_array[dtm_array<0]=np.nan\n",
    "affine = dtm.transform\n",
    "grid = grid.join(pd.DataFrame(rstat.zonal_stats(grid, dtm_array, affine=affine, nodata=np.nan, stats=['mean'])), how='left')\n",
    "grid = grid.rename(columns={\"mean\": \"h_mean\"})"
   ]
  },
  {
   "cell_type": "code",
   "execution_count": null,
   "id": "06b7924f",
   "metadata": {
    "scrolled": true
   },
   "outputs": [],
   "source": [
    "aspect_array = aspect.read(1)\n",
    "aspect_array[aspect_array<0]=np.nan\n",
    "affine = aspect.transform\n",
    "grid = grid.join(pd.DataFrame(rstat.zonal_stats(grid, aspect_array, affine=affine, nodata=np.nan, stats=['mean'])), how='left')\n",
    "grid = grid.rename(columns={\"mean\": \"aspect_mean\"})"
   ]
  },
  {
   "cell_type": "code",
   "execution_count": null,
   "id": "16d494fc",
   "metadata": {},
   "outputs": [],
   "source": [
    "slope_array = slope.read(1)\n",
    "slope_array[slope_array<0]=np.nan\n",
    "affine = slope.transform\n",
    "grid = grid.join(pd.DataFrame(rstat.zonal_stats(grid, slope_array, affine=affine, nodata=np.nan, stats=['mean'])), how='left')\n",
    "grid = grid.rename(columns={\"mean\": \"slope_mean\"})"
   ]
  },
  {
   "cell_type": "markdown",
   "id": "55d4b957",
   "metadata": {},
   "source": [
    "- - -"
   ]
  },
  {
   "cell_type": "markdown",
   "id": "3daa1b51",
   "metadata": {},
   "source": [
    "### [Gridded Population of the World - GPW](https://sedac.ciesin.columbia.edu/data/set/gpw-v4-population-density-rev11)<br>\n",
    "To provide estimates of population density for the year 2020, based on counts consistent with national censuses and population registers, as raster data to facilitate data integration.\n",
    "Input reference system EPSG: 4326"
   ]
  },
  {
   "cell_type": "code",
   "execution_count": null,
   "id": "50824464",
   "metadata": {},
   "outputs": [],
   "source": [
    "pop_path = absolutepath + '/population/population.tif'\n",
    "pop = rio.open(pop_path)"
   ]
  },
  {
   "cell_type": "code",
   "execution_count": null,
   "id": "81549559",
   "metadata": {},
   "outputs": [],
   "source": [
    "pop_array = pop.read(1)\n",
    "pop_array[pop_array<0]=np.nan\n",
    "affine = pop.transform\n",
    "grid = grid.join(pd.DataFrame(rstat.zonal_stats(grid, pop_array, affine=affine, nodata=np.nan, stats=['sum'])), how='left')\n",
    "grid = grid.rename(columns={\"sum\": \"pop\"})"
   ]
  },
  {
   "cell_type": "markdown",
   "id": "b63274bc",
   "metadata": {},
   "source": [
    " - - -"
   ]
  },
  {
   "cell_type": "markdown",
   "id": "b6abbb74",
   "metadata": {},
   "source": [
    "### [Road Infrastructures - Geoportale Lombardia (DBTR 2019)](https://www.geoportale.regione.lombardia.it/metadati?p_p_id=detailSheetMetadata_WAR_gptmetadataportlet&p_p_lifecycle=0&p_p_state=normal&p_p_mode=view&_detailSheetMetadata_WAR_gptmetadataportlet_uuid=%7B17D4656F-2E9D-4951-9DC1-4AD32C0959B1%7D): "
   ]
  },
  {
   "cell_type": "markdown",
   "id": "f7ce0a36",
   "metadata": {},
   "source": [
    "**Point layers** considered:\n",
    "1. Intersection between primary roads including highways\n",
    "2. Intersection between primary and secondary roads\n",
    "3. Intersection between secondary roads\n",
    "\n",
    "Input reference system EPSG: 4326"
   ]
  },
  {
   "cell_type": "code",
   "execution_count": null,
   "id": "baa4954c",
   "metadata": {},
   "outputs": [],
   "source": [
    "int_prim_path = absolutepath + '/road_infrastructures/inters_highway_prim_road.gpkg'\n",
    "int_prim_sec_path = absolutepath + '/road_infrastructures/inters_prim_sec_road.gpkg'\n",
    "int_sec_path = absolutepath + '/road_infrastructures/inters_sec_road.gpkg'"
   ]
  },
  {
   "cell_type": "code",
   "execution_count": null,
   "id": "82dfe4c4",
   "metadata": {},
   "outputs": [],
   "source": [
    "int_prim = gpd.read_file(int_prim_path)\n",
    "int_prim_sec = gpd.read_file(int_prim_sec_path)\n",
    "int_sec = gpd.read_file(int_sec_path)\n",
    "\n",
    "df_dict = {'int_prim':int_prim,\n",
    "          'int_prim_sec':int_prim_sec, 'int_sec': int_sec}\n",
    "\n",
    "\n",
    "for key in df_dict:\n",
    "    poor_points = df_dict[key][['OBJECTID','geometry']]\n",
    "    sjoined = gpd.sjoin(poor_points, grid)\n",
    "    df_count = pd.DataFrame(sjoined.groupby('index_right').size()) \n",
    "    grid_join = grid.join(df_count)\n",
    "    grid[key] = grid_join[0]"
   ]
  },
  {
   "cell_type": "code",
   "execution_count": null,
   "id": "975b1074",
   "metadata": {},
   "outputs": [],
   "source": [
    "grid = grid.to_crs(32632)"
   ]
  },
  {
   "cell_type": "markdown",
   "id": "a7b2bbad",
   "metadata": {},
   "source": [
    "**Line layers** considered:\n",
    "1. Highways\n",
    "2. Primary roads\n",
    "3. Secondary roads\n",
    "\n",
    "Input reference system EPSG: 4326"
   ]
  },
  {
   "cell_type": "code",
   "execution_count": null,
   "id": "2c3982ef",
   "metadata": {},
   "outputs": [],
   "source": [
    "highway_path = absolutepath + '/road_infrastructures/highway.gpkg'\n",
    "prim_road_path = absolutepath + '/road_infrastructures/prim_road.gpkg'\n",
    "sec_road_path = absolutepath + '/road_infrastructures/sec_road.gpkg'"
   ]
  },
  {
   "cell_type": "markdown",
   "id": "da65d645",
   "metadata": {},
   "source": [
    "It is required to convert to a cartographic reference system EPSG:32632 to calculate distances."
   ]
  },
  {
   "cell_type": "code",
   "execution_count": null,
   "id": "e1c2b410",
   "metadata": {},
   "outputs": [],
   "source": [
    "highway = gpd.read_file(highway_path).to_crs(32632)\n",
    "prim_road = gpd.read_file(prim_road_path).to_crs(32632)\n",
    "sec_road = gpd.read_file(sec_road_path).to_crs(32632)"
   ]
  },
  {
   "cell_type": "code",
   "execution_count": null,
   "id": "9f090893",
   "metadata": {},
   "outputs": [],
   "source": [
    "df_dict = {'highway':highway, 'prim_road':prim_road, 'sec_road':sec_road}\n",
    "\n",
    "for key in df_dict:\n",
    "    grid[key] = np.nan\n",
    "    poor_lines = df_dict[key][['geodb_oid','geometry']]\n",
    "    for index, row in grid.iterrows():\n",
    "        mask = row['geometry']\n",
    "        clip = gpd.clip(poor_lines, mask) \n",
    "        l = clip.geometry.length.sum()\n",
    "        grid[key].iloc[index] = l*m_to_km\n",
    "    print(key)"
   ]
  },
  {
   "cell_type": "markdown",
   "id": "b386ff5e",
   "metadata": {},
   "source": [
    " - - -"
   ]
  },
  {
   "cell_type": "markdown",
   "id": "e8880917",
   "metadata": {},
   "source": [
    "### Farms\n",
    "Vector file obtained from DUSAF 2018 (features with cod. 12112 = \"Insediamenti produttivi agricoli\n",
    "Sono compresi in questa classe gli edifici utilizzati per le attività produttive del settore primario, come capannoni, rimesse per macchine agricole, fienili, stalle, silos, ecc, unitamente agli spazi accessori. Quando tali edifici sono presenti insieme a quelli residenziali configurando un aggregato rurale, se le due tipologie non risultano separabili in modo evidente si classifica tutto il nucleo come cascina (11231)\")."
   ]
  },
  {
   "cell_type": "code",
   "execution_count": null,
   "id": "2b7f63bb",
   "metadata": {},
   "outputs": [],
   "source": [
    "farms_path = absolutepath + '/farms/farms_dissolve.gpkg'\n",
    "farms = gpd.read_file(farms_path)"
   ]
  },
  {
   "cell_type": "code",
   "execution_count": null,
   "id": "2bf7a47e",
   "metadata": {},
   "outputs": [],
   "source": [
    "df_dict2 = {'farms':farms}"
   ]
  },
  {
   "cell_type": "code",
   "execution_count": null,
   "id": "cc1bec4c",
   "metadata": {},
   "outputs": [],
   "source": [
    "for key in df_dict2:\n",
    "    grid[key] = np.nan\n",
    "    poor_poly = df_dict2[key][['COD_TOT','geometry']]\n",
    "    for index, row in grid.iterrows():\n",
    "        mask = row['geometry']\n",
    "        clip = gpd.clip(poor_poly, mask) \n",
    "        a = clip.geometry.area.sum()\n",
    "        grid[key].iloc[index] = a*m2_to_km2\n",
    "    print(key)"
   ]
  },
  {
   "cell_type": "markdown",
   "id": "e3df332d",
   "metadata": {},
   "source": [
    "---"
   ]
  },
  {
   "cell_type": "code",
   "execution_count": null,
   "id": "5ab2eb0a",
   "metadata": {},
   "outputs": [],
   "source": [
    "grid.to_crs(4326).to_file(\"grid_prova.gpkg\", driver=\"GPKG\")"
   ]
  },
  {
   "cell_type": "code",
   "execution_count": null,
   "id": "7ad2ce08",
   "metadata": {},
   "outputs": [],
   "source": []
  }
 ],
 "metadata": {
  "kernelspec": {
   "display_name": "Python 3 (ipykernel)",
   "language": "python",
   "name": "python3"
  },
  "language_info": {
   "codemirror_mode": {
    "name": "ipython",
    "version": 3
   },
   "file_extension": ".py",
   "mimetype": "text/x-python",
   "name": "python",
   "nbconvert_exporter": "python",
   "pygments_lexer": "ipython3",
   "version": "3.10.2"
  }
 },
 "nbformat": 4,
 "nbformat_minor": 5
}
