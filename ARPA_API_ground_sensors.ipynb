{
 "cells": [
  {
   "cell_type": "markdown",
   "id": "0e1c351c",
   "metadata": {},
   "source": [
    "# ARPA Lombardia Ground Sensors- Air quality and meteorological preprocessing"
   ]
  },
  {
   "cell_type": "markdown",
   "id": "3d050786",
   "metadata": {},
   "source": [
    "- Ground sensor's type and position is retrived by the ARPA API: [Air quality stations](https://www.dati.lombardia.it/Ambiente/Stazioni-qualit-dell-aria/ib47-atvt) and [Meteorological stations](https://www.dati.lombardia.it/Ambiente/Stazioni-Meteorologiche/nf78-nj6b)\n",
    "- ARPA API provides data for the current year only (from Jenuary 2022): [API Air quality data](https://www.dati.lombardia.it/Ambiente/Dati-sensori-aria/nicp-bhqi) and  [API Meteorological data](https://www.dati.lombardia.it/Ambiente/Dati-sensori-meteo/647i-nhxk)\n",
    "- To use data from previous years it's required to use the dataset in .csv format, such as [Air quality data for 2020]( https://www.dati.lombardia.it/Ambiente/Dati-sensori-aria-2020/88sp-5tmj) or [Meteorological data for 2020](https://www.dati.lombardia.it/Ambiente/Dati-sensori-meteo-2020/erjn-istm). The ARPA_URL_by_year function contains the links for downloading the data for the year chosen.\n",
    "\n",
    "In this notebook sensors position and type are retrieved from the API only, while time series are retreived by .csv or API depending on the year (if before 2022 is only possible to use the .csv file, while for 2022 data from API are available)\n",
    "\n",
    "Notes:<br>\n",
    "**Air quality .csv data are still not available for 2021.** <br>\n",
    "**Meteorological data of Jenuary 2022 are retreivable from API, but the .csv for 2021 is not available.**\n"
   ]
  },
  {
   "cell_type": "markdown",
   "id": "613745f5",
   "metadata": {},
   "source": [
    "The \"app_token\" is required to access the data. <br>\n",
    "Example video tutorial: https://www.youtube.com/watch?v=3p4gncGaSeg&t=899s&ab_channel=CharmingData <br>\n",
    "Register on \"Open Data Lombardia\" to get tokens: https://www.dati.lombardia.it/login"
   ]
  },
  {
   "cell_type": "markdown",
   "id": "70063a78",
   "metadata": {},
   "source": [
    "**Data Interpolation:** at the end of the notebook is possible to intepolate sensor data using Ordinary Kriging Method (using [pykrige](https://geostat-framework.readthedocs.io/projects/pykrige/en/stable/) library) over the region."
   ]
  },
  {
   "cell_type": "markdown",
   "id": "f43a976f",
   "metadata": {},
   "source": [
    "## Import libraries"
   ]
  },
  {
   "cell_type": "code",
   "execution_count": null,
   "id": "1a261505",
   "metadata": {},
   "outputs": [],
   "source": [
    "# !pip install sodapy"
   ]
  },
  {
   "cell_type": "code",
   "execution_count": 1,
   "id": "5feaa305",
   "metadata": {},
   "outputs": [],
   "source": [
    "from sodapy import Socrata\n",
    "import pandas as pd\n",
    "import geopandas as gpd\n",
    "import os\n",
    "import zipfile\n",
    "import requests\n",
    "import json\n",
    "from scipy import stats\n",
    "import numpy as np\n",
    "import datetime\n",
    "import warnings\n",
    "warnings.filterwarnings('ignore')\n",
    "import ipywidgets as widgets"
   ]
  },
  {
   "cell_type": "code",
   "execution_count": 2,
   "id": "db5d7b3d",
   "metadata": {},
   "outputs": [],
   "source": [
    "cwd = os.getcwd()"
   ]
  },
  {
   "cell_type": "code",
   "execution_count": 3,
   "id": "3e5290f9",
   "metadata": {},
   "outputs": [],
   "source": [
    "from functions import my_methods  #function where each year is associated to the resource link (for downloading the .csv file)"
   ]
  },
  {
   "cell_type": "markdown",
   "id": "489fe353",
   "metadata": {},
   "source": [
    "Modify **date.json** file to change the date:"
   ]
  },
  {
   "cell_type": "code",
   "execution_count": 4,
   "id": "8b4ef9ef",
   "metadata": {},
   "outputs": [],
   "source": [
    "d = open('date.json')\n",
    "date = json.load(d)\n",
    "year = date['year']\n",
    "mais_week = date['mais_week']\n",
    "rice_week = date['rice_week']\n",
    "cereal_week = date['cereal_week']"
   ]
  },
  {
   "cell_type": "code",
   "execution_count": 5,
   "id": "f4c97fe2",
   "metadata": {},
   "outputs": [
    {
     "name": "stdout",
     "output_type": "stream",
     "text": [
      "{1: [], 2: [], 3: [], 4: [], 5: [], 6: [], 7: [], 8: [], 9: ['2020-02-24', '2020-02-25', '2020-02-26', '2020-02-27', '2020-02-28', '2020-02-29', '2020-03-01'], 10: [], 11: [], 12: [], 13: ['2020-03-23', '2020-03-24', '2020-03-25', '2020-03-26', '2020-03-27', '2020-03-28', '2020-03-29'], 14: [], 15: [], 16: [], 17: [], 18: [], 19: [], 20: [], 21: [], 22: [], 23: [], 24: [], 25: [], 26: [], 27: [], 28: [], 29: [], 30: [], 31: [], 32: [], 33: [], 34: [], 35: ['2020-08-24', '2020-08-25', '2020-08-26', '2020-08-27', '2020-08-28', '2020-08-29', '2020-08-30'], 36: [], 37: [], 38: [], 39: [], 40: [], 41: [], 42: [], 43: [], 44: [], 45: [], 46: [], 47: [], 48: [], 49: [], 50: [], 51: [], 52: [], 53: []}\n"
     ]
    }
   ],
   "source": [
    "calendar = my_methods.manuring_periods(year, mais_week, rice_week, cereal_week)\n",
    "print(calendar)"
   ]
  },
  {
   "cell_type": "code",
   "execution_count": 6,
   "id": "f9820617",
   "metadata": {},
   "outputs": [
    {
     "data": {
      "application/vnd.jupyter.widget-view+json": {
       "model_id": "23cfc1d35210437b89543c9c85fa2770",
       "version_major": 2,
       "version_minor": 0
      },
      "text/plain": [
       "Dropdown(description='name:', options=('mais_week', 'rice_week', 'cereal_week'), value='mais_week')"
      ]
     },
     "metadata": {},
     "output_type": "display_data"
    }
   ],
   "source": [
    "# With this widget is possible to select from the dropdown list the required week\n",
    "select_week = widgets.Dropdown(\n",
    "    options=['mais_week', 'rice_week', 'cereal_week'],\n",
    "    description='name:',\n",
    "    disabled=False)\n",
    "select_week"
   ]
  },
  {
   "cell_type": "code",
   "execution_count": 7,
   "id": "41e8acbc",
   "metadata": {},
   "outputs": [
    {
     "data": {
      "text/plain": [
       "'2020-02-24'"
      ]
     },
     "execution_count": 7,
     "metadata": {},
     "output_type": "execute_result"
    }
   ],
   "source": [
    "start_date = calendar[date[select_week.value]][0]\n",
    "end_date = calendar[date[select_week.value]][-1]\n",
    "start_date"
   ]
  },
  {
   "cell_type": "code",
   "execution_count": 8,
   "id": "2f735fdd",
   "metadata": {},
   "outputs": [],
   "source": [
    "date_object = datetime.datetime.strptime(start_date, '%Y-%m-%d').date()\n",
    "year = str(date_object.year)"
   ]
  },
  {
   "cell_type": "code",
   "execution_count": 9,
   "id": "d2f4b1b8",
   "metadata": {},
   "outputs": [],
   "source": [
    "#Only for current year data\n",
    "start_date_api = '\"'+start_date+'\"'\n",
    "end_date_api = '\"'+end_date+'\"'"
   ]
  },
  {
   "cell_type": "code",
   "execution_count": 10,
   "id": "0039f01c",
   "metadata": {},
   "outputs": [
    {
     "data": {
      "text/plain": [
       "'2020'"
      ]
     },
     "execution_count": 10,
     "metadata": {},
     "output_type": "execute_result"
    }
   ],
   "source": [
    "year"
   ]
  },
  {
   "cell_type": "code",
   "execution_count": 11,
   "id": "f8d72903",
   "metadata": {},
   "outputs": [],
   "source": [
    "f = open('keys.json')\n",
    "keys = json.load(f)"
   ]
  },
  {
   "cell_type": "markdown",
   "id": "5c4ba0f2",
   "metadata": {},
   "source": [
    "Z-Score threshold:"
   ]
  },
  {
   "cell_type": "code",
   "execution_count": 12,
   "id": "c3c05c5b",
   "metadata": {},
   "outputs": [],
   "source": [
    "threshold = 3"
   ]
  },
  {
   "cell_type": "markdown",
   "id": "eb0f3b09",
   "metadata": {},
   "source": [
    "---"
   ]
  },
  {
   "cell_type": "markdown",
   "id": "5dc69c0f",
   "metadata": {},
   "source": [
    "# Import stations and sensor type from ARPA API"
   ]
  },
  {
   "cell_type": "markdown",
   "id": "234d6fe9",
   "metadata": {},
   "source": [
    "Import sensors description and position from the API."
   ]
  },
  {
   "cell_type": "code",
   "execution_count": 13,
   "id": "ada35c39",
   "metadata": {},
   "outputs": [],
   "source": [
    "arpa_domain = \"www.dati.lombardia.it\"\n",
    "st_descr = \"ib47-atvt\""
   ]
  },
  {
   "cell_type": "code",
   "execution_count": 14,
   "id": "80397d65",
   "metadata": {},
   "outputs": [],
   "source": [
    "client = Socrata(arpa_domain, app_token = keys['arpa_token'])  #insert your arpa_token"
   ]
  },
  {
   "cell_type": "code",
   "execution_count": 15,
   "id": "424dd31b",
   "metadata": {},
   "outputs": [],
   "source": [
    "results = client.get_all(st_descr)"
   ]
  },
  {
   "cell_type": "code",
   "execution_count": 16,
   "id": "ee6cc8f8",
   "metadata": {},
   "outputs": [],
   "source": [
    "air_st_descr = pd.DataFrame(results)"
   ]
  },
  {
   "cell_type": "code",
   "execution_count": 17,
   "id": "759c81ba",
   "metadata": {},
   "outputs": [],
   "source": [
    "air_st_descr[\"idsensore\"] = air_st_descr[\"idsensore\"].astype(str).astype(int)"
   ]
  },
  {
   "cell_type": "markdown",
   "id": "6cebc2c0",
   "metadata": {},
   "source": [
    "- - - "
   ]
  },
  {
   "cell_type": "markdown",
   "id": "e463d807",
   "metadata": {},
   "source": [
    "<a id='aq_data_api'></a>\n",
    "# Import air quality data from ARPA API"
   ]
  },
  {
   "cell_type": "markdown",
   "id": "57b54908",
   "metadata": {},
   "source": [
    "Skip to [air quality import from .csv](#aq_data_csv) data if required. The API works for current year data only."
   ]
  },
  {
   "cell_type": "code",
   "execution_count": 18,
   "id": "4a6bfcae",
   "metadata": {},
   "outputs": [],
   "source": [
    "arpa_domain = \"www.dati.lombardia.it\"\n",
    "dati = \"nicp-bhqi\" #change this depending on the dataset (check Open Data Lombardia datasets)"
   ]
  },
  {
   "cell_type": "code",
   "execution_count": 19,
   "id": "13d10471",
   "metadata": {},
   "outputs": [],
   "source": [
    "client = Socrata(arpa_domain, app_token = \"riTLzYVRVdDaQtUkxDDaHRgJi\")"
   ]
  },
  {
   "cell_type": "code",
   "execution_count": 20,
   "id": "eea80e61",
   "metadata": {},
   "outputs": [
    {
     "data": {
      "text/plain": [
       "'data > \"2020-02-24\" and data < \"2020-03-01\"'"
      ]
     },
     "execution_count": 20,
     "metadata": {},
     "output_type": "execute_result"
    }
   ],
   "source": [
    "date_query = \"data > {} and data < {}\".format(start_date_api,end_date_api)\n",
    "date_query"
   ]
  },
  {
   "cell_type": "code",
   "execution_count": 21,
   "id": "5165b659",
   "metadata": {},
   "outputs": [],
   "source": [
    "results = client.get(dati, where=date_query, limit=5000000000)"
   ]
  },
  {
   "cell_type": "code",
   "execution_count": 22,
   "id": "ecb575d1",
   "metadata": {},
   "outputs": [],
   "source": [
    "aq_data = pd.DataFrame(results)"
   ]
  },
  {
   "cell_type": "code",
   "execution_count": 23,
   "id": "17e7e5e3",
   "metadata": {},
   "outputs": [
    {
     "ename": "KeyError",
     "evalue": "'data'",
     "output_type": "error",
     "traceback": [
      "\u001b[1;31m---------------------------------------------------------------------------\u001b[0m",
      "\u001b[1;31mKeyError\u001b[0m                                  Traceback (most recent call last)",
      "File \u001b[1;32m~\\anaconda3\\envs\\ddust\\lib\\site-packages\\pandas\\core\\indexes\\base.py:3621\u001b[0m, in \u001b[0;36mIndex.get_loc\u001b[1;34m(self, key, method, tolerance)\u001b[0m\n\u001b[0;32m   3620\u001b[0m \u001b[38;5;28;01mtry\u001b[39;00m:\n\u001b[1;32m-> 3621\u001b[0m     \u001b[38;5;28;01mreturn\u001b[39;00m \u001b[38;5;28;43mself\u001b[39;49m\u001b[38;5;241;43m.\u001b[39;49m\u001b[43m_engine\u001b[49m\u001b[38;5;241;43m.\u001b[39;49m\u001b[43mget_loc\u001b[49m\u001b[43m(\u001b[49m\u001b[43mcasted_key\u001b[49m\u001b[43m)\u001b[49m\n\u001b[0;32m   3622\u001b[0m \u001b[38;5;28;01mexcept\u001b[39;00m \u001b[38;5;167;01mKeyError\u001b[39;00m \u001b[38;5;28;01mas\u001b[39;00m err:\n",
      "File \u001b[1;32m~\\anaconda3\\envs\\ddust\\lib\\site-packages\\pandas\\_libs\\index.pyx:136\u001b[0m, in \u001b[0;36mpandas._libs.index.IndexEngine.get_loc\u001b[1;34m()\u001b[0m\n",
      "File \u001b[1;32m~\\anaconda3\\envs\\ddust\\lib\\site-packages\\pandas\\_libs\\index.pyx:163\u001b[0m, in \u001b[0;36mpandas._libs.index.IndexEngine.get_loc\u001b[1;34m()\u001b[0m\n",
      "File \u001b[1;32mpandas\\_libs\\hashtable_class_helper.pxi:5198\u001b[0m, in \u001b[0;36mpandas._libs.hashtable.PyObjectHashTable.get_item\u001b[1;34m()\u001b[0m\n",
      "File \u001b[1;32mpandas\\_libs\\hashtable_class_helper.pxi:5206\u001b[0m, in \u001b[0;36mpandas._libs.hashtable.PyObjectHashTable.get_item\u001b[1;34m()\u001b[0m\n",
      "\u001b[1;31mKeyError\u001b[0m: 'data'",
      "\nThe above exception was the direct cause of the following exception:\n",
      "\u001b[1;31mKeyError\u001b[0m                                  Traceback (most recent call last)",
      "Input \u001b[1;32mIn [23]\u001b[0m, in \u001b[0;36m<module>\u001b[1;34m\u001b[0m\n\u001b[1;32m----> 1\u001b[0m aq_data[\u001b[38;5;124m'\u001b[39m\u001b[38;5;124mdata\u001b[39m\u001b[38;5;124m'\u001b[39m] \u001b[38;5;241m=\u001b[39m  pd\u001b[38;5;241m.\u001b[39mto_datetime(\u001b[43maq_data\u001b[49m\u001b[43m[\u001b[49m\u001b[38;5;124;43m'\u001b[39;49m\u001b[38;5;124;43mdata\u001b[39;49m\u001b[38;5;124;43m'\u001b[39;49m\u001b[43m]\u001b[49m, \u001b[38;5;28mformat\u001b[39m\u001b[38;5;241m=\u001b[39m\u001b[38;5;124m'\u001b[39m\u001b[38;5;124m%\u001b[39m\u001b[38;5;124mY/\u001b[39m\u001b[38;5;124m%\u001b[39m\u001b[38;5;124mm/\u001b[39m\u001b[38;5;132;01m%d\u001b[39;00m\u001b[38;5;124m \u001b[39m\u001b[38;5;124m%\u001b[39m\u001b[38;5;124mH:\u001b[39m\u001b[38;5;124m%\u001b[39m\u001b[38;5;124mM:\u001b[39m\u001b[38;5;124m%\u001b[39m\u001b[38;5;124mS\u001b[39m\u001b[38;5;124m'\u001b[39m)\n",
      "File \u001b[1;32m~\\anaconda3\\envs\\ddust\\lib\\site-packages\\pandas\\core\\frame.py:3506\u001b[0m, in \u001b[0;36mDataFrame.__getitem__\u001b[1;34m(self, key)\u001b[0m\n\u001b[0;32m   3504\u001b[0m \u001b[38;5;28;01mif\u001b[39;00m \u001b[38;5;28mself\u001b[39m\u001b[38;5;241m.\u001b[39mcolumns\u001b[38;5;241m.\u001b[39mnlevels \u001b[38;5;241m>\u001b[39m \u001b[38;5;241m1\u001b[39m:\n\u001b[0;32m   3505\u001b[0m     \u001b[38;5;28;01mreturn\u001b[39;00m \u001b[38;5;28mself\u001b[39m\u001b[38;5;241m.\u001b[39m_getitem_multilevel(key)\n\u001b[1;32m-> 3506\u001b[0m indexer \u001b[38;5;241m=\u001b[39m \u001b[38;5;28;43mself\u001b[39;49m\u001b[38;5;241;43m.\u001b[39;49m\u001b[43mcolumns\u001b[49m\u001b[38;5;241;43m.\u001b[39;49m\u001b[43mget_loc\u001b[49m\u001b[43m(\u001b[49m\u001b[43mkey\u001b[49m\u001b[43m)\u001b[49m\n\u001b[0;32m   3507\u001b[0m \u001b[38;5;28;01mif\u001b[39;00m is_integer(indexer):\n\u001b[0;32m   3508\u001b[0m     indexer \u001b[38;5;241m=\u001b[39m [indexer]\n",
      "File \u001b[1;32m~\\anaconda3\\envs\\ddust\\lib\\site-packages\\pandas\\core\\indexes\\base.py:3623\u001b[0m, in \u001b[0;36mIndex.get_loc\u001b[1;34m(self, key, method, tolerance)\u001b[0m\n\u001b[0;32m   3621\u001b[0m     \u001b[38;5;28;01mreturn\u001b[39;00m \u001b[38;5;28mself\u001b[39m\u001b[38;5;241m.\u001b[39m_engine\u001b[38;5;241m.\u001b[39mget_loc(casted_key)\n\u001b[0;32m   3622\u001b[0m \u001b[38;5;28;01mexcept\u001b[39;00m \u001b[38;5;167;01mKeyError\u001b[39;00m \u001b[38;5;28;01mas\u001b[39;00m err:\n\u001b[1;32m-> 3623\u001b[0m     \u001b[38;5;28;01mraise\u001b[39;00m \u001b[38;5;167;01mKeyError\u001b[39;00m(key) \u001b[38;5;28;01mfrom\u001b[39;00m \u001b[38;5;21;01merr\u001b[39;00m\n\u001b[0;32m   3624\u001b[0m \u001b[38;5;28;01mexcept\u001b[39;00m \u001b[38;5;167;01mTypeError\u001b[39;00m:\n\u001b[0;32m   3625\u001b[0m     \u001b[38;5;66;03m# If we have a listlike key, _check_indexing_error will raise\u001b[39;00m\n\u001b[0;32m   3626\u001b[0m     \u001b[38;5;66;03m#  InvalidIndexError. Otherwise we fall through and re-raise\u001b[39;00m\n\u001b[0;32m   3627\u001b[0m     \u001b[38;5;66;03m#  the TypeError.\u001b[39;00m\n\u001b[0;32m   3628\u001b[0m     \u001b[38;5;28mself\u001b[39m\u001b[38;5;241m.\u001b[39m_check_indexing_error(key)\n",
      "\u001b[1;31mKeyError\u001b[0m: 'data'"
     ]
    }
   ],
   "source": [
    "aq_data['data'] =  pd.to_datetime(aq_data['data'], format='%Y/%m/%d %H:%M:%S')"
   ]
  },
  {
   "cell_type": "code",
   "execution_count": null,
   "id": "b42f3ab4",
   "metadata": {},
   "outputs": [],
   "source": [
    "aq_data = aq_data.astype({\"idsensore\": int,\"valore\": float})"
   ]
  },
  {
   "cell_type": "markdown",
   "id": "9b1b1012",
   "metadata": {},
   "source": [
    "- - -"
   ]
  },
  {
   "cell_type": "markdown",
   "id": "cf50fd38",
   "metadata": {},
   "source": [
    "<a id='aq_data_csv'></a>\n",
    "# Import air quality data from .csv"
   ]
  },
  {
   "cell_type": "markdown",
   "id": "d41a0cc1",
   "metadata": {},
   "source": [
    "Go back to [air quality import from API](#aq_data_api) data if required. Used to access data from past years (not current one)."
   ]
  },
  {
   "cell_type": "markdown",
   "id": "56e11cf3",
   "metadata": {},
   "source": [
    "Example using air quality data 2020 from ARPA stations: https://www.dati.lombardia.it/Ambiente/Dati-sensori-aria-2020/88sp-5tmj"
   ]
  },
  {
   "cell_type": "markdown",
   "id": "223695e0",
   "metadata": {},
   "source": [
    "Download the .csv data for the selected year in a zip folder. Read the .csv file and put it in a dataframe:\n",
    "- missing 2021 data for now"
   ]
  },
  {
   "cell_type": "code",
   "execution_count": 25,
   "id": "a8bda550",
   "metadata": {},
   "outputs": [],
   "source": [
    "csv_url = my_methods.AQ_sensor(year)\n",
    "r = requests.get(csv_url, allow_redirects=True)\n",
    "DL_zip = open('aq_'+str(year)+'.zip', 'wb').write(r.content)\n",
    "archive = zipfile.ZipFile('aq_'+str(year)+'.zip', 'r')\n",
    "data = archive.open(str(year)+'.csv')"
   ]
  },
  {
   "cell_type": "code",
   "execution_count": 26,
   "id": "f2e7b9be",
   "metadata": {},
   "outputs": [
    {
     "data": {
      "text/html": [
       "<div>\n",
       "<style scoped>\n",
       "    .dataframe tbody tr th:only-of-type {\n",
       "        vertical-align: middle;\n",
       "    }\n",
       "\n",
       "    .dataframe tbody tr th {\n",
       "        vertical-align: top;\n",
       "    }\n",
       "\n",
       "    .dataframe thead th {\n",
       "        text-align: right;\n",
       "    }\n",
       "</style>\n",
       "<table border=\"1\" class=\"dataframe\">\n",
       "  <thead>\n",
       "    <tr style=\"text-align: right;\">\n",
       "      <th></th>\n",
       "      <th>IdSensore</th>\n",
       "      <th>Data</th>\n",
       "      <th>Valore</th>\n",
       "      <th>Stato</th>\n",
       "      <th>idOperatore</th>\n",
       "    </tr>\n",
       "  </thead>\n",
       "  <tbody>\n",
       "    <tr>\n",
       "      <th>0</th>\n",
       "      <td>5652</td>\n",
       "      <td>01/01/2020 00:00:00</td>\n",
       "      <td>-9999.0</td>\n",
       "      <td>NaN</td>\n",
       "      <td>1</td>\n",
       "    </tr>\n",
       "    <tr>\n",
       "      <th>1</th>\n",
       "      <td>5710</td>\n",
       "      <td>01/01/2020 00:00:00</td>\n",
       "      <td>-9999.0</td>\n",
       "      <td>NaN</td>\n",
       "      <td>1</td>\n",
       "    </tr>\n",
       "    <tr>\n",
       "      <th>2</th>\n",
       "      <td>6411</td>\n",
       "      <td>01/01/2020 00:00:00</td>\n",
       "      <td>1.0</td>\n",
       "      <td>VA</td>\n",
       "      <td>1</td>\n",
       "    </tr>\n",
       "    <tr>\n",
       "      <th>3</th>\n",
       "      <td>5504</td>\n",
       "      <td>01/01/2020 00:00:00</td>\n",
       "      <td>125.0</td>\n",
       "      <td>VA</td>\n",
       "      <td>1</td>\n",
       "    </tr>\n",
       "    <tr>\n",
       "      <th>4</th>\n",
       "      <td>5507</td>\n",
       "      <td>01/01/2020 00:00:00</td>\n",
       "      <td>63.8</td>\n",
       "      <td>VA</td>\n",
       "      <td>1</td>\n",
       "    </tr>\n",
       "    <tr>\n",
       "      <th>...</th>\n",
       "      <td>...</td>\n",
       "      <td>...</td>\n",
       "      <td>...</td>\n",
       "      <td>...</td>\n",
       "      <td>...</td>\n",
       "    </tr>\n",
       "    <tr>\n",
       "      <th>2620275</th>\n",
       "      <td>30159</td>\n",
       "      <td>31/12/2020 23:00:00</td>\n",
       "      <td>44.6</td>\n",
       "      <td>VA</td>\n",
       "      <td>1</td>\n",
       "    </tr>\n",
       "    <tr>\n",
       "      <th>2620276</th>\n",
       "      <td>30160</td>\n",
       "      <td>31/12/2020 23:00:00</td>\n",
       "      <td>38.9</td>\n",
       "      <td>VA</td>\n",
       "      <td>1</td>\n",
       "    </tr>\n",
       "    <tr>\n",
       "      <th>2620277</th>\n",
       "      <td>30162</td>\n",
       "      <td>31/12/2020 23:00:00</td>\n",
       "      <td>75.4</td>\n",
       "      <td>VA</td>\n",
       "      <td>1</td>\n",
       "    </tr>\n",
       "    <tr>\n",
       "      <th>2620278</th>\n",
       "      <td>30163</td>\n",
       "      <td>31/12/2020 23:00:00</td>\n",
       "      <td>44.8</td>\n",
       "      <td>VA</td>\n",
       "      <td>1</td>\n",
       "    </tr>\n",
       "    <tr>\n",
       "      <th>2620279</th>\n",
       "      <td>30165</td>\n",
       "      <td>31/12/2020 23:00:00</td>\n",
       "      <td>4.6</td>\n",
       "      <td>VA</td>\n",
       "      <td>1</td>\n",
       "    </tr>\n",
       "  </tbody>\n",
       "</table>\n",
       "<p>2620280 rows × 5 columns</p>\n",
       "</div>"
      ],
      "text/plain": [
       "         IdSensore                 Data  Valore Stato  idOperatore\n",
       "0             5652  01/01/2020 00:00:00 -9999.0   NaN            1\n",
       "1             5710  01/01/2020 00:00:00 -9999.0   NaN            1\n",
       "2             6411  01/01/2020 00:00:00     1.0    VA            1\n",
       "3             5504  01/01/2020 00:00:00   125.0    VA            1\n",
       "4             5507  01/01/2020 00:00:00    63.8    VA            1\n",
       "...            ...                  ...     ...   ...          ...\n",
       "2620275      30159  31/12/2020 23:00:00    44.6    VA            1\n",
       "2620276      30160  31/12/2020 23:00:00    38.9    VA            1\n",
       "2620277      30162  31/12/2020 23:00:00    75.4    VA            1\n",
       "2620278      30163  31/12/2020 23:00:00    44.8    VA            1\n",
       "2620279      30165  31/12/2020 23:00:00     4.6    VA            1\n",
       "\n",
       "[2620280 rows x 5 columns]"
      ]
     },
     "execution_count": 26,
     "metadata": {},
     "output_type": "execute_result"
    }
   ],
   "source": [
    "aq_data=pd.read_csv(data)\n",
    "aq_data"
   ]
  },
  {
   "cell_type": "markdown",
   "id": "bbe75ea4",
   "metadata": {},
   "source": [
    "Rename columns:"
   ]
  },
  {
   "cell_type": "code",
   "execution_count": 27,
   "id": "20c0e4d4",
   "metadata": {},
   "outputs": [],
   "source": [
    "aq_data.rename(columns={'IdSensore': 'idsensore','Data': 'data','idOperatore': 'idoperatore','Stato': 'stato','Valore': 'valore'}, inplace=True)"
   ]
  },
  {
   "cell_type": "markdown",
   "id": "2a044d34",
   "metadata": {},
   "source": [
    "Set date format:"
   ]
  },
  {
   "cell_type": "code",
   "execution_count": 28,
   "id": "258fd84d",
   "metadata": {},
   "outputs": [],
   "source": [
    "aq_data['data'] =  pd.to_datetime(aq_data['data'], format='%d/%m/%Y %H:%M:%S')"
   ]
  },
  {
   "cell_type": "code",
   "execution_count": 29,
   "id": "c615b60c",
   "metadata": {},
   "outputs": [
    {
     "data": {
      "text/html": [
       "<div>\n",
       "<style scoped>\n",
       "    .dataframe tbody tr th:only-of-type {\n",
       "        vertical-align: middle;\n",
       "    }\n",
       "\n",
       "    .dataframe tbody tr th {\n",
       "        vertical-align: top;\n",
       "    }\n",
       "\n",
       "    .dataframe thead th {\n",
       "        text-align: right;\n",
       "    }\n",
       "</style>\n",
       "<table border=\"1\" class=\"dataframe\">\n",
       "  <thead>\n",
       "    <tr style=\"text-align: right;\">\n",
       "      <th></th>\n",
       "      <th>idsensore</th>\n",
       "      <th>data</th>\n",
       "      <th>valore</th>\n",
       "      <th>stato</th>\n",
       "      <th>idoperatore</th>\n",
       "    </tr>\n",
       "  </thead>\n",
       "  <tbody>\n",
       "    <tr>\n",
       "      <th>0</th>\n",
       "      <td>5652</td>\n",
       "      <td>2020-01-01 00:00:00</td>\n",
       "      <td>-9999.0</td>\n",
       "      <td>NaN</td>\n",
       "      <td>1</td>\n",
       "    </tr>\n",
       "    <tr>\n",
       "      <th>1</th>\n",
       "      <td>5710</td>\n",
       "      <td>2020-01-01 00:00:00</td>\n",
       "      <td>-9999.0</td>\n",
       "      <td>NaN</td>\n",
       "      <td>1</td>\n",
       "    </tr>\n",
       "    <tr>\n",
       "      <th>2</th>\n",
       "      <td>6411</td>\n",
       "      <td>2020-01-01 00:00:00</td>\n",
       "      <td>1.0</td>\n",
       "      <td>VA</td>\n",
       "      <td>1</td>\n",
       "    </tr>\n",
       "    <tr>\n",
       "      <th>3</th>\n",
       "      <td>5504</td>\n",
       "      <td>2020-01-01 00:00:00</td>\n",
       "      <td>125.0</td>\n",
       "      <td>VA</td>\n",
       "      <td>1</td>\n",
       "    </tr>\n",
       "    <tr>\n",
       "      <th>4</th>\n",
       "      <td>5507</td>\n",
       "      <td>2020-01-01 00:00:00</td>\n",
       "      <td>63.8</td>\n",
       "      <td>VA</td>\n",
       "      <td>1</td>\n",
       "    </tr>\n",
       "    <tr>\n",
       "      <th>...</th>\n",
       "      <td>...</td>\n",
       "      <td>...</td>\n",
       "      <td>...</td>\n",
       "      <td>...</td>\n",
       "      <td>...</td>\n",
       "    </tr>\n",
       "    <tr>\n",
       "      <th>2620275</th>\n",
       "      <td>30159</td>\n",
       "      <td>2020-12-31 23:00:00</td>\n",
       "      <td>44.6</td>\n",
       "      <td>VA</td>\n",
       "      <td>1</td>\n",
       "    </tr>\n",
       "    <tr>\n",
       "      <th>2620276</th>\n",
       "      <td>30160</td>\n",
       "      <td>2020-12-31 23:00:00</td>\n",
       "      <td>38.9</td>\n",
       "      <td>VA</td>\n",
       "      <td>1</td>\n",
       "    </tr>\n",
       "    <tr>\n",
       "      <th>2620277</th>\n",
       "      <td>30162</td>\n",
       "      <td>2020-12-31 23:00:00</td>\n",
       "      <td>75.4</td>\n",
       "      <td>VA</td>\n",
       "      <td>1</td>\n",
       "    </tr>\n",
       "    <tr>\n",
       "      <th>2620278</th>\n",
       "      <td>30163</td>\n",
       "      <td>2020-12-31 23:00:00</td>\n",
       "      <td>44.8</td>\n",
       "      <td>VA</td>\n",
       "      <td>1</td>\n",
       "    </tr>\n",
       "    <tr>\n",
       "      <th>2620279</th>\n",
       "      <td>30165</td>\n",
       "      <td>2020-12-31 23:00:00</td>\n",
       "      <td>4.6</td>\n",
       "      <td>VA</td>\n",
       "      <td>1</td>\n",
       "    </tr>\n",
       "  </tbody>\n",
       "</table>\n",
       "<p>2620280 rows × 5 columns</p>\n",
       "</div>"
      ],
      "text/plain": [
       "         idsensore                data  valore stato  idoperatore\n",
       "0             5652 2020-01-01 00:00:00 -9999.0   NaN            1\n",
       "1             5710 2020-01-01 00:00:00 -9999.0   NaN            1\n",
       "2             6411 2020-01-01 00:00:00     1.0    VA            1\n",
       "3             5504 2020-01-01 00:00:00   125.0    VA            1\n",
       "4             5507 2020-01-01 00:00:00    63.8    VA            1\n",
       "...            ...                 ...     ...   ...          ...\n",
       "2620275      30159 2020-12-31 23:00:00    44.6    VA            1\n",
       "2620276      30160 2020-12-31 23:00:00    38.9    VA            1\n",
       "2620277      30162 2020-12-31 23:00:00    75.4    VA            1\n",
       "2620278      30163 2020-12-31 23:00:00    44.8    VA            1\n",
       "2620279      30165 2020-12-31 23:00:00     4.6    VA            1\n",
       "\n",
       "[2620280 rows x 5 columns]"
      ]
     },
     "execution_count": 29,
     "metadata": {},
     "output_type": "execute_result"
    }
   ],
   "source": [
    "aq_data"
   ]
  },
  {
   "cell_type": "markdown",
   "id": "d631c3fc",
   "metadata": {},
   "source": [
    "Select date range:"
   ]
  },
  {
   "cell_type": "code",
   "execution_count": 30,
   "id": "be25cf39",
   "metadata": {},
   "outputs": [],
   "source": [
    "mask = (aq_data.data >= start_date) & (aq_data.data <= end_date)\n",
    "aq_data = aq_data.loc[mask]"
   ]
  },
  {
   "cell_type": "markdown",
   "id": "290a97b0",
   "metadata": {},
   "source": [
    "- - -"
   ]
  },
  {
   "cell_type": "markdown",
   "id": "5fe9e011",
   "metadata": {},
   "source": [
    "# Air quality data processing"
   ]
  },
  {
   "cell_type": "markdown",
   "id": "1e9f68f9",
   "metadata": {},
   "source": [
    "Drop \"stato\" and \"idoperatore\" columns and select valid values different from -9999:"
   ]
  },
  {
   "cell_type": "code",
   "execution_count": 31,
   "id": "9ec42686",
   "metadata": {},
   "outputs": [],
   "source": [
    "aq_data = aq_data.drop(columns=['stato', 'idoperatore'])"
   ]
  },
  {
   "cell_type": "code",
   "execution_count": 32,
   "id": "7d51c154",
   "metadata": {},
   "outputs": [],
   "source": [
    "aq_data = aq_data[aq_data.valore.astype(float) != -9999]"
   ]
  },
  {
   "cell_type": "markdown",
   "id": "ea3e87c3",
   "metadata": {},
   "source": [
    "Z-Test to remove outliers:"
   ]
  },
  {
   "cell_type": "code",
   "execution_count": 33,
   "id": "33f1f03a",
   "metadata": {},
   "outputs": [],
   "source": [
    "aq_data['zscore'] = np.abs(stats.zscore(aq_data['valore'], nan_policy='propagate'))\n",
    "# print(np.where(aq_data['zscore'] > 3))\n",
    "aq_data = aq_data[aq_data.zscore < threshold]"
   ]
  },
  {
   "cell_type": "markdown",
   "id": "07e49f69",
   "metadata": {},
   "source": [
    "This part calculates the mean value for each sensor in the time range provided:"
   ]
  },
  {
   "cell_type": "code",
   "execution_count": 34,
   "id": "f20c59d4",
   "metadata": {},
   "outputs": [],
   "source": [
    "aq_means = aq_data.groupby(['idsensore'],as_index=False).mean()"
   ]
  },
  {
   "cell_type": "markdown",
   "id": "bed5f022",
   "metadata": {},
   "source": [
    "Join sensors description and information with the mean value:"
   ]
  },
  {
   "cell_type": "code",
   "execution_count": 35,
   "id": "081fd777",
   "metadata": {},
   "outputs": [],
   "source": [
    "aq_table = pd.merge(aq_means, air_st_descr, on='idsensore')"
   ]
  },
  {
   "cell_type": "markdown",
   "id": "66af98ca",
   "metadata": {},
   "source": [
    "Get the unique sensor type names:"
   ]
  },
  {
   "cell_type": "code",
   "execution_count": 36,
   "id": "b76ad095",
   "metadata": {},
   "outputs": [
    {
     "data": {
      "text/plain": [
       "array(['Ossidi di Azoto', 'Monossido di Carbonio', 'Biossido di Azoto',\n",
       "       'Biossido di Zolfo', 'Particelle sospese PM2.5', 'Benzene',\n",
       "       'Ozono', 'PM10 (SM2005)', 'Particolato Totale Sospeso',\n",
       "       'Ammoniaca', 'Nikel', 'Arsenico', 'Cadmio', 'Piombo',\n",
       "       'Benzo(a)pirene', 'BlackCarbon', 'Monossido di Azoto', 'PM10'],\n",
       "      dtype=object)"
      ]
     },
     "execution_count": 36,
     "metadata": {},
     "output_type": "execute_result"
    }
   ],
   "source": [
    "air_st_descr.nometiposensore.unique()"
   ]
  },
  {
   "cell_type": "markdown",
   "id": "d7b38e5b",
   "metadata": {},
   "source": [
    "Select sensors adding their names to the list:"
   ]
  },
  {
   "cell_type": "code",
   "execution_count": 37,
   "id": "bd53a61c",
   "metadata": {},
   "outputs": [],
   "source": [
    "sensor_sel = ['Ossidi di Azoto', 'Monossido di Carbonio', 'Biossido di Azoto','Ozono',\n",
    "       'Biossido di Zolfo', 'Particelle sospese PM2.5','Ammoniaca','PM10 (SM2005)']"
   ]
  },
  {
   "cell_type": "code",
   "execution_count": 38,
   "id": "fc4d1d44",
   "metadata": {},
   "outputs": [],
   "source": [
    "aq_table['nometiposensore'].astype(str)\n",
    "aq_table = aq_table[aq_table['nometiposensore'].isin(sensor_sel)]"
   ]
  },
  {
   "cell_type": "markdown",
   "id": "f305ba7c",
   "metadata": {},
   "source": [
    "Save sensors separately and create a .gpkg file for each one:"
   ]
  },
  {
   "cell_type": "code",
   "execution_count": 39,
   "id": "a4a9cde8",
   "metadata": {},
   "outputs": [],
   "source": [
    "# nox = aq_table.loc[aq_table['nometiposensore'] == 'Ossidi di Azoto']\n",
    "pm25 = aq_table.loc[aq_table['nometiposensore'] == 'Particelle sospese PM2.5']\n",
    "co = aq_table.loc[aq_table['nometiposensore'] == 'Monossido di Carbonio']\n",
    "no2 = aq_table.loc[aq_table['nometiposensore'] == 'Biossido di Azoto']\n",
    "so2 = aq_table.loc[aq_table['nometiposensore'] == 'Biossido di Zolfo']\n",
    "nh3 = aq_table.loc[aq_table['nometiposensore'] == 'Ammoniaca']\n",
    "nox = aq_table.loc[aq_table['nometiposensore'] == 'Ossidi di Azoto']\n",
    "pm10 = aq_table.loc[aq_table['nometiposensore'] == 'PM10 (SM2005)']\n",
    "ozono = aq_table.loc[aq_table['nometiposensore'] == 'Ozono']"
   ]
  },
  {
   "cell_type": "code",
   "execution_count": 40,
   "id": "48c1a145",
   "metadata": {},
   "outputs": [],
   "source": [
    "pm25_gdf = gpd.GeoDataFrame(pm25, geometry=gpd.points_from_xy(pm25.lng, pm25.lat))\n",
    "pm25_gdf = pm25_gdf.set_crs('epsg:4326')"
   ]
  },
  {
   "cell_type": "code",
   "execution_count": 41,
   "id": "6dc00511",
   "metadata": {},
   "outputs": [],
   "source": [
    "co_gdf = gpd.GeoDataFrame(co, geometry=gpd.points_from_xy(co.lng, co.lat))\n",
    "co_gdf = co_gdf.set_crs('epsg:4326', inplace=True)"
   ]
  },
  {
   "cell_type": "code",
   "execution_count": 42,
   "id": "111d3bef",
   "metadata": {},
   "outputs": [],
   "source": [
    "no2_gdf = gpd.GeoDataFrame(no2, geometry=gpd.points_from_xy(no2.lng, no2.lat))\n",
    "no2_gdf = no2_gdf.set_crs('epsg:4326')"
   ]
  },
  {
   "cell_type": "code",
   "execution_count": 43,
   "id": "677ed0e0",
   "metadata": {},
   "outputs": [],
   "source": [
    "so2_gdf = gpd.GeoDataFrame(so2, geometry=gpd.points_from_xy(so2.lng, so2.lat))\n",
    "so2_gdf = so2_gdf.set_crs('epsg:4326')"
   ]
  },
  {
   "cell_type": "code",
   "execution_count": 44,
   "id": "b0781c42",
   "metadata": {},
   "outputs": [],
   "source": [
    "nh3_gdf = gpd.GeoDataFrame(nh3, geometry=gpd.points_from_xy(nh3.lng, nh3.lat))\n",
    "nh3_gdf = nh3_gdf.set_crs('epsg:4326')"
   ]
  },
  {
   "cell_type": "code",
   "execution_count": 45,
   "id": "96436f95",
   "metadata": {},
   "outputs": [],
   "source": [
    "nox_gdf = gpd.GeoDataFrame(nox, geometry=gpd.points_from_xy(nox.lng, nox.lat))\n",
    "nox_gdf = nox_gdf.set_crs('epsg:4326')"
   ]
  },
  {
   "cell_type": "code",
   "execution_count": 46,
   "id": "4f3ba68e",
   "metadata": {},
   "outputs": [],
   "source": [
    "pm10_gdf = gpd.GeoDataFrame(pm10, geometry=gpd.points_from_xy(pm10.lng, pm10.lat))\n",
    "pm10_gdf = pm10_gdf.set_crs('epsg:4326')"
   ]
  },
  {
   "cell_type": "code",
   "execution_count": 47,
   "id": "2c4fb661",
   "metadata": {},
   "outputs": [],
   "source": [
    "ozono_gdf = gpd.GeoDataFrame(ozono, geometry=gpd.points_from_xy(ozono.lng, ozono.lat))\n",
    "ozono_gdf = ozono_gdf.set_crs('epsg:4326')"
   ]
  },
  {
   "cell_type": "markdown",
   "id": "7d21aca7",
   "metadata": {},
   "source": [
    "Create a **temp** folder:"
   ]
  },
  {
   "cell_type": "code",
   "execution_count": 48,
   "id": "8b31e1ba",
   "metadata": {},
   "outputs": [],
   "source": [
    "pm25_gdf.to_file(cwd+\"/temp/pm25_st.gpkg\", driver=\"GPKG\")\n",
    "co_gdf.to_file(cwd+\"/temp/co_st.gpkg\", driver=\"GPKG\")\n",
    "no2_gdf.to_file(cwd+\"/temp/no2_st.gpkg\", driver=\"GPKG\")\n",
    "so2_gdf.to_file(cwd+\"/temp/so2_st.gpkg\", driver=\"GPKG\")\n",
    "nh3_gdf.to_file(cwd+\"/temp/amm_st.gpkg\", driver=\"GPKG\")\n",
    "nox_gdf.to_file(cwd+\"/temp/nox_st.gpkg\", driver=\"GPKG\")\n",
    "pm10_gdf.to_file(cwd+\"/temp/pm10_st.gpkg\", driver=\"GPKG\")\n",
    "ozono_gdf.to_file(cwd+\"/temp/o3_st.gpkg\", driver=\"GPKG\")"
   ]
  },
  {
   "cell_type": "markdown",
   "id": "7fc23d6a",
   "metadata": {},
   "source": [
    "- - -"
   ]
  },
  {
   "cell_type": "markdown",
   "id": "d1a2ef3a",
   "metadata": {},
   "source": [
    "# Import meteorological stations from ARPA API"
   ]
  },
  {
   "cell_type": "markdown",
   "id": "f837e094",
   "metadata": {},
   "source": [
    "https://www.dati.lombardia.it/Ambiente/Dati-sensori-meteo-2020/erjn-istm"
   ]
  },
  {
   "cell_type": "code",
   "execution_count": 49,
   "id": "8f8f1ba1",
   "metadata": {},
   "outputs": [],
   "source": [
    "arpa_domain = \"www.dati.lombardia.it\"\n",
    "m_st_descr = \"nf78-nj6b\""
   ]
  },
  {
   "cell_type": "code",
   "execution_count": 50,
   "id": "bff5a6b7",
   "metadata": {},
   "outputs": [],
   "source": [
    "client = Socrata(arpa_domain, app_token = \"riTLzYVRVdDaQtUkxDDaHRgJi\")"
   ]
  },
  {
   "cell_type": "code",
   "execution_count": 51,
   "id": "522c6cf7",
   "metadata": {},
   "outputs": [],
   "source": [
    "results = client.get_all(m_st_descr)"
   ]
  },
  {
   "cell_type": "code",
   "execution_count": 52,
   "id": "48bca28d",
   "metadata": {},
   "outputs": [],
   "source": [
    "meteo_st_descr = pd.DataFrame(results)"
   ]
  },
  {
   "cell_type": "code",
   "execution_count": 53,
   "id": "0cdd613f",
   "metadata": {},
   "outputs": [],
   "source": [
    "meteo_st_descr[\"idsensore\"] = meteo_st_descr[\"idsensore\"].astype(str).astype(int)"
   ]
  },
  {
   "cell_type": "code",
   "execution_count": 54,
   "id": "6dcbe952",
   "metadata": {},
   "outputs": [
    {
     "data": {
      "text/html": [
       "<div>\n",
       "<style scoped>\n",
       "    .dataframe tbody tr th:only-of-type {\n",
       "        vertical-align: middle;\n",
       "    }\n",
       "\n",
       "    .dataframe tbody tr th {\n",
       "        vertical-align: top;\n",
       "    }\n",
       "\n",
       "    .dataframe thead th {\n",
       "        text-align: right;\n",
       "    }\n",
       "</style>\n",
       "<table border=\"1\" class=\"dataframe\">\n",
       "  <thead>\n",
       "    <tr style=\"text-align: right;\">\n",
       "      <th></th>\n",
       "      <th>idsensore</th>\n",
       "      <th>tipologia</th>\n",
       "      <th>unit_dimisura</th>\n",
       "      <th>idstazione</th>\n",
       "      <th>nomestazione</th>\n",
       "      <th>quota</th>\n",
       "      <th>provincia</th>\n",
       "      <th>datastart</th>\n",
       "      <th>storico</th>\n",
       "      <th>cgb_nord</th>\n",
       "      <th>cgb_est</th>\n",
       "      <th>lng</th>\n",
       "      <th>lat</th>\n",
       "      <th>location</th>\n",
       "      <th>:@computed_region_6hky_swhk</th>\n",
       "      <th>:@computed_region_ttgh_9sm5</th>\n",
       "      <th>datastop</th>\n",
       "    </tr>\n",
       "  </thead>\n",
       "  <tbody>\n",
       "    <tr>\n",
       "      <th>0</th>\n",
       "      <td>100</td>\n",
       "      <td>Precipitazione</td>\n",
       "      <td>mm</td>\n",
       "      <td>52</td>\n",
       "      <td>Grosio Diga Fusino</td>\n",
       "      <td>1220</td>\n",
       "      <td>SO</td>\n",
       "      <td>2002-01-01T00:00:00.000</td>\n",
       "      <td>N</td>\n",
       "      <td>5131141</td>\n",
       "      <td>595908</td>\n",
       "      <td>10.245970197827939</td>\n",
       "      <td>46.327055775545546</td>\n",
       "      <td>{'latitude': '46.327055775545546', 'longitude'...</td>\n",
       "      <td>3</td>\n",
       "      <td>3</td>\n",
       "      <td>NaN</td>\n",
       "    </tr>\n",
       "    <tr>\n",
       "      <th>1</th>\n",
       "      <td>101</td>\n",
       "      <td>Altezza Neve</td>\n",
       "      <td>cm</td>\n",
       "      <td>52</td>\n",
       "      <td>Grosio Diga Fusino</td>\n",
       "      <td>1220</td>\n",
       "      <td>SO</td>\n",
       "      <td>2001-12-01T00:00:00.000</td>\n",
       "      <td>N</td>\n",
       "      <td>5131141</td>\n",
       "      <td>595908</td>\n",
       "      <td>10.245970197827939</td>\n",
       "      <td>46.327055775545546</td>\n",
       "      <td>{'latitude': '46.327055775545546', 'longitude'...</td>\n",
       "      <td>3</td>\n",
       "      <td>3</td>\n",
       "      <td>NaN</td>\n",
       "    </tr>\n",
       "    <tr>\n",
       "      <th>2</th>\n",
       "      <td>10373</td>\n",
       "      <td>Precipitazione</td>\n",
       "      <td>mm</td>\n",
       "      <td>687</td>\n",
       "      <td>Ferno v.Di Dio</td>\n",
       "      <td>215</td>\n",
       "      <td>VA</td>\n",
       "      <td>2007-08-13T00:00:00.000</td>\n",
       "      <td>N</td>\n",
       "      <td>5051773</td>\n",
       "      <td>481053</td>\n",
       "      <td>8.756970445453431</td>\n",
       "      <td>45.61924377994763</td>\n",
       "      <td>{'latitude': '45.61924377994763', 'longitude':...</td>\n",
       "      <td>1</td>\n",
       "      <td>1</td>\n",
       "      <td>NaN</td>\n",
       "    </tr>\n",
       "    <tr>\n",
       "      <th>3</th>\n",
       "      <td>10376</td>\n",
       "      <td>Precipitazione</td>\n",
       "      <td>mm</td>\n",
       "      <td>706</td>\n",
       "      <td>Lecco v.Sora</td>\n",
       "      <td>272</td>\n",
       "      <td>LC</td>\n",
       "      <td>2008-07-22T00:00:00.000</td>\n",
       "      <td>N</td>\n",
       "      <td>5078987</td>\n",
       "      <td>531045</td>\n",
       "      <td>9.399950344681852</td>\n",
       "      <td>45.86374884127965</td>\n",
       "      <td>{'latitude': '45.86374884127965', 'longitude':...</td>\n",
       "      <td>10</td>\n",
       "      <td>10</td>\n",
       "      <td>NaN</td>\n",
       "    </tr>\n",
       "    <tr>\n",
       "      <th>4</th>\n",
       "      <td>10377</td>\n",
       "      <td>Temperatura</td>\n",
       "      <td>°C</td>\n",
       "      <td>706</td>\n",
       "      <td>Lecco v.Sora</td>\n",
       "      <td>272</td>\n",
       "      <td>LC</td>\n",
       "      <td>2008-07-22T00:00:00.000</td>\n",
       "      <td>N</td>\n",
       "      <td>5078987</td>\n",
       "      <td>531045</td>\n",
       "      <td>9.399950344681852</td>\n",
       "      <td>45.86374884127965</td>\n",
       "      <td>{'latitude': '45.86374884127965', 'longitude':...</td>\n",
       "      <td>10</td>\n",
       "      <td>10</td>\n",
       "      <td>NaN</td>\n",
       "    </tr>\n",
       "    <tr>\n",
       "      <th>...</th>\n",
       "      <td>...</td>\n",
       "      <td>...</td>\n",
       "      <td>...</td>\n",
       "      <td>...</td>\n",
       "      <td>...</td>\n",
       "      <td>...</td>\n",
       "      <td>...</td>\n",
       "      <td>...</td>\n",
       "      <td>...</td>\n",
       "      <td>...</td>\n",
       "      <td>...</td>\n",
       "      <td>...</td>\n",
       "      <td>...</td>\n",
       "      <td>...</td>\n",
       "      <td>...</td>\n",
       "      <td>...</td>\n",
       "      <td>...</td>\n",
       "    </tr>\n",
       "    <tr>\n",
       "      <th>1257</th>\n",
       "      <td>99</td>\n",
       "      <td>Temperatura</td>\n",
       "      <td>°C</td>\n",
       "      <td>52</td>\n",
       "      <td>Grosio Diga Fusino</td>\n",
       "      <td>1220</td>\n",
       "      <td>SO</td>\n",
       "      <td>2001-12-01T00:00:00.000</td>\n",
       "      <td>N</td>\n",
       "      <td>5131141</td>\n",
       "      <td>595908</td>\n",
       "      <td>10.245970197827939</td>\n",
       "      <td>46.327055775545546</td>\n",
       "      <td>{'latitude': '46.327055775545546', 'longitude'...</td>\n",
       "      <td>3</td>\n",
       "      <td>3</td>\n",
       "      <td>NaN</td>\n",
       "    </tr>\n",
       "    <tr>\n",
       "      <th>1258</th>\n",
       "      <td>9933</td>\n",
       "      <td>Precipitazione</td>\n",
       "      <td>mm</td>\n",
       "      <td>677</td>\n",
       "      <td>Cremona Via Fatebenefratelli</td>\n",
       "      <td>43</td>\n",
       "      <td>CR</td>\n",
       "      <td>2006-04-10T00:00:00.000</td>\n",
       "      <td>N</td>\n",
       "      <td>4999315</td>\n",
       "      <td>582066</td>\n",
       "      <td>10.043836158369393</td>\n",
       "      <td>45.14254063221695</td>\n",
       "      <td>{'latitude': '45.14254063221695', 'longitude':...</td>\n",
       "      <td>8</td>\n",
       "      <td>8</td>\n",
       "      <td>NaN</td>\n",
       "    </tr>\n",
       "    <tr>\n",
       "      <th>1259</th>\n",
       "      <td>9935</td>\n",
       "      <td>Radiazione Globale</td>\n",
       "      <td>W/m²</td>\n",
       "      <td>677</td>\n",
       "      <td>Cremona Via Fatebenefratelli</td>\n",
       "      <td>43</td>\n",
       "      <td>CR</td>\n",
       "      <td>2006-04-10T00:00:00.000</td>\n",
       "      <td>N</td>\n",
       "      <td>4999315</td>\n",
       "      <td>582066</td>\n",
       "      <td>10.043836158369393</td>\n",
       "      <td>45.14254063221695</td>\n",
       "      <td>{'latitude': '45.14254063221695', 'longitude':...</td>\n",
       "      <td>8</td>\n",
       "      <td>8</td>\n",
       "      <td>NaN</td>\n",
       "    </tr>\n",
       "    <tr>\n",
       "      <th>1260</th>\n",
       "      <td>9938</td>\n",
       "      <td>Temperatura</td>\n",
       "      <td>°C</td>\n",
       "      <td>677</td>\n",
       "      <td>Cremona Via Fatebenefratelli</td>\n",
       "      <td>43</td>\n",
       "      <td>CR</td>\n",
       "      <td>2006-04-10T00:00:00.000</td>\n",
       "      <td>N</td>\n",
       "      <td>4999315</td>\n",
       "      <td>582066</td>\n",
       "      <td>10.043836158369393</td>\n",
       "      <td>45.14254063221695</td>\n",
       "      <td>{'latitude': '45.14254063221695', 'longitude':...</td>\n",
       "      <td>8</td>\n",
       "      <td>8</td>\n",
       "      <td>NaN</td>\n",
       "    </tr>\n",
       "    <tr>\n",
       "      <th>1261</th>\n",
       "      <td>9939</td>\n",
       "      <td>Umidità Relativa</td>\n",
       "      <td>%</td>\n",
       "      <td>677</td>\n",
       "      <td>Cremona Via Fatebenefratelli</td>\n",
       "      <td>43</td>\n",
       "      <td>CR</td>\n",
       "      <td>2006-04-10T00:00:00.000</td>\n",
       "      <td>N</td>\n",
       "      <td>4999315</td>\n",
       "      <td>582066</td>\n",
       "      <td>10.043836158369393</td>\n",
       "      <td>45.14254063221695</td>\n",
       "      <td>{'latitude': '45.14254063221695', 'longitude':...</td>\n",
       "      <td>8</td>\n",
       "      <td>8</td>\n",
       "      <td>NaN</td>\n",
       "    </tr>\n",
       "  </tbody>\n",
       "</table>\n",
       "<p>1262 rows × 17 columns</p>\n",
       "</div>"
      ],
      "text/plain": [
       "      idsensore           tipologia unit_dimisura idstazione  \\\n",
       "0           100      Precipitazione            mm         52   \n",
       "1           101        Altezza Neve            cm         52   \n",
       "2         10373      Precipitazione            mm        687   \n",
       "3         10376      Precipitazione            mm        706   \n",
       "4         10377         Temperatura            °C        706   \n",
       "...         ...                 ...           ...        ...   \n",
       "1257         99         Temperatura            °C         52   \n",
       "1258       9933      Precipitazione            mm        677   \n",
       "1259       9935  Radiazione Globale          W/m²        677   \n",
       "1260       9938         Temperatura            °C        677   \n",
       "1261       9939    Umidità Relativa             %        677   \n",
       "\n",
       "                      nomestazione quota provincia                datastart  \\\n",
       "0               Grosio Diga Fusino  1220        SO  2002-01-01T00:00:00.000   \n",
       "1               Grosio Diga Fusino  1220        SO  2001-12-01T00:00:00.000   \n",
       "2                   Ferno v.Di Dio   215        VA  2007-08-13T00:00:00.000   \n",
       "3                     Lecco v.Sora   272        LC  2008-07-22T00:00:00.000   \n",
       "4                     Lecco v.Sora   272        LC  2008-07-22T00:00:00.000   \n",
       "...                            ...   ...       ...                      ...   \n",
       "1257            Grosio Diga Fusino  1220        SO  2001-12-01T00:00:00.000   \n",
       "1258  Cremona Via Fatebenefratelli    43        CR  2006-04-10T00:00:00.000   \n",
       "1259  Cremona Via Fatebenefratelli    43        CR  2006-04-10T00:00:00.000   \n",
       "1260  Cremona Via Fatebenefratelli    43        CR  2006-04-10T00:00:00.000   \n",
       "1261  Cremona Via Fatebenefratelli    43        CR  2006-04-10T00:00:00.000   \n",
       "\n",
       "     storico cgb_nord cgb_est                 lng                 lat  \\\n",
       "0          N  5131141  595908  10.245970197827939  46.327055775545546   \n",
       "1          N  5131141  595908  10.245970197827939  46.327055775545546   \n",
       "2          N  5051773  481053   8.756970445453431   45.61924377994763   \n",
       "3          N  5078987  531045   9.399950344681852   45.86374884127965   \n",
       "4          N  5078987  531045   9.399950344681852   45.86374884127965   \n",
       "...      ...      ...     ...                 ...                 ...   \n",
       "1257       N  5131141  595908  10.245970197827939  46.327055775545546   \n",
       "1258       N  4999315  582066  10.043836158369393   45.14254063221695   \n",
       "1259       N  4999315  582066  10.043836158369393   45.14254063221695   \n",
       "1260       N  4999315  582066  10.043836158369393   45.14254063221695   \n",
       "1261       N  4999315  582066  10.043836158369393   45.14254063221695   \n",
       "\n",
       "                                               location  \\\n",
       "0     {'latitude': '46.327055775545546', 'longitude'...   \n",
       "1     {'latitude': '46.327055775545546', 'longitude'...   \n",
       "2     {'latitude': '45.61924377994763', 'longitude':...   \n",
       "3     {'latitude': '45.86374884127965', 'longitude':...   \n",
       "4     {'latitude': '45.86374884127965', 'longitude':...   \n",
       "...                                                 ...   \n",
       "1257  {'latitude': '46.327055775545546', 'longitude'...   \n",
       "1258  {'latitude': '45.14254063221695', 'longitude':...   \n",
       "1259  {'latitude': '45.14254063221695', 'longitude':...   \n",
       "1260  {'latitude': '45.14254063221695', 'longitude':...   \n",
       "1261  {'latitude': '45.14254063221695', 'longitude':...   \n",
       "\n",
       "     :@computed_region_6hky_swhk :@computed_region_ttgh_9sm5 datastop  \n",
       "0                              3                           3      NaN  \n",
       "1                              3                           3      NaN  \n",
       "2                              1                           1      NaN  \n",
       "3                             10                          10      NaN  \n",
       "4                             10                          10      NaN  \n",
       "...                          ...                         ...      ...  \n",
       "1257                           3                           3      NaN  \n",
       "1258                           8                           8      NaN  \n",
       "1259                           8                           8      NaN  \n",
       "1260                           8                           8      NaN  \n",
       "1261                           8                           8      NaN  \n",
       "\n",
       "[1262 rows x 17 columns]"
      ]
     },
     "execution_count": 54,
     "metadata": {},
     "output_type": "execute_result"
    }
   ],
   "source": [
    "meteo_st_descr"
   ]
  },
  {
   "cell_type": "markdown",
   "id": "d4079674",
   "metadata": {},
   "source": [
    "- - -"
   ]
  },
  {
   "cell_type": "markdown",
   "id": "2724551c",
   "metadata": {},
   "source": [
    "<a id='meteo_data_api'></a>\n",
    "# Import meteorological data from API"
   ]
  },
  {
   "cell_type": "markdown",
   "id": "bf0363cc",
   "metadata": {},
   "source": [
    "Skip to [meteorological data import from .csv](#meteo_data_csv) data if required. The API works for current year data only.\n",
    "- missing jenuary 2022"
   ]
  },
  {
   "cell_type": "code",
   "execution_count": null,
   "id": "8a62881e",
   "metadata": {},
   "outputs": [],
   "source": [
    "arpa_domain = \"www.dati.lombardia.it\"\n",
    "dati = \"647i-nhxk\" #change this depending on the dataset (check Open Data Lombardia datasets)"
   ]
  },
  {
   "cell_type": "code",
   "execution_count": null,
   "id": "14645551",
   "metadata": {},
   "outputs": [],
   "source": [
    "client = Socrata(arpa_domain, app_token = keys['arpa_token']) #insert your arpa_token"
   ]
  },
  {
   "cell_type": "markdown",
   "id": "536714ff",
   "metadata": {},
   "source": [
    "The date must be changed from the following request:"
   ]
  },
  {
   "cell_type": "code",
   "execution_count": null,
   "id": "c101e8d9",
   "metadata": {},
   "outputs": [],
   "source": [
    "date_query = \"data > {} and data < {}\".format(start_date_api,end_date_api)\n",
    "date_query"
   ]
  },
  {
   "cell_type": "code",
   "execution_count": null,
   "id": "023e971f",
   "metadata": {},
   "outputs": [],
   "source": [
    "results = client.get(dati, where=date_query, limit=5000000000)"
   ]
  },
  {
   "cell_type": "code",
   "execution_count": null,
   "id": "8ef26eef",
   "metadata": {},
   "outputs": [],
   "source": [
    "meteo_data = pd.DataFrame(results)\n",
    "meteo_data"
   ]
  },
  {
   "cell_type": "code",
   "execution_count": null,
   "id": "eb2a7a32",
   "metadata": {},
   "outputs": [],
   "source": [
    "meteo_data['data'] =  pd.to_datetime(meteo_data['data'], format='%Y/%m/%d %H:%M:%S')"
   ]
  },
  {
   "cell_type": "code",
   "execution_count": null,
   "id": "89f368dd",
   "metadata": {},
   "outputs": [],
   "source": [
    "meteo_data = meteo_data.astype({\"idsensore\": int,\"valore\": float})"
   ]
  },
  {
   "cell_type": "markdown",
   "id": "f0501abf",
   "metadata": {},
   "source": [
    "<a id='meteo_data_csv'></a>\n",
    "# Import climate data from ARPA .csv file"
   ]
  },
  {
   "cell_type": "markdown",
   "id": "8c7b9674",
   "metadata": {},
   "source": [
    "Go back to [meteorological data import from API](#meteo_data_api) data if required. Used to access data from past years (not current one)."
   ]
  },
  {
   "cell_type": "markdown",
   "id": "a666a4b5",
   "metadata": {},
   "source": [
    "Download the .csv data for the selected year in a zip folder. Read the .csv file and put it in a dataframe:"
   ]
  },
  {
   "cell_type": "code",
   "execution_count": 55,
   "id": "c268e548",
   "metadata": {},
   "outputs": [],
   "source": [
    "csv_url = my_methods.meteo_sensor(year)\n",
    "r = requests.get(csv_url, allow_redirects=True)\n",
    "DL_zip = open('meteo_'+str(year)+'.zip', 'wb').write(r.content)\n",
    "archive = zipfile.ZipFile('meteo_'+str(year)+'.zip', 'r')\n",
    "data = archive.open(str(year)+'.csv')"
   ]
  },
  {
   "cell_type": "code",
   "execution_count": 56,
   "id": "d711e785",
   "metadata": {},
   "outputs": [],
   "source": [
    "meteo_data = pd.read_csv(data, dtype={\"IdSensore\": int,\"Valore\": float, \"Stato\": str, \"idOperatore\":str})"
   ]
  },
  {
   "cell_type": "markdown",
   "id": "34163fea",
   "metadata": {},
   "source": [
    "Rename columns:"
   ]
  },
  {
   "cell_type": "code",
   "execution_count": 57,
   "id": "973c2401",
   "metadata": {},
   "outputs": [
    {
     "data": {
      "text/html": [
       "<div>\n",
       "<style scoped>\n",
       "    .dataframe tbody tr th:only-of-type {\n",
       "        vertical-align: middle;\n",
       "    }\n",
       "\n",
       "    .dataframe tbody tr th {\n",
       "        vertical-align: top;\n",
       "    }\n",
       "\n",
       "    .dataframe thead th {\n",
       "        text-align: right;\n",
       "    }\n",
       "</style>\n",
       "<table border=\"1\" class=\"dataframe\">\n",
       "  <thead>\n",
       "    <tr style=\"text-align: right;\">\n",
       "      <th></th>\n",
       "      <th>idsensore</th>\n",
       "      <th>data</th>\n",
       "      <th>valore</th>\n",
       "      <th>stato</th>\n",
       "      <th>idoperatore</th>\n",
       "    </tr>\n",
       "  </thead>\n",
       "  <tbody>\n",
       "    <tr>\n",
       "      <th>0</th>\n",
       "      <td>9</td>\n",
       "      <td>01/01/2020 00:00:00</td>\n",
       "      <td>0.0</td>\n",
       "      <td>VA</td>\n",
       "      <td>4</td>\n",
       "    </tr>\n",
       "    <tr>\n",
       "      <th>1</th>\n",
       "      <td>46</td>\n",
       "      <td>01/01/2020 00:00:00</td>\n",
       "      <td>0.0</td>\n",
       "      <td>VA</td>\n",
       "      <td>4</td>\n",
       "    </tr>\n",
       "    <tr>\n",
       "      <th>2</th>\n",
       "      <td>115</td>\n",
       "      <td>01/01/2020 00:00:00</td>\n",
       "      <td>2.9</td>\n",
       "      <td>VA</td>\n",
       "      <td>1</td>\n",
       "    </tr>\n",
       "    <tr>\n",
       "      <th>3</th>\n",
       "      <td>116</td>\n",
       "      <td>01/01/2020 00:00:00</td>\n",
       "      <td>0.0</td>\n",
       "      <td>VA</td>\n",
       "      <td>4</td>\n",
       "    </tr>\n",
       "    <tr>\n",
       "      <th>4</th>\n",
       "      <td>117</td>\n",
       "      <td>01/01/2020 00:00:00</td>\n",
       "      <td>214.0</td>\n",
       "      <td>VA</td>\n",
       "      <td>1</td>\n",
       "    </tr>\n",
       "    <tr>\n",
       "      <th>...</th>\n",
       "      <td>...</td>\n",
       "      <td>...</td>\n",
       "      <td>...</td>\n",
       "      <td>...</td>\n",
       "      <td>...</td>\n",
       "    </tr>\n",
       "    <tr>\n",
       "      <th>61502700</th>\n",
       "      <td>12713</td>\n",
       "      <td>31/12/2020 23:50:00</td>\n",
       "      <td>2.7</td>\n",
       "      <td>VA</td>\n",
       "      <td>3</td>\n",
       "    </tr>\n",
       "    <tr>\n",
       "      <th>61502701</th>\n",
       "      <td>12712</td>\n",
       "      <td>31/12/2020 23:50:00</td>\n",
       "      <td>262.0</td>\n",
       "      <td>VA</td>\n",
       "      <td>3</td>\n",
       "    </tr>\n",
       "    <tr>\n",
       "      <th>61502702</th>\n",
       "      <td>11653</td>\n",
       "      <td>31/12/2020 23:50:00</td>\n",
       "      <td>2.0</td>\n",
       "      <td>VA</td>\n",
       "      <td>3</td>\n",
       "    </tr>\n",
       "    <tr>\n",
       "      <th>61502703</th>\n",
       "      <td>11839</td>\n",
       "      <td>31/12/2020 23:50:00</td>\n",
       "      <td>12.0</td>\n",
       "      <td>VA</td>\n",
       "      <td>3</td>\n",
       "    </tr>\n",
       "    <tr>\n",
       "      <th>61502704</th>\n",
       "      <td>8181</td>\n",
       "      <td>31/12/2020 23:50:00</td>\n",
       "      <td>40.0</td>\n",
       "      <td>VA</td>\n",
       "      <td>1</td>\n",
       "    </tr>\n",
       "  </tbody>\n",
       "</table>\n",
       "<p>61502705 rows × 5 columns</p>\n",
       "</div>"
      ],
      "text/plain": [
       "          idsensore                 data  valore stato idoperatore\n",
       "0                 9  01/01/2020 00:00:00     0.0    VA           4\n",
       "1                46  01/01/2020 00:00:00     0.0    VA           4\n",
       "2               115  01/01/2020 00:00:00     2.9    VA           1\n",
       "3               116  01/01/2020 00:00:00     0.0    VA           4\n",
       "4               117  01/01/2020 00:00:00   214.0    VA           1\n",
       "...             ...                  ...     ...   ...         ...\n",
       "61502700      12713  31/12/2020 23:50:00     2.7    VA           3\n",
       "61502701      12712  31/12/2020 23:50:00   262.0    VA           3\n",
       "61502702      11653  31/12/2020 23:50:00     2.0    VA           3\n",
       "61502703      11839  31/12/2020 23:50:00    12.0    VA           3\n",
       "61502704       8181  31/12/2020 23:50:00    40.0    VA           1\n",
       "\n",
       "[61502705 rows x 5 columns]"
      ]
     },
     "execution_count": 57,
     "metadata": {},
     "output_type": "execute_result"
    }
   ],
   "source": [
    "meteo_data.rename(columns={'IdSensore': 'idsensore','Data': 'data','idOperatore': 'idoperatore','Stato': 'stato','Valore': 'valore'}, inplace=True)\n",
    "meteo_data"
   ]
  },
  {
   "cell_type": "markdown",
   "id": "39e9ebe5",
   "metadata": {},
   "source": [
    "Set date format:"
   ]
  },
  {
   "cell_type": "code",
   "execution_count": 58,
   "id": "456d37b8",
   "metadata": {},
   "outputs": [],
   "source": [
    "meteo_data['data'] =  pd.to_datetime(meteo_data['data'], format='%d/%m/%Y %H:%M:%S')"
   ]
  },
  {
   "cell_type": "markdown",
   "id": "bb929267",
   "metadata": {},
   "source": [
    "Filter date range:"
   ]
  },
  {
   "cell_type": "code",
   "execution_count": 59,
   "id": "b8b7a482",
   "metadata": {},
   "outputs": [],
   "source": [
    "mask = (meteo_data.data >= start_date) & (meteo_data.data <= end_date)\n",
    "meteo_data = meteo_data.loc[mask]"
   ]
  },
  {
   "cell_type": "markdown",
   "id": "7896ee3a",
   "metadata": {},
   "source": [
    "- - -"
   ]
  },
  {
   "cell_type": "markdown",
   "id": "68b0b80f",
   "metadata": {},
   "source": [
    "# Meteorological data processing "
   ]
  },
  {
   "cell_type": "markdown",
   "id": "799f6280",
   "metadata": {},
   "source": [
    "Drop \"stato\", \"idoperatore\" columns and select valid data different from -9999:"
   ]
  },
  {
   "cell_type": "code",
   "execution_count": 60,
   "id": "fdbd41e5",
   "metadata": {},
   "outputs": [],
   "source": [
    "meteo_data = meteo_data.drop(columns=['stato', 'idoperatore'])"
   ]
  },
  {
   "cell_type": "code",
   "execution_count": 61,
   "id": "a55a655f",
   "metadata": {},
   "outputs": [],
   "source": [
    "meteo_data = meteo_data[meteo_data.valore.astype(float) != -9999]"
   ]
  },
  {
   "cell_type": "code",
   "execution_count": 62,
   "id": "4fbacd6f",
   "metadata": {},
   "outputs": [],
   "source": [
    "meteo_data['zscore'] = np.abs(stats.zscore(meteo_data['valore'], nan_policy='propagate'))\n",
    "# print(np.where(aq_data['zscore'] > 3))\n",
    "meteo_data = meteo_data[meteo_data.zscore < threshold]"
   ]
  },
  {
   "cell_type": "markdown",
   "id": "d9a75194",
   "metadata": {},
   "source": [
    "Calculate mean value for each sensor in the time range:"
   ]
  },
  {
   "cell_type": "code",
   "execution_count": 63,
   "id": "db41c0e3",
   "metadata": {},
   "outputs": [],
   "source": [
    "meteo_means = meteo_data.groupby(['idsensore'],as_index=False).mean()"
   ]
  },
  {
   "cell_type": "markdown",
   "id": "95403cea",
   "metadata": {},
   "source": [
    "Join sensors description and information:"
   ]
  },
  {
   "cell_type": "code",
   "execution_count": 64,
   "id": "85c9d40a",
   "metadata": {},
   "outputs": [],
   "source": [
    "meteo_table = pd.merge(meteo_means, meteo_st_descr, on = 'idsensore')"
   ]
  },
  {
   "cell_type": "markdown",
   "id": "9a7666d5",
   "metadata": {},
   "source": [
    "Get sensors unique types:"
   ]
  },
  {
   "cell_type": "code",
   "execution_count": 65,
   "id": "05cb27bd",
   "metadata": {},
   "outputs": [
    {
     "data": {
      "text/plain": [
       "array(['Precipitazione', 'Altezza Neve', 'Temperatura',\n",
       "       'Umidità Relativa', 'Radiazione Globale', 'Direzione Vento',\n",
       "       'Velocità Vento', 'Livello Idrometrico'], dtype=object)"
      ]
     },
     "execution_count": 65,
     "metadata": {},
     "output_type": "execute_result"
    }
   ],
   "source": [
    "meteo_st_descr.tipologia.unique()"
   ]
  },
  {
   "cell_type": "markdown",
   "id": "ba773355",
   "metadata": {},
   "source": [
    "Select sensors adding to the following list:"
   ]
  },
  {
   "cell_type": "code",
   "execution_count": 66,
   "id": "16c37e55",
   "metadata": {},
   "outputs": [],
   "source": [
    "m_sensor_sel = ['Precipitazione','Temperatura','Umidità Relativa','Direzione Vento','Velocità Vento', 'Radiazione Globale']"
   ]
  },
  {
   "cell_type": "code",
   "execution_count": 67,
   "id": "91118ae2",
   "metadata": {},
   "outputs": [],
   "source": [
    "meteo_table['tipologia'].astype(str)\n",
    "meteo_table = meteo_table[meteo_table['tipologia'].isin(m_sensor_sel)]"
   ]
  },
  {
   "cell_type": "markdown",
   "id": "cb40326d",
   "metadata": {},
   "source": [
    "Save sensors separately and create a .gpkg file for each one:"
   ]
  },
  {
   "cell_type": "code",
   "execution_count": 68,
   "id": "3b1d26c4",
   "metadata": {},
   "outputs": [],
   "source": [
    "temp_st = meteo_table.loc[meteo_table['tipologia'] == 'Temperatura']\n",
    "prec_st = meteo_table.loc[meteo_table['tipologia'] == 'Precipitazione']\n",
    "air_hum_st = meteo_table.loc[meteo_table['tipologia'] == 'Umidità Relativa']\n",
    "wind_dir_st = meteo_table.loc[meteo_table['tipologia'] == 'Direzione Vento']\n",
    "wind_speed_st = meteo_table.loc[meteo_table['tipologia'] == 'Velocità Vento']\n",
    "rad_glob_st = meteo_table.loc[meteo_table['tipologia'] == 'Radiazione Globale']"
   ]
  },
  {
   "cell_type": "code",
   "execution_count": 69,
   "id": "879efd88",
   "metadata": {},
   "outputs": [],
   "source": [
    "temp_gdf = gpd.GeoDataFrame(temp_st, geometry=gpd.points_from_xy(temp_st.lng, temp_st.lat))\n",
    "temp_gdf = temp_gdf.set_crs('epsg:4326')"
   ]
  },
  {
   "cell_type": "code",
   "execution_count": 70,
   "id": "2b216321",
   "metadata": {},
   "outputs": [],
   "source": [
    "prec_gdf = gpd.GeoDataFrame(prec_st, geometry=gpd.points_from_xy(prec_st.lng, prec_st.lat))\n",
    "prec_gdf = prec_gdf.set_crs('epsg:4326')"
   ]
  },
  {
   "cell_type": "code",
   "execution_count": 71,
   "id": "1d24e351",
   "metadata": {},
   "outputs": [],
   "source": [
    "air_hum_gdf = gpd.GeoDataFrame(air_hum_st, geometry=gpd.points_from_xy(air_hum_st.lng, air_hum_st.lat))\n",
    "air_hum_gdf = air_hum_gdf.set_crs('epsg:4326')"
   ]
  },
  {
   "cell_type": "code",
   "execution_count": 72,
   "id": "4b468a92",
   "metadata": {},
   "outputs": [],
   "source": [
    "wind_dir_gdf = gpd.GeoDataFrame(wind_dir_st, geometry=gpd.points_from_xy(wind_dir_st.lng, wind_dir_st.lat))\n",
    "wind_dir_gdf = wind_dir_gdf.set_crs('epsg:4326')"
   ]
  },
  {
   "cell_type": "code",
   "execution_count": 73,
   "id": "773515be",
   "metadata": {},
   "outputs": [],
   "source": [
    "wind_speed_gdf = gpd.GeoDataFrame(wind_speed_st, geometry=gpd.points_from_xy(wind_speed_st.lng, wind_speed_st.lat))\n",
    "wind_speed_gdf = wind_speed_gdf.set_crs('epsg:4326')"
   ]
  },
  {
   "cell_type": "code",
   "execution_count": 74,
   "id": "5c13dba5",
   "metadata": {},
   "outputs": [],
   "source": [
    "rad_glob_gdf = gpd.GeoDataFrame(rad_glob_st, geometry=gpd.points_from_xy(rad_glob_st.lng, rad_glob_st.lat))\n",
    "rad_glob_gdf = rad_glob_gdf.set_crs('epsg:4326')"
   ]
  },
  {
   "cell_type": "code",
   "execution_count": 75,
   "id": "bc7280ff",
   "metadata": {},
   "outputs": [],
   "source": [
    "temp_gdf.to_file(cwd+\"/temp/temp_st.gpkg\", driver=\"GPKG\")\n",
    "prec_gdf.to_file(cwd+\"/temp/prec_st.gpkg\", driver=\"GPKG\")\n",
    "air_hum_gdf.to_file(cwd+\"/temp/air_hum_st.gpkg\", driver=\"GPKG\")\n",
    "wind_dir_gdf.to_file(cwd+\"/temp/wind_dir_st.gpkg\", driver=\"GPKG\")\n",
    "wind_speed_gdf.to_file(cwd+\"/temp/wind_speed_st.gpkg\", driver=\"GPKG\")\n",
    "rad_glob_gdf.to_file(cwd+\"/temp/rad_glob_st.gpkg\", driver=\"GPKG\")"
   ]
  },
  {
   "cell_type": "markdown",
   "id": "60eb6f3c",
   "metadata": {},
   "source": [
    "# Sensor interpolation using Ordinary Kriging method"
   ]
  },
  {
   "cell_type": "code",
   "execution_count": 76,
   "id": "650b7616",
   "metadata": {},
   "outputs": [],
   "source": [
    "from pykrige.ok import OrdinaryKriging\n",
    "from pykrige.kriging_tools import write_asc_grid\n",
    "import pykrige.kriging_tools as kt\n",
    "import os\n",
    "from osgeo import gdal\n",
    "from osgeo import ogr\n",
    "import rasterio as rio\n",
    "from rasterio.transform import Affine\n",
    "from rasterio.crs import CRS\n",
    "import numpy as np\n",
    "import matplotlib.pyplot as plt\n",
    "import math"
   ]
  },
  {
   "cell_type": "code",
   "execution_count": 77,
   "id": "d1bcca71",
   "metadata": {},
   "outputs": [],
   "source": [
    "pm25_gdf = pm25_gdf.to_crs('epsg:32632')\n",
    "co_gdf = co_gdf.to_crs('epsg:32632')\n",
    "no2_gdf = no2_gdf.to_crs('epsg:32632')\n",
    "so2_gdf = so2_gdf.to_crs('epsg:32632')\n",
    "nh3_gdf = nh3_gdf.to_crs('epsg:32632')\n",
    "nox_gdf = nox_gdf.to_crs('epsg:32632')\n",
    "pm10_gdf = pm10_gdf.to_crs('epsg:32632')\n",
    "ozono_gdf = ozono_gdf.to_crs('epsg:32632')"
   ]
  },
  {
   "cell_type": "code",
   "execution_count": 78,
   "id": "11cf1ad9",
   "metadata": {},
   "outputs": [],
   "source": [
    "temp_gdf = temp_gdf.to_crs('epsg:32632')\n",
    "prec_gdf = prec_gdf.to_crs('epsg:32632')\n",
    "air_hum_gdf = air_hum_gdf.to_crs('epsg:32632')\n",
    "wind_dir_gdf = wind_dir_gdf.to_crs('epsg:32632')\n",
    "wind_speed_gdf = wind_speed_gdf.to_crs('epsg:32632')\n",
    "rad_glob_gdf = rad_glob_gdf.to_crs('epsg:32632')"
   ]
  },
  {
   "cell_type": "code",
   "execution_count": 79,
   "id": "eab7b8e0",
   "metadata": {},
   "outputs": [],
   "source": [
    "bb = gdal.Open(cwd+\"/bounding_box/bounding_box_buffer20_raster_32632.tif\")\n",
    "gt = bb.GetGeoTransform()"
   ]
  },
  {
   "cell_type": "code",
   "execution_count": 80,
   "id": "bab96081",
   "metadata": {},
   "outputs": [
    {
     "data": {
      "text/plain": [
       "(437922.9288, 686.8030422330097, 0.0, 5188927.2639, 0.0, -1008.4656673003796)"
      ]
     },
     "execution_count": 80,
     "metadata": {},
     "output_type": "execute_result"
    }
   ],
   "source": [
    "gt"
   ]
  },
  {
   "cell_type": "code",
   "execution_count": 81,
   "id": "a62971f4",
   "metadata": {},
   "outputs": [],
   "source": [
    "ulx = gt[0]\n",
    "uly = gt[3]\n",
    "resx = gt[1]\n",
    "resy = gt[5]\n",
    "xsize = bb.RasterXSize\n",
    "ysize = bb.RasterYSize\n",
    "lrx = ulx + xsize * resx\n",
    "lry = uly + ysize * resy"
   ]
  },
  {
   "cell_type": "code",
   "execution_count": 82,
   "id": "77d0a8f7",
   "metadata": {},
   "outputs": [
    {
     "data": {
      "text/plain": [
       "(412, 263)"
      ]
     },
     "execution_count": 82,
     "metadata": {},
     "output_type": "execute_result"
    }
   ],
   "source": [
    "xsize, ysize"
   ]
  },
  {
   "cell_type": "code",
   "execution_count": 83,
   "id": "d3f68fa5",
   "metadata": {},
   "outputs": [
    {
     "data": {
      "text/plain": [
       "(437922.9288, 5188927.2639)"
      ]
     },
     "execution_count": 83,
     "metadata": {},
     "output_type": "execute_result"
    }
   ],
   "source": [
    "ulx, uly"
   ]
  },
  {
   "cell_type": "code",
   "execution_count": 84,
   "id": "1c3f6ea5",
   "metadata": {},
   "outputs": [
    {
     "data": {
      "text/plain": [
       "(720885.7822, 4923700.7934)"
      ]
     },
     "execution_count": 84,
     "metadata": {},
     "output_type": "execute_result"
    }
   ],
   "source": [
    "lrx, lry"
   ]
  },
  {
   "cell_type": "code",
   "execution_count": 85,
   "id": "b37b0a33",
   "metadata": {},
   "outputs": [],
   "source": [
    "rRes = 1000"
   ]
  },
  {
   "cell_type": "code",
   "execution_count": 86,
   "id": "f2ed4319",
   "metadata": {},
   "outputs": [],
   "source": [
    "# For now interpolate all the ARPA/ESA stations. \n",
    "# Must implement a check if number of station over the Lombardy region is too low -> don't interpolate"
   ]
  },
  {
   "cell_type": "code",
   "execution_count": 87,
   "id": "aed678fa",
   "metadata": {},
   "outputs": [],
   "source": [
    "xRange = np.arange(ulx,lrx+rRes,rRes)\n",
    "yRange = np.arange(lry,uly+rRes,rRes)\n",
    "gridX,gridY = np.meshgrid(xRange, yRange)"
   ]
  },
  {
   "cell_type": "code",
   "execution_count": 88,
   "id": "e56130a1",
   "metadata": {},
   "outputs": [],
   "source": [
    "aq_dict = {'pm25_gdf':pm25_gdf, 'co_gdf':co_gdf, 'no2_gdf':no2_gdf, 'so2_gdf':so2_gdf,\n",
    "           'nh3_gdf':nh3_gdf, 'nox_gdf':nox_gdf, 'pm10_gdf':pm10_gdf, 'o3_gdf':ozono_gdf}\n",
    "\n",
    "meteo_dict = {'temp_gdf':temp_gdf, 'prec_gdf':prec_gdf, 'air_hum_gdf':air_hum_gdf, 'wind_dir_gdf':wind_dir_gdf,\n",
    "           'wind_speed_gdf':wind_speed_gdf, 'rad_glob_gdf':rad_glob_gdf}"
   ]
  },
  {
   "cell_type": "code",
   "execution_count": 89,
   "id": "da672f35",
   "metadata": {},
   "outputs": [],
   "source": [
    "n_sensor_threshold = 40"
   ]
  },
  {
   "cell_type": "code",
   "execution_count": 90,
   "id": "3ab607b3",
   "metadata": {},
   "outputs": [
    {
     "name": "stdout",
     "output_type": "stream",
     "text": [
      "pm25_gdf\n"
     ]
    },
    {
     "data": {
      "image/png": "[encoded data removed]",
      "text/plain": [
       "<Figure size 432x288 with 1 Axes>"
      ]
     },
     "metadata": {
      "needs_background": "light"
     },
     "output_type": "display_data"
    },
    {
     "name": "stdout",
     "output_type": "stream",
     "text": [
      "co_gdf\n"
     ]
    },
    {
     "data": {
      "image/png": "[encoded data removed]",
      "text/plain": [
       "<Figure size 432x288 with 1 Axes>"
      ]
     },
     "metadata": {
      "needs_background": "light"
     },
     "output_type": "display_data"
    },
    {
     "name": "stdout",
     "output_type": "stream",
     "text": [
      "no2_gdf\n"
     ]
    },
    {
     "data": {
      "image/png": "[encoded data removed]",
      "text/plain": [
       "<Figure size 432x288 with 1 Axes>"
      ]
     },
     "metadata": {
      "needs_background": "light"
     },
     "output_type": "display_data"
    },
    {
     "name": "stdout",
     "output_type": "stream",
     "text": [
      "so2_gdf\n"
     ]
    },
    {
     "data": {
      "image/png": "[encoded data removed]",
      "text/plain": [
       "<Figure size 432x288 with 1 Axes>"
      ]
     },
     "metadata": {
      "needs_background": "light"
     },
     "output_type": "display_data"
    },
    {
     "name": "stdout",
     "output_type": "stream",
     "text": [
      "nh3_gdf\n"
     ]
    },
    {
     "data": {
      "image/png": "[encoded data removed]",
      "text/plain": [
       "<Figure size 432x288 with 1 Axes>"
      ]
     },
     "metadata": {
      "needs_background": "light"
     },
     "output_type": "display_data"
    },
    {
     "name": "stdout",
     "output_type": "stream",
     "text": [
      "nox_gdf\n"
     ]
    },
    {
     "data": {
      "image/png": "[encoded data removed]",
      "text/plain": [
       "<Figure size 432x288 with 1 Axes>"
      ]
     },
     "metadata": {
      "needs_background": "light"
     },
     "output_type": "display_data"
    },
    {
     "name": "stdout",
     "output_type": "stream",
     "text": [
      "pm10_gdf\n"
     ]
    },
    {
     "data": {
      "image/png": "[encoded data removed]",
      "text/plain": [
       "<Figure size 432x288 with 1 Axes>"
      ]
     },
     "metadata": {
      "needs_background": "light"
     },
     "output_type": "display_data"
    },
    {
     "name": "stdout",
     "output_type": "stream",
     "text": [
      "o3_gdf\n"
     ]
    },
    {
     "data": {
      "image/png": "[encoded data removed]",
      "text/plain": [
       "<Figure size 432x288 with 1 Axes>"
      ]
     },
     "metadata": {
      "needs_background": "light"
     },
     "output_type": "display_data"
    }
   ],
   "source": [
    "for key in aq_dict:\n",
    "    east = aq_dict[key].geometry.x\n",
    "    north = aq_dict[key].geometry.y\n",
    "    value = aq_dict[key][['valore']]\n",
    "    n_sensor = aq_dict[key].shape[0]  #VERIFICARE nlags in funzione del numero di sensori (defaul 6)\n",
    "    lag = int(math.sqrt(n_sensor))\n",
    "    \n",
    "    OK = OrdinaryKriging(east, north,value, weight=True,nlags= lag ,variogram_model='power',coordinates_type='euclidean') #verbose=True, enable_plotting=False, weight=w\n",
    "    # print(UniversalKriging.__doc__ )\n",
    "    gridded, ss1 = OK.execute('grid', xRange, yRange)\n",
    "    transform = Affine.translation(gridX[0][0]-rRes/2, gridY[0][0]-rRes/2)*Affine.scale(rRes,rRes)\n",
    "    rasterCrs = CRS.from_epsg(32632)\n",
    "    #definition, register and close of interpolated raster\n",
    "    interpRaster = rio.open(cwd +'/temp/aq_krig_'+key[:(len(key)-4)]+'.tif',\n",
    "                                    'w',\n",
    "                                    driver='GTiff',\n",
    "                                    height=gridded.shape[0],\n",
    "                                    width=gridded.shape[1],\n",
    "                                    count=1,\n",
    "                                    nodata = -9999,\n",
    "                                    dtype=gridded.dtype,\n",
    "                                    crs=rasterCrs,\n",
    "                                    transform=transform,\n",
    "                                    )\n",
    "    interpRaster.write(gridded, 1)\n",
    "    interpRaster.close()\n",
    "    #Warp with GDAL since rasterio and rasterstats affine transformation don't work in the grid processing notebook\n",
    "    ds = gdal.Warp(cwd +'/temp/int_'+key[:(len(key)-4)]+'.tif', cwd +'/temp/aq_krig_'+key[:(len(key)-4)]+'.tif', dstSRS='EPSG:32632',\n",
    "               outputType=gdal.GDT_Float64, xRes=rRes, yRes=rRes)\n",
    "    print(key)\n",
    "    plt.imshow(gridded)\n",
    "    plt.show()"
   ]
  },
  {
   "cell_type": "code",
   "execution_count": 91,
   "id": "453e6c03",
   "metadata": {},
   "outputs": [
    {
     "name": "stdout",
     "output_type": "stream",
     "text": [
      "temp_gdf\n",
      "14\n"
     ]
    },
    {
     "data": {
      "image/png": "[encoded data removed]",
      "text/plain": [
       "<Figure size 432x288 with 1 Axes>"
      ]
     },
     "metadata": {
      "needs_background": "light"
     },
     "output_type": "display_data"
    },
    {
     "name": "stdout",
     "output_type": "stream",
     "text": [
      "prec_gdf\n",
      "14\n"
     ]
    },
    {
     "data": {
      "image/png": "[encoded data removed]",
      "text/plain": [
       "<Figure size 432x288 with 1 Axes>"
      ]
     },
     "metadata": {
      "needs_background": "light"
     },
     "output_type": "display_data"
    },
    {
     "name": "stdout",
     "output_type": "stream",
     "text": [
      "air_hum_gdf\n",
      "12\n"
     ]
    },
    {
     "data": {
      "image/png": "[encoded data removed]",
      "text/plain": [
       "<Figure size 432x288 with 1 Axes>"
      ]
     },
     "metadata": {
      "needs_background": "light"
     },
     "output_type": "display_data"
    },
    {
     "name": "stdout",
     "output_type": "stream",
     "text": [
      "wind_dir_gdf\n",
      "11\n"
     ]
    },
    {
     "data": {
      "image/png": "[encoded data removed]",
      "text/plain": [
       "<Figure size 432x288 with 1 Axes>"
      ]
     },
     "metadata": {
      "needs_background": "light"
     },
     "output_type": "display_data"
    },
    {
     "name": "stdout",
     "output_type": "stream",
     "text": [
      "wind_speed_gdf\n",
      "11\n"
     ]
    },
    {
     "data": {
      "image/png": "[encoded data removed]",
      "text/plain": [
       "<Figure size 432x288 with 1 Axes>"
      ]
     },
     "metadata": {
      "needs_background": "light"
     },
     "output_type": "display_data"
    },
    {
     "name": "stdout",
     "output_type": "stream",
     "text": [
      "rad_glob_gdf\n",
      "9\n"
     ]
    },
    {
     "data": {
      "image/png": "[encoded data removed]",
      "text/plain": [
       "<Figure size 432x288 with 1 Axes>"
      ]
     },
     "metadata": {
      "needs_background": "light"
     },
     "output_type": "display_data"
    }
   ],
   "source": [
    "for key in meteo_dict:\n",
    "    east = meteo_dict[key].geometry.x\n",
    "    north = meteo_dict[key].geometry.y\n",
    "    value = meteo_dict[key][['valore']]\n",
    "    n_sensor = meteo_dict[key].shape[0]  #VERIFICARE nlags in funzione del numero di sensori (defaul 6)\n",
    "    lag = int(math.sqrt(n_sensor))\n",
    "    \n",
    "    OK = OrdinaryKriging(east, north, value, nlags= lag,\n",
    "                 weight=True, variogram_model='power',coordinates_type='euclidean') #verbose=True, enable_plotting=False, weight=w\n",
    "    # print(OrdinaryKriging.__doc__)\n",
    "    gridded, ss1 = OK.execute('grid', xRange, yRange)\n",
    "    transform = Affine.translation(gridX[0][0]-rRes/2, gridY[0][0]-rRes/2)*Affine.scale(rRes,rRes)\n",
    "    rasterCrs = CRS.from_epsg(32632)\n",
    "    #definition, register and close of interpolated raster\n",
    "    interpRaster = rio.open(cwd +'/temp/meteo_krig_'+key[:(len(key)-4)]+'.tif',\n",
    "                                    'w',\n",
    "                                    driver='GTiff',\n",
    "                                    height= gridded.shape[0],\n",
    "                                    width= gridded.shape[1],\n",
    "                                    count=1,\n",
    "                                    nodata = -9999,\n",
    "                                    dtype=gridded.dtype,\n",
    "                                    crs=rasterCrs,\n",
    "                                    transform=transform,\n",
    "                                    )\n",
    "    interpRaster.write(gridded, 1)\n",
    "    interpRaster.close()\n",
    "    #Warp with GDAL since rasterio and rasterstats affine transformation don't work in the grid processing notebook\n",
    "    ds = gdal.Warp(cwd +'/temp/int_'+key[:(len(key)-4)]+'.tif', cwd +'/temp/meteo_krig_'+key[:(len(key)-4)]+'.tif', dstSRS='EPSG:32632',\n",
    "               outputType=gdal.GDT_Float64, xRes=rRes, yRes=rRes)\n",
    "    print(key)\n",
    "    print(lag)\n",
    "    plt.imshow(gridded)\n",
    "    plt.show()"
   ]
  },
  {
   "cell_type": "markdown",
   "id": "bd721f2d",
   "metadata": {},
   "source": [
    "Notes:"
   ]
  },
  {
   "cell_type": "code",
   "execution_count": null,
   "id": "a4277434",
   "metadata": {},
   "outputs": [],
   "source": [
    "# INTERPOLATION USING GDAL\n",
    "# pts = ogr.Open(cwd+'/temp/air_hum_st.gpkg', update = True)\n",
    "# layer=pts.GetLayer()\n",
    "\n",
    "# to generate a an interpolation using GDAL library\n",
    "# pts = layer = None\n",
    "# idw = gdal.Grid(\"idw.tif\", (cwd+'/temp/air_hum_st.gpkg'), zfield=\"valore\",\n",
    "#                algorithm = \"invdist\", outputBounds = [ulx,uly,lrx,lry],\n",
    "#                width = xsize, height = ysize)\n",
    "# idw = None\n",
    "\n",
    "# points = list(zip(air_hum_st.lng,air_hum_st.lat))\n",
    "\n",
    "# gridded = griddata(points, value, (gridX,gridY), method='linear',fill_value=0)\n",
    "\n",
    "# gridded = gridded.reshape((gridded.shape[0], gridded.shape[1]))\n",
    "\n",
    "# plt.imshow(gridded)"
   ]
  },
  {
   "cell_type": "code",
   "execution_count": null,
   "id": "dc802025",
   "metadata": {},
   "outputs": [],
   "source": [
    "#Mask data using date range\n",
    "#mask = (meteo_data['data'] >= start_date) & (meteo_data['data'] < end_date)\n",
    "#meteo_data = meteo_data.loc[mask]\n",
    "#meteo_data"
   ]
  },
  {
   "cell_type": "code",
   "execution_count": null,
   "id": "5fc21b0a",
   "metadata": {},
   "outputs": [],
   "source": [
    "# print(list(arpa_df.columns))\n",
    "# print(arpa_df['idsensore'].values)"
   ]
  },
  {
   "cell_type": "code",
   "execution_count": null,
   "id": "81c82fde",
   "metadata": {},
   "outputs": [],
   "source": [
    "# results = client.get_all(dati, idsensore = \"100\", data='2022-01-20')\n",
    "# results"
   ]
  },
  {
   "cell_type": "code",
   "execution_count": null,
   "id": "c0e05945",
   "metadata": {},
   "outputs": [],
   "source": [
    "# arpa_df.loc[arpa_df['idsensore'] == \"10377\"]"
   ]
  }
 ],
 "metadata": {
  "kernelspec": {
   "display_name": "Python 3 (ipykernel)",
   "language": "python",
   "name": "python3"
  },
  "language_info": {
   "codemirror_mode": {
    "name": "ipython",
    "version": 3
   },
   "file_extension": ".py",
   "mimetype": "text/x-python",
   "name": "python",
   "nbconvert_exporter": "python",
   "pygments_lexer": "ipython3",
   "version": "3.9.10"
  }
 },
 "nbformat": 4,
 "nbformat_minor": 5
}
