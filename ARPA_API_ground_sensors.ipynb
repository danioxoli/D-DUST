{
 "cells": [
  {
   "cell_type": "markdown",
   "id": "0e1c351c",
   "metadata": {},
   "source": [
    "# ARPA Lombardia Ground Sensors- Air quality and meteorological preprocessing"
   ]
  },
  {
   "cell_type": "markdown",
   "id": "3d050786",
   "metadata": {},
   "source": [
    "- Ground sensor's type and position is retrived by the API: [Air quality stations](https://www.dati.lombardia.it/Ambiente/Stazioni-qualit-dell-aria/ib47-atvt) and [Meteorological stations](https://www.dati.lombardia.it/Ambiente/Stazioni-Meteorologiche/nf78-nj6b)\n",
    "- The API provides data for the current year only (from Jenuary 2022): [API Air quality data](https://www.dati.lombardia.it/Ambiente/Dati-sensori-aria/nicp-bhqi) and  [API Meteorological data](https://www.dati.lombardia.it/Ambiente/Dati-sensori-meteo/647i-nhxk)\n",
    "- To use data from previous years it's required to search for the dataset, such as [Air quality data for 2020]( https://www.dati.lombardia.it/Ambiente/Dati-sensori-aria-2020/88sp-5tmj) or [Meteorological data for 2020](https://www.dati.lombardia.it/Ambiente/Dati-sensori-meteo-2020/erjn-istm). It's required to download the \".csv\" file.\n",
    "\n",
    "In this notebook sensors position and type are retrieved from the API only, while time series are retreived by .csv or API depending on the year (if before 2022 is only possible to use the .csv file, while for 2022 data from API are available)\n",
    "\n",
    "Notes:<br>\n",
    "**Air pollution .csv data are still not available for 2021.** <br>\n",
    "**Meteorological data of Jenuary 2022 are retreivable from API, but the .csv for 2021 is available.**\n"
   ]
  },
  {
   "cell_type": "markdown",
   "id": "613745f5",
   "metadata": {},
   "source": [
    "The \"app_token\" is required to access the data. <br>\n",
    "Example video tutorial: https://www.youtube.com/watch?v=3p4gncGaSeg&t=899s&ab_channel=CharmingData <br>\n",
    "Register on \"Open Data Lombardia\" to get tokens: https://www.dati.lombardia.it/login"
   ]
  },
  {
   "cell_type": "markdown",
   "id": "f43a976f",
   "metadata": {},
   "source": [
    "## Import libraries"
   ]
  },
  {
   "cell_type": "code",
   "execution_count": 1,
   "id": "5feaa305",
   "metadata": {},
   "outputs": [],
   "source": [
    "from sodapy import Socrata\n",
    "import pandas as pd\n",
    "import geopandas as gpd\n",
    "import matplotlib.pyplot as plt\n",
    "import os"
   ]
  },
  {
   "cell_type": "code",
   "execution_count": 2,
   "id": "db5d7b3d",
   "metadata": {},
   "outputs": [],
   "source": [
    "cwd = os.getcwd()"
   ]
  },
  {
   "cell_type": "code",
   "execution_count": 3,
   "id": "5525f56b",
   "metadata": {},
   "outputs": [],
   "source": [
    "start_date = \"2020-03-01\"\n",
    "end_date = \"2020-03-20\" "
   ]
  },
  {
   "cell_type": "code",
   "execution_count": 4,
   "id": "d2f4b1b8",
   "metadata": {},
   "outputs": [],
   "source": [
    "start_date_api = \"'2022-02-01'\"\n",
    "end_date_api = \"'2022-02-06'\""
   ]
  },
  {
   "cell_type": "markdown",
   "id": "eb0f3b09",
   "metadata": {},
   "source": [
    "---"
   ]
  },
  {
   "cell_type": "markdown",
   "id": "5dc69c0f",
   "metadata": {},
   "source": [
    "# Import stations and sensor type from ARPA API"
   ]
  },
  {
   "cell_type": "markdown",
   "id": "234d6fe9",
   "metadata": {},
   "source": [
    "Import sensors description and position from the API."
   ]
  },
  {
   "cell_type": "code",
   "execution_count": 5,
   "id": "ada35c39",
   "metadata": {},
   "outputs": [],
   "source": [
    "arpa_domain = \"www.dati.lombardia.it\"\n",
    "st_descr = \"ib47-atvt\""
   ]
  },
  {
   "cell_type": "code",
   "execution_count": 6,
   "id": "80397d65",
   "metadata": {},
   "outputs": [],
   "source": [
    "client = Socrata(arpa_domain, app_token = \"riTLzYVRVdDaQtUkxDDaHRgJi\")"
   ]
  },
  {
   "cell_type": "code",
   "execution_count": 7,
   "id": "424dd31b",
   "metadata": {},
   "outputs": [],
   "source": [
    "results = client.get_all(st_descr)"
   ]
  },
  {
   "cell_type": "code",
   "execution_count": 8,
   "id": "ee6cc8f8",
   "metadata": {},
   "outputs": [],
   "source": [
    "air_st_descr = pd.DataFrame(results)"
   ]
  },
  {
   "cell_type": "code",
   "execution_count": 9,
   "id": "759c81ba",
   "metadata": {},
   "outputs": [],
   "source": [
    "air_st_descr[\"idsensore\"] = air_st_descr[\"idsensore\"].astype(str).astype(int)"
   ]
  },
  {
   "cell_type": "markdown",
   "id": "6cebc2c0",
   "metadata": {},
   "source": [
    "- - - "
   ]
  },
  {
   "cell_type": "markdown",
   "id": "e463d807",
   "metadata": {},
   "source": [
    "<a id='aq_data_api'></a>\n",
    "# Import air quality data from ARPA API"
   ]
  },
  {
   "cell_type": "markdown",
   "id": "57b54908",
   "metadata": {},
   "source": [
    "Skip to [air quality import from .csv](#aq_data_csv) data if required"
   ]
  },
  {
   "cell_type": "code",
   "execution_count": null,
   "id": "4a6bfcae",
   "metadata": {},
   "outputs": [],
   "source": [
    "arpa_domain = \"www.dati.lombardia.it\"\n",
    "dati = \"nicp-bhqi\" #change this depending on the dataset (check Open Data Lombardia datasets)"
   ]
  },
  {
   "cell_type": "code",
   "execution_count": null,
   "id": "13d10471",
   "metadata": {},
   "outputs": [],
   "source": [
    "client = Socrata(arpa_domain, app_token = \"riTLzYVRVdDaQtUkxDDaHRgJi\")"
   ]
  },
  {
   "cell_type": "code",
   "execution_count": null,
   "id": "eea80e61",
   "metadata": {},
   "outputs": [],
   "source": [
    "date_query = \"data > {} and data < {}\".format(start_date_api,end_date_api)\n",
    "date_query"
   ]
  },
  {
   "cell_type": "code",
   "execution_count": null,
   "id": "5165b659",
   "metadata": {},
   "outputs": [],
   "source": [
    "results = client.get(dati, where=date_query, limit=5000000000)"
   ]
  },
  {
   "cell_type": "code",
   "execution_count": null,
   "id": "ecb575d1",
   "metadata": {},
   "outputs": [],
   "source": [
    "aq_data = pd.DataFrame(results)"
   ]
  },
  {
   "cell_type": "code",
   "execution_count": null,
   "id": "17e7e5e3",
   "metadata": {},
   "outputs": [],
   "source": [
    "aq_data['data'] =  pd.to_datetime(aq_data['data'], format='%Y/%m/%d %H:%M:%S')"
   ]
  },
  {
   "cell_type": "code",
   "execution_count": null,
   "id": "b42f3ab4",
   "metadata": {},
   "outputs": [],
   "source": [
    "aq_data = aq_data.astype({\"idsensore\": int,\"valore\": float})"
   ]
  },
  {
   "cell_type": "markdown",
   "id": "9b1b1012",
   "metadata": {},
   "source": [
    "- - -"
   ]
  },
  {
   "cell_type": "markdown",
   "id": "cf50fd38",
   "metadata": {},
   "source": [
    "<a id='aq_data_csv'></a>\n",
    "# Import air quality data from .csv"
   ]
  },
  {
   "cell_type": "markdown",
   "id": "d41a0cc1",
   "metadata": {},
   "source": [
    "Go back to [air quality import from API](#aq_data_api) data if required"
   ]
  },
  {
   "cell_type": "markdown",
   "id": "56e11cf3",
   "metadata": {},
   "source": [
    "Example using air quality data 2020 from ARPA stations: https://www.dati.lombardia.it/Ambiente/Dati-sensori-aria-2020/88sp-5tmj"
   ]
  },
  {
   "cell_type": "code",
   "execution_count": 10,
   "id": "7475bc0d",
   "metadata": {},
   "outputs": [],
   "source": [
    "aq_data = pd.read_csv(cwd+\"/ground_sensor/aq_2020.csv\")"
   ]
  },
  {
   "cell_type": "markdown",
   "id": "bbe75ea4",
   "metadata": {},
   "source": [
    "Rename columns:"
   ]
  },
  {
   "cell_type": "code",
   "execution_count": 11,
   "id": "20c0e4d4",
   "metadata": {},
   "outputs": [],
   "source": [
    "aq_data.rename(columns={'IdSensore': 'idsensore','Data': 'data','idOperatore': 'idoperatore','Stato': 'stato','Valore': 'valore'}, inplace=True)"
   ]
  },
  {
   "cell_type": "markdown",
   "id": "2a044d34",
   "metadata": {},
   "source": [
    "Set date format:"
   ]
  },
  {
   "cell_type": "code",
   "execution_count": 12,
   "id": "258fd84d",
   "metadata": {},
   "outputs": [],
   "source": [
    "aq_data['data'] =  pd.to_datetime(aq_data['data'], format='%d/%m/%Y %H:%M:%S')"
   ]
  },
  {
   "cell_type": "markdown",
   "id": "d631c3fc",
   "metadata": {},
   "source": [
    "Select date range:"
   ]
  },
  {
   "cell_type": "code",
   "execution_count": 13,
   "id": "be25cf39",
   "metadata": {},
   "outputs": [],
   "source": [
    "mask = (aq_data.data >= start_date) & (aq_data.data <= end_date)\n",
    "aq_data = aq_data.loc[mask]"
   ]
  },
  {
   "cell_type": "markdown",
   "id": "290a97b0",
   "metadata": {},
   "source": [
    "- - -"
   ]
  },
  {
   "cell_type": "markdown",
   "id": "5fe9e011",
   "metadata": {},
   "source": [
    "# Air quality data processing"
   ]
  },
  {
   "cell_type": "markdown",
   "id": "1e9f68f9",
   "metadata": {},
   "source": [
    "Drop \"stato\" and \"idoperatore\" columns and select valid values different from -9999:"
   ]
  },
  {
   "cell_type": "code",
   "execution_count": 14,
   "id": "9ec42686",
   "metadata": {},
   "outputs": [],
   "source": [
    "aq_data = aq_data.drop(columns=['stato', 'idoperatore'])"
   ]
  },
  {
   "cell_type": "code",
   "execution_count": 15,
   "id": "7d51c154",
   "metadata": {},
   "outputs": [],
   "source": [
    "aq_data = aq_data[aq_data.valore.astype(float) != -9999]"
   ]
  },
  {
   "cell_type": "markdown",
   "id": "07e49f69",
   "metadata": {},
   "source": [
    "This part calculates the mean value for each sensor in the time range provided:"
   ]
  },
  {
   "cell_type": "code",
   "execution_count": 16,
   "id": "f20c59d4",
   "metadata": {},
   "outputs": [],
   "source": [
    "aq_means = aq_data.groupby(['idsensore'],as_index=False).mean()"
   ]
  },
  {
   "cell_type": "markdown",
   "id": "bed5f022",
   "metadata": {},
   "source": [
    "Join sensors description and information with the mean value:"
   ]
  },
  {
   "cell_type": "code",
   "execution_count": 17,
   "id": "081fd777",
   "metadata": {},
   "outputs": [],
   "source": [
    "aq_table = pd.merge(aq_means, air_st_descr, on='idsensore')"
   ]
  },
  {
   "cell_type": "markdown",
   "id": "66af98ca",
   "metadata": {},
   "source": [
    "Get the unique sensor type names:"
   ]
  },
  {
   "cell_type": "code",
   "execution_count": 18,
   "id": "b76ad095",
   "metadata": {},
   "outputs": [
    {
     "data": {
      "text/plain": [
       "array(['Ossidi di Azoto', 'Monossido di Carbonio', 'Biossido di Azoto',\n",
       "       'Biossido di Zolfo', 'Particelle sospese PM2.5', 'Benzene',\n",
       "       'Ozono', 'PM10 (SM2005)', 'Particolato Totale Sospeso',\n",
       "       'Ammoniaca', 'Nikel', 'Arsenico', 'Cadmio', 'Piombo',\n",
       "       'Benzo(a)pirene', 'BlackCarbon', 'Monossido di Azoto', 'PM10'],\n",
       "      dtype=object)"
      ]
     },
     "execution_count": 18,
     "metadata": {},
     "output_type": "execute_result"
    }
   ],
   "source": [
    "air_st_descr.nometiposensore.unique()"
   ]
  },
  {
   "cell_type": "markdown",
   "id": "d7b38e5b",
   "metadata": {},
   "source": [
    "Select sensors adding their names to the list:"
   ]
  },
  {
   "cell_type": "code",
   "execution_count": 19,
   "id": "bd53a61c",
   "metadata": {},
   "outputs": [],
   "source": [
    "sensor_sel = ['Ossidi di Azoto', 'Monossido di Carbonio', 'Biossido di Azoto','Ozono',\n",
    "       'Biossido di Zolfo', 'Particelle sospese PM2.5','Ammoniaca','PM10 (SM2005)']"
   ]
  },
  {
   "cell_type": "code",
   "execution_count": 20,
   "id": "fc4d1d44",
   "metadata": {},
   "outputs": [],
   "source": [
    "aq_table['nometiposensore'].astype(str)\n",
    "aq_table = aq_table[aq_table['nometiposensore'].isin(sensor_sel)]"
   ]
  },
  {
   "cell_type": "markdown",
   "id": "f305ba7c",
   "metadata": {},
   "source": [
    "Save sensors separately and create a .gpkg file for each one:"
   ]
  },
  {
   "cell_type": "code",
   "execution_count": 21,
   "id": "a4a9cde8",
   "metadata": {},
   "outputs": [],
   "source": [
    "# nox = aq_table.loc[aq_table['nometiposensore'] == 'Ossidi di Azoto']\n",
    "pm25 = aq_table.loc[aq_table['nometiposensore'] == 'Particelle sospese PM2.5']\n",
    "co = aq_table.loc[aq_table['nometiposensore'] == 'Monossido di Carbonio']\n",
    "no2 = aq_table.loc[aq_table['nometiposensore'] == 'Biossido di Azoto']\n",
    "so2 = aq_table.loc[aq_table['nometiposensore'] == 'Biossido di Zolfo']\n",
    "nh3 = aq_table.loc[aq_table['nometiposensore'] == 'Ammoniaca']\n",
    "nox = aq_table.loc[aq_table['nometiposensore'] == 'Ossidi di Azoto']\n",
    "pm10 = aq_table.loc[aq_table['nometiposensore'] == 'PM10 (SM2005)']\n",
    "ozono = aq_table.loc[aq_table['nometiposensore'] == 'Ozono']"
   ]
  },
  {
   "cell_type": "code",
   "execution_count": 22,
   "id": "48c1a145",
   "metadata": {},
   "outputs": [],
   "source": [
    "pm25_gdf = gpd.GeoDataFrame(pm25, geometry=gpd.points_from_xy(pm25.lng, pm25.lat))\n",
    "pm25_gdf = pm25_gdf.set_crs('epsg:4326')"
   ]
  },
  {
   "cell_type": "code",
   "execution_count": 23,
   "id": "6dc00511",
   "metadata": {},
   "outputs": [],
   "source": [
    "co_gdf = gpd.GeoDataFrame(co, geometry=gpd.points_from_xy(co.lng, co.lat))\n",
    "co_gdf = co_gdf.set_crs('epsg:4326', inplace=True)"
   ]
  },
  {
   "cell_type": "code",
   "execution_count": 24,
   "id": "111d3bef",
   "metadata": {},
   "outputs": [],
   "source": [
    "no2_gdf = gpd.GeoDataFrame(no2, geometry=gpd.points_from_xy(no2.lng, no2.lat))\n",
    "no2_gdf = no2_gdf.set_crs('epsg:4326')"
   ]
  },
  {
   "cell_type": "code",
   "execution_count": 25,
   "id": "677ed0e0",
   "metadata": {},
   "outputs": [],
   "source": [
    "so2_gdf = gpd.GeoDataFrame(so2, geometry=gpd.points_from_xy(so2.lng, so2.lat))\n",
    "so2_gdf = so2_gdf.set_crs('epsg:4326')"
   ]
  },
  {
   "cell_type": "code",
   "execution_count": 26,
   "id": "b0781c42",
   "metadata": {},
   "outputs": [],
   "source": [
    "nh3_gdf = gpd.GeoDataFrame(nh3, geometry=gpd.points_from_xy(nh3.lng, nh3.lat))\n",
    "nh3_gdf = nh3_gdf.set_crs('epsg:4326')"
   ]
  },
  {
   "cell_type": "code",
   "execution_count": 27,
   "id": "96436f95",
   "metadata": {},
   "outputs": [],
   "source": [
    "nox_gdf = gpd.GeoDataFrame(nox, geometry=gpd.points_from_xy(nox.lng, nox.lat))\n",
    "nox_gdf = nox_gdf.set_crs('epsg:4326')"
   ]
  },
  {
   "cell_type": "code",
   "execution_count": 28,
   "id": "4f3ba68e",
   "metadata": {},
   "outputs": [],
   "source": [
    "pm10_gdf = gpd.GeoDataFrame(pm10, geometry=gpd.points_from_xy(pm10.lng, pm10.lat))\n",
    "pm10_gdf = pm10_gdf.set_crs('epsg:4326')"
   ]
  },
  {
   "cell_type": "code",
   "execution_count": 29,
   "id": "2c4fb661",
   "metadata": {},
   "outputs": [],
   "source": [
    "ozono_gdf = gpd.GeoDataFrame(ozono, geometry=gpd.points_from_xy(ozono.lng, ozono.lat))\n",
    "ozono_gdf = ozono_gdf.set_crs('epsg:4326')"
   ]
  },
  {
   "cell_type": "code",
   "execution_count": 30,
   "id": "8b31e1ba",
   "metadata": {},
   "outputs": [
    {
     "name": "stderr",
     "output_type": "stream",
     "text": [
      "C:\\Users\\Administrator\\anaconda3\\envs\\ddust\\lib\\site-packages\\geopandas\\io\\file.py:362: FutureWarning: pandas.Int64Index is deprecated and will be removed from pandas in a future version. Use pandas.Index with the appropriate dtype instead.\n",
      "  pd.Int64Index,\n",
      "C:\\Users\\Administrator\\anaconda3\\envs\\ddust\\lib\\site-packages\\geopandas\\io\\file.py:362: FutureWarning: pandas.Int64Index is deprecated and will be removed from pandas in a future version. Use pandas.Index with the appropriate dtype instead.\n",
      "  pd.Int64Index,\n",
      "C:\\Users\\Administrator\\anaconda3\\envs\\ddust\\lib\\site-packages\\geopandas\\io\\file.py:362: FutureWarning: pandas.Int64Index is deprecated and will be removed from pandas in a future version. Use pandas.Index with the appropriate dtype instead.\n",
      "  pd.Int64Index,\n",
      "C:\\Users\\Administrator\\anaconda3\\envs\\ddust\\lib\\site-packages\\geopandas\\io\\file.py:362: FutureWarning: pandas.Int64Index is deprecated and will be removed from pandas in a future version. Use pandas.Index with the appropriate dtype instead.\n",
      "  pd.Int64Index,\n",
      "C:\\Users\\Administrator\\anaconda3\\envs\\ddust\\lib\\site-packages\\geopandas\\io\\file.py:362: FutureWarning: pandas.Int64Index is deprecated and will be removed from pandas in a future version. Use pandas.Index with the appropriate dtype instead.\n",
      "  pd.Int64Index,\n",
      "C:\\Users\\Administrator\\anaconda3\\envs\\ddust\\lib\\site-packages\\geopandas\\io\\file.py:362: FutureWarning: pandas.Int64Index is deprecated and will be removed from pandas in a future version. Use pandas.Index with the appropriate dtype instead.\n",
      "  pd.Int64Index,\n",
      "C:\\Users\\Administrator\\anaconda3\\envs\\ddust\\lib\\site-packages\\geopandas\\io\\file.py:362: FutureWarning: pandas.Int64Index is deprecated and will be removed from pandas in a future version. Use pandas.Index with the appropriate dtype instead.\n",
      "  pd.Int64Index,\n",
      "C:\\Users\\Administrator\\anaconda3\\envs\\ddust\\lib\\site-packages\\geopandas\\io\\file.py:362: FutureWarning: pandas.Int64Index is deprecated and will be removed from pandas in a future version. Use pandas.Index with the appropriate dtype instead.\n",
      "  pd.Int64Index,\n"
     ]
    }
   ],
   "source": [
    "pm25_gdf.to_file(cwd+\"/temp/pm25_st.gpkg\", driver=\"GPKG\")\n",
    "co_gdf.to_file(cwd+\"/temp/co_st.gpkg\", driver=\"GPKG\")\n",
    "no2_gdf.to_file(cwd+\"/temp/no2_st.gpkg\", driver=\"GPKG\")\n",
    "so2_gdf.to_file(cwd+\"/temp/so2_st.gpkg\", driver=\"GPKG\")\n",
    "nh3_gdf.to_file(cwd+\"/temp/amm_st.gpkg\", driver=\"GPKG\")\n",
    "nox_gdf.to_file(cwd+\"/temp/nox_st.gpkg\", driver=\"GPKG\")\n",
    "pm10_gdf.to_file(cwd+\"/temp/pm10_st.gpkg\", driver=\"GPKG\")\n",
    "ozono_gdf.to_file(cwd+\"/temp/ozono_st.gpkg\", driver=\"GPKG\")"
   ]
  },
  {
   "cell_type": "markdown",
   "id": "7fc23d6a",
   "metadata": {},
   "source": [
    "- - -"
   ]
  },
  {
   "cell_type": "markdown",
   "id": "d1a2ef3a",
   "metadata": {},
   "source": [
    "# Import meteorological stations from ARPA API"
   ]
  },
  {
   "cell_type": "markdown",
   "id": "f837e094",
   "metadata": {},
   "source": [
    "https://www.dati.lombardia.it/Ambiente/Dati-sensori-meteo-2020/erjn-istm"
   ]
  },
  {
   "cell_type": "code",
   "execution_count": null,
   "id": "8f8f1ba1",
   "metadata": {},
   "outputs": [],
   "source": [
    "arpa_domain = \"www.dati.lombardia.it\"\n",
    "m_st_descr = \"nf78-nj6b\""
   ]
  },
  {
   "cell_type": "code",
   "execution_count": null,
   "id": "bff5a6b7",
   "metadata": {},
   "outputs": [],
   "source": [
    "client = Socrata(arpa_domain, app_token = \"riTLzYVRVdDaQtUkxDDaHRgJi\")"
   ]
  },
  {
   "cell_type": "code",
   "execution_count": null,
   "id": "522c6cf7",
   "metadata": {},
   "outputs": [],
   "source": [
    "results = client.get_all(m_st_descr)"
   ]
  },
  {
   "cell_type": "code",
   "execution_count": null,
   "id": "48bca28d",
   "metadata": {},
   "outputs": [],
   "source": [
    "meteo_st_descr = pd.DataFrame(results)"
   ]
  },
  {
   "cell_type": "code",
   "execution_count": null,
   "id": "0cdd613f",
   "metadata": {},
   "outputs": [],
   "source": [
    "meteo_st_descr[\"idsensore\"] = meteo_st_descr[\"idsensore\"].astype(str).astype(int)"
   ]
  },
  {
   "cell_type": "code",
   "execution_count": null,
   "id": "6dcbe952",
   "metadata": {},
   "outputs": [],
   "source": [
    "meteo_st_descr"
   ]
  },
  {
   "cell_type": "markdown",
   "id": "d4079674",
   "metadata": {},
   "source": [
    "- - -"
   ]
  },
  {
   "cell_type": "markdown",
   "id": "2724551c",
   "metadata": {},
   "source": [
    "<a id='meteo_data_api'></a>\n",
    "# Import meteorological data from API"
   ]
  },
  {
   "cell_type": "markdown",
   "id": "bf0363cc",
   "metadata": {},
   "source": [
    "Skip to [meteorological data import from .csv](#meteo_data_csv) data if required"
   ]
  },
  {
   "cell_type": "code",
   "execution_count": null,
   "id": "8a62881e",
   "metadata": {},
   "outputs": [],
   "source": [
    "arpa_domain = \"www.dati.lombardia.it\"\n",
    "dati = \"647i-nhxk\" #change this depending on the dataset (check Open Data Lombardia datasets)"
   ]
  },
  {
   "cell_type": "code",
   "execution_count": null,
   "id": "14645551",
   "metadata": {},
   "outputs": [],
   "source": [
    "client = Socrata(arpa_domain, app_token = \"riTLzYVRVdDaQtUkxDDaHRgJi\")"
   ]
  },
  {
   "cell_type": "markdown",
   "id": "536714ff",
   "metadata": {},
   "source": [
    "The date must be changed from the following request:"
   ]
  },
  {
   "cell_type": "code",
   "execution_count": null,
   "id": "c101e8d9",
   "metadata": {},
   "outputs": [],
   "source": [
    "date_query = \"data > {} and data < {}\".format(start_date_api,end_date_api)\n",
    "date_query"
   ]
  },
  {
   "cell_type": "code",
   "execution_count": null,
   "id": "023e971f",
   "metadata": {},
   "outputs": [],
   "source": [
    "results = client.get(dati, where=date_query, limit=5000000000)"
   ]
  },
  {
   "cell_type": "code",
   "execution_count": null,
   "id": "8ef26eef",
   "metadata": {},
   "outputs": [],
   "source": [
    "meteo_data = pd.DataFrame(results)\n",
    "meteo_data"
   ]
  },
  {
   "cell_type": "code",
   "execution_count": null,
   "id": "eb2a7a32",
   "metadata": {},
   "outputs": [],
   "source": [
    "meteo_data['data'] =  pd.to_datetime(meteo_data['data'], format='%Y/%m/%d %H:%M:%S')"
   ]
  },
  {
   "cell_type": "code",
   "execution_count": null,
   "id": "89f368dd",
   "metadata": {},
   "outputs": [],
   "source": [
    "meteo_data = meteo_data.astype({\"idsensore\": int,\"valore\": float})"
   ]
  },
  {
   "cell_type": "markdown",
   "id": "f0501abf",
   "metadata": {},
   "source": [
    "<a id='meteo_data_csv'></a>\n",
    "# Import climate data from ARPA .csv file"
   ]
  },
  {
   "cell_type": "markdown",
   "id": "8c7b9674",
   "metadata": {},
   "source": [
    "Go back to [meteorological data import from API](#meteo_data_api) data if required"
   ]
  },
  {
   "cell_type": "code",
   "execution_count": null,
   "id": "d711e785",
   "metadata": {},
   "outputs": [],
   "source": [
    "meteo_data = pd.read_csv(cwd+\"/ground_sensor/meteo_2020.csv\", dtype={\"IdSensore\": int,\"Valore\": float, \"Stato\": str, \"idOperatore\":str})"
   ]
  },
  {
   "cell_type": "markdown",
   "id": "34163fea",
   "metadata": {},
   "source": [
    "Rename columns:"
   ]
  },
  {
   "cell_type": "code",
   "execution_count": null,
   "id": "973c2401",
   "metadata": {},
   "outputs": [],
   "source": [
    "meteo_data.rename(columns={'IdSensore': 'idsensore','Data': 'data','idOperatore': 'idoperatore','Stato': 'stato','Valore': 'valore'}, inplace=True)\n",
    "meteo_data"
   ]
  },
  {
   "cell_type": "markdown",
   "id": "39e9ebe5",
   "metadata": {},
   "source": [
    "Set date format:"
   ]
  },
  {
   "cell_type": "code",
   "execution_count": null,
   "id": "456d37b8",
   "metadata": {},
   "outputs": [],
   "source": [
    "meteo_data['data'] =  pd.to_datetime(meteo_data['data'], format='%d/%m/%Y %H:%M:%S')"
   ]
  },
  {
   "cell_type": "markdown",
   "id": "bb929267",
   "metadata": {},
   "source": [
    "Filter date range:"
   ]
  },
  {
   "cell_type": "code",
   "execution_count": null,
   "id": "b8b7a482",
   "metadata": {},
   "outputs": [],
   "source": [
    "mask = (meteo_data.data >= start_date) & (meteo_data.data <= end_date)\n",
    "meteo_data = meteo_data.loc[mask]"
   ]
  },
  {
   "cell_type": "markdown",
   "id": "7896ee3a",
   "metadata": {},
   "source": [
    "- - -"
   ]
  },
  {
   "cell_type": "markdown",
   "id": "68b0b80f",
   "metadata": {},
   "source": [
    "# Meteorological data processing "
   ]
  },
  {
   "cell_type": "markdown",
   "id": "799f6280",
   "metadata": {},
   "source": [
    "Drop \"stato\", \"idoperatore\" columns and select valid data different from -9999:"
   ]
  },
  {
   "cell_type": "code",
   "execution_count": null,
   "id": "fdbd41e5",
   "metadata": {},
   "outputs": [],
   "source": [
    "meteo_data = meteo_data.drop(columns=['stato', 'idoperatore'])"
   ]
  },
  {
   "cell_type": "code",
   "execution_count": null,
   "id": "e600caec",
   "metadata": {},
   "outputs": [],
   "source": [
    "meteo_data = meteo_data[meteo_data.valore != -9999]"
   ]
  },
  {
   "cell_type": "markdown",
   "id": "d9a75194",
   "metadata": {},
   "source": [
    "Calculate mean value for each sensor in the time range:"
   ]
  },
  {
   "cell_type": "code",
   "execution_count": null,
   "id": "db41c0e3",
   "metadata": {},
   "outputs": [],
   "source": [
    "meteo_means = meteo_data.groupby(['idsensore'],as_index=False).mean()"
   ]
  },
  {
   "cell_type": "markdown",
   "id": "95403cea",
   "metadata": {},
   "source": [
    "Join sensors description and information:"
   ]
  },
  {
   "cell_type": "code",
   "execution_count": null,
   "id": "85c9d40a",
   "metadata": {},
   "outputs": [],
   "source": [
    "meteo_table = pd.merge(meteo_means, meteo_st_descr, on = 'idsensore')"
   ]
  },
  {
   "cell_type": "markdown",
   "id": "9a7666d5",
   "metadata": {},
   "source": [
    "Get sensors unique types:"
   ]
  },
  {
   "cell_type": "code",
   "execution_count": null,
   "id": "05cb27bd",
   "metadata": {},
   "outputs": [],
   "source": [
    "meteo_st_descr.tipologia.unique()"
   ]
  },
  {
   "cell_type": "markdown",
   "id": "ba773355",
   "metadata": {},
   "source": [
    "Select sensors adding to the following list:"
   ]
  },
  {
   "cell_type": "code",
   "execution_count": null,
   "id": "16c37e55",
   "metadata": {},
   "outputs": [],
   "source": [
    "m_sensor_sel = ['Precipitazione','Temperatura','Umidità Relativa','Direzione Vento','Velocità Vento', 'Radiazione Globale']"
   ]
  },
  {
   "cell_type": "code",
   "execution_count": null,
   "id": "91118ae2",
   "metadata": {},
   "outputs": [],
   "source": [
    "meteo_table['tipologia'].astype(str)\n",
    "meteo_table = meteo_table[meteo_table['tipologia'].isin(m_sensor_sel)]"
   ]
  },
  {
   "cell_type": "markdown",
   "id": "cb40326d",
   "metadata": {},
   "source": [
    "Save sensors separately and create a .gpkg file for each one:"
   ]
  },
  {
   "cell_type": "code",
   "execution_count": null,
   "id": "3b1d26c4",
   "metadata": {},
   "outputs": [],
   "source": [
    "temp_st = meteo_table.loc[meteo_table['tipologia'] == 'Temperatura']\n",
    "prec_st = meteo_table.loc[meteo_table['tipologia'] == 'Precipitazione']\n",
    "air_hum_st = meteo_table.loc[meteo_table['tipologia'] == 'Umidità Relativa']\n",
    "wind_dir_st = meteo_table.loc[meteo_table['tipologia'] == 'Direzione Vento']\n",
    "wind_speed_st = meteo_table.loc[meteo_table['tipologia'] == 'Velocità Vento']\n",
    "rad_glob_st = meteo_table.loc[meteo_table['tipologia'] == 'Radiazione Globale']"
   ]
  },
  {
   "cell_type": "code",
   "execution_count": null,
   "id": "879efd88",
   "metadata": {},
   "outputs": [],
   "source": [
    "temp_gdf = gpd.GeoDataFrame(temp_st, geometry=gpd.points_from_xy(temp_st.lng, temp_st.lat))\n",
    "temp_gdf = temp_gdf.set_crs('epsg:4326')"
   ]
  },
  {
   "cell_type": "code",
   "execution_count": null,
   "id": "2b216321",
   "metadata": {},
   "outputs": [],
   "source": [
    "prec_gdf = gpd.GeoDataFrame(prec_st, geometry=gpd.points_from_xy(prec_st.lng, prec_st.lat))\n",
    "prec_gdf = prec_gdf.set_crs('epsg:4326')"
   ]
  },
  {
   "cell_type": "code",
   "execution_count": null,
   "id": "1d24e351",
   "metadata": {},
   "outputs": [],
   "source": [
    "air_hum_gdf = gpd.GeoDataFrame(air_hum_st, geometry=gpd.points_from_xy(air_hum_st.lng, air_hum_st.lat))\n",
    "air_hum_gdf = air_hum_gdf.set_crs('epsg:4326')"
   ]
  },
  {
   "cell_type": "code",
   "execution_count": null,
   "id": "4b468a92",
   "metadata": {},
   "outputs": [],
   "source": [
    "wind_dir_gdf = gpd.GeoDataFrame(wind_dir_st, geometry=gpd.points_from_xy(wind_dir_st.lng, wind_dir_st.lat))\n",
    "wind_dir_gdf = wind_dir_gdf.set_crs('epsg:4326')"
   ]
  },
  {
   "cell_type": "code",
   "execution_count": null,
   "id": "773515be",
   "metadata": {},
   "outputs": [],
   "source": [
    "wind_speed_gdf = gpd.GeoDataFrame(wind_speed_st, geometry=gpd.points_from_xy(wind_speed_st.lng, wind_speed_st.lat))\n",
    "wind_speed_gdf = wind_speed_gdf.set_crs('epsg:4326')"
   ]
  },
  {
   "cell_type": "code",
   "execution_count": null,
   "id": "5c13dba5",
   "metadata": {},
   "outputs": [],
   "source": [
    "rad_glob_gdf = gpd.GeoDataFrame(rad_glob_st, geometry=gpd.points_from_xy(rad_glob_st.lng, rad_glob_st.lat))\n",
    "rad_glob_gdf = rad_glob_gdf.set_crs('epsg:4326')"
   ]
  },
  {
   "cell_type": "code",
   "execution_count": null,
   "id": "bc7280ff",
   "metadata": {},
   "outputs": [],
   "source": [
    "temp_gdf.to_file(cwd+\"/temp/temp_st.gpkg\", driver=\"GPKG\")\n",
    "prec_gdf.to_file(cwd+\"/temp/prec_st.gpkg\", driver=\"GPKG\")\n",
    "air_hum_gdf.to_file(cwd+\"/temp/air_hum_st.gpkg\", driver=\"GPKG\")\n",
    "wind_dir_gdf.to_file(cwd+\"/temp/wind_dir_st.gpkg\", driver=\"GPKG\")\n",
    "wind_speed_gdf.to_file(cwd+\"/temp/wind_speed_st.gpkg\", driver=\"GPKG\")\n",
    "rad_glob_gdf.to_file(cwd+\"/temp/rad_glob_st.gpkg\", driver=\"GPKG\")"
   ]
  },
  {
   "cell_type": "markdown",
   "id": "809fccf6",
   "metadata": {},
   "source": [
    "---"
   ]
  },
  {
   "cell_type": "code",
   "execution_count": null,
   "id": "dc802025",
   "metadata": {},
   "outputs": [],
   "source": [
    "#mask = (meteo_data['data'] >= start_date) & (meteo_data['data'] < end_date)\n",
    "#meteo_data = meteo_data.loc[mask]\n",
    "#meteo_data"
   ]
  },
  {
   "cell_type": "code",
   "execution_count": null,
   "id": "5fc21b0a",
   "metadata": {},
   "outputs": [],
   "source": [
    "# print(list(arpa_df.columns))\n",
    "# print(arpa_df['idsensore'].values)"
   ]
  },
  {
   "cell_type": "code",
   "execution_count": null,
   "id": "81c82fde",
   "metadata": {},
   "outputs": [],
   "source": [
    "# results = client.get_all(dati, idsensore = \"100\", data='2022-01-20')\n",
    "# results"
   ]
  },
  {
   "cell_type": "code",
   "execution_count": null,
   "id": "c0e05945",
   "metadata": {},
   "outputs": [],
   "source": [
    "# arpa_df.loc[arpa_df['idsensore'] == \"10377\"]"
   ]
  }
 ],
 "metadata": {
  "kernelspec": {
   "display_name": "Python 3 (ipykernel)",
   "language": "python",
   "name": "python3"
  },
  "language_info": {
   "codemirror_mode": {
    "name": "ipython",
    "version": 3
   },
   "file_extension": ".py",
   "mimetype": "text/x-python",
   "name": "python",
   "nbconvert_exporter": "python",
   "pygments_lexer": "ipython3",
   "version": "3.9.10"
  }
 },
 "nbformat": 4,
 "nbformat_minor": 5
}
