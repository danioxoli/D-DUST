{
 "cells": [
  {
   "cell_type": "markdown",
   "id": "8a595331",
   "metadata": {},
   "source": [
    "# D-DUST Data Grid Processing Notebook"
   ]
  },
  {
   "cell_type": "markdown",
   "id": "1bf9ee1d",
   "metadata": {},
   "source": [
    "- - -"
   ]
  },
  {
   "cell_type": "markdown",
   "id": "901b5dae",
   "metadata": {},
   "source": [
    "Check the following link for Data Management Plan and the Variable list table: <br>\n",
    "**1. [Data Management Plan (DMP)](https://docs.google.com/document/d/1n3PVat7PBTG76JnINOkL2pvBZuKQlakZkTgqNj39oAQ/edit#)**<br>\n",
    "**2. [Variables list table](https://docs.google.com/spreadsheets/d/1-5pwMSc1QlFyC8iIaA-l1fWhWtpqVio2/edit#gid=91313358)**"
   ]
  },
  {
   "cell_type": "markdown",
   "id": "47a6f2f5",
   "metadata": {},
   "source": [
    "This notebook describes the physical variables selected for the project and how they are preprocessed.\n",
    "These variables are divided into <u>4 categories</u>, as shown in the Variable list table:\n",
    "1. **Map Layer**: static layer used to describe Lombardy region morphology and its features (such as elevation, infrastructures, land use and cover etc.)\n",
    "2. **Model**: data retrieved from a model that uses satellite and in-situ observations of meteorological and air quality data as input (such as ERA5, CAMS).\n",
    "3. **Satellite**: data obtained directly from satellite observations (such as Sentinel-5P).\n",
    "4. **Ground Sensor**: data retrieved from ground monitoring stations measuring air quality and meteorological variables."
   ]
  },
  {
   "cell_type": "markdown",
   "id": "0da51273",
   "metadata": {},
   "source": [
    "First the other notebooks must be used in order to retrieve all the data in the same time range.\n",
    "- GEE_API Notebook: satellite images + ERA5 data\n",
    "- ADS_API Copernicus Notebook: ADS data from CAMS analysis model\n",
    "- ARPA_API Ground Sensors Notebook: data from ARPA ground sensor\n",
    "- AQ_ESA Stations Notebook: data from ESA Air Quality station\n"
   ]
  },
  {
   "cell_type": "markdown",
   "id": "a7b0316e",
   "metadata": {},
   "source": [
    "## Import libraries"
   ]
  },
  {
   "cell_type": "code",
   "execution_count": null,
   "id": "eff716c0",
   "metadata": {},
   "outputs": [],
   "source": [
    "import os\n",
    "import pandas as pd\n",
    "import geopandas as gpd\n",
    "import numpy as np\n",
    "import rasterio as rio\n",
    "import rasterstats as rstat\n",
    "import rioxarray\n",
    "import shapely.speedups\n",
    "import matplotlib.pyplot as plt\n",
    "from shapely.geometry import shape\n",
    "from shapely.geometry import  MultiLineString\n",
    "shapely.speedups.enable()\n",
    "from rasterio.enums import Resampling\n",
    "import warnings\n",
    "warnings.filterwarnings('ignore')"
   ]
  },
  {
   "cell_type": "code",
   "execution_count": null,
   "id": "405957a0",
   "metadata": {},
   "outputs": [],
   "source": [
    "cwd = os.getcwd()"
   ]
  },
  {
   "cell_type": "markdown",
   "id": "972837ff",
   "metadata": {},
   "source": [
    "## Import grids\n",
    "\n",
    "Three grids with different spatial resolution are used in this project:\n",
    "1. **cams** grid: 0.1° x 0.1° resolution - Grid with CAMS Model spatial resolution.\n",
    "2. **s5p** grid: 0.066° x 0.066° resolution - Grid with the Sentinel-5P approximate spatial resolution.\n",
    "3. **arpa** grid: 0.01° x 0.01° resolution- Grid generated with at most one ARPA monitoring station for each pixel.\n",
    "\n",
    "These grids are defined as bounding box of the Lombardy region layer applying a buffer of 20 km."
   ]
  },
  {
   "cell_type": "code",
   "execution_count": null,
   "id": "cdf0615e",
   "metadata": {},
   "outputs": [],
   "source": [
    "from functions import grid_selection #import grid selection using cams, s5p or arpa keys"
   ]
  },
  {
   "cell_type": "code",
   "execution_count": null,
   "id": "265cc34e",
   "metadata": {},
   "outputs": [],
   "source": [
    "name = 'cams'  #'cams', s5p', 'arpa' : are the 3 grid names\n",
    "\n",
    "if name == 'cams':\n",
    "    upscale_factor = 1\n",
    "if name == 's5p':\n",
    "    upscale_factor = 10\n",
    "if name == 'arpa':\n",
    "    upscale_factor = 10\n",
    "\n",
    "grid_path = grid_selection.select_grid(name)"
   ]
  },
  {
   "cell_type": "code",
   "execution_count": null,
   "id": "60d8a515",
   "metadata": {},
   "outputs": [],
   "source": [
    "grid = gpd.read_file(cwd + grid_path)"
   ]
  },
  {
   "cell_type": "code",
   "execution_count": null,
   "id": "23482afc",
   "metadata": {},
   "outputs": [],
   "source": [
    "m_to_km = 10**(-3)\n",
    "m2_to_km2 = 10**(-6)"
   ]
  },
  {
   "cell_type": "markdown",
   "id": "a02584c7",
   "metadata": {},
   "source": [
    "---"
   ]
  },
  {
   "cell_type": "markdown",
   "id": "3479eb93",
   "metadata": {},
   "source": [
    "# Importing Map Layers"
   ]
  },
  {
   "cell_type": "markdown",
   "id": "02bc4356",
   "metadata": {},
   "source": [
    "### [DUSAF - Land use - Geoportale Lombardia](https://www.geoportale.regione.lombardia.it/metadati?p_p_id=detailSheetMetadata_WAR_gptmetadataportlet&p_p_lifecycle=0&p_p_state=normal&p_p_mode=view&_detailSheetMetadata_WAR_gptmetadataportlet_uuid=%7B18EE7CDC-E51B-4DFB-99F8-3CF416FC3C70%7D) <br>"
   ]
  },
  {
   "cell_type": "markdown",
   "id": "6ffe9826",
   "metadata": {},
   "source": [
    "Consists in a multi-temporal geographic database that classifies land based on major land cover and land use types. Reference system EPSG:4326.<br>\n",
    "Land use:\n",
    "- 2 = Aree agricole.\n",
    "- 3 =Territori boscati e ambienti seminaturali.\n",
    "- 4 = Aree umide.\n",
    "- 5 = Corpi idrici.\n",
    "- 11 = Zone urbanizzate.\n",
    "- 12 = Insediamenti produttivo, grandi impianti e reti di comunicazione.\n",
    "- 13 = Aree estrattive, discariche, cantieri, terreni artefatti e abbandonati.\n",
    "- 14 = Aree verdi non agricole."
   ]
  },
  {
   "cell_type": "code",
   "execution_count": null,
   "id": "78fb8c19",
   "metadata": {},
   "outputs": [],
   "source": [
    "dusaf_path = cwd + '/land_use_cover/DUSAF6_dissolve_rast_4326.tiff'"
   ]
  },
  {
   "cell_type": "code",
   "execution_count": null,
   "id": "64a13eb1",
   "metadata": {},
   "outputs": [],
   "source": [
    "dusaf = rio.open(dusaf_path)\n",
    "dusaf_array = dusaf.read(1).astype('float64') \n",
    "dusaf_array[dusaf_array<1.0]=np.nan\n",
    "affine = dusaf.transform"
   ]
  },
  {
   "cell_type": "code",
   "execution_count": null,
   "id": "4b3a5636",
   "metadata": {},
   "outputs": [],
   "source": [
    "stats = rstat.zonal_stats(grid, dusaf_array, affine=affine, nodata=np.nan, stats=['majority'], categorical=True)\n",
    "majority_list = [{k: v for k, v in d.items() if k == 'majority'} for d in stats]\n",
    "grid = grid.join(pd.DataFrame(majority_list), how='left')\n",
    "grid = grid.rename(columns={\"majority\": \"dusaf\"})"
   ]
  },
  {
   "cell_type": "code",
   "execution_count": null,
   "id": "f5fb2405",
   "metadata": {},
   "outputs": [],
   "source": [
    "# Class counts in each tile\n",
    "stats = rstat.zonal_stats(grid, dusaf_array, affine=affine, nodata=np.nan, stats=['count'], categorical=True)\n",
    "p = pd.DataFrame.from_dict(stats, orient='columns')\n",
    "p = p*m2_to_km2\n",
    "\n",
    "grid['dsf2'] = p[2.0]\n",
    "grid['dsf3'] = p[3.0]\n",
    "grid['dsf4'] = p[4.0]\n",
    "grid['dsf5'] = p[5.0]\n",
    "grid['dsf11'] = p[11.0]\n",
    "grid['dsf12'] = p[12.0]\n",
    "grid['dsf13'] = p[13.0]\n",
    "grid['dsf14'] = p[14.0]\n",
    "grid['dsfSum'] = p['count']"
   ]
  },
  {
   "cell_type": "markdown",
   "id": "f5ba17ce",
   "metadata": {},
   "source": [
    " - - -"
   ]
  },
  {
   "cell_type": "markdown",
   "id": "9a1b2e46",
   "metadata": {},
   "source": [
    "### [SIARL - Agricultural use - Geoportale Lombardia](https://www.geoportale.regione.lombardia.it/metadati?p_p_id=detailSheetMetadata_WAR_gptmetadataportlet&p_p_lifecycle=0&p_p_state=normal&p_p_mode=view&_detailSheetMetadata_WAR_gptmetadataportlet_uuid=%7B83483117-8742-4A1F-A16E-3A48AEE2EBE2%7D) <br>\n",
    "This layer contains the agricoltural use for each cadastral parcel provided by SIARL 2019 Catalog for the Lombardy region. Reference system EPSG:4326. <br>\n",
    "Agricoltural use:\n",
    "1. Altre coltivazioni agrarie\n",
    "2. Altri cereali\n",
    "3. Barbabietola\n",
    "4. Boschi e colture arboree\n",
    "5. Coltivazioni florovivaistiche\n",
    "6. Coltivazioni orticole\n",
    "7. Foraggere\n",
    "8. Frutticole\n",
    "9. Mais\n",
    "10. Olivo\n",
    "11. Piante industriali e legumi secchi\n",
    "12. Riso\n",
    "13. Sementi\n",
    "14. Tare e incolti\n",
    "15.  Terreni a riposo\n",
    "16. Vite\n",
    "17. Aree antropizzate\n",
    "18. Aree sterili naturali\n",
    "19. Corpi idrici\n",
    "20. Terreni agricoli non classificabili\n",
    "21. Vegetazione naturale"
   ]
  },
  {
   "cell_type": "code",
   "execution_count": null,
   "id": "9b49d827",
   "metadata": {},
   "outputs": [],
   "source": [
    "siarl_path = cwd + '/land_use_cover/siarl.tif'\n",
    "siarl = rio.open(siarl_path)"
   ]
  },
  {
   "cell_type": "code",
   "execution_count": null,
   "id": "d6a2089d",
   "metadata": {},
   "outputs": [],
   "source": [
    "siarl_array = siarl.read(1).astype('float64') \n",
    "siarl_array[siarl_array<1.0]=np.nan\n",
    "affine = siarl.transform"
   ]
  },
  {
   "cell_type": "code",
   "execution_count": null,
   "id": "198dee47",
   "metadata": {},
   "outputs": [],
   "source": [
    "stats_siarl = rstat.zonal_stats(grid, siarl_array, affine=affine, nodata=np.nan, stats=['majority'], categorical=True)\n",
    "majority_list = [{k: v for k, v in d.items() if k == 'majority'} for d in stats_siarl]\n",
    "grid = grid.join(pd.DataFrame(majority_list), how='left')\n",
    "grid = grid.rename(columns={\"majority\": \"siarl\"})"
   ]
  },
  {
   "cell_type": "code",
   "execution_count": null,
   "id": "f5f2819a",
   "metadata": {},
   "outputs": [],
   "source": [
    "# Class counts in each tile\n",
    "stats_siarl = rstat.zonal_stats(grid, siarl_array, affine=affine, nodata=np.nan, stats=['count'], categorical=True)\n",
    "p = pd.DataFrame.from_dict(stats_siarl, orient='columns')\n",
    "p = p*m2_to_km2\n",
    "grid['siarl1'] = p[1.0]\n",
    "grid['siarl2'] = p[2.0]\n",
    "grid['siarl3'] = p[3.0]\n",
    "grid['siarl4'] = p[4.0]\n",
    "grid['siarl5'] = p[5.0]\n",
    "grid['siarl6'] = p[6.0]\n",
    "grid['siarl7'] = p[7.0]\n",
    "grid['siarl8'] = p[8.0]\n",
    "grid['siarl9'] = p[9.0]\n",
    "grid['siarl10'] = p[10.0]\n",
    "grid['siarl11'] = p[11.0]\n",
    "grid['siarl12'] = p[12.0]\n",
    "grid['siarl13'] = p[13.0]\n",
    "grid['siarl14'] = p[14.0]\n",
    "grid['siarl15'] = p[15.0]\n",
    "grid['siarl16'] = p[16.0]\n",
    "grid['siarl17'] = p[17.0]\n",
    "grid['siarl18'] = p[18.0]\n",
    "grid['siarl19'] = p[19.0]\n",
    "grid['siarl20'] = p[20.0]\n",
    "grid['siarl21'] = p[21.0]\n",
    "\n",
    "grid['siarlSum'] = p['count']"
   ]
  },
  {
   "cell_type": "markdown",
   "id": "9abe2abe",
   "metadata": {},
   "source": [
    "- - -"
   ]
  },
  {
   "cell_type": "markdown",
   "id": "8d2bfc48",
   "metadata": {},
   "source": [
    "### [Digital Terrain Model - Geoportale Lombardia](https://www.geoportale.regione.lombardia.it/metadati?p_p_id=detailSheetMetadata_WAR_gptmetadataportlet&p_p_lifecycle=0&p_p_state=normal&p_p_mode=view&_detailSheetMetadata_WAR_gptmetadataportlet_uuid=%7BFC06681A-2403-481F-B6FE-5F952DD48BAF%7D)<br>\n",
    "Digital Terrain Model of Lombardy region with 20 m resolution. Reference system EPSG:4326.\n",
    "1. **Elevation** = DTM with 20 m resolution\n",
    "2. **Aspect** = calculated previously from the elevation layer\n",
    "3. **Slope** = calculated previously from the elevation layer"
   ]
  },
  {
   "cell_type": "code",
   "execution_count": null,
   "id": "b80a33a8",
   "metadata": {},
   "outputs": [],
   "source": [
    "dtm_path = cwd + '/terrain/dtm20.tif'\n",
    "aspect_path = cwd + '/terrain/aspect.tif'\n",
    "slope_path = cwd + '/terrain/slope.tif'\n",
    "dtm = rio.open(dtm_path)\n",
    "aspect = rio.open(aspect_path)\n",
    "slope = rio.open(slope_path)"
   ]
  },
  {
   "cell_type": "code",
   "execution_count": null,
   "id": "75b9d009",
   "metadata": {},
   "outputs": [],
   "source": [
    "dtm_array = dtm.read(1)\n",
    "dtm_array[dtm_array<0]=np.nan\n",
    "affine = dtm.transform\n",
    "grid = grid.join(pd.DataFrame(rstat.zonal_stats(grid, dtm_array, affine=affine, nodata=np.nan, stats=['mean'])), how='left')\n",
    "grid = grid.rename(columns={\"mean\": \"h_mean\"})"
   ]
  },
  {
   "cell_type": "code",
   "execution_count": null,
   "id": "06b7924f",
   "metadata": {
    "scrolled": true
   },
   "outputs": [],
   "source": [
    "aspect_array = aspect.read(1)\n",
    "aspect_array[aspect_array<0]=np.nan\n",
    "affine = aspect.transform\n",
    "grid = grid.join(pd.DataFrame(rstat.zonal_stats(grid, aspect_array, affine=affine, nodata=np.nan, stats=['mean'])), how='left')\n",
    "grid = grid.rename(columns={\"mean\": \"aspect_mean\"})"
   ]
  },
  {
   "cell_type": "code",
   "execution_count": null,
   "id": "16d494fc",
   "metadata": {},
   "outputs": [],
   "source": [
    "slope_array = slope.read(1)\n",
    "slope_array[slope_array<0]=np.nan\n",
    "affine = slope.transform\n",
    "grid = grid.join(pd.DataFrame(rstat.zonal_stats(grid, slope_array, affine=affine, nodata=np.nan, stats=['mean'])), how='left')\n",
    "grid = grid.rename(columns={\"mean\": \"slope_mean\"})"
   ]
  },
  {
   "cell_type": "markdown",
   "id": "55d4b957",
   "metadata": {},
   "source": [
    "- - -"
   ]
  },
  {
   "cell_type": "markdown",
   "id": "1a9011a5",
   "metadata": {},
   "source": [
    "### Soil and Vegetation"
   ]
  },
  {
   "cell_type": "code",
   "execution_count": null,
   "id": "d94d4c35",
   "metadata": {},
   "outputs": [],
   "source": [
    "soil_type_path = cwd + '/temp/soil_type.tif'\n",
    "soil_moist_path = cwd + '/temp/soil_hum.tif'\n",
    "ndvi_path = cwd + '/temp/ndvi.tif'\n",
    "\n",
    "soil_type = rio.open(soil_type_path)\n",
    "soil_moist = rio.open(soil_moist_path)\n",
    "ndvi = rio.open(ndvi_path)"
   ]
  },
  {
   "cell_type": "code",
   "execution_count": null,
   "id": "330ac883",
   "metadata": {},
   "outputs": [],
   "source": [
    "soil_array = soil_type.read(1).astype('float64') \n",
    "soil_array[soil_array<1.0]=np.nan\n",
    "affine = soil_type.transform"
   ]
  },
  {
   "cell_type": "code",
   "execution_count": null,
   "id": "9cead2ac",
   "metadata": {},
   "outputs": [],
   "source": [
    "stats_soil = rstat.zonal_stats(grid, soil_array, affine=affine, nodata=np.nan, stats=['majority'], categorical=True)\n",
    "majority_list = [{k: v for k, v in d.items() if k == 'majority'} for d in stats_soil]\n",
    "grid = grid.join(pd.DataFrame(majority_list), how='left')\n",
    "grid = grid.rename(columns={\"majority\": \"soil\"})"
   ]
  },
  {
   "cell_type": "code",
   "execution_count": null,
   "id": "14d72647",
   "metadata": {},
   "outputs": [],
   "source": [
    "# Class counts in each tile\n",
    "stats_soil = rstat.zonal_stats(grid, soil_array, affine=affine, nodata=np.nan, stats=['count'], categorical=True)\n",
    "p = pd.DataFrame.from_dict(stats_soil, orient='columns')\n",
    "grid['soil1'] = p[1.0]\n",
    "grid['soil2'] = p[2.0]\n",
    "grid['soil4'] = p[4.0]\n",
    "grid['soil5'] = p[5.0]\n",
    "grid['soil6'] = p[6.0]\n",
    "grid['soil7'] = p[7.0]\n",
    "grid['soil8'] = p[8.0]\n",
    "grid['soil9'] = p[9.0]\n",
    "grid['soil11'] = p[11.0]\n",
    "\n",
    "grid['soilSum'] = p['count']"
   ]
  },
  {
   "cell_type": "markdown",
   "id": "1c4f655e",
   "metadata": {},
   "source": [
    "Soil Moisture:"
   ]
  },
  {
   "cell_type": "code",
   "execution_count": null,
   "id": "ac4fd347",
   "metadata": {},
   "outputs": [],
   "source": [
    "soil_moist_array = soil_moist.read(1)\n",
    "affine = soil_moist.transform\n",
    "grid = grid.join(pd.DataFrame(rstat.zonal_stats(grid, soil_moist_array, affine=affine, nodata=np.nan, stats=['mean'])), how='left')\n",
    "grid = grid.rename(columns={\"mean\": \"soil_moist\"})"
   ]
  },
  {
   "cell_type": "code",
   "execution_count": null,
   "id": "fd43a580",
   "metadata": {},
   "outputs": [],
   "source": [
    "ndvi_array = ndvi.read(1)\n",
    "ndvi_array[ndvi_array<0]=np.nan\n",
    "affine = ndvi.transform\n",
    "grid = grid.join(pd.DataFrame(rstat.zonal_stats(grid, ndvi_array, affine=affine, nodata=np.nan, stats=['mean'])), how='left')\n",
    "grid = grid.rename(columns={\"mean\": \"ndvi\"})"
   ]
  },
  {
   "cell_type": "markdown",
   "id": "7744545b",
   "metadata": {},
   "source": [
    "---"
   ]
  },
  {
   "cell_type": "markdown",
   "id": "e0fbed27",
   "metadata": {},
   "source": [
    "### Import climate:"
   ]
  },
  {
   "cell_type": "code",
   "execution_count": null,
   "id": "a6db859b",
   "metadata": {},
   "outputs": [],
   "source": [
    "# Set paths for temperature at 2m level, precipitation and ndvi\n",
    "temp_2m_path = cwd + '/temp/temp_2m.tif'\n",
    "prec_path = cwd + '/temp/prec.tif'\n",
    "press_path = cwd + '/temp/press.tif'\n",
    "n_wind_path = cwd + '/temp/n_wind.tif'\n",
    "e_wind_path = cwd + '/temp/e_wind.tif'\n",
    "\n",
    "temp_2m = rio.open(temp_2m_path)\n",
    "prec = rio.open(prec_path)\n",
    "press = rio.open(press_path)\n",
    "n_wind = rio.open(n_wind_path)\n",
    "e_wind = rio.open(e_wind_path)"
   ]
  },
  {
   "cell_type": "code",
   "execution_count": null,
   "id": "f694798e",
   "metadata": {},
   "outputs": [],
   "source": [
    "temp_2m_array = temp_2m.read(1)\n",
    "affine = temp_2m.transform\n",
    "grid = grid.join(pd.DataFrame(rstat.zonal_stats(grid, temp_2m_array, affine=affine, nodata=np.nan, stats=['mean'])), how='left')\n",
    "grid = grid.rename(columns={\"mean\": \"temp_2m\"})"
   ]
  },
  {
   "cell_type": "code",
   "execution_count": null,
   "id": "7232c6e3",
   "metadata": {},
   "outputs": [],
   "source": [
    "prec_array = prec.read(1)\n",
    "prec_array[prec_array<0]=np.nan\n",
    "affine = prec.transform\n",
    "grid = grid.join(pd.DataFrame(rstat.zonal_stats(grid, prec_array, affine=affine, nodata=np.nan, stats=['mean'])), how='left')\n",
    "grid = grid.rename(columns={\"mean\": \"prec\"})"
   ]
  },
  {
   "cell_type": "code",
   "execution_count": null,
   "id": "8a2f787b",
   "metadata": {},
   "outputs": [],
   "source": [
    "press_array = press.read(1)\n",
    "press_array[press_array<0]=np.nan\n",
    "affine = press.transform\n",
    "grid = grid.join(pd.DataFrame(rstat.zonal_stats(grid, press_array, affine=affine, nodata=np.nan, stats=['mean'])), how='left')\n",
    "grid = grid.rename(columns={\"mean\": \"press\"})"
   ]
  },
  {
   "cell_type": "code",
   "execution_count": null,
   "id": "4cfe3ac5",
   "metadata": {},
   "outputs": [],
   "source": [
    "n_wind_array = n_wind.read(1)\n",
    "affine = n_wind.transform\n",
    "grid = grid.join(pd.DataFrame(rstat.zonal_stats(grid, n_wind_array, affine=affine, nodata=np.nan, stats=['mean'])), how='left')\n",
    "grid = grid.rename(columns={\"mean\": \"n_wind\"})"
   ]
  },
  {
   "cell_type": "code",
   "execution_count": null,
   "id": "b9a9930a",
   "metadata": {},
   "outputs": [],
   "source": [
    "e_wind_array = e_wind.read(1)\n",
    "affine = e_wind.transform\n",
    "grid = grid.join(pd.DataFrame(rstat.zonal_stats(grid, e_wind_array, affine=affine, nodata=np.nan, stats=['mean'])), how='left')\n",
    "grid = grid.rename(columns={\"mean\": \"e_wind\"})"
   ]
  },
  {
   "cell_type": "markdown",
   "id": "20540936",
   "metadata": {},
   "source": [
    "### Import pollutants"
   ]
  },
  {
   "cell_type": "code",
   "execution_count": null,
   "id": "325b17e6",
   "metadata": {},
   "outputs": [],
   "source": [
    "#From S5P\n",
    "no2_path = cwd + '/temp/no2.tif'\n",
    "so2_path = cwd + '/temp/so2.tif'\n",
    "aod55_path = cwd + '/temp/aod_055.tif'\n",
    "aod47_path = cwd + '/temp/aod_047.tif'\n",
    "uvai_path = cwd + '/temp/uvai.tif'\n",
    "co_path = cwd + '/temp/co.tif'\n",
    "form_path = cwd + '/temp/form.tif'\n",
    "ozone_path = cwd + '/temp/ozone.tif'\n",
    "\n",
    "no2 = rio.open(no2_path)\n",
    "so2 = rio.open(so2_path)\n",
    "aod55 = rio.open(aod55_path)\n",
    "aod47 = rio.open(aod47_path)\n",
    "uvai = rio.open(uvai_path)\n",
    "co = rio.open(co_path)\n",
    "form = rio.open(form_path)\n",
    "ozone = rio.open(ozone_path)\n",
    "\n",
    "#From CAMS\n",
    "amm_cams_path = cwd + '/temp/amm_cams.nc'\n",
    "no_cams_path = cwd + '/temp/no_cams.nc'\n",
    "co_cams_path = cwd + '/temp/co_cams.nc'\n",
    "no2_cams_path = cwd + '/temp/no2_cams.nc'\n",
    "dust_cams_path = cwd + '/temp/dust_cams.nc'\n",
    "pm10_cams_path = cwd + '/temp/pm10_cams.nc'\n",
    "pm25_cams_path = cwd + '/temp/pm25_cams.nc'\n",
    "nmvocs_cams_path = cwd + '/temp/nmvocs_cams.nc'\n",
    "so2_cams_path = cwd + '/temp/so2_cams.nc'\n",
    "ozone_cams_path = cwd + '/temp/ozone_cams.nc'\n",
    "\n",
    "amm_cams = rioxarray.open_rasterio(amm_cams_path,masked=True).rio.write_crs(\"epsg:4326\", inplace=True)\n",
    "no_cams = rioxarray.open_rasterio(no_cams_path,masked=True).rio.write_crs(\"epsg:4326\", inplace=True)\n",
    "co_cams = rioxarray.open_rasterio(co_cams_path,masked=True).rio.write_crs(\"epsg:4326\", inplace=True)\n",
    "no2_cams = rioxarray.open_rasterio(no2_cams_path,masked=True).rio.write_crs(\"epsg:4326\", inplace=True)\n",
    "dust_cams = rioxarray.open_rasterio(dust_cams_path,masked=True).rio.write_crs(\"epsg:4326\", inplace=True)\n",
    "pm10_cams = rioxarray.open_rasterio(pm10_cams_path,masked=True).rio.write_crs(\"epsg:4326\", inplace=True)\n",
    "pm25_cams = rioxarray.open_rasterio(pm25_cams_path,masked=True).rio.write_crs(\"epsg:4326\", inplace=True)\n",
    "nmvocs_cams = rioxarray.open_rasterio(nmvocs_cams_path,masked=True).rio.write_crs(\"epsg:4326\", inplace=True)\n",
    "so2_cams = rioxarray.open_rasterio(so2_cams_path,masked=True).rio.write_crs(\"epsg:4326\", inplace=True)\n",
    "ozone_cams = rioxarray.open_rasterio(ozone_cams_path,masked=True).rio.write_crs(\"epsg:4326\", inplace=True)\n",
    "\n",
    "#Convert ammonia to .tif\n",
    "amm_cams.rio.to_raster(cwd + \"/temp/amm_cams.tif\")\n",
    "amm_cams_path = cwd + '/temp/amm_cams.tif'\n",
    "amm_cams = rio.open(amm_cams_path)\n",
    "#Convert NO to .tif\n",
    "no_cams.rio.to_raster(cwd + \"/temp/no_cams.tif\")\n",
    "no_cams_path = cwd + '/temp/no_cams.tif'\n",
    "no_cams = rio.open(no_cams_path)\n",
    "#Convert CO to .tif\n",
    "co_cams.rio.to_raster(cwd + \"/temp/co_cams.tif\")\n",
    "co_cams_path = cwd + '/temp/co_cams.tif'\n",
    "co_cams = rio.open(co_cams_path)\n",
    "#Convert dust to .tif\n",
    "dust_cams.rio.to_raster(cwd + \"/temp/dust_cams.tif\")\n",
    "dust_cams_path = cwd + '/temp/dust_cams.tif'\n",
    "dust_cams = rio.open(dust_cams_path)\n",
    "#Convert pm10 to .tif\n",
    "pm10_cams.rio.to_raster(cwd + \"/temp/pm10_cams.tif\")\n",
    "pm10_cams_path = cwd + '/temp/pm10_cams.tif'\n",
    "pm10_cams = rio.open(pm10_cams_path)\n",
    "#Convert pm25 to .tif\n",
    "pm25_cams.rio.to_raster(cwd + \"/temp/pm25_cams.tif\")\n",
    "pm25_cams_path = cwd + '/temp/pm25_cams.tif'\n",
    "pm25_cams = rio.open(pm25_cams_path)\n",
    "#Convert NO2 to .tif\n",
    "no2_cams.rio.to_raster(cwd + \"/temp/no2_cams.tif\")\n",
    "no2_cams_path = cwd + '/temp/no2_cams.tif'\n",
    "no2_cams = rio.open(no2_cams_path)\n",
    "#Convert NMVOCs to .tif\n",
    "nmvocs_cams.rio.to_raster(cwd + \"/temp/nmvocs_cams.tif\")\n",
    "nmvocs_cams_path = cwd + '/temp/nmvocs_cams.tif'\n",
    "nmvocs_cams = rio.open(nmvocs_cams_path)\n",
    "#Convert SO2 to .tif\n",
    "so2_cams.rio.to_raster(cwd + \"/temp/so2_cams.tif\")\n",
    "so2_cams_path = cwd + '/temp/so2_cams.tif'\n",
    "so2_cams = rio.open(so2_cams_path)\n",
    "#Convert Ozone to .tif\n",
    "ozone_cams.rio.to_raster(cwd + \"/temp/ozone_cams.tif\")\n",
    "ozone_cams_path = cwd + '/temp/ozone_cams.tif'\n",
    "ozone_cams = rio.open(ozone_cams_path)"
   ]
  },
  {
   "cell_type": "markdown",
   "id": "8b6e27fa",
   "metadata": {},
   "source": [
    "### Sentinel-5P Data"
   ]
  },
  {
   "cell_type": "code",
   "execution_count": null,
   "id": "24512325",
   "metadata": {},
   "outputs": [],
   "source": [
    "no2_array = no2.read(1)\n",
    "affine = no2.transform\n",
    "grid = grid.join(pd.DataFrame(rstat.zonal_stats(grid, no2_array, affine=affine, nodata=np.nan, stats=['mean'])), how='left')\n",
    "grid = grid.rename(columns={\"mean\": \"no2_s5p\"})"
   ]
  },
  {
   "cell_type": "code",
   "execution_count": null,
   "id": "ad7659d8",
   "metadata": {},
   "outputs": [],
   "source": [
    "so2_array = so2.read(1)\n",
    "affine = so2.transform\n",
    "grid = grid.join(pd.DataFrame(rstat.zonal_stats(grid, so2_array, affine=affine, nodata=np.nan, stats=['mean'])), how='left')\n",
    "grid = grid.rename(columns={\"mean\": \"so2_s5p\"})"
   ]
  },
  {
   "cell_type": "code",
   "execution_count": null,
   "id": "15202a15",
   "metadata": {},
   "outputs": [],
   "source": [
    "aod55_array = aod55.read(1)\n",
    "affine = aod55.transform\n",
    "grid = grid.join(pd.DataFrame(rstat.zonal_stats(grid, aod55_array, affine=affine, nodata=np.nan, stats=['mean'])), how='left')\n",
    "grid = grid.rename(columns={\"mean\": \"aod_055\"})"
   ]
  },
  {
   "cell_type": "code",
   "execution_count": null,
   "id": "a5477913",
   "metadata": {},
   "outputs": [],
   "source": [
    "aod47_array = aod47.read(1)\n",
    "affine = aod47.transform\n",
    "grid = grid.join(pd.DataFrame(rstat.zonal_stats(grid, aod47_array, affine=affine, nodata=np.nan, stats=['mean'])), how='left')\n",
    "grid = grid.rename(columns={\"mean\": \"aod_047\"})"
   ]
  },
  {
   "cell_type": "code",
   "execution_count": null,
   "id": "92f2d138",
   "metadata": {},
   "outputs": [],
   "source": [
    "uvai_array = uvai.read(1)\n",
    "affine = uvai.transform\n",
    "grid = grid.join(pd.DataFrame(rstat.zonal_stats(grid, uvai_array, affine=affine, nodata=np.nan, stats=['mean'])), how='left')\n",
    "grid = grid.rename(columns={\"mean\": \"uvai\"})"
   ]
  },
  {
   "cell_type": "code",
   "execution_count": null,
   "id": "aca91553",
   "metadata": {},
   "outputs": [],
   "source": [
    "co_array = co.read(1)\n",
    "affine = co.transform\n",
    "grid = grid.join(pd.DataFrame(rstat.zonal_stats(grid, co_array, affine=affine, nodata=np.nan, stats=['mean'])), how='left')\n",
    "grid = grid.rename(columns={\"mean\": \"co_s5p\"})"
   ]
  },
  {
   "cell_type": "code",
   "execution_count": null,
   "id": "4d0853c6",
   "metadata": {},
   "outputs": [],
   "source": [
    "form_array = form.read(1)\n",
    "affine = form.transform\n",
    "grid = grid.join(pd.DataFrame(rstat.zonal_stats(grid, form_array, affine=affine, nodata=np.nan, stats=['mean'])), how='left')\n",
    "grid = grid.rename(columns={\"mean\": \"form_s5p\"})"
   ]
  },
  {
   "cell_type": "code",
   "execution_count": null,
   "id": "370d8436",
   "metadata": {},
   "outputs": [],
   "source": [
    "ozone_array = ozone.read(1)\n",
    "affine = ozone.transform\n",
    "grid = grid.join(pd.DataFrame(rstat.zonal_stats(grid, ozone_array, affine=affine, nodata=np.nan, stats=['mean'])), how='left')\n",
    "grid = grid.rename(columns={\"mean\": \"ozone_s5p\"})"
   ]
  },
  {
   "cell_type": "markdown",
   "id": "22e69c1e",
   "metadata": {},
   "source": [
    "### CAMS Data"
   ]
  },
  {
   "cell_type": "markdown",
   "id": "bd6a1d38",
   "metadata": {},
   "source": [
    "Resample CAMS data (original resolution 0.1°): zonal stats has issues with original resolution"
   ]
  },
  {
   "cell_type": "code",
   "execution_count": null,
   "id": "34074a99",
   "metadata": {},
   "outputs": [],
   "source": [
    "for files in os.listdir(cwd+'/temp'):\n",
    "    if files[-9:] == '_cams.tif':\n",
    "        file_name = files[:(len(files)-9)]\n",
    "        xds = rioxarray.open_rasterio(cwd + \"/temp/\"+files,masked=True)\n",
    "        new_width = xds.rio.width * upscale_factor\n",
    "        new_height = xds.rio.height * upscale_factor\n",
    "        xds_upsampled = xds.rio.reproject(xds.rio.crs,shape=(new_height, new_width),resampling=Resampling.bilinear)\n",
    "        xds_upsampled.rio.to_raster(cwd +'/temp/'+file_name+'_cams_upsampled.tif')"
   ]
  },
  {
   "cell_type": "code",
   "execution_count": null,
   "id": "df1c0ffa",
   "metadata": {},
   "outputs": [],
   "source": [
    "amm_cams_path = cwd + '/temp/amm_cams_upsampled.tif'\n",
    "amm_cams = rio.open(amm_cams_path)\n",
    "\n",
    "no_cams_path = cwd + '/temp/no_cams_upsampled.tif'\n",
    "no_cams = rio.open(no_cams_path)\n",
    "\n",
    "co_cams_path = cwd + '/temp/co_cams_upsampled.tif'\n",
    "co_cams = rio.open(co_cams_path)\n",
    "\n",
    "dust_cams_path = cwd + '/temp/dust_cams_upsampled.tif'\n",
    "dust_cams = rio.open(dust_cams_path)\n",
    "\n",
    "pm10_cams_path = cwd + '/temp/pm10_cams_upsampled.tif'\n",
    "pm10_cams = rio.open(pm10_cams_path)\n",
    "\n",
    "pm25_cams_path = cwd + '/temp/pm25_cams_upsampled.tif'\n",
    "pm25_cams = rio.open(pm25_cams_path)\n",
    "\n",
    "no2_cams_path = cwd + '/temp/no2_cams_upsampled.tif'\n",
    "no2_cams = rio.open(no2_cams_path)\n",
    "\n",
    "nmvocs_cams_path = cwd + '/temp/nmvocs_cams_upsampled.tif'\n",
    "nmvocs_cams = rio.open(nmvocs_cams_path)\n",
    "\n",
    "so2_cams_path = cwd + '/temp/so2_cams_upsampled.tif'\n",
    "so2_cams = rio.open(so2_cams_path)\n",
    "\n",
    "ozone_cams_path = cwd + '/temp/ozone_cams_upsampled.tif'\n",
    "ozone_cams = rio.open(ozone_cams_path)"
   ]
  },
  {
   "cell_type": "code",
   "execution_count": null,
   "id": "e8023f73",
   "metadata": {},
   "outputs": [],
   "source": [
    "amm_cams_array = amm_cams.read(1)\n",
    "affine = amm_cams.transform\n",
    "grid = grid.join(pd.DataFrame(rstat.zonal_stats(grid, amm_cams_array, affine=affine, nodata=np.nan, stats=['mean'])), how='left')\n",
    "grid = grid.rename(columns={\"mean\": \"amm_cams\"})"
   ]
  },
  {
   "cell_type": "code",
   "execution_count": null,
   "id": "211549e2",
   "metadata": {},
   "outputs": [],
   "source": [
    "no_cams_array = no_cams.read(1)\n",
    "affine = no_cams.transform\n",
    "grid = grid.join(pd.DataFrame(rstat.zonal_stats(grid, no_cams_array, affine=affine, nodata=np.nan, stats=['mean'])), how='left')\n",
    "grid = grid.rename(columns={\"mean\": \"no_cams\"})"
   ]
  },
  {
   "cell_type": "code",
   "execution_count": null,
   "id": "72cbfb87",
   "metadata": {},
   "outputs": [],
   "source": [
    "co_cams_array = co_cams.read(1)\n",
    "affine = co_cams.transform\n",
    "grid = grid.join(pd.DataFrame(rstat.zonal_stats(grid, co_cams_array, affine=affine, nodata=np.nan, stats=['mean'])), how='left')\n",
    "grid = grid.rename(columns={\"mean\": \"co_cams\"})"
   ]
  },
  {
   "cell_type": "code",
   "execution_count": null,
   "id": "bea7ecfe",
   "metadata": {},
   "outputs": [],
   "source": [
    "dust_cams_array = dust_cams.read(1)\n",
    "affine = dust_cams.transform\n",
    "grid = grid.join(pd.DataFrame(rstat.zonal_stats(grid, dust_cams_array, affine=affine, nodata=np.nan, stats=['mean'])), how='left')\n",
    "grid = grid.rename(columns={\"mean\": \"dust_cams\"})"
   ]
  },
  {
   "cell_type": "code",
   "execution_count": null,
   "id": "7f04d04d",
   "metadata": {},
   "outputs": [],
   "source": [
    "pm10_cams_array = pm10_cams.read(1)\n",
    "affine = pm10_cams.transform\n",
    "grid = grid.join(pd.DataFrame(rstat.zonal_stats(grid, pm10_cams_array, affine=affine, nodata=np.nan, stats=['mean'])), how='left')\n",
    "grid = grid.rename(columns={\"mean\": \"pm10_cams\"})"
   ]
  },
  {
   "cell_type": "code",
   "execution_count": null,
   "id": "99060c0d",
   "metadata": {},
   "outputs": [],
   "source": [
    "pm25_cams_array = pm25_cams.read(1)\n",
    "affine = pm25_cams.transform\n",
    "grid = grid.join(pd.DataFrame(rstat.zonal_stats(grid, pm25_cams_array, affine=affine, nodata=np.nan, stats=['mean'])), how='left')\n",
    "grid = grid.rename(columns={\"mean\": \"pm25_cams\"})"
   ]
  },
  {
   "cell_type": "code",
   "execution_count": null,
   "id": "47ba7aa6",
   "metadata": {},
   "outputs": [],
   "source": [
    "no2_cams_array = no2_cams.read(1)\n",
    "affine = no2_cams.transform\n",
    "grid = grid.join(pd.DataFrame(rstat.zonal_stats(grid, no2_cams_array, affine=affine, nodata=np.nan, stats=['mean'])), how='left')\n",
    "grid = grid.rename(columns={\"mean\": \"no2_cams\"})"
   ]
  },
  {
   "cell_type": "code",
   "execution_count": null,
   "id": "184073b7",
   "metadata": {},
   "outputs": [],
   "source": [
    "nmvocs_cams_array = nmvocs_cams.read(1)\n",
    "affine = nmvocs_cams.transform\n",
    "grid = grid.join(pd.DataFrame(rstat.zonal_stats(grid, nmvocs_cams_array, affine=affine, nodata=np.nan, stats=['mean'])), how='left')\n",
    "grid = grid.rename(columns={\"mean\": \"nmvocs_cams\"})"
   ]
  },
  {
   "cell_type": "code",
   "execution_count": null,
   "id": "234c1dfc",
   "metadata": {},
   "outputs": [],
   "source": [
    "so2_cams_array = so2_cams.read(1)\n",
    "affine = so2_cams.transform\n",
    "grid = grid.join(pd.DataFrame(rstat.zonal_stats(grid, so2_cams_array, affine=affine, nodata=np.nan, stats=['mean'])), how='left')\n",
    "grid = grid.rename(columns={\"mean\": \"so2_cams\"})"
   ]
  },
  {
   "cell_type": "code",
   "execution_count": null,
   "id": "8c43d822",
   "metadata": {},
   "outputs": [],
   "source": [
    "ozone_cams_array = ozone_cams.read(1)\n",
    "affine = ozone_cams.transform\n",
    "grid = grid.join(pd.DataFrame(rstat.zonal_stats(grid, ozone_cams_array, affine=affine, nodata=np.nan, stats=['mean'])), how='left')\n",
    "grid = grid.rename(columns={\"mean\": \"ozone_cams\"})"
   ]
  },
  {
   "cell_type": "markdown",
   "id": "3daa1b51",
   "metadata": {},
   "source": [
    "### [Gridded Population of the World - GPW](https://sedac.ciesin.columbia.edu/data/set/gpw-v4-population-density-rev11)<br>\n",
    "To provide estimates of population density for the year 2020, based on counts consistent with national censuses and population registers, as raster data to facilitate data integration.\n",
    "Input reference system EPSG: 4326"
   ]
  },
  {
   "cell_type": "code",
   "execution_count": null,
   "id": "50824464",
   "metadata": {},
   "outputs": [],
   "source": [
    "pop_path = cwd + '/population/population.tif'\n",
    "pop = rio.open(pop_path)"
   ]
  },
  {
   "cell_type": "code",
   "execution_count": null,
   "id": "81549559",
   "metadata": {},
   "outputs": [],
   "source": [
    "pop_array = pop.read(1)\n",
    "pop_array[pop_array<0]=np.nan\n",
    "affine = pop.transform\n",
    "grid = grid.join(pd.DataFrame(rstat.zonal_stats(grid, pop_array, affine=affine, nodata=np.nan, stats=['sum'])), how='left')\n",
    "grid = grid.rename(columns={\"sum\": \"pop\"})"
   ]
  },
  {
   "cell_type": "markdown",
   "id": "b63274bc",
   "metadata": {},
   "source": [
    " - - -"
   ]
  },
  {
   "cell_type": "markdown",
   "id": "b6abbb74",
   "metadata": {},
   "source": [
    "### [Road Infrastructures - Geoportale Lombardia (DBTR 2019)](https://www.geoportale.regione.lombardia.it/metadati?p_p_id=detailSheetMetadata_WAR_gptmetadataportlet&p_p_lifecycle=0&p_p_state=normal&p_p_mode=view&_detailSheetMetadata_WAR_gptmetadataportlet_uuid=%7B17D4656F-2E9D-4951-9DC1-4AD32C0959B1%7D): "
   ]
  },
  {
   "cell_type": "markdown",
   "id": "f7ce0a36",
   "metadata": {},
   "source": [
    "**Point layers** considered:\n",
    "1. Intersection between primary roads including highways\n",
    "2. Intersection between primary and secondary roads\n",
    "3. Intersection between secondary roads\n",
    "\n",
    "Input reference system EPSG: 4326"
   ]
  },
  {
   "cell_type": "code",
   "execution_count": null,
   "id": "baa4954c",
   "metadata": {},
   "outputs": [],
   "source": [
    "int_prim_path = cwd + '/road_infrastructures/inters_highway_prim_road.gpkg'\n",
    "int_prim_sec_path = cwd + '/road_infrastructures/inters_prim_sec_road.gpkg'\n",
    "int_sec_path = cwd + '/road_infrastructures/inters_sec_road.gpkg'\n",
    "\n",
    "grid = grid.to_crs(32632)"
   ]
  },
  {
   "cell_type": "code",
   "execution_count": null,
   "id": "82dfe4c4",
   "metadata": {},
   "outputs": [],
   "source": [
    "int_prim = gpd.read_file(int_prim_path).to_crs(32632)\n",
    "int_prim_sec = gpd.read_file(int_prim_sec_path).to_crs(32632)\n",
    "int_sec = gpd.read_file(int_sec_path).to_crs(32632)\n",
    "\n",
    "df_dict = {'int_prim':int_prim,\n",
    "          'int_prim_sec':int_prim_sec, 'int_sec': int_sec}\n",
    "\n",
    "\n",
    "for key in df_dict:\n",
    "    poor_points = df_dict[key][['OBJECTID','geometry']]\n",
    "    sjoined = gpd.sjoin(poor_points, grid)\n",
    "    df_count = pd.DataFrame(sjoined.groupby('index_right').size()) \n",
    "    grid_join = grid.join(df_count)\n",
    "    grid[key] = grid_join[0]"
   ]
  },
  {
   "cell_type": "markdown",
   "id": "a7b2bbad",
   "metadata": {},
   "source": [
    "**Line layers** considered:\n",
    "1. Highways\n",
    "2. Primary roads\n",
    "3. Secondary roads\n",
    "\n",
    "Input reference system EPSG: 4326"
   ]
  },
  {
   "cell_type": "code",
   "execution_count": null,
   "id": "2c3982ef",
   "metadata": {},
   "outputs": [],
   "source": [
    "highway_path = cwd + '/road_infrastructures/highway.gpkg'\n",
    "prim_road_path = cwd + '/road_infrastructures/prim_road.gpkg'\n",
    "sec_road_path = cwd + '/road_infrastructures/sec_road.gpkg'"
   ]
  },
  {
   "cell_type": "markdown",
   "id": "da65d645",
   "metadata": {},
   "source": [
    "It is required to convert to a cartographic reference system EPSG:32632 to calculate distances."
   ]
  },
  {
   "cell_type": "code",
   "execution_count": null,
   "id": "e1c2b410",
   "metadata": {},
   "outputs": [],
   "source": [
    "highway = gpd.read_file(highway_path).to_crs(32632)\n",
    "prim_road = gpd.read_file(prim_road_path).to_crs(32632)\n",
    "sec_road = gpd.read_file(sec_road_path).to_crs(32632)"
   ]
  },
  {
   "cell_type": "code",
   "execution_count": null,
   "id": "9f090893",
   "metadata": {},
   "outputs": [],
   "source": [
    "df_dict = {'highway':highway, 'prim_road':prim_road, 'sec_road':sec_road}\n",
    "\n",
    "for key in df_dict:\n",
    "    grid[key] = np.nan\n",
    "    poor_lines = df_dict[key][['geodb_oid','geometry']]\n",
    "    for index, row in grid.iterrows():\n",
    "        mask = row['geometry']\n",
    "        clip = gpd.clip(poor_lines, mask) \n",
    "        l = clip.geometry.length.sum()\n",
    "        grid[key].iloc[index] = l*m_to_km\n",
    "    print(key)"
   ]
  },
  {
   "cell_type": "markdown",
   "id": "b386ff5e",
   "metadata": {},
   "source": [
    " - - -"
   ]
  },
  {
   "cell_type": "markdown",
   "id": "e8880917",
   "metadata": {},
   "source": [
    "### Farms\n",
    "Vector file obtained from DUSAF 2018 (features with cod. 12112 = \"Insediamenti produttivi agricoli\n",
    "Sono compresi in questa classe gli edifici utilizzati per le attività produttive del settore primario, come capannoni, rimesse per macchine agricole, fienili, stalle, silos, ecc, unitamente agli spazi accessori. Quando tali edifici sono presenti insieme a quelli residenziali configurando un aggregato rurale, se le due tipologie non risultano separabili in modo evidente si classifica tutto il nucleo come cascina (11231)\")."
   ]
  },
  {
   "cell_type": "code",
   "execution_count": null,
   "id": "2b7f63bb",
   "metadata": {},
   "outputs": [],
   "source": [
    "farms_path = cwd + '/farms/farms_dissolve.gpkg'\n",
    "farms = gpd.read_file(farms_path)"
   ]
  },
  {
   "cell_type": "code",
   "execution_count": null,
   "id": "2bf7a47e",
   "metadata": {},
   "outputs": [],
   "source": [
    "df_dict2 = {'farms':farms}"
   ]
  },
  {
   "cell_type": "code",
   "execution_count": null,
   "id": "cc1bec4c",
   "metadata": {},
   "outputs": [],
   "source": [
    "for key in df_dict2:\n",
    "    grid[key] = np.nan\n",
    "    poor_poly = df_dict2[key][['COD_TOT','geometry']]\n",
    "    for index, row in grid.iterrows():\n",
    "        mask = row['geometry']\n",
    "        clip = gpd.clip(poor_poly, mask) \n",
    "        a = clip.geometry.area.sum()\n",
    "        grid[key].iloc[index] = a*m2_to_km2\n",
    "    print(key)"
   ]
  },
  {
   "cell_type": "code",
   "execution_count": null,
   "id": "d2b3d4c1",
   "metadata": {},
   "outputs": [],
   "source": [
    "grid = grid.to_crs(4326)"
   ]
  },
  {
   "cell_type": "markdown",
   "id": "e3df332d",
   "metadata": {},
   "source": [
    "---"
   ]
  },
  {
   "cell_type": "markdown",
   "id": "5a106b19",
   "metadata": {},
   "source": [
    "# Import air quality and meteo stations "
   ]
  },
  {
   "cell_type": "markdown",
   "id": "154f8653",
   "metadata": {},
   "source": [
    "Assign to each cell the value measured by each sensor. If more sensors of the same type are present in the same cell it assign the mean value:"
   ]
  },
  {
   "cell_type": "markdown",
   "id": "0fe26885",
   "metadata": {},
   "source": [
    "Meteo stations:"
   ]
  },
  {
   "cell_type": "code",
   "execution_count": null,
   "id": "17d5a4c7",
   "metadata": {},
   "outputs": [],
   "source": [
    "temp_st_path = cwd + '/temp/temp_st.gpkg'\n",
    "prec_st_path = cwd + '/temp/prec_st.gpkg'\n",
    "air_hum_st_path = cwd + '/temp/air_hum_st.gpkg'\n",
    "wind_dir_st_path = cwd + '/temp/wind_dir_st.gpkg'\n",
    "wind_speed_st_path = cwd + '/temp/wind_speed_st.gpkg'\n",
    "rad_glob_st_path = cwd + '/temp/rad_glob_st.gpkg'"
   ]
  },
  {
   "cell_type": "code",
   "execution_count": null,
   "id": "dda99bd4",
   "metadata": {},
   "outputs": [],
   "source": [
    "temp_st = gpd.read_file(temp_st_path)\n",
    "prec_st = gpd.read_file(prec_st_path)\n",
    "air_hum_st = gpd.read_file(air_hum_st_path)\n",
    "wind_dir_st = gpd.read_file(wind_dir_st_path)\n",
    "wind_speed_st = gpd.read_file(wind_speed_st_path)\n",
    "rad_glob_st = gpd.read_file(rad_glob_st_path)"
   ]
  },
  {
   "cell_type": "code",
   "execution_count": null,
   "id": "08b7b1c1",
   "metadata": {},
   "outputs": [],
   "source": [
    "df_dict = {'temp_st':temp_st,\n",
    "          'prec_st':prec_st, 'air_hum_st': air_hum_st, 'wind_dir_st':wind_dir_st, 'wind_speed_st':wind_speed_st,\n",
    "          'rad_glob_st':rad_glob_st}"
   ]
  },
  {
   "cell_type": "code",
   "execution_count": null,
   "id": "cb2d0386",
   "metadata": {},
   "outputs": [],
   "source": [
    "for key in df_dict:\n",
    "    grid[key] = np.nan\n",
    "    poor_points = df_dict[key][['idsensore','valore','geometry']]\n",
    "    for index, row in grid.iterrows():\n",
    "        mask = row['geometry']\n",
    "        clip = gpd.clip(poor_points, mask) \n",
    "        m = clip.valore.mean()\n",
    "        grid[key].iloc[index] = m\n",
    "    print(key)"
   ]
  },
  {
   "cell_type": "markdown",
   "id": "57881cb3",
   "metadata": {},
   "source": [
    "Air quality station:"
   ]
  },
  {
   "cell_type": "code",
   "execution_count": null,
   "id": "87185d7b",
   "metadata": {},
   "outputs": [],
   "source": [
    "pm25_st_path = cwd + '/temp/pm25_st.gpkg'\n",
    "nox_st_path = cwd + '/temp/nox_st.gpkg'\n",
    "no2_st_path = cwd + '/temp/no2_st.gpkg'\n",
    "amm_st_path = cwd + '/temp/amm_st.gpkg'\n",
    "so2_st_path = cwd + '/temp/so2_st.gpkg'\n",
    "pm10_st_path = cwd + '/temp/pm10_st.gpkg'\n",
    "co_st_path = cwd + '/temp/co_st.gpkg'\n",
    "ozono_st_path = cwd + '/temp/ozono_st.gpkg'"
   ]
  },
  {
   "cell_type": "code",
   "execution_count": null,
   "id": "268a0e28",
   "metadata": {},
   "outputs": [],
   "source": [
    "pm25_st = gpd.read_file(pm25_st_path)\n",
    "nox_st = gpd.read_file(nox_st_path)\n",
    "no2_st = gpd.read_file(no2_st_path)\n",
    "amm_st = gpd.read_file(amm_st_path)\n",
    "so2_st = gpd.read_file(so2_st_path)\n",
    "pm10_st = gpd.read_file(pm10_st_path)\n",
    "co_st = gpd.read_file(co_st_path)\n",
    "ozono_st = gpd.read_file(ozono_st_path)"
   ]
  },
  {
   "cell_type": "code",
   "execution_count": null,
   "id": "3ecc31ac",
   "metadata": {},
   "outputs": [],
   "source": [
    "pm25_st"
   ]
  },
  {
   "cell_type": "code",
   "execution_count": null,
   "id": "60ec521a",
   "metadata": {},
   "outputs": [],
   "source": [
    "df_dict = {'pm25_st':pm25_st,\n",
    "          'nox_st':nox_st, 'no2_st': no2_st,'ozono_st':ozono_st, 'amm_st':amm_st, 'so2_st':so2_st, 'pm10_st':pm10_st, 'co_st':co_st}"
   ]
  },
  {
   "cell_type": "code",
   "execution_count": null,
   "id": "90efa965",
   "metadata": {},
   "outputs": [],
   "source": [
    "for key in df_dict:\n",
    "    grid[key] = 0\n",
    "    poor_points = df_dict[key][['idsensore','valore','geometry']]\n",
    "    for index, row in grid.iterrows():\n",
    "        mask = row['geometry']\n",
    "        clip = gpd.clip(poor_points, mask) \n",
    "        m = clip.valore.mean()\n",
    "        grid[key].iloc[index] = m\n",
    "    print(key)"
   ]
  },
  {
   "cell_type": "markdown",
   "id": "bc862760",
   "metadata": {},
   "source": [
    "### Import Low Cost Sensor data"
   ]
  },
  {
   "cell_type": "code",
   "execution_count": null,
   "id": "38ffdd8c",
   "metadata": {},
   "outputs": [],
   "source": [
    "pm25_lcs_path = cwd + '/temp/pm25_lcs.gpkg'\n",
    "pm10_lcs_path = cwd + '/temp/pm10_lcs.gpkg'\n",
    "hum_lcs_path = cwd + '/temp/hum_lcs.gpkg'\n",
    "temp_lcs_path = cwd + '/temp/temp_lcs.gpkg'\n",
    "no2_lcs_path = cwd + '/temp/no2_lcs.gpkg'\n",
    "co2_lcs_path = cwd + '/temp/co2_lcs.gpkg'\n",
    "amm_lcs_path = cwd + '/temp/amm_lcs.gpkg'\n",
    "co_lcs_path = cwd + '/temp/co_lcs.gpkg'"
   ]
  },
  {
   "cell_type": "code",
   "execution_count": null,
   "id": "36385537",
   "metadata": {},
   "outputs": [],
   "source": [
    "pm25_lcs = gpd.read_file(pm25_lcs_path)\n",
    "pm10_lcs = gpd.read_file(pm10_lcs_path)\n",
    "hum_lcs = gpd.read_file(hum_lcs_path)\n",
    "temp_lcs = gpd.read_file(temp_lcs_path)\n",
    "no2_lcs = gpd.read_file(no2_lcs_path)\n",
    "co2_lcs = gpd.read_file(co2_lcs_path)\n",
    "amm_lcs = gpd.read_file(amm_lcs_path)\n",
    "co_lcs = gpd.read_file(co_lcs_path)"
   ]
  },
  {
   "cell_type": "code",
   "execution_count": null,
   "id": "b8d535a2",
   "metadata": {},
   "outputs": [],
   "source": [
    "pm25_lcs"
   ]
  },
  {
   "cell_type": "code",
   "execution_count": null,
   "id": "2f4e98c5",
   "metadata": {},
   "outputs": [],
   "source": [
    "df_dict = {'pm25_lcs':pm25_lcs,\n",
    "          'pm10_lcs':pm10_lcs, 'hum_lcs': hum_lcs, 'temp_lcs':temp_lcs, 'no2_lcs':no2_lcs,\n",
    "          'co2_lcs':co2_lcs, 'amm_lcs':amm_lcs, 'co_lcs':co_lcs}"
   ]
  },
  {
   "cell_type": "code",
   "execution_count": null,
   "id": "beddd7b6",
   "metadata": {},
   "outputs": [],
   "source": [
    "for key in df_dict:\n",
    "    grid[key] = 0\n",
    "    poor_points = df_dict[key][['device_id','value','geometry']]\n",
    "    for index, row in grid.iterrows():\n",
    "        mask = row['geometry']\n",
    "        clip = gpd.clip(poor_points, mask) \n",
    "        m = clip.value.mean()\n",
    "        grid[key].iloc[index] = m\n",
    "    print(key)"
   ]
  },
  {
   "cell_type": "markdown",
   "id": "9c5d0320",
   "metadata": {},
   "source": [
    "Export the file in WGS84:"
   ]
  },
  {
   "cell_type": "code",
   "execution_count": null,
   "id": "dff491b4",
   "metadata": {},
   "outputs": [],
   "source": [
    "grid.to_crs(4326).to_file(\"grid_prova.gpkg\", driver=\"GPKG\")"
   ]
  },
  {
   "cell_type": "code",
   "execution_count": null,
   "id": "aeffe0b8",
   "metadata": {},
   "outputs": [],
   "source": []
  },
  {
   "cell_type": "code",
   "execution_count": null,
   "id": "ccad5603",
   "metadata": {},
   "outputs": [],
   "source": [
    "# %load_ext watermark"
   ]
  },
  {
   "cell_type": "code",
   "execution_count": null,
   "id": "09227c9a",
   "metadata": {},
   "outputs": [],
   "source": [
    "# %watermark -v -m -p ee,geemap,os,geopandas,pandas,sodapy,requests,zipfile,io,cdsapi,xarray"
   ]
  }
 ],
 "metadata": {
  "kernelspec": {
   "display_name": "Python 3 (ipykernel)",
   "language": "python",
   "name": "python3"
  },
  "language_info": {
   "codemirror_mode": {
    "name": "ipython",
    "version": 3
   },
   "file_extension": ".py",
   "mimetype": "text/x-python",
   "name": "python",
   "nbconvert_exporter": "python",
   "pygments_lexer": "ipython3",
   "version": "3.9.10"
  }
 },
 "nbformat": 4,
 "nbformat_minor": 5
}
