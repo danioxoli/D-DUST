{
 "cells": [
  {
   "cell_type": "markdown",
   "id": "50de12ee-729f-44c3-b527-5b5d904e2527",
   "metadata": {
    "tags": []
   },
   "source": [
    "# Pre Processing: Feature Selection\n",
    "\n",
    "Feature Selection is an important step in data pre-processing. It consists in selecting the best subset of input variable as the most pertinent. Discarding irrelevant data is essential before applying Machine Learning algorithm in order to:\n",
    "* *Reduce Overfitting*: less opportunity to make decisions based on noise;\n",
    "* *Improve Accuracy*: less misleading data means modelling accuracy improves. Predictions can be greatly distorted by redundant attributes. \n",
    "* *Reduce Training Time*: With less data the algorithms will train faster;\n"
   ]
  },
  {
   "cell_type": "markdown",
   "id": "63faab97-0fca-41af-a824-363b14a233c9",
   "metadata": {},
   "source": [
    "### Import Libraries"
   ]
  },
  {
   "cell_type": "code",
   "execution_count": 1,
   "id": "a8caba14-94ee-405d-9ff8-677b5fccd8ba",
   "metadata": {},
   "outputs": [
    {
     "name": "stderr",
     "output_type": "stream",
     "text": [
      "/Users/Brescia/opt/anaconda3/lib/python3.8/site-packages/geopandas/_compat.py:111: UserWarning: The Shapely GEOS version (3.9.1-CAPI-1.14.2) is incompatible with the GEOS version PyGEOS was compiled with (3.10.0-CAPI-1.16.0). Conversions between both will be slow.\n",
      "  warnings.warn(\n"
     ]
    }
   ],
   "source": [
    "import scipy.stats as stats\n",
    "import geopandas as gpd\n",
    "import numpy as np\n",
    "from fs import methods as m\n",
    "import ipywidgets as widgets\n",
    "import pandas as pd\n",
    "import warnings\n",
    "warnings.filterwarnings(\"ignore\")\n",
    "from IPython.core.display import display, clear_output\n",
    "from sklearn import preprocessing\n",
    "import os\n",
    "from sklearn.preprocessing import MinMaxScaler\n",
    "from ipywidgets import AppLayout, Layout"
   ]
  },
  {
   "cell_type": "markdown",
   "id": "ba4d5eb0-8eef-46a9-86aa-0bc608027b62",
   "metadata": {},
   "source": [
    "### Dataframe "
   ]
  },
  {
   "cell_type": "code",
   "execution_count": 2,
   "id": "3d7f1444-ed8d-4f55-8c05-a00013594a47",
   "metadata": {},
   "outputs": [],
   "source": [
    "geopackages = os.listdir('grids')\n",
    "geopackages.remove('.DS_Store')\n",
    "grid_data = []\n",
    "dataframes_results = {}\n",
    "var_t = 'empty'\n",
    "target_labels = []\n",
    "target_labels.append('pm25_cams')\n"
   ]
  },
  {
   "cell_type": "markdown",
   "id": "8e4c0840-4b87-4ddb-b0ac-28e994dc7278",
   "metadata": {},
   "source": [
    "## Results Feature Selection\n",
    "In this section fs results are evaluated for each geopackages contained in the folder [grids/](https://github.com/opengeolab/D-DUST/tree/thesis_MB/notebooks/grids).<br />\n",
    "The results are stored in a list of dataframe (one for each dataset) and are displayed in n bar plot. <br />\n",
    "Each subplot refers to the method choosen with the dropdown widgets, with the possiblity to normalized results or not. <br />\n",
    "The methods used are:\n",
    "\n",
    "* Pearson correlation;\n",
    "* Spearmanr correlation;\n",
    "* Kendall tau; \n",
    "* F-Test;\n",
    "* Random Forest importance; \n",
    "\n",
    "<br />\n",
    "In addition, an average score for these methods is added.\n",
    "\n"
   ]
  },
  {
   "cell_type": "code",
   "execution_count": 3,
   "id": "b8f4a623-1634-4b7f-9ac5-009efb5fdb20",
   "metadata": {},
   "outputs": [
    {
     "data": {
      "application/vnd.jupyter.widget-view+json": {
       "model_id": "a644a46eabf94a8c8b10e501e41952c3",
       "version_major": 2,
       "version_minor": 0
      },
      "text/plain": [
       "Box(children=(AppLayout(children=(VBox(children=(HTML(value='<h2 style=\"text-align:center;\">Options</h2><hr><h…"
      ]
     },
     "metadata": {},
     "output_type": "display_data"
    }
   ],
   "source": [
    "labels = list(gpd.read_file('grids/'+ geopackages[0]).dropna(axis=0).dropna(axis=1).columns)\n",
    "for l in labels:\n",
    "    if(l.endswith('_st')):\n",
    "        target_labels.append(l)\n",
    "\n",
    "results_norm = widgets.Checkbox(\n",
    "    value=True,\n",
    "    description='Results normalized',\n",
    "    disabled=False,\n",
    "    indent=True\n",
    ")\n",
    "\n",
    "#Radiobutton used to display data in regular or logaritmic scale\n",
    "scale = widgets.RadioButtons(\n",
    "    options=['Regular', 'Logaritmic'],\n",
    "    description='Scale:',\n",
    "    disabled=False\n",
    ")\n",
    "\n",
    "\n",
    "#Radiobutton used to display data ordered by score or by labels\n",
    "order = widgets.RadioButtons(\n",
    "    options=['Labels', 'Scores'],\n",
    "    description='Order by:',\n",
    "    disabled=False\n",
    ")\n",
    "#Dropdown widgets used to choose the scores of the method selected\n",
    "method_choosen = widgets.Dropdown(\n",
    "    options=['Pearson', 'Spearmanr', 'Kendall', 'Fisher', 'RF Importance', 'Average Scores'],\n",
    "    value='Pearson',\n",
    "    description='Method:',\n",
    "    disabled=False,\n",
    "    layout = Layout(width='90%')\n",
    ")\n",
    "\n",
    "target_variable = widgets.Dropdown(\n",
    "    options=target_labels,\n",
    "    value=target_labels[0],\n",
    "    description='Target:',\n",
    "    layout = Layout(width='90%')\n",
    ")\n",
    "\n",
    "variance_TH= widgets.Checkbox(\n",
    "    value=False,\n",
    "    description='Apply',\n",
    "    disabled=False,\n",
    "    indent=False\n",
    ")\n",
    "\n",
    "th_value= widgets.Dropdown(\n",
    "    options=[0,0.1, 0.2, 0.3],\n",
    "    value=0,\n",
    "    description='Variance Threshold:',\n",
    "    disabled=False,\n",
    ")\n",
    "\n",
    "labels_list = []\n",
    "\n",
    "def fs_manager(change_scale, method, normalized_results, target, filter_variance, th_value):\n",
    "    global var_t\n",
    "    global labels\n",
    "    if(var_t != target):\n",
    "        labels_list.clear()\n",
    "        var_t=target\n",
    "        clear_output()\n",
    "        for index, grid in enumerate(geopackages):\n",
    "            #read gpkg file\n",
    "            data = gpd.read_file('grids/'+ grid)\n",
    "\n",
    "            data = data[~data[target].isnull()]\n",
    "            data = data.dropna(axis=1).dropna(axis=0)\n",
    "            grid_data.append(data)\n",
    "\n",
    "            data.pop('geometry')\n",
    "            data.pop('bottom')\n",
    "            data.pop('top')\n",
    "            data.pop('left')\n",
    "            data.pop('right')\n",
    "\n",
    "            labels = list(data.columns)\n",
    "\n",
    "            #read variables which are not null\n",
    "            score_results = pd.DataFrame()\n",
    "\n",
    "            #Store dataset in x and y variables\n",
    "            X = pd.DataFrame(data=data, columns=labels )\n",
    "            Y = X[target]\n",
    "            Y = Y.values.ravel()\n",
    "            X.pop(target)\n",
    "            X.pop('lat_cen')\n",
    "            X.pop('lng_cen')\n",
    "\n",
    "            labels = X.columns.tolist()\n",
    "            labels_list.append(labels)\n",
    "            score_results['Features'] = labels\n",
    "            X = X.apply(stats.zscore)\n",
    "            X = X.dropna(axis=1)\n",
    "            Y = (Y - Y.mean(axis=0)) / Y.std(axis=0)\n",
    "\n",
    "            score_results = m.fs_results_computation(X, Y)\n",
    "            var_t = target\n",
    "            x = score_results.loc[:, score_results.columns != 'Features'].values #returns a numpy array\n",
    "            min_max_scaler = preprocessing.MinMaxScaler()\n",
    "            x_scaled = min_max_scaler.fit_transform(x)\n",
    "            temp = pd.DataFrame(x_scaled)\n",
    "            mean_results =  temp.mean(axis=1)\n",
    "            score_results['Average Scores'] = mean_results\n",
    "            dataframes_results[grid] = score_results\n",
    "\n",
    "    res = []\n",
    "\n",
    "    if(normalized_results):\n",
    "        for grid in geopackages:\n",
    "            temp = (dataframes_results[grid])[method]\n",
    "            temp = m.NormalizeData1D(temp)\n",
    "            res.append(temp)\n",
    "    else:\n",
    "        for grid in geopackages:\n",
    "            temp = (dataframes_results[grid])[method]\n",
    "            res.append(temp)\n",
    "\n",
    "\n",
    "    if (change_scale == 'Logaritmic'):\n",
    "        m.show_bars_log(labels_list, res, method, geopackages)\n",
    "        return\n",
    "\n",
    "    else:\n",
    "        m.show_bars(labels_list, res, method, geopackages)\n",
    "\n",
    "title= widgets.HTML('<h2 style=\"text-align:center;\">Options</h2><hr><h3 style=\"padding: 10px;\">Input</h3>')\n",
    "\n",
    "title2 = widgets.HTML('<h2 style=\"text-align:center;\">Feature Selection scores</h2><hr>')\n",
    "plots = widgets.interactive_output(fs_manager, {'method':method_choosen, 'change_scale': scale,  'normalized_results': results_norm, 'target': target_variable, 'filter_variance':variance_TH,'th_value':th_value })\n",
    "plot = widgets.VBox([title2, plots], layout=Layout(border='solid'))\n",
    "output = widgets.VBox([title, target_variable, widgets.HTML('<br><h3 style=\"padding: 10px;\">Output</h3'),\n",
    "                           method_choosen, scale, results_norm])\n",
    "\n",
    "ui = AppLayout(header=None,\n",
    "          left_sidebar=output,\n",
    "          center=plot,\n",
    "          right_sidebar=None,\n",
    "          footer=None)\n",
    "container = widgets.Box([ui], layout=Layout(border='solid'))\n",
    "display(container)"
   ]
  },
  {
   "cell_type": "markdown",
   "id": "4aa0ae4d-fb8f-4772-a276-b50335c5fe9f",
   "metadata": {},
   "source": [
    "## Other methods\n",
    "In this sections are grouped method which are not included in the previous feature selection results. These methods are:\n",
    "* Variance Threshold;\n",
    "* Exhaustive feature selection;\n",
    "* Recursive feature selection;\n",
    "* Multiscale Geographically Weighted Regression (MGWR);\n",
    "\n"
   ]
  },
  {
   "cell_type": "markdown",
   "id": "cd7250b5",
   "metadata": {},
   "source": [
    "### MGWR bandwidth and Betas computation"
   ]
  },
  {
   "cell_type": "code",
   "execution_count": 8,
   "id": "36d6a42e-6df9-4fa7-9d59-2998ec73c80d",
   "metadata": {
    "tags": []
   },
   "outputs": [
    {
     "ename": "KeyError",
     "evalue": "'pm25_st'",
     "output_type": "error",
     "traceback": [
      "\u001b[0;31m---------------------------------------------------------------------------\u001b[0m",
      "\u001b[0;31mKeyError\u001b[0m                                  Traceback (most recent call last)",
      "\u001b[0;32m~/opt/anaconda3/lib/python3.8/site-packages/pandas/core/indexes/base.py\u001b[0m in \u001b[0;36mget_loc\u001b[0;34m(self, key, method, tolerance)\u001b[0m\n\u001b[1;32m   3360\u001b[0m             \u001b[0;32mtry\u001b[0m\u001b[0;34m:\u001b[0m\u001b[0;34m\u001b[0m\u001b[0;34m\u001b[0m\u001b[0m\n\u001b[0;32m-> 3361\u001b[0;31m                 \u001b[0;32mreturn\u001b[0m \u001b[0mself\u001b[0m\u001b[0;34m.\u001b[0m\u001b[0m_engine\u001b[0m\u001b[0;34m.\u001b[0m\u001b[0mget_loc\u001b[0m\u001b[0;34m(\u001b[0m\u001b[0mcasted_key\u001b[0m\u001b[0;34m)\u001b[0m\u001b[0;34m\u001b[0m\u001b[0;34m\u001b[0m\u001b[0m\n\u001b[0m\u001b[1;32m   3362\u001b[0m             \u001b[0;32mexcept\u001b[0m \u001b[0mKeyError\u001b[0m \u001b[0;32mas\u001b[0m \u001b[0merr\u001b[0m\u001b[0;34m:\u001b[0m\u001b[0;34m\u001b[0m\u001b[0;34m\u001b[0m\u001b[0m\n",
      "\u001b[0;32m~/opt/anaconda3/lib/python3.8/site-packages/pandas/_libs/index.pyx\u001b[0m in \u001b[0;36mpandas._libs.index.IndexEngine.get_loc\u001b[0;34m()\u001b[0m\n",
      "\u001b[0;32m~/opt/anaconda3/lib/python3.8/site-packages/pandas/_libs/index.pyx\u001b[0m in \u001b[0;36mpandas._libs.index.IndexEngine.get_loc\u001b[0;34m()\u001b[0m\n",
      "\u001b[0;32mpandas/_libs/hashtable_class_helper.pxi\u001b[0m in \u001b[0;36mpandas._libs.hashtable.PyObjectHashTable.get_item\u001b[0;34m()\u001b[0m\n",
      "\u001b[0;32mpandas/_libs/hashtable_class_helper.pxi\u001b[0m in \u001b[0;36mpandas._libs.hashtable.PyObjectHashTable.get_item\u001b[0;34m()\u001b[0m\n",
      "\u001b[0;31mKeyError\u001b[0m: 'pm25_st'",
      "\nThe above exception was the direct cause of the following exception:\n",
      "\u001b[0;31mKeyError\u001b[0m                                  Traceback (most recent call last)",
      "\u001b[0;32m/var/folders/zm/5fkjvb8s35b6fv30t5jrmgx00000gn/T/ipykernel_2207/3146588918.py\u001b[0m in \u001b[0;36m<module>\u001b[0;34m\u001b[0m\n\u001b[1;32m      6\u001b[0m     \u001b[0mX\u001b[0m\u001b[0;34m.\u001b[0m\u001b[0mpop\u001b[0m\u001b[0;34m(\u001b[0m\u001b[0;34m'lat_cen'\u001b[0m\u001b[0;34m)\u001b[0m\u001b[0;34m\u001b[0m\u001b[0;34m\u001b[0m\u001b[0m\n\u001b[1;32m      7\u001b[0m     \u001b[0mX\u001b[0m\u001b[0;34m.\u001b[0m\u001b[0mpop\u001b[0m\u001b[0;34m(\u001b[0m\u001b[0;34m'lng_cen'\u001b[0m\u001b[0;34m)\u001b[0m\u001b[0;34m\u001b[0m\u001b[0;34m\u001b[0m\u001b[0m\n\u001b[0;32m----> 8\u001b[0;31m     \u001b[0mY\u001b[0m \u001b[0;34m=\u001b[0m \u001b[0mgrid_data\u001b[0m\u001b[0;34m[\u001b[0m\u001b[0mindex\u001b[0m\u001b[0;34m]\u001b[0m\u001b[0;34m[\u001b[0m\u001b[0mtarget_variable\u001b[0m\u001b[0;34m.\u001b[0m\u001b[0mvalue\u001b[0m\u001b[0;34m]\u001b[0m\u001b[0;34m\u001b[0m\u001b[0;34m\u001b[0m\u001b[0m\n\u001b[0m\u001b[1;32m      9\u001b[0m \u001b[0;34m\u001b[0m\u001b[0m\n\u001b[1;32m     10\u001b[0m     \u001b[0mres\u001b[0m \u001b[0;34m=\u001b[0m \u001b[0mm\u001b[0m\u001b[0;34m.\u001b[0m\u001b[0mmgwr_beta\u001b[0m\u001b[0;34m(\u001b[0m\u001b[0mgrid_data\u001b[0m\u001b[0;34m[\u001b[0m\u001b[0mindex\u001b[0m\u001b[0;34m]\u001b[0m\u001b[0;34m,\u001b[0m \u001b[0mtarget_variable\u001b[0m\u001b[0;34m.\u001b[0m\u001b[0mvalue\u001b[0m\u001b[0;34m,\u001b[0m \u001b[0;36m1\u001b[0m\u001b[0;34m,\u001b[0m \u001b[0mgeopackages\u001b[0m\u001b[0;34m[\u001b[0m\u001b[0mindex\u001b[0m\u001b[0;34m]\u001b[0m\u001b[0;34m)\u001b[0m\u001b[0;34m\u001b[0m\u001b[0;34m\u001b[0m\u001b[0m\n",
      "\u001b[0;32m~/opt/anaconda3/lib/python3.8/site-packages/geopandas/geodataframe.py\u001b[0m in \u001b[0;36m__getitem__\u001b[0;34m(self, key)\u001b[0m\n\u001b[1;32m   1325\u001b[0m         \u001b[0mGeoDataFrame\u001b[0m\u001b[0;34m.\u001b[0m\u001b[0;34m\u001b[0m\u001b[0;34m\u001b[0m\u001b[0m\n\u001b[1;32m   1326\u001b[0m         \"\"\"\n\u001b[0;32m-> 1327\u001b[0;31m         \u001b[0mresult\u001b[0m \u001b[0;34m=\u001b[0m \u001b[0msuper\u001b[0m\u001b[0;34m(\u001b[0m\u001b[0;34m)\u001b[0m\u001b[0;34m.\u001b[0m\u001b[0m__getitem__\u001b[0m\u001b[0;34m(\u001b[0m\u001b[0mkey\u001b[0m\u001b[0;34m)\u001b[0m\u001b[0;34m\u001b[0m\u001b[0;34m\u001b[0m\u001b[0m\n\u001b[0m\u001b[1;32m   1328\u001b[0m         \u001b[0mgeo_col\u001b[0m \u001b[0;34m=\u001b[0m \u001b[0mself\u001b[0m\u001b[0;34m.\u001b[0m\u001b[0m_geometry_column_name\u001b[0m\u001b[0;34m\u001b[0m\u001b[0;34m\u001b[0m\u001b[0m\n\u001b[1;32m   1329\u001b[0m         \u001b[0;32mif\u001b[0m \u001b[0misinstance\u001b[0m\u001b[0;34m(\u001b[0m\u001b[0mresult\u001b[0m\u001b[0;34m,\u001b[0m \u001b[0mSeries\u001b[0m\u001b[0;34m)\u001b[0m \u001b[0;32mand\u001b[0m \u001b[0misinstance\u001b[0m\u001b[0;34m(\u001b[0m\u001b[0mresult\u001b[0m\u001b[0;34m.\u001b[0m\u001b[0mdtype\u001b[0m\u001b[0;34m,\u001b[0m \u001b[0mGeometryDtype\u001b[0m\u001b[0;34m)\u001b[0m\u001b[0;34m:\u001b[0m\u001b[0;34m\u001b[0m\u001b[0;34m\u001b[0m\u001b[0m\n",
      "\u001b[0;32m~/opt/anaconda3/lib/python3.8/site-packages/pandas/core/frame.py\u001b[0m in \u001b[0;36m__getitem__\u001b[0;34m(self, key)\u001b[0m\n\u001b[1;32m   3456\u001b[0m             \u001b[0;32mif\u001b[0m \u001b[0mself\u001b[0m\u001b[0;34m.\u001b[0m\u001b[0mcolumns\u001b[0m\u001b[0;34m.\u001b[0m\u001b[0mnlevels\u001b[0m \u001b[0;34m>\u001b[0m \u001b[0;36m1\u001b[0m\u001b[0;34m:\u001b[0m\u001b[0;34m\u001b[0m\u001b[0;34m\u001b[0m\u001b[0m\n\u001b[1;32m   3457\u001b[0m                 \u001b[0;32mreturn\u001b[0m \u001b[0mself\u001b[0m\u001b[0;34m.\u001b[0m\u001b[0m_getitem_multilevel\u001b[0m\u001b[0;34m(\u001b[0m\u001b[0mkey\u001b[0m\u001b[0;34m)\u001b[0m\u001b[0;34m\u001b[0m\u001b[0;34m\u001b[0m\u001b[0m\n\u001b[0;32m-> 3458\u001b[0;31m             \u001b[0mindexer\u001b[0m \u001b[0;34m=\u001b[0m \u001b[0mself\u001b[0m\u001b[0;34m.\u001b[0m\u001b[0mcolumns\u001b[0m\u001b[0;34m.\u001b[0m\u001b[0mget_loc\u001b[0m\u001b[0;34m(\u001b[0m\u001b[0mkey\u001b[0m\u001b[0;34m)\u001b[0m\u001b[0;34m\u001b[0m\u001b[0;34m\u001b[0m\u001b[0m\n\u001b[0m\u001b[1;32m   3459\u001b[0m             \u001b[0;32mif\u001b[0m \u001b[0mis_integer\u001b[0m\u001b[0;34m(\u001b[0m\u001b[0mindexer\u001b[0m\u001b[0;34m)\u001b[0m\u001b[0;34m:\u001b[0m\u001b[0;34m\u001b[0m\u001b[0;34m\u001b[0m\u001b[0m\n\u001b[1;32m   3460\u001b[0m                 \u001b[0mindexer\u001b[0m \u001b[0;34m=\u001b[0m \u001b[0;34m[\u001b[0m\u001b[0mindexer\u001b[0m\u001b[0;34m]\u001b[0m\u001b[0;34m\u001b[0m\u001b[0;34m\u001b[0m\u001b[0m\n",
      "\u001b[0;32m~/opt/anaconda3/lib/python3.8/site-packages/pandas/core/indexes/base.py\u001b[0m in \u001b[0;36mget_loc\u001b[0;34m(self, key, method, tolerance)\u001b[0m\n\u001b[1;32m   3361\u001b[0m                 \u001b[0;32mreturn\u001b[0m \u001b[0mself\u001b[0m\u001b[0;34m.\u001b[0m\u001b[0m_engine\u001b[0m\u001b[0;34m.\u001b[0m\u001b[0mget_loc\u001b[0m\u001b[0;34m(\u001b[0m\u001b[0mcasted_key\u001b[0m\u001b[0;34m)\u001b[0m\u001b[0;34m\u001b[0m\u001b[0;34m\u001b[0m\u001b[0m\n\u001b[1;32m   3362\u001b[0m             \u001b[0;32mexcept\u001b[0m \u001b[0mKeyError\u001b[0m \u001b[0;32mas\u001b[0m \u001b[0merr\u001b[0m\u001b[0;34m:\u001b[0m\u001b[0;34m\u001b[0m\u001b[0;34m\u001b[0m\u001b[0m\n\u001b[0;32m-> 3363\u001b[0;31m                 \u001b[0;32mraise\u001b[0m \u001b[0mKeyError\u001b[0m\u001b[0;34m(\u001b[0m\u001b[0mkey\u001b[0m\u001b[0;34m)\u001b[0m \u001b[0;32mfrom\u001b[0m \u001b[0merr\u001b[0m\u001b[0;34m\u001b[0m\u001b[0;34m\u001b[0m\u001b[0m\n\u001b[0m\u001b[1;32m   3364\u001b[0m \u001b[0;34m\u001b[0m\u001b[0m\n\u001b[1;32m   3365\u001b[0m         \u001b[0;32mif\u001b[0m \u001b[0mis_scalar\u001b[0m\u001b[0;34m(\u001b[0m\u001b[0mkey\u001b[0m\u001b[0;34m)\u001b[0m \u001b[0;32mand\u001b[0m \u001b[0misna\u001b[0m\u001b[0;34m(\u001b[0m\u001b[0mkey\u001b[0m\u001b[0;34m)\u001b[0m \u001b[0;32mand\u001b[0m \u001b[0;32mnot\u001b[0m \u001b[0mself\u001b[0m\u001b[0;34m.\u001b[0m\u001b[0mhasnans\u001b[0m\u001b[0;34m:\u001b[0m\u001b[0;34m\u001b[0m\u001b[0;34m\u001b[0m\u001b[0m\n",
      "\u001b[0;31mKeyError\u001b[0m: 'pm25_st'"
     ]
    }
   ],
   "source": [
    "bandwidths = []\n",
    "\n",
    "for index in range(0,len(dataframes_results)):\n",
    "    X = grid_data[index].loc[:, grid_data[index].columns != target_variable.value]\n",
    "    coords = list(zip(X['lat_cen'], X['lng_cen']))\n",
    "    X.pop('lat_cen')\n",
    "    X.pop('lng_cen')\n",
    "    Y = grid_data[index][target_variable.value]\n",
    "\n",
    "    res = m.mgwr_beta(grid_data[index], target_variable.value, 1, geopackages[index])\n",
    "    list(dataframes_results.values())[index]['MGWR Median Betas'] = m.NormalizeData(res['Betas Median'])\n",
    "    bandwidths.append(res['Bandwidthds'])\n",
    "    \n",
    "    x = list(dataframes_results.values())[index].loc[:, list(dataframes_results.values())[index].columns != 'Features'].values #returns a numpy array\n",
    "    min_max_scaler = preprocessing.MinMaxScaler()\n",
    "    x_scaled = min_max_scaler.fit_transform(x)\n",
    "    temp = pd.DataFrame(x_scaled)\n",
    "    mean_results = temp.mean(axis=1)\n",
    "    list(dataframes_results.values())[index]['Average Scores'] = mean_results\n",
    "\n",
    "# MGWR Bandwidths bar plots\n",
    "m.show_bars(labels_list, bandwidths, 'MGWR Bandwidths', geopackages)\n",
    "\n",
    "res = []\n",
    "for grid in geopackages:\n",
    "        temp = (dataframes_results[grid])['MGWR Median Betas']\n",
    "        temp = m.NormalizeData1D(temp)\n",
    "        res.append(temp)\n",
    "\n",
    "# MGWR Median(Betas) bar plots\n",
    "m.show_bars(labels_list, res, 'MGWR Median Betas', geopackages)\n",
    "\n",
    "\n",
    "res = []\n",
    "for grid in geopackages:\n",
    "        temp = (dataframes_results[grid])['Average Scores']\n",
    "        res.append(temp)\n",
    "\n",
    "# Average scores bar plots (including mgwr results)\n",
    "m.show_bars(labels_list, res, 'Average Scores', geopackages)"
   ]
  },
  {
   "cell_type": "markdown",
   "id": "786f67fb",
   "metadata": {},
   "source": [
    "### Variance Threshold"
   ]
  },
  {
   "cell_type": "code",
   "execution_count": null,
   "id": "b468c706",
   "metadata": {},
   "outputs": [],
   "source": [
    "for index in range(0,len(dataframes_results)):\n",
    "    X = grid_data[index].loc[:, grid_data[index].columns != target_variable.value]\n",
    "    coords = list(zip(X['lat_cen'], X['lng_cen']))\n",
    "    X.pop('lat_cen')\n",
    "    X.pop('lng_cen')\n",
    "    Y = grid_data[index][target_variable.value]\n",
    "    m.variance_threshold(X, 0.1)  # 0.1 Th value\n",
    "    "
   ]
  },
  {
   "cell_type": "markdown",
   "id": "526bc6f4",
   "metadata": {},
   "source": [
    "### Exhaustive feature selection"
   ]
  },
  {
   "cell_type": "code",
   "execution_count": null,
   "id": "c3a00d47",
   "metadata": {},
   "outputs": [],
   "source": [
    "for index in range(0,len(dataframes_results)):\n",
    "    X = grid_data[index].loc[:, grid_data[index].columns != target_variable.value]\n",
    "    coords = list(zip(X['lat_cen'], X['lng_cen']))\n",
    "    X.pop('lat_cen')\n",
    "    X.pop('lng_cen')\n",
    "    Y = grid_data[index][target_variable.value]\n",
    "    m.exhaustive_feature_selection(X, Y)"
   ]
  },
  {
   "cell_type": "markdown",
   "id": "42d9a91b",
   "metadata": {},
   "source": [
    "### Recursive feature selection"
   ]
  },
  {
   "cell_type": "code",
   "execution_count": null,
   "id": "ba32fc9a",
   "metadata": {},
   "outputs": [],
   "source": [
    "for index in range(0,len(dataframes_results)):\n",
    "    X = grid_data[index].loc[:, grid_data[index].columns != target_variable.value]\n",
    "    coords = list(zip(X['lat_cen'], X['lng_cen']))\n",
    "    X.pop('lat_cen')\n",
    "    X.pop('lng_cen')\n",
    "    Y = grid_data[index][target_variable.value]\n",
    "    m.recursive_feature_selection(X, Y.astype(int), 10) # 10 = number of features"
   ]
  }
 ],
 "metadata": {
  "kernelspec": {
   "display_name": "Python 3 (ipykernel)",
   "language": "python",
   "name": "python3"
  },
  "language_info": {
   "codemirror_mode": {
    "name": "ipython",
    "version": 3
   },
   "file_extension": ".py",
   "mimetype": "text/x-python",
   "name": "python",
   "nbconvert_exporter": "python",
   "pygments_lexer": "ipython3",
   "version": "3.8.8"
  }
 },
 "nbformat": 4,
 "nbformat_minor": 5
}
