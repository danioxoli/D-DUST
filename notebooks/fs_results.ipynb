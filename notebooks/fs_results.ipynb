{
 "cells": [
  {
   "cell_type": "markdown",
   "id": "50de12ee-729f-44c3-b527-5b5d904e2527",
   "metadata": {
    "tags": []
   },
   "source": [
    "# PreProcessing: Feature Selection\n",
    "\n",
    "Feature Selection is an important step in data pre-processing. It consists in selecting the best subset of input variable as the most pertinent. Discarding irrelevant data is essential before applying Machine Learning algorithm in order to:\n",
    "* *Reduce Overfitting*: less opportunity to make decisions based on noise;\n",
    "* *Improve Accuracy*: less misleading data means modelling accuracy improves. Predictions can be greatly distorted by redundant attributes. \n",
    "* *Reduce Training Time*: With less data the algorithms will train faster;\n"
   ]
  },
  {
   "cell_type": "markdown",
   "id": "63faab97-0fca-41af-a824-363b14a233c9",
   "metadata": {},
   "source": [
    "### Import Libraries"
   ]
  },
  {
   "cell_type": "code",
   "execution_count": 5,
   "id": "a8caba14-94ee-405d-9ff8-677b5fccd8ba",
   "metadata": {},
   "outputs": [],
   "source": [
    "import scipy.stats as stats\n",
    "import geopandas as gpd\n",
    "import warnings\n",
    "import numpy as np\n",
    "from fs import methods as m\n",
    "import ipywidgets as widgets\n",
    "import pandas as pd\n",
    "warnings.filterwarnings(\"ignore\")\n",
    "from IPython.core.display import display\n",
    "from sklearn import preprocessing\n",
    "import os\n",
    "from sklearn.preprocessing import MinMaxScaler\n"
   ]
  },
  {
   "cell_type": "markdown",
   "id": "8e4c0840-4b87-4ddb-b0ac-28e994dc7278",
   "metadata": {},
   "source": [
    "## Results Feature Selection\n",
    "In this section fs results are evaluated for each geopackages contained in the folder [grids/](https://github.com/opengeolab/D-DUST/tree/thesis_MB/notebooks/grids).<br />\n",
    "The results are stored in a list of dataframe (one for each dataset) and are displayed in n bar plot. <br />\n",
    "Each subplot refers to the method choosen with the dropdown widgets, with the possiblity to normalized results or not."
   ]
  },
  {
   "cell_type": "code",
   "execution_count": null,
   "id": "b8f4a623-1634-4b7f-9ac5-009efb5fdb20",
   "metadata": {
    "pycharm": {
     "is_executing": true
    }
   },
   "outputs": [
    {
     "data": {
      "text/plain": "HBox(children=(VBox(children=(Dropdown(description='Method:', options=('Pearson', 'Spearmanr', 'Kendall', 'Fis…",
      "application/vnd.jupyter.widget-view+json": {
       "version_major": 2,
       "version_minor": 0,
       "model_id": "cb9dddd4dc4c43d9a76fe87b4ec97ec1"
      }
     },
     "metadata": {},
     "output_type": "display_data"
    },
    {
     "data": {
      "text/plain": "Output()",
      "application/vnd.jupyter.widget-view+json": {
       "version_major": 2,
       "version_minor": 0,
       "model_id": "0da5e96baf534343aa45854c910afb60"
      }
     },
     "metadata": {},
     "output_type": "display_data"
    }
   ],
   "source": [
    "geopackages = os.listdir('grids')\n",
    "geopackages.remove('.DS_Store')\n",
    "\n",
    "dataframes_results = {}\n",
    "for grid in geopackages:\n",
    "    #read gpkg file\n",
    "    data = gpd.read_file('grids/'+ grid)\n",
    "    #read variables which are not null\n",
    "    labels = m.check_NotNull(data)\n",
    "    score_results = pd.DataFrame()\n",
    "\n",
    "    #Store dataset in x and y variables\n",
    "    X = pd.DataFrame(data=data, columns=labels )\n",
    "    Y = X[['pm25_cams']]\n",
    "    Y = Y.values.ravel()\n",
    "    X.pop('pm25_cams')\n",
    "    X.pop('geometry')\n",
    "    X.pop('bottom')\n",
    "    X.pop('top')\n",
    "    X.pop('left')\n",
    "    X.pop('right')\n",
    "    #coordinates definition used for mgwr\n",
    "    coords = list(zip(X['lat_cen'], X['lng_cen']))\n",
    "    X.pop('lat_cen')\n",
    "    X.pop('lng_cen')\n",
    "\n",
    "    labels = X.columns.tolist()\n",
    "    score_results['Features'] = labels\n",
    "    X = X.apply(stats.zscore)\n",
    "    score_results = m.fs_results_computation(X, Y)\n",
    "\n",
    "    x = score_results.loc[:, score_results.columns != 'Features'].values #returns a numpy array\n",
    "    min_max_scaler = preprocessing.MinMaxScaler()\n",
    "    x_scaled = min_max_scaler.fit_transform(x)\n",
    "    temp = pd.DataFrame(x_scaled)\n",
    "    mean_results =  temp.mean(axis=1)\n",
    "    score_results['Average Scores'] = mean_results\n",
    "    dataframes_results[grid] = score_results\n",
    "\n",
    "results_norm = widgets.Checkbox(\n",
    "    value=True,\n",
    "    description='Results normalized',\n",
    "    disabled=False,\n",
    "    indent=True\n",
    ")\n",
    "\n",
    "#Radiobutton used to display data in regular or logaritmic scale\n",
    "scale = widgets.RadioButtons(\n",
    "    options=['Regular', 'Logaritmic'],\n",
    "    description='Scale:',\n",
    "    disabled=False\n",
    ")\n",
    "\n",
    "#Radiobutton used to display data ordered by score or by labels\n",
    "order = widgets.RadioButtons(\n",
    "    options=['Labels', 'Scores'],\n",
    "    description='Order by:',\n",
    "    disabled=False\n",
    ")\n",
    "#Dropdown widgets used to choose the scores of the method selected\n",
    "method_choosen = widgets.Dropdown(\n",
    "    options=['Pearson', 'Spearmanr', 'Kendall', 'Fisher', 'Random Forest Importance', 'Average Scores'],\n",
    "    value='Pearson',\n",
    "    description='Method:',\n",
    "    disabled=False\n",
    ")\n",
    "\n",
    "\n",
    "\n",
    "def fs_manager(change_scale, method, normalized_results):\n",
    "    res = []\n",
    "    if(normalized_results):\n",
    "        for grid in geopackages:\n",
    "            temp = (dataframes_results[grid])[method]\n",
    "            temp = m.NormalizeData1D(temp)\n",
    "            res.append(temp)\n",
    "    else:\n",
    "        for grid in geopackages:\n",
    "            temp = (dataframes_results[grid])[method]\n",
    "            res.append(temp)\n",
    "\n",
    "\n",
    "    if (change_scale == 'Logaritmic'):\n",
    "        m.show_bars_log(labels, res, method, geopackages)\n",
    "        return\n",
    "\n",
    "    else:\n",
    "        m.show_bars(labels, res, method, geopackages)\n",
    "        return\n",
    "\n",
    "container1 = widgets.VBox([scale])\n",
    "container2 = widgets.VBox([method_choosen, results_norm])\n",
    "ui = widgets.HBox([container2, container1])\n",
    "out = widgets.interactive_output(fs_manager, {'method':method_choosen, 'change_scale': scale,  'normalized_results': results_norm})\n",
    "display(ui, out)"
   ]
  },
  {
   "cell_type": "code",
   "execution_count": 6,
   "id": "aab3630e-ff82-48b1-8d50-c718e4d8df15",
   "metadata": {},
   "outputs": [],
   "source": []
  }
 ],
 "metadata": {
  "kernelspec": {
   "display_name": "Python 3 (ipykernel)",
   "language": "python",
   "name": "python3"
  },
  "language_info": {
   "codemirror_mode": {
    "name": "ipython",
    "version": 3
   },
   "file_extension": ".py",
   "mimetype": "text/x-python",
   "name": "python",
   "nbconvert_exporter": "python",
   "pygments_lexer": "ipython3",
   "version": "3.8.8"
  }
 },
 "nbformat": 4,
 "nbformat_minor": 5
}