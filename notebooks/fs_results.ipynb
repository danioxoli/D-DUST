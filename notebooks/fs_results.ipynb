{
 "cells": [
  {
   "cell_type": "markdown",
   "id": "50de12ee-729f-44c3-b527-5b5d904e2527",
   "metadata": {
    "tags": []
   },
   "source": [
    "# Pre Processing: Feature Selection\n",
    "\n",
    "Feature Selection is an important step in data pre-processing. It consists in selecting the best subset of input variable as the most pertinent. Discarding irrelevant data is essential before applying Machine Learning algorithm in order to:\n",
    "* *Reduce Overfitting*: less opportunity to make decisions based on noise;\n",
    "* *Improve Accuracy*: less misleading data means modelling accuracy improves. Predictions can be greatly distorted by redundant attributes. \n",
    "* *Reduce Training Time*: With less data the algorithms will train faster;\n"
   ]
  },
  {
   "cell_type": "markdown",
   "id": "63faab97-0fca-41af-a824-363b14a233c9",
   "metadata": {},
   "source": [
    "### Import Libraries"
   ]
  },
  {
   "cell_type": "code",
   "execution_count": 1,
   "id": "a8caba14-94ee-405d-9ff8-677b5fccd8ba",
   "metadata": {},
   "outputs": [
    {
     "name": "stderr",
     "output_type": "stream",
     "text": [
      "/Users/Brescia/opt/anaconda3/lib/python3.8/site-packages/geopandas/_compat.py:111: UserWarning: The Shapely GEOS version (3.9.1-CAPI-1.14.2) is incompatible with the GEOS version PyGEOS was compiled with (3.10.0-CAPI-1.16.0). Conversions between both will be slow.\n",
      "  warnings.warn(\n"
     ]
    }
   ],
   "source": [
    "import scipy.stats as stats\n",
    "import geopandas as gpd\n",
    "import numpy as np\n",
    "from fs import methods as m\n",
    "import ipywidgets as widgets\n",
    "import pandas as pd\n",
    "import warnings\n",
    "warnings.filterwarnings(\"ignore\")\n",
    "from IPython.core.display import display, clear_output\n",
    "from sklearn import preprocessing\n",
    "import os\n",
    "from sklearn.preprocessing import MinMaxScaler\n",
    "from ipywidgets import AppLayout"
   ]
  },
  {
   "cell_type": "markdown",
   "id": "ba4d5eb0-8eef-46a9-86aa-0bc608027b62",
   "metadata": {},
   "source": [
    "### Dataframe "
   ]
  },
  {
   "cell_type": "code",
   "execution_count": 2,
   "id": "3d7f1444-ed8d-4f55-8c05-a00013594a47",
   "metadata": {},
   "outputs": [],
   "source": [
    "geopackages = os.listdir('grids')\n",
    "geopackages.remove('.DS_Store')\n",
    "grid_data = []\n",
    "dataframes_results = {}\n",
    "var_t = 'empty'"
   ]
  },
  {
   "cell_type": "markdown",
   "id": "8e4c0840-4b87-4ddb-b0ac-28e994dc7278",
   "metadata": {},
   "source": [
    "## Results Feature Selection\n",
    "In this section fs results are evaluated for each geopackages contained in the folder [grids/](https://github.com/opengeolab/D-DUST/tree/thesis_MB/notebooks/grids).<br />\n",
    "The results are stored in a list of dataframe (one for each dataset) and are displayed in n bar plot. <br />\n",
    "Each subplot refers to the method choosen with the dropdown widgets, with the possiblity to normalized results or not. <br />\n",
    "The methods used are:\n",
    "\n",
    "* Pearson correlation;\n",
    "* Spearmanr correlation;\n",
    "* Kendall tau; \n",
    "* F-Test;\n",
    "* Random Forest importance; \n",
    "\n",
    "<br />\n",
    "In addition, an average score for these methods is added.\n",
    "\n"
   ]
  },
  {
   "cell_type": "code",
   "execution_count": 3,
   "id": "b8f4a623-1634-4b7f-9ac5-009efb5fdb20",
   "metadata": {
    "pycharm": {
     "is_executing": true
    }
   },
   "outputs": [
    {
     "data": {
      "application/vnd.jupyter.widget-view+json": {
       "model_id": "22768ba158b74175b689f38b2bfc6459",
       "version_major": 2,
       "version_minor": 0
      },
      "text/plain": [
       "AppLayout(children=(VBox(children=(HTML(value='<br><h2>Options</h2><br><h3>Input</h3'), Dropdown(description='…"
      ]
     },
     "metadata": {},
     "output_type": "display_data"
    }
   ],
   "source": [
    "results_norm = widgets.Checkbox(\n",
    "    value=True,\n",
    "    description='Results normalized',\n",
    "    disabled=False,\n",
    "    indent=True\n",
    ")\n",
    "\n",
    "#Radiobutton used to display data in regular or logaritmic scale\n",
    "scale = widgets.RadioButtons(\n",
    "    options=['Regular', 'Logaritmic'],\n",
    "    description='Scale:',\n",
    "    disabled=False\n",
    ")\n",
    "\n",
    "#Radiobutton used to display data ordered by score or by labels\n",
    "order = widgets.RadioButtons(\n",
    "    options=['Labels', 'Scores'],\n",
    "    description='Order by:',\n",
    "    disabled=False\n",
    ")\n",
    "#Dropdown widgets used to choose the scores of the method selected\n",
    "method_choosen = widgets.Dropdown(\n",
    "    options=['Pearson', 'Spearmanr', 'Kendall', 'Fisher', 'RF Importance', 'Average Scores'],\n",
    "    value='Pearson',\n",
    "    description='Method:',\n",
    "    disabled=False\n",
    ")\n",
    "\n",
    "target_variable = widgets.Dropdown(\n",
    "    options=['pm25_st','pm25_cams'],\n",
    "    value='pm25_cams',\n",
    "    description='Target:'\n",
    ")\n",
    "\n",
    "variance_TH= widgets.Checkbox(\n",
    "    value=False,\n",
    "    description='Apply',\n",
    "    disabled=False,\n",
    "    indent=False\n",
    ")\n",
    "\n",
    "th_value= widgets.Dropdown(\n",
    "    options=[0,0.1, 0.2, 0.3],\n",
    "    value=0,\n",
    "    description='Variance Threshold:',\n",
    "    disabled=False,\n",
    ")\n",
    "\n",
    "def fs_manager(change_scale, method, normalized_results, target, filter_variance, th_value):\n",
    "    global var_t\n",
    "    global labels\n",
    "    if(var_t != target):\n",
    "        var_t=target\n",
    "        clear_output()\n",
    "        for grid in geopackages:\n",
    "            #read gpkg file\n",
    "            data = gpd.read_file('grids/'+ grid)\n",
    "\n",
    "            data = data[~data[target].isnull()]\n",
    "            grid_data.append(data)\n",
    "\n",
    "            data.pop('geometry')\n",
    "            data.pop('bottom')\n",
    "            data.pop('top')\n",
    "            data.pop('left')\n",
    "            data.pop('right')\n",
    "\n",
    "            labels = m.check_NotNull(data)\n",
    "            #read variables which are not null\n",
    "            score_results = pd.DataFrame()\n",
    "\n",
    "            #Store dataset in x and y variables\n",
    "            X = pd.DataFrame(data=data, columns=labels )\n",
    "            Y = X[target]\n",
    "            Y = Y.values.ravel()\n",
    "            X.pop(target)\n",
    "            X.pop('lat_cen')\n",
    "            X.pop('lng_cen')\n",
    "\n",
    "            labels = X.columns.tolist()\n",
    "            score_results['Features'] = labels\n",
    "            X = X.apply(stats.zscore)\n",
    "            X = X.dropna(axis=1)\n",
    "            Y = (Y - Y.mean(axis=0)) / Y.std(axis=0)\n",
    "\n",
    "            score_results = m.fs_results_computation(X, Y)\n",
    "            var_t = target\n",
    "            x = score_results.loc[:, score_results.columns != 'Features'].values #returns a numpy array\n",
    "            min_max_scaler = preprocessing.MinMaxScaler()\n",
    "            x_scaled = min_max_scaler.fit_transform(x)\n",
    "            temp = pd.DataFrame(x_scaled)\n",
    "            mean_results =  temp.mean(axis=1)\n",
    "            score_results['Average Scores'] = mean_results\n",
    "            dataframes_results[grid] = score_results\n",
    "\n",
    "    res = []\n",
    "    if(normalized_results):\n",
    "        for grid in geopackages:\n",
    "            temp = (dataframes_results[grid])[method]\n",
    "            temp = m.NormalizeData1D(temp)\n",
    "            res.append(temp)\n",
    "    else:\n",
    "        for grid in geopackages:\n",
    "            temp = (dataframes_results[grid])[method]\n",
    "            res.append(temp)\n",
    "\n",
    "\n",
    "    if (change_scale == 'Logaritmic'):\n",
    "        m.show_bars_log(labels, res, method, geopackages)\n",
    "        return\n",
    "\n",
    "    else:\n",
    "        m.show_bars(labels, res, method, geopackages)\n",
    "\n",
    "title= widgets.HTML('<br><h2>Options</h2><br><h3>Input</h3')\n",
    "\n",
    "title2 = widgets.HTML('<h1>Feature Selection scores</h1>')\n",
    "plots = widgets.interactive_output(fs_manager, {'method':method_choosen, 'change_scale': scale,  'normalized_results': results_norm, 'target': target_variable, 'filter_variance':variance_TH,'th_value':th_value })\n",
    "input = widgets.VBox([title2, plots])\n",
    "output = widgets.VBox([title, target_variable, widgets.HTML('<br><h3>Output</h3'),\n",
    "                           method_choosen, scale, results_norm])\n",
    "\n",
    "container3= widgets.HBox([th_value, variance_TH])\n",
    "ui = AppLayout(header=None,\n",
    "          left_sidebar=output,\n",
    "          center=input,\n",
    "          right_sidebar=None,\n",
    "          footer=None)\n",
    "display(ui)"
   ]
  },
  {
   "cell_type": "markdown",
   "id": "4aa0ae4d-fb8f-4772-a276-b50335c5fe9f",
   "metadata": {},
   "source": [
    "## Other methods\n",
    "In this sections are grouped method which are not included in the previous feature selection results. These methods are:\n",
    "* Variance Threshold;\n",
    "* Exhaustive feature selection;\n",
    "* Recursive feature selection;\n",
    "* Multiscale Geographically Weighted Regression (MGWR);\n"
   ]
  },
  {
   "cell_type": "markdown",
   "id": "cd7250b5",
   "metadata": {},
   "source": [
    "### MGWR bandwidth and Betas computation"
   ]
  },
  {
   "cell_type": "code",
   "execution_count": 4,
   "id": "36d6a42e-6df9-4fa7-9d59-2998ec73c80d",
   "metadata": {
    "tags": []
   },
   "outputs": [
    {
     "data": {
      "application/vnd.jupyter.widget-view+json": {
       "model_id": "ada1a27b2e6b4ee5a98b0f96c678ebea",
       "version_major": 2,
       "version_minor": 0
      },
      "text/plain": [
       "Backfitting:   0%|          | 0/1 [00:00<?, ?it/s]"
      ]
     },
     "metadata": {},
     "output_type": "display_data"
    },
    {
     "data": {
      "application/vnd.jupyter.widget-view+json": {
       "model_id": "e115ae3189a34aa9a56ca08c7e7d0b21",
       "version_major": 2,
       "version_minor": 0
      },
      "text/plain": [
       "Inference:   0%|          | 0/2 [00:00<?, ?it/s]"
      ]
     },
     "metadata": {},
     "output_type": "display_data"
    },
    {
     "data": {
      "application/vnd.jupyter.widget-view+json": {
       "model_id": "d5226b604f494227b021757533262736",
       "version_major": 2,
       "version_minor": 0
      },
      "text/plain": [
       "Backfitting:   0%|          | 0/1 [00:00<?, ?it/s]"
      ]
     },
     "metadata": {},
     "output_type": "display_data"
    },
    {
     "data": {
      "application/vnd.jupyter.widget-view+json": {
       "model_id": "755647bcab2e4f1f885349ec8c8c57ef",
       "version_major": 2,
       "version_minor": 0
      },
      "text/plain": [
       "Inference:   0%|          | 0/2 [00:00<?, ?it/s]"
      ]
     },
     "metadata": {},
     "output_type": "display_data"
    },
    {
     "data": {
      "application/vnd.jupyter.widget-view+json": {
       "model_id": "4c3c879d00eb4e4d9a44edbf9799d28c",
       "version_major": 2,
       "version_minor": 0
      },
      "text/plain": [
       "Backfitting:   0%|          | 0/1 [00:00<?, ?it/s]"
      ]
     },
     "metadata": {},
     "output_type": "display_data"
    },
    {
     "data": {
      "application/vnd.jupyter.widget-view+json": {
       "model_id": "2632b74fe33748d7bb0ed6534690f937",
       "version_major": 2,
       "version_minor": 0
      },
      "text/plain": [
       "Inference:   0%|          | 0/2 [00:00<?, ?it/s]"
      ]
     },
     "metadata": {},
     "output_type": "display_data"
    },
    {
     "data": {
      "application/vnd.jupyter.widget-view+json": {
       "model_id": "bc69483de8894e05af06d5df115dfb1b",
       "version_major": 2,
       "version_minor": 0
      },
      "text/plain": [
       "Backfitting:   0%|          | 0/1 [00:00<?, ?it/s]"
      ]
     },
     "metadata": {},
     "output_type": "display_data"
    },
    {
     "data": {
      "application/vnd.jupyter.widget-view+json": {
       "model_id": "f229f3c4057a4d8e9c0539be8a451a76",
       "version_major": 2,
       "version_minor": 0
      },
      "text/plain": [
       "Inference:   0%|          | 0/2 [00:00<?, ?it/s]"
      ]
     },
     "metadata": {},
     "output_type": "display_data"
    },
    {
     "data": {
      "application/vnd.jupyter.widget-view+json": {
       "model_id": "21ec325a189c45a1887322d700b5b677",
       "version_major": 2,
       "version_minor": 0
      },
      "text/plain": [
       "Backfitting:   0%|          | 0/1 [00:00<?, ?it/s]"
      ]
     },
     "metadata": {},
     "output_type": "display_data"
    },
    {
     "data": {
      "application/vnd.jupyter.widget-view+json": {
       "model_id": "7b9d2c2bf2b747a6af3f3d0853fed19a",
       "version_major": 2,
       "version_minor": 0
      },
      "text/plain": [
       "Inference:   0%|          | 0/2 [00:00<?, ?it/s]"
      ]
     },
     "metadata": {},
     "output_type": "display_data"
    },
    {
     "data": {
      "application/vnd.plotly.v1+json": {
       "config": {
        "plotlyServerURL": "https://plot.ly"
       },
       "data": [
        {
         "type": "bar",
         "x": [
          "dusaf",
          "dusafSum",
          "dsf2",
          "dsf3",
          "dsf4",
          "dsf5",
          "dsf11",
          "dsf12",
          "dsf13",
          "dsf14",
          "siarl",
          "siarlSum",
          "siarl2",
          "siarl9",
          "siarl12",
          "aq_zone",
          "clim_zone",
          "soil",
          "soilSum",
          "soil1",
          "soil2",
          "soil4",
          "soil5",
          "soil6",
          "soil7",
          "soil8",
          "soil9",
          "soil_text",
          "soilTextSum",
          "soil_text1",
          "soil_text2",
          "soil_text3",
          "soil_text4",
          "soil_text5",
          "soil_text6",
          "soil_text7",
          "soil_text8",
          "soil_text9",
          "soil_text10",
          "pop",
          "int_prim",
          "int_prim_sec",
          "int_sec",
          "highway",
          "prim_road",
          "sec_road",
          "farms",
          "farm_pigs",
          "farm_poultry",
          "farm_sheep",
          "ndvi",
          "temp_2m",
          "prec",
          "press",
          "n_wind",
          "e_wind",
          "soil_moist",
          "no2_s5p",
          "so2_s5p",
          "aod_055",
          "aod_047",
          "uvai",
          "co_s5p",
          "ch2o_s5p",
          "o3_s5p",
          "ch4_s5p",
          "nh3_cams",
          "no_cams",
          "co_cams",
          "dust_cams",
          "pm10_cams",
          "no2_cams",
          "nmvocs_cams",
          "so2_cams",
          "o3_cams",
          "co_int",
          "nh3_int",
          "no2_int",
          "nox_int",
          "o3_int",
          "pm10_int",
          "pm25_int",
          "so2_int",
          "air_hum_int",
          "prec_int",
          "rad_glob_int",
          "temp_int",
          "wind_dir_int",
          "wind_speed_int"
         ],
         "xaxis": "x",
         "y": [
          423.02,
          164.95,
          681.05,
          188.22,
          193.71,
          620.17,
          657.82,
          45.2,
          164.95,
          8.04,
          80.76,
          8.85,
          582.52,
          423.02,
          263.53,
          521.6,
          423.02,
          263.53,
          423.02,
          679.8,
          680.29,
          162.55,
          681.05,
          681.09,
          8.54,
          15.83,
          6.86,
          657.82,
          620.17,
          672.21,
          657.82,
          657.82,
          582.52,
          657.82,
          66.37,
          620.17,
          521.6,
          657.82,
          582.52,
          263.53,
          521.6,
          582.52,
          179.33,
          643.44,
          620.17,
          164.95,
          521.6,
          62.98,
          620.17,
          263.53,
          582.52,
          657.82,
          666.71,
          657.82,
          657.82,
          657.82,
          657.82,
          620.17,
          657.82,
          657.82,
          657.82,
          79.46,
          657.82,
          657.82,
          666.71,
          657.82,
          643.44,
          582.52,
          620.17,
          643.44,
          643.44,
          423.02,
          582.52,
          620.17,
          225.87,
          657.82,
          620.17,
          620.17,
          620.17,
          643.44,
          657.82,
          657.82,
          666.71,
          666.71,
          643.44,
          643.44,
          657.82,
          620.17,
          582.52
         ],
         "yaxis": "y"
        },
        {
         "type": "bar",
         "x": [
          "dusaf",
          "dusafSum",
          "dsf2",
          "dsf3",
          "dsf4",
          "dsf5",
          "dsf11",
          "dsf12",
          "dsf13",
          "dsf14",
          "siarl",
          "siarlSum",
          "siarl2",
          "siarl9",
          "siarl12",
          "aq_zone",
          "clim_zone",
          "soil",
          "soilSum",
          "soil1",
          "soil2",
          "soil4",
          "soil5",
          "soil6",
          "soil7",
          "soil8",
          "soil9",
          "soil_text",
          "soilTextSum",
          "soil_text1",
          "soil_text2",
          "soil_text3",
          "soil_text4",
          "soil_text5",
          "soil_text6",
          "soil_text7",
          "soil_text8",
          "soil_text9",
          "soil_text10",
          "pop",
          "int_prim",
          "int_prim_sec",
          "int_sec",
          "highway",
          "prim_road",
          "sec_road",
          "farms",
          "farm_pigs",
          "farm_poultry",
          "farm_sheep",
          "ndvi",
          "temp_2m",
          "prec",
          "press",
          "n_wind",
          "e_wind",
          "soil_moist",
          "no2_s5p",
          "so2_s5p",
          "aod_055",
          "aod_047",
          "uvai",
          "co_s5p",
          "ch2o_s5p",
          "o3_s5p",
          "ch4_s5p",
          "nh3_cams",
          "no_cams",
          "co_cams",
          "dust_cams",
          "pm10_cams",
          "no2_cams",
          "nmvocs_cams",
          "so2_cams",
          "o3_cams",
          "co_int",
          "nh3_int",
          "no2_int",
          "nox_int",
          "o3_int",
          "pm10_int",
          "pm25_int",
          "so2_int",
          "air_hum_int",
          "prec_int",
          "rad_glob_int",
          "temp_int",
          "wind_dir_int",
          "wind_speed_int"
         ],
         "xaxis": "x2",
         "y": [
          423.02,
          681.09,
          681.09,
          681.09,
          681.09,
          681.09,
          8.79,
          9.11,
          680.29,
          34.29,
          76.56,
          7.45,
          680.91,
          680.29,
          677.7,
          91.44,
          126,
          68.97,
          681.09,
          161.86,
          174.52,
          56.5,
          681.08,
          74.08,
          14.82,
          277.91,
          679.8,
          680.91,
          680.29,
          18.9,
          680.6,
          141.68,
          679.8,
          11.73,
          111.81,
          680.79,
          672.21,
          677.7,
          108.22,
          675.6,
          679.8,
          159.46,
          680.29,
          679.8,
          680.6,
          680.29,
          680.29,
          680.29,
          79.46,
          680.29,
          680.29,
          680.29,
          677.7,
          680.6,
          680.29,
          680.79,
          680.29,
          679.8,
          680.6,
          680.6,
          680.6,
          679,
          680.6,
          125.2,
          679.8,
          680.29,
          680.79,
          679.8,
          680.6,
          680.29,
          680.6,
          680.29,
          680.29,
          680.6,
          680.6,
          92.24,
          680.6,
          680.6,
          680.6,
          680.6,
          680.6,
          680.29,
          680.79,
          679.8,
          679.8,
          83.16,
          680.29,
          679.8,
          680.6
         ],
         "yaxis": "y2"
        },
        {
         "type": "bar",
         "x": [
          "dusaf",
          "dusafSum",
          "dsf2",
          "dsf3",
          "dsf4",
          "dsf5",
          "dsf11",
          "dsf12",
          "dsf13",
          "dsf14",
          "siarl",
          "siarlSum",
          "siarl2",
          "siarl9",
          "siarl12",
          "aq_zone",
          "clim_zone",
          "soil",
          "soilSum",
          "soil1",
          "soil2",
          "soil4",
          "soil5",
          "soil6",
          "soil7",
          "soil8",
          "soil9",
          "soil_text",
          "soilTextSum",
          "soil_text1",
          "soil_text2",
          "soil_text3",
          "soil_text4",
          "soil_text5",
          "soil_text6",
          "soil_text7",
          "soil_text8",
          "soil_text9",
          "soil_text10",
          "pop",
          "int_prim",
          "int_prim_sec",
          "int_sec",
          "highway",
          "prim_road",
          "sec_road",
          "farms",
          "farm_pigs",
          "farm_poultry",
          "farm_sheep",
          "ndvi",
          "temp_2m",
          "prec",
          "press",
          "n_wind",
          "e_wind",
          "soil_moist",
          "no2_s5p",
          "so2_s5p",
          "aod_055",
          "aod_047",
          "uvai",
          "co_s5p",
          "ch2o_s5p",
          "o3_s5p",
          "ch4_s5p",
          "nh3_cams",
          "no_cams",
          "co_cams",
          "dust_cams",
          "pm10_cams",
          "no2_cams",
          "nmvocs_cams",
          "so2_cams",
          "o3_cams",
          "co_int",
          "nh3_int",
          "no2_int",
          "nox_int",
          "o3_int",
          "pm10_int",
          "pm25_int",
          "so2_int",
          "air_hum_int",
          "prec_int",
          "rad_glob_int",
          "temp_int",
          "wind_dir_int",
          "wind_speed_int"
         ],
         "xaxis": "x3",
         "y": [
          13.04,
          681.05,
          56.38,
          78.96,
          680.6,
          680.29,
          681.02,
          13.12,
          675.6,
          666.71,
          657.82,
          5.97,
          20.33,
          521.6,
          521.6,
          620.17,
          582.52,
          57.49,
          80.45,
          672.21,
          679,
          681.02,
          258.83,
          681.09,
          101.93,
          677.7,
          9.91,
          19.83,
          521.6,
          49.89,
          521.6,
          582.52,
          620.17,
          582.52,
          48.6,
          104.03,
          643.44,
          521.6,
          71.87,
          620.17,
          582.52,
          521.6,
          423.02,
          521.6,
          620.17,
          521.6,
          57.49,
          118.41,
          521.6,
          620.17,
          23.04,
          141.68,
          582.52,
          582.52,
          620.17,
          521.6,
          582.52,
          582.52,
          582.52,
          582.52,
          582.52,
          582.52,
          582.52,
          582.52,
          521.6,
          521.6,
          620.17,
          582.52,
          104.03,
          582.52,
          620.17,
          582.52,
          620.17,
          521.6,
          620.17,
          263.53,
          620.17,
          620.17,
          582.52,
          620.17,
          620.17,
          582.52,
          620.17,
          582.52,
          66.37,
          582.52,
          620.17,
          521.6
         ],
         "yaxis": "y3"
        },
        {
         "type": "bar",
         "x": [
          "dusaf",
          "dusafSum",
          "dsf2",
          "dsf3",
          "dsf4",
          "dsf5",
          "dsf11",
          "dsf12",
          "dsf13",
          "dsf14",
          "siarl",
          "siarlSum",
          "siarl2",
          "siarl9",
          "siarl12",
          "aq_zone",
          "clim_zone",
          "soil",
          "soilSum",
          "soil1",
          "soil2",
          "soil4",
          "soil5",
          "soil6",
          "soil7",
          "soil8",
          "soil9",
          "soil_text",
          "soilTextSum",
          "soil_text1",
          "soil_text2",
          "soil_text3",
          "soil_text4",
          "soil_text5",
          "soil_text6",
          "soil_text7",
          "soil_text8",
          "soil_text9",
          "soil_text10",
          "pop",
          "int_prim",
          "int_prim_sec",
          "int_sec",
          "highway",
          "prim_road",
          "sec_road",
          "farms",
          "farm_pigs",
          "farm_poultry",
          "farm_sheep",
          "ndvi",
          "temp_2m",
          "prec",
          "press",
          "n_wind",
          "e_wind",
          "soil_moist",
          "no2_s5p",
          "so2_s5p",
          "aod_055",
          "aod_047",
          "uvai",
          "co_s5p",
          "ch2o_s5p",
          "o3_s5p",
          "ch4_s5p",
          "nh3_cams",
          "no_cams",
          "co_cams",
          "dust_cams",
          "pm10_cams",
          "no2_cams",
          "nmvocs_cams",
          "so2_cams",
          "o3_cams",
          "co_int",
          "nh3_int",
          "no2_int",
          "nox_int",
          "o3_int",
          "pm10_int",
          "pm25_int",
          "so2_int",
          "air_hum_int",
          "prec_int",
          "rad_glob_int",
          "temp_int",
          "wind_dir_int",
          "wind_speed_int"
         ],
         "xaxis": "x4",
         "y": [
          263.53,
          681.08,
          157.97,
          681.09,
          681.09,
          26.58,
          35.7,
          9.45,
          680.29,
          6.94,
          51.38,
          12.59,
          680.6,
          679,
          60.46,
          680.79,
          97.24,
          100.94,
          680.91,
          681.08,
          681.09,
          73.05,
          681.09,
          172.73,
          133.97,
          68.92,
          9.46,
          254.64,
          679,
          17.06,
          681.05,
          145.07,
          680.79,
          73.97,
          42.3,
          45.09,
          680.6,
          680.29,
          680.79,
          677.7,
          680.6,
          258.03,
          680.29,
          98.53,
          680.6,
          680.6,
          680.29,
          680.79,
          677.7,
          679.8,
          680.91,
          680.79,
          679,
          680.79,
          681.02,
          680.79,
          680.98,
          679,
          680.29,
          680.29,
          680.91,
          680.79,
          680.6,
          680.91,
          680.79,
          680.6,
          167.05,
          680.6,
          99.34,
          680.29,
          679,
          679.8,
          680.29,
          680.6,
          680.79,
          680.6,
          680.98,
          680.79,
          680.6,
          680.79,
          680.29,
          680.91,
          680.91,
          680.6,
          680.79,
          680.79,
          680.79,
          680.6
         ],
         "yaxis": "y4"
        },
        {
         "type": "bar",
         "x": [
          "dusaf",
          "dusafSum",
          "dsf2",
          "dsf3",
          "dsf4",
          "dsf5",
          "dsf11",
          "dsf12",
          "dsf13",
          "dsf14",
          "siarl",
          "siarlSum",
          "siarl2",
          "siarl9",
          "siarl12",
          "aq_zone",
          "clim_zone",
          "soil",
          "soilSum",
          "soil1",
          "soil2",
          "soil4",
          "soil5",
          "soil6",
          "soil7",
          "soil8",
          "soil9",
          "soil_text",
          "soilTextSum",
          "soil_text1",
          "soil_text2",
          "soil_text3",
          "soil_text4",
          "soil_text5",
          "soil_text6",
          "soil_text7",
          "soil_text8",
          "soil_text9",
          "soil_text10",
          "pop",
          "int_prim",
          "int_prim_sec",
          "int_sec",
          "highway",
          "prim_road",
          "sec_road",
          "farms",
          "farm_pigs",
          "farm_poultry",
          "farm_sheep",
          "ndvi",
          "temp_2m",
          "prec",
          "press",
          "n_wind",
          "e_wind",
          "soil_moist",
          "no2_s5p",
          "so2_s5p",
          "aod_055",
          "aod_047",
          "uvai",
          "co_s5p",
          "ch2o_s5p",
          "o3_s5p",
          "ch4_s5p",
          "nh3_cams",
          "no_cams",
          "co_cams",
          "dust_cams",
          "pm10_cams",
          "no2_cams",
          "nmvocs_cams",
          "so2_cams",
          "o3_cams",
          "co_int",
          "nh3_int",
          "no2_int",
          "nox_int",
          "o3_int",
          "pm10_int",
          "pm25_int",
          "so2_int",
          "air_hum_int",
          "prec_int",
          "rad_glob_int",
          "temp_int",
          "wind_dir_int",
          "wind_speed_int"
         ],
         "xaxis": "x5",
         "y": [
          263.53,
          680.98,
          681.05,
          679.8,
          677.7,
          679,
          677.7,
          521.6,
          75.26,
          521.6,
          16.44,
          521.6,
          141.68,
          521.6,
          11.13,
          582.52,
          582.52,
          521.6,
          679,
          100.63,
          112.92,
          680.29,
          82.17,
          681.09,
          13.78,
          26.43,
          5.45,
          675.6,
          657.82,
          15.21,
          620.17,
          666.71,
          666.71,
          643.44,
          582.52,
          643.44,
          582.52,
          672.21,
          643.44,
          620.17,
          657.82,
          98.53,
          657.82,
          643.44,
          666.71,
          666.71,
          657.82,
          657.82,
          657.82,
          672.21,
          672.21,
          675.6,
          620.17,
          675.6,
          675.6,
          620.17,
          657.82,
          666.71,
          672.21,
          672.21,
          672.21,
          675.6,
          672.21,
          677.7,
          672.21,
          666.71,
          666.71,
          675.6,
          666.71,
          675.6,
          672.21,
          672.21,
          672.21,
          666.71,
          620.17,
          672.21,
          657.82,
          643.44,
          666.71,
          675.6,
          675.6,
          675.6,
          679,
          141.68,
          657.82,
          666.71,
          657.82,
          643.44
         ],
         "yaxis": "y5"
        }
       ],
       "layout": {
        "annotations": [
         {
          "font": {
           "size": 16
          },
          "showarrow": false,
          "text": "grid_cams_1017_1023_2021.gpkg",
          "x": 0.225,
          "xanchor": "center",
          "xref": "paper",
          "y": 1,
          "yanchor": "bottom",
          "yref": "paper"
         },
         {
          "font": {
           "size": 16
          },
          "showarrow": false,
          "text": "grid_cams_0324_0331_2021.gpkg",
          "x": 0.775,
          "xanchor": "center",
          "xref": "paper",
          "y": 1,
          "yanchor": "bottom",
          "yref": "paper"
         },
         {
          "font": {
           "size": 16
          },
          "showarrow": false,
          "text": "grid_cams_0717_0724_2021.gpkg",
          "x": 0.225,
          "xanchor": "center",
          "xref": "paper",
          "y": 0.6111111111111112,
          "yanchor": "bottom",
          "yref": "paper"
         },
         {
          "font": {
           "size": 16
          },
          "showarrow": false,
          "text": "grid_cams_0903_0910_2021.gpkg",
          "x": 0.775,
          "xanchor": "center",
          "xref": "paper",
          "y": 0.6111111111111112,
          "yanchor": "bottom",
          "yref": "paper"
         },
         {
          "font": {
           "size": 16
          },
          "showarrow": false,
          "text": "grid_cams_0418_0425_2021.gpkg",
          "x": 0.225,
          "xanchor": "center",
          "xref": "paper",
          "y": 0.22222222222222224,
          "yanchor": "bottom",
          "yref": "paper"
         }
        ],
        "autosize": true,
        "showlegend": false,
        "template": {
         "data": {
          "bar": [
           {
            "error_x": {
             "color": "#2a3f5f"
            },
            "error_y": {
             "color": "#2a3f5f"
            },
            "marker": {
             "line": {
              "color": "#E5ECF6",
              "width": 0.5
             },
             "pattern": {
              "fillmode": "overlay",
              "size": 10,
              "solidity": 0.2
             }
            },
            "type": "bar"
           }
          ],
          "barpolar": [
           {
            "marker": {
             "line": {
              "color": "#E5ECF6",
              "width": 0.5
             },
             "pattern": {
              "fillmode": "overlay",
              "size": 10,
              "solidity": 0.2
             }
            },
            "type": "barpolar"
           }
          ],
          "carpet": [
           {
            "aaxis": {
             "endlinecolor": "#2a3f5f",
             "gridcolor": "white",
             "linecolor": "white",
             "minorgridcolor": "white",
             "startlinecolor": "#2a3f5f"
            },
            "baxis": {
             "endlinecolor": "#2a3f5f",
             "gridcolor": "white",
             "linecolor": "white",
             "minorgridcolor": "white",
             "startlinecolor": "#2a3f5f"
            },
            "type": "carpet"
           }
          ],
          "choropleth": [
           {
            "colorbar": {
             "outlinewidth": 0,
             "ticks": ""
            },
            "type": "choropleth"
           }
          ],
          "contour": [
           {
            "colorbar": {
             "outlinewidth": 0,
             "ticks": ""
            },
            "colorscale": [
             [
              0,
              "#0d0887"
             ],
             [
              0.1111111111111111,
              "#46039f"
             ],
             [
              0.2222222222222222,
              "#7201a8"
             ],
             [
              0.3333333333333333,
              "#9c179e"
             ],
             [
              0.4444444444444444,
              "#bd3786"
             ],
             [
              0.5555555555555556,
              "#d8576b"
             ],
             [
              0.6666666666666666,
              "#ed7953"
             ],
             [
              0.7777777777777778,
              "#fb9f3a"
             ],
             [
              0.8888888888888888,
              "#fdca26"
             ],
             [
              1,
              "#f0f921"
             ]
            ],
            "type": "contour"
           }
          ],
          "contourcarpet": [
           {
            "colorbar": {
             "outlinewidth": 0,
             "ticks": ""
            },
            "type": "contourcarpet"
           }
          ],
          "heatmap": [
           {
            "colorbar": {
             "outlinewidth": 0,
             "ticks": ""
            },
            "colorscale": [
             [
              0,
              "#0d0887"
             ],
             [
              0.1111111111111111,
              "#46039f"
             ],
             [
              0.2222222222222222,
              "#7201a8"
             ],
             [
              0.3333333333333333,
              "#9c179e"
             ],
             [
              0.4444444444444444,
              "#bd3786"
             ],
             [
              0.5555555555555556,
              "#d8576b"
             ],
             [
              0.6666666666666666,
              "#ed7953"
             ],
             [
              0.7777777777777778,
              "#fb9f3a"
             ],
             [
              0.8888888888888888,
              "#fdca26"
             ],
             [
              1,
              "#f0f921"
             ]
            ],
            "type": "heatmap"
           }
          ],
          "heatmapgl": [
           {
            "colorbar": {
             "outlinewidth": 0,
             "ticks": ""
            },
            "colorscale": [
             [
              0,
              "#0d0887"
             ],
             [
              0.1111111111111111,
              "#46039f"
             ],
             [
              0.2222222222222222,
              "#7201a8"
             ],
             [
              0.3333333333333333,
              "#9c179e"
             ],
             [
              0.4444444444444444,
              "#bd3786"
             ],
             [
              0.5555555555555556,
              "#d8576b"
             ],
             [
              0.6666666666666666,
              "#ed7953"
             ],
             [
              0.7777777777777778,
              "#fb9f3a"
             ],
             [
              0.8888888888888888,
              "#fdca26"
             ],
             [
              1,
              "#f0f921"
             ]
            ],
            "type": "heatmapgl"
           }
          ],
          "histogram": [
           {
            "marker": {
             "pattern": {
              "fillmode": "overlay",
              "size": 10,
              "solidity": 0.2
             }
            },
            "type": "histogram"
           }
          ],
          "histogram2d": [
           {
            "colorbar": {
             "outlinewidth": 0,
             "ticks": ""
            },
            "colorscale": [
             [
              0,
              "#0d0887"
             ],
             [
              0.1111111111111111,
              "#46039f"
             ],
             [
              0.2222222222222222,
              "#7201a8"
             ],
             [
              0.3333333333333333,
              "#9c179e"
             ],
             [
              0.4444444444444444,
              "#bd3786"
             ],
             [
              0.5555555555555556,
              "#d8576b"
             ],
             [
              0.6666666666666666,
              "#ed7953"
             ],
             [
              0.7777777777777778,
              "#fb9f3a"
             ],
             [
              0.8888888888888888,
              "#fdca26"
             ],
             [
              1,
              "#f0f921"
             ]
            ],
            "type": "histogram2d"
           }
          ],
          "histogram2dcontour": [
           {
            "colorbar": {
             "outlinewidth": 0,
             "ticks": ""
            },
            "colorscale": [
             [
              0,
              "#0d0887"
             ],
             [
              0.1111111111111111,
              "#46039f"
             ],
             [
              0.2222222222222222,
              "#7201a8"
             ],
             [
              0.3333333333333333,
              "#9c179e"
             ],
             [
              0.4444444444444444,
              "#bd3786"
             ],
             [
              0.5555555555555556,
              "#d8576b"
             ],
             [
              0.6666666666666666,
              "#ed7953"
             ],
             [
              0.7777777777777778,
              "#fb9f3a"
             ],
             [
              0.8888888888888888,
              "#fdca26"
             ],
             [
              1,
              "#f0f921"
             ]
            ],
            "type": "histogram2dcontour"
           }
          ],
          "mesh3d": [
           {
            "colorbar": {
             "outlinewidth": 0,
             "ticks": ""
            },
            "type": "mesh3d"
           }
          ],
          "parcoords": [
           {
            "line": {
             "colorbar": {
              "outlinewidth": 0,
              "ticks": ""
             }
            },
            "type": "parcoords"
           }
          ],
          "pie": [
           {
            "automargin": true,
            "type": "pie"
           }
          ],
          "scatter": [
           {
            "marker": {
             "colorbar": {
              "outlinewidth": 0,
              "ticks": ""
             }
            },
            "type": "scatter"
           }
          ],
          "scatter3d": [
           {
            "line": {
             "colorbar": {
              "outlinewidth": 0,
              "ticks": ""
             }
            },
            "marker": {
             "colorbar": {
              "outlinewidth": 0,
              "ticks": ""
             }
            },
            "type": "scatter3d"
           }
          ],
          "scattercarpet": [
           {
            "marker": {
             "colorbar": {
              "outlinewidth": 0,
              "ticks": ""
             }
            },
            "type": "scattercarpet"
           }
          ],
          "scattergeo": [
           {
            "marker": {
             "colorbar": {
              "outlinewidth": 0,
              "ticks": ""
             }
            },
            "type": "scattergeo"
           }
          ],
          "scattergl": [
           {
            "marker": {
             "colorbar": {
              "outlinewidth": 0,
              "ticks": ""
             }
            },
            "type": "scattergl"
           }
          ],
          "scattermapbox": [
           {
            "marker": {
             "colorbar": {
              "outlinewidth": 0,
              "ticks": ""
             }
            },
            "type": "scattermapbox"
           }
          ],
          "scatterpolar": [
           {
            "marker": {
             "colorbar": {
              "outlinewidth": 0,
              "ticks": ""
             }
            },
            "type": "scatterpolar"
           }
          ],
          "scatterpolargl": [
           {
            "marker": {
             "colorbar": {
              "outlinewidth": 0,
              "ticks": ""
             }
            },
            "type": "scatterpolargl"
           }
          ],
          "scatterternary": [
           {
            "marker": {
             "colorbar": {
              "outlinewidth": 0,
              "ticks": ""
             }
            },
            "type": "scatterternary"
           }
          ],
          "surface": [
           {
            "colorbar": {
             "outlinewidth": 0,
             "ticks": ""
            },
            "colorscale": [
             [
              0,
              "#0d0887"
             ],
             [
              0.1111111111111111,
              "#46039f"
             ],
             [
              0.2222222222222222,
              "#7201a8"
             ],
             [
              0.3333333333333333,
              "#9c179e"
             ],
             [
              0.4444444444444444,
              "#bd3786"
             ],
             [
              0.5555555555555556,
              "#d8576b"
             ],
             [
              0.6666666666666666,
              "#ed7953"
             ],
             [
              0.7777777777777778,
              "#fb9f3a"
             ],
             [
              0.8888888888888888,
              "#fdca26"
             ],
             [
              1,
              "#f0f921"
             ]
            ],
            "type": "surface"
           }
          ],
          "table": [
           {
            "cells": {
             "fill": {
              "color": "#EBF0F8"
             },
             "line": {
              "color": "white"
             }
            },
            "header": {
             "fill": {
              "color": "#C8D4E3"
             },
             "line": {
              "color": "white"
             }
            },
            "type": "table"
           }
          ]
         },
         "layout": {
          "annotationdefaults": {
           "arrowcolor": "#2a3f5f",
           "arrowhead": 0,
           "arrowwidth": 1
          },
          "autotypenumbers": "strict",
          "coloraxis": {
           "colorbar": {
            "outlinewidth": 0,
            "ticks": ""
           }
          },
          "colorscale": {
           "diverging": [
            [
             0,
             "#8e0152"
            ],
            [
             0.1,
             "#c51b7d"
            ],
            [
             0.2,
             "#de77ae"
            ],
            [
             0.3,
             "#f1b6da"
            ],
            [
             0.4,
             "#fde0ef"
            ],
            [
             0.5,
             "#f7f7f7"
            ],
            [
             0.6,
             "#e6f5d0"
            ],
            [
             0.7,
             "#b8e186"
            ],
            [
             0.8,
             "#7fbc41"
            ],
            [
             0.9,
             "#4d9221"
            ],
            [
             1,
             "#276419"
            ]
           ],
           "sequential": [
            [
             0,
             "#0d0887"
            ],
            [
             0.1111111111111111,
             "#46039f"
            ],
            [
             0.2222222222222222,
             "#7201a8"
            ],
            [
             0.3333333333333333,
             "#9c179e"
            ],
            [
             0.4444444444444444,
             "#bd3786"
            ],
            [
             0.5555555555555556,
             "#d8576b"
            ],
            [
             0.6666666666666666,
             "#ed7953"
            ],
            [
             0.7777777777777778,
             "#fb9f3a"
            ],
            [
             0.8888888888888888,
             "#fdca26"
            ],
            [
             1,
             "#f0f921"
            ]
           ],
           "sequentialminus": [
            [
             0,
             "#0d0887"
            ],
            [
             0.1111111111111111,
             "#46039f"
            ],
            [
             0.2222222222222222,
             "#7201a8"
            ],
            [
             0.3333333333333333,
             "#9c179e"
            ],
            [
             0.4444444444444444,
             "#bd3786"
            ],
            [
             0.5555555555555556,
             "#d8576b"
            ],
            [
             0.6666666666666666,
             "#ed7953"
            ],
            [
             0.7777777777777778,
             "#fb9f3a"
            ],
            [
             0.8888888888888888,
             "#fdca26"
            ],
            [
             1,
             "#f0f921"
            ]
           ]
          },
          "colorway": [
           "#636efa",
           "#EF553B",
           "#00cc96",
           "#ab63fa",
           "#FFA15A",
           "#19d3f3",
           "#FF6692",
           "#B6E880",
           "#FF97FF",
           "#FECB52"
          ],
          "font": {
           "color": "#2a3f5f"
          },
          "geo": {
           "bgcolor": "white",
           "lakecolor": "white",
           "landcolor": "#E5ECF6",
           "showlakes": true,
           "showland": true,
           "subunitcolor": "white"
          },
          "hoverlabel": {
           "align": "left"
          },
          "hovermode": "closest",
          "mapbox": {
           "style": "light"
          },
          "paper_bgcolor": "white",
          "plot_bgcolor": "#E5ECF6",
          "polar": {
           "angularaxis": {
            "gridcolor": "white",
            "linecolor": "white",
            "ticks": ""
           },
           "bgcolor": "#E5ECF6",
           "radialaxis": {
            "gridcolor": "white",
            "linecolor": "white",
            "ticks": ""
           }
          },
          "scene": {
           "xaxis": {
            "backgroundcolor": "#E5ECF6",
            "gridcolor": "white",
            "gridwidth": 2,
            "linecolor": "white",
            "showbackground": true,
            "ticks": "",
            "zerolinecolor": "white"
           },
           "yaxis": {
            "backgroundcolor": "#E5ECF6",
            "gridcolor": "white",
            "gridwidth": 2,
            "linecolor": "white",
            "showbackground": true,
            "ticks": "",
            "zerolinecolor": "white"
           },
           "zaxis": {
            "backgroundcolor": "#E5ECF6",
            "gridcolor": "white",
            "gridwidth": 2,
            "linecolor": "white",
            "showbackground": true,
            "ticks": "",
            "zerolinecolor": "white"
           }
          },
          "shapedefaults": {
           "line": {
            "color": "#2a3f5f"
           }
          },
          "ternary": {
           "aaxis": {
            "gridcolor": "white",
            "linecolor": "white",
            "ticks": ""
           },
           "baxis": {
            "gridcolor": "white",
            "linecolor": "white",
            "ticks": ""
           },
           "bgcolor": "#E5ECF6",
           "caxis": {
            "gridcolor": "white",
            "linecolor": "white",
            "ticks": ""
           }
          },
          "title": {
           "x": 0.05
          },
          "xaxis": {
           "automargin": true,
           "gridcolor": "white",
           "linecolor": "white",
           "ticks": "",
           "title": {
            "standoff": 15
           },
           "zerolinecolor": "white",
           "zerolinewidth": 2
          },
          "yaxis": {
           "automargin": true,
           "gridcolor": "white",
           "linecolor": "white",
           "ticks": "",
           "title": {
            "standoff": 15
           },
           "zerolinecolor": "white",
           "zerolinewidth": 2
          }
         }
        },
        "title": {
         "text": "MGWR Bandwidths"
        },
        "xaxis": {
         "anchor": "y",
         "autorange": true,
         "domain": [
          0,
          0.45
         ],
         "range": [
          -0.5,
          88.5
         ],
         "type": "category"
        },
        "xaxis2": {
         "anchor": "y2",
         "autorange": true,
         "domain": [
          0.55,
          1
         ],
         "range": [
          -0.5,
          88.5
         ],
         "type": "category"
        },
        "xaxis3": {
         "anchor": "y3",
         "autorange": true,
         "domain": [
          0,
          0.45
         ],
         "range": [
          -0.5,
          87.5
         ],
         "type": "category"
        },
        "xaxis4": {
         "anchor": "y4",
         "autorange": true,
         "domain": [
          0.55,
          1
         ],
         "range": [
          -0.5,
          87.5
         ],
         "type": "category"
        },
        "xaxis5": {
         "anchor": "y5",
         "autorange": true,
         "domain": [
          0,
          0.45
         ],
         "range": [
          -0.5,
          87.5
         ],
         "type": "category"
        },
        "xaxis6": {
         "anchor": "y6",
         "domain": [
          0.55,
          1
         ]
        },
        "yaxis": {
         "anchor": "x",
         "autorange": true,
         "domain": [
          0.7777777777777778,
          1
         ],
         "range": [
          0,
          716.9368421052632
         ],
         "type": "linear"
        },
        "yaxis2": {
         "anchor": "x2",
         "autorange": true,
         "domain": [
          0.7777777777777778,
          1
         ],
         "range": [
          0,
          716.9368421052632
         ],
         "type": "linear"
        },
        "yaxis3": {
         "anchor": "x3",
         "autorange": true,
         "domain": [
          0.3888888888888889,
          0.6111111111111112
         ],
         "range": [
          0,
          716.9368421052632
         ],
         "type": "linear"
        },
        "yaxis4": {
         "anchor": "x4",
         "autorange": true,
         "domain": [
          0.3888888888888889,
          0.6111111111111112
         ],
         "range": [
          0,
          716.9368421052632
         ],
         "type": "linear"
        },
        "yaxis5": {
         "anchor": "x5",
         "autorange": true,
         "domain": [
          0,
          0.22222222222222224
         ],
         "range": [
          0,
          716.9368421052632
         ],
         "type": "linear"
        },
        "yaxis6": {
         "anchor": "x6",
         "domain": [
          0,
          0.22222222222222224
         ]
        }
       }
      },
      "image/png": "[encoded data removed]",
      "text/html": [
       "<div>                            <div id=\"7fa30591-8112-4674-af51-a88bea3259dd\" class=\"plotly-graph-div\" style=\"height:1000px; width:100%;\"></div>            <script type=\"text/javascript\">                require([\"plotly\"], function(Plotly) {                    window.PLOTLYENV=window.PLOTLYENV || {};                                    if (document.getElementById(\"7fa30591-8112-4674-af51-a88bea3259dd\")) {                    Plotly.newPlot(                        \"7fa30591-8112-4674-af51-a88bea3259dd\",                        [{\"x\":[\"dusaf\",\"dusafSum\",\"dsf2\",\"dsf3\",\"dsf4\",\"dsf5\",\"dsf11\",\"dsf12\",\"dsf13\",\"dsf14\",\"siarl\",\"siarlSum\",\"siarl2\",\"siarl9\",\"siarl12\",\"aq_zone\",\"clim_zone\",\"soil\",\"soilSum\",\"soil1\",\"soil2\",\"soil4\",\"soil5\",\"soil6\",\"soil7\",\"soil8\",\"soil9\",\"soil_text\",\"soilTextSum\",\"soil_text1\",\"soil_text2\",\"soil_text3\",\"soil_text4\",\"soil_text5\",\"soil_text6\",\"soil_text7\",\"soil_text8\",\"soil_text9\",\"soil_text10\",\"pop\",\"int_prim\",\"int_prim_sec\",\"int_sec\",\"highway\",\"prim_road\",\"sec_road\",\"farms\",\"farm_pigs\",\"farm_poultry\",\"farm_sheep\",\"ndvi\",\"temp_2m\",\"prec\",\"press\",\"n_wind\",\"e_wind\",\"soil_moist\",\"no2_s5p\",\"so2_s5p\",\"aod_055\",\"aod_047\",\"uvai\",\"co_s5p\",\"ch2o_s5p\",\"o3_s5p\",\"ch4_s5p\",\"nh3_cams\",\"no_cams\",\"co_cams\",\"dust_cams\",\"pm10_cams\",\"no2_cams\",\"nmvocs_cams\",\"so2_cams\",\"o3_cams\",\"co_int\",\"nh3_int\",\"no2_int\",\"nox_int\",\"o3_int\",\"pm10_int\",\"pm25_int\",\"so2_int\",\"air_hum_int\",\"prec_int\",\"rad_glob_int\",\"temp_int\",\"wind_dir_int\",\"wind_speed_int\"],\"y\":[423.02,164.95,681.05,188.22,193.71,620.17,657.82,45.2,164.95,8.04,80.76,8.85,582.52,423.02,263.53,521.6,423.02,263.53,423.02,679.8,680.29,162.55,681.05,681.09,8.54,15.83,6.86,657.82,620.17,672.21,657.82,657.82,582.52,657.82,66.37,620.17,521.6,657.82,582.52,263.53,521.6,582.52,179.33,643.44,620.17,164.95,521.6,62.98,620.17,263.53,582.52,657.82,666.71,657.82,657.82,657.82,657.82,620.17,657.82,657.82,657.82,79.46,657.82,657.82,666.71,657.82,643.44,582.52,620.17,643.44,643.44,423.02,582.52,620.17,225.87,657.82,620.17,620.17,620.17,643.44,657.82,657.82,666.71,666.71,643.44,643.44,657.82,620.17,582.52],\"type\":\"bar\",\"xaxis\":\"x\",\"yaxis\":\"y\"},{\"x\":[\"dusaf\",\"dusafSum\",\"dsf2\",\"dsf3\",\"dsf4\",\"dsf5\",\"dsf11\",\"dsf12\",\"dsf13\",\"dsf14\",\"siarl\",\"siarlSum\",\"siarl2\",\"siarl9\",\"siarl12\",\"aq_zone\",\"clim_zone\",\"soil\",\"soilSum\",\"soil1\",\"soil2\",\"soil4\",\"soil5\",\"soil6\",\"soil7\",\"soil8\",\"soil9\",\"soil_text\",\"soilTextSum\",\"soil_text1\",\"soil_text2\",\"soil_text3\",\"soil_text4\",\"soil_text5\",\"soil_text6\",\"soil_text7\",\"soil_text8\",\"soil_text9\",\"soil_text10\",\"pop\",\"int_prim\",\"int_prim_sec\",\"int_sec\",\"highway\",\"prim_road\",\"sec_road\",\"farms\",\"farm_pigs\",\"farm_poultry\",\"farm_sheep\",\"ndvi\",\"temp_2m\",\"prec\",\"press\",\"n_wind\",\"e_wind\",\"soil_moist\",\"no2_s5p\",\"so2_s5p\",\"aod_055\",\"aod_047\",\"uvai\",\"co_s5p\",\"ch2o_s5p\",\"o3_s5p\",\"ch4_s5p\",\"nh3_cams\",\"no_cams\",\"co_cams\",\"dust_cams\",\"pm10_cams\",\"no2_cams\",\"nmvocs_cams\",\"so2_cams\",\"o3_cams\",\"co_int\",\"nh3_int\",\"no2_int\",\"nox_int\",\"o3_int\",\"pm10_int\",\"pm25_int\",\"so2_int\",\"air_hum_int\",\"prec_int\",\"rad_glob_int\",\"temp_int\",\"wind_dir_int\",\"wind_speed_int\"],\"y\":[423.02,681.09,681.09,681.09,681.09,681.09,8.79,9.11,680.29,34.29,76.56,7.45,680.91,680.29,677.7,91.44,126.0,68.97,681.09,161.86,174.52,56.5,681.08,74.08,14.82,277.91,679.8,680.91,680.29,18.9,680.6,141.68,679.8,11.73,111.81,680.79,672.21,677.7,108.22,675.6,679.8,159.46,680.29,679.8,680.6,680.29,680.29,680.29,79.46,680.29,680.29,680.29,677.7,680.6,680.29,680.79,680.29,679.8,680.6,680.6,680.6,679.0,680.6,125.2,679.8,680.29,680.79,679.8,680.6,680.29,680.6,680.29,680.29,680.6,680.6,92.24,680.6,680.6,680.6,680.6,680.6,680.29,680.79,679.8,679.8,83.16,680.29,679.8,680.6],\"type\":\"bar\",\"xaxis\":\"x2\",\"yaxis\":\"y2\"},{\"x\":[\"dusaf\",\"dusafSum\",\"dsf2\",\"dsf3\",\"dsf4\",\"dsf5\",\"dsf11\",\"dsf12\",\"dsf13\",\"dsf14\",\"siarl\",\"siarlSum\",\"siarl2\",\"siarl9\",\"siarl12\",\"aq_zone\",\"clim_zone\",\"soil\",\"soilSum\",\"soil1\",\"soil2\",\"soil4\",\"soil5\",\"soil6\",\"soil7\",\"soil8\",\"soil9\",\"soil_text\",\"soilTextSum\",\"soil_text1\",\"soil_text2\",\"soil_text3\",\"soil_text4\",\"soil_text5\",\"soil_text6\",\"soil_text7\",\"soil_text8\",\"soil_text9\",\"soil_text10\",\"pop\",\"int_prim\",\"int_prim_sec\",\"int_sec\",\"highway\",\"prim_road\",\"sec_road\",\"farms\",\"farm_pigs\",\"farm_poultry\",\"farm_sheep\",\"ndvi\",\"temp_2m\",\"prec\",\"press\",\"n_wind\",\"e_wind\",\"soil_moist\",\"no2_s5p\",\"so2_s5p\",\"aod_055\",\"aod_047\",\"uvai\",\"co_s5p\",\"ch2o_s5p\",\"o3_s5p\",\"ch4_s5p\",\"nh3_cams\",\"no_cams\",\"co_cams\",\"dust_cams\",\"pm10_cams\",\"no2_cams\",\"nmvocs_cams\",\"so2_cams\",\"o3_cams\",\"co_int\",\"nh3_int\",\"no2_int\",\"nox_int\",\"o3_int\",\"pm10_int\",\"pm25_int\",\"so2_int\",\"air_hum_int\",\"prec_int\",\"rad_glob_int\",\"temp_int\",\"wind_dir_int\",\"wind_speed_int\"],\"y\":[13.04,681.05,56.38,78.96,680.6,680.29,681.02,13.12,675.6,666.71,657.82,5.97,20.33,521.6,521.6,620.17,582.52,57.49,80.45,672.21,679.0,681.02,258.83,681.09,101.93,677.7,9.91,19.83,521.6,49.89,521.6,582.52,620.17,582.52,48.6,104.03,643.44,521.6,71.87,620.17,582.52,521.6,423.02,521.6,620.17,521.6,57.49,118.41,521.6,620.17,23.04,141.68,582.52,582.52,620.17,521.6,582.52,582.52,582.52,582.52,582.52,582.52,582.52,582.52,521.6,521.6,620.17,582.52,104.03,582.52,620.17,582.52,620.17,521.6,620.17,263.53,620.17,620.17,582.52,620.17,620.17,582.52,620.17,582.52,66.37,582.52,620.17,521.6],\"type\":\"bar\",\"xaxis\":\"x3\",\"yaxis\":\"y3\"},{\"x\":[\"dusaf\",\"dusafSum\",\"dsf2\",\"dsf3\",\"dsf4\",\"dsf5\",\"dsf11\",\"dsf12\",\"dsf13\",\"dsf14\",\"siarl\",\"siarlSum\",\"siarl2\",\"siarl9\",\"siarl12\",\"aq_zone\",\"clim_zone\",\"soil\",\"soilSum\",\"soil1\",\"soil2\",\"soil4\",\"soil5\",\"soil6\",\"soil7\",\"soil8\",\"soil9\",\"soil_text\",\"soilTextSum\",\"soil_text1\",\"soil_text2\",\"soil_text3\",\"soil_text4\",\"soil_text5\",\"soil_text6\",\"soil_text7\",\"soil_text8\",\"soil_text9\",\"soil_text10\",\"pop\",\"int_prim\",\"int_prim_sec\",\"int_sec\",\"highway\",\"prim_road\",\"sec_road\",\"farms\",\"farm_pigs\",\"farm_poultry\",\"farm_sheep\",\"ndvi\",\"temp_2m\",\"prec\",\"press\",\"n_wind\",\"e_wind\",\"soil_moist\",\"no2_s5p\",\"so2_s5p\",\"aod_055\",\"aod_047\",\"uvai\",\"co_s5p\",\"ch2o_s5p\",\"o3_s5p\",\"ch4_s5p\",\"nh3_cams\",\"no_cams\",\"co_cams\",\"dust_cams\",\"pm10_cams\",\"no2_cams\",\"nmvocs_cams\",\"so2_cams\",\"o3_cams\",\"co_int\",\"nh3_int\",\"no2_int\",\"nox_int\",\"o3_int\",\"pm10_int\",\"pm25_int\",\"so2_int\",\"air_hum_int\",\"prec_int\",\"rad_glob_int\",\"temp_int\",\"wind_dir_int\",\"wind_speed_int\"],\"y\":[263.53,681.08,157.97,681.09,681.09,26.58,35.7,9.45,680.29,6.94,51.38,12.59,680.6,679.0,60.46,680.79,97.24,100.94,680.91,681.08,681.09,73.05,681.09,172.73,133.97,68.92,9.46,254.64,679.0,17.06,681.05,145.07,680.79,73.97,42.3,45.09,680.6,680.29,680.79,677.7,680.6,258.03,680.29,98.53,680.6,680.6,680.29,680.79,677.7,679.8,680.91,680.79,679.0,680.79,681.02,680.79,680.98,679.0,680.29,680.29,680.91,680.79,680.6,680.91,680.79,680.6,167.05,680.6,99.34,680.29,679.0,679.8,680.29,680.6,680.79,680.6,680.98,680.79,680.6,680.79,680.29,680.91,680.91,680.6,680.79,680.79,680.79,680.6],\"type\":\"bar\",\"xaxis\":\"x4\",\"yaxis\":\"y4\"},{\"x\":[\"dusaf\",\"dusafSum\",\"dsf2\",\"dsf3\",\"dsf4\",\"dsf5\",\"dsf11\",\"dsf12\",\"dsf13\",\"dsf14\",\"siarl\",\"siarlSum\",\"siarl2\",\"siarl9\",\"siarl12\",\"aq_zone\",\"clim_zone\",\"soil\",\"soilSum\",\"soil1\",\"soil2\",\"soil4\",\"soil5\",\"soil6\",\"soil7\",\"soil8\",\"soil9\",\"soil_text\",\"soilTextSum\",\"soil_text1\",\"soil_text2\",\"soil_text3\",\"soil_text4\",\"soil_text5\",\"soil_text6\",\"soil_text7\",\"soil_text8\",\"soil_text9\",\"soil_text10\",\"pop\",\"int_prim\",\"int_prim_sec\",\"int_sec\",\"highway\",\"prim_road\",\"sec_road\",\"farms\",\"farm_pigs\",\"farm_poultry\",\"farm_sheep\",\"ndvi\",\"temp_2m\",\"prec\",\"press\",\"n_wind\",\"e_wind\",\"soil_moist\",\"no2_s5p\",\"so2_s5p\",\"aod_055\",\"aod_047\",\"uvai\",\"co_s5p\",\"ch2o_s5p\",\"o3_s5p\",\"ch4_s5p\",\"nh3_cams\",\"no_cams\",\"co_cams\",\"dust_cams\",\"pm10_cams\",\"no2_cams\",\"nmvocs_cams\",\"so2_cams\",\"o3_cams\",\"co_int\",\"nh3_int\",\"no2_int\",\"nox_int\",\"o3_int\",\"pm10_int\",\"pm25_int\",\"so2_int\",\"air_hum_int\",\"prec_int\",\"rad_glob_int\",\"temp_int\",\"wind_dir_int\",\"wind_speed_int\"],\"y\":[263.53,680.98,681.05,679.8,677.7,679.0,677.7,521.6,75.26,521.6,16.44,521.6,141.68,521.6,11.13,582.52,582.52,521.6,679.0,100.63,112.92,680.29,82.17,681.09,13.78,26.43,5.45,675.6,657.82,15.21,620.17,666.71,666.71,643.44,582.52,643.44,582.52,672.21,643.44,620.17,657.82,98.53,657.82,643.44,666.71,666.71,657.82,657.82,657.82,672.21,672.21,675.6,620.17,675.6,675.6,620.17,657.82,666.71,672.21,672.21,672.21,675.6,672.21,677.7,672.21,666.71,666.71,675.6,666.71,675.6,672.21,672.21,672.21,666.71,620.17,672.21,657.82,643.44,666.71,675.6,675.6,675.6,679.0,141.68,657.82,666.71,657.82,643.44],\"type\":\"bar\",\"xaxis\":\"x5\",\"yaxis\":\"y5\"}],                        {\"template\":{\"data\":{\"bar\":[{\"error_x\":{\"color\":\"#2a3f5f\"},\"error_y\":{\"color\":\"#2a3f5f\"},\"marker\":{\"line\":{\"color\":\"#E5ECF6\",\"width\":0.5},\"pattern\":{\"fillmode\":\"overlay\",\"size\":10,\"solidity\":0.2}},\"type\":\"bar\"}],\"barpolar\":[{\"marker\":{\"line\":{\"color\":\"#E5ECF6\",\"width\":0.5},\"pattern\":{\"fillmode\":\"overlay\",\"size\":10,\"solidity\":0.2}},\"type\":\"barpolar\"}],\"carpet\":[{\"aaxis\":{\"endlinecolor\":\"#2a3f5f\",\"gridcolor\":\"white\",\"linecolor\":\"white\",\"minorgridcolor\":\"white\",\"startlinecolor\":\"#2a3f5f\"},\"baxis\":{\"endlinecolor\":\"#2a3f5f\",\"gridcolor\":\"white\",\"linecolor\":\"white\",\"minorgridcolor\":\"white\",\"startlinecolor\":\"#2a3f5f\"},\"type\":\"carpet\"}],\"choropleth\":[{\"colorbar\":{\"outlinewidth\":0,\"ticks\":\"\"},\"type\":\"choropleth\"}],\"contour\":[{\"colorbar\":{\"outlinewidth\":0,\"ticks\":\"\"},\"colorscale\":[[0.0,\"#0d0887\"],[0.1111111111111111,\"#46039f\"],[0.2222222222222222,\"#7201a8\"],[0.3333333333333333,\"#9c179e\"],[0.4444444444444444,\"#bd3786\"],[0.5555555555555556,\"#d8576b\"],[0.6666666666666666,\"#ed7953\"],[0.7777777777777778,\"#fb9f3a\"],[0.8888888888888888,\"#fdca26\"],[1.0,\"#f0f921\"]],\"type\":\"contour\"}],\"contourcarpet\":[{\"colorbar\":{\"outlinewidth\":0,\"ticks\":\"\"},\"type\":\"contourcarpet\"}],\"heatmap\":[{\"colorbar\":{\"outlinewidth\":0,\"ticks\":\"\"},\"colorscale\":[[0.0,\"#0d0887\"],[0.1111111111111111,\"#46039f\"],[0.2222222222222222,\"#7201a8\"],[0.3333333333333333,\"#9c179e\"],[0.4444444444444444,\"#bd3786\"],[0.5555555555555556,\"#d8576b\"],[0.6666666666666666,\"#ed7953\"],[0.7777777777777778,\"#fb9f3a\"],[0.8888888888888888,\"#fdca26\"],[1.0,\"#f0f921\"]],\"type\":\"heatmap\"}],\"heatmapgl\":[{\"colorbar\":{\"outlinewidth\":0,\"ticks\":\"\"},\"colorscale\":[[0.0,\"#0d0887\"],[0.1111111111111111,\"#46039f\"],[0.2222222222222222,\"#7201a8\"],[0.3333333333333333,\"#9c179e\"],[0.4444444444444444,\"#bd3786\"],[0.5555555555555556,\"#d8576b\"],[0.6666666666666666,\"#ed7953\"],[0.7777777777777778,\"#fb9f3a\"],[0.8888888888888888,\"#fdca26\"],[1.0,\"#f0f921\"]],\"type\":\"heatmapgl\"}],\"histogram\":[{\"marker\":{\"pattern\":{\"fillmode\":\"overlay\",\"size\":10,\"solidity\":0.2}},\"type\":\"histogram\"}],\"histogram2d\":[{\"colorbar\":{\"outlinewidth\":0,\"ticks\":\"\"},\"colorscale\":[[0.0,\"#0d0887\"],[0.1111111111111111,\"#46039f\"],[0.2222222222222222,\"#7201a8\"],[0.3333333333333333,\"#9c179e\"],[0.4444444444444444,\"#bd3786\"],[0.5555555555555556,\"#d8576b\"],[0.6666666666666666,\"#ed7953\"],[0.7777777777777778,\"#fb9f3a\"],[0.8888888888888888,\"#fdca26\"],[1.0,\"#f0f921\"]],\"type\":\"histogram2d\"}],\"histogram2dcontour\":[{\"colorbar\":{\"outlinewidth\":0,\"ticks\":\"\"},\"colorscale\":[[0.0,\"#0d0887\"],[0.1111111111111111,\"#46039f\"],[0.2222222222222222,\"#7201a8\"],[0.3333333333333333,\"#9c179e\"],[0.4444444444444444,\"#bd3786\"],[0.5555555555555556,\"#d8576b\"],[0.6666666666666666,\"#ed7953\"],[0.7777777777777778,\"#fb9f3a\"],[0.8888888888888888,\"#fdca26\"],[1.0,\"#f0f921\"]],\"type\":\"histogram2dcontour\"}],\"mesh3d\":[{\"colorbar\":{\"outlinewidth\":0,\"ticks\":\"\"},\"type\":\"mesh3d\"}],\"parcoords\":[{\"line\":{\"colorbar\":{\"outlinewidth\":0,\"ticks\":\"\"}},\"type\":\"parcoords\"}],\"pie\":[{\"automargin\":true,\"type\":\"pie\"}],\"scatter\":[{\"marker\":{\"colorbar\":{\"outlinewidth\":0,\"ticks\":\"\"}},\"type\":\"scatter\"}],\"scatter3d\":[{\"line\":{\"colorbar\":{\"outlinewidth\":0,\"ticks\":\"\"}},\"marker\":{\"colorbar\":{\"outlinewidth\":0,\"ticks\":\"\"}},\"type\":\"scatter3d\"}],\"scattercarpet\":[{\"marker\":{\"colorbar\":{\"outlinewidth\":0,\"ticks\":\"\"}},\"type\":\"scattercarpet\"}],\"scattergeo\":[{\"marker\":{\"colorbar\":{\"outlinewidth\":0,\"ticks\":\"\"}},\"type\":\"scattergeo\"}],\"scattergl\":[{\"marker\":{\"colorbar\":{\"outlinewidth\":0,\"ticks\":\"\"}},\"type\":\"scattergl\"}],\"scattermapbox\":[{\"marker\":{\"colorbar\":{\"outlinewidth\":0,\"ticks\":\"\"}},\"type\":\"scattermapbox\"}],\"scatterpolar\":[{\"marker\":{\"colorbar\":{\"outlinewidth\":0,\"ticks\":\"\"}},\"type\":\"scatterpolar\"}],\"scatterpolargl\":[{\"marker\":{\"colorbar\":{\"outlinewidth\":0,\"ticks\":\"\"}},\"type\":\"scatterpolargl\"}],\"scatterternary\":[{\"marker\":{\"colorbar\":{\"outlinewidth\":0,\"ticks\":\"\"}},\"type\":\"scatterternary\"}],\"surface\":[{\"colorbar\":{\"outlinewidth\":0,\"ticks\":\"\"},\"colorscale\":[[0.0,\"#0d0887\"],[0.1111111111111111,\"#46039f\"],[0.2222222222222222,\"#7201a8\"],[0.3333333333333333,\"#9c179e\"],[0.4444444444444444,\"#bd3786\"],[0.5555555555555556,\"#d8576b\"],[0.6666666666666666,\"#ed7953\"],[0.7777777777777778,\"#fb9f3a\"],[0.8888888888888888,\"#fdca26\"],[1.0,\"#f0f921\"]],\"type\":\"surface\"}],\"table\":[{\"cells\":{\"fill\":{\"color\":\"#EBF0F8\"},\"line\":{\"color\":\"white\"}},\"header\":{\"fill\":{\"color\":\"#C8D4E3\"},\"line\":{\"color\":\"white\"}},\"type\":\"table\"}]},\"layout\":{\"annotationdefaults\":{\"arrowcolor\":\"#2a3f5f\",\"arrowhead\":0,\"arrowwidth\":1},\"autotypenumbers\":\"strict\",\"coloraxis\":{\"colorbar\":{\"outlinewidth\":0,\"ticks\":\"\"}},\"colorscale\":{\"diverging\":[[0,\"#8e0152\"],[0.1,\"#c51b7d\"],[0.2,\"#de77ae\"],[0.3,\"#f1b6da\"],[0.4,\"#fde0ef\"],[0.5,\"#f7f7f7\"],[0.6,\"#e6f5d0\"],[0.7,\"#b8e186\"],[0.8,\"#7fbc41\"],[0.9,\"#4d9221\"],[1,\"#276419\"]],\"sequential\":[[0.0,\"#0d0887\"],[0.1111111111111111,\"#46039f\"],[0.2222222222222222,\"#7201a8\"],[0.3333333333333333,\"#9c179e\"],[0.4444444444444444,\"#bd3786\"],[0.5555555555555556,\"#d8576b\"],[0.6666666666666666,\"#ed7953\"],[0.7777777777777778,\"#fb9f3a\"],[0.8888888888888888,\"#fdca26\"],[1.0,\"#f0f921\"]],\"sequentialminus\":[[0.0,\"#0d0887\"],[0.1111111111111111,\"#46039f\"],[0.2222222222222222,\"#7201a8\"],[0.3333333333333333,\"#9c179e\"],[0.4444444444444444,\"#bd3786\"],[0.5555555555555556,\"#d8576b\"],[0.6666666666666666,\"#ed7953\"],[0.7777777777777778,\"#fb9f3a\"],[0.8888888888888888,\"#fdca26\"],[1.0,\"#f0f921\"]]},\"colorway\":[\"#636efa\",\"#EF553B\",\"#00cc96\",\"#ab63fa\",\"#FFA15A\",\"#19d3f3\",\"#FF6692\",\"#B6E880\",\"#FF97FF\",\"#FECB52\"],\"font\":{\"color\":\"#2a3f5f\"},\"geo\":{\"bgcolor\":\"white\",\"lakecolor\":\"white\",\"landcolor\":\"#E5ECF6\",\"showlakes\":true,\"showland\":true,\"subunitcolor\":\"white\"},\"hoverlabel\":{\"align\":\"left\"},\"hovermode\":\"closest\",\"mapbox\":{\"style\":\"light\"},\"paper_bgcolor\":\"white\",\"plot_bgcolor\":\"#E5ECF6\",\"polar\":{\"angularaxis\":{\"gridcolor\":\"white\",\"linecolor\":\"white\",\"ticks\":\"\"},\"bgcolor\":\"#E5ECF6\",\"radialaxis\":{\"gridcolor\":\"white\",\"linecolor\":\"white\",\"ticks\":\"\"}},\"scene\":{\"xaxis\":{\"backgroundcolor\":\"#E5ECF6\",\"gridcolor\":\"white\",\"gridwidth\":2,\"linecolor\":\"white\",\"showbackground\":true,\"ticks\":\"\",\"zerolinecolor\":\"white\"},\"yaxis\":{\"backgroundcolor\":\"#E5ECF6\",\"gridcolor\":\"white\",\"gridwidth\":2,\"linecolor\":\"white\",\"showbackground\":true,\"ticks\":\"\",\"zerolinecolor\":\"white\"},\"zaxis\":{\"backgroundcolor\":\"#E5ECF6\",\"gridcolor\":\"white\",\"gridwidth\":2,\"linecolor\":\"white\",\"showbackground\":true,\"ticks\":\"\",\"zerolinecolor\":\"white\"}},\"shapedefaults\":{\"line\":{\"color\":\"#2a3f5f\"}},\"ternary\":{\"aaxis\":{\"gridcolor\":\"white\",\"linecolor\":\"white\",\"ticks\":\"\"},\"baxis\":{\"gridcolor\":\"white\",\"linecolor\":\"white\",\"ticks\":\"\"},\"bgcolor\":\"#E5ECF6\",\"caxis\":{\"gridcolor\":\"white\",\"linecolor\":\"white\",\"ticks\":\"\"}},\"title\":{\"x\":0.05},\"xaxis\":{\"automargin\":true,\"gridcolor\":\"white\",\"linecolor\":\"white\",\"ticks\":\"\",\"title\":{\"standoff\":15},\"zerolinecolor\":\"white\",\"zerolinewidth\":2},\"yaxis\":{\"automargin\":true,\"gridcolor\":\"white\",\"linecolor\":\"white\",\"ticks\":\"\",\"title\":{\"standoff\":15},\"zerolinecolor\":\"white\",\"zerolinewidth\":2}}},\"xaxis\":{\"anchor\":\"y\",\"domain\":[0.0,0.45],\"type\":\"category\"},\"yaxis\":{\"anchor\":\"x\",\"domain\":[0.7777777777777778,1.0]},\"xaxis2\":{\"anchor\":\"y2\",\"domain\":[0.55,1.0],\"type\":\"category\"},\"yaxis2\":{\"anchor\":\"x2\",\"domain\":[0.7777777777777778,1.0]},\"xaxis3\":{\"anchor\":\"y3\",\"domain\":[0.0,0.45],\"type\":\"category\"},\"yaxis3\":{\"anchor\":\"x3\",\"domain\":[0.3888888888888889,0.6111111111111112]},\"xaxis4\":{\"anchor\":\"y4\",\"domain\":[0.55,1.0],\"type\":\"category\"},\"yaxis4\":{\"anchor\":\"x4\",\"domain\":[0.3888888888888889,0.6111111111111112]},\"xaxis5\":{\"anchor\":\"y5\",\"domain\":[0.0,0.45],\"type\":\"category\"},\"yaxis5\":{\"anchor\":\"x5\",\"domain\":[0.0,0.22222222222222224]},\"xaxis6\":{\"anchor\":\"y6\",\"domain\":[0.55,1.0]},\"yaxis6\":{\"anchor\":\"x6\",\"domain\":[0.0,0.22222222222222224]},\"annotations\":[{\"font\":{\"size\":16},\"showarrow\":false,\"text\":\"grid_cams_1017_1023_2021.gpkg\",\"x\":0.225,\"xanchor\":\"center\",\"xref\":\"paper\",\"y\":1.0,\"yanchor\":\"bottom\",\"yref\":\"paper\"},{\"font\":{\"size\":16},\"showarrow\":false,\"text\":\"grid_cams_0324_0331_2021.gpkg\",\"x\":0.775,\"xanchor\":\"center\",\"xref\":\"paper\",\"y\":1.0,\"yanchor\":\"bottom\",\"yref\":\"paper\"},{\"font\":{\"size\":16},\"showarrow\":false,\"text\":\"grid_cams_0717_0724_2021.gpkg\",\"x\":0.225,\"xanchor\":\"center\",\"xref\":\"paper\",\"y\":0.6111111111111112,\"yanchor\":\"bottom\",\"yref\":\"paper\"},{\"font\":{\"size\":16},\"showarrow\":false,\"text\":\"grid_cams_0903_0910_2021.gpkg\",\"x\":0.775,\"xanchor\":\"center\",\"xref\":\"paper\",\"y\":0.6111111111111112,\"yanchor\":\"bottom\",\"yref\":\"paper\"},{\"font\":{\"size\":16},\"showarrow\":false,\"text\":\"grid_cams_0418_0425_2021.gpkg\",\"x\":0.225,\"xanchor\":\"center\",\"xref\":\"paper\",\"y\":0.22222222222222224,\"yanchor\":\"bottom\",\"yref\":\"paper\"}],\"title\":{\"text\":\"MGWR Bandwidths\"},\"height\":1000,\"showlegend\":false,\"autosize\":true},                        {\"responsive\": true}                    ).then(function(){\n",
       "                            \n",
       "var gd = document.getElementById('7fa30591-8112-4674-af51-a88bea3259dd');\n",
       "var x = new MutationObserver(function (mutations, observer) {{\n",
       "        var display = window.getComputedStyle(gd).display;\n",
       "        if (!display || display === 'none') {{\n",
       "            console.log([gd, 'removed!']);\n",
       "            Plotly.purge(gd);\n",
       "            observer.disconnect();\n",
       "        }}\n",
       "}});\n",
       "\n",
       "// Listen for the removal of the full notebook cells\n",
       "var notebookContainer = gd.closest('#notebook-container');\n",
       "if (notebookContainer) {{\n",
       "    x.observe(notebookContainer, {childList: true});\n",
       "}}\n",
       "\n",
       "// Listen for the clearing of the current output cell\n",
       "var outputEl = gd.closest('.output');\n",
       "if (outputEl) {{\n",
       "    x.observe(outputEl, {childList: true});\n",
       "}}\n",
       "\n",
       "                        })                };                });            </script>        </div>"
      ]
     },
     "metadata": {},
     "output_type": "display_data"
    },
    {
     "data": {
      "application/vnd.plotly.v1+json": {
       "config": {
        "plotlyServerURL": "https://plot.ly"
       },
       "data": [
        {
         "type": "bar",
         "x": [
          "dusaf",
          "dusafSum",
          "dsf2",
          "dsf3",
          "dsf4",
          "dsf5",
          "dsf11",
          "dsf12",
          "dsf13",
          "dsf14",
          "siarl",
          "siarlSum",
          "siarl2",
          "siarl9",
          "siarl12",
          "aq_zone",
          "clim_zone",
          "soil",
          "soilSum",
          "soil1",
          "soil2",
          "soil4",
          "soil5",
          "soil6",
          "soil7",
          "soil8",
          "soil9",
          "soil_text",
          "soilTextSum",
          "soil_text1",
          "soil_text2",
          "soil_text3",
          "soil_text4",
          "soil_text5",
          "soil_text6",
          "soil_text7",
          "soil_text8",
          "soil_text9",
          "soil_text10",
          "pop",
          "int_prim",
          "int_prim_sec",
          "int_sec",
          "highway",
          "prim_road",
          "sec_road",
          "farms",
          "farm_pigs",
          "farm_poultry",
          "farm_sheep",
          "ndvi",
          "temp_2m",
          "prec",
          "press",
          "n_wind",
          "e_wind",
          "soil_moist",
          "no2_s5p",
          "so2_s5p",
          "aod_055",
          "aod_047",
          "uvai",
          "co_s5p",
          "ch2o_s5p",
          "o3_s5p",
          "ch4_s5p",
          "nh3_cams",
          "no_cams",
          "co_cams",
          "dust_cams",
          "pm10_cams",
          "no2_cams",
          "nmvocs_cams",
          "so2_cams",
          "o3_cams",
          "co_int",
          "nh3_int",
          "no2_int",
          "nox_int",
          "o3_int",
          "pm10_int",
          "pm25_int",
          "so2_int",
          "air_hum_int",
          "prec_int",
          "rad_glob_int",
          "temp_int",
          "wind_dir_int",
          "wind_speed_int"
         ],
         "xaxis": "x",
         "y": [
          0.2554270888664884,
          0.2756916084144751,
          0.20102035282339614,
          0.20173293362129044,
          0.22817998628341113,
          0.2359467717671334,
          0.2581681497836774,
          0.23896287649785872,
          0.25417384090549355,
          0.2547916517438778,
          0.25704987589286155,
          0.2816854610982199,
          0.2559950577062825,
          0.2489008004143452,
          0.2532578523926775,
          0.25454604576378015,
          0.2559997441482776,
          0.25878340842130915,
          0.09435662154598634,
          0.24737158725911904,
          0.2387381035917372,
          1,
          0,
          0.11320493027976948,
          0.7094683279889633,
          0.2806097125275455,
          0.3077183350410832,
          0.2507141433135972,
          0.25666089579683743,
          0.2576596253840243,
          0.26367852294363286,
          0.26165569447964887,
          0.26456281969954626,
          0.23477840137038453,
          0.2620520266114495,
          0.26176237424262344,
          0.25443961517724695,
          0.26265748086249713,
          0.25451508178860366,
          0.25068846531434696,
          0.26013705894859673,
          0.2538240414149838,
          0.25778654101134507,
          0.2616724451071907,
          0.2558858658634773,
          0.24601083112802516,
          0.25927193100680473,
          0.25362775723207637,
          0.25655761510301545,
          0.2539133415891182,
          0.2534163603078189,
          0.21677356324751876,
          0.25041642160493355,
          0.297422756642478,
          0.2558206700231559,
          0.25567923206210413,
          0.25534807647230745,
          0.2570547117261684,
          0.2622924134752439,
          0.2713890055214727,
          0.24853972428497234,
          0.2508886748034265,
          0.25574602084506726,
          0.25869897262572406,
          0.2587555710862909,
          0.25380457690998093,
          0.2502369725768567,
          0.24610486619476005,
          0.2859493845577996,
          0.25642035465059043,
          0.5308026645050599,
          0.26838382527722676,
          0.25991408077665606,
          0.25754796581173905,
          0.2643255187486192,
          0.25224617566627666,
          0.25401883320707425,
          0.2455466735782368,
          0.2572588753844049,
          0.2543731619211148,
          0.25729351478472756,
          0.25425207306188713,
          0.25693822024836227,
          0.2572564594543484,
          0.2589718931696866,
          0.2495229408470003,
          0.24848958201629667,
          0.252034177446241,
          0.2564689537316411
         ],
         "yaxis": "y"
        },
        {
         "type": "bar",
         "x": [
          "dusaf",
          "dusafSum",
          "dsf2",
          "dsf3",
          "dsf4",
          "dsf5",
          "dsf11",
          "dsf12",
          "dsf13",
          "dsf14",
          "siarl",
          "siarlSum",
          "siarl2",
          "siarl9",
          "siarl12",
          "aq_zone",
          "clim_zone",
          "soil",
          "soilSum",
          "soil1",
          "soil2",
          "soil4",
          "soil5",
          "soil6",
          "soil7",
          "soil8",
          "soil9",
          "soil_text",
          "soilTextSum",
          "soil_text1",
          "soil_text2",
          "soil_text3",
          "soil_text4",
          "soil_text5",
          "soil_text6",
          "soil_text7",
          "soil_text8",
          "soil_text9",
          "soil_text10",
          "pop",
          "int_prim",
          "int_prim_sec",
          "int_sec",
          "highway",
          "prim_road",
          "sec_road",
          "farms",
          "farm_pigs",
          "farm_poultry",
          "farm_sheep",
          "ndvi",
          "temp_2m",
          "prec",
          "press",
          "n_wind",
          "e_wind",
          "soil_moist",
          "no2_s5p",
          "so2_s5p",
          "aod_055",
          "aod_047",
          "uvai",
          "co_s5p",
          "ch2o_s5p",
          "o3_s5p",
          "ch4_s5p",
          "nh3_cams",
          "no_cams",
          "co_cams",
          "dust_cams",
          "pm10_cams",
          "no2_cams",
          "nmvocs_cams",
          "so2_cams",
          "o3_cams",
          "co_int",
          "nh3_int",
          "no2_int",
          "nox_int",
          "o3_int",
          "pm10_int",
          "pm25_int",
          "so2_int",
          "air_hum_int",
          "prec_int",
          "rad_glob_int",
          "temp_int",
          "wind_dir_int",
          "wind_speed_int"
         ],
         "xaxis": "x2",
         "y": [
          0.668243160298149,
          0.8976074206567476,
          0,
          0.4628883858047453,
          0.9524517338189511,
          0.8269588148471241,
          0.8254198768404648,
          0.7143219859838067,
          0.6673917621266003,
          0.6403630433076353,
          0.7228846355132087,
          0.6778598410743096,
          0.7116789420614286,
          0.6839910663319616,
          0.6876401611995745,
          0.6808598273972015,
          0.6719964727053593,
          0.6545758377228161,
          1,
          0.6798419757845334,
          0.6930419977325606,
          0.7168865827884779,
          0.7079653227569795,
          0.6640254099751585,
          0.6135049611246659,
          0.6471936463313834,
          0.6431908168176028,
          0.6604588774532871,
          0.6806044310941985,
          0.662303235364326,
          0.6643030306014075,
          0.6607040119902432,
          0.6479509789944543,
          0.6604649039311605,
          0.6739089777405007,
          0.6617036610322995,
          0.6712852286597495,
          0.6799246212874377,
          0.6699567516599846,
          0.6563801343559764,
          0.6648048687543243,
          0.6745851114573953,
          0.6679983360860116,
          0.6633241241509941,
          0.6737469825790899,
          0.6685203263753214,
          0.6816193594190941,
          0.6661054210092473,
          0.674713933545484,
          0.6604358835883426,
          0.6616434150700327,
          0.6587091959452228,
          0.6707300717577953,
          0.6785790361627844,
          0.6636804176102611,
          0.6692247187689474,
          0.6679510903597352,
          0.6679240452012785,
          0.6789851457698446,
          0.6667700873777539,
          0.6719682179247412,
          0.6681595704578341,
          0.6669354075284728,
          0.6796583200828089,
          0.6668150338477564,
          0.6604022326013963,
          0.6658253302680781,
          0.6730074251337425,
          0.6671602130142575,
          0.6741987611463868,
          0.7287402918412129,
          0.6683296676633635,
          0.6694553481483919,
          0.6627201914305123,
          0.6682135835285412,
          0.6632803035172334,
          0.6685646491177408,
          0.6631980979428364,
          0.6705415734113843,
          0.6733748787786789,
          0.676809130138839,
          0.664646208312434,
          0.673969639718022,
          0.6663425916863704,
          0.6638909595276544,
          0.6671997012871053,
          0.6671868930878095,
          0.6668088813150966,
          0.6715509054822288
         ],
         "yaxis": "y2"
        },
        {
         "type": "bar",
         "x": [
          "dusaf",
          "dusafSum",
          "dsf2",
          "dsf3",
          "dsf4",
          "dsf5",
          "dsf11",
          "dsf12",
          "dsf13",
          "dsf14",
          "siarl",
          "siarlSum",
          "siarl2",
          "siarl9",
          "siarl12",
          "aq_zone",
          "clim_zone",
          "soil",
          "soilSum",
          "soil1",
          "soil2",
          "soil4",
          "soil5",
          "soil6",
          "soil7",
          "soil8",
          "soil9",
          "soil_text",
          "soilTextSum",
          "soil_text1",
          "soil_text2",
          "soil_text3",
          "soil_text4",
          "soil_text5",
          "soil_text6",
          "soil_text7",
          "soil_text8",
          "soil_text9",
          "soil_text10",
          "pop",
          "int_prim",
          "int_prim_sec",
          "int_sec",
          "highway",
          "prim_road",
          "sec_road",
          "farms",
          "farm_pigs",
          "farm_poultry",
          "farm_sheep",
          "ndvi",
          "temp_2m",
          "prec",
          "press",
          "n_wind",
          "e_wind",
          "soil_moist",
          "no2_s5p",
          "so2_s5p",
          "aod_055",
          "aod_047",
          "uvai",
          "co_s5p",
          "ch2o_s5p",
          "o3_s5p",
          "ch4_s5p",
          "nh3_cams",
          "no_cams",
          "co_cams",
          "dust_cams",
          "pm10_cams",
          "no2_cams",
          "nmvocs_cams",
          "so2_cams",
          "o3_cams",
          "co_int",
          "nh3_int",
          "no2_int",
          "nox_int",
          "o3_int",
          "pm10_int",
          "pm25_int",
          "so2_int",
          "air_hum_int",
          "prec_int",
          "rad_glob_int",
          "temp_int",
          "wind_dir_int",
          "wind_speed_int"
         ],
         "xaxis": "x3",
         "y": [
          0.5738914318164637,
          1,
          0.20586446230063865,
          0,
          0.5029066931162606,
          0.4761355194094098,
          0.5981616032724906,
          0.33411369118710443,
          0.5541613677472781,
          0.53145063327831,
          0.5422980604253033,
          0.5567854661542233,
          0.5648081902659994,
          0.5668183996288562,
          0.5802669707192465,
          0.5672407658042639,
          0.5561412668506327,
          0.560218110311985,
          0.5339039984377479,
          0.5858598763940401,
          0.5559650487555177,
          0.6950883685065015,
          0.5972719224477839,
          0.59030983686645,
          0.7865896445501712,
          0.54088105990504,
          0.6384970521551594,
          0.5548935218482481,
          0.5691877307213136,
          0.570947061865018,
          0.5766031617743452,
          0.6006569972523544,
          0.5927451690166864,
          0.5777980561047255,
          0.5789111552411034,
          0.5831932176171111,
          0.5784312844202804,
          0.5910059350344833,
          0.5712437745481869,
          0.5602934273953611,
          0.5742216087525964,
          0.5617187961425243,
          0.5729695800748998,
          0.5716569797913351,
          0.5694085975937612,
          0.558819661536185,
          0.5660844537835825,
          0.569547953103881,
          0.5620027727856635,
          0.5665352248936738,
          0.5622107665053019,
          0.5661731353398616,
          0.5804160324818695,
          0.5829854932434063,
          0.5644937333441283,
          0.5908633313288753,
          0.5763508291752413,
          0.5715353935620361,
          0.5571076568372734,
          0.5855893370525125,
          0.5671597452120801,
          0.567354777517582,
          0.5684278632092683,
          0.5490736831278236,
          0.5804124496610877,
          0.6098217969432694,
          0.5685757983310329,
          0.5795757819841181,
          0.5568072615322386,
          0.8382789287173168,
          0.5915733356332897,
          0.5838848111101342,
          0.5808343157954219,
          0.57796131374661,
          0.5780376869259132,
          0.5692057158850727,
          0.564900499983839,
          0.5748655449273563,
          0.5581081694609572,
          0.5891908009579965,
          0.5652880027658008,
          0.5846453793050487,
          0.5644254823457943,
          0.5595961990548498,
          0.567243802177316,
          0.5814900721663404,
          0.5704963600098781,
          0.5777504725379344
         ],
         "yaxis": "y3"
        },
        {
         "type": "bar",
         "x": [
          "dusaf",
          "dusafSum",
          "dsf2",
          "dsf3",
          "dsf4",
          "dsf5",
          "dsf11",
          "dsf12",
          "dsf13",
          "dsf14",
          "siarl",
          "siarlSum",
          "siarl2",
          "siarl9",
          "siarl12",
          "aq_zone",
          "clim_zone",
          "soil",
          "soilSum",
          "soil1",
          "soil2",
          "soil4",
          "soil5",
          "soil6",
          "soil7",
          "soil8",
          "soil9",
          "soil_text",
          "soilTextSum",
          "soil_text1",
          "soil_text2",
          "soil_text3",
          "soil_text4",
          "soil_text5",
          "soil_text6",
          "soil_text7",
          "soil_text8",
          "soil_text9",
          "soil_text10",
          "pop",
          "int_prim",
          "int_prim_sec",
          "int_sec",
          "highway",
          "prim_road",
          "sec_road",
          "farms",
          "farm_pigs",
          "farm_poultry",
          "farm_sheep",
          "ndvi",
          "temp_2m",
          "prec",
          "press",
          "n_wind",
          "e_wind",
          "soil_moist",
          "no2_s5p",
          "so2_s5p",
          "aod_055",
          "aod_047",
          "uvai",
          "co_s5p",
          "ch2o_s5p",
          "o3_s5p",
          "ch4_s5p",
          "nh3_cams",
          "no_cams",
          "co_cams",
          "dust_cams",
          "pm10_cams",
          "no2_cams",
          "nmvocs_cams",
          "so2_cams",
          "o3_cams",
          "co_int",
          "nh3_int",
          "no2_int",
          "nox_int",
          "o3_int",
          "pm10_int",
          "pm25_int",
          "so2_int",
          "air_hum_int",
          "prec_int",
          "rad_glob_int",
          "temp_int",
          "wind_dir_int",
          "wind_speed_int"
         ],
         "xaxis": "x4",
         "y": [
          0.8700962027232171,
          0.9201252035489522,
          0.07809828242922018,
          0,
          1,
          0.8292339882762635,
          0.8722887518866882,
          0.8707762249612556,
          0.8931695090816614,
          0.8122492467121293,
          0.8207147470810379,
          0.9730388177950839,
          0.8581618214606421,
          0.8691279706428136,
          0.8889212484185085,
          0.8854666666296833,
          0.8715272505172611,
          0.8573375643073242,
          0.8614735397080207,
          0.7203971938604335,
          0.7935361689271652,
          0.8913154945774777,
          0.9511449333749813,
          0.863761615759786,
          0.7378963135566442,
          0.7531907413860048,
          0.8457394906373171,
          0.8953288435364123,
          0.8674972738569746,
          0.874863068900533,
          0.9225007758075721,
          0.8937387662634048,
          0.8862090075563105,
          0.8848383681951735,
          0.8824850171836865,
          0.8765599008057557,
          0.893036512965762,
          0.8830080342803822,
          0.8614396878511511,
          0.8590979729237053,
          0.8713321009789705,
          0.8746703996049587,
          0.8695714263823126,
          0.8650301487095188,
          0.8762494506697073,
          0.8687489656954154,
          0.8796616173281525,
          0.8716546186358103,
          0.8665720561154204,
          0.8679681706554265,
          0.888086150272908,
          0.8806492494680448,
          0.866564584743402,
          0.8503476733598148,
          0.8623254572382977,
          0.8620436252121589,
          0.8802397914748584,
          0.8698863552003095,
          0.8614448296173092,
          0.8683550590139202,
          0.8753318927691862,
          0.8712568997066257,
          0.8686566410456844,
          0.8651432967542544,
          0.8771412947028545,
          0.8750587882673466,
          0.8762693942327774,
          0.8724868232236975,
          0.8732806080979341,
          0.9069937865143435,
          0.8703134812047131,
          0.8763024663382304,
          0.8688043953959508,
          0.8765267140548716,
          0.8640599291514285,
          0.8696689071536482,
          0.8783654471800795,
          0.8667881363537935,
          0.8715221883591391,
          0.863484634531661,
          0.8733936427188227,
          0.875165923162411,
          0.8742995904478449,
          0.8623118405112125,
          0.8629907102115091,
          0.8687977047904684,
          0.8695977429787665,
          0.8730060374086597
         ],
         "yaxis": "y4"
        },
        {
         "type": "bar",
         "x": [
          "dusaf",
          "dusafSum",
          "dsf2",
          "dsf3",
          "dsf4",
          "dsf5",
          "dsf11",
          "dsf12",
          "dsf13",
          "dsf14",
          "siarl",
          "siarlSum",
          "siarl2",
          "siarl9",
          "siarl12",
          "aq_zone",
          "clim_zone",
          "soil",
          "soilSum",
          "soil1",
          "soil2",
          "soil4",
          "soil5",
          "soil6",
          "soil7",
          "soil8",
          "soil9",
          "soil_text",
          "soilTextSum",
          "soil_text1",
          "soil_text2",
          "soil_text3",
          "soil_text4",
          "soil_text5",
          "soil_text6",
          "soil_text7",
          "soil_text8",
          "soil_text9",
          "soil_text10",
          "pop",
          "int_prim",
          "int_prim_sec",
          "int_sec",
          "highway",
          "prim_road",
          "sec_road",
          "farms",
          "farm_pigs",
          "farm_poultry",
          "farm_sheep",
          "ndvi",
          "temp_2m",
          "prec",
          "press",
          "n_wind",
          "e_wind",
          "soil_moist",
          "no2_s5p",
          "so2_s5p",
          "aod_055",
          "aod_047",
          "uvai",
          "co_s5p",
          "ch2o_s5p",
          "o3_s5p",
          "ch4_s5p",
          "nh3_cams",
          "no_cams",
          "co_cams",
          "dust_cams",
          "pm10_cams",
          "no2_cams",
          "nmvocs_cams",
          "so2_cams",
          "o3_cams",
          "co_int",
          "nh3_int",
          "no2_int",
          "nox_int",
          "o3_int",
          "pm10_int",
          "pm25_int",
          "so2_int",
          "air_hum_int",
          "prec_int",
          "rad_glob_int",
          "temp_int",
          "wind_dir_int",
          "wind_speed_int"
         ],
         "xaxis": "x5",
         "y": [
          0.2926632198738732,
          0.2530763951118785,
          0.07568932395894437,
          0,
          0.3607482150045309,
          0.35412229538263756,
          0.10031017638633141,
          0.3564252356220286,
          0.2830278169528667,
          0.2955233747490103,
          0.2565369128382097,
          0.606411437564195,
          0.278245546328747,
          0.28411913040153897,
          0.2854241465170433,
          0.29647588974549793,
          0.2865243453936267,
          0.2880625944582809,
          0.4248037313213428,
          0.3236159523573773,
          0.29388254450533136,
          0.1261736807126457,
          0.23229135079059499,
          0.2849596757943235,
          0.08184513433842429,
          0.2885799229905266,
          0.0978430417908972,
          0.2713258913005679,
          0.2811453653837548,
          0.2920211186922607,
          0.28421570848011013,
          0.2857840878423222,
          0.27152876633125045,
          0.28185205991096024,
          0.28680360779466463,
          0.2892142917488511,
          0.28528988760884627,
          0.28102091723283634,
          0.2944286368136846,
          0.2842712100533268,
          0.2893514717904307,
          0.26081213989346774,
          0.30843366356338664,
          0.29972572983873935,
          0.28584570689568317,
          0.29182176582182934,
          0.3070822409140188,
          0.2971899529370832,
          0.28351762159774385,
          0.2576474748441988,
          0.2572794746842624,
          0.19061415361838913,
          0.3142343802123906,
          0.4151806936679617,
          0.2934934534873921,
          0.2911956187726369,
          0.28401285190201764,
          0.30364820741697035,
          0.29002654980317444,
          0.2860263338462283,
          0.32677601329303657,
          0.31242338253872015,
          0.3062513825669371,
          0.2814397275473389,
          0.29340948427679264,
          0.2683518804562641,
          0.27855940642665006,
          0.3604719416358949,
          0.2880568808415756,
          1,
          0.27992554995241015,
          0.33520777222873527,
          0.300948415513601,
          0.33008040225184565,
          0.3002522703417282,
          0.3119162875722386,
          0.28454158401012286,
          0.29982497788826395,
          0.2906697987551311,
          0.3062789772792232,
          0.31062037305324597,
          0.2997099412061309,
          0.2894300544467336,
          0.31845050888929827,
          0.29739934877014673,
          0.2572454448637165,
          0.2546006722598626,
          0.2987699739079979
         ],
         "yaxis": "y5"
        }
       ],
       "layout": {
        "annotations": [
         {
          "font": {
           "size": 16
          },
          "showarrow": false,
          "text": "grid_cams_1017_1023_2021.gpkg",
          "x": 0.225,
          "xanchor": "center",
          "xref": "paper",
          "y": 1,
          "yanchor": "bottom",
          "yref": "paper"
         },
         {
          "font": {
           "size": 16
          },
          "showarrow": false,
          "text": "grid_cams_0324_0331_2021.gpkg",
          "x": 0.775,
          "xanchor": "center",
          "xref": "paper",
          "y": 1,
          "yanchor": "bottom",
          "yref": "paper"
         },
         {
          "font": {
           "size": 16
          },
          "showarrow": false,
          "text": "grid_cams_0717_0724_2021.gpkg",
          "x": 0.225,
          "xanchor": "center",
          "xref": "paper",
          "y": 0.6111111111111112,
          "yanchor": "bottom",
          "yref": "paper"
         },
         {
          "font": {
           "size": 16
          },
          "showarrow": false,
          "text": "grid_cams_0903_0910_2021.gpkg",
          "x": 0.775,
          "xanchor": "center",
          "xref": "paper",
          "y": 0.6111111111111112,
          "yanchor": "bottom",
          "yref": "paper"
         },
         {
          "font": {
           "size": 16
          },
          "showarrow": false,
          "text": "grid_cams_0418_0425_2021.gpkg",
          "x": 0.225,
          "xanchor": "center",
          "xref": "paper",
          "y": 0.22222222222222224,
          "yanchor": "bottom",
          "yref": "paper"
         }
        ],
        "autosize": true,
        "showlegend": false,
        "template": {
         "data": {
          "bar": [
           {
            "error_x": {
             "color": "#2a3f5f"
            },
            "error_y": {
             "color": "#2a3f5f"
            },
            "marker": {
             "line": {
              "color": "#E5ECF6",
              "width": 0.5
             },
             "pattern": {
              "fillmode": "overlay",
              "size": 10,
              "solidity": 0.2
             }
            },
            "type": "bar"
           }
          ],
          "barpolar": [
           {
            "marker": {
             "line": {
              "color": "#E5ECF6",
              "width": 0.5
             },
             "pattern": {
              "fillmode": "overlay",
              "size": 10,
              "solidity": 0.2
             }
            },
            "type": "barpolar"
           }
          ],
          "carpet": [
           {
            "aaxis": {
             "endlinecolor": "#2a3f5f",
             "gridcolor": "white",
             "linecolor": "white",
             "minorgridcolor": "white",
             "startlinecolor": "#2a3f5f"
            },
            "baxis": {
             "endlinecolor": "#2a3f5f",
             "gridcolor": "white",
             "linecolor": "white",
             "minorgridcolor": "white",
             "startlinecolor": "#2a3f5f"
            },
            "type": "carpet"
           }
          ],
          "choropleth": [
           {
            "colorbar": {
             "outlinewidth": 0,
             "ticks": ""
            },
            "type": "choropleth"
           }
          ],
          "contour": [
           {
            "colorbar": {
             "outlinewidth": 0,
             "ticks": ""
            },
            "colorscale": [
             [
              0,
              "#0d0887"
             ],
             [
              0.1111111111111111,
              "#46039f"
             ],
             [
              0.2222222222222222,
              "#7201a8"
             ],
             [
              0.3333333333333333,
              "#9c179e"
             ],
             [
              0.4444444444444444,
              "#bd3786"
             ],
             [
              0.5555555555555556,
              "#d8576b"
             ],
             [
              0.6666666666666666,
              "#ed7953"
             ],
             [
              0.7777777777777778,
              "#fb9f3a"
             ],
             [
              0.8888888888888888,
              "#fdca26"
             ],
             [
              1,
              "#f0f921"
             ]
            ],
            "type": "contour"
           }
          ],
          "contourcarpet": [
           {
            "colorbar": {
             "outlinewidth": 0,
             "ticks": ""
            },
            "type": "contourcarpet"
           }
          ],
          "heatmap": [
           {
            "colorbar": {
             "outlinewidth": 0,
             "ticks": ""
            },
            "colorscale": [
             [
              0,
              "#0d0887"
             ],
             [
              0.1111111111111111,
              "#46039f"
             ],
             [
              0.2222222222222222,
              "#7201a8"
             ],
             [
              0.3333333333333333,
              "#9c179e"
             ],
             [
              0.4444444444444444,
              "#bd3786"
             ],
             [
              0.5555555555555556,
              "#d8576b"
             ],
             [
              0.6666666666666666,
              "#ed7953"
             ],
             [
              0.7777777777777778,
              "#fb9f3a"
             ],
             [
              0.8888888888888888,
              "#fdca26"
             ],
             [
              1,
              "#f0f921"
             ]
            ],
            "type": "heatmap"
           }
          ],
          "heatmapgl": [
           {
            "colorbar": {
             "outlinewidth": 0,
             "ticks": ""
            },
            "colorscale": [
             [
              0,
              "#0d0887"
             ],
             [
              0.1111111111111111,
              "#46039f"
             ],
             [
              0.2222222222222222,
              "#7201a8"
             ],
             [
              0.3333333333333333,
              "#9c179e"
             ],
             [
              0.4444444444444444,
              "#bd3786"
             ],
             [
              0.5555555555555556,
              "#d8576b"
             ],
             [
              0.6666666666666666,
              "#ed7953"
             ],
             [
              0.7777777777777778,
              "#fb9f3a"
             ],
             [
              0.8888888888888888,
              "#fdca26"
             ],
             [
              1,
              "#f0f921"
             ]
            ],
            "type": "heatmapgl"
           }
          ],
          "histogram": [
           {
            "marker": {
             "pattern": {
              "fillmode": "overlay",
              "size": 10,
              "solidity": 0.2
             }
            },
            "type": "histogram"
           }
          ],
          "histogram2d": [
           {
            "colorbar": {
             "outlinewidth": 0,
             "ticks": ""
            },
            "colorscale": [
             [
              0,
              "#0d0887"
             ],
             [
              0.1111111111111111,
              "#46039f"
             ],
             [
              0.2222222222222222,
              "#7201a8"
             ],
             [
              0.3333333333333333,
              "#9c179e"
             ],
             [
              0.4444444444444444,
              "#bd3786"
             ],
             [
              0.5555555555555556,
              "#d8576b"
             ],
             [
              0.6666666666666666,
              "#ed7953"
             ],
             [
              0.7777777777777778,
              "#fb9f3a"
             ],
             [
              0.8888888888888888,
              "#fdca26"
             ],
             [
              1,
              "#f0f921"
             ]
            ],
            "type": "histogram2d"
           }
          ],
          "histogram2dcontour": [
           {
            "colorbar": {
             "outlinewidth": 0,
             "ticks": ""
            },
            "colorscale": [
             [
              0,
              "#0d0887"
             ],
             [
              0.1111111111111111,
              "#46039f"
             ],
             [
              0.2222222222222222,
              "#7201a8"
             ],
             [
              0.3333333333333333,
              "#9c179e"
             ],
             [
              0.4444444444444444,
              "#bd3786"
             ],
             [
              0.5555555555555556,
              "#d8576b"
             ],
             [
              0.6666666666666666,
              "#ed7953"
             ],
             [
              0.7777777777777778,
              "#fb9f3a"
             ],
             [
              0.8888888888888888,
              "#fdca26"
             ],
             [
              1,
              "#f0f921"
             ]
            ],
            "type": "histogram2dcontour"
           }
          ],
          "mesh3d": [
           {
            "colorbar": {
             "outlinewidth": 0,
             "ticks": ""
            },
            "type": "mesh3d"
           }
          ],
          "parcoords": [
           {
            "line": {
             "colorbar": {
              "outlinewidth": 0,
              "ticks": ""
             }
            },
            "type": "parcoords"
           }
          ],
          "pie": [
           {
            "automargin": true,
            "type": "pie"
           }
          ],
          "scatter": [
           {
            "marker": {
             "colorbar": {
              "outlinewidth": 0,
              "ticks": ""
             }
            },
            "type": "scatter"
           }
          ],
          "scatter3d": [
           {
            "line": {
             "colorbar": {
              "outlinewidth": 0,
              "ticks": ""
             }
            },
            "marker": {
             "colorbar": {
              "outlinewidth": 0,
              "ticks": ""
             }
            },
            "type": "scatter3d"
           }
          ],
          "scattercarpet": [
           {
            "marker": {
             "colorbar": {
              "outlinewidth": 0,
              "ticks": ""
             }
            },
            "type": "scattercarpet"
           }
          ],
          "scattergeo": [
           {
            "marker": {
             "colorbar": {
              "outlinewidth": 0,
              "ticks": ""
             }
            },
            "type": "scattergeo"
           }
          ],
          "scattergl": [
           {
            "marker": {
             "colorbar": {
              "outlinewidth": 0,
              "ticks": ""
             }
            },
            "type": "scattergl"
           }
          ],
          "scattermapbox": [
           {
            "marker": {
             "colorbar": {
              "outlinewidth": 0,
              "ticks": ""
             }
            },
            "type": "scattermapbox"
           }
          ],
          "scatterpolar": [
           {
            "marker": {
             "colorbar": {
              "outlinewidth": 0,
              "ticks": ""
             }
            },
            "type": "scatterpolar"
           }
          ],
          "scatterpolargl": [
           {
            "marker": {
             "colorbar": {
              "outlinewidth": 0,
              "ticks": ""
             }
            },
            "type": "scatterpolargl"
           }
          ],
          "scatterternary": [
           {
            "marker": {
             "colorbar": {
              "outlinewidth": 0,
              "ticks": ""
             }
            },
            "type": "scatterternary"
           }
          ],
          "surface": [
           {
            "colorbar": {
             "outlinewidth": 0,
             "ticks": ""
            },
            "colorscale": [
             [
              0,
              "#0d0887"
             ],
             [
              0.1111111111111111,
              "#46039f"
             ],
             [
              0.2222222222222222,
              "#7201a8"
             ],
             [
              0.3333333333333333,
              "#9c179e"
             ],
             [
              0.4444444444444444,
              "#bd3786"
             ],
             [
              0.5555555555555556,
              "#d8576b"
             ],
             [
              0.6666666666666666,
              "#ed7953"
             ],
             [
              0.7777777777777778,
              "#fb9f3a"
             ],
             [
              0.8888888888888888,
              "#fdca26"
             ],
             [
              1,
              "#f0f921"
             ]
            ],
            "type": "surface"
           }
          ],
          "table": [
           {
            "cells": {
             "fill": {
              "color": "#EBF0F8"
             },
             "line": {
              "color": "white"
             }
            },
            "header": {
             "fill": {
              "color": "#C8D4E3"
             },
             "line": {
              "color": "white"
             }
            },
            "type": "table"
           }
          ]
         },
         "layout": {
          "annotationdefaults": {
           "arrowcolor": "#2a3f5f",
           "arrowhead": 0,
           "arrowwidth": 1
          },
          "autotypenumbers": "strict",
          "coloraxis": {
           "colorbar": {
            "outlinewidth": 0,
            "ticks": ""
           }
          },
          "colorscale": {
           "diverging": [
            [
             0,
             "#8e0152"
            ],
            [
             0.1,
             "#c51b7d"
            ],
            [
             0.2,
             "#de77ae"
            ],
            [
             0.3,
             "#f1b6da"
            ],
            [
             0.4,
             "#fde0ef"
            ],
            [
             0.5,
             "#f7f7f7"
            ],
            [
             0.6,
             "#e6f5d0"
            ],
            [
             0.7,
             "#b8e186"
            ],
            [
             0.8,
             "#7fbc41"
            ],
            [
             0.9,
             "#4d9221"
            ],
            [
             1,
             "#276419"
            ]
           ],
           "sequential": [
            [
             0,
             "#0d0887"
            ],
            [
             0.1111111111111111,
             "#46039f"
            ],
            [
             0.2222222222222222,
             "#7201a8"
            ],
            [
             0.3333333333333333,
             "#9c179e"
            ],
            [
             0.4444444444444444,
             "#bd3786"
            ],
            [
             0.5555555555555556,
             "#d8576b"
            ],
            [
             0.6666666666666666,
             "#ed7953"
            ],
            [
             0.7777777777777778,
             "#fb9f3a"
            ],
            [
             0.8888888888888888,
             "#fdca26"
            ],
            [
             1,
             "#f0f921"
            ]
           ],
           "sequentialminus": [
            [
             0,
             "#0d0887"
            ],
            [
             0.1111111111111111,
             "#46039f"
            ],
            [
             0.2222222222222222,
             "#7201a8"
            ],
            [
             0.3333333333333333,
             "#9c179e"
            ],
            [
             0.4444444444444444,
             "#bd3786"
            ],
            [
             0.5555555555555556,
             "#d8576b"
            ],
            [
             0.6666666666666666,
             "#ed7953"
            ],
            [
             0.7777777777777778,
             "#fb9f3a"
            ],
            [
             0.8888888888888888,
             "#fdca26"
            ],
            [
             1,
             "#f0f921"
            ]
           ]
          },
          "colorway": [
           "#636efa",
           "#EF553B",
           "#00cc96",
           "#ab63fa",
           "#FFA15A",
           "#19d3f3",
           "#FF6692",
           "#B6E880",
           "#FF97FF",
           "#FECB52"
          ],
          "font": {
           "color": "#2a3f5f"
          },
          "geo": {
           "bgcolor": "white",
           "lakecolor": "white",
           "landcolor": "#E5ECF6",
           "showlakes": true,
           "showland": true,
           "subunitcolor": "white"
          },
          "hoverlabel": {
           "align": "left"
          },
          "hovermode": "closest",
          "mapbox": {
           "style": "light"
          },
          "paper_bgcolor": "white",
          "plot_bgcolor": "#E5ECF6",
          "polar": {
           "angularaxis": {
            "gridcolor": "white",
            "linecolor": "white",
            "ticks": ""
           },
           "bgcolor": "#E5ECF6",
           "radialaxis": {
            "gridcolor": "white",
            "linecolor": "white",
            "ticks": ""
           }
          },
          "scene": {
           "xaxis": {
            "backgroundcolor": "#E5ECF6",
            "gridcolor": "white",
            "gridwidth": 2,
            "linecolor": "white",
            "showbackground": true,
            "ticks": "",
            "zerolinecolor": "white"
           },
           "yaxis": {
            "backgroundcolor": "#E5ECF6",
            "gridcolor": "white",
            "gridwidth": 2,
            "linecolor": "white",
            "showbackground": true,
            "ticks": "",
            "zerolinecolor": "white"
           },
           "zaxis": {
            "backgroundcolor": "#E5ECF6",
            "gridcolor": "white",
            "gridwidth": 2,
            "linecolor": "white",
            "showbackground": true,
            "ticks": "",
            "zerolinecolor": "white"
           }
          },
          "shapedefaults": {
           "line": {
            "color": "#2a3f5f"
           }
          },
          "ternary": {
           "aaxis": {
            "gridcolor": "white",
            "linecolor": "white",
            "ticks": ""
           },
           "baxis": {
            "gridcolor": "white",
            "linecolor": "white",
            "ticks": ""
           },
           "bgcolor": "#E5ECF6",
           "caxis": {
            "gridcolor": "white",
            "linecolor": "white",
            "ticks": ""
           }
          },
          "title": {
           "x": 0.05
          },
          "xaxis": {
           "automargin": true,
           "gridcolor": "white",
           "linecolor": "white",
           "ticks": "",
           "title": {
            "standoff": 15
           },
           "zerolinecolor": "white",
           "zerolinewidth": 2
          },
          "yaxis": {
           "automargin": true,
           "gridcolor": "white",
           "linecolor": "white",
           "ticks": "",
           "title": {
            "standoff": 15
           },
           "zerolinecolor": "white",
           "zerolinewidth": 2
          }
         }
        },
        "title": {
         "text": "MGWR Median Betas"
        },
        "xaxis": {
         "anchor": "y",
         "autorange": true,
         "domain": [
          0,
          0.45
         ],
         "range": [
          -0.5,
          88.5
         ],
         "showspikes": false,
         "type": "category"
        },
        "xaxis2": {
         "anchor": "y2",
         "autorange": true,
         "domain": [
          0.55,
          1
         ],
         "range": [
          -0.5,
          88.5
         ],
         "showspikes": false,
         "type": "category"
        },
        "xaxis3": {
         "anchor": "y3",
         "autorange": true,
         "domain": [
          0,
          0.45
         ],
         "range": [
          -0.5,
          87.5
         ],
         "showspikes": false,
         "type": "category"
        },
        "xaxis4": {
         "anchor": "y4",
         "autorange": true,
         "domain": [
          0.55,
          1
         ],
         "range": [
          -0.5,
          87.5
         ],
         "showspikes": false,
         "type": "category"
        },
        "xaxis5": {
         "anchor": "y5",
         "autorange": true,
         "domain": [
          0,
          0.45
         ],
         "range": [
          -0.5,
          87.5
         ],
         "showspikes": false,
         "type": "category"
        },
        "xaxis6": {
         "anchor": "y6",
         "domain": [
          0.55,
          1
         ]
        },
        "yaxis": {
         "anchor": "x",
         "autorange": true,
         "domain": [
          0.7777777777777778,
          1
         ],
         "range": [
          0,
          1.0526315789473684
         ],
         "showspikes": false,
         "type": "linear"
        },
        "yaxis2": {
         "anchor": "x2",
         "autorange": true,
         "domain": [
          0.7777777777777778,
          1
         ],
         "range": [
          0,
          1.0526315789473684
         ],
         "showspikes": false,
         "type": "linear"
        },
        "yaxis3": {
         "anchor": "x3",
         "autorange": true,
         "domain": [
          0.3888888888888889,
          0.6111111111111112
         ],
         "range": [
          0,
          1.0526315789473684
         ],
         "showspikes": false,
         "type": "linear"
        },
        "yaxis4": {
         "anchor": "x4",
         "autorange": true,
         "domain": [
          0.3888888888888889,
          0.6111111111111112
         ],
         "range": [
          0,
          1.0526315789473684
         ],
         "showspikes": false,
         "type": "linear"
        },
        "yaxis5": {
         "anchor": "x5",
         "autorange": true,
         "domain": [
          0,
          0.22222222222222224
         ],
         "range": [
          0,
          1.0526315789473684
         ],
         "showspikes": false,
         "type": "linear"
        },
        "yaxis6": {
         "anchor": "x6",
         "domain": [
          0,
          0.22222222222222224
         ]
        }
       }
      },
      "image/png": "[encoded data removed]",
      "text/html": [
       "<div>                            <div id=\"e89c5c43-9b75-4904-a0b4-55992ea7deef\" class=\"plotly-graph-div\" style=\"height:1000px; width:100%;\"></div>            <script type=\"text/javascript\">                require([\"plotly\"], function(Plotly) {                    window.PLOTLYENV=window.PLOTLYENV || {};                                    if (document.getElementById(\"e89c5c43-9b75-4904-a0b4-55992ea7deef\")) {                    Plotly.newPlot(                        \"e89c5c43-9b75-4904-a0b4-55992ea7deef\",                        [{\"x\":[\"dusaf\",\"dusafSum\",\"dsf2\",\"dsf3\",\"dsf4\",\"dsf5\",\"dsf11\",\"dsf12\",\"dsf13\",\"dsf14\",\"siarl\",\"siarlSum\",\"siarl2\",\"siarl9\",\"siarl12\",\"aq_zone\",\"clim_zone\",\"soil\",\"soilSum\",\"soil1\",\"soil2\",\"soil4\",\"soil5\",\"soil6\",\"soil7\",\"soil8\",\"soil9\",\"soil_text\",\"soilTextSum\",\"soil_text1\",\"soil_text2\",\"soil_text3\",\"soil_text4\",\"soil_text5\",\"soil_text6\",\"soil_text7\",\"soil_text8\",\"soil_text9\",\"soil_text10\",\"pop\",\"int_prim\",\"int_prim_sec\",\"int_sec\",\"highway\",\"prim_road\",\"sec_road\",\"farms\",\"farm_pigs\",\"farm_poultry\",\"farm_sheep\",\"ndvi\",\"temp_2m\",\"prec\",\"press\",\"n_wind\",\"e_wind\",\"soil_moist\",\"no2_s5p\",\"so2_s5p\",\"aod_055\",\"aod_047\",\"uvai\",\"co_s5p\",\"ch2o_s5p\",\"o3_s5p\",\"ch4_s5p\",\"nh3_cams\",\"no_cams\",\"co_cams\",\"dust_cams\",\"pm10_cams\",\"no2_cams\",\"nmvocs_cams\",\"so2_cams\",\"o3_cams\",\"co_int\",\"nh3_int\",\"no2_int\",\"nox_int\",\"o3_int\",\"pm10_int\",\"pm25_int\",\"so2_int\",\"air_hum_int\",\"prec_int\",\"rad_glob_int\",\"temp_int\",\"wind_dir_int\",\"wind_speed_int\"],\"y\":[0.2554270888664884,0.2756916084144751,0.20102035282339614,0.20173293362129044,0.22817998628341113,0.2359467717671334,0.2581681497836774,0.23896287649785872,0.25417384090549355,0.2547916517438778,0.25704987589286155,0.2816854610982199,0.2559950577062825,0.2489008004143452,0.2532578523926775,0.25454604576378015,0.2559997441482776,0.25878340842130915,0.09435662154598634,0.24737158725911904,0.2387381035917372,1.0,0.0,0.11320493027976948,0.7094683279889633,0.2806097125275455,0.3077183350410832,0.2507141433135972,0.25666089579683743,0.2576596253840243,0.26367852294363286,0.26165569447964887,0.26456281969954626,0.23477840137038453,0.2620520266114495,0.26176237424262344,0.25443961517724695,0.26265748086249713,0.25451508178860366,0.25068846531434696,0.26013705894859673,0.2538240414149838,0.25778654101134507,0.2616724451071907,0.2558858658634773,0.24601083112802516,0.25927193100680473,0.25362775723207637,0.25655761510301545,0.2539133415891182,0.2534163603078189,0.21677356324751876,0.25041642160493355,0.297422756642478,0.2558206700231559,0.25567923206210413,0.25534807647230745,0.2570547117261684,0.2622924134752439,0.2713890055214727,0.24853972428497234,0.2508886748034265,0.25574602084506726,0.25869897262572406,0.2587555710862909,0.25380457690998093,0.2502369725768567,0.24610486619476005,0.2859493845577996,0.25642035465059043,0.5308026645050599,0.26838382527722676,0.25991408077665606,0.25754796581173905,0.2643255187486192,0.25224617566627666,0.25401883320707425,0.2455466735782368,0.2572588753844049,0.2543731619211148,0.25729351478472756,0.25425207306188713,0.25693822024836227,0.2572564594543484,0.2589718931696866,0.2495229408470003,0.24848958201629667,0.252034177446241,0.2564689537316411],\"type\":\"bar\",\"xaxis\":\"x\",\"yaxis\":\"y\"},{\"x\":[\"dusaf\",\"dusafSum\",\"dsf2\",\"dsf3\",\"dsf4\",\"dsf5\",\"dsf11\",\"dsf12\",\"dsf13\",\"dsf14\",\"siarl\",\"siarlSum\",\"siarl2\",\"siarl9\",\"siarl12\",\"aq_zone\",\"clim_zone\",\"soil\",\"soilSum\",\"soil1\",\"soil2\",\"soil4\",\"soil5\",\"soil6\",\"soil7\",\"soil8\",\"soil9\",\"soil_text\",\"soilTextSum\",\"soil_text1\",\"soil_text2\",\"soil_text3\",\"soil_text4\",\"soil_text5\",\"soil_text6\",\"soil_text7\",\"soil_text8\",\"soil_text9\",\"soil_text10\",\"pop\",\"int_prim\",\"int_prim_sec\",\"int_sec\",\"highway\",\"prim_road\",\"sec_road\",\"farms\",\"farm_pigs\",\"farm_poultry\",\"farm_sheep\",\"ndvi\",\"temp_2m\",\"prec\",\"press\",\"n_wind\",\"e_wind\",\"soil_moist\",\"no2_s5p\",\"so2_s5p\",\"aod_055\",\"aod_047\",\"uvai\",\"co_s5p\",\"ch2o_s5p\",\"o3_s5p\",\"ch4_s5p\",\"nh3_cams\",\"no_cams\",\"co_cams\",\"dust_cams\",\"pm10_cams\",\"no2_cams\",\"nmvocs_cams\",\"so2_cams\",\"o3_cams\",\"co_int\",\"nh3_int\",\"no2_int\",\"nox_int\",\"o3_int\",\"pm10_int\",\"pm25_int\",\"so2_int\",\"air_hum_int\",\"prec_int\",\"rad_glob_int\",\"temp_int\",\"wind_dir_int\",\"wind_speed_int\"],\"y\":[0.668243160298149,0.8976074206567476,0.0,0.4628883858047453,0.9524517338189511,0.8269588148471241,0.8254198768404648,0.7143219859838067,0.6673917621266003,0.6403630433076353,0.7228846355132087,0.6778598410743096,0.7116789420614286,0.6839910663319616,0.6876401611995745,0.6808598273972015,0.6719964727053593,0.6545758377228161,1.0,0.6798419757845334,0.6930419977325606,0.7168865827884779,0.7079653227569795,0.6640254099751585,0.6135049611246659,0.6471936463313834,0.6431908168176028,0.6604588774532871,0.6806044310941985,0.662303235364326,0.6643030306014075,0.6607040119902432,0.6479509789944543,0.6604649039311605,0.6739089777405007,0.6617036610322995,0.6712852286597495,0.6799246212874377,0.6699567516599846,0.6563801343559764,0.6648048687543243,0.6745851114573953,0.6679983360860116,0.6633241241509941,0.6737469825790899,0.6685203263753214,0.6816193594190941,0.6661054210092473,0.674713933545484,0.6604358835883426,0.6616434150700327,0.6587091959452228,0.6707300717577953,0.6785790361627844,0.6636804176102611,0.6692247187689474,0.6679510903597352,0.6679240452012785,0.6789851457698446,0.6667700873777539,0.6719682179247412,0.6681595704578341,0.6669354075284728,0.6796583200828089,0.6668150338477564,0.6604022326013963,0.6658253302680781,0.6730074251337425,0.6671602130142575,0.6741987611463868,0.7287402918412129,0.6683296676633635,0.6694553481483919,0.6627201914305123,0.6682135835285412,0.6632803035172334,0.6685646491177408,0.6631980979428364,0.6705415734113843,0.6733748787786789,0.676809130138839,0.664646208312434,0.673969639718022,0.6663425916863704,0.6638909595276544,0.6671997012871053,0.6671868930878095,0.6668088813150966,0.6715509054822288],\"type\":\"bar\",\"xaxis\":\"x2\",\"yaxis\":\"y2\"},{\"x\":[\"dusaf\",\"dusafSum\",\"dsf2\",\"dsf3\",\"dsf4\",\"dsf5\",\"dsf11\",\"dsf12\",\"dsf13\",\"dsf14\",\"siarl\",\"siarlSum\",\"siarl2\",\"siarl9\",\"siarl12\",\"aq_zone\",\"clim_zone\",\"soil\",\"soilSum\",\"soil1\",\"soil2\",\"soil4\",\"soil5\",\"soil6\",\"soil7\",\"soil8\",\"soil9\",\"soil_text\",\"soilTextSum\",\"soil_text1\",\"soil_text2\",\"soil_text3\",\"soil_text4\",\"soil_text5\",\"soil_text6\",\"soil_text7\",\"soil_text8\",\"soil_text9\",\"soil_text10\",\"pop\",\"int_prim\",\"int_prim_sec\",\"int_sec\",\"highway\",\"prim_road\",\"sec_road\",\"farms\",\"farm_pigs\",\"farm_poultry\",\"farm_sheep\",\"ndvi\",\"temp_2m\",\"prec\",\"press\",\"n_wind\",\"e_wind\",\"soil_moist\",\"no2_s5p\",\"so2_s5p\",\"aod_055\",\"aod_047\",\"uvai\",\"co_s5p\",\"ch2o_s5p\",\"o3_s5p\",\"ch4_s5p\",\"nh3_cams\",\"no_cams\",\"co_cams\",\"dust_cams\",\"pm10_cams\",\"no2_cams\",\"nmvocs_cams\",\"so2_cams\",\"o3_cams\",\"co_int\",\"nh3_int\",\"no2_int\",\"nox_int\",\"o3_int\",\"pm10_int\",\"pm25_int\",\"so2_int\",\"air_hum_int\",\"prec_int\",\"rad_glob_int\",\"temp_int\",\"wind_dir_int\",\"wind_speed_int\"],\"y\":[0.5738914318164637,1.0,0.20586446230063865,0.0,0.5029066931162606,0.4761355194094098,0.5981616032724906,0.33411369118710443,0.5541613677472781,0.53145063327831,0.5422980604253033,0.5567854661542233,0.5648081902659994,0.5668183996288562,0.5802669707192465,0.5672407658042639,0.5561412668506327,0.560218110311985,0.5339039984377479,0.5858598763940401,0.5559650487555177,0.6950883685065015,0.5972719224477839,0.59030983686645,0.7865896445501712,0.54088105990504,0.6384970521551594,0.5548935218482481,0.5691877307213136,0.570947061865018,0.5766031617743452,0.6006569972523544,0.5927451690166864,0.5777980561047255,0.5789111552411034,0.5831932176171111,0.5784312844202804,0.5910059350344833,0.5712437745481869,0.5602934273953611,0.5742216087525964,0.5617187961425243,0.5729695800748998,0.5716569797913351,0.5694085975937612,0.558819661536185,0.5660844537835825,0.569547953103881,0.5620027727856635,0.5665352248936738,0.5622107665053019,0.5661731353398616,0.5804160324818695,0.5829854932434063,0.5644937333441283,0.5908633313288753,0.5763508291752413,0.5715353935620361,0.5571076568372734,0.5855893370525125,0.5671597452120801,0.567354777517582,0.5684278632092683,0.5490736831278236,0.5804124496610877,0.6098217969432694,0.5685757983310329,0.5795757819841181,0.5568072615322386,0.8382789287173168,0.5915733356332897,0.5838848111101342,0.5808343157954219,0.57796131374661,0.5780376869259132,0.5692057158850727,0.564900499983839,0.5748655449273563,0.5581081694609572,0.5891908009579965,0.5652880027658008,0.5846453793050487,0.5644254823457943,0.5595961990548498,0.567243802177316,0.5814900721663404,0.5704963600098781,0.5777504725379344],\"type\":\"bar\",\"xaxis\":\"x3\",\"yaxis\":\"y3\"},{\"x\":[\"dusaf\",\"dusafSum\",\"dsf2\",\"dsf3\",\"dsf4\",\"dsf5\",\"dsf11\",\"dsf12\",\"dsf13\",\"dsf14\",\"siarl\",\"siarlSum\",\"siarl2\",\"siarl9\",\"siarl12\",\"aq_zone\",\"clim_zone\",\"soil\",\"soilSum\",\"soil1\",\"soil2\",\"soil4\",\"soil5\",\"soil6\",\"soil7\",\"soil8\",\"soil9\",\"soil_text\",\"soilTextSum\",\"soil_text1\",\"soil_text2\",\"soil_text3\",\"soil_text4\",\"soil_text5\",\"soil_text6\",\"soil_text7\",\"soil_text8\",\"soil_text9\",\"soil_text10\",\"pop\",\"int_prim\",\"int_prim_sec\",\"int_sec\",\"highway\",\"prim_road\",\"sec_road\",\"farms\",\"farm_pigs\",\"farm_poultry\",\"farm_sheep\",\"ndvi\",\"temp_2m\",\"prec\",\"press\",\"n_wind\",\"e_wind\",\"soil_moist\",\"no2_s5p\",\"so2_s5p\",\"aod_055\",\"aod_047\",\"uvai\",\"co_s5p\",\"ch2o_s5p\",\"o3_s5p\",\"ch4_s5p\",\"nh3_cams\",\"no_cams\",\"co_cams\",\"dust_cams\",\"pm10_cams\",\"no2_cams\",\"nmvocs_cams\",\"so2_cams\",\"o3_cams\",\"co_int\",\"nh3_int\",\"no2_int\",\"nox_int\",\"o3_int\",\"pm10_int\",\"pm25_int\",\"so2_int\",\"air_hum_int\",\"prec_int\",\"rad_glob_int\",\"temp_int\",\"wind_dir_int\",\"wind_speed_int\"],\"y\":[0.8700962027232171,0.9201252035489522,0.07809828242922018,0.0,1.0,0.8292339882762635,0.8722887518866882,0.8707762249612556,0.8931695090816614,0.8122492467121293,0.8207147470810379,0.9730388177950839,0.8581618214606421,0.8691279706428136,0.8889212484185085,0.8854666666296833,0.8715272505172611,0.8573375643073242,0.8614735397080207,0.7203971938604335,0.7935361689271652,0.8913154945774777,0.9511449333749813,0.863761615759786,0.7378963135566442,0.7531907413860048,0.8457394906373171,0.8953288435364123,0.8674972738569746,0.874863068900533,0.9225007758075721,0.8937387662634048,0.8862090075563105,0.8848383681951735,0.8824850171836865,0.8765599008057557,0.893036512965762,0.8830080342803822,0.8614396878511511,0.8590979729237053,0.8713321009789705,0.8746703996049587,0.8695714263823126,0.8650301487095188,0.8762494506697073,0.8687489656954154,0.8796616173281525,0.8716546186358103,0.8665720561154204,0.8679681706554265,0.888086150272908,0.8806492494680448,0.866564584743402,0.8503476733598148,0.8623254572382977,0.8620436252121589,0.8802397914748584,0.8698863552003095,0.8614448296173092,0.8683550590139202,0.8753318927691862,0.8712568997066257,0.8686566410456844,0.8651432967542544,0.8771412947028545,0.8750587882673466,0.8762693942327774,0.8724868232236975,0.8732806080979341,0.9069937865143435,0.8703134812047131,0.8763024663382304,0.8688043953959508,0.8765267140548716,0.8640599291514285,0.8696689071536482,0.8783654471800795,0.8667881363537935,0.8715221883591391,0.863484634531661,0.8733936427188227,0.875165923162411,0.8742995904478449,0.8623118405112125,0.8629907102115091,0.8687977047904684,0.8695977429787665,0.8730060374086597],\"type\":\"bar\",\"xaxis\":\"x4\",\"yaxis\":\"y4\"},{\"x\":[\"dusaf\",\"dusafSum\",\"dsf2\",\"dsf3\",\"dsf4\",\"dsf5\",\"dsf11\",\"dsf12\",\"dsf13\",\"dsf14\",\"siarl\",\"siarlSum\",\"siarl2\",\"siarl9\",\"siarl12\",\"aq_zone\",\"clim_zone\",\"soil\",\"soilSum\",\"soil1\",\"soil2\",\"soil4\",\"soil5\",\"soil6\",\"soil7\",\"soil8\",\"soil9\",\"soil_text\",\"soilTextSum\",\"soil_text1\",\"soil_text2\",\"soil_text3\",\"soil_text4\",\"soil_text5\",\"soil_text6\",\"soil_text7\",\"soil_text8\",\"soil_text9\",\"soil_text10\",\"pop\",\"int_prim\",\"int_prim_sec\",\"int_sec\",\"highway\",\"prim_road\",\"sec_road\",\"farms\",\"farm_pigs\",\"farm_poultry\",\"farm_sheep\",\"ndvi\",\"temp_2m\",\"prec\",\"press\",\"n_wind\",\"e_wind\",\"soil_moist\",\"no2_s5p\",\"so2_s5p\",\"aod_055\",\"aod_047\",\"uvai\",\"co_s5p\",\"ch2o_s5p\",\"o3_s5p\",\"ch4_s5p\",\"nh3_cams\",\"no_cams\",\"co_cams\",\"dust_cams\",\"pm10_cams\",\"no2_cams\",\"nmvocs_cams\",\"so2_cams\",\"o3_cams\",\"co_int\",\"nh3_int\",\"no2_int\",\"nox_int\",\"o3_int\",\"pm10_int\",\"pm25_int\",\"so2_int\",\"air_hum_int\",\"prec_int\",\"rad_glob_int\",\"temp_int\",\"wind_dir_int\",\"wind_speed_int\"],\"y\":[0.2926632198738732,0.2530763951118785,0.07568932395894437,0.0,0.3607482150045309,0.35412229538263756,0.10031017638633141,0.3564252356220286,0.2830278169528667,0.2955233747490103,0.2565369128382097,0.606411437564195,0.278245546328747,0.28411913040153897,0.2854241465170433,0.29647588974549793,0.2865243453936267,0.2880625944582809,0.4248037313213428,0.3236159523573773,0.29388254450533136,0.1261736807126457,0.23229135079059499,0.2849596757943235,0.08184513433842429,0.2885799229905266,0.0978430417908972,0.2713258913005679,0.2811453653837548,0.2920211186922607,0.28421570848011013,0.2857840878423222,0.27152876633125045,0.28185205991096024,0.28680360779466463,0.2892142917488511,0.28528988760884627,0.28102091723283634,0.2944286368136846,0.2842712100533268,0.2893514717904307,0.26081213989346774,0.30843366356338664,0.29972572983873935,0.28584570689568317,0.29182176582182934,0.3070822409140188,0.2971899529370832,0.28351762159774385,0.2576474748441988,0.2572794746842624,0.19061415361838913,0.3142343802123906,0.4151806936679617,0.2934934534873921,0.2911956187726369,0.28401285190201764,0.30364820741697035,0.29002654980317444,0.2860263338462283,0.32677601329303657,0.31242338253872015,0.3062513825669371,0.2814397275473389,0.29340948427679264,0.2683518804562641,0.27855940642665006,0.3604719416358949,0.2880568808415756,1.0,0.27992554995241015,0.33520777222873527,0.300948415513601,0.33008040225184565,0.3002522703417282,0.3119162875722386,0.28454158401012286,0.29982497788826395,0.2906697987551311,0.3062789772792232,0.31062037305324597,0.2997099412061309,0.2894300544467336,0.31845050888929827,0.29739934877014673,0.2572454448637165,0.2546006722598626,0.2987699739079979],\"type\":\"bar\",\"xaxis\":\"x5\",\"yaxis\":\"y5\"}],                        {\"template\":{\"data\":{\"bar\":[{\"error_x\":{\"color\":\"#2a3f5f\"},\"error_y\":{\"color\":\"#2a3f5f\"},\"marker\":{\"line\":{\"color\":\"#E5ECF6\",\"width\":0.5},\"pattern\":{\"fillmode\":\"overlay\",\"size\":10,\"solidity\":0.2}},\"type\":\"bar\"}],\"barpolar\":[{\"marker\":{\"line\":{\"color\":\"#E5ECF6\",\"width\":0.5},\"pattern\":{\"fillmode\":\"overlay\",\"size\":10,\"solidity\":0.2}},\"type\":\"barpolar\"}],\"carpet\":[{\"aaxis\":{\"endlinecolor\":\"#2a3f5f\",\"gridcolor\":\"white\",\"linecolor\":\"white\",\"minorgridcolor\":\"white\",\"startlinecolor\":\"#2a3f5f\"},\"baxis\":{\"endlinecolor\":\"#2a3f5f\",\"gridcolor\":\"white\",\"linecolor\":\"white\",\"minorgridcolor\":\"white\",\"startlinecolor\":\"#2a3f5f\"},\"type\":\"carpet\"}],\"choropleth\":[{\"colorbar\":{\"outlinewidth\":0,\"ticks\":\"\"},\"type\":\"choropleth\"}],\"contour\":[{\"colorbar\":{\"outlinewidth\":0,\"ticks\":\"\"},\"colorscale\":[[0.0,\"#0d0887\"],[0.1111111111111111,\"#46039f\"],[0.2222222222222222,\"#7201a8\"],[0.3333333333333333,\"#9c179e\"],[0.4444444444444444,\"#bd3786\"],[0.5555555555555556,\"#d8576b\"],[0.6666666666666666,\"#ed7953\"],[0.7777777777777778,\"#fb9f3a\"],[0.8888888888888888,\"#fdca26\"],[1.0,\"#f0f921\"]],\"type\":\"contour\"}],\"contourcarpet\":[{\"colorbar\":{\"outlinewidth\":0,\"ticks\":\"\"},\"type\":\"contourcarpet\"}],\"heatmap\":[{\"colorbar\":{\"outlinewidth\":0,\"ticks\":\"\"},\"colorscale\":[[0.0,\"#0d0887\"],[0.1111111111111111,\"#46039f\"],[0.2222222222222222,\"#7201a8\"],[0.3333333333333333,\"#9c179e\"],[0.4444444444444444,\"#bd3786\"],[0.5555555555555556,\"#d8576b\"],[0.6666666666666666,\"#ed7953\"],[0.7777777777777778,\"#fb9f3a\"],[0.8888888888888888,\"#fdca26\"],[1.0,\"#f0f921\"]],\"type\":\"heatmap\"}],\"heatmapgl\":[{\"colorbar\":{\"outlinewidth\":0,\"ticks\":\"\"},\"colorscale\":[[0.0,\"#0d0887\"],[0.1111111111111111,\"#46039f\"],[0.2222222222222222,\"#7201a8\"],[0.3333333333333333,\"#9c179e\"],[0.4444444444444444,\"#bd3786\"],[0.5555555555555556,\"#d8576b\"],[0.6666666666666666,\"#ed7953\"],[0.7777777777777778,\"#fb9f3a\"],[0.8888888888888888,\"#fdca26\"],[1.0,\"#f0f921\"]],\"type\":\"heatmapgl\"}],\"histogram\":[{\"marker\":{\"pattern\":{\"fillmode\":\"overlay\",\"size\":10,\"solidity\":0.2}},\"type\":\"histogram\"}],\"histogram2d\":[{\"colorbar\":{\"outlinewidth\":0,\"ticks\":\"\"},\"colorscale\":[[0.0,\"#0d0887\"],[0.1111111111111111,\"#46039f\"],[0.2222222222222222,\"#7201a8\"],[0.3333333333333333,\"#9c179e\"],[0.4444444444444444,\"#bd3786\"],[0.5555555555555556,\"#d8576b\"],[0.6666666666666666,\"#ed7953\"],[0.7777777777777778,\"#fb9f3a\"],[0.8888888888888888,\"#fdca26\"],[1.0,\"#f0f921\"]],\"type\":\"histogram2d\"}],\"histogram2dcontour\":[{\"colorbar\":{\"outlinewidth\":0,\"ticks\":\"\"},\"colorscale\":[[0.0,\"#0d0887\"],[0.1111111111111111,\"#46039f\"],[0.2222222222222222,\"#7201a8\"],[0.3333333333333333,\"#9c179e\"],[0.4444444444444444,\"#bd3786\"],[0.5555555555555556,\"#d8576b\"],[0.6666666666666666,\"#ed7953\"],[0.7777777777777778,\"#fb9f3a\"],[0.8888888888888888,\"#fdca26\"],[1.0,\"#f0f921\"]],\"type\":\"histogram2dcontour\"}],\"mesh3d\":[{\"colorbar\":{\"outlinewidth\":0,\"ticks\":\"\"},\"type\":\"mesh3d\"}],\"parcoords\":[{\"line\":{\"colorbar\":{\"outlinewidth\":0,\"ticks\":\"\"}},\"type\":\"parcoords\"}],\"pie\":[{\"automargin\":true,\"type\":\"pie\"}],\"scatter\":[{\"marker\":{\"colorbar\":{\"outlinewidth\":0,\"ticks\":\"\"}},\"type\":\"scatter\"}],\"scatter3d\":[{\"line\":{\"colorbar\":{\"outlinewidth\":0,\"ticks\":\"\"}},\"marker\":{\"colorbar\":{\"outlinewidth\":0,\"ticks\":\"\"}},\"type\":\"scatter3d\"}],\"scattercarpet\":[{\"marker\":{\"colorbar\":{\"outlinewidth\":0,\"ticks\":\"\"}},\"type\":\"scattercarpet\"}],\"scattergeo\":[{\"marker\":{\"colorbar\":{\"outlinewidth\":0,\"ticks\":\"\"}},\"type\":\"scattergeo\"}],\"scattergl\":[{\"marker\":{\"colorbar\":{\"outlinewidth\":0,\"ticks\":\"\"}},\"type\":\"scattergl\"}],\"scattermapbox\":[{\"marker\":{\"colorbar\":{\"outlinewidth\":0,\"ticks\":\"\"}},\"type\":\"scattermapbox\"}],\"scatterpolar\":[{\"marker\":{\"colorbar\":{\"outlinewidth\":0,\"ticks\":\"\"}},\"type\":\"scatterpolar\"}],\"scatterpolargl\":[{\"marker\":{\"colorbar\":{\"outlinewidth\":0,\"ticks\":\"\"}},\"type\":\"scatterpolargl\"}],\"scatterternary\":[{\"marker\":{\"colorbar\":{\"outlinewidth\":0,\"ticks\":\"\"}},\"type\":\"scatterternary\"}],\"surface\":[{\"colorbar\":{\"outlinewidth\":0,\"ticks\":\"\"},\"colorscale\":[[0.0,\"#0d0887\"],[0.1111111111111111,\"#46039f\"],[0.2222222222222222,\"#7201a8\"],[0.3333333333333333,\"#9c179e\"],[0.4444444444444444,\"#bd3786\"],[0.5555555555555556,\"#d8576b\"],[0.6666666666666666,\"#ed7953\"],[0.7777777777777778,\"#fb9f3a\"],[0.8888888888888888,\"#fdca26\"],[1.0,\"#f0f921\"]],\"type\":\"surface\"}],\"table\":[{\"cells\":{\"fill\":{\"color\":\"#EBF0F8\"},\"line\":{\"color\":\"white\"}},\"header\":{\"fill\":{\"color\":\"#C8D4E3\"},\"line\":{\"color\":\"white\"}},\"type\":\"table\"}]},\"layout\":{\"annotationdefaults\":{\"arrowcolor\":\"#2a3f5f\",\"arrowhead\":0,\"arrowwidth\":1},\"autotypenumbers\":\"strict\",\"coloraxis\":{\"colorbar\":{\"outlinewidth\":0,\"ticks\":\"\"}},\"colorscale\":{\"diverging\":[[0,\"#8e0152\"],[0.1,\"#c51b7d\"],[0.2,\"#de77ae\"],[0.3,\"#f1b6da\"],[0.4,\"#fde0ef\"],[0.5,\"#f7f7f7\"],[0.6,\"#e6f5d0\"],[0.7,\"#b8e186\"],[0.8,\"#7fbc41\"],[0.9,\"#4d9221\"],[1,\"#276419\"]],\"sequential\":[[0.0,\"#0d0887\"],[0.1111111111111111,\"#46039f\"],[0.2222222222222222,\"#7201a8\"],[0.3333333333333333,\"#9c179e\"],[0.4444444444444444,\"#bd3786\"],[0.5555555555555556,\"#d8576b\"],[0.6666666666666666,\"#ed7953\"],[0.7777777777777778,\"#fb9f3a\"],[0.8888888888888888,\"#fdca26\"],[1.0,\"#f0f921\"]],\"sequentialminus\":[[0.0,\"#0d0887\"],[0.1111111111111111,\"#46039f\"],[0.2222222222222222,\"#7201a8\"],[0.3333333333333333,\"#9c179e\"],[0.4444444444444444,\"#bd3786\"],[0.5555555555555556,\"#d8576b\"],[0.6666666666666666,\"#ed7953\"],[0.7777777777777778,\"#fb9f3a\"],[0.8888888888888888,\"#fdca26\"],[1.0,\"#f0f921\"]]},\"colorway\":[\"#636efa\",\"#EF553B\",\"#00cc96\",\"#ab63fa\",\"#FFA15A\",\"#19d3f3\",\"#FF6692\",\"#B6E880\",\"#FF97FF\",\"#FECB52\"],\"font\":{\"color\":\"#2a3f5f\"},\"geo\":{\"bgcolor\":\"white\",\"lakecolor\":\"white\",\"landcolor\":\"#E5ECF6\",\"showlakes\":true,\"showland\":true,\"subunitcolor\":\"white\"},\"hoverlabel\":{\"align\":\"left\"},\"hovermode\":\"closest\",\"mapbox\":{\"style\":\"light\"},\"paper_bgcolor\":\"white\",\"plot_bgcolor\":\"#E5ECF6\",\"polar\":{\"angularaxis\":{\"gridcolor\":\"white\",\"linecolor\":\"white\",\"ticks\":\"\"},\"bgcolor\":\"#E5ECF6\",\"radialaxis\":{\"gridcolor\":\"white\",\"linecolor\":\"white\",\"ticks\":\"\"}},\"scene\":{\"xaxis\":{\"backgroundcolor\":\"#E5ECF6\",\"gridcolor\":\"white\",\"gridwidth\":2,\"linecolor\":\"white\",\"showbackground\":true,\"ticks\":\"\",\"zerolinecolor\":\"white\"},\"yaxis\":{\"backgroundcolor\":\"#E5ECF6\",\"gridcolor\":\"white\",\"gridwidth\":2,\"linecolor\":\"white\",\"showbackground\":true,\"ticks\":\"\",\"zerolinecolor\":\"white\"},\"zaxis\":{\"backgroundcolor\":\"#E5ECF6\",\"gridcolor\":\"white\",\"gridwidth\":2,\"linecolor\":\"white\",\"showbackground\":true,\"ticks\":\"\",\"zerolinecolor\":\"white\"}},\"shapedefaults\":{\"line\":{\"color\":\"#2a3f5f\"}},\"ternary\":{\"aaxis\":{\"gridcolor\":\"white\",\"linecolor\":\"white\",\"ticks\":\"\"},\"baxis\":{\"gridcolor\":\"white\",\"linecolor\":\"white\",\"ticks\":\"\"},\"bgcolor\":\"#E5ECF6\",\"caxis\":{\"gridcolor\":\"white\",\"linecolor\":\"white\",\"ticks\":\"\"}},\"title\":{\"x\":0.05},\"xaxis\":{\"automargin\":true,\"gridcolor\":\"white\",\"linecolor\":\"white\",\"ticks\":\"\",\"title\":{\"standoff\":15},\"zerolinecolor\":\"white\",\"zerolinewidth\":2},\"yaxis\":{\"automargin\":true,\"gridcolor\":\"white\",\"linecolor\":\"white\",\"ticks\":\"\",\"title\":{\"standoff\":15},\"zerolinecolor\":\"white\",\"zerolinewidth\":2}}},\"xaxis\":{\"anchor\":\"y\",\"domain\":[0.0,0.45],\"type\":\"category\"},\"yaxis\":{\"anchor\":\"x\",\"domain\":[0.7777777777777778,1.0]},\"xaxis2\":{\"anchor\":\"y2\",\"domain\":[0.55,1.0],\"type\":\"category\"},\"yaxis2\":{\"anchor\":\"x2\",\"domain\":[0.7777777777777778,1.0]},\"xaxis3\":{\"anchor\":\"y3\",\"domain\":[0.0,0.45],\"type\":\"category\"},\"yaxis3\":{\"anchor\":\"x3\",\"domain\":[0.3888888888888889,0.6111111111111112]},\"xaxis4\":{\"anchor\":\"y4\",\"domain\":[0.55,1.0],\"type\":\"category\"},\"yaxis4\":{\"anchor\":\"x4\",\"domain\":[0.3888888888888889,0.6111111111111112]},\"xaxis5\":{\"anchor\":\"y5\",\"domain\":[0.0,0.45],\"type\":\"category\"},\"yaxis5\":{\"anchor\":\"x5\",\"domain\":[0.0,0.22222222222222224]},\"xaxis6\":{\"anchor\":\"y6\",\"domain\":[0.55,1.0]},\"yaxis6\":{\"anchor\":\"x6\",\"domain\":[0.0,0.22222222222222224]},\"annotations\":[{\"font\":{\"size\":16},\"showarrow\":false,\"text\":\"grid_cams_1017_1023_2021.gpkg\",\"x\":0.225,\"xanchor\":\"center\",\"xref\":\"paper\",\"y\":1.0,\"yanchor\":\"bottom\",\"yref\":\"paper\"},{\"font\":{\"size\":16},\"showarrow\":false,\"text\":\"grid_cams_0324_0331_2021.gpkg\",\"x\":0.775,\"xanchor\":\"center\",\"xref\":\"paper\",\"y\":1.0,\"yanchor\":\"bottom\",\"yref\":\"paper\"},{\"font\":{\"size\":16},\"showarrow\":false,\"text\":\"grid_cams_0717_0724_2021.gpkg\",\"x\":0.225,\"xanchor\":\"center\",\"xref\":\"paper\",\"y\":0.6111111111111112,\"yanchor\":\"bottom\",\"yref\":\"paper\"},{\"font\":{\"size\":16},\"showarrow\":false,\"text\":\"grid_cams_0903_0910_2021.gpkg\",\"x\":0.775,\"xanchor\":\"center\",\"xref\":\"paper\",\"y\":0.6111111111111112,\"yanchor\":\"bottom\",\"yref\":\"paper\"},{\"font\":{\"size\":16},\"showarrow\":false,\"text\":\"grid_cams_0418_0425_2021.gpkg\",\"x\":0.225,\"xanchor\":\"center\",\"xref\":\"paper\",\"y\":0.22222222222222224,\"yanchor\":\"bottom\",\"yref\":\"paper\"}],\"title\":{\"text\":\"MGWR Median Betas\"},\"height\":1000,\"showlegend\":false,\"autosize\":true},                        {\"responsive\": true}                    ).then(function(){\n",
       "                            \n",
       "var gd = document.getElementById('e89c5c43-9b75-4904-a0b4-55992ea7deef');\n",
       "var x = new MutationObserver(function (mutations, observer) {{\n",
       "        var display = window.getComputedStyle(gd).display;\n",
       "        if (!display || display === 'none') {{\n",
       "            console.log([gd, 'removed!']);\n",
       "            Plotly.purge(gd);\n",
       "            observer.disconnect();\n",
       "        }}\n",
       "}});\n",
       "\n",
       "// Listen for the removal of the full notebook cells\n",
       "var notebookContainer = gd.closest('#notebook-container');\n",
       "if (notebookContainer) {{\n",
       "    x.observe(notebookContainer, {childList: true});\n",
       "}}\n",
       "\n",
       "// Listen for the clearing of the current output cell\n",
       "var outputEl = gd.closest('.output');\n",
       "if (outputEl) {{\n",
       "    x.observe(outputEl, {childList: true});\n",
       "}}\n",
       "\n",
       "                        })                };                });            </script>        </div>"
      ]
     },
     "metadata": {},
     "output_type": "display_data"
    },
    {
     "data": {
      "application/vnd.plotly.v1+json": {
       "config": {
        "plotlyServerURL": "https://plot.ly"
       },
       "data": [
        {
         "type": "bar",
         "x": [
          "dusaf",
          "dusafSum",
          "dsf2",
          "dsf3",
          "dsf4",
          "dsf5",
          "dsf11",
          "dsf12",
          "dsf13",
          "dsf14",
          "siarl",
          "siarlSum",
          "siarl2",
          "siarl9",
          "siarl12",
          "aq_zone",
          "clim_zone",
          "soil",
          "soilSum",
          "soil1",
          "soil2",
          "soil4",
          "soil5",
          "soil6",
          "soil7",
          "soil8",
          "soil9",
          "soil_text",
          "soilTextSum",
          "soil_text1",
          "soil_text2",
          "soil_text3",
          "soil_text4",
          "soil_text5",
          "soil_text6",
          "soil_text7",
          "soil_text8",
          "soil_text9",
          "soil_text10",
          "pop",
          "int_prim",
          "int_prim_sec",
          "int_sec",
          "highway",
          "prim_road",
          "sec_road",
          "farms",
          "farm_pigs",
          "farm_poultry",
          "farm_sheep",
          "ndvi",
          "temp_2m",
          "prec",
          "press",
          "n_wind",
          "e_wind",
          "soil_moist",
          "no2_s5p",
          "so2_s5p",
          "aod_055",
          "aod_047",
          "uvai",
          "co_s5p",
          "ch2o_s5p",
          "o3_s5p",
          "ch4_s5p",
          "nh3_cams",
          "no_cams",
          "co_cams",
          "dust_cams",
          "pm10_cams",
          "no2_cams",
          "nmvocs_cams",
          "so2_cams",
          "o3_cams",
          "co_int",
          "nh3_int",
          "no2_int",
          "nox_int",
          "o3_int",
          "pm10_int",
          "pm25_int",
          "so2_int",
          "air_hum_int",
          "prec_int",
          "rad_glob_int",
          "temp_int",
          "wind_dir_int",
          "wind_speed_int"
         ],
         "xaxis": "x",
         "y": [
          0.13024687720293895,
          0.334395429047588,
          0.4587646761833389,
          0.08370824270497176,
          0.33485202470408393,
          0.2909517424366947,
          0.40819172852321595,
          0.43939084704597764,
          0.3901733815484859,
          0.4063263668395715,
          0.3433215087481591,
          0.33128548859289847,
          0.43979372305395276,
          0.47940009738988226,
          0.3462702419235537,
          0.10532247211357346,
          0.4774009544159859,
          0.2409380710580144,
          0.27772805134835815,
          0.29236102298560523,
          0.29364752792445287,
          0.40603660472079867,
          0.27280202624736577,
          0.252153945935928,
          0.3542891020772424,
          0.3813952687046243,
          0.14521572154782933,
          0.24065506333591488,
          0.2801335761731832,
          0.2728105711332208,
          0.3008350527854457,
          0.3306940755022564,
          0.3787336497513965,
          0.3690719653091051,
          0.3221546125060054,
          0.34696809296421555,
          0.23305287816765863,
          0.11965574710429536,
          0.27931037323517255,
          0.39471034476528405,
          0.43268244461521543,
          0.4269910950423633,
          0.43577865779098657,
          0.38192890292414033,
          0.38841572832984067,
          0.43296897728876466,
          0.4729765956419208,
          0.393310332897477,
          0.4298341402290345,
          0.2957353916883375,
          0.35134249059026257,
          0.48855033023829264,
          0.10561515500417742,
          0.5133697003248764,
          0.1964010100664669,
          0.17052603533148483,
          0.2949299944734226,
          0.4879293880333781,
          0.23419045446281375,
          0.4666805255719869,
          0.4675769974547011,
          0.2266484803764832,
          0.508603148182486,
          0.32287470705456656,
          0.48949261731899785,
          0.4985200454541146,
          0.4975490188201845,
          0.4859552554530043,
          0.5669219911713909,
          0.4373953146561823,
          0.9329718092150087,
          0.5272489690439984,
          0.5110336875383928,
          0.4982296671060808,
          0.03900275169774523,
          0.3930385715792977,
          0.36030904160530514,
          0.4304050074954753,
          0.4361031480723298,
          0.13290567460352462,
          0.48929106178163956,
          0.43747757822252265,
          0.3838922578272542,
          0.46084105934171726,
          0.11808748716708721,
          0.11958787981713492,
          0.491563273283885,
          0.21752892401524912,
          0.10150848048930741
         ],
         "yaxis": "y"
        },
        {
         "type": "bar",
         "x": [
          "dusaf",
          "dusafSum",
          "dsf2",
          "dsf3",
          "dsf4",
          "dsf5",
          "dsf11",
          "dsf12",
          "dsf13",
          "dsf14",
          "siarl",
          "siarlSum",
          "siarl2",
          "siarl9",
          "siarl12",
          "aq_zone",
          "clim_zone",
          "soil",
          "soilSum",
          "soil1",
          "soil2",
          "soil4",
          "soil5",
          "soil6",
          "soil7",
          "soil8",
          "soil9",
          "soil_text",
          "soilTextSum",
          "soil_text1",
          "soil_text2",
          "soil_text3",
          "soil_text4",
          "soil_text5",
          "soil_text6",
          "soil_text7",
          "soil_text8",
          "soil_text9",
          "soil_text10",
          "pop",
          "int_prim",
          "int_prim_sec",
          "int_sec",
          "highway",
          "prim_road",
          "sec_road",
          "farms",
          "farm_pigs",
          "farm_poultry",
          "farm_sheep",
          "ndvi",
          "temp_2m",
          "prec",
          "press",
          "n_wind",
          "e_wind",
          "soil_moist",
          "no2_s5p",
          "so2_s5p",
          "aod_055",
          "aod_047",
          "uvai",
          "co_s5p",
          "ch2o_s5p",
          "o3_s5p",
          "ch4_s5p",
          "nh3_cams",
          "no_cams",
          "co_cams",
          "dust_cams",
          "pm10_cams",
          "no2_cams",
          "nmvocs_cams",
          "so2_cams",
          "o3_cams",
          "co_int",
          "nh3_int",
          "no2_int",
          "nox_int",
          "o3_int",
          "pm10_int",
          "pm25_int",
          "so2_int",
          "air_hum_int",
          "prec_int",
          "rad_glob_int",
          "temp_int",
          "wind_dir_int",
          "wind_speed_int"
         ],
         "xaxis": "x2",
         "y": [
          0.19109568500532167,
          0.423870824004871,
          0.40903147325200423,
          0.13403518505715845,
          0.42404263569297534,
          0.3792655220892061,
          0.4809978380765488,
          0.4897959618397702,
          0.4351807580851778,
          0.4431851544146334,
          0.37924817249994797,
          0.3870787781181945,
          0.4955302673786958,
          0.5284458931054992,
          0.33417706305541284,
          0.1714343764098341,
          0.5350774712815772,
          0.2828379370820793,
          0.3910797431304064,
          0.3672395392402911,
          0.3691815473725345,
          0.3867063095576569,
          0.38383538481080554,
          0.3354522699671633,
          0.31369037053953985,
          0.43783700436518974,
          0.17363709182804965,
          0.2899553639378079,
          0.34185792194025044,
          0.34470163234683965,
          0.3741955321198419,
          0.41755475246004053,
          0.4049647127924122,
          0.43987877383720814,
          0.3847485701608919,
          0.3624811460032095,
          0.28584397464548333,
          0.1885400334376229,
          0.32039733307754287,
          0.4385141417930534,
          0.479410892772266,
          0.46928454294258853,
          0.480720720152863,
          0.4092197872768226,
          0.4349036120838418,
          0.4772607591035783,
          0.5247399328689326,
          0.46825482500915705,
          0.48970685137041325,
          0.38035877392125544,
          0.4968689838314656,
          0.5240943245921744,
          0.20629256284278982,
          0.5506316652571109,
          0.3868737393442494,
          0.2915948235361293,
          0.3037479333633079,
          0.5146896780609845,
          0.39986287596466974,
          0.5513098120355658,
          0.5555912628413264,
          0.16485301861415733,
          0.55071857972911,
          0.46673657965986676,
          0.5289444360021597,
          0.522600092286414,
          0.5687171122476629,
          0.5233247799813261,
          0.596289070395523,
          0.10324759434380706,
          0.9612486131201733,
          0.5484524606727381,
          0.5565661162588272,
          0.5139109236013416,
          0.1022684586974044,
          0.4473059845340445,
          0.46002577717076,
          0.4470063555142937,
          0.474342302294915,
          0.1453478533751009,
          0.5534437534742365,
          0.48247782490400254,
          0.4799784410858236,
          0.48349723975848274,
          0.13445070026266442,
          0.23959715884268945,
          0.5238968366922554,
          0.18240429465186572,
          0.15039324215100944
         ],
         "yaxis": "y2"
        },
        {
         "type": "bar",
         "x": [
          "dusaf",
          "dusafSum",
          "dsf2",
          "dsf3",
          "dsf4",
          "dsf5",
          "dsf11",
          "dsf12",
          "dsf13",
          "dsf14",
          "siarl",
          "siarlSum",
          "siarl2",
          "siarl9",
          "siarl12",
          "aq_zone",
          "clim_zone",
          "soil",
          "soilSum",
          "soil1",
          "soil2",
          "soil4",
          "soil5",
          "soil6",
          "soil7",
          "soil8",
          "soil9",
          "soil_text",
          "soilTextSum",
          "soil_text1",
          "soil_text2",
          "soil_text3",
          "soil_text4",
          "soil_text5",
          "soil_text6",
          "soil_text7",
          "soil_text8",
          "soil_text9",
          "soil_text10",
          "pop",
          "int_prim",
          "int_prim_sec",
          "int_sec",
          "highway",
          "prim_road",
          "sec_road",
          "farms",
          "farm_pigs",
          "farm_poultry",
          "farm_sheep",
          "ndvi",
          "temp_2m",
          "prec",
          "press",
          "n_wind",
          "e_wind",
          "soil_moist",
          "no2_s5p",
          "so2_s5p",
          "aod_055",
          "aod_047",
          "uvai",
          "co_s5p",
          "ch2o_s5p",
          "o3_s5p",
          "ch4_s5p",
          "nh3_cams",
          "no_cams",
          "co_cams",
          "dust_cams",
          "pm10_cams",
          "no2_cams",
          "nmvocs_cams",
          "so2_cams",
          "o3_cams",
          "co_int",
          "nh3_int",
          "no2_int",
          "nox_int",
          "o3_int",
          "pm10_int",
          "pm25_int",
          "so2_int",
          "air_hum_int",
          "prec_int",
          "rad_glob_int",
          "temp_int",
          "wind_dir_int",
          "wind_speed_int"
         ],
         "xaxis": "x3",
         "y": [
          0.1868697575101704,
          0.44787685687241413,
          0.46276366611024367,
          0.07137290235642428,
          0.3787816628232906,
          0.3313718977149391,
          0.47252194333769293,
          0.4681218836618844,
          0.4443594644405106,
          0.4608266877338484,
          0.39657137261324715,
          0.3800242001380444,
          0.483324372027199,
          0.5264812840474918,
          0.4095618523305888,
          0.16097518987759438,
          0.5050562683037877,
          0.29307425799197223,
          0.3418087268205702,
          0.33070836555891897,
          0.3299773065917293,
          0.36160213840208943,
          0.3492092291623483,
          0.3217963681980997,
          0.3773198866714895,
          0.4031544548611454,
          0.1971727685875668,
          0.29558172200145394,
          0.3284668471793172,
          0.31834463036678556,
          0.3328851042782376,
          0.38414465238112505,
          0.43891296700652865,
          0.41494586923199145,
          0.36659970067254555,
          0.40256012706581723,
          0.28589041295925016,
          0.16971287584106984,
          0.3293896195076332,
          0.45625108677702747,
          0.48906893539539903,
          0.4884105163874149,
          0.49208371531696954,
          0.4459292057608651,
          0.4530851275385224,
          0.4910865810035305,
          0.5138961131879833,
          0.4427506128007484,
          0.4709796144918456,
          0.34483992807049285,
          0.32582664751696777,
          0.552279468639849,
          0.26066014783011054,
          0.5755717720143613,
          0.397466784425046,
          0.09234390163901553,
          0.3041143609888794,
          0.5577767953858057,
          0.524687487621502,
          0.5316371626107872,
          0.40822947811247806,
          0.5403951306738508,
          0.4804528323078913,
          0.5431029346013673,
          0.5447750174494416,
          0.5617875834947557,
          0.5589994718032292,
          0.6312786755643768,
          0.5257565634489172,
          0.9768969898167595,
          0.5921661791281086,
          0.5376284832294226,
          0.559156089068656,
          0.413423683725012,
          0.3701780731759103,
          0.3416947362537259,
          0.45854081963864696,
          0.44454386978141436,
          0.3002391166776385,
          0.48734329326011167,
          0.19963596572925266,
          0.4272334984633495,
          0.21091713904199594,
          0.14765361867039561,
          0.4338702848296112,
          0.5700743753648754,
          0.15037769998925413,
          0.16105392240350808
         ],
         "yaxis": "y3"
        },
        {
         "type": "bar",
         "x": [
          "dusaf",
          "dusafSum",
          "dsf2",
          "dsf3",
          "dsf4",
          "dsf5",
          "dsf11",
          "dsf12",
          "dsf13",
          "dsf14",
          "siarl",
          "siarlSum",
          "siarl2",
          "siarl9",
          "siarl12",
          "aq_zone",
          "clim_zone",
          "soil",
          "soilSum",
          "soil1",
          "soil2",
          "soil4",
          "soil5",
          "soil6",
          "soil7",
          "soil8",
          "soil9",
          "soil_text",
          "soilTextSum",
          "soil_text1",
          "soil_text2",
          "soil_text3",
          "soil_text4",
          "soil_text5",
          "soil_text6",
          "soil_text7",
          "soil_text8",
          "soil_text9",
          "soil_text10",
          "pop",
          "int_prim",
          "int_prim_sec",
          "int_sec",
          "highway",
          "prim_road",
          "sec_road",
          "farms",
          "farm_pigs",
          "farm_poultry",
          "farm_sheep",
          "ndvi",
          "temp_2m",
          "prec",
          "press",
          "n_wind",
          "e_wind",
          "soil_moist",
          "no2_s5p",
          "so2_s5p",
          "aod_055",
          "aod_047",
          "uvai",
          "co_s5p",
          "ch2o_s5p",
          "o3_s5p",
          "ch4_s5p",
          "nh3_cams",
          "no_cams",
          "co_cams",
          "dust_cams",
          "pm10_cams",
          "no2_cams",
          "nmvocs_cams",
          "so2_cams",
          "o3_cams",
          "co_int",
          "nh3_int",
          "no2_int",
          "nox_int",
          "o3_int",
          "pm10_int",
          "pm25_int",
          "so2_int",
          "air_hum_int",
          "prec_int",
          "rad_glob_int",
          "temp_int",
          "wind_dir_int",
          "wind_speed_int"
         ],
         "xaxis": "x4",
         "y": [
          0.214868962520806,
          0.42205474659639364,
          0.442438857057409,
          0.0556354046097397,
          0.44580553782040966,
          0.376374162121054,
          0.4892897225863348,
          0.5228218863495037,
          0.4753502482927556,
          0.4775410669517939,
          0.4199568957560423,
          0.42800285414136835,
          0.5116756136682273,
          0.5702194032949806,
          0.4459147127973422,
          0.18864067010842261,
          0.5494812300015474,
          0.32900494194602775,
          0.3815875043250087,
          0.34251979470816984,
          0.35527205117712274,
          0.376646752746268,
          0.3926373901205623,
          0.3550963841333097,
          0.3672377051686206,
          0.4326574594152319,
          0.22097434843240568,
          0.3334944060988786,
          0.36587562539245383,
          0.3493222314739389,
          0.3750547848494345,
          0.4052289536093823,
          0.48006427646542094,
          0.4506217085550306,
          0.40240276780392764,
          0.4458619437324464,
          0.3208171554265834,
          0.20267669784089914,
          0.36824761618558705,
          0.47783661023117235,
          0.5107306763576107,
          0.5168918316209324,
          0.5168879183291074,
          0.4648453731778591,
          0.48023561802814557,
          0.5159676968982682,
          0.5605332457111315,
          0.47781912353235445,
          0.5105896568763402,
          0.37873451686380244,
          0.2716654402390806,
          0.5960109664880232,
          0.13719447499974116,
          0.6022450785268286,
          0.22709855124167394,
          0.12721951493408662,
          0.25039333314523754,
          0.5697703324591494,
          0.5048315653653539,
          0.5024164768773716,
          0.4899842388273577,
          0.6089834622344934,
          0.5181887924608827,
          0.568742462127822,
          0.5739872343266994,
          0.6076967348723515,
          0.5717620504564861,
          0.6273726838195748,
          0.33133219045381285,
          0.9867133980734776,
          0.6023182008258157,
          0.5674836024170632,
          0.5810250885235888,
          0.4237799003213648,
          0.4525849747609268,
          0.4443244097349196,
          0.4921158208977702,
          0.47748453381540895,
          0.3976773369907346,
          0.5874526698987929,
          0.41036893821571685,
          0.49902192306051385,
          0.15291786496124868,
          0.18175723692235352,
          0.5236443344551457,
          0.5927454429991609,
          0.2096140166582406,
          0.3254019323026613
         ],
         "yaxis": "y4"
        },
        {
         "type": "bar",
         "x": [
          "dusaf",
          "dusafSum",
          "dsf2",
          "dsf3",
          "dsf4",
          "dsf5",
          "dsf11",
          "dsf12",
          "dsf13",
          "dsf14",
          "siarl",
          "siarlSum",
          "siarl2",
          "siarl9",
          "siarl12",
          "aq_zone",
          "clim_zone",
          "soil",
          "soilSum",
          "soil1",
          "soil2",
          "soil4",
          "soil5",
          "soil6",
          "soil7",
          "soil8",
          "soil9",
          "soil_text",
          "soilTextSum",
          "soil_text1",
          "soil_text2",
          "soil_text3",
          "soil_text4",
          "soil_text5",
          "soil_text6",
          "soil_text7",
          "soil_text8",
          "soil_text9",
          "soil_text10",
          "pop",
          "int_prim",
          "int_prim_sec",
          "int_sec",
          "highway",
          "prim_road",
          "sec_road",
          "farms",
          "farm_pigs",
          "farm_poultry",
          "farm_sheep",
          "ndvi",
          "temp_2m",
          "prec",
          "press",
          "n_wind",
          "e_wind",
          "soil_moist",
          "no2_s5p",
          "so2_s5p",
          "aod_055",
          "aod_047",
          "uvai",
          "co_s5p",
          "ch2o_s5p",
          "o3_s5p",
          "ch4_s5p",
          "nh3_cams",
          "no_cams",
          "co_cams",
          "dust_cams",
          "pm10_cams",
          "no2_cams",
          "nmvocs_cams",
          "so2_cams",
          "o3_cams",
          "co_int",
          "nh3_int",
          "no2_int",
          "nox_int",
          "o3_int",
          "pm10_int",
          "pm25_int",
          "so2_int",
          "air_hum_int",
          "prec_int",
          "rad_glob_int",
          "temp_int",
          "wind_dir_int",
          "wind_speed_int"
         ],
         "xaxis": "x5",
         "y": [
          0.12519114743736773,
          0.3331139014444644,
          0.4153645601203225,
          0.05097848671169257,
          0.3296025641851163,
          0.2977598801135333,
          0.38823233390079936,
          0.45182833665485056,
          0.3929411354830902,
          0.4058256368599406,
          0.3168746512153368,
          0.37589464810134865,
          0.414841128251006,
          0.4685904686361243,
          0.29127963349422875,
          0.09387724140651857,
          0.46124664662673615,
          0.2423807730182109,
          0.2998947776350604,
          0.2696490128485376,
          0.2642205556530962,
          0.2629800787232802,
          0.26784935362598866,
          0.25699837907003376,
          0.25115267697436683,
          0.34901358218476447,
          0.07763482302602709,
          0.22586472781524486,
          0.2693619990904994,
          0.2624966647880361,
          0.26976871479364145,
          0.34929389724357307,
          0.3701985981159514,
          0.35431666623856933,
          0.31029891330585974,
          0.3016093088297067,
          0.2186901779748856,
          0.11269397747440577,
          0.2629070659536061,
          0.3966465464664574,
          0.44112181208345325,
          0.4211651174372567,
          0.44238264316005044,
          0.3715726565408814,
          0.3865418096264524,
          0.43615273460547094,
          0.4694247391278807,
          0.4129267786347623,
          0.43691747632911176,
          0.31563226559427665,
          0.37748197145544526,
          0.46838928047781503,
          0.19260599057211408,
          0.5029627195256854,
          0.37454557971595176,
          0.1629365824351689,
          0.26961609559646554,
          0.45857240804467103,
          0.4612948903841714,
          0.46320531108251356,
          0.1171942417874156,
          0.5039875694499067,
          0.39368987164743624,
          0.41208582684160416,
          0.4364180988355181,
          0.4911120723569717,
          0.47575721548446326,
          0.5671927585281843,
          0.3870300321504604,
          1,
          0.4949441287504816,
          0.5172807764136402,
          0.4981069555873498,
          0.0477589847956118,
          0.24229211006026338,
          0.39861646784828014,
          0.38643516744674894,
          0.3873130444882308,
          0.10557351825038912,
          0.500746480232063,
          0.3717652066964332,
          0.44275201829918587,
          0.35294989955698375,
          0.258077556562103,
          0.1841925402613355,
          0.49266345169227704,
          0.0715475134237594,
          0.10903753275420966
         ],
         "yaxis": "y5"
        }
       ],
       "layout": {
        "annotations": [
         {
          "font": {
           "size": 16
          },
          "showarrow": false,
          "text": "grid_cams_1017_1023_2021.gpkg",
          "x": 0.225,
          "xanchor": "center",
          "xref": "paper",
          "y": 1,
          "yanchor": "bottom",
          "yref": "paper"
         },
         {
          "font": {
           "size": 16
          },
          "showarrow": false,
          "text": "grid_cams_0324_0331_2021.gpkg",
          "x": 0.775,
          "xanchor": "center",
          "xref": "paper",
          "y": 1,
          "yanchor": "bottom",
          "yref": "paper"
         },
         {
          "font": {
           "size": 16
          },
          "showarrow": false,
          "text": "grid_cams_0717_0724_2021.gpkg",
          "x": 0.225,
          "xanchor": "center",
          "xref": "paper",
          "y": 0.6111111111111112,
          "yanchor": "bottom",
          "yref": "paper"
         },
         {
          "font": {
           "size": 16
          },
          "showarrow": false,
          "text": "grid_cams_0903_0910_2021.gpkg",
          "x": 0.775,
          "xanchor": "center",
          "xref": "paper",
          "y": 0.6111111111111112,
          "yanchor": "bottom",
          "yref": "paper"
         },
         {
          "font": {
           "size": 16
          },
          "showarrow": false,
          "text": "grid_cams_0418_0425_2021.gpkg",
          "x": 0.225,
          "xanchor": "center",
          "xref": "paper",
          "y": 0.22222222222222224,
          "yanchor": "bottom",
          "yref": "paper"
         }
        ],
        "autosize": true,
        "showlegend": false,
        "template": {
         "data": {
          "bar": [
           {
            "error_x": {
             "color": "#2a3f5f"
            },
            "error_y": {
             "color": "#2a3f5f"
            },
            "marker": {
             "line": {
              "color": "#E5ECF6",
              "width": 0.5
             },
             "pattern": {
              "fillmode": "overlay",
              "size": 10,
              "solidity": 0.2
             }
            },
            "type": "bar"
           }
          ],
          "barpolar": [
           {
            "marker": {
             "line": {
              "color": "#E5ECF6",
              "width": 0.5
             },
             "pattern": {
              "fillmode": "overlay",
              "size": 10,
              "solidity": 0.2
             }
            },
            "type": "barpolar"
           }
          ],
          "carpet": [
           {
            "aaxis": {
             "endlinecolor": "#2a3f5f",
             "gridcolor": "white",
             "linecolor": "white",
             "minorgridcolor": "white",
             "startlinecolor": "#2a3f5f"
            },
            "baxis": {
             "endlinecolor": "#2a3f5f",
             "gridcolor": "white",
             "linecolor": "white",
             "minorgridcolor": "white",
             "startlinecolor": "#2a3f5f"
            },
            "type": "carpet"
           }
          ],
          "choropleth": [
           {
            "colorbar": {
             "outlinewidth": 0,
             "ticks": ""
            },
            "type": "choropleth"
           }
          ],
          "contour": [
           {
            "colorbar": {
             "outlinewidth": 0,
             "ticks": ""
            },
            "colorscale": [
             [
              0,
              "#0d0887"
             ],
             [
              0.1111111111111111,
              "#46039f"
             ],
             [
              0.2222222222222222,
              "#7201a8"
             ],
             [
              0.3333333333333333,
              "#9c179e"
             ],
             [
              0.4444444444444444,
              "#bd3786"
             ],
             [
              0.5555555555555556,
              "#d8576b"
             ],
             [
              0.6666666666666666,
              "#ed7953"
             ],
             [
              0.7777777777777778,
              "#fb9f3a"
             ],
             [
              0.8888888888888888,
              "#fdca26"
             ],
             [
              1,
              "#f0f921"
             ]
            ],
            "type": "contour"
           }
          ],
          "contourcarpet": [
           {
            "colorbar": {
             "outlinewidth": 0,
             "ticks": ""
            },
            "type": "contourcarpet"
           }
          ],
          "heatmap": [
           {
            "colorbar": {
             "outlinewidth": 0,
             "ticks": ""
            },
            "colorscale": [
             [
              0,
              "#0d0887"
             ],
             [
              0.1111111111111111,
              "#46039f"
             ],
             [
              0.2222222222222222,
              "#7201a8"
             ],
             [
              0.3333333333333333,
              "#9c179e"
             ],
             [
              0.4444444444444444,
              "#bd3786"
             ],
             [
              0.5555555555555556,
              "#d8576b"
             ],
             [
              0.6666666666666666,
              "#ed7953"
             ],
             [
              0.7777777777777778,
              "#fb9f3a"
             ],
             [
              0.8888888888888888,
              "#fdca26"
             ],
             [
              1,
              "#f0f921"
             ]
            ],
            "type": "heatmap"
           }
          ],
          "heatmapgl": [
           {
            "colorbar": {
             "outlinewidth": 0,
             "ticks": ""
            },
            "colorscale": [
             [
              0,
              "#0d0887"
             ],
             [
              0.1111111111111111,
              "#46039f"
             ],
             [
              0.2222222222222222,
              "#7201a8"
             ],
             [
              0.3333333333333333,
              "#9c179e"
             ],
             [
              0.4444444444444444,
              "#bd3786"
             ],
             [
              0.5555555555555556,
              "#d8576b"
             ],
             [
              0.6666666666666666,
              "#ed7953"
             ],
             [
              0.7777777777777778,
              "#fb9f3a"
             ],
             [
              0.8888888888888888,
              "#fdca26"
             ],
             [
              1,
              "#f0f921"
             ]
            ],
            "type": "heatmapgl"
           }
          ],
          "histogram": [
           {
            "marker": {
             "pattern": {
              "fillmode": "overlay",
              "size": 10,
              "solidity": 0.2
             }
            },
            "type": "histogram"
           }
          ],
          "histogram2d": [
           {
            "colorbar": {
             "outlinewidth": 0,
             "ticks": ""
            },
            "colorscale": [
             [
              0,
              "#0d0887"
             ],
             [
              0.1111111111111111,
              "#46039f"
             ],
             [
              0.2222222222222222,
              "#7201a8"
             ],
             [
              0.3333333333333333,
              "#9c179e"
             ],
             [
              0.4444444444444444,
              "#bd3786"
             ],
             [
              0.5555555555555556,
              "#d8576b"
             ],
             [
              0.6666666666666666,
              "#ed7953"
             ],
             [
              0.7777777777777778,
              "#fb9f3a"
             ],
             [
              0.8888888888888888,
              "#fdca26"
             ],
             [
              1,
              "#f0f921"
             ]
            ],
            "type": "histogram2d"
           }
          ],
          "histogram2dcontour": [
           {
            "colorbar": {
             "outlinewidth": 0,
             "ticks": ""
            },
            "colorscale": [
             [
              0,
              "#0d0887"
             ],
             [
              0.1111111111111111,
              "#46039f"
             ],
             [
              0.2222222222222222,
              "#7201a8"
             ],
             [
              0.3333333333333333,
              "#9c179e"
             ],
             [
              0.4444444444444444,
              "#bd3786"
             ],
             [
              0.5555555555555556,
              "#d8576b"
             ],
             [
              0.6666666666666666,
              "#ed7953"
             ],
             [
              0.7777777777777778,
              "#fb9f3a"
             ],
             [
              0.8888888888888888,
              "#fdca26"
             ],
             [
              1,
              "#f0f921"
             ]
            ],
            "type": "histogram2dcontour"
           }
          ],
          "mesh3d": [
           {
            "colorbar": {
             "outlinewidth": 0,
             "ticks": ""
            },
            "type": "mesh3d"
           }
          ],
          "parcoords": [
           {
            "line": {
             "colorbar": {
              "outlinewidth": 0,
              "ticks": ""
             }
            },
            "type": "parcoords"
           }
          ],
          "pie": [
           {
            "automargin": true,
            "type": "pie"
           }
          ],
          "scatter": [
           {
            "marker": {
             "colorbar": {
              "outlinewidth": 0,
              "ticks": ""
             }
            },
            "type": "scatter"
           }
          ],
          "scatter3d": [
           {
            "line": {
             "colorbar": {
              "outlinewidth": 0,
              "ticks": ""
             }
            },
            "marker": {
             "colorbar": {
              "outlinewidth": 0,
              "ticks": ""
             }
            },
            "type": "scatter3d"
           }
          ],
          "scattercarpet": [
           {
            "marker": {
             "colorbar": {
              "outlinewidth": 0,
              "ticks": ""
             }
            },
            "type": "scattercarpet"
           }
          ],
          "scattergeo": [
           {
            "marker": {
             "colorbar": {
              "outlinewidth": 0,
              "ticks": ""
             }
            },
            "type": "scattergeo"
           }
          ],
          "scattergl": [
           {
            "marker": {
             "colorbar": {
              "outlinewidth": 0,
              "ticks": ""
             }
            },
            "type": "scattergl"
           }
          ],
          "scattermapbox": [
           {
            "marker": {
             "colorbar": {
              "outlinewidth": 0,
              "ticks": ""
             }
            },
            "type": "scattermapbox"
           }
          ],
          "scatterpolar": [
           {
            "marker": {
             "colorbar": {
              "outlinewidth": 0,
              "ticks": ""
             }
            },
            "type": "scatterpolar"
           }
          ],
          "scatterpolargl": [
           {
            "marker": {
             "colorbar": {
              "outlinewidth": 0,
              "ticks": ""
             }
            },
            "type": "scatterpolargl"
           }
          ],
          "scatterternary": [
           {
            "marker": {
             "colorbar": {
              "outlinewidth": 0,
              "ticks": ""
             }
            },
            "type": "scatterternary"
           }
          ],
          "surface": [
           {
            "colorbar": {
             "outlinewidth": 0,
             "ticks": ""
            },
            "colorscale": [
             [
              0,
              "#0d0887"
             ],
             [
              0.1111111111111111,
              "#46039f"
             ],
             [
              0.2222222222222222,
              "#7201a8"
             ],
             [
              0.3333333333333333,
              "#9c179e"
             ],
             [
              0.4444444444444444,
              "#bd3786"
             ],
             [
              0.5555555555555556,
              "#d8576b"
             ],
             [
              0.6666666666666666,
              "#ed7953"
             ],
             [
              0.7777777777777778,
              "#fb9f3a"
             ],
             [
              0.8888888888888888,
              "#fdca26"
             ],
             [
              1,
              "#f0f921"
             ]
            ],
            "type": "surface"
           }
          ],
          "table": [
           {
            "cells": {
             "fill": {
              "color": "#EBF0F8"
             },
             "line": {
              "color": "white"
             }
            },
            "header": {
             "fill": {
              "color": "#C8D4E3"
             },
             "line": {
              "color": "white"
             }
            },
            "type": "table"
           }
          ]
         },
         "layout": {
          "annotationdefaults": {
           "arrowcolor": "#2a3f5f",
           "arrowhead": 0,
           "arrowwidth": 1
          },
          "autotypenumbers": "strict",
          "coloraxis": {
           "colorbar": {
            "outlinewidth": 0,
            "ticks": ""
           }
          },
          "colorscale": {
           "diverging": [
            [
             0,
             "#8e0152"
            ],
            [
             0.1,
             "#c51b7d"
            ],
            [
             0.2,
             "#de77ae"
            ],
            [
             0.3,
             "#f1b6da"
            ],
            [
             0.4,
             "#fde0ef"
            ],
            [
             0.5,
             "#f7f7f7"
            ],
            [
             0.6,
             "#e6f5d0"
            ],
            [
             0.7,
             "#b8e186"
            ],
            [
             0.8,
             "#7fbc41"
            ],
            [
             0.9,
             "#4d9221"
            ],
            [
             1,
             "#276419"
            ]
           ],
           "sequential": [
            [
             0,
             "#0d0887"
            ],
            [
             0.1111111111111111,
             "#46039f"
            ],
            [
             0.2222222222222222,
             "#7201a8"
            ],
            [
             0.3333333333333333,
             "#9c179e"
            ],
            [
             0.4444444444444444,
             "#bd3786"
            ],
            [
             0.5555555555555556,
             "#d8576b"
            ],
            [
             0.6666666666666666,
             "#ed7953"
            ],
            [
             0.7777777777777778,
             "#fb9f3a"
            ],
            [
             0.8888888888888888,
             "#fdca26"
            ],
            [
             1,
             "#f0f921"
            ]
           ],
           "sequentialminus": [
            [
             0,
             "#0d0887"
            ],
            [
             0.1111111111111111,
             "#46039f"
            ],
            [
             0.2222222222222222,
             "#7201a8"
            ],
            [
             0.3333333333333333,
             "#9c179e"
            ],
            [
             0.4444444444444444,
             "#bd3786"
            ],
            [
             0.5555555555555556,
             "#d8576b"
            ],
            [
             0.6666666666666666,
             "#ed7953"
            ],
            [
             0.7777777777777778,
             "#fb9f3a"
            ],
            [
             0.8888888888888888,
             "#fdca26"
            ],
            [
             1,
             "#f0f921"
            ]
           ]
          },
          "colorway": [
           "#636efa",
           "#EF553B",
           "#00cc96",
           "#ab63fa",
           "#FFA15A",
           "#19d3f3",
           "#FF6692",
           "#B6E880",
           "#FF97FF",
           "#FECB52"
          ],
          "font": {
           "color": "#2a3f5f"
          },
          "geo": {
           "bgcolor": "white",
           "lakecolor": "white",
           "landcolor": "#E5ECF6",
           "showlakes": true,
           "showland": true,
           "subunitcolor": "white"
          },
          "hoverlabel": {
           "align": "left"
          },
          "hovermode": "closest",
          "mapbox": {
           "style": "light"
          },
          "paper_bgcolor": "white",
          "plot_bgcolor": "#E5ECF6",
          "polar": {
           "angularaxis": {
            "gridcolor": "white",
            "linecolor": "white",
            "ticks": ""
           },
           "bgcolor": "#E5ECF6",
           "radialaxis": {
            "gridcolor": "white",
            "linecolor": "white",
            "ticks": ""
           }
          },
          "scene": {
           "xaxis": {
            "backgroundcolor": "#E5ECF6",
            "gridcolor": "white",
            "gridwidth": 2,
            "linecolor": "white",
            "showbackground": true,
            "ticks": "",
            "zerolinecolor": "white"
           },
           "yaxis": {
            "backgroundcolor": "#E5ECF6",
            "gridcolor": "white",
            "gridwidth": 2,
            "linecolor": "white",
            "showbackground": true,
            "ticks": "",
            "zerolinecolor": "white"
           },
           "zaxis": {
            "backgroundcolor": "#E5ECF6",
            "gridcolor": "white",
            "gridwidth": 2,
            "linecolor": "white",
            "showbackground": true,
            "ticks": "",
            "zerolinecolor": "white"
           }
          },
          "shapedefaults": {
           "line": {
            "color": "#2a3f5f"
           }
          },
          "ternary": {
           "aaxis": {
            "gridcolor": "white",
            "linecolor": "white",
            "ticks": ""
           },
           "baxis": {
            "gridcolor": "white",
            "linecolor": "white",
            "ticks": ""
           },
           "bgcolor": "#E5ECF6",
           "caxis": {
            "gridcolor": "white",
            "linecolor": "white",
            "ticks": ""
           }
          },
          "title": {
           "x": 0.05
          },
          "xaxis": {
           "automargin": true,
           "gridcolor": "white",
           "linecolor": "white",
           "ticks": "",
           "title": {
            "standoff": 15
           },
           "zerolinecolor": "white",
           "zerolinewidth": 2
          },
          "yaxis": {
           "automargin": true,
           "gridcolor": "white",
           "linecolor": "white",
           "ticks": "",
           "title": {
            "standoff": 15
           },
           "zerolinecolor": "white",
           "zerolinewidth": 2
          }
         }
        },
        "title": {
         "text": "Average Scores"
        },
        "xaxis": {
         "anchor": "y",
         "autorange": true,
         "domain": [
          0,
          0.45
         ],
         "range": [
          -0.5,
          88.5
         ],
         "type": "category"
        },
        "xaxis2": {
         "anchor": "y2",
         "autorange": true,
         "domain": [
          0.55,
          1
         ],
         "range": [
          -0.5,
          88.5
         ],
         "type": "category"
        },
        "xaxis3": {
         "anchor": "y3",
         "autorange": true,
         "domain": [
          0,
          0.45
         ],
         "range": [
          -0.5,
          87.5
         ],
         "type": "category"
        },
        "xaxis4": {
         "anchor": "y4",
         "autorange": true,
         "domain": [
          0.55,
          1
         ],
         "range": [
          -0.5,
          87.5
         ],
         "type": "category"
        },
        "xaxis5": {
         "anchor": "y5",
         "autorange": true,
         "domain": [
          0,
          0.45
         ],
         "range": [
          -0.5,
          87.5
         ],
         "type": "category"
        },
        "xaxis6": {
         "anchor": "y6",
         "domain": [
          0.55,
          1
         ]
        },
        "yaxis": {
         "anchor": "x",
         "autorange": true,
         "domain": [
          0.7777777777777778,
          1
         ],
         "range": [
          0,
          0.9820755886473775
         ],
         "type": "linear"
        },
        "yaxis2": {
         "anchor": "x2",
         "autorange": true,
         "domain": [
          0.7777777777777778,
          1
         ],
         "range": [
          0,
          1.011840645389656
         ],
         "type": "linear"
        },
        "yaxis3": {
         "anchor": "x3",
         "autorange": true,
         "domain": [
          0.3888888888888889,
          0.6111111111111112
         ],
         "range": [
          0,
          1.0283126208597468
         ],
         "type": "linear"
        },
        "yaxis4": {
         "anchor": "x4",
         "autorange": true,
         "domain": [
          0.3888888888888889,
          0.6111111111111112
         ],
         "range": [
          0,
          1.038645682182608
         ],
         "type": "linear"
        },
        "yaxis5": {
         "anchor": "x5",
         "autorange": true,
         "domain": [
          0,
          0.22222222222222224
         ],
         "range": [
          0,
          1.0526315789473684
         ],
         "type": "linear"
        },
        "yaxis6": {
         "anchor": "x6",
         "domain": [
          0,
          0.22222222222222224
         ]
        }
       }
      },
      "image/png": "[encoded data removed]",
      "text/html": [
       "<div>                            <div id=\"a0a402e0-d4d4-4352-8a57-0aab13918023\" class=\"plotly-graph-div\" style=\"height:1000px; width:100%;\"></div>            <script type=\"text/javascript\">                require([\"plotly\"], function(Plotly) {                    window.PLOTLYENV=window.PLOTLYENV || {};                                    if (document.getElementById(\"a0a402e0-d4d4-4352-8a57-0aab13918023\")) {                    Plotly.newPlot(                        \"a0a402e0-d4d4-4352-8a57-0aab13918023\",                        [{\"x\":[\"dusaf\",\"dusafSum\",\"dsf2\",\"dsf3\",\"dsf4\",\"dsf5\",\"dsf11\",\"dsf12\",\"dsf13\",\"dsf14\",\"siarl\",\"siarlSum\",\"siarl2\",\"siarl9\",\"siarl12\",\"aq_zone\",\"clim_zone\",\"soil\",\"soilSum\",\"soil1\",\"soil2\",\"soil4\",\"soil5\",\"soil6\",\"soil7\",\"soil8\",\"soil9\",\"soil_text\",\"soilTextSum\",\"soil_text1\",\"soil_text2\",\"soil_text3\",\"soil_text4\",\"soil_text5\",\"soil_text6\",\"soil_text7\",\"soil_text8\",\"soil_text9\",\"soil_text10\",\"pop\",\"int_prim\",\"int_prim_sec\",\"int_sec\",\"highway\",\"prim_road\",\"sec_road\",\"farms\",\"farm_pigs\",\"farm_poultry\",\"farm_sheep\",\"ndvi\",\"temp_2m\",\"prec\",\"press\",\"n_wind\",\"e_wind\",\"soil_moist\",\"no2_s5p\",\"so2_s5p\",\"aod_055\",\"aod_047\",\"uvai\",\"co_s5p\",\"ch2o_s5p\",\"o3_s5p\",\"ch4_s5p\",\"nh3_cams\",\"no_cams\",\"co_cams\",\"dust_cams\",\"pm10_cams\",\"no2_cams\",\"nmvocs_cams\",\"so2_cams\",\"o3_cams\",\"co_int\",\"nh3_int\",\"no2_int\",\"nox_int\",\"o3_int\",\"pm10_int\",\"pm25_int\",\"so2_int\",\"air_hum_int\",\"prec_int\",\"rad_glob_int\",\"temp_int\",\"wind_dir_int\",\"wind_speed_int\"],\"y\":[0.13024687720293895,0.334395429047588,0.4587646761833389,0.08370824270497176,0.33485202470408393,0.2909517424366947,0.40819172852321595,0.43939084704597764,0.3901733815484859,0.4063263668395715,0.3433215087481591,0.33128548859289847,0.43979372305395276,0.47940009738988226,0.3462702419235537,0.10532247211357346,0.4774009544159859,0.2409380710580144,0.27772805134835815,0.29236102298560523,0.29364752792445287,0.40603660472079867,0.27280202624736577,0.252153945935928,0.3542891020772424,0.3813952687046243,0.14521572154782933,0.24065506333591488,0.2801335761731832,0.2728105711332208,0.3008350527854457,0.3306940755022564,0.3787336497513965,0.3690719653091051,0.3221546125060054,0.34696809296421555,0.23305287816765863,0.11965574710429536,0.27931037323517255,0.39471034476528405,0.43268244461521543,0.4269910950423633,0.43577865779098657,0.38192890292414033,0.38841572832984067,0.43296897728876466,0.4729765956419208,0.393310332897477,0.4298341402290345,0.2957353916883375,0.35134249059026257,0.48855033023829264,0.10561515500417742,0.5133697003248764,0.1964010100664669,0.17052603533148483,0.2949299944734226,0.4879293880333781,0.23419045446281375,0.4666805255719869,0.4675769974547011,0.2266484803764832,0.508603148182486,0.32287470705456656,0.48949261731899785,0.4985200454541146,0.4975490188201845,0.4859552554530043,0.5669219911713909,0.4373953146561823,0.9329718092150087,0.5272489690439984,0.5110336875383928,0.4982296671060808,0.03900275169774523,0.3930385715792977,0.36030904160530514,0.4304050074954753,0.4361031480723298,0.13290567460352462,0.48929106178163956,0.43747757822252265,0.3838922578272542,0.46084105934171726,0.11808748716708721,0.11958787981713492,0.491563273283885,0.21752892401524912,0.10150848048930741],\"type\":\"bar\",\"xaxis\":\"x\",\"yaxis\":\"y\"},{\"x\":[\"dusaf\",\"dusafSum\",\"dsf2\",\"dsf3\",\"dsf4\",\"dsf5\",\"dsf11\",\"dsf12\",\"dsf13\",\"dsf14\",\"siarl\",\"siarlSum\",\"siarl2\",\"siarl9\",\"siarl12\",\"aq_zone\",\"clim_zone\",\"soil\",\"soilSum\",\"soil1\",\"soil2\",\"soil4\",\"soil5\",\"soil6\",\"soil7\",\"soil8\",\"soil9\",\"soil_text\",\"soilTextSum\",\"soil_text1\",\"soil_text2\",\"soil_text3\",\"soil_text4\",\"soil_text5\",\"soil_text6\",\"soil_text7\",\"soil_text8\",\"soil_text9\",\"soil_text10\",\"pop\",\"int_prim\",\"int_prim_sec\",\"int_sec\",\"highway\",\"prim_road\",\"sec_road\",\"farms\",\"farm_pigs\",\"farm_poultry\",\"farm_sheep\",\"ndvi\",\"temp_2m\",\"prec\",\"press\",\"n_wind\",\"e_wind\",\"soil_moist\",\"no2_s5p\",\"so2_s5p\",\"aod_055\",\"aod_047\",\"uvai\",\"co_s5p\",\"ch2o_s5p\",\"o3_s5p\",\"ch4_s5p\",\"nh3_cams\",\"no_cams\",\"co_cams\",\"dust_cams\",\"pm10_cams\",\"no2_cams\",\"nmvocs_cams\",\"so2_cams\",\"o3_cams\",\"co_int\",\"nh3_int\",\"no2_int\",\"nox_int\",\"o3_int\",\"pm10_int\",\"pm25_int\",\"so2_int\",\"air_hum_int\",\"prec_int\",\"rad_glob_int\",\"temp_int\",\"wind_dir_int\",\"wind_speed_int\"],\"y\":[0.19109568500532167,0.423870824004871,0.40903147325200423,0.13403518505715845,0.42404263569297534,0.3792655220892061,0.4809978380765488,0.4897959618397702,0.4351807580851778,0.4431851544146334,0.37924817249994797,0.3870787781181945,0.4955302673786958,0.5284458931054992,0.33417706305541284,0.1714343764098341,0.5350774712815772,0.2828379370820793,0.3910797431304064,0.3672395392402911,0.3691815473725345,0.3867063095576569,0.38383538481080554,0.3354522699671633,0.31369037053953985,0.43783700436518974,0.17363709182804965,0.2899553639378079,0.34185792194025044,0.34470163234683965,0.3741955321198419,0.41755475246004053,0.4049647127924122,0.43987877383720814,0.3847485701608919,0.3624811460032095,0.28584397464548333,0.1885400334376229,0.32039733307754287,0.4385141417930534,0.479410892772266,0.46928454294258853,0.480720720152863,0.4092197872768226,0.4349036120838418,0.4772607591035783,0.5247399328689326,0.46825482500915705,0.48970685137041325,0.38035877392125544,0.4968689838314656,0.5240943245921744,0.20629256284278982,0.5506316652571109,0.3868737393442494,0.2915948235361293,0.3037479333633079,0.5146896780609845,0.39986287596466974,0.5513098120355658,0.5555912628413264,0.16485301861415733,0.55071857972911,0.46673657965986676,0.5289444360021597,0.522600092286414,0.5687171122476629,0.5233247799813261,0.596289070395523,0.10324759434380706,0.9612486131201733,0.5484524606727381,0.5565661162588272,0.5139109236013416,0.1022684586974044,0.4473059845340445,0.46002577717076,0.4470063555142937,0.474342302294915,0.1453478533751009,0.5534437534742365,0.48247782490400254,0.4799784410858236,0.48349723975848274,0.13445070026266442,0.23959715884268945,0.5238968366922554,0.18240429465186572,0.15039324215100944],\"type\":\"bar\",\"xaxis\":\"x2\",\"yaxis\":\"y2\"},{\"x\":[\"dusaf\",\"dusafSum\",\"dsf2\",\"dsf3\",\"dsf4\",\"dsf5\",\"dsf11\",\"dsf12\",\"dsf13\",\"dsf14\",\"siarl\",\"siarlSum\",\"siarl2\",\"siarl9\",\"siarl12\",\"aq_zone\",\"clim_zone\",\"soil\",\"soilSum\",\"soil1\",\"soil2\",\"soil4\",\"soil5\",\"soil6\",\"soil7\",\"soil8\",\"soil9\",\"soil_text\",\"soilTextSum\",\"soil_text1\",\"soil_text2\",\"soil_text3\",\"soil_text4\",\"soil_text5\",\"soil_text6\",\"soil_text7\",\"soil_text8\",\"soil_text9\",\"soil_text10\",\"pop\",\"int_prim\",\"int_prim_sec\",\"int_sec\",\"highway\",\"prim_road\",\"sec_road\",\"farms\",\"farm_pigs\",\"farm_poultry\",\"farm_sheep\",\"ndvi\",\"temp_2m\",\"prec\",\"press\",\"n_wind\",\"e_wind\",\"soil_moist\",\"no2_s5p\",\"so2_s5p\",\"aod_055\",\"aod_047\",\"uvai\",\"co_s5p\",\"ch2o_s5p\",\"o3_s5p\",\"ch4_s5p\",\"nh3_cams\",\"no_cams\",\"co_cams\",\"dust_cams\",\"pm10_cams\",\"no2_cams\",\"nmvocs_cams\",\"so2_cams\",\"o3_cams\",\"co_int\",\"nh3_int\",\"no2_int\",\"nox_int\",\"o3_int\",\"pm10_int\",\"pm25_int\",\"so2_int\",\"air_hum_int\",\"prec_int\",\"rad_glob_int\",\"temp_int\",\"wind_dir_int\",\"wind_speed_int\"],\"y\":[0.1868697575101704,0.44787685687241413,0.46276366611024367,0.07137290235642428,0.3787816628232906,0.3313718977149391,0.47252194333769293,0.4681218836618844,0.4443594644405106,0.4608266877338484,0.39657137261324715,0.3800242001380444,0.483324372027199,0.5264812840474918,0.4095618523305888,0.16097518987759438,0.5050562683037877,0.29307425799197223,0.3418087268205702,0.33070836555891897,0.3299773065917293,0.36160213840208943,0.3492092291623483,0.3217963681980997,0.3773198866714895,0.4031544548611454,0.1971727685875668,0.29558172200145394,0.3284668471793172,0.31834463036678556,0.3328851042782376,0.38414465238112505,0.43891296700652865,0.41494586923199145,0.36659970067254555,0.40256012706581723,0.28589041295925016,0.16971287584106984,0.3293896195076332,0.45625108677702747,0.48906893539539903,0.4884105163874149,0.49208371531696954,0.4459292057608651,0.4530851275385224,0.4910865810035305,0.5138961131879833,0.4427506128007484,0.4709796144918456,0.34483992807049285,0.32582664751696777,0.552279468639849,0.26066014783011054,0.5755717720143613,0.397466784425046,0.09234390163901553,0.3041143609888794,0.5577767953858057,0.524687487621502,0.5316371626107872,0.40822947811247806,0.5403951306738508,0.4804528323078913,0.5431029346013673,0.5447750174494416,0.5617875834947557,0.5589994718032292,0.6312786755643768,0.5257565634489172,0.9768969898167595,0.5921661791281086,0.5376284832294226,0.559156089068656,0.413423683725012,0.3701780731759103,0.3416947362537259,0.45854081963864696,0.44454386978141436,0.3002391166776385,0.48734329326011167,0.19963596572925266,0.4272334984633495,0.21091713904199594,0.14765361867039561,0.4338702848296112,0.5700743753648754,0.15037769998925413,0.16105392240350808],\"type\":\"bar\",\"xaxis\":\"x3\",\"yaxis\":\"y3\"},{\"x\":[\"dusaf\",\"dusafSum\",\"dsf2\",\"dsf3\",\"dsf4\",\"dsf5\",\"dsf11\",\"dsf12\",\"dsf13\",\"dsf14\",\"siarl\",\"siarlSum\",\"siarl2\",\"siarl9\",\"siarl12\",\"aq_zone\",\"clim_zone\",\"soil\",\"soilSum\",\"soil1\",\"soil2\",\"soil4\",\"soil5\",\"soil6\",\"soil7\",\"soil8\",\"soil9\",\"soil_text\",\"soilTextSum\",\"soil_text1\",\"soil_text2\",\"soil_text3\",\"soil_text4\",\"soil_text5\",\"soil_text6\",\"soil_text7\",\"soil_text8\",\"soil_text9\",\"soil_text10\",\"pop\",\"int_prim\",\"int_prim_sec\",\"int_sec\",\"highway\",\"prim_road\",\"sec_road\",\"farms\",\"farm_pigs\",\"farm_poultry\",\"farm_sheep\",\"ndvi\",\"temp_2m\",\"prec\",\"press\",\"n_wind\",\"e_wind\",\"soil_moist\",\"no2_s5p\",\"so2_s5p\",\"aod_055\",\"aod_047\",\"uvai\",\"co_s5p\",\"ch2o_s5p\",\"o3_s5p\",\"ch4_s5p\",\"nh3_cams\",\"no_cams\",\"co_cams\",\"dust_cams\",\"pm10_cams\",\"no2_cams\",\"nmvocs_cams\",\"so2_cams\",\"o3_cams\",\"co_int\",\"nh3_int\",\"no2_int\",\"nox_int\",\"o3_int\",\"pm10_int\",\"pm25_int\",\"so2_int\",\"air_hum_int\",\"prec_int\",\"rad_glob_int\",\"temp_int\",\"wind_dir_int\",\"wind_speed_int\"],\"y\":[0.214868962520806,0.42205474659639364,0.442438857057409,0.0556354046097397,0.44580553782040966,0.376374162121054,0.4892897225863348,0.5228218863495037,0.4753502482927556,0.4775410669517939,0.4199568957560423,0.42800285414136835,0.5116756136682273,0.5702194032949806,0.4459147127973422,0.18864067010842261,0.5494812300015474,0.32900494194602775,0.3815875043250087,0.34251979470816984,0.35527205117712274,0.376646752746268,0.3926373901205623,0.3550963841333097,0.3672377051686206,0.4326574594152319,0.22097434843240568,0.3334944060988786,0.36587562539245383,0.3493222314739389,0.3750547848494345,0.4052289536093823,0.48006427646542094,0.4506217085550306,0.40240276780392764,0.4458619437324464,0.3208171554265834,0.20267669784089914,0.36824761618558705,0.47783661023117235,0.5107306763576107,0.5168918316209324,0.5168879183291074,0.4648453731778591,0.48023561802814557,0.5159676968982682,0.5605332457111315,0.47781912353235445,0.5105896568763402,0.37873451686380244,0.2716654402390806,0.5960109664880232,0.13719447499974116,0.6022450785268286,0.22709855124167394,0.12721951493408662,0.25039333314523754,0.5697703324591494,0.5048315653653539,0.5024164768773716,0.4899842388273577,0.6089834622344934,0.5181887924608827,0.568742462127822,0.5739872343266994,0.6076967348723515,0.5717620504564861,0.6273726838195748,0.33133219045381285,0.9867133980734776,0.6023182008258157,0.5674836024170632,0.5810250885235888,0.4237799003213648,0.4525849747609268,0.4443244097349196,0.4921158208977702,0.47748453381540895,0.3976773369907346,0.5874526698987929,0.41036893821571685,0.49902192306051385,0.15291786496124868,0.18175723692235352,0.5236443344551457,0.5927454429991609,0.2096140166582406,0.3254019323026613],\"type\":\"bar\",\"xaxis\":\"x4\",\"yaxis\":\"y4\"},{\"x\":[\"dusaf\",\"dusafSum\",\"dsf2\",\"dsf3\",\"dsf4\",\"dsf5\",\"dsf11\",\"dsf12\",\"dsf13\",\"dsf14\",\"siarl\",\"siarlSum\",\"siarl2\",\"siarl9\",\"siarl12\",\"aq_zone\",\"clim_zone\",\"soil\",\"soilSum\",\"soil1\",\"soil2\",\"soil4\",\"soil5\",\"soil6\",\"soil7\",\"soil8\",\"soil9\",\"soil_text\",\"soilTextSum\",\"soil_text1\",\"soil_text2\",\"soil_text3\",\"soil_text4\",\"soil_text5\",\"soil_text6\",\"soil_text7\",\"soil_text8\",\"soil_text9\",\"soil_text10\",\"pop\",\"int_prim\",\"int_prim_sec\",\"int_sec\",\"highway\",\"prim_road\",\"sec_road\",\"farms\",\"farm_pigs\",\"farm_poultry\",\"farm_sheep\",\"ndvi\",\"temp_2m\",\"prec\",\"press\",\"n_wind\",\"e_wind\",\"soil_moist\",\"no2_s5p\",\"so2_s5p\",\"aod_055\",\"aod_047\",\"uvai\",\"co_s5p\",\"ch2o_s5p\",\"o3_s5p\",\"ch4_s5p\",\"nh3_cams\",\"no_cams\",\"co_cams\",\"dust_cams\",\"pm10_cams\",\"no2_cams\",\"nmvocs_cams\",\"so2_cams\",\"o3_cams\",\"co_int\",\"nh3_int\",\"no2_int\",\"nox_int\",\"o3_int\",\"pm10_int\",\"pm25_int\",\"so2_int\",\"air_hum_int\",\"prec_int\",\"rad_glob_int\",\"temp_int\",\"wind_dir_int\",\"wind_speed_int\"],\"y\":[0.12519114743736773,0.3331139014444644,0.4153645601203225,0.05097848671169257,0.3296025641851163,0.2977598801135333,0.38823233390079936,0.45182833665485056,0.3929411354830902,0.4058256368599406,0.3168746512153368,0.37589464810134865,0.414841128251006,0.4685904686361243,0.29127963349422875,0.09387724140651857,0.46124664662673615,0.2423807730182109,0.2998947776350604,0.2696490128485376,0.2642205556530962,0.2629800787232802,0.26784935362598866,0.25699837907003376,0.25115267697436683,0.34901358218476447,0.07763482302602709,0.22586472781524486,0.2693619990904994,0.2624966647880361,0.26976871479364145,0.34929389724357307,0.3701985981159514,0.35431666623856933,0.31029891330585974,0.3016093088297067,0.2186901779748856,0.11269397747440577,0.2629070659536061,0.3966465464664574,0.44112181208345325,0.4211651174372567,0.44238264316005044,0.3715726565408814,0.3865418096264524,0.43615273460547094,0.4694247391278807,0.4129267786347623,0.43691747632911176,0.31563226559427665,0.37748197145544526,0.46838928047781503,0.19260599057211408,0.5029627195256854,0.37454557971595176,0.1629365824351689,0.26961609559646554,0.45857240804467103,0.4612948903841714,0.46320531108251356,0.1171942417874156,0.5039875694499067,0.39368987164743624,0.41208582684160416,0.4364180988355181,0.4911120723569717,0.47575721548446326,0.5671927585281843,0.3870300321504604,1.0,0.4949441287504816,0.5172807764136402,0.4981069555873498,0.0477589847956118,0.24229211006026338,0.39861646784828014,0.38643516744674894,0.3873130444882308,0.10557351825038912,0.500746480232063,0.3717652066964332,0.44275201829918587,0.35294989955698375,0.258077556562103,0.1841925402613355,0.49266345169227704,0.0715475134237594,0.10903753275420966],\"type\":\"bar\",\"xaxis\":\"x5\",\"yaxis\":\"y5\"}],                        {\"template\":{\"data\":{\"bar\":[{\"error_x\":{\"color\":\"#2a3f5f\"},\"error_y\":{\"color\":\"#2a3f5f\"},\"marker\":{\"line\":{\"color\":\"#E5ECF6\",\"width\":0.5},\"pattern\":{\"fillmode\":\"overlay\",\"size\":10,\"solidity\":0.2}},\"type\":\"bar\"}],\"barpolar\":[{\"marker\":{\"line\":{\"color\":\"#E5ECF6\",\"width\":0.5},\"pattern\":{\"fillmode\":\"overlay\",\"size\":10,\"solidity\":0.2}},\"type\":\"barpolar\"}],\"carpet\":[{\"aaxis\":{\"endlinecolor\":\"#2a3f5f\",\"gridcolor\":\"white\",\"linecolor\":\"white\",\"minorgridcolor\":\"white\",\"startlinecolor\":\"#2a3f5f\"},\"baxis\":{\"endlinecolor\":\"#2a3f5f\",\"gridcolor\":\"white\",\"linecolor\":\"white\",\"minorgridcolor\":\"white\",\"startlinecolor\":\"#2a3f5f\"},\"type\":\"carpet\"}],\"choropleth\":[{\"colorbar\":{\"outlinewidth\":0,\"ticks\":\"\"},\"type\":\"choropleth\"}],\"contour\":[{\"colorbar\":{\"outlinewidth\":0,\"ticks\":\"\"},\"colorscale\":[[0.0,\"#0d0887\"],[0.1111111111111111,\"#46039f\"],[0.2222222222222222,\"#7201a8\"],[0.3333333333333333,\"#9c179e\"],[0.4444444444444444,\"#bd3786\"],[0.5555555555555556,\"#d8576b\"],[0.6666666666666666,\"#ed7953\"],[0.7777777777777778,\"#fb9f3a\"],[0.8888888888888888,\"#fdca26\"],[1.0,\"#f0f921\"]],\"type\":\"contour\"}],\"contourcarpet\":[{\"colorbar\":{\"outlinewidth\":0,\"ticks\":\"\"},\"type\":\"contourcarpet\"}],\"heatmap\":[{\"colorbar\":{\"outlinewidth\":0,\"ticks\":\"\"},\"colorscale\":[[0.0,\"#0d0887\"],[0.1111111111111111,\"#46039f\"],[0.2222222222222222,\"#7201a8\"],[0.3333333333333333,\"#9c179e\"],[0.4444444444444444,\"#bd3786\"],[0.5555555555555556,\"#d8576b\"],[0.6666666666666666,\"#ed7953\"],[0.7777777777777778,\"#fb9f3a\"],[0.8888888888888888,\"#fdca26\"],[1.0,\"#f0f921\"]],\"type\":\"heatmap\"}],\"heatmapgl\":[{\"colorbar\":{\"outlinewidth\":0,\"ticks\":\"\"},\"colorscale\":[[0.0,\"#0d0887\"],[0.1111111111111111,\"#46039f\"],[0.2222222222222222,\"#7201a8\"],[0.3333333333333333,\"#9c179e\"],[0.4444444444444444,\"#bd3786\"],[0.5555555555555556,\"#d8576b\"],[0.6666666666666666,\"#ed7953\"],[0.7777777777777778,\"#fb9f3a\"],[0.8888888888888888,\"#fdca26\"],[1.0,\"#f0f921\"]],\"type\":\"heatmapgl\"}],\"histogram\":[{\"marker\":{\"pattern\":{\"fillmode\":\"overlay\",\"size\":10,\"solidity\":0.2}},\"type\":\"histogram\"}],\"histogram2d\":[{\"colorbar\":{\"outlinewidth\":0,\"ticks\":\"\"},\"colorscale\":[[0.0,\"#0d0887\"],[0.1111111111111111,\"#46039f\"],[0.2222222222222222,\"#7201a8\"],[0.3333333333333333,\"#9c179e\"],[0.4444444444444444,\"#bd3786\"],[0.5555555555555556,\"#d8576b\"],[0.6666666666666666,\"#ed7953\"],[0.7777777777777778,\"#fb9f3a\"],[0.8888888888888888,\"#fdca26\"],[1.0,\"#f0f921\"]],\"type\":\"histogram2d\"}],\"histogram2dcontour\":[{\"colorbar\":{\"outlinewidth\":0,\"ticks\":\"\"},\"colorscale\":[[0.0,\"#0d0887\"],[0.1111111111111111,\"#46039f\"],[0.2222222222222222,\"#7201a8\"],[0.3333333333333333,\"#9c179e\"],[0.4444444444444444,\"#bd3786\"],[0.5555555555555556,\"#d8576b\"],[0.6666666666666666,\"#ed7953\"],[0.7777777777777778,\"#fb9f3a\"],[0.8888888888888888,\"#fdca26\"],[1.0,\"#f0f921\"]],\"type\":\"histogram2dcontour\"}],\"mesh3d\":[{\"colorbar\":{\"outlinewidth\":0,\"ticks\":\"\"},\"type\":\"mesh3d\"}],\"parcoords\":[{\"line\":{\"colorbar\":{\"outlinewidth\":0,\"ticks\":\"\"}},\"type\":\"parcoords\"}],\"pie\":[{\"automargin\":true,\"type\":\"pie\"}],\"scatter\":[{\"marker\":{\"colorbar\":{\"outlinewidth\":0,\"ticks\":\"\"}},\"type\":\"scatter\"}],\"scatter3d\":[{\"line\":{\"colorbar\":{\"outlinewidth\":0,\"ticks\":\"\"}},\"marker\":{\"colorbar\":{\"outlinewidth\":0,\"ticks\":\"\"}},\"type\":\"scatter3d\"}],\"scattercarpet\":[{\"marker\":{\"colorbar\":{\"outlinewidth\":0,\"ticks\":\"\"}},\"type\":\"scattercarpet\"}],\"scattergeo\":[{\"marker\":{\"colorbar\":{\"outlinewidth\":0,\"ticks\":\"\"}},\"type\":\"scattergeo\"}],\"scattergl\":[{\"marker\":{\"colorbar\":{\"outlinewidth\":0,\"ticks\":\"\"}},\"type\":\"scattergl\"}],\"scattermapbox\":[{\"marker\":{\"colorbar\":{\"outlinewidth\":0,\"ticks\":\"\"}},\"type\":\"scattermapbox\"}],\"scatterpolar\":[{\"marker\":{\"colorbar\":{\"outlinewidth\":0,\"ticks\":\"\"}},\"type\":\"scatterpolar\"}],\"scatterpolargl\":[{\"marker\":{\"colorbar\":{\"outlinewidth\":0,\"ticks\":\"\"}},\"type\":\"scatterpolargl\"}],\"scatterternary\":[{\"marker\":{\"colorbar\":{\"outlinewidth\":0,\"ticks\":\"\"}},\"type\":\"scatterternary\"}],\"surface\":[{\"colorbar\":{\"outlinewidth\":0,\"ticks\":\"\"},\"colorscale\":[[0.0,\"#0d0887\"],[0.1111111111111111,\"#46039f\"],[0.2222222222222222,\"#7201a8\"],[0.3333333333333333,\"#9c179e\"],[0.4444444444444444,\"#bd3786\"],[0.5555555555555556,\"#d8576b\"],[0.6666666666666666,\"#ed7953\"],[0.7777777777777778,\"#fb9f3a\"],[0.8888888888888888,\"#fdca26\"],[1.0,\"#f0f921\"]],\"type\":\"surface\"}],\"table\":[{\"cells\":{\"fill\":{\"color\":\"#EBF0F8\"},\"line\":{\"color\":\"white\"}},\"header\":{\"fill\":{\"color\":\"#C8D4E3\"},\"line\":{\"color\":\"white\"}},\"type\":\"table\"}]},\"layout\":{\"annotationdefaults\":{\"arrowcolor\":\"#2a3f5f\",\"arrowhead\":0,\"arrowwidth\":1},\"autotypenumbers\":\"strict\",\"coloraxis\":{\"colorbar\":{\"outlinewidth\":0,\"ticks\":\"\"}},\"colorscale\":{\"diverging\":[[0,\"#8e0152\"],[0.1,\"#c51b7d\"],[0.2,\"#de77ae\"],[0.3,\"#f1b6da\"],[0.4,\"#fde0ef\"],[0.5,\"#f7f7f7\"],[0.6,\"#e6f5d0\"],[0.7,\"#b8e186\"],[0.8,\"#7fbc41\"],[0.9,\"#4d9221\"],[1,\"#276419\"]],\"sequential\":[[0.0,\"#0d0887\"],[0.1111111111111111,\"#46039f\"],[0.2222222222222222,\"#7201a8\"],[0.3333333333333333,\"#9c179e\"],[0.4444444444444444,\"#bd3786\"],[0.5555555555555556,\"#d8576b\"],[0.6666666666666666,\"#ed7953\"],[0.7777777777777778,\"#fb9f3a\"],[0.8888888888888888,\"#fdca26\"],[1.0,\"#f0f921\"]],\"sequentialminus\":[[0.0,\"#0d0887\"],[0.1111111111111111,\"#46039f\"],[0.2222222222222222,\"#7201a8\"],[0.3333333333333333,\"#9c179e\"],[0.4444444444444444,\"#bd3786\"],[0.5555555555555556,\"#d8576b\"],[0.6666666666666666,\"#ed7953\"],[0.7777777777777778,\"#fb9f3a\"],[0.8888888888888888,\"#fdca26\"],[1.0,\"#f0f921\"]]},\"colorway\":[\"#636efa\",\"#EF553B\",\"#00cc96\",\"#ab63fa\",\"#FFA15A\",\"#19d3f3\",\"#FF6692\",\"#B6E880\",\"#FF97FF\",\"#FECB52\"],\"font\":{\"color\":\"#2a3f5f\"},\"geo\":{\"bgcolor\":\"white\",\"lakecolor\":\"white\",\"landcolor\":\"#E5ECF6\",\"showlakes\":true,\"showland\":true,\"subunitcolor\":\"white\"},\"hoverlabel\":{\"align\":\"left\"},\"hovermode\":\"closest\",\"mapbox\":{\"style\":\"light\"},\"paper_bgcolor\":\"white\",\"plot_bgcolor\":\"#E5ECF6\",\"polar\":{\"angularaxis\":{\"gridcolor\":\"white\",\"linecolor\":\"white\",\"ticks\":\"\"},\"bgcolor\":\"#E5ECF6\",\"radialaxis\":{\"gridcolor\":\"white\",\"linecolor\":\"white\",\"ticks\":\"\"}},\"scene\":{\"xaxis\":{\"backgroundcolor\":\"#E5ECF6\",\"gridcolor\":\"white\",\"gridwidth\":2,\"linecolor\":\"white\",\"showbackground\":true,\"ticks\":\"\",\"zerolinecolor\":\"white\"},\"yaxis\":{\"backgroundcolor\":\"#E5ECF6\",\"gridcolor\":\"white\",\"gridwidth\":2,\"linecolor\":\"white\",\"showbackground\":true,\"ticks\":\"\",\"zerolinecolor\":\"white\"},\"zaxis\":{\"backgroundcolor\":\"#E5ECF6\",\"gridcolor\":\"white\",\"gridwidth\":2,\"linecolor\":\"white\",\"showbackground\":true,\"ticks\":\"\",\"zerolinecolor\":\"white\"}},\"shapedefaults\":{\"line\":{\"color\":\"#2a3f5f\"}},\"ternary\":{\"aaxis\":{\"gridcolor\":\"white\",\"linecolor\":\"white\",\"ticks\":\"\"},\"baxis\":{\"gridcolor\":\"white\",\"linecolor\":\"white\",\"ticks\":\"\"},\"bgcolor\":\"#E5ECF6\",\"caxis\":{\"gridcolor\":\"white\",\"linecolor\":\"white\",\"ticks\":\"\"}},\"title\":{\"x\":0.05},\"xaxis\":{\"automargin\":true,\"gridcolor\":\"white\",\"linecolor\":\"white\",\"ticks\":\"\",\"title\":{\"standoff\":15},\"zerolinecolor\":\"white\",\"zerolinewidth\":2},\"yaxis\":{\"automargin\":true,\"gridcolor\":\"white\",\"linecolor\":\"white\",\"ticks\":\"\",\"title\":{\"standoff\":15},\"zerolinecolor\":\"white\",\"zerolinewidth\":2}}},\"xaxis\":{\"anchor\":\"y\",\"domain\":[0.0,0.45],\"type\":\"category\"},\"yaxis\":{\"anchor\":\"x\",\"domain\":[0.7777777777777778,1.0]},\"xaxis2\":{\"anchor\":\"y2\",\"domain\":[0.55,1.0],\"type\":\"category\"},\"yaxis2\":{\"anchor\":\"x2\",\"domain\":[0.7777777777777778,1.0]},\"xaxis3\":{\"anchor\":\"y3\",\"domain\":[0.0,0.45],\"type\":\"category\"},\"yaxis3\":{\"anchor\":\"x3\",\"domain\":[0.3888888888888889,0.6111111111111112]},\"xaxis4\":{\"anchor\":\"y4\",\"domain\":[0.55,1.0],\"type\":\"category\"},\"yaxis4\":{\"anchor\":\"x4\",\"domain\":[0.3888888888888889,0.6111111111111112]},\"xaxis5\":{\"anchor\":\"y5\",\"domain\":[0.0,0.45],\"type\":\"category\"},\"yaxis5\":{\"anchor\":\"x5\",\"domain\":[0.0,0.22222222222222224]},\"xaxis6\":{\"anchor\":\"y6\",\"domain\":[0.55,1.0]},\"yaxis6\":{\"anchor\":\"x6\",\"domain\":[0.0,0.22222222222222224]},\"annotations\":[{\"font\":{\"size\":16},\"showarrow\":false,\"text\":\"grid_cams_1017_1023_2021.gpkg\",\"x\":0.225,\"xanchor\":\"center\",\"xref\":\"paper\",\"y\":1.0,\"yanchor\":\"bottom\",\"yref\":\"paper\"},{\"font\":{\"size\":16},\"showarrow\":false,\"text\":\"grid_cams_0324_0331_2021.gpkg\",\"x\":0.775,\"xanchor\":\"center\",\"xref\":\"paper\",\"y\":1.0,\"yanchor\":\"bottom\",\"yref\":\"paper\"},{\"font\":{\"size\":16},\"showarrow\":false,\"text\":\"grid_cams_0717_0724_2021.gpkg\",\"x\":0.225,\"xanchor\":\"center\",\"xref\":\"paper\",\"y\":0.6111111111111112,\"yanchor\":\"bottom\",\"yref\":\"paper\"},{\"font\":{\"size\":16},\"showarrow\":false,\"text\":\"grid_cams_0903_0910_2021.gpkg\",\"x\":0.775,\"xanchor\":\"center\",\"xref\":\"paper\",\"y\":0.6111111111111112,\"yanchor\":\"bottom\",\"yref\":\"paper\"},{\"font\":{\"size\":16},\"showarrow\":false,\"text\":\"grid_cams_0418_0425_2021.gpkg\",\"x\":0.225,\"xanchor\":\"center\",\"xref\":\"paper\",\"y\":0.22222222222222224,\"yanchor\":\"bottom\",\"yref\":\"paper\"}],\"title\":{\"text\":\"Average Scores\"},\"height\":1000,\"showlegend\":false,\"autosize\":true},                        {\"responsive\": true}                    ).then(function(){\n",
       "                            \n",
       "var gd = document.getElementById('a0a402e0-d4d4-4352-8a57-0aab13918023');\n",
       "var x = new MutationObserver(function (mutations, observer) {{\n",
       "        var display = window.getComputedStyle(gd).display;\n",
       "        if (!display || display === 'none') {{\n",
       "            console.log([gd, 'removed!']);\n",
       "            Plotly.purge(gd);\n",
       "            observer.disconnect();\n",
       "        }}\n",
       "}});\n",
       "\n",
       "// Listen for the removal of the full notebook cells\n",
       "var notebookContainer = gd.closest('#notebook-container');\n",
       "if (notebookContainer) {{\n",
       "    x.observe(notebookContainer, {childList: true});\n",
       "}}\n",
       "\n",
       "// Listen for the clearing of the current output cell\n",
       "var outputEl = gd.closest('.output');\n",
       "if (outputEl) {{\n",
       "    x.observe(outputEl, {childList: true});\n",
       "}}\n",
       "\n",
       "                        })                };                });            </script>        </div>"
      ]
     },
     "metadata": {},
     "output_type": "display_data"
    }
   ],
   "source": [
    "from scipy.linalg import LinAlgWarning\n",
    "\n",
    "warnings.filterwarnings(action='ignore', category=LinAlgWarning, module='mgwr')\n",
    "\n",
    "bandwidths = []\n",
    "\n",
    "for index in range(0,len(dataframes_results)):\n",
    "    X = grid_data[index].loc[:, grid_data[index].columns != target_variable.value]\n",
    "    coords = list(zip(X['lat_cen'], X['lng_cen']))\n",
    "    X.pop('lat_cen')\n",
    "    X.pop('lng_cen')\n",
    "    Y = grid_data[index][target_variable.value]\n",
    "\n",
    "    res = m.mgwr_beta(grid_data[index], target_variable.value, 1, geopackages[index])\n",
    "    list(dataframes_results.values())[index]['MGWR Median Betas'] = m.NormalizeData(res['Betas Median'])\n",
    "    bandwidths.append(res['Bandwidthds'])\n",
    "    \n",
    "    x = list(dataframes_results.values())[index].loc[:, list(dataframes_results.values())[index].columns != 'Features'].values #returns a numpy array\n",
    "    min_max_scaler = preprocessing.MinMaxScaler()\n",
    "    x_scaled = min_max_scaler.fit_transform(x)\n",
    "    temp = pd.DataFrame(x_scaled)\n",
    "    mean_results = temp.mean(axis=1)\n",
    "    list(dataframes_results.values())[index]['Average Scores'] = mean_results\n",
    "\n",
    "# MGWR Bandwidths bar plots\n",
    "m.show_bars(list(dataframes_results.values())[0]['Features'], bandwidths, 'MGWR Bandwidths', geopackages)\n",
    "\n",
    "res = []\n",
    "for grid in geopackages:\n",
    "        temp = (dataframes_results[grid])['MGWR Median Betas']\n",
    "        temp = m.NormalizeData1D(temp)\n",
    "        res.append(temp)\n",
    "\n",
    "# MGWR Median(Betas) bar plots\n",
    "m.show_bars(list(dataframes_results.values())[0]['Features'], res, 'MGWR Median Betas', geopackages)\n",
    "\n",
    "\n",
    "res = []\n",
    "for grid in geopackages:\n",
    "        temp = (dataframes_results[grid])['Average Scores']\n",
    "        res.append(temp)\n",
    "\n",
    "# Average scores bar plots (including mgwr results)\n",
    "m.show_bars(list(dataframes_results.values())[0]['Features'], res, 'Average Scores', geopackages)"
   ]
  },
  {
   "cell_type": "markdown",
   "id": "786f67fb",
   "metadata": {},
   "source": [
    "### Variance Threshold"
   ]
  },
  {
   "cell_type": "code",
   "execution_count": 5,
   "id": "b468c706",
   "metadata": {},
   "outputs": [
    {
     "ename": "NameError",
     "evalue": "name 'X_notStand' is not defined",
     "output_type": "error",
     "traceback": [
      "\u001B[0;31m---------------------------------------------------------------------------\u001B[0m",
      "\u001B[0;31mNameError\u001B[0m                                 Traceback (most recent call last)",
      "\u001B[0;32m/var/folders/zm/5fkjvb8s35b6fv30t5jrmgx00000gn/T/ipykernel_58322/2933206061.py\u001B[0m in \u001B[0;36m<module>\u001B[0;34m\u001B[0m\n\u001B[1;32m      5\u001B[0m     \u001B[0mX\u001B[0m\u001B[0;34m.\u001B[0m\u001B[0mpop\u001B[0m\u001B[0;34m(\u001B[0m\u001B[0;34m'lng_cen'\u001B[0m\u001B[0;34m)\u001B[0m\u001B[0;34m\u001B[0m\u001B[0;34m\u001B[0m\u001B[0m\n\u001B[1;32m      6\u001B[0m     \u001B[0mY\u001B[0m \u001B[0;34m=\u001B[0m \u001B[0mgrid_data\u001B[0m\u001B[0;34m[\u001B[0m\u001B[0mindex\u001B[0m\u001B[0;34m]\u001B[0m\u001B[0;34m[\u001B[0m\u001B[0mtarget_variable\u001B[0m\u001B[0;34m.\u001B[0m\u001B[0mvalue\u001B[0m\u001B[0;34m]\u001B[0m\u001B[0;34m\u001B[0m\u001B[0;34m\u001B[0m\u001B[0m\n\u001B[0;32m----> 7\u001B[0;31m     \u001B[0mm\u001B[0m\u001B[0;34m.\u001B[0m\u001B[0mvariance_threshold\u001B[0m\u001B[0;34m(\u001B[0m\u001B[0mX_notStand\u001B[0m\u001B[0;34m,\u001B[0m \u001B[0;36m0.1\u001B[0m\u001B[0;34m)\u001B[0m  \u001B[0;31m# 0.1 Th value\u001B[0m\u001B[0;34m\u001B[0m\u001B[0;34m\u001B[0m\u001B[0m\n\u001B[0m",
      "\u001B[0;31mNameError\u001B[0m: name 'X_notStand' is not defined"
     ]
    }
   ],
   "source": [
    "for index in range(0,len(dataframes_results)):\n",
    "    X = grid_data[index].loc[:, grid_data[index].columns != target_variable.value]\n",
    "    coords = list(zip(X['lat_cen'], X['lng_cen']))\n",
    "    X.pop('lat_cen')\n",
    "    X.pop('lng_cen')\n",
    "    Y = grid_data[index][target_variable.value]\n",
    "    m.variance_threshold(X, 0.1)  # 0.1 Th value"
   ]
  },
  {
   "cell_type": "markdown",
   "id": "526bc6f4",
   "metadata": {},
   "source": [
    "### Exhaustive feature selection"
   ]
  },
  {
   "cell_type": "code",
   "execution_count": null,
   "id": "c3a00d47",
   "metadata": {},
   "outputs": [],
   "source": [
    "for index in range(0,len(dataframes_results)):\n",
    "    X = grid_data[index].loc[:, grid_data[index].columns != target_variable.value]\n",
    "    coords = list(zip(X['lat_cen'], X['lng_cen']))\n",
    "    X.pop('lat_cen')\n",
    "    X.pop('lng_cen')\n",
    "    Y = grid_data[index][target_variable.value]\n",
    "    m.exhaustive_feature_selection(X, Y)"
   ]
  },
  {
   "cell_type": "markdown",
   "id": "42d9a91b",
   "metadata": {},
   "source": [
    "### Recursive feature selection"
   ]
  },
  {
   "cell_type": "code",
   "execution_count": null,
   "id": "ba32fc9a",
   "metadata": {},
   "outputs": [],
   "source": [
    "for index in range(0,len(dataframes_results)):\n",
    "    X = grid_data[index].loc[:, grid_data[index].columns != target_variable.value]\n",
    "    coords = list(zip(X['lat_cen'], X['lng_cen']))\n",
    "    X.pop('lat_cen')\n",
    "    X.pop('lng_cen')\n",
    "    Y = grid_data[index][target_variable.value]\n",
    "    m.recursive_feature_selection(X, Y.astype(int), 10) # 10 = number of features"
   ]
  }
 ],
 "metadata": {
  "kernelspec": {
   "display_name": "Python 3 (ipykernel)",
   "language": "python",
   "name": "python3"
  },
  "language_info": {
   "codemirror_mode": {
    "name": "ipython",
    "version": 3
   },
   "file_extension": ".py",
   "mimetype": "text/x-python",
   "name": "python",
   "nbconvert_exporter": "python",
   "pygments_lexer": "ipython3",
   "version": "3.8.8"
  }
 },
 "nbformat": 4,
 "nbformat_minor": 5
}