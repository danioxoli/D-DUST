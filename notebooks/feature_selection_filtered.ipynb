{
 "cells": [
  {
   "cell_type": "markdown",
   "metadata": {
    "extensions": {
     "jupyter_dashboards": {
      "version": 1,
      "views": {
       "grid_default": {},
       "report_default": {}
      }
     }
    },
    "pycharm": {
     "name": "#%% Preprocessing of data\n"
    }
   },
   "source": [
    "# PreProcessing: Feature Selection\n",
    "\n",
    "Feature Selection is an important step in data pre-processing. It consists in selecting the best subset of input variable as the most pertinent. Discarding irrelevant data is essential before applying Machine Learning algorithm in order to:\n",
    "* *Reduce Overfitting*: less opportunity to make decisions based on noise;\n",
    "* *Improve Accuracy*: less misleading data means modelling accuracy improves. Predictions can be greatly distorted by redundant attributes. \n",
    "* *Reduce Training Time*: With less data the algorithms will train faster;\n"
   ]
  },
  {
   "cell_type": "markdown",
   "metadata": {
    "extensions": {
     "jupyter_dashboards": {
      "version": 1,
      "views": {
       "grid_default": {},
       "report_default": {}
      }
     }
    }
   },
   "source": [
    "### Configuration Notebook\n",
    "Before running the notebook, check these parameter value in order to configure dataset and method option. In particular, we have:\n",
    "- **DATA_STANDARDIZED**: If *True* data will be standarized before feature selection;\n",
    "- **RESULTS_NORMALIZED**: If *True* results of feature selection will be normalized between (0,1);\n",
    "- **TARGET_VARIABLE**: It's the target variable used for regression analysis.\n",
    "- **NUMBER_OF_FEATURE_RFE**: It's number of features of the best subset obtained by *recursive feature selection method*;\n",
    "- **DATASET_PATH**: path of the .gpkg file imported;\n",
    "- **TH_VALUE** Threshold value used by variance_threshold method."
   ]
  },
  {
   "cell_type": "code",
   "execution_count": 1,
   "metadata": {
    "extensions": {
     "jupyter_dashboards": {
      "version": 1,
      "views": {
       "grid_default": {},
       "report_default": {}
      }
     }
    },
    "pycharm": {
     "name": "#%%\n"
    }
   },
   "outputs": [],
   "source": [
    "DATA_STANDARDIZED = True\n",
    "RESULTS_NORMALIZED = True\n",
    "DATASET_PATH = 'grids/grid_cams_42_43_2020.gpkg'\n",
    "TARGET_VARIABLE = 'pm25_cams'\n",
    "NUMBER_OF_FEATURE_RFE = 5\n",
    "TH_VALUE=0.1"
   ]
  },
  {
   "cell_type": "markdown",
   "metadata": {
    "extensions": {
     "jupyter_dashboards": {
      "version": 1,
      "views": {
       "grid_default": {},
       "report_default": {}
      }
     }
    }
   },
   "source": [
    "### Import Libraries"
   ]
  },
  {
   "cell_type": "code",
   "execution_count": 2,
   "metadata": {
    "extensions": {
     "jupyter_dashboards": {
      "version": 1,
      "views": {
       "grid_default": {},
       "report_default": {}
      }
     }
    },
    "pycharm": {
     "name": "#%%\n"
    }
   },
   "outputs": [],
   "source": [
    "import scipy.stats as stats\n",
    "import geopandas as gpd\n",
    "import warnings\n",
    "import numpy as np\n",
    "from fs import methods as m\n",
    "import ipywidgets as widgets\n",
    "import pandas as pd\n",
    "warnings.filterwarnings(\"ignore\")\n",
    "from IPython.core.display import display\n",
    "from sklearn import preprocessing"
   ]
  },
  {
   "cell_type": "markdown",
   "metadata": {
    "extensions": {
     "jupyter_dashboards": {
      "version": 1,
      "views": {
       "grid_default": {},
       "report_default": {}
      }
     }
    }
   },
   "source": [
    "### Data import\n",
    "Data are imported from .gpkg file, splitted in **train_set** and **test_set** which are used by supervised algorithm. Otherwise with unsupervised algorithm the entire dataset will be processed."
   ]
  },
  {
   "cell_type": "code",
   "execution_count": 3,
   "metadata": {
    "extensions": {
     "jupyter_dashboards": {
      "version": 1,
      "views": {
       "grid_default": {},
       "report_default": {}
      }
     }
    },
    "pycharm": {
     "name": "#%%\n"
    }
   },
   "outputs": [],
   "source": [
    "#read gpkg file\n",
    "data = gpd.read_file(DATASET_PATH)\n",
    "#read variables which are not null\n",
    "labels = m.check_NotNull(data)\n",
    "score_results = pd.DataFrame()"
   ]
  },
  {
   "cell_type": "markdown",
   "metadata": {
    "extensions": {
     "jupyter_dashboards": {
      "version": 1,
      "views": {
       "grid_default": {},
       "report_default": {}
      }
     }
    }
   },
   "source": [
    "### Definition of dataframe used for feature selection\n"
   ]
  },
  {
   "cell_type": "code",
   "execution_count": null,
   "metadata": {
    "extensions": {
     "jupyter_dashboards": {
      "version": 1,
      "views": {
       "grid_default": {},
       "report_default": {}
      }
     }
    },
    "pycharm": {
     "is_executing": true
    }
   },
   "outputs": [],
   "source": [
    "#Store dataset in x and y variables\n",
    "X = pd.DataFrame(data=data, columns=labels )\n",
    "Y = X[[TARGET_VARIABLE]]\n",
    "Y = Y.values.ravel()\n",
    "X.pop(TARGET_VARIABLE)\n",
    "X.pop('geometry')\n",
    "X.pop('bottom')\n",
    "X.pop('top')\n",
    "X.pop('left')\n",
    "X.pop('right')\n",
    "\n",
    "#coordinates definition used for mgwr\n",
    "coords = list(zip(X['lat_cen'], X['lng_cen']))\n",
    "X.pop('lat_cen')\n",
    "X.pop('lng_cen')\n",
    "score_results['Features'] = X.columns.tolist()\n",
    "X_notStand = X\n",
    "\n",
    "if(DATA_STANDARDIZED):\n",
    "    X = X.apply(stats.zscore)"
   ]
  },
  {
   "cell_type": "markdown",
   "metadata": {
    "extensions": {
     "jupyter_dashboards": {
      "version": 1,
      "views": {
       "grid_default": {},
       "report_default": {}
      }
     }
    }
   },
   "source": [
    "Due to the fact there isn’t a best feature selection technique, many different methods are performed. The aim of this part is to discover by experimentation which one/ones work better for this specific problem.\n",
    "In this study, I choose supervised methods, which are classified into 3 groups, based on their  different approach.\n"
   ]
  },
  {
   "cell_type": "markdown",
   "metadata": {
    "extensions": {
     "jupyter_dashboards": {
      "version": 1,
      "views": {
       "grid_default": {},
       "report_default": {}
      }
     }
    }
   },
   "source": [
    "## Filter Methods\n",
    "Filter-based feature selection methods adopt statistical measures to evaluate the correlation/dependence between input variables.\n",
    "These select features from the without machine learning algorithm. In terms of computation, they are very fast and are very suitable in order to remove duplicated, correlated, redundant variables. On the contrary,  these methods do not remove multicollinearity.\n"
   ]
  },
  {
   "cell_type": "markdown",
   "metadata": {
    "extensions": {
     "jupyter_dashboards": {
      "version": 1,
      "views": {
       "grid_default": {},
       "report_default": {}
      }
     }
    }
   },
   "source": [
    "### Pearson correlation index\n",
    "It's a measure of linear correlation which stands for the ratio between the covariance of two variables and the product of their standard deviations. The algorithm evaluate the index for each feature variable."
   ]
  },
  {
   "cell_type": "code",
   "execution_count": null,
   "metadata": {
    "extensions": {
     "jupyter_dashboards": {
      "version": 1,
      "views": {
       "grid_default": {},
       "report_default": {}
      }
     }
    },
    "pycharm": {
     "name": "#%%\n",
     "is_executing": true
    }
   },
   "outputs": [],
   "source": [
    "score_results['pearson'] = m.pearson(X, Y)"
   ]
  },
  {
   "cell_type": "markdown",
   "metadata": {
    "extensions": {
     "jupyter_dashboards": {
      "version": 1,
      "views": {
       "grid_default": {},
       "report_default": {}
      }
     }
    }
   },
   "source": [
    "### Spearmanr correlation coefficient\n",
    "The Spearman correlation coefficient is a measure of the monotonicity of the relationship between two datasets.\n",
    "The algorithm evaluate the index for each feature variable.\n",
    "\n"
   ]
  },
  {
   "cell_type": "code",
   "execution_count": null,
   "metadata": {
    "extensions": {
     "jupyter_dashboards": {
      "version": 1,
      "views": {
       "grid_default": {},
       "report_default": {}
      }
     }
    },
    "pycharm": {
     "name": "#%%\n",
     "is_executing": true
    }
   },
   "outputs": [],
   "source": [
    "score_results['spearmanr'] = m.spearmanr(X, Y)"
   ]
  },
  {
   "cell_type": "markdown",
   "metadata": {
    "extensions": {
     "jupyter_dashboards": {
      "version": 1,
      "views": {
       "grid_default": {},
       "report_default": {}
      }
     }
    }
   },
   "source": [
    "### Kendall tau\n",
    "As the Spearmanr correlation coefficient, is based on the ranks of data.\n",
    "In most of the situations, the interpretations of Kendall’s tau and Spearman’s rank correlation coefficient are very similar and thus invariably lead to the same inferences.\n",
    "The algorithm evaluate the index for each feature variable.\n"
   ]
  },
  {
   "cell_type": "code",
   "execution_count": null,
   "metadata": {
    "extensions": {
     "jupyter_dashboards": {
      "version": 1,
      "views": {
       "grid_default": {},
       "report_default": {}
      }
     }
    },
    "pycharm": {
     "name": "#%%\n",
     "is_executing": true
    }
   },
   "outputs": [],
   "source": [
    "score_results['kendall'] = m.kendall(X, Y)\n"
   ]
  },
  {
   "cell_type": "markdown",
   "metadata": {
    "extensions": {
     "jupyter_dashboards": {
      "version": 1,
      "views": {
       "grid_default": {},
       "report_default": {}
      }
     }
    },
    "jp-MarkdownHeadingCollapsed": true,
    "tags": []
   },
   "source": [
    "### Chi-square test not allowed with no categorical input NO\n",
    "A chi-square test is used to test events independence. In feature selection instead, we aim to select the features which are more highly dependent. Even if is more suitable for categorical input, computation is performed by casting features values as *Int values*."
   ]
  },
  {
   "cell_type": "code",
   "execution_count": null,
   "metadata": {
    "extensions": {
     "jupyter_dashboards": {
      "version": 1,
      "views": {
       "grid_default": {},
       "report_default": {}
      }
     }
    },
    "pycharm": {
     "name": "#%%\n",
     "is_executing": true
    }
   },
   "outputs": [],
   "source": [
    "# = m.chi2_test(X, Y)\n",
    "#score_frame.append(tuple)"
   ]
  },
  {
   "cell_type": "markdown",
   "metadata": {
    "extensions": {
     "jupyter_dashboards": {
      "version": 1,
      "views": {
       "grid_default": {},
       "report_default": {}
      }
     }
    }
   },
   "source": [
    "### F-Test\n",
    "It's a statistical test used to compare model from X and Y and check if the difference is significant between them through regression. The algorithm evaluate the Fisher score for each feature variable."
   ]
  },
  {
   "cell_type": "code",
   "execution_count": null,
   "metadata": {
    "extensions": {
     "jupyter_dashboards": {
      "version": 1,
      "views": {
       "grid_default": {},
       "report_default": {}
      }
     }
    },
    "pycharm": {
     "name": "#%%\n",
     "is_executing": true
    }
   },
   "outputs": [],
   "source": [
    "score_results['fisher'] = m.f_test(X, Y)\n"
   ]
  },
  {
   "cell_type": "markdown",
   "metadata": {
    "extensions": {
     "jupyter_dashboards": {
      "version": 1,
      "views": {
       "grid_default": {},
       "report_default": {}
      }
     }
    }
   },
   "source": [
    "### Dispersion Ratio (Unsupervised) NO\n",
    "It stands for the ratio between arithmetic mean the geometric mean. This is very usefull to check dispersion on data. Higher dispersion implies a higher value of this coefficent, thus a more relevant variable."
   ]
  },
  {
   "cell_type": "code",
   "execution_count": null,
   "metadata": {
    "extensions": {
     "jupyter_dashboards": {
      "version": 1,
      "views": {
       "grid_default": {},
       "report_default": {}
      }
     }
    },
    "pycharm": {
     "name": "#%%\n",
     "is_executing": true
    }
   },
   "outputs": [],
   "source": [
    "\n",
    "#results['dispersion_ratio'] = m.compute_dispersion_ratio(preprocessing.normalize(X))"
   ]
  },
  {
   "cell_type": "markdown",
   "metadata": {
    "extensions": {
     "jupyter_dashboards": {
      "version": 1,
      "views": {
       "grid_default": {},
       "report_default": {}
      }
     }
    }
   },
   "source": [
    "### Variance Threshold \n",
    "It's an approach which aims to remove all features which variance doesn’t meet some threshold. Usually it removes all zero-variance features, so variables taht contains useless information.\n"
   ]
  },
  {
   "cell_type": "code",
   "execution_count": null,
   "metadata": {
    "extensions": {
     "jupyter_dashboards": {
      "version": 1,
      "views": {
       "grid_default": {},
       "report_default": {}
      }
     }
    },
    "pycharm": {
     "name": "#%%\n",
     "is_executing": true
    },
    "scrolled": true
   },
   "outputs": [],
   "source": [
    "score_results['variance_threshold'] = m.variance_threshold(X_notStand, TH_VALUE)"
   ]
  },
  {
   "cell_type": "markdown",
   "metadata": {
    "extensions": {
     "jupyter_dashboards": {
      "version": 1,
      "views": {
       "grid_default": {},
       "report_default": {}
      }
     }
    }
   },
   "source": [
    "## Wrapper Methods (and Embedded)\n",
    "Wrapper methods, as the name suggests, wrap a machine learning model, with different subsets of input features: In this way the subsets are  evaluated following  the best model performance.\n",
    "Embedded methods instead are characterised by the benefits of both the wrapper and filter methods, by including interactions of features but also having a reasonable computational cost.\n"
   ]
  },
  {
   "cell_type": "markdown",
   "metadata": {
    "extensions": {
     "jupyter_dashboards": {
      "version": 1,
      "views": {
       "grid_default": {},
       "report_default": {}
      }
     }
    },
    "pycharm": {
     "name": "#%%Section 2: Wrapped/Embedded methods%\n"
    }
   },
   "source": [
    "### Exhaustive feature selection for regression analysis\n",
    "This algorithm follow the exhaustive feature selection approach with brute-force evaluation of feature subsets; the best subset is selected by optimizing a specified metric given an arbitrary regressor or classifier. In this case a transformer is used to perform the Sequential Feature Selection.\n",
    "The final outputs are:\n",
    "* Accuracy for the subset choosen;\n",
    "* Indices of the choosen features;\n",
    "* Corresponding names of the features choosen;\n",
    "\n"
   ]
  },
  {
   "cell_type": "code",
   "execution_count": null,
   "metadata": {
    "extensions": {
     "jupyter_dashboards": {
      "version": 1,
      "views": {
       "grid_default": {},
       "report_default": {}
      }
     }
    },
    "pycharm": {
     "name": "#%%\n",
     "is_executing": true
    }
   },
   "outputs": [],
   "source": [
    "#m.exhaustive_feature_selection(X, Y) NO"
   ]
  },
  {
   "cell_type": "markdown",
   "metadata": {
    "extensions": {
     "jupyter_dashboards": {
      "version": 1,
      "views": {
       "grid_default": {},
       "report_default": {}
      }
     }
    }
   },
   "source": [
    "### Random Forest importance\n",
    "It uses a forest of trees to evaluate the importance of each features as outputs."
   ]
  },
  {
   "cell_type": "code",
   "execution_count": null,
   "metadata": {
    "extensions": {
     "jupyter_dashboards": {
      "version": 1,
      "views": {
       "grid_default": {},
       "report_default": {}
      }
     }
    },
    "pycharm": {
     "name": "#%%\n",
     "is_executing": true
    }
   },
   "outputs": [],
   "source": [
    "score_results['RF_importance'] = m.RF_importance(X, Y)\n"
   ]
  },
  {
   "cell_type": "markdown",
   "metadata": {
    "extensions": {
     "jupyter_dashboards": {
      "version": 1,
      "views": {
       "grid_default": {},
       "report_default": {}
      }
     }
    }
   },
   "source": [
    "### Recursive Feature Selection NO\n",
    "The goal of RFE is to select features by recursively considering smaller and smaller sets of features.\n",
    "The final output for each variable will be:\n",
    "* *Label*;\n",
    "* A *boolean expressing* whetever is selected or not;\n",
    "* *Ranking value* based on its score;"
   ]
  },
  {
   "cell_type": "code",
   "execution_count": null,
   "metadata": {
    "extensions": {
     "jupyter_dashboards": {
      "version": 1,
      "views": {
       "grid_default": {},
       "report_default": {}
      }
     }
    },
    "pycharm": {
     "name": "#%%\n",
     "is_executing": true
    },
    "scrolled": true
   },
   "outputs": [],
   "source": [
    "m.recursive_feature_selection(X, Y.astype(int), NUMBER_OF_FEATURE_RFE)"
   ]
  },
  {
   "cell_type": "markdown",
   "metadata": {
    "extensions": {
     "jupyter_dashboards": {
      "version": 1,
      "views": {
       "grid_default": {},
       "report_default": {}
      }
     }
    },
    "pycharm": {
     "name": "#%%\n"
    }
   },
   "source": [
    "## Multiscale Geographically Weighted Regression\n",
    "Due to the fact that this study is related to geographic and spatial data, each pieces of data is very sensitive to the geographic distance between them. So the use of mgwr methods could be innovative, since multivariate models are increasingly encountered in geographical research to estimate spatially varying relationships between a targets and its predictive variables.\n",
    "\n",
    "\n"
   ]
  },
  {
   "cell_type": "code",
   "execution_count": null,
   "metadata": {
    "extensions": {
     "jupyter_dashboards": {
      "version": 1,
      "views": {
       "grid_default": {},
       "report_default": {}
      }
     }
    },
    "pycharm": {
     "name": "#%% Section 3: Multiscale Geographically Weighted Regression\n",
     "is_executing": true
    }
   },
   "outputs": [],
   "source": [
    "#mgwr computation. It stores bandwidth and betas coefficients in csv file (due to store results e not to compute each time them because computation is very slow)\n",
    "m.mgwr(data, TARGET_VARIABLE, 10)\n",
    "\n",
    "#Command used to evaluate mgwr computation with FastGWR with 4 processor\n",
    "#!fastgwr run -np 10 -data 'results/params.csv' -mgwr\n",
    "\n"
   ]
  },
  {
   "cell_type": "markdown",
   "metadata": {
    "extensions": {
     "jupyter_dashboards": {
      "version": 1,
      "views": {
       "grid_default": {},
       "report_default": {}
      }
     }
    },
    "pycharm": {
     "name": "#%%\n"
    }
   },
   "source": [
    "\n",
    "## Results\n",
    "Results before are collected in a Pandas Dataframe called **score_results**. In each column are shown the score results for each method; instead, each row collect the results for each feature variable.\n",
    "* **Features**: Set of feature names (Strings);\n",
    "* **pearson**:  Pearson correlation index scores;\n",
    "* **spearmanr**: Spearmanr correlation coefficient scores;\n",
    "* **kendall**: Kendall tau scores; \n",
    "* **fisher**: F-Test scores;\n",
    "* **variance_threshold**: Variance Threshold  scores;\n",
    "* **RF_importance**: Random Forest importance scores;\n",
    "\n",
    "* **avg_scores**: scores obtained from the mean of the previous scores for each variables; this values are displayed through a bar plot."
   ]
  },
  {
   "cell_type": "code",
   "execution_count": null,
   "metadata": {
    "extensions": {
     "jupyter_dashboards": {
      "version": 1,
      "views": {
       "grid_default": {},
       "report_default": {}
      }
     }
    },
    "pycharm": {
     "name": "#%%\n",
     "is_executing": true
    }
   },
   "outputs": [],
   "source": [
    "temp = pd.DataFrame(data=score_results)\n",
    "x = temp.loc[:, temp.columns != 'Features'].values #returns a numpy array\n",
    "min_max_scaler = preprocessing.MinMaxScaler()\n",
    "x_scaled = min_max_scaler.fit_transform(x)\n",
    "temp = pd.DataFrame(x_scaled)\n",
    "\n",
    "mean_results =  temp.mean(axis=1)\n",
    "score_results['avg_scores'] = mean_results\n",
    "\n",
    "#Dropdown widgets used to choose the scores of the method selected\n",
    "choice = widgets.Dropdown(\n",
    "    options=['Pearson', 'Spearmanr', 'Kendall', 'Fisher', 'Variance TH', 'Random Forest Importance', 'Results Mean'],\n",
    "    value='Pearson',\n",
    "    description='Method:',\n",
    "    disabled=False,\n",
    ")\n",
    "#map of each variable name\n",
    "options = {'Pearson' : 'pearson',\n",
    "           'Spearmanr' : 'spearmanr',\n",
    "           'Kendall' : 'kendall',\n",
    "           'Fisher' : 'fisher',\n",
    "           'Variance TH' : 'variance_threshold',\n",
    "           'Random Forest Importance' : 'RF_importance',\n",
    "           'Results Mean' : 'avg_scores'\n",
    "           }\n",
    "\n",
    "#Checkbox used to whether nornalize scores or not\n",
    "norm = widgets.Checkbox(\n",
    "    value=True,\n",
    "    description='Results normalized',\n",
    "    disabled=False,\n",
    "    indent=True\n",
    ")\n",
    "\n",
    "#Radiobutton used to display data in regular or logaritmic scale\n",
    "scale = widgets.RadioButtons(\n",
    "    options=['Regular', 'Logaritmic'],\n",
    "    description='Scale:',\n",
    "    disabled=False,\n",
    ")\n",
    "\n",
    "#Radiobutton used to display data ordered by score or by labels\n",
    "order = widgets.RadioButtons(\n",
    "    options=['Labels', 'Scores'],\n",
    "    description='Order by:',\n",
    "    disabled=False\n",
    ")\n",
    "\n",
    "#It manage each widgets\n",
    "def barPlot_manager(change_scale, change_order, method, normalized):\n",
    "    res = score_results[[\"Features\", options[method]]]\n",
    "    res.rename(columns = {options[method]:'Scores'}, inplace = True)\n",
    "    df = pd.DataFrame(data=res)\n",
    "    if (change_scale == 'Logaritmic'):\n",
    "        if (change_order == 'Scores'):\n",
    "            df = df.sort_values(by='Scores', ascending=False)\n",
    "            if normalized:\n",
    "                m.show_bar_log(df['Features'], m.NormalizeData1D(df['Scores']), method)\n",
    "            else:\n",
    "                m.show_bar_log(df['Features'], df['Scores'], method)\n",
    "            return\n",
    "        else:\n",
    "            if normalized:\n",
    "                m.show_bar_log(df['Features'], m.NormalizeData1D(df['Scores']), method)\n",
    "            else:\n",
    "                m.show_bar_log(df['Features'], df['Scores'], method)\n",
    "            return\n",
    "    else:\n",
    "        if (change_order == 'Scores'):\n",
    "            df = df.sort_values(by='Scores', ascending=False)\n",
    "            if normalized:\n",
    "                m.show_bar(df['Features'], m.NormalizeData1D(df['Scores']), method)\n",
    "            else:\n",
    "                m.show_bar(df['Features'], df['Scores'], method)\n",
    "            return\n",
    "        else:\n",
    "            if normalized:\n",
    "                m.show_bar(df['Features'], m.NormalizeData1D(df['Scores']), method)\n",
    "            else:\n",
    "                m.show_bar(df['Features'], df['Scores'], method)\n",
    "        return\n",
    "\n",
    "\n",
    "container1 = widgets.VBox([scale, order])\n",
    "container2 = widgets.VBox([choice, norm])\n",
    "ui = widgets.HBox([container2, container1])\n",
    "out = widgets.interactive_output(barPlot_manager, {'method':choice, 'change_scale': scale, 'change_order': order, 'normalized': norm})\n",
    "display(ui, out)\n",
    "\n",
    "\n",
    "\n",
    "\n",
    "\n",
    "\n",
    "\n"
   ]
  },
  {
   "cell_type": "code",
   "execution_count": null,
   "metadata": {
    "collapsed": false,
    "jupyter": {
     "outputs_hidden": false
    },
    "pycharm": {
     "name": "#%%\n",
     "is_executing": true
    }
   },
   "outputs": [],
   "source": []
  }
 ],
 "metadata": {
  "extensions": {
   "jupyter_dashboards": {
    "activeView": "grid_default",
    "version": 1,
    "views": {
     "grid_default": {
      "cellMargin": 10,
      "defaultCellHeight": 20,
      "maxColumns": 12,
      "name": "grid",
      "type": "grid"
     },
     "report_default": {
      "name": "report",
      "type": "report"
     }
    }
   }
  },
  "kernelspec": {
   "display_name": "PyCharm (notebooks)",
   "language": "python",
   "name": "pycharm-a9067d49"
  },
  "language_info": {
   "codemirror_mode": {
    "name": "ipython",
    "version": 3
   },
   "file_extension": ".py",
   "mimetype": "text/x-python",
   "name": "python",
   "nbconvert_exporter": "python",
   "pygments_lexer": "ipython3",
   "version": "3.9.7"
  }
 },
 "nbformat": 4,
 "nbformat_minor": 4
}