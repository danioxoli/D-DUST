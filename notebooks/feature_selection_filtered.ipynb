{
 "cells": [
  {
   "cell_type": "markdown",
   "metadata": {
    "extensions": {
     "jupyter_dashboards": {
      "version": 1,
      "views": {
       "grid_default": {},
       "report_default": {}
      }
     }
    },
    "pycharm": {
     "name": "#%% Preprocessing of data\n"
    }
   },
   "source": [
    "# PreProcessing: Feature Selection\n",
    "\n",
    "Feature Selection is an important step in data pre-processing. It consists in selecting the best subset of input variable as the most pertinent. Discarding irrelevant data is essential before applying Machine Learning algorithm in order to:\n",
    "* *Reduce Overfitting*: less opportunity to make decisions based on noise;\n",
    "* *Improve Accuracy*: less misleading data means modelling accuracy improves. Predictions can be greatly distorted by redundant attributes. \n",
    "* *Reduce Training Time*: With less data the algorithms will train faster;\n"
   ]
  },
  {
   "cell_type": "markdown",
   "metadata": {
    "extensions": {
     "jupyter_dashboards": {
      "version": 1,
      "views": {
       "grid_default": {},
       "report_default": {}
      }
     }
    }
   },
   "source": [
    "### Configuration Notebook\n",
    "Before running the notebook, check these parameter value in order to configure dataset and method option. In particular, we have:\n",
    "- **DATA_NORMALIZED**: If *True* data will be normalized between (0,1) before feature selection;\n",
    "- **DATA_STANDARDIZED**: If *True* data will be standarized before feature selection;\n",
    "- **RESULTS_NORMALIZED**: If *True* results of feature selection will be normalized between (0,1);\n",
    "- **TARGET_VARIABLE**: It's the target variable used for regression analysis.\n",
    "- **NUMBER_OF_FEATURE_RFE**: It's number of features of the best subset obtained by *recursive feature selection method*;\n",
    "- **DATASET_PATH**: path of the .gpkg file imported;\n",
    "- **TH_VALUE** Threshold value used by variance_threshold method."
   ]
  },
  {
   "cell_type": "code",
   "execution_count": 1,
   "metadata": {
    "extensions": {
     "jupyter_dashboards": {
      "version": 1,
      "views": {
       "grid_default": {},
       "report_default": {}
      }
     }
    },
    "pycharm": {
     "name": "#%%\n"
    }
   },
   "outputs": [],
   "source": [
    "DATA_NORMALIZED = False\n",
    "DATA_STANDARDIZED = True\n",
    "RESULTS_NORMALIZED = True\n",
    "DATASET_PATH = 'grids/grid_cams_42_43_2020.gpkg'\n",
    "TARGET_VARIABLE = 'pm25_cams'\n",
    "NUMBER_OF_FEATURE_RFE = 5\n",
    "TH_VALUE=0.1"
   ]
  },
  {
   "cell_type": "markdown",
   "metadata": {
    "extensions": {
     "jupyter_dashboards": {
      "version": 1,
      "views": {
       "grid_default": {},
       "report_default": {}
      }
     }
    }
   },
   "source": [
    "### Import Libraries"
   ]
  },
  {
   "cell_type": "code",
   "execution_count": 2,
   "metadata": {
    "extensions": {
     "jupyter_dashboards": {
      "version": 1,
      "views": {
       "grid_default": {},
       "report_default": {}
      }
     }
    },
    "pycharm": {
     "name": "#%%\n"
    }
   },
   "outputs": [],
   "source": [
    "%matplotlib inline\n",
    "import plotly.graph_objects as go\n",
    "import scipy.stats as stats\n",
    "import geopandas as gpd\n",
    "import warnings\n",
    "from fs import methods as m\n",
    "from fs import listener as l\n",
    "import pandas as pd\n",
    "import plotly.express as px\n",
    "warnings.filterwarnings(\"ignore\")\n",
    "from __future__ import print_function\n"
   ]
  },
  {
   "cell_type": "markdown",
   "metadata": {
    "extensions": {
     "jupyter_dashboards": {
      "version": 1,
      "views": {
       "grid_default": {},
       "report_default": {}
      }
     }
    }
   },
   "source": [
    "### Data import\n",
    "Data are imported from .gpkg file, splitted in **train_set** and **test_set** which are used by supervised algorithm. Otherwise with unsupervised algorithm the entire dataset will be processed."
   ]
  },
  {
   "cell_type": "code",
   "execution_count": 3,
   "metadata": {
    "extensions": {
     "jupyter_dashboards": {
      "version": 1,
      "views": {
       "grid_default": {},
       "report_default": {}
      }
     }
    },
    "pycharm": {
     "name": "#%%\n"
    }
   },
   "outputs": [],
   "source": [
    "#read gpkg file\n",
    "data = gpd.read_file(DATASET_PATH)\n",
    "#read variables which are not null\n",
    "labels = m.noSensor_features(data.columns.tolist())\n",
    "score_results = pd.DataFrame()"
   ]
  },
  {
   "cell_type": "markdown",
   "metadata": {
    "extensions": {
     "jupyter_dashboards": {
      "version": 1,
      "views": {
       "grid_default": {},
       "report_default": {}
      }
     }
    }
   },
   "source": [
    "### Definition of dataframe used for feature selection\n"
   ]
  },
  {
   "cell_type": "code",
   "execution_count": 4,
   "metadata": {
    "extensions": {
     "jupyter_dashboards": {
      "version": 1,
      "views": {
       "grid_default": {},
       "report_default": {}
      }
     }
    }
   },
   "outputs": [],
   "source": [
    "X = m.clean_dataset_nosensor(data, labels)\n",
    "Y = X[[TARGET_VARIABLE]]\n",
    "Y = Y.values.ravel()\n",
    "X.pop(TARGET_VARIABLE)\n",
    "X.pop('bottom')\n",
    "X.pop('top')\n",
    "X.pop('left')\n",
    "X.pop('right')\n",
    "\n",
    "\n",
    "#coordinates definition used for mgwr\n",
    "coords = list(zip(X['lat_cen'], X['lng_cen']))\n",
    "X.pop('lat_cen')\n",
    "X.pop('lng_cen')\n",
    "score_results['Features'] = X.columns.tolist()\n",
    "X_notStand = X\n",
    "\n",
    "if(DATA_NORMALIZED):\n",
    "    X_notNorm= X\n",
    "    X = m.NormalizeData2D(X)\n",
    "\n",
    "if(DATA_STANDARDIZED):\n",
    "    X = X.apply(stats.zscore)"
   ]
  },
  {
   "cell_type": "markdown",
   "metadata": {
    "extensions": {
     "jupyter_dashboards": {
      "version": 1,
      "views": {
       "grid_default": {},
       "report_default": {}
      }
     }
    }
   },
   "source": [
    "Due to the fact there isn’t a best feature selection technique, many different methods are performed. The aim of this part is to discover by experimentation which one/ones work better for this specific problem.\n",
    "In this study, I choose supervised methods, which are classified into 3 groups, based on their  different approach.\n"
   ]
  },
  {
   "cell_type": "markdown",
   "metadata": {
    "extensions": {
     "jupyter_dashboards": {
      "version": 1,
      "views": {
       "grid_default": {},
       "report_default": {}
      }
     }
    }
   },
   "source": [
    "## Filter Methods\n",
    "Filter-based feature selection methods adopt statistical measures to evaluate the correlation/dependence between input variables.\n",
    "These select features from the without machine learning algorithm. In terms of computation, they are very fast and are very suitable in order to remove duplicated, correlated, redundant variables. On the contrary,  these methods do not remove multicollinearity.\n"
   ]
  },
  {
   "cell_type": "markdown",
   "metadata": {
    "extensions": {
     "jupyter_dashboards": {
      "version": 1,
      "views": {
       "grid_default": {},
       "report_default": {}
      }
     }
    }
   },
   "source": [
    "### Pearson correlation index\n",
    "It's a measure of linear correlation which stands for the ratio between the covariance of two variables and the product of their standard deviations. The algorithm evaluate the index for each feature variable."
   ]
  },
  {
   "cell_type": "code",
   "execution_count": 5,
   "metadata": {
    "extensions": {
     "jupyter_dashboards": {
      "version": 1,
      "views": {
       "grid_default": {},
       "report_default": {}
      }
     }
    },
    "pycharm": {
     "is_executing": true,
     "name": "#%%\n"
    },
    "scrolled": false
   },
   "outputs": [
    {
     "data": {
      "application/vnd.jupyter.widget-view+json": {
       "model_id": "45633ed1a87c42758638598bd6d99f3c",
       "version_major": 2,
       "version_minor": 0
      },
      "text/plain": [
       "interactive(children=(RadioButtons(description='Score scales:', options=('Regular', 'Logaritmic'), value='Regu…"
      ]
     },
     "metadata": {},
     "output_type": "display_data"
    }
   ],
   "source": [
    "score_results['pearson'] = m.pearson(X, Y, RESULTS_NORMALIZED)"
   ]
  },
  {
   "cell_type": "markdown",
   "metadata": {
    "extensions": {
     "jupyter_dashboards": {
      "version": 1,
      "views": {
       "grid_default": {},
       "report_default": {}
      }
     }
    }
   },
   "source": [
    "### Spearmanr correlation coefficient\n",
    "The Spearman correlation coefficient is a measure of the monotonicity of the relationship between two datasets.\n",
    "The algorithm evaluate the index for each feature variable.\n",
    "\n"
   ]
  },
  {
   "cell_type": "code",
   "execution_count": 6,
   "metadata": {
    "extensions": {
     "jupyter_dashboards": {
      "version": 1,
      "views": {
       "grid_default": {},
       "report_default": {}
      }
     }
    },
    "pycharm": {
     "name": "#%%\n"
    }
   },
   "outputs": [
    {
     "data": {
      "application/vnd.jupyter.widget-view+json": {
       "model_id": "cc51c6ca78ed4b5ca93e33aa795a0564",
       "version_major": 2,
       "version_minor": 0
      },
      "text/plain": [
       "interactive(children=(RadioButtons(description='Score scales:', options=('Regular', 'Logaritmic'), value='Regu…"
      ]
     },
     "metadata": {},
     "output_type": "display_data"
    }
   ],
   "source": [
    "score_results['spearmanr'] = m.spearmanr(X, Y, RESULTS_NORMALIZED)"
   ]
  },
  {
   "cell_type": "markdown",
   "metadata": {
    "extensions": {
     "jupyter_dashboards": {
      "version": 1,
      "views": {
       "grid_default": {},
       "report_default": {}
      }
     }
    }
   },
   "source": [
    "### Kendall tau\n",
    "As the Spearmanr correlation coefficient, is based on the ranks of data.\n",
    "In most of the situations, the interpretations of Kendall’s tau and Spearman’s rank correlation coefficient are very similar and thus invariably lead to the same inferences.\n",
    "The algorithm evaluate the index for each feature variable.\n"
   ]
  },
  {
   "cell_type": "code",
   "execution_count": 7,
   "metadata": {
    "extensions": {
     "jupyter_dashboards": {
      "version": 1,
      "views": {
       "grid_default": {},
       "report_default": {}
      }
     }
    },
    "pycharm": {
     "name": "#%%\n"
    }
   },
   "outputs": [
    {
     "data": {
      "application/vnd.jupyter.widget-view+json": {
       "model_id": "2c57a6ac311249299f8ef9b521623459",
       "version_major": 2,
       "version_minor": 0
      },
      "text/plain": [
       "interactive(children=(RadioButtons(description='Score scales:', options=('Regular', 'Logaritmic'), value='Regu…"
      ]
     },
     "metadata": {},
     "output_type": "display_data"
    }
   ],
   "source": [
    "score_results['kendall'] = m.kendall(X, Y, RESULTS_NORMALIZED)\n"
   ]
  },
  {
   "cell_type": "markdown",
   "metadata": {
    "extensions": {
     "jupyter_dashboards": {
      "version": 1,
      "views": {
       "grid_default": {},
       "report_default": {}
      }
     }
    }
   },
   "source": [
    "### Chi-square test not allowed with no categorical input\n",
    "A chi-square test is used to test events independence. In feature selection instead, we aim to select the features which are more highly dependent. Even if is more suitable for categorical input, computation is performed by casting features values as *Int values*."
   ]
  },
  {
   "cell_type": "code",
   "execution_count": 8,
   "metadata": {
    "extensions": {
     "jupyter_dashboards": {
      "version": 1,
      "views": {
       "grid_default": {},
       "report_default": {}
      }
     }
    },
    "pycharm": {
     "name": "#%%\n"
    }
   },
   "outputs": [],
   "source": [
    "#tuple = m.chi2_test(X, Y)\n",
    "#score_frame.append(tuple)"
   ]
  },
  {
   "cell_type": "markdown",
   "metadata": {
    "extensions": {
     "jupyter_dashboards": {
      "version": 1,
      "views": {
       "grid_default": {},
       "report_default": {}
      }
     }
    }
   },
   "source": [
    "### F-Test\n",
    "It's a statistical test used to compare model from X and Y and check if the difference is significant between them through regression. The algorithm evaluate the Fisher score for each feature variable."
   ]
  },
  {
   "cell_type": "code",
   "execution_count": 9,
   "metadata": {
    "extensions": {
     "jupyter_dashboards": {
      "version": 1,
      "views": {
       "grid_default": {},
       "report_default": {}
      }
     }
    },
    "pycharm": {
     "name": "#%%\n"
    }
   },
   "outputs": [
    {
     "data": {
      "application/vnd.jupyter.widget-view+json": {
       "model_id": "aa637d9e2f6647a381e1a609f002d06e",
       "version_major": 2,
       "version_minor": 0
      },
      "text/plain": [
       "interactive(children=(RadioButtons(description='Score scales:', options=('Regular', 'Logaritmic'), value='Regu…"
      ]
     },
     "metadata": {},
     "output_type": "display_data"
    }
   ],
   "source": [
    "score_results['fisher'] = m.f_test(X, Y, RESULTS_NORMALIZED)\n"
   ]
  },
  {
   "cell_type": "markdown",
   "metadata": {
    "extensions": {
     "jupyter_dashboards": {
      "version": 1,
      "views": {
       "grid_default": {},
       "report_default": {}
      }
     }
    }
   },
   "source": [
    "### Dispersion Ratio (Unsupervised)\n",
    "It stands for the ratio between arithmetic mean the geometric mean. This is very usefull to check dispersion on data. Higher dispersion implies a higher value of this coefficent, thus a more relevant variable."
   ]
  },
  {
   "cell_type": "code",
   "execution_count": 10,
   "metadata": {
    "extensions": {
     "jupyter_dashboards": {
      "version": 1,
      "views": {
       "grid_default": {},
       "report_default": {}
      }
     }
    },
    "pycharm": {
     "name": "#%%\n"
    }
   },
   "outputs": [],
   "source": [
    "\n",
    "#results['dispersion_ratio'] = m.compute_dispersion_ratio(preprocessing.normalize(X))"
   ]
  },
  {
   "cell_type": "markdown",
   "metadata": {
    "extensions": {
     "jupyter_dashboards": {
      "version": 1,
      "views": {
       "grid_default": {},
       "report_default": {}
      }
     }
    }
   },
   "source": [
    "### Variance Threshold \n",
    "It's an approach which aims to remove all features which variance doesn’t meet some threshold. Usually it removes all zero-variance features, so variables taht contains useless information.\n"
   ]
  },
  {
   "cell_type": "code",
   "execution_count": 11,
   "metadata": {
    "extensions": {
     "jupyter_dashboards": {
      "version": 1,
      "views": {
       "grid_default": {},
       "report_default": {}
      }
     }
    },
    "pycharm": {
     "name": "#%%\n"
    },
    "scrolled": true
   },
   "outputs": [
    {
     "data": {
      "application/vnd.jupyter.widget-view+json": {
       "model_id": "2b2552cb7c8942ecaf444a3d969c0958",
       "version_major": 2,
       "version_minor": 0
      },
      "text/plain": [
       "interactive(children=(RadioButtons(description='Score scales:', options=('Regular', 'Logaritmic'), value='Regu…"
      ]
     },
     "metadata": {},
     "output_type": "display_data"
    }
   ],
   "source": [
    "score_results['variance_threshold'] = m.variance_threshold(X_notStand, TH_VALUE)"
   ]
  },
  {
   "cell_type": "markdown",
   "metadata": {
    "extensions": {
     "jupyter_dashboards": {
      "version": 1,
      "views": {
       "grid_default": {},
       "report_default": {}
      }
     }
    }
   },
   "source": [
    "## Wrapper Methods (and Embedded)\n",
    "Wrapper methods, as the name suggests, wrap a machine learning model, with different subsets of input features: In this way the subsets are  evaluated following  the best model performance.\n",
    "Embedded methods instead are characterised by the benefits of both the wrapper and filter methods, by including interactions of features but also having a reasonable computational cost.\n"
   ]
  },
  {
   "cell_type": "markdown",
   "metadata": {
    "extensions": {
     "jupyter_dashboards": {
      "version": 1,
      "views": {
       "grid_default": {},
       "report_default": {}
      }
     }
    },
    "pycharm": {
     "name": "#%%Section 2: Wrapped/Embedded methods%\n"
    }
   },
   "source": [
    "### Exhaustive feature selection for regression analysis\n",
    "This algorithm follow the exhaustive feature selection approach with brute-force evaluation of feature subsets; the best subset is selected by optimizing a specified metric given an arbitrary regressor or classifier. In this case a transformer is used to perform the Sequential Feature Selection.\n",
    "The final outputs are:\n",
    "* Accuracy for the subset choosen;\n",
    "* Indices of the choosen features;\n",
    "* Corresponding names of the features choosen;\n",
    "\n"
   ]
  },
  {
   "cell_type": "code",
   "execution_count": 12,
   "metadata": {
    "extensions": {
     "jupyter_dashboards": {
      "version": 1,
      "views": {
       "grid_default": {},
       "report_default": {}
      }
     }
    },
    "pycharm": {
     "name": "#%%\n"
    }
   },
   "outputs": [],
   "source": [
    "#score_results = m.exhaustive_feature_selection(X, Y)"
   ]
  },
  {
   "cell_type": "markdown",
   "metadata": {
    "extensions": {
     "jupyter_dashboards": {
      "version": 1,
      "views": {
       "grid_default": {},
       "report_default": {}
      }
     }
    }
   },
   "source": [
    "### Random Forest importance\n",
    "It uses a forest of trees to evaluate the importance of each features as outputs."
   ]
  },
  {
   "cell_type": "code",
   "execution_count": 13,
   "metadata": {
    "extensions": {
     "jupyter_dashboards": {
      "version": 1,
      "views": {
       "grid_default": {},
       "report_default": {}
      }
     }
    },
    "pycharm": {
     "name": "#%%\n"
    }
   },
   "outputs": [
    {
     "data": {
      "application/vnd.jupyter.widget-view+json": {
       "model_id": "397dfc0380f2425a9c0babb118815bf2",
       "version_major": 2,
       "version_minor": 0
      },
      "text/plain": [
       "interactive(children=(RadioButtons(description='Score scales:', options=('Regular', 'Logaritmic'), value='Regu…"
      ]
     },
     "metadata": {},
     "output_type": "display_data"
    }
   ],
   "source": [
    "score_results['RF_importance'] = m.RF_importance(X, Y,RESULTS_NORMALIZED)\n"
   ]
  },
  {
   "cell_type": "markdown",
   "metadata": {
    "extensions": {
     "jupyter_dashboards": {
      "version": 1,
      "views": {
       "grid_default": {},
       "report_default": {}
      }
     }
    }
   },
   "source": [
    "### Recursive Feature Selection\n",
    "The goal of RFE is to select features by recursively considering smaller and smaller sets of features.\n",
    "The final output for each variable will be:\n",
    "* *Label*;\n",
    "* A *boolean expressing* whetever is selected or not;\n",
    "* *Ranking value* based on its score;"
   ]
  },
  {
   "cell_type": "code",
   "execution_count": 14,
   "metadata": {
    "extensions": {
     "jupyter_dashboards": {
      "version": 1,
      "views": {
       "grid_default": {},
       "report_default": {}
      }
     }
    },
    "pycharm": {
     "name": "#%%\n"
    },
    "scrolled": true
   },
   "outputs": [
    {
     "data": {
      "text/html": [
       "<div>\n",
       "<style scoped>\n",
       "    .dataframe tbody tr th:only-of-type {\n",
       "        vertical-align: middle;\n",
       "    }\n",
       "\n",
       "    .dataframe tbody tr th {\n",
       "        vertical-align: top;\n",
       "    }\n",
       "\n",
       "    .dataframe thead th {\n",
       "        text-align: right;\n",
       "    }\n",
       "</style>\n",
       "<table border=\"1\" class=\"dataframe\">\n",
       "  <thead>\n",
       "    <tr style=\"text-align: right;\">\n",
       "      <th></th>\n",
       "      <th>Variables</th>\n",
       "      <th>isSelected</th>\n",
       "      <th>Ranking</th>\n",
       "    </tr>\n",
       "  </thead>\n",
       "  <tbody>\n",
       "    <tr>\n",
       "      <th>0</th>\n",
       "      <td>dusaf</td>\n",
       "      <td>False</td>\n",
       "      <td>85</td>\n",
       "    </tr>\n",
       "    <tr>\n",
       "      <th>1</th>\n",
       "      <td>dusafSum</td>\n",
       "      <td>False</td>\n",
       "      <td>84</td>\n",
       "    </tr>\n",
       "    <tr>\n",
       "      <th>2</th>\n",
       "      <td>dsf2</td>\n",
       "      <td>False</td>\n",
       "      <td>83</td>\n",
       "    </tr>\n",
       "    <tr>\n",
       "      <th>3</th>\n",
       "      <td>dsf3</td>\n",
       "      <td>False</td>\n",
       "      <td>82</td>\n",
       "    </tr>\n",
       "    <tr>\n",
       "      <th>4</th>\n",
       "      <td>dsf4</td>\n",
       "      <td>False</td>\n",
       "      <td>81</td>\n",
       "    </tr>\n",
       "    <tr>\n",
       "      <th>...</th>\n",
       "      <td>...</td>\n",
       "      <td>...</td>\n",
       "      <td>...</td>\n",
       "    </tr>\n",
       "    <tr>\n",
       "      <th>84</th>\n",
       "      <td>prec_int</td>\n",
       "      <td>False</td>\n",
       "      <td>45</td>\n",
       "    </tr>\n",
       "    <tr>\n",
       "      <th>85</th>\n",
       "      <td>rad_glob_int</td>\n",
       "      <td>False</td>\n",
       "      <td>70</td>\n",
       "    </tr>\n",
       "    <tr>\n",
       "      <th>86</th>\n",
       "      <td>temp_int</td>\n",
       "      <td>False</td>\n",
       "      <td>72</td>\n",
       "    </tr>\n",
       "    <tr>\n",
       "      <th>87</th>\n",
       "      <td>wind_dir_int</td>\n",
       "      <td>False</td>\n",
       "      <td>73</td>\n",
       "    </tr>\n",
       "    <tr>\n",
       "      <th>88</th>\n",
       "      <td>wind_speed_int</td>\n",
       "      <td>False</td>\n",
       "      <td>74</td>\n",
       "    </tr>\n",
       "  </tbody>\n",
       "</table>\n",
       "<p>89 rows × 3 columns</p>\n",
       "</div>"
      ],
      "text/plain": [
       "         Variables  isSelected  Ranking\n",
       "0            dusaf       False       85\n",
       "1         dusafSum       False       84\n",
       "2             dsf2       False       83\n",
       "3             dsf3       False       82\n",
       "4             dsf4       False       81\n",
       "..             ...         ...      ...\n",
       "84        prec_int       False       45\n",
       "85    rad_glob_int       False       70\n",
       "86        temp_int       False       72\n",
       "87    wind_dir_int       False       73\n",
       "88  wind_speed_int       False       74\n",
       "\n",
       "[89 rows x 3 columns]"
      ]
     },
     "execution_count": 14,
     "metadata": {},
     "output_type": "execute_result"
    }
   ],
   "source": [
    "m.recursive_feature_selection(X, Y.astype(int), NUMBER_OF_FEATURE_RFE)"
   ]
  },
  {
   "cell_type": "markdown",
   "metadata": {
    "extensions": {
     "jupyter_dashboards": {
      "version": 1,
      "views": {
       "grid_default": {},
       "report_default": {}
      }
     }
    },
    "pycharm": {
     "name": "#%%\n"
    }
   },
   "source": [
    "## Multiscale Geographically Weighted Regression\n",
    "Due to the fact that this study is related to geographic and spatial data, each pieces of data is very sensitive to the geographic distance between them. So the use of mgwr methods could be innovative, since multivariate models are increasingly encountered in geographical research to estimate spatially varying relationships between a targets and its predictive variables.\n",
    "\n",
    "\n"
   ]
  },
  {
   "cell_type": "code",
   "execution_count": 15,
   "metadata": {
    "extensions": {
     "jupyter_dashboards": {
      "version": 1,
      "views": {
       "grid_default": {},
       "report_default": {}
      }
     }
    },
    "pycharm": {
     "name": "#%% Section 3: Multiscale Geographically Weighted Regression\n"
    }
   },
   "outputs": [],
   "source": [
    "#m.mgwr(data, list(X.columns), coords, Y)\n"
   ]
  },
  {
   "cell_type": "markdown",
   "metadata": {
    "extensions": {
     "jupyter_dashboards": {
      "version": 1,
      "views": {
       "grid_default": {},
       "report_default": {}
      }
     }
    },
    "pycharm": {
     "name": "#%%\n"
    }
   },
   "source": [
    "from matplotlib import widgets\n",
    "\n",
    "## Results\n",
    "Results before are collected in a Pandas Dataframe called **score_results**. In each column are shown the score results for each method; instead, each row collect the results for each feature variable.\n",
    "* **Features**: Set of feature names (Strings);\n",
    "* **pearson**:  Pearson correlation index scores;\n",
    "* **spearmanr**: Spearmanr correlation coefficient scores;\n",
    "* **kendall**: Kendall tau scores; \n",
    "* **fisher**: F-Test scores;\n",
    "* **variance_threshold**: Variance Threshold  scores;\n",
    "* **RF_importance**: Random Forest importance scores;\n",
    "\n",
    "* **avg_scores**: scores obtained from the mean of the previous scores for each variables; this values are displayed through a bar plot."
   ]
  },
  {
   "cell_type": "code",
   "execution_count": 16,
   "metadata": {
    "extensions": {
     "jupyter_dashboards": {
      "version": 1,
      "views": {
       "grid_default": {},
       "report_default": {}
      }
     }
    },
    "pycharm": {
     "name": "#%%\n"
    }
   },
   "outputs": [
    {
     "data": {
      "application/vnd.plotly.v1+json": {
       "config": {
        "plotlyServerURL": "https://plot.ly"
       },
       "data": [
        {
         "alignmentgroup": "True",
         "hovertemplate": "Features=%{x}<br>avg_scores=%{y}<extra></extra>",
         "legendgroup": "",
         "marker": {
          "color": "#636efa",
          "pattern": {
           "shape": ""
          }
         },
         "name": "",
         "offsetgroup": "",
         "orientation": "v",
         "showlegend": false,
         "textposition": "auto",
         "type": "bar",
         "x": [
          "dusaf",
          "dusafSum",
          "dsf2",
          "dsf3",
          "dsf4",
          "dsf5",
          "dsf11",
          "dsf12",
          "dsf13",
          "dsf14",
          "siarl",
          "siarlSum",
          "siarl2",
          "siarl9",
          "siarl12",
          "h_mean",
          "aspect_mean",
          "slope_mean",
          "soil",
          "soilSum",
          "soil1",
          "soil2",
          "soil4",
          "soil5",
          "soil6",
          "soil7",
          "soil8",
          "soil9",
          "soil_text",
          "soilTextSum",
          "soil_text1",
          "soil_text2",
          "soil_text3",
          "soil_text4",
          "soil_text5",
          "soil_text6",
          "soil_text7",
          "soil_text8",
          "soil_text9",
          "soil_text10",
          "pop",
          "int_prim",
          "int_prim_sec",
          "int_sec",
          "highway",
          "prim_road",
          "sec_road",
          "farms",
          "farm_pigs",
          "farm_poultry",
          "farm_sheep",
          "soil_moist",
          "ndvi",
          "temp_2m",
          "prec",
          "press",
          "n_wind",
          "e_wind",
          "no2_s5p",
          "so2_s5p",
          "aod_055",
          "aod_047",
          "uvai",
          "co_s5p",
          "ch2o_s5p",
          "o3_s5p",
          "nh3_cams",
          "no_cams",
          "co_cams",
          "dust_cams",
          "pm10_cams",
          "no2_cams",
          "nmvocs_cams",
          "so2_cams",
          "o3_cams",
          "co_int",
          "nh3_int",
          "no2_int",
          "nox_int",
          "o3_int",
          "pm10_int",
          "pm25_int",
          "so2_int",
          "air_hum_int",
          "prec_int",
          "rad_glob_int",
          "temp_int",
          "wind_dir_int",
          "wind_speed_int"
         ],
         "xaxis": "x",
         "y": [
          0.11403050897436283,
          0.30825317443878975,
          0.4291335171586983,
          0.07911000492182353,
          0.4714085054758049,
          0.43460503746328444,
          0.5403349999637064,
          0.5731150461100324,
          0.5238882218254718,
          0.5386351775705218,
          0.3146006343774206,
          0.4707636806684126,
          0.5689570693426044,
          0.6107376484195084,
          0.47209101475347537,
          0.030106895429130948,
          0.3576657371541947,
          0.02883638156653023,
          0.21537818588856716,
          0.26919095498151857,
          0.26153965099923043,
          0.2653094308874867,
          0.27122727852942763,
          0.2811909125615064,
          0.4143709325143711,
          0.2627261693309076,
          0.3362367040522203,
          0.12359308915380474,
          0.14406711435010253,
          0.30720584535780565,
          0.24947020886142493,
          0.2689526174548994,
          0.3011988452281454,
          0.3458846370102994,
          0.343401991807676,
          0.2869364503425434,
          0.31099436099387073,
          0.20548329466039386,
          0.1066281837663554,
          0.2489455338861066,
          0.36078142550131626,
          0.39544539093652115,
          0.39368955771246683,
          0.39988953578976466,
          0.3511666111958176,
          0.35657359427555774,
          0.3989767274390556,
          0.4345867673612527,
          0.36398599990654795,
          0.3926122198626402,
          0.27080280924419103,
          0.4789789107418494,
          0.26613551836827803,
          0.44554295075145917,
          0.451816149831727,
          0.45482737518576677,
          0.41022444049376267,
          0.5176294927814264,
          0.6151614273549509,
          0.4468214514963808,
          0.4344218952383028,
          0.4346571874517306,
          0.5162860751798363,
          0.627983888263824,
          0.5487305253018553,
          0.6187291936918241,
          0.4610249154890067,
          0.44250747673066004,
          0.48614788996215186,
          0.3628510917295236,
          0.8333333333333334,
          0.46988280808244903,
          0.47048620958028703,
          0.4527742729374642,
          0.0028918685272046924,
          0.4932503949915999,
          0.3127000483596575,
          0.43002391514414473,
          0.392843042485862,
          0.09453846143543095,
          0.4316062658691313,
          0.3810970290159477,
          0.3837123787911332,
          0.40765131625519535,
          0.41043166148569754,
          0.15688182045375115,
          0.45093221407350037,
          0.36352232986765715,
          0.09794692165695416
         ],
         "yaxis": "y"
        }
       ],
       "layout": {
        "barmode": "relative",
        "legend": {
         "tracegroupgap": 0
        },
        "template": {
         "data": {
          "bar": [
           {
            "error_x": {
             "color": "#2a3f5f"
            },
            "error_y": {
             "color": "#2a3f5f"
            },
            "marker": {
             "line": {
              "color": "#E5ECF6",
              "width": 0.5
             },
             "pattern": {
              "fillmode": "overlay",
              "size": 10,
              "solidity": 0.2
             }
            },
            "type": "bar"
           }
          ],
          "barpolar": [
           {
            "marker": {
             "line": {
              "color": "#E5ECF6",
              "width": 0.5
             },
             "pattern": {
              "fillmode": "overlay",
              "size": 10,
              "solidity": 0.2
             }
            },
            "type": "barpolar"
           }
          ],
          "carpet": [
           {
            "aaxis": {
             "endlinecolor": "#2a3f5f",
             "gridcolor": "white",
             "linecolor": "white",
             "minorgridcolor": "white",
             "startlinecolor": "#2a3f5f"
            },
            "baxis": {
             "endlinecolor": "#2a3f5f",
             "gridcolor": "white",
             "linecolor": "white",
             "minorgridcolor": "white",
             "startlinecolor": "#2a3f5f"
            },
            "type": "carpet"
           }
          ],
          "choropleth": [
           {
            "colorbar": {
             "outlinewidth": 0,
             "ticks": ""
            },
            "type": "choropleth"
           }
          ],
          "contour": [
           {
            "colorbar": {
             "outlinewidth": 0,
             "ticks": ""
            },
            "colorscale": [
             [
              0,
              "#0d0887"
             ],
             [
              0.1111111111111111,
              "#46039f"
             ],
             [
              0.2222222222222222,
              "#7201a8"
             ],
             [
              0.3333333333333333,
              "#9c179e"
             ],
             [
              0.4444444444444444,
              "#bd3786"
             ],
             [
              0.5555555555555556,
              "#d8576b"
             ],
             [
              0.6666666666666666,
              "#ed7953"
             ],
             [
              0.7777777777777778,
              "#fb9f3a"
             ],
             [
              0.8888888888888888,
              "#fdca26"
             ],
             [
              1,
              "#f0f921"
             ]
            ],
            "type": "contour"
           }
          ],
          "contourcarpet": [
           {
            "colorbar": {
             "outlinewidth": 0,
             "ticks": ""
            },
            "type": "contourcarpet"
           }
          ],
          "heatmap": [
           {
            "colorbar": {
             "outlinewidth": 0,
             "ticks": ""
            },
            "colorscale": [
             [
              0,
              "#0d0887"
             ],
             [
              0.1111111111111111,
              "#46039f"
             ],
             [
              0.2222222222222222,
              "#7201a8"
             ],
             [
              0.3333333333333333,
              "#9c179e"
             ],
             [
              0.4444444444444444,
              "#bd3786"
             ],
             [
              0.5555555555555556,
              "#d8576b"
             ],
             [
              0.6666666666666666,
              "#ed7953"
             ],
             [
              0.7777777777777778,
              "#fb9f3a"
             ],
             [
              0.8888888888888888,
              "#fdca26"
             ],
             [
              1,
              "#f0f921"
             ]
            ],
            "type": "heatmap"
           }
          ],
          "heatmapgl": [
           {
            "colorbar": {
             "outlinewidth": 0,
             "ticks": ""
            },
            "colorscale": [
             [
              0,
              "#0d0887"
             ],
             [
              0.1111111111111111,
              "#46039f"
             ],
             [
              0.2222222222222222,
              "#7201a8"
             ],
             [
              0.3333333333333333,
              "#9c179e"
             ],
             [
              0.4444444444444444,
              "#bd3786"
             ],
             [
              0.5555555555555556,
              "#d8576b"
             ],
             [
              0.6666666666666666,
              "#ed7953"
             ],
             [
              0.7777777777777778,
              "#fb9f3a"
             ],
             [
              0.8888888888888888,
              "#fdca26"
             ],
             [
              1,
              "#f0f921"
             ]
            ],
            "type": "heatmapgl"
           }
          ],
          "histogram": [
           {
            "marker": {
             "pattern": {
              "fillmode": "overlay",
              "size": 10,
              "solidity": 0.2
             }
            },
            "type": "histogram"
           }
          ],
          "histogram2d": [
           {
            "colorbar": {
             "outlinewidth": 0,
             "ticks": ""
            },
            "colorscale": [
             [
              0,
              "#0d0887"
             ],
             [
              0.1111111111111111,
              "#46039f"
             ],
             [
              0.2222222222222222,
              "#7201a8"
             ],
             [
              0.3333333333333333,
              "#9c179e"
             ],
             [
              0.4444444444444444,
              "#bd3786"
             ],
             [
              0.5555555555555556,
              "#d8576b"
             ],
             [
              0.6666666666666666,
              "#ed7953"
             ],
             [
              0.7777777777777778,
              "#fb9f3a"
             ],
             [
              0.8888888888888888,
              "#fdca26"
             ],
             [
              1,
              "#f0f921"
             ]
            ],
            "type": "histogram2d"
           }
          ],
          "histogram2dcontour": [
           {
            "colorbar": {
             "outlinewidth": 0,
             "ticks": ""
            },
            "colorscale": [
             [
              0,
              "#0d0887"
             ],
             [
              0.1111111111111111,
              "#46039f"
             ],
             [
              0.2222222222222222,
              "#7201a8"
             ],
             [
              0.3333333333333333,
              "#9c179e"
             ],
             [
              0.4444444444444444,
              "#bd3786"
             ],
             [
              0.5555555555555556,
              "#d8576b"
             ],
             [
              0.6666666666666666,
              "#ed7953"
             ],
             [
              0.7777777777777778,
              "#fb9f3a"
             ],
             [
              0.8888888888888888,
              "#fdca26"
             ],
             [
              1,
              "#f0f921"
             ]
            ],
            "type": "histogram2dcontour"
           }
          ],
          "mesh3d": [
           {
            "colorbar": {
             "outlinewidth": 0,
             "ticks": ""
            },
            "type": "mesh3d"
           }
          ],
          "parcoords": [
           {
            "line": {
             "colorbar": {
              "outlinewidth": 0,
              "ticks": ""
             }
            },
            "type": "parcoords"
           }
          ],
          "pie": [
           {
            "automargin": true,
            "type": "pie"
           }
          ],
          "scatter": [
           {
            "marker": {
             "colorbar": {
              "outlinewidth": 0,
              "ticks": ""
             }
            },
            "type": "scatter"
           }
          ],
          "scatter3d": [
           {
            "line": {
             "colorbar": {
              "outlinewidth": 0,
              "ticks": ""
             }
            },
            "marker": {
             "colorbar": {
              "outlinewidth": 0,
              "ticks": ""
             }
            },
            "type": "scatter3d"
           }
          ],
          "scattercarpet": [
           {
            "marker": {
             "colorbar": {
              "outlinewidth": 0,
              "ticks": ""
             }
            },
            "type": "scattercarpet"
           }
          ],
          "scattergeo": [
           {
            "marker": {
             "colorbar": {
              "outlinewidth": 0,
              "ticks": ""
             }
            },
            "type": "scattergeo"
           }
          ],
          "scattergl": [
           {
            "marker": {
             "colorbar": {
              "outlinewidth": 0,
              "ticks": ""
             }
            },
            "type": "scattergl"
           }
          ],
          "scattermapbox": [
           {
            "marker": {
             "colorbar": {
              "outlinewidth": 0,
              "ticks": ""
             }
            },
            "type": "scattermapbox"
           }
          ],
          "scatterpolar": [
           {
            "marker": {
             "colorbar": {
              "outlinewidth": 0,
              "ticks": ""
             }
            },
            "type": "scatterpolar"
           }
          ],
          "scatterpolargl": [
           {
            "marker": {
             "colorbar": {
              "outlinewidth": 0,
              "ticks": ""
             }
            },
            "type": "scatterpolargl"
           }
          ],
          "scatterternary": [
           {
            "marker": {
             "colorbar": {
              "outlinewidth": 0,
              "ticks": ""
             }
            },
            "type": "scatterternary"
           }
          ],
          "surface": [
           {
            "colorbar": {
             "outlinewidth": 0,
             "ticks": ""
            },
            "colorscale": [
             [
              0,
              "#0d0887"
             ],
             [
              0.1111111111111111,
              "#46039f"
             ],
             [
              0.2222222222222222,
              "#7201a8"
             ],
             [
              0.3333333333333333,
              "#9c179e"
             ],
             [
              0.4444444444444444,
              "#bd3786"
             ],
             [
              0.5555555555555556,
              "#d8576b"
             ],
             [
              0.6666666666666666,
              "#ed7953"
             ],
             [
              0.7777777777777778,
              "#fb9f3a"
             ],
             [
              0.8888888888888888,
              "#fdca26"
             ],
             [
              1,
              "#f0f921"
             ]
            ],
            "type": "surface"
           }
          ],
          "table": [
           {
            "cells": {
             "fill": {
              "color": "#EBF0F8"
             },
             "line": {
              "color": "white"
             }
            },
            "header": {
             "fill": {
              "color": "#C8D4E3"
             },
             "line": {
              "color": "white"
             }
            },
            "type": "table"
           }
          ]
         },
         "layout": {
          "annotationdefaults": {
           "arrowcolor": "#2a3f5f",
           "arrowhead": 0,
           "arrowwidth": 1
          },
          "autotypenumbers": "strict",
          "coloraxis": {
           "colorbar": {
            "outlinewidth": 0,
            "ticks": ""
           }
          },
          "colorscale": {
           "diverging": [
            [
             0,
             "#8e0152"
            ],
            [
             0.1,
             "#c51b7d"
            ],
            [
             0.2,
             "#de77ae"
            ],
            [
             0.3,
             "#f1b6da"
            ],
            [
             0.4,
             "#fde0ef"
            ],
            [
             0.5,
             "#f7f7f7"
            ],
            [
             0.6,
             "#e6f5d0"
            ],
            [
             0.7,
             "#b8e186"
            ],
            [
             0.8,
             "#7fbc41"
            ],
            [
             0.9,
             "#4d9221"
            ],
            [
             1,
             "#276419"
            ]
           ],
           "sequential": [
            [
             0,
             "#0d0887"
            ],
            [
             0.1111111111111111,
             "#46039f"
            ],
            [
             0.2222222222222222,
             "#7201a8"
            ],
            [
             0.3333333333333333,
             "#9c179e"
            ],
            [
             0.4444444444444444,
             "#bd3786"
            ],
            [
             0.5555555555555556,
             "#d8576b"
            ],
            [
             0.6666666666666666,
             "#ed7953"
            ],
            [
             0.7777777777777778,
             "#fb9f3a"
            ],
            [
             0.8888888888888888,
             "#fdca26"
            ],
            [
             1,
             "#f0f921"
            ]
           ],
           "sequentialminus": [
            [
             0,
             "#0d0887"
            ],
            [
             0.1111111111111111,
             "#46039f"
            ],
            [
             0.2222222222222222,
             "#7201a8"
            ],
            [
             0.3333333333333333,
             "#9c179e"
            ],
            [
             0.4444444444444444,
             "#bd3786"
            ],
            [
             0.5555555555555556,
             "#d8576b"
            ],
            [
             0.6666666666666666,
             "#ed7953"
            ],
            [
             0.7777777777777778,
             "#fb9f3a"
            ],
            [
             0.8888888888888888,
             "#fdca26"
            ],
            [
             1,
             "#f0f921"
            ]
           ]
          },
          "colorway": [
           "#636efa",
           "#EF553B",
           "#00cc96",
           "#ab63fa",
           "#FFA15A",
           "#19d3f3",
           "#FF6692",
           "#B6E880",
           "#FF97FF",
           "#FECB52"
          ],
          "font": {
           "color": "#2a3f5f"
          },
          "geo": {
           "bgcolor": "white",
           "lakecolor": "white",
           "landcolor": "#E5ECF6",
           "showlakes": true,
           "showland": true,
           "subunitcolor": "white"
          },
          "hoverlabel": {
           "align": "left"
          },
          "hovermode": "closest",
          "mapbox": {
           "style": "light"
          },
          "paper_bgcolor": "white",
          "plot_bgcolor": "#E5ECF6",
          "polar": {
           "angularaxis": {
            "gridcolor": "white",
            "linecolor": "white",
            "ticks": ""
           },
           "bgcolor": "#E5ECF6",
           "radialaxis": {
            "gridcolor": "white",
            "linecolor": "white",
            "ticks": ""
           }
          },
          "scene": {
           "xaxis": {
            "backgroundcolor": "#E5ECF6",
            "gridcolor": "white",
            "gridwidth": 2,
            "linecolor": "white",
            "showbackground": true,
            "ticks": "",
            "zerolinecolor": "white"
           },
           "yaxis": {
            "backgroundcolor": "#E5ECF6",
            "gridcolor": "white",
            "gridwidth": 2,
            "linecolor": "white",
            "showbackground": true,
            "ticks": "",
            "zerolinecolor": "white"
           },
           "zaxis": {
            "backgroundcolor": "#E5ECF6",
            "gridcolor": "white",
            "gridwidth": 2,
            "linecolor": "white",
            "showbackground": true,
            "ticks": "",
            "zerolinecolor": "white"
           }
          },
          "shapedefaults": {
           "line": {
            "color": "#2a3f5f"
           }
          },
          "ternary": {
           "aaxis": {
            "gridcolor": "white",
            "linecolor": "white",
            "ticks": ""
           },
           "baxis": {
            "gridcolor": "white",
            "linecolor": "white",
            "ticks": ""
           },
           "bgcolor": "#E5ECF6",
           "caxis": {
            "gridcolor": "white",
            "linecolor": "white",
            "ticks": ""
           }
          },
          "title": {
           "x": 0.05
          },
          "xaxis": {
           "automargin": true,
           "gridcolor": "white",
           "linecolor": "white",
           "ticks": "",
           "title": {
            "standoff": 15
           },
           "zerolinecolor": "white",
           "zerolinewidth": 2
          },
          "yaxis": {
           "automargin": true,
           "gridcolor": "white",
           "linecolor": "white",
           "ticks": "",
           "title": {
            "standoff": 15
           },
           "zerolinecolor": "white",
           "zerolinewidth": 2
          }
         }
        },
        "title": {
         "text": "Score average"
        },
        "xaxis": {
         "anchor": "y",
         "domain": [
          0,
          1
         ],
         "title": {
          "text": "Features"
         }
        },
        "yaxis": {
         "anchor": "x",
         "domain": [
          0,
          1
         ],
         "title": {
          "text": "avg_scores"
         }
        }
       }
      },
      "text/html": [
       "<div>                            <div id=\"0523dd9a-21e9-4665-9c56-3a8ce3445508\" class=\"plotly-graph-div\" style=\"height:525px; width:100%;\"></div>            <script type=\"text/javascript\">                require([\"plotly\"], function(Plotly) {                    window.PLOTLYENV=window.PLOTLYENV || {};                                    if (document.getElementById(\"0523dd9a-21e9-4665-9c56-3a8ce3445508\")) {                    Plotly.newPlot(                        \"0523dd9a-21e9-4665-9c56-3a8ce3445508\",                        [{\"alignmentgroup\":\"True\",\"hovertemplate\":\"Features=%{x}<br>avg_scores=%{y}<extra></extra>\",\"legendgroup\":\"\",\"marker\":{\"color\":\"#636efa\",\"pattern\":{\"shape\":\"\"}},\"name\":\"\",\"offsetgroup\":\"\",\"orientation\":\"v\",\"showlegend\":false,\"textposition\":\"auto\",\"x\":[\"dusaf\",\"dusafSum\",\"dsf2\",\"dsf3\",\"dsf4\",\"dsf5\",\"dsf11\",\"dsf12\",\"dsf13\",\"dsf14\",\"siarl\",\"siarlSum\",\"siarl2\",\"siarl9\",\"siarl12\",\"h_mean\",\"aspect_mean\",\"slope_mean\",\"soil\",\"soilSum\",\"soil1\",\"soil2\",\"soil4\",\"soil5\",\"soil6\",\"soil7\",\"soil8\",\"soil9\",\"soil_text\",\"soilTextSum\",\"soil_text1\",\"soil_text2\",\"soil_text3\",\"soil_text4\",\"soil_text5\",\"soil_text6\",\"soil_text7\",\"soil_text8\",\"soil_text9\",\"soil_text10\",\"pop\",\"int_prim\",\"int_prim_sec\",\"int_sec\",\"highway\",\"prim_road\",\"sec_road\",\"farms\",\"farm_pigs\",\"farm_poultry\",\"farm_sheep\",\"soil_moist\",\"ndvi\",\"temp_2m\",\"prec\",\"press\",\"n_wind\",\"e_wind\",\"no2_s5p\",\"so2_s5p\",\"aod_055\",\"aod_047\",\"uvai\",\"co_s5p\",\"ch2o_s5p\",\"o3_s5p\",\"nh3_cams\",\"no_cams\",\"co_cams\",\"dust_cams\",\"pm10_cams\",\"no2_cams\",\"nmvocs_cams\",\"so2_cams\",\"o3_cams\",\"co_int\",\"nh3_int\",\"no2_int\",\"nox_int\",\"o3_int\",\"pm10_int\",\"pm25_int\",\"so2_int\",\"air_hum_int\",\"prec_int\",\"rad_glob_int\",\"temp_int\",\"wind_dir_int\",\"wind_speed_int\"],\"xaxis\":\"x\",\"y\":[0.11403050897436283,0.30825317443878975,0.4291335171586983,0.07911000492182353,0.4714085054758049,0.43460503746328444,0.5403349999637064,0.5731150461100324,0.5238882218254718,0.5386351775705218,0.3146006343774206,0.4707636806684126,0.5689570693426044,0.6107376484195084,0.47209101475347537,0.030106895429130948,0.3576657371541947,0.02883638156653023,0.21537818588856716,0.26919095498151857,0.26153965099923043,0.2653094308874867,0.27122727852942763,0.2811909125615064,0.4143709325143711,0.2627261693309076,0.3362367040522203,0.12359308915380474,0.14406711435010253,0.30720584535780565,0.24947020886142493,0.2689526174548994,0.3011988452281454,0.3458846370102994,0.343401991807676,0.2869364503425434,0.31099436099387073,0.20548329466039386,0.1066281837663554,0.2489455338861066,0.36078142550131626,0.39544539093652115,0.39368955771246683,0.39988953578976466,0.3511666111958176,0.35657359427555774,0.3989767274390556,0.4345867673612527,0.36398599990654795,0.3926122198626402,0.27080280924419103,0.4789789107418494,0.26613551836827803,0.44554295075145917,0.451816149831727,0.45482737518576677,0.41022444049376267,0.5176294927814264,0.6151614273549509,0.4468214514963808,0.4344218952383028,0.4346571874517306,0.5162860751798363,0.627983888263824,0.5487305253018553,0.6187291936918241,0.4610249154890067,0.44250747673066004,0.48614788996215186,0.3628510917295236,0.8333333333333334,0.46988280808244903,0.47048620958028703,0.4527742729374642,0.0028918685272046924,0.4932503949915999,0.3127000483596575,0.43002391514414473,0.392843042485862,0.09453846143543095,0.4316062658691313,0.3810970290159477,0.3837123787911332,0.40765131625519535,0.41043166148569754,0.15688182045375115,0.45093221407350037,0.36352232986765715,0.09794692165695416],\"yaxis\":\"y\",\"type\":\"bar\"}],                        {\"template\":{\"data\":{\"bar\":[{\"error_x\":{\"color\":\"#2a3f5f\"},\"error_y\":{\"color\":\"#2a3f5f\"},\"marker\":{\"line\":{\"color\":\"#E5ECF6\",\"width\":0.5},\"pattern\":{\"fillmode\":\"overlay\",\"size\":10,\"solidity\":0.2}},\"type\":\"bar\"}],\"barpolar\":[{\"marker\":{\"line\":{\"color\":\"#E5ECF6\",\"width\":0.5},\"pattern\":{\"fillmode\":\"overlay\",\"size\":10,\"solidity\":0.2}},\"type\":\"barpolar\"}],\"carpet\":[{\"aaxis\":{\"endlinecolor\":\"#2a3f5f\",\"gridcolor\":\"white\",\"linecolor\":\"white\",\"minorgridcolor\":\"white\",\"startlinecolor\":\"#2a3f5f\"},\"baxis\":{\"endlinecolor\":\"#2a3f5f\",\"gridcolor\":\"white\",\"linecolor\":\"white\",\"minorgridcolor\":\"white\",\"startlinecolor\":\"#2a3f5f\"},\"type\":\"carpet\"}],\"choropleth\":[{\"colorbar\":{\"outlinewidth\":0,\"ticks\":\"\"},\"type\":\"choropleth\"}],\"contour\":[{\"colorbar\":{\"outlinewidth\":0,\"ticks\":\"\"},\"colorscale\":[[0.0,\"#0d0887\"],[0.1111111111111111,\"#46039f\"],[0.2222222222222222,\"#7201a8\"],[0.3333333333333333,\"#9c179e\"],[0.4444444444444444,\"#bd3786\"],[0.5555555555555556,\"#d8576b\"],[0.6666666666666666,\"#ed7953\"],[0.7777777777777778,\"#fb9f3a\"],[0.8888888888888888,\"#fdca26\"],[1.0,\"#f0f921\"]],\"type\":\"contour\"}],\"contourcarpet\":[{\"colorbar\":{\"outlinewidth\":0,\"ticks\":\"\"},\"type\":\"contourcarpet\"}],\"heatmap\":[{\"colorbar\":{\"outlinewidth\":0,\"ticks\":\"\"},\"colorscale\":[[0.0,\"#0d0887\"],[0.1111111111111111,\"#46039f\"],[0.2222222222222222,\"#7201a8\"],[0.3333333333333333,\"#9c179e\"],[0.4444444444444444,\"#bd3786\"],[0.5555555555555556,\"#d8576b\"],[0.6666666666666666,\"#ed7953\"],[0.7777777777777778,\"#fb9f3a\"],[0.8888888888888888,\"#fdca26\"],[1.0,\"#f0f921\"]],\"type\":\"heatmap\"}],\"heatmapgl\":[{\"colorbar\":{\"outlinewidth\":0,\"ticks\":\"\"},\"colorscale\":[[0.0,\"#0d0887\"],[0.1111111111111111,\"#46039f\"],[0.2222222222222222,\"#7201a8\"],[0.3333333333333333,\"#9c179e\"],[0.4444444444444444,\"#bd3786\"],[0.5555555555555556,\"#d8576b\"],[0.6666666666666666,\"#ed7953\"],[0.7777777777777778,\"#fb9f3a\"],[0.8888888888888888,\"#fdca26\"],[1.0,\"#f0f921\"]],\"type\":\"heatmapgl\"}],\"histogram\":[{\"marker\":{\"pattern\":{\"fillmode\":\"overlay\",\"size\":10,\"solidity\":0.2}},\"type\":\"histogram\"}],\"histogram2d\":[{\"colorbar\":{\"outlinewidth\":0,\"ticks\":\"\"},\"colorscale\":[[0.0,\"#0d0887\"],[0.1111111111111111,\"#46039f\"],[0.2222222222222222,\"#7201a8\"],[0.3333333333333333,\"#9c179e\"],[0.4444444444444444,\"#bd3786\"],[0.5555555555555556,\"#d8576b\"],[0.6666666666666666,\"#ed7953\"],[0.7777777777777778,\"#fb9f3a\"],[0.8888888888888888,\"#fdca26\"],[1.0,\"#f0f921\"]],\"type\":\"histogram2d\"}],\"histogram2dcontour\":[{\"colorbar\":{\"outlinewidth\":0,\"ticks\":\"\"},\"colorscale\":[[0.0,\"#0d0887\"],[0.1111111111111111,\"#46039f\"],[0.2222222222222222,\"#7201a8\"],[0.3333333333333333,\"#9c179e\"],[0.4444444444444444,\"#bd3786\"],[0.5555555555555556,\"#d8576b\"],[0.6666666666666666,\"#ed7953\"],[0.7777777777777778,\"#fb9f3a\"],[0.8888888888888888,\"#fdca26\"],[1.0,\"#f0f921\"]],\"type\":\"histogram2dcontour\"}],\"mesh3d\":[{\"colorbar\":{\"outlinewidth\":0,\"ticks\":\"\"},\"type\":\"mesh3d\"}],\"parcoords\":[{\"line\":{\"colorbar\":{\"outlinewidth\":0,\"ticks\":\"\"}},\"type\":\"parcoords\"}],\"pie\":[{\"automargin\":true,\"type\":\"pie\"}],\"scatter\":[{\"marker\":{\"colorbar\":{\"outlinewidth\":0,\"ticks\":\"\"}},\"type\":\"scatter\"}],\"scatter3d\":[{\"line\":{\"colorbar\":{\"outlinewidth\":0,\"ticks\":\"\"}},\"marker\":{\"colorbar\":{\"outlinewidth\":0,\"ticks\":\"\"}},\"type\":\"scatter3d\"}],\"scattercarpet\":[{\"marker\":{\"colorbar\":{\"outlinewidth\":0,\"ticks\":\"\"}},\"type\":\"scattercarpet\"}],\"scattergeo\":[{\"marker\":{\"colorbar\":{\"outlinewidth\":0,\"ticks\":\"\"}},\"type\":\"scattergeo\"}],\"scattergl\":[{\"marker\":{\"colorbar\":{\"outlinewidth\":0,\"ticks\":\"\"}},\"type\":\"scattergl\"}],\"scattermapbox\":[{\"marker\":{\"colorbar\":{\"outlinewidth\":0,\"ticks\":\"\"}},\"type\":\"scattermapbox\"}],\"scatterpolar\":[{\"marker\":{\"colorbar\":{\"outlinewidth\":0,\"ticks\":\"\"}},\"type\":\"scatterpolar\"}],\"scatterpolargl\":[{\"marker\":{\"colorbar\":{\"outlinewidth\":0,\"ticks\":\"\"}},\"type\":\"scatterpolargl\"}],\"scatterternary\":[{\"marker\":{\"colorbar\":{\"outlinewidth\":0,\"ticks\":\"\"}},\"type\":\"scatterternary\"}],\"surface\":[{\"colorbar\":{\"outlinewidth\":0,\"ticks\":\"\"},\"colorscale\":[[0.0,\"#0d0887\"],[0.1111111111111111,\"#46039f\"],[0.2222222222222222,\"#7201a8\"],[0.3333333333333333,\"#9c179e\"],[0.4444444444444444,\"#bd3786\"],[0.5555555555555556,\"#d8576b\"],[0.6666666666666666,\"#ed7953\"],[0.7777777777777778,\"#fb9f3a\"],[0.8888888888888888,\"#fdca26\"],[1.0,\"#f0f921\"]],\"type\":\"surface\"}],\"table\":[{\"cells\":{\"fill\":{\"color\":\"#EBF0F8\"},\"line\":{\"color\":\"white\"}},\"header\":{\"fill\":{\"color\":\"#C8D4E3\"},\"line\":{\"color\":\"white\"}},\"type\":\"table\"}]},\"layout\":{\"annotationdefaults\":{\"arrowcolor\":\"#2a3f5f\",\"arrowhead\":0,\"arrowwidth\":1},\"autotypenumbers\":\"strict\",\"coloraxis\":{\"colorbar\":{\"outlinewidth\":0,\"ticks\":\"\"}},\"colorscale\":{\"diverging\":[[0,\"#8e0152\"],[0.1,\"#c51b7d\"],[0.2,\"#de77ae\"],[0.3,\"#f1b6da\"],[0.4,\"#fde0ef\"],[0.5,\"#f7f7f7\"],[0.6,\"#e6f5d0\"],[0.7,\"#b8e186\"],[0.8,\"#7fbc41\"],[0.9,\"#4d9221\"],[1,\"#276419\"]],\"sequential\":[[0.0,\"#0d0887\"],[0.1111111111111111,\"#46039f\"],[0.2222222222222222,\"#7201a8\"],[0.3333333333333333,\"#9c179e\"],[0.4444444444444444,\"#bd3786\"],[0.5555555555555556,\"#d8576b\"],[0.6666666666666666,\"#ed7953\"],[0.7777777777777778,\"#fb9f3a\"],[0.8888888888888888,\"#fdca26\"],[1.0,\"#f0f921\"]],\"sequentialminus\":[[0.0,\"#0d0887\"],[0.1111111111111111,\"#46039f\"],[0.2222222222222222,\"#7201a8\"],[0.3333333333333333,\"#9c179e\"],[0.4444444444444444,\"#bd3786\"],[0.5555555555555556,\"#d8576b\"],[0.6666666666666666,\"#ed7953\"],[0.7777777777777778,\"#fb9f3a\"],[0.8888888888888888,\"#fdca26\"],[1.0,\"#f0f921\"]]},\"colorway\":[\"#636efa\",\"#EF553B\",\"#00cc96\",\"#ab63fa\",\"#FFA15A\",\"#19d3f3\",\"#FF6692\",\"#B6E880\",\"#FF97FF\",\"#FECB52\"],\"font\":{\"color\":\"#2a3f5f\"},\"geo\":{\"bgcolor\":\"white\",\"lakecolor\":\"white\",\"landcolor\":\"#E5ECF6\",\"showlakes\":true,\"showland\":true,\"subunitcolor\":\"white\"},\"hoverlabel\":{\"align\":\"left\"},\"hovermode\":\"closest\",\"mapbox\":{\"style\":\"light\"},\"paper_bgcolor\":\"white\",\"plot_bgcolor\":\"#E5ECF6\",\"polar\":{\"angularaxis\":{\"gridcolor\":\"white\",\"linecolor\":\"white\",\"ticks\":\"\"},\"bgcolor\":\"#E5ECF6\",\"radialaxis\":{\"gridcolor\":\"white\",\"linecolor\":\"white\",\"ticks\":\"\"}},\"scene\":{\"xaxis\":{\"backgroundcolor\":\"#E5ECF6\",\"gridcolor\":\"white\",\"gridwidth\":2,\"linecolor\":\"white\",\"showbackground\":true,\"ticks\":\"\",\"zerolinecolor\":\"white\"},\"yaxis\":{\"backgroundcolor\":\"#E5ECF6\",\"gridcolor\":\"white\",\"gridwidth\":2,\"linecolor\":\"white\",\"showbackground\":true,\"ticks\":\"\",\"zerolinecolor\":\"white\"},\"zaxis\":{\"backgroundcolor\":\"#E5ECF6\",\"gridcolor\":\"white\",\"gridwidth\":2,\"linecolor\":\"white\",\"showbackground\":true,\"ticks\":\"\",\"zerolinecolor\":\"white\"}},\"shapedefaults\":{\"line\":{\"color\":\"#2a3f5f\"}},\"ternary\":{\"aaxis\":{\"gridcolor\":\"white\",\"linecolor\":\"white\",\"ticks\":\"\"},\"baxis\":{\"gridcolor\":\"white\",\"linecolor\":\"white\",\"ticks\":\"\"},\"bgcolor\":\"#E5ECF6\",\"caxis\":{\"gridcolor\":\"white\",\"linecolor\":\"white\",\"ticks\":\"\"}},\"title\":{\"x\":0.05},\"xaxis\":{\"automargin\":true,\"gridcolor\":\"white\",\"linecolor\":\"white\",\"ticks\":\"\",\"title\":{\"standoff\":15},\"zerolinecolor\":\"white\",\"zerolinewidth\":2},\"yaxis\":{\"automargin\":true,\"gridcolor\":\"white\",\"linecolor\":\"white\",\"ticks\":\"\",\"title\":{\"standoff\":15},\"zerolinecolor\":\"white\",\"zerolinewidth\":2}}},\"xaxis\":{\"anchor\":\"y\",\"domain\":[0.0,1.0],\"title\":{\"text\":\"Features\"}},\"yaxis\":{\"anchor\":\"x\",\"domain\":[0.0,1.0],\"title\":{\"text\":\"avg_scores\"}},\"legend\":{\"tracegroupgap\":0},\"title\":{\"text\":\"Score average\"},\"barmode\":\"relative\"},                        {\"responsive\": true}                    ).then(function(){\n",
       "                            \n",
       "var gd = document.getElementById('0523dd9a-21e9-4665-9c56-3a8ce3445508');\n",
       "var x = new MutationObserver(function (mutations, observer) {{\n",
       "        var display = window.getComputedStyle(gd).display;\n",
       "        if (!display || display === 'none') {{\n",
       "            console.log([gd, 'removed!']);\n",
       "            Plotly.purge(gd);\n",
       "            observer.disconnect();\n",
       "        }}\n",
       "}});\n",
       "\n",
       "// Listen for the removal of the full notebook cells\n",
       "var notebookContainer = gd.closest('#notebook-container');\n",
       "if (notebookContainer) {{\n",
       "    x.observe(notebookContainer, {childList: true});\n",
       "}}\n",
       "\n",
       "// Listen for the clearing of the current output cell\n",
       "var outputEl = gd.closest('.output');\n",
       "if (outputEl) {{\n",
       "    x.observe(outputEl, {childList: true});\n",
       "}}\n",
       "\n",
       "                        })                };                });            </script>        </div>"
      ]
     },
     "metadata": {},
     "output_type": "display_data"
    },
    {
     "data": {
      "application/vnd.plotly.v1+json": {
       "config": {
        "plotlyServerURL": "https://plot.ly"
       },
       "data": [
        {
         "cells": {
          "align": "left",
          "fill": {
           "color": "lavender"
          },
          "values": [
           [
            "dusaf",
            "dusafSum",
            "dsf2",
            "dsf3",
            "dsf4",
            "dsf5",
            "dsf11",
            "dsf12",
            "dsf13",
            "dsf14",
            "siarl",
            "siarlSum",
            "siarl2",
            "siarl9",
            "siarl12",
            "h_mean",
            "aspect_mean",
            "slope_mean",
            "soil",
            "soilSum",
            "soil1",
            "soil2",
            "soil4",
            "soil5",
            "soil6",
            "soil7",
            "soil8",
            "soil9",
            "soil_text",
            "soilTextSum",
            "soil_text1",
            "soil_text2",
            "soil_text3",
            "soil_text4",
            "soil_text5",
            "soil_text6",
            "soil_text7",
            "soil_text8",
            "soil_text9",
            "soil_text10",
            "pop",
            "int_prim",
            "int_prim_sec",
            "int_sec",
            "highway",
            "prim_road",
            "sec_road",
            "farms",
            "farm_pigs",
            "farm_poultry",
            "farm_sheep",
            "soil_moist",
            "ndvi",
            "temp_2m",
            "prec",
            "press",
            "n_wind",
            "e_wind",
            "no2_s5p",
            "so2_s5p",
            "aod_055",
            "aod_047",
            "uvai",
            "co_s5p",
            "ch2o_s5p",
            "o3_s5p",
            "nh3_cams",
            "no_cams",
            "co_cams",
            "dust_cams",
            "pm10_cams",
            "no2_cams",
            "nmvocs_cams",
            "so2_cams",
            "o3_cams",
            "co_int",
            "nh3_int",
            "no2_int",
            "nox_int",
            "o3_int",
            "pm10_int",
            "pm25_int",
            "so2_int",
            "air_hum_int",
            "prec_int",
            "rad_glob_int",
            "temp_int",
            "wind_dir_int",
            "wind_speed_int"
           ],
           [
            0.41647166577081457,
            0.6122168813272426,
            0.8883870575877197,
            0.11629720992103193,
            0.5456069393221086,
            0.4755589439684765,
            0.7342704629934257,
            0.78487586759771,
            0.6789199337610295,
            0.7049272922079688,
            0.6285534778184225,
            0.6119934879912873,
            0.7573672717179545,
            0.8528455609056486,
            0.5809761915960008,
            0.04731892538933796,
            0.7246319181470114,
            0.014279136424927175,
            0.42941592798989486,
            0.5516105464086964,
            0.5186748972996829,
            0.5254388283038147,
            0.5334184306842314,
            0.5650686280362374,
            0.5100273990467005,
            0.48615813991501505,
            0.6171874932327123,
            0.3182556687639493,
            0.2368412495303202,
            0.6127143725927057,
            0.5139351311489595,
            0.5477812328296374,
            0.5673565957993413,
            0.729481489299933,
            0.6893022155960387,
            0.5774787888914203,
            0.6132647702122616,
            0.42556026115140877,
            0.17950921947473708,
            0.5246582238151548,
            0.6582096245883376,
            0.7704102486637641,
            0.8108230349319372,
            0.8010821004226105,
            0.7034740652714855,
            0.7326848175030345,
            0.8201794656480417,
            0.8508776964108853,
            0.7110535880220792,
            0.7472683380606797,
            0.48297015227575957,
            0.6343502005970747,
            0.5786591071917955,
            0.9243509071098442,
            0.6001369482166734,
            0.9501133303996181,
            0.478819106534273,
            0.7438342455723632,
            0.9164849474436988,
            0.5831477671657632,
            0.881711761639135,
            0.8851428371154153,
            0.7299117807381091,
            0.9490153447303487,
            0.8097645642645688,
            0.9313486575871965,
            0.8728984357294747,
            0.8049949394762639,
            0.9804470061525257,
            0.3351217417032514,
            1,
            0.960719972683906,
            0.9364211206235353,
            0.880690146258585,
            0,
            0.6907250281254143,
            0.6605670135384434,
            0.8810667543924999,
            0.8018590420801739,
            0.20608853428749951,
            0.9023204944002392,
            0.8002498370507303,
            0.8044834005305621,
            0.8508097337345126,
            0.5334417981315311,
            0.30887002272057384,
            0.9172205218058467,
            0.7706548933220263,
            0.197425820452727
           ],
           [
            0.12928137203790102,
            0.6519295312519148,
            0.895075788970736,
            0.16005021303184996,
            0.6847194056102215,
            0.6025408669960928,
            0.8071387129697992,
            0.8812645197579544,
            0.7830203112658134,
            0.8138776785518453,
            0.67107179347909,
            0.6398289992191372,
            0.8864177212505915,
            0.9460565018372177,
            0.6574234984369017,
            0.050430744487395485,
            0.764920259505699,
            0.05260327136135634,
            0.4467481482071683,
            0.5571730492772269,
            0.5475552762431519,
            0.5561626483526263,
            0.5716140085121137,
            0.5886766860630674,
            0.5070845015883088,
            0.5759366932214283,
            0.7412992863260919,
            0.205833874277005,
            0.31018238110004215,
            0.6496566539138938,
            0.5106783141674414,
            0.5554827071570309,
            0.6594126722995917,
            0.7194324005708522,
            0.7199346628545893,
            0.5958173732299662,
            0.6579172766224285,
            0.418024381129233,
            0.22030861208086105,
            0.5040206398140068,
            0.8059801617651122,
            0.8491926538821126,
            0.8270721991241696,
            0.852878931417933,
            0.7358980177944653,
            0.7523777536781959,
            0.8414729440911324,
            0.9231618364999877,
            0.7852794264101379,
            0.8517485302953931,
            0.6026198396529637,
            0.6375425036130586,
            0.532549698451304,
            0.9175339421949376,
            0.583599909500389,
            0.9287491318307957,
            0.5266363918954888,
            0.736606809723376,
            0.9259057520128942,
            0.5845442663821632,
            0.9166553501374722,
            0.9154907406412286,
            0.7214365070605635,
            0.9454839636506138,
            0.7912534497810251,
            0.9315269753930724,
            0.97565432365765,
            0.9578344199691357,
            0.9741320951747295,
            0.42392290791515624,
            1.0000000000000002,
            0.9614955135219916,
            0.968352244266732,
            0.9370498943898137,
            0,
            0.6848504455199342,
            0.6461054111945757,
            0.9038922726945725,
            0.8346404092679587,
            0.16514942787593573,
            0.898337181354161,
            0.7982412750018955,
            0.8022908198153638,
            0.8577808142909553,
            0.4822912845269944,
            0.3145857937356574,
            0.9360720636666853,
            0.7570660371611423,
            0.1791076077017612
           ],
           [
            0.13840461575348734,
            0.5852888299091019,
            0.788521891381123,
            0.19618794430694064,
            0.5980830815303955,
            0.529503248139463,
            0.7000105508930596,
            0.7716763768262265,
            0.6810338005509277,
            0.7125661469791922,
            0.5878528653818562,
            0.572677096835593,
            0.7691306980841331,
            0.8636947338551614,
            0.5940638680621821,
            0.07793833200591643,
            0.6559714795008913,
            0.09508097242765573,
            0.41609129952479523,
            0.5063248858303991,
            0.5029982246525079,
            0.5102389516226232,
            0.5222890530904887,
            0.5333381728454616,
            0.4691136944512173,
            0.5142159884766798,
            0.6588032638004726,
            0.21722813300164387,
            0.3168895680763849,
            0.5807785843344343,
            0.47219308488290546,
            0.5104295978102849,
            0.5803650238831763,
            0.6258069016984786,
            0.650862038483236,
            0.5482521515181271,
            0.5946287246703541,
            0.38928888439239717,
            0.23875883449312246,
            0.46498082452826706,
            0.7001860313995015,
            0.7522379460101297,
            0.7230620635717901,
            0.744314331984397,
            0.6672490172337642,
            0.6538440868074149,
            0.730897918726979,
            0.8316304257572547,
            0.6871768217471946,
            0.7560811486585333,
            0.5392033102141243,
            0.6017559828573595,
            0.4855121932718929,
            0.8265066181211362,
            0.527041377479425,
            0.8418856904463914,
            0.4558728713922706,
            0.6247961466985247,
            0.8429476239238443,
            0.5131374440687495,
            0.8054334372518623,
            0.8044454423843842,
            0.6459020745629006,
            0.8653051162437896,
            0.690085699446737,
            0.8435734061516289,
            0.9150073956081466,
            0.8819736792202375,
            0.9191603140288997,
            0.41781393408427203,
            1,
            0.8860507452497439,
            0.9092046876777791,
            0.8599764857587135,
            0,
            0.5835324458603557,
            0.5693290855994235,
            0.7923920051579626,
            0.7192892630940191,
            0.1951682026775894,
            0.7857169947282588,
            0.6870330337163879,
            0.6942769370804415,
            0.7353699700383055,
            0.44682747373610954,
            0.3174801835627868,
            0.8477832138658171,
            0.6525201956991694,
            0.21022490234004623
           ],
           [
            2.1760493269461374E-5,
            7.972959996572785E-5,
            0.002793496693311098,
            0.002096633516976325,
            2.1505587907982305E-5,
            3.949759324453687E-8,
            5.624534973055933E-4,
            8.613569525003112E-4,
            3.439300324040996E-4,
            4.1893777507766614E-4,
            1.2346059487495955E-4,
            7.942845000982469E-5,
            8.07631108713245E-4,
            0.0018072085021012144,
            7.953174747871893E-5,
            0.004938892997772929,
            4.6009662447711407E-4,
            0.01103881645440209,
            1.2158277222198427E-5,
            1.912459168135666E-5,
            7.798655958997127E-6,
            1.0987285229470312E-5,
            8.81719915955049E-6,
            4.9471321653889275E-5,
            0,
            1.9765429851511644E-8,
            1.178340178100179E-4,
            2.3616654944239027E-4,
            4.860125317294263E-4,
            8.027329672174229E-5,
            3.1643011930500176E-6,
            2.188810076146685E-5,
            3.878750279442104E-5,
            5.69807840457882E-4,
            3.07941824135857E-4,
            6.965588018576497E-5,
            1.5065812738453314E-4,
            2.6005235510319524E-5,
            0.001177461175639375,
            1.0279013075830262E-5,
            2.813209731672075E-4,
            8.210433782422148E-4,
            0.0011571869372306778,
            0.001053586046734757,
            3.745335228849653E-4,
            5.095770425335166E-4,
            0.0012978904669367775,
            0.001836069220432606,
            3.884799746750751E-4,
            5.467555407053471E-4,
            4.375056117249964E-7,
            1.6111740430516515E-4,
            6.466700250341377E-5,
            0.004812173150878698,
            8.460298884493465E-5,
            0.008180594539420426,
            4.516324624288456E-6,
            5.233560140268603E-4,
            0.0048520857653678445,
            5.0583227846034635E-5,
            0.0027012877430825366,
            0.002853529361757107,
            4.5059423682946827E-4,
            0.008047030763427962,
            0.0012449665662604035,
            0.0058920724691353486,
            0.0024463003350503917,
            0.0012407892567678478,
            0.023717515275095438,
            2.0049646175173677E-4,
            1,
            0.010998113878581897,
            0.006452663597107495,
            0.002623208541426256,
            0.017331043604979383,
            3.8345136372193304E-4,
            1.867872519932871E-4,
            0.0027625906519007787,
            0.0012427606602287808,
            7.939444900684547E-4,
            0.0032466189767938677,
            0.0010415940551850994,
            0.0012050961589579036,
            0.0019225171860131375,
            6.59967023938277E-6,
            3.340305929210465E-4,
            0.004491730915114654,
            8.615303592472164E-4,
            8.95535168890374E-4
           ],
           [
            0,
            0,
            0,
            0,
            1,
            1,
            1,
            1,
            1,
            1,
            0,
            1,
            1,
            1,
            1,
            0,
            0,
            0,
            0,
            0,
            0,
            0,
            0,
            0,
            1,
            0,
            0,
            0,
            0,
            0,
            0,
            0,
            0,
            0,
            0,
            0,
            0,
            0,
            0,
            0,
            0,
            0,
            0,
            0,
            0,
            0,
            0,
            0,
            0,
            0,
            0,
            1,
            0,
            0,
            1,
            0,
            1,
            1,
            1,
            1,
            0,
            0,
            1,
            1,
            1,
            1,
            0,
            0,
            0,
            1,
            0,
            0,
            0,
            0,
            0,
            1,
            0,
            0,
            0,
            0,
            0,
            0,
            0,
            0,
            1,
            0,
            0,
            0,
            0
           ],
           [
            3.6397907046550945E-6,
            4.074544513519811E-6,
            2.2868319300143107E-5,
            2.8028754142358147E-5,
            2.0100804195873083E-5,
            2.712617808126524E-5,
            2.7819428648059128E-5,
            1.2155525802680065E-5,
            1.1355342656184616E-5,
            2.100990904679898E-5,
            2.208990279868577E-6,
            3.071514448447277E-6,
            1.9093894234340536E-5,
            2.1885416921388612E-5,
            2.998678288940787E-6,
            1.4477694362886969E-5,
            1.0669147089207968E-5,
            1.609273084006337E-5,
            1.5813323224273147E-6,
            1.812378110736653E-5,
            1.7091440809416007E-6,
            5.169760626747948E-6,
            3.3361690572493545E-5,
            1.2517102618083675E-5,
            0,
            4.617460689233941E-5,
            1.2346936234934738E-5,
            4.692330787978486E-6,
            3.474862138411924E-6,
            5.188009078482111E-6,
            1.155866805033196E-5,
            2.788316818924902E-7,
            1.9991883968727683E-5,
            1.7222652075340158E-5,
            5.092088055989878E-6,
            7.325355608348988E-7,
            4.7363307959867916E-6,
            2.360538139171601E-7,
            1.4975373772357445E-5,
            3.236146134832493E-6,
            3.141428177898266E-5,
            1.045368487813414E-5,
            2.2861709673286442E-5,
            8.264866912174089E-6,
            4.0333523057520165E-6,
            2.5330622167951124E-5,
            1.21457012438182E-5,
            1.4576278955939297E-5,
            1.768328520037986E-5,
            2.85466205295262E-5,
            2.31158166867056E-5,
            6.36599792981565E-5,
            2.7444292172404607E-5,
            5.406393195794121E-5,
            3.406080502987798E-5,
            3.550389837564528E-5,
            1.3756815918648918E-5,
            1.6398680267855285E-5,
            7.78154983900219E-4,
            4.864813376255875E-5,
            2.9534658265042906E-5,
            1.0575207598542128E-5,
            1.549448061485121E-5,
            5.1874194763704566E-5,
            3.447175254029338E-5,
            3.4050549911613825E-5,
            1.4303760371852325E-4,
            0.009001032461555102,
            0.019430409141660457,
            4.747021271046813E-5,
            1,
            3.250316047050374E-5,
            0.0024865413165683216,
            0.036305902676247184,
            2.0167558248770587E-5,
            1.0999080173176252E-5,
            1.1992573508868464E-5,
            2.986796793288271E-5,
            2.6779812791372403E-5,
            3.065928149273242E-5,
            1.6305755335257415E-5,
            1.64342714881601E-5,
            1.8019161474192197E-5,
            2.4862281385550274E-5,
            2.281284931040695E-5,
            2.0892110567823004E-5,
            2.5754187538362858E-5,
            3.132266435797268E-5,
            2.7664278300093814E-5
           ],
           [
            0.11403050897436283,
            0.30825317443878975,
            0.4291335171586983,
            0.07911000492182353,
            0.4714085054758049,
            0.43460503746328444,
            0.5403349999637064,
            0.5731150461100324,
            0.5238882218254718,
            0.5386351775705218,
            0.3146006343774206,
            0.4707636806684126,
            0.5689570693426044,
            0.6107376484195084,
            0.47209101475347537,
            0.030106895429130948,
            0.3576657371541947,
            0.02883638156653023,
            0.21537818588856716,
            0.26919095498151857,
            0.26153965099923043,
            0.2653094308874867,
            0.27122727852942763,
            0.2811909125615064,
            0.4143709325143711,
            0.2627261693309076,
            0.3362367040522203,
            0.12359308915380474,
            0.14406711435010253,
            0.30720584535780565,
            0.24947020886142493,
            0.2689526174548994,
            0.3011988452281454,
            0.3458846370102994,
            0.343401991807676,
            0.2869364503425434,
            0.31099436099387073,
            0.20548329466039386,
            0.1066281837663554,
            0.2489455338861066,
            0.36078142550131626,
            0.39544539093652115,
            0.39368955771246683,
            0.39988953578976466,
            0.3511666111958176,
            0.35657359427555774,
            0.3989767274390556,
            0.4345867673612527,
            0.36398599990654795,
            0.3926122198626402,
            0.27080280924419103,
            0.4789789107418494,
            0.26613551836827803,
            0.44554295075145917,
            0.451816149831727,
            0.45482737518576677,
            0.41022444049376267,
            0.5176294927814264,
            0.6151614273549509,
            0.4468214514963808,
            0.4344218952383028,
            0.4346571874517306,
            0.5162860751798363,
            0.627983888263824,
            0.5487305253018553,
            0.6187291936918241,
            0.4610249154890067,
            0.44250747673066004,
            0.48614788996215186,
            0.3628510917295236,
            0.8333333333333334,
            0.46988280808244903,
            0.47048620958028703,
            0.4527742729374642,
            0.0028918685272046924,
            0.4932503949915999,
            0.3127000483596575,
            0.43002391514414473,
            0.392843042485862,
            0.09453846143543095,
            0.4316062658691313,
            0.3810970290159477,
            0.3837123787911332,
            0.40765131625519535,
            0.41043166148569754,
            0.15688182045375115,
            0.45093221407350037,
            0.36352232986765715,
            0.09794692165695416
           ]
          ]
         },
         "header": {
          "align": "left",
          "fill": {
           "color": "white"
          },
          "values": [
           "Features",
           "pearson",
           "spearmanr",
           "kendall",
           "fisher",
           "variance_threshold",
           "RF_importance",
           "avg_scores"
          ]
         },
         "type": "table"
        }
       ],
       "layout": {
        "autosize": false,
        "height": 800,
        "template": {
         "data": {
          "bar": [
           {
            "error_x": {
             "color": "#2a3f5f"
            },
            "error_y": {
             "color": "#2a3f5f"
            },
            "marker": {
             "line": {
              "color": "#E5ECF6",
              "width": 0.5
             },
             "pattern": {
              "fillmode": "overlay",
              "size": 10,
              "solidity": 0.2
             }
            },
            "type": "bar"
           }
          ],
          "barpolar": [
           {
            "marker": {
             "line": {
              "color": "#E5ECF6",
              "width": 0.5
             },
             "pattern": {
              "fillmode": "overlay",
              "size": 10,
              "solidity": 0.2
             }
            },
            "type": "barpolar"
           }
          ],
          "carpet": [
           {
            "aaxis": {
             "endlinecolor": "#2a3f5f",
             "gridcolor": "white",
             "linecolor": "white",
             "minorgridcolor": "white",
             "startlinecolor": "#2a3f5f"
            },
            "baxis": {
             "endlinecolor": "#2a3f5f",
             "gridcolor": "white",
             "linecolor": "white",
             "minorgridcolor": "white",
             "startlinecolor": "#2a3f5f"
            },
            "type": "carpet"
           }
          ],
          "choropleth": [
           {
            "colorbar": {
             "outlinewidth": 0,
             "ticks": ""
            },
            "type": "choropleth"
           }
          ],
          "contour": [
           {
            "colorbar": {
             "outlinewidth": 0,
             "ticks": ""
            },
            "colorscale": [
             [
              0,
              "#0d0887"
             ],
             [
              0.1111111111111111,
              "#46039f"
             ],
             [
              0.2222222222222222,
              "#7201a8"
             ],
             [
              0.3333333333333333,
              "#9c179e"
             ],
             [
              0.4444444444444444,
              "#bd3786"
             ],
             [
              0.5555555555555556,
              "#d8576b"
             ],
             [
              0.6666666666666666,
              "#ed7953"
             ],
             [
              0.7777777777777778,
              "#fb9f3a"
             ],
             [
              0.8888888888888888,
              "#fdca26"
             ],
             [
              1,
              "#f0f921"
             ]
            ],
            "type": "contour"
           }
          ],
          "contourcarpet": [
           {
            "colorbar": {
             "outlinewidth": 0,
             "ticks": ""
            },
            "type": "contourcarpet"
           }
          ],
          "heatmap": [
           {
            "colorbar": {
             "outlinewidth": 0,
             "ticks": ""
            },
            "colorscale": [
             [
              0,
              "#0d0887"
             ],
             [
              0.1111111111111111,
              "#46039f"
             ],
             [
              0.2222222222222222,
              "#7201a8"
             ],
             [
              0.3333333333333333,
              "#9c179e"
             ],
             [
              0.4444444444444444,
              "#bd3786"
             ],
             [
              0.5555555555555556,
              "#d8576b"
             ],
             [
              0.6666666666666666,
              "#ed7953"
             ],
             [
              0.7777777777777778,
              "#fb9f3a"
             ],
             [
              0.8888888888888888,
              "#fdca26"
             ],
             [
              1,
              "#f0f921"
             ]
            ],
            "type": "heatmap"
           }
          ],
          "heatmapgl": [
           {
            "colorbar": {
             "outlinewidth": 0,
             "ticks": ""
            },
            "colorscale": [
             [
              0,
              "#0d0887"
             ],
             [
              0.1111111111111111,
              "#46039f"
             ],
             [
              0.2222222222222222,
              "#7201a8"
             ],
             [
              0.3333333333333333,
              "#9c179e"
             ],
             [
              0.4444444444444444,
              "#bd3786"
             ],
             [
              0.5555555555555556,
              "#d8576b"
             ],
             [
              0.6666666666666666,
              "#ed7953"
             ],
             [
              0.7777777777777778,
              "#fb9f3a"
             ],
             [
              0.8888888888888888,
              "#fdca26"
             ],
             [
              1,
              "#f0f921"
             ]
            ],
            "type": "heatmapgl"
           }
          ],
          "histogram": [
           {
            "marker": {
             "pattern": {
              "fillmode": "overlay",
              "size": 10,
              "solidity": 0.2
             }
            },
            "type": "histogram"
           }
          ],
          "histogram2d": [
           {
            "colorbar": {
             "outlinewidth": 0,
             "ticks": ""
            },
            "colorscale": [
             [
              0,
              "#0d0887"
             ],
             [
              0.1111111111111111,
              "#46039f"
             ],
             [
              0.2222222222222222,
              "#7201a8"
             ],
             [
              0.3333333333333333,
              "#9c179e"
             ],
             [
              0.4444444444444444,
              "#bd3786"
             ],
             [
              0.5555555555555556,
              "#d8576b"
             ],
             [
              0.6666666666666666,
              "#ed7953"
             ],
             [
              0.7777777777777778,
              "#fb9f3a"
             ],
             [
              0.8888888888888888,
              "#fdca26"
             ],
             [
              1,
              "#f0f921"
             ]
            ],
            "type": "histogram2d"
           }
          ],
          "histogram2dcontour": [
           {
            "colorbar": {
             "outlinewidth": 0,
             "ticks": ""
            },
            "colorscale": [
             [
              0,
              "#0d0887"
             ],
             [
              0.1111111111111111,
              "#46039f"
             ],
             [
              0.2222222222222222,
              "#7201a8"
             ],
             [
              0.3333333333333333,
              "#9c179e"
             ],
             [
              0.4444444444444444,
              "#bd3786"
             ],
             [
              0.5555555555555556,
              "#d8576b"
             ],
             [
              0.6666666666666666,
              "#ed7953"
             ],
             [
              0.7777777777777778,
              "#fb9f3a"
             ],
             [
              0.8888888888888888,
              "#fdca26"
             ],
             [
              1,
              "#f0f921"
             ]
            ],
            "type": "histogram2dcontour"
           }
          ],
          "mesh3d": [
           {
            "colorbar": {
             "outlinewidth": 0,
             "ticks": ""
            },
            "type": "mesh3d"
           }
          ],
          "parcoords": [
           {
            "line": {
             "colorbar": {
              "outlinewidth": 0,
              "ticks": ""
             }
            },
            "type": "parcoords"
           }
          ],
          "pie": [
           {
            "automargin": true,
            "type": "pie"
           }
          ],
          "scatter": [
           {
            "marker": {
             "colorbar": {
              "outlinewidth": 0,
              "ticks": ""
             }
            },
            "type": "scatter"
           }
          ],
          "scatter3d": [
           {
            "line": {
             "colorbar": {
              "outlinewidth": 0,
              "ticks": ""
             }
            },
            "marker": {
             "colorbar": {
              "outlinewidth": 0,
              "ticks": ""
             }
            },
            "type": "scatter3d"
           }
          ],
          "scattercarpet": [
           {
            "marker": {
             "colorbar": {
              "outlinewidth": 0,
              "ticks": ""
             }
            },
            "type": "scattercarpet"
           }
          ],
          "scattergeo": [
           {
            "marker": {
             "colorbar": {
              "outlinewidth": 0,
              "ticks": ""
             }
            },
            "type": "scattergeo"
           }
          ],
          "scattergl": [
           {
            "marker": {
             "colorbar": {
              "outlinewidth": 0,
              "ticks": ""
             }
            },
            "type": "scattergl"
           }
          ],
          "scattermapbox": [
           {
            "marker": {
             "colorbar": {
              "outlinewidth": 0,
              "ticks": ""
             }
            },
            "type": "scattermapbox"
           }
          ],
          "scatterpolar": [
           {
            "marker": {
             "colorbar": {
              "outlinewidth": 0,
              "ticks": ""
             }
            },
            "type": "scatterpolar"
           }
          ],
          "scatterpolargl": [
           {
            "marker": {
             "colorbar": {
              "outlinewidth": 0,
              "ticks": ""
             }
            },
            "type": "scatterpolargl"
           }
          ],
          "scatterternary": [
           {
            "marker": {
             "colorbar": {
              "outlinewidth": 0,
              "ticks": ""
             }
            },
            "type": "scatterternary"
           }
          ],
          "surface": [
           {
            "colorbar": {
             "outlinewidth": 0,
             "ticks": ""
            },
            "colorscale": [
             [
              0,
              "#0d0887"
             ],
             [
              0.1111111111111111,
              "#46039f"
             ],
             [
              0.2222222222222222,
              "#7201a8"
             ],
             [
              0.3333333333333333,
              "#9c179e"
             ],
             [
              0.4444444444444444,
              "#bd3786"
             ],
             [
              0.5555555555555556,
              "#d8576b"
             ],
             [
              0.6666666666666666,
              "#ed7953"
             ],
             [
              0.7777777777777778,
              "#fb9f3a"
             ],
             [
              0.8888888888888888,
              "#fdca26"
             ],
             [
              1,
              "#f0f921"
             ]
            ],
            "type": "surface"
           }
          ],
          "table": [
           {
            "cells": {
             "fill": {
              "color": "#EBF0F8"
             },
             "line": {
              "color": "white"
             }
            },
            "header": {
             "fill": {
              "color": "#C8D4E3"
             },
             "line": {
              "color": "white"
             }
            },
            "type": "table"
           }
          ]
         },
         "layout": {
          "annotationdefaults": {
           "arrowcolor": "#2a3f5f",
           "arrowhead": 0,
           "arrowwidth": 1
          },
          "autotypenumbers": "strict",
          "coloraxis": {
           "colorbar": {
            "outlinewidth": 0,
            "ticks": ""
           }
          },
          "colorscale": {
           "diverging": [
            [
             0,
             "#8e0152"
            ],
            [
             0.1,
             "#c51b7d"
            ],
            [
             0.2,
             "#de77ae"
            ],
            [
             0.3,
             "#f1b6da"
            ],
            [
             0.4,
             "#fde0ef"
            ],
            [
             0.5,
             "#f7f7f7"
            ],
            [
             0.6,
             "#e6f5d0"
            ],
            [
             0.7,
             "#b8e186"
            ],
            [
             0.8,
             "#7fbc41"
            ],
            [
             0.9,
             "#4d9221"
            ],
            [
             1,
             "#276419"
            ]
           ],
           "sequential": [
            [
             0,
             "#0d0887"
            ],
            [
             0.1111111111111111,
             "#46039f"
            ],
            [
             0.2222222222222222,
             "#7201a8"
            ],
            [
             0.3333333333333333,
             "#9c179e"
            ],
            [
             0.4444444444444444,
             "#bd3786"
            ],
            [
             0.5555555555555556,
             "#d8576b"
            ],
            [
             0.6666666666666666,
             "#ed7953"
            ],
            [
             0.7777777777777778,
             "#fb9f3a"
            ],
            [
             0.8888888888888888,
             "#fdca26"
            ],
            [
             1,
             "#f0f921"
            ]
           ],
           "sequentialminus": [
            [
             0,
             "#0d0887"
            ],
            [
             0.1111111111111111,
             "#46039f"
            ],
            [
             0.2222222222222222,
             "#7201a8"
            ],
            [
             0.3333333333333333,
             "#9c179e"
            ],
            [
             0.4444444444444444,
             "#bd3786"
            ],
            [
             0.5555555555555556,
             "#d8576b"
            ],
            [
             0.6666666666666666,
             "#ed7953"
            ],
            [
             0.7777777777777778,
             "#fb9f3a"
            ],
            [
             0.8888888888888888,
             "#fdca26"
            ],
            [
             1,
             "#f0f921"
            ]
           ]
          },
          "colorway": [
           "#636efa",
           "#EF553B",
           "#00cc96",
           "#ab63fa",
           "#FFA15A",
           "#19d3f3",
           "#FF6692",
           "#B6E880",
           "#FF97FF",
           "#FECB52"
          ],
          "font": {
           "color": "#2a3f5f"
          },
          "geo": {
           "bgcolor": "white",
           "lakecolor": "white",
           "landcolor": "#E5ECF6",
           "showlakes": true,
           "showland": true,
           "subunitcolor": "white"
          },
          "hoverlabel": {
           "align": "left"
          },
          "hovermode": "closest",
          "mapbox": {
           "style": "light"
          },
          "paper_bgcolor": "white",
          "plot_bgcolor": "#E5ECF6",
          "polar": {
           "angularaxis": {
            "gridcolor": "white",
            "linecolor": "white",
            "ticks": ""
           },
           "bgcolor": "#E5ECF6",
           "radialaxis": {
            "gridcolor": "white",
            "linecolor": "white",
            "ticks": ""
           }
          },
          "scene": {
           "xaxis": {
            "backgroundcolor": "#E5ECF6",
            "gridcolor": "white",
            "gridwidth": 2,
            "linecolor": "white",
            "showbackground": true,
            "ticks": "",
            "zerolinecolor": "white"
           },
           "yaxis": {
            "backgroundcolor": "#E5ECF6",
            "gridcolor": "white",
            "gridwidth": 2,
            "linecolor": "white",
            "showbackground": true,
            "ticks": "",
            "zerolinecolor": "white"
           },
           "zaxis": {
            "backgroundcolor": "#E5ECF6",
            "gridcolor": "white",
            "gridwidth": 2,
            "linecolor": "white",
            "showbackground": true,
            "ticks": "",
            "zerolinecolor": "white"
           }
          },
          "shapedefaults": {
           "line": {
            "color": "#2a3f5f"
           }
          },
          "ternary": {
           "aaxis": {
            "gridcolor": "white",
            "linecolor": "white",
            "ticks": ""
           },
           "baxis": {
            "gridcolor": "white",
            "linecolor": "white",
            "ticks": ""
           },
           "bgcolor": "#E5ECF6",
           "caxis": {
            "gridcolor": "white",
            "linecolor": "white",
            "ticks": ""
           }
          },
          "title": {
           "x": 0.05
          },
          "xaxis": {
           "automargin": true,
           "gridcolor": "white",
           "linecolor": "white",
           "ticks": "",
           "title": {
            "standoff": 15
           },
           "zerolinecolor": "white",
           "zerolinewidth": 2
          },
          "yaxis": {
           "automargin": true,
           "gridcolor": "white",
           "linecolor": "white",
           "ticks": "",
           "title": {
            "standoff": 15
           },
           "zerolinecolor": "white",
           "zerolinewidth": 2
          }
         }
        },
        "width": 1000
       }
      },
      "text/html": [
       "<div>                            <div id=\"312ee4e8-c0ee-4b87-bf15-155f9bde4519\" class=\"plotly-graph-div\" style=\"height:800px; width:1000px;\"></div>            <script type=\"text/javascript\">                require([\"plotly\"], function(Plotly) {                    window.PLOTLYENV=window.PLOTLYENV || {};                                    if (document.getElementById(\"312ee4e8-c0ee-4b87-bf15-155f9bde4519\")) {                    Plotly.newPlot(                        \"312ee4e8-c0ee-4b87-bf15-155f9bde4519\",                        [{\"cells\":{\"align\":\"left\",\"fill\":{\"color\":\"lavender\"},\"values\":[[\"dusaf\",\"dusafSum\",\"dsf2\",\"dsf3\",\"dsf4\",\"dsf5\",\"dsf11\",\"dsf12\",\"dsf13\",\"dsf14\",\"siarl\",\"siarlSum\",\"siarl2\",\"siarl9\",\"siarl12\",\"h_mean\",\"aspect_mean\",\"slope_mean\",\"soil\",\"soilSum\",\"soil1\",\"soil2\",\"soil4\",\"soil5\",\"soil6\",\"soil7\",\"soil8\",\"soil9\",\"soil_text\",\"soilTextSum\",\"soil_text1\",\"soil_text2\",\"soil_text3\",\"soil_text4\",\"soil_text5\",\"soil_text6\",\"soil_text7\",\"soil_text8\",\"soil_text9\",\"soil_text10\",\"pop\",\"int_prim\",\"int_prim_sec\",\"int_sec\",\"highway\",\"prim_road\",\"sec_road\",\"farms\",\"farm_pigs\",\"farm_poultry\",\"farm_sheep\",\"soil_moist\",\"ndvi\",\"temp_2m\",\"prec\",\"press\",\"n_wind\",\"e_wind\",\"no2_s5p\",\"so2_s5p\",\"aod_055\",\"aod_047\",\"uvai\",\"co_s5p\",\"ch2o_s5p\",\"o3_s5p\",\"nh3_cams\",\"no_cams\",\"co_cams\",\"dust_cams\",\"pm10_cams\",\"no2_cams\",\"nmvocs_cams\",\"so2_cams\",\"o3_cams\",\"co_int\",\"nh3_int\",\"no2_int\",\"nox_int\",\"o3_int\",\"pm10_int\",\"pm25_int\",\"so2_int\",\"air_hum_int\",\"prec_int\",\"rad_glob_int\",\"temp_int\",\"wind_dir_int\",\"wind_speed_int\"],[0.41647166577081457,0.6122168813272426,0.8883870575877197,0.11629720992103193,0.5456069393221086,0.4755589439684765,0.7342704629934257,0.78487586759771,0.6789199337610295,0.7049272922079688,0.6285534778184225,0.6119934879912873,0.7573672717179545,0.8528455609056486,0.5809761915960008,0.04731892538933796,0.7246319181470114,0.014279136424927175,0.42941592798989486,0.5516105464086964,0.5186748972996829,0.5254388283038147,0.5334184306842314,0.5650686280362374,0.5100273990467005,0.48615813991501505,0.6171874932327123,0.3182556687639493,0.2368412495303202,0.6127143725927057,0.5139351311489595,0.5477812328296374,0.5673565957993413,0.729481489299933,0.6893022155960387,0.5774787888914203,0.6132647702122616,0.42556026115140877,0.17950921947473708,0.5246582238151548,0.6582096245883376,0.7704102486637641,0.8108230349319372,0.8010821004226105,0.7034740652714855,0.7326848175030345,0.8201794656480417,0.8508776964108853,0.7110535880220792,0.7472683380606797,0.48297015227575957,0.6343502005970747,0.5786591071917955,0.9243509071098442,0.6001369482166734,0.9501133303996181,0.478819106534273,0.7438342455723632,0.9164849474436988,0.5831477671657632,0.881711761639135,0.8851428371154153,0.7299117807381091,0.9490153447303487,0.8097645642645688,0.9313486575871965,0.8728984357294747,0.8049949394762639,0.9804470061525257,0.3351217417032514,1.0,0.960719972683906,0.9364211206235353,0.880690146258585,0.0,0.6907250281254143,0.6605670135384434,0.8810667543924999,0.8018590420801739,0.20608853428749951,0.9023204944002392,0.8002498370507303,0.8044834005305621,0.8508097337345126,0.5334417981315311,0.30887002272057384,0.9172205218058467,0.7706548933220263,0.197425820452727],[0.12928137203790102,0.6519295312519148,0.895075788970736,0.16005021303184996,0.6847194056102215,0.6025408669960928,0.8071387129697992,0.8812645197579544,0.7830203112658134,0.8138776785518453,0.67107179347909,0.6398289992191372,0.8864177212505915,0.9460565018372177,0.6574234984369017,0.050430744487395485,0.764920259505699,0.05260327136135634,0.4467481482071683,0.5571730492772269,0.5475552762431519,0.5561626483526263,0.5716140085121137,0.5886766860630674,0.5070845015883088,0.5759366932214283,0.7412992863260919,0.205833874277005,0.31018238110004215,0.6496566539138938,0.5106783141674414,0.5554827071570309,0.6594126722995917,0.7194324005708522,0.7199346628545893,0.5958173732299662,0.6579172766224285,0.418024381129233,0.22030861208086105,0.5040206398140068,0.8059801617651122,0.8491926538821126,0.8270721991241696,0.852878931417933,0.7358980177944653,0.7523777536781959,0.8414729440911324,0.9231618364999877,0.7852794264101379,0.8517485302953931,0.6026198396529637,0.6375425036130586,0.532549698451304,0.9175339421949376,0.583599909500389,0.9287491318307957,0.5266363918954888,0.736606809723376,0.9259057520128942,0.5845442663821632,0.9166553501374722,0.9154907406412286,0.7214365070605635,0.9454839636506138,0.7912534497810251,0.9315269753930724,0.97565432365765,0.9578344199691357,0.9741320951747295,0.42392290791515624,1.0000000000000002,0.9614955135219916,0.968352244266732,0.9370498943898137,0.0,0.6848504455199342,0.6461054111945757,0.9038922726945725,0.8346404092679587,0.16514942787593573,0.898337181354161,0.7982412750018955,0.8022908198153638,0.8577808142909553,0.4822912845269944,0.3145857937356574,0.9360720636666853,0.7570660371611423,0.1791076077017612],[0.13840461575348734,0.5852888299091019,0.788521891381123,0.19618794430694064,0.5980830815303955,0.529503248139463,0.7000105508930596,0.7716763768262265,0.6810338005509277,0.7125661469791922,0.5878528653818562,0.572677096835593,0.7691306980841331,0.8636947338551614,0.5940638680621821,0.07793833200591643,0.6559714795008913,0.09508097242765573,0.41609129952479523,0.5063248858303991,0.5029982246525079,0.5102389516226232,0.5222890530904887,0.5333381728454616,0.4691136944512173,0.5142159884766798,0.6588032638004726,0.21722813300164387,0.3168895680763849,0.5807785843344343,0.47219308488290546,0.5104295978102849,0.5803650238831763,0.6258069016984786,0.650862038483236,0.5482521515181271,0.5946287246703541,0.38928888439239717,0.23875883449312246,0.46498082452826706,0.7001860313995015,0.7522379460101297,0.7230620635717901,0.744314331984397,0.6672490172337642,0.6538440868074149,0.730897918726979,0.8316304257572547,0.6871768217471946,0.7560811486585333,0.5392033102141243,0.6017559828573595,0.4855121932718929,0.8265066181211362,0.527041377479425,0.8418856904463914,0.4558728713922706,0.6247961466985247,0.8429476239238443,0.5131374440687495,0.8054334372518623,0.8044454423843842,0.6459020745629006,0.8653051162437896,0.690085699446737,0.8435734061516289,0.9150073956081466,0.8819736792202375,0.9191603140288997,0.41781393408427203,1.0,0.8860507452497439,0.9092046876777791,0.8599764857587135,0.0,0.5835324458603557,0.5693290855994235,0.7923920051579626,0.7192892630940191,0.1951682026775894,0.7857169947282588,0.6870330337163879,0.6942769370804415,0.7353699700383055,0.44682747373610954,0.3174801835627868,0.8477832138658171,0.6525201956991694,0.21022490234004623],[2.1760493269461374e-05,7.972959996572785e-05,0.002793496693311098,0.002096633516976325,2.1505587907982305e-05,3.949759324453687e-08,0.0005624534973055933,0.0008613569525003112,0.0003439300324040996,0.00041893777507766614,0.00012346059487495955,7.942845000982469e-05,0.000807631108713245,0.0018072085021012144,7.953174747871893e-05,0.004938892997772929,0.00046009662447711407,0.01103881645440209,1.2158277222198427e-05,1.912459168135666e-05,7.798655958997127e-06,1.0987285229470312e-05,8.81719915955049e-06,4.9471321653889275e-05,0.0,1.9765429851511644e-08,0.0001178340178100179,0.00023616654944239027,0.0004860125317294263,8.027329672174229e-05,3.1643011930500176e-06,2.188810076146685e-05,3.878750279442104e-05,0.000569807840457882,0.000307941824135857,6.965588018576497e-05,0.00015065812738453314,2.6005235510319524e-05,0.001177461175639375,1.0279013075830262e-05,0.0002813209731672075,0.0008210433782422148,0.0011571869372306778,0.001053586046734757,0.0003745335228849653,0.0005095770425335166,0.0012978904669367775,0.001836069220432606,0.0003884799746750751,0.0005467555407053471,4.375056117249964e-07,0.00016111740430516515,6.466700250341377e-05,0.004812173150878698,8.460298884493465e-05,0.008180594539420426,4.516324624288456e-06,0.0005233560140268603,0.0048520857653678445,5.0583227846034635e-05,0.0027012877430825366,0.002853529361757107,0.00045059423682946827,0.008047030763427962,0.0012449665662604035,0.0058920724691353486,0.0024463003350503917,0.0012407892567678478,0.023717515275095438,0.00020049646175173677,1.0,0.010998113878581897,0.006452663597107495,0.002623208541426256,0.017331043604979383,0.00038345136372193304,0.0001867872519932871,0.0027625906519007787,0.0012427606602287808,0.0007939444900684547,0.0032466189767938677,0.0010415940551850994,0.0012050961589579036,0.0019225171860131375,6.59967023938277e-06,0.0003340305929210465,0.004491730915114654,0.0008615303592472164,0.000895535168890374],[0,0,0,0,1,1,1,1,1,1,0,1,1,1,1,0,0,0,0,0,0,0,0,0,1,0,0,0,0,0,0,0,0,0,0,0,0,0,0,0,0,0,0,0,0,0,0,0,0,0,0,1,0,0,1,0,1,1,1,1,0,0,1,1,1,1,0,0,0,1,0,0,0,0,0,1,0,0,0,0,0,0,0,0,1,0,0,0,0],[3.6397907046550945e-06,4.074544513519811e-06,2.2868319300143107e-05,2.8028754142358147e-05,2.0100804195873083e-05,2.712617808126524e-05,2.7819428648059128e-05,1.2155525802680065e-05,1.1355342656184616e-05,2.100990904679898e-05,2.208990279868577e-06,3.071514448447277e-06,1.9093894234340536e-05,2.1885416921388612e-05,2.998678288940787e-06,1.4477694362886969e-05,1.0669147089207968e-05,1.609273084006337e-05,1.5813323224273147e-06,1.812378110736653e-05,1.7091440809416007e-06,5.169760626747948e-06,3.3361690572493545e-05,1.2517102618083675e-05,0.0,4.617460689233941e-05,1.2346936234934738e-05,4.692330787978486e-06,3.474862138411924e-06,5.188009078482111e-06,1.155866805033196e-05,2.788316818924902e-07,1.9991883968727683e-05,1.7222652075340158e-05,5.092088055989878e-06,7.325355608348988e-07,4.7363307959867916e-06,2.360538139171601e-07,1.4975373772357445e-05,3.236146134832493e-06,3.141428177898266e-05,1.045368487813414e-05,2.2861709673286442e-05,8.264866912174089e-06,4.0333523057520165e-06,2.5330622167951124e-05,1.21457012438182e-05,1.4576278955939297e-05,1.768328520037986e-05,2.85466205295262e-05,2.31158166867056e-05,6.36599792981565e-05,2.7444292172404607e-05,5.406393195794121e-05,3.406080502987798e-05,3.550389837564528e-05,1.3756815918648918e-05,1.6398680267855285e-05,0.000778154983900219,4.864813376255875e-05,2.9534658265042906e-05,1.0575207598542128e-05,1.549448061485121e-05,5.1874194763704566e-05,3.447175254029338e-05,3.4050549911613825e-05,0.00014303760371852325,0.009001032461555102,0.019430409141660457,4.747021271046813e-05,1.0,3.250316047050374e-05,0.0024865413165683216,0.036305902676247184,2.0167558248770587e-05,1.0999080173176252e-05,1.1992573508868464e-05,2.986796793288271e-05,2.6779812791372403e-05,3.065928149273242e-05,1.6305755335257415e-05,1.64342714881601e-05,1.8019161474192197e-05,2.4862281385550274e-05,2.281284931040695e-05,2.0892110567823004e-05,2.5754187538362858e-05,3.132266435797268e-05,2.7664278300093814e-05],[0.11403050897436283,0.30825317443878975,0.4291335171586983,0.07911000492182353,0.4714085054758049,0.43460503746328444,0.5403349999637064,0.5731150461100324,0.5238882218254718,0.5386351775705218,0.3146006343774206,0.4707636806684126,0.5689570693426044,0.6107376484195084,0.47209101475347537,0.030106895429130948,0.3576657371541947,0.02883638156653023,0.21537818588856716,0.26919095498151857,0.26153965099923043,0.2653094308874867,0.27122727852942763,0.2811909125615064,0.4143709325143711,0.2627261693309076,0.3362367040522203,0.12359308915380474,0.14406711435010253,0.30720584535780565,0.24947020886142493,0.2689526174548994,0.3011988452281454,0.3458846370102994,0.343401991807676,0.2869364503425434,0.31099436099387073,0.20548329466039386,0.1066281837663554,0.2489455338861066,0.36078142550131626,0.39544539093652115,0.39368955771246683,0.39988953578976466,0.3511666111958176,0.35657359427555774,0.3989767274390556,0.4345867673612527,0.36398599990654795,0.3926122198626402,0.27080280924419103,0.4789789107418494,0.26613551836827803,0.44554295075145917,0.451816149831727,0.45482737518576677,0.41022444049376267,0.5176294927814264,0.6151614273549509,0.4468214514963808,0.4344218952383028,0.4346571874517306,0.5162860751798363,0.627983888263824,0.5487305253018553,0.6187291936918241,0.4610249154890067,0.44250747673066004,0.48614788996215186,0.3628510917295236,0.8333333333333334,0.46988280808244903,0.47048620958028703,0.4527742729374642,0.0028918685272046924,0.4932503949915999,0.3127000483596575,0.43002391514414473,0.392843042485862,0.09453846143543095,0.4316062658691313,0.3810970290159477,0.3837123787911332,0.40765131625519535,0.41043166148569754,0.15688182045375115,0.45093221407350037,0.36352232986765715,0.09794692165695416]]},\"header\":{\"align\":\"left\",\"fill\":{\"color\":\"white\"},\"values\":[\"Features\",\"pearson\",\"spearmanr\",\"kendall\",\"fisher\",\"variance_threshold\",\"RF_importance\",\"avg_scores\"]},\"type\":\"table\"}],                        {\"template\":{\"data\":{\"bar\":[{\"error_x\":{\"color\":\"#2a3f5f\"},\"error_y\":{\"color\":\"#2a3f5f\"},\"marker\":{\"line\":{\"color\":\"#E5ECF6\",\"width\":0.5},\"pattern\":{\"fillmode\":\"overlay\",\"size\":10,\"solidity\":0.2}},\"type\":\"bar\"}],\"barpolar\":[{\"marker\":{\"line\":{\"color\":\"#E5ECF6\",\"width\":0.5},\"pattern\":{\"fillmode\":\"overlay\",\"size\":10,\"solidity\":0.2}},\"type\":\"barpolar\"}],\"carpet\":[{\"aaxis\":{\"endlinecolor\":\"#2a3f5f\",\"gridcolor\":\"white\",\"linecolor\":\"white\",\"minorgridcolor\":\"white\",\"startlinecolor\":\"#2a3f5f\"},\"baxis\":{\"endlinecolor\":\"#2a3f5f\",\"gridcolor\":\"white\",\"linecolor\":\"white\",\"minorgridcolor\":\"white\",\"startlinecolor\":\"#2a3f5f\"},\"type\":\"carpet\"}],\"choropleth\":[{\"colorbar\":{\"outlinewidth\":0,\"ticks\":\"\"},\"type\":\"choropleth\"}],\"contour\":[{\"colorbar\":{\"outlinewidth\":0,\"ticks\":\"\"},\"colorscale\":[[0.0,\"#0d0887\"],[0.1111111111111111,\"#46039f\"],[0.2222222222222222,\"#7201a8\"],[0.3333333333333333,\"#9c179e\"],[0.4444444444444444,\"#bd3786\"],[0.5555555555555556,\"#d8576b\"],[0.6666666666666666,\"#ed7953\"],[0.7777777777777778,\"#fb9f3a\"],[0.8888888888888888,\"#fdca26\"],[1.0,\"#f0f921\"]],\"type\":\"contour\"}],\"contourcarpet\":[{\"colorbar\":{\"outlinewidth\":0,\"ticks\":\"\"},\"type\":\"contourcarpet\"}],\"heatmap\":[{\"colorbar\":{\"outlinewidth\":0,\"ticks\":\"\"},\"colorscale\":[[0.0,\"#0d0887\"],[0.1111111111111111,\"#46039f\"],[0.2222222222222222,\"#7201a8\"],[0.3333333333333333,\"#9c179e\"],[0.4444444444444444,\"#bd3786\"],[0.5555555555555556,\"#d8576b\"],[0.6666666666666666,\"#ed7953\"],[0.7777777777777778,\"#fb9f3a\"],[0.8888888888888888,\"#fdca26\"],[1.0,\"#f0f921\"]],\"type\":\"heatmap\"}],\"heatmapgl\":[{\"colorbar\":{\"outlinewidth\":0,\"ticks\":\"\"},\"colorscale\":[[0.0,\"#0d0887\"],[0.1111111111111111,\"#46039f\"],[0.2222222222222222,\"#7201a8\"],[0.3333333333333333,\"#9c179e\"],[0.4444444444444444,\"#bd3786\"],[0.5555555555555556,\"#d8576b\"],[0.6666666666666666,\"#ed7953\"],[0.7777777777777778,\"#fb9f3a\"],[0.8888888888888888,\"#fdca26\"],[1.0,\"#f0f921\"]],\"type\":\"heatmapgl\"}],\"histogram\":[{\"marker\":{\"pattern\":{\"fillmode\":\"overlay\",\"size\":10,\"solidity\":0.2}},\"type\":\"histogram\"}],\"histogram2d\":[{\"colorbar\":{\"outlinewidth\":0,\"ticks\":\"\"},\"colorscale\":[[0.0,\"#0d0887\"],[0.1111111111111111,\"#46039f\"],[0.2222222222222222,\"#7201a8\"],[0.3333333333333333,\"#9c179e\"],[0.4444444444444444,\"#bd3786\"],[0.5555555555555556,\"#d8576b\"],[0.6666666666666666,\"#ed7953\"],[0.7777777777777778,\"#fb9f3a\"],[0.8888888888888888,\"#fdca26\"],[1.0,\"#f0f921\"]],\"type\":\"histogram2d\"}],\"histogram2dcontour\":[{\"colorbar\":{\"outlinewidth\":0,\"ticks\":\"\"},\"colorscale\":[[0.0,\"#0d0887\"],[0.1111111111111111,\"#46039f\"],[0.2222222222222222,\"#7201a8\"],[0.3333333333333333,\"#9c179e\"],[0.4444444444444444,\"#bd3786\"],[0.5555555555555556,\"#d8576b\"],[0.6666666666666666,\"#ed7953\"],[0.7777777777777778,\"#fb9f3a\"],[0.8888888888888888,\"#fdca26\"],[1.0,\"#f0f921\"]],\"type\":\"histogram2dcontour\"}],\"mesh3d\":[{\"colorbar\":{\"outlinewidth\":0,\"ticks\":\"\"},\"type\":\"mesh3d\"}],\"parcoords\":[{\"line\":{\"colorbar\":{\"outlinewidth\":0,\"ticks\":\"\"}},\"type\":\"parcoords\"}],\"pie\":[{\"automargin\":true,\"type\":\"pie\"}],\"scatter\":[{\"marker\":{\"colorbar\":{\"outlinewidth\":0,\"ticks\":\"\"}},\"type\":\"scatter\"}],\"scatter3d\":[{\"line\":{\"colorbar\":{\"outlinewidth\":0,\"ticks\":\"\"}},\"marker\":{\"colorbar\":{\"outlinewidth\":0,\"ticks\":\"\"}},\"type\":\"scatter3d\"}],\"scattercarpet\":[{\"marker\":{\"colorbar\":{\"outlinewidth\":0,\"ticks\":\"\"}},\"type\":\"scattercarpet\"}],\"scattergeo\":[{\"marker\":{\"colorbar\":{\"outlinewidth\":0,\"ticks\":\"\"}},\"type\":\"scattergeo\"}],\"scattergl\":[{\"marker\":{\"colorbar\":{\"outlinewidth\":0,\"ticks\":\"\"}},\"type\":\"scattergl\"}],\"scattermapbox\":[{\"marker\":{\"colorbar\":{\"outlinewidth\":0,\"ticks\":\"\"}},\"type\":\"scattermapbox\"}],\"scatterpolar\":[{\"marker\":{\"colorbar\":{\"outlinewidth\":0,\"ticks\":\"\"}},\"type\":\"scatterpolar\"}],\"scatterpolargl\":[{\"marker\":{\"colorbar\":{\"outlinewidth\":0,\"ticks\":\"\"}},\"type\":\"scatterpolargl\"}],\"scatterternary\":[{\"marker\":{\"colorbar\":{\"outlinewidth\":0,\"ticks\":\"\"}},\"type\":\"scatterternary\"}],\"surface\":[{\"colorbar\":{\"outlinewidth\":0,\"ticks\":\"\"},\"colorscale\":[[0.0,\"#0d0887\"],[0.1111111111111111,\"#46039f\"],[0.2222222222222222,\"#7201a8\"],[0.3333333333333333,\"#9c179e\"],[0.4444444444444444,\"#bd3786\"],[0.5555555555555556,\"#d8576b\"],[0.6666666666666666,\"#ed7953\"],[0.7777777777777778,\"#fb9f3a\"],[0.8888888888888888,\"#fdca26\"],[1.0,\"#f0f921\"]],\"type\":\"surface\"}],\"table\":[{\"cells\":{\"fill\":{\"color\":\"#EBF0F8\"},\"line\":{\"color\":\"white\"}},\"header\":{\"fill\":{\"color\":\"#C8D4E3\"},\"line\":{\"color\":\"white\"}},\"type\":\"table\"}]},\"layout\":{\"annotationdefaults\":{\"arrowcolor\":\"#2a3f5f\",\"arrowhead\":0,\"arrowwidth\":1},\"autotypenumbers\":\"strict\",\"coloraxis\":{\"colorbar\":{\"outlinewidth\":0,\"ticks\":\"\"}},\"colorscale\":{\"diverging\":[[0,\"#8e0152\"],[0.1,\"#c51b7d\"],[0.2,\"#de77ae\"],[0.3,\"#f1b6da\"],[0.4,\"#fde0ef\"],[0.5,\"#f7f7f7\"],[0.6,\"#e6f5d0\"],[0.7,\"#b8e186\"],[0.8,\"#7fbc41\"],[0.9,\"#4d9221\"],[1,\"#276419\"]],\"sequential\":[[0.0,\"#0d0887\"],[0.1111111111111111,\"#46039f\"],[0.2222222222222222,\"#7201a8\"],[0.3333333333333333,\"#9c179e\"],[0.4444444444444444,\"#bd3786\"],[0.5555555555555556,\"#d8576b\"],[0.6666666666666666,\"#ed7953\"],[0.7777777777777778,\"#fb9f3a\"],[0.8888888888888888,\"#fdca26\"],[1.0,\"#f0f921\"]],\"sequentialminus\":[[0.0,\"#0d0887\"],[0.1111111111111111,\"#46039f\"],[0.2222222222222222,\"#7201a8\"],[0.3333333333333333,\"#9c179e\"],[0.4444444444444444,\"#bd3786\"],[0.5555555555555556,\"#d8576b\"],[0.6666666666666666,\"#ed7953\"],[0.7777777777777778,\"#fb9f3a\"],[0.8888888888888888,\"#fdca26\"],[1.0,\"#f0f921\"]]},\"colorway\":[\"#636efa\",\"#EF553B\",\"#00cc96\",\"#ab63fa\",\"#FFA15A\",\"#19d3f3\",\"#FF6692\",\"#B6E880\",\"#FF97FF\",\"#FECB52\"],\"font\":{\"color\":\"#2a3f5f\"},\"geo\":{\"bgcolor\":\"white\",\"lakecolor\":\"white\",\"landcolor\":\"#E5ECF6\",\"showlakes\":true,\"showland\":true,\"subunitcolor\":\"white\"},\"hoverlabel\":{\"align\":\"left\"},\"hovermode\":\"closest\",\"mapbox\":{\"style\":\"light\"},\"paper_bgcolor\":\"white\",\"plot_bgcolor\":\"#E5ECF6\",\"polar\":{\"angularaxis\":{\"gridcolor\":\"white\",\"linecolor\":\"white\",\"ticks\":\"\"},\"bgcolor\":\"#E5ECF6\",\"radialaxis\":{\"gridcolor\":\"white\",\"linecolor\":\"white\",\"ticks\":\"\"}},\"scene\":{\"xaxis\":{\"backgroundcolor\":\"#E5ECF6\",\"gridcolor\":\"white\",\"gridwidth\":2,\"linecolor\":\"white\",\"showbackground\":true,\"ticks\":\"\",\"zerolinecolor\":\"white\"},\"yaxis\":{\"backgroundcolor\":\"#E5ECF6\",\"gridcolor\":\"white\",\"gridwidth\":2,\"linecolor\":\"white\",\"showbackground\":true,\"ticks\":\"\",\"zerolinecolor\":\"white\"},\"zaxis\":{\"backgroundcolor\":\"#E5ECF6\",\"gridcolor\":\"white\",\"gridwidth\":2,\"linecolor\":\"white\",\"showbackground\":true,\"ticks\":\"\",\"zerolinecolor\":\"white\"}},\"shapedefaults\":{\"line\":{\"color\":\"#2a3f5f\"}},\"ternary\":{\"aaxis\":{\"gridcolor\":\"white\",\"linecolor\":\"white\",\"ticks\":\"\"},\"baxis\":{\"gridcolor\":\"white\",\"linecolor\":\"white\",\"ticks\":\"\"},\"bgcolor\":\"#E5ECF6\",\"caxis\":{\"gridcolor\":\"white\",\"linecolor\":\"white\",\"ticks\":\"\"}},\"title\":{\"x\":0.05},\"xaxis\":{\"automargin\":true,\"gridcolor\":\"white\",\"linecolor\":\"white\",\"ticks\":\"\",\"title\":{\"standoff\":15},\"zerolinecolor\":\"white\",\"zerolinewidth\":2},\"yaxis\":{\"automargin\":true,\"gridcolor\":\"white\",\"linecolor\":\"white\",\"ticks\":\"\",\"title\":{\"standoff\":15},\"zerolinecolor\":\"white\",\"zerolinewidth\":2}}},\"autosize\":false,\"width\":1000,\"height\":800},                        {\"responsive\": true}                    ).then(function(){\n",
       "                            \n",
       "var gd = document.getElementById('312ee4e8-c0ee-4b87-bf15-155f9bde4519');\n",
       "var x = new MutationObserver(function (mutations, observer) {{\n",
       "        var display = window.getComputedStyle(gd).display;\n",
       "        if (!display || display === 'none') {{\n",
       "            console.log([gd, 'removed!']);\n",
       "            Plotly.purge(gd);\n",
       "            observer.disconnect();\n",
       "        }}\n",
       "}});\n",
       "\n",
       "// Listen for the removal of the full notebook cells\n",
       "var notebookContainer = gd.closest('#notebook-container');\n",
       "if (notebookContainer) {{\n",
       "    x.observe(notebookContainer, {childList: true});\n",
       "}}\n",
       "\n",
       "// Listen for the clearing of the current output cell\n",
       "var outputEl = gd.closest('.output');\n",
       "if (outputEl) {{\n",
       "    x.observe(outputEl, {childList: true});\n",
       "}}\n",
       "\n",
       "                        })                };                });            </script>        </div>"
      ]
     },
     "metadata": {},
     "output_type": "display_data"
    }
   ],
   "source": [
    "mean_results =  score_results.mean(axis=1)\n",
    "score_results['avg_scores'] = mean_results\n",
    "\n"
   ]
  },
  {
   "cell_type": "code",
   "execution_count": null,
   "outputs": [],
   "source": [],
   "metadata": {
    "collapsed": false,
    "pycharm": {
     "name": "#%%\n"
    }
   }
  }
 ],
 "metadata": {
  "extensions": {
   "jupyter_dashboards": {
    "activeView": "grid_default",
    "version": 1,
    "views": {
     "grid_default": {
      "cellMargin": 10,
      "defaultCellHeight": 20,
      "maxColumns": 12,
      "name": "grid",
      "type": "grid"
     },
     "report_default": {
      "name": "report",
      "type": "report"
     }
    }
   }
  },
  "kernelspec": {
   "display_name": "PyCharm (notebooks)",
   "language": "python",
   "name": "pycharm-a9067d49"
  },
  "language_info": {
   "codemirror_mode": {
    "name": "ipython",
    "version": 3
   },
   "file_extension": ".py",
   "mimetype": "text/x-python",
   "name": "python",
   "nbconvert_exporter": "python",
   "pygments_lexer": "ipython3",
   "version": "3.9.7"
  }
 },
 "nbformat": 4,
 "nbformat_minor": 4
}