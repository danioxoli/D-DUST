{
 "cells": [
  {
   "cell_type": "markdown",
   "metadata": {
    "extensions": {
     "jupyter_dashboards": {
      "version": 1,
      "views": {
       "grid_default": {},
       "report_default": {}
      }
     }
    },
    "pycharm": {
     "name": "#%% Preprocessing of data\n"
    }
   },
   "source": [
    "# PreProcessing: Feature Selection\n",
    "\n",
    "Feature Selection is an important step in data pre-processing. It consists in selecting the best subset of input variable as the most pertinent. Discarding irrelevant data is essential before applying Machine Learning algorithm in order to:\n",
    "* *Reduce Overfitting*: less opportunity to make decisions based on noise;\n",
    "* *Improve Accuracy*: less misleading data means modelling accuracy improves. Predictions can be greatly distorted by redundant attributes. \n",
    "* *Reduce Training Time*: With less data the algorithms will train faster;\n"
   ]
  },
  {
   "cell_type": "markdown",
   "metadata": {
    "extensions": {
     "jupyter_dashboards": {
      "version": 1,
      "views": {
       "grid_default": {},
       "report_default": {}
      }
     }
    }
   },
   "source": [
    "### Configuration Notebook\n",
    "Before running the notebook, check these parameter value in order to configure dataset and method option. In particular, we have:\n",
    "- **DATA_NORMALIZED**: If *True* data will be normalized between (0,1) before feature selection;\n",
    "- **DATA_STANDARDIZED**: If *True* data will be standarized before feature selection;\n",
    "- **RESULTS_NORMALIZED**: If *True* results of feature selection will be normalized between (0,1);\n",
    "- **TARGET_VARIABLE**: It's the target variable used for regression analysis.\n",
    "- **NUMBER_OF_FEATURE_RFE**: It's number of features of the best subset obtained by *recursive feature selection method*;\n",
    "- **DATASET_PATH**: path of the .gpkg file imported;\n",
    "- **TH_VALUE** Threshold value used by variance_threshold method."
   ]
  },
  {
   "cell_type": "code",
   "execution_count": 1,
   "metadata": {
    "extensions": {
     "jupyter_dashboards": {
      "version": 1,
      "views": {
       "grid_default": {},
       "report_default": {}
      }
     }
    },
    "pycharm": {
     "name": "#%%\n"
    }
   },
   "outputs": [],
   "source": [
    "DATA_NORMALIZED = False\n",
    "DATA_STANDARDIZED = True\n",
    "RESULTS_NORMALIZED = True\n",
    "DATASET_PATH = 'grids/grid_cams_42_43_2020.gpkg'\n",
    "TARGET_VARIABLE = 'pm25_cams'\n",
    "NUMBER_OF_FEATURE_RFE = 5\n",
    "TH_VALUE=0.1"
   ]
  },
  {
   "cell_type": "markdown",
   "metadata": {
    "extensions": {
     "jupyter_dashboards": {
      "version": 1,
      "views": {
       "grid_default": {},
       "report_default": {}
      }
     }
    }
   },
   "source": [
    "### Import Libraries"
   ]
  },
  {
   "cell_type": "code",
   "execution_count": 2,
   "metadata": {
    "extensions": {
     "jupyter_dashboards": {
      "version": 1,
      "views": {
       "grid_default": {},
       "report_default": {}
      }
     }
    },
    "pycharm": {
     "name": "#%%\n"
    }
   },
   "outputs": [],
   "source": [
    "%matplotlib inline\n",
    "import scipy.stats as stats\n",
    "import geopandas as gpd\n",
    "import warnings\n",
    "import numpy as np\n",
    "from fs import methods as m\n",
    "import ipywidgets as widgets\n",
    "import pandas as pd\n",
    "warnings.filterwarnings(\"ignore\")\n",
    "from IPython.core.display import display"
   ]
  },
  {
   "cell_type": "markdown",
   "metadata": {
    "extensions": {
     "jupyter_dashboards": {
      "version": 1,
      "views": {
       "grid_default": {},
       "report_default": {}
      }
     }
    }
   },
   "source": [
    "### Data import\n",
    "Data are imported from .gpkg file, splitted in **train_set** and **test_set** which are used by supervised algorithm. Otherwise with unsupervised algorithm the entire dataset will be processed."
   ]
  },
  {
   "cell_type": "code",
   "execution_count": 3,
   "metadata": {
    "extensions": {
     "jupyter_dashboards": {
      "version": 1,
      "views": {
       "grid_default": {},
       "report_default": {}
      }
     }
    },
    "pycharm": {
     "name": "#%%\n"
    }
   },
   "outputs": [],
   "source": [
    "#read gpkg file\n",
    "data = gpd.read_file(DATASET_PATH)\n",
    "#read variables which are not null\n",
    "labels = m.noSensor_features(data.columns.tolist())\n",
    "score_results = pd.DataFrame()"
   ]
  },
  {
   "cell_type": "markdown",
   "metadata": {
    "extensions": {
     "jupyter_dashboards": {
      "version": 1,
      "views": {
       "grid_default": {},
       "report_default": {}
      }
     }
    }
   },
   "source": [
    "### Definition of dataframe used for feature selection\n"
   ]
  },
  {
   "cell_type": "code",
   "execution_count": 4,
   "metadata": {
    "extensions": {
     "jupyter_dashboards": {
      "version": 1,
      "views": {
       "grid_default": {},
       "report_default": {}
      }
     }
    }
   },
   "outputs": [],
   "source": [
    "X = m.clean_dataset_nosensor(data, labels)\n",
    "Y = X[[TARGET_VARIABLE]]\n",
    "Y = Y.values.ravel()\n",
    "X.pop(TARGET_VARIABLE)\n",
    "X.pop('bottom')\n",
    "X.pop('top')\n",
    "X.pop('left')\n",
    "X.pop('right')\n",
    "\n",
    "\n",
    "#coordinates definition used for mgwr\n",
    "coords = list(zip(X['lat_cen'], X['lng_cen']))\n",
    "X.pop('lat_cen')\n",
    "X.pop('lng_cen')\n",
    "score_results['Features'] = X.columns.tolist()\n",
    "X_notStand = X\n",
    "\n",
    "if(DATA_NORMALIZED):\n",
    "    X_notNorm= X\n",
    "    X = m.NormalizeData2D(X)\n",
    "\n",
    "if(DATA_STANDARDIZED):\n",
    "    X = X.apply(stats.zscore)"
   ]
  },
  {
   "cell_type": "markdown",
   "metadata": {
    "extensions": {
     "jupyter_dashboards": {
      "version": 1,
      "views": {
       "grid_default": {},
       "report_default": {}
      }
     }
    }
   },
   "source": [
    "Due to the fact there isn’t a best feature selection technique, many different methods are performed. The aim of this part is to discover by experimentation which one/ones work better for this specific problem.\n",
    "In this study, I choose supervised methods, which are classified into 3 groups, based on their  different approach.\n"
   ]
  },
  {
   "cell_type": "markdown",
   "metadata": {
    "extensions": {
     "jupyter_dashboards": {
      "version": 1,
      "views": {
       "grid_default": {},
       "report_default": {}
      }
     }
    }
   },
   "source": [
    "## Filter Methods\n",
    "Filter-based feature selection methods adopt statistical measures to evaluate the correlation/dependence between input variables.\n",
    "These select features from the without machine learning algorithm. In terms of computation, they are very fast and are very suitable in order to remove duplicated, correlated, redundant variables. On the contrary,  these methods do not remove multicollinearity.\n"
   ]
  },
  {
   "cell_type": "markdown",
   "metadata": {
    "extensions": {
     "jupyter_dashboards": {
      "version": 1,
      "views": {
       "grid_default": {},
       "report_default": {}
      }
     }
    }
   },
   "source": [
    "### Pearson correlation index\n",
    "It's a measure of linear correlation which stands for the ratio between the covariance of two variables and the product of their standard deviations. The algorithm evaluate the index for each feature variable."
   ]
  },
  {
   "cell_type": "code",
   "execution_count": 5,
   "metadata": {
    "extensions": {
     "jupyter_dashboards": {
      "version": 1,
      "views": {
       "grid_default": {},
       "report_default": {}
      }
     }
    },
    "pycharm": {
     "is_executing": true,
     "name": "#%%\n"
    }
   },
   "outputs": [
    {
     "data": {
      "application/vnd.jupyter.widget-view+json": {
       "model_id": "38c7e93e08494b9aae1d1e806fbad974",
       "version_major": 2,
       "version_minor": 0
      },
      "text/plain": [
       "HBox(children=(Checkbox(value=True, description='Results normalized'), RadioButtons(description='Scale:', opti…"
      ]
     },
     "metadata": {},
     "output_type": "display_data"
    },
    {
     "data": {
      "application/vnd.jupyter.widget-view+json": {
       "model_id": "09d387893128481482c47c3856d62d07",
       "version_major": 2,
       "version_minor": 0
      },
      "text/plain": [
       "Output()"
      ]
     },
     "metadata": {},
     "output_type": "display_data"
    }
   ],
   "source": [
    "score_results['pearson'] = m.pearson(X, Y)"
   ]
  },
  {
   "cell_type": "markdown",
   "metadata": {
    "extensions": {
     "jupyter_dashboards": {
      "version": 1,
      "views": {
       "grid_default": {},
       "report_default": {}
      }
     }
    }
   },
   "source": [
    "### Spearmanr correlation coefficient\n",
    "The Spearman correlation coefficient is a measure of the monotonicity of the relationship between two datasets.\n",
    "The algorithm evaluate the index for each feature variable.\n",
    "\n"
   ]
  },
  {
   "cell_type": "code",
   "execution_count": 6,
   "metadata": {
    "extensions": {
     "jupyter_dashboards": {
      "version": 1,
      "views": {
       "grid_default": {},
       "report_default": {}
      }
     }
    },
    "pycharm": {
     "name": "#%%\n"
    }
   },
   "outputs": [
    {
     "data": {
      "application/vnd.jupyter.widget-view+json": {
       "model_id": "4e2fc810e85f474a9ab1d029740bcb32",
       "version_major": 2,
       "version_minor": 0
      },
      "text/plain": [
       "HBox(children=(Checkbox(value=True, description='Results normalized'), RadioButtons(description='Scale:', opti…"
      ]
     },
     "metadata": {},
     "output_type": "display_data"
    },
    {
     "data": {
      "application/vnd.jupyter.widget-view+json": {
       "model_id": "f2b19a4cda1e412386dbf51447c0dc87",
       "version_major": 2,
       "version_minor": 0
      },
      "text/plain": [
       "Output()"
      ]
     },
     "metadata": {},
     "output_type": "display_data"
    }
   ],
   "source": [
    "score_results['spearmanr'] = m.spearmanr(X, Y)"
   ]
  },
  {
   "cell_type": "markdown",
   "metadata": {
    "extensions": {
     "jupyter_dashboards": {
      "version": 1,
      "views": {
       "grid_default": {},
       "report_default": {}
      }
     }
    }
   },
   "source": [
    "### Kendall tau\n",
    "As the Spearmanr correlation coefficient, is based on the ranks of data.\n",
    "In most of the situations, the interpretations of Kendall’s tau and Spearman’s rank correlation coefficient are very similar and thus invariably lead to the same inferences.\n",
    "The algorithm evaluate the index for each feature variable.\n"
   ]
  },
  {
   "cell_type": "code",
   "execution_count": 7,
   "metadata": {
    "extensions": {
     "jupyter_dashboards": {
      "version": 1,
      "views": {
       "grid_default": {},
       "report_default": {}
      }
     }
    },
    "pycharm": {
     "name": "#%%\n"
    }
   },
   "outputs": [
    {
     "data": {
      "application/vnd.jupyter.widget-view+json": {
       "model_id": "01f9c452fe794230b0b0541ad00d752c",
       "version_major": 2,
       "version_minor": 0
      },
      "text/plain": [
       "HBox(children=(Checkbox(value=True, description='Results normalized'), RadioButtons(description='Scale:', opti…"
      ]
     },
     "metadata": {},
     "output_type": "display_data"
    },
    {
     "data": {
      "application/vnd.jupyter.widget-view+json": {
       "model_id": "0063403e45804e25841e56a4e318833b",
       "version_major": 2,
       "version_minor": 0
      },
      "text/plain": [
       "Output()"
      ]
     },
     "metadata": {},
     "output_type": "display_data"
    }
   ],
   "source": [
    "score_results['kendall'] = m.kendall(X, Y)\n"
   ]
  },
  {
   "cell_type": "markdown",
   "metadata": {
    "extensions": {
     "jupyter_dashboards": {
      "version": 1,
      "views": {
       "grid_default": {},
       "report_default": {}
      }
     }
    }
   },
   "source": [
    "### Chi-square test not allowed with no categorical input\n",
    "A chi-square test is used to test events independence. In feature selection instead, we aim to select the features which are more highly dependent. Even if is more suitable for categorical input, computation is performed by casting features values as *Int values*."
   ]
  },
  {
   "cell_type": "code",
   "execution_count": 8,
   "metadata": {
    "extensions": {
     "jupyter_dashboards": {
      "version": 1,
      "views": {
       "grid_default": {},
       "report_default": {}
      }
     }
    },
    "pycharm": {
     "name": "#%%\n"
    }
   },
   "outputs": [],
   "source": [
    "# = m.chi2_test(X, Y)\n",
    "#score_frame.append(tuple)"
   ]
  },
  {
   "cell_type": "markdown",
   "metadata": {
    "extensions": {
     "jupyter_dashboards": {
      "version": 1,
      "views": {
       "grid_default": {},
       "report_default": {}
      }
     }
    }
   },
   "source": [
    "### F-Test\n",
    "It's a statistical test used to compare model from X and Y and check if the difference is significant between them through regression. The algorithm evaluate the Fisher score for each feature variable."
   ]
  },
  {
   "cell_type": "code",
   "execution_count": 9,
   "metadata": {
    "extensions": {
     "jupyter_dashboards": {
      "version": 1,
      "views": {
       "grid_default": {},
       "report_default": {}
      }
     }
    },
    "pycharm": {
     "name": "#%%\n"
    }
   },
   "outputs": [
    {
     "data": {
      "application/vnd.jupyter.widget-view+json": {
       "model_id": "fb939fee66184c9bb9ad3a85629b7be5",
       "version_major": 2,
       "version_minor": 0
      },
      "text/plain": [
       "HBox(children=(Checkbox(value=True, description='Results normalized'), RadioButtons(description='Scale:', opti…"
      ]
     },
     "metadata": {},
     "output_type": "display_data"
    },
    {
     "data": {
      "application/vnd.jupyter.widget-view+json": {
       "model_id": "cf0b5378c82b4511bfb60f7793c5c25a",
       "version_major": 2,
       "version_minor": 0
      },
      "text/plain": [
       "Output()"
      ]
     },
     "metadata": {},
     "output_type": "display_data"
    }
   ],
   "source": [
    "score_results['fisher'] = m.f_test(X, Y)\n"
   ]
  },
  {
   "cell_type": "markdown",
   "metadata": {
    "extensions": {
     "jupyter_dashboards": {
      "version": 1,
      "views": {
       "grid_default": {},
       "report_default": {}
      }
     }
    }
   },
   "source": [
    "### Dispersion Ratio (Unsupervised)\n",
    "It stands for the ratio between arithmetic mean the geometric mean. This is very usefull to check dispersion on data. Higher dispersion implies a higher value of this coefficent, thus a more relevant variable."
   ]
  },
  {
   "cell_type": "code",
   "execution_count": 10,
   "metadata": {
    "extensions": {
     "jupyter_dashboards": {
      "version": 1,
      "views": {
       "grid_default": {},
       "report_default": {}
      }
     }
    },
    "pycharm": {
     "name": "#%%\n"
    }
   },
   "outputs": [],
   "source": [
    "\n",
    "#results['dispersion_ratio'] = m.compute_dispersion_ratio(preprocessing.normalize(X))"
   ]
  },
  {
   "cell_type": "markdown",
   "metadata": {
    "extensions": {
     "jupyter_dashboards": {
      "version": 1,
      "views": {
       "grid_default": {},
       "report_default": {}
      }
     }
    }
   },
   "source": [
    "### Variance Threshold \n",
    "It's an approach which aims to remove all features which variance doesn’t meet some threshold. Usually it removes all zero-variance features, so variables taht contains useless information.\n"
   ]
  },
  {
   "cell_type": "code",
   "execution_count": 11,
   "metadata": {
    "extensions": {
     "jupyter_dashboards": {
      "version": 1,
      "views": {
       "grid_default": {},
       "report_default": {}
      }
     }
    },
    "pycharm": {
     "name": "#%%\n"
    },
    "scrolled": true
   },
   "outputs": [
    {
     "data": {
      "application/vnd.jupyter.widget-view+json": {
       "model_id": "f20274745566401c857d2a2a3c5d175c",
       "version_major": 2,
       "version_minor": 0
      },
      "text/plain": [
       "HBox(children=(Checkbox(value=True, description='Results normalized'), RadioButtons(description='Scale:', opti…"
      ]
     },
     "metadata": {},
     "output_type": "display_data"
    },
    {
     "data": {
      "application/vnd.jupyter.widget-view+json": {
       "model_id": "e34afee0b1bf40f991831de776f142a9",
       "version_major": 2,
       "version_minor": 0
      },
      "text/plain": [
       "Output()"
      ]
     },
     "metadata": {},
     "output_type": "display_data"
    }
   ],
   "source": [
    "score_results['variance_threshold'] = m.variance_threshold(X_notStand, TH_VALUE)"
   ]
  },
  {
   "cell_type": "markdown",
   "metadata": {
    "extensions": {
     "jupyter_dashboards": {
      "version": 1,
      "views": {
       "grid_default": {},
       "report_default": {}
      }
     }
    }
   },
   "source": [
    "## Wrapper Methods (and Embedded)\n",
    "Wrapper methods, as the name suggests, wrap a machine learning model, with different subsets of input features: In this way the subsets are  evaluated following  the best model performance.\n",
    "Embedded methods instead are characterised by the benefits of both the wrapper and filter methods, by including interactions of features but also having a reasonable computational cost.\n"
   ]
  },
  {
   "cell_type": "markdown",
   "metadata": {
    "extensions": {
     "jupyter_dashboards": {
      "version": 1,
      "views": {
       "grid_default": {},
       "report_default": {}
      }
     }
    },
    "pycharm": {
     "name": "#%%Section 2: Wrapped/Embedded methods%\n"
    }
   },
   "source": [
    "### Exhaustive feature selection for regression analysis\n",
    "This algorithm follow the exhaustive feature selection approach with brute-force evaluation of feature subsets; the best subset is selected by optimizing a specified metric given an arbitrary regressor or classifier. In this case a transformer is used to perform the Sequential Feature Selection.\n",
    "The final outputs are:\n",
    "* Accuracy for the subset choosen;\n",
    "* Indices of the choosen features;\n",
    "* Corresponding names of the features choosen;\n",
    "\n"
   ]
  },
  {
   "cell_type": "code",
   "execution_count": 12,
   "metadata": {
    "extensions": {
     "jupyter_dashboards": {
      "version": 1,
      "views": {
       "grid_default": {},
       "report_default": {}
      }
     }
    },
    "pycharm": {
     "name": "#%%\n"
    }
   },
   "outputs": [],
   "source": [
    "#m.exhaustive_feature_selection(X, Y)"
   ]
  },
  {
   "cell_type": "markdown",
   "metadata": {
    "extensions": {
     "jupyter_dashboards": {
      "version": 1,
      "views": {
       "grid_default": {},
       "report_default": {}
      }
     }
    }
   },
   "source": [
    "### Random Forest importance\n",
    "It uses a forest of trees to evaluate the importance of each features as outputs."
   ]
  },
  {
   "cell_type": "code",
   "execution_count": 13,
   "metadata": {
    "extensions": {
     "jupyter_dashboards": {
      "version": 1,
      "views": {
       "grid_default": {},
       "report_default": {}
      }
     }
    },
    "pycharm": {
     "name": "#%%\n"
    }
   },
   "outputs": [
    {
     "data": {
      "application/vnd.jupyter.widget-view+json": {
       "model_id": "b3f0a0d1454a48f0876fd1319c1bc8f3",
       "version_major": 2,
       "version_minor": 0
      },
      "text/plain": [
       "HBox(children=(Checkbox(value=True, description='Results normalized'), RadioButtons(description='Scale:', opti…"
      ]
     },
     "metadata": {},
     "output_type": "display_data"
    },
    {
     "data": {
      "application/vnd.jupyter.widget-view+json": {
       "model_id": "5c83808f5ebc4c4c88d311251518adda",
       "version_major": 2,
       "version_minor": 0
      },
      "text/plain": [
       "Output()"
      ]
     },
     "metadata": {},
     "output_type": "display_data"
    }
   ],
   "source": [
    "score_results['RF_importance'] = m.RF_importance(X, Y)\n"
   ]
  },
  {
   "cell_type": "markdown",
   "metadata": {
    "extensions": {
     "jupyter_dashboards": {
      "version": 1,
      "views": {
       "grid_default": {},
       "report_default": {}
      }
     }
    }
   },
   "source": [
    "### Recursive Feature Selection\n",
    "The goal of RFE is to select features by recursively considering smaller and smaller sets of features.\n",
    "The final output for each variable will be:\n",
    "* *Label*;\n",
    "* A *boolean expressing* whetever is selected or not;\n",
    "* *Ranking value* based on its score;"
   ]
  },
  {
   "cell_type": "code",
   "execution_count": 14,
   "metadata": {
    "extensions": {
     "jupyter_dashboards": {
      "version": 1,
      "views": {
       "grid_default": {},
       "report_default": {}
      }
     }
    },
    "pycharm": {
     "name": "#%%\n"
    },
    "scrolled": true
   },
   "outputs": [
    {
     "data": {
      "text/html": [
       "<div>\n",
       "<style scoped>\n",
       "    .dataframe tbody tr th:only-of-type {\n",
       "        vertical-align: middle;\n",
       "    }\n",
       "\n",
       "    .dataframe tbody tr th {\n",
       "        vertical-align: top;\n",
       "    }\n",
       "\n",
       "    .dataframe thead th {\n",
       "        text-align: right;\n",
       "    }\n",
       "</style>\n",
       "<table border=\"1\" class=\"dataframe\">\n",
       "  <thead>\n",
       "    <tr style=\"text-align: right;\">\n",
       "      <th></th>\n",
       "      <th>Features</th>\n",
       "      <th>isSelected</th>\n",
       "      <th>Ranking</th>\n",
       "    </tr>\n",
       "  </thead>\n",
       "  <tbody>\n",
       "    <tr>\n",
       "      <th>0</th>\n",
       "      <td>dusaf</td>\n",
       "      <td>False</td>\n",
       "      <td>85</td>\n",
       "    </tr>\n",
       "    <tr>\n",
       "      <th>1</th>\n",
       "      <td>dusafSum</td>\n",
       "      <td>False</td>\n",
       "      <td>84</td>\n",
       "    </tr>\n",
       "    <tr>\n",
       "      <th>2</th>\n",
       "      <td>dsf2</td>\n",
       "      <td>False</td>\n",
       "      <td>83</td>\n",
       "    </tr>\n",
       "    <tr>\n",
       "      <th>3</th>\n",
       "      <td>dsf3</td>\n",
       "      <td>False</td>\n",
       "      <td>81</td>\n",
       "    </tr>\n",
       "    <tr>\n",
       "      <th>4</th>\n",
       "      <td>dsf4</td>\n",
       "      <td>False</td>\n",
       "      <td>80</td>\n",
       "    </tr>\n",
       "    <tr>\n",
       "      <th>...</th>\n",
       "      <td>...</td>\n",
       "      <td>...</td>\n",
       "      <td>...</td>\n",
       "    </tr>\n",
       "    <tr>\n",
       "      <th>84</th>\n",
       "      <td>prec_int</td>\n",
       "      <td>False</td>\n",
       "      <td>34</td>\n",
       "    </tr>\n",
       "    <tr>\n",
       "      <th>85</th>\n",
       "      <td>rad_glob_int</td>\n",
       "      <td>False</td>\n",
       "      <td>40</td>\n",
       "    </tr>\n",
       "    <tr>\n",
       "      <th>86</th>\n",
       "      <td>temp_int</td>\n",
       "      <td>False</td>\n",
       "      <td>56</td>\n",
       "    </tr>\n",
       "    <tr>\n",
       "      <th>87</th>\n",
       "      <td>wind_dir_int</td>\n",
       "      <td>False</td>\n",
       "      <td>69</td>\n",
       "    </tr>\n",
       "    <tr>\n",
       "      <th>88</th>\n",
       "      <td>wind_speed_int</td>\n",
       "      <td>False</td>\n",
       "      <td>71</td>\n",
       "    </tr>\n",
       "  </tbody>\n",
       "</table>\n",
       "<p>89 rows × 3 columns</p>\n",
       "</div>"
      ],
      "text/plain": [
       "          Features  isSelected  Ranking\n",
       "0            dusaf       False       85\n",
       "1         dusafSum       False       84\n",
       "2             dsf2       False       83\n",
       "3             dsf3       False       81\n",
       "4             dsf4       False       80\n",
       "..             ...         ...      ...\n",
       "84        prec_int       False       34\n",
       "85    rad_glob_int       False       40\n",
       "86        temp_int       False       56\n",
       "87    wind_dir_int       False       69\n",
       "88  wind_speed_int       False       71\n",
       "\n",
       "[89 rows x 3 columns]"
      ]
     },
     "execution_count": 14,
     "metadata": {},
     "output_type": "execute_result"
    }
   ],
   "source": [
    "m.recursive_feature_selection(X, Y.astype(int), NUMBER_OF_FEATURE_RFE)"
   ]
  },
  {
   "cell_type": "markdown",
   "metadata": {
    "extensions": {
     "jupyter_dashboards": {
      "version": 1,
      "views": {
       "grid_default": {},
       "report_default": {}
      }
     }
    },
    "pycharm": {
     "name": "#%%\n"
    }
   },
   "source": [
    "## Multiscale Geographically Weighted Regression\n",
    "Due to the fact that this study is related to geographic and spatial data, each pieces of data is very sensitive to the geographic distance between them. So the use of mgwr methods could be innovative, since multivariate models are increasingly encountered in geographical research to estimate spatially varying relationships between a targets and its predictive variables.\n",
    "\n",
    "\n"
   ]
  },
  {
   "cell_type": "code",
   "execution_count": 15,
   "metadata": {
    "extensions": {
     "jupyter_dashboards": {
      "version": 1,
      "views": {
       "grid_default": {},
       "report_default": {}
      }
     }
    },
    "pycharm": {
     "name": "#%% Section 3: Multiscale Geographically Weighted Regression\n"
    }
   },
   "outputs": [],
   "source": [
    "#m.mgwr(data, list(X.columns), coords, Y)\n"
   ]
  },
  {
   "cell_type": "markdown",
   "metadata": {
    "extensions": {
     "jupyter_dashboards": {
      "version": 1,
      "views": {
       "grid_default": {},
       "report_default": {}
      }
     }
    },
    "pycharm": {
     "name": "#%%\n"
    }
   },
   "source": [
    "from sklearn import preprocessing\n",
    "\n",
    "## Results\n",
    "Results before are collected in a Pandas Dataframe called **score_results**. In each column are shown the score results for each method; instead, each row collect the results for each feature variable.\n",
    "* **Features**: Set of feature names (Strings);\n",
    "* **pearson**:  Pearson correlation index scores;\n",
    "* **spearmanr**: Spearmanr correlation coefficient scores;\n",
    "* **kendall**: Kendall tau scores; \n",
    "* **fisher**: F-Test scores;\n",
    "* **variance_threshold**: Variance Threshold  scores;\n",
    "* **RF_importance**: Random Forest importance scores;\n",
    "\n",
    "* **avg_scores**: scores obtained from the mean of the previous scores for each variables; this values are displayed through a bar plot."
   ]
  },
  {
   "cell_type": "code",
   "execution_count": 16,
   "metadata": {
    "extensions": {
     "jupyter_dashboards": {
      "version": 1,
      "views": {
       "grid_default": {},
       "report_default": {}
      }
     }
    },
    "pycharm": {
     "name": "#%%\n"
    }
   },
   "outputs": [
    {
     "data": {
      "application/vnd.jupyter.widget-view+json": {
       "model_id": "de4b6b735edd4f5b92aa3c3dc73d73c9",
       "version_major": 2,
       "version_minor": 0
      },
      "text/plain": [
       "HBox(children=(VBox(children=(Dropdown(description='Method:', options=('Pearson', 'Spearmanr', 'Kendall', 'Fis…"
      ]
     },
     "metadata": {},
     "output_type": "display_data"
    },
    {
     "data": {
      "application/vnd.jupyter.widget-view+json": {
       "model_id": "3f1e4d5f2ba848519351f461d5dce44c",
       "version_major": 2,
       "version_minor": 0
      },
      "text/plain": [
       "Output()"
      ]
     },
     "metadata": {},
     "output_type": "display_data"
    }
   ],
   "source": [
    "temp = pd.DataFrame(data=score_results)\n",
    "x = temp.loc[:, temp.columns != 'Features'].values #returns a numpy array\n",
    "min_max_scaler = preprocessing.MinMaxScaler()\n",
    "x_scaled = min_max_scaler.fit_transform(x)\n",
    "temp = pd.DataFrame(x_scaled)\n",
    "\n",
    "mean_results =  temp.mean(axis=1)\n",
    "score_results['avg_scores'] = mean_results\n",
    "\n",
    "choice = widgets.Dropdown(\n",
    "    options=['Pearson', 'Spearmanr', 'Kendall', 'Fisher', 'Variance TH', 'Random Forest Importance', 'Results Mean'],\n",
    "    value='Pearson',\n",
    "    description='Method:',\n",
    "    disabled=False,\n",
    ")\n",
    "\n",
    "options = {'Pearson' : 'pearson',\n",
    "           'Spearmanr' : 'spearmanr',\n",
    "           'Kendall' : 'kendall',\n",
    "           'Fisher' : 'fisher',\n",
    "           'Variance TH' : 'variance_threshold',\n",
    "           'Random Forest Importance' : 'RF_importance',\n",
    "           'Results Mean' : 'avg_scores'\n",
    "           }\n",
    "\n",
    "\n",
    "norm = widgets.Checkbox(\n",
    "    value=True,\n",
    "    description='Results normalized',\n",
    "    disabled=False,\n",
    "    indent=True\n",
    ")\n",
    "\n",
    "scale = widgets.RadioButtons(\n",
    "    options=['Regular', 'Logaritmic'],\n",
    "    description='Scale:',\n",
    "    disabled=False,\n",
    ")\n",
    "order = widgets.RadioButtons(\n",
    "    options=['Labels', 'Scores'],\n",
    "    description='Order by:',\n",
    "    disabled=False\n",
    ")\n",
    "\n",
    "\n",
    "def barPlot_manager(change_scale, change_order, method, normalized):\n",
    "    res = score_results[[\"Features\", options[method]]]\n",
    "    res.rename(columns = {options[method]:'Scores'}, inplace = True)\n",
    "    df = pd.DataFrame(data=res)\n",
    "    if (change_scale == 'Logaritmic'):\n",
    "        if (change_order == 'Scores'):\n",
    "            df = df.sort_values(by='Scores', ascending=False)\n",
    "            if normalized:\n",
    "                m.show_bar_log(df['Features'], m.NormalizeData1D(df['Scores']), method)\n",
    "            else:\n",
    "                m.show_bar_log(df['Features'], df['Scores'], method)\n",
    "            return\n",
    "        else:\n",
    "            if normalized:\n",
    "                m.show_bar_log(df['Features'], m.NormalizeData1D(df['Scores']), method)\n",
    "            else:\n",
    "                m.show_bar_log(df['Features'], df['Scores'], method)\n",
    "            return\n",
    "    else:\n",
    "        if (change_order == 'Scores'):\n",
    "            df = df.sort_values(by='Scores', ascending=False)\n",
    "            if normalized:\n",
    "                m.show_bar(df['Features'], m.NormalizeData1D(df['Scores']), method)\n",
    "            else:\n",
    "                m.show_bar(df['Features'], df['Scores'], method)\n",
    "            return\n",
    "        else:\n",
    "            if normalized:\n",
    "                m.show_bar(df['Features'], m.NormalizeData1D(df['Scores']), method)\n",
    "            else:\n",
    "                m.show_bar(df['Features'], df['Scores'], method)\n",
    "        return\n",
    "\n",
    "\n",
    "container1 = widgets.VBox([scale, order])\n",
    "container2 = widgets.VBox([choice, norm])\n",
    "ui = widgets.HBox([container2, container1])\n",
    "out = widgets.interactive_output(barPlot_manager, {'method':choice, 'change_scale': scale, 'change_order': order, 'normalized': norm})\n",
    "display(ui, out)\n",
    "\n",
    "\n",
    "\n",
    "\n",
    "\n",
    "\n",
    "\n"
   ]
  },
  {
   "cell_type": "code",
   "execution_count": null,
   "metadata": {
    "collapsed": false,
    "jupyter": {
     "outputs_hidden": false
    },
    "pycharm": {
     "name": "#%%\n"
    }
   },
   "outputs": [],
   "source": []
  }
 ],
 "metadata": {
  "extensions": {
   "jupyter_dashboards": {
    "activeView": "grid_default",
    "version": 1,
    "views": {
     "grid_default": {
      "cellMargin": 10,
      "defaultCellHeight": 20,
      "maxColumns": 12,
      "name": "grid",
      "type": "grid"
     },
     "report_default": {
      "name": "report",
      "type": "report"
     }
    }
   }
  },
  "kernelspec": {
   "display_name": "PyCharm (notebooks)",
   "language": "python",
   "name": "pycharm-a9067d49"
  },
  "language_info": {
   "codemirror_mode": {
    "name": "ipython",
    "version": 3
   },
   "file_extension": ".py",
   "mimetype": "text/x-python",
   "name": "python",
   "nbconvert_exporter": "python",
   "pygments_lexer": "ipython3",
   "version": "3.9.7"
  }
 },
 "nbformat": 4,
 "nbformat_minor": 4
}