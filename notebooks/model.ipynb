{
 "cells": [
  {
   "cell_type": "markdown",
   "id": "0070a88d-8e23-4552-b3c4-48ee989983da",
   "metadata": {},
   "source": [
    "# Results of Model prediction\n",
    "In this notebook is possible to retrieve test results al ready run in the notebooks of [RF](https://github.com/opengeolab/D-DUST/blob/thesis_MB/notebooks/RandomForest_prediction_model.ipynb) and [Keras](https://github.com/opengeolab/D-DUST/blob/thesis_MB/notebooks/Keras_prediction_model.ipynb) prediction model.\n",
    "\n",
    "In order to do that is necessary to set the parameter of the test choosen using dropdown widgtes.\n",
    "</br></br>\n",
    "<img align=\"right\" width=\"230\" height=\"300\" src = assets/images/dropdown.png>\n",
    "<img align=\"right\" width=\"300\" src = assets/images/table.png>\n",
    "</br>"
   ]
  },
  {
   "cell_type": "code",
   "execution_count": 4,
   "id": "af78f3e2-a476-4548-a58f-85d8172310a5",
   "metadata": {},
   "outputs": [
    {
     "data": {
      "application/vnd.jupyter.widget-view+json": {
       "model_id": "c4e793cf850f4235b686af38649d19f4",
       "version_major": 2,
       "version_minor": 0
      },
      "text/plain": [
       "Dropdown(description='Model:', options=('Keras Neural Network', 'Random Forest'), value='Keras Neural Network'…"
      ]
     },
     "metadata": {},
     "output_type": "display_data"
    },
    {
     "data": {
      "application/vnd.jupyter.widget-view+json": {
       "model_id": "2c8a424fcad54b48ad05fba886cb6668",
       "version_major": 2,
       "version_minor": 0
      },
      "text/plain": [
       "Dropdown(description='Settings:', options=('pm25_st', 'nh3_st'), value='pm25_st')"
      ]
     },
     "metadata": {},
     "output_type": "display_data"
    },
    {
     "data": {
      "application/vnd.jupyter.widget-view+json": {
       "model_id": "41894e317ba04f38898a733432877965",
       "version_major": 2,
       "version_minor": 0
      },
      "text/plain": [
       "Dropdown(description='Settings:', options=('0_1_mountains', '0_1_nomountains', '0_01_mountains', '0_01_nomount…"
      ]
     },
     "metadata": {},
     "output_type": "display_data"
    }
   ],
   "source": [
    "from IPython.core.display import display\n",
    "import ipywidgets as widgets\n",
    "import pandas as pd\n",
    "\n",
    "\n",
    "params = ['0_1_mountains', '0_1_nomountains', '0_01_mountains', '0_01_nomountains']\n",
    "NUMBER_OF_COVARIATES = 12\n",
    "models = widgets.Dropdown(\n",
    "    options=['Keras Neural Network','Random Forest'],\n",
    "    value='Keras Neural Network',\n",
    "    description='Model:',\n",
    "    disabled=False,\n",
    ")\n",
    "\n",
    "\n",
    "configuration = widgets.Dropdown(\n",
    "    options=params,\n",
    "    value=params[0],\n",
    "    description='Settings:',\n",
    "    disabled=False,\n",
    ")\n",
    "target = widgets.Dropdown(\n",
    "    options=['pm25_st', 'nh3_st'],\n",
    "    value='pm25_st',\n",
    "    description='Settings:',\n",
    "    disabled=False,\n",
    ")\n",
    "\n",
    "display(models)\n",
    "display(target)\n",
    "display(configuration)"
   ]
  },
  {
   "cell_type": "code",
   "execution_count": 2,
   "id": "d4ac8b3e-acdc-4b35-9bec-159794a1d3e3",
   "metadata": {},
   "outputs": [
    {
     "data": {
      "text/html": [
       "<div>\n",
       "<style scoped>\n",
       "    .dataframe tbody tr th:only-of-type {\n",
       "        vertical-align: middle;\n",
       "    }\n",
       "\n",
       "    .dataframe tbody tr th {\n",
       "        vertical-align: top;\n",
       "    }\n",
       "\n",
       "    .dataframe thead th {\n",
       "        text-align: right;\n",
       "    }\n",
       "</style>\n",
       "<table border=\"1\" class=\"dataframe\">\n",
       "  <thead>\n",
       "    <tr style=\"text-align: right;\">\n",
       "      <th></th>\n",
       "      <th>Unnamed: 0</th>\n",
       "      <th>0324_0331_2021</th>\n",
       "      <th>0418_0425_2021</th>\n",
       "      <th>0717_0724_2021</th>\n",
       "      <th>0903_0910_2021</th>\n",
       "      <th>1007_1014_2021</th>\n",
       "    </tr>\n",
       "  </thead>\n",
       "  <tbody>\n",
       "    <tr>\n",
       "      <th>0</th>\n",
       "      <td>MAE_sensor</td>\n",
       "      <td>1.842</td>\n",
       "      <td>1.669</td>\n",
       "      <td>1.026</td>\n",
       "      <td>1.745</td>\n",
       "      <td>1.515</td>\n",
       "    </tr>\n",
       "    <tr>\n",
       "      <th>1</th>\n",
       "      <td>MSE_sensor</td>\n",
       "      <td>5.185</td>\n",
       "      <td>4.531</td>\n",
       "      <td>1.594</td>\n",
       "      <td>5.522</td>\n",
       "      <td>3.695</td>\n",
       "    </tr>\n",
       "    <tr>\n",
       "      <th>2</th>\n",
       "      <td>R2_sensor</td>\n",
       "      <td>0.817</td>\n",
       "      <td>0.301</td>\n",
       "      <td>0.126</td>\n",
       "      <td>0.499</td>\n",
       "      <td>0.546</td>\n",
       "    </tr>\n",
       "    <tr>\n",
       "      <th>3</th>\n",
       "      <td>MAE_cams</td>\n",
       "      <td>7.800</td>\n",
       "      <td>6.554</td>\n",
       "      <td>2.113</td>\n",
       "      <td>3.060</td>\n",
       "      <td>3.478</td>\n",
       "    </tr>\n",
       "    <tr>\n",
       "      <th>4</th>\n",
       "      <td>MSE_cams</td>\n",
       "      <td>86.279</td>\n",
       "      <td>57.562</td>\n",
       "      <td>7.565</td>\n",
       "      <td>13.266</td>\n",
       "      <td>16.591</td>\n",
       "    </tr>\n",
       "  </tbody>\n",
       "</table>\n",
       "</div>"
      ],
      "text/plain": [
       "   Unnamed: 0  0324_0331_2021  0418_0425_2021  0717_0724_2021  0903_0910_2021  \\\n",
       "0  MAE_sensor           1.842           1.669           1.026           1.745   \n",
       "1  MSE_sensor           5.185           4.531           1.594           5.522   \n",
       "2   R2_sensor           0.817           0.301           0.126           0.499   \n",
       "3    MAE_cams           7.800           6.554           2.113           3.060   \n",
       "4    MSE_cams          86.279          57.562           7.565          13.266   \n",
       "\n",
       "   1007_1014_2021  \n",
       "0           1.515  \n",
       "1           3.695  \n",
       "2           0.546  \n",
       "3           3.478  \n",
       "4          16.591  "
      ]
     },
     "execution_count": 2,
     "metadata": {},
     "output_type": "execute_result"
    }
   ],
   "source": [
    "if(models.value == 'Random Forest'):\n",
    "    results = pd.read_csv('assets/test/RF'+target.value+configuration.value+'.csv')\n",
    "else:\n",
    "    results = pd.read_csv('assets/test/keras'+target.value+configuration.value+'.csv')\n",
    "    \n",
    "results.head()\n",
    "\n"
   ]
  },
  {
   "cell_type": "code",
   "execution_count": null,
   "id": "e0bcd1ce-bdf1-4ce6-ba6d-f4f55bf275c6",
   "metadata": {},
   "outputs": [],
   "source": []
  }
 ],
 "metadata": {
  "kernelspec": {
   "display_name": "Python 3 (ipykernel)",
   "language": "python",
   "name": "python3"
  },
  "language_info": {
   "codemirror_mode": {
    "name": "ipython",
    "version": 3
   },
   "file_extension": ".py",
   "mimetype": "text/x-python",
   "name": "python",
   "nbconvert_exporter": "python",
   "pygments_lexer": "ipython3",
   "version": "3.9.7"
  }
 },
 "nbformat": 4,
 "nbformat_minor": 5
}