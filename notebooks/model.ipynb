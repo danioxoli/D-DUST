{
 "cells": [
  {
   "cell_type": "markdown",
   "id": "0070a88d-8e23-4552-b3c4-48ee989983da",
   "metadata": {},
   "source": [
    "# Results of Model prediction\n",
    "In this notebook is possible to retrieve test results al ready run in the notebooks of [RF](https://github.com/opengeolab/D-DUST/blob/thesis_MB/notebooks/RandomForest_prediction_model.ipynb) and [Keras](https://github.com/opengeolab/D-DUST/blob/thesis_MB/notebooks/Keras_prediction_model.ipynb) prediction model.\n",
    "\n",
    "In order to do that is necessary to set the parameter of the test choosen using dropdown widgtes.\n",
    "</br></br>\n",
    "<img align=\"right\" width=\"300\" src = assets/images/table.png>\n",
    "<img align=\"right\" width=\"230\" height=\"300\" src = assets/images/dropdown.png>\n",
    "</br>"
   ]
  },
  {
   "cell_type": "code",
   "execution_count": 13,
   "id": "af78f3e2-a476-4548-a58f-85d8172310a5",
   "metadata": {},
   "outputs": [],
   "source": [
    "from IPython.core.display import display\n",
    "import ipywidgets as widgets\n",
    "import pandas as pd\n",
    "from ipywidgets import Layout\n",
    "\n",
    "params = ['0_1_mountains', '0_1_nomountains', '0_01_mountains', '0_01_nomountains']\n",
    "NUMBER_OF_COVARIATES = 12\n",
    "models = widgets.Dropdown(\n",
    "    options=['Keras Neural Network','Random Forest'],\n",
    "    value='Keras Neural Network',\n",
    "    description='Model:',\n",
    "    disabled=False,\n",
    ")\n",
    "\n",
    "\n",
    "configuration = widgets.Dropdown(\n",
    "    options=params,\n",
    "    value=params[0],\n",
    "    description='Settings:',\n",
    "    disabled=False,\n",
    ")\n",
    "target = widgets.Dropdown(\n",
    "    options=['pm25_st', 'nh3_st'],\n",
    "    value='pm25_st',\n",
    "    description='Settings:',\n",
    "    disabled=False,\n",
    ")\n",
    "\n"
   ]
  },
  {
   "cell_type": "code",
   "execution_count": 22,
   "id": "d4ac8b3e-acdc-4b35-9bec-159794a1d3e3",
   "metadata": {},
   "outputs": [
    {
     "data": {
      "application/vnd.jupyter.widget-view+json": {
       "model_id": "8c703204a4f747e996f144c5f26e1839",
       "version_major": 2,
       "version_minor": 0
      },
      "text/plain": [
       "VBox(children=(Dropdown(description='Model:', index=1, options=('Keras Neural Network', 'Random Forest'), valu…"
      ]
     },
     "metadata": {},
     "output_type": "display_data"
    },
    {
     "data": {
      "application/vnd.jupyter.widget-view+json": {
       "model_id": "68727eec1d1544d8b91127bb51bf63d7",
       "version_major": 2,
       "version_minor": 0
      },
      "text/plain": [
       "Output()"
      ]
     },
     "metadata": {},
     "output_type": "display_data"
    }
   ],
   "source": [
    "def results(model, target_choosen, configuration_choosen):\n",
    "    if(models.value == 'Random Forest'):\n",
    "        results = pd.read_csv('assets/test/RF'+target.value+configuration.value+'.csv')\n",
    "    else:\n",
    "        results = pd.read_csv('assets/test/keras'+target.value+configuration.value+'.csv')\n",
    "    print(results)\n",
    "\n",
    "    \n",
    "table = widgets.interactive_output(results, {'model':models, 'target_choosen': target, 'configuration_choosen':configuration})\n",
    "output = widgets.VBox([models, target, configuration], layout=Layout(border='solid'))\n",
    "\n",
    "display(output, table)\n"
   ]
  },
  {
   "cell_type": "code",
   "execution_count": null,
   "id": "e0bcd1ce-bdf1-4ce6-ba6d-f4f55bf275c6",
   "metadata": {},
   "outputs": [],
   "source": []
  }
 ],
 "metadata": {
  "kernelspec": {
   "display_name": "Python 3 (ipykernel)",
   "language": "python",
   "name": "python3"
  },
  "language_info": {
   "codemirror_mode": {
    "name": "ipython",
    "version": 3
   },
   "file_extension": ".py",
   "mimetype": "text/x-python",
   "name": "python",
   "nbconvert_exporter": "python",
   "pygments_lexer": "ipython3",
   "version": "3.9.7"
  }
 },
 "nbformat": 4,
 "nbformat_minor": 5
}