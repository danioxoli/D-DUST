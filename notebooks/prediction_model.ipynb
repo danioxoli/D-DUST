{
 "cells": [
  {
   "cell_type": "markdown",
   "id": "19c62789-b8ab-4643-b688-b7bf9950da05",
   "metadata": {},
   "source": [
    "# PM2.5 prediction"
   ]
  },
  {
   "cell_type": "markdown",
   "id": "2371f2e6-f56f-44a6-b00e-fc2327cbab08",
   "metadata": {},
   "source": [
    "### Import libraries"
   ]
  },
  {
   "cell_type": "code",
   "execution_count": 1,
   "id": "50cf5adc-c1be-459f-8fdc-b6063f0b1e3a",
   "metadata": {},
   "outputs": [],
   "source": [
    "import math\n",
    "import matplotlib.pyplot as plt\n",
    "import numpy as np\n",
    "from numpy.random import seed\n",
    "from scipy.stats import stats\n",
    "seed(1)\n",
    "import geopandas as gpd\n",
    "import pandas as pd\n",
    "import statsmodels.api as sm\n",
    "import statsmodels.formula.api as smf\n",
    "import tensorflow\n",
    "tensorflow.random.set_seed(1)\n",
    "from tensorflow.python.keras.layers import Dense\n",
    "from tensorflow.keras.layers import Dropout\n",
    "from tensorflow.python.keras.models import Sequential\n",
    "from tensorflow.python.keras.wrappers.scikit_learn import KerasRegressor\n",
    "from sklearn.metrics import mean_absolute_error\n",
    "from sklearn.metrics import mean_squared_error\n",
    "from sklearn.model_selection import train_test_split\n",
    "from sklearn.preprocessing import MinMaxScaler"
   ]
  },
  {
   "cell_type": "markdown",
   "id": "6ef1860a-b3c3-45ae-aea7-0f8596c23a21",
   "metadata": {},
   "source": [
    "### Data Import"
   ]
  },
  {
   "cell_type": "code",
   "execution_count": 2,
   "id": "d93508b6-e318-40a6-adfb-4b6fb175caf7",
   "metadata": {},
   "outputs": [],
   "source": [
    "data = gpd.read_file('grids/'+ 'grid_cams_0418_0425_2021.gpkg')\n",
    "\n",
    "data = data[~data['pm25_cams'].isnull()]\n",
    "data = data.dropna(axis=1)\n",
    "\n",
    "label_selected = ''\n",
    "\n",
    "data.pop('geometry')\n",
    "data.pop('bottom')\n",
    "data.pop('top')\n",
    "data.pop('left')\n",
    "data.pop('right')\n",
    "\n",
    "labels = pd.read_csv('results/grid_cams_0418_0425_2021.csv')\n",
    "#read variables which are not null\n",
    "score_results = pd.DataFrame()\n",
    "\n",
    "#Store dataset in x and y variables\n",
    "X = pd.DataFrame(data=data, columns=data.columns.tolist() )\n",
    "Y = X['pm25_cams']\n",
    "Y = Y.values.ravel()\n",
    "X.pop('pm25_cams')\n",
    "X.pop('lat_cen')\n",
    "X.pop('lng_cen')\n",
    "X = pd.DataFrame(data=X, columns=labels['Features'])\n"
   ]
  },
  {
   "cell_type": "code",
   "execution_count": 2,
   "id": "668835c7-26a6-45d6-bae1-c641c2758366",
   "metadata": {},
   "outputs": [],
   "source": []
  },
  {
   "cell_type": "code",
   "execution_count": 3,
   "id": "6443a499-3ca1-4497-9d9a-acb7ca7759a5",
   "metadata": {},
   "outputs": [
    {
     "name": "stdout",
     "output_type": "stream",
     "text": [
      "MinMaxScaler()\n",
      "MinMaxScaler()\n",
      "MinMaxScaler()\n",
      "MinMaxScaler()\n"
     ]
    }
   ],
   "source": [
    "y1 = np.array(Y)\n",
    "\n",
    "X_train, X_val, y_train, y_val = train_test_split(X, y1)\n",
    "\n",
    "y_train=np.reshape(y_train, (-1,1))\n",
    "y_val=np.reshape(y_val, (-1,1))\n",
    "\n",
    "scaler_x = MinMaxScaler()\n",
    "scaler_y = MinMaxScaler()\n",
    "print(scaler_x.fit(X_train))\n",
    "xtrain_scale=scaler_x.transform(X_train)\n",
    "print(scaler_x.fit(X_val))\n",
    "xval_scale=scaler_x.transform(X_val)\n",
    "print(scaler_y.fit(y_train))\n",
    "ytrain_scale=scaler_y.transform(y_train)\n",
    "print(scaler_y.fit(y_val))\n",
    "yval_scale=scaler_y.transform(y_val)\n"
   ]
  },
  {
   "cell_type": "code",
   "execution_count": 4,
   "outputs": [
    {
     "name": "stdout",
     "output_type": "stream",
     "text": [
      "Model: \"sequential\"\n",
      "_________________________________________________________________\n",
      "Layer (type)                 Output Shape              Param #   \n",
      "=================================================================\n",
      "dense (Dense)                (None, 9)                 81        \n",
      "_________________________________________________________________\n",
      "dense_1 (Dense)              (None, 280)               2800      \n",
      "_________________________________________________________________\n",
      "dense_2 (Dense)              (None, 1)                 281       \n",
      "=================================================================\n",
      "Total params: 3,162\n",
      "Trainable params: 3,162\n",
      "Non-trainable params: 0\n",
      "_________________________________________________________________\n"
     ]
    },
    {
     "name": "stderr",
     "output_type": "stream",
     "text": [
      "2022-05-03 19:28:05.843396: I tensorflow/core/platform/cpu_feature_guard.cc:145] This TensorFlow binary is optimized with Intel(R) MKL-DNN to use the following CPU instructions in performance critical operations:  SSE4.1 SSE4.2\n",
      "To enable them in non-MKL-DNN operations, rebuild TensorFlow with the appropriate compiler flags.\n",
      "2022-05-03 19:28:05.844317: I tensorflow/core/common_runtime/process_util.cc:115] Creating new thread pool with default inter op setting: 8. Tune using inter_op_parallelism_threads for best performance.\n"
     ]
    },
    {
     "name": "stdout",
     "output_type": "stream",
     "text": [
      "Train on 211 samples, validate on 53 samples\n",
      "Epoch 1/30\n",
      "211/211 [==============================] - 1s 5ms/sample - loss: 0.3732 - mse: 0.3732 - mae: 0.5323 - val_loss: 0.3459 - val_mse: 0.3459 - val_mae: 0.5164\b\b\b\b\b\b\b\b\b\b\b\b\b\b\b\b\b\b\b\b\b\b\b\b\b\b\b\b\b\b\b\b\n",
      "Epoch 2/30\n",
      "211/211 [==============================] - 0s 271us/sample - loss: 0.3321 - mse: 0.3321 - mae: 0.4970 - val_loss: 0.3048 - val_mse: 0.3048 - val_mae: 0.4806\b\b\b\b\b\b\b\b\b\b\b\b\b\b\b\b\b\b\b\b\b\b\b\b\b\b\b\b\b\b\n",
      "Epoch 3/30\n",
      "211/211 [==============================] - 0s 266us/sample - loss: 0.2927 - mse: 0.2927 - mae: 0.4626 - val_loss: 0.2652 - val_mse: 0.2652 - val_mae: 0.4462\b\b\b\b\b\b\b\b\b\b\b\b\b\b\b\b\b\b\b\b\b\b\b\b\b\b\b\b\b\b\n",
      "Epoch 4/30\n",
      "211/211 [==============================] - 0s 242us/sample - loss: 0.2543 - mse: 0.2543 - mae: 0.4300 - val_loss: 0.2278 - val_mse: 0.2278 - val_mae: 0.4117\b\b\b\b\b\b\b\b\b\b\b\b\b\b\b\b\b\b\b\b\b\b\b\b\b\b\b\b\b\b\n",
      "Epoch 5/30\n",
      "211/211 [==============================] - 0s 230us/sample - loss: 0.2194 - mse: 0.2194 - mae: 0.3982 - val_loss: 0.1923 - val_mse: 0.1923 - val_mae: 0.3758\b\b\b\b\b\b\b\b\b\b\b\b\b\b\b\b\b\b\b\b\b\b\b\b\b\b\b\b\b\b\n",
      "Epoch 6/30\n",
      "211/211 [==============================] - 0s 266us/sample - loss: 0.1855 - mse: 0.1855 - mae: 0.3669 - val_loss: 0.1590 - val_mse: 0.1590 - val_mae: 0.3406\b\b\b\b\b\b\b\b\b\b\b\b\b\b\b\b\b\b\b\b\b\b\b\b\b\b\b\b\b\b\n",
      "Epoch 7/30\n",
      "211/211 [==============================] - 0s 270us/sample - loss: 0.1530 - mse: 0.1530 - mae: 0.3333 - val_loss: 0.1285 - val_mse: 0.1285 - val_mae: 0.3052\b\b\b\b\b\b\b\b\b\b\b\b\b\b\b\b\b\b\b\b\b\b\b\b\b\b\b\b\b\b\n",
      "Epoch 8/30\n",
      "211/211 [==============================] - 0s 257us/sample - loss: 0.1239 - mse: 0.1239 - mae: 0.3023 - val_loss: 0.1011 - val_mse: 0.1011 - val_mae: 0.2712\b\b\b\b\b\b\b\b\b\b\b\b\b\b\b\b\b\b\b\b\b\b\b\b\b\b\b\b\b\b\n",
      "Epoch 9/30\n",
      "211/211 [==============================] - 0s 269us/sample - loss: 0.0981 - mse: 0.0981 - mae: 0.2704 - val_loss: 0.0774 - val_mse: 0.0774 - val_mae: 0.2389\b\b\b\b\b\b\b\b\b\b\b\b\b\b\b\b\b\b\b\b\b\b\b\b\b\b\b\b\b\b\n",
      "Epoch 10/30\n",
      "211/211 [==============================] - 0s 226us/sample - loss: 0.0752 - mse: 0.0752 - mae: 0.2406 - val_loss: 0.0582 - val_mse: 0.0582 - val_mae: 0.2099\b\b\b\b\b\b\b\b\b\b\b\b\b\b\b\b\b\b\b\b\b\b\b\b\b\b\b\b\b\b\n",
      "Epoch 11/30\n",
      "211/211 [==============================] - 0s 219us/sample - loss: 0.0569 - mse: 0.0569 - mae: 0.2121 - val_loss: 0.0440 - val_mse: 0.0440 - val_mae: 0.1818\b\b\b\b\b\b\b\b\b\b\b\b\b\b\b\b\b\b\b\b\b\b\b\b\b\b\b\b\b\b\n",
      "Epoch 12/30\n",
      "211/211 [==============================] - 0s 212us/sample - loss: 0.0441 - mse: 0.0441 - mae: 0.1865 - val_loss: 0.0353 - val_mse: 0.0353 - val_mae: 0.1583\b\b\b\b\b\b\b\b\b\b\b\b\b\b\b\b\b\b\b\b\b\b\b\b\b\b\b\b\b\b\n",
      "Epoch 13/30\n",
      "211/211 [==============================] - 0s 226us/sample - loss: 0.0361 - mse: 0.0361 - mae: 0.1630 - val_loss: 0.0324 - val_mse: 0.0324 - val_mae: 0.1460\b\b\b\b\b\b\b\b\b\b\b\b\b\b\b\b\b\b\b\b\b\b\b\b\b\b\b\b\b\b\n",
      "Epoch 14/30\n",
      "211/211 [==============================] - 0s 219us/sample - loss: 0.0337 - mse: 0.0337 - mae: 0.1504 - val_loss: 0.0340 - val_mse: 0.0340 - val_mae: 0.1513\b\b\b\b\b\b\b\b\b\b\b\b\b\b\b\b\b\b\b\b\b\b\b\b\b\b\b\b\b\b\n",
      "Epoch 15/30\n",
      "211/211 [==============================] - 0s 201us/sample - loss: 0.0351 - mse: 0.0351 - mae: 0.1495 - val_loss: 0.0378 - val_mse: 0.0378 - val_mae: 0.1589\b\b\b\b\b\b\b\b\b\b\b\b\b\b\b\b\b\b\b\b\b\b\b\b\b\b\b\b\b\b\n",
      "Epoch 16/30\n",
      "211/211 [==============================] - 0s 217us/sample - loss: 0.0385 - mse: 0.0385 - mae: 0.1579 - val_loss: 0.0407 - val_mse: 0.0407 - val_mae: 0.1671\b\b\b\b\b\b\b\b\b\b\b\b\b\b\b\b\b\b\b\b\b\b\b\b\b\b\b\b\b\b\n",
      "Epoch 17/30\n",
      "211/211 [==============================] - 0s 209us/sample - loss: 0.0407 - mse: 0.0407 - mae: 0.1634 - val_loss: 0.0410 - val_mse: 0.0410 - val_mae: 0.1681\b\b\b\b\b\b\b\b\b\b\b\b\b\b\b\b\b\b\b\b\b\b\b\b\b\b\b\b\b\b\n",
      "Epoch 18/30\n",
      "211/211 [==============================] - 0s 206us/sample - loss: 0.0405 - mse: 0.0405 - mae: 0.1632 - val_loss: 0.0388 - val_mse: 0.0388 - val_mae: 0.1633\b\b\b\b\b\b\b\b\b\b\b\b\b\b\b\b\b\b\b\b\b\b\b\b\b\b\b\b\b\b\n",
      "Epoch 19/30\n",
      "211/211 [==============================] - 0s 194us/sample - loss: 0.0381 - mse: 0.0381 - mae: 0.1581 - val_loss: 0.0352 - val_mse: 0.0352 - val_mae: 0.1544\b\b\b\b\b\b\b\b\b\b\b\b\b\b\b\b\b\b\b\b\b\b\b\b\b\b\b\b\b\b\n",
      "Epoch 20/30\n",
      "211/211 [==============================] - 0s 198us/sample - loss: 0.0348 - mse: 0.0348 - mae: 0.1507 - val_loss: 0.0317 - val_mse: 0.0317 - val_mae: 0.1464\b\b\b\b\b\b\b\b\b\b\b\b\b\b\b\b\b\b\b\b\b\b\b\b\b\b\b\b\b\b\n",
      "Epoch 21/30\n",
      "211/211 [==============================] - 0s 192us/sample - loss: 0.0315 - mse: 0.0315 - mae: 0.1435 - val_loss: 0.0290 - val_mse: 0.0290 - val_mae: 0.1406\b\b\b\b\b\b\b\b\b\b\b\b\b\b\b\b\b\b\b\b\b\b\b\b\b\b\b\b\b\b\n",
      "Epoch 22/30\n",
      "211/211 [==============================] - 0s 191us/sample - loss: 0.0292 - mse: 0.0292 - mae: 0.1387 - val_loss: 0.0273 - val_mse: 0.0273 - val_mae: 0.1360\b\b\b\b\b\b\b\b\b\b\b\b\b\b\b\b\b\b\b\b\b\b\b\b\b\b\b\b\b\b\n",
      "Epoch 23/30\n",
      "211/211 [==============================] - 0s 195us/sample - loss: 0.0277 - mse: 0.0277 - mae: 0.1366 - val_loss: 0.0264 - val_mse: 0.0264 - val_mae: 0.1321\b\b\b\b\b\b\b\b\b\b\b\b\b\b\b\b\b\b\b\b\b\b\b\b\b\b\b\b\b\b\n",
      "Epoch 24/30\n",
      "211/211 [==============================] - 0s 209us/sample - loss: 0.0269 - mse: 0.0269 - mae: 0.1358 - val_loss: 0.0260 - val_mse: 0.0260 - val_mae: 0.1305\b\b\b\b\b\b\b\b\b\b\b\b\b\b\b\b\b\b\b\b\b\b\b\b\b\b\b\b\b\b\n",
      "Epoch 25/30\n",
      "211/211 [==============================] - 0s 217us/sample - loss: 0.0267 - mse: 0.0267 - mae: 0.1366 - val_loss: 0.0256 - val_mse: 0.0256 - val_mae: 0.1305\b\b\b\b\b\b\b\b\b\b\b\b\b\b\b\b\b\b\b\b\b\b\b\b\b\b\b\b\b\b\n",
      "Epoch 26/30\n",
      "211/211 [==============================] - 0s 196us/sample - loss: 0.0263 - mse: 0.0263 - mae: 0.1363 - val_loss: 0.0251 - val_mse: 0.0251 - val_mae: 0.1298\b\b\b\b\b\b\b\b\b\b\b\b\b\b\b\b\b\b\b\b\b\b\b\b\b\b\b\b\b\b\n",
      "Epoch 27/30\n",
      "211/211 [==============================] - 0s 196us/sample - loss: 0.0257 - mse: 0.0257 - mae: 0.1350 - val_loss: 0.0243 - val_mse: 0.0243 - val_mae: 0.1276\b\b\b\b\b\b\b\b\b\b\b\b\b\b\b\b\b\b\b\b\b\b\b\b\b\b\b\b\b\b\n",
      "Epoch 28/30\n",
      "211/211 [==============================] - 0s 198us/sample - loss: 0.0247 - mse: 0.0247 - mae: 0.1323 - val_loss: 0.0233 - val_mse: 0.0233 - val_mae: 0.1241\b\b\b\b\b\b\b\b\b\b\b\b\b\b\b\b\b\b\b\b\b\b\b\b\b\b\b\b\b\b\n",
      "Epoch 29/30\n",
      "211/211 [==============================] - 0s 190us/sample - loss: 0.0236 - mse: 0.0236 - mae: 0.1285 - val_loss: 0.0221 - val_mse: 0.0221 - val_mae: 0.1207\b\b\b\b\b\b\b\b\b\b\b\b\b\b\b\b\b\b\b\b\b\b\b\b\b\b\b\b\b\b\n",
      "Epoch 30/30\n",
      "211/211 [==============================] - 0s 191us/sample - loss: 0.0222 - mse: 0.0222 - mae: 0.1243 - val_loss: 0.0211 - val_mse: 0.0211 - val_mae: 0.1191\b\b\b\b\b\b\b\b\b\b\b\b\b\b\b\b\b\b\b\b\b\b\b\b\b\b\b\b\b\b\n",
      "dict_keys(['loss', 'mse', 'mae', 'val_loss', 'val_mse', 'val_mae'])\n"
     ]
    },
    {
     "data": {
      "text/plain": "<Figure size 432x288 with 1 Axes>",
      "image/png": "[encoded data removed]"
     },
     "metadata": {
      "needs_background": "light"
     },
     "output_type": "display_data"
    }
   ],
   "source": [
    "model = Sequential()\n",
    "model.add(Dense(9, input_dim=8, kernel_initializer='normal', activation='relu'))\n",
    "model.add(Dense(280, activation='relu'))\n",
    "model.add(Dense(1, activation='linear'))\n",
    "model.summary()\n",
    "\n",
    "model.compile(loss='mse', optimizer='adam', metrics=['mse','mae'])\n",
    "history=model.fit(xtrain_scale, ytrain_scale, epochs=30, batch_size=150, verbose=1, validation_split=0.2)\n",
    "predictions = model.predict(xval_scale)\n",
    "\n",
    "print(history.history.keys())\n",
    "# \"Loss\"\n",
    "plt.plot(history.history['loss'])\n",
    "plt.plot(history.history['val_loss'])\n",
    "plt.title('model loss')\n",
    "plt.ylabel('loss')\n",
    "plt.xlabel('epoch')\n",
    "plt.legend(['train', 'validation'], loc='upper left')\n",
    "plt.show()\n",
    "\n"
   ],
   "metadata": {
    "collapsed": false,
    "pycharm": {
     "name": "#%%\n"
    }
   }
  }
 ],
 "metadata": {
  "kernelspec": {
   "display_name": "Python 3 (ipykernel)",
   "language": "python",
   "name": "python3"
  },
  "language_info": {
   "codemirror_mode": {
    "name": "ipython",
    "version": 3
   },
   "file_extension": ".py",
   "mimetype": "text/x-python",
   "name": "python",
   "nbconvert_exporter": "python",
   "pygments_lexer": "ipython3",
   "version": "3.9.7"
  }
 },
 "nbformat": 4,
 "nbformat_minor": 5
}