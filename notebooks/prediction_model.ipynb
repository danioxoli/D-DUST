{
 "cells": [
  {
   "cell_type": "markdown",
   "id": "19c62789-b8ab-4643-b688-b7bf9950da05",
   "metadata": {},
   "source": [
    "# PM2.5 prediction"
   ]
  },
  {
   "cell_type": "markdown",
   "id": "2371f2e6-f56f-44a6-b00e-fc2327cbab08",
   "metadata": {},
   "source": [
    "### Import libraries"
   ]
  },
  {
   "cell_type": "code",
   "execution_count": null,
   "id": "50cf5adc-c1be-459f-8fdc-b6063f0b1e3a",
   "metadata": {},
   "outputs": [],
   "source": [
    "import math\n",
    "import matplotlib.pyplot as plt\n",
    "import numpy as np\n",
    "from numpy.random import seed\n",
    "from scipy.stats import stats\n",
    "seed(1)\n",
    "import geopandas as gpd\n",
    "import pandas as pd\n",
    "import statsmodels.api as sm\n",
    "import statsmodels.formula.api as smf\n",
    "import tensorflow\n",
    "tensorflow.random.set_seed(1)\n",
    "from tensorflow.python.keras.layers import Dense\n",
    "from tensorflow.keras.layers import Dropout\n",
    "from tensorflow.python.keras.models import Sequential\n",
    "from tensorflow.python.keras.wrappers.scikit_learn import KerasRegressor\n",
    "from sklearn.metrics import mean_absolute_error\n",
    "from sklearn.metrics import mean_squared_error\n",
    "from sklearn.model_selection import train_test_split\n",
    "from sklearn.preprocessing import MinMaxScaler"
   ]
  },
  {
   "cell_type": "markdown",
   "id": "6ef1860a-b3c3-45ae-aea7-0f8596c23a21",
   "metadata": {},
   "source": [
    "### Data Import"
   ]
  },
  {
   "cell_type": "code",
   "execution_count": 2,
   "id": "d93508b6-e318-40a6-adfb-4b6fb175caf7",
   "metadata": {},
   "outputs": [],
   "source": [
    "data = gpd.read_file('grids/'+ 'grid_cams_0418_0425_2021.gpkg')\n",
    "\n",
    "data = data[~data['pm25_st'].isnull()]\n",
    "data = data.dropna(axis=1)\n",
    "\n",
    "label_selected = ''\n",
    "\n",
    "data.pop('geometry')\n",
    "data.pop('bottom')\n",
    "data.pop('top')\n",
    "data.pop('left')\n",
    "data.pop('right')\n",
    "\n",
    "labels = pd.read_csv('results/grid_cams_0418_0425_2021.csv')\n",
    "#read variables which are not null\n",
    "score_results = pd.DataFrame()\n",
    "\n",
    "#Store dataset in x and y variables\n",
    "X = pd.DataFrame(data=data, columns=data.columns.tolist() )\n",
    "Y = X['pm25_st']\n",
    "Y = Y.values.ravel()\n",
    "X.pop('pm25_st')\n",
    "X.pop('lat_cen')\n",
    "X.pop('lng_cen')\n",
    "X = pd.DataFrame(data=X, columns=labels['Features'])\n"
   ]
  },
  {
   "cell_type": "code",
   "execution_count": 2,
   "id": "668835c7-26a6-45d6-bae1-c641c2758366",
   "metadata": {},
   "outputs": [],
   "source": []
  },
  {
   "cell_type": "code",
   "execution_count": 3,
   "id": "6443a499-3ca1-4497-9d9a-acb7ca7759a5",
   "metadata": {},
   "outputs": [
    {
     "name": "stdout",
     "output_type": "stream",
     "text": [
      "MinMaxScaler()\n",
      "MinMaxScaler()\n",
      "MinMaxScaler()\n",
      "MinMaxScaler()\n"
     ]
    }
   ],
   "source": [
    "y1 = np.array(Y)\n",
    "\n",
    "X_train, X_val, y_train, y_val = train_test_split(X, y1)\n",
    "\n",
    "y_train=np.reshape(y_train, (-1,1))\n",
    "y_val=np.reshape(y_val, (-1,1))\n",
    "\n",
    "scaler_x = MinMaxScaler()\n",
    "scaler_y = MinMaxScaler()\n",
    "print(scaler_x.fit(X_train))\n",
    "xtrain_scale=scaler_x.transform(X_train)\n",
    "print(scaler_x.fit(X_val))\n",
    "xval_scale=scaler_x.transform(X_val)\n",
    "print(scaler_y.fit(y_train))\n",
    "ytrain_scale=scaler_y.transform(y_train)\n",
    "print(scaler_y.fit(y_val))\n",
    "yval_scale=scaler_y.transform(y_val)\n"
   ]
  },
  {
   "cell_type": "code",
   "execution_count": 4,
   "id": "ec2c2550",
   "metadata": {
    "collapsed": false,
    "jupyter": {
     "outputs_hidden": false
    },
    "pycharm": {
     "name": "#%%\n"
    }
   },
   "outputs": [
    {
     "name": "stdout",
     "output_type": "stream",
     "text": [
      "Model: \"sequential\"\n",
      "_________________________________________________________________\n",
      "Layer (type)                 Output Shape              Param #   \n",
      "=================================================================\n",
      "dense (Dense)                (None, 9)                 81        \n",
      "_________________________________________________________________\n",
      "dense_1 (Dense)              (None, 280)               2800      \n",
      "_________________________________________________________________\n",
      "dense_2 (Dense)              (None, 1)                 281       \n",
      "=================================================================\n",
      "Total params: 3,162\n",
      "Trainable params: 3,162\n",
      "Non-trainable params: 0\n",
      "_________________________________________________________________\n",
      "Train on 16 samples, validate on 5 samples\n",
      "Epoch 1/30\n"
     ]
    },
    {
     "name": "stderr",
     "output_type": "stream",
     "text": [
      "2022-05-03 19:30:45.218238: I tensorflow/core/platform/cpu_feature_guard.cc:145] This TensorFlow binary is optimized with Intel(R) MKL-DNN to use the following CPU instructions in performance critical operations:  SSE4.1 SSE4.2\n",
      "To enable them in non-MKL-DNN operations, rebuild TensorFlow with the appropriate compiler flags.\n",
      "2022-05-03 19:30:45.218865: I tensorflow/core/common_runtime/process_util.cc:115] Creating new thread pool with default inter op setting: 8. Tune using inter_op_parallelism_threads for best performance.\n"
     ]
    },
    {
     "name": "stdout",
     "output_type": "stream",
     "text": [
      "16/16 [==============================] - 1s 58ms/sample - loss: 0.2049 - mse: 0.2049 - mae: 0.3771 - val_loss: 0.1794 - val_mse: 0.1794 - val_mae: 0.3909\n",
      "Epoch 2/30\n",
      "16/16 [==============================] - 0s 2ms/sample - loss: 0.1896 - mse: 0.1896 - mae: 0.3589 - val_loss: 0.1635 - val_mse: 0.1635 - val_mae: 0.3696\n",
      "Epoch 3/30\n",
      "16/16 [==============================] - 0s 2ms/sample - loss: 0.1750 - mse: 0.1750 - mae: 0.3423 - val_loss: 0.1483 - val_mse: 0.1483 - val_mae: 0.3480\n",
      "Epoch 4/30\n",
      "16/16 [==============================] - 0s 2ms/sample - loss: 0.1611 - mse: 0.1611 - mae: 0.3262 - val_loss: 0.1339 - val_mse: 0.1339 - val_mae: 0.3261\n",
      "Epoch 5/30\n",
      "16/16 [==============================] - 0s 2ms/sample - loss: 0.1479 - mse: 0.1479 - mae: 0.3099 - val_loss: 0.1204 - val_mse: 0.1204 - val_mae: 0.3040\n",
      "Epoch 6/30\n",
      "16/16 [==============================] - 0s 2ms/sample - loss: 0.1354 - mse: 0.1354 - mae: 0.2935 - val_loss: 0.1077 - val_mse: 0.1077 - val_mae: 0.2817\n",
      "Epoch 7/30\n",
      "16/16 [==============================] - 0s 2ms/sample - loss: 0.1236 - mse: 0.1236 - mae: 0.2783 - val_loss: 0.0960 - val_mse: 0.0960 - val_mae: 0.2592\n",
      "Epoch 8/30\n",
      "16/16 [==============================] - 0s 3ms/sample - loss: 0.1127 - mse: 0.1127 - mae: 0.2641 - val_loss: 0.0852 - val_mse: 0.0852 - val_mae: 0.2364\n",
      "Epoch 9/30\n",
      "16/16 [==============================] - 0s 3ms/sample - loss: 0.1025 - mse: 0.1025 - mae: 0.2497 - val_loss: 0.0754 - val_mse: 0.0754 - val_mae: 0.2133\n",
      "Epoch 10/30\n",
      "16/16 [==============================] - 0s 3ms/sample - loss: 0.0931 - mse: 0.0931 - mae: 0.2367 - val_loss: 0.0665 - val_mse: 0.0665 - val_mae: 0.1950\n",
      "Epoch 11/30\n",
      "16/16 [==============================] - 0s 3ms/sample - loss: 0.0844 - mse: 0.0844 - mae: 0.2249 - val_loss: 0.0586 - val_mse: 0.0586 - val_mae: 0.1830\n",
      "Epoch 12/30\n",
      "16/16 [==============================] - 0s 3ms/sample - loss: 0.0767 - mse: 0.0767 - mae: 0.2130 - val_loss: 0.0519 - val_mse: 0.0519 - val_mae: 0.1709\n",
      "Epoch 13/30\n",
      "16/16 [==============================] - 0s 3ms/sample - loss: 0.0698 - mse: 0.0698 - mae: 0.2029 - val_loss: 0.0463 - val_mse: 0.0463 - val_mae: 0.1588\n",
      "Epoch 14/30\n",
      "16/16 [==============================] - 0s 3ms/sample - loss: 0.0639 - mse: 0.0639 - mae: 0.1933 - val_loss: 0.0420 - val_mse: 0.0420 - val_mae: 0.1466\n",
      "Epoch 15/30\n",
      "16/16 [==============================] - 0s 3ms/sample - loss: 0.0590 - mse: 0.0590 - mae: 0.1851 - val_loss: 0.0389 - val_mse: 0.0389 - val_mae: 0.1344\n",
      "Epoch 16/30\n",
      "16/16 [==============================] - 0s 3ms/sample - loss: 0.0551 - mse: 0.0551 - mae: 0.1810 - val_loss: 0.0370 - val_mse: 0.0370 - val_mae: 0.1351\n",
      "Epoch 17/30\n",
      "16/16 [==============================] - 0s 2ms/sample - loss: 0.0523 - mse: 0.0523 - mae: 0.1806 - val_loss: 0.0366 - val_mse: 0.0366 - val_mae: 0.1412\n",
      "Epoch 18/30\n",
      "16/16 [==============================] - 0s 2ms/sample - loss: 0.0505 - mse: 0.0505 - mae: 0.1854 - val_loss: 0.0374 - val_mse: 0.0374 - val_mae: 0.1474\n",
      "Epoch 19/30\n",
      "16/16 [==============================] - 0s 2ms/sample - loss: 0.0496 - mse: 0.0496 - mae: 0.1899 - val_loss: 0.0393 - val_mse: 0.0393 - val_mae: 0.1536\n",
      "Epoch 20/30\n",
      "16/16 [==============================] - 0s 2ms/sample - loss: 0.0496 - mse: 0.0496 - mae: 0.1943 - val_loss: 0.0418 - val_mse: 0.0418 - val_mae: 0.1673\n",
      "Epoch 21/30\n",
      "16/16 [==============================] - 0s 2ms/sample - loss: 0.0504 - mse: 0.0504 - mae: 0.1983 - val_loss: 0.0447 - val_mse: 0.0447 - val_mae: 0.1790\n",
      "Epoch 22/30\n",
      "16/16 [==============================] - 0s 2ms/sample - loss: 0.0517 - mse: 0.0517 - mae: 0.2017 - val_loss: 0.0475 - val_mse: 0.0475 - val_mae: 0.1884\n",
      "Epoch 23/30\n",
      "16/16 [==============================] - 0s 2ms/sample - loss: 0.0531 - mse: 0.0531 - mae: 0.2043 - val_loss: 0.0500 - val_mse: 0.0500 - val_mae: 0.1954\n",
      "Epoch 24/30\n",
      "16/16 [==============================] - 0s 2ms/sample - loss: 0.0542 - mse: 0.0542 - mae: 0.2061 - val_loss: 0.0516 - val_mse: 0.0516 - val_mae: 0.1997\n",
      "Epoch 25/30\n",
      "16/16 [==============================] - 0s 2ms/sample - loss: 0.0549 - mse: 0.0549 - mae: 0.2070 - val_loss: 0.0525 - val_mse: 0.0525 - val_mae: 0.2015\n",
      "Epoch 26/30\n",
      "16/16 [==============================] - 0s 2ms/sample - loss: 0.0550 - mse: 0.0550 - mae: 0.2071 - val_loss: 0.0525 - val_mse: 0.0525 - val_mae: 0.2011\n",
      "Epoch 27/30\n",
      "16/16 [==============================] - 0s 2ms/sample - loss: 0.0546 - mse: 0.0546 - mae: 0.2064 - val_loss: 0.0519 - val_mse: 0.0519 - val_mae: 0.1989\n",
      "Epoch 28/30\n",
      "16/16 [==============================] - 0s 2ms/sample - loss: 0.0537 - mse: 0.0537 - mae: 0.2052 - val_loss: 0.0510 - val_mse: 0.0510 - val_mae: 0.1955\n",
      "Epoch 29/30\n",
      "16/16 [==============================] - 0s 2ms/sample - loss: 0.0526 - mse: 0.0526 - mae: 0.2034 - val_loss: 0.0496 - val_mse: 0.0496 - val_mae: 0.1909\n",
      "Epoch 30/30\n",
      "16/16 [==============================] - 0s 2ms/sample - loss: 0.0514 - mse: 0.0514 - mae: 0.2013 - val_loss: 0.0482 - val_mse: 0.0482 - val_mae: 0.1858\n",
      "dict_keys(['loss', 'mse', 'mae', 'val_loss', 'val_mse', 'val_mae'])\n"
     ]
    },
    {
     "data": {
      "image/png": "[encoded data removed]",
      "text/plain": [
       "<Figure size 432x288 with 1 Axes>"
      ]
     },
     "metadata": {
      "needs_background": "light"
     },
     "output_type": "display_data"
    }
   ],
   "source": [
    "model = Sequential()\n",
    "model.add(Dense(9, input_dim=8, kernel_initializer='normal', activation='relu'))\n",
    "model.add(Dense(280, activation='relu'))\n",
    "model.add(Dense(1, activation='linear'))\n",
    "model.summary()\n",
    "\n",
    "model.compile(loss='mse', optimizer='adam', metrics=['mse','mae'])\n",
    "history=model.fit(xtrain_scale, ytrain_scale, epochs=30, batch_size=150, verbose=1, validation_split=0.2)\n",
    "predictions = model.predict(xval_scale)\n",
    "\n",
    "print(history.history.keys())\n",
    "# \"Loss\"\n",
    "plt.plot(history.history['loss'])\n",
    "plt.plot(history.history['val_loss'])\n",
    "plt.title('model loss')\n",
    "plt.ylabel('loss')\n",
    "plt.xlabel('epoch')\n",
    "plt.legend(['train', 'validation'], loc='upper left')\n",
    "plt.show()\n",
    "\n"
   ]
  }
 ],
 "metadata": {
  "kernelspec": {
   "display_name": "Python 3 (ipykernel)",
   "language": "python",
   "name": "python3"
  },
  "language_info": {
   "codemirror_mode": {
    "name": "ipython",
    "version": 3
   },
   "file_extension": ".py",
   "mimetype": "text/x-python",
   "name": "python",
   "nbconvert_exporter": "python",
   "pygments_lexer": "ipython3",
   "version": "3.9.7"
  }
 },
 "nbformat": 4,
 "nbformat_minor": 5
}
