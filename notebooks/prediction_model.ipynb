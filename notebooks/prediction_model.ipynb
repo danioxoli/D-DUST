{
 "cells": [
  {
   "cell_type": "markdown",
   "id": "19c62789-b8ab-4643-b688-b7bf9950da05",
   "metadata": {},
   "source": [
    "# PM2.5 prediction"
   ]
  },
  {
   "cell_type": "markdown",
   "id": "2371f2e6-f56f-44a6-b00e-fc2327cbab08",
   "metadata": {},
   "source": [
    "### Import libraries"
   ]
  },
  {
   "cell_type": "code",
   "execution_count": 25,
   "id": "50cf5adc-c1be-459f-8fdc-b6063f0b1e3a",
   "metadata": {},
   "outputs": [],
   "source": [
    "import math\n",
    "import matplotlib.pyplot as plt\n",
    "import numpy as np\n",
    "from numpy.random import seed\n",
    "from scipy.stats import stats\n",
    "seed(1)\n",
    "import geopandas as gpd\n",
    "import pandas as pd\n",
    "import statsmodels.api as sm\n",
    "import statsmodels.formula.api as smf\n",
    "import tensorflow\n",
    "tensorflow.random.set_seed(1)\n",
    "from tensorflow.python.keras.layers import Dense\n",
    "from tensorflow.keras.layers import Dropout\n",
    "from tensorflow.python.keras.models import Sequential\n",
    "from tensorflow.python.keras.wrappers.scikit_learn import KerasRegressor\n",
    "from sklearn.metrics import mean_absolute_error\n",
    "from sklearn.metrics import mean_squared_error\n",
    "from sklearn.model_selection import train_test_split\n",
    "from sklearn.preprocessing import MinMaxScaler"
   ]
  },
  {
   "cell_type": "markdown",
   "id": "6ef1860a-b3c3-45ae-aea7-0f8596c23a21",
   "metadata": {},
   "source": [
    "### Data Import"
   ]
  },
  {
   "cell_type": "code",
   "execution_count": 26,
   "id": "d93508b6-e318-40a6-adfb-4b6fb175caf7",
   "metadata": {},
   "outputs": [],
   "source": [
    "TARGET = 'pm25_st'\n",
    "NUMBER_OF_PARAMS = 6\n",
    "data = gpd.read_file('grids/'+ 'grid_cams_0418_0425_2021.gpkg')\n",
    "\n",
    "\n",
    "data = data[~data[TARGET].isnull()]\n",
    "data = data.dropna(axis=1)\n",
    "\n",
    "\n",
    "data.pop('geometry')\n",
    "data.pop('bottom')\n",
    "data.pop('top')\n",
    "data.pop('left')\n",
    "data.pop('right')\n",
    "\n",
    "labels = pd.read_csv('results/grid_cams_0418_0425_2021.csv').iloc[:NUMBER_OF_PARAMS]\n",
    "\n",
    "#read variables which are not null\n",
    "score_results = pd.DataFrame()\n",
    "\n",
    "#Store dataset in x and y variables\n",
    "X = pd.DataFrame(data=data, columns=data.columns.tolist() )\n",
    "Y = X[TARGET]\n",
    "Y = Y.values.ravel()\n",
    "X.pop(TARGET)\n",
    "X.pop('lat_cen')\n",
    "X.pop('lng_cen')\n",
    "X = pd.DataFrame(data=X, columns=labels['Features']).dropna(axis=1)\n"
   ]
  },
  {
   "cell_type": "code",
   "execution_count": 26,
   "id": "668835c7-26a6-45d6-bae1-c641c2758366",
   "metadata": {},
   "outputs": [],
   "source": []
  },
  {
   "cell_type": "code",
   "execution_count": 27,
   "id": "6443a499-3ca1-4497-9d9a-acb7ca7759a5",
   "metadata": {},
   "outputs": [],
   "source": [
    "\n",
    "NUMBER_OF_PARAMS = X.shape[1]\n",
    "y1 = np.array(Y)\n",
    "\n",
    "X_train, X_val, y_train, y_val = train_test_split(X, y1)\n",
    "\n",
    "y_train=np.reshape(y_train, (-1,1))\n",
    "y_val=np.reshape(y_val, (-1,1))\n",
    "\n",
    "scaler_x = MinMaxScaler()\n",
    "scaler_y = MinMaxScaler()\n",
    "\n",
    "scaler_x.fit(X_train)\n",
    "xtrain_scale=scaler_x.transform(X_train)\n",
    "scaler_x.fit(X_val)\n",
    "xval_scale=scaler_x.transform(X_val)\n",
    "\n",
    "scaler_y.fit(y_train)\n",
    "ytrain_scale=scaler_y.transform(y_train)\n",
    "scaler_y.fit(y_val)\n",
    "yval_scale=scaler_y.transform(y_val)\n"
   ]
  },
  {
   "cell_type": "code",
   "execution_count": 28,
   "id": "ec2c2550",
   "metadata": {
    "collapsed": false,
    "jupyter": {
     "outputs_hidden": false
    },
    "pycharm": {
     "name": "#%%\n"
    }
   },
   "outputs": [
    {
     "name": "stdout",
     "output_type": "stream",
     "text": [
      "Model: \"sequential_6\"\n",
      "_________________________________________________________________\n",
      "Layer (type)                 Output Shape              Param #   \n",
      "=================================================================\n",
      "dense_18 (Dense)             (None, 7)                 49        \n",
      "_________________________________________________________________\n",
      "dense_19 (Dense)             (None, 224)               1792      \n",
      "_________________________________________________________________\n",
      "dense_20 (Dense)             (None, 1)                 225       \n",
      "=================================================================\n",
      "Total params: 2,066\n",
      "Trainable params: 2,066\n",
      "Non-trainable params: 0\n",
      "_________________________________________________________________\n",
      "Train on 16 samples, validate on 5 samples\n",
      "Epoch 1/30\n",
      "16/16 [==============================] - 1s 51ms/sample - loss: 0.1535 - mse: 0.1535 - mae: 0.3142 - val_loss: 0.0743 - val_mse: 0.0743 - val_mae: 0.2204\b\b\b\b\b\b\b\b\b\b\b\b\b\b\b\b\b\b\b\b\b\b\b\b\b\b\b\b\b\n",
      "Epoch 2/30\n",
      "16/16 [==============================] - 0s 4ms/sample - loss: 0.0623 - mse: 0.0623 - mae: 0.2065 - val_loss: 0.0256 - val_mse: 0.0256 - val_mae: 0.1213\b\b\b\b\b\b\b\b\b\b\b\b\b\b\b\b\b\b\b\b\b\b\b\b\b\b\b\b\b\b\n",
      "Epoch 3/30\n",
      "16/16 [==============================] - 0s 5ms/sample - loss: 0.0460 - mse: 0.0460 - mae: 0.1700 - val_loss: 0.0241 - val_mse: 0.0241 - val_mae: 0.1275\b\b\b\b\b\b\b\b\b\b\b\b\b\b\b\b\b\b\b\b\b\b\b\b\b\b\b\b\b\b\b\b\b\b\b\b\b\b\b\b\b\b\b\b\b\b\n",
      "Epoch 4/30\n",
      "16/16 [==============================] - 0s 4ms/sample - loss: 0.0461 - mse: 0.0461 - mae: 0.1797 - val_loss: 0.0220 - val_mse: 0.0220 - val_mae: 0.1190\b\b\b\b\b\b\b\b\b\b\b\b\b\b\b\b\b\b\b\b\b\b\b\b\b\b\b\b\b\b\n",
      "Epoch 5/30\n",
      "16/16 [==============================] - 0s 5ms/sample - loss: 0.0415 - mse: 0.0415 - mae: 0.1664 - val_loss: 0.0216 - val_mse: 0.0216 - val_mae: 0.1071\b\b\b\b\b\b\b\b\b\b\b\b\b\b\b\b\b\b\b\b\b\b\b\b\b\b\b\b\b\b\b\b\b\b\b\b\b\b\b\b\b\b\b\b\b\b\n",
      "Epoch 6/30\n",
      "16/16 [==============================] - 0s 4ms/sample - loss: 0.0392 - mse: 0.0392 - mae: 0.1584 - val_loss: 0.0205 - val_mse: 0.0205 - val_mae: 0.1062\b\b\b\b\b\b\b\b\b\b\b\b\b\b\b\b\b\b\b\b\b\b\b\b\b\b\b\b\b\b\n",
      "Epoch 7/30\n",
      "16/16 [==============================] - 0s 4ms/sample - loss: 0.0392 - mse: 0.0392 - mae: 0.1624 - val_loss: 0.0196 - val_mse: 0.0196 - val_mae: 0.1202\b\b\b\b\b\b\b\b\b\b\b\b\b\b\b\b\b\b\b\b\b\b\b\b\b\b\b\b\b\b\n",
      "Epoch 8/30\n",
      "16/16 [==============================] - 0s 14ms/sample - loss: 0.0375 - mse: 0.0375 - mae: 0.1585 - val_loss: 0.0225 - val_mse: 0.0225 - val_mae: 0.1063\b\b\b\b\b\b\b\b\b\b\b\b\b\b\b\b\b\b\b\b\b\b\b\b\b\b\b\b\b\b\b\b\b\b\b\b\b\b\b\b\b\b\b\b\b\b\b\b\b\b\b\b\b\b\b\b\b\b\b\b\b\b\b\b\b\b\b\b\b\b\b\b\b\b\b\b\b\b\b\b\b\b\b\b\b\b\b\b\b\b\b\b\b\b\b\b\b\b\b\b\b\b\b\b\b\b\b\b\b\b\b\b\b\b\b\b\b\b\b\b\n",
      "Epoch 9/30\n",
      "16/16 [==============================] - 0s 5ms/sample - loss: 0.0281 - mse: 0.0281 - mae: 0.1381 - val_loss: 0.0168 - val_mse: 0.0168 - val_mae: 0.1029\b\b\b\b\b\b\b\b\b\b\b\b\b\b\b\b\b\b\b\b\b\b\b\b\b\b\b\b\b\b\n",
      "Epoch 10/30\n",
      "16/16 [==============================] - 0s 5ms/sample - loss: 0.0339 - mse: 0.0339 - mae: 0.1505 - val_loss: 0.0159 - val_mse: 0.0159 - val_mae: 0.0939\b\b\b\b\b\b\b\b\b\b\b\b\b\b\b\b\b\b\b\b\b\b\b\b\b\b\b\b\b\b\n",
      "Epoch 11/30\n",
      "16/16 [==============================] - 0s 5ms/sample - loss: 0.0296 - mse: 0.0296 - mae: 0.1400 - val_loss: 0.0177 - val_mse: 0.0177 - val_mae: 0.0959\b\b\b\b\b\b\b\b\b\b\b\b\b\b\b\b\b\b\b\b\b\b\b\b\b\b\b\b\b\b\b\b\b\b\b\b\b\b\b\b\b\b\b\b\b\b\n",
      "Epoch 12/30\n",
      "16/16 [==============================] - 0s 5ms/sample - loss: 0.0226 - mse: 0.0226 - mae: 0.1222 - val_loss: 0.0147 - val_mse: 0.0147 - val_mae: 0.1086\b\b\b\b\b\b\b\b\b\b\b\b\b\b\b\b\b\b\b\b\b\b\b\b\b\b\b\b\b\b\n",
      "Epoch 13/30\n",
      "16/16 [==============================] - 0s 10ms/sample - loss: 0.0209 - mse: 0.0209 - mae: 0.1185 - val_loss: 0.0135 - val_mse: 0.0135 - val_mae: 0.0841\b\b\b\b\b\b\b\b\b\b\b\b\b\b\b\b\b\b\b\b\b\b\b\b\b\b\b\b\b\b\b\b\b\b\b\b\b\b\b\b\b\b\b\b\b\b\b\b\b\b\b\b\b\b\b\b\b\b\b\b\b\b\b\b\b\b\b\b\b\b\b\b\b\b\b\b\b\b\b\b\b\b\b\b\b\b\b\b\b\b\b\b\b\b\b\b\b\b\b\b\b\b\b\b\b\b\b\b\b\b\b\b\b\b\b\b\b\b\b\b\n",
      "Epoch 14/30\n",
      "16/16 [==============================] - 0s 7ms/sample - loss: 0.0179 - mse: 0.0179 - mae: 0.1064 - val_loss: 0.0107 - val_mse: 0.0107 - val_mae: 0.0776\b\b\b\b\b\b\b\b\b\b\b\b\b\b\b\b\b\b\b\b\b\b\b\b\b\b\b\b\b\b\b\b\b\b\b\b\b\b\b\b\b\b\b\b\b\b\n",
      "Epoch 15/30\n",
      "16/16 [==============================] - 0s 7ms/sample - loss: 0.0179 - mse: 0.0179 - mae: 0.1057 - val_loss: 0.0111 - val_mse: 0.0111 - val_mae: 0.0765\b\b\b\b\b\b\b\b\b\b\b\b\b\b\b\b\b\b\b\b\b\b\b\b\b\b\b\b\b\b\n",
      "Epoch 16/30\n",
      "16/16 [==============================] - 0s 20ms/sample - loss: 0.0179 - mse: 0.0179 - mae: 0.1082 - val_loss: 0.0094 - val_mse: 0.0094 - val_mae: 0.0713\b\b\b\b\b\b\b\b\b\b\b\b\b\b\b\b\b\b\b\b\b\b\b\b\b\b\b\b\b\b\b\b\b\b\b\b\b\b\b\b\b\b\b\b\b\b\b\b\b\b\b\b\b\b\b\b\b\b\b\b\b\b\b\b\b\b\b\b\b\b\b\b\b\b\b\b\b\b\b\b\b\b\b\b\b\b\b\b\b\b\b\b\b\b\b\b\b\b\b\b\b\b\b\b\b\b\b\b\b\b\b\b\b\b\b\b\b\b\b\b\b\b\b\b\b\b\b\b\b\b\b\b\b\b\b\b\b\b\b\b\b\b\b\b\b\b\b\b\b\b\b\b\b\b\b\b\b\b\b\b\b\b\b\b\b\b\b\b\b\b\b\b\b\b\b\b\b\b\b\b\b\b\b\b\b\b\b\b\b\b\b\b\b\b\b\b\b\b\b\b\b\b\b\b\b\b\b\b\b\b\b\b\b\b\b\b\b\b\b\b\b\b\b\b\b\b\b\n",
      "Epoch 17/30\n",
      "16/16 [==============================] - 0s 13ms/sample - loss: 0.0133 - mse: 0.0133 - mae: 0.0953 - val_loss: 0.0101 - val_mse: 0.0101 - val_mae: 0.0747\b\b\b\b\b\b\b\b\b\b\b\b\b\b\b\b\b\b\b\b\b\b\b\b\b\b\b\b\b\b\b\b\b\b\b\b\b\b\b\b\b\b\b\b\b\b\b\b\b\b\b\b\b\b\b\b\b\b\b\b\b\b\b\b\b\b\b\b\b\b\b\b\b\b\b\b\b\b\b\b\b\b\b\b\b\b\b\b\b\b\b\b\b\b\b\b\b\b\b\b\b\b\b\b\b\b\b\b\b\b\b\b\b\b\b\b\b\b\b\b\b\b\b\b\b\b\b\b\b\b\b\b\b\b\b\b\n",
      "Epoch 18/30\n",
      "16/16 [==============================] - 0s 12ms/sample - loss: 0.0131 - mse: 0.0131 - mae: 0.0918 - val_loss: 0.0075 - val_mse: 0.0075 - val_mae: 0.0695\b\b\b\b\b\b\b\b\b\b\b\b\b\b\b\b\b\b\b\b\b\b\b\b\b\b\b\b\b\b\b\b\b\b\b\b\b\b\b\b\b\b\b\b\b\b\b\b\b\b\b\b\b\b\b\b\b\b\b\b\b\b\b\b\b\b\b\b\b\b\b\b\b\b\b\b\b\b\b\b\b\b\b\b\b\b\b\b\b\b\b\b\b\b\b\b\b\b\b\b\b\b\b\b\b\b\b\b\b\b\b\b\b\b\b\b\b\b\b\b\b\b\b\b\b\b\b\b\b\b\b\b\b\b\b\b\n",
      "Epoch 19/30\n",
      "16/16 [==============================] - 0s 6ms/sample - loss: 0.0152 - mse: 0.0152 - mae: 0.0959 - val_loss: 0.0127 - val_mse: 0.0127 - val_mae: 0.0852\b\b\b\b\b\b\b\b\b\b\b\b\b\b\b\b\b\b\b\b\b\b\b\b\b\b\b\b\b\b\n",
      "Epoch 20/30\n",
      "16/16 [==============================] - 0s 5ms/sample - loss: 0.0102 - mse: 0.0102 - mae: 0.0805 - val_loss: 0.0076 - val_mse: 0.0076 - val_mae: 0.0701\b\b\b\b\b\b\b\b\b\b\b\b\b\b\b\b\b\b\b\b\b\b\b\b\b\b\b\b\b\b\n",
      "Epoch 21/30\n",
      "16/16 [==============================] - 0s 5ms/sample - loss: 0.0094 - mse: 0.0094 - mae: 0.0761 - val_loss: 0.0066 - val_mse: 0.0066 - val_mae: 0.0669\b\b\b\b\b\b\b\b\b\b\b\b\b\b\b\b\b\b\b\b\b\b\b\b\b\b\b\b\b\b\n",
      "Epoch 22/30\n",
      "16/16 [==============================] - 0s 4ms/sample - loss: 0.0090 - mse: 0.0090 - mae: 0.0722 - val_loss: 0.0063 - val_mse: 0.0063 - val_mae: 0.0662\b\b\b\b\b\b\b\b\b\b\b\b\b\b\b\b\b\b\b\b\b\b\b\b\b\b\b\b\b\b\n",
      "Epoch 23/30\n",
      "16/16 [==============================] - 0s 5ms/sample - loss: 0.0086 - mse: 0.0086 - mae: 0.0716 - val_loss: 0.0072 - val_mse: 0.0072 - val_mae: 0.0698\b\b\b\b\b\b\b\b\b\b\b\b\b\b\b\b\b\b\b\b\b\b\b\b\b\b\b\b\b\b\n",
      "Epoch 24/30\n",
      "16/16 [==============================] - 0s 5ms/sample - loss: 0.0081 - mse: 0.0081 - mae: 0.0704 - val_loss: 0.0066 - val_mse: 0.0066 - val_mae: 0.0681\b\b\b\b\b\b\b\b\b\b\b\b\b\b\b\b\b\b\b\b\b\b\b\b\b\b\b\b\b\b\n",
      "Epoch 25/30\n",
      "16/16 [==============================] - 0s 4ms/sample - loss: 0.0086 - mse: 0.0086 - mae: 0.0645 - val_loss: 0.0130 - val_mse: 0.0130 - val_mae: 0.0901\b\b\b\b\b\b\b\b\b\b\b\b\b\b\b\b\b\b\b\b\b\b\b\b\b\b\b\b\b\b\b\b\b\b\b\b\b\b\b\b\b\b\b\b\b\b\n",
      "Epoch 26/30\n",
      "16/16 [==============================] - 0s 4ms/sample - loss: 0.0110 - mse: 0.0110 - mae: 0.0853 - val_loss: 0.0049 - val_mse: 0.0049 - val_mae: 0.0610\b\b\b\b\b\b\b\b\b\b\b\b\b\b\b\b\b\b\b\b\b\b\b\b\b\b\b\b\b\b\n",
      "Epoch 27/30\n",
      "16/16 [==============================] - 0s 4ms/sample - loss: 0.0087 - mse: 0.0087 - mae: 0.0788 - val_loss: 0.0080 - val_mse: 0.0080 - val_mae: 0.0728\b\b\b\b\b\b\b\b\b\b\b\b\b\b\b\b\b\b\b\b\b\b\b\b\b\b\b\b\b\b\b\b\b\b\b\b\b\b\b\b\b\b\b\b\b\b\n",
      "Epoch 28/30\n",
      "16/16 [==============================] - 0s 4ms/sample - loss: 0.0087 - mse: 0.0087 - mae: 0.0712 - val_loss: 0.0100 - val_mse: 0.0100 - val_mae: 0.0788\b\b\b\b\b\b\b\b\b\b\b\b\b\b\b\b\b\b\b\b\b\b\b\b\b\b\b\b\b\b\n",
      "Epoch 29/30\n",
      "16/16 [==============================] - 0s 4ms/sample - loss: 0.0101 - mse: 0.0101 - mae: 0.0818 - val_loss: 0.0053 - val_mse: 0.0053 - val_mae: 0.0661\b\b\b\b\b\b\b\b\b\b\b\b\b\b\b\b\b\b\b\b\b\b\b\b\b\b\b\b\b\b\n",
      "Epoch 30/30\n",
      "16/16 [==============================] - 0s 4ms/sample - loss: 0.0100 - mse: 0.0100 - mae: 0.0740 - val_loss: 0.0114 - val_mse: 0.0114 - val_mae: 0.0839\b\b\b\b\b\b\b\b\b\b\b\b\b\b\b\b\b\b\b\b\b\b\b\b\b\b\b\b\b\b\n",
      "dict_keys(['loss', 'mse', 'mae', 'val_loss', 'val_mse', 'val_mae'])\n"
     ]
    },
    {
     "data": {
      "text/plain": "<Figure size 432x288 with 1 Axes>",
      "image/png": "[encoded data removed]"
     },
     "metadata": {
      "needs_background": "light"
     },
     "output_type": "display_data"
    },
    {
     "name": "stdout",
     "output_type": "stream",
     "text": [
      "Values predicted:  [[18.320013]\n",
      " [21.652878]\n",
      " [21.000748]\n",
      " [21.212547]\n",
      " [19.958696]\n",
      " [19.085114]\n",
      " [19.887175]]\n",
      "Values :  [[17.625     ]\n",
      " [24.625     ]\n",
      " [22.375     ]\n",
      " [22.625     ]\n",
      " [22.16666667]\n",
      " [19.        ]\n",
      " [19.75      ]]\n",
      "Mean Absolute Error:  1.269156955537342\n",
      "Mean Squared Error:  2.5859056511167546\n",
      "Mean (Y-test): 21.166666666666668\n",
      "Mean (Y-predicted):  20.159595\n",
      "R2 score:  0.49425826613781754\n"
     ]
    }
   ],
   "source": [
    "from sklearn.metrics import r2_score\n",
    "\n",
    "model = Sequential()\n",
    "model.add(Dense(NUMBER_OF_PARAMS+1, input_dim=NUMBER_OF_PARAMS, kernel_initializer='normal', activation='relu'))\n",
    "model.add(Dense(X.shape[0]*(NUMBER_OF_PARAMS+2), activation='relu'))\n",
    "model.add(Dense(1, activation='linear'))\n",
    "model.summary()\n",
    "\n",
    "model.compile(loss='mse', optimizer='adam', metrics=['mse','mae'])\n",
    "history=model.fit(xtrain_scale, ytrain_scale, epochs=30, batch_size=1, verbose=1, validation_split=0.2)\n",
    "predictions = model.predict(xval_scale)\n",
    "\n",
    "print(history.history.keys())\n",
    "# \"Loss\"\n",
    "plt.plot(history.history['loss'])\n",
    "plt.plot(history.history['val_loss'])\n",
    "plt.title('model loss')\n",
    "plt.ylabel('loss')\n",
    "plt.xlabel('epoch')\n",
    "plt.legend(['train', 'validation'], loc='upper left')\n",
    "plt.show()\n",
    "\n",
    "predictions = scaler_y.inverse_transform(predictions)\n",
    "\n",
    "\n",
    "print('Values predicted: ', predictions)\n",
    "print('Values : ', scaler_y.inverse_transform(yval_scale))\n",
    "\n",
    "print('Mean Absolute Error: ',mean_absolute_error(y_val, predictions))\n",
    "print('Mean Squared Error: ',mean_squared_error(y_val, predictions))\n",
    "print('Mean (Y-test):',np.mean(y_val))\n",
    "print('Mean (Y-predicted): ',np.mean(predictions))\n",
    "print('R2 score: ',r2_score(y_val, predictions))"
   ]
  }
 ],
 "metadata": {
  "kernelspec": {
   "display_name": "Python 3 (ipykernel)",
   "language": "python",
   "name": "python3"
  },
  "language_info": {
   "codemirror_mode": {
    "name": "ipython",
    "version": 3
   },
   "file_extension": ".py",
   "mimetype": "text/x-python",
   "name": "python",
   "nbconvert_exporter": "python",
   "pygments_lexer": "ipython3",
   "version": "3.9.7"
  }
 },
 "nbformat": 4,
 "nbformat_minor": 5
}