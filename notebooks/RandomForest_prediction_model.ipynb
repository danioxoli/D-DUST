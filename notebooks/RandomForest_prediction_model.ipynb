{
 "cells": [
  {
   "cell_type": "markdown",
   "id": "19c62789-b8ab-4643-b688-b7bf9950da05",
   "metadata": {},
   "source": [
    "# PM2.5 prediction"
   ]
  },
  {
   "cell_type": "markdown",
   "id": "2371f2e6-f56f-44a6-b00e-fc2327cbab08",
   "metadata": {},
   "source": [
    "### Import libraries"
   ]
  },
  {
   "cell_type": "code",
   "execution_count": 1,
   "id": "50cf5adc-c1be-459f-8fdc-b6063f0b1e3a",
   "metadata": {},
   "outputs": [],
   "source": [
    "import math\n",
    "import os\n",
    "\n",
    "import matplotlib.pyplot as plt\n",
    "import numpy as np\n",
    "from numpy.random import seed\n",
    "from scipy.stats import stats\n",
    "from sklearn import metrics\n",
    "from sklearn.ensemble import RandomForestRegressor\n",
    "\n",
    "seed(1)\n",
    "from fs import methods as m\n",
    "from fs import model as ml\n",
    "import geopandas as gpd\n",
    "import pandas as pd\n",
    "import statsmodels.api as sm\n",
    "import statsmodels.formula.api as smf\n",
    "from sklearn.metrics import mean_absolute_error\n",
    "from sklearn.metrics import mean_squared_error\n",
    "from sklearn.model_selection import train_test_split, GridSearchCV\n",
    "from sklearn.preprocessing import MinMaxScaler, StandardScaler\n",
    "from sklearn.metrics import r2_score\n"
   ]
  },
  {
   "cell_type": "markdown",
   "id": "6ef1860a-b3c3-45ae-aea7-0f8596c23a21",
   "metadata": {},
   "source": [
    "### Data Import"
   ]
  },
  {
   "cell_type": "code",
   "execution_count": 3,
   "id": "d93508b6-e318-40a6-adfb-4b6fb175caf7",
   "metadata": {
    "pycharm": {
     "name": "#%%\n"
    }
   },
   "outputs": [
    {
     "name": "stderr",
     "output_type": "stream",
     "text": [
      "/Users/Brescia/Desktop/D-DUST/notebooks/fs/methods.py:43: UserWarning: Geometry is in a geographic CRS. Results from 'centroid' are likely incorrect. Use 'GeoSeries.to_crs()' to re-project geometries to a projected CRS before this operation.\n",
      "\n",
      "  nB = np.array(list(data.geometry.centroid.apply(lambda x: (x.x, x.y))))\n"
     ]
    },
    {
     "name": "stdout",
     "output_type": "stream",
     "text": [
      "---------grid_0_1_0418_0425_2021.gpkg---------\n",
      "---------RESULTS WITH RESPECT THE MODEL---------\n",
      "Mean Absolute Error:  1.3461332526466936\n",
      "Mean Squared Error:  3.3501954173093154\n",
      "Mean (Y-test): 18.284558260108255\n",
      "Mean (Y-predicted):  18.55006188245235\n",
      "R2 score:  0.592278968791695\n",
      "---------RESULTS WITH RESPECT THE ENTIRE DATASET---------\n",
      "Mean Absolute Error:  0.930335096795101\n",
      "Mean Squared Error:  1.755874053948135\n",
      "Mean (Y-test): 18.31672157449959\n",
      "Mean (Y-predicted):  18.350478916102592\n",
      "R2 score:  0.7523583222823086\n",
      "\n",
      "\n",
      "\n",
      "\n",
      "\n"
     ]
    },
    {
     "name": "stderr",
     "output_type": "stream",
     "text": [
      "/Users/Brescia/Desktop/D-DUST/notebooks/fs/methods.py:43: UserWarning: Geometry is in a geographic CRS. Results from 'centroid' are likely incorrect. Use 'GeoSeries.to_crs()' to re-project geometries to a projected CRS before this operation.\n",
      "\n",
      "  nB = np.array(list(data.geometry.centroid.apply(lambda x: (x.x, x.y))))\n",
      "/Users/Brescia/Desktop/D-DUST/notebooks/fs/methods.py:43: UserWarning: Geometry is in a geographic CRS. Results from 'centroid' are likely incorrect. Use 'GeoSeries.to_crs()' to re-project geometries to a projected CRS before this operation.\n",
      "\n",
      "  nB = np.array(list(data.geometry.centroid.apply(lambda x: (x.x, x.y))))\n"
     ]
    },
    {
     "name": "stdout",
     "output_type": "stream",
     "text": [
      "---------grid_0_1_0903_0910_2021.gpkg---------\n",
      "---------RESULTS WITH RESPECT THE MODEL---------\n",
      "Mean Absolute Error:  1.2630535616857719\n",
      "Mean Squared Error:  2.658529584469607\n",
      "Mean (Y-test): 15.31500177086997\n",
      "Mean (Y-predicted):  15.570984978404525\n",
      "R2 score:  0.7189264429720278\n",
      "---------RESULTS WITH RESPECT THE ENTIRE DATASET---------\n",
      "Mean Absolute Error:  0.9193541228082379\n",
      "Mean Squared Error:  1.5424555089513716\n",
      "Mean (Y-test): 15.359205870728628\n",
      "Mean (Y-predicted):  15.309774933357192\n",
      "R2 score:  0.862593587855687\n",
      "\n",
      "\n",
      "\n",
      "\n",
      "\n"
     ]
    },
    {
     "name": "stderr",
     "output_type": "stream",
     "text": [
      "/Users/Brescia/Desktop/D-DUST/notebooks/fs/methods.py:43: UserWarning: Geometry is in a geographic CRS. Results from 'centroid' are likely incorrect. Use 'GeoSeries.to_crs()' to re-project geometries to a projected CRS before this operation.\n",
      "\n",
      "  nB = np.array(list(data.geometry.centroid.apply(lambda x: (x.x, x.y))))\n",
      "/Users/Brescia/Desktop/D-DUST/notebooks/fs/methods.py:43: UserWarning: Geometry is in a geographic CRS. Results from 'centroid' are likely incorrect. Use 'GeoSeries.to_crs()' to re-project geometries to a projected CRS before this operation.\n",
      "\n",
      "  nB = np.array(list(data.geometry.centroid.apply(lambda x: (x.x, x.y))))\n"
     ]
    },
    {
     "name": "stdout",
     "output_type": "stream",
     "text": [
      "---------grid_0_1_1007_1017_2021.gpkg---------\n",
      "---------RESULTS WITH RESPECT THE MODEL---------\n",
      "Mean Absolute Error:  1.3972729247020723\n",
      "Mean Squared Error:  2.8852995912626525\n",
      "Mean (Y-test): 17.002690362659532\n",
      "Mean (Y-predicted):  17.046175525362344\n",
      "R2 score:  0.8055720538314244\n",
      "---------RESULTS WITH RESPECT THE ENTIRE DATASET---------\n",
      "Mean Absolute Error:  1.1949257824103214\n",
      "Mean Squared Error:  2.190878609615679\n",
      "Mean (Y-test): 17.946663233524674\n",
      "Mean (Y-predicted):  18.43450548476853\n",
      "R2 score:  0.8876755015917919\n",
      "\n",
      "\n",
      "\n",
      "\n",
      "\n"
     ]
    },
    {
     "name": "stderr",
     "output_type": "stream",
     "text": [
      "/Users/Brescia/Desktop/D-DUST/notebooks/fs/methods.py:43: UserWarning: Geometry is in a geographic CRS. Results from 'centroid' are likely incorrect. Use 'GeoSeries.to_crs()' to re-project geometries to a projected CRS before this operation.\n",
      "\n",
      "  nB = np.array(list(data.geometry.centroid.apply(lambda x: (x.x, x.y))))\n",
      "/Users/Brescia/Desktop/D-DUST/notebooks/fs/methods.py:43: UserWarning: Geometry is in a geographic CRS. Results from 'centroid' are likely incorrect. Use 'GeoSeries.to_crs()' to re-project geometries to a projected CRS before this operation.\n",
      "\n",
      "  nB = np.array(list(data.geometry.centroid.apply(lambda x: (x.x, x.y))))\n"
     ]
    },
    {
     "name": "stdout",
     "output_type": "stream",
     "text": [
      "---------grid_0_1_0717_0724_2021.gpkg---------\n",
      "---------RESULTS WITH RESPECT THE MODEL---------\n",
      "Mean Absolute Error:  0.9335480965846811\n",
      "Mean Squared Error:  1.5922156201895223\n",
      "Mean (Y-test): 12.889858069111753\n",
      "Mean (Y-predicted):  12.824778044150117\n",
      "R2 score:  0.37767582366864694\n",
      "---------RESULTS WITH RESPECT THE ENTIRE DATASET---------\n",
      "Mean Absolute Error:  0.6788477857644989\n",
      "Mean Squared Error:  0.8332093051712494\n",
      "Mean (Y-test): 12.971714477298589\n",
      "Mean (Y-predicted):  12.905556179932615\n",
      "R2 score:  0.6418712375754028\n",
      "\n",
      "\n",
      "\n",
      "\n",
      "\n"
     ]
    },
    {
     "name": "stderr",
     "output_type": "stream",
     "text": [
      "/Users/Brescia/Desktop/D-DUST/notebooks/fs/methods.py:43: UserWarning: Geometry is in a geographic CRS. Results from 'centroid' are likely incorrect. Use 'GeoSeries.to_crs()' to re-project geometries to a projected CRS before this operation.\n",
      "\n",
      "  nB = np.array(list(data.geometry.centroid.apply(lambda x: (x.x, x.y))))\n",
      "/Users/Brescia/Desktop/D-DUST/notebooks/fs/methods.py:43: UserWarning: Geometry is in a geographic CRS. Results from 'centroid' are likely incorrect. Use 'GeoSeries.to_crs()' to re-project geometries to a projected CRS before this operation.\n",
      "\n",
      "  nB = np.array(list(data.geometry.centroid.apply(lambda x: (x.x, x.y))))\n"
     ]
    },
    {
     "name": "stdout",
     "output_type": "stream",
     "text": [
      "---------grid_0_1_0324_0331_2021.gpkg---------\n",
      "---------RESULTS WITH RESPECT THE MODEL---------\n",
      "Mean Absolute Error:  2.6494882324634683\n",
      "Mean Squared Error:  13.396952192105159\n",
      "Mean (Y-test): 31.31001690205961\n",
      "Mean (Y-predicted):  30.21772947714655\n",
      "R2 score:  0.5098059905808967\n",
      "---------RESULTS WITH RESPECT THE ENTIRE DATASET---------\n",
      "Mean Absolute Error:  1.5794694099278062\n",
      "Mean Squared Error:  5.740726818240282\n",
      "Mean (Y-test): 30.334952857935402\n",
      "Mean (Y-predicted):  29.834715652661604\n",
      "R2 score:  0.8103992097029598\n",
      "\n",
      "\n",
      "\n",
      "\n",
      "\n"
     ]
    },
    {
     "name": "stderr",
     "output_type": "stream",
     "text": [
      "/Users/Brescia/Desktop/D-DUST/notebooks/fs/methods.py:43: UserWarning: Geometry is in a geographic CRS. Results from 'centroid' are likely incorrect. Use 'GeoSeries.to_crs()' to re-project geometries to a projected CRS before this operation.\n",
      "\n",
      "  nB = np.array(list(data.geometry.centroid.apply(lambda x: (x.x, x.y))))\n"
     ]
    }
   ],
   "source": [
    "RESOLUTION = '0_1'\n",
    "\n",
    "geopackages = os.listdir('grids_'+RESOLUTION)\n",
    "#geopackages.remove('.DS_Store')\n",
    "\n",
    "TARGET = 'pm25_st'\n",
    "NUMBER_OF_PARAMS = 20\n",
    "#NUMBER_OF_COVARIATES = NUMBER_OF_PARAMS + 2\n",
    "\n",
    "\n",
    "results1 = pd.DataFrame(columns=['MAE', 'MSE', 'mean Y-Test', 'mean Y-predicted', 'R2'])\n",
    "results2 = pd.DataFrame(columns=['MAE', 'MSE', 'mean Y-Test', 'mean Y-predicted', 'R2'])\n",
    "\n",
    "for index, grid in enumerate(geopackages):\n",
    "    regressor = RandomForestRegressor(max_depth=100, n_estimators=300)\n",
    "\n",
    "    data = m.increase_data(gpd.read_file('grids_'+RESOLUTION+'/'+ grid), 'pm25_st', 5)\n",
    "\n",
    "\n",
    "    data = data[~data[TARGET].isnull()]\n",
    "    data = data.dropna(axis=1)\n",
    "\n",
    "\n",
    "    data.pop('geometry')\n",
    "    data.pop('bottom')\n",
    "    data.pop('top')\n",
    "    data.pop('left')\n",
    "    data.pop('right')\n",
    "\n",
    "    labels = pd.read_csv('features_'+RESOLUTION+'/'+grid[:-5]+'.csv')\n",
    "\n",
    "    labels = pd.read_csv('fs.csv')\n",
    "\n",
    "    labels = ml.remove_int_values(list(labels['Features']))\n",
    "\n",
    "\n",
    "    #labels=labels[0:NUMBER_OF_PARAMS]\n",
    "    #read variables which are not null\n",
    "    score_results = pd.DataFrame()\n",
    "\n",
    "    #Store dataset in x and y variables\n",
    "    X = pd.DataFrame(data=data, columns=labels ).dropna(axis = 1)\n",
    "    X['lat_cen'] = data['lat_cen']\n",
    "    X['lng_cen'] = data['lng_cen']\n",
    "\n",
    "    Y = pd.DataFrame(data=data, columns=[TARGET] )\n",
    "    Y = Y.values.ravel()\n",
    "\n",
    "\n",
    "    #NUMBER_OF_COVARIATES = X.shape[1]\n",
    "    y1 = np.array(Y)\n",
    "\n",
    "    X_train, X_test, y_train, y_test = train_test_split(X, y1, test_size=0.30)\n",
    "\n",
    "    sc = StandardScaler()\n",
    "    X_train = sc.fit_transform(X_train)\n",
    "    X_test = sc.transform(X_test)\n",
    "\n",
    "\n",
    "    regressor.fit(X_train, y_train)\n",
    "\n",
    "\n",
    "    regressor.fit(X_train, y_train)\n",
    "    y_pred = regressor.predict(X_test)\n",
    "    print('---------'+ grid +'---------')\n",
    "    print('---------RESULTS WITH RESPECT THE MODEL---------')\n",
    "    print('Mean Absolute Error: ',mean_absolute_error(y_test, y_pred))\n",
    "    print('Mean Squared Error: ',mean_squared_error(y_test, y_pred))\n",
    "    print('Mean (Y-test):',np.mean(y_test))\n",
    "    print('Mean (Y-predicted): ',np.mean(y_pred))\n",
    "    print('R2 score: ',r2_score(y_test, y_pred))\n",
    "\n",
    "    results1.loc[index]= [round(mean_absolute_error(y_test, y_pred),3), round(mean_squared_error(y_test, y_pred), 3), round(np.mean(y_test), 3), round(np.mean(y_pred), 3), round(r2_score(y_test, y_pred), 3)]\n",
    "    results1.rename(index={index: grid}, inplace=True)\n",
    "\n",
    "    data_new = m.increase_data(gpd.read_file('grids_'+RESOLUTION+'/'+ grid), 'pm25_st', 5)\n",
    "    data_new = data_new[~data_new[TARGET].isnull()]\n",
    "    pm25_obs = data_new['pm25_st']\n",
    "    X_new = pd.DataFrame(data=data_new, columns=labels).dropna(axis=1)\n",
    "    X_new['lat_cen'] = data_new['lat_cen']\n",
    "    X_new['lng_cen'] = data_new['lng_cen']\n",
    "\n",
    "    sc = StandardScaler()\n",
    "    X_new = sc.fit_transform(X_new)\n",
    "    predictions_pm25 = regressor.predict(X_new)\n",
    "    predictions_pm25 = pd.Series(np.array(predictions_pm25).reshape((-1,)))\n",
    "    e = pd.DataFrame()\n",
    "\n",
    "    e['predictions_pm25'] = list(predictions_pm25)\n",
    "    e['pm25_obs'] = list(pm25_obs)\n",
    "    e = e.dropna(axis=0)\n",
    "    print('---------RESULTS WITH RESPECT THE ENTIRE DATASET---------')\n",
    "    print('Mean Absolute Error: ',mean_absolute_error(e['pm25_obs'], e['predictions_pm25']))\n",
    "    print('Mean Squared Error: ',mean_squared_error(e['pm25_obs'], e['predictions_pm25']))\n",
    "    print('Mean (Y-test):',np.mean(e['pm25_obs']))\n",
    "    print('Mean (Y-predicted): ',np.mean(e['predictions_pm25']))\n",
    "    print('R2 score: ',r2_score(e['pm25_obs'], e['predictions_pm25']))\n",
    "    print('\\n\\n\\n\\n')\n",
    "    results2.loc[index]= [round(mean_absolute_error(e['pm25_obs'], e['predictions_pm25']),3), round(mean_squared_error(e['pm25_obs'], e['predictions_pm25']),3), round(np.mean(e['pm25_obs']),3), round(np.mean(e['predictions_pm25']),3), round(r2_score(e['pm25_obs'], e['predictions_pm25']),3)]\n",
    "    results2.rename(index={index: grid}, inplace=True)\n",
    "\n",
    "results1 = results1.T\n",
    "results2 = results2.T\n",
    "\n",
    "results1.to_excel('test/RF1'+RESOLUTION+'.xlsx')\n",
    "results2.to_excel('test/RF2'+RESOLUTION+'.xlsx')\n"
   ]
  },
  {
   "cell_type": "code",
   "execution_count": 4,
   "id": "7dcd8ff9-c978-49e7-92f9-31b62ecb6392",
   "metadata": {},
   "outputs": [],
   "source": []
  }
 ],
 "metadata": {
  "kernelspec": {
   "display_name": "Python 3 (ipykernel)",
   "language": "python",
   "name": "python3"
  },
  "language_info": {
   "codemirror_mode": {
    "name": "ipython",
    "version": 3
   },
   "file_extension": ".py",
   "mimetype": "text/x-python",
   "name": "python",
   "nbconvert_exporter": "python",
   "pygments_lexer": "ipython3",
   "version": "3.9.7"
  }
 },
 "nbformat": 4,
 "nbformat_minor": 5
}