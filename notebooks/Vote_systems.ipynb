{
 "cells": [
  {
   "cell_type": "markdown",
   "id": "decfd696-1a35-417a-a399-bfff54e472fa",
   "metadata": {},
   "source": [
    "### Voting system\n",
    "- Borda Count: https://pypi.org/project/borda/\n",
    "- Reciprocal Rank: ???\n",
    "- Instant Runoff: https://pypi.org/project/pyrankvote/\n",
    "- Condorcet: https://pypi.org/project/condorcet/\n",
    "- Coombs: \n",
    "- Bucklin: "
   ]
  },
  {
   "cell_type": "code",
   "execution_count": 1,
   "id": "3103a7f9-f93c-4d19-8e3e-44032ae7728a",
   "metadata": {},
   "outputs": [],
   "source": [
    "import scipy.stats as stats\n",
    "import geopandas as gpd\n",
    "import numpy as np\n",
    "from numpy import arange\n",
    "from fs import methods as m\n",
    "from fs import model as ml\n",
    "import ipywidgets as widgets\n",
    "import pandas as pd\n",
    "import warnings\n",
    "warnings.filterwarnings(\"ignore\")\n",
    "from IPython.core.display import display, clear_output\n",
    "from sklearn import preprocessing\n",
    "import os\n",
    "from sklearn.preprocessing import MinMaxScaler\n",
    "from ipywidgets import AppLayout, Layout"
   ]
  },
  {
   "cell_type": "code",
   "execution_count": 1,
   "id": "717b3dbc-0d0b-482e-a990-33e7c40005c0",
   "metadata": {},
   "outputs": [],
   "source": [
    "\"\"\"\n",
    "1-->Pearson\n",
    "2-->Spearmanr\n",
    "3-->Kendall\n",
    "4-->Fisher\n",
    "5-->Random Forest\n",
    "6-->Average\n",
    "\"\"\"\n",
    "FOLDER='6'\n",
    "RESOLUTION = '0_1'\n",
    "KNN = True\n",
    "\n",
    "\n",
    "geopackages = os.listdir('assets/grids_'+RESOLUTION)\n",
    "\n",
    "matrix= []\n",
    "labels_list = []\n",
    "results_list = []\n",
    "for index, grid in enumerate(geopackages):\n",
    "    res = pd.read_csv('assets/Votes/'+RESOLUTION+grid[:-5]+'.csv')\n",
    "    results_list.append(res)\n",
    "\n",
    "\n",
    "\n",
    "for index, results_fs in enumerate(results_list):\n",
    "    win = m.borda_voting(results_fs)\n",
    "    labels_list.append(list(win.votes))\n",
    "    matrix.append(list(win.votes.values()))\n",
    "\n",
    "m.show_bars(labels_list, matrix, 'Borda Count', geopackages)\n",
    "\n",
    "\n",
    "for index, results_fs in enumerate(results_list):\n",
    "\n",
    "    a = m.pyrankVote(results_fs)\n",
    "    #labels_list.append(list(win.votes))\n",
    "    #matrix.append(list(win.votes.values()))\n",
    "\n",
    "#m.show_bars(labels_list, matrix, 'Borda Count', geopackages)\n",
    "    \n",
    "    \n"
   ]
  },
  {
   "cell_type": "code",
   "execution_count": null,
   "id": "800a844d-49ed-4ea9-88d6-942c3e7256f5",
   "metadata": {},
   "outputs": [
    {
     "ename": "AttributeError",
     "evalue": "'dict' object has no attribute 'iteritems'",
     "output_type": "error",
     "traceback": [
      "\u001B[0;31m---------------------------------------------------------------------------\u001B[0m",
      "\u001B[0;31mAttributeError\u001B[0m                            Traceback (most recent call last)",
      "\u001B[0;32m/var/folders/zm/5fkjvb8s35b6fv30t5jrmgx00000gn/T/ipykernel_22164/2838875480.py\u001B[0m in \u001B[0;36m<module>\u001B[0;34m\u001B[0m\n\u001B[0;32m----> 1\u001B[0;31m \u001B[0mwin\u001B[0m\u001B[0;34m.\u001B[0m\u001B[0mget_winner\u001B[0m\u001B[0;34m(\u001B[0m\u001B[0;34m)\u001B[0m\u001B[0;34m\u001B[0m\u001B[0;34m\u001B[0m\u001B[0m\n\u001B[0m\u001B[1;32m      2\u001B[0m \u001B[0;34m\u001B[0m\u001B[0m\n",
      "\u001B[0;32m~/.conda/envs/D-DUST/lib/python3.7/site-packages/borda/count.py\u001B[0m in \u001B[0;36mget_winner\u001B[0;34m(self)\u001B[0m\n\u001B[1;32m     15\u001B[0m \u001B[0;34m\u001B[0m\u001B[0m\n\u001B[1;32m     16\u001B[0m     \u001B[0;32mdef\u001B[0m \u001B[0mget_winner\u001B[0m\u001B[0;34m(\u001B[0m\u001B[0mself\u001B[0m\u001B[0;34m)\u001B[0m\u001B[0;34m:\u001B[0m\u001B[0;34m\u001B[0m\u001B[0;34m\u001B[0m\u001B[0m\n\u001B[0;32m---> 17\u001B[0;31m         sorted_votes = sorted(self.votes.iteritems(),\n\u001B[0m\u001B[1;32m     18\u001B[0m                               \u001B[0mkey\u001B[0m\u001B[0;34m=\u001B[0m\u001B[0moperator\u001B[0m\u001B[0;34m.\u001B[0m\u001B[0mitemgetter\u001B[0m\u001B[0;34m(\u001B[0m\u001B[0;36m1\u001B[0m\u001B[0;34m)\u001B[0m\u001B[0;34m,\u001B[0m\u001B[0;34m\u001B[0m\u001B[0;34m\u001B[0m\u001B[0m\n\u001B[1;32m     19\u001B[0m                               reverse=True)\n",
      "\u001B[0;31mAttributeError\u001B[0m: 'dict' object has no attribute 'iteritems'"
     ]
    }
   ],
   "source": []
  },
  {
   "cell_type": "code",
   "execution_count": null,
   "id": "d05a298d-0497-4d8a-a859-1f97a459f164",
   "metadata": {},
   "outputs": [],
   "source": []
  }
 ],
 "metadata": {
  "kernelspec": {
   "display_name": "Python 3 (ipykernel)",
   "language": "python",
   "name": "python3"
  },
  "language_info": {
   "codemirror_mode": {
    "name": "ipython",
    "version": 3
   },
   "file_extension": ".py",
   "mimetype": "text/x-python",
   "name": "python",
   "nbconvert_exporter": "python",
   "pygments_lexer": "ipython3",
   "version": "3.9.7"
  }
 },
 "nbformat": 4,
 "nbformat_minor": 5
}