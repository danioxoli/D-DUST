{
 "cells": [
  {
   "cell_type": "markdown",
   "id": "424e55ff",
   "metadata": {},
   "source": [
    "# Results\n",
    "Results are computed by [feature_selection notebook](https://github.com/opengeolab/D-DUST/blob/thesis_MB/notebooks/feature_selection.ipynb) and then collected in this notebook."
   ]
  },
  {
   "cell_type": "code",
   "execution_count": 6,
   "id": "9a4566c8",
   "metadata": {},
   "outputs": [
    {
     "ename": "KeyboardInterrupt",
     "evalue": "",
     "output_type": "error",
     "traceback": [
      "\u001B[0;31m---------------------------------------------------------------------------\u001B[0m",
      "\u001B[0;31mKeyboardInterrupt\u001B[0m                         Traceback (most recent call last)",
      "Input \u001B[0;32mIn [6]\u001B[0m, in \u001B[0;36m<cell line: 18>\u001B[0;34m()\u001B[0m\n\u001B[1;32m     14\u001B[0m mgwr_bw \u001B[38;5;241m=\u001B[39m pd\u001B[38;5;241m.\u001B[39mread_csv(\u001B[38;5;124m\"\u001B[39m\u001B[38;5;124mresults/mgwr_bw.csv\u001B[39m\u001B[38;5;124m\"\u001B[39m)\n\u001B[1;32m     15\u001B[0m mgwr_betas \u001B[38;5;241m=\u001B[39m  pd\u001B[38;5;241m.\u001B[39mread_csv(\u001B[38;5;124m\"\u001B[39m\u001B[38;5;124mresults/mgwr_betas.csv\u001B[39m\u001B[38;5;124m\"\u001B[39m)\n\u001B[0;32m---> 18\u001B[0m mgwr_results_bw \u001B[38;5;241m=\u001B[39m \u001B[43mm\u001B[49m\u001B[38;5;241;43m.\u001B[39;49m\u001B[43mcompute_mgwr_bw\u001B[49m\u001B[43m(\u001B[49m\u001B[43mmgwr_bw\u001B[49m\u001B[43m,\u001B[49m\u001B[43m \u001B[49m\u001B[43mpd\u001B[49m\u001B[38;5;241;43m.\u001B[39;49m\u001B[43mread_csv\u001B[49m\u001B[43m(\u001B[49m\u001B[38;5;124;43m\"\u001B[39;49m\u001B[38;5;124;43mresults/pearson.csv\u001B[39;49m\u001B[38;5;124;43m\"\u001B[39;49m\u001B[43m)\u001B[49m\u001B[43m[\u001B[49m\u001B[38;5;124;43m'\u001B[39;49m\u001B[38;5;124;43mVariables\u001B[39;49m\u001B[38;5;124;43m'\u001B[39;49m\u001B[43m]\u001B[49m\u001B[43m)\u001B[49m\n\u001B[1;32m     19\u001B[0m mgwr_results_betas \u001B[38;5;241m=\u001B[39m m\u001B[38;5;241m.\u001B[39mcompute_mgwr_betas(mgwr_betas, labels2)\n\u001B[1;32m     21\u001B[0m fig \u001B[38;5;241m=\u001B[39m make_subplots(rows\u001B[38;5;241m=\u001B[39m\u001B[38;5;241m4\u001B[39m, cols\u001B[38;5;241m=\u001B[39m\u001B[38;5;241m2\u001B[39m, subplot_titles\u001B[38;5;241m=\u001B[39m(\u001B[38;5;124m\"\u001B[39m\u001B[38;5;124mPearson correlation index\u001B[39m\u001B[38;5;124m\"\u001B[39m, \u001B[38;5;124m\"\u001B[39m\u001B[38;5;124mSpearmanr correlation coefficient\u001B[39m\u001B[38;5;124m\"\u001B[39m, \u001B[38;5;124m\"\u001B[39m\u001B[38;5;124mKendall tau\u001B[39m\u001B[38;5;124m\"\u001B[39m, \u001B[38;5;124m\"\u001B[39m\u001B[38;5;124mFisher-test\u001B[39m\u001B[38;5;124m\"\u001B[39m, \u001B[38;5;124m\"\u001B[39m\u001B[38;5;124mVariance Threshold\u001B[39m\u001B[38;5;124m\"\u001B[39m, \u001B[38;5;124m\"\u001B[39m\u001B[38;5;124mRandom Forest importance\u001B[39m\u001B[38;5;124m\"\u001B[39m))\n",
      "File \u001B[0;32m~/Desktop/D-DUST/notebooks/mypackage/methods.py:336\u001B[0m, in \u001B[0;36mcompute_mgwr_bw\u001B[0;34m(df_bw, labels)\u001B[0m\n\u001B[1;32m    335\u001B[0m \u001B[38;5;28;01mdef\u001B[39;00m \u001B[38;5;21mcompute_mgwr_bw\u001B[39m(df_bw, labels):\n\u001B[0;32m--> 336\u001B[0m     labels \u001B[38;5;241m=\u001B[39m \u001B[43mlabels\u001B[49m\u001B[38;5;241m.\u001B[39minsert(\u001B[38;5;241m0\u001B[39m, \u001B[38;5;124m'\u001B[39m\u001B[38;5;124mintercept\u001B[39m\u001B[38;5;124m'\u001B[39m)\n\u001B[1;32m    337\u001B[0m     results \u001B[38;5;241m=\u001B[39m pd\u001B[38;5;241m.\u001B[39mDataFrame()\n\u001B[1;32m    338\u001B[0m     results[\u001B[38;5;124m'\u001B[39m\u001B[38;5;124mLabels\u001B[39m\u001B[38;5;124m'\u001B[39m] \u001B[38;5;241m=\u001B[39m labels\n",
      "File \u001B[0;32m~/Desktop/D-DUST/notebooks/mypackage/methods.py:336\u001B[0m, in \u001B[0;36mcompute_mgwr_bw\u001B[0;34m(df_bw, labels)\u001B[0m\n\u001B[1;32m    335\u001B[0m \u001B[38;5;28;01mdef\u001B[39;00m \u001B[38;5;21mcompute_mgwr_bw\u001B[39m(df_bw, labels):\n\u001B[0;32m--> 336\u001B[0m     labels \u001B[38;5;241m=\u001B[39m \u001B[43mlabels\u001B[49m\u001B[38;5;241m.\u001B[39minsert(\u001B[38;5;241m0\u001B[39m, \u001B[38;5;124m'\u001B[39m\u001B[38;5;124mintercept\u001B[39m\u001B[38;5;124m'\u001B[39m)\n\u001B[1;32m    337\u001B[0m     results \u001B[38;5;241m=\u001B[39m pd\u001B[38;5;241m.\u001B[39mDataFrame()\n\u001B[1;32m    338\u001B[0m     results[\u001B[38;5;124m'\u001B[39m\u001B[38;5;124mLabels\u001B[39m\u001B[38;5;124m'\u001B[39m] \u001B[38;5;241m=\u001B[39m labels\n",
      "File \u001B[0;32m_pydevd_bundle/pydevd_cython_darwin_39_64.pyx:1179\u001B[0m, in \u001B[0;36m_pydevd_bundle.pydevd_cython_darwin_39_64.SafeCallWrapper.__call__\u001B[0;34m()\u001B[0m\n",
      "File \u001B[0;32m_pydevd_bundle/pydevd_cython_darwin_39_64.pyx:620\u001B[0m, in \u001B[0;36m_pydevd_bundle.pydevd_cython_darwin_39_64.PyDBFrame.trace_dispatch\u001B[0;34m()\u001B[0m\n",
      "File \u001B[0;32m_pydevd_bundle/pydevd_cython_darwin_39_64.pyx:929\u001B[0m, in \u001B[0;36m_pydevd_bundle.pydevd_cython_darwin_39_64.PyDBFrame.trace_dispatch\u001B[0;34m()\u001B[0m\n",
      "File \u001B[0;32m_pydevd_bundle/pydevd_cython_darwin_39_64.pyx:920\u001B[0m, in \u001B[0;36m_pydevd_bundle.pydevd_cython_darwin_39_64.PyDBFrame.trace_dispatch\u001B[0;34m()\u001B[0m\n",
      "File \u001B[0;32m_pydevd_bundle/pydevd_cython_darwin_39_64.pyx:317\u001B[0m, in \u001B[0;36m_pydevd_bundle.pydevd_cython_darwin_39_64.PyDBFrame.do_wait_suspend\u001B[0;34m()\u001B[0m\n",
      "File \u001B[0;32m/Applications/PyCharm.app/Contents/plugins/python/helpers/pydev/pydevd.py:1147\u001B[0m, in \u001B[0;36mPyDB.do_wait_suspend\u001B[0;34m(self, thread, frame, event, arg, send_suspend_message, is_unhandled_exception)\u001B[0m\n\u001B[1;32m   1144\u001B[0m         from_this_thread\u001B[38;5;241m.\u001B[39mappend(frame_id)\n\u001B[1;32m   1146\u001B[0m \u001B[38;5;28;01mwith\u001B[39;00m \u001B[38;5;28mself\u001B[39m\u001B[38;5;241m.\u001B[39m_threads_suspended_single_notification\u001B[38;5;241m.\u001B[39mnotify_thread_suspended(thread_id, stop_reason):\n\u001B[0;32m-> 1147\u001B[0m     \u001B[38;5;28;43mself\u001B[39;49m\u001B[38;5;241;43m.\u001B[39;49m\u001B[43m_do_wait_suspend\u001B[49m\u001B[43m(\u001B[49m\u001B[43mthread\u001B[49m\u001B[43m,\u001B[49m\u001B[43m \u001B[49m\u001B[43mframe\u001B[49m\u001B[43m,\u001B[49m\u001B[43m \u001B[49m\u001B[43mevent\u001B[49m\u001B[43m,\u001B[49m\u001B[43m \u001B[49m\u001B[43marg\u001B[49m\u001B[43m,\u001B[49m\u001B[43m \u001B[49m\u001B[43msuspend_type\u001B[49m\u001B[43m,\u001B[49m\u001B[43m \u001B[49m\u001B[43mfrom_this_thread\u001B[49m\u001B[43m)\u001B[49m\n",
      "File \u001B[0;32m/Applications/PyCharm.app/Contents/plugins/python/helpers/pydev/pydevd.py:1162\u001B[0m, in \u001B[0;36mPyDB._do_wait_suspend\u001B[0;34m(self, thread, frame, event, arg, suspend_type, from_this_thread)\u001B[0m\n\u001B[1;32m   1159\u001B[0m             \u001B[38;5;28mself\u001B[39m\u001B[38;5;241m.\u001B[39m_call_mpl_hook()\n\u001B[1;32m   1161\u001B[0m         \u001B[38;5;28mself\u001B[39m\u001B[38;5;241m.\u001B[39mprocess_internal_commands()\n\u001B[0;32m-> 1162\u001B[0m         \u001B[43mtime\u001B[49m\u001B[38;5;241;43m.\u001B[39;49m\u001B[43msleep\u001B[49m\u001B[43m(\u001B[49m\u001B[38;5;241;43m0.01\u001B[39;49m\u001B[43m)\u001B[49m\n\u001B[1;32m   1164\u001B[0m \u001B[38;5;28mself\u001B[39m\u001B[38;5;241m.\u001B[39mcancel_async_evaluation(get_current_thread_id(thread), \u001B[38;5;28mstr\u001B[39m(\u001B[38;5;28mid\u001B[39m(frame)))\n\u001B[1;32m   1166\u001B[0m \u001B[38;5;66;03m# process any stepping instructions\u001B[39;00m\n",
      "\u001B[0;31mKeyboardInterrupt\u001B[0m: "
     ]
    }
   ],
   "source": [
    "import ranking as ranking\n",
    "from libpysal.weights import order\n",
    "import warnings\n",
    "warnings.filterwarnings(\"ignore\")\n",
    "import pandas as pd\n",
    "from mypackage import methods as m\n",
    "from plotly.subplots import make_subplots\n",
    "import plotly.graph_objects as go\n",
    "\n",
    "rfe = pd.read_csv(\"results/rfe.csv\")\n",
    "rfe = rfe.sort_values([\"Ranking\"])\n",
    "\n",
    "mgwr_bw = pd.read_csv(\"results/mgwr_bw.csv\")\n",
    "mgwr_betas =  pd.read_csv(\"results/mgwr_betas.csv\")\n",
    "\n",
    "\n",
    "mgwr_results_bw = m.compute_mgwr_bw(mgwr_bw, pd.read_csv(\"results/pearson.csv\")['Variables'])\n",
    "mgwr_results_betas = m.compute_mgwr_betas(mgwr_betas, labels2)\n",
    "\n",
    "fig = make_subplots(rows=4, cols=2, subplot_titles=(\"Pearson correlation index\", \"Spearmanr correlation coefficient\", \"Kendall tau\", \"Fisher-test\", \"Variance Threshold\", \"Random Forest importance\"))\n",
    "\n",
    "\n",
    "fig.add_trace(m.histogram_func(pd.read_csv(\"results/pearson.csv\"), \"Pearson correlation index\"), row=1, col=1)\n",
    "fig.add_trace(m.histogram_func(pd.read_csv(\"results/spearmanr.csv\"), \"Spearmanr correlation coefficient\"), row=1, col=2)\n",
    "fig.add_trace(m.histogram_func(pd.read_csv(\"results/kendall.csv\"), \"Kendall tau\"), row=2, col=1)\n",
    "fig.add_trace(m.histogram_func(pd.read_csv(\"results/fisher.csv\"), \"Fisher-test\"), row=2, col=2)\n",
    "fig.add_trace(m.histogram_func(pd.read_csv(\"results/variance_threshold.csv\"), \"Variance Threshold\"), row=3, col=1)\n",
    "fig.add_trace(m.histogram_func(pd.read_csv(\"results/RF_importance.csv\"), \"Random Forest importance\"),  row=3, col=2)\n",
    "fig2 = go.Figure(data=[go.Table(\n",
    "    header=dict(values=list(rfe.columns),\n",
    "                fill_color='paleturquoise',\n",
    "                align='left'),\n",
    "    cells=dict(values=rfe.transpose().values.tolist(),\n",
    "               fill_color='lavender',\n",
    "               align='left'))\n",
    "])\n",
    "\n",
    "\n",
    "\n",
    "\n",
    "# Update title and height\n",
    "fig.update_layout(title_text=\"Feature Selection Results\", width=900, height=1200, showlegend=False)\n",
    "fig2.update_layout(title_text=\"Recursive Feature Selection Results\",showlegend=False)\n",
    "\n",
    "fig.show()\n",
    "fig2.show()"
   ]
  },
  {
   "cell_type": "code",
   "execution_count": 1,
   "id": "c94b0480",
   "metadata": {},
   "outputs": [],
   "source": []
  }
 ],
 "metadata": {
  "kernelspec": {
   "display_name": "PyCharm (notebooks)",
   "language": "python",
   "name": "pycharm-d468b8b8"
  },
  "language_info": {
   "codemirror_mode": {
    "name": "ipython",
    "version": 3
   },
   "file_extension": ".py",
   "mimetype": "text/x-python",
   "name": "python",
   "nbconvert_exporter": "python",
   "pygments_lexer": "ipython3",
   "version": "3.9.4"
  }
 },
 "nbformat": 4,
 "nbformat_minor": 5
}