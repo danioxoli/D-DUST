{
 "cells": [
  {
   "cell_type": "markdown",
   "id": "424e55ff",
   "metadata": {},
   "source": [
    "# Results\n",
    "Results are computed by \"feature_selection.ipynb\" and then collected in this notebook."
   ]
  },
  {
   "cell_type": "code",
   "execution_count": 9,
   "id": "9a4566c8",
   "metadata": {},
   "outputs": [
    {
     "data": {
      "application/vnd.plotly.v1+json": {
       "data": [
        {
         "x": [
          "temp_2m",
          "e_wind",
          "n_wind",
          "prec",
          "press",
          "aod_055",
          "aod_047",
          "uvai",
          "pm10_cams",
          "so2_s5p",
          "no2_s5p",
          "no2_cams",
          "no_cams",
          "co_s5p",
          "co_cams",
          "ozone_s5p",
          "ozone_cams",
          "form_s5p",
          "amm_cams",
          "ndvi",
          "soil_moist",
          "pop",
          "prim_road",
          "sec_road",
          "highway",
          "farms"
         ],
         "y": [
          0.902057161832904,
          0.7840019929635987,
          0.4491609987980429,
          0.1897444511506051,
          0.947891495219742,
          0.9457130496240932,
          0.9459754112170116,
          0.4554122543711265,
          1.0,
          0.807939514434587,
          0.9691394136449378,
          0.968389933636136,
          0.8343775434451168,
          0.9482776840228876,
          0.9938746418949896,
          0.5398252256996217,
          0.0,
          0.845526958256184,
          0.9044591962159528,
          0.7366099934642829,
          0.6093156316812197,
          0.6700451723268424,
          0.7020473698349687,
          0.7424519165134508,
          0.6589396151497353,
          0.762710859119831
         ],
         "type": "bar",
         "xaxis": "x",
         "yaxis": "y"
        },
        {
         "x": [
          "temp_2m",
          "e_wind",
          "n_wind",
          "prec",
          "press",
          "aod_055",
          "aod_047",
          "uvai",
          "pm10_cams",
          "so2_s5p",
          "no2_s5p",
          "no2_cams",
          "no_cams",
          "co_s5p",
          "co_cams",
          "ozone_s5p",
          "ozone_cams",
          "form_s5p",
          "amm_cams",
          "ndvi",
          "soil_moist",
          "pop",
          "prim_road",
          "sec_road",
          "highway",
          "farms"
         ],
         "y": [
          0.9194919781531506,
          0.7629558345326222,
          0.5050843344205306,
          0.0548632723273364,
          0.9670934966173148,
          0.9488977220471336,
          0.9509544184104556,
          0.4968412621643808,
          1.0,
          0.8108275763464342,
          0.9740641369488924,
          0.9781157961764836,
          0.9741571078535116,
          0.9663550160272388,
          0.9934429415738306,
          0.5749192672339273,
          0.0,
          0.859421145390994,
          0.9665452791932652,
          0.7096870081685653,
          0.5531500900711058,
          0.8581268005163356,
          0.694779903610119,
          0.7058896436067518,
          0.67277452368579,
          0.7452137807125037
         ],
         "type": "bar",
         "xaxis": "x2",
         "yaxis": "y2"
        },
        {
         "x": [
          "temp_2m",
          "e_wind",
          "n_wind",
          "prec",
          "press",
          "aod_055",
          "aod_047",
          "uvai",
          "pm10_cams",
          "so2_s5p",
          "no2_s5p",
          "no2_cams",
          "no_cams",
          "co_s5p",
          "co_cams",
          "ozone_s5p",
          "ozone_cams",
          "form_s5p",
          "amm_cams",
          "ndvi",
          "soil_moist",
          "pop",
          "prim_road",
          "sec_road",
          "highway",
          "farms"
         ],
         "y": [
          0.8199856989631749,
          0.6551864868693548,
          0.4548235643310555,
          0.0841535067896196,
          0.8857772141310435,
          0.8543372982682248,
          0.8578150920139993,
          0.4936825844402022,
          1.0,
          0.6995603088553634,
          0.9013835578551144,
          0.9126894718735036,
          0.9042100363597116,
          0.8831025154984115,
          0.961393946344129,
          0.5121221524409577,
          0.0,
          0.7421361161891785,
          0.8850756538339598,
          0.6176428923172402,
          0.5157648693681236,
          0.7387291106042362,
          0.6190595822251461,
          0.6297406761334746,
          0.6136626054534833,
          0.6774092753520111
         ],
         "type": "bar",
         "xaxis": "x3",
         "yaxis": "y3"
        },
        {
         "x": [
          "temp_2m",
          "e_wind",
          "n_wind",
          "prec",
          "press",
          "aod_055",
          "aod_047",
          "uvai",
          "pm10_cams",
          "so2_s5p",
          "no2_s5p",
          "no2_cams",
          "no_cams",
          "co_s5p",
          "co_cams",
          "ozone_s5p",
          "ozone_cams",
          "form_s5p",
          "amm_cams",
          "ndvi",
          "soil_moist",
          "pop",
          "prim_road",
          "sec_road",
          "highway",
          "farms"
         ],
         "y": [
          0.0026697364967654,
          7.025724859045E-4,
          3.871406102372938E-6,
          7.139744386217E-4,
          0.0059496146520669,
          0.0056613376001838,
          0.0057229510550787,
          2.037565900207149E-6,
          1.0,
          9.55820025747E-4,
          0.0104319776588712,
          0.0103880826159099,
          0.0013264827003958,
          0.0058665859550719,
          0.0530460050953623,
          0.0,
          0.0196513298340147,
          0.0012773777091179,
          0.0026706382995944,
          3.953368892081E-4,
          8.219022083397637E-5,
          2.215684022049E-4,
          2.465949882034E-4,
          4.070528366209E-4,
          1.613973315102E-4,
          5.532649456817E-4
         ],
         "type": "bar",
         "xaxis": "x4",
         "yaxis": "y4"
        },
        {
         "x": [
          "temp_2m",
          "e_wind",
          "n_wind",
          "prec",
          "press",
          "aod_055",
          "aod_047",
          "uvai",
          "pm10_cams",
          "so2_s5p",
          "no2_s5p",
          "no2_cams",
          "no_cams",
          "co_s5p",
          "co_cams",
          "ozone_s5p",
          "ozone_cams",
          "form_s5p",
          "amm_cams",
          "ndvi",
          "soil_moist",
          "pop",
          "prim_road",
          "sec_road",
          "highway",
          "farms"
         ],
         "y": [
          1.0,
          0.8,
          0.8,
          0.4,
          0.6,
          0.0,
          0.6,
          0.6,
          1.0,
          0.6,
          0.0,
          0.6,
          0.6,
          1.0,
          0.6,
          0.6,
          0.6,
          0.0,
          0.6,
          0.4,
          0.4,
          1.0,
          0.8,
          0.6,
          0.0,
          1.0
         ],
         "type": "bar",
         "xaxis": "x5",
         "yaxis": "y5"
        },
        {
         "x": [
          "temp_2m",
          "e_wind",
          "n_wind",
          "prec",
          "press",
          "aod_055",
          "aod_047",
          "uvai",
          "pm10_cams",
          "so2_s5p",
          "no2_s5p",
          "no2_cams",
          "no_cams",
          "co_s5p",
          "co_cams",
          "ozone_s5p",
          "ozone_cams",
          "form_s5p",
          "amm_cams",
          "ndvi",
          "soil_moist",
          "pop",
          "prim_road",
          "sec_road",
          "highway",
          "farms"
         ],
         "y": [
          4.703463900862426E-5,
          2.9414913273883025E-5,
          6.726377076513489E-5,
          3.281344232173519E-5,
          2.06126583080895E-5,
          2.117376015574568E-5,
          2.0057976562560823E-5,
          4.403435599828252E-5,
          1.0,
          2.577863059177173E-5,
          6.541237226050285E-5,
          3.618721369743006E-5,
          2.7557558833105026E-5,
          2.727422127551282E-5,
          0.0167842566736837,
          3.3223924695725817E-5,
          7.48073204300654E-5,
          2.6517533715969383E-5,
          3.0214600271220096E-5,
          2.5648560717738173E-5,
          3.118195685610404E-5,
          2.3394986498331784E-5,
          7.152398814874304E-6,
          9.704864278122247E-6,
          0.0,
          1.1683031454001518E-5
         ],
         "type": "bar",
         "xaxis": "x6",
         "yaxis": "y6"
        }
       ],
       "layout": {
        "template": {
         "data": {
          "bar": [
           {
            "error_x": {
             "color": "#2a3f5f"
            },
            "error_y": {
             "color": "#2a3f5f"
            },
            "marker": {
             "line": {
              "color": "#E5ECF6",
              "width": 0.5
             },
             "pattern": {
              "fillmode": "overlay",
              "size": 10,
              "solidity": 0.2
             }
            },
            "type": "bar"
           }
          ],
          "barpolar": [
           {
            "marker": {
             "line": {
              "color": "#E5ECF6",
              "width": 0.5
             },
             "pattern": {
              "fillmode": "overlay",
              "size": 10,
              "solidity": 0.2
             }
            },
            "type": "barpolar"
           }
          ],
          "carpet": [
           {
            "aaxis": {
             "endlinecolor": "#2a3f5f",
             "gridcolor": "white",
             "linecolor": "white",
             "minorgridcolor": "white",
             "startlinecolor": "#2a3f5f"
            },
            "baxis": {
             "endlinecolor": "#2a3f5f",
             "gridcolor": "white",
             "linecolor": "white",
             "minorgridcolor": "white",
             "startlinecolor": "#2a3f5f"
            },
            "type": "carpet"
           }
          ],
          "choropleth": [
           {
            "colorbar": {
             "outlinewidth": 0,
             "ticks": ""
            },
            "type": "choropleth"
           }
          ],
          "contour": [
           {
            "colorbar": {
             "outlinewidth": 0,
             "ticks": ""
            },
            "colorscale": [
             [
              0.0,
              "#0d0887"
             ],
             [
              0.1111111111111111,
              "#46039f"
             ],
             [
              0.2222222222222222,
              "#7201a8"
             ],
             [
              0.3333333333333333,
              "#9c179e"
             ],
             [
              0.4444444444444444,
              "#bd3786"
             ],
             [
              0.5555555555555556,
              "#d8576b"
             ],
             [
              0.6666666666666666,
              "#ed7953"
             ],
             [
              0.7777777777777778,
              "#fb9f3a"
             ],
             [
              0.8888888888888888,
              "#fdca26"
             ],
             [
              1.0,
              "#f0f921"
             ]
            ],
            "type": "contour"
           }
          ],
          "contourcarpet": [
           {
            "colorbar": {
             "outlinewidth": 0,
             "ticks": ""
            },
            "type": "contourcarpet"
           }
          ],
          "heatmap": [
           {
            "colorbar": {
             "outlinewidth": 0,
             "ticks": ""
            },
            "colorscale": [
             [
              0.0,
              "#0d0887"
             ],
             [
              0.1111111111111111,
              "#46039f"
             ],
             [
              0.2222222222222222,
              "#7201a8"
             ],
             [
              0.3333333333333333,
              "#9c179e"
             ],
             [
              0.4444444444444444,
              "#bd3786"
             ],
             [
              0.5555555555555556,
              "#d8576b"
             ],
             [
              0.6666666666666666,
              "#ed7953"
             ],
             [
              0.7777777777777778,
              "#fb9f3a"
             ],
             [
              0.8888888888888888,
              "#fdca26"
             ],
             [
              1.0,
              "#f0f921"
             ]
            ],
            "type": "heatmap"
           }
          ],
          "heatmapgl": [
           {
            "colorbar": {
             "outlinewidth": 0,
             "ticks": ""
            },
            "colorscale": [
             [
              0.0,
              "#0d0887"
             ],
             [
              0.1111111111111111,
              "#46039f"
             ],
             [
              0.2222222222222222,
              "#7201a8"
             ],
             [
              0.3333333333333333,
              "#9c179e"
             ],
             [
              0.4444444444444444,
              "#bd3786"
             ],
             [
              0.5555555555555556,
              "#d8576b"
             ],
             [
              0.6666666666666666,
              "#ed7953"
             ],
             [
              0.7777777777777778,
              "#fb9f3a"
             ],
             [
              0.8888888888888888,
              "#fdca26"
             ],
             [
              1.0,
              "#f0f921"
             ]
            ],
            "type": "heatmapgl"
           }
          ],
          "histogram": [
           {
            "marker": {
             "pattern": {
              "fillmode": "overlay",
              "size": 10,
              "solidity": 0.2
             }
            },
            "type": "histogram"
           }
          ],
          "histogram2d": [
           {
            "colorbar": {
             "outlinewidth": 0,
             "ticks": ""
            },
            "colorscale": [
             [
              0.0,
              "#0d0887"
             ],
             [
              0.1111111111111111,
              "#46039f"
             ],
             [
              0.2222222222222222,
              "#7201a8"
             ],
             [
              0.3333333333333333,
              "#9c179e"
             ],
             [
              0.4444444444444444,
              "#bd3786"
             ],
             [
              0.5555555555555556,
              "#d8576b"
             ],
             [
              0.6666666666666666,
              "#ed7953"
             ],
             [
              0.7777777777777778,
              "#fb9f3a"
             ],
             [
              0.8888888888888888,
              "#fdca26"
             ],
             [
              1.0,
              "#f0f921"
             ]
            ],
            "type": "histogram2d"
           }
          ],
          "histogram2dcontour": [
           {
            "colorbar": {
             "outlinewidth": 0,
             "ticks": ""
            },
            "colorscale": [
             [
              0.0,
              "#0d0887"
             ],
             [
              0.1111111111111111,
              "#46039f"
             ],
             [
              0.2222222222222222,
              "#7201a8"
             ],
             [
              0.3333333333333333,
              "#9c179e"
             ],
             [
              0.4444444444444444,
              "#bd3786"
             ],
             [
              0.5555555555555556,
              "#d8576b"
             ],
             [
              0.6666666666666666,
              "#ed7953"
             ],
             [
              0.7777777777777778,
              "#fb9f3a"
             ],
             [
              0.8888888888888888,
              "#fdca26"
             ],
             [
              1.0,
              "#f0f921"
             ]
            ],
            "type": "histogram2dcontour"
           }
          ],
          "mesh3d": [
           {
            "colorbar": {
             "outlinewidth": 0,
             "ticks": ""
            },
            "type": "mesh3d"
           }
          ],
          "parcoords": [
           {
            "line": {
             "colorbar": {
              "outlinewidth": 0,
              "ticks": ""
             }
            },
            "type": "parcoords"
           }
          ],
          "pie": [
           {
            "automargin": true,
            "type": "pie"
           }
          ],
          "scatter": [
           {
            "marker": {
             "colorbar": {
              "outlinewidth": 0,
              "ticks": ""
             }
            },
            "type": "scatter"
           }
          ],
          "scatter3d": [
           {
            "line": {
             "colorbar": {
              "outlinewidth": 0,
              "ticks": ""
             }
            },
            "marker": {
             "colorbar": {
              "outlinewidth": 0,
              "ticks": ""
             }
            },
            "type": "scatter3d"
           }
          ],
          "scattercarpet": [
           {
            "marker": {
             "colorbar": {
              "outlinewidth": 0,
              "ticks": ""
             }
            },
            "type": "scattercarpet"
           }
          ],
          "scattergeo": [
           {
            "marker": {
             "colorbar": {
              "outlinewidth": 0,
              "ticks": ""
             }
            },
            "type": "scattergeo"
           }
          ],
          "scattergl": [
           {
            "marker": {
             "colorbar": {
              "outlinewidth": 0,
              "ticks": ""
             }
            },
            "type": "scattergl"
           }
          ],
          "scattermapbox": [
           {
            "marker": {
             "colorbar": {
              "outlinewidth": 0,
              "ticks": ""
             }
            },
            "type": "scattermapbox"
           }
          ],
          "scatterpolar": [
           {
            "marker": {
             "colorbar": {
              "outlinewidth": 0,
              "ticks": ""
             }
            },
            "type": "scatterpolar"
           }
          ],
          "scatterpolargl": [
           {
            "marker": {
             "colorbar": {
              "outlinewidth": 0,
              "ticks": ""
             }
            },
            "type": "scatterpolargl"
           }
          ],
          "scatterternary": [
           {
            "marker": {
             "colorbar": {
              "outlinewidth": 0,
              "ticks": ""
             }
            },
            "type": "scatterternary"
           }
          ],
          "surface": [
           {
            "colorbar": {
             "outlinewidth": 0,
             "ticks": ""
            },
            "colorscale": [
             [
              0.0,
              "#0d0887"
             ],
             [
              0.1111111111111111,
              "#46039f"
             ],
             [
              0.2222222222222222,
              "#7201a8"
             ],
             [
              0.3333333333333333,
              "#9c179e"
             ],
             [
              0.4444444444444444,
              "#bd3786"
             ],
             [
              0.5555555555555556,
              "#d8576b"
             ],
             [
              0.6666666666666666,
              "#ed7953"
             ],
             [
              0.7777777777777778,
              "#fb9f3a"
             ],
             [
              0.8888888888888888,
              "#fdca26"
             ],
             [
              1.0,
              "#f0f921"
             ]
            ],
            "type": "surface"
           }
          ],
          "table": [
           {
            "cells": {
             "fill": {
              "color": "#EBF0F8"
             },
             "line": {
              "color": "white"
             }
            },
            "header": {
             "fill": {
              "color": "#C8D4E3"
             },
             "line": {
              "color": "white"
             }
            },
            "type": "table"
           }
          ]
         },
         "layout": {
          "annotationdefaults": {
           "arrowcolor": "#2a3f5f",
           "arrowhead": 0,
           "arrowwidth": 1
          },
          "autotypenumbers": "strict",
          "coloraxis": {
           "colorbar": {
            "outlinewidth": 0,
            "ticks": ""
           }
          },
          "colorscale": {
           "diverging": [
            [
             0,
             "#8e0152"
            ],
            [
             0.1,
             "#c51b7d"
            ],
            [
             0.2,
             "#de77ae"
            ],
            [
             0.3,
             "#f1b6da"
            ],
            [
             0.4,
             "#fde0ef"
            ],
            [
             0.5,
             "#f7f7f7"
            ],
            [
             0.6,
             "#e6f5d0"
            ],
            [
             0.7,
             "#b8e186"
            ],
            [
             0.8,
             "#7fbc41"
            ],
            [
             0.9,
             "#4d9221"
            ],
            [
             1,
             "#276419"
            ]
           ],
           "sequential": [
            [
             0.0,
             "#0d0887"
            ],
            [
             0.1111111111111111,
             "#46039f"
            ],
            [
             0.2222222222222222,
             "#7201a8"
            ],
            [
             0.3333333333333333,
             "#9c179e"
            ],
            [
             0.4444444444444444,
             "#bd3786"
            ],
            [
             0.5555555555555556,
             "#d8576b"
            ],
            [
             0.6666666666666666,
             "#ed7953"
            ],
            [
             0.7777777777777778,
             "#fb9f3a"
            ],
            [
             0.8888888888888888,
             "#fdca26"
            ],
            [
             1.0,
             "#f0f921"
            ]
           ],
           "sequentialminus": [
            [
             0.0,
             "#0d0887"
            ],
            [
             0.1111111111111111,
             "#46039f"
            ],
            [
             0.2222222222222222,
             "#7201a8"
            ],
            [
             0.3333333333333333,
             "#9c179e"
            ],
            [
             0.4444444444444444,
             "#bd3786"
            ],
            [
             0.5555555555555556,
             "#d8576b"
            ],
            [
             0.6666666666666666,
             "#ed7953"
            ],
            [
             0.7777777777777778,
             "#fb9f3a"
            ],
            [
             0.8888888888888888,
             "#fdca26"
            ],
            [
             1.0,
             "#f0f921"
            ]
           ]
          },
          "colorway": [
           "#636efa",
           "#EF553B",
           "#00cc96",
           "#ab63fa",
           "#FFA15A",
           "#19d3f3",
           "#FF6692",
           "#B6E880",
           "#FF97FF",
           "#FECB52"
          ],
          "font": {
           "color": "#2a3f5f"
          },
          "geo": {
           "bgcolor": "white",
           "lakecolor": "white",
           "landcolor": "#E5ECF6",
           "showlakes": true,
           "showland": true,
           "subunitcolor": "white"
          },
          "hoverlabel": {
           "align": "left"
          },
          "hovermode": "closest",
          "mapbox": {
           "style": "light"
          },
          "paper_bgcolor": "white",
          "plot_bgcolor": "#E5ECF6",
          "polar": {
           "angularaxis": {
            "gridcolor": "white",
            "linecolor": "white",
            "ticks": ""
           },
           "bgcolor": "#E5ECF6",
           "radialaxis": {
            "gridcolor": "white",
            "linecolor": "white",
            "ticks": ""
           }
          },
          "scene": {
           "xaxis": {
            "backgroundcolor": "#E5ECF6",
            "gridcolor": "white",
            "gridwidth": 2,
            "linecolor": "white",
            "showbackground": true,
            "ticks": "",
            "zerolinecolor": "white"
           },
           "yaxis": {
            "backgroundcolor": "#E5ECF6",
            "gridcolor": "white",
            "gridwidth": 2,
            "linecolor": "white",
            "showbackground": true,
            "ticks": "",
            "zerolinecolor": "white"
           },
           "zaxis": {
            "backgroundcolor": "#E5ECF6",
            "gridcolor": "white",
            "gridwidth": 2,
            "linecolor": "white",
            "showbackground": true,
            "ticks": "",
            "zerolinecolor": "white"
           }
          },
          "shapedefaults": {
           "line": {
            "color": "#2a3f5f"
           }
          },
          "ternary": {
           "aaxis": {
            "gridcolor": "white",
            "linecolor": "white",
            "ticks": ""
           },
           "baxis": {
            "gridcolor": "white",
            "linecolor": "white",
            "ticks": ""
           },
           "bgcolor": "#E5ECF6",
           "caxis": {
            "gridcolor": "white",
            "linecolor": "white",
            "ticks": ""
           }
          },
          "title": {
           "x": 0.05
          },
          "xaxis": {
           "automargin": true,
           "gridcolor": "white",
           "linecolor": "white",
           "ticks": "",
           "title": {
            "standoff": 15
           },
           "zerolinecolor": "white",
           "zerolinewidth": 2
          },
          "yaxis": {
           "automargin": true,
           "gridcolor": "white",
           "linecolor": "white",
           "ticks": "",
           "title": {
            "standoff": 15
           },
           "zerolinecolor": "white",
           "zerolinewidth": 2
          }
         }
        },
        "xaxis": {
         "anchor": "y",
         "domain": [
          0.0,
          0.45
         ]
        },
        "yaxis": {
         "anchor": "x",
         "domain": [
          0.7777777777777778,
          1.0
         ]
        },
        "xaxis2": {
         "anchor": "y2",
         "domain": [
          0.55,
          1.0
         ]
        },
        "yaxis2": {
         "anchor": "x2",
         "domain": [
          0.7777777777777778,
          1.0
         ]
        },
        "xaxis3": {
         "anchor": "y3",
         "domain": [
          0.0,
          0.45
         ]
        },
        "yaxis3": {
         "anchor": "x3",
         "domain": [
          0.3888888888888889,
          0.6111111111111112
         ]
        },
        "xaxis4": {
         "anchor": "y4",
         "domain": [
          0.55,
          1.0
         ]
        },
        "yaxis4": {
         "anchor": "x4",
         "domain": [
          0.3888888888888889,
          0.6111111111111112
         ]
        },
        "xaxis5": {
         "anchor": "y5",
         "domain": [
          0.0,
          0.45
         ]
        },
        "yaxis5": {
         "anchor": "x5",
         "domain": [
          0.0,
          0.22222222222222224
         ]
        },
        "xaxis6": {
         "anchor": "y6",
         "domain": [
          0.55,
          1.0
         ]
        },
        "yaxis6": {
         "anchor": "x6",
         "domain": [
          0.0,
          0.22222222222222224
         ]
        },
        "annotations": [
         {
          "font": {
           "size": 16
          },
          "showarrow": false,
          "text": "Pearson correlation index",
          "x": 0.225,
          "xanchor": "center",
          "xref": "paper",
          "y": 1.0,
          "yanchor": "bottom",
          "yref": "paper"
         },
         {
          "font": {
           "size": 16
          },
          "showarrow": false,
          "text": "Spearmanr correlation coefficient",
          "x": 0.775,
          "xanchor": "center",
          "xref": "paper",
          "y": 1.0,
          "yanchor": "bottom",
          "yref": "paper"
         },
         {
          "font": {
           "size": 16
          },
          "showarrow": false,
          "text": "Kendall tau",
          "x": 0.225,
          "xanchor": "center",
          "xref": "paper",
          "y": 0.6111111111111112,
          "yanchor": "bottom",
          "yref": "paper"
         },
         {
          "font": {
           "size": 16
          },
          "showarrow": false,
          "text": "Fisher-test",
          "x": 0.775,
          "xanchor": "center",
          "xref": "paper",
          "y": 0.6111111111111112,
          "yanchor": "bottom",
          "yref": "paper"
         },
         {
          "font": {
           "size": 16
          },
          "showarrow": false,
          "text": "Variance Threshold",
          "x": 0.225,
          "xanchor": "center",
          "xref": "paper",
          "y": 0.22222222222222224,
          "yanchor": "bottom",
          "yref": "paper"
         },
         {
          "font": {
           "size": 16
          },
          "showarrow": false,
          "text": "Random Forest importance",
          "x": 0.775,
          "xanchor": "center",
          "xref": "paper",
          "y": 0.22222222222222224,
          "yanchor": "bottom",
          "yref": "paper"
         }
        ],
        "title": {
         "text": "Feature Selection Results"
        },
        "width": 900,
        "height": 1200,
        "showlegend": false
       },
       "config": {
        "plotlyServerURL": "https://plot.ly"
       }
      },
      "text/html": "<div>                            <div id=\"c44a700f-3626-459f-a8e6-ea0721d6dcf3\" class=\"plotly-graph-div\" style=\"height:1200px; width:900px;\"></div>            <script type=\"text/javascript\">                require([\"plotly\"], function(Plotly) {                    window.PLOTLYENV=window.PLOTLYENV || {};                                    if (document.getElementById(\"c44a700f-3626-459f-a8e6-ea0721d6dcf3\")) {                    Plotly.newPlot(                        \"c44a700f-3626-459f-a8e6-ea0721d6dcf3\",                        [{\"x\":[\"temp_2m\",\"e_wind\",\"n_wind\",\"prec\",\"press\",\"aod_055\",\"aod_047\",\"uvai\",\"pm10_cams\",\"so2_s5p\",\"no2_s5p\",\"no2_cams\",\"no_cams\",\"co_s5p\",\"co_cams\",\"ozone_s5p\",\"ozone_cams\",\"form_s5p\",\"amm_cams\",\"ndvi\",\"soil_moist\",\"pop\",\"prim_road\",\"sec_road\",\"highway\",\"farms\"],\"y\":[0.902057161832904,0.7840019929635987,0.4491609987980429,0.1897444511506051,0.947891495219742,0.9457130496240932,0.9459754112170116,0.4554122543711265,1.0,0.807939514434587,0.9691394136449378,0.968389933636136,0.8343775434451168,0.9482776840228876,0.9938746418949896,0.5398252256996217,0.0,0.845526958256184,0.9044591962159528,0.7366099934642829,0.6093156316812197,0.6700451723268424,0.7020473698349687,0.7424519165134508,0.6589396151497353,0.762710859119831],\"type\":\"bar\",\"xaxis\":\"x\",\"yaxis\":\"y\"},{\"x\":[\"temp_2m\",\"e_wind\",\"n_wind\",\"prec\",\"press\",\"aod_055\",\"aod_047\",\"uvai\",\"pm10_cams\",\"so2_s5p\",\"no2_s5p\",\"no2_cams\",\"no_cams\",\"co_s5p\",\"co_cams\",\"ozone_s5p\",\"ozone_cams\",\"form_s5p\",\"amm_cams\",\"ndvi\",\"soil_moist\",\"pop\",\"prim_road\",\"sec_road\",\"highway\",\"farms\"],\"y\":[0.9194919781531506,0.7629558345326222,0.5050843344205306,0.0548632723273364,0.9670934966173148,0.9488977220471336,0.9509544184104556,0.4968412621643808,1.0,0.8108275763464342,0.9740641369488924,0.9781157961764836,0.9741571078535116,0.9663550160272388,0.9934429415738306,0.5749192672339273,0.0,0.859421145390994,0.9665452791932652,0.7096870081685653,0.5531500900711058,0.8581268005163356,0.694779903610119,0.7058896436067518,0.67277452368579,0.7452137807125037],\"type\":\"bar\",\"xaxis\":\"x2\",\"yaxis\":\"y2\"},{\"x\":[\"temp_2m\",\"e_wind\",\"n_wind\",\"prec\",\"press\",\"aod_055\",\"aod_047\",\"uvai\",\"pm10_cams\",\"so2_s5p\",\"no2_s5p\",\"no2_cams\",\"no_cams\",\"co_s5p\",\"co_cams\",\"ozone_s5p\",\"ozone_cams\",\"form_s5p\",\"amm_cams\",\"ndvi\",\"soil_moist\",\"pop\",\"prim_road\",\"sec_road\",\"highway\",\"farms\"],\"y\":[0.8199856989631749,0.6551864868693548,0.4548235643310555,0.0841535067896196,0.8857772141310435,0.8543372982682248,0.8578150920139993,0.4936825844402022,1.0,0.6995603088553634,0.9013835578551144,0.9126894718735036,0.9042100363597116,0.8831025154984115,0.961393946344129,0.5121221524409577,0.0,0.7421361161891785,0.8850756538339598,0.6176428923172402,0.5157648693681236,0.7387291106042362,0.6190595822251461,0.6297406761334746,0.6136626054534833,0.6774092753520111],\"type\":\"bar\",\"xaxis\":\"x3\",\"yaxis\":\"y3\"},{\"x\":[\"temp_2m\",\"e_wind\",\"n_wind\",\"prec\",\"press\",\"aod_055\",\"aod_047\",\"uvai\",\"pm10_cams\",\"so2_s5p\",\"no2_s5p\",\"no2_cams\",\"no_cams\",\"co_s5p\",\"co_cams\",\"ozone_s5p\",\"ozone_cams\",\"form_s5p\",\"amm_cams\",\"ndvi\",\"soil_moist\",\"pop\",\"prim_road\",\"sec_road\",\"highway\",\"farms\"],\"y\":[0.0026697364967654,0.0007025724859045,3.871406102372938e-06,0.0007139744386217,0.0059496146520669,0.0056613376001838,0.0057229510550787,2.037565900207149e-06,1.0,0.000955820025747,0.0104319776588712,0.0103880826159099,0.0013264827003958,0.0058665859550719,0.0530460050953623,0.0,0.0196513298340147,0.0012773777091179,0.0026706382995944,0.0003953368892081,8.219022083397637e-05,0.0002215684022049,0.0002465949882034,0.0004070528366209,0.0001613973315102,0.0005532649456817],\"type\":\"bar\",\"xaxis\":\"x4\",\"yaxis\":\"y4\"},{\"x\":[\"temp_2m\",\"e_wind\",\"n_wind\",\"prec\",\"press\",\"aod_055\",\"aod_047\",\"uvai\",\"pm10_cams\",\"so2_s5p\",\"no2_s5p\",\"no2_cams\",\"no_cams\",\"co_s5p\",\"co_cams\",\"ozone_s5p\",\"ozone_cams\",\"form_s5p\",\"amm_cams\",\"ndvi\",\"soil_moist\",\"pop\",\"prim_road\",\"sec_road\",\"highway\",\"farms\"],\"y\":[1.0,0.8,0.8,0.4,0.6,0.0,0.6,0.6,1.0,0.6,0.0,0.6,0.6,1.0,0.6,0.6,0.6,0.0,0.6,0.4,0.4,1.0,0.8,0.6,0.0,1.0],\"type\":\"bar\",\"xaxis\":\"x5\",\"yaxis\":\"y5\"},{\"x\":[\"temp_2m\",\"e_wind\",\"n_wind\",\"prec\",\"press\",\"aod_055\",\"aod_047\",\"uvai\",\"pm10_cams\",\"so2_s5p\",\"no2_s5p\",\"no2_cams\",\"no_cams\",\"co_s5p\",\"co_cams\",\"ozone_s5p\",\"ozone_cams\",\"form_s5p\",\"amm_cams\",\"ndvi\",\"soil_moist\",\"pop\",\"prim_road\",\"sec_road\",\"highway\",\"farms\"],\"y\":[4.703463900862426e-05,2.9414913273883025e-05,6.726377076513489e-05,3.281344232173519e-05,2.06126583080895e-05,2.117376015574568e-05,2.0057976562560823e-05,4.403435599828252e-05,1.0,2.577863059177173e-05,6.541237226050285e-05,3.618721369743006e-05,2.7557558833105026e-05,2.727422127551282e-05,0.0167842566736837,3.3223924695725817e-05,7.48073204300654e-05,2.6517533715969383e-05,3.0214600271220096e-05,2.5648560717738173e-05,3.118195685610404e-05,2.3394986498331784e-05,7.152398814874304e-06,9.704864278122247e-06,0.0,1.1683031454001518e-05],\"type\":\"bar\",\"xaxis\":\"x6\",\"yaxis\":\"y6\"}],                        {\"template\":{\"data\":{\"bar\":[{\"error_x\":{\"color\":\"#2a3f5f\"},\"error_y\":{\"color\":\"#2a3f5f\"},\"marker\":{\"line\":{\"color\":\"#E5ECF6\",\"width\":0.5},\"pattern\":{\"fillmode\":\"overlay\",\"size\":10,\"solidity\":0.2}},\"type\":\"bar\"}],\"barpolar\":[{\"marker\":{\"line\":{\"color\":\"#E5ECF6\",\"width\":0.5},\"pattern\":{\"fillmode\":\"overlay\",\"size\":10,\"solidity\":0.2}},\"type\":\"barpolar\"}],\"carpet\":[{\"aaxis\":{\"endlinecolor\":\"#2a3f5f\",\"gridcolor\":\"white\",\"linecolor\":\"white\",\"minorgridcolor\":\"white\",\"startlinecolor\":\"#2a3f5f\"},\"baxis\":{\"endlinecolor\":\"#2a3f5f\",\"gridcolor\":\"white\",\"linecolor\":\"white\",\"minorgridcolor\":\"white\",\"startlinecolor\":\"#2a3f5f\"},\"type\":\"carpet\"}],\"choropleth\":[{\"colorbar\":{\"outlinewidth\":0,\"ticks\":\"\"},\"type\":\"choropleth\"}],\"contour\":[{\"colorbar\":{\"outlinewidth\":0,\"ticks\":\"\"},\"colorscale\":[[0.0,\"#0d0887\"],[0.1111111111111111,\"#46039f\"],[0.2222222222222222,\"#7201a8\"],[0.3333333333333333,\"#9c179e\"],[0.4444444444444444,\"#bd3786\"],[0.5555555555555556,\"#d8576b\"],[0.6666666666666666,\"#ed7953\"],[0.7777777777777778,\"#fb9f3a\"],[0.8888888888888888,\"#fdca26\"],[1.0,\"#f0f921\"]],\"type\":\"contour\"}],\"contourcarpet\":[{\"colorbar\":{\"outlinewidth\":0,\"ticks\":\"\"},\"type\":\"contourcarpet\"}],\"heatmap\":[{\"colorbar\":{\"outlinewidth\":0,\"ticks\":\"\"},\"colorscale\":[[0.0,\"#0d0887\"],[0.1111111111111111,\"#46039f\"],[0.2222222222222222,\"#7201a8\"],[0.3333333333333333,\"#9c179e\"],[0.4444444444444444,\"#bd3786\"],[0.5555555555555556,\"#d8576b\"],[0.6666666666666666,\"#ed7953\"],[0.7777777777777778,\"#fb9f3a\"],[0.8888888888888888,\"#fdca26\"],[1.0,\"#f0f921\"]],\"type\":\"heatmap\"}],\"heatmapgl\":[{\"colorbar\":{\"outlinewidth\":0,\"ticks\":\"\"},\"colorscale\":[[0.0,\"#0d0887\"],[0.1111111111111111,\"#46039f\"],[0.2222222222222222,\"#7201a8\"],[0.3333333333333333,\"#9c179e\"],[0.4444444444444444,\"#bd3786\"],[0.5555555555555556,\"#d8576b\"],[0.6666666666666666,\"#ed7953\"],[0.7777777777777778,\"#fb9f3a\"],[0.8888888888888888,\"#fdca26\"],[1.0,\"#f0f921\"]],\"type\":\"heatmapgl\"}],\"histogram\":[{\"marker\":{\"pattern\":{\"fillmode\":\"overlay\",\"size\":10,\"solidity\":0.2}},\"type\":\"histogram\"}],\"histogram2d\":[{\"colorbar\":{\"outlinewidth\":0,\"ticks\":\"\"},\"colorscale\":[[0.0,\"#0d0887\"],[0.1111111111111111,\"#46039f\"],[0.2222222222222222,\"#7201a8\"],[0.3333333333333333,\"#9c179e\"],[0.4444444444444444,\"#bd3786\"],[0.5555555555555556,\"#d8576b\"],[0.6666666666666666,\"#ed7953\"],[0.7777777777777778,\"#fb9f3a\"],[0.8888888888888888,\"#fdca26\"],[1.0,\"#f0f921\"]],\"type\":\"histogram2d\"}],\"histogram2dcontour\":[{\"colorbar\":{\"outlinewidth\":0,\"ticks\":\"\"},\"colorscale\":[[0.0,\"#0d0887\"],[0.1111111111111111,\"#46039f\"],[0.2222222222222222,\"#7201a8\"],[0.3333333333333333,\"#9c179e\"],[0.4444444444444444,\"#bd3786\"],[0.5555555555555556,\"#d8576b\"],[0.6666666666666666,\"#ed7953\"],[0.7777777777777778,\"#fb9f3a\"],[0.8888888888888888,\"#fdca26\"],[1.0,\"#f0f921\"]],\"type\":\"histogram2dcontour\"}],\"mesh3d\":[{\"colorbar\":{\"outlinewidth\":0,\"ticks\":\"\"},\"type\":\"mesh3d\"}],\"parcoords\":[{\"line\":{\"colorbar\":{\"outlinewidth\":0,\"ticks\":\"\"}},\"type\":\"parcoords\"}],\"pie\":[{\"automargin\":true,\"type\":\"pie\"}],\"scatter\":[{\"marker\":{\"colorbar\":{\"outlinewidth\":0,\"ticks\":\"\"}},\"type\":\"scatter\"}],\"scatter3d\":[{\"line\":{\"colorbar\":{\"outlinewidth\":0,\"ticks\":\"\"}},\"marker\":{\"colorbar\":{\"outlinewidth\":0,\"ticks\":\"\"}},\"type\":\"scatter3d\"}],\"scattercarpet\":[{\"marker\":{\"colorbar\":{\"outlinewidth\":0,\"ticks\":\"\"}},\"type\":\"scattercarpet\"}],\"scattergeo\":[{\"marker\":{\"colorbar\":{\"outlinewidth\":0,\"ticks\":\"\"}},\"type\":\"scattergeo\"}],\"scattergl\":[{\"marker\":{\"colorbar\":{\"outlinewidth\":0,\"ticks\":\"\"}},\"type\":\"scattergl\"}],\"scattermapbox\":[{\"marker\":{\"colorbar\":{\"outlinewidth\":0,\"ticks\":\"\"}},\"type\":\"scattermapbox\"}],\"scatterpolar\":[{\"marker\":{\"colorbar\":{\"outlinewidth\":0,\"ticks\":\"\"}},\"type\":\"scatterpolar\"}],\"scatterpolargl\":[{\"marker\":{\"colorbar\":{\"outlinewidth\":0,\"ticks\":\"\"}},\"type\":\"scatterpolargl\"}],\"scatterternary\":[{\"marker\":{\"colorbar\":{\"outlinewidth\":0,\"ticks\":\"\"}},\"type\":\"scatterternary\"}],\"surface\":[{\"colorbar\":{\"outlinewidth\":0,\"ticks\":\"\"},\"colorscale\":[[0.0,\"#0d0887\"],[0.1111111111111111,\"#46039f\"],[0.2222222222222222,\"#7201a8\"],[0.3333333333333333,\"#9c179e\"],[0.4444444444444444,\"#bd3786\"],[0.5555555555555556,\"#d8576b\"],[0.6666666666666666,\"#ed7953\"],[0.7777777777777778,\"#fb9f3a\"],[0.8888888888888888,\"#fdca26\"],[1.0,\"#f0f921\"]],\"type\":\"surface\"}],\"table\":[{\"cells\":{\"fill\":{\"color\":\"#EBF0F8\"},\"line\":{\"color\":\"white\"}},\"header\":{\"fill\":{\"color\":\"#C8D4E3\"},\"line\":{\"color\":\"white\"}},\"type\":\"table\"}]},\"layout\":{\"annotationdefaults\":{\"arrowcolor\":\"#2a3f5f\",\"arrowhead\":0,\"arrowwidth\":1},\"autotypenumbers\":\"strict\",\"coloraxis\":{\"colorbar\":{\"outlinewidth\":0,\"ticks\":\"\"}},\"colorscale\":{\"diverging\":[[0,\"#8e0152\"],[0.1,\"#c51b7d\"],[0.2,\"#de77ae\"],[0.3,\"#f1b6da\"],[0.4,\"#fde0ef\"],[0.5,\"#f7f7f7\"],[0.6,\"#e6f5d0\"],[0.7,\"#b8e186\"],[0.8,\"#7fbc41\"],[0.9,\"#4d9221\"],[1,\"#276419\"]],\"sequential\":[[0.0,\"#0d0887\"],[0.1111111111111111,\"#46039f\"],[0.2222222222222222,\"#7201a8\"],[0.3333333333333333,\"#9c179e\"],[0.4444444444444444,\"#bd3786\"],[0.5555555555555556,\"#d8576b\"],[0.6666666666666666,\"#ed7953\"],[0.7777777777777778,\"#fb9f3a\"],[0.8888888888888888,\"#fdca26\"],[1.0,\"#f0f921\"]],\"sequentialminus\":[[0.0,\"#0d0887\"],[0.1111111111111111,\"#46039f\"],[0.2222222222222222,\"#7201a8\"],[0.3333333333333333,\"#9c179e\"],[0.4444444444444444,\"#bd3786\"],[0.5555555555555556,\"#d8576b\"],[0.6666666666666666,\"#ed7953\"],[0.7777777777777778,\"#fb9f3a\"],[0.8888888888888888,\"#fdca26\"],[1.0,\"#f0f921\"]]},\"colorway\":[\"#636efa\",\"#EF553B\",\"#00cc96\",\"#ab63fa\",\"#FFA15A\",\"#19d3f3\",\"#FF6692\",\"#B6E880\",\"#FF97FF\",\"#FECB52\"],\"font\":{\"color\":\"#2a3f5f\"},\"geo\":{\"bgcolor\":\"white\",\"lakecolor\":\"white\",\"landcolor\":\"#E5ECF6\",\"showlakes\":true,\"showland\":true,\"subunitcolor\":\"white\"},\"hoverlabel\":{\"align\":\"left\"},\"hovermode\":\"closest\",\"mapbox\":{\"style\":\"light\"},\"paper_bgcolor\":\"white\",\"plot_bgcolor\":\"#E5ECF6\",\"polar\":{\"angularaxis\":{\"gridcolor\":\"white\",\"linecolor\":\"white\",\"ticks\":\"\"},\"bgcolor\":\"#E5ECF6\",\"radialaxis\":{\"gridcolor\":\"white\",\"linecolor\":\"white\",\"ticks\":\"\"}},\"scene\":{\"xaxis\":{\"backgroundcolor\":\"#E5ECF6\",\"gridcolor\":\"white\",\"gridwidth\":2,\"linecolor\":\"white\",\"showbackground\":true,\"ticks\":\"\",\"zerolinecolor\":\"white\"},\"yaxis\":{\"backgroundcolor\":\"#E5ECF6\",\"gridcolor\":\"white\",\"gridwidth\":2,\"linecolor\":\"white\",\"showbackground\":true,\"ticks\":\"\",\"zerolinecolor\":\"white\"},\"zaxis\":{\"backgroundcolor\":\"#E5ECF6\",\"gridcolor\":\"white\",\"gridwidth\":2,\"linecolor\":\"white\",\"showbackground\":true,\"ticks\":\"\",\"zerolinecolor\":\"white\"}},\"shapedefaults\":{\"line\":{\"color\":\"#2a3f5f\"}},\"ternary\":{\"aaxis\":{\"gridcolor\":\"white\",\"linecolor\":\"white\",\"ticks\":\"\"},\"baxis\":{\"gridcolor\":\"white\",\"linecolor\":\"white\",\"ticks\":\"\"},\"bgcolor\":\"#E5ECF6\",\"caxis\":{\"gridcolor\":\"white\",\"linecolor\":\"white\",\"ticks\":\"\"}},\"title\":{\"x\":0.05},\"xaxis\":{\"automargin\":true,\"gridcolor\":\"white\",\"linecolor\":\"white\",\"ticks\":\"\",\"title\":{\"standoff\":15},\"zerolinecolor\":\"white\",\"zerolinewidth\":2},\"yaxis\":{\"automargin\":true,\"gridcolor\":\"white\",\"linecolor\":\"white\",\"ticks\":\"\",\"title\":{\"standoff\":15},\"zerolinecolor\":\"white\",\"zerolinewidth\":2}}},\"xaxis\":{\"anchor\":\"y\",\"domain\":[0.0,0.45]},\"yaxis\":{\"anchor\":\"x\",\"domain\":[0.7777777777777778,1.0]},\"xaxis2\":{\"anchor\":\"y2\",\"domain\":[0.55,1.0]},\"yaxis2\":{\"anchor\":\"x2\",\"domain\":[0.7777777777777778,1.0]},\"xaxis3\":{\"anchor\":\"y3\",\"domain\":[0.0,0.45]},\"yaxis3\":{\"anchor\":\"x3\",\"domain\":[0.3888888888888889,0.6111111111111112]},\"xaxis4\":{\"anchor\":\"y4\",\"domain\":[0.55,1.0]},\"yaxis4\":{\"anchor\":\"x4\",\"domain\":[0.3888888888888889,0.6111111111111112]},\"xaxis5\":{\"anchor\":\"y5\",\"domain\":[0.0,0.45]},\"yaxis5\":{\"anchor\":\"x5\",\"domain\":[0.0,0.22222222222222224]},\"xaxis6\":{\"anchor\":\"y6\",\"domain\":[0.55,1.0]},\"yaxis6\":{\"anchor\":\"x6\",\"domain\":[0.0,0.22222222222222224]},\"annotations\":[{\"font\":{\"size\":16},\"showarrow\":false,\"text\":\"Pearson correlation index\",\"x\":0.225,\"xanchor\":\"center\",\"xref\":\"paper\",\"y\":1.0,\"yanchor\":\"bottom\",\"yref\":\"paper\"},{\"font\":{\"size\":16},\"showarrow\":false,\"text\":\"Spearmanr correlation coefficient\",\"x\":0.775,\"xanchor\":\"center\",\"xref\":\"paper\",\"y\":1.0,\"yanchor\":\"bottom\",\"yref\":\"paper\"},{\"font\":{\"size\":16},\"showarrow\":false,\"text\":\"Kendall tau\",\"x\":0.225,\"xanchor\":\"center\",\"xref\":\"paper\",\"y\":0.6111111111111112,\"yanchor\":\"bottom\",\"yref\":\"paper\"},{\"font\":{\"size\":16},\"showarrow\":false,\"text\":\"Fisher-test\",\"x\":0.775,\"xanchor\":\"center\",\"xref\":\"paper\",\"y\":0.6111111111111112,\"yanchor\":\"bottom\",\"yref\":\"paper\"},{\"font\":{\"size\":16},\"showarrow\":false,\"text\":\"Variance Threshold\",\"x\":0.225,\"xanchor\":\"center\",\"xref\":\"paper\",\"y\":0.22222222222222224,\"yanchor\":\"bottom\",\"yref\":\"paper\"},{\"font\":{\"size\":16},\"showarrow\":false,\"text\":\"Random Forest importance\",\"x\":0.775,\"xanchor\":\"center\",\"xref\":\"paper\",\"y\":0.22222222222222224,\"yanchor\":\"bottom\",\"yref\":\"paper\"}],\"title\":{\"text\":\"Feature Selection Results\"},\"width\":900,\"height\":1200,\"showlegend\":false},                        {\"responsive\": true}                    ).then(function(){\n                            \nvar gd = document.getElementById('c44a700f-3626-459f-a8e6-ea0721d6dcf3');\nvar x = new MutationObserver(function (mutations, observer) {{\n        var display = window.getComputedStyle(gd).display;\n        if (!display || display === 'none') {{\n            console.log([gd, 'removed!']);\n            Plotly.purge(gd);\n            observer.disconnect();\n        }}\n}});\n\n// Listen for the removal of the full notebook cells\nvar notebookContainer = gd.closest('#notebook-container');\nif (notebookContainer) {{\n    x.observe(notebookContainer, {childList: true});\n}}\n\n// Listen for the clearing of the current output cell\nvar outputEl = gd.closest('.output');\nif (outputEl) {{\n    x.observe(outputEl, {childList: true});\n}}\n\n                        })                };                });            </script>        </div>"
     },
     "metadata": {},
     "output_type": "display_data"
    }
   ],
   "source": [
    "import pandas as pd\n",
    "from mypackage import methods as m\n",
    "from plotly.subplots import make_subplots\n",
    "import plotly.graph_objects as go\n",
    "\n",
    "fig = make_subplots(rows=3, cols=2, subplot_titles=(\"Pearson correlation index\", \"Spearmanr correlation coefficient\", \"Kendall tau\", \"Fisher-test\", \"Variance Threshold\", \"Random Forest importance\"))\n",
    "\n",
    "\n",
    "fig.add_trace(m.histogram_func(pd.read_csv(\"results/pearson.csv\"), \"Pearson correlation index\"), row=1, col=1)\n",
    "fig.add_trace(m.histogram_func(pd.read_csv(\"results/spearmanr.csv\"), \"Spearmanr correlation coefficient\"), row=1, col=2)\n",
    "fig.add_trace(m.histogram_func(pd.read_csv(\"results/kendall.csv\"), \"Kendall tau\"), row=2, col=1)\n",
    "fig.add_trace(m.histogram_func(pd.read_csv(\"results/fisher.csv\"), \"Fisher-test\"), row=2, col=2)\n",
    "fig.add_trace(m.histogram_func(pd.read_csv(\"results/variance_threshold.csv\"), \"Variance Threshold\"), row=3, col=1)\n",
    "fig.add_trace(m.histogram_func(pd.read_csv(\"results/RF_importance.csv\"), \"Random Forest importance\"),  row=3, col=2)\n",
    "\n",
    "# Update title and height\n",
    "fig.update_layout(title_text=\"Feature Selection Results\", width=900, height=1200, showlegend=False)\n",
    "\n",
    "fig.show()\n",
    "\n"
   ]
  }
 ],
 "metadata": {
  "kernelspec": {
   "display_name": "PyCharm (notebooks)",
   "language": "python",
   "name": "pycharm-d468b8b8"
  },
  "language_info": {
   "codemirror_mode": {
    "name": "ipython",
    "version": 3
   },
   "file_extension": ".py",
   "mimetype": "text/x-python",
   "name": "python",
   "nbconvert_exporter": "python",
   "pygments_lexer": "ipython3",
   "version": "3.9.4"
  }
 },
 "nbformat": 4,
 "nbformat_minor": 5
}