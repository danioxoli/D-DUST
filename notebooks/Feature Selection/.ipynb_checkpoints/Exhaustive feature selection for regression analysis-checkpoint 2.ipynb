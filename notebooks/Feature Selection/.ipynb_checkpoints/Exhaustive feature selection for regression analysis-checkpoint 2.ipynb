{
 "cells": [
  {
   "cell_type": "code",
   "execution_count": null,
   "id": "f2edaee5",
   "metadata": {},
   "outputs": [],
   "source": [
    "import numpy as np\n",
    "from sklearn.linear_model import LinearRegression\n",
    "from sklearn.datasets import load_boston\n",
    "from mlxtend.feature_selection import ExhaustiveFeatureSelector as EFS\n",
    "from sklearn.neighbors import KNeighborsClassifier\n",
    "from sklearn.model_selection import train_test_split\n",
    "from sklearn.datasets import load_iris\n",
    "from sklearn.ensemble import RandomForestRegressor, RandomForestClassifier\n",
    "import pandas as pd\n",
    "from sklearn import preprocessing\n",
    "from csv import reader\n",
    "\n",
    "data = pd.read_csv('table.csv')\n",
    "\n",
    "langs = ['pop', 'dusaf', 'rete_fer', 'autostrad', \n",
    "                                 'strade_pri', 'strade_sec', 'h_mean','st_ferrov',\n",
    "                                 'st_metro','int_prim','int_prim_s','int_sec','scn','dsf11',\n",
    "                                 'dsf12','dsf13','dsf14','dsf2','dsf3','dsf4','dsf5','dsfSum']\n",
    "\n",
    "\n",
    "\n",
    "X  = pd.DataFrame(data, columns = langs).to_numpy()\n",
    "y1 = pd.DataFrame(data, columns= ['FBpop_tot']).values.flatten().astype(int)\n",
    "y2 = pd.DataFrame(data, columns= ['mov_tot']).values.flatten().astype(int)\n",
    "normalized_X = preprocessing.normalize(X)\n",
    "\n",
    "lr = LinearRegression()\n",
    "\n",
    "\n",
    "efs1 = EFS(lr,\n",
    "          min_features=4,\n",
    "          max_features=6,\n",
    "          scoring='r2',\n",
    "          n_jobs = -1,\n",
    "          cv = 5 )\n",
    "\n",
    "\n",
    "# learn relationship from training data \n",
    "efs1.fit(normalized_X, y2)\n",
    "\n",
    "\n",
    "print('Best accuracy score: %.2f' % efs1.best_score_)\n",
    "print('Best subset (indices):', efs1.best_idx_)\n",
    "print('Best subset (corresponding names):')\n",
    "for i in efs1.best_idx_ :\n",
    "    print(langs[i])\n",
    "\n",
    "\n"
   ]
  },
  {
   "cell_type": "code",
   "execution_count": null,
   "id": "bccbc32a",
   "metadata": {},
   "outputs": [],
   "source": []
  },
  {
   "cell_type": "code",
   "execution_count": null,
   "id": "83daddfe",
   "metadata": {},
   "outputs": [],
   "source": []
  }
 ],
 "metadata": {
  "kernelspec": {
   "display_name": "Python 3 (ipykernel)",
   "language": "python",
   "name": "python3"
  },
  "language_info": {
   "codemirror_mode": {
    "name": "ipython",
    "version": 3
   },
   "file_extension": ".py",
   "mimetype": "text/x-python",
   "name": "python",
   "nbconvert_exporter": "python",
   "pygments_lexer": "ipython3",
   "version": "3.8.8"
  }
 },
 "nbformat": 4,
 "nbformat_minor": 5
}
