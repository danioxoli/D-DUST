{
 "cells": [
  {
   "cell_type": "markdown",
   "id": "7df1344b",
   "metadata": {},
   "source": [
    "# API Request notebook for air quality satellite data from Google Earth Engine API / geemap"
   ]
  },
  {
   "cell_type": "markdown",
   "id": "1343a732",
   "metadata": {},
   "source": [
    "This notebook is used to download data from satellite instruments such as Sentinel-5P Tropomi and Terra&Aqua MODIS."
   ]
  },
  {
   "cell_type": "markdown",
   "id": "67f665a1",
   "metadata": {},
   "source": [
    "This notebook allows access to [Google Earth Engine API](https://developers.google.com/earth-engine/datasets) using [geemap](https://geemap.org/) Python library and it requests data over the region identified by the bounding box given as input.\n",
    "It also calculates the mean value for each variable in the given week (defined in the **date.json** file)."
   ]
  },
  {
   "cell_type": "markdown",
   "id": "037aca71",
   "metadata": {},
   "source": [
    "**Sentinel-5P Tropomi** data considered in this notebook:\n",
    "1. Nitrogen Dioxide - NO2\n",
    "2. Ozone - O3\n",
    "3. Sulphur Dioxide - SO2\n",
    "4. Carbon Monoxide - CO\n",
    "5. Formaldehyde - CH2O\n",
    "6. Ultraviole Aerosol Index - UVAI\n",
    "7. Methane - CH4\n",
    "8. Aerosol Optical Depth (AOD)"
   ]
  },
  {
   "cell_type": "markdown",
   "id": "1917adf9",
   "metadata": {},
   "source": [
    "**Terra & Aqua MODIS** data considered in this notebook:\n",
    "1. Aerosol Optical Depth (AOD) 550 nm \n",
    "2. Aerosol Optical Depth (AOD) 470 nm "
   ]
  },
  {
   "cell_type": "markdown",
   "id": "44feb4dc",
   "metadata": {},
   "source": [
    "Two additional datasets are also downloaded in the last part of the notebook:\n",
    "1. NDVI 16-Days Global\n",
    "2. Soil Type OpenLandMap USDA"
   ]
  },
  {
   "cell_type": "markdown",
   "id": "427ec1a4",
   "metadata": {},
   "source": [
    "### Documentation"
   ]
  },
  {
   "cell_type": "markdown",
   "id": "ba94fea2",
   "metadata": {},
   "source": [
    "Reference material and datasets:\n",
    "1. Sentinel-5P products: https://sentinels.copernicus.eu/web/sentinel/data-products\n",
    "2. Terra & Aqua MODIS: https://modis.gsfc.nasa.gov/about/\n",
    "3. geemap site and documentation: https://geemap.org/\n",
    "4. geemap GitHub repository: https://github.com/giswqs/geemap\n",
    "5. Google Earth Engine catalog: https://developers.google.com/earth-engine/datasets\n",
    "\n",
    "Each paragraph links to the specific resource used in this notebook."
   ]
  },
  {
   "cell_type": "markdown",
   "id": "dd30dcd6",
   "metadata": {},
   "source": [
    "### Import libraries"
   ]
  },
  {
   "cell_type": "code",
   "execution_count": 8,
   "id": "775426b5",
   "metadata": {},
   "outputs": [],
   "source": [
    "import ee\n",
    "import geemap\n",
    "import os\n",
    "import geopandas as gpd\n",
    "import json\n",
    "import ipywidgets as widgets\n",
    "import datetime\n",
    "# Import functions defined for DDUST project:\n",
    "from functions import my_methods"
   ]
  },
  {
   "cell_type": "markdown",
   "id": "b5aa9781",
   "metadata": {},
   "source": [
    "### Authentication\n",
    "A Google account is required to be able to log in and provide the requested URL:"
   ]
  },
  {
   "cell_type": "code",
   "execution_count": 9,
   "id": "d9725309",
   "metadata": {},
   "outputs": [
    {
     "data": {
      "text/html": [
       "<p>To authorize access needed by Earth Engine, open the following\n",
       "        URL in a web browser and follow the instructions:</p>\n",
       "        <p><a href=https://accounts.google.com/o/oauth2/auth?client_id=517222506229-vsmmajv00ul0bs7p89v5m89qs8eb9359.apps.googleusercontent.com&scope=https%3A%2F%2Fwww.googleapis.com%2Fauth%2Fearthengine+https%3A%2F%2Fwww.googleapis.com%2Fauth%2Fdevstorage.full_control&redirect_uri=urn%3Aietf%3Awg%3Aoauth%3A2.0%3Aoob&response_type=code&code_challenge=ZIqkMyO0Nywt2h6V-Y-9QDj3P9OqRB23YljBAl8Q5_c&code_challenge_method=S256>https://accounts.google.com/o/oauth2/auth?client_id=517222506229-vsmmajv00ul0bs7p89v5m89qs8eb9359.apps.googleusercontent.com&scope=https%3A%2F%2Fwww.googleapis.com%2Fauth%2Fearthengine+https%3A%2F%2Fwww.googleapis.com%2Fauth%2Fdevstorage.full_control&redirect_uri=urn%3Aietf%3Awg%3Aoauth%3A2.0%3Aoob&response_type=code&code_challenge=ZIqkMyO0Nywt2h6V-Y-9QDj3P9OqRB23YljBAl8Q5_c&code_challenge_method=S256</a></p>\n",
       "        <p>The authorization workflow will generate a code, which you\n",
       "        should paste in the box below</p>\n",
       "        "
      ],
      "text/plain": [
       "<IPython.core.display.HTML object>"
      ]
     },
     "metadata": {},
     "output_type": "display_data"
    },
    {
     "name": "stdin",
     "output_type": "stream",
     "text": [
      "Enter verification code:  4/1AX4XfWhimVGkC4NBSsseknxbVWT32QsykZTOMA6Xk6ak1xHB5ibq_1MUXbo\n"
     ]
    },
    {
     "name": "stdout",
     "output_type": "stream",
     "text": [
      "\n",
      "Successfully saved authorization token.\n"
     ]
    }
   ],
   "source": [
    "ee.Authenticate()"
   ]
  },
  {
   "cell_type": "code",
   "execution_count": 10,
   "id": "1131cce5",
   "metadata": {},
   "outputs": [],
   "source": [
    "ee.Initialize()"
   ]
  },
  {
   "cell_type": "code",
   "execution_count": 11,
   "id": "f6d71feb",
   "metadata": {},
   "outputs": [],
   "source": [
    "# Set current working directory\n",
    "cwd = os.getcwd()"
   ]
  },
  {
   "cell_type": "markdown",
   "id": "57610d76",
   "metadata": {
    "tags": []
   },
   "source": [
    "### Bounding Box selection\n",
    "The bounding box for the project is given as input and it's used as Region of Interest (roi) for the following calculations:"
   ]
  },
  {
   "cell_type": "code",
   "execution_count": 12,
   "id": "3db8c045",
   "metadata": {},
   "outputs": [],
   "source": [
    "area_path = cwd + '/grid/grid_cams.gpkg'\n",
    "area = gpd.read_file(area_path).to_crs(4326)\n",
    "bounds = area.total_bounds\n",
    "roi = ee.Geometry.BBox(bounds[0],bounds[1],bounds[2],bounds[3])"
   ]
  },
  {
   "cell_type": "markdown",
   "id": "d47f19d7",
   "metadata": {
    "tags": []
   },
   "source": [
    "### Date selection\n",
    "The date is provided with the following order (yyyy-mm-dd). They are stored in the **date.json** file:"
   ]
  },
  {
   "cell_type": "code",
   "execution_count": 13,
   "id": "ae7e2a70",
   "metadata": {},
   "outputs": [],
   "source": [
    "d = open('date.json')\n",
    "date = json.load(d)\n",
    "year = date['year']\n",
    "mais_week = date['mais_week']\n",
    "rice_week = date['rice_week']\n",
    "cereal_week = date['cereal_week']\n",
    "custom_week = date['custom_week']"
   ]
  },
  {
   "cell_type": "code",
   "execution_count": 14,
   "id": "fb459cef",
   "metadata": {},
   "outputs": [
    {
     "name": "stderr",
     "output_type": "stream",
     "text": [
      "C:\\Users\\Administrator\\anaconda3\\envs\\ddust\\lib\\site-packages\\plotly_calplot\\calplot.py:262: UserWarning:\n",
      "\n",
      "Parsing '31-12-2021' in DD/MM/YYYY format. Provide format or specify infer_datetime_format=True for consistent parsing.\n",
      "\n"
     ]
    },
    {
     "data": {
      "application/vnd.plotly.v1+json": {
       "config": {
        "plotlyServerURL": "https://plot.ly"
       },
       "data": [
        {
         "colorscale": [
          [
           0,
           "rgb(247,252,245)"
          ],
          [
           0.125,
           "rgb(229,245,224)"
          ],
          [
           0.25,
           "rgb(199,233,192)"
          ],
          [
           0.375,
           "rgb(161,217,155)"
          ],
          [
           0.5,
           "rgb(116,196,118)"
          ],
          [
           0.625,
           "rgb(65,171,93)"
          ],
          [
           0.75,
           "rgb(35,139,69)"
          ],
          [
           0.875,
           "rgb(0,109,44)"
          ],
          [
           1,
           "rgb(0,68,27)"
          ]
         ],
         "customdata": [
          [
           "2021-01-01",
           "y"
          ],
          [
           "2021-01-02",
           "y"
          ],
          [
           "2021-01-03",
           "y"
          ],
          [
           "2021-01-04",
           "y"
          ],
          [
           "2021-01-05",
           "y"
          ],
          [
           "2021-01-06",
           "y"
          ],
          [
           "2021-01-07",
           "y"
          ],
          [
           "2021-01-08",
           "y"
          ],
          [
           "2021-01-09",
           "y"
          ],
          [
           "2021-01-10",
           "y"
          ],
          [
           "2021-01-11",
           "y"
          ],
          [
           "2021-01-12",
           "y"
          ],
          [
           "2021-01-13",
           "y"
          ],
          [
           "2021-01-14",
           "y"
          ],
          [
           "2021-01-15",
           "y"
          ],
          [
           "2021-01-16",
           "y"
          ],
          [
           "2021-01-17",
           "y"
          ],
          [
           "2021-01-18",
           "y"
          ],
          [
           "2021-01-19",
           "y"
          ],
          [
           "2021-01-20",
           "y"
          ],
          [
           "2021-01-21",
           "y"
          ],
          [
           "2021-01-22",
           "y"
          ],
          [
           "2021-01-23",
           "y"
          ],
          [
           "2021-01-24",
           "y"
          ],
          [
           "2021-01-25",
           "y"
          ],
          [
           "2021-01-26",
           "y"
          ],
          [
           "2021-01-27",
           "y"
          ],
          [
           "2021-01-28",
           "y"
          ],
          [
           "2021-01-29",
           "y"
          ],
          [
           "2021-01-30",
           "y"
          ],
          [
           "2021-01-31",
           "y"
          ],
          [
           "2021-02-01",
           "y"
          ],
          [
           "2021-02-02",
           "y"
          ],
          [
           "2021-02-03",
           "y"
          ],
          [
           "2021-02-04",
           "y"
          ],
          [
           "2021-02-05",
           "y"
          ],
          [
           "2021-02-06",
           "y"
          ],
          [
           "2021-02-07",
           "y"
          ],
          [
           "2021-02-08",
           "y"
          ],
          [
           "2021-02-09",
           "y"
          ],
          [
           "2021-02-10",
           "y"
          ],
          [
           "2021-02-11",
           "y"
          ],
          [
           "2021-02-12",
           "y"
          ],
          [
           "2021-02-13",
           "y"
          ],
          [
           "2021-02-14",
           "y"
          ],
          [
           "2021-02-15",
           "y"
          ],
          [
           "2021-02-16",
           "y"
          ],
          [
           "2021-02-17",
           "y"
          ],
          [
           "2021-02-18",
           "y"
          ],
          [
           "2021-02-19",
           "y"
          ],
          [
           "2021-02-20",
           "y"
          ],
          [
           "2021-02-21",
           "y"
          ],
          [
           "2021-02-22",
           "y"
          ],
          [
           "2021-02-23",
           "y"
          ],
          [
           "2021-02-24",
           "y"
          ],
          [
           "2021-02-25",
           "y"
          ],
          [
           "2021-02-26",
           "y"
          ],
          [
           "2021-02-27",
           "y"
          ],
          [
           "2021-02-28",
           "y"
          ],
          [
           "2021-03-01",
           "y"
          ],
          [
           "2021-03-02",
           "y"
          ],
          [
           "2021-03-03",
           "y"
          ],
          [
           "2021-03-04",
           "y"
          ],
          [
           "2021-03-05",
           "y"
          ],
          [
           "2021-03-06",
           "y"
          ],
          [
           "2021-03-07",
           "y"
          ],
          [
           "2021-03-08",
           "y"
          ],
          [
           "2021-03-09",
           "y"
          ],
          [
           "2021-03-10",
           "y"
          ],
          [
           "2021-03-11",
           "y"
          ],
          [
           "2021-03-12",
           "y"
          ],
          [
           "2021-03-13",
           "y"
          ],
          [
           "2021-03-14",
           "y"
          ],
          [
           "2021-03-15",
           "y"
          ],
          [
           "2021-03-16",
           "y"
          ],
          [
           "2021-03-17",
           "y"
          ],
          [
           "2021-03-18",
           "y"
          ],
          [
           "2021-03-19",
           "y"
          ],
          [
           "2021-03-20",
           "y"
          ],
          [
           "2021-03-21",
           "y"
          ],
          [
           "2021-03-22",
           "y"
          ],
          [
           "2021-03-23",
           "y"
          ],
          [
           "2021-03-24",
           "y"
          ],
          [
           "2021-03-25",
           "y"
          ],
          [
           "2021-03-26",
           "y"
          ],
          [
           "2021-03-27",
           "y"
          ],
          [
           "2021-03-28",
           "y"
          ],
          [
           "2021-03-29",
           "y"
          ],
          [
           "2021-03-30",
           "y"
          ],
          [
           "2021-03-31",
           "y"
          ],
          [
           "2021-04-01",
           "y"
          ],
          [
           "2021-04-02",
           "y"
          ],
          [
           "2021-04-03",
           "y"
          ],
          [
           "2021-04-04",
           "y"
          ],
          [
           "2021-04-05",
           "y"
          ],
          [
           "2021-04-06",
           "y"
          ],
          [
           "2021-04-07",
           "y"
          ],
          [
           "2021-04-08",
           "y"
          ],
          [
           "2021-04-09",
           "y"
          ],
          [
           "2021-04-10",
           "y"
          ],
          [
           "2021-04-11",
           "y"
          ],
          [
           "2021-04-12",
           "y"
          ],
          [
           "2021-04-13",
           "y"
          ],
          [
           "2021-04-14",
           "y"
          ],
          [
           "2021-04-15",
           "y"
          ],
          [
           "2021-04-16",
           "y"
          ],
          [
           "2021-04-17",
           "y"
          ],
          [
           "2021-04-18",
           "y"
          ],
          [
           "2021-04-19",
           "y"
          ],
          [
           "2021-04-20",
           "y"
          ],
          [
           "2021-04-21",
           "y"
          ],
          [
           "2021-04-22",
           "y"
          ],
          [
           "2021-04-23",
           "y"
          ],
          [
           "2021-04-24",
           "y"
          ],
          [
           "2021-04-25",
           "y"
          ],
          [
           "2021-04-26",
           "y"
          ],
          [
           "2021-04-27",
           "y"
          ],
          [
           "2021-04-28",
           "y"
          ],
          [
           "2021-04-29",
           "y"
          ],
          [
           "2021-04-30",
           "y"
          ],
          [
           "2021-05-01",
           "y"
          ],
          [
           "2021-05-02",
           "y"
          ],
          [
           "2021-05-03",
           "y"
          ],
          [
           "2021-05-04",
           "y"
          ],
          [
           "2021-05-05",
           "y"
          ],
          [
           "2021-05-06",
           "y"
          ],
          [
           "2021-05-07",
           "y"
          ],
          [
           "2021-05-08",
           "y"
          ],
          [
           "2021-05-09",
           "y"
          ],
          [
           "2021-05-10",
           "y"
          ],
          [
           "2021-05-11",
           "y"
          ],
          [
           "2021-05-12",
           "y"
          ],
          [
           "2021-05-13",
           "y"
          ],
          [
           "2021-05-14",
           "y"
          ],
          [
           "2021-05-15",
           "y"
          ],
          [
           "2021-05-16",
           "y"
          ],
          [
           "2021-05-17",
           "y"
          ],
          [
           "2021-05-18",
           "y"
          ],
          [
           "2021-05-19",
           "y"
          ],
          [
           "2021-05-20",
           "y"
          ],
          [
           "2021-05-21",
           "y"
          ],
          [
           "2021-05-22",
           "y"
          ],
          [
           "2021-05-23",
           "y"
          ],
          [
           "2021-05-24",
           "y"
          ],
          [
           "2021-05-25",
           "y"
          ],
          [
           "2021-05-26",
           "y"
          ],
          [
           "2021-05-27",
           "y"
          ],
          [
           "2021-05-28",
           "y"
          ],
          [
           "2021-05-29",
           "y"
          ],
          [
           "2021-05-30",
           "y"
          ],
          [
           "2021-05-31",
           "y"
          ],
          [
           "2021-06-01",
           "y"
          ],
          [
           "2021-06-02",
           "y"
          ],
          [
           "2021-06-03",
           "y"
          ],
          [
           "2021-06-04",
           "y"
          ],
          [
           "2021-06-05",
           "y"
          ],
          [
           "2021-06-06",
           "y"
          ],
          [
           "2021-06-07",
           "y"
          ],
          [
           "2021-06-08",
           "y"
          ],
          [
           "2021-06-09",
           "y"
          ],
          [
           "2021-06-10",
           "y"
          ],
          [
           "2021-06-11",
           "y"
          ],
          [
           "2021-06-12",
           "y"
          ],
          [
           "2021-06-13",
           "y"
          ],
          [
           "2021-06-14",
           "y"
          ],
          [
           "2021-06-15",
           "y"
          ],
          [
           "2021-06-16",
           "y"
          ],
          [
           "2021-06-17",
           "y"
          ],
          [
           "2021-06-18",
           "y"
          ],
          [
           "2021-06-19",
           "y"
          ],
          [
           "2021-06-20",
           "y"
          ],
          [
           "2021-06-21",
           "y"
          ],
          [
           "2021-06-22",
           "y"
          ],
          [
           "2021-06-23",
           "y"
          ],
          [
           "2021-06-24",
           "y"
          ],
          [
           "2021-06-25",
           "y"
          ],
          [
           "2021-06-26",
           "y"
          ],
          [
           "2021-06-27",
           "y"
          ],
          [
           "2021-06-28",
           "y"
          ],
          [
           "2021-06-29",
           "y"
          ],
          [
           "2021-06-30",
           "y"
          ],
          [
           "2021-07-01",
           "y"
          ],
          [
           "2021-07-02",
           "y"
          ],
          [
           "2021-07-03",
           "y"
          ],
          [
           "2021-07-04",
           "y"
          ],
          [
           "2021-07-05",
           "y"
          ],
          [
           "2021-07-06",
           "y"
          ],
          [
           "2021-07-07",
           "y"
          ],
          [
           "2021-07-08",
           "y"
          ],
          [
           "2021-07-09",
           "y"
          ],
          [
           "2021-07-10",
           "y"
          ],
          [
           "2021-07-11",
           "y"
          ],
          [
           "2021-07-12",
           "y"
          ],
          [
           "2021-07-13",
           "y"
          ],
          [
           "2021-07-14",
           "y"
          ],
          [
           "2021-07-15",
           "y"
          ],
          [
           "2021-07-16",
           "y"
          ],
          [
           "2021-07-17",
           "y"
          ],
          [
           "2021-07-18",
           "y"
          ],
          [
           "2021-07-19",
           "y"
          ],
          [
           "2021-07-20",
           "y"
          ],
          [
           "2021-07-21",
           "y"
          ],
          [
           "2021-07-22",
           "y"
          ],
          [
           "2021-07-23",
           "y"
          ],
          [
           "2021-07-24",
           "y"
          ],
          [
           "2021-07-25",
           "y"
          ],
          [
           "2021-07-26",
           "y"
          ],
          [
           "2021-07-27",
           "y"
          ],
          [
           "2021-07-28",
           "y"
          ],
          [
           "2021-07-29",
           "y"
          ],
          [
           "2021-07-30",
           "y"
          ],
          [
           "2021-07-31",
           "y"
          ],
          [
           "2021-08-01",
           "y"
          ],
          [
           "2021-08-02",
           "y"
          ],
          [
           "2021-08-03",
           "y"
          ],
          [
           "2021-08-04",
           "y"
          ],
          [
           "2021-08-05",
           "y"
          ],
          [
           "2021-08-06",
           "y"
          ],
          [
           "2021-08-07",
           "y"
          ],
          [
           "2021-08-08",
           "y"
          ],
          [
           "2021-08-09",
           "y"
          ],
          [
           "2021-08-10",
           "y"
          ],
          [
           "2021-08-11",
           "y"
          ],
          [
           "2021-08-12",
           "y"
          ],
          [
           "2021-08-13",
           "y"
          ],
          [
           "2021-08-14",
           "y"
          ],
          [
           "2021-08-15",
           "y"
          ],
          [
           "2021-08-16",
           "y"
          ],
          [
           "2021-08-17",
           "y"
          ],
          [
           "2021-08-18",
           "y"
          ],
          [
           "2021-08-19",
           "y"
          ],
          [
           "2021-08-20",
           "y"
          ],
          [
           "2021-08-21",
           "y"
          ],
          [
           "2021-08-22",
           "y"
          ],
          [
           "2021-08-23",
           "y"
          ],
          [
           "2021-08-24",
           "y"
          ],
          [
           "2021-08-25",
           "y"
          ],
          [
           "2021-08-26",
           "y"
          ],
          [
           "2021-08-27",
           "y"
          ],
          [
           "2021-08-28",
           "y"
          ],
          [
           "2021-08-29",
           "y"
          ],
          [
           "2021-08-30",
           "y"
          ],
          [
           "2021-08-31",
           "y"
          ],
          [
           "2021-09-01",
           "y"
          ],
          [
           "2021-09-02",
           "y"
          ],
          [
           "2021-09-03",
           "y"
          ],
          [
           "2021-09-04",
           "y"
          ],
          [
           "2021-09-05",
           "y"
          ],
          [
           "2021-09-06",
           "y"
          ],
          [
           "2021-09-07",
           "y"
          ],
          [
           "2021-09-08",
           "y"
          ],
          [
           "2021-09-09",
           "y"
          ],
          [
           "2021-09-10",
           "y"
          ],
          [
           "2021-09-11",
           "y"
          ],
          [
           "2021-09-12",
           "y"
          ],
          [
           "2021-09-13",
           "y"
          ],
          [
           "2021-09-14",
           "y"
          ],
          [
           "2021-09-15",
           "y"
          ],
          [
           "2021-09-16",
           "y"
          ],
          [
           "2021-09-17",
           "y"
          ],
          [
           "2021-09-18",
           "y"
          ],
          [
           "2021-09-19",
           "y"
          ],
          [
           "2021-09-20",
           "y"
          ],
          [
           "2021-09-21",
           "y"
          ],
          [
           "2021-09-22",
           "y"
          ],
          [
           "2021-09-23",
           "y"
          ],
          [
           "2021-09-24",
           "y"
          ],
          [
           "2021-09-25",
           "y"
          ],
          [
           "2021-09-26",
           "y"
          ],
          [
           "2021-09-27",
           "y"
          ],
          [
           "2021-09-28",
           "y"
          ],
          [
           "2021-09-29",
           "y"
          ],
          [
           "2021-09-30",
           "y"
          ],
          [
           "2021-10-01",
           "y"
          ],
          [
           "2021-10-02",
           "y"
          ],
          [
           "2021-10-03",
           "y"
          ],
          [
           "2021-10-04",
           "y"
          ],
          [
           "2021-10-05",
           "y"
          ],
          [
           "2021-10-06",
           "y"
          ],
          [
           "2021-10-07",
           "y"
          ],
          [
           "2021-10-08",
           "y"
          ],
          [
           "2021-10-09",
           "y"
          ],
          [
           "2021-10-10",
           "y"
          ],
          [
           "2021-10-11",
           "y"
          ],
          [
           "2021-10-12",
           "y"
          ],
          [
           "2021-10-13",
           "y"
          ],
          [
           "2021-10-14",
           "y"
          ],
          [
           "2021-10-15",
           "y"
          ],
          [
           "2021-10-16",
           "y"
          ],
          [
           "2021-10-17",
           "y"
          ],
          [
           "2021-10-18",
           "y"
          ],
          [
           "2021-10-19",
           "y"
          ],
          [
           "2021-10-20",
           "y"
          ],
          [
           "2021-10-21",
           "y"
          ],
          [
           "2021-10-22",
           "y"
          ],
          [
           "2021-10-23",
           "y"
          ],
          [
           "2021-10-24",
           "y"
          ],
          [
           "2021-10-25",
           "y"
          ],
          [
           "2021-10-26",
           "y"
          ],
          [
           "2021-10-27",
           "y"
          ],
          [
           "2021-10-28",
           "y"
          ],
          [
           "2021-10-29",
           "y"
          ],
          [
           "2021-10-30",
           "y"
          ],
          [
           "2021-10-31",
           "y"
          ],
          [
           "2021-11-01",
           "y"
          ],
          [
           "2021-11-02",
           "y"
          ],
          [
           "2021-11-03",
           "y"
          ],
          [
           "2021-11-04",
           "y"
          ],
          [
           "2021-11-05",
           "y"
          ],
          [
           "2021-11-06",
           "y"
          ],
          [
           "2021-11-07",
           "y"
          ],
          [
           "2021-11-08",
           "y"
          ],
          [
           "2021-11-09",
           "y"
          ],
          [
           "2021-11-10",
           "y"
          ],
          [
           "2021-11-11",
           "y"
          ],
          [
           "2021-11-12",
           "y"
          ],
          [
           "2021-11-13",
           "y"
          ],
          [
           "2021-11-14",
           "y"
          ],
          [
           "2021-11-15",
           "y"
          ],
          [
           "2021-11-16",
           "y"
          ],
          [
           "2021-11-17",
           "y"
          ],
          [
           "2021-11-18",
           "y"
          ],
          [
           "2021-11-19",
           "y"
          ],
          [
           "2021-11-20",
           "y"
          ],
          [
           "2021-11-21",
           "y"
          ],
          [
           "2021-11-22",
           "y"
          ],
          [
           "2021-11-23",
           "y"
          ],
          [
           "2021-11-24",
           "y"
          ],
          [
           "2021-11-25",
           "y"
          ],
          [
           "2021-11-26",
           "y"
          ],
          [
           "2021-11-27",
           "y"
          ],
          [
           "2021-11-28",
           "y"
          ],
          [
           "2021-11-29",
           "y"
          ],
          [
           "2021-11-30",
           "y"
          ],
          [
           "2021-12-01",
           "y"
          ],
          [
           "2021-12-02",
           "y"
          ],
          [
           "2021-12-03",
           "y"
          ],
          [
           "2021-12-04",
           "y"
          ],
          [
           "2021-12-05",
           "y"
          ],
          [
           "2021-12-06",
           "y"
          ],
          [
           "2021-12-07",
           "y"
          ],
          [
           "2021-12-08",
           "y"
          ],
          [
           "2021-12-09",
           "y"
          ],
          [
           "2021-12-10",
           "y"
          ],
          [
           "2021-12-11",
           "y"
          ],
          [
           "2021-12-12",
           "y"
          ],
          [
           "2021-12-13",
           "y"
          ],
          [
           "2021-12-14",
           "y"
          ],
          [
           "2021-12-15",
           "y"
          ],
          [
           "2021-12-16",
           "y"
          ],
          [
           "2021-12-17",
           "y"
          ],
          [
           "2021-12-18",
           "y"
          ],
          [
           "2021-12-19",
           "y"
          ],
          [
           "2021-12-20",
           "y"
          ],
          [
           "2021-12-21",
           "y"
          ],
          [
           "2021-12-22",
           "y"
          ],
          [
           "2021-12-23",
           "y"
          ],
          [
           "2021-12-24",
           "y"
          ],
          [
           "2021-12-25",
           "y"
          ],
          [
           "2021-12-26",
           "y"
          ],
          [
           "2021-12-27",
           "y"
          ],
          [
           "2021-12-28",
           "y"
          ],
          [
           "2021-12-29",
           "y"
          ],
          [
           "2021-12-30",
           "y"
          ],
          [
           "2021-12-31",
           "y"
          ]
         ],
         "hovertemplate": "%{customdata[0]} <br>%{customdata[1]}=%{z} <br>Week=%{x}",
         "name": "2021",
         "showscale": false,
         "type": "heatmap",
         "x": [
          0,
          0,
          0,
          1,
          1,
          1,
          1,
          1,
          1,
          1,
          2,
          2,
          2,
          2,
          2,
          2,
          2,
          3,
          3,
          3,
          3,
          3,
          3,
          3,
          4,
          4,
          4,
          4,
          4,
          4,
          4,
          5,
          5,
          5,
          5,
          5,
          5,
          5,
          6,
          6,
          6,
          6,
          6,
          6,
          6,
          7,
          7,
          7,
          7,
          7,
          7,
          7,
          8,
          8,
          8,
          8,
          8,
          8,
          8,
          9,
          9,
          9,
          9,
          9,
          9,
          9,
          10,
          10,
          10,
          10,
          10,
          10,
          10,
          11,
          11,
          11,
          11,
          11,
          11,
          11,
          12,
          12,
          12,
          12,
          12,
          12,
          12,
          13,
          13,
          13,
          13,
          13,
          13,
          13,
          14,
          14,
          14,
          14,
          14,
          14,
          14,
          15,
          15,
          15,
          15,
          15,
          15,
          15,
          16,
          16,
          16,
          16,
          16,
          16,
          16,
          17,
          17,
          17,
          17,
          17,
          17,
          17,
          18,
          18,
          18,
          18,
          18,
          18,
          18,
          19,
          19,
          19,
          19,
          19,
          19,
          19,
          20,
          20,
          20,
          20,
          20,
          20,
          20,
          21,
          21,
          21,
          21,
          21,
          21,
          21,
          22,
          22,
          22,
          22,
          22,
          22,
          22,
          23,
          23,
          23,
          23,
          23,
          23,
          23,
          24,
          24,
          24,
          24,
          24,
          24,
          24,
          25,
          25,
          25,
          25,
          25,
          25,
          25,
          26,
          26,
          26,
          26,
          26,
          26,
          26,
          27,
          27,
          27,
          27,
          27,
          27,
          27,
          28,
          28,
          28,
          28,
          28,
          28,
          28,
          29,
          29,
          29,
          29,
          29,
          29,
          29,
          30,
          30,
          30,
          30,
          30,
          30,
          30,
          31,
          31,
          31,
          31,
          31,
          31,
          31,
          32,
          32,
          32,
          32,
          32,
          32,
          32,
          33,
          33,
          33,
          33,
          33,
          33,
          33,
          34,
          34,
          34,
          34,
          34,
          34,
          34,
          35,
          35,
          35,
          35,
          35,
          35,
          35,
          36,
          36,
          36,
          36,
          36,
          36,
          36,
          37,
          37,
          37,
          37,
          37,
          37,
          37,
          38,
          38,
          38,
          38,
          38,
          38,
          38,
          39,
          39,
          39,
          39,
          39,
          39,
          39,
          40,
          40,
          40,
          40,
          40,
          40,
          40,
          41,
          41,
          41,
          41,
          41,
          41,
          41,
          42,
          42,
          42,
          42,
          42,
          42,
          42,
          43,
          43,
          43,
          43,
          43,
          43,
          43,
          44,
          44,
          44,
          44,
          44,
          44,
          44,
          45,
          45,
          45,
          45,
          45,
          45,
          45,
          46,
          46,
          46,
          46,
          46,
          46,
          46,
          47,
          47,
          47,
          47,
          47,
          47,
          47,
          48,
          48,
          48,
          48,
          48,
          48,
          48,
          49,
          49,
          49,
          49,
          49,
          49,
          49,
          50,
          50,
          50,
          50,
          50,
          50,
          50,
          51,
          51,
          51,
          51,
          51,
          51,
          51,
          52,
          52,
          52,
          52,
          52
         ],
         "xaxis": "x",
         "xgap": 1,
         "y": [
          4,
          5,
          6,
          0,
          1,
          2,
          3,
          4,
          5,
          6,
          0,
          1,
          2,
          3,
          4,
          5,
          6,
          0,
          1,
          2,
          3,
          4,
          5,
          6,
          0,
          1,
          2,
          3,
          4,
          5,
          6,
          0,
          1,
          2,
          3,
          4,
          5,
          6,
          0,
          1,
          2,
          3,
          4,
          5,
          6,
          0,
          1,
          2,
          3,
          4,
          5,
          6,
          0,
          1,
          2,
          3,
          4,
          5,
          6,
          0,
          1,
          2,
          3,
          4,
          5,
          6,
          0,
          1,
          2,
          3,
          4,
          5,
          6,
          0,
          1,
          2,
          3,
          4,
          5,
          6,
          0,
          1,
          2,
          3,
          4,
          5,
          6,
          0,
          1,
          2,
          3,
          4,
          5,
          6,
          0,
          1,
          2,
          3,
          4,
          5,
          6,
          0,
          1,
          2,
          3,
          4,
          5,
          6,
          0,
          1,
          2,
          3,
          4,
          5,
          6,
          0,
          1,
          2,
          3,
          4,
          5,
          6,
          0,
          1,
          2,
          3,
          4,
          5,
          6,
          0,
          1,
          2,
          3,
          4,
          5,
          6,
          0,
          1,
          2,
          3,
          4,
          5,
          6,
          0,
          1,
          2,
          3,
          4,
          5,
          6,
          0,
          1,
          2,
          3,
          4,
          5,
          6,
          0,
          1,
          2,
          3,
          4,
          5,
          6,
          0,
          1,
          2,
          3,
          4,
          5,
          6,
          0,
          1,
          2,
          3,
          4,
          5,
          6,
          0,
          1,
          2,
          3,
          4,
          5,
          6,
          0,
          1,
          2,
          3,
          4,
          5,
          6,
          0,
          1,
          2,
          3,
          4,
          5,
          6,
          0,
          1,
          2,
          3,
          4,
          5,
          6,
          0,
          1,
          2,
          3,
          4,
          5,
          6,
          0,
          1,
          2,
          3,
          4,
          5,
          6,
          0,
          1,
          2,
          3,
          4,
          5,
          6,
          0,
          1,
          2,
          3,
          4,
          5,
          6,
          0,
          1,
          2,
          3,
          4,
          5,
          6,
          0,
          1,
          2,
          3,
          4,
          5,
          6,
          0,
          1,
          2,
          3,
          4,
          5,
          6,
          0,
          1,
          2,
          3,
          4,
          5,
          6,
          0,
          1,
          2,
          3,
          4,
          5,
          6,
          0,
          1,
          2,
          3,
          4,
          5,
          6,
          0,
          1,
          2,
          3,
          4,
          5,
          6,
          0,
          1,
          2,
          3,
          4,
          5,
          6,
          0,
          1,
          2,
          3,
          4,
          5,
          6,
          0,
          1,
          2,
          3,
          4,
          5,
          6,
          0,
          1,
          2,
          3,
          4,
          5,
          6,
          0,
          1,
          2,
          3,
          4,
          5,
          6,
          0,
          1,
          2,
          3,
          4,
          5,
          6,
          0,
          1,
          2,
          3,
          4,
          5,
          6,
          0,
          1,
          2,
          3,
          4,
          5,
          6,
          0,
          1,
          2,
          3,
          4,
          5,
          6,
          0,
          1,
          2,
          3,
          4,
          5,
          6,
          0,
          1,
          2,
          3,
          4,
          5,
          6,
          0,
          1,
          2,
          3,
          4
         ],
         "yaxis": "y",
         "ygap": 1,
         "z": [
          0,
          0,
          0,
          0,
          0,
          0,
          0,
          0,
          0,
          0,
          0,
          0,
          0,
          0,
          0,
          0,
          0,
          0,
          0,
          0,
          0,
          0,
          0,
          0,
          0,
          0,
          0,
          0,
          0,
          0,
          0,
          0,
          0,
          0,
          0,
          0,
          0,
          0,
          0,
          0,
          0,
          0,
          0,
          0,
          0,
          0,
          0,
          0,
          0,
          0,
          0,
          0,
          0,
          0,
          0,
          0,
          0,
          0,
          0,
          0,
          0,
          0,
          0,
          0,
          0,
          0,
          0,
          0,
          1,
          1,
          1,
          1,
          1,
          1,
          1,
          1,
          0,
          0,
          0,
          0,
          0,
          0,
          0,
          0,
          0,
          0,
          0,
          0,
          0,
          0,
          0,
          0,
          0,
          0,
          0,
          0,
          0,
          0,
          0,
          1,
          1,
          1,
          1,
          1,
          1,
          1,
          1,
          0,
          0,
          0,
          0,
          0,
          0,
          0,
          0,
          0,
          0,
          0,
          0,
          0,
          0,
          0,
          0,
          0,
          0,
          0,
          0,
          0,
          0,
          0,
          0,
          0,
          0,
          0,
          0,
          0,
          0,
          0,
          0,
          0,
          0,
          0,
          0,
          0,
          0,
          0,
          0,
          0,
          0,
          0,
          0,
          0,
          0,
          0,
          0,
          0,
          0,
          0,
          0,
          0,
          1,
          1,
          1,
          1,
          1,
          1,
          1,
          1,
          0,
          0,
          0,
          0,
          0,
          0,
          0,
          0,
          0,
          0,
          0,
          0,
          0,
          0,
          0,
          0,
          0,
          0,
          0,
          0,
          0,
          0,
          0,
          0,
          0,
          0,
          0,
          0,
          0,
          0,
          0,
          0,
          0,
          0,
          0,
          0,
          0,
          0,
          0,
          0,
          0,
          0,
          0,
          0,
          0,
          0,
          0,
          0,
          0,
          0,
          0,
          0,
          0,
          0,
          0,
          0,
          0,
          0,
          0,
          0,
          0,
          0,
          0,
          0,
          0,
          0,
          0,
          0,
          0,
          0,
          0,
          0,
          0,
          0,
          0,
          0,
          0,
          0,
          0,
          0,
          0,
          0,
          0,
          0,
          0,
          0,
          0,
          0,
          0,
          0,
          0,
          0,
          0,
          0,
          0,
          0,
          0,
          0,
          0,
          0,
          0,
          0,
          0,
          0,
          0,
          0,
          0,
          0,
          0,
          0,
          0,
          0,
          0,
          0,
          1,
          1,
          1,
          1,
          1,
          1,
          1,
          1,
          0,
          0,
          0,
          0,
          0,
          0,
          0,
          0,
          0,
          0,
          0,
          0,
          0,
          0,
          0,
          0,
          0,
          0,
          0,
          0,
          0,
          0,
          0,
          0,
          0,
          0,
          0,
          0,
          0,
          0,
          0,
          0,
          0,
          0,
          0,
          0,
          0,
          0,
          0,
          0,
          0,
          0,
          0,
          0,
          0,
          0,
          0,
          0,
          0,
          0,
          0,
          0,
          0,
          0,
          0,
          0,
          0,
          0,
          0,
          0,
          0,
          0,
          0,
          0,
          0,
          0,
          0,
          0,
          0,
          0,
          0,
          0,
          0,
          0,
          0
         ]
        },
        {
         "hoverinfo": "skip",
         "line": {
          "color": "#9e9e9e",
          "width": 1
         },
         "mode": "lines",
         "type": "scatter",
         "x": [
          -0.5,
          -0.5
         ],
         "xaxis": "x",
         "y": [
          3.5,
          6.5
         ],
         "yaxis": "y"
        },
        {
         "hoverinfo": "skip",
         "line": {
          "color": "#9e9e9e",
          "width": 1
         },
         "mode": "lines",
         "type": "scatter",
         "x": [
          -0.5,
          0.5
         ],
         "xaxis": "x",
         "y": [
          3.5,
          3.5
         ],
         "yaxis": "y"
        },
        {
         "hoverinfo": "skip",
         "line": {
          "color": "#9e9e9e",
          "width": 1
         },
         "mode": "lines",
         "type": "scatter",
         "x": [
          0.5,
          0.5
         ],
         "xaxis": "x",
         "y": [
          3.5,
          -0.5
         ],
         "yaxis": "y"
        },
        {
         "hoverinfo": "skip",
         "line": {
          "color": "#9e9e9e",
          "width": 1
         },
         "mode": "lines",
         "type": "scatter",
         "x": [
          4.5,
          4.5
         ],
         "xaxis": "x",
         "y": [
          -0.5,
          6.5
         ],
         "yaxis": "y"
        },
        {
         "hoverinfo": "skip",
         "line": {
          "color": "#9e9e9e",
          "width": 1
         },
         "mode": "lines",
         "type": "scatter",
         "x": [
          8.5,
          8.5
         ],
         "xaxis": "x",
         "y": [
          -0.5,
          6.5
         ],
         "yaxis": "y"
        },
        {
         "hoverinfo": "skip",
         "line": {
          "color": "#9e9e9e",
          "width": 1
         },
         "mode": "lines",
         "type": "scatter",
         "x": [
          12.5,
          12.5
         ],
         "xaxis": "x",
         "y": [
          2.5,
          6.5
         ],
         "yaxis": "y"
        },
        {
         "hoverinfo": "skip",
         "line": {
          "color": "#9e9e9e",
          "width": 1
         },
         "mode": "lines",
         "type": "scatter",
         "x": [
          12.5,
          13.5
         ],
         "xaxis": "x",
         "y": [
          2.5,
          2.5
         ],
         "yaxis": "y"
        },
        {
         "hoverinfo": "skip",
         "line": {
          "color": "#9e9e9e",
          "width": 1
         },
         "mode": "lines",
         "type": "scatter",
         "x": [
          13.5,
          13.5
         ],
         "xaxis": "x",
         "y": [
          2.5,
          -0.5
         ],
         "yaxis": "y"
        },
        {
         "hoverinfo": "skip",
         "line": {
          "color": "#9e9e9e",
          "width": 1
         },
         "mode": "lines",
         "type": "scatter",
         "x": [
          16.5,
          16.5
         ],
         "xaxis": "x",
         "y": [
          4.5,
          6.5
         ],
         "yaxis": "y"
        },
        {
         "hoverinfo": "skip",
         "line": {
          "color": "#9e9e9e",
          "width": 1
         },
         "mode": "lines",
         "type": "scatter",
         "x": [
          16.5,
          17.5
         ],
         "xaxis": "x",
         "y": [
          4.5,
          4.5
         ],
         "yaxis": "y"
        },
        {
         "hoverinfo": "skip",
         "line": {
          "color": "#9e9e9e",
          "width": 1
         },
         "mode": "lines",
         "type": "scatter",
         "x": [
          17.5,
          17.5
         ],
         "xaxis": "x",
         "y": [
          4.5,
          -0.5
         ],
         "yaxis": "y"
        },
        {
         "hoverinfo": "skip",
         "line": {
          "color": "#9e9e9e",
          "width": 1
         },
         "mode": "lines",
         "type": "scatter",
         "x": [
          21.5,
          21.5
         ],
         "xaxis": "x",
         "y": [
          0.5,
          6.5
         ],
         "yaxis": "y"
        },
        {
         "hoverinfo": "skip",
         "line": {
          "color": "#9e9e9e",
          "width": 1
         },
         "mode": "lines",
         "type": "scatter",
         "x": [
          21.5,
          22.5
         ],
         "xaxis": "x",
         "y": [
          0.5,
          0.5
         ],
         "yaxis": "y"
        },
        {
         "hoverinfo": "skip",
         "line": {
          "color": "#9e9e9e",
          "width": 1
         },
         "mode": "lines",
         "type": "scatter",
         "x": [
          22.5,
          22.5
         ],
         "xaxis": "x",
         "y": [
          0.5,
          -0.5
         ],
         "yaxis": "y"
        },
        {
         "hoverinfo": "skip",
         "line": {
          "color": "#9e9e9e",
          "width": 1
         },
         "mode": "lines",
         "type": "scatter",
         "x": [
          25.5,
          25.5
         ],
         "xaxis": "x",
         "y": [
          2.5,
          6.5
         ],
         "yaxis": "y"
        },
        {
         "hoverinfo": "skip",
         "line": {
          "color": "#9e9e9e",
          "width": 1
         },
         "mode": "lines",
         "type": "scatter",
         "x": [
          25.5,
          26.5
         ],
         "xaxis": "x",
         "y": [
          2.5,
          2.5
         ],
         "yaxis": "y"
        },
        {
         "hoverinfo": "skip",
         "line": {
          "color": "#9e9e9e",
          "width": 1
         },
         "mode": "lines",
         "type": "scatter",
         "x": [
          26.5,
          26.5
         ],
         "xaxis": "x",
         "y": [
          2.5,
          -0.5
         ],
         "yaxis": "y"
        },
        {
         "hoverinfo": "skip",
         "line": {
          "color": "#9e9e9e",
          "width": 1
         },
         "mode": "lines",
         "type": "scatter",
         "x": [
          29.5,
          29.5
         ],
         "xaxis": "x",
         "y": [
          5.5,
          6.5
         ],
         "yaxis": "y"
        },
        {
         "hoverinfo": "skip",
         "line": {
          "color": "#9e9e9e",
          "width": 1
         },
         "mode": "lines",
         "type": "scatter",
         "x": [
          29.5,
          30.5
         ],
         "xaxis": "x",
         "y": [
          5.5,
          5.5
         ],
         "yaxis": "y"
        },
        {
         "hoverinfo": "skip",
         "line": {
          "color": "#9e9e9e",
          "width": 1
         },
         "mode": "lines",
         "type": "scatter",
         "x": [
          30.5,
          30.5
         ],
         "xaxis": "x",
         "y": [
          5.5,
          -0.5
         ],
         "yaxis": "y"
        },
        {
         "hoverinfo": "skip",
         "line": {
          "color": "#9e9e9e",
          "width": 1
         },
         "mode": "lines",
         "type": "scatter",
         "x": [
          34.5,
          34.5
         ],
         "xaxis": "x",
         "y": [
          1.5,
          6.5
         ],
         "yaxis": "y"
        },
        {
         "hoverinfo": "skip",
         "line": {
          "color": "#9e9e9e",
          "width": 1
         },
         "mode": "lines",
         "type": "scatter",
         "x": [
          34.5,
          35.5
         ],
         "xaxis": "x",
         "y": [
          1.5,
          1.5
         ],
         "yaxis": "y"
        },
        {
         "hoverinfo": "skip",
         "line": {
          "color": "#9e9e9e",
          "width": 1
         },
         "mode": "lines",
         "type": "scatter",
         "x": [
          35.5,
          35.5
         ],
         "xaxis": "x",
         "y": [
          1.5,
          -0.5
         ],
         "yaxis": "y"
        },
        {
         "hoverinfo": "skip",
         "line": {
          "color": "#9e9e9e",
          "width": 1
         },
         "mode": "lines",
         "type": "scatter",
         "x": [
          38.5,
          38.5
         ],
         "xaxis": "x",
         "y": [
          3.5,
          6.5
         ],
         "yaxis": "y"
        },
        {
         "hoverinfo": "skip",
         "line": {
          "color": "#9e9e9e",
          "width": 1
         },
         "mode": "lines",
         "type": "scatter",
         "x": [
          38.5,
          39.5
         ],
         "xaxis": "x",
         "y": [
          3.5,
          3.5
         ],
         "yaxis": "y"
        },
        {
         "hoverinfo": "skip",
         "line": {
          "color": "#9e9e9e",
          "width": 1
         },
         "mode": "lines",
         "type": "scatter",
         "x": [
          39.5,
          39.5
         ],
         "xaxis": "x",
         "y": [
          3.5,
          -0.5
         ],
         "yaxis": "y"
        },
        {
         "hoverinfo": "skip",
         "line": {
          "color": "#9e9e9e",
          "width": 1
         },
         "mode": "lines",
         "type": "scatter",
         "x": [
          43.5,
          43.5
         ],
         "xaxis": "x",
         "y": [
          -0.5,
          6.5
         ],
         "yaxis": "y"
        },
        {
         "hoverinfo": "skip",
         "line": {
          "color": "#9e9e9e",
          "width": 1
         },
         "mode": "lines",
         "type": "scatter",
         "x": [
          47.5,
          47.5
         ],
         "xaxis": "x",
         "y": [
          1.5,
          6.5
         ],
         "yaxis": "y"
        },
        {
         "hoverinfo": "skip",
         "line": {
          "color": "#9e9e9e",
          "width": 1
         },
         "mode": "lines",
         "type": "scatter",
         "x": [
          47.5,
          48.5
         ],
         "xaxis": "x",
         "y": [
          1.5,
          1.5
         ],
         "yaxis": "y"
        },
        {
         "hoverinfo": "skip",
         "line": {
          "color": "#9e9e9e",
          "width": 1
         },
         "mode": "lines",
         "type": "scatter",
         "x": [
          48.5,
          48.5
         ],
         "xaxis": "x",
         "y": [
          1.5,
          -0.5
         ],
         "yaxis": "y"
        }
       ],
       "layout": {
        "font": {
         "color": "#9e9e9e",
         "size": 10
        },
        "height": 150,
        "margin": {
         "b": 20,
         "t": 20
        },
        "plot_bgcolor": "#fff",
        "showlegend": false,
        "template": {
         "data": {
          "bar": [
           {
            "error_x": {
             "color": "#2a3f5f"
            },
            "error_y": {
             "color": "#2a3f5f"
            },
            "marker": {
             "line": {
              "color": "#E5ECF6",
              "width": 0.5
             },
             "pattern": {
              "fillmode": "overlay",
              "size": 10,
              "solidity": 0.2
             }
            },
            "type": "bar"
           }
          ],
          "barpolar": [
           {
            "marker": {
             "line": {
              "color": "#E5ECF6",
              "width": 0.5
             },
             "pattern": {
              "fillmode": "overlay",
              "size": 10,
              "solidity": 0.2
             }
            },
            "type": "barpolar"
           }
          ],
          "carpet": [
           {
            "aaxis": {
             "endlinecolor": "#2a3f5f",
             "gridcolor": "white",
             "linecolor": "white",
             "minorgridcolor": "white",
             "startlinecolor": "#2a3f5f"
            },
            "baxis": {
             "endlinecolor": "#2a3f5f",
             "gridcolor": "white",
             "linecolor": "white",
             "minorgridcolor": "white",
             "startlinecolor": "#2a3f5f"
            },
            "type": "carpet"
           }
          ],
          "choropleth": [
           {
            "colorbar": {
             "outlinewidth": 0,
             "ticks": ""
            },
            "type": "choropleth"
           }
          ],
          "contour": [
           {
            "colorbar": {
             "outlinewidth": 0,
             "ticks": ""
            },
            "colorscale": [
             [
              0,
              "#0d0887"
             ],
             [
              0.1111111111111111,
              "#46039f"
             ],
             [
              0.2222222222222222,
              "#7201a8"
             ],
             [
              0.3333333333333333,
              "#9c179e"
             ],
             [
              0.4444444444444444,
              "#bd3786"
             ],
             [
              0.5555555555555556,
              "#d8576b"
             ],
             [
              0.6666666666666666,
              "#ed7953"
             ],
             [
              0.7777777777777778,
              "#fb9f3a"
             ],
             [
              0.8888888888888888,
              "#fdca26"
             ],
             [
              1,
              "#f0f921"
             ]
            ],
            "type": "contour"
           }
          ],
          "contourcarpet": [
           {
            "colorbar": {
             "outlinewidth": 0,
             "ticks": ""
            },
            "type": "contourcarpet"
           }
          ],
          "heatmap": [
           {
            "colorbar": {
             "outlinewidth": 0,
             "ticks": ""
            },
            "colorscale": [
             [
              0,
              "#0d0887"
             ],
             [
              0.1111111111111111,
              "#46039f"
             ],
             [
              0.2222222222222222,
              "#7201a8"
             ],
             [
              0.3333333333333333,
              "#9c179e"
             ],
             [
              0.4444444444444444,
              "#bd3786"
             ],
             [
              0.5555555555555556,
              "#d8576b"
             ],
             [
              0.6666666666666666,
              "#ed7953"
             ],
             [
              0.7777777777777778,
              "#fb9f3a"
             ],
             [
              0.8888888888888888,
              "#fdca26"
             ],
             [
              1,
              "#f0f921"
             ]
            ],
            "type": "heatmap"
           }
          ],
          "heatmapgl": [
           {
            "colorbar": {
             "outlinewidth": 0,
             "ticks": ""
            },
            "colorscale": [
             [
              0,
              "#0d0887"
             ],
             [
              0.1111111111111111,
              "#46039f"
             ],
             [
              0.2222222222222222,
              "#7201a8"
             ],
             [
              0.3333333333333333,
              "#9c179e"
             ],
             [
              0.4444444444444444,
              "#bd3786"
             ],
             [
              0.5555555555555556,
              "#d8576b"
             ],
             [
              0.6666666666666666,
              "#ed7953"
             ],
             [
              0.7777777777777778,
              "#fb9f3a"
             ],
             [
              0.8888888888888888,
              "#fdca26"
             ],
             [
              1,
              "#f0f921"
             ]
            ],
            "type": "heatmapgl"
           }
          ],
          "histogram": [
           {
            "marker": {
             "pattern": {
              "fillmode": "overlay",
              "size": 10,
              "solidity": 0.2
             }
            },
            "type": "histogram"
           }
          ],
          "histogram2d": [
           {
            "colorbar": {
             "outlinewidth": 0,
             "ticks": ""
            },
            "colorscale": [
             [
              0,
              "#0d0887"
             ],
             [
              0.1111111111111111,
              "#46039f"
             ],
             [
              0.2222222222222222,
              "#7201a8"
             ],
             [
              0.3333333333333333,
              "#9c179e"
             ],
             [
              0.4444444444444444,
              "#bd3786"
             ],
             [
              0.5555555555555556,
              "#d8576b"
             ],
             [
              0.6666666666666666,
              "#ed7953"
             ],
             [
              0.7777777777777778,
              "#fb9f3a"
             ],
             [
              0.8888888888888888,
              "#fdca26"
             ],
             [
              1,
              "#f0f921"
             ]
            ],
            "type": "histogram2d"
           }
          ],
          "histogram2dcontour": [
           {
            "colorbar": {
             "outlinewidth": 0,
             "ticks": ""
            },
            "colorscale": [
             [
              0,
              "#0d0887"
             ],
             [
              0.1111111111111111,
              "#46039f"
             ],
             [
              0.2222222222222222,
              "#7201a8"
             ],
             [
              0.3333333333333333,
              "#9c179e"
             ],
             [
              0.4444444444444444,
              "#bd3786"
             ],
             [
              0.5555555555555556,
              "#d8576b"
             ],
             [
              0.6666666666666666,
              "#ed7953"
             ],
             [
              0.7777777777777778,
              "#fb9f3a"
             ],
             [
              0.8888888888888888,
              "#fdca26"
             ],
             [
              1,
              "#f0f921"
             ]
            ],
            "type": "histogram2dcontour"
           }
          ],
          "mesh3d": [
           {
            "colorbar": {
             "outlinewidth": 0,
             "ticks": ""
            },
            "type": "mesh3d"
           }
          ],
          "parcoords": [
           {
            "line": {
             "colorbar": {
              "outlinewidth": 0,
              "ticks": ""
             }
            },
            "type": "parcoords"
           }
          ],
          "pie": [
           {
            "automargin": true,
            "type": "pie"
           }
          ],
          "scatter": [
           {
            "marker": {
             "colorbar": {
              "outlinewidth": 0,
              "ticks": ""
             }
            },
            "type": "scatter"
           }
          ],
          "scatter3d": [
           {
            "line": {
             "colorbar": {
              "outlinewidth": 0,
              "ticks": ""
             }
            },
            "marker": {
             "colorbar": {
              "outlinewidth": 0,
              "ticks": ""
             }
            },
            "type": "scatter3d"
           }
          ],
          "scattercarpet": [
           {
            "marker": {
             "colorbar": {
              "outlinewidth": 0,
              "ticks": ""
             }
            },
            "type": "scattercarpet"
           }
          ],
          "scattergeo": [
           {
            "marker": {
             "colorbar": {
              "outlinewidth": 0,
              "ticks": ""
             }
            },
            "type": "scattergeo"
           }
          ],
          "scattergl": [
           {
            "marker": {
             "colorbar": {
              "outlinewidth": 0,
              "ticks": ""
             }
            },
            "type": "scattergl"
           }
          ],
          "scattermapbox": [
           {
            "marker": {
             "colorbar": {
              "outlinewidth": 0,
              "ticks": ""
             }
            },
            "type": "scattermapbox"
           }
          ],
          "scatterpolar": [
           {
            "marker": {
             "colorbar": {
              "outlinewidth": 0,
              "ticks": ""
             }
            },
            "type": "scatterpolar"
           }
          ],
          "scatterpolargl": [
           {
            "marker": {
             "colorbar": {
              "outlinewidth": 0,
              "ticks": ""
             }
            },
            "type": "scatterpolargl"
           }
          ],
          "scatterternary": [
           {
            "marker": {
             "colorbar": {
              "outlinewidth": 0,
              "ticks": ""
             }
            },
            "type": "scatterternary"
           }
          ],
          "surface": [
           {
            "colorbar": {
             "outlinewidth": 0,
             "ticks": ""
            },
            "colorscale": [
             [
              0,
              "#0d0887"
             ],
             [
              0.1111111111111111,
              "#46039f"
             ],
             [
              0.2222222222222222,
              "#7201a8"
             ],
             [
              0.3333333333333333,
              "#9c179e"
             ],
             [
              0.4444444444444444,
              "#bd3786"
             ],
             [
              0.5555555555555556,
              "#d8576b"
             ],
             [
              0.6666666666666666,
              "#ed7953"
             ],
             [
              0.7777777777777778,
              "#fb9f3a"
             ],
             [
              0.8888888888888888,
              "#fdca26"
             ],
             [
              1,
              "#f0f921"
             ]
            ],
            "type": "surface"
           }
          ],
          "table": [
           {
            "cells": {
             "fill": {
              "color": "#EBF0F8"
             },
             "line": {
              "color": "white"
             }
            },
            "header": {
             "fill": {
              "color": "#C8D4E3"
             },
             "line": {
              "color": "white"
             }
            },
            "type": "table"
           }
          ]
         },
         "layout": {
          "annotationdefaults": {
           "arrowcolor": "#2a3f5f",
           "arrowhead": 0,
           "arrowwidth": 1
          },
          "autotypenumbers": "strict",
          "coloraxis": {
           "colorbar": {
            "outlinewidth": 0,
            "ticks": ""
           }
          },
          "colorscale": {
           "diverging": [
            [
             0,
             "#8e0152"
            ],
            [
             0.1,
             "#c51b7d"
            ],
            [
             0.2,
             "#de77ae"
            ],
            [
             0.3,
             "#f1b6da"
            ],
            [
             0.4,
             "#fde0ef"
            ],
            [
             0.5,
             "#f7f7f7"
            ],
            [
             0.6,
             "#e6f5d0"
            ],
            [
             0.7,
             "#b8e186"
            ],
            [
             0.8,
             "#7fbc41"
            ],
            [
             0.9,
             "#4d9221"
            ],
            [
             1,
             "#276419"
            ]
           ],
           "sequential": [
            [
             0,
             "#0d0887"
            ],
            [
             0.1111111111111111,
             "#46039f"
            ],
            [
             0.2222222222222222,
             "#7201a8"
            ],
            [
             0.3333333333333333,
             "#9c179e"
            ],
            [
             0.4444444444444444,
             "#bd3786"
            ],
            [
             0.5555555555555556,
             "#d8576b"
            ],
            [
             0.6666666666666666,
             "#ed7953"
            ],
            [
             0.7777777777777778,
             "#fb9f3a"
            ],
            [
             0.8888888888888888,
             "#fdca26"
            ],
            [
             1,
             "#f0f921"
            ]
           ],
           "sequentialminus": [
            [
             0,
             "#0d0887"
            ],
            [
             0.1111111111111111,
             "#46039f"
            ],
            [
             0.2222222222222222,
             "#7201a8"
            ],
            [
             0.3333333333333333,
             "#9c179e"
            ],
            [
             0.4444444444444444,
             "#bd3786"
            ],
            [
             0.5555555555555556,
             "#d8576b"
            ],
            [
             0.6666666666666666,
             "#ed7953"
            ],
            [
             0.7777777777777778,
             "#fb9f3a"
            ],
            [
             0.8888888888888888,
             "#fdca26"
            ],
            [
             1,
             "#f0f921"
            ]
           ]
          },
          "colorway": [
           "#636efa",
           "#EF553B",
           "#00cc96",
           "#ab63fa",
           "#FFA15A",
           "#19d3f3",
           "#FF6692",
           "#B6E880",
           "#FF97FF",
           "#FECB52"
          ],
          "font": {
           "color": "#2a3f5f"
          },
          "geo": {
           "bgcolor": "white",
           "lakecolor": "white",
           "landcolor": "#E5ECF6",
           "showlakes": true,
           "showland": true,
           "subunitcolor": "white"
          },
          "hoverlabel": {
           "align": "left"
          },
          "hovermode": "closest",
          "mapbox": {
           "style": "light"
          },
          "paper_bgcolor": "white",
          "plot_bgcolor": "#E5ECF6",
          "polar": {
           "angularaxis": {
            "gridcolor": "white",
            "linecolor": "white",
            "ticks": ""
           },
           "bgcolor": "#E5ECF6",
           "radialaxis": {
            "gridcolor": "white",
            "linecolor": "white",
            "ticks": ""
           }
          },
          "scene": {
           "xaxis": {
            "backgroundcolor": "#E5ECF6",
            "gridcolor": "white",
            "gridwidth": 2,
            "linecolor": "white",
            "showbackground": true,
            "ticks": "",
            "zerolinecolor": "white"
           },
           "yaxis": {
            "backgroundcolor": "#E5ECF6",
            "gridcolor": "white",
            "gridwidth": 2,
            "linecolor": "white",
            "showbackground": true,
            "ticks": "",
            "zerolinecolor": "white"
           },
           "zaxis": {
            "backgroundcolor": "#E5ECF6",
            "gridcolor": "white",
            "gridwidth": 2,
            "linecolor": "white",
            "showbackground": true,
            "ticks": "",
            "zerolinecolor": "white"
           }
          },
          "shapedefaults": {
           "line": {
            "color": "#2a3f5f"
           }
          },
          "ternary": {
           "aaxis": {
            "gridcolor": "white",
            "linecolor": "white",
            "ticks": ""
           },
           "baxis": {
            "gridcolor": "white",
            "linecolor": "white",
            "ticks": ""
           },
           "bgcolor": "#E5ECF6",
           "caxis": {
            "gridcolor": "white",
            "linecolor": "white",
            "ticks": ""
           }
          },
          "title": {
           "x": 0.05
          },
          "xaxis": {
           "automargin": true,
           "gridcolor": "white",
           "linecolor": "white",
           "ticks": "",
           "title": {
            "standoff": 15
           },
           "zerolinecolor": "white",
           "zerolinewidth": 2
          },
          "yaxis": {
           "automargin": true,
           "gridcolor": "white",
           "linecolor": "white",
           "ticks": "",
           "title": {
            "standoff": 15
           },
           "zerolinecolor": "white",
           "zerolinewidth": 2
          }
         }
        },
        "title": {
         "text": ""
        },
        "width": 800,
        "xaxis": {
         "anchor": "y",
         "autorange": true,
         "domain": [
          0,
          1
         ],
         "range": [
          -0.5,
          52.5
         ],
         "showgrid": false,
         "showline": false,
         "tickmode": "array",
         "ticktext": [
          "January",
          "February",
          "March",
          "April",
          "May",
          "June",
          "July",
          "August",
          "September",
          "October",
          "November",
          "December"
         ],
         "tickvals": [
          2.2857142857142856,
          6.285714285714286,
          10.714285714285714,
          15,
          19.428571428571427,
          23.714285714285715,
          28.142857142857142,
          32.57142857142857,
          36.857142857142854,
          41.285714285714285,
          45.57142857142857,
          50
         ],
         "type": "linear",
         "zeroline": false
        },
        "yaxis": {
         "anchor": "x",
         "autorange": true,
         "domain": [
          0,
          1
         ],
         "range": [
          6.888888888888889,
          -0.8888888888888891
         ],
         "showgrid": false,
         "showline": false,
         "tickmode": "array",
         "ticktext": [
          "Mon",
          "Tue",
          "Wed",
          "Thu",
          "Fri",
          "Sat",
          "Sun"
         ],
         "tickvals": [
          0,
          1,
          2,
          3,
          4,
          5,
          6
         ],
         "type": "linear",
         "zeroline": false
        }
       }
      },
      "image/png": "[encoded data removed]",
      "text/html": [
       "<div>                            <div id=\"68449023-76d1-4ec2-95aa-c49649bb1f1f\" class=\"plotly-graph-div\" style=\"height:150px; width:800px;\"></div>            <script type=\"text/javascript\">                require([\"plotly\"], function(Plotly) {                    window.PLOTLYENV=window.PLOTLYENV || {};                                    if (document.getElementById(\"68449023-76d1-4ec2-95aa-c49649bb1f1f\")) {                    Plotly.newPlot(                        \"68449023-76d1-4ec2-95aa-c49649bb1f1f\",                        [{\"colorscale\":[[0.0,\"rgb(247,252,245)\"],[0.125,\"rgb(229,245,224)\"],[0.25,\"rgb(199,233,192)\"],[0.375,\"rgb(161,217,155)\"],[0.5,\"rgb(116,196,118)\"],[0.625,\"rgb(65,171,93)\"],[0.75,\"rgb(35,139,69)\"],[0.875,\"rgb(0,109,44)\"],[1.0,\"rgb(0,68,27)\"]],\"customdata\":[[\"2021-01-01\",\"y\"],[\"2021-01-02\",\"y\"],[\"2021-01-03\",\"y\"],[\"2021-01-04\",\"y\"],[\"2021-01-05\",\"y\"],[\"2021-01-06\",\"y\"],[\"2021-01-07\",\"y\"],[\"2021-01-08\",\"y\"],[\"2021-01-09\",\"y\"],[\"2021-01-10\",\"y\"],[\"2021-01-11\",\"y\"],[\"2021-01-12\",\"y\"],[\"2021-01-13\",\"y\"],[\"2021-01-14\",\"y\"],[\"2021-01-15\",\"y\"],[\"2021-01-16\",\"y\"],[\"2021-01-17\",\"y\"],[\"2021-01-18\",\"y\"],[\"2021-01-19\",\"y\"],[\"2021-01-20\",\"y\"],[\"2021-01-21\",\"y\"],[\"2021-01-22\",\"y\"],[\"2021-01-23\",\"y\"],[\"2021-01-24\",\"y\"],[\"2021-01-25\",\"y\"],[\"2021-01-26\",\"y\"],[\"2021-01-27\",\"y\"],[\"2021-01-28\",\"y\"],[\"2021-01-29\",\"y\"],[\"2021-01-30\",\"y\"],[\"2021-01-31\",\"y\"],[\"2021-02-01\",\"y\"],[\"2021-02-02\",\"y\"],[\"2021-02-03\",\"y\"],[\"2021-02-04\",\"y\"],[\"2021-02-05\",\"y\"],[\"2021-02-06\",\"y\"],[\"2021-02-07\",\"y\"],[\"2021-02-08\",\"y\"],[\"2021-02-09\",\"y\"],[\"2021-02-10\",\"y\"],[\"2021-02-11\",\"y\"],[\"2021-02-12\",\"y\"],[\"2021-02-13\",\"y\"],[\"2021-02-14\",\"y\"],[\"2021-02-15\",\"y\"],[\"2021-02-16\",\"y\"],[\"2021-02-17\",\"y\"],[\"2021-02-18\",\"y\"],[\"2021-02-19\",\"y\"],[\"2021-02-20\",\"y\"],[\"2021-02-21\",\"y\"],[\"2021-02-22\",\"y\"],[\"2021-02-23\",\"y\"],[\"2021-02-24\",\"y\"],[\"2021-02-25\",\"y\"],[\"2021-02-26\",\"y\"],[\"2021-02-27\",\"y\"],[\"2021-02-28\",\"y\"],[\"2021-03-01\",\"y\"],[\"2021-03-02\",\"y\"],[\"2021-03-03\",\"y\"],[\"2021-03-04\",\"y\"],[\"2021-03-05\",\"y\"],[\"2021-03-06\",\"y\"],[\"2021-03-07\",\"y\"],[\"2021-03-08\",\"y\"],[\"2021-03-09\",\"y\"],[\"2021-03-10\",\"y\"],[\"2021-03-11\",\"y\"],[\"2021-03-12\",\"y\"],[\"2021-03-13\",\"y\"],[\"2021-03-14\",\"y\"],[\"2021-03-15\",\"y\"],[\"2021-03-16\",\"y\"],[\"2021-03-17\",\"y\"],[\"2021-03-18\",\"y\"],[\"2021-03-19\",\"y\"],[\"2021-03-20\",\"y\"],[\"2021-03-21\",\"y\"],[\"2021-03-22\",\"y\"],[\"2021-03-23\",\"y\"],[\"2021-03-24\",\"y\"],[\"2021-03-25\",\"y\"],[\"2021-03-26\",\"y\"],[\"2021-03-27\",\"y\"],[\"2021-03-28\",\"y\"],[\"2021-03-29\",\"y\"],[\"2021-03-30\",\"y\"],[\"2021-03-31\",\"y\"],[\"2021-04-01\",\"y\"],[\"2021-04-02\",\"y\"],[\"2021-04-03\",\"y\"],[\"2021-04-04\",\"y\"],[\"2021-04-05\",\"y\"],[\"2021-04-06\",\"y\"],[\"2021-04-07\",\"y\"],[\"2021-04-08\",\"y\"],[\"2021-04-09\",\"y\"],[\"2021-04-10\",\"y\"],[\"2021-04-11\",\"y\"],[\"2021-04-12\",\"y\"],[\"2021-04-13\",\"y\"],[\"2021-04-14\",\"y\"],[\"2021-04-15\",\"y\"],[\"2021-04-16\",\"y\"],[\"2021-04-17\",\"y\"],[\"2021-04-18\",\"y\"],[\"2021-04-19\",\"y\"],[\"2021-04-20\",\"y\"],[\"2021-04-21\",\"y\"],[\"2021-04-22\",\"y\"],[\"2021-04-23\",\"y\"],[\"2021-04-24\",\"y\"],[\"2021-04-25\",\"y\"],[\"2021-04-26\",\"y\"],[\"2021-04-27\",\"y\"],[\"2021-04-28\",\"y\"],[\"2021-04-29\",\"y\"],[\"2021-04-30\",\"y\"],[\"2021-05-01\",\"y\"],[\"2021-05-02\",\"y\"],[\"2021-05-03\",\"y\"],[\"2021-05-04\",\"y\"],[\"2021-05-05\",\"y\"],[\"2021-05-06\",\"y\"],[\"2021-05-07\",\"y\"],[\"2021-05-08\",\"y\"],[\"2021-05-09\",\"y\"],[\"2021-05-10\",\"y\"],[\"2021-05-11\",\"y\"],[\"2021-05-12\",\"y\"],[\"2021-05-13\",\"y\"],[\"2021-05-14\",\"y\"],[\"2021-05-15\",\"y\"],[\"2021-05-16\",\"y\"],[\"2021-05-17\",\"y\"],[\"2021-05-18\",\"y\"],[\"2021-05-19\",\"y\"],[\"2021-05-20\",\"y\"],[\"2021-05-21\",\"y\"],[\"2021-05-22\",\"y\"],[\"2021-05-23\",\"y\"],[\"2021-05-24\",\"y\"],[\"2021-05-25\",\"y\"],[\"2021-05-26\",\"y\"],[\"2021-05-27\",\"y\"],[\"2021-05-28\",\"y\"],[\"2021-05-29\",\"y\"],[\"2021-05-30\",\"y\"],[\"2021-05-31\",\"y\"],[\"2021-06-01\",\"y\"],[\"2021-06-02\",\"y\"],[\"2021-06-03\",\"y\"],[\"2021-06-04\",\"y\"],[\"2021-06-05\",\"y\"],[\"2021-06-06\",\"y\"],[\"2021-06-07\",\"y\"],[\"2021-06-08\",\"y\"],[\"2021-06-09\",\"y\"],[\"2021-06-10\",\"y\"],[\"2021-06-11\",\"y\"],[\"2021-06-12\",\"y\"],[\"2021-06-13\",\"y\"],[\"2021-06-14\",\"y\"],[\"2021-06-15\",\"y\"],[\"2021-06-16\",\"y\"],[\"2021-06-17\",\"y\"],[\"2021-06-18\",\"y\"],[\"2021-06-19\",\"y\"],[\"2021-06-20\",\"y\"],[\"2021-06-21\",\"y\"],[\"2021-06-22\",\"y\"],[\"2021-06-23\",\"y\"],[\"2021-06-24\",\"y\"],[\"2021-06-25\",\"y\"],[\"2021-06-26\",\"y\"],[\"2021-06-27\",\"y\"],[\"2021-06-28\",\"y\"],[\"2021-06-29\",\"y\"],[\"2021-06-30\",\"y\"],[\"2021-07-01\",\"y\"],[\"2021-07-02\",\"y\"],[\"2021-07-03\",\"y\"],[\"2021-07-04\",\"y\"],[\"2021-07-05\",\"y\"],[\"2021-07-06\",\"y\"],[\"2021-07-07\",\"y\"],[\"2021-07-08\",\"y\"],[\"2021-07-09\",\"y\"],[\"2021-07-10\",\"y\"],[\"2021-07-11\",\"y\"],[\"2021-07-12\",\"y\"],[\"2021-07-13\",\"y\"],[\"2021-07-14\",\"y\"],[\"2021-07-15\",\"y\"],[\"2021-07-16\",\"y\"],[\"2021-07-17\",\"y\"],[\"2021-07-18\",\"y\"],[\"2021-07-19\",\"y\"],[\"2021-07-20\",\"y\"],[\"2021-07-21\",\"y\"],[\"2021-07-22\",\"y\"],[\"2021-07-23\",\"y\"],[\"2021-07-24\",\"y\"],[\"2021-07-25\",\"y\"],[\"2021-07-26\",\"y\"],[\"2021-07-27\",\"y\"],[\"2021-07-28\",\"y\"],[\"2021-07-29\",\"y\"],[\"2021-07-30\",\"y\"],[\"2021-07-31\",\"y\"],[\"2021-08-01\",\"y\"],[\"2021-08-02\",\"y\"],[\"2021-08-03\",\"y\"],[\"2021-08-04\",\"y\"],[\"2021-08-05\",\"y\"],[\"2021-08-06\",\"y\"],[\"2021-08-07\",\"y\"],[\"2021-08-08\",\"y\"],[\"2021-08-09\",\"y\"],[\"2021-08-10\",\"y\"],[\"2021-08-11\",\"y\"],[\"2021-08-12\",\"y\"],[\"2021-08-13\",\"y\"],[\"2021-08-14\",\"y\"],[\"2021-08-15\",\"y\"],[\"2021-08-16\",\"y\"],[\"2021-08-17\",\"y\"],[\"2021-08-18\",\"y\"],[\"2021-08-19\",\"y\"],[\"2021-08-20\",\"y\"],[\"2021-08-21\",\"y\"],[\"2021-08-22\",\"y\"],[\"2021-08-23\",\"y\"],[\"2021-08-24\",\"y\"],[\"2021-08-25\",\"y\"],[\"2021-08-26\",\"y\"],[\"2021-08-27\",\"y\"],[\"2021-08-28\",\"y\"],[\"2021-08-29\",\"y\"],[\"2021-08-30\",\"y\"],[\"2021-08-31\",\"y\"],[\"2021-09-01\",\"y\"],[\"2021-09-02\",\"y\"],[\"2021-09-03\",\"y\"],[\"2021-09-04\",\"y\"],[\"2021-09-05\",\"y\"],[\"2021-09-06\",\"y\"],[\"2021-09-07\",\"y\"],[\"2021-09-08\",\"y\"],[\"2021-09-09\",\"y\"],[\"2021-09-10\",\"y\"],[\"2021-09-11\",\"y\"],[\"2021-09-12\",\"y\"],[\"2021-09-13\",\"y\"],[\"2021-09-14\",\"y\"],[\"2021-09-15\",\"y\"],[\"2021-09-16\",\"y\"],[\"2021-09-17\",\"y\"],[\"2021-09-18\",\"y\"],[\"2021-09-19\",\"y\"],[\"2021-09-20\",\"y\"],[\"2021-09-21\",\"y\"],[\"2021-09-22\",\"y\"],[\"2021-09-23\",\"y\"],[\"2021-09-24\",\"y\"],[\"2021-09-25\",\"y\"],[\"2021-09-26\",\"y\"],[\"2021-09-27\",\"y\"],[\"2021-09-28\",\"y\"],[\"2021-09-29\",\"y\"],[\"2021-09-30\",\"y\"],[\"2021-10-01\",\"y\"],[\"2021-10-02\",\"y\"],[\"2021-10-03\",\"y\"],[\"2021-10-04\",\"y\"],[\"2021-10-05\",\"y\"],[\"2021-10-06\",\"y\"],[\"2021-10-07\",\"y\"],[\"2021-10-08\",\"y\"],[\"2021-10-09\",\"y\"],[\"2021-10-10\",\"y\"],[\"2021-10-11\",\"y\"],[\"2021-10-12\",\"y\"],[\"2021-10-13\",\"y\"],[\"2021-10-14\",\"y\"],[\"2021-10-15\",\"y\"],[\"2021-10-16\",\"y\"],[\"2021-10-17\",\"y\"],[\"2021-10-18\",\"y\"],[\"2021-10-19\",\"y\"],[\"2021-10-20\",\"y\"],[\"2021-10-21\",\"y\"],[\"2021-10-22\",\"y\"],[\"2021-10-23\",\"y\"],[\"2021-10-24\",\"y\"],[\"2021-10-25\",\"y\"],[\"2021-10-26\",\"y\"],[\"2021-10-27\",\"y\"],[\"2021-10-28\",\"y\"],[\"2021-10-29\",\"y\"],[\"2021-10-30\",\"y\"],[\"2021-10-31\",\"y\"],[\"2021-11-01\",\"y\"],[\"2021-11-02\",\"y\"],[\"2021-11-03\",\"y\"],[\"2021-11-04\",\"y\"],[\"2021-11-05\",\"y\"],[\"2021-11-06\",\"y\"],[\"2021-11-07\",\"y\"],[\"2021-11-08\",\"y\"],[\"2021-11-09\",\"y\"],[\"2021-11-10\",\"y\"],[\"2021-11-11\",\"y\"],[\"2021-11-12\",\"y\"],[\"2021-11-13\",\"y\"],[\"2021-11-14\",\"y\"],[\"2021-11-15\",\"y\"],[\"2021-11-16\",\"y\"],[\"2021-11-17\",\"y\"],[\"2021-11-18\",\"y\"],[\"2021-11-19\",\"y\"],[\"2021-11-20\",\"y\"],[\"2021-11-21\",\"y\"],[\"2021-11-22\",\"y\"],[\"2021-11-23\",\"y\"],[\"2021-11-24\",\"y\"],[\"2021-11-25\",\"y\"],[\"2021-11-26\",\"y\"],[\"2021-11-27\",\"y\"],[\"2021-11-28\",\"y\"],[\"2021-11-29\",\"y\"],[\"2021-11-30\",\"y\"],[\"2021-12-01\",\"y\"],[\"2021-12-02\",\"y\"],[\"2021-12-03\",\"y\"],[\"2021-12-04\",\"y\"],[\"2021-12-05\",\"y\"],[\"2021-12-06\",\"y\"],[\"2021-12-07\",\"y\"],[\"2021-12-08\",\"y\"],[\"2021-12-09\",\"y\"],[\"2021-12-10\",\"y\"],[\"2021-12-11\",\"y\"],[\"2021-12-12\",\"y\"],[\"2021-12-13\",\"y\"],[\"2021-12-14\",\"y\"],[\"2021-12-15\",\"y\"],[\"2021-12-16\",\"y\"],[\"2021-12-17\",\"y\"],[\"2021-12-18\",\"y\"],[\"2021-12-19\",\"y\"],[\"2021-12-20\",\"y\"],[\"2021-12-21\",\"y\"],[\"2021-12-22\",\"y\"],[\"2021-12-23\",\"y\"],[\"2021-12-24\",\"y\"],[\"2021-12-25\",\"y\"],[\"2021-12-26\",\"y\"],[\"2021-12-27\",\"y\"],[\"2021-12-28\",\"y\"],[\"2021-12-29\",\"y\"],[\"2021-12-30\",\"y\"],[\"2021-12-31\",\"y\"]],\"hovertemplate\":\"%{customdata[0]} <br>%{customdata[1]}=%{z} <br>Week=%{x}\",\"name\":\"2021\",\"showscale\":false,\"x\":[0,0,0,1,1,1,1,1,1,1,2,2,2,2,2,2,2,3,3,3,3,3,3,3,4,4,4,4,4,4,4,5,5,5,5,5,5,5,6,6,6,6,6,6,6,7,7,7,7,7,7,7,8,8,8,8,8,8,8,9,9,9,9,9,9,9,10,10,10,10,10,10,10,11,11,11,11,11,11,11,12,12,12,12,12,12,12,13,13,13,13,13,13,13,14,14,14,14,14,14,14,15,15,15,15,15,15,15,16,16,16,16,16,16,16,17,17,17,17,17,17,17,18,18,18,18,18,18,18,19,19,19,19,19,19,19,20,20,20,20,20,20,20,21,21,21,21,21,21,21,22,22,22,22,22,22,22,23,23,23,23,23,23,23,24,24,24,24,24,24,24,25,25,25,25,25,25,25,26,26,26,26,26,26,26,27,27,27,27,27,27,27,28,28,28,28,28,28,28,29,29,29,29,29,29,29,30,30,30,30,30,30,30,31,31,31,31,31,31,31,32,32,32,32,32,32,32,33,33,33,33,33,33,33,34,34,34,34,34,34,34,35,35,35,35,35,35,35,36,36,36,36,36,36,36,37,37,37,37,37,37,37,38,38,38,38,38,38,38,39,39,39,39,39,39,39,40,40,40,40,40,40,40,41,41,41,41,41,41,41,42,42,42,42,42,42,42,43,43,43,43,43,43,43,44,44,44,44,44,44,44,45,45,45,45,45,45,45,46,46,46,46,46,46,46,47,47,47,47,47,47,47,48,48,48,48,48,48,48,49,49,49,49,49,49,49,50,50,50,50,50,50,50,51,51,51,51,51,51,51,52,52,52,52,52],\"xgap\":1,\"y\":[4,5,6,0,1,2,3,4,5,6,0,1,2,3,4,5,6,0,1,2,3,4,5,6,0,1,2,3,4,5,6,0,1,2,3,4,5,6,0,1,2,3,4,5,6,0,1,2,3,4,5,6,0,1,2,3,4,5,6,0,1,2,3,4,5,6,0,1,2,3,4,5,6,0,1,2,3,4,5,6,0,1,2,3,4,5,6,0,1,2,3,4,5,6,0,1,2,3,4,5,6,0,1,2,3,4,5,6,0,1,2,3,4,5,6,0,1,2,3,4,5,6,0,1,2,3,4,5,6,0,1,2,3,4,5,6,0,1,2,3,4,5,6,0,1,2,3,4,5,6,0,1,2,3,4,5,6,0,1,2,3,4,5,6,0,1,2,3,4,5,6,0,1,2,3,4,5,6,0,1,2,3,4,5,6,0,1,2,3,4,5,6,0,1,2,3,4,5,6,0,1,2,3,4,5,6,0,1,2,3,4,5,6,0,1,2,3,4,5,6,0,1,2,3,4,5,6,0,1,2,3,4,5,6,0,1,2,3,4,5,6,0,1,2,3,4,5,6,0,1,2,3,4,5,6,0,1,2,3,4,5,6,0,1,2,3,4,5,6,0,1,2,3,4,5,6,0,1,2,3,4,5,6,0,1,2,3,4,5,6,0,1,2,3,4,5,6,0,1,2,3,4,5,6,0,1,2,3,4,5,6,0,1,2,3,4,5,6,0,1,2,3,4,5,6,0,1,2,3,4,5,6,0,1,2,3,4,5,6,0,1,2,3,4,5,6,0,1,2,3,4,5,6,0,1,2,3,4,5,6,0,1,2,3,4],\"ygap\":1,\"z\":[0.0,0.0,0.0,0.0,0.0,0.0,0.0,0.0,0.0,0.0,0.0,0.0,0.0,0.0,0.0,0.0,0.0,0.0,0.0,0.0,0.0,0.0,0.0,0.0,0.0,0.0,0.0,0.0,0.0,0.0,0.0,0.0,0.0,0.0,0.0,0.0,0.0,0.0,0.0,0.0,0.0,0.0,0.0,0.0,0.0,0.0,0.0,0.0,0.0,0.0,0.0,0.0,0.0,0.0,0.0,0.0,0.0,0.0,0.0,0.0,0.0,0.0,0.0,0.0,0.0,0.0,0.0,0.0,1.0,1.0,1.0,1.0,1.0,1.0,1.0,1.0,0.0,0.0,0.0,0.0,0.0,0.0,0.0,0.0,0.0,0.0,0.0,0.0,0.0,0.0,0.0,0.0,0.0,0.0,0.0,0.0,0.0,0.0,0.0,1.0,1.0,1.0,1.0,1.0,1.0,1.0,1.0,0.0,0.0,0.0,0.0,0.0,0.0,0.0,0.0,0.0,0.0,0.0,0.0,0.0,0.0,0.0,0.0,0.0,0.0,0.0,0.0,0.0,0.0,0.0,0.0,0.0,0.0,0.0,0.0,0.0,0.0,0.0,0.0,0.0,0.0,0.0,0.0,0.0,0.0,0.0,0.0,0.0,0.0,0.0,0.0,0.0,0.0,0.0,0.0,0.0,0.0,0.0,0.0,0.0,1.0,1.0,1.0,1.0,1.0,1.0,1.0,1.0,0.0,0.0,0.0,0.0,0.0,0.0,0.0,0.0,0.0,0.0,0.0,0.0,0.0,0.0,0.0,0.0,0.0,0.0,0.0,0.0,0.0,0.0,0.0,0.0,0.0,0.0,0.0,0.0,0.0,0.0,0.0,0.0,0.0,0.0,0.0,0.0,0.0,0.0,0.0,0.0,0.0,0.0,0.0,0.0,0.0,0.0,0.0,0.0,0.0,0.0,0.0,0.0,0.0,0.0,0.0,0.0,0.0,0.0,0.0,0.0,0.0,0.0,0.0,0.0,0.0,0.0,0.0,0.0,0.0,0.0,0.0,0.0,0.0,0.0,0.0,0.0,0.0,0.0,0.0,0.0,0.0,0.0,0.0,0.0,0.0,0.0,0.0,0.0,0.0,0.0,0.0,0.0,0.0,0.0,0.0,0.0,0.0,0.0,0.0,0.0,0.0,0.0,0.0,0.0,0.0,0.0,0.0,0.0,0.0,0.0,0.0,0.0,0.0,0.0,1.0,1.0,1.0,1.0,1.0,1.0,1.0,1.0,0.0,0.0,0.0,0.0,0.0,0.0,0.0,0.0,0.0,0.0,0.0,0.0,0.0,0.0,0.0,0.0,0.0,0.0,0.0,0.0,0.0,0.0,0.0,0.0,0.0,0.0,0.0,0.0,0.0,0.0,0.0,0.0,0.0,0.0,0.0,0.0,0.0,0.0,0.0,0.0,0.0,0.0,0.0,0.0,0.0,0.0,0.0,0.0,0.0,0.0,0.0,0.0,0.0,0.0,0.0,0.0,0.0,0.0,0.0,0.0,0.0,0.0,0.0,0.0,0.0,0.0,0.0,0.0,0.0,0.0,0.0,0.0,0.0,0.0,0.0],\"type\":\"heatmap\",\"xaxis\":\"x\",\"yaxis\":\"y\"},{\"hoverinfo\":\"skip\",\"line\":{\"color\":\"#9e9e9e\",\"width\":1},\"mode\":\"lines\",\"x\":[-0.5,-0.5],\"y\":[3.5,6.5],\"type\":\"scatter\",\"xaxis\":\"x\",\"yaxis\":\"y\"},{\"hoverinfo\":\"skip\",\"line\":{\"color\":\"#9e9e9e\",\"width\":1},\"mode\":\"lines\",\"x\":[-0.5,0.5],\"y\":[3.5,3.5],\"type\":\"scatter\",\"xaxis\":\"x\",\"yaxis\":\"y\"},{\"hoverinfo\":\"skip\",\"line\":{\"color\":\"#9e9e9e\",\"width\":1},\"mode\":\"lines\",\"x\":[0.5,0.5],\"y\":[3.5,-0.5],\"type\":\"scatter\",\"xaxis\":\"x\",\"yaxis\":\"y\"},{\"hoverinfo\":\"skip\",\"line\":{\"color\":\"#9e9e9e\",\"width\":1},\"mode\":\"lines\",\"x\":[4.5,4.5],\"y\":[-0.5,6.5],\"type\":\"scatter\",\"xaxis\":\"x\",\"yaxis\":\"y\"},{\"hoverinfo\":\"skip\",\"line\":{\"color\":\"#9e9e9e\",\"width\":1},\"mode\":\"lines\",\"x\":[8.5,8.5],\"y\":[-0.5,6.5],\"type\":\"scatter\",\"xaxis\":\"x\",\"yaxis\":\"y\"},{\"hoverinfo\":\"skip\",\"line\":{\"color\":\"#9e9e9e\",\"width\":1},\"mode\":\"lines\",\"x\":[12.5,12.5],\"y\":[2.5,6.5],\"type\":\"scatter\",\"xaxis\":\"x\",\"yaxis\":\"y\"},{\"hoverinfo\":\"skip\",\"line\":{\"color\":\"#9e9e9e\",\"width\":1},\"mode\":\"lines\",\"x\":[12.5,13.5],\"y\":[2.5,2.5],\"type\":\"scatter\",\"xaxis\":\"x\",\"yaxis\":\"y\"},{\"hoverinfo\":\"skip\",\"line\":{\"color\":\"#9e9e9e\",\"width\":1},\"mode\":\"lines\",\"x\":[13.5,13.5],\"y\":[2.5,-0.5],\"type\":\"scatter\",\"xaxis\":\"x\",\"yaxis\":\"y\"},{\"hoverinfo\":\"skip\",\"line\":{\"color\":\"#9e9e9e\",\"width\":1},\"mode\":\"lines\",\"x\":[16.5,16.5],\"y\":[4.5,6.5],\"type\":\"scatter\",\"xaxis\":\"x\",\"yaxis\":\"y\"},{\"hoverinfo\":\"skip\",\"line\":{\"color\":\"#9e9e9e\",\"width\":1},\"mode\":\"lines\",\"x\":[16.5,17.5],\"y\":[4.5,4.5],\"type\":\"scatter\",\"xaxis\":\"x\",\"yaxis\":\"y\"},{\"hoverinfo\":\"skip\",\"line\":{\"color\":\"#9e9e9e\",\"width\":1},\"mode\":\"lines\",\"x\":[17.5,17.5],\"y\":[4.5,-0.5],\"type\":\"scatter\",\"xaxis\":\"x\",\"yaxis\":\"y\"},{\"hoverinfo\":\"skip\",\"line\":{\"color\":\"#9e9e9e\",\"width\":1},\"mode\":\"lines\",\"x\":[21.5,21.5],\"y\":[0.5,6.5],\"type\":\"scatter\",\"xaxis\":\"x\",\"yaxis\":\"y\"},{\"hoverinfo\":\"skip\",\"line\":{\"color\":\"#9e9e9e\",\"width\":1},\"mode\":\"lines\",\"x\":[21.5,22.5],\"y\":[0.5,0.5],\"type\":\"scatter\",\"xaxis\":\"x\",\"yaxis\":\"y\"},{\"hoverinfo\":\"skip\",\"line\":{\"color\":\"#9e9e9e\",\"width\":1},\"mode\":\"lines\",\"x\":[22.5,22.5],\"y\":[0.5,-0.5],\"type\":\"scatter\",\"xaxis\":\"x\",\"yaxis\":\"y\"},{\"hoverinfo\":\"skip\",\"line\":{\"color\":\"#9e9e9e\",\"width\":1},\"mode\":\"lines\",\"x\":[25.5,25.5],\"y\":[2.5,6.5],\"type\":\"scatter\",\"xaxis\":\"x\",\"yaxis\":\"y\"},{\"hoverinfo\":\"skip\",\"line\":{\"color\":\"#9e9e9e\",\"width\":1},\"mode\":\"lines\",\"x\":[25.5,26.5],\"y\":[2.5,2.5],\"type\":\"scatter\",\"xaxis\":\"x\",\"yaxis\":\"y\"},{\"hoverinfo\":\"skip\",\"line\":{\"color\":\"#9e9e9e\",\"width\":1},\"mode\":\"lines\",\"x\":[26.5,26.5],\"y\":[2.5,-0.5],\"type\":\"scatter\",\"xaxis\":\"x\",\"yaxis\":\"y\"},{\"hoverinfo\":\"skip\",\"line\":{\"color\":\"#9e9e9e\",\"width\":1},\"mode\":\"lines\",\"x\":[29.5,29.5],\"y\":[5.5,6.5],\"type\":\"scatter\",\"xaxis\":\"x\",\"yaxis\":\"y\"},{\"hoverinfo\":\"skip\",\"line\":{\"color\":\"#9e9e9e\",\"width\":1},\"mode\":\"lines\",\"x\":[29.5,30.5],\"y\":[5.5,5.5],\"type\":\"scatter\",\"xaxis\":\"x\",\"yaxis\":\"y\"},{\"hoverinfo\":\"skip\",\"line\":{\"color\":\"#9e9e9e\",\"width\":1},\"mode\":\"lines\",\"x\":[30.5,30.5],\"y\":[5.5,-0.5],\"type\":\"scatter\",\"xaxis\":\"x\",\"yaxis\":\"y\"},{\"hoverinfo\":\"skip\",\"line\":{\"color\":\"#9e9e9e\",\"width\":1},\"mode\":\"lines\",\"x\":[34.5,34.5],\"y\":[1.5,6.5],\"type\":\"scatter\",\"xaxis\":\"x\",\"yaxis\":\"y\"},{\"hoverinfo\":\"skip\",\"line\":{\"color\":\"#9e9e9e\",\"width\":1},\"mode\":\"lines\",\"x\":[34.5,35.5],\"y\":[1.5,1.5],\"type\":\"scatter\",\"xaxis\":\"x\",\"yaxis\":\"y\"},{\"hoverinfo\":\"skip\",\"line\":{\"color\":\"#9e9e9e\",\"width\":1},\"mode\":\"lines\",\"x\":[35.5,35.5],\"y\":[1.5,-0.5],\"type\":\"scatter\",\"xaxis\":\"x\",\"yaxis\":\"y\"},{\"hoverinfo\":\"skip\",\"line\":{\"color\":\"#9e9e9e\",\"width\":1},\"mode\":\"lines\",\"x\":[38.5,38.5],\"y\":[3.5,6.5],\"type\":\"scatter\",\"xaxis\":\"x\",\"yaxis\":\"y\"},{\"hoverinfo\":\"skip\",\"line\":{\"color\":\"#9e9e9e\",\"width\":1},\"mode\":\"lines\",\"x\":[38.5,39.5],\"y\":[3.5,3.5],\"type\":\"scatter\",\"xaxis\":\"x\",\"yaxis\":\"y\"},{\"hoverinfo\":\"skip\",\"line\":{\"color\":\"#9e9e9e\",\"width\":1},\"mode\":\"lines\",\"x\":[39.5,39.5],\"y\":[3.5,-0.5],\"type\":\"scatter\",\"xaxis\":\"x\",\"yaxis\":\"y\"},{\"hoverinfo\":\"skip\",\"line\":{\"color\":\"#9e9e9e\",\"width\":1},\"mode\":\"lines\",\"x\":[43.5,43.5],\"y\":[-0.5,6.5],\"type\":\"scatter\",\"xaxis\":\"x\",\"yaxis\":\"y\"},{\"hoverinfo\":\"skip\",\"line\":{\"color\":\"#9e9e9e\",\"width\":1},\"mode\":\"lines\",\"x\":[47.5,47.5],\"y\":[1.5,6.5],\"type\":\"scatter\",\"xaxis\":\"x\",\"yaxis\":\"y\"},{\"hoverinfo\":\"skip\",\"line\":{\"color\":\"#9e9e9e\",\"width\":1},\"mode\":\"lines\",\"x\":[47.5,48.5],\"y\":[1.5,1.5],\"type\":\"scatter\",\"xaxis\":\"x\",\"yaxis\":\"y\"},{\"hoverinfo\":\"skip\",\"line\":{\"color\":\"#9e9e9e\",\"width\":1},\"mode\":\"lines\",\"x\":[48.5,48.5],\"y\":[1.5,-0.5],\"type\":\"scatter\",\"xaxis\":\"x\",\"yaxis\":\"y\"}],                        {\"template\":{\"data\":{\"bar\":[{\"error_x\":{\"color\":\"#2a3f5f\"},\"error_y\":{\"color\":\"#2a3f5f\"},\"marker\":{\"line\":{\"color\":\"#E5ECF6\",\"width\":0.5},\"pattern\":{\"fillmode\":\"overlay\",\"size\":10,\"solidity\":0.2}},\"type\":\"bar\"}],\"barpolar\":[{\"marker\":{\"line\":{\"color\":\"#E5ECF6\",\"width\":0.5},\"pattern\":{\"fillmode\":\"overlay\",\"size\":10,\"solidity\":0.2}},\"type\":\"barpolar\"}],\"carpet\":[{\"aaxis\":{\"endlinecolor\":\"#2a3f5f\",\"gridcolor\":\"white\",\"linecolor\":\"white\",\"minorgridcolor\":\"white\",\"startlinecolor\":\"#2a3f5f\"},\"baxis\":{\"endlinecolor\":\"#2a3f5f\",\"gridcolor\":\"white\",\"linecolor\":\"white\",\"minorgridcolor\":\"white\",\"startlinecolor\":\"#2a3f5f\"},\"type\":\"carpet\"}],\"choropleth\":[{\"colorbar\":{\"outlinewidth\":0,\"ticks\":\"\"},\"type\":\"choropleth\"}],\"contour\":[{\"colorbar\":{\"outlinewidth\":0,\"ticks\":\"\"},\"colorscale\":[[0.0,\"#0d0887\"],[0.1111111111111111,\"#46039f\"],[0.2222222222222222,\"#7201a8\"],[0.3333333333333333,\"#9c179e\"],[0.4444444444444444,\"#bd3786\"],[0.5555555555555556,\"#d8576b\"],[0.6666666666666666,\"#ed7953\"],[0.7777777777777778,\"#fb9f3a\"],[0.8888888888888888,\"#fdca26\"],[1.0,\"#f0f921\"]],\"type\":\"contour\"}],\"contourcarpet\":[{\"colorbar\":{\"outlinewidth\":0,\"ticks\":\"\"},\"type\":\"contourcarpet\"}],\"heatmap\":[{\"colorbar\":{\"outlinewidth\":0,\"ticks\":\"\"},\"colorscale\":[[0.0,\"#0d0887\"],[0.1111111111111111,\"#46039f\"],[0.2222222222222222,\"#7201a8\"],[0.3333333333333333,\"#9c179e\"],[0.4444444444444444,\"#bd3786\"],[0.5555555555555556,\"#d8576b\"],[0.6666666666666666,\"#ed7953\"],[0.7777777777777778,\"#fb9f3a\"],[0.8888888888888888,\"#fdca26\"],[1.0,\"#f0f921\"]],\"type\":\"heatmap\"}],\"heatmapgl\":[{\"colorbar\":{\"outlinewidth\":0,\"ticks\":\"\"},\"colorscale\":[[0.0,\"#0d0887\"],[0.1111111111111111,\"#46039f\"],[0.2222222222222222,\"#7201a8\"],[0.3333333333333333,\"#9c179e\"],[0.4444444444444444,\"#bd3786\"],[0.5555555555555556,\"#d8576b\"],[0.6666666666666666,\"#ed7953\"],[0.7777777777777778,\"#fb9f3a\"],[0.8888888888888888,\"#fdca26\"],[1.0,\"#f0f921\"]],\"type\":\"heatmapgl\"}],\"histogram\":[{\"marker\":{\"pattern\":{\"fillmode\":\"overlay\",\"size\":10,\"solidity\":0.2}},\"type\":\"histogram\"}],\"histogram2d\":[{\"colorbar\":{\"outlinewidth\":0,\"ticks\":\"\"},\"colorscale\":[[0.0,\"#0d0887\"],[0.1111111111111111,\"#46039f\"],[0.2222222222222222,\"#7201a8\"],[0.3333333333333333,\"#9c179e\"],[0.4444444444444444,\"#bd3786\"],[0.5555555555555556,\"#d8576b\"],[0.6666666666666666,\"#ed7953\"],[0.7777777777777778,\"#fb9f3a\"],[0.8888888888888888,\"#fdca26\"],[1.0,\"#f0f921\"]],\"type\":\"histogram2d\"}],\"histogram2dcontour\":[{\"colorbar\":{\"outlinewidth\":0,\"ticks\":\"\"},\"colorscale\":[[0.0,\"#0d0887\"],[0.1111111111111111,\"#46039f\"],[0.2222222222222222,\"#7201a8\"],[0.3333333333333333,\"#9c179e\"],[0.4444444444444444,\"#bd3786\"],[0.5555555555555556,\"#d8576b\"],[0.6666666666666666,\"#ed7953\"],[0.7777777777777778,\"#fb9f3a\"],[0.8888888888888888,\"#fdca26\"],[1.0,\"#f0f921\"]],\"type\":\"histogram2dcontour\"}],\"mesh3d\":[{\"colorbar\":{\"outlinewidth\":0,\"ticks\":\"\"},\"type\":\"mesh3d\"}],\"parcoords\":[{\"line\":{\"colorbar\":{\"outlinewidth\":0,\"ticks\":\"\"}},\"type\":\"parcoords\"}],\"pie\":[{\"automargin\":true,\"type\":\"pie\"}],\"scatter\":[{\"marker\":{\"colorbar\":{\"outlinewidth\":0,\"ticks\":\"\"}},\"type\":\"scatter\"}],\"scatter3d\":[{\"line\":{\"colorbar\":{\"outlinewidth\":0,\"ticks\":\"\"}},\"marker\":{\"colorbar\":{\"outlinewidth\":0,\"ticks\":\"\"}},\"type\":\"scatter3d\"}],\"scattercarpet\":[{\"marker\":{\"colorbar\":{\"outlinewidth\":0,\"ticks\":\"\"}},\"type\":\"scattercarpet\"}],\"scattergeo\":[{\"marker\":{\"colorbar\":{\"outlinewidth\":0,\"ticks\":\"\"}},\"type\":\"scattergeo\"}],\"scattergl\":[{\"marker\":{\"colorbar\":{\"outlinewidth\":0,\"ticks\":\"\"}},\"type\":\"scattergl\"}],\"scattermapbox\":[{\"marker\":{\"colorbar\":{\"outlinewidth\":0,\"ticks\":\"\"}},\"type\":\"scattermapbox\"}],\"scatterpolar\":[{\"marker\":{\"colorbar\":{\"outlinewidth\":0,\"ticks\":\"\"}},\"type\":\"scatterpolar\"}],\"scatterpolargl\":[{\"marker\":{\"colorbar\":{\"outlinewidth\":0,\"ticks\":\"\"}},\"type\":\"scatterpolargl\"}],\"scatterternary\":[{\"marker\":{\"colorbar\":{\"outlinewidth\":0,\"ticks\":\"\"}},\"type\":\"scatterternary\"}],\"surface\":[{\"colorbar\":{\"outlinewidth\":0,\"ticks\":\"\"},\"colorscale\":[[0.0,\"#0d0887\"],[0.1111111111111111,\"#46039f\"],[0.2222222222222222,\"#7201a8\"],[0.3333333333333333,\"#9c179e\"],[0.4444444444444444,\"#bd3786\"],[0.5555555555555556,\"#d8576b\"],[0.6666666666666666,\"#ed7953\"],[0.7777777777777778,\"#fb9f3a\"],[0.8888888888888888,\"#fdca26\"],[1.0,\"#f0f921\"]],\"type\":\"surface\"}],\"table\":[{\"cells\":{\"fill\":{\"color\":\"#EBF0F8\"},\"line\":{\"color\":\"white\"}},\"header\":{\"fill\":{\"color\":\"#C8D4E3\"},\"line\":{\"color\":\"white\"}},\"type\":\"table\"}]},\"layout\":{\"annotationdefaults\":{\"arrowcolor\":\"#2a3f5f\",\"arrowhead\":0,\"arrowwidth\":1},\"autotypenumbers\":\"strict\",\"coloraxis\":{\"colorbar\":{\"outlinewidth\":0,\"ticks\":\"\"}},\"colorscale\":{\"diverging\":[[0,\"#8e0152\"],[0.1,\"#c51b7d\"],[0.2,\"#de77ae\"],[0.3,\"#f1b6da\"],[0.4,\"#fde0ef\"],[0.5,\"#f7f7f7\"],[0.6,\"#e6f5d0\"],[0.7,\"#b8e186\"],[0.8,\"#7fbc41\"],[0.9,\"#4d9221\"],[1,\"#276419\"]],\"sequential\":[[0.0,\"#0d0887\"],[0.1111111111111111,\"#46039f\"],[0.2222222222222222,\"#7201a8\"],[0.3333333333333333,\"#9c179e\"],[0.4444444444444444,\"#bd3786\"],[0.5555555555555556,\"#d8576b\"],[0.6666666666666666,\"#ed7953\"],[0.7777777777777778,\"#fb9f3a\"],[0.8888888888888888,\"#fdca26\"],[1.0,\"#f0f921\"]],\"sequentialminus\":[[0.0,\"#0d0887\"],[0.1111111111111111,\"#46039f\"],[0.2222222222222222,\"#7201a8\"],[0.3333333333333333,\"#9c179e\"],[0.4444444444444444,\"#bd3786\"],[0.5555555555555556,\"#d8576b\"],[0.6666666666666666,\"#ed7953\"],[0.7777777777777778,\"#fb9f3a\"],[0.8888888888888888,\"#fdca26\"],[1.0,\"#f0f921\"]]},\"colorway\":[\"#636efa\",\"#EF553B\",\"#00cc96\",\"#ab63fa\",\"#FFA15A\",\"#19d3f3\",\"#FF6692\",\"#B6E880\",\"#FF97FF\",\"#FECB52\"],\"font\":{\"color\":\"#2a3f5f\"},\"geo\":{\"bgcolor\":\"white\",\"lakecolor\":\"white\",\"landcolor\":\"#E5ECF6\",\"showlakes\":true,\"showland\":true,\"subunitcolor\":\"white\"},\"hoverlabel\":{\"align\":\"left\"},\"hovermode\":\"closest\",\"mapbox\":{\"style\":\"light\"},\"paper_bgcolor\":\"white\",\"plot_bgcolor\":\"#E5ECF6\",\"polar\":{\"angularaxis\":{\"gridcolor\":\"white\",\"linecolor\":\"white\",\"ticks\":\"\"},\"bgcolor\":\"#E5ECF6\",\"radialaxis\":{\"gridcolor\":\"white\",\"linecolor\":\"white\",\"ticks\":\"\"}},\"scene\":{\"xaxis\":{\"backgroundcolor\":\"#E5ECF6\",\"gridcolor\":\"white\",\"gridwidth\":2,\"linecolor\":\"white\",\"showbackground\":true,\"ticks\":\"\",\"zerolinecolor\":\"white\"},\"yaxis\":{\"backgroundcolor\":\"#E5ECF6\",\"gridcolor\":\"white\",\"gridwidth\":2,\"linecolor\":\"white\",\"showbackground\":true,\"ticks\":\"\",\"zerolinecolor\":\"white\"},\"zaxis\":{\"backgroundcolor\":\"#E5ECF6\",\"gridcolor\":\"white\",\"gridwidth\":2,\"linecolor\":\"white\",\"showbackground\":true,\"ticks\":\"\",\"zerolinecolor\":\"white\"}},\"shapedefaults\":{\"line\":{\"color\":\"#2a3f5f\"}},\"ternary\":{\"aaxis\":{\"gridcolor\":\"white\",\"linecolor\":\"white\",\"ticks\":\"\"},\"baxis\":{\"gridcolor\":\"white\",\"linecolor\":\"white\",\"ticks\":\"\"},\"bgcolor\":\"#E5ECF6\",\"caxis\":{\"gridcolor\":\"white\",\"linecolor\":\"white\",\"ticks\":\"\"}},\"title\":{\"x\":0.05},\"xaxis\":{\"automargin\":true,\"gridcolor\":\"white\",\"linecolor\":\"white\",\"ticks\":\"\",\"title\":{\"standoff\":15},\"zerolinecolor\":\"white\",\"zerolinewidth\":2},\"yaxis\":{\"automargin\":true,\"gridcolor\":\"white\",\"linecolor\":\"white\",\"ticks\":\"\",\"title\":{\"standoff\":15},\"zerolinecolor\":\"white\",\"zerolinewidth\":2}}},\"xaxis\":{\"anchor\":\"y\",\"domain\":[0.0,1.0],\"showgrid\":false,\"showline\":false,\"tickmode\":\"array\",\"ticktext\":[\"January\",\"February\",\"March\",\"April\",\"May\",\"June\",\"July\",\"August\",\"September\",\"October\",\"November\",\"December\"],\"tickvals\":[2.2857142857142856,6.285714285714286,10.714285714285714,15.0,19.428571428571427,23.714285714285715,28.142857142857142,32.57142857142857,36.857142857142854,41.285714285714285,45.57142857142857,50.0],\"zeroline\":false},\"yaxis\":{\"anchor\":\"x\",\"domain\":[0.0,1.0],\"autorange\":\"reversed\",\"showgrid\":false,\"showline\":false,\"tickmode\":\"array\",\"ticktext\":[\"Mon\",\"Tue\",\"Wed\",\"Thu\",\"Fri\",\"Sat\",\"Sun\"],\"tickvals\":[0,1,2,3,4,5,6],\"zeroline\":false},\"font\":{\"color\":\"#9e9e9e\",\"size\":10},\"margin\":{\"b\":20,\"t\":20},\"title\":{\"text\":\"\"},\"plot_bgcolor\":\"#fff\",\"showlegend\":false,\"width\":800,\"height\":150},                        {\"responsive\": true}                    ).then(function(){\n",
       "                            \n",
       "var gd = document.getElementById('68449023-76d1-4ec2-95aa-c49649bb1f1f');\n",
       "var x = new MutationObserver(function (mutations, observer) {{\n",
       "        var display = window.getComputedStyle(gd).display;\n",
       "        if (!display || display === 'none') {{\n",
       "            console.log([gd, 'removed!']);\n",
       "            Plotly.purge(gd);\n",
       "            observer.disconnect();\n",
       "        }}\n",
       "}});\n",
       "\n",
       "// Listen for the removal of the full notebook cells\n",
       "var notebookContainer = gd.closest('#notebook-container');\n",
       "if (notebookContainer) {{\n",
       "    x.observe(notebookContainer, {childList: true});\n",
       "}}\n",
       "\n",
       "// Listen for the clearing of the current output cell\n",
       "var outputEl = gd.closest('.output');\n",
       "if (outputEl) {{\n",
       "    x.observe(outputEl, {childList: true});\n",
       "}}\n",
       "\n",
       "                        })                };                });            </script>        </div>"
      ]
     },
     "metadata": {},
     "output_type": "display_data"
    }
   ],
   "source": [
    "calendar = my_methods.manuring_periods(year, mais_week, rice_week, cereal_week, custom_week)"
   ]
  },
  {
   "cell_type": "code",
   "execution_count": 32,
   "id": "73fdc95d",
   "metadata": {},
   "outputs": [
    {
     "data": {
      "application/vnd.jupyter.widget-view+json": {
       "model_id": "33c7cfdfb3f441f79cf1865d7df8009d",
       "version_major": 2,
       "version_minor": 0
      },
      "text/plain": [
       "Dropdown(description='name:', options=('mais_week', 'rice_week', 'cereal_week', 'custom_week'), value='mais_we…"
      ]
     },
     "metadata": {},
     "output_type": "display_data"
    }
   ],
   "source": [
    "# With this widget is possible to select from the dropdown list the required week\n",
    "select_week = widgets.Dropdown(\n",
    "    options=['mais_week', 'rice_week', 'cereal_week', 'custom_week'],\n",
    "    description='name:',\n",
    "    disabled=False)\n",
    "select_week"
   ]
  },
  {
   "cell_type": "code",
   "execution_count": 36,
   "id": "f60361bf",
   "metadata": {},
   "outputs": [
    {
     "name": "stdout",
     "output_type": "stream",
     "text": [
      "For rice_week the starting date is 2021-04-10 and the ending date is 2021-04-17\n"
     ]
    }
   ],
   "source": [
    "# Select start and end date of the corresponding selected week:\n",
    "start_date = str(datetime.datetime.strptime((str(year)+'-'+date[select_week.value][0]), \"%Y-%m-%d\").date())\n",
    "end_date = str(datetime.datetime.strptime((str(year)+'-'+date[select_week.value][1]), \"%Y-%m-%d\").date())\n",
    "print(\"For\", select_week.value, \"the starting date is\", start_date,\"and the ending date is\" , end_date)"
   ]
  },
  {
   "cell_type": "markdown",
   "id": "c69ac999",
   "metadata": {},
   "source": [
    "---"
   ]
  },
  {
   "cell_type": "markdown",
   "id": "15a30731",
   "metadata": {},
   "source": [
    "# [NO2 - Nitrogen Dioxide](https://developers.google.com/earth-engine/datasets/catalog/COPERNICUS_S5P_OFFL_L3_NO2) "
   ]
  },
  {
   "cell_type": "code",
   "execution_count": 22,
   "id": "e3015866",
   "metadata": {},
   "outputs": [
    {
     "data": {
      "application/vnd.jupyter.widget-view+json": {
       "model_id": "89d170bdeef2432b8c32683b4a042a27",
       "version_major": 2,
       "version_minor": 0
      },
      "text/plain": [
       "Map(center=[45.5, 10], controls=(WidgetControl(options=['position', 'transparent_bg'], widget=HBox(children=(T…"
      ]
     },
     "metadata": {},
     "output_type": "display_data"
    }
   ],
   "source": [
    "#Create a map\n",
    "Map_no2 = geemap.Map(center=[45.5,10], zoom = 7 )\n",
    "Map_no2"
   ]
  },
  {
   "cell_type": "code",
   "execution_count": 23,
   "id": "d4c364d2",
   "metadata": {},
   "outputs": [],
   "source": [
    "#Access to NO2 image collection, selecting the band name and giving a date range\n",
    "no2 = ee.ImageCollection('COPERNICUS/S5P/OFFL/L3_NO2')\\\n",
    "  .select('tropospheric_NO2_column_number_density')\\\n",
    "  .filterDate(start_date, end_date);\n",
    "\n",
    "#Image visualization properties\n",
    "no2_viz = {\n",
    "    'min': 0,\n",
    "    'max': 0.0001,\n",
    "    'opacity': 0.75,\n",
    "    'palette': ['black', 'blue', 'purple', 'cyan', 'green', 'yellow', 'red']\n",
    "};\n",
    "\n",
    "#Calculate the mean value for each pixel in the time range\n",
    "no2 = no2.mean()\n",
    "Map_no2 .addLayer(no2, no2_viz, 'no2');"
   ]
  },
  {
   "cell_type": "code",
   "execution_count": null,
   "id": "48cee5b5",
   "metadata": {},
   "outputs": [],
   "source": [
    "#Clip over the ROI previously defined\n",
    "no2_clip = no2.clip(roi)\n",
    "Map_no2.addLayer(no2_clip, no2_viz, 'no2');"
   ]
  },
  {
   "cell_type": "code",
   "execution_count": null,
   "id": "0974b311",
   "metadata": {},
   "outputs": [],
   "source": [
    "# Set output directory\n",
    "out_dir = os.path.expanduser(cwd + '/temp')\n",
    "\n",
    "if not os.path.exists(out_dir):\n",
    "    os.makedirs(out_dir)\n",
    "\n",
    "filename = os.path.join(out_dir, 'no2_s5p.tif')"
   ]
  },
  {
   "cell_type": "code",
   "execution_count": null,
   "id": "57bab351",
   "metadata": {},
   "outputs": [],
   "source": [
    "#Export the NO2 .tif file in the directory selected by filename\n",
    "geemap.ee_export_image(no2_clip, filename=filename, scale = 3500)"
   ]
  },
  {
   "cell_type": "markdown",
   "id": "980571bb",
   "metadata": {},
   "source": [
    "---"
   ]
  },
  {
   "cell_type": "markdown",
   "id": "0911d9ae",
   "metadata": {},
   "source": [
    "# [SO2 - Sulphur Dioxide](https://developers.google.com/earth-engine/datasets/catalog/COPERNICUS_S5P_OFFL_L3_SO2) "
   ]
  },
  {
   "cell_type": "code",
   "execution_count": null,
   "id": "92413e16",
   "metadata": {},
   "outputs": [],
   "source": [
    "Map_so2 = geemap.Map(center=[45.5,10], zoom = 7 )\n",
    "Map_so2 "
   ]
  },
  {
   "cell_type": "code",
   "execution_count": null,
   "id": "7605fa44",
   "metadata": {},
   "outputs": [],
   "source": [
    "#Access to SO2 image collection, selecting the band name and giving a date range\n",
    "so2 = ee.ImageCollection('COPERNICUS/S5P/OFFL/L3_SO2')\\\n",
    "  .select('SO2_column_number_density')\\\n",
    "  .filterDate(start_date, end_date);\n",
    "\n",
    "#Image visualization properties\n",
    "so2_viz = {\n",
    "    'min': 0,\n",
    "    'max': 0.001,\n",
    "    'opacity': 0.75,\n",
    "    'palette': ['black', 'blue', 'purple', 'cyan', 'green', 'yellow', 'red']\n",
    "};\n",
    "\n",
    "#Calculate the mean value for each pixel in the time range\n",
    "so2 = so2.mean()\n",
    "Map_so2 .addLayer(so2, so2_viz, 'so2');"
   ]
  },
  {
   "cell_type": "code",
   "execution_count": null,
   "id": "3b64d4f3",
   "metadata": {},
   "outputs": [],
   "source": [
    "#Clip over the ROI previously defined\n",
    "so2_clip = so2.clip(roi)\n",
    "Map_so2 .addLayer(so2_clip, so2_viz, 'so2');"
   ]
  },
  {
   "cell_type": "code",
   "execution_count": null,
   "id": "b4d0e736",
   "metadata": {},
   "outputs": [],
   "source": [
    "# Set output directory for SO2\n",
    "out_dir = os.path.expanduser(cwd + '/temp')\n",
    "\n",
    "filename = os.path.join(out_dir, 'so2_s5p.tif')"
   ]
  },
  {
   "cell_type": "code",
   "execution_count": null,
   "id": "48fa15c3",
   "metadata": {},
   "outputs": [],
   "source": [
    "geemap.ee_export_image(so2_clip, filename=filename, scale= 3500)"
   ]
  },
  {
   "cell_type": "markdown",
   "id": "ccc271c4",
   "metadata": {},
   "source": [
    "---"
   ]
  },
  {
   "cell_type": "markdown",
   "id": "1b5f196a",
   "metadata": {},
   "source": [
    "# [UVAI - Ultraviolet Aerosol Index](https://developers.google.com/earth-engine/datasets/catalog/COPERNICUS_S5P_OFFL_L3_AER_AI) "
   ]
  },
  {
   "cell_type": "code",
   "execution_count": null,
   "id": "d024f155",
   "metadata": {},
   "outputs": [],
   "source": [
    "Map_uvai = geemap.Map(center=[45.5,10], zoom = 7 )\n",
    "Map_uvai"
   ]
  },
  {
   "cell_type": "code",
   "execution_count": null,
   "id": "e8555188",
   "metadata": {},
   "outputs": [],
   "source": [
    "#Access to UV Aerosol index image collection, selecting the band name and giving a date range\n",
    "uvai = ee.ImageCollection('COPERNICUS/S5P/OFFL/L3_AER_AI')\\\n",
    "  .select('absorbing_aerosol_index')\\\n",
    "  .filterDate(start_date, end_date);\n",
    "\n",
    "#Image visualization properties\n",
    "uvai_viz = {\n",
    "    'min': -2,\n",
    "    'max': 0.1,\n",
    "    'opacity': 0.75,\n",
    "    'palette': ['black', 'blue', 'purple', 'cyan', 'green', 'yellow', 'red']\n",
    "};\n",
    "\n",
    "#Calculate the mean value for each pixel in the time range\n",
    "uvai = uvai.mean()\n",
    "Map_uvai.addLayer(uvai, uvai_viz, 'uvai');"
   ]
  },
  {
   "cell_type": "code",
   "execution_count": null,
   "id": "4439b00b",
   "metadata": {},
   "outputs": [],
   "source": [
    "#Clip over the ROI previously defined\n",
    "uvai_clip = uvai.clip(roi)\n",
    "Map_uvai.addLayer(uvai_clip, uvai_viz, 'uvai');"
   ]
  },
  {
   "cell_type": "code",
   "execution_count": null,
   "id": "5a72c762",
   "metadata": {},
   "outputs": [],
   "source": [
    "# Set output directory for UVAI\n",
    "out_dir = os.path.expanduser(cwd + '/temp')\n",
    "\n",
    "filename = os.path.join(out_dir, 'uvai_s5p.tif')"
   ]
  },
  {
   "cell_type": "code",
   "execution_count": null,
   "id": "07c24195",
   "metadata": {},
   "outputs": [],
   "source": [
    "geemap.ee_export_image(uvai_clip, filename=filename, scale=3500)"
   ]
  },
  {
   "cell_type": "markdown",
   "id": "7478b63d",
   "metadata": {},
   "source": [
    "- - -"
   ]
  },
  {
   "cell_type": "markdown",
   "id": "714766df",
   "metadata": {},
   "source": [
    "# [CO - Carbon Monoxide](https://developers.google.com/earth-engine/datasets/catalog/COPERNICUS_S5P_OFFL_L3_CO) "
   ]
  },
  {
   "cell_type": "code",
   "execution_count": null,
   "id": "812bc1e3",
   "metadata": {},
   "outputs": [],
   "source": [
    "Map_co = geemap.Map(center=[45.5,10], zoom = 7 )\n",
    "Map_co"
   ]
  },
  {
   "cell_type": "code",
   "execution_count": null,
   "id": "cf057654",
   "metadata": {},
   "outputs": [],
   "source": [
    "#Access to CO image collection, selecting the band name and giving a date range\n",
    "co = ee.ImageCollection('COPERNICUS/S5P/OFFL/L3_CO')\\\n",
    "  .select('CO_column_number_density')\\\n",
    "  .filterDate(start_date, end_date);\n",
    "\n",
    "#Image visualization properties\n",
    "co_viz = {\n",
    "    'min': 0,\n",
    "    'max': 0.05,\n",
    "    'opacity': 0.75,\n",
    "    'palette': ['black', 'blue', 'purple', 'cyan', 'green', 'yellow', 'red']\n",
    "};\n",
    "\n",
    "co = co.mean()\n",
    "Map_co.addLayer(co, co_viz, 'co');"
   ]
  },
  {
   "cell_type": "code",
   "execution_count": null,
   "id": "9857e8a0",
   "metadata": {},
   "outputs": [],
   "source": [
    "#Clip over the ROI previously defined\n",
    "co_clip = co.clip(roi)\n",
    "Map_co.addLayer(co_clip, co_viz, 'co');"
   ]
  },
  {
   "cell_type": "code",
   "execution_count": null,
   "id": "7d4be7e8",
   "metadata": {},
   "outputs": [],
   "source": [
    "# Set output directory for CO\n",
    "out_dir = os.path.expanduser(cwd + '/temp')\n",
    "\n",
    "filename = os.path.join(out_dir, 'co_s5p.tif')"
   ]
  },
  {
   "cell_type": "code",
   "execution_count": null,
   "id": "a4308932",
   "metadata": {},
   "outputs": [],
   "source": [
    "geemap.ee_export_image(co_clip, filename=filename, scale= 5500)"
   ]
  },
  {
   "cell_type": "markdown",
   "id": "b985a024",
   "metadata": {},
   "source": [
    "- - -"
   ]
  },
  {
   "cell_type": "markdown",
   "id": "b52b12d2",
   "metadata": {},
   "source": [
    "# [CH2O - Formaldehyde](https://developers.google.com/earth-engine/datasets/catalog/COPERNICUS_S5P_OFFL_L3_HCHO) "
   ]
  },
  {
   "cell_type": "code",
   "execution_count": null,
   "id": "98a3a76e",
   "metadata": {},
   "outputs": [],
   "source": [
    "Map_form = geemap.Map(center=[45.5,10], zoom = 7 )\n",
    "Map_form"
   ]
  },
  {
   "cell_type": "code",
   "execution_count": null,
   "id": "53f21e85",
   "metadata": {},
   "outputs": [],
   "source": [
    "#Access to HCHO image collection, selecting the band name and giving a date range\n",
    "form = ee.ImageCollection('COPERNICUS/S5P/OFFL/L3_HCHO')\\\n",
    "  .select('tropospheric_HCHO_column_number_density')\\\n",
    "  .filterDate(start_date, end_date);\n",
    "\n",
    "#Image visualization properties\n",
    "form_viz = {\n",
    "    'min': 0,\n",
    "    'max': 0.0003,\n",
    "    'opacity': 0.75,\n",
    "    'palette': ['black', 'blue', 'purple', 'cyan', 'green', 'yellow', 'red']\n",
    "};\n",
    "\n",
    "#Calculate the mean value for each pixel in the time range\n",
    "form = form.mean()\n",
    "Map_form.addLayer(form, form_viz, 'form');"
   ]
  },
  {
   "cell_type": "code",
   "execution_count": null,
   "id": "504d9e4e",
   "metadata": {},
   "outputs": [],
   "source": [
    "#Clip over the ROI previously defined\n",
    "form_clip = form.clip(roi)\n",
    "Map_form.addLayer(form_clip, form_viz, 'form');"
   ]
  },
  {
   "cell_type": "code",
   "execution_count": null,
   "id": "f8316be8",
   "metadata": {},
   "outputs": [],
   "source": [
    "# Set output directory for Ozone\n",
    "out_dir = os.path.expanduser(cwd + '/temp')\n",
    "\n",
    "filename = os.path.join(out_dir, 'ch2o_s5p.tif')"
   ]
  },
  {
   "cell_type": "code",
   "execution_count": null,
   "id": "8e2799f4",
   "metadata": {},
   "outputs": [],
   "source": [
    "geemap.ee_export_image(form_clip, filename=filename, scale= 3500)"
   ]
  },
  {
   "cell_type": "markdown",
   "id": "34cfe125",
   "metadata": {},
   "source": [
    "---"
   ]
  },
  {
   "cell_type": "markdown",
   "id": "868e968a",
   "metadata": {},
   "source": [
    "# [O3 - Ozone](https://developers.google.com/earth-engine/datasets/catalog/COPERNICUS_S5P_OFFL_L3_O3) "
   ]
  },
  {
   "cell_type": "code",
   "execution_count": null,
   "id": "ffecf7bb",
   "metadata": {},
   "outputs": [],
   "source": [
    "Map_o3 = geemap.Map(center=[45.5,10], zoom = 7 )\n",
    "Map_o3"
   ]
  },
  {
   "cell_type": "code",
   "execution_count": null,
   "id": "3c1ae6ac",
   "metadata": {},
   "outputs": [],
   "source": [
    "#Access to O3 image collection, selecting the band name and giving a date range\n",
    "o3 = ee.ImageCollection('COPERNICUS/S5P/OFFL/L3_O3')\\\n",
    "  .select('O3_column_number_density')\\\n",
    "  .filterDate(start_date, end_date);\n",
    "\n",
    "#Image visualization properties\n",
    "o3_viz = {\n",
    "    'min': 0,\n",
    "    'max': 0.17,\n",
    "    'opacity': 0.75,\n",
    "    'palette': ['black', 'blue', 'purple', 'cyan', 'green', 'yellow', 'red']\n",
    "};\n",
    "\n",
    "#Calculate the mean value for each pixel in the time range\n",
    "o3 = o3.mean()\n",
    "Map_o3.addLayer(o3, o3_viz, 'o3');"
   ]
  },
  {
   "cell_type": "code",
   "execution_count": null,
   "id": "afd9ad28",
   "metadata": {},
   "outputs": [],
   "source": [
    "#Clip over the ROI previously defined\n",
    "o3_clip = o3.clip(roi)\n",
    "Map_o3.addLayer(o3_clip, o3_viz, 'o3');"
   ]
  },
  {
   "cell_type": "code",
   "execution_count": null,
   "id": "cb725792",
   "metadata": {},
   "outputs": [],
   "source": [
    "# Set output directory for Ozone\n",
    "out_dir = os.path.expanduser(cwd + '/temp')\n",
    "\n",
    "filename = os.path.join(out_dir, 'o3_s5p.tif')"
   ]
  },
  {
   "cell_type": "code",
   "execution_count": null,
   "id": "25af9f82",
   "metadata": {},
   "outputs": [],
   "source": [
    "geemap.ee_export_image(o3_clip, filename=filename, scale= 3500)"
   ]
  },
  {
   "cell_type": "markdown",
   "id": "617db008",
   "metadata": {},
   "source": [
    "- - -"
   ]
  },
  {
   "cell_type": "markdown",
   "id": "39feb482",
   "metadata": {},
   "source": [
    "# [CH4 - Methane](https://developers.google.com/earth-engine/datasets/catalog/COPERNICUS_S5P_OFFL_L3_CH4#bands) "
   ]
  },
  {
   "cell_type": "code",
   "execution_count": null,
   "id": "70b92849",
   "metadata": {},
   "outputs": [],
   "source": [
    "#Create a map\n",
    "Map_ch4 = geemap.Map(center=[45.5,10], zoom = 7 )\n",
    "Map_ch4"
   ]
  },
  {
   "cell_type": "code",
   "execution_count": null,
   "id": "d9d1dc1c",
   "metadata": {},
   "outputs": [],
   "source": [
    "#Access to CH4 image collection, selecting the band name and giving a date range\n",
    "ch4 = ee.ImageCollection('COPERNICUS/S5P/OFFL/L3_CH4')\\\n",
    "  .select('CH4_column_volume_mixing_ratio_dry_air')\\\n",
    "  .filterDate(start_date, end_date);\n",
    "\n",
    "#Image visualization properties\n",
    "ch4_viz = {\n",
    "    'min': 1750,\n",
    "    'max': 1900,\n",
    "    'opacity': 0.75,\n",
    "    'palette': ['black', 'blue', 'purple', 'cyan', 'green', 'yellow', 'red']\n",
    "};\n",
    "\n",
    "#Calculate the mean value for each pixel in the time range\n",
    "ch4 = ch4.mean()\n",
    "Map_ch4 .addLayer(ch4, ch4_viz, 'ch4');"
   ]
  },
  {
   "cell_type": "code",
   "execution_count": null,
   "id": "0328ae71",
   "metadata": {},
   "outputs": [],
   "source": [
    "#Clip over the ROI previously defined\n",
    "ch4_clip = ch4.clip(roi)\n",
    "Map_ch4 .addLayer(ch4_clip, ch4_viz, 'ch4');"
   ]
  },
  {
   "cell_type": "code",
   "execution_count": null,
   "id": "0e1526f9",
   "metadata": {},
   "outputs": [],
   "source": [
    "# Set output directory for Ozone\n",
    "out_dir = os.path.expanduser(cwd + '/temp')\n",
    "\n",
    "filename = os.path.join(out_dir, 'ch4_s5p.tif')"
   ]
  },
  {
   "cell_type": "code",
   "execution_count": null,
   "id": "484d2684",
   "metadata": {},
   "outputs": [],
   "source": [
    "geemap.ee_export_image(ch4_clip, filename=filename, scale= 5500)"
   ]
  },
  {
   "cell_type": "markdown",
   "id": "9c65a105",
   "metadata": {},
   "source": [
    "----"
   ]
  },
  {
   "cell_type": "markdown",
   "id": "8501a882",
   "metadata": {},
   "source": [
    "# [AOD 550nm - Aerosol Optical Depth](https://developers.google.com/earth-engine/datasets/catalog/MODIS_006_MCD19A2_GRANULES) "
   ]
  },
  {
   "cell_type": "code",
   "execution_count": null,
   "id": "daec1ce9",
   "metadata": {},
   "outputs": [],
   "source": [
    "Map_aod55 = geemap.Map(center=[45.5,10], zoom = 7 )\n",
    "Map_aod55"
   ]
  },
  {
   "cell_type": "code",
   "execution_count": null,
   "id": "c0d79b66",
   "metadata": {},
   "outputs": [],
   "source": [
    "#Access to AOD 500 nm image collection, selecting the band name and giving a date range\n",
    "aod55 = ee.ImageCollection('MODIS/006/MCD19A2_GRANULES')\\\n",
    "  .select('Optical_Depth_055')\\\n",
    "  .filterDate(start_date, end_date);\n",
    "\n",
    "#Image visualization properties\n",
    "aod55_viz = {\n",
    "    'min': 0,\n",
    "    'max': 250,\n",
    "    'opacity': 0.75,\n",
    "    'palette': ['black', 'blue', 'purple', 'cyan', 'green', 'yellow', 'red']\n",
    "};\n",
    "\n",
    "#Calculate the mean value for each pixel in the time range\n",
    "aod55 = aod55.mean()\n",
    "Map_aod55.addLayer(aod55, aod55_viz, 'aod55');"
   ]
  },
  {
   "cell_type": "code",
   "execution_count": null,
   "id": "17288b42",
   "metadata": {},
   "outputs": [],
   "source": [
    "#Clip over the ROI previously defined\n",
    "aod55_clip = aod55.clip(roi)\n",
    "Map_aod55.addLayer(aod55_clip, aod55_viz, 'aod55');"
   ]
  },
  {
   "cell_type": "code",
   "execution_count": null,
   "id": "f862a8e2",
   "metadata": {},
   "outputs": [],
   "source": [
    "# Set output directory for AOD\n",
    "out_dir = os.path.expanduser(cwd + '/temp')\n",
    "\n",
    "filename = os.path.join(out_dir, 'aod_055.tif')"
   ]
  },
  {
   "cell_type": "code",
   "execution_count": null,
   "id": "50582976",
   "metadata": {},
   "outputs": [],
   "source": [
    "geemap.ee_export_image(aod55_clip, filename=filename, scale=1000)"
   ]
  },
  {
   "cell_type": "markdown",
   "id": "f1639c43",
   "metadata": {},
   "source": [
    "----"
   ]
  },
  {
   "cell_type": "markdown",
   "id": "bd3ca9fb",
   "metadata": {},
   "source": [
    "# [AOD 470nm - Aerosol Optical Depth](https://developers.google.com/earth-engine/datasets/catalog/MODIS_006_MCD19A2_GRANULES) "
   ]
  },
  {
   "cell_type": "code",
   "execution_count": null,
   "id": "324bb290",
   "metadata": {},
   "outputs": [],
   "source": [
    "Map_aod47 = geemap.Map(center=[45.5,10], zoom = 7 )\n",
    "Map_aod47"
   ]
  },
  {
   "cell_type": "code",
   "execution_count": null,
   "id": "43a95793",
   "metadata": {},
   "outputs": [],
   "source": [
    "#Access to AOD 470 nm image collection, selecting the band name and giving a date range\n",
    "aod47 = ee.ImageCollection('MODIS/006/MCD19A2_GRANULES')\\\n",
    "  .select('Optical_Depth_047')\\\n",
    "  .filterDate(start_date, end_date);\n",
    "\n",
    "#Image visualization properties\n",
    "aod47_viz = {\n",
    "    'min': 0,\n",
    "    'max': 250,\n",
    "    'opacity': 0.75,\n",
    "    'palette': ['black', 'blue', 'purple', 'cyan', 'green', 'yellow', 'red']\n",
    "};\n",
    "\n",
    "#Calculate the mean value for each pixel in the time range\n",
    "aod47 = aod47.mean()\n",
    "Map_aod47.addLayer(aod47, aod47_viz, 'aod47');"
   ]
  },
  {
   "cell_type": "code",
   "execution_count": null,
   "id": "8a1b3dcb",
   "metadata": {},
   "outputs": [],
   "source": [
    "#Clip over the ROI previously defined\n",
    "aod47_clip = aod47.clip(roi)\n",
    "Map_aod47.addLayer(aod47_clip, aod47_viz, 'aod47');"
   ]
  },
  {
   "cell_type": "code",
   "execution_count": null,
   "id": "04d088b4",
   "metadata": {},
   "outputs": [],
   "source": [
    "# Set output directory for AOD\n",
    "out_dir = os.path.expanduser(cwd + '/temp')\n",
    "\n",
    "filename = os.path.join(out_dir, 'aod_047.tif')"
   ]
  },
  {
   "cell_type": "code",
   "execution_count": null,
   "id": "8adceaf4",
   "metadata": {},
   "outputs": [],
   "source": [
    "geemap.ee_export_image(aod47_clip, filename=filename, scale=1000)"
   ]
  },
  {
   "cell_type": "markdown",
   "id": "7a0015ae",
   "metadata": {},
   "source": [
    "---"
   ]
  },
  {
   "cell_type": "markdown",
   "id": "dd48c590",
   "metadata": {},
   "source": [
    "# [NDVI - Normalized Difference Vegetation Index - 16-Day Global](https://developers.google.com/earth-engine/datasets/catalog/MODIS_006_MOD13Q1) "
   ]
  },
  {
   "cell_type": "markdown",
   "id": "b56d3d25-9fbe-4a51-9302-15e6be54e5a7",
   "metadata": {},
   "source": [
    "Since the NDVI data are available every 16 days, the next NDVI is selected if not available in the selected week: "
   ]
  },
  {
   "cell_type": "code",
   "execution_count": 53,
   "id": "12af922f-b0f4-40b8-afcb-99ec15d6b250",
   "metadata": {},
   "outputs": [
    {
     "data": {
      "text/plain": [
       "'2021-04-27'"
      ]
     },
     "execution_count": 53,
     "metadata": {},
     "output_type": "execute_result"
    }
   ],
   "source": [
    "ndvi_date_end = str(datetime.datetime.strptime(str(year)+'-'+date[select_week.value][1], \"%Y-%m-%d\").date()+datetime.timedelta(days=10))"
   ]
  },
  {
   "cell_type": "code",
   "execution_count": 55,
   "id": "da59cfd8",
   "metadata": {},
   "outputs": [
    {
     "data": {
      "application/vnd.jupyter.widget-view+json": {
       "model_id": "a240fd8248c14c14bb2d096b5ed9f261",
       "version_major": 2,
       "version_minor": 0
      },
      "text/plain": [
       "Map(center=[45.5, 10], controls=(WidgetControl(options=['position', 'transparent_bg'], widget=HBox(children=(T…"
      ]
     },
     "metadata": {},
     "output_type": "display_data"
    }
   ],
   "source": [
    "Map_ndvi = geemap.Map(center=[45.5,10], zoom = 7 )\n",
    "Map_ndvi"
   ]
  },
  {
   "cell_type": "code",
   "execution_count": 56,
   "id": "5e17f7d1",
   "metadata": {},
   "outputs": [],
   "source": [
    "#Access to NDVI image collection, selecting the band name and giving a date range\n",
    "ndvi= ee.ImageCollection('MODIS/006/MOD13Q1')\\\n",
    "  .select('NDVI')\\\n",
    "  .filterDate(start_date, ndvi_date_end);\n",
    "\n",
    "#Image visualization properties\n",
    "ndvi_viz = {\n",
    "    'min': 0,\n",
    "    'max': 8000,\n",
    "    'opacity': 0.75,\n",
    "    'palette': [\n",
    "    'FFFFFF', 'CE7E45', 'DF923D', 'F1B555', 'FCD163', '99B718', '74A901',\n",
    "    '66A000', '529400', '3E8601', '207401', '056201', '004C00', '023B01',\n",
    "    '012E01', '011D01', '011301'\n",
    "  ]\n",
    "};\n",
    "\n",
    "#Calculate the mean value for each pixel in the time range\n",
    "ndvi = ndvi.mean()\n",
    "Map_ndvi.addLayer(ndvi, ndvi_viz, 'ndvi');"
   ]
  },
  {
   "cell_type": "code",
   "execution_count": null,
   "id": "c1d9ec43",
   "metadata": {},
   "outputs": [],
   "source": [
    "ndvi_clip = ndvi.clip(roi)\n",
    "Map_ndvi.addLayer(ndvi_clip, ndvi_viz, 'ndvi');"
   ]
  },
  {
   "cell_type": "code",
   "execution_count": null,
   "id": "4ef1f125",
   "metadata": {},
   "outputs": [],
   "source": [
    "# Set output directory for NDVI\n",
    "out_dir = os.path.expanduser(cwd + '/temp')\n",
    "\n",
    "\n",
    "filename = os.path.join(out_dir, 'ndvi.tif')"
   ]
  },
  {
   "cell_type": "code",
   "execution_count": null,
   "id": "bd83e59b",
   "metadata": {},
   "outputs": [],
   "source": [
    "geemap.ee_export_image(ndvi_clip, filename=filename, scale=250)"
   ]
  },
  {
   "cell_type": "markdown",
   "id": "c9e691cf",
   "metadata": {},
   "source": [
    "- - -"
   ]
  },
  {
   "cell_type": "markdown",
   "id": "3039d462",
   "metadata": {},
   "source": [
    "Additional layer for Soil type classification:"
   ]
  },
  {
   "cell_type": "markdown",
   "id": "1bd555f2",
   "metadata": {},
   "source": [
    "# [Soil type - Open Land Map USDA](https://developers.google.com/earth-engine/datasets/catalog/OpenLandMap_SOL_SOL_TEXTURE-CLASS_USDA-TT_M_v02#description)"
   ]
  },
  {
   "cell_type": "code",
   "execution_count": null,
   "id": "66216a79",
   "metadata": {},
   "outputs": [],
   "source": [
    "Map_soil = geemap.Map(center=[45.5,10], zoom = 7 )\n",
    "Map_soil"
   ]
  },
  {
   "cell_type": "code",
   "execution_count": null,
   "id": "78836db1",
   "metadata": {},
   "outputs": [],
   "source": [
    "#Access to USDA Open Land Map soil type image\n",
    "soil = ee.Image(\"OpenLandMap/SOL/SOL_TEXTURE-CLASS_USDA-TT_M/v02\")\\\n",
    "        .select('b0')\n",
    "\n",
    "soil_viz = {\n",
    "  'bands': ['b0'],\n",
    "  'min': 1.0,\n",
    "  'max': 12.0,\n",
    "  'palette': [\n",
    "    \"d5c36b\",\"b96947\",\"9d3706\",\"ae868f\",\"f86714\",\"46d143\",\n",
    "    \"368f20\",\"3e5a14\",\"ffd557\",\"fff72e\",\"ff5a9d\",\"ff005b\",\n",
    "  ]\n",
    "};"
   ]
  },
  {
   "cell_type": "code",
   "execution_count": null,
   "id": "543c46d0",
   "metadata": {},
   "outputs": [],
   "source": [
    "soil_clip = soil.clip(roi)"
   ]
  },
  {
   "cell_type": "code",
   "execution_count": null,
   "id": "d1d6d763",
   "metadata": {},
   "outputs": [],
   "source": [
    "Map_soil.addLayer(soil_clip, soil_viz, 'Soil Type');"
   ]
  },
  {
   "cell_type": "code",
   "execution_count": null,
   "id": "90093d5a",
   "metadata": {},
   "outputs": [],
   "source": [
    "out_dir = os.path.expanduser(cwd + '/terrain')\n",
    "filename = os.path.join(out_dir, 'soil_type.tif')\n",
    "geemap.ee_export_image(soil_clip, filename=filename, scale=250)"
   ]
  }
 ],
 "metadata": {
  "kernelspec": {
   "display_name": "Python 3 (ipykernel)",
   "language": "python",
   "name": "python3"
  },
  "language_info": {
   "codemirror_mode": {
    "name": "ipython",
    "version": 3
   },
   "file_extension": ".py",
   "mimetype": "text/x-python",
   "name": "python",
   "nbconvert_exporter": "python",
   "pygments_lexer": "ipython3",
   "version": "3.9.10"
  }
 },
 "nbformat": 4,
 "nbformat_minor": 5
}
