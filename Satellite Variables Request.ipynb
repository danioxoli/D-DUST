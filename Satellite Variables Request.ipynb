{
 "cells": [
  {
   "cell_type": "markdown",
   "id": "7df1344b",
   "metadata": {},
   "source": [
    "# API Request notebook for air quality satellite data from Google Earth Engine API / geemap"
   ]
  },
  {
   "cell_type": "markdown",
   "id": "1343a732",
   "metadata": {},
   "source": [
    "This notebook is used to download data from satellite instruments such as Sentinel-5P Tropomi and Terra&Aqua MODIS."
   ]
  },
  {
   "cell_type": "markdown",
   "id": "67f665a1",
   "metadata": {},
   "source": [
    "This notebook allows access to [Google Earth Engine API](https://developers.google.com/earth-engine/datasets) using [geemap](https://geemap.org/) Python library and it requests data over the region identified by the bounding box given as input.\n",
    "It also calculates the mean value for each variable in the given week (defined in the **date.json** file)."
   ]
  },
  {
   "cell_type": "markdown",
   "id": "037aca71",
   "metadata": {},
   "source": [
    "**Sentinel-5P Tropomi** data considered in this notebook:\n",
    "1. Nitrogen Dioxide - NO2\n",
    "2. Ozone - O3\n",
    "3. Sulphur Dioxide - SO2\n",
    "4. Carbon Monoxide - CO\n",
    "5. Formaldehyde - CH2O\n",
    "6. Ultraviole Aerosol Index - UVAI"
   ]
  },
  {
   "cell_type": "markdown",
   "id": "1917adf9",
   "metadata": {},
   "source": [
    "**Terra & Aqua MODIS** data considered in this notebook:\n",
    "1. Aerosol Optical Depth (AOD) 550 nm \n",
    "2. Aerosol Optical Depth (AOD) 470 nm "
   ]
  },
  {
   "cell_type": "markdown",
   "id": "44feb4dc",
   "metadata": {},
   "source": [
    "Two additional datasets are also downloaded in the last part of the notebook:\n",
    "1. NDVI 16-Days Global\n",
    "2. Soil Type OpenLandMap USDA"
   ]
  },
  {
   "cell_type": "markdown",
   "id": "427ec1a4",
   "metadata": {},
   "source": [
    "### Documentation"
   ]
  },
  {
   "cell_type": "markdown",
   "id": "ba94fea2",
   "metadata": {},
   "source": [
    "Reference material and datasets:\n",
    "1. Sentinel-5P products: https://sentinels.copernicus.eu/web/sentinel/data-products\n",
    "2. Terra & Aqua MODIS: https://modis.gsfc.nasa.gov/about/\n",
    "3. geemap site and documentation: https://geemap.org/\n",
    "4. geemap GitHub repository: https://github.com/giswqs/geemap\n",
    "5. Google Earth Engine catalog: https://developers.google.com/earth-engine/datasets\n",
    "\n",
    "Each paragraph links to the specific resource used in this notebook."
   ]
  },
  {
   "cell_type": "markdown",
   "id": "dd30dcd6",
   "metadata": {},
   "source": [
    "### Import libraries"
   ]
  },
  {
   "cell_type": "code",
   "execution_count": 1,
   "id": "775426b5",
   "metadata": {},
   "outputs": [],
   "source": [
    "import ee\n",
    "import geemap\n",
    "import os\n",
    "import geopandas as gpd\n",
    "import json\n",
    "import ipywidgets as widgets"
   ]
  },
  {
   "cell_type": "code",
   "execution_count": 2,
   "id": "3598edbb",
   "metadata": {},
   "outputs": [],
   "source": [
    "from functions import my_methods"
   ]
  },
  {
   "cell_type": "markdown",
   "id": "b5aa9781",
   "metadata": {},
   "source": [
    "### Authentication\n",
    "A Google account is required to be able to log in and provide the requested URL:"
   ]
  },
  {
   "cell_type": "code",
   "execution_count": 3,
   "id": "d9725309",
   "metadata": {},
   "outputs": [
    {
     "data": {
      "text/html": [
       "<p>To authorize access needed by Earth Engine, open the following\n",
       "        URL in a web browser and follow the instructions:</p>\n",
       "        <p><a href=https://accounts.google.com/o/oauth2/auth?client_id=517222506229-vsmmajv00ul0bs7p89v5m89qs8eb9359.apps.googleusercontent.com&scope=https%3A%2F%2Fwww.googleapis.com%2Fauth%2Fearthengine+https%3A%2F%2Fwww.googleapis.com%2Fauth%2Fdevstorage.full_control&redirect_uri=urn%3Aietf%3Awg%3Aoauth%3A2.0%3Aoob&response_type=code&code_challenge=BCnPMg2LQhWe85HHoeIr_SM_ssEi_1Zz6YA4UkASJqU&code_challenge_method=S256>https://accounts.google.com/o/oauth2/auth?client_id=517222506229-vsmmajv00ul0bs7p89v5m89qs8eb9359.apps.googleusercontent.com&scope=https%3A%2F%2Fwww.googleapis.com%2Fauth%2Fearthengine+https%3A%2F%2Fwww.googleapis.com%2Fauth%2Fdevstorage.full_control&redirect_uri=urn%3Aietf%3Awg%3Aoauth%3A2.0%3Aoob&response_type=code&code_challenge=BCnPMg2LQhWe85HHoeIr_SM_ssEi_1Zz6YA4UkASJqU&code_challenge_method=S256</a></p>\n",
       "        <p>The authorization workflow will generate a code, which you\n",
       "        should paste in the box below</p>\n",
       "        "
      ],
      "text/plain": [
       "<IPython.core.display.HTML object>"
      ]
     },
     "metadata": {},
     "output_type": "display_data"
    },
    {
     "name": "stdout",
     "output_type": "stream",
     "text": [
      "Enter verification code: 4/1AX4XfWieEIGmLDjB4i9Qe98Nc5erfDnfoSTydpgIGmOEmxHHR7tMdnkXnVk\n",
      "\n",
      "Successfully saved authorization token.\n"
     ]
    }
   ],
   "source": [
    "ee.Authenticate()"
   ]
  },
  {
   "cell_type": "code",
   "execution_count": 3,
   "id": "1131cce5",
   "metadata": {},
   "outputs": [],
   "source": [
    "ee.Initialize()"
   ]
  },
  {
   "cell_type": "code",
   "execution_count": 4,
   "id": "f6d71feb",
   "metadata": {},
   "outputs": [],
   "source": [
    "# Set current working directory\n",
    "cwd = os.getcwd()"
   ]
  },
  {
   "cell_type": "markdown",
   "id": "57610d76",
   "metadata": {},
   "source": [
    "\n",
    "### Bounding Box selection\n",
    "The bounding box for the project is given as input and it's used as Region of Interest for the following calculations:"
   ]
  },
  {
   "cell_type": "code",
   "execution_count": 5,
   "id": "3db8c045",
   "metadata": {},
   "outputs": [],
   "source": [
    "area_path = cwd + '/bounding_box/bounding_box_buffer20.gpkg'\n",
    "area = gpd.read_file(area_path).to_crs(4326)\n",
    "bounds = area.total_bounds\n",
    "roi = ee.Geometry.BBox(bounds[0],bounds[1],bounds[2],bounds[3])"
   ]
  },
  {
   "cell_type": "markdown",
   "id": "d47f19d7",
   "metadata": {},
   "source": [
    "### Date selection\n",
    "The date is provided with the following order (yyyy-mm-dd). They are stored in the **date.json** file:"
   ]
  },
  {
   "cell_type": "code",
   "execution_count": 7,
   "id": "ae7e2a70",
   "metadata": {},
   "outputs": [],
   "source": [
    "d = open('date.json')\n",
    "date = json.load(d)\n",
    "year = date['year']\n",
    "mais_week = date['mais_week']\n",
    "rice_week = date['rice_week']\n",
    "cereal_week = date['cereal_week']"
   ]
  },
  {
   "cell_type": "code",
   "execution_count": 26,
   "id": "fb459cef",
   "metadata": {},
   "outputs": [
    {
     "name": "stderr",
     "output_type": "stream",
     "text": [
      "C:\\Users\\Administrator\\anaconda3\\envs\\ddust\\lib\\site-packages\\plotly_calplot\\calplot.py:262: UserWarning:\n",
      "\n",
      "Parsing '31-12-2020' in DD/MM/YYYY format. Provide format or specify infer_datetime_format=True for consistent parsing.\n",
      "\n"
     ]
    },
    {
     "data": {
      "application/vnd.plotly.v1+json": {
       "config": {
        "plotlyServerURL": "https://plot.ly"
       },
       "data": [
        {
         "colorscale": [
          [
           0,
           "rgb(247,252,245)"
          ],
          [
           0.125,
           "rgb(229,245,224)"
          ],
          [
           0.25,
           "rgb(199,233,192)"
          ],
          [
           0.375,
           "rgb(161,217,155)"
          ],
          [
           0.5,
           "rgb(116,196,118)"
          ],
          [
           0.625,
           "rgb(65,171,93)"
          ],
          [
           0.75,
           "rgb(35,139,69)"
          ],
          [
           0.875,
           "rgb(0,109,44)"
          ],
          [
           1,
           "rgb(0,68,27)"
          ]
         ],
         "customdata": [
          [
           "2020-01-01",
           "y"
          ],
          [
           "2020-01-02",
           "y"
          ],
          [
           "2020-01-03",
           "y"
          ],
          [
           "2020-01-04",
           "y"
          ],
          [
           "2020-01-05",
           "y"
          ],
          [
           "2020-01-06",
           "y"
          ],
          [
           "2020-01-07",
           "y"
          ],
          [
           "2020-01-08",
           "y"
          ],
          [
           "2020-01-09",
           "y"
          ],
          [
           "2020-01-10",
           "y"
          ],
          [
           "2020-01-11",
           "y"
          ],
          [
           "2020-01-12",
           "y"
          ],
          [
           "2020-01-13",
           "y"
          ],
          [
           "2020-01-14",
           "y"
          ],
          [
           "2020-01-15",
           "y"
          ],
          [
           "2020-01-16",
           "y"
          ],
          [
           "2020-01-17",
           "y"
          ],
          [
           "2020-01-18",
           "y"
          ],
          [
           "2020-01-19",
           "y"
          ],
          [
           "2020-01-20",
           "y"
          ],
          [
           "2020-01-21",
           "y"
          ],
          [
           "2020-01-22",
           "y"
          ],
          [
           "2020-01-23",
           "y"
          ],
          [
           "2020-01-24",
           "y"
          ],
          [
           "2020-01-25",
           "y"
          ],
          [
           "2020-01-26",
           "y"
          ],
          [
           "2020-01-27",
           "y"
          ],
          [
           "2020-01-28",
           "y"
          ],
          [
           "2020-01-29",
           "y"
          ],
          [
           "2020-01-30",
           "y"
          ],
          [
           "2020-01-31",
           "y"
          ],
          [
           "2020-02-01",
           "y"
          ],
          [
           "2020-02-02",
           "y"
          ],
          [
           "2020-02-03",
           "y"
          ],
          [
           "2020-02-04",
           "y"
          ],
          [
           "2020-02-05",
           "y"
          ],
          [
           "2020-02-06",
           "y"
          ],
          [
           "2020-02-07",
           "y"
          ],
          [
           "2020-02-08",
           "y"
          ],
          [
           "2020-02-09",
           "y"
          ],
          [
           "2020-02-10",
           "y"
          ],
          [
           "2020-02-11",
           "y"
          ],
          [
           "2020-02-12",
           "y"
          ],
          [
           "2020-02-13",
           "y"
          ],
          [
           "2020-02-14",
           "y"
          ],
          [
           "2020-02-15",
           "y"
          ],
          [
           "2020-02-16",
           "y"
          ],
          [
           "2020-02-17",
           "y"
          ],
          [
           "2020-02-18",
           "y"
          ],
          [
           "2020-02-19",
           "y"
          ],
          [
           "2020-02-20",
           "y"
          ],
          [
           "2020-02-21",
           "y"
          ],
          [
           "2020-02-22",
           "y"
          ],
          [
           "2020-02-23",
           "y"
          ],
          [
           "2020-02-24",
           "y"
          ],
          [
           "2020-02-25",
           "y"
          ],
          [
           "2020-02-26",
           "y"
          ],
          [
           "2020-02-27",
           "y"
          ],
          [
           "2020-02-28",
           "y"
          ],
          [
           "2020-02-29",
           "y"
          ],
          [
           "2020-03-01",
           "y"
          ],
          [
           "2020-03-02",
           "y"
          ],
          [
           "2020-03-03",
           "y"
          ],
          [
           "2020-03-04",
           "y"
          ],
          [
           "2020-03-05",
           "y"
          ],
          [
           "2020-03-06",
           "y"
          ],
          [
           "2020-03-07",
           "y"
          ],
          [
           "2020-03-08",
           "y"
          ],
          [
           "2020-03-09",
           "y"
          ],
          [
           "2020-03-10",
           "y"
          ],
          [
           "2020-03-11",
           "y"
          ],
          [
           "2020-03-12",
           "y"
          ],
          [
           "2020-03-13",
           "y"
          ],
          [
           "2020-03-14",
           "y"
          ],
          [
           "2020-03-15",
           "y"
          ],
          [
           "2020-03-16",
           "y"
          ],
          [
           "2020-03-17",
           "y"
          ],
          [
           "2020-03-18",
           "y"
          ],
          [
           "2020-03-19",
           "y"
          ],
          [
           "2020-03-20",
           "y"
          ],
          [
           "2020-03-21",
           "y"
          ],
          [
           "2020-03-22",
           "y"
          ],
          [
           "2020-03-23",
           "y"
          ],
          [
           "2020-03-24",
           "y"
          ],
          [
           "2020-03-25",
           "y"
          ],
          [
           "2020-03-26",
           "y"
          ],
          [
           "2020-03-27",
           "y"
          ],
          [
           "2020-03-28",
           "y"
          ],
          [
           "2020-03-29",
           "y"
          ],
          [
           "2020-03-30",
           "y"
          ],
          [
           "2020-03-31",
           "y"
          ],
          [
           "2020-04-01",
           "y"
          ],
          [
           "2020-04-02",
           "y"
          ],
          [
           "2020-04-03",
           "y"
          ],
          [
           "2020-04-04",
           "y"
          ],
          [
           "2020-04-05",
           "y"
          ],
          [
           "2020-04-06",
           "y"
          ],
          [
           "2020-04-07",
           "y"
          ],
          [
           "2020-04-08",
           "y"
          ],
          [
           "2020-04-09",
           "y"
          ],
          [
           "2020-04-10",
           "y"
          ],
          [
           "2020-04-11",
           "y"
          ],
          [
           "2020-04-12",
           "y"
          ],
          [
           "2020-04-13",
           "y"
          ],
          [
           "2020-04-14",
           "y"
          ],
          [
           "2020-04-15",
           "y"
          ],
          [
           "2020-04-16",
           "y"
          ],
          [
           "2020-04-17",
           "y"
          ],
          [
           "2020-04-18",
           "y"
          ],
          [
           "2020-04-19",
           "y"
          ],
          [
           "2020-04-20",
           "y"
          ],
          [
           "2020-04-21",
           "y"
          ],
          [
           "2020-04-22",
           "y"
          ],
          [
           "2020-04-23",
           "y"
          ],
          [
           "2020-04-24",
           "y"
          ],
          [
           "2020-04-25",
           "y"
          ],
          [
           "2020-04-26",
           "y"
          ],
          [
           "2020-04-27",
           "y"
          ],
          [
           "2020-04-28",
           "y"
          ],
          [
           "2020-04-29",
           "y"
          ],
          [
           "2020-04-30",
           "y"
          ],
          [
           "2020-05-01",
           "y"
          ],
          [
           "2020-05-02",
           "y"
          ],
          [
           "2020-05-03",
           "y"
          ],
          [
           "2020-05-04",
           "y"
          ],
          [
           "2020-05-05",
           "y"
          ],
          [
           "2020-05-06",
           "y"
          ],
          [
           "2020-05-07",
           "y"
          ],
          [
           "2020-05-08",
           "y"
          ],
          [
           "2020-05-09",
           "y"
          ],
          [
           "2020-05-10",
           "y"
          ],
          [
           "2020-05-11",
           "y"
          ],
          [
           "2020-05-12",
           "y"
          ],
          [
           "2020-05-13",
           "y"
          ],
          [
           "2020-05-14",
           "y"
          ],
          [
           "2020-05-15",
           "y"
          ],
          [
           "2020-05-16",
           "y"
          ],
          [
           "2020-05-17",
           "y"
          ],
          [
           "2020-05-18",
           "y"
          ],
          [
           "2020-05-19",
           "y"
          ],
          [
           "2020-05-20",
           "y"
          ],
          [
           "2020-05-21",
           "y"
          ],
          [
           "2020-05-22",
           "y"
          ],
          [
           "2020-05-23",
           "y"
          ],
          [
           "2020-05-24",
           "y"
          ],
          [
           "2020-05-25",
           "y"
          ],
          [
           "2020-05-26",
           "y"
          ],
          [
           "2020-05-27",
           "y"
          ],
          [
           "2020-05-28",
           "y"
          ],
          [
           "2020-05-29",
           "y"
          ],
          [
           "2020-05-30",
           "y"
          ],
          [
           "2020-05-31",
           "y"
          ],
          [
           "2020-06-01",
           "y"
          ],
          [
           "2020-06-02",
           "y"
          ],
          [
           "2020-06-03",
           "y"
          ],
          [
           "2020-06-04",
           "y"
          ],
          [
           "2020-06-05",
           "y"
          ],
          [
           "2020-06-06",
           "y"
          ],
          [
           "2020-06-07",
           "y"
          ],
          [
           "2020-06-08",
           "y"
          ],
          [
           "2020-06-09",
           "y"
          ],
          [
           "2020-06-10",
           "y"
          ],
          [
           "2020-06-11",
           "y"
          ],
          [
           "2020-06-12",
           "y"
          ],
          [
           "2020-06-13",
           "y"
          ],
          [
           "2020-06-14",
           "y"
          ],
          [
           "2020-06-15",
           "y"
          ],
          [
           "2020-06-16",
           "y"
          ],
          [
           "2020-06-17",
           "y"
          ],
          [
           "2020-06-18",
           "y"
          ],
          [
           "2020-06-19",
           "y"
          ],
          [
           "2020-06-20",
           "y"
          ],
          [
           "2020-06-21",
           "y"
          ],
          [
           "2020-06-22",
           "y"
          ],
          [
           "2020-06-23",
           "y"
          ],
          [
           "2020-06-24",
           "y"
          ],
          [
           "2020-06-25",
           "y"
          ],
          [
           "2020-06-26",
           "y"
          ],
          [
           "2020-06-27",
           "y"
          ],
          [
           "2020-06-28",
           "y"
          ],
          [
           "2020-06-29",
           "y"
          ],
          [
           "2020-06-30",
           "y"
          ],
          [
           "2020-07-01",
           "y"
          ],
          [
           "2020-07-02",
           "y"
          ],
          [
           "2020-07-03",
           "y"
          ],
          [
           "2020-07-04",
           "y"
          ],
          [
           "2020-07-05",
           "y"
          ],
          [
           "2020-07-06",
           "y"
          ],
          [
           "2020-07-07",
           "y"
          ],
          [
           "2020-07-08",
           "y"
          ],
          [
           "2020-07-09",
           "y"
          ],
          [
           "2020-07-10",
           "y"
          ],
          [
           "2020-07-11",
           "y"
          ],
          [
           "2020-07-12",
           "y"
          ],
          [
           "2020-07-13",
           "y"
          ],
          [
           "2020-07-14",
           "y"
          ],
          [
           "2020-07-15",
           "y"
          ],
          [
           "2020-07-16",
           "y"
          ],
          [
           "2020-07-17",
           "y"
          ],
          [
           "2020-07-18",
           "y"
          ],
          [
           "2020-07-19",
           "y"
          ],
          [
           "2020-07-20",
           "y"
          ],
          [
           "2020-07-21",
           "y"
          ],
          [
           "2020-07-22",
           "y"
          ],
          [
           "2020-07-23",
           "y"
          ],
          [
           "2020-07-24",
           "y"
          ],
          [
           "2020-07-25",
           "y"
          ],
          [
           "2020-07-26",
           "y"
          ],
          [
           "2020-07-27",
           "y"
          ],
          [
           "2020-07-28",
           "y"
          ],
          [
           "2020-07-29",
           "y"
          ],
          [
           "2020-07-30",
           "y"
          ],
          [
           "2020-07-31",
           "y"
          ],
          [
           "2020-08-01",
           "y"
          ],
          [
           "2020-08-02",
           "y"
          ],
          [
           "2020-08-03",
           "y"
          ],
          [
           "2020-08-04",
           "y"
          ],
          [
           "2020-08-05",
           "y"
          ],
          [
           "2020-08-06",
           "y"
          ],
          [
           "2020-08-07",
           "y"
          ],
          [
           "2020-08-08",
           "y"
          ],
          [
           "2020-08-09",
           "y"
          ],
          [
           "2020-08-10",
           "y"
          ],
          [
           "2020-08-11",
           "y"
          ],
          [
           "2020-08-12",
           "y"
          ],
          [
           "2020-08-13",
           "y"
          ],
          [
           "2020-08-14",
           "y"
          ],
          [
           "2020-08-15",
           "y"
          ],
          [
           "2020-08-16",
           "y"
          ],
          [
           "2020-08-17",
           "y"
          ],
          [
           "2020-08-18",
           "y"
          ],
          [
           "2020-08-19",
           "y"
          ],
          [
           "2020-08-20",
           "y"
          ],
          [
           "2020-08-21",
           "y"
          ],
          [
           "2020-08-22",
           "y"
          ],
          [
           "2020-08-23",
           "y"
          ],
          [
           "2020-08-24",
           "y"
          ],
          [
           "2020-08-25",
           "y"
          ],
          [
           "2020-08-26",
           "y"
          ],
          [
           "2020-08-27",
           "y"
          ],
          [
           "2020-08-28",
           "y"
          ],
          [
           "2020-08-29",
           "y"
          ],
          [
           "2020-08-30",
           "y"
          ],
          [
           "2020-08-31",
           "y"
          ],
          [
           "2020-09-01",
           "y"
          ],
          [
           "2020-09-02",
           "y"
          ],
          [
           "2020-09-03",
           "y"
          ],
          [
           "2020-09-04",
           "y"
          ],
          [
           "2020-09-05",
           "y"
          ],
          [
           "2020-09-06",
           "y"
          ],
          [
           "2020-09-07",
           "y"
          ],
          [
           "2020-09-08",
           "y"
          ],
          [
           "2020-09-09",
           "y"
          ],
          [
           "2020-09-10",
           "y"
          ],
          [
           "2020-09-11",
           "y"
          ],
          [
           "2020-09-12",
           "y"
          ],
          [
           "2020-09-13",
           "y"
          ],
          [
           "2020-09-14",
           "y"
          ],
          [
           "2020-09-15",
           "y"
          ],
          [
           "2020-09-16",
           "y"
          ],
          [
           "2020-09-17",
           "y"
          ],
          [
           "2020-09-18",
           "y"
          ],
          [
           "2020-09-19",
           "y"
          ],
          [
           "2020-09-20",
           "y"
          ],
          [
           "2020-09-21",
           "y"
          ],
          [
           "2020-09-22",
           "y"
          ],
          [
           "2020-09-23",
           "y"
          ],
          [
           "2020-09-24",
           "y"
          ],
          [
           "2020-09-25",
           "y"
          ],
          [
           "2020-09-26",
           "y"
          ],
          [
           "2020-09-27",
           "y"
          ],
          [
           "2020-09-28",
           "y"
          ],
          [
           "2020-09-29",
           "y"
          ],
          [
           "2020-09-30",
           "y"
          ],
          [
           "2020-10-01",
           "y"
          ],
          [
           "2020-10-02",
           "y"
          ],
          [
           "2020-10-03",
           "y"
          ],
          [
           "2020-10-04",
           "y"
          ],
          [
           "2020-10-05",
           "y"
          ],
          [
           "2020-10-06",
           "y"
          ],
          [
           "2020-10-07",
           "y"
          ],
          [
           "2020-10-08",
           "y"
          ],
          [
           "2020-10-09",
           "y"
          ],
          [
           "2020-10-10",
           "y"
          ],
          [
           "2020-10-11",
           "y"
          ],
          [
           "2020-10-12",
           "y"
          ],
          [
           "2020-10-13",
           "y"
          ],
          [
           "2020-10-14",
           "y"
          ],
          [
           "2020-10-15",
           "y"
          ],
          [
           "2020-10-16",
           "y"
          ],
          [
           "2020-10-17",
           "y"
          ],
          [
           "2020-10-18",
           "y"
          ],
          [
           "2020-10-19",
           "y"
          ],
          [
           "2020-10-20",
           "y"
          ],
          [
           "2020-10-21",
           "y"
          ],
          [
           "2020-10-22",
           "y"
          ],
          [
           "2020-10-23",
           "y"
          ],
          [
           "2020-10-24",
           "y"
          ],
          [
           "2020-10-25",
           "y"
          ],
          [
           "2020-10-26",
           "y"
          ],
          [
           "2020-10-27",
           "y"
          ],
          [
           "2020-10-28",
           "y"
          ],
          [
           "2020-10-29",
           "y"
          ],
          [
           "2020-10-30",
           "y"
          ],
          [
           "2020-10-31",
           "y"
          ],
          [
           "2020-11-01",
           "y"
          ],
          [
           "2020-11-02",
           "y"
          ],
          [
           "2020-11-03",
           "y"
          ],
          [
           "2020-11-04",
           "y"
          ],
          [
           "2020-11-05",
           "y"
          ],
          [
           "2020-11-06",
           "y"
          ],
          [
           "2020-11-07",
           "y"
          ],
          [
           "2020-11-08",
           "y"
          ],
          [
           "2020-11-09",
           "y"
          ],
          [
           "2020-11-10",
           "y"
          ],
          [
           "2020-11-11",
           "y"
          ],
          [
           "2020-11-12",
           "y"
          ],
          [
           "2020-11-13",
           "y"
          ],
          [
           "2020-11-14",
           "y"
          ],
          [
           "2020-11-15",
           "y"
          ],
          [
           "2020-11-16",
           "y"
          ],
          [
           "2020-11-17",
           "y"
          ],
          [
           "2020-11-18",
           "y"
          ],
          [
           "2020-11-19",
           "y"
          ],
          [
           "2020-11-20",
           "y"
          ],
          [
           "2020-11-21",
           "y"
          ],
          [
           "2020-11-22",
           "y"
          ],
          [
           "2020-11-23",
           "y"
          ],
          [
           "2020-11-24",
           "y"
          ],
          [
           "2020-11-25",
           "y"
          ],
          [
           "2020-11-26",
           "y"
          ],
          [
           "2020-11-27",
           "y"
          ],
          [
           "2020-11-28",
           "y"
          ],
          [
           "2020-11-29",
           "y"
          ],
          [
           "2020-11-30",
           "y"
          ],
          [
           "2020-12-01",
           "y"
          ],
          [
           "2020-12-02",
           "y"
          ],
          [
           "2020-12-03",
           "y"
          ],
          [
           "2020-12-04",
           "y"
          ],
          [
           "2020-12-05",
           "y"
          ],
          [
           "2020-12-06",
           "y"
          ],
          [
           "2020-12-07",
           "y"
          ],
          [
           "2020-12-08",
           "y"
          ],
          [
           "2020-12-09",
           "y"
          ],
          [
           "2020-12-10",
           "y"
          ],
          [
           "2020-12-11",
           "y"
          ],
          [
           "2020-12-12",
           "y"
          ],
          [
           "2020-12-13",
           "y"
          ],
          [
           "2020-12-14",
           "y"
          ],
          [
           "2020-12-15",
           "y"
          ],
          [
           "2020-12-16",
           "y"
          ],
          [
           "2020-12-17",
           "y"
          ],
          [
           "2020-12-18",
           "y"
          ],
          [
           "2020-12-19",
           "y"
          ],
          [
           "2020-12-20",
           "y"
          ],
          [
           "2020-12-21",
           "y"
          ],
          [
           "2020-12-22",
           "y"
          ],
          [
           "2020-12-23",
           "y"
          ],
          [
           "2020-12-24",
           "y"
          ],
          [
           "2020-12-25",
           "y"
          ],
          [
           "2020-12-26",
           "y"
          ],
          [
           "2020-12-27",
           "y"
          ],
          [
           "2020-12-28",
           "y"
          ],
          [
           "2020-12-29",
           "y"
          ],
          [
           "2020-12-30",
           "y"
          ],
          [
           "2020-12-31",
           "y"
          ]
         ],
         "hovertemplate": "%{customdata[0]} <br>%{customdata[1]}=%{z} <br>Week=%{x}",
         "name": "2020",
         "showscale": false,
         "type": "heatmap",
         "x": [
          1,
          1,
          1,
          1,
          1,
          2,
          2,
          2,
          2,
          2,
          2,
          2,
          3,
          3,
          3,
          3,
          3,
          3,
          3,
          4,
          4,
          4,
          4,
          4,
          4,
          4,
          5,
          5,
          5,
          5,
          5,
          5,
          5,
          6,
          6,
          6,
          6,
          6,
          6,
          6,
          7,
          7,
          7,
          7,
          7,
          7,
          7,
          8,
          8,
          8,
          8,
          8,
          8,
          8,
          9,
          9,
          9,
          9,
          9,
          9,
          9,
          10,
          10,
          10,
          10,
          10,
          10,
          10,
          11,
          11,
          11,
          11,
          11,
          11,
          11,
          12,
          12,
          12,
          12,
          12,
          12,
          12,
          13,
          13,
          13,
          13,
          13,
          13,
          13,
          14,
          14,
          14,
          14,
          14,
          14,
          14,
          15,
          15,
          15,
          15,
          15,
          15,
          15,
          16,
          16,
          16,
          16,
          16,
          16,
          16,
          17,
          17,
          17,
          17,
          17,
          17,
          17,
          18,
          18,
          18,
          18,
          18,
          18,
          18,
          19,
          19,
          19,
          19,
          19,
          19,
          19,
          20,
          20,
          20,
          20,
          20,
          20,
          20,
          21,
          21,
          21,
          21,
          21,
          21,
          21,
          22,
          22,
          22,
          22,
          22,
          22,
          22,
          23,
          23,
          23,
          23,
          23,
          23,
          23,
          24,
          24,
          24,
          24,
          24,
          24,
          24,
          25,
          25,
          25,
          25,
          25,
          25,
          25,
          26,
          26,
          26,
          26,
          26,
          26,
          26,
          27,
          27,
          27,
          27,
          27,
          27,
          27,
          28,
          28,
          28,
          28,
          28,
          28,
          28,
          29,
          29,
          29,
          29,
          29,
          29,
          29,
          30,
          30,
          30,
          30,
          30,
          30,
          30,
          31,
          31,
          31,
          31,
          31,
          31,
          31,
          32,
          32,
          32,
          32,
          32,
          32,
          32,
          33,
          33,
          33,
          33,
          33,
          33,
          33,
          34,
          34,
          34,
          34,
          34,
          34,
          34,
          35,
          35,
          35,
          35,
          35,
          35,
          35,
          36,
          36,
          36,
          36,
          36,
          36,
          36,
          37,
          37,
          37,
          37,
          37,
          37,
          37,
          38,
          38,
          38,
          38,
          38,
          38,
          38,
          39,
          39,
          39,
          39,
          39,
          39,
          39,
          40,
          40,
          40,
          40,
          40,
          40,
          40,
          41,
          41,
          41,
          41,
          41,
          41,
          41,
          42,
          42,
          42,
          42,
          42,
          42,
          42,
          43,
          43,
          43,
          43,
          43,
          43,
          43,
          44,
          44,
          44,
          44,
          44,
          44,
          44,
          45,
          45,
          45,
          45,
          45,
          45,
          45,
          46,
          46,
          46,
          46,
          46,
          46,
          46,
          47,
          47,
          47,
          47,
          47,
          47,
          47,
          48,
          48,
          48,
          48,
          48,
          48,
          48,
          49,
          49,
          49,
          49,
          49,
          49,
          49,
          50,
          50,
          50,
          50,
          50,
          50,
          50,
          51,
          51,
          51,
          51,
          51,
          51,
          51,
          52,
          52,
          52,
          52,
          52,
          52,
          52,
          53,
          53,
          53,
          53
         ],
         "xaxis": "x",
         "xgap": 1,
         "y": [
          2,
          3,
          4,
          5,
          6,
          0,
          1,
          2,
          3,
          4,
          5,
          6,
          0,
          1,
          2,
          3,
          4,
          5,
          6,
          0,
          1,
          2,
          3,
          4,
          5,
          6,
          0,
          1,
          2,
          3,
          4,
          5,
          6,
          0,
          1,
          2,
          3,
          4,
          5,
          6,
          0,
          1,
          2,
          3,
          4,
          5,
          6,
          0,
          1,
          2,
          3,
          4,
          5,
          6,
          0,
          1,
          2,
          3,
          4,
          5,
          6,
          0,
          1,
          2,
          3,
          4,
          5,
          6,
          0,
          1,
          2,
          3,
          4,
          5,
          6,
          0,
          1,
          2,
          3,
          4,
          5,
          6,
          0,
          1,
          2,
          3,
          4,
          5,
          6,
          0,
          1,
          2,
          3,
          4,
          5,
          6,
          0,
          1,
          2,
          3,
          4,
          5,
          6,
          0,
          1,
          2,
          3,
          4,
          5,
          6,
          0,
          1,
          2,
          3,
          4,
          5,
          6,
          0,
          1,
          2,
          3,
          4,
          5,
          6,
          0,
          1,
          2,
          3,
          4,
          5,
          6,
          0,
          1,
          2,
          3,
          4,
          5,
          6,
          0,
          1,
          2,
          3,
          4,
          5,
          6,
          0,
          1,
          2,
          3,
          4,
          5,
          6,
          0,
          1,
          2,
          3,
          4,
          5,
          6,
          0,
          1,
          2,
          3,
          4,
          5,
          6,
          0,
          1,
          2,
          3,
          4,
          5,
          6,
          0,
          1,
          2,
          3,
          4,
          5,
          6,
          0,
          1,
          2,
          3,
          4,
          5,
          6,
          0,
          1,
          2,
          3,
          4,
          5,
          6,
          0,
          1,
          2,
          3,
          4,
          5,
          6,
          0,
          1,
          2,
          3,
          4,
          5,
          6,
          0,
          1,
          2,
          3,
          4,
          5,
          6,
          0,
          1,
          2,
          3,
          4,
          5,
          6,
          0,
          1,
          2,
          3,
          4,
          5,
          6,
          0,
          1,
          2,
          3,
          4,
          5,
          6,
          0,
          1,
          2,
          3,
          4,
          5,
          6,
          0,
          1,
          2,
          3,
          4,
          5,
          6,
          0,
          1,
          2,
          3,
          4,
          5,
          6,
          0,
          1,
          2,
          3,
          4,
          5,
          6,
          0,
          1,
          2,
          3,
          4,
          5,
          6,
          0,
          1,
          2,
          3,
          4,
          5,
          6,
          0,
          1,
          2,
          3,
          4,
          5,
          6,
          0,
          1,
          2,
          3,
          4,
          5,
          6,
          0,
          1,
          2,
          3,
          4,
          5,
          6,
          0,
          1,
          2,
          3,
          4,
          5,
          6,
          0,
          1,
          2,
          3,
          4,
          5,
          6,
          0,
          1,
          2,
          3,
          4,
          5,
          6,
          0,
          1,
          2,
          3,
          4,
          5,
          6,
          0,
          1,
          2,
          3,
          4,
          5,
          6,
          0,
          1,
          2,
          3,
          4,
          5,
          6,
          0,
          1,
          2,
          3,
          4,
          5,
          6,
          0,
          1,
          2,
          3,
          4,
          5,
          6,
          0,
          1,
          2,
          3,
          4,
          5,
          6,
          0,
          1,
          2,
          3
         ],
         "yaxis": "y",
         "ygap": 1,
         "z": [
          0,
          0,
          0,
          0,
          0,
          0,
          0,
          0,
          0,
          0,
          0,
          0,
          0,
          0,
          0,
          0,
          0,
          0,
          0,
          0,
          0,
          0,
          0,
          0,
          0,
          0,
          0,
          0,
          0,
          0,
          0,
          0,
          0,
          0,
          0,
          0,
          0,
          0,
          0,
          0,
          0,
          0,
          0,
          0,
          0,
          0,
          0,
          0,
          0,
          0,
          0,
          0,
          0,
          0,
          1,
          1,
          1,
          1,
          1,
          1,
          1,
          1,
          1,
          1,
          1,
          1,
          1,
          1,
          1,
          1,
          1,
          1,
          1,
          1,
          1,
          0,
          0,
          0,
          0,
          0,
          0,
          0,
          1,
          1,
          1,
          1,
          1,
          1,
          1,
          1,
          1,
          1,
          1,
          1,
          1,
          1,
          1,
          1,
          1,
          1,
          1,
          1,
          1,
          0,
          0,
          0,
          0,
          0,
          0,
          0,
          0,
          0,
          0,
          0,
          0,
          0,
          0,
          0,
          0,
          0,
          0,
          0,
          0,
          0,
          0,
          0,
          0,
          0,
          0,
          0,
          0,
          0,
          0,
          0,
          0,
          0,
          0,
          0,
          0,
          0,
          0,
          0,
          0,
          0,
          0,
          0,
          0,
          0,
          0,
          0,
          0,
          0,
          0,
          0,
          0,
          0,
          0,
          0,
          0,
          0,
          0,
          0,
          0,
          0,
          0,
          0,
          0,
          0,
          0,
          0,
          0,
          0,
          0,
          0,
          0,
          0,
          0,
          0,
          0,
          0,
          0,
          0,
          0,
          0,
          0,
          0,
          0,
          0,
          0,
          0,
          0,
          0,
          0,
          0,
          0,
          0,
          0,
          0,
          0,
          0,
          0,
          0,
          0,
          0,
          0,
          0,
          0,
          0,
          0,
          0,
          0,
          0,
          0,
          0,
          0,
          0,
          0,
          0,
          0,
          0,
          0,
          0,
          0,
          0,
          0,
          0,
          0,
          0,
          0,
          0,
          0,
          0,
          0,
          0,
          0,
          0,
          1,
          1,
          1,
          1,
          1,
          1,
          1,
          0,
          0,
          0,
          0,
          0,
          0,
          0,
          0,
          0,
          0,
          0,
          0,
          0,
          0,
          0,
          0,
          0,
          0,
          0,
          0,
          0,
          0,
          0,
          0,
          0,
          0,
          0,
          0,
          0,
          0,
          0,
          0,
          0,
          0,
          0,
          0,
          0,
          0,
          0,
          0,
          0,
          0,
          0,
          0,
          0,
          0,
          0,
          0,
          0,
          0,
          0,
          0,
          0,
          0,
          0,
          0,
          0,
          0,
          0,
          0,
          0,
          0,
          0,
          0,
          0,
          0,
          0,
          0,
          0,
          0,
          0,
          0,
          0,
          0,
          0,
          0,
          0,
          0,
          0,
          0,
          0,
          0,
          0,
          0,
          0,
          0,
          0,
          0,
          0,
          0,
          0,
          0,
          0,
          0,
          0,
          0,
          0,
          0,
          0,
          0,
          0,
          0,
          0,
          0,
          0,
          0,
          0,
          0,
          0,
          0,
          0,
          0,
          0,
          0,
          0,
          0,
          0,
          0,
          0,
          0,
          0,
          0,
          0
         ]
        },
        {
         "hoverinfo": "skip",
         "line": {
          "color": "#9e9e9e",
          "width": 1
         },
         "mode": "lines",
         "type": "scatter",
         "x": [
          0.5,
          0.5
         ],
         "xaxis": "x",
         "y": [
          1.5,
          6.5
         ],
         "yaxis": "y"
        },
        {
         "hoverinfo": "skip",
         "line": {
          "color": "#9e9e9e",
          "width": 1
         },
         "mode": "lines",
         "type": "scatter",
         "x": [
          0.5,
          1.5
         ],
         "xaxis": "x",
         "y": [
          1.5,
          1.5
         ],
         "yaxis": "y"
        },
        {
         "hoverinfo": "skip",
         "line": {
          "color": "#9e9e9e",
          "width": 1
         },
         "mode": "lines",
         "type": "scatter",
         "x": [
          1.5,
          1.5
         ],
         "xaxis": "x",
         "y": [
          1.5,
          -0.5
         ],
         "yaxis": "y"
        },
        {
         "hoverinfo": "skip",
         "line": {
          "color": "#9e9e9e",
          "width": 1
         },
         "mode": "lines",
         "type": "scatter",
         "x": [
          4.5,
          4.5
         ],
         "xaxis": "x",
         "y": [
          4.5,
          6.5
         ],
         "yaxis": "y"
        },
        {
         "hoverinfo": "skip",
         "line": {
          "color": "#9e9e9e",
          "width": 1
         },
         "mode": "lines",
         "type": "scatter",
         "x": [
          4.5,
          5.5
         ],
         "xaxis": "x",
         "y": [
          4.5,
          4.5
         ],
         "yaxis": "y"
        },
        {
         "hoverinfo": "skip",
         "line": {
          "color": "#9e9e9e",
          "width": 1
         },
         "mode": "lines",
         "type": "scatter",
         "x": [
          5.5,
          5.5
         ],
         "xaxis": "x",
         "y": [
          4.5,
          -0.5
         ],
         "yaxis": "y"
        },
        {
         "hoverinfo": "skip",
         "line": {
          "color": "#9e9e9e",
          "width": 1
         },
         "mode": "lines",
         "type": "scatter",
         "x": [
          8.5,
          8.5
         ],
         "xaxis": "x",
         "y": [
          5.5,
          6.5
         ],
         "yaxis": "y"
        },
        {
         "hoverinfo": "skip",
         "line": {
          "color": "#9e9e9e",
          "width": 1
         },
         "mode": "lines",
         "type": "scatter",
         "x": [
          8.5,
          9.5
         ],
         "xaxis": "x",
         "y": [
          5.5,
          5.5
         ],
         "yaxis": "y"
        },
        {
         "hoverinfo": "skip",
         "line": {
          "color": "#9e9e9e",
          "width": 1
         },
         "mode": "lines",
         "type": "scatter",
         "x": [
          9.5,
          9.5
         ],
         "xaxis": "x",
         "y": [
          5.5,
          -0.5
         ],
         "yaxis": "y"
        },
        {
         "hoverinfo": "skip",
         "line": {
          "color": "#9e9e9e",
          "width": 1
         },
         "mode": "lines",
         "type": "scatter",
         "x": [
          13.5,
          13.5
         ],
         "xaxis": "x",
         "y": [
          1.5,
          6.5
         ],
         "yaxis": "y"
        },
        {
         "hoverinfo": "skip",
         "line": {
          "color": "#9e9e9e",
          "width": 1
         },
         "mode": "lines",
         "type": "scatter",
         "x": [
          13.5,
          14.5
         ],
         "xaxis": "x",
         "y": [
          1.5,
          1.5
         ],
         "yaxis": "y"
        },
        {
         "hoverinfo": "skip",
         "line": {
          "color": "#9e9e9e",
          "width": 1
         },
         "mode": "lines",
         "type": "scatter",
         "x": [
          14.5,
          14.5
         ],
         "xaxis": "x",
         "y": [
          1.5,
          -0.5
         ],
         "yaxis": "y"
        },
        {
         "hoverinfo": "skip",
         "line": {
          "color": "#9e9e9e",
          "width": 1
         },
         "mode": "lines",
         "type": "scatter",
         "x": [
          17.5,
          17.5
         ],
         "xaxis": "x",
         "y": [
          3.5,
          6.5
         ],
         "yaxis": "y"
        },
        {
         "hoverinfo": "skip",
         "line": {
          "color": "#9e9e9e",
          "width": 1
         },
         "mode": "lines",
         "type": "scatter",
         "x": [
          17.5,
          18.5
         ],
         "xaxis": "x",
         "y": [
          3.5,
          3.5
         ],
         "yaxis": "y"
        },
        {
         "hoverinfo": "skip",
         "line": {
          "color": "#9e9e9e",
          "width": 1
         },
         "mode": "lines",
         "type": "scatter",
         "x": [
          18.5,
          18.5
         ],
         "xaxis": "x",
         "y": [
          3.5,
          -0.5
         ],
         "yaxis": "y"
        },
        {
         "hoverinfo": "skip",
         "line": {
          "color": "#9e9e9e",
          "width": 1
         },
         "mode": "lines",
         "type": "scatter",
         "x": [
          22.5,
          22.5
         ],
         "xaxis": "x",
         "y": [
          -0.5,
          6.5
         ],
         "yaxis": "y"
        },
        {
         "hoverinfo": "skip",
         "line": {
          "color": "#9e9e9e",
          "width": 1
         },
         "mode": "lines",
         "type": "scatter",
         "x": [
          26.5,
          26.5
         ],
         "xaxis": "x",
         "y": [
          1.5,
          6.5
         ],
         "yaxis": "y"
        },
        {
         "hoverinfo": "skip",
         "line": {
          "color": "#9e9e9e",
          "width": 1
         },
         "mode": "lines",
         "type": "scatter",
         "x": [
          26.5,
          27.5
         ],
         "xaxis": "x",
         "y": [
          1.5,
          1.5
         ],
         "yaxis": "y"
        },
        {
         "hoverinfo": "skip",
         "line": {
          "color": "#9e9e9e",
          "width": 1
         },
         "mode": "lines",
         "type": "scatter",
         "x": [
          27.5,
          27.5
         ],
         "xaxis": "x",
         "y": [
          1.5,
          -0.5
         ],
         "yaxis": "y"
        },
        {
         "hoverinfo": "skip",
         "line": {
          "color": "#9e9e9e",
          "width": 1
         },
         "mode": "lines",
         "type": "scatter",
         "x": [
          30.5,
          30.5
         ],
         "xaxis": "x",
         "y": [
          4.5,
          6.5
         ],
         "yaxis": "y"
        },
        {
         "hoverinfo": "skip",
         "line": {
          "color": "#9e9e9e",
          "width": 1
         },
         "mode": "lines",
         "type": "scatter",
         "x": [
          30.5,
          31.5
         ],
         "xaxis": "x",
         "y": [
          4.5,
          4.5
         ],
         "yaxis": "y"
        },
        {
         "hoverinfo": "skip",
         "line": {
          "color": "#9e9e9e",
          "width": 1
         },
         "mode": "lines",
         "type": "scatter",
         "x": [
          31.5,
          31.5
         ],
         "xaxis": "x",
         "y": [
          4.5,
          -0.5
         ],
         "yaxis": "y"
        },
        {
         "hoverinfo": "skip",
         "line": {
          "color": "#9e9e9e",
          "width": 1
         },
         "mode": "lines",
         "type": "scatter",
         "x": [
          35.5,
          35.5
         ],
         "xaxis": "x",
         "y": [
          0.5,
          6.5
         ],
         "yaxis": "y"
        },
        {
         "hoverinfo": "skip",
         "line": {
          "color": "#9e9e9e",
          "width": 1
         },
         "mode": "lines",
         "type": "scatter",
         "x": [
          35.5,
          36.5
         ],
         "xaxis": "x",
         "y": [
          0.5,
          0.5
         ],
         "yaxis": "y"
        },
        {
         "hoverinfo": "skip",
         "line": {
          "color": "#9e9e9e",
          "width": 1
         },
         "mode": "lines",
         "type": "scatter",
         "x": [
          36.5,
          36.5
         ],
         "xaxis": "x",
         "y": [
          0.5,
          -0.5
         ],
         "yaxis": "y"
        },
        {
         "hoverinfo": "skip",
         "line": {
          "color": "#9e9e9e",
          "width": 1
         },
         "mode": "lines",
         "type": "scatter",
         "x": [
          39.5,
          39.5
         ],
         "xaxis": "x",
         "y": [
          2.5,
          6.5
         ],
         "yaxis": "y"
        },
        {
         "hoverinfo": "skip",
         "line": {
          "color": "#9e9e9e",
          "width": 1
         },
         "mode": "lines",
         "type": "scatter",
         "x": [
          39.5,
          40.5
         ],
         "xaxis": "x",
         "y": [
          2.5,
          2.5
         ],
         "yaxis": "y"
        },
        {
         "hoverinfo": "skip",
         "line": {
          "color": "#9e9e9e",
          "width": 1
         },
         "mode": "lines",
         "type": "scatter",
         "x": [
          40.5,
          40.5
         ],
         "xaxis": "x",
         "y": [
          2.5,
          -0.5
         ],
         "yaxis": "y"
        },
        {
         "hoverinfo": "skip",
         "line": {
          "color": "#9e9e9e",
          "width": 1
         },
         "mode": "lines",
         "type": "scatter",
         "x": [
          43.5,
          43.5
         ],
         "xaxis": "x",
         "y": [
          5.5,
          6.5
         ],
         "yaxis": "y"
        },
        {
         "hoverinfo": "skip",
         "line": {
          "color": "#9e9e9e",
          "width": 1
         },
         "mode": "lines",
         "type": "scatter",
         "x": [
          43.5,
          44.5
         ],
         "xaxis": "x",
         "y": [
          5.5,
          5.5
         ],
         "yaxis": "y"
        },
        {
         "hoverinfo": "skip",
         "line": {
          "color": "#9e9e9e",
          "width": 1
         },
         "mode": "lines",
         "type": "scatter",
         "x": [
          44.5,
          44.5
         ],
         "xaxis": "x",
         "y": [
          5.5,
          -0.5
         ],
         "yaxis": "y"
        },
        {
         "hoverinfo": "skip",
         "line": {
          "color": "#9e9e9e",
          "width": 1
         },
         "mode": "lines",
         "type": "scatter",
         "x": [
          48.5,
          48.5
         ],
         "xaxis": "x",
         "y": [
          0.5,
          6.5
         ],
         "yaxis": "y"
        },
        {
         "hoverinfo": "skip",
         "line": {
          "color": "#9e9e9e",
          "width": 1
         },
         "mode": "lines",
         "type": "scatter",
         "x": [
          48.5,
          49.5
         ],
         "xaxis": "x",
         "y": [
          0.5,
          0.5
         ],
         "yaxis": "y"
        },
        {
         "hoverinfo": "skip",
         "line": {
          "color": "#9e9e9e",
          "width": 1
         },
         "mode": "lines",
         "type": "scatter",
         "x": [
          49.5,
          49.5
         ],
         "xaxis": "x",
         "y": [
          0.5,
          -0.5
         ],
         "yaxis": "y"
        }
       ],
       "layout": {
        "font": {
         "color": "#9e9e9e",
         "size": 10
        },
        "height": 150,
        "margin": {
         "b": 20,
         "t": 20
        },
        "plot_bgcolor": "#fff",
        "showlegend": false,
        "template": {
         "data": {
          "bar": [
           {
            "error_x": {
             "color": "#2a3f5f"
            },
            "error_y": {
             "color": "#2a3f5f"
            },
            "marker": {
             "line": {
              "color": "#E5ECF6",
              "width": 0.5
             },
             "pattern": {
              "fillmode": "overlay",
              "size": 10,
              "solidity": 0.2
             }
            },
            "type": "bar"
           }
          ],
          "barpolar": [
           {
            "marker": {
             "line": {
              "color": "#E5ECF6",
              "width": 0.5
             },
             "pattern": {
              "fillmode": "overlay",
              "size": 10,
              "solidity": 0.2
             }
            },
            "type": "barpolar"
           }
          ],
          "carpet": [
           {
            "aaxis": {
             "endlinecolor": "#2a3f5f",
             "gridcolor": "white",
             "linecolor": "white",
             "minorgridcolor": "white",
             "startlinecolor": "#2a3f5f"
            },
            "baxis": {
             "endlinecolor": "#2a3f5f",
             "gridcolor": "white",
             "linecolor": "white",
             "minorgridcolor": "white",
             "startlinecolor": "#2a3f5f"
            },
            "type": "carpet"
           }
          ],
          "choropleth": [
           {
            "colorbar": {
             "outlinewidth": 0,
             "ticks": ""
            },
            "type": "choropleth"
           }
          ],
          "contour": [
           {
            "colorbar": {
             "outlinewidth": 0,
             "ticks": ""
            },
            "colorscale": [
             [
              0,
              "#0d0887"
             ],
             [
              0.1111111111111111,
              "#46039f"
             ],
             [
              0.2222222222222222,
              "#7201a8"
             ],
             [
              0.3333333333333333,
              "#9c179e"
             ],
             [
              0.4444444444444444,
              "#bd3786"
             ],
             [
              0.5555555555555556,
              "#d8576b"
             ],
             [
              0.6666666666666666,
              "#ed7953"
             ],
             [
              0.7777777777777778,
              "#fb9f3a"
             ],
             [
              0.8888888888888888,
              "#fdca26"
             ],
             [
              1,
              "#f0f921"
             ]
            ],
            "type": "contour"
           }
          ],
          "contourcarpet": [
           {
            "colorbar": {
             "outlinewidth": 0,
             "ticks": ""
            },
            "type": "contourcarpet"
           }
          ],
          "heatmap": [
           {
            "colorbar": {
             "outlinewidth": 0,
             "ticks": ""
            },
            "colorscale": [
             [
              0,
              "#0d0887"
             ],
             [
              0.1111111111111111,
              "#46039f"
             ],
             [
              0.2222222222222222,
              "#7201a8"
             ],
             [
              0.3333333333333333,
              "#9c179e"
             ],
             [
              0.4444444444444444,
              "#bd3786"
             ],
             [
              0.5555555555555556,
              "#d8576b"
             ],
             [
              0.6666666666666666,
              "#ed7953"
             ],
             [
              0.7777777777777778,
              "#fb9f3a"
             ],
             [
              0.8888888888888888,
              "#fdca26"
             ],
             [
              1,
              "#f0f921"
             ]
            ],
            "type": "heatmap"
           }
          ],
          "heatmapgl": [
           {
            "colorbar": {
             "outlinewidth": 0,
             "ticks": ""
            },
            "colorscale": [
             [
              0,
              "#0d0887"
             ],
             [
              0.1111111111111111,
              "#46039f"
             ],
             [
              0.2222222222222222,
              "#7201a8"
             ],
             [
              0.3333333333333333,
              "#9c179e"
             ],
             [
              0.4444444444444444,
              "#bd3786"
             ],
             [
              0.5555555555555556,
              "#d8576b"
             ],
             [
              0.6666666666666666,
              "#ed7953"
             ],
             [
              0.7777777777777778,
              "#fb9f3a"
             ],
             [
              0.8888888888888888,
              "#fdca26"
             ],
             [
              1,
              "#f0f921"
             ]
            ],
            "type": "heatmapgl"
           }
          ],
          "histogram": [
           {
            "marker": {
             "pattern": {
              "fillmode": "overlay",
              "size": 10,
              "solidity": 0.2
             }
            },
            "type": "histogram"
           }
          ],
          "histogram2d": [
           {
            "colorbar": {
             "outlinewidth": 0,
             "ticks": ""
            },
            "colorscale": [
             [
              0,
              "#0d0887"
             ],
             [
              0.1111111111111111,
              "#46039f"
             ],
             [
              0.2222222222222222,
              "#7201a8"
             ],
             [
              0.3333333333333333,
              "#9c179e"
             ],
             [
              0.4444444444444444,
              "#bd3786"
             ],
             [
              0.5555555555555556,
              "#d8576b"
             ],
             [
              0.6666666666666666,
              "#ed7953"
             ],
             [
              0.7777777777777778,
              "#fb9f3a"
             ],
             [
              0.8888888888888888,
              "#fdca26"
             ],
             [
              1,
              "#f0f921"
             ]
            ],
            "type": "histogram2d"
           }
          ],
          "histogram2dcontour": [
           {
            "colorbar": {
             "outlinewidth": 0,
             "ticks": ""
            },
            "colorscale": [
             [
              0,
              "#0d0887"
             ],
             [
              0.1111111111111111,
              "#46039f"
             ],
             [
              0.2222222222222222,
              "#7201a8"
             ],
             [
              0.3333333333333333,
              "#9c179e"
             ],
             [
              0.4444444444444444,
              "#bd3786"
             ],
             [
              0.5555555555555556,
              "#d8576b"
             ],
             [
              0.6666666666666666,
              "#ed7953"
             ],
             [
              0.7777777777777778,
              "#fb9f3a"
             ],
             [
              0.8888888888888888,
              "#fdca26"
             ],
             [
              1,
              "#f0f921"
             ]
            ],
            "type": "histogram2dcontour"
           }
          ],
          "mesh3d": [
           {
            "colorbar": {
             "outlinewidth": 0,
             "ticks": ""
            },
            "type": "mesh3d"
           }
          ],
          "parcoords": [
           {
            "line": {
             "colorbar": {
              "outlinewidth": 0,
              "ticks": ""
             }
            },
            "type": "parcoords"
           }
          ],
          "pie": [
           {
            "automargin": true,
            "type": "pie"
           }
          ],
          "scatter": [
           {
            "marker": {
             "colorbar": {
              "outlinewidth": 0,
              "ticks": ""
             }
            },
            "type": "scatter"
           }
          ],
          "scatter3d": [
           {
            "line": {
             "colorbar": {
              "outlinewidth": 0,
              "ticks": ""
             }
            },
            "marker": {
             "colorbar": {
              "outlinewidth": 0,
              "ticks": ""
             }
            },
            "type": "scatter3d"
           }
          ],
          "scattercarpet": [
           {
            "marker": {
             "colorbar": {
              "outlinewidth": 0,
              "ticks": ""
             }
            },
            "type": "scattercarpet"
           }
          ],
          "scattergeo": [
           {
            "marker": {
             "colorbar": {
              "outlinewidth": 0,
              "ticks": ""
             }
            },
            "type": "scattergeo"
           }
          ],
          "scattergl": [
           {
            "marker": {
             "colorbar": {
              "outlinewidth": 0,
              "ticks": ""
             }
            },
            "type": "scattergl"
           }
          ],
          "scattermapbox": [
           {
            "marker": {
             "colorbar": {
              "outlinewidth": 0,
              "ticks": ""
             }
            },
            "type": "scattermapbox"
           }
          ],
          "scatterpolar": [
           {
            "marker": {
             "colorbar": {
              "outlinewidth": 0,
              "ticks": ""
             }
            },
            "type": "scatterpolar"
           }
          ],
          "scatterpolargl": [
           {
            "marker": {
             "colorbar": {
              "outlinewidth": 0,
              "ticks": ""
             }
            },
            "type": "scatterpolargl"
           }
          ],
          "scatterternary": [
           {
            "marker": {
             "colorbar": {
              "outlinewidth": 0,
              "ticks": ""
             }
            },
            "type": "scatterternary"
           }
          ],
          "surface": [
           {
            "colorbar": {
             "outlinewidth": 0,
             "ticks": ""
            },
            "colorscale": [
             [
              0,
              "#0d0887"
             ],
             [
              0.1111111111111111,
              "#46039f"
             ],
             [
              0.2222222222222222,
              "#7201a8"
             ],
             [
              0.3333333333333333,
              "#9c179e"
             ],
             [
              0.4444444444444444,
              "#bd3786"
             ],
             [
              0.5555555555555556,
              "#d8576b"
             ],
             [
              0.6666666666666666,
              "#ed7953"
             ],
             [
              0.7777777777777778,
              "#fb9f3a"
             ],
             [
              0.8888888888888888,
              "#fdca26"
             ],
             [
              1,
              "#f0f921"
             ]
            ],
            "type": "surface"
           }
          ],
          "table": [
           {
            "cells": {
             "fill": {
              "color": "#EBF0F8"
             },
             "line": {
              "color": "white"
             }
            },
            "header": {
             "fill": {
              "color": "#C8D4E3"
             },
             "line": {
              "color": "white"
             }
            },
            "type": "table"
           }
          ]
         },
         "layout": {
          "annotationdefaults": {
           "arrowcolor": "#2a3f5f",
           "arrowhead": 0,
           "arrowwidth": 1
          },
          "autotypenumbers": "strict",
          "coloraxis": {
           "colorbar": {
            "outlinewidth": 0,
            "ticks": ""
           }
          },
          "colorscale": {
           "diverging": [
            [
             0,
             "#8e0152"
            ],
            [
             0.1,
             "#c51b7d"
            ],
            [
             0.2,
             "#de77ae"
            ],
            [
             0.3,
             "#f1b6da"
            ],
            [
             0.4,
             "#fde0ef"
            ],
            [
             0.5,
             "#f7f7f7"
            ],
            [
             0.6,
             "#e6f5d0"
            ],
            [
             0.7,
             "#b8e186"
            ],
            [
             0.8,
             "#7fbc41"
            ],
            [
             0.9,
             "#4d9221"
            ],
            [
             1,
             "#276419"
            ]
           ],
           "sequential": [
            [
             0,
             "#0d0887"
            ],
            [
             0.1111111111111111,
             "#46039f"
            ],
            [
             0.2222222222222222,
             "#7201a8"
            ],
            [
             0.3333333333333333,
             "#9c179e"
            ],
            [
             0.4444444444444444,
             "#bd3786"
            ],
            [
             0.5555555555555556,
             "#d8576b"
            ],
            [
             0.6666666666666666,
             "#ed7953"
            ],
            [
             0.7777777777777778,
             "#fb9f3a"
            ],
            [
             0.8888888888888888,
             "#fdca26"
            ],
            [
             1,
             "#f0f921"
            ]
           ],
           "sequentialminus": [
            [
             0,
             "#0d0887"
            ],
            [
             0.1111111111111111,
             "#46039f"
            ],
            [
             0.2222222222222222,
             "#7201a8"
            ],
            [
             0.3333333333333333,
             "#9c179e"
            ],
            [
             0.4444444444444444,
             "#bd3786"
            ],
            [
             0.5555555555555556,
             "#d8576b"
            ],
            [
             0.6666666666666666,
             "#ed7953"
            ],
            [
             0.7777777777777778,
             "#fb9f3a"
            ],
            [
             0.8888888888888888,
             "#fdca26"
            ],
            [
             1,
             "#f0f921"
            ]
           ]
          },
          "colorway": [
           "#636efa",
           "#EF553B",
           "#00cc96",
           "#ab63fa",
           "#FFA15A",
           "#19d3f3",
           "#FF6692",
           "#B6E880",
           "#FF97FF",
           "#FECB52"
          ],
          "font": {
           "color": "#2a3f5f"
          },
          "geo": {
           "bgcolor": "white",
           "lakecolor": "white",
           "landcolor": "#E5ECF6",
           "showlakes": true,
           "showland": true,
           "subunitcolor": "white"
          },
          "hoverlabel": {
           "align": "left"
          },
          "hovermode": "closest",
          "mapbox": {
           "style": "light"
          },
          "paper_bgcolor": "white",
          "plot_bgcolor": "#E5ECF6",
          "polar": {
           "angularaxis": {
            "gridcolor": "white",
            "linecolor": "white",
            "ticks": ""
           },
           "bgcolor": "#E5ECF6",
           "radialaxis": {
            "gridcolor": "white",
            "linecolor": "white",
            "ticks": ""
           }
          },
          "scene": {
           "xaxis": {
            "backgroundcolor": "#E5ECF6",
            "gridcolor": "white",
            "gridwidth": 2,
            "linecolor": "white",
            "showbackground": true,
            "ticks": "",
            "zerolinecolor": "white"
           },
           "yaxis": {
            "backgroundcolor": "#E5ECF6",
            "gridcolor": "white",
            "gridwidth": 2,
            "linecolor": "white",
            "showbackground": true,
            "ticks": "",
            "zerolinecolor": "white"
           },
           "zaxis": {
            "backgroundcolor": "#E5ECF6",
            "gridcolor": "white",
            "gridwidth": 2,
            "linecolor": "white",
            "showbackground": true,
            "ticks": "",
            "zerolinecolor": "white"
           }
          },
          "shapedefaults": {
           "line": {
            "color": "#2a3f5f"
           }
          },
          "ternary": {
           "aaxis": {
            "gridcolor": "white",
            "linecolor": "white",
            "ticks": ""
           },
           "baxis": {
            "gridcolor": "white",
            "linecolor": "white",
            "ticks": ""
           },
           "bgcolor": "#E5ECF6",
           "caxis": {
            "gridcolor": "white",
            "linecolor": "white",
            "ticks": ""
           }
          },
          "title": {
           "x": 0.05
          },
          "xaxis": {
           "automargin": true,
           "gridcolor": "white",
           "linecolor": "white",
           "ticks": "",
           "title": {
            "standoff": 15
           },
           "zerolinecolor": "white",
           "zerolinewidth": 2
          },
          "yaxis": {
           "automargin": true,
           "gridcolor": "white",
           "linecolor": "white",
           "ticks": "",
           "title": {
            "standoff": 15
           },
           "zerolinecolor": "white",
           "zerolinewidth": 2
          }
         }
        },
        "title": {
         "text": ""
        },
        "width": 800,
        "xaxis": {
         "anchor": "y",
         "domain": [
          0,
          1
         ],
         "showgrid": false,
         "showline": false,
         "tickmode": "array",
         "ticktext": [
          "January",
          "February",
          "March",
          "April",
          "May",
          "June",
          "July",
          "August",
          "September",
          "October",
          "November",
          "December"
         ],
         "tickvals": [
          2.2857142857142856,
          6.428571428571429,
          10.857142857142858,
          15.142857142857142,
          19.571428571428573,
          23.857142857142858,
          28.285714285714285,
          32.714285714285715,
          37,
          41.42857142857143,
          45.714285714285715,
          50.142857142857146
         ],
         "zeroline": false
        },
        "yaxis": {
         "anchor": "x",
         "autorange": "reversed",
         "domain": [
          0,
          1
         ],
         "showgrid": false,
         "showline": false,
         "tickmode": "array",
         "ticktext": [
          "Mon",
          "Tue",
          "Wed",
          "Thu",
          "Fri",
          "Sat",
          "Sun"
         ],
         "tickvals": [
          0,
          1,
          2,
          3,
          4,
          5,
          6
         ],
         "zeroline": false
        }
       }
      },
      "text/html": [
       "<div>                            <div id=\"53d00ec4-229e-4259-bb8a-e621d1375b9a\" class=\"plotly-graph-div\" style=\"height:150px; width:800px;\"></div>            <script type=\"text/javascript\">                require([\"plotly\"], function(Plotly) {                    window.PLOTLYENV=window.PLOTLYENV || {};                                    if (document.getElementById(\"53d00ec4-229e-4259-bb8a-e621d1375b9a\")) {                    Plotly.newPlot(                        \"53d00ec4-229e-4259-bb8a-e621d1375b9a\",                        [{\"colorscale\":[[0.0,\"rgb(247,252,245)\"],[0.125,\"rgb(229,245,224)\"],[0.25,\"rgb(199,233,192)\"],[0.375,\"rgb(161,217,155)\"],[0.5,\"rgb(116,196,118)\"],[0.625,\"rgb(65,171,93)\"],[0.75,\"rgb(35,139,69)\"],[0.875,\"rgb(0,109,44)\"],[1.0,\"rgb(0,68,27)\"]],\"customdata\":[[\"2020-01-01\",\"y\"],[\"2020-01-02\",\"y\"],[\"2020-01-03\",\"y\"],[\"2020-01-04\",\"y\"],[\"2020-01-05\",\"y\"],[\"2020-01-06\",\"y\"],[\"2020-01-07\",\"y\"],[\"2020-01-08\",\"y\"],[\"2020-01-09\",\"y\"],[\"2020-01-10\",\"y\"],[\"2020-01-11\",\"y\"],[\"2020-01-12\",\"y\"],[\"2020-01-13\",\"y\"],[\"2020-01-14\",\"y\"],[\"2020-01-15\",\"y\"],[\"2020-01-16\",\"y\"],[\"2020-01-17\",\"y\"],[\"2020-01-18\",\"y\"],[\"2020-01-19\",\"y\"],[\"2020-01-20\",\"y\"],[\"2020-01-21\",\"y\"],[\"2020-01-22\",\"y\"],[\"2020-01-23\",\"y\"],[\"2020-01-24\",\"y\"],[\"2020-01-25\",\"y\"],[\"2020-01-26\",\"y\"],[\"2020-01-27\",\"y\"],[\"2020-01-28\",\"y\"],[\"2020-01-29\",\"y\"],[\"2020-01-30\",\"y\"],[\"2020-01-31\",\"y\"],[\"2020-02-01\",\"y\"],[\"2020-02-02\",\"y\"],[\"2020-02-03\",\"y\"],[\"2020-02-04\",\"y\"],[\"2020-02-05\",\"y\"],[\"2020-02-06\",\"y\"],[\"2020-02-07\",\"y\"],[\"2020-02-08\",\"y\"],[\"2020-02-09\",\"y\"],[\"2020-02-10\",\"y\"],[\"2020-02-11\",\"y\"],[\"2020-02-12\",\"y\"],[\"2020-02-13\",\"y\"],[\"2020-02-14\",\"y\"],[\"2020-02-15\",\"y\"],[\"2020-02-16\",\"y\"],[\"2020-02-17\",\"y\"],[\"2020-02-18\",\"y\"],[\"2020-02-19\",\"y\"],[\"2020-02-20\",\"y\"],[\"2020-02-21\",\"y\"],[\"2020-02-22\",\"y\"],[\"2020-02-23\",\"y\"],[\"2020-02-24\",\"y\"],[\"2020-02-25\",\"y\"],[\"2020-02-26\",\"y\"],[\"2020-02-27\",\"y\"],[\"2020-02-28\",\"y\"],[\"2020-02-29\",\"y\"],[\"2020-03-01\",\"y\"],[\"2020-03-02\",\"y\"],[\"2020-03-03\",\"y\"],[\"2020-03-04\",\"y\"],[\"2020-03-05\",\"y\"],[\"2020-03-06\",\"y\"],[\"2020-03-07\",\"y\"],[\"2020-03-08\",\"y\"],[\"2020-03-09\",\"y\"],[\"2020-03-10\",\"y\"],[\"2020-03-11\",\"y\"],[\"2020-03-12\",\"y\"],[\"2020-03-13\",\"y\"],[\"2020-03-14\",\"y\"],[\"2020-03-15\",\"y\"],[\"2020-03-16\",\"y\"],[\"2020-03-17\",\"y\"],[\"2020-03-18\",\"y\"],[\"2020-03-19\",\"y\"],[\"2020-03-20\",\"y\"],[\"2020-03-21\",\"y\"],[\"2020-03-22\",\"y\"],[\"2020-03-23\",\"y\"],[\"2020-03-24\",\"y\"],[\"2020-03-25\",\"y\"],[\"2020-03-26\",\"y\"],[\"2020-03-27\",\"y\"],[\"2020-03-28\",\"y\"],[\"2020-03-29\",\"y\"],[\"2020-03-30\",\"y\"],[\"2020-03-31\",\"y\"],[\"2020-04-01\",\"y\"],[\"2020-04-02\",\"y\"],[\"2020-04-03\",\"y\"],[\"2020-04-04\",\"y\"],[\"2020-04-05\",\"y\"],[\"2020-04-06\",\"y\"],[\"2020-04-07\",\"y\"],[\"2020-04-08\",\"y\"],[\"2020-04-09\",\"y\"],[\"2020-04-10\",\"y\"],[\"2020-04-11\",\"y\"],[\"2020-04-12\",\"y\"],[\"2020-04-13\",\"y\"],[\"2020-04-14\",\"y\"],[\"2020-04-15\",\"y\"],[\"2020-04-16\",\"y\"],[\"2020-04-17\",\"y\"],[\"2020-04-18\",\"y\"],[\"2020-04-19\",\"y\"],[\"2020-04-20\",\"y\"],[\"2020-04-21\",\"y\"],[\"2020-04-22\",\"y\"],[\"2020-04-23\",\"y\"],[\"2020-04-24\",\"y\"],[\"2020-04-25\",\"y\"],[\"2020-04-26\",\"y\"],[\"2020-04-27\",\"y\"],[\"2020-04-28\",\"y\"],[\"2020-04-29\",\"y\"],[\"2020-04-30\",\"y\"],[\"2020-05-01\",\"y\"],[\"2020-05-02\",\"y\"],[\"2020-05-03\",\"y\"],[\"2020-05-04\",\"y\"],[\"2020-05-05\",\"y\"],[\"2020-05-06\",\"y\"],[\"2020-05-07\",\"y\"],[\"2020-05-08\",\"y\"],[\"2020-05-09\",\"y\"],[\"2020-05-10\",\"y\"],[\"2020-05-11\",\"y\"],[\"2020-05-12\",\"y\"],[\"2020-05-13\",\"y\"],[\"2020-05-14\",\"y\"],[\"2020-05-15\",\"y\"],[\"2020-05-16\",\"y\"],[\"2020-05-17\",\"y\"],[\"2020-05-18\",\"y\"],[\"2020-05-19\",\"y\"],[\"2020-05-20\",\"y\"],[\"2020-05-21\",\"y\"],[\"2020-05-22\",\"y\"],[\"2020-05-23\",\"y\"],[\"2020-05-24\",\"y\"],[\"2020-05-25\",\"y\"],[\"2020-05-26\",\"y\"],[\"2020-05-27\",\"y\"],[\"2020-05-28\",\"y\"],[\"2020-05-29\",\"y\"],[\"2020-05-30\",\"y\"],[\"2020-05-31\",\"y\"],[\"2020-06-01\",\"y\"],[\"2020-06-02\",\"y\"],[\"2020-06-03\",\"y\"],[\"2020-06-04\",\"y\"],[\"2020-06-05\",\"y\"],[\"2020-06-06\",\"y\"],[\"2020-06-07\",\"y\"],[\"2020-06-08\",\"y\"],[\"2020-06-09\",\"y\"],[\"2020-06-10\",\"y\"],[\"2020-06-11\",\"y\"],[\"2020-06-12\",\"y\"],[\"2020-06-13\",\"y\"],[\"2020-06-14\",\"y\"],[\"2020-06-15\",\"y\"],[\"2020-06-16\",\"y\"],[\"2020-06-17\",\"y\"],[\"2020-06-18\",\"y\"],[\"2020-06-19\",\"y\"],[\"2020-06-20\",\"y\"],[\"2020-06-21\",\"y\"],[\"2020-06-22\",\"y\"],[\"2020-06-23\",\"y\"],[\"2020-06-24\",\"y\"],[\"2020-06-25\",\"y\"],[\"2020-06-26\",\"y\"],[\"2020-06-27\",\"y\"],[\"2020-06-28\",\"y\"],[\"2020-06-29\",\"y\"],[\"2020-06-30\",\"y\"],[\"2020-07-01\",\"y\"],[\"2020-07-02\",\"y\"],[\"2020-07-03\",\"y\"],[\"2020-07-04\",\"y\"],[\"2020-07-05\",\"y\"],[\"2020-07-06\",\"y\"],[\"2020-07-07\",\"y\"],[\"2020-07-08\",\"y\"],[\"2020-07-09\",\"y\"],[\"2020-07-10\",\"y\"],[\"2020-07-11\",\"y\"],[\"2020-07-12\",\"y\"],[\"2020-07-13\",\"y\"],[\"2020-07-14\",\"y\"],[\"2020-07-15\",\"y\"],[\"2020-07-16\",\"y\"],[\"2020-07-17\",\"y\"],[\"2020-07-18\",\"y\"],[\"2020-07-19\",\"y\"],[\"2020-07-20\",\"y\"],[\"2020-07-21\",\"y\"],[\"2020-07-22\",\"y\"],[\"2020-07-23\",\"y\"],[\"2020-07-24\",\"y\"],[\"2020-07-25\",\"y\"],[\"2020-07-26\",\"y\"],[\"2020-07-27\",\"y\"],[\"2020-07-28\",\"y\"],[\"2020-07-29\",\"y\"],[\"2020-07-30\",\"y\"],[\"2020-07-31\",\"y\"],[\"2020-08-01\",\"y\"],[\"2020-08-02\",\"y\"],[\"2020-08-03\",\"y\"],[\"2020-08-04\",\"y\"],[\"2020-08-05\",\"y\"],[\"2020-08-06\",\"y\"],[\"2020-08-07\",\"y\"],[\"2020-08-08\",\"y\"],[\"2020-08-09\",\"y\"],[\"2020-08-10\",\"y\"],[\"2020-08-11\",\"y\"],[\"2020-08-12\",\"y\"],[\"2020-08-13\",\"y\"],[\"2020-08-14\",\"y\"],[\"2020-08-15\",\"y\"],[\"2020-08-16\",\"y\"],[\"2020-08-17\",\"y\"],[\"2020-08-18\",\"y\"],[\"2020-08-19\",\"y\"],[\"2020-08-20\",\"y\"],[\"2020-08-21\",\"y\"],[\"2020-08-22\",\"y\"],[\"2020-08-23\",\"y\"],[\"2020-08-24\",\"y\"],[\"2020-08-25\",\"y\"],[\"2020-08-26\",\"y\"],[\"2020-08-27\",\"y\"],[\"2020-08-28\",\"y\"],[\"2020-08-29\",\"y\"],[\"2020-08-30\",\"y\"],[\"2020-08-31\",\"y\"],[\"2020-09-01\",\"y\"],[\"2020-09-02\",\"y\"],[\"2020-09-03\",\"y\"],[\"2020-09-04\",\"y\"],[\"2020-09-05\",\"y\"],[\"2020-09-06\",\"y\"],[\"2020-09-07\",\"y\"],[\"2020-09-08\",\"y\"],[\"2020-09-09\",\"y\"],[\"2020-09-10\",\"y\"],[\"2020-09-11\",\"y\"],[\"2020-09-12\",\"y\"],[\"2020-09-13\",\"y\"],[\"2020-09-14\",\"y\"],[\"2020-09-15\",\"y\"],[\"2020-09-16\",\"y\"],[\"2020-09-17\",\"y\"],[\"2020-09-18\",\"y\"],[\"2020-09-19\",\"y\"],[\"2020-09-20\",\"y\"],[\"2020-09-21\",\"y\"],[\"2020-09-22\",\"y\"],[\"2020-09-23\",\"y\"],[\"2020-09-24\",\"y\"],[\"2020-09-25\",\"y\"],[\"2020-09-26\",\"y\"],[\"2020-09-27\",\"y\"],[\"2020-09-28\",\"y\"],[\"2020-09-29\",\"y\"],[\"2020-09-30\",\"y\"],[\"2020-10-01\",\"y\"],[\"2020-10-02\",\"y\"],[\"2020-10-03\",\"y\"],[\"2020-10-04\",\"y\"],[\"2020-10-05\",\"y\"],[\"2020-10-06\",\"y\"],[\"2020-10-07\",\"y\"],[\"2020-10-08\",\"y\"],[\"2020-10-09\",\"y\"],[\"2020-10-10\",\"y\"],[\"2020-10-11\",\"y\"],[\"2020-10-12\",\"y\"],[\"2020-10-13\",\"y\"],[\"2020-10-14\",\"y\"],[\"2020-10-15\",\"y\"],[\"2020-10-16\",\"y\"],[\"2020-10-17\",\"y\"],[\"2020-10-18\",\"y\"],[\"2020-10-19\",\"y\"],[\"2020-10-20\",\"y\"],[\"2020-10-21\",\"y\"],[\"2020-10-22\",\"y\"],[\"2020-10-23\",\"y\"],[\"2020-10-24\",\"y\"],[\"2020-10-25\",\"y\"],[\"2020-10-26\",\"y\"],[\"2020-10-27\",\"y\"],[\"2020-10-28\",\"y\"],[\"2020-10-29\",\"y\"],[\"2020-10-30\",\"y\"],[\"2020-10-31\",\"y\"],[\"2020-11-01\",\"y\"],[\"2020-11-02\",\"y\"],[\"2020-11-03\",\"y\"],[\"2020-11-04\",\"y\"],[\"2020-11-05\",\"y\"],[\"2020-11-06\",\"y\"],[\"2020-11-07\",\"y\"],[\"2020-11-08\",\"y\"],[\"2020-11-09\",\"y\"],[\"2020-11-10\",\"y\"],[\"2020-11-11\",\"y\"],[\"2020-11-12\",\"y\"],[\"2020-11-13\",\"y\"],[\"2020-11-14\",\"y\"],[\"2020-11-15\",\"y\"],[\"2020-11-16\",\"y\"],[\"2020-11-17\",\"y\"],[\"2020-11-18\",\"y\"],[\"2020-11-19\",\"y\"],[\"2020-11-20\",\"y\"],[\"2020-11-21\",\"y\"],[\"2020-11-22\",\"y\"],[\"2020-11-23\",\"y\"],[\"2020-11-24\",\"y\"],[\"2020-11-25\",\"y\"],[\"2020-11-26\",\"y\"],[\"2020-11-27\",\"y\"],[\"2020-11-28\",\"y\"],[\"2020-11-29\",\"y\"],[\"2020-11-30\",\"y\"],[\"2020-12-01\",\"y\"],[\"2020-12-02\",\"y\"],[\"2020-12-03\",\"y\"],[\"2020-12-04\",\"y\"],[\"2020-12-05\",\"y\"],[\"2020-12-06\",\"y\"],[\"2020-12-07\",\"y\"],[\"2020-12-08\",\"y\"],[\"2020-12-09\",\"y\"],[\"2020-12-10\",\"y\"],[\"2020-12-11\",\"y\"],[\"2020-12-12\",\"y\"],[\"2020-12-13\",\"y\"],[\"2020-12-14\",\"y\"],[\"2020-12-15\",\"y\"],[\"2020-12-16\",\"y\"],[\"2020-12-17\",\"y\"],[\"2020-12-18\",\"y\"],[\"2020-12-19\",\"y\"],[\"2020-12-20\",\"y\"],[\"2020-12-21\",\"y\"],[\"2020-12-22\",\"y\"],[\"2020-12-23\",\"y\"],[\"2020-12-24\",\"y\"],[\"2020-12-25\",\"y\"],[\"2020-12-26\",\"y\"],[\"2020-12-27\",\"y\"],[\"2020-12-28\",\"y\"],[\"2020-12-29\",\"y\"],[\"2020-12-30\",\"y\"],[\"2020-12-31\",\"y\"]],\"hovertemplate\":\"%{customdata[0]} <br>%{customdata[1]}=%{z} <br>Week=%{x}\",\"name\":\"2020\",\"showscale\":false,\"x\":[1,1,1,1,1,2,2,2,2,2,2,2,3,3,3,3,3,3,3,4,4,4,4,4,4,4,5,5,5,5,5,5,5,6,6,6,6,6,6,6,7,7,7,7,7,7,7,8,8,8,8,8,8,8,9,9,9,9,9,9,9,10,10,10,10,10,10,10,11,11,11,11,11,11,11,12,12,12,12,12,12,12,13,13,13,13,13,13,13,14,14,14,14,14,14,14,15,15,15,15,15,15,15,16,16,16,16,16,16,16,17,17,17,17,17,17,17,18,18,18,18,18,18,18,19,19,19,19,19,19,19,20,20,20,20,20,20,20,21,21,21,21,21,21,21,22,22,22,22,22,22,22,23,23,23,23,23,23,23,24,24,24,24,24,24,24,25,25,25,25,25,25,25,26,26,26,26,26,26,26,27,27,27,27,27,27,27,28,28,28,28,28,28,28,29,29,29,29,29,29,29,30,30,30,30,30,30,30,31,31,31,31,31,31,31,32,32,32,32,32,32,32,33,33,33,33,33,33,33,34,34,34,34,34,34,34,35,35,35,35,35,35,35,36,36,36,36,36,36,36,37,37,37,37,37,37,37,38,38,38,38,38,38,38,39,39,39,39,39,39,39,40,40,40,40,40,40,40,41,41,41,41,41,41,41,42,42,42,42,42,42,42,43,43,43,43,43,43,43,44,44,44,44,44,44,44,45,45,45,45,45,45,45,46,46,46,46,46,46,46,47,47,47,47,47,47,47,48,48,48,48,48,48,48,49,49,49,49,49,49,49,50,50,50,50,50,50,50,51,51,51,51,51,51,51,52,52,52,52,52,52,52,53,53,53,53],\"xgap\":1,\"y\":[2,3,4,5,6,0,1,2,3,4,5,6,0,1,2,3,4,5,6,0,1,2,3,4,5,6,0,1,2,3,4,5,6,0,1,2,3,4,5,6,0,1,2,3,4,5,6,0,1,2,3,4,5,6,0,1,2,3,4,5,6,0,1,2,3,4,5,6,0,1,2,3,4,5,6,0,1,2,3,4,5,6,0,1,2,3,4,5,6,0,1,2,3,4,5,6,0,1,2,3,4,5,6,0,1,2,3,4,5,6,0,1,2,3,4,5,6,0,1,2,3,4,5,6,0,1,2,3,4,5,6,0,1,2,3,4,5,6,0,1,2,3,4,5,6,0,1,2,3,4,5,6,0,1,2,3,4,5,6,0,1,2,3,4,5,6,0,1,2,3,4,5,6,0,1,2,3,4,5,6,0,1,2,3,4,5,6,0,1,2,3,4,5,6,0,1,2,3,4,5,6,0,1,2,3,4,5,6,0,1,2,3,4,5,6,0,1,2,3,4,5,6,0,1,2,3,4,5,6,0,1,2,3,4,5,6,0,1,2,3,4,5,6,0,1,2,3,4,5,6,0,1,2,3,4,5,6,0,1,2,3,4,5,6,0,1,2,3,4,5,6,0,1,2,3,4,5,6,0,1,2,3,4,5,6,0,1,2,3,4,5,6,0,1,2,3,4,5,6,0,1,2,3,4,5,6,0,1,2,3,4,5,6,0,1,2,3,4,5,6,0,1,2,3,4,5,6,0,1,2,3,4,5,6,0,1,2,3,4,5,6,0,1,2,3,4,5,6,0,1,2,3,4,5,6,0,1,2,3,4,5,6,0,1,2,3],\"ygap\":1,\"z\":[0.0,0.0,0.0,0.0,0.0,0.0,0.0,0.0,0.0,0.0,0.0,0.0,0.0,0.0,0.0,0.0,0.0,0.0,0.0,0.0,0.0,0.0,0.0,0.0,0.0,0.0,0.0,0.0,0.0,0.0,0.0,0.0,0.0,0.0,0.0,0.0,0.0,0.0,0.0,0.0,0.0,0.0,0.0,0.0,0.0,0.0,0.0,0.0,0.0,0.0,0.0,0.0,0.0,0.0,1.0,1.0,1.0,1.0,1.0,1.0,1.0,1.0,1.0,1.0,1.0,1.0,1.0,1.0,1.0,1.0,1.0,1.0,1.0,1.0,1.0,0.0,0.0,0.0,0.0,0.0,0.0,0.0,1.0,1.0,1.0,1.0,1.0,1.0,1.0,1.0,1.0,1.0,1.0,1.0,1.0,1.0,1.0,1.0,1.0,1.0,1.0,1.0,1.0,0.0,0.0,0.0,0.0,0.0,0.0,0.0,0.0,0.0,0.0,0.0,0.0,0.0,0.0,0.0,0.0,0.0,0.0,0.0,0.0,0.0,0.0,0.0,0.0,0.0,0.0,0.0,0.0,0.0,0.0,0.0,0.0,0.0,0.0,0.0,0.0,0.0,0.0,0.0,0.0,0.0,0.0,0.0,0.0,0.0,0.0,0.0,0.0,0.0,0.0,0.0,0.0,0.0,0.0,0.0,0.0,0.0,0.0,0.0,0.0,0.0,0.0,0.0,0.0,0.0,0.0,0.0,0.0,0.0,0.0,0.0,0.0,0.0,0.0,0.0,0.0,0.0,0.0,0.0,0.0,0.0,0.0,0.0,0.0,0.0,0.0,0.0,0.0,0.0,0.0,0.0,0.0,0.0,0.0,0.0,0.0,0.0,0.0,0.0,0.0,0.0,0.0,0.0,0.0,0.0,0.0,0.0,0.0,0.0,0.0,0.0,0.0,0.0,0.0,0.0,0.0,0.0,0.0,0.0,0.0,0.0,0.0,0.0,0.0,0.0,0.0,0.0,0.0,0.0,0.0,0.0,0.0,0.0,1.0,1.0,1.0,1.0,1.0,1.0,1.0,0.0,0.0,0.0,0.0,0.0,0.0,0.0,0.0,0.0,0.0,0.0,0.0,0.0,0.0,0.0,0.0,0.0,0.0,0.0,0.0,0.0,0.0,0.0,0.0,0.0,0.0,0.0,0.0,0.0,0.0,0.0,0.0,0.0,0.0,0.0,0.0,0.0,0.0,0.0,0.0,0.0,0.0,0.0,0.0,0.0,0.0,0.0,0.0,0.0,0.0,0.0,0.0,0.0,0.0,0.0,0.0,0.0,0.0,0.0,0.0,0.0,0.0,0.0,0.0,0.0,0.0,0.0,0.0,0.0,0.0,0.0,0.0,0.0,0.0,0.0,0.0,0.0,0.0,0.0,0.0,0.0,0.0,0.0,0.0,0.0,0.0,0.0,0.0,0.0,0.0,0.0,0.0,0.0,0.0,0.0,0.0,0.0,0.0,0.0,0.0,0.0,0.0,0.0,0.0,0.0,0.0,0.0,0.0,0.0,0.0,0.0,0.0,0.0,0.0,0.0,0.0,0.0,0.0,0.0,0.0,0.0,0.0,0.0],\"type\":\"heatmap\",\"xaxis\":\"x\",\"yaxis\":\"y\"},{\"hoverinfo\":\"skip\",\"line\":{\"color\":\"#9e9e9e\",\"width\":1},\"mode\":\"lines\",\"x\":[0.5,0.5],\"y\":[1.5,6.5],\"type\":\"scatter\",\"xaxis\":\"x\",\"yaxis\":\"y\"},{\"hoverinfo\":\"skip\",\"line\":{\"color\":\"#9e9e9e\",\"width\":1},\"mode\":\"lines\",\"x\":[0.5,1.5],\"y\":[1.5,1.5],\"type\":\"scatter\",\"xaxis\":\"x\",\"yaxis\":\"y\"},{\"hoverinfo\":\"skip\",\"line\":{\"color\":\"#9e9e9e\",\"width\":1},\"mode\":\"lines\",\"x\":[1.5,1.5],\"y\":[1.5,-0.5],\"type\":\"scatter\",\"xaxis\":\"x\",\"yaxis\":\"y\"},{\"hoverinfo\":\"skip\",\"line\":{\"color\":\"#9e9e9e\",\"width\":1},\"mode\":\"lines\",\"x\":[4.5,4.5],\"y\":[4.5,6.5],\"type\":\"scatter\",\"xaxis\":\"x\",\"yaxis\":\"y\"},{\"hoverinfo\":\"skip\",\"line\":{\"color\":\"#9e9e9e\",\"width\":1},\"mode\":\"lines\",\"x\":[4.5,5.5],\"y\":[4.5,4.5],\"type\":\"scatter\",\"xaxis\":\"x\",\"yaxis\":\"y\"},{\"hoverinfo\":\"skip\",\"line\":{\"color\":\"#9e9e9e\",\"width\":1},\"mode\":\"lines\",\"x\":[5.5,5.5],\"y\":[4.5,-0.5],\"type\":\"scatter\",\"xaxis\":\"x\",\"yaxis\":\"y\"},{\"hoverinfo\":\"skip\",\"line\":{\"color\":\"#9e9e9e\",\"width\":1},\"mode\":\"lines\",\"x\":[8.5,8.5],\"y\":[5.5,6.5],\"type\":\"scatter\",\"xaxis\":\"x\",\"yaxis\":\"y\"},{\"hoverinfo\":\"skip\",\"line\":{\"color\":\"#9e9e9e\",\"width\":1},\"mode\":\"lines\",\"x\":[8.5,9.5],\"y\":[5.5,5.5],\"type\":\"scatter\",\"xaxis\":\"x\",\"yaxis\":\"y\"},{\"hoverinfo\":\"skip\",\"line\":{\"color\":\"#9e9e9e\",\"width\":1},\"mode\":\"lines\",\"x\":[9.5,9.5],\"y\":[5.5,-0.5],\"type\":\"scatter\",\"xaxis\":\"x\",\"yaxis\":\"y\"},{\"hoverinfo\":\"skip\",\"line\":{\"color\":\"#9e9e9e\",\"width\":1},\"mode\":\"lines\",\"x\":[13.5,13.5],\"y\":[1.5,6.5],\"type\":\"scatter\",\"xaxis\":\"x\",\"yaxis\":\"y\"},{\"hoverinfo\":\"skip\",\"line\":{\"color\":\"#9e9e9e\",\"width\":1},\"mode\":\"lines\",\"x\":[13.5,14.5],\"y\":[1.5,1.5],\"type\":\"scatter\",\"xaxis\":\"x\",\"yaxis\":\"y\"},{\"hoverinfo\":\"skip\",\"line\":{\"color\":\"#9e9e9e\",\"width\":1},\"mode\":\"lines\",\"x\":[14.5,14.5],\"y\":[1.5,-0.5],\"type\":\"scatter\",\"xaxis\":\"x\",\"yaxis\":\"y\"},{\"hoverinfo\":\"skip\",\"line\":{\"color\":\"#9e9e9e\",\"width\":1},\"mode\":\"lines\",\"x\":[17.5,17.5],\"y\":[3.5,6.5],\"type\":\"scatter\",\"xaxis\":\"x\",\"yaxis\":\"y\"},{\"hoverinfo\":\"skip\",\"line\":{\"color\":\"#9e9e9e\",\"width\":1},\"mode\":\"lines\",\"x\":[17.5,18.5],\"y\":[3.5,3.5],\"type\":\"scatter\",\"xaxis\":\"x\",\"yaxis\":\"y\"},{\"hoverinfo\":\"skip\",\"line\":{\"color\":\"#9e9e9e\",\"width\":1},\"mode\":\"lines\",\"x\":[18.5,18.5],\"y\":[3.5,-0.5],\"type\":\"scatter\",\"xaxis\":\"x\",\"yaxis\":\"y\"},{\"hoverinfo\":\"skip\",\"line\":{\"color\":\"#9e9e9e\",\"width\":1},\"mode\":\"lines\",\"x\":[22.5,22.5],\"y\":[-0.5,6.5],\"type\":\"scatter\",\"xaxis\":\"x\",\"yaxis\":\"y\"},{\"hoverinfo\":\"skip\",\"line\":{\"color\":\"#9e9e9e\",\"width\":1},\"mode\":\"lines\",\"x\":[26.5,26.5],\"y\":[1.5,6.5],\"type\":\"scatter\",\"xaxis\":\"x\",\"yaxis\":\"y\"},{\"hoverinfo\":\"skip\",\"line\":{\"color\":\"#9e9e9e\",\"width\":1},\"mode\":\"lines\",\"x\":[26.5,27.5],\"y\":[1.5,1.5],\"type\":\"scatter\",\"xaxis\":\"x\",\"yaxis\":\"y\"},{\"hoverinfo\":\"skip\",\"line\":{\"color\":\"#9e9e9e\",\"width\":1},\"mode\":\"lines\",\"x\":[27.5,27.5],\"y\":[1.5,-0.5],\"type\":\"scatter\",\"xaxis\":\"x\",\"yaxis\":\"y\"},{\"hoverinfo\":\"skip\",\"line\":{\"color\":\"#9e9e9e\",\"width\":1},\"mode\":\"lines\",\"x\":[30.5,30.5],\"y\":[4.5,6.5],\"type\":\"scatter\",\"xaxis\":\"x\",\"yaxis\":\"y\"},{\"hoverinfo\":\"skip\",\"line\":{\"color\":\"#9e9e9e\",\"width\":1},\"mode\":\"lines\",\"x\":[30.5,31.5],\"y\":[4.5,4.5],\"type\":\"scatter\",\"xaxis\":\"x\",\"yaxis\":\"y\"},{\"hoverinfo\":\"skip\",\"line\":{\"color\":\"#9e9e9e\",\"width\":1},\"mode\":\"lines\",\"x\":[31.5,31.5],\"y\":[4.5,-0.5],\"type\":\"scatter\",\"xaxis\":\"x\",\"yaxis\":\"y\"},{\"hoverinfo\":\"skip\",\"line\":{\"color\":\"#9e9e9e\",\"width\":1},\"mode\":\"lines\",\"x\":[35.5,35.5],\"y\":[0.5,6.5],\"type\":\"scatter\",\"xaxis\":\"x\",\"yaxis\":\"y\"},{\"hoverinfo\":\"skip\",\"line\":{\"color\":\"#9e9e9e\",\"width\":1},\"mode\":\"lines\",\"x\":[35.5,36.5],\"y\":[0.5,0.5],\"type\":\"scatter\",\"xaxis\":\"x\",\"yaxis\":\"y\"},{\"hoverinfo\":\"skip\",\"line\":{\"color\":\"#9e9e9e\",\"width\":1},\"mode\":\"lines\",\"x\":[36.5,36.5],\"y\":[0.5,-0.5],\"type\":\"scatter\",\"xaxis\":\"x\",\"yaxis\":\"y\"},{\"hoverinfo\":\"skip\",\"line\":{\"color\":\"#9e9e9e\",\"width\":1},\"mode\":\"lines\",\"x\":[39.5,39.5],\"y\":[2.5,6.5],\"type\":\"scatter\",\"xaxis\":\"x\",\"yaxis\":\"y\"},{\"hoverinfo\":\"skip\",\"line\":{\"color\":\"#9e9e9e\",\"width\":1},\"mode\":\"lines\",\"x\":[39.5,40.5],\"y\":[2.5,2.5],\"type\":\"scatter\",\"xaxis\":\"x\",\"yaxis\":\"y\"},{\"hoverinfo\":\"skip\",\"line\":{\"color\":\"#9e9e9e\",\"width\":1},\"mode\":\"lines\",\"x\":[40.5,40.5],\"y\":[2.5,-0.5],\"type\":\"scatter\",\"xaxis\":\"x\",\"yaxis\":\"y\"},{\"hoverinfo\":\"skip\",\"line\":{\"color\":\"#9e9e9e\",\"width\":1},\"mode\":\"lines\",\"x\":[43.5,43.5],\"y\":[5.5,6.5],\"type\":\"scatter\",\"xaxis\":\"x\",\"yaxis\":\"y\"},{\"hoverinfo\":\"skip\",\"line\":{\"color\":\"#9e9e9e\",\"width\":1},\"mode\":\"lines\",\"x\":[43.5,44.5],\"y\":[5.5,5.5],\"type\":\"scatter\",\"xaxis\":\"x\",\"yaxis\":\"y\"},{\"hoverinfo\":\"skip\",\"line\":{\"color\":\"#9e9e9e\",\"width\":1},\"mode\":\"lines\",\"x\":[44.5,44.5],\"y\":[5.5,-0.5],\"type\":\"scatter\",\"xaxis\":\"x\",\"yaxis\":\"y\"},{\"hoverinfo\":\"skip\",\"line\":{\"color\":\"#9e9e9e\",\"width\":1},\"mode\":\"lines\",\"x\":[48.5,48.5],\"y\":[0.5,6.5],\"type\":\"scatter\",\"xaxis\":\"x\",\"yaxis\":\"y\"},{\"hoverinfo\":\"skip\",\"line\":{\"color\":\"#9e9e9e\",\"width\":1},\"mode\":\"lines\",\"x\":[48.5,49.5],\"y\":[0.5,0.5],\"type\":\"scatter\",\"xaxis\":\"x\",\"yaxis\":\"y\"},{\"hoverinfo\":\"skip\",\"line\":{\"color\":\"#9e9e9e\",\"width\":1},\"mode\":\"lines\",\"x\":[49.5,49.5],\"y\":[0.5,-0.5],\"type\":\"scatter\",\"xaxis\":\"x\",\"yaxis\":\"y\"}],                        {\"template\":{\"data\":{\"bar\":[{\"error_x\":{\"color\":\"#2a3f5f\"},\"error_y\":{\"color\":\"#2a3f5f\"},\"marker\":{\"line\":{\"color\":\"#E5ECF6\",\"width\":0.5},\"pattern\":{\"fillmode\":\"overlay\",\"size\":10,\"solidity\":0.2}},\"type\":\"bar\"}],\"barpolar\":[{\"marker\":{\"line\":{\"color\":\"#E5ECF6\",\"width\":0.5},\"pattern\":{\"fillmode\":\"overlay\",\"size\":10,\"solidity\":0.2}},\"type\":\"barpolar\"}],\"carpet\":[{\"aaxis\":{\"endlinecolor\":\"#2a3f5f\",\"gridcolor\":\"white\",\"linecolor\":\"white\",\"minorgridcolor\":\"white\",\"startlinecolor\":\"#2a3f5f\"},\"baxis\":{\"endlinecolor\":\"#2a3f5f\",\"gridcolor\":\"white\",\"linecolor\":\"white\",\"minorgridcolor\":\"white\",\"startlinecolor\":\"#2a3f5f\"},\"type\":\"carpet\"}],\"choropleth\":[{\"colorbar\":{\"outlinewidth\":0,\"ticks\":\"\"},\"type\":\"choropleth\"}],\"contour\":[{\"colorbar\":{\"outlinewidth\":0,\"ticks\":\"\"},\"colorscale\":[[0.0,\"#0d0887\"],[0.1111111111111111,\"#46039f\"],[0.2222222222222222,\"#7201a8\"],[0.3333333333333333,\"#9c179e\"],[0.4444444444444444,\"#bd3786\"],[0.5555555555555556,\"#d8576b\"],[0.6666666666666666,\"#ed7953\"],[0.7777777777777778,\"#fb9f3a\"],[0.8888888888888888,\"#fdca26\"],[1.0,\"#f0f921\"]],\"type\":\"contour\"}],\"contourcarpet\":[{\"colorbar\":{\"outlinewidth\":0,\"ticks\":\"\"},\"type\":\"contourcarpet\"}],\"heatmap\":[{\"colorbar\":{\"outlinewidth\":0,\"ticks\":\"\"},\"colorscale\":[[0.0,\"#0d0887\"],[0.1111111111111111,\"#46039f\"],[0.2222222222222222,\"#7201a8\"],[0.3333333333333333,\"#9c179e\"],[0.4444444444444444,\"#bd3786\"],[0.5555555555555556,\"#d8576b\"],[0.6666666666666666,\"#ed7953\"],[0.7777777777777778,\"#fb9f3a\"],[0.8888888888888888,\"#fdca26\"],[1.0,\"#f0f921\"]],\"type\":\"heatmap\"}],\"heatmapgl\":[{\"colorbar\":{\"outlinewidth\":0,\"ticks\":\"\"},\"colorscale\":[[0.0,\"#0d0887\"],[0.1111111111111111,\"#46039f\"],[0.2222222222222222,\"#7201a8\"],[0.3333333333333333,\"#9c179e\"],[0.4444444444444444,\"#bd3786\"],[0.5555555555555556,\"#d8576b\"],[0.6666666666666666,\"#ed7953\"],[0.7777777777777778,\"#fb9f3a\"],[0.8888888888888888,\"#fdca26\"],[1.0,\"#f0f921\"]],\"type\":\"heatmapgl\"}],\"histogram\":[{\"marker\":{\"pattern\":{\"fillmode\":\"overlay\",\"size\":10,\"solidity\":0.2}},\"type\":\"histogram\"}],\"histogram2d\":[{\"colorbar\":{\"outlinewidth\":0,\"ticks\":\"\"},\"colorscale\":[[0.0,\"#0d0887\"],[0.1111111111111111,\"#46039f\"],[0.2222222222222222,\"#7201a8\"],[0.3333333333333333,\"#9c179e\"],[0.4444444444444444,\"#bd3786\"],[0.5555555555555556,\"#d8576b\"],[0.6666666666666666,\"#ed7953\"],[0.7777777777777778,\"#fb9f3a\"],[0.8888888888888888,\"#fdca26\"],[1.0,\"#f0f921\"]],\"type\":\"histogram2d\"}],\"histogram2dcontour\":[{\"colorbar\":{\"outlinewidth\":0,\"ticks\":\"\"},\"colorscale\":[[0.0,\"#0d0887\"],[0.1111111111111111,\"#46039f\"],[0.2222222222222222,\"#7201a8\"],[0.3333333333333333,\"#9c179e\"],[0.4444444444444444,\"#bd3786\"],[0.5555555555555556,\"#d8576b\"],[0.6666666666666666,\"#ed7953\"],[0.7777777777777778,\"#fb9f3a\"],[0.8888888888888888,\"#fdca26\"],[1.0,\"#f0f921\"]],\"type\":\"histogram2dcontour\"}],\"mesh3d\":[{\"colorbar\":{\"outlinewidth\":0,\"ticks\":\"\"},\"type\":\"mesh3d\"}],\"parcoords\":[{\"line\":{\"colorbar\":{\"outlinewidth\":0,\"ticks\":\"\"}},\"type\":\"parcoords\"}],\"pie\":[{\"automargin\":true,\"type\":\"pie\"}],\"scatter\":[{\"marker\":{\"colorbar\":{\"outlinewidth\":0,\"ticks\":\"\"}},\"type\":\"scatter\"}],\"scatter3d\":[{\"line\":{\"colorbar\":{\"outlinewidth\":0,\"ticks\":\"\"}},\"marker\":{\"colorbar\":{\"outlinewidth\":0,\"ticks\":\"\"}},\"type\":\"scatter3d\"}],\"scattercarpet\":[{\"marker\":{\"colorbar\":{\"outlinewidth\":0,\"ticks\":\"\"}},\"type\":\"scattercarpet\"}],\"scattergeo\":[{\"marker\":{\"colorbar\":{\"outlinewidth\":0,\"ticks\":\"\"}},\"type\":\"scattergeo\"}],\"scattergl\":[{\"marker\":{\"colorbar\":{\"outlinewidth\":0,\"ticks\":\"\"}},\"type\":\"scattergl\"}],\"scattermapbox\":[{\"marker\":{\"colorbar\":{\"outlinewidth\":0,\"ticks\":\"\"}},\"type\":\"scattermapbox\"}],\"scatterpolar\":[{\"marker\":{\"colorbar\":{\"outlinewidth\":0,\"ticks\":\"\"}},\"type\":\"scatterpolar\"}],\"scatterpolargl\":[{\"marker\":{\"colorbar\":{\"outlinewidth\":0,\"ticks\":\"\"}},\"type\":\"scatterpolargl\"}],\"scatterternary\":[{\"marker\":{\"colorbar\":{\"outlinewidth\":0,\"ticks\":\"\"}},\"type\":\"scatterternary\"}],\"surface\":[{\"colorbar\":{\"outlinewidth\":0,\"ticks\":\"\"},\"colorscale\":[[0.0,\"#0d0887\"],[0.1111111111111111,\"#46039f\"],[0.2222222222222222,\"#7201a8\"],[0.3333333333333333,\"#9c179e\"],[0.4444444444444444,\"#bd3786\"],[0.5555555555555556,\"#d8576b\"],[0.6666666666666666,\"#ed7953\"],[0.7777777777777778,\"#fb9f3a\"],[0.8888888888888888,\"#fdca26\"],[1.0,\"#f0f921\"]],\"type\":\"surface\"}],\"table\":[{\"cells\":{\"fill\":{\"color\":\"#EBF0F8\"},\"line\":{\"color\":\"white\"}},\"header\":{\"fill\":{\"color\":\"#C8D4E3\"},\"line\":{\"color\":\"white\"}},\"type\":\"table\"}]},\"layout\":{\"annotationdefaults\":{\"arrowcolor\":\"#2a3f5f\",\"arrowhead\":0,\"arrowwidth\":1},\"autotypenumbers\":\"strict\",\"coloraxis\":{\"colorbar\":{\"outlinewidth\":0,\"ticks\":\"\"}},\"colorscale\":{\"diverging\":[[0,\"#8e0152\"],[0.1,\"#c51b7d\"],[0.2,\"#de77ae\"],[0.3,\"#f1b6da\"],[0.4,\"#fde0ef\"],[0.5,\"#f7f7f7\"],[0.6,\"#e6f5d0\"],[0.7,\"#b8e186\"],[0.8,\"#7fbc41\"],[0.9,\"#4d9221\"],[1,\"#276419\"]],\"sequential\":[[0.0,\"#0d0887\"],[0.1111111111111111,\"#46039f\"],[0.2222222222222222,\"#7201a8\"],[0.3333333333333333,\"#9c179e\"],[0.4444444444444444,\"#bd3786\"],[0.5555555555555556,\"#d8576b\"],[0.6666666666666666,\"#ed7953\"],[0.7777777777777778,\"#fb9f3a\"],[0.8888888888888888,\"#fdca26\"],[1.0,\"#f0f921\"]],\"sequentialminus\":[[0.0,\"#0d0887\"],[0.1111111111111111,\"#46039f\"],[0.2222222222222222,\"#7201a8\"],[0.3333333333333333,\"#9c179e\"],[0.4444444444444444,\"#bd3786\"],[0.5555555555555556,\"#d8576b\"],[0.6666666666666666,\"#ed7953\"],[0.7777777777777778,\"#fb9f3a\"],[0.8888888888888888,\"#fdca26\"],[1.0,\"#f0f921\"]]},\"colorway\":[\"#636efa\",\"#EF553B\",\"#00cc96\",\"#ab63fa\",\"#FFA15A\",\"#19d3f3\",\"#FF6692\",\"#B6E880\",\"#FF97FF\",\"#FECB52\"],\"font\":{\"color\":\"#2a3f5f\"},\"geo\":{\"bgcolor\":\"white\",\"lakecolor\":\"white\",\"landcolor\":\"#E5ECF6\",\"showlakes\":true,\"showland\":true,\"subunitcolor\":\"white\"},\"hoverlabel\":{\"align\":\"left\"},\"hovermode\":\"closest\",\"mapbox\":{\"style\":\"light\"},\"paper_bgcolor\":\"white\",\"plot_bgcolor\":\"#E5ECF6\",\"polar\":{\"angularaxis\":{\"gridcolor\":\"white\",\"linecolor\":\"white\",\"ticks\":\"\"},\"bgcolor\":\"#E5ECF6\",\"radialaxis\":{\"gridcolor\":\"white\",\"linecolor\":\"white\",\"ticks\":\"\"}},\"scene\":{\"xaxis\":{\"backgroundcolor\":\"#E5ECF6\",\"gridcolor\":\"white\",\"gridwidth\":2,\"linecolor\":\"white\",\"showbackground\":true,\"ticks\":\"\",\"zerolinecolor\":\"white\"},\"yaxis\":{\"backgroundcolor\":\"#E5ECF6\",\"gridcolor\":\"white\",\"gridwidth\":2,\"linecolor\":\"white\",\"showbackground\":true,\"ticks\":\"\",\"zerolinecolor\":\"white\"},\"zaxis\":{\"backgroundcolor\":\"#E5ECF6\",\"gridcolor\":\"white\",\"gridwidth\":2,\"linecolor\":\"white\",\"showbackground\":true,\"ticks\":\"\",\"zerolinecolor\":\"white\"}},\"shapedefaults\":{\"line\":{\"color\":\"#2a3f5f\"}},\"ternary\":{\"aaxis\":{\"gridcolor\":\"white\",\"linecolor\":\"white\",\"ticks\":\"\"},\"baxis\":{\"gridcolor\":\"white\",\"linecolor\":\"white\",\"ticks\":\"\"},\"bgcolor\":\"#E5ECF6\",\"caxis\":{\"gridcolor\":\"white\",\"linecolor\":\"white\",\"ticks\":\"\"}},\"title\":{\"x\":0.05},\"xaxis\":{\"automargin\":true,\"gridcolor\":\"white\",\"linecolor\":\"white\",\"ticks\":\"\",\"title\":{\"standoff\":15},\"zerolinecolor\":\"white\",\"zerolinewidth\":2},\"yaxis\":{\"automargin\":true,\"gridcolor\":\"white\",\"linecolor\":\"white\",\"ticks\":\"\",\"title\":{\"standoff\":15},\"zerolinecolor\":\"white\",\"zerolinewidth\":2}}},\"xaxis\":{\"anchor\":\"y\",\"domain\":[0.0,1.0],\"showgrid\":false,\"showline\":false,\"tickmode\":\"array\",\"ticktext\":[\"January\",\"February\",\"March\",\"April\",\"May\",\"June\",\"July\",\"August\",\"September\",\"October\",\"November\",\"December\"],\"tickvals\":[2.2857142857142856,6.428571428571429,10.857142857142858,15.142857142857142,19.571428571428573,23.857142857142858,28.285714285714285,32.714285714285715,37.0,41.42857142857143,45.714285714285715,50.142857142857146],\"zeroline\":false},\"yaxis\":{\"anchor\":\"x\",\"domain\":[0.0,1.0],\"autorange\":\"reversed\",\"showgrid\":false,\"showline\":false,\"tickmode\":\"array\",\"ticktext\":[\"Mon\",\"Tue\",\"Wed\",\"Thu\",\"Fri\",\"Sat\",\"Sun\"],\"tickvals\":[0,1,2,3,4,5,6],\"zeroline\":false},\"font\":{\"color\":\"#9e9e9e\",\"size\":10},\"margin\":{\"b\":20,\"t\":20},\"title\":{\"text\":\"\"},\"plot_bgcolor\":\"#fff\",\"showlegend\":false,\"width\":800,\"height\":150},                        {\"responsive\": true}                    ).then(function(){\n",
       "                            \n",
       "var gd = document.getElementById('53d00ec4-229e-4259-bb8a-e621d1375b9a');\n",
       "var x = new MutationObserver(function (mutations, observer) {{\n",
       "        var display = window.getComputedStyle(gd).display;\n",
       "        if (!display || display === 'none') {{\n",
       "            console.log([gd, 'removed!']);\n",
       "            Plotly.purge(gd);\n",
       "            observer.disconnect();\n",
       "        }}\n",
       "}});\n",
       "\n",
       "// Listen for the removal of the full notebook cells\n",
       "var notebookContainer = gd.closest('#notebook-container');\n",
       "if (notebookContainer) {{\n",
       "    x.observe(notebookContainer, {childList: true});\n",
       "}}\n",
       "\n",
       "// Listen for the clearing of the current output cell\n",
       "var outputEl = gd.closest('.output');\n",
       "if (outputEl) {{\n",
       "    x.observe(outputEl, {childList: true});\n",
       "}}\n",
       "\n",
       "                        })                };                });            </script>        </div>"
      ]
     },
     "metadata": {},
     "output_type": "display_data"
    }
   ],
   "source": [
    "calendar = my_methods.manuring_periods(year, mais_week, rice_week, cereal_week)"
   ]
  },
  {
   "cell_type": "code",
   "execution_count": 9,
   "id": "73fdc95d",
   "metadata": {},
   "outputs": [
    {
     "data": {
      "application/vnd.jupyter.widget-view+json": {
       "model_id": "be9cb91b9ad34ac3b00a0c0be5affc63",
       "version_major": 2,
       "version_minor": 0
      },
      "text/plain": [
       "Dropdown(description='name:', options=('mais_week', 'rice_week', 'cereal_week'), value='mais_week')"
      ]
     },
     "metadata": {},
     "output_type": "display_data"
    }
   ],
   "source": [
    "# With this widget is possible to select from the dropdown list the required week\n",
    "select_week = widgets.Dropdown(\n",
    "    options=['mais_week', 'rice_week', 'cereal_week'],\n",
    "    description='name:',\n",
    "    disabled=False)\n",
    "select_week"
   ]
  },
  {
   "cell_type": "code",
   "execution_count": 10,
   "id": "f60361bf",
   "metadata": {},
   "outputs": [
    {
     "name": "stdout",
     "output_type": "stream",
     "text": [
      "For mais_week the starting date is 2020-02-24 and the ending date is 2020-03-15\n"
     ]
    }
   ],
   "source": [
    "# Select start and end date of the corresponding selected week:\n",
    "start_date = calendar[date[select_week.value][0]][0]\n",
    "end_date = calendar[date[select_week.value][-1]][-1]\n",
    "print(\"For\", select_week.value, \"the starting date is\", start_date,\"and the ending date is\" , end_date)"
   ]
  },
  {
   "cell_type": "markdown",
   "id": "c69ac999",
   "metadata": {},
   "source": [
    "---"
   ]
  },
  {
   "cell_type": "markdown",
   "id": "15a30731",
   "metadata": {},
   "source": [
    "# [Google Earth Engine - NO2 - Sentinel-5P Tropomi](https://developers.google.com/earth-engine/datasets/catalog/COPERNICUS_S5P_OFFL_L3_NO2) "
   ]
  },
  {
   "cell_type": "code",
   "execution_count": 12,
   "id": "e3015866",
   "metadata": {},
   "outputs": [
    {
     "data": {
      "application/vnd.jupyter.widget-view+json": {
       "model_id": "2fa3149b1d41472b9f47f176ff0b3316",
       "version_major": 2,
       "version_minor": 0
      },
      "text/plain": [
       "Map(center=[45.5, 10], controls=(WidgetControl(options=['position', 'transparent_bg'], widget=HBox(children=(T…"
      ]
     },
     "metadata": {},
     "output_type": "display_data"
    }
   ],
   "source": [
    "#Create a map\n",
    "Map_no2 = geemap.Map(center=[45.5,10], zoom = 7 )\n",
    "Map_no2"
   ]
  },
  {
   "cell_type": "code",
   "execution_count": 13,
   "id": "d4c364d2",
   "metadata": {},
   "outputs": [],
   "source": [
    "#Access to NO2 image collection, selecting the band name and giving a date range\n",
    "no2 = ee.ImageCollection('COPERNICUS/S5P/OFFL/L3_NO2')\\\n",
    "  .select('tropospheric_NO2_column_number_density')\\\n",
    "  .filterDate(start_date, end_date);\n",
    "\n",
    "#Image visualization properties\n",
    "no2_viz = {\n",
    "    'min': 0,\n",
    "    'max': 0.0001,\n",
    "    'opacity': 0.75,\n",
    "    'palette': ['black', 'blue', 'purple', 'cyan', 'green', 'yellow', 'red']\n",
    "};\n",
    "\n",
    "#Calculate the mean value for each pixel in the time range\n",
    "no2 = no2.mean()\n",
    "Map_no2 .addLayer(no2, no2_viz, 'no2');"
   ]
  },
  {
   "cell_type": "code",
   "execution_count": 14,
   "id": "48cee5b5",
   "metadata": {},
   "outputs": [],
   "source": [
    "#Clip over the ROI previously defined\n",
    "no2_clip = no2.clip(roi)\n",
    "Map_no2.addLayer(no2_clip, no2_viz, 'no2');"
   ]
  },
  {
   "cell_type": "code",
   "execution_count": 15,
   "id": "0974b311",
   "metadata": {},
   "outputs": [],
   "source": [
    "# Set output directory\n",
    "out_dir = os.path.expanduser(cwd + '/temp')\n",
    "\n",
    "if not os.path.exists(out_dir):\n",
    "    os.makedirs(out_dir)\n",
    "\n",
    "filename = os.path.join(out_dir, 'no2.tif')"
   ]
  },
  {
   "cell_type": "code",
   "execution_count": 16,
   "id": "57bab351",
   "metadata": {},
   "outputs": [
    {
     "name": "stdout",
     "output_type": "stream",
     "text": [
      "Generating URL ...\n",
      "Downloading data from https://earthengine.googleapis.com/v1alpha/projects/earthengine-legacy/thumbnails/428eb6d5dedcc23d27b7a9b4f822ecc6-990439b518912c7494730e9d0a438a77:getPixels\n",
      "Please wait ...\n",
      "Data downloaded to C:\\Users\\Administrator\\OneDrive - Politecnico di Milano\\WP2\\D-DUST\\temp\\no2.tif\n"
     ]
    }
   ],
   "source": [
    "#Export the NO2 .tif file in the directory selected by filename\n",
    "geemap.ee_export_image(no2_clip, filename=filename, scale = 1000)"
   ]
  },
  {
   "cell_type": "markdown",
   "id": "980571bb",
   "metadata": {},
   "source": [
    "---"
   ]
  },
  {
   "cell_type": "markdown",
   "id": "0911d9ae",
   "metadata": {},
   "source": [
    "# [Google Earth Engine - SO2 - Sentinel-5P Tropomi](https://developers.google.com/earth-engine/datasets/catalog/COPERNICUS_S5P_OFFL_L3_SO2) "
   ]
  },
  {
   "cell_type": "code",
   "execution_count": 17,
   "id": "92413e16",
   "metadata": {},
   "outputs": [
    {
     "data": {
      "application/vnd.jupyter.widget-view+json": {
       "model_id": "c01a668c95e24da183688da7099fe72b",
       "version_major": 2,
       "version_minor": 0
      },
      "text/plain": [
       "Map(center=[45.5, 10], controls=(WidgetControl(options=['position', 'transparent_bg'], widget=HBox(children=(T…"
      ]
     },
     "metadata": {},
     "output_type": "display_data"
    }
   ],
   "source": [
    "Map_so2 = geemap.Map(center=[45.5,10], zoom = 7 )\n",
    "Map_so2 "
   ]
  },
  {
   "cell_type": "code",
   "execution_count": 18,
   "id": "7605fa44",
   "metadata": {},
   "outputs": [],
   "source": [
    "#Access to SO2 image collection, selecting the band name and giving a date range\n",
    "so2 = ee.ImageCollection('COPERNICUS/S5P/OFFL/L3_SO2')\\\n",
    "  .select('SO2_column_number_density')\\\n",
    "  .filterDate(start_date, end_date);\n",
    "\n",
    "#Image visualization properties\n",
    "so2_viz = {\n",
    "    'min': 0,\n",
    "    'max': 0.001,\n",
    "    'opacity': 0.75,\n",
    "    'palette': ['black', 'blue', 'purple', 'cyan', 'green', 'yellow', 'red']\n",
    "};\n",
    "\n",
    "#Calculate the mean value for each pixel in the time range\n",
    "so2 = so2.mean()\n",
    "Map_so2 .addLayer(so2, so2_viz, 'so2');"
   ]
  },
  {
   "cell_type": "code",
   "execution_count": 19,
   "id": "3b64d4f3",
   "metadata": {},
   "outputs": [],
   "source": [
    "#Clip over the ROI previously defined\n",
    "so2_clip = so2.clip(roi)\n",
    "Map_so2 .addLayer(so2_clip, so2_viz, 'so2');"
   ]
  },
  {
   "cell_type": "code",
   "execution_count": 20,
   "id": "b4d0e736",
   "metadata": {},
   "outputs": [],
   "source": [
    "# Set output directory for SO2\n",
    "out_dir = os.path.expanduser(cwd + '/temp')\n",
    "\n",
    "filename = os.path.join(out_dir, 'so2.tif')"
   ]
  },
  {
   "cell_type": "code",
   "execution_count": 21,
   "id": "48fa15c3",
   "metadata": {},
   "outputs": [
    {
     "name": "stdout",
     "output_type": "stream",
     "text": [
      "Generating URL ...\n",
      "Downloading data from https://earthengine.googleapis.com/v1alpha/projects/earthengine-legacy/thumbnails/3717acc52b9ec74c9164c1aa73488e53-7e7e1f09ba749fc40b9f80e7e4da3d99:getPixels\n",
      "Please wait ...\n",
      "Data downloaded to C:\\Users\\Administrator\\OneDrive - Politecnico di Milano\\WP2\\D-DUST\\temp\\so2.tif\n"
     ]
    }
   ],
   "source": [
    "geemap.ee_export_image(so2_clip, filename=filename, scale=1000)"
   ]
  },
  {
   "cell_type": "markdown",
   "id": "ccc271c4",
   "metadata": {},
   "source": [
    "---"
   ]
  },
  {
   "cell_type": "markdown",
   "id": "1b5f196a",
   "metadata": {},
   "source": [
    "# [Google Earth Engine - UV Aerosol Index - Sentinel-5P Tropomi](https://developers.google.com/earth-engine/datasets/catalog/COPERNICUS_S5P_OFFL_L3_AER_AI) "
   ]
  },
  {
   "cell_type": "code",
   "execution_count": 22,
   "id": "d024f155",
   "metadata": {},
   "outputs": [
    {
     "data": {
      "application/vnd.jupyter.widget-view+json": {
       "model_id": "d5e5aac318aa47d8b2e199224bd43bb6",
       "version_major": 2,
       "version_minor": 0
      },
      "text/plain": [
       "Map(center=[45.5, 10], controls=(WidgetControl(options=['position', 'transparent_bg'], widget=HBox(children=(T…"
      ]
     },
     "metadata": {},
     "output_type": "display_data"
    }
   ],
   "source": [
    "Map_uvai = geemap.Map(center=[45.5,10], zoom = 7 )\n",
    "Map_uvai"
   ]
  },
  {
   "cell_type": "code",
   "execution_count": 23,
   "id": "e8555188",
   "metadata": {},
   "outputs": [],
   "source": [
    "#Access to UV Aerosol index image collection, selecting the band name and giving a date range\n",
    "uvai = ee.ImageCollection('COPERNICUS/S5P/OFFL/L3_AER_AI')\\\n",
    "  .select('absorbing_aerosol_index')\\\n",
    "  .filterDate(start_date, end_date);\n",
    "\n",
    "#Image visualization properties\n",
    "uvai_viz = {\n",
    "    'min': -2,\n",
    "    'max': 0.05,\n",
    "    'opacity': 0.75,\n",
    "    'palette': ['black', 'blue', 'purple', 'cyan', 'green', 'yellow', 'red']\n",
    "};\n",
    "\n",
    "#Calculate the mean value for each pixel in the time range\n",
    "uvai = uvai.mean()\n",
    "Map_uvai.addLayer(uvai, uvai_viz, 'uvai');"
   ]
  },
  {
   "cell_type": "code",
   "execution_count": 24,
   "id": "4439b00b",
   "metadata": {},
   "outputs": [],
   "source": [
    "#Clip over the ROI previously defined\n",
    "uvai_clip = uvai.clip(roi)\n",
    "Map_uvai.addLayer(uvai_clip, uvai_viz, 'uvai');"
   ]
  },
  {
   "cell_type": "code",
   "execution_count": 25,
   "id": "5a72c762",
   "metadata": {},
   "outputs": [],
   "source": [
    "# Set output directory for UVAI\n",
    "out_dir = os.path.expanduser(cwd + '/temp')\n",
    "\n",
    "filename = os.path.join(out_dir, 'uvai.tif')"
   ]
  },
  {
   "cell_type": "code",
   "execution_count": 26,
   "id": "07c24195",
   "metadata": {},
   "outputs": [
    {
     "name": "stdout",
     "output_type": "stream",
     "text": [
      "Generating URL ...\n",
      "Downloading data from https://earthengine.googleapis.com/v1alpha/projects/earthengine-legacy/thumbnails/80d48d7c65a99f6e3b1b5d34b429dfae-25b075c3790a3e7da96ae370754805a0:getPixels\n",
      "Please wait ...\n",
      "Data downloaded to C:\\Users\\Administrator\\OneDrive - Politecnico di Milano\\WP2\\D-DUST\\temp\\uvai.tif\n"
     ]
    }
   ],
   "source": [
    "geemap.ee_export_image(uvai_clip, filename=filename, scale=1000)"
   ]
  },
  {
   "cell_type": "markdown",
   "id": "7478b63d",
   "metadata": {},
   "source": [
    "- - -"
   ]
  },
  {
   "cell_type": "markdown",
   "id": "714766df",
   "metadata": {},
   "source": [
    "# [Google Earth Engine - Carbon Monoxide - Sentinel-5P Tropomi](https://developers.google.com/earth-engine/datasets/catalog/COPERNICUS_S5P_OFFL_L3_CO) "
   ]
  },
  {
   "cell_type": "code",
   "execution_count": 27,
   "id": "812bc1e3",
   "metadata": {},
   "outputs": [
    {
     "data": {
      "application/vnd.jupyter.widget-view+json": {
       "model_id": "21f0b2218c3b4460ae8a35b4e239568c",
       "version_major": 2,
       "version_minor": 0
      },
      "text/plain": [
       "Map(center=[45.5, 10], controls=(WidgetControl(options=['position', 'transparent_bg'], widget=HBox(children=(T…"
      ]
     },
     "metadata": {},
     "output_type": "display_data"
    }
   ],
   "source": [
    "Map_co = geemap.Map(center=[45.5,10], zoom = 7 )\n",
    "Map_co"
   ]
  },
  {
   "cell_type": "code",
   "execution_count": 28,
   "id": "cf057654",
   "metadata": {},
   "outputs": [],
   "source": [
    "#Access to CO image collection, selecting the band name and giving a date range\n",
    "co = ee.ImageCollection('COPERNICUS/S5P/OFFL/L3_CO')\\\n",
    "  .select('CO_column_number_density')\\\n",
    "  .filterDate(start_date, end_date);\n",
    "\n",
    "#Image visualization properties\n",
    "co_viz = {\n",
    "    'min': 0,\n",
    "    'max': 0.05,\n",
    "    'opacity': 0.75,\n",
    "    'palette': ['black', 'blue', 'purple', 'cyan', 'green', 'yellow', 'red']\n",
    "};\n",
    "\n",
    "co = co.mean()\n",
    "Map_co.addLayer(co, co_viz, 'co');"
   ]
  },
  {
   "cell_type": "code",
   "execution_count": 29,
   "id": "9857e8a0",
   "metadata": {},
   "outputs": [],
   "source": [
    "#Clip over the ROI previously defined\n",
    "co_clip = co.clip(roi)\n",
    "Map_co.addLayer(co_clip, co_viz, 'co');"
   ]
  },
  {
   "cell_type": "code",
   "execution_count": 30,
   "id": "7d4be7e8",
   "metadata": {},
   "outputs": [],
   "source": [
    "# Set output directory for CO\n",
    "out_dir = os.path.expanduser(cwd + '/temp')\n",
    "\n",
    "filename = os.path.join(out_dir, 'co.tif')"
   ]
  },
  {
   "cell_type": "code",
   "execution_count": 31,
   "id": "a4308932",
   "metadata": {},
   "outputs": [
    {
     "name": "stdout",
     "output_type": "stream",
     "text": [
      "Generating URL ...\n",
      "Downloading data from https://earthengine.googleapis.com/v1alpha/projects/earthengine-legacy/thumbnails/cacd14f7b6a00ffc975363604c5bb04a-90c3d85d273cbd92fddd2215c3cb0f34:getPixels\n",
      "Please wait ...\n",
      "Data downloaded to C:\\Users\\Administrator\\OneDrive - Politecnico di Milano\\WP2\\D-DUST\\temp\\co.tif\n"
     ]
    }
   ],
   "source": [
    "geemap.ee_export_image(co_clip, filename=filename, scale=1000)"
   ]
  },
  {
   "cell_type": "markdown",
   "id": "b985a024",
   "metadata": {},
   "source": [
    "- - -"
   ]
  },
  {
   "cell_type": "markdown",
   "id": "b52b12d2",
   "metadata": {},
   "source": [
    "# [Google Earth Engine - Formaldehyde - Sentinel-5P Tropomi](https://developers.google.com/earth-engine/datasets/catalog/COPERNICUS_S5P_OFFL_L3_HCHO) "
   ]
  },
  {
   "cell_type": "code",
   "execution_count": 32,
   "id": "98a3a76e",
   "metadata": {},
   "outputs": [
    {
     "data": {
      "application/vnd.jupyter.widget-view+json": {
       "model_id": "4973443882534b50a0b9e438b3d0ee33",
       "version_major": 2,
       "version_minor": 0
      },
      "text/plain": [
       "Map(center=[45.5, 10], controls=(WidgetControl(options=['position', 'transparent_bg'], widget=HBox(children=(T…"
      ]
     },
     "metadata": {},
     "output_type": "display_data"
    }
   ],
   "source": [
    "Map_form = geemap.Map(center=[45.5,10], zoom = 7 )\n",
    "Map_form"
   ]
  },
  {
   "cell_type": "code",
   "execution_count": 33,
   "id": "53f21e85",
   "metadata": {},
   "outputs": [],
   "source": [
    "#Access to HCHO image collection, selecting the band name and giving a date range\n",
    "form = ee.ImageCollection('COPERNICUS/S5P/OFFL/L3_HCHO')\\\n",
    "  .select('tropospheric_HCHO_column_number_density')\\\n",
    "  .filterDate(start_date, end_date);\n",
    "\n",
    "#Image visualization properties\n",
    "form_viz = {\n",
    "    'min': 0,\n",
    "    'max': 0.0003,\n",
    "    'opacity': 0.75,\n",
    "    'palette': ['black', 'blue', 'purple', 'cyan', 'green', 'yellow', 'red']\n",
    "};\n",
    "\n",
    "#Calculate the mean value for each pixel in the time range\n",
    "form = form.mean()\n",
    "Map_form.addLayer(form, form_viz, 'form');"
   ]
  },
  {
   "cell_type": "code",
   "execution_count": 34,
   "id": "504d9e4e",
   "metadata": {},
   "outputs": [],
   "source": [
    "#Clip over the ROI previously defined\n",
    "form_clip = form.clip(roi)\n",
    "Map_form.addLayer(form_clip, form_viz, 'form');"
   ]
  },
  {
   "cell_type": "code",
   "execution_count": 35,
   "id": "f8316be8",
   "metadata": {},
   "outputs": [],
   "source": [
    "# Set output directory for Ozone\n",
    "out_dir = os.path.expanduser(cwd + '/temp')\n",
    "\n",
    "filename = os.path.join(out_dir, 'form.tif')"
   ]
  },
  {
   "cell_type": "code",
   "execution_count": 36,
   "id": "8e2799f4",
   "metadata": {},
   "outputs": [
    {
     "name": "stdout",
     "output_type": "stream",
     "text": [
      "Generating URL ...\n",
      "Downloading data from https://earthengine.googleapis.com/v1alpha/projects/earthengine-legacy/thumbnails/b4429f99f6859b6a287ac01b0baf9809-f45603d767ebc67c566bbaae2b1628c7:getPixels\n",
      "Please wait ...\n",
      "Data downloaded to C:\\Users\\Administrator\\OneDrive - Politecnico di Milano\\WP2\\D-DUST\\temp\\form.tif\n"
     ]
    }
   ],
   "source": [
    "geemap.ee_export_image(form_clip, filename=filename, scale=1000)"
   ]
  },
  {
   "cell_type": "markdown",
   "id": "34cfe125",
   "metadata": {},
   "source": [
    "---"
   ]
  },
  {
   "cell_type": "markdown",
   "id": "868e968a",
   "metadata": {},
   "source": [
    "# [Google Earth Engine - Ozone - Sentinel-5P Tropomi](https://developers.google.com/earth-engine/datasets/catalog/COPERNICUS_S5P_OFFL_L3_O3) "
   ]
  },
  {
   "cell_type": "code",
   "execution_count": 37,
   "id": "ffecf7bb",
   "metadata": {},
   "outputs": [
    {
     "data": {
      "application/vnd.jupyter.widget-view+json": {
       "model_id": "106f0d1ac76a44188415ed143c80eb47",
       "version_major": 2,
       "version_minor": 0
      },
      "text/plain": [
       "Map(center=[45.5, 10], controls=(WidgetControl(options=['position', 'transparent_bg'], widget=HBox(children=(T…"
      ]
     },
     "metadata": {},
     "output_type": "display_data"
    }
   ],
   "source": [
    "Map_o3 = geemap.Map(center=[45.5,10], zoom = 7 )\n",
    "Map_o3"
   ]
  },
  {
   "cell_type": "code",
   "execution_count": 38,
   "id": "3c1ae6ac",
   "metadata": {},
   "outputs": [],
   "source": [
    "#Access to O3 image collection, selecting the band name and giving a date range\n",
    "o3 = ee.ImageCollection('COPERNICUS/S5P/OFFL/L3_O3')\\\n",
    "  .select('O3_column_number_density')\\\n",
    "  .filterDate(start_date, end_date);\n",
    "\n",
    "#Image visualization properties\n",
    "o3_viz = {\n",
    "    'min': 0.14,\n",
    "    'max': 0.17,\n",
    "    'opacity': 0.75,\n",
    "    'palette': ['black', 'blue', 'purple', 'cyan', 'green', 'yellow', 'red']\n",
    "};\n",
    "\n",
    "#Calculate the mean value for each pixel in the time range\n",
    "o3 = o3.mean()\n",
    "Map_o3.addLayer(o3, o3_viz, 'o3');"
   ]
  },
  {
   "cell_type": "code",
   "execution_count": 39,
   "id": "afd9ad28",
   "metadata": {},
   "outputs": [],
   "source": [
    "#Clip over the ROI previously defined\n",
    "o3_clip = o3.clip(roi)\n",
    "Map_o3.addLayer(o3_clip, o3_viz, 'o3');"
   ]
  },
  {
   "cell_type": "code",
   "execution_count": 40,
   "id": "cb725792",
   "metadata": {},
   "outputs": [],
   "source": [
    "# Set output directory for Ozone\n",
    "out_dir = os.path.expanduser(cwd + '/temp')\n",
    "\n",
    "filename = os.path.join(out_dir, 'o3.tif')"
   ]
  },
  {
   "cell_type": "code",
   "execution_count": 41,
   "id": "25af9f82",
   "metadata": {},
   "outputs": [
    {
     "name": "stdout",
     "output_type": "stream",
     "text": [
      "Generating URL ...\n",
      "Downloading data from https://earthengine.googleapis.com/v1alpha/projects/earthengine-legacy/thumbnails/4c4186f9d39e0c72946fcedd624bfa93-e6c01e0f369f3edf7a7f6524555f3681:getPixels\n",
      "Please wait ...\n",
      "Data downloaded to C:\\Users\\Administrator\\OneDrive - Politecnico di Milano\\WP2\\D-DUST\\temp\\o3.tif\n"
     ]
    }
   ],
   "source": [
    "geemap.ee_export_image(o3_clip, filename=filename, scale=1000)"
   ]
  },
  {
   "cell_type": "markdown",
   "id": "617db008",
   "metadata": {},
   "source": [
    "- - -"
   ]
  },
  {
   "cell_type": "markdown",
   "id": "8501a882",
   "metadata": {},
   "source": [
    "# [Google Earth Engine - AOD 550nm - Terra & Aqua MAIAC Land Aerosol Optical Depth - 1 km](https://developers.google.com/earth-engine/datasets/catalog/MODIS_006_MCD19A2_GRANULES) "
   ]
  },
  {
   "cell_type": "code",
   "execution_count": 42,
   "id": "daec1ce9",
   "metadata": {},
   "outputs": [
    {
     "data": {
      "application/vnd.jupyter.widget-view+json": {
       "model_id": "64ff62f703f54835855182028795c3bf",
       "version_major": 2,
       "version_minor": 0
      },
      "text/plain": [
       "Map(center=[45.5, 10], controls=(WidgetControl(options=['position', 'transparent_bg'], widget=HBox(children=(T…"
      ]
     },
     "metadata": {},
     "output_type": "display_data"
    }
   ],
   "source": [
    "Map_aod55 = geemap.Map(center=[45.5,10], zoom = 7 )\n",
    "Map_aod55"
   ]
  },
  {
   "cell_type": "code",
   "execution_count": 43,
   "id": "c0d79b66",
   "metadata": {},
   "outputs": [],
   "source": [
    "#Access to AOD 500 nm image collection, selecting the band name and giving a date range\n",
    "aod55 = ee.ImageCollection('MODIS/006/MCD19A2_GRANULES')\\\n",
    "  .select('Optical_Depth_055')\\\n",
    "  .filterDate(start_date, end_date);\n",
    "\n",
    "#Image visualization properties\n",
    "aod55_viz = {\n",
    "    'min': 0,\n",
    "    'max': 250,\n",
    "    'opacity': 0.75,\n",
    "    'palette': ['black', 'blue', 'purple', 'cyan', 'green', 'yellow', 'red']\n",
    "};\n",
    "\n",
    "#Calculate the mean value for each pixel in the time range\n",
    "aod55 = aod55.mean()\n",
    "Map_aod55.addLayer(aod55, aod55_viz, 'aod55');"
   ]
  },
  {
   "cell_type": "code",
   "execution_count": 44,
   "id": "17288b42",
   "metadata": {},
   "outputs": [],
   "source": [
    "#Clip over the ROI previously defined\n",
    "aod55_clip = aod55.clip(roi)\n",
    "Map_aod55.addLayer(aod55_clip, aod55_viz, 'aod55');"
   ]
  },
  {
   "cell_type": "code",
   "execution_count": 45,
   "id": "f862a8e2",
   "metadata": {},
   "outputs": [],
   "source": [
    "# Set output directory for AOD\n",
    "out_dir = os.path.expanduser(cwd + '/temp')\n",
    "\n",
    "filename = os.path.join(out_dir, 'aod_055.tif')"
   ]
  },
  {
   "cell_type": "code",
   "execution_count": 46,
   "id": "50582976",
   "metadata": {},
   "outputs": [
    {
     "name": "stdout",
     "output_type": "stream",
     "text": [
      "Generating URL ...\n",
      "Downloading data from https://earthengine.googleapis.com/v1alpha/projects/earthengine-legacy/thumbnails/5a4eaa696e187fc1f95ec5a5679c2a4b-42e2152d1d1a8776eca43af2cef4a537:getPixels\n",
      "Please wait ...\n",
      "Data downloaded to C:\\Users\\Administrator\\OneDrive - Politecnico di Milano\\WP2\\D-DUST\\temp\\aod_055.tif\n"
     ]
    }
   ],
   "source": [
    "geemap.ee_export_image(aod55_clip, filename=filename, scale=1000)"
   ]
  },
  {
   "cell_type": "markdown",
   "id": "f49218a3",
   "metadata": {},
   "source": [
    "- - -"
   ]
  },
  {
   "cell_type": "markdown",
   "id": "bd3ca9fb",
   "metadata": {},
   "source": [
    "# [Google Earth Engine - AOD 470nm - Terra & Aqua MAIAC Land Aerosol Optical Depth - 1 km](https://developers.google.com/earth-engine/datasets/catalog/MODIS_006_MCD19A2_GRANULES) "
   ]
  },
  {
   "cell_type": "code",
   "execution_count": 47,
   "id": "324bb290",
   "metadata": {},
   "outputs": [
    {
     "data": {
      "application/vnd.jupyter.widget-view+json": {
       "model_id": "6b6a991442764fcdb7e0be1688959652",
       "version_major": 2,
       "version_minor": 0
      },
      "text/plain": [
       "Map(center=[45.5, 10], controls=(WidgetControl(options=['position', 'transparent_bg'], widget=HBox(children=(T…"
      ]
     },
     "metadata": {},
     "output_type": "display_data"
    }
   ],
   "source": [
    "Map_aod47 = geemap.Map(center=[45.5,10], zoom = 7 )\n",
    "Map_aod47"
   ]
  },
  {
   "cell_type": "code",
   "execution_count": 48,
   "id": "43a95793",
   "metadata": {},
   "outputs": [],
   "source": [
    "#Access to AOD 470 nm image collection, selecting the band name and giving a date range\n",
    "aod47 = ee.ImageCollection('MODIS/006/MCD19A2_GRANULES')\\\n",
    "  .select('Optical_Depth_047')\\\n",
    "  .filterDate(start_date, end_date);\n",
    "\n",
    "#Image visualization properties\n",
    "aod47_viz = {\n",
    "    'min': 0,\n",
    "    'max': 250,\n",
    "    'opacity': 0.75,\n",
    "    'palette': ['black', 'blue', 'purple', 'cyan', 'green', 'yellow', 'red']\n",
    "};\n",
    "\n",
    "#Calculate the mean value for each pixel in the time range\n",
    "aod47 = aod47.mean()\n",
    "Map_aod47.addLayer(aod47, aod47_viz, 'aod47');"
   ]
  },
  {
   "cell_type": "code",
   "execution_count": 49,
   "id": "8a1b3dcb",
   "metadata": {},
   "outputs": [],
   "source": [
    "#Clip over the ROI previously defined\n",
    "aod47_clip = aod47.clip(roi)\n",
    "Map_aod47.addLayer(aod47_clip, aod47_viz, 'aod47');"
   ]
  },
  {
   "cell_type": "code",
   "execution_count": 50,
   "id": "04d088b4",
   "metadata": {},
   "outputs": [],
   "source": [
    "# Set output directory for AOD\n",
    "out_dir = os.path.expanduser(cwd + '/temp')\n",
    "\n",
    "filename = os.path.join(out_dir, 'aod_047.tif')"
   ]
  },
  {
   "cell_type": "code",
   "execution_count": 51,
   "id": "8adceaf4",
   "metadata": {},
   "outputs": [
    {
     "name": "stdout",
     "output_type": "stream",
     "text": [
      "Generating URL ...\n",
      "Downloading data from https://earthengine.googleapis.com/v1alpha/projects/earthengine-legacy/thumbnails/d2fea06830b6f856a4ecd6ff6f5732da-9c32a40ed89d459e1888280bc38b8460:getPixels\n",
      "Please wait ...\n",
      "Data downloaded to C:\\Users\\Administrator\\OneDrive - Politecnico di Milano\\WP2\\D-DUST\\temp\\aod_047.tif\n"
     ]
    }
   ],
   "source": [
    "geemap.ee_export_image(aod47_clip, filename=filename, scale=1000)"
   ]
  },
  {
   "cell_type": "markdown",
   "id": "7a0015ae",
   "metadata": {},
   "source": [
    "---"
   ]
  },
  {
   "cell_type": "markdown",
   "id": "dd48c590",
   "metadata": {},
   "source": [
    "# [Google Earth Engine - NDVI - Terra Vegetation Indices 16-Day Global 250m](https://developers.google.com/earth-engine/datasets/catalog/MODIS_006_MOD13Q1) "
   ]
  },
  {
   "cell_type": "code",
   "execution_count": 52,
   "id": "da59cfd8",
   "metadata": {},
   "outputs": [
    {
     "data": {
      "application/vnd.jupyter.widget-view+json": {
       "model_id": "fce7a63646f141e886dc1abf167df11e",
       "version_major": 2,
       "version_minor": 0
      },
      "text/plain": [
       "Map(center=[45.5, 10], controls=(WidgetControl(options=['position', 'transparent_bg'], widget=HBox(children=(T…"
      ]
     },
     "metadata": {},
     "output_type": "display_data"
    }
   ],
   "source": [
    "Map_ndvi = geemap.Map(center=[45.5,10], zoom = 7 )\n",
    "Map_ndvi"
   ]
  },
  {
   "cell_type": "code",
   "execution_count": 53,
   "id": "5e17f7d1",
   "metadata": {},
   "outputs": [],
   "source": [
    "#Access to NDVI image collection, selecting the band name and giving a date range\n",
    "ndvi= ee.ImageCollection('MODIS/006/MOD13Q1')\\\n",
    "  .select('NDVI')\\\n",
    "  .filterDate(start_date, end_date);\n",
    "\n",
    "#Image visualization properties\n",
    "ndvi_viz = {\n",
    "    'min': 0,\n",
    "    'max': 8000,\n",
    "    'opacity': 0.75,\n",
    "    'palette': [\n",
    "    'FFFFFF', 'CE7E45', 'DF923D', 'F1B555', 'FCD163', '99B718', '74A901',\n",
    "    '66A000', '529400', '3E8601', '207401', '056201', '004C00', '023B01',\n",
    "    '012E01', '011D01', '011301'\n",
    "  ]\n",
    "};\n",
    "\n",
    "#Calculate the mean value for each pixel in the time range\n",
    "ndvi = ndvi.mean()\n",
    "Map_ndvi.addLayer(ndvi, ndvi_viz, 'ndvi');"
   ]
  },
  {
   "cell_type": "code",
   "execution_count": 54,
   "id": "c1d9ec43",
   "metadata": {},
   "outputs": [],
   "source": [
    "ndvi_clip = ndvi.clip(roi)\n",
    "Map_ndvi.addLayer(ndvi_clip, ndvi_viz, 'ndvi');"
   ]
  },
  {
   "cell_type": "code",
   "execution_count": 55,
   "id": "4ef1f125",
   "metadata": {},
   "outputs": [],
   "source": [
    "# Set output directory for NDVI\n",
    "out_dir = os.path.expanduser(cwd + '/temp')\n",
    "\n",
    "\n",
    "filename = os.path.join(out_dir, 'ndvi.tif')"
   ]
  },
  {
   "cell_type": "code",
   "execution_count": 56,
   "id": "bd83e59b",
   "metadata": {},
   "outputs": [
    {
     "name": "stdout",
     "output_type": "stream",
     "text": [
      "Generating URL ...\n",
      "Downloading data from https://earthengine.googleapis.com/v1alpha/projects/earthengine-legacy/thumbnails/69680ffd832b33ab29653f2e59c0914a-10ea08141b7d1f1465d32d494efbad52:getPixels\n",
      "Please wait ...\n",
      "Data downloaded to C:\\Users\\Administrator\\OneDrive - Politecnico di Milano\\WP2\\D-DUST\\temp\\ndvi.tif\n"
     ]
    }
   ],
   "source": [
    "geemap.ee_export_image(ndvi_clip, filename=filename, scale=250)"
   ]
  },
  {
   "cell_type": "markdown",
   "id": "c9e691cf",
   "metadata": {},
   "source": [
    "- - -"
   ]
  },
  {
   "cell_type": "markdown",
   "id": "3039d462",
   "metadata": {},
   "source": [
    "Additional layer for Soil type classification:"
   ]
  },
  {
   "cell_type": "markdown",
   "id": "1bd555f2",
   "metadata": {},
   "source": [
    "# [Soil type - Open Land Map USDA](https://developers.google.com/earth-engine/datasets/catalog/OpenLandMap_SOL_SOL_TEXTURE-CLASS_USDA-TT_M_v02#description)"
   ]
  },
  {
   "cell_type": "code",
   "execution_count": 57,
   "id": "66216a79",
   "metadata": {},
   "outputs": [
    {
     "data": {
      "application/vnd.jupyter.widget-view+json": {
       "model_id": "dbf98793057b4a1bb3d0a53c3e548e55",
       "version_major": 2,
       "version_minor": 0
      },
      "text/plain": [
       "Map(center=[45.5, 10], controls=(WidgetControl(options=['position', 'transparent_bg'], widget=HBox(children=(T…"
      ]
     },
     "metadata": {},
     "output_type": "display_data"
    }
   ],
   "source": [
    "Map_soil = geemap.Map(center=[45.5,10], zoom = 7 )\n",
    "Map_soil"
   ]
  },
  {
   "cell_type": "code",
   "execution_count": 58,
   "id": "78836db1",
   "metadata": {},
   "outputs": [],
   "source": [
    "#Access to USDA Open Land Map soil type image\n",
    "soil = ee.Image(\"OpenLandMap/SOL/SOL_TEXTURE-CLASS_USDA-TT_M/v02\")\\\n",
    "        .select('b0')\n",
    "\n",
    "soil_viz = {\n",
    "  'bands': ['b0'],\n",
    "  'min': 1.0,\n",
    "  'max': 12.0,\n",
    "  'palette': [\n",
    "    \"d5c36b\",\"b96947\",\"9d3706\",\"ae868f\",\"f86714\",\"46d143\",\n",
    "    \"368f20\",\"3e5a14\",\"ffd557\",\"fff72e\",\"ff5a9d\",\"ff005b\",\n",
    "  ]\n",
    "};"
   ]
  },
  {
   "cell_type": "code",
   "execution_count": 59,
   "id": "543c46d0",
   "metadata": {},
   "outputs": [],
   "source": [
    "soil_clip = soil.clip(roi)"
   ]
  },
  {
   "cell_type": "code",
   "execution_count": 60,
   "id": "d1d6d763",
   "metadata": {},
   "outputs": [],
   "source": [
    "Map_soil.addLayer(soil_clip, soil_viz, 'Soil Type');"
   ]
  },
  {
   "cell_type": "code",
   "execution_count": 61,
   "id": "90093d5a",
   "metadata": {},
   "outputs": [
    {
     "name": "stdout",
     "output_type": "stream",
     "text": [
      "Generating URL ...\n",
      "Downloading data from https://earthengine.googleapis.com/v1alpha/projects/earthengine-legacy/thumbnails/910744157d82afa792583751592efe5a-8f348be0b195998b77e651ba0c27e93b:getPixels\n",
      "Please wait ...\n",
      "Data downloaded to C:\\Users\\Administrator\\OneDrive - Politecnico di Milano\\WP2\\D-DUST\\temp\\soil_type.tif\n"
     ]
    }
   ],
   "source": [
    "out_dir = os.path.expanduser(cwd + '/temp')\n",
    "filename = os.path.join(out_dir, 'soil_type.tif')\n",
    "geemap.ee_export_image(soil_clip, filename=filename, scale=250)"
   ]
  }
 ],
 "metadata": {
  "kernelspec": {
   "display_name": "Python 3 (ipykernel)",
   "language": "python",
   "name": "python3"
  },
  "language_info": {
   "codemirror_mode": {
    "name": "ipython",
    "version": 3
   },
   "file_extension": ".py",
   "mimetype": "text/x-python",
   "name": "python",
   "nbconvert_exporter": "python",
   "pygments_lexer": "ipython3",
   "version": "3.9.10"
  }
 },
 "nbformat": 4,
 "nbformat_minor": 5
}
