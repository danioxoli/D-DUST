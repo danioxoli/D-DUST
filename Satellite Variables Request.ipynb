{
 "cells": [
  {
   "cell_type": "markdown",
   "id": "7df1344b",
   "metadata": {},
   "source": [
    "# API Request notebook for air quality satellite data from Google Earth Engine API / geemap"
   ]
  },
  {
   "cell_type": "markdown",
   "id": "1343a732",
   "metadata": {},
   "source": [
    "This notebook is used to download data from satellite instruments such as Sentinel-5P Tropomi and Terra&Aqua MODIS."
   ]
  },
  {
   "cell_type": "markdown",
   "id": "67f665a1",
   "metadata": {},
   "source": [
    "This notebook allows access to [Google Earth Engine API](https://developers.google.com/earth-engine/datasets) using [geemap](https://geemap.org/) Python library and it requests data over the region identified by the bounding box given as input.\n",
    "It also calculates the mean value for each variable in the given week (defined in the **date.json** file)."
   ]
  },
  {
   "cell_type": "markdown",
   "id": "037aca71",
   "metadata": {},
   "source": [
    "**Sentinel-5P Tropomi** data considered in this notebook:\n",
    "1. Nitrogen Dioxide - NO2\n",
    "2. Ozone - O3\n",
    "3. Sulphur Dioxide - SO2\n",
    "4. Carbon Monoxide - CO\n",
    "5. Formaldehyde - CH2O\n",
    "6. Ultraviole Aerosol Index - UVAI\n",
    "7. Methane - CH4\n",
    "8. Aerosol Optical Depth (AOD)"
   ]
  },
  {
   "cell_type": "markdown",
   "id": "1917adf9",
   "metadata": {},
   "source": [
    "**Terra & Aqua MODIS** data considered in this notebook:\n",
    "1. Aerosol Optical Depth (AOD) 550 nm \n",
    "2. Aerosol Optical Depth (AOD) 470 nm "
   ]
  },
  {
   "cell_type": "markdown",
   "id": "44feb4dc",
   "metadata": {},
   "source": [
    "Two additional datasets are also downloaded in the last part of the notebook:\n",
    "1. NDVI 16-Days Global\n",
    "2. Soil Type OpenLandMap USDA"
   ]
  },
  {
   "cell_type": "markdown",
   "id": "427ec1a4",
   "metadata": {},
   "source": [
    "### Documentation"
   ]
  },
  {
   "cell_type": "markdown",
   "id": "ba94fea2",
   "metadata": {},
   "source": [
    "Reference material and datasets:\n",
    "1. Sentinel-5P products: https://sentinels.copernicus.eu/web/sentinel/data-products\n",
    "2. Terra & Aqua MODIS: https://modis.gsfc.nasa.gov/about/\n",
    "3. geemap site and documentation: https://geemap.org/\n",
    "4. geemap GitHub repository: https://github.com/giswqs/geemap\n",
    "5. Google Earth Engine catalog: https://developers.google.com/earth-engine/datasets\n",
    "\n",
    "Each paragraph links to the specific resource used in this notebook."
   ]
  },
  {
   "cell_type": "markdown",
   "id": "dd30dcd6",
   "metadata": {},
   "source": [
    "### Import libraries"
   ]
  },
  {
   "cell_type": "code",
   "execution_count": 1,
   "id": "775426b5",
   "metadata": {},
   "outputs": [
    {
     "ename": "ModuleNotFoundError",
     "evalue": "No module named 'geopandas'",
     "output_type": "error",
     "traceback": [
      "\u001b[1;31m---------------------------------------------------------------------------\u001b[0m",
      "\u001b[1;31mModuleNotFoundError\u001b[0m                       Traceback (most recent call last)",
      "Input \u001b[1;32mIn [1]\u001b[0m, in \u001b[0;36m<cell line: 4>\u001b[1;34m()\u001b[0m\n\u001b[0;32m      2\u001b[0m \u001b[38;5;28;01mimport\u001b[39;00m \u001b[38;5;21;01mgeemap\u001b[39;00m\n\u001b[0;32m      3\u001b[0m \u001b[38;5;28;01mimport\u001b[39;00m \u001b[38;5;21;01mos\u001b[39;00m\n\u001b[1;32m----> 4\u001b[0m \u001b[38;5;28;01mimport\u001b[39;00m \u001b[38;5;21;01mgeopandas\u001b[39;00m \u001b[38;5;28;01mas\u001b[39;00m \u001b[38;5;21;01mgpd\u001b[39;00m\n\u001b[0;32m      5\u001b[0m \u001b[38;5;28;01mimport\u001b[39;00m \u001b[38;5;21;01mjson\u001b[39;00m\n\u001b[0;32m      6\u001b[0m \u001b[38;5;28;01mimport\u001b[39;00m \u001b[38;5;21;01mipywidgets\u001b[39;00m \u001b[38;5;28;01mas\u001b[39;00m \u001b[38;5;21;01mwidgets\u001b[39;00m\n",
      "\u001b[1;31mModuleNotFoundError\u001b[0m: No module named 'geopandas'"
     ]
    }
   ],
   "source": [
    "import ee\n",
    "import geemap\n",
    "import os\n",
    "import geopandas as gpd\n",
    "import json\n",
    "import ipywidgets as widgets"
   ]
  },
  {
   "cell_type": "code",
   "execution_count": null,
   "id": "3598edbb",
   "metadata": {},
   "outputs": [],
   "source": [
    "from functions import my_methods"
   ]
  },
  {
   "cell_type": "markdown",
   "id": "b5aa9781",
   "metadata": {},
   "source": [
    "### Authentication\n",
    "A Google account is required to be able to log in and provide the requested URL:"
   ]
  },
  {
   "cell_type": "code",
   "execution_count": 3,
   "id": "d9725309",
   "metadata": {},
   "outputs": [
    {
     "data": {
      "text/html": [
       "<p>To authorize access needed by Earth Engine, open the following\n",
       "        URL in a web browser and follow the instructions:</p>\n",
       "        <p><a href=https://accounts.google.com/o/oauth2/auth?client_id=517222506229-vsmmajv00ul0bs7p89v5m89qs8eb9359.apps.googleusercontent.com&scope=https%3A%2F%2Fwww.googleapis.com%2Fauth%2Fearthengine+https%3A%2F%2Fwww.googleapis.com%2Fauth%2Fdevstorage.full_control&redirect_uri=urn%3Aietf%3Awg%3Aoauth%3A2.0%3Aoob&response_type=code&code_challenge=z8mWq12SD41YBudz3DX3ffOsAQsRU3UEGmly9ksZXwU&code_challenge_method=S256>https://accounts.google.com/o/oauth2/auth?client_id=517222506229-vsmmajv00ul0bs7p89v5m89qs8eb9359.apps.googleusercontent.com&scope=https%3A%2F%2Fwww.googleapis.com%2Fauth%2Fearthengine+https%3A%2F%2Fwww.googleapis.com%2Fauth%2Fdevstorage.full_control&redirect_uri=urn%3Aietf%3Awg%3Aoauth%3A2.0%3Aoob&response_type=code&code_challenge=z8mWq12SD41YBudz3DX3ffOsAQsRU3UEGmly9ksZXwU&code_challenge_method=S256</a></p>\n",
       "        <p>The authorization workflow will generate a code, which you\n",
       "        should paste in the box below</p>\n",
       "        "
      ],
      "text/plain": [
       "<IPython.core.display.HTML object>"
      ]
     },
     "metadata": {},
     "output_type": "display_data"
    },
    {
     "name": "stdout",
     "output_type": "stream",
     "text": [
      "Enter verification code: 4/1AX4XfWi0T6yEwmAIr5zyciO97MN-DmJAGuaiAkulv4C-sOO3W_o1cmWXE80\n",
      "\n",
      "Successfully saved authorization token.\n"
     ]
    }
   ],
   "source": [
    "ee.Authenticate()"
   ]
  },
  {
   "cell_type": "code",
   "execution_count": null,
   "id": "1131cce5",
   "metadata": {},
   "outputs": [],
   "source": [
    "ee.Initialize()"
   ]
  },
  {
   "cell_type": "code",
   "execution_count": null,
   "id": "f6d71feb",
   "metadata": {},
   "outputs": [],
   "source": [
    "# Set current working directory\n",
    "cwd = os.getcwd()"
   ]
  },
  {
   "cell_type": "markdown",
   "id": "57610d76",
   "metadata": {},
   "source": [
    "\n",
    "### Bounding Box selection\n",
    "The bounding box for the project is given as input and it's used as Region of Interest (roi) for the following calculations:"
   ]
  },
  {
   "cell_type": "code",
   "execution_count": null,
   "id": "3db8c045",
   "metadata": {},
   "outputs": [],
   "source": [
    "area_path = cwd + '/bounding_box/bounding_box_buffer20.gpkg'\n",
    "area = gpd.read_file(area_path).to_crs(4326)\n",
    "bounds = area.total_bounds\n",
    "roi = ee.Geometry.BBox(bounds[0],bounds[1],bounds[2],bounds[3])"
   ]
  },
  {
   "cell_type": "markdown",
   "id": "d47f19d7",
   "metadata": {},
   "source": [
    "### Date selection\n",
    "The date is provided with the following order (yyyy-mm-dd). They are stored in the **date.json** file:"
   ]
  },
  {
   "cell_type": "code",
   "execution_count": 2,
   "id": "ae7e2a70",
   "metadata": {},
   "outputs": [
    {
     "ename": "NameError",
     "evalue": "name 'json' is not defined",
     "output_type": "error",
     "traceback": [
      "\u001b[1;31m---------------------------------------------------------------------------\u001b[0m",
      "\u001b[1;31mNameError\u001b[0m                                 Traceback (most recent call last)",
      "Input \u001b[1;32mIn [2]\u001b[0m, in \u001b[0;36m<cell line: 2>\u001b[1;34m()\u001b[0m\n\u001b[0;32m      1\u001b[0m d \u001b[38;5;241m=\u001b[39m \u001b[38;5;28mopen\u001b[39m(\u001b[38;5;124m'\u001b[39m\u001b[38;5;124mdate.json\u001b[39m\u001b[38;5;124m'\u001b[39m)\n\u001b[1;32m----> 2\u001b[0m date \u001b[38;5;241m=\u001b[39m \u001b[43mjson\u001b[49m\u001b[38;5;241m.\u001b[39mload(d)\n\u001b[0;32m      3\u001b[0m year \u001b[38;5;241m=\u001b[39m date[\u001b[38;5;124m'\u001b[39m\u001b[38;5;124myear\u001b[39m\u001b[38;5;124m'\u001b[39m]\n\u001b[0;32m      4\u001b[0m mais_week \u001b[38;5;241m=\u001b[39m date[\u001b[38;5;124m'\u001b[39m\u001b[38;5;124mmais_week\u001b[39m\u001b[38;5;124m'\u001b[39m]\n",
      "\u001b[1;31mNameError\u001b[0m: name 'json' is not defined"
     ]
    }
   ],
   "source": [
    "d = open('date.json')\n",
    "date = json.load(d)\n",
    "year = date['year']\n",
    "mais_week = date['mais_week']\n",
    "rice_week = date['rice_week']\n",
    "cereal_week = date['cereal_week']"
   ]
  },
  {
   "cell_type": "code",
   "execution_count": 3,
   "id": "fb459cef",
   "metadata": {},
   "outputs": [
    {
     "ename": "NameError",
     "evalue": "name 'my_methods' is not defined",
     "output_type": "error",
     "traceback": [
      "\u001b[1;31m---------------------------------------------------------------------------\u001b[0m",
      "\u001b[1;31mNameError\u001b[0m                                 Traceback (most recent call last)",
      "Input \u001b[1;32mIn [3]\u001b[0m, in \u001b[0;36m<cell line: 1>\u001b[1;34m()\u001b[0m\n\u001b[1;32m----> 1\u001b[0m calendar \u001b[38;5;241m=\u001b[39m \u001b[43mmy_methods\u001b[49m\u001b[38;5;241m.\u001b[39mmanuring_periods(year, mais_week, rice_week, cereal_week)\n",
      "\u001b[1;31mNameError\u001b[0m: name 'my_methods' is not defined"
     ]
    }
   ],
   "source": [
    "calendar = my_methods.manuring_periods(year, mais_week, rice_week, cereal_week)"
   ]
  },
  {
   "cell_type": "code",
   "execution_count": 4,
   "id": "73fdc95d",
   "metadata": {},
   "outputs": [
    {
     "ename": "NameError",
     "evalue": "name 'widgets' is not defined",
     "output_type": "error",
     "traceback": [
      "\u001b[1;31m---------------------------------------------------------------------------\u001b[0m",
      "\u001b[1;31mNameError\u001b[0m                                 Traceback (most recent call last)",
      "Input \u001b[1;32mIn [4]\u001b[0m, in \u001b[0;36m<cell line: 2>\u001b[1;34m()\u001b[0m\n\u001b[0;32m      1\u001b[0m \u001b[38;5;66;03m# With this widget is possible to select from the dropdown list the required week\u001b[39;00m\n\u001b[1;32m----> 2\u001b[0m select_week \u001b[38;5;241m=\u001b[39m \u001b[43mwidgets\u001b[49m\u001b[38;5;241m.\u001b[39mDropdown(\n\u001b[0;32m      3\u001b[0m     options\u001b[38;5;241m=\u001b[39m[\u001b[38;5;124m'\u001b[39m\u001b[38;5;124mmais_week\u001b[39m\u001b[38;5;124m'\u001b[39m, \u001b[38;5;124m'\u001b[39m\u001b[38;5;124mrice_week\u001b[39m\u001b[38;5;124m'\u001b[39m, \u001b[38;5;124m'\u001b[39m\u001b[38;5;124mcereal_week\u001b[39m\u001b[38;5;124m'\u001b[39m],\n\u001b[0;32m      4\u001b[0m     description\u001b[38;5;241m=\u001b[39m\u001b[38;5;124m'\u001b[39m\u001b[38;5;124mname:\u001b[39m\u001b[38;5;124m'\u001b[39m,\n\u001b[0;32m      5\u001b[0m     disabled\u001b[38;5;241m=\u001b[39m\u001b[38;5;28;01mFalse\u001b[39;00m)\n\u001b[0;32m      6\u001b[0m select_week\n",
      "\u001b[1;31mNameError\u001b[0m: name 'widgets' is not defined"
     ]
    }
   ],
   "source": [
    "# With this widget is possible to select from the dropdown list the required week\n",
    "select_week = widgets.Dropdown(\n",
    "    options=['mais_week', 'rice_week', 'cereal_week'],\n",
    "    description='name:',\n",
    "    disabled=False)\n",
    "select_week"
   ]
  },
  {
   "cell_type": "code",
   "execution_count": 5,
   "id": "f60361bf",
   "metadata": {},
   "outputs": [
    {
     "ename": "NameError",
     "evalue": "name 'calendar' is not defined",
     "output_type": "error",
     "traceback": [
      "\u001b[1;31m---------------------------------------------------------------------------\u001b[0m",
      "\u001b[1;31mNameError\u001b[0m                                 Traceback (most recent call last)",
      "Input \u001b[1;32mIn [5]\u001b[0m, in \u001b[0;36m<cell line: 2>\u001b[1;34m()\u001b[0m\n\u001b[0;32m      1\u001b[0m \u001b[38;5;66;03m# Select start and end date of the corresponding selected week:\u001b[39;00m\n\u001b[1;32m----> 2\u001b[0m start_date \u001b[38;5;241m=\u001b[39m \u001b[43mcalendar\u001b[49m[date[select_week\u001b[38;5;241m.\u001b[39mvalue][\u001b[38;5;241m0\u001b[39m]][\u001b[38;5;241m0\u001b[39m]\n\u001b[0;32m      3\u001b[0m end_date \u001b[38;5;241m=\u001b[39m calendar[date[select_week\u001b[38;5;241m.\u001b[39mvalue][\u001b[38;5;241m-\u001b[39m\u001b[38;5;241m1\u001b[39m]][\u001b[38;5;241m-\u001b[39m\u001b[38;5;241m1\u001b[39m]\n\u001b[0;32m      4\u001b[0m \u001b[38;5;28mprint\u001b[39m(\u001b[38;5;124m\"\u001b[39m\u001b[38;5;124mFor\u001b[39m\u001b[38;5;124m\"\u001b[39m, select_week\u001b[38;5;241m.\u001b[39mvalue, \u001b[38;5;124m\"\u001b[39m\u001b[38;5;124mthe starting date is\u001b[39m\u001b[38;5;124m\"\u001b[39m, start_date,\u001b[38;5;124m\"\u001b[39m\u001b[38;5;124mand the ending date is\u001b[39m\u001b[38;5;124m\"\u001b[39m , end_date)\n",
      "\u001b[1;31mNameError\u001b[0m: name 'calendar' is not defined"
     ]
    }
   ],
   "source": [
    "# Select start and end date of the corresponding selected week:\n",
    "start_date = calendar[date[select_week.value][0]][0]\n",
    "end_date = calendar[date[select_week.value][-1]][-1]\n",
    "print(\"For\", select_week.value, \"the starting date is\", start_date,\"and the ending date is\" , end_date)"
   ]
  },
  {
   "cell_type": "markdown",
   "id": "c69ac999",
   "metadata": {},
   "source": [
    "---"
   ]
  },
  {
   "cell_type": "markdown",
   "id": "15a30731",
   "metadata": {},
   "source": [
    "# [Google Earth Engine - NO2 - Sentinel-5P Tropomi](https://developers.google.com/earth-engine/datasets/catalog/COPERNICUS_S5P_OFFL_L3_NO2) "
   ]
  },
  {
   "cell_type": "code",
   "execution_count": 52,
   "id": "e3015866",
   "metadata": {},
   "outputs": [
    {
     "data": {
      "application/vnd.jupyter.widget-view+json": {
       "model_id": "5a53157406784a6dbf0ee9ef6bc1204b",
       "version_major": 2,
       "version_minor": 0
      },
      "text/plain": [
       "Map(center=[45.5, 10], controls=(WidgetControl(options=['position', 'transparent_bg'], widget=HBox(children=(T…"
      ]
     },
     "metadata": {},
     "output_type": "display_data"
    }
   ],
   "source": [
    "#Create a map\n",
    "Map_no2 = geemap.Map(center=[45.5,10], zoom = 7 )\n",
    "Map_no2"
   ]
  },
  {
   "cell_type": "code",
   "execution_count": 53,
   "id": "d4c364d2",
   "metadata": {},
   "outputs": [],
   "source": [
    "#Access to NO2 image collection, selecting the band name and giving a date range\n",
    "no2 = ee.ImageCollection('COPERNICUS/S5P/OFFL/L3_NO2')\\\n",
    "  .select('tropospheric_NO2_column_number_density')\\\n",
    "  .filterDate(start_date, end_date);\n",
    "\n",
    "#Image visualization properties\n",
    "no2_viz = {\n",
    "    'min': 0,\n",
    "    'max': 0.0001,\n",
    "    'opacity': 0.75,\n",
    "    'palette': ['black', 'blue', 'purple', 'cyan', 'green', 'yellow', 'red']\n",
    "};\n",
    "\n",
    "#Calculate the mean value for each pixel in the time range\n",
    "no2 = no2.mean()\n",
    "Map_no2 .addLayer(no2, no2_viz, 'no2');"
   ]
  },
  {
   "cell_type": "code",
   "execution_count": 54,
   "id": "48cee5b5",
   "metadata": {},
   "outputs": [],
   "source": [
    "#Clip over the ROI previously defined\n",
    "no2_clip = no2.clip(roi)\n",
    "Map_no2.addLayer(no2_clip, no2_viz, 'no2');"
   ]
  },
  {
   "cell_type": "code",
   "execution_count": 55,
   "id": "0974b311",
   "metadata": {},
   "outputs": [],
   "source": [
    "# Set output directory\n",
    "out_dir = os.path.expanduser(cwd + '/temp')\n",
    "\n",
    "if not os.path.exists(out_dir):\n",
    "    os.makedirs(out_dir)\n",
    "\n",
    "filename = os.path.join(out_dir, 'no2_s5p.tif')"
   ]
  },
  {
   "cell_type": "code",
   "execution_count": 56,
   "id": "57bab351",
   "metadata": {},
   "outputs": [
    {
     "name": "stdout",
     "output_type": "stream",
     "text": [
      "Generating URL ...\n",
      "Downloading data from https://earthengine.googleapis.com/v1alpha/projects/earthengine-legacy/thumbnails/de86a3e406f987f68c3acc2b48420cc3-c9f3c0cf7b297cce40027ad31ed372b5:getPixels\n",
      "Please wait ...\n",
      "Data downloaded to C:\\Users\\Administrator\\OneDrive - Politecnico di Milano\\WP2\\D-DUST\\temp\\no2_s5p.tif\n"
     ]
    }
   ],
   "source": [
    "#Export the NO2 .tif file in the directory selected by filename\n",
    "geemap.ee_export_image(no2_clip, filename=filename, scale = 5000)"
   ]
  },
  {
   "cell_type": "markdown",
   "id": "980571bb",
   "metadata": {},
   "source": [
    "---"
   ]
  },
  {
   "cell_type": "markdown",
   "id": "0911d9ae",
   "metadata": {},
   "source": [
    "# [Google Earth Engine - SO2 - Sentinel-5P Tropomi](https://developers.google.com/earth-engine/datasets/catalog/COPERNICUS_S5P_OFFL_L3_SO2) "
   ]
  },
  {
   "cell_type": "code",
   "execution_count": 57,
   "id": "92413e16",
   "metadata": {},
   "outputs": [
    {
     "data": {
      "application/vnd.jupyter.widget-view+json": {
       "model_id": "ae540a041ad34ed48594931a463769a1",
       "version_major": 2,
       "version_minor": 0
      },
      "text/plain": [
       "Map(center=[45.5, 10], controls=(WidgetControl(options=['position', 'transparent_bg'], widget=HBox(children=(T…"
      ]
     },
     "metadata": {},
     "output_type": "display_data"
    }
   ],
   "source": [
    "Map_so2 = geemap.Map(center=[45.5,10], zoom = 7 )\n",
    "Map_so2 "
   ]
  },
  {
   "cell_type": "code",
   "execution_count": 58,
   "id": "7605fa44",
   "metadata": {},
   "outputs": [],
   "source": [
    "#Access to SO2 image collection, selecting the band name and giving a date range\n",
    "so2 = ee.ImageCollection('COPERNICUS/S5P/OFFL/L3_SO2')\\\n",
    "  .select('SO2_column_number_density')\\\n",
    "  .filterDate(start_date, end_date);\n",
    "\n",
    "#Image visualization properties\n",
    "so2_viz = {\n",
    "    'min': 0,\n",
    "    'max': 0.001,\n",
    "    'opacity': 0.75,\n",
    "    'palette': ['black', 'blue', 'purple', 'cyan', 'green', 'yellow', 'red']\n",
    "};\n",
    "\n",
    "#Calculate the mean value for each pixel in the time range\n",
    "so2 = so2.mean()\n",
    "Map_so2 .addLayer(so2, so2_viz, 'so2');"
   ]
  },
  {
   "cell_type": "code",
   "execution_count": 59,
   "id": "3b64d4f3",
   "metadata": {},
   "outputs": [],
   "source": [
    "#Clip over the ROI previously defined\n",
    "so2_clip = so2.clip(roi)\n",
    "Map_so2 .addLayer(so2_clip, so2_viz, 'so2');"
   ]
  },
  {
   "cell_type": "code",
   "execution_count": 60,
   "id": "b4d0e736",
   "metadata": {},
   "outputs": [],
   "source": [
    "# Set output directory for SO2\n",
    "out_dir = os.path.expanduser(cwd + '/temp')\n",
    "\n",
    "filename = os.path.join(out_dir, 'so2_s5p.tif')"
   ]
  },
  {
   "cell_type": "code",
   "execution_count": 61,
   "id": "48fa15c3",
   "metadata": {},
   "outputs": [
    {
     "name": "stdout",
     "output_type": "stream",
     "text": [
      "Generating URL ...\n",
      "Downloading data from https://earthengine.googleapis.com/v1alpha/projects/earthengine-legacy/thumbnails/1fde8a42ac52415e740038afa8024280-9106a3d2bb19a72ed1ae79e34930f59f:getPixels\n",
      "Please wait ...\n",
      "Data downloaded to C:\\Users\\Administrator\\OneDrive - Politecnico di Milano\\WP2\\D-DUST\\temp\\so2_s5p.tif\n"
     ]
    }
   ],
   "source": [
    "geemap.ee_export_image(so2_clip, filename=filename, scale= 5000)"
   ]
  },
  {
   "cell_type": "markdown",
   "id": "ccc271c4",
   "metadata": {},
   "source": [
    "---"
   ]
  },
  {
   "cell_type": "markdown",
   "id": "1b5f196a",
   "metadata": {},
   "source": [
    "# [Google Earth Engine - UV Aerosol Index - Sentinel-5P Tropomi](https://developers.google.com/earth-engine/datasets/catalog/COPERNICUS_S5P_OFFL_L3_AER_AI) "
   ]
  },
  {
   "cell_type": "code",
   "execution_count": 62,
   "id": "d024f155",
   "metadata": {},
   "outputs": [
    {
     "data": {
      "application/vnd.jupyter.widget-view+json": {
       "model_id": "8c9d6dba8cf94315ad892fb9af632133",
       "version_major": 2,
       "version_minor": 0
      },
      "text/plain": [
       "Map(center=[45.5, 10], controls=(WidgetControl(options=['position', 'transparent_bg'], widget=HBox(children=(T…"
      ]
     },
     "metadata": {},
     "output_type": "display_data"
    }
   ],
   "source": [
    "Map_uvai = geemap.Map(center=[45.5,10], zoom = 7 )\n",
    "Map_uvai"
   ]
  },
  {
   "cell_type": "code",
   "execution_count": 63,
   "id": "e8555188",
   "metadata": {},
   "outputs": [],
   "source": [
    "#Access to UV Aerosol index image collection, selecting the band name and giving a date range\n",
    "uvai = ee.ImageCollection('COPERNICUS/S5P/OFFL/L3_AER_AI')\\\n",
    "  .select('absorbing_aerosol_index')\\\n",
    "  .filterDate(start_date, end_date);\n",
    "\n",
    "#Image visualization properties\n",
    "uvai_viz = {\n",
    "    'min': -2,\n",
    "    'max': 0.1,\n",
    "    'opacity': 0.75,\n",
    "    'palette': ['black', 'blue', 'purple', 'cyan', 'green', 'yellow', 'red']\n",
    "};\n",
    "\n",
    "#Calculate the mean value for each pixel in the time range\n",
    "uvai = uvai.mean()\n",
    "Map_uvai.addLayer(uvai, uvai_viz, 'uvai');"
   ]
  },
  {
   "cell_type": "code",
   "execution_count": 64,
   "id": "4439b00b",
   "metadata": {},
   "outputs": [],
   "source": [
    "#Clip over the ROI previously defined\n",
    "uvai_clip = uvai.clip(roi)\n",
    "Map_uvai.addLayer(uvai_clip, uvai_viz, 'uvai');"
   ]
  },
  {
   "cell_type": "code",
   "execution_count": 65,
   "id": "5a72c762",
   "metadata": {},
   "outputs": [],
   "source": [
    "# Set output directory for UVAI\n",
    "out_dir = os.path.expanduser(cwd + '/temp')\n",
    "\n",
    "filename = os.path.join(out_dir, 'uvai_s5p.tif')"
   ]
  },
  {
   "cell_type": "code",
   "execution_count": 66,
   "id": "07c24195",
   "metadata": {},
   "outputs": [
    {
     "name": "stdout",
     "output_type": "stream",
     "text": [
      "Generating URL ...\n",
      "Downloading data from https://earthengine.googleapis.com/v1alpha/projects/earthengine-legacy/thumbnails/540cf91fbeb047e6e8a3561b9f37a776-1ba2162edcaee9c61c080b65a5714bb2:getPixels\n",
      "Please wait ...\n",
      "Data downloaded to C:\\Users\\Administrator\\OneDrive - Politecnico di Milano\\WP2\\D-DUST\\temp\\uvai_s5p.tif\n"
     ]
    }
   ],
   "source": [
    "geemap.ee_export_image(uvai_clip, filename=filename, scale=5000)"
   ]
  },
  {
   "cell_type": "markdown",
   "id": "7478b63d",
   "metadata": {},
   "source": [
    "- - -"
   ]
  },
  {
   "cell_type": "markdown",
   "id": "714766df",
   "metadata": {},
   "source": [
    "# [Google Earth Engine - Carbon Monoxide - Sentinel-5P Tropomi](https://developers.google.com/earth-engine/datasets/catalog/COPERNICUS_S5P_OFFL_L3_CO) "
   ]
  },
  {
   "cell_type": "code",
   "execution_count": 67,
   "id": "812bc1e3",
   "metadata": {},
   "outputs": [
    {
     "data": {
      "application/vnd.jupyter.widget-view+json": {
       "model_id": "82da2504da494e35ae6b2c4023900ca0",
       "version_major": 2,
       "version_minor": 0
      },
      "text/plain": [
       "Map(center=[45.5, 10], controls=(WidgetControl(options=['position', 'transparent_bg'], widget=HBox(children=(T…"
      ]
     },
     "metadata": {},
     "output_type": "display_data"
    }
   ],
   "source": [
    "Map_co = geemap.Map(center=[45.5,10], zoom = 7 )\n",
    "Map_co"
   ]
  },
  {
   "cell_type": "code",
   "execution_count": 68,
   "id": "cf057654",
   "metadata": {},
   "outputs": [],
   "source": [
    "#Access to CO image collection, selecting the band name and giving a date range\n",
    "co = ee.ImageCollection('COPERNICUS/S5P/OFFL/L3_CO')\\\n",
    "  .select('CO_column_number_density')\\\n",
    "  .filterDate(start_date, end_date);\n",
    "\n",
    "#Image visualization properties\n",
    "co_viz = {\n",
    "    'min': 0,\n",
    "    'max': 0.05,\n",
    "    'opacity': 0.75,\n",
    "    'palette': ['black', 'blue', 'purple', 'cyan', 'green', 'yellow', 'red']\n",
    "};\n",
    "\n",
    "co = co.mean()\n",
    "Map_co.addLayer(co, co_viz, 'co');"
   ]
  },
  {
   "cell_type": "code",
   "execution_count": 69,
   "id": "9857e8a0",
   "metadata": {},
   "outputs": [],
   "source": [
    "#Clip over the ROI previously defined\n",
    "co_clip = co.clip(roi)\n",
    "Map_co.addLayer(co_clip, co_viz, 'co');"
   ]
  },
  {
   "cell_type": "code",
   "execution_count": 70,
   "id": "7d4be7e8",
   "metadata": {},
   "outputs": [],
   "source": [
    "# Set output directory for CO\n",
    "out_dir = os.path.expanduser(cwd + '/temp')\n",
    "\n",
    "filename = os.path.join(out_dir, 'co_s5p.tif')"
   ]
  },
  {
   "cell_type": "code",
   "execution_count": 71,
   "id": "a4308932",
   "metadata": {},
   "outputs": [
    {
     "name": "stdout",
     "output_type": "stream",
     "text": [
      "Generating URL ...\n",
      "Downloading data from https://earthengine.googleapis.com/v1alpha/projects/earthengine-legacy/thumbnails/36bfb9cacc8c55617590c29d9e20a308-80dba8e6af93677d44bb38200a2e2d79:getPixels\n",
      "Please wait ...\n",
      "Data downloaded to C:\\Users\\Administrator\\OneDrive - Politecnico di Milano\\WP2\\D-DUST\\temp\\co_s5p.tif\n"
     ]
    }
   ],
   "source": [
    "geemap.ee_export_image(co_clip, filename=filename, scale= 5000)"
   ]
  },
  {
   "cell_type": "markdown",
   "id": "b985a024",
   "metadata": {},
   "source": [
    "- - -"
   ]
  },
  {
   "cell_type": "markdown",
   "id": "b52b12d2",
   "metadata": {},
   "source": [
    "# [Google Earth Engine - Formaldehyde - Sentinel-5P Tropomi](https://developers.google.com/earth-engine/datasets/catalog/COPERNICUS_S5P_OFFL_L3_HCHO) "
   ]
  },
  {
   "cell_type": "code",
   "execution_count": 72,
   "id": "98a3a76e",
   "metadata": {},
   "outputs": [
    {
     "data": {
      "application/vnd.jupyter.widget-view+json": {
       "model_id": "16902eba51944c53863aa2f7e3b16c49",
       "version_major": 2,
       "version_minor": 0
      },
      "text/plain": [
       "Map(center=[45.5, 10], controls=(WidgetControl(options=['position', 'transparent_bg'], widget=HBox(children=(T…"
      ]
     },
     "metadata": {},
     "output_type": "display_data"
    }
   ],
   "source": [
    "Map_form = geemap.Map(center=[45.5,10], zoom = 7 )\n",
    "Map_form"
   ]
  },
  {
   "cell_type": "code",
   "execution_count": 73,
   "id": "53f21e85",
   "metadata": {},
   "outputs": [],
   "source": [
    "#Access to HCHO image collection, selecting the band name and giving a date range\n",
    "form = ee.ImageCollection('COPERNICUS/S5P/OFFL/L3_HCHO')\\\n",
    "  .select('tropospheric_HCHO_column_number_density')\\\n",
    "  .filterDate(start_date, end_date);\n",
    "\n",
    "#Image visualization properties\n",
    "form_viz = {\n",
    "    'min': 0,\n",
    "    'max': 0.0003,\n",
    "    'opacity': 0.75,\n",
    "    'palette': ['black', 'blue', 'purple', 'cyan', 'green', 'yellow', 'red']\n",
    "};\n",
    "\n",
    "#Calculate the mean value for each pixel in the time range\n",
    "form = form.mean()\n",
    "Map_form.addLayer(form, form_viz, 'form');"
   ]
  },
  {
   "cell_type": "code",
   "execution_count": 74,
   "id": "504d9e4e",
   "metadata": {},
   "outputs": [],
   "source": [
    "#Clip over the ROI previously defined\n",
    "form_clip = form.clip(roi)\n",
    "Map_form.addLayer(form_clip, form_viz, 'form');"
   ]
  },
  {
   "cell_type": "code",
   "execution_count": 75,
   "id": "f8316be8",
   "metadata": {},
   "outputs": [],
   "source": [
    "# Set output directory for Ozone\n",
    "out_dir = os.path.expanduser(cwd + '/temp')\n",
    "\n",
    "filename = os.path.join(out_dir, 'ch2o_s5p.tif')"
   ]
  },
  {
   "cell_type": "code",
   "execution_count": 76,
   "id": "8e2799f4",
   "metadata": {},
   "outputs": [
    {
     "name": "stdout",
     "output_type": "stream",
     "text": [
      "Generating URL ...\n",
      "Downloading data from https://earthengine.googleapis.com/v1alpha/projects/earthengine-legacy/thumbnails/2adae608b19803becb83fe6b9d7b9320-6752371aefb53374bb51c0227aef62e5:getPixels\n",
      "Please wait ...\n",
      "Data downloaded to C:\\Users\\Administrator\\OneDrive - Politecnico di Milano\\WP2\\D-DUST\\temp\\ch2o_s5p.tif\n"
     ]
    }
   ],
   "source": [
    "geemap.ee_export_image(form_clip, filename=filename, scale= 5000)"
   ]
  },
  {
   "cell_type": "markdown",
   "id": "34cfe125",
   "metadata": {},
   "source": [
    "---"
   ]
  },
  {
   "cell_type": "markdown",
   "id": "868e968a",
   "metadata": {},
   "source": [
    "# [Google Earth Engine - Ozone - Sentinel-5P Tropomi](https://developers.google.com/earth-engine/datasets/catalog/COPERNICUS_S5P_OFFL_L3_O3) "
   ]
  },
  {
   "cell_type": "code",
   "execution_count": 77,
   "id": "ffecf7bb",
   "metadata": {},
   "outputs": [
    {
     "data": {
      "application/vnd.jupyter.widget-view+json": {
       "model_id": "47f7b2f628a241eeab829c2b77111e6b",
       "version_major": 2,
       "version_minor": 0
      },
      "text/plain": [
       "Map(center=[45.5, 10], controls=(WidgetControl(options=['position', 'transparent_bg'], widget=HBox(children=(T…"
      ]
     },
     "metadata": {},
     "output_type": "display_data"
    }
   ],
   "source": [
    "Map_o3 = geemap.Map(center=[45.5,10], zoom = 7 )\n",
    "Map_o3"
   ]
  },
  {
   "cell_type": "code",
   "execution_count": 78,
   "id": "3c1ae6ac",
   "metadata": {},
   "outputs": [],
   "source": [
    "#Access to O3 image collection, selecting the band name and giving a date range\n",
    "o3 = ee.ImageCollection('COPERNICUS/S5P/OFFL/L3_O3')\\\n",
    "  .select('O3_column_number_density')\\\n",
    "  .filterDate(start_date, end_date);\n",
    "\n",
    "#Image visualization properties\n",
    "o3_viz = {\n",
    "    'min': 0,\n",
    "    'max': 0.17,\n",
    "    'opacity': 0.75,\n",
    "    'palette': ['black', 'blue', 'purple', 'cyan', 'green', 'yellow', 'red']\n",
    "};\n",
    "\n",
    "#Calculate the mean value for each pixel in the time range\n",
    "o3 = o3.mean()\n",
    "Map_o3.addLayer(o3, o3_viz, 'o3');"
   ]
  },
  {
   "cell_type": "code",
   "execution_count": 79,
   "id": "afd9ad28",
   "metadata": {},
   "outputs": [],
   "source": [
    "#Clip over the ROI previously defined\n",
    "o3_clip = o3.clip(roi)\n",
    "Map_o3.addLayer(o3_clip, o3_viz, 'o3');"
   ]
  },
  {
   "cell_type": "code",
   "execution_count": 80,
   "id": "cb725792",
   "metadata": {},
   "outputs": [],
   "source": [
    "# Set output directory for Ozone\n",
    "out_dir = os.path.expanduser(cwd + '/temp')\n",
    "\n",
    "filename = os.path.join(out_dir, 'o3_s5p.tif')"
   ]
  },
  {
   "cell_type": "code",
   "execution_count": 81,
   "id": "25af9f82",
   "metadata": {},
   "outputs": [
    {
     "name": "stdout",
     "output_type": "stream",
     "text": [
      "Generating URL ...\n",
      "Downloading data from https://earthengine.googleapis.com/v1alpha/projects/earthengine-legacy/thumbnails/5dc0ac43aaf5c7072ad91c479c1d814d-497436891fb698bee6b3371625902bc5:getPixels\n",
      "Please wait ...\n",
      "Data downloaded to C:\\Users\\Administrator\\OneDrive - Politecnico di Milano\\WP2\\D-DUST\\temp\\o3_s5p.tif\n"
     ]
    }
   ],
   "source": [
    "geemap.ee_export_image(o3_clip, filename=filename, scale= 5000)"
   ]
  },
  {
   "cell_type": "markdown",
   "id": "617db008",
   "metadata": {},
   "source": [
    "- - -"
   ]
  },
  {
   "cell_type": "markdown",
   "id": "39feb482",
   "metadata": {},
   "source": [
    "# [Google Earth Engine - Methane - Sentinel-5P Tropomi](https://developers.google.com/earth-engine/datasets/catalog/COPERNICUS_S5P_OFFL_L3_CH4#bands) "
   ]
  },
  {
   "cell_type": "code",
   "execution_count": 82,
   "id": "70b92849",
   "metadata": {},
   "outputs": [
    {
     "data": {
      "application/vnd.jupyter.widget-view+json": {
       "model_id": "1ad4f32bf59b43788b74b887fa9e8bf9",
       "version_major": 2,
       "version_minor": 0
      },
      "text/plain": [
       "Map(center=[45.5, 10], controls=(WidgetControl(options=['position', 'transparent_bg'], widget=HBox(children=(T…"
      ]
     },
     "metadata": {},
     "output_type": "display_data"
    }
   ],
   "source": [
    "#Create a map\n",
    "Map_ch4 = geemap.Map(center=[45.5,10], zoom = 7 )\n",
    "Map_ch4"
   ]
  },
  {
   "cell_type": "code",
   "execution_count": 83,
   "id": "d9d1dc1c",
   "metadata": {},
   "outputs": [],
   "source": [
    "#Access to CH4 image collection, selecting the band name and giving a date range\n",
    "ch4 = ee.ImageCollection('COPERNICUS/S5P/OFFL/L3_CH4')\\\n",
    "  .select('CH4_column_volume_mixing_ratio_dry_air')\\\n",
    "  .filterDate(start_date, end_date);\n",
    "\n",
    "#Image visualization properties\n",
    "ch4_viz = {\n",
    "    'min': 1750,\n",
    "    'max': 1900,\n",
    "    'opacity': 0.75,\n",
    "    'palette': ['black', 'blue', 'purple', 'cyan', 'green', 'yellow', 'red']\n",
    "};\n",
    "\n",
    "#Calculate the mean value for each pixel in the time range\n",
    "ch4 = ch4.mean()\n",
    "Map_ch4 .addLayer(ch4, ch4_viz, 'ch4');"
   ]
  },
  {
   "cell_type": "code",
   "execution_count": 84,
   "id": "0328ae71",
   "metadata": {},
   "outputs": [],
   "source": [
    "#Clip over the ROI previously defined\n",
    "ch4_clip = ch4.clip(roi)\n",
    "Map_ch4 .addLayer(ch4_clip, ch4_viz, 'ch4');"
   ]
  },
  {
   "cell_type": "code",
   "execution_count": 85,
   "id": "0e1526f9",
   "metadata": {},
   "outputs": [],
   "source": [
    "# Set output directory for Ozone\n",
    "out_dir = os.path.expanduser(cwd + '/temp')\n",
    "\n",
    "filename = os.path.join(out_dir, 'ch4_s5p.tif')"
   ]
  },
  {
   "cell_type": "code",
   "execution_count": 86,
   "id": "484d2684",
   "metadata": {},
   "outputs": [
    {
     "name": "stdout",
     "output_type": "stream",
     "text": [
      "Generating URL ...\n",
      "Downloading data from https://earthengine.googleapis.com/v1alpha/projects/earthengine-legacy/thumbnails/d3b524c6984c02c98736d0910dad40ef-5deeb91bbfa8b9392894a16e986c2188:getPixels\n",
      "Please wait ...\n",
      "Data downloaded to C:\\Users\\Administrator\\OneDrive - Politecnico di Milano\\WP2\\D-DUST\\temp\\ch4_s5p.tif\n"
     ]
    }
   ],
   "source": [
    "geemap.ee_export_image(ch4_clip, filename=filename, scale= 5000)"
   ]
  },
  {
   "cell_type": "markdown",
   "id": "9c65a105",
   "metadata": {},
   "source": [
    "----"
   ]
  },
  {
   "cell_type": "markdown",
   "id": "7da6a5c1",
   "metadata": {},
   "source": [
    "# [Google Earth Engine - AOD - Sentinel-5P Tropomi](https://developers.google.com/earth-engine/datasets/catalog/COPERNICUS_S5P_OFFL_L3_CH4#bands) "
   ]
  },
  {
   "cell_type": "code",
   "execution_count": 87,
   "id": "81c79a3c",
   "metadata": {},
   "outputs": [
    {
     "data": {
      "application/vnd.jupyter.widget-view+json": {
       "model_id": "292c7ffe746b412ca6f38aa6a7a532d0",
       "version_major": 2,
       "version_minor": 0
      },
      "text/plain": [
       "Map(center=[45.5, 10], controls=(WidgetControl(options=['position', 'transparent_bg'], widget=HBox(children=(T…"
      ]
     },
     "metadata": {},
     "output_type": "display_data"
    }
   ],
   "source": [
    "#Create a map\n",
    "Map_aod_s5p = geemap.Map(center=[45.5,10], zoom = 7 )\n",
    "Map_aod_s5p"
   ]
  },
  {
   "cell_type": "code",
   "execution_count": 88,
   "id": "70cf37c4",
   "metadata": {},
   "outputs": [],
   "source": [
    "#Access to AOD image collection, selecting the band name and giving a date range\n",
    "aod_s5p = ee.ImageCollection('COPERNICUS/S5P/OFFL/L3_CH4')\\\n",
    "  .select('aerosol_optical_depth')\\\n",
    "  .filterDate(start_date, end_date);\n",
    "\n",
    "#Image visualization properties\n",
    "aod_s5p_viz = {\n",
    "    'min': 0,\n",
    "    'max': 0.03,\n",
    "    'opacity': 0.75,\n",
    "    'palette': ['black', 'blue', 'purple', 'cyan', 'green', 'yellow', 'red']\n",
    "};\n",
    "\n",
    "#Calculate the mean value for each pixel in the time range\n",
    "aod_s5p = aod_s5p.mean()\n",
    "Map_aod_s5p .addLayer(aod_s5p, aod_s5p_viz, 'aod_s5p');"
   ]
  },
  {
   "cell_type": "code",
   "execution_count": 89,
   "id": "0abe64d1",
   "metadata": {},
   "outputs": [],
   "source": [
    "#Clip over the ROI previously defined\n",
    "aod_s5p_clip = aod_s5p.clip(roi)\n",
    "Map_ch4 .addLayer(aod_s5p_clip, aod_s5p_viz, 'aod_s5p');"
   ]
  },
  {
   "cell_type": "code",
   "execution_count": 90,
   "id": "33565e44",
   "metadata": {},
   "outputs": [],
   "source": [
    "# Set output directory for Ozone\n",
    "out_dir = os.path.expanduser(cwd + '/temp')\n",
    "\n",
    "filename = os.path.join(out_dir, 'aod_s5p_s5p.tif')"
   ]
  },
  {
   "cell_type": "code",
   "execution_count": 91,
   "id": "38a45945",
   "metadata": {},
   "outputs": [
    {
     "name": "stdout",
     "output_type": "stream",
     "text": [
      "Generating URL ...\n",
      "Downloading data from https://earthengine.googleapis.com/v1alpha/projects/earthengine-legacy/thumbnails/f6ec9579226b54a42982bb61bf2e7999-757b66069b81f40881ca532940feb871:getPixels\n",
      "Please wait ...\n",
      "Data downloaded to C:\\Users\\Administrator\\OneDrive - Politecnico di Milano\\WP2\\D-DUST\\temp\\aod_s5p_s5p.tif\n"
     ]
    }
   ],
   "source": [
    "geemap.ee_export_image(ch4_clip, filename=filename, scale= 3000)"
   ]
  },
  {
   "cell_type": "markdown",
   "id": "19b0c285",
   "metadata": {},
   "source": [
    "----"
   ]
  },
  {
   "cell_type": "markdown",
   "id": "8501a882",
   "metadata": {},
   "source": [
    "# [Google Earth Engine - AOD 550nm - Terra & Aqua MAIAC Land Aerosol Optical Depth - 1 km](https://developers.google.com/earth-engine/datasets/catalog/MODIS_006_MCD19A2_GRANULES) "
   ]
  },
  {
   "cell_type": "code",
   "execution_count": 92,
   "id": "daec1ce9",
   "metadata": {},
   "outputs": [
    {
     "data": {
      "application/vnd.jupyter.widget-view+json": {
       "model_id": "b22a101808404b479f64ea8291138f09",
       "version_major": 2,
       "version_minor": 0
      },
      "text/plain": [
       "Map(center=[45.5, 10], controls=(WidgetControl(options=['position', 'transparent_bg'], widget=HBox(children=(T…"
      ]
     },
     "metadata": {},
     "output_type": "display_data"
    }
   ],
   "source": [
    "Map_aod55 = geemap.Map(center=[45.5,10], zoom = 7 )\n",
    "Map_aod55"
   ]
  },
  {
   "cell_type": "code",
   "execution_count": 93,
   "id": "c0d79b66",
   "metadata": {},
   "outputs": [],
   "source": [
    "#Access to AOD 500 nm image collection, selecting the band name and giving a date range\n",
    "aod55 = ee.ImageCollection('MODIS/006/MCD19A2_GRANULES')\\\n",
    "  .select('Optical_Depth_055')\\\n",
    "  .filterDate(start_date, end_date);\n",
    "\n",
    "#Image visualization properties\n",
    "aod55_viz = {\n",
    "    'min': 0,\n",
    "    'max': 250,\n",
    "    'opacity': 0.75,\n",
    "    'palette': ['black', 'blue', 'purple', 'cyan', 'green', 'yellow', 'red']\n",
    "};\n",
    "\n",
    "#Calculate the mean value for each pixel in the time range\n",
    "aod55 = aod55.mean()\n",
    "Map_aod55.addLayer(aod55, aod55_viz, 'aod55');"
   ]
  },
  {
   "cell_type": "code",
   "execution_count": 94,
   "id": "17288b42",
   "metadata": {},
   "outputs": [],
   "source": [
    "#Clip over the ROI previously defined\n",
    "aod55_clip = aod55.clip(roi)\n",
    "Map_aod55.addLayer(aod55_clip, aod55_viz, 'aod55');"
   ]
  },
  {
   "cell_type": "code",
   "execution_count": 95,
   "id": "f862a8e2",
   "metadata": {},
   "outputs": [],
   "source": [
    "# Set output directory for AOD\n",
    "out_dir = os.path.expanduser(cwd + '/temp')\n",
    "\n",
    "filename = os.path.join(out_dir, 'aod_055.tif')"
   ]
  },
  {
   "cell_type": "code",
   "execution_count": 96,
   "id": "50582976",
   "metadata": {},
   "outputs": [
    {
     "name": "stdout",
     "output_type": "stream",
     "text": [
      "Generating URL ...\n",
      "Downloading data from https://earthengine.googleapis.com/v1alpha/projects/earthengine-legacy/thumbnails/58187d6b940d7f3df26cee57248759f5-ea1987f35b56b1074b7ef110146ef8f2:getPixels\n",
      "Please wait ...\n",
      "Data downloaded to C:\\Users\\Administrator\\OneDrive - Politecnico di Milano\\WP2\\D-DUST\\temp\\aod_055.tif\n"
     ]
    }
   ],
   "source": [
    "geemap.ee_export_image(aod55_clip, filename=filename, scale=1000)"
   ]
  },
  {
   "cell_type": "markdown",
   "id": "f1639c43",
   "metadata": {},
   "source": [
    "----"
   ]
  },
  {
   "cell_type": "markdown",
   "id": "bd3ca9fb",
   "metadata": {},
   "source": [
    "# [Google Earth Engine - AOD 470nm - Terra & Aqua MAIAC Land Aerosol Optical Depth - 1 km](https://developers.google.com/earth-engine/datasets/catalog/MODIS_006_MCD19A2_GRANULES) "
   ]
  },
  {
   "cell_type": "code",
   "execution_count": 97,
   "id": "324bb290",
   "metadata": {},
   "outputs": [
    {
     "data": {
      "application/vnd.jupyter.widget-view+json": {
       "model_id": "40f7af02a1384651b195dacb7a67aca6",
       "version_major": 2,
       "version_minor": 0
      },
      "text/plain": [
       "Map(center=[45.5, 10], controls=(WidgetControl(options=['position', 'transparent_bg'], widget=HBox(children=(T…"
      ]
     },
     "metadata": {},
     "output_type": "display_data"
    }
   ],
   "source": [
    "Map_aod47 = geemap.Map(center=[45.5,10], zoom = 7 )\n",
    "Map_aod47"
   ]
  },
  {
   "cell_type": "code",
   "execution_count": 98,
   "id": "43a95793",
   "metadata": {},
   "outputs": [],
   "source": [
    "#Access to AOD 470 nm image collection, selecting the band name and giving a date range\n",
    "aod47 = ee.ImageCollection('MODIS/006/MCD19A2_GRANULES')\\\n",
    "  .select('Optical_Depth_047')\\\n",
    "  .filterDate(start_date, end_date);\n",
    "\n",
    "#Image visualization properties\n",
    "aod47_viz = {\n",
    "    'min': 0,\n",
    "    'max': 250,\n",
    "    'opacity': 0.75,\n",
    "    'palette': ['black', 'blue', 'purple', 'cyan', 'green', 'yellow', 'red']\n",
    "};\n",
    "\n",
    "#Calculate the mean value for each pixel in the time range\n",
    "aod47 = aod47.mean()\n",
    "Map_aod47.addLayer(aod47, aod47_viz, 'aod47');"
   ]
  },
  {
   "cell_type": "code",
   "execution_count": 99,
   "id": "8a1b3dcb",
   "metadata": {},
   "outputs": [],
   "source": [
    "#Clip over the ROI previously defined\n",
    "aod47_clip = aod47.clip(roi)\n",
    "Map_aod47.addLayer(aod47_clip, aod47_viz, 'aod47');"
   ]
  },
  {
   "cell_type": "code",
   "execution_count": 100,
   "id": "04d088b4",
   "metadata": {},
   "outputs": [],
   "source": [
    "# Set output directory for AOD\n",
    "out_dir = os.path.expanduser(cwd + '/temp')\n",
    "\n",
    "filename = os.path.join(out_dir, 'aod_047.tif')"
   ]
  },
  {
   "cell_type": "code",
   "execution_count": 101,
   "id": "8adceaf4",
   "metadata": {},
   "outputs": [
    {
     "name": "stdout",
     "output_type": "stream",
     "text": [
      "Generating URL ...\n",
      "Downloading data from https://earthengine.googleapis.com/v1alpha/projects/earthengine-legacy/thumbnails/d0e7c7539a3941e112acf346a9c24450-1b988f2253704715c4dacb0c98b96456:getPixels\n",
      "Please wait ...\n",
      "Data downloaded to C:\\Users\\Administrator\\OneDrive - Politecnico di Milano\\WP2\\D-DUST\\temp\\aod_047.tif\n"
     ]
    }
   ],
   "source": [
    "geemap.ee_export_image(aod47_clip, filename=filename, scale=1000)"
   ]
  },
  {
   "cell_type": "markdown",
   "id": "7a0015ae",
   "metadata": {},
   "source": [
    "---"
   ]
  },
  {
   "cell_type": "markdown",
   "id": "dd48c590",
   "metadata": {},
   "source": [
    "# [Google Earth Engine - NDVI - Terra Vegetation Indices 16-Day Global 250m](https://developers.google.com/earth-engine/datasets/catalog/MODIS_006_MOD13Q1) "
   ]
  },
  {
   "cell_type": "code",
   "execution_count": 102,
   "id": "da59cfd8",
   "metadata": {},
   "outputs": [
    {
     "data": {
      "application/vnd.jupyter.widget-view+json": {
       "model_id": "e7b5b2b02d9c4540996efe49036eec1e",
       "version_major": 2,
       "version_minor": 0
      },
      "text/plain": [
       "Map(center=[45.5, 10], controls=(WidgetControl(options=['position', 'transparent_bg'], widget=HBox(children=(T…"
      ]
     },
     "metadata": {},
     "output_type": "display_data"
    }
   ],
   "source": [
    "Map_ndvi = geemap.Map(center=[45.5,10], zoom = 7 )\n",
    "Map_ndvi"
   ]
  },
  {
   "cell_type": "code",
   "execution_count": 103,
   "id": "5e17f7d1",
   "metadata": {},
   "outputs": [],
   "source": [
    "#Access to NDVI image collection, selecting the band name and giving a date range\n",
    "ndvi= ee.ImageCollection('MODIS/006/MOD13Q1')\\\n",
    "  .select('NDVI')\\\n",
    "  .filterDate(start_date, end_date);\n",
    "\n",
    "#Image visualization properties\n",
    "ndvi_viz = {\n",
    "    'min': 0,\n",
    "    'max': 8000,\n",
    "    'opacity': 0.75,\n",
    "    'palette': [\n",
    "    'FFFFFF', 'CE7E45', 'DF923D', 'F1B555', 'FCD163', '99B718', '74A901',\n",
    "    '66A000', '529400', '3E8601', '207401', '056201', '004C00', '023B01',\n",
    "    '012E01', '011D01', '011301'\n",
    "  ]\n",
    "};\n",
    "\n",
    "#Calculate the mean value for each pixel in the time range\n",
    "ndvi = ndvi.mean()\n",
    "Map_ndvi.addLayer(ndvi, ndvi_viz, 'ndvi');"
   ]
  },
  {
   "cell_type": "code",
   "execution_count": 104,
   "id": "c1d9ec43",
   "metadata": {},
   "outputs": [],
   "source": [
    "ndvi_clip = ndvi.clip(roi)\n",
    "Map_ndvi.addLayer(ndvi_clip, ndvi_viz, 'ndvi');"
   ]
  },
  {
   "cell_type": "code",
   "execution_count": 105,
   "id": "4ef1f125",
   "metadata": {},
   "outputs": [],
   "source": [
    "# Set output directory for NDVI\n",
    "out_dir = os.path.expanduser(cwd + '/temp')\n",
    "\n",
    "\n",
    "filename = os.path.join(out_dir, 'ndvi.tif')"
   ]
  },
  {
   "cell_type": "code",
   "execution_count": 106,
   "id": "bd83e59b",
   "metadata": {},
   "outputs": [
    {
     "name": "stdout",
     "output_type": "stream",
     "text": [
      "Generating URL ...\n",
      "Downloading data from https://earthengine.googleapis.com/v1alpha/projects/earthengine-legacy/thumbnails/38cc29d8ca90470ead5a34a4e5400603-824db0a84ed8e88a07250286f3c46848:getPixels\n",
      "Please wait ...\n",
      "Data downloaded to C:\\Users\\Administrator\\OneDrive - Politecnico di Milano\\WP2\\D-DUST\\temp\\ndvi.tif\n"
     ]
    }
   ],
   "source": [
    "geemap.ee_export_image(ndvi_clip, filename=filename, scale=250)"
   ]
  },
  {
   "cell_type": "markdown",
   "id": "c9e691cf",
   "metadata": {},
   "source": [
    "- - -"
   ]
  },
  {
   "cell_type": "markdown",
   "id": "3039d462",
   "metadata": {},
   "source": [
    "Additional layer for Soil type classification:"
   ]
  },
  {
   "cell_type": "markdown",
   "id": "1bd555f2",
   "metadata": {},
   "source": [
    "# [Soil type - Open Land Map USDA](https://developers.google.com/earth-engine/datasets/catalog/OpenLandMap_SOL_SOL_TEXTURE-CLASS_USDA-TT_M_v02#description)"
   ]
  },
  {
   "cell_type": "code",
   "execution_count": 107,
   "id": "66216a79",
   "metadata": {},
   "outputs": [
    {
     "data": {
      "application/vnd.jupyter.widget-view+json": {
       "model_id": "a52afa04168c48f69f36211afe4cb837",
       "version_major": 2,
       "version_minor": 0
      },
      "text/plain": [
       "Map(center=[45.5, 10], controls=(WidgetControl(options=['position', 'transparent_bg'], widget=HBox(children=(T…"
      ]
     },
     "metadata": {},
     "output_type": "display_data"
    }
   ],
   "source": [
    "Map_soil = geemap.Map(center=[45.5,10], zoom = 7 )\n",
    "Map_soil"
   ]
  },
  {
   "cell_type": "code",
   "execution_count": 108,
   "id": "78836db1",
   "metadata": {},
   "outputs": [],
   "source": [
    "#Access to USDA Open Land Map soil type image\n",
    "soil = ee.Image(\"OpenLandMap/SOL/SOL_TEXTURE-CLASS_USDA-TT_M/v02\")\\\n",
    "        .select('b0')\n",
    "\n",
    "soil_viz = {\n",
    "  'bands': ['b0'],\n",
    "  'min': 1.0,\n",
    "  'max': 12.0,\n",
    "  'palette': [\n",
    "    \"d5c36b\",\"b96947\",\"9d3706\",\"ae868f\",\"f86714\",\"46d143\",\n",
    "    \"368f20\",\"3e5a14\",\"ffd557\",\"fff72e\",\"ff5a9d\",\"ff005b\",\n",
    "  ]\n",
    "};"
   ]
  },
  {
   "cell_type": "code",
   "execution_count": 109,
   "id": "543c46d0",
   "metadata": {},
   "outputs": [],
   "source": [
    "soil_clip = soil.clip(roi)"
   ]
  },
  {
   "cell_type": "code",
   "execution_count": 110,
   "id": "d1d6d763",
   "metadata": {},
   "outputs": [],
   "source": [
    "Map_soil.addLayer(soil_clip, soil_viz, 'Soil Type');"
   ]
  },
  {
   "cell_type": "code",
   "execution_count": 111,
   "id": "90093d5a",
   "metadata": {},
   "outputs": [
    {
     "name": "stdout",
     "output_type": "stream",
     "text": [
      "Generating URL ...\n",
      "Downloading data from https://earthengine.googleapis.com/v1alpha/projects/earthengine-legacy/thumbnails/af9f0f3b178ca3e2fd39460f46d44677-9336ac59a068a1c28042946d483794b7:getPixels\n",
      "Please wait ...\n",
      "Data downloaded to C:\\Users\\Administrator\\OneDrive - Politecnico di Milano\\WP2\\D-DUST\\terrain\\soil_type.tif\n"
     ]
    }
   ],
   "source": [
    "out_dir = os.path.expanduser(cwd + '/terrain')\n",
    "filename = os.path.join(out_dir, 'soil_type.tif')\n",
    "geemap.ee_export_image(soil_clip, filename=filename, scale=250)"
   ]
  }
 ],
 "metadata": {
  "kernelspec": {
   "display_name": "Python 3 (ipykernel)",
   "language": "python",
   "name": "python3"
  },
  "language_info": {
   "codemirror_mode": {
    "name": "ipython",
    "version": 3
   },
   "file_extension": ".py",
   "mimetype": "text/x-python",
   "name": "python",
   "nbconvert_exporter": "python",
   "pygments_lexer": "ipython3",
   "version": "3.10.4"
  }
 },
 "nbformat": 4,
 "nbformat_minor": 5
}
