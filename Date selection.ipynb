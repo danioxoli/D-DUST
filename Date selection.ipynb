{
 "cells": [
  {
   "cell_type": "markdown",
   "id": "a1fc47bd-5651-406e-82e6-e0ed87b9b611",
   "metadata": {},
   "source": [
    "# Date Selection\n",
    "This notebook allows to plot average precipitation and temperature over the Lombardy region for a given month of the year."
   ]
  },
  {
   "cell_type": "markdown",
   "id": "3d6195f4-15ef-401c-9610-9910756ecc5f",
   "metadata": {},
   "source": [
    "## Import libraries"
   ]
  },
  {
   "cell_type": "code",
   "execution_count": 1,
   "id": "e51b2bc2-1c6c-4795-a4f6-10187fc2399c",
   "metadata": {},
   "outputs": [],
   "source": [
    "from sodapy import Socrata\n",
    "import pandas as pd\n",
    "import geopandas as gpd\n",
    "import os\n",
    "import zipfile\n",
    "import requests\n",
    "import json\n",
    "import io\n",
    "from scipy import stats\n",
    "import numpy as np\n",
    "from datetime import datetime\n",
    "from datetime import timedelta\n",
    "import warnings\n",
    "warnings.filterwarnings('ignore')\n",
    "\n",
    "# Set current working directory\n",
    "cwd = os.getcwd()\n",
    "\n",
    "# Import functions defined for DDUST project:\n",
    "from functions import my_methods\n",
    "\n",
    "# Key and app token for Socrata API\n",
    "f = open('keys.json')\n",
    "keys = json.load(f)"
   ]
  },
  {
   "cell_type": "markdown",
   "id": "cd8a1e19-0ca6-46aa-a1c2-13fb67453f5c",
   "metadata": {},
   "source": [
    "## Define time range\n",
    "Select a month and a year:"
   ]
  },
  {
   "cell_type": "code",
   "execution_count": 89,
   "id": "71886cf7-a5ca-4843-85ef-e14f3fe08044",
   "metadata": {},
   "outputs": [
    {
     "name": "stdout",
     "output_type": "stream",
     "text": [
      "2021-10-01\n"
     ]
    }
   ],
   "source": [
    "month = 10\n",
    "year = 2021\n",
    "start_date_dt = datetime(year, month, 1).date()\n",
    "print(start_date_dt)"
   ]
  },
  {
   "cell_type": "code",
   "execution_count": 90,
   "id": "3f0e3f2c-077a-43fd-99c6-82e050a99de3",
   "metadata": {},
   "outputs": [],
   "source": [
    "# Function to get the last day of the month\n",
    "def last_day_month(test_date):            \n",
    "    # getting next month\n",
    "    # using replace to get to last day + offset\n",
    "    # to reach next month\n",
    "    nxt_mnth = test_date.replace(day=28) + timedelta(days=4)\n",
    "\n",
    "    # subtracting the days from next month date to\n",
    "    # get last date of current Month\n",
    "    res = nxt_mnth - timedelta(days=nxt_mnth.day)\n",
    "\n",
    "    return res"
   ]
  },
  {
   "cell_type": "code",
   "execution_count": 91,
   "id": "c240d3a2-88a8-4af9-b41f-29ec4c92543e",
   "metadata": {},
   "outputs": [
    {
     "name": "stdout",
     "output_type": "stream",
     "text": [
      "The time range is 2021-10-01 - 2021-10-31\n"
     ]
    }
   ],
   "source": [
    "# Start and end days of the month\n",
    "start_date = str(start_date_dt)\n",
    "end_date = str(last_day_month(start_date_dt))[0:10]\n",
    "end_date_dt = datetime.strptime(end_date, '%Y-%m-%d') + timedelta(days=1)\n",
    "print('The time range is '+start_date + ' - ' + end_date)"
   ]
  },
  {
   "cell_type": "markdown",
   "id": "3eba4e24-e07b-4d7c-8b48-61d9cbde696c",
   "metadata": {},
   "source": [
    "## Get ARPA meteorological sensors information"
   ]
  },
  {
   "cell_type": "code",
   "execution_count": 38,
   "id": "d81ad60b-5f55-4982-9891-d0c91436edef",
   "metadata": {},
   "outputs": [],
   "source": [
    "arpa_domain = \"www.dati.lombardia.it\"\n",
    "m_st_descr = \"nf78-nj6b\"\n",
    "client = Socrata(arpa_domain, app_token = keys['arpa_token'])\n",
    "results = client.get_all(m_st_descr)\n",
    "meteo_st_descr = pd.DataFrame(results)\n",
    "meteo_st_descr[\"idsensore\"] = meteo_st_descr[\"idsensore\"].astype(int)"
   ]
  },
  {
   "cell_type": "markdown",
   "id": "1ce51ca4-3362-458c-91a4-b1ef78378294",
   "metadata": {},
   "source": [
    "## Get ARPA meteorological sensors times series"
   ]
  },
  {
   "cell_type": "code",
   "execution_count": 39,
   "id": "4739254c-9b49-4899-9549-b55f588c08e8",
   "metadata": {},
   "outputs": [
    {
     "name": "stdout",
     "output_type": "stream",
     "text": [
      "Zip file exist\n"
     ]
    }
   ],
   "source": [
    "# If current year use data from API\n",
    "if int(year) == datetime.today().year:\n",
    "    arpa_domain = \"www.dati.lombardia.it\"\n",
    "    dati = \"647i-nhxk\" #change this depending on the dataset (check Open Data Lombardia datasets)\n",
    "    client = Socrata(arpa_domain, app_token = keys['arpa_token']) #insert your arpa_token\n",
    "    date_query = \"data > {} and data < {}\".format('\"'+ start_date + '\"','\"'+ str(end_date_dt) + '\"')\n",
    "    results = client.get(dati, where=date_query, limit=5000000000000)\n",
    "    meteo_data = pd.DataFrame(results)\n",
    "    meteo_data.rename(columns={'IdSensore': 'idsensore','Data': 'data','idOperatore': 'idoperatore','Stato': 'stato','Valore': 'valore'}, inplace=True)\n",
    "    meteo_data['data'] =  pd.to_datetime(meteo_data['data'], format='%Y/%m/%d %H:%M:%S')\n",
    "    meteo_data = meteo_data.astype({\"idsensore\": int,\"valore\": float})\n",
    "    \n",
    "# If previous years download the corresponding year .csv file and filter the dates  \n",
    "elif int(year) < datetime.today().year:\n",
    "    filename = 'meteo_'+str(year)+'.zip'\n",
    "    if not os.path.exists(os.path.join(filename)):\n",
    "        csv_url = my_methods.meteo_sensor(str(year))\n",
    "        r2 = requests.get(csv_url, allow_redirects=True)\n",
    "        DL_zip = open(filename, 'wb').write(r2.content)\n",
    "        print('Dowloaded zip file')\n",
    "    \n",
    "    print('Zip file exist')\n",
    "    archive = zipfile.ZipFile(filename, 'r')\n",
    "    data = archive.open(str(year)+'.csv') \n",
    "    meteo_data_df = pd.read_csv(data, dtype={\"IdSensore\": int,\"Valore\": float, \"Stato\": str, \"idOperatore\":str})\n",
    "    meteo_data_df.rename(columns={'IdSensore': 'idsensore','Data': 'data','idOperatore': 'idoperatore','Stato': 'stato','Valore': 'valore'}, inplace=True)\n",
    "    meteo_data_df['data'] =  pd.to_datetime(meteo_data_df['data'], format='%d/%m/%Y %H:%M:%S')"
   ]
  },
  {
   "cell_type": "markdown",
   "id": "ccb45532-a487-42b7-ac44-57e2923f6ffe",
   "metadata": {},
   "source": [
    "For .csv data, the whole dataset is loaded in meteo_data_df dataframe. Changing the time period is possible to filter the data and"
   ]
  },
  {
   "cell_type": "code",
   "execution_count": 92,
   "id": "243b5a83-35ac-4449-830b-b49b10c0f42e",
   "metadata": {},
   "outputs": [],
   "source": [
    "# Keep meteo_data_df in memory for .csv files only. It's possible to create a new meteo_data dataframe changing the time period\n",
    "mask = (meteo_data_df.data >= start_date) & (meteo_data_df.data < str(end_date_dt))\n",
    "meteo_data = meteo_data_df.loc[mask]"
   ]
  },
  {
   "cell_type": "markdown",
   "id": "89761fe3-29be-40c5-9bc0-5a7b2f0ade81",
   "metadata": {},
   "source": [
    "## Data processing"
   ]
  },
  {
   "cell_type": "code",
   "execution_count": 93,
   "id": "c9f58963-7485-464a-9088-8d1bd416cadd",
   "metadata": {},
   "outputs": [],
   "source": [
    "meteo_data = meteo_data.drop(columns=['stato', 'idoperatore'])\n",
    "meteo_data = meteo_data[meteo_data.valore.astype(float) != -9999]"
   ]
  },
  {
   "cell_type": "code",
   "execution_count": 94,
   "id": "119a6575-55d2-4b71-9640-1f20efc62ea9",
   "metadata": {},
   "outputs": [],
   "source": [
    "m_sensor_sel = ['Precipitazione','Temperatura']\n",
    "meteo_table = pd.merge(meteo_data, meteo_st_descr, on = 'idsensore')"
   ]
  },
  {
   "cell_type": "code",
   "execution_count": 95,
   "id": "267389d1-b043-4519-be12-1936c6b075ea",
   "metadata": {},
   "outputs": [],
   "source": [
    "meteo_table['tipologia'].astype(str)\n",
    "meteo_table = meteo_table[meteo_table['tipologia'].isin(m_sensor_sel)]"
   ]
  },
  {
   "cell_type": "code",
   "execution_count": 96,
   "id": "7393329d-4361-4fdf-a94b-942e7a4c7488",
   "metadata": {},
   "outputs": [],
   "source": [
    "temp_st = meteo_table.loc[meteo_table['tipologia'] == 'Temperatura']\n",
    "prec_st = meteo_table.loc[meteo_table['tipologia'] == 'Precipitazione']"
   ]
  },
  {
   "cell_type": "code",
   "execution_count": 97,
   "id": "07cda0cc-53fe-476c-8341-45e14fc76519",
   "metadata": {},
   "outputs": [
    {
     "data": {
      "text/html": [
       "<div>\n",
       "<style scoped>\n",
       "    .dataframe tbody tr th:only-of-type {\n",
       "        vertical-align: middle;\n",
       "    }\n",
       "\n",
       "    .dataframe tbody tr th {\n",
       "        vertical-align: top;\n",
       "    }\n",
       "\n",
       "    .dataframe thead th {\n",
       "        text-align: right;\n",
       "    }\n",
       "</style>\n",
       "<table border=\"1\" class=\"dataframe\">\n",
       "  <thead>\n",
       "    <tr style=\"text-align: right;\">\n",
       "      <th></th>\n",
       "      <th>idsensore</th>\n",
       "      <th>data</th>\n",
       "      <th>valore</th>\n",
       "      <th>tipologia</th>\n",
       "      <th>unit_dimisura</th>\n",
       "      <th>idstazione</th>\n",
       "      <th>nomestazione</th>\n",
       "      <th>quota</th>\n",
       "      <th>provincia</th>\n",
       "      <th>datastart</th>\n",
       "      <th>storico</th>\n",
       "      <th>cgb_nord</th>\n",
       "      <th>cgb_est</th>\n",
       "      <th>lng</th>\n",
       "      <th>lat</th>\n",
       "      <th>location</th>\n",
       "      <th>:@computed_region_6hky_swhk</th>\n",
       "      <th>:@computed_region_ttgh_9sm5</th>\n",
       "      <th>datastop</th>\n",
       "    </tr>\n",
       "  </thead>\n",
       "  <tbody>\n",
       "    <tr>\n",
       "      <th>8910</th>\n",
       "      <td>9</td>\n",
       "      <td>2021-10-01 00:00:00</td>\n",
       "      <td>0.0</td>\n",
       "      <td>Precipitazione</td>\n",
       "      <td>mm</td>\n",
       "      <td>3</td>\n",
       "      <td>Sondalo Le Prese</td>\n",
       "      <td>950</td>\n",
       "      <td>SO</td>\n",
       "      <td>1987-11-24T00:00:00.000</td>\n",
       "      <td>N</td>\n",
       "      <td>5133847</td>\n",
       "      <td>604242</td>\n",
       "      <td>10.354811516997314</td>\n",
       "      <td>46.35017157750056</td>\n",
       "      <td>{'latitude': '46.35017157750056', 'longitude':...</td>\n",
       "      <td>3</td>\n",
       "      <td>3</td>\n",
       "      <td>NaN</td>\n",
       "    </tr>\n",
       "    <tr>\n",
       "      <th>8911</th>\n",
       "      <td>9</td>\n",
       "      <td>2021-10-01 00:10:00</td>\n",
       "      <td>0.0</td>\n",
       "      <td>Precipitazione</td>\n",
       "      <td>mm</td>\n",
       "      <td>3</td>\n",
       "      <td>Sondalo Le Prese</td>\n",
       "      <td>950</td>\n",
       "      <td>SO</td>\n",
       "      <td>1987-11-24T00:00:00.000</td>\n",
       "      <td>N</td>\n",
       "      <td>5133847</td>\n",
       "      <td>604242</td>\n",
       "      <td>10.354811516997314</td>\n",
       "      <td>46.35017157750056</td>\n",
       "      <td>{'latitude': '46.35017157750056', 'longitude':...</td>\n",
       "      <td>3</td>\n",
       "      <td>3</td>\n",
       "      <td>NaN</td>\n",
       "    </tr>\n",
       "    <tr>\n",
       "      <th>8912</th>\n",
       "      <td>9</td>\n",
       "      <td>2021-10-01 00:20:00</td>\n",
       "      <td>0.0</td>\n",
       "      <td>Precipitazione</td>\n",
       "      <td>mm</td>\n",
       "      <td>3</td>\n",
       "      <td>Sondalo Le Prese</td>\n",
       "      <td>950</td>\n",
       "      <td>SO</td>\n",
       "      <td>1987-11-24T00:00:00.000</td>\n",
       "      <td>N</td>\n",
       "      <td>5133847</td>\n",
       "      <td>604242</td>\n",
       "      <td>10.354811516997314</td>\n",
       "      <td>46.35017157750056</td>\n",
       "      <td>{'latitude': '46.35017157750056', 'longitude':...</td>\n",
       "      <td>3</td>\n",
       "      <td>3</td>\n",
       "      <td>NaN</td>\n",
       "    </tr>\n",
       "    <tr>\n",
       "      <th>8913</th>\n",
       "      <td>9</td>\n",
       "      <td>2021-10-01 00:30:00</td>\n",
       "      <td>0.0</td>\n",
       "      <td>Precipitazione</td>\n",
       "      <td>mm</td>\n",
       "      <td>3</td>\n",
       "      <td>Sondalo Le Prese</td>\n",
       "      <td>950</td>\n",
       "      <td>SO</td>\n",
       "      <td>1987-11-24T00:00:00.000</td>\n",
       "      <td>N</td>\n",
       "      <td>5133847</td>\n",
       "      <td>604242</td>\n",
       "      <td>10.354811516997314</td>\n",
       "      <td>46.35017157750056</td>\n",
       "      <td>{'latitude': '46.35017157750056', 'longitude':...</td>\n",
       "      <td>3</td>\n",
       "      <td>3</td>\n",
       "      <td>NaN</td>\n",
       "    </tr>\n",
       "    <tr>\n",
       "      <th>8914</th>\n",
       "      <td>9</td>\n",
       "      <td>2021-10-01 00:40:00</td>\n",
       "      <td>0.0</td>\n",
       "      <td>Precipitazione</td>\n",
       "      <td>mm</td>\n",
       "      <td>3</td>\n",
       "      <td>Sondalo Le Prese</td>\n",
       "      <td>950</td>\n",
       "      <td>SO</td>\n",
       "      <td>1987-11-24T00:00:00.000</td>\n",
       "      <td>N</td>\n",
       "      <td>5133847</td>\n",
       "      <td>604242</td>\n",
       "      <td>10.354811516997314</td>\n",
       "      <td>46.35017157750056</td>\n",
       "      <td>{'latitude': '46.35017157750056', 'longitude':...</td>\n",
       "      <td>3</td>\n",
       "      <td>3</td>\n",
       "      <td>NaN</td>\n",
       "    </tr>\n",
       "    <tr>\n",
       "      <th>...</th>\n",
       "      <td>...</td>\n",
       "      <td>...</td>\n",
       "      <td>...</td>\n",
       "      <td>...</td>\n",
       "      <td>...</td>\n",
       "      <td>...</td>\n",
       "      <td>...</td>\n",
       "      <td>...</td>\n",
       "      <td>...</td>\n",
       "      <td>...</td>\n",
       "      <td>...</td>\n",
       "      <td>...</td>\n",
       "      <td>...</td>\n",
       "      <td>...</td>\n",
       "      <td>...</td>\n",
       "      <td>...</td>\n",
       "      <td>...</td>\n",
       "      <td>...</td>\n",
       "      <td>...</td>\n",
       "    </tr>\n",
       "    <tr>\n",
       "      <th>5163646</th>\n",
       "      <td>22011</td>\n",
       "      <td>2021-10-31 22:20:00</td>\n",
       "      <td>0.0</td>\n",
       "      <td>Precipitazione</td>\n",
       "      <td>mm</td>\n",
       "      <td>1890</td>\n",
       "      <td>Tavernole sul Mella Monte Guglielmo</td>\n",
       "      <td>1790</td>\n",
       "      <td>BS</td>\n",
       "      <td>2019-10-14T00:00:00.000</td>\n",
       "      <td>N</td>\n",
       "      <td>5067376</td>\n",
       "      <td>591417</td>\n",
       "      <td>10.175407094582125</td>\n",
       "      <td>45.75389593743312</td>\n",
       "      <td>{'latitude': '45.75389593743312', 'longitude':...</td>\n",
       "      <td>6</td>\n",
       "      <td>6</td>\n",
       "      <td>NaN</td>\n",
       "    </tr>\n",
       "    <tr>\n",
       "      <th>5163647</th>\n",
       "      <td>22011</td>\n",
       "      <td>2021-10-31 22:30:00</td>\n",
       "      <td>0.0</td>\n",
       "      <td>Precipitazione</td>\n",
       "      <td>mm</td>\n",
       "      <td>1890</td>\n",
       "      <td>Tavernole sul Mella Monte Guglielmo</td>\n",
       "      <td>1790</td>\n",
       "      <td>BS</td>\n",
       "      <td>2019-10-14T00:00:00.000</td>\n",
       "      <td>N</td>\n",
       "      <td>5067376</td>\n",
       "      <td>591417</td>\n",
       "      <td>10.175407094582125</td>\n",
       "      <td>45.75389593743312</td>\n",
       "      <td>{'latitude': '45.75389593743312', 'longitude':...</td>\n",
       "      <td>6</td>\n",
       "      <td>6</td>\n",
       "      <td>NaN</td>\n",
       "    </tr>\n",
       "    <tr>\n",
       "      <th>5163648</th>\n",
       "      <td>22011</td>\n",
       "      <td>2021-10-31 23:10:00</td>\n",
       "      <td>0.0</td>\n",
       "      <td>Precipitazione</td>\n",
       "      <td>mm</td>\n",
       "      <td>1890</td>\n",
       "      <td>Tavernole sul Mella Monte Guglielmo</td>\n",
       "      <td>1790</td>\n",
       "      <td>BS</td>\n",
       "      <td>2019-10-14T00:00:00.000</td>\n",
       "      <td>N</td>\n",
       "      <td>5067376</td>\n",
       "      <td>591417</td>\n",
       "      <td>10.175407094582125</td>\n",
       "      <td>45.75389593743312</td>\n",
       "      <td>{'latitude': '45.75389593743312', 'longitude':...</td>\n",
       "      <td>6</td>\n",
       "      <td>6</td>\n",
       "      <td>NaN</td>\n",
       "    </tr>\n",
       "    <tr>\n",
       "      <th>5163649</th>\n",
       "      <td>22011</td>\n",
       "      <td>2021-10-31 23:20:00</td>\n",
       "      <td>0.0</td>\n",
       "      <td>Precipitazione</td>\n",
       "      <td>mm</td>\n",
       "      <td>1890</td>\n",
       "      <td>Tavernole sul Mella Monte Guglielmo</td>\n",
       "      <td>1790</td>\n",
       "      <td>BS</td>\n",
       "      <td>2019-10-14T00:00:00.000</td>\n",
       "      <td>N</td>\n",
       "      <td>5067376</td>\n",
       "      <td>591417</td>\n",
       "      <td>10.175407094582125</td>\n",
       "      <td>45.75389593743312</td>\n",
       "      <td>{'latitude': '45.75389593743312', 'longitude':...</td>\n",
       "      <td>6</td>\n",
       "      <td>6</td>\n",
       "      <td>NaN</td>\n",
       "    </tr>\n",
       "    <tr>\n",
       "      <th>5163650</th>\n",
       "      <td>22011</td>\n",
       "      <td>2021-10-31 23:30:00</td>\n",
       "      <td>0.0</td>\n",
       "      <td>Precipitazione</td>\n",
       "      <td>mm</td>\n",
       "      <td>1890</td>\n",
       "      <td>Tavernole sul Mella Monte Guglielmo</td>\n",
       "      <td>1790</td>\n",
       "      <td>BS</td>\n",
       "      <td>2019-10-14T00:00:00.000</td>\n",
       "      <td>N</td>\n",
       "      <td>5067376</td>\n",
       "      <td>591417</td>\n",
       "      <td>10.175407094582125</td>\n",
       "      <td>45.75389593743312</td>\n",
       "      <td>{'latitude': '45.75389593743312', 'longitude':...</td>\n",
       "      <td>6</td>\n",
       "      <td>6</td>\n",
       "      <td>NaN</td>\n",
       "    </tr>\n",
       "  </tbody>\n",
       "</table>\n",
       "<p>966916 rows × 19 columns</p>\n",
       "</div>"
      ],
      "text/plain": [
       "         idsensore                data  valore       tipologia unit_dimisura  \\\n",
       "8910             9 2021-10-01 00:00:00     0.0  Precipitazione            mm   \n",
       "8911             9 2021-10-01 00:10:00     0.0  Precipitazione            mm   \n",
       "8912             9 2021-10-01 00:20:00     0.0  Precipitazione            mm   \n",
       "8913             9 2021-10-01 00:30:00     0.0  Precipitazione            mm   \n",
       "8914             9 2021-10-01 00:40:00     0.0  Precipitazione            mm   \n",
       "...            ...                 ...     ...             ...           ...   \n",
       "5163646      22011 2021-10-31 22:20:00     0.0  Precipitazione            mm   \n",
       "5163647      22011 2021-10-31 22:30:00     0.0  Precipitazione            mm   \n",
       "5163648      22011 2021-10-31 23:10:00     0.0  Precipitazione            mm   \n",
       "5163649      22011 2021-10-31 23:20:00     0.0  Precipitazione            mm   \n",
       "5163650      22011 2021-10-31 23:30:00     0.0  Precipitazione            mm   \n",
       "\n",
       "        idstazione                         nomestazione quota provincia  \\\n",
       "8910             3                     Sondalo Le Prese   950        SO   \n",
       "8911             3                     Sondalo Le Prese   950        SO   \n",
       "8912             3                     Sondalo Le Prese   950        SO   \n",
       "8913             3                     Sondalo Le Prese   950        SO   \n",
       "8914             3                     Sondalo Le Prese   950        SO   \n",
       "...            ...                                  ...   ...       ...   \n",
       "5163646       1890  Tavernole sul Mella Monte Guglielmo  1790        BS   \n",
       "5163647       1890  Tavernole sul Mella Monte Guglielmo  1790        BS   \n",
       "5163648       1890  Tavernole sul Mella Monte Guglielmo  1790        BS   \n",
       "5163649       1890  Tavernole sul Mella Monte Guglielmo  1790        BS   \n",
       "5163650       1890  Tavernole sul Mella Monte Guglielmo  1790        BS   \n",
       "\n",
       "                       datastart storico cgb_nord cgb_est                 lng  \\\n",
       "8910     1987-11-24T00:00:00.000       N  5133847  604242  10.354811516997314   \n",
       "8911     1987-11-24T00:00:00.000       N  5133847  604242  10.354811516997314   \n",
       "8912     1987-11-24T00:00:00.000       N  5133847  604242  10.354811516997314   \n",
       "8913     1987-11-24T00:00:00.000       N  5133847  604242  10.354811516997314   \n",
       "8914     1987-11-24T00:00:00.000       N  5133847  604242  10.354811516997314   \n",
       "...                          ...     ...      ...     ...                 ...   \n",
       "5163646  2019-10-14T00:00:00.000       N  5067376  591417  10.175407094582125   \n",
       "5163647  2019-10-14T00:00:00.000       N  5067376  591417  10.175407094582125   \n",
       "5163648  2019-10-14T00:00:00.000       N  5067376  591417  10.175407094582125   \n",
       "5163649  2019-10-14T00:00:00.000       N  5067376  591417  10.175407094582125   \n",
       "5163650  2019-10-14T00:00:00.000       N  5067376  591417  10.175407094582125   \n",
       "\n",
       "                       lat                                           location  \\\n",
       "8910     46.35017157750056  {'latitude': '46.35017157750056', 'longitude':...   \n",
       "8911     46.35017157750056  {'latitude': '46.35017157750056', 'longitude':...   \n",
       "8912     46.35017157750056  {'latitude': '46.35017157750056', 'longitude':...   \n",
       "8913     46.35017157750056  {'latitude': '46.35017157750056', 'longitude':...   \n",
       "8914     46.35017157750056  {'latitude': '46.35017157750056', 'longitude':...   \n",
       "...                    ...                                                ...   \n",
       "5163646  45.75389593743312  {'latitude': '45.75389593743312', 'longitude':...   \n",
       "5163647  45.75389593743312  {'latitude': '45.75389593743312', 'longitude':...   \n",
       "5163648  45.75389593743312  {'latitude': '45.75389593743312', 'longitude':...   \n",
       "5163649  45.75389593743312  {'latitude': '45.75389593743312', 'longitude':...   \n",
       "5163650  45.75389593743312  {'latitude': '45.75389593743312', 'longitude':...   \n",
       "\n",
       "        :@computed_region_6hky_swhk :@computed_region_ttgh_9sm5 datastop  \n",
       "8910                              3                           3      NaN  \n",
       "8911                              3                           3      NaN  \n",
       "8912                              3                           3      NaN  \n",
       "8913                              3                           3      NaN  \n",
       "8914                              3                           3      NaN  \n",
       "...                             ...                         ...      ...  \n",
       "5163646                           6                           6      NaN  \n",
       "5163647                           6                           6      NaN  \n",
       "5163648                           6                           6      NaN  \n",
       "5163649                           6                           6      NaN  \n",
       "5163650                           6                           6      NaN  \n",
       "\n",
       "[966916 rows x 19 columns]"
      ]
     },
     "execution_count": 97,
     "metadata": {},
     "output_type": "execute_result"
    }
   ],
   "source": [
    "prec_st"
   ]
  },
  {
   "cell_type": "code",
   "execution_count": 98,
   "id": "b09d0ebb-084e-4c51-822c-097306d058ef",
   "metadata": {},
   "outputs": [],
   "source": [
    "# Remove Outliers\n",
    "# For precipitation values less than 100 mm/h\n",
    "prec_st = prec_st[prec_st.valore < 100]\n",
    "\n",
    "# For temperature using a Z-Score with high threshold\n",
    "threshold = 4\n",
    "temp_st['zscore'] = np.abs(stats.zscore(temp_st['valore'], nan_policy='propagate'))\n",
    "temp_st = temp_st[temp_st.zscore < threshold]"
   ]
  },
  {
   "cell_type": "markdown",
   "id": "cdf76818-0d2a-441d-a778-9d26177b7b6c",
   "metadata": {},
   "source": [
    "Create month precipitation and temperature dataframes:"
   ]
  },
  {
   "cell_type": "code",
   "execution_count": 99,
   "id": "f65239f8-7625-4562-930b-f68f4fa4dc9e",
   "metadata": {},
   "outputs": [],
   "source": [
    "prec_st['data'] = pd.to_datetime(prec_st['data'], format='%Y-%m-%d hh:mm:ss')\n",
    "temp_st['data'] = pd.to_datetime(temp_st['data'], format='%Y-%m-%d hh:mm:ss')"
   ]
  },
  {
   "cell_type": "code",
   "execution_count": 100,
   "id": "8da69bad-f941-49a8-a4b2-a7e621fefe56",
   "metadata": {},
   "outputs": [],
   "source": [
    "# Precipitation\n",
    "prec_mean = prec_st.groupby(pd.Grouper(freq='D', key='data')).mean()\n",
    "prec_mean = prec_mean.drop(columns=['idsensore'])\n",
    "prec_mean['data'] = prec_mean.index\n",
    "\n",
    "#Temperature\n",
    "temp_mean = temp_st.groupby(pd.Grouper(freq='D', key='data')).mean()\n",
    "temp_mean = temp_mean.drop(columns=['idsensore'])\n",
    "temp_mean['data'] = temp_mean.index"
   ]
  },
  {
   "cell_type": "markdown",
   "id": "ea93c92a-50f9-4cab-bba4-1b1d8238483b",
   "metadata": {},
   "source": [
    "## Plot mean temperature and precipitation for all ARPA sensor over Lombardy region"
   ]
  },
  {
   "cell_type": "code",
   "execution_count": 101,
   "id": "9c22f05a-37de-446c-b6c8-3908f1220f1f",
   "metadata": {},
   "outputs": [
    {
     "data": {
      "application/vnd.plotly.v1+json": {
       "config": {
        "plotlyServerURL": "https://plot.ly"
       },
       "data": [
        {
         "name": "Daily mean precipitation",
         "type": "scatter",
         "x": [
          "2021-10-01T00:00:00",
          "2021-10-02T00:00:00",
          "2021-10-03T00:00:00",
          "2021-10-04T00:00:00",
          "2021-10-05T00:00:00",
          "2021-10-06T00:00:00",
          "2021-10-07T00:00:00",
          "2021-10-08T00:00:00",
          "2021-10-09T00:00:00",
          "2021-10-10T00:00:00",
          "2021-10-11T00:00:00",
          "2021-10-12T00:00:00",
          "2021-10-13T00:00:00",
          "2021-10-14T00:00:00",
          "2021-10-15T00:00:00",
          "2021-10-16T00:00:00",
          "2021-10-17T00:00:00",
          "2021-10-18T00:00:00",
          "2021-10-19T00:00:00",
          "2021-10-20T00:00:00",
          "2021-10-21T00:00:00",
          "2021-10-22T00:00:00",
          "2021-10-23T00:00:00",
          "2021-10-24T00:00:00",
          "2021-10-25T00:00:00",
          "2021-10-26T00:00:00",
          "2021-10-27T00:00:00",
          "2021-10-28T00:00:00",
          "2021-10-29T00:00:00",
          "2021-10-30T00:00:00",
          "2021-10-31T00:00:00"
         ],
         "xaxis": "x",
         "y": [
          0.0009028622654799257,
          0.00014098045498237745,
          0.05629940158085059,
          0.29320223277300145,
          0.16170950043315044,
          0.11085890160623257,
          0.0018506067300611533,
          0.00181975458943389,
          0.000749063670411985,
          2.5600000000000002e-05,
          0.00042277880981359304,
          0.0003276371579082616,
          0.0002315633743929502,
          1.926101890790023e-05,
          0.00014722355576892305,
          0.0001536344141087604,
          0.00011523687580025608,
          0.0001473414477898783,
          0.0004044943820224719,
          0.0040744305421880015,
          0.030856886783393617,
          0.0011124198403350348,
          0.0002689118673368121,
          9.616309260505818e-05,
          5.121474984795622e-05,
          0.0001792114695340502,
          0.00010892199263174757,
          0.00011530331176734354,
          0.00014723769284936944,
          0.007777991165738429,
          0.007643312101910828
         ],
         "yaxis": "y"
        },
        {
         "name": "Daily mean temperature",
         "type": "scatter",
         "x": [
          "2021-10-01T00:00:00",
          "2021-10-02T00:00:00",
          "2021-10-03T00:00:00",
          "2021-10-04T00:00:00",
          "2021-10-05T00:00:00",
          "2021-10-06T00:00:00",
          "2021-10-07T00:00:00",
          "2021-10-08T00:00:00",
          "2021-10-09T00:00:00",
          "2021-10-10T00:00:00",
          "2021-10-11T00:00:00",
          "2021-10-12T00:00:00",
          "2021-10-13T00:00:00",
          "2021-10-14T00:00:00",
          "2021-10-15T00:00:00",
          "2021-10-16T00:00:00",
          "2021-10-17T00:00:00",
          "2021-10-18T00:00:00",
          "2021-10-19T00:00:00",
          "2021-10-20T00:00:00",
          "2021-10-21T00:00:00",
          "2021-10-22T00:00:00",
          "2021-10-23T00:00:00",
          "2021-10-24T00:00:00",
          "2021-10-25T00:00:00",
          "2021-10-26T00:00:00",
          "2021-10-27T00:00:00",
          "2021-10-28T00:00:00",
          "2021-10-29T00:00:00",
          "2021-10-30T00:00:00",
          "2021-10-31T00:00:00"
         ],
         "xaxis": "x",
         "y": [
          14.31876359868762,
          14.596692243882206,
          14.428154770122877,
          15.039728869829851,
          13.722063027260685,
          11.31379466778336,
          11.912954845891601,
          12.364193939393939,
          11.364342932117946,
          9.905243717205192,
          10.13408407889737,
          10.049280973451326,
          9.537127567754187,
          8.16086896456448,
          8.45085962853,
          9.41946985124081,
          9.445984670625604,
          10.328021712073019,
          10.847701846143188,
          11.226333275653229,
          11.257648764324173,
          10.730535159559446,
          9.933188375785187,
          9.719378370903057,
          8.325926181680074,
          7.833502467985227,
          8.670116331250647,
          8.745542776223536,
          8.66466972825524,
          8.037708879988951,
          8.921101139109423
         ],
         "yaxis": "y2"
        }
       ],
       "layout": {
        "autosize": true,
        "template": {
         "data": {
          "bar": [
           {
            "error_x": {
             "color": "#2a3f5f"
            },
            "error_y": {
             "color": "#2a3f5f"
            },
            "marker": {
             "line": {
              "color": "#E5ECF6",
              "width": 0.5
             },
             "pattern": {
              "fillmode": "overlay",
              "size": 10,
              "solidity": 0.2
             }
            },
            "type": "bar"
           }
          ],
          "barpolar": [
           {
            "marker": {
             "line": {
              "color": "#E5ECF6",
              "width": 0.5
             },
             "pattern": {
              "fillmode": "overlay",
              "size": 10,
              "solidity": 0.2
             }
            },
            "type": "barpolar"
           }
          ],
          "carpet": [
           {
            "aaxis": {
             "endlinecolor": "#2a3f5f",
             "gridcolor": "white",
             "linecolor": "white",
             "minorgridcolor": "white",
             "startlinecolor": "#2a3f5f"
            },
            "baxis": {
             "endlinecolor": "#2a3f5f",
             "gridcolor": "white",
             "linecolor": "white",
             "minorgridcolor": "white",
             "startlinecolor": "#2a3f5f"
            },
            "type": "carpet"
           }
          ],
          "choropleth": [
           {
            "colorbar": {
             "outlinewidth": 0,
             "ticks": ""
            },
            "type": "choropleth"
           }
          ],
          "contour": [
           {
            "colorbar": {
             "outlinewidth": 0,
             "ticks": ""
            },
            "colorscale": [
             [
              0,
              "#0d0887"
             ],
             [
              0.1111111111111111,
              "#46039f"
             ],
             [
              0.2222222222222222,
              "#7201a8"
             ],
             [
              0.3333333333333333,
              "#9c179e"
             ],
             [
              0.4444444444444444,
              "#bd3786"
             ],
             [
              0.5555555555555556,
              "#d8576b"
             ],
             [
              0.6666666666666666,
              "#ed7953"
             ],
             [
              0.7777777777777778,
              "#fb9f3a"
             ],
             [
              0.8888888888888888,
              "#fdca26"
             ],
             [
              1,
              "#f0f921"
             ]
            ],
            "type": "contour"
           }
          ],
          "contourcarpet": [
           {
            "colorbar": {
             "outlinewidth": 0,
             "ticks": ""
            },
            "type": "contourcarpet"
           }
          ],
          "heatmap": [
           {
            "colorbar": {
             "outlinewidth": 0,
             "ticks": ""
            },
            "colorscale": [
             [
              0,
              "#0d0887"
             ],
             [
              0.1111111111111111,
              "#46039f"
             ],
             [
              0.2222222222222222,
              "#7201a8"
             ],
             [
              0.3333333333333333,
              "#9c179e"
             ],
             [
              0.4444444444444444,
              "#bd3786"
             ],
             [
              0.5555555555555556,
              "#d8576b"
             ],
             [
              0.6666666666666666,
              "#ed7953"
             ],
             [
              0.7777777777777778,
              "#fb9f3a"
             ],
             [
              0.8888888888888888,
              "#fdca26"
             ],
             [
              1,
              "#f0f921"
             ]
            ],
            "type": "heatmap"
           }
          ],
          "heatmapgl": [
           {
            "colorbar": {
             "outlinewidth": 0,
             "ticks": ""
            },
            "colorscale": [
             [
              0,
              "#0d0887"
             ],
             [
              0.1111111111111111,
              "#46039f"
             ],
             [
              0.2222222222222222,
              "#7201a8"
             ],
             [
              0.3333333333333333,
              "#9c179e"
             ],
             [
              0.4444444444444444,
              "#bd3786"
             ],
             [
              0.5555555555555556,
              "#d8576b"
             ],
             [
              0.6666666666666666,
              "#ed7953"
             ],
             [
              0.7777777777777778,
              "#fb9f3a"
             ],
             [
              0.8888888888888888,
              "#fdca26"
             ],
             [
              1,
              "#f0f921"
             ]
            ],
            "type": "heatmapgl"
           }
          ],
          "histogram": [
           {
            "marker": {
             "pattern": {
              "fillmode": "overlay",
              "size": 10,
              "solidity": 0.2
             }
            },
            "type": "histogram"
           }
          ],
          "histogram2d": [
           {
            "colorbar": {
             "outlinewidth": 0,
             "ticks": ""
            },
            "colorscale": [
             [
              0,
              "#0d0887"
             ],
             [
              0.1111111111111111,
              "#46039f"
             ],
             [
              0.2222222222222222,
              "#7201a8"
             ],
             [
              0.3333333333333333,
              "#9c179e"
             ],
             [
              0.4444444444444444,
              "#bd3786"
             ],
             [
              0.5555555555555556,
              "#d8576b"
             ],
             [
              0.6666666666666666,
              "#ed7953"
             ],
             [
              0.7777777777777778,
              "#fb9f3a"
             ],
             [
              0.8888888888888888,
              "#fdca26"
             ],
             [
              1,
              "#f0f921"
             ]
            ],
            "type": "histogram2d"
           }
          ],
          "histogram2dcontour": [
           {
            "colorbar": {
             "outlinewidth": 0,
             "ticks": ""
            },
            "colorscale": [
             [
              0,
              "#0d0887"
             ],
             [
              0.1111111111111111,
              "#46039f"
             ],
             [
              0.2222222222222222,
              "#7201a8"
             ],
             [
              0.3333333333333333,
              "#9c179e"
             ],
             [
              0.4444444444444444,
              "#bd3786"
             ],
             [
              0.5555555555555556,
              "#d8576b"
             ],
             [
              0.6666666666666666,
              "#ed7953"
             ],
             [
              0.7777777777777778,
              "#fb9f3a"
             ],
             [
              0.8888888888888888,
              "#fdca26"
             ],
             [
              1,
              "#f0f921"
             ]
            ],
            "type": "histogram2dcontour"
           }
          ],
          "mesh3d": [
           {
            "colorbar": {
             "outlinewidth": 0,
             "ticks": ""
            },
            "type": "mesh3d"
           }
          ],
          "parcoords": [
           {
            "line": {
             "colorbar": {
              "outlinewidth": 0,
              "ticks": ""
             }
            },
            "type": "parcoords"
           }
          ],
          "pie": [
           {
            "automargin": true,
            "type": "pie"
           }
          ],
          "scatter": [
           {
            "marker": {
             "colorbar": {
              "outlinewidth": 0,
              "ticks": ""
             }
            },
            "type": "scatter"
           }
          ],
          "scatter3d": [
           {
            "line": {
             "colorbar": {
              "outlinewidth": 0,
              "ticks": ""
             }
            },
            "marker": {
             "colorbar": {
              "outlinewidth": 0,
              "ticks": ""
             }
            },
            "type": "scatter3d"
           }
          ],
          "scattercarpet": [
           {
            "marker": {
             "colorbar": {
              "outlinewidth": 0,
              "ticks": ""
             }
            },
            "type": "scattercarpet"
           }
          ],
          "scattergeo": [
           {
            "marker": {
             "colorbar": {
              "outlinewidth": 0,
              "ticks": ""
             }
            },
            "type": "scattergeo"
           }
          ],
          "scattergl": [
           {
            "marker": {
             "colorbar": {
              "outlinewidth": 0,
              "ticks": ""
             }
            },
            "type": "scattergl"
           }
          ],
          "scattermapbox": [
           {
            "marker": {
             "colorbar": {
              "outlinewidth": 0,
              "ticks": ""
             }
            },
            "type": "scattermapbox"
           }
          ],
          "scatterpolar": [
           {
            "marker": {
             "colorbar": {
              "outlinewidth": 0,
              "ticks": ""
             }
            },
            "type": "scatterpolar"
           }
          ],
          "scatterpolargl": [
           {
            "marker": {
             "colorbar": {
              "outlinewidth": 0,
              "ticks": ""
             }
            },
            "type": "scatterpolargl"
           }
          ],
          "scatterternary": [
           {
            "marker": {
             "colorbar": {
              "outlinewidth": 0,
              "ticks": ""
             }
            },
            "type": "scatterternary"
           }
          ],
          "surface": [
           {
            "colorbar": {
             "outlinewidth": 0,
             "ticks": ""
            },
            "colorscale": [
             [
              0,
              "#0d0887"
             ],
             [
              0.1111111111111111,
              "#46039f"
             ],
             [
              0.2222222222222222,
              "#7201a8"
             ],
             [
              0.3333333333333333,
              "#9c179e"
             ],
             [
              0.4444444444444444,
              "#bd3786"
             ],
             [
              0.5555555555555556,
              "#d8576b"
             ],
             [
              0.6666666666666666,
              "#ed7953"
             ],
             [
              0.7777777777777778,
              "#fb9f3a"
             ],
             [
              0.8888888888888888,
              "#fdca26"
             ],
             [
              1,
              "#f0f921"
             ]
            ],
            "type": "surface"
           }
          ],
          "table": [
           {
            "cells": {
             "fill": {
              "color": "#EBF0F8"
             },
             "line": {
              "color": "white"
             }
            },
            "header": {
             "fill": {
              "color": "#C8D4E3"
             },
             "line": {
              "color": "white"
             }
            },
            "type": "table"
           }
          ]
         },
         "layout": {
          "annotationdefaults": {
           "arrowcolor": "#2a3f5f",
           "arrowhead": 0,
           "arrowwidth": 1
          },
          "autotypenumbers": "strict",
          "coloraxis": {
           "colorbar": {
            "outlinewidth": 0,
            "ticks": ""
           }
          },
          "colorscale": {
           "diverging": [
            [
             0,
             "#8e0152"
            ],
            [
             0.1,
             "#c51b7d"
            ],
            [
             0.2,
             "#de77ae"
            ],
            [
             0.3,
             "#f1b6da"
            ],
            [
             0.4,
             "#fde0ef"
            ],
            [
             0.5,
             "#f7f7f7"
            ],
            [
             0.6,
             "#e6f5d0"
            ],
            [
             0.7,
             "#b8e186"
            ],
            [
             0.8,
             "#7fbc41"
            ],
            [
             0.9,
             "#4d9221"
            ],
            [
             1,
             "#276419"
            ]
           ],
           "sequential": [
            [
             0,
             "#0d0887"
            ],
            [
             0.1111111111111111,
             "#46039f"
            ],
            [
             0.2222222222222222,
             "#7201a8"
            ],
            [
             0.3333333333333333,
             "#9c179e"
            ],
            [
             0.4444444444444444,
             "#bd3786"
            ],
            [
             0.5555555555555556,
             "#d8576b"
            ],
            [
             0.6666666666666666,
             "#ed7953"
            ],
            [
             0.7777777777777778,
             "#fb9f3a"
            ],
            [
             0.8888888888888888,
             "#fdca26"
            ],
            [
             1,
             "#f0f921"
            ]
           ],
           "sequentialminus": [
            [
             0,
             "#0d0887"
            ],
            [
             0.1111111111111111,
             "#46039f"
            ],
            [
             0.2222222222222222,
             "#7201a8"
            ],
            [
             0.3333333333333333,
             "#9c179e"
            ],
            [
             0.4444444444444444,
             "#bd3786"
            ],
            [
             0.5555555555555556,
             "#d8576b"
            ],
            [
             0.6666666666666666,
             "#ed7953"
            ],
            [
             0.7777777777777778,
             "#fb9f3a"
            ],
            [
             0.8888888888888888,
             "#fdca26"
            ],
            [
             1,
             "#f0f921"
            ]
           ]
          },
          "colorway": [
           "#636efa",
           "#EF553B",
           "#00cc96",
           "#ab63fa",
           "#FFA15A",
           "#19d3f3",
           "#FF6692",
           "#B6E880",
           "#FF97FF",
           "#FECB52"
          ],
          "font": {
           "color": "#2a3f5f"
          },
          "geo": {
           "bgcolor": "white",
           "lakecolor": "white",
           "landcolor": "#E5ECF6",
           "showlakes": true,
           "showland": true,
           "subunitcolor": "white"
          },
          "hoverlabel": {
           "align": "left"
          },
          "hovermode": "closest",
          "mapbox": {
           "style": "light"
          },
          "paper_bgcolor": "white",
          "plot_bgcolor": "#E5ECF6",
          "polar": {
           "angularaxis": {
            "gridcolor": "white",
            "linecolor": "white",
            "ticks": ""
           },
           "bgcolor": "#E5ECF6",
           "radialaxis": {
            "gridcolor": "white",
            "linecolor": "white",
            "ticks": ""
           }
          },
          "scene": {
           "xaxis": {
            "backgroundcolor": "#E5ECF6",
            "gridcolor": "white",
            "gridwidth": 2,
            "linecolor": "white",
            "showbackground": true,
            "ticks": "",
            "zerolinecolor": "white"
           },
           "yaxis": {
            "backgroundcolor": "#E5ECF6",
            "gridcolor": "white",
            "gridwidth": 2,
            "linecolor": "white",
            "showbackground": true,
            "ticks": "",
            "zerolinecolor": "white"
           },
           "zaxis": {
            "backgroundcolor": "#E5ECF6",
            "gridcolor": "white",
            "gridwidth": 2,
            "linecolor": "white",
            "showbackground": true,
            "ticks": "",
            "zerolinecolor": "white"
           }
          },
          "shapedefaults": {
           "line": {
            "color": "#2a3f5f"
           }
          },
          "ternary": {
           "aaxis": {
            "gridcolor": "white",
            "linecolor": "white",
            "ticks": ""
           },
           "baxis": {
            "gridcolor": "white",
            "linecolor": "white",
            "ticks": ""
           },
           "bgcolor": "#E5ECF6",
           "caxis": {
            "gridcolor": "white",
            "linecolor": "white",
            "ticks": ""
           }
          },
          "title": {
           "x": 0.05
          },
          "xaxis": {
           "automargin": true,
           "gridcolor": "white",
           "linecolor": "white",
           "ticks": "",
           "title": {
            "standoff": 15
           },
           "zerolinecolor": "white",
           "zerolinewidth": 2
          },
          "yaxis": {
           "automargin": true,
           "gridcolor": "white",
           "linecolor": "white",
           "ticks": "",
           "title": {
            "standoff": 15
           },
           "zerolinecolor": "white",
           "zerolinewidth": 2
          }
         }
        },
        "title": {
         "text": "Daily mean temperature and precipitation from ARPA ground sensors - 1 Month time range - October 2021"
        },
        "xaxis": {
         "anchor": "y",
         "autorange": true,
         "domain": [
          0,
          0.94
         ],
         "range": [
          "2021-10-01",
          "2021-10-31"
         ],
         "title": {
          "text": "Date"
         },
         "type": "date"
        },
        "yaxis": {
         "anchor": "x",
         "autorange": true,
         "domain": [
          0,
          1
         ],
         "range": [
          -0.01626868185631952,
          0.3094901756482289
         ],
         "title": {
          "text": "<b>Mean precipitation (mm/h)</b>"
         },
         "type": "linear"
        },
        "yaxis2": {
         "anchor": "x",
         "autorange": true,
         "overlaying": "y",
         "range": [
          7.433156556771636,
          15.44007478104344
         ],
         "side": "right",
         "title": {
          "text": "<b>Mean temperature (°C)</b>"
         },
         "type": "linear"
        }
       }
      },
      "image/png": "[encoded data removed]",
      "text/html": [
       "<div>                            <div id=\"40a850bc-2841-4011-ba75-4e7699e65ff6\" class=\"plotly-graph-div\" style=\"height:525px; width:100%;\"></div>            <script type=\"text/javascript\">                require([\"plotly\"], function(Plotly) {                    window.PLOTLYENV=window.PLOTLYENV || {};                                    if (document.getElementById(\"40a850bc-2841-4011-ba75-4e7699e65ff6\")) {                    Plotly.newPlot(                        \"40a850bc-2841-4011-ba75-4e7699e65ff6\",                        [{\"name\":\"Daily mean precipitation\",\"x\":[\"2021-10-01T00:00:00\",\"2021-10-02T00:00:00\",\"2021-10-03T00:00:00\",\"2021-10-04T00:00:00\",\"2021-10-05T00:00:00\",\"2021-10-06T00:00:00\",\"2021-10-07T00:00:00\",\"2021-10-08T00:00:00\",\"2021-10-09T00:00:00\",\"2021-10-10T00:00:00\",\"2021-10-11T00:00:00\",\"2021-10-12T00:00:00\",\"2021-10-13T00:00:00\",\"2021-10-14T00:00:00\",\"2021-10-15T00:00:00\",\"2021-10-16T00:00:00\",\"2021-10-17T00:00:00\",\"2021-10-18T00:00:00\",\"2021-10-19T00:00:00\",\"2021-10-20T00:00:00\",\"2021-10-21T00:00:00\",\"2021-10-22T00:00:00\",\"2021-10-23T00:00:00\",\"2021-10-24T00:00:00\",\"2021-10-25T00:00:00\",\"2021-10-26T00:00:00\",\"2021-10-27T00:00:00\",\"2021-10-28T00:00:00\",\"2021-10-29T00:00:00\",\"2021-10-30T00:00:00\",\"2021-10-31T00:00:00\"],\"y\":[0.0009028622654799257,0.00014098045498237745,0.05629940158085059,0.29320223277300145,0.16170950043315044,0.11085890160623257,0.0018506067300611533,0.00181975458943389,0.000749063670411985,2.5600000000000002e-05,0.00042277880981359304,0.0003276371579082616,0.0002315633743929502,1.926101890790023e-05,0.00014722355576892305,0.0001536344141087604,0.00011523687580025608,0.0001473414477898783,0.0004044943820224719,0.0040744305421880015,0.030856886783393617,0.0011124198403350348,0.0002689118673368121,9.616309260505818e-05,5.121474984795622e-05,0.0001792114695340502,0.00010892199263174757,0.00011530331176734354,0.00014723769284936944,0.007777991165738429,0.007643312101910828],\"type\":\"scatter\",\"xaxis\":\"x\",\"yaxis\":\"y\"},{\"name\":\"Daily mean temperature\",\"x\":[\"2021-10-01T00:00:00\",\"2021-10-02T00:00:00\",\"2021-10-03T00:00:00\",\"2021-10-04T00:00:00\",\"2021-10-05T00:00:00\",\"2021-10-06T00:00:00\",\"2021-10-07T00:00:00\",\"2021-10-08T00:00:00\",\"2021-10-09T00:00:00\",\"2021-10-10T00:00:00\",\"2021-10-11T00:00:00\",\"2021-10-12T00:00:00\",\"2021-10-13T00:00:00\",\"2021-10-14T00:00:00\",\"2021-10-15T00:00:00\",\"2021-10-16T00:00:00\",\"2021-10-17T00:00:00\",\"2021-10-18T00:00:00\",\"2021-10-19T00:00:00\",\"2021-10-20T00:00:00\",\"2021-10-21T00:00:00\",\"2021-10-22T00:00:00\",\"2021-10-23T00:00:00\",\"2021-10-24T00:00:00\",\"2021-10-25T00:00:00\",\"2021-10-26T00:00:00\",\"2021-10-27T00:00:00\",\"2021-10-28T00:00:00\",\"2021-10-29T00:00:00\",\"2021-10-30T00:00:00\",\"2021-10-31T00:00:00\"],\"y\":[14.31876359868762,14.596692243882206,14.428154770122877,15.039728869829851,13.722063027260685,11.31379466778336,11.912954845891601,12.364193939393939,11.364342932117946,9.905243717205192,10.13408407889737,10.049280973451326,9.537127567754187,8.16086896456448,8.45085962853,9.41946985124081,9.445984670625604,10.328021712073019,10.847701846143188,11.226333275653229,11.257648764324173,10.730535159559446,9.933188375785187,9.719378370903057,8.325926181680074,7.833502467985227,8.670116331250647,8.745542776223536,8.66466972825524,8.037708879988951,8.921101139109423],\"type\":\"scatter\",\"xaxis\":\"x\",\"yaxis\":\"y2\"}],                        {\"template\":{\"data\":{\"bar\":[{\"error_x\":{\"color\":\"#2a3f5f\"},\"error_y\":{\"color\":\"#2a3f5f\"},\"marker\":{\"line\":{\"color\":\"#E5ECF6\",\"width\":0.5},\"pattern\":{\"fillmode\":\"overlay\",\"size\":10,\"solidity\":0.2}},\"type\":\"bar\"}],\"barpolar\":[{\"marker\":{\"line\":{\"color\":\"#E5ECF6\",\"width\":0.5},\"pattern\":{\"fillmode\":\"overlay\",\"size\":10,\"solidity\":0.2}},\"type\":\"barpolar\"}],\"carpet\":[{\"aaxis\":{\"endlinecolor\":\"#2a3f5f\",\"gridcolor\":\"white\",\"linecolor\":\"white\",\"minorgridcolor\":\"white\",\"startlinecolor\":\"#2a3f5f\"},\"baxis\":{\"endlinecolor\":\"#2a3f5f\",\"gridcolor\":\"white\",\"linecolor\":\"white\",\"minorgridcolor\":\"white\",\"startlinecolor\":\"#2a3f5f\"},\"type\":\"carpet\"}],\"choropleth\":[{\"colorbar\":{\"outlinewidth\":0,\"ticks\":\"\"},\"type\":\"choropleth\"}],\"contour\":[{\"colorbar\":{\"outlinewidth\":0,\"ticks\":\"\"},\"colorscale\":[[0.0,\"#0d0887\"],[0.1111111111111111,\"#46039f\"],[0.2222222222222222,\"#7201a8\"],[0.3333333333333333,\"#9c179e\"],[0.4444444444444444,\"#bd3786\"],[0.5555555555555556,\"#d8576b\"],[0.6666666666666666,\"#ed7953\"],[0.7777777777777778,\"#fb9f3a\"],[0.8888888888888888,\"#fdca26\"],[1.0,\"#f0f921\"]],\"type\":\"contour\"}],\"contourcarpet\":[{\"colorbar\":{\"outlinewidth\":0,\"ticks\":\"\"},\"type\":\"contourcarpet\"}],\"heatmap\":[{\"colorbar\":{\"outlinewidth\":0,\"ticks\":\"\"},\"colorscale\":[[0.0,\"#0d0887\"],[0.1111111111111111,\"#46039f\"],[0.2222222222222222,\"#7201a8\"],[0.3333333333333333,\"#9c179e\"],[0.4444444444444444,\"#bd3786\"],[0.5555555555555556,\"#d8576b\"],[0.6666666666666666,\"#ed7953\"],[0.7777777777777778,\"#fb9f3a\"],[0.8888888888888888,\"#fdca26\"],[1.0,\"#f0f921\"]],\"type\":\"heatmap\"}],\"heatmapgl\":[{\"colorbar\":{\"outlinewidth\":0,\"ticks\":\"\"},\"colorscale\":[[0.0,\"#0d0887\"],[0.1111111111111111,\"#46039f\"],[0.2222222222222222,\"#7201a8\"],[0.3333333333333333,\"#9c179e\"],[0.4444444444444444,\"#bd3786\"],[0.5555555555555556,\"#d8576b\"],[0.6666666666666666,\"#ed7953\"],[0.7777777777777778,\"#fb9f3a\"],[0.8888888888888888,\"#fdca26\"],[1.0,\"#f0f921\"]],\"type\":\"heatmapgl\"}],\"histogram\":[{\"marker\":{\"pattern\":{\"fillmode\":\"overlay\",\"size\":10,\"solidity\":0.2}},\"type\":\"histogram\"}],\"histogram2d\":[{\"colorbar\":{\"outlinewidth\":0,\"ticks\":\"\"},\"colorscale\":[[0.0,\"#0d0887\"],[0.1111111111111111,\"#46039f\"],[0.2222222222222222,\"#7201a8\"],[0.3333333333333333,\"#9c179e\"],[0.4444444444444444,\"#bd3786\"],[0.5555555555555556,\"#d8576b\"],[0.6666666666666666,\"#ed7953\"],[0.7777777777777778,\"#fb9f3a\"],[0.8888888888888888,\"#fdca26\"],[1.0,\"#f0f921\"]],\"type\":\"histogram2d\"}],\"histogram2dcontour\":[{\"colorbar\":{\"outlinewidth\":0,\"ticks\":\"\"},\"colorscale\":[[0.0,\"#0d0887\"],[0.1111111111111111,\"#46039f\"],[0.2222222222222222,\"#7201a8\"],[0.3333333333333333,\"#9c179e\"],[0.4444444444444444,\"#bd3786\"],[0.5555555555555556,\"#d8576b\"],[0.6666666666666666,\"#ed7953\"],[0.7777777777777778,\"#fb9f3a\"],[0.8888888888888888,\"#fdca26\"],[1.0,\"#f0f921\"]],\"type\":\"histogram2dcontour\"}],\"mesh3d\":[{\"colorbar\":{\"outlinewidth\":0,\"ticks\":\"\"},\"type\":\"mesh3d\"}],\"parcoords\":[{\"line\":{\"colorbar\":{\"outlinewidth\":0,\"ticks\":\"\"}},\"type\":\"parcoords\"}],\"pie\":[{\"automargin\":true,\"type\":\"pie\"}],\"scatter\":[{\"marker\":{\"colorbar\":{\"outlinewidth\":0,\"ticks\":\"\"}},\"type\":\"scatter\"}],\"scatter3d\":[{\"line\":{\"colorbar\":{\"outlinewidth\":0,\"ticks\":\"\"}},\"marker\":{\"colorbar\":{\"outlinewidth\":0,\"ticks\":\"\"}},\"type\":\"scatter3d\"}],\"scattercarpet\":[{\"marker\":{\"colorbar\":{\"outlinewidth\":0,\"ticks\":\"\"}},\"type\":\"scattercarpet\"}],\"scattergeo\":[{\"marker\":{\"colorbar\":{\"outlinewidth\":0,\"ticks\":\"\"}},\"type\":\"scattergeo\"}],\"scattergl\":[{\"marker\":{\"colorbar\":{\"outlinewidth\":0,\"ticks\":\"\"}},\"type\":\"scattergl\"}],\"scattermapbox\":[{\"marker\":{\"colorbar\":{\"outlinewidth\":0,\"ticks\":\"\"}},\"type\":\"scattermapbox\"}],\"scatterpolar\":[{\"marker\":{\"colorbar\":{\"outlinewidth\":0,\"ticks\":\"\"}},\"type\":\"scatterpolar\"}],\"scatterpolargl\":[{\"marker\":{\"colorbar\":{\"outlinewidth\":0,\"ticks\":\"\"}},\"type\":\"scatterpolargl\"}],\"scatterternary\":[{\"marker\":{\"colorbar\":{\"outlinewidth\":0,\"ticks\":\"\"}},\"type\":\"scatterternary\"}],\"surface\":[{\"colorbar\":{\"outlinewidth\":0,\"ticks\":\"\"},\"colorscale\":[[0.0,\"#0d0887\"],[0.1111111111111111,\"#46039f\"],[0.2222222222222222,\"#7201a8\"],[0.3333333333333333,\"#9c179e\"],[0.4444444444444444,\"#bd3786\"],[0.5555555555555556,\"#d8576b\"],[0.6666666666666666,\"#ed7953\"],[0.7777777777777778,\"#fb9f3a\"],[0.8888888888888888,\"#fdca26\"],[1.0,\"#f0f921\"]],\"type\":\"surface\"}],\"table\":[{\"cells\":{\"fill\":{\"color\":\"#EBF0F8\"},\"line\":{\"color\":\"white\"}},\"header\":{\"fill\":{\"color\":\"#C8D4E3\"},\"line\":{\"color\":\"white\"}},\"type\":\"table\"}]},\"layout\":{\"annotationdefaults\":{\"arrowcolor\":\"#2a3f5f\",\"arrowhead\":0,\"arrowwidth\":1},\"autotypenumbers\":\"strict\",\"coloraxis\":{\"colorbar\":{\"outlinewidth\":0,\"ticks\":\"\"}},\"colorscale\":{\"diverging\":[[0,\"#8e0152\"],[0.1,\"#c51b7d\"],[0.2,\"#de77ae\"],[0.3,\"#f1b6da\"],[0.4,\"#fde0ef\"],[0.5,\"#f7f7f7\"],[0.6,\"#e6f5d0\"],[0.7,\"#b8e186\"],[0.8,\"#7fbc41\"],[0.9,\"#4d9221\"],[1,\"#276419\"]],\"sequential\":[[0.0,\"#0d0887\"],[0.1111111111111111,\"#46039f\"],[0.2222222222222222,\"#7201a8\"],[0.3333333333333333,\"#9c179e\"],[0.4444444444444444,\"#bd3786\"],[0.5555555555555556,\"#d8576b\"],[0.6666666666666666,\"#ed7953\"],[0.7777777777777778,\"#fb9f3a\"],[0.8888888888888888,\"#fdca26\"],[1.0,\"#f0f921\"]],\"sequentialminus\":[[0.0,\"#0d0887\"],[0.1111111111111111,\"#46039f\"],[0.2222222222222222,\"#7201a8\"],[0.3333333333333333,\"#9c179e\"],[0.4444444444444444,\"#bd3786\"],[0.5555555555555556,\"#d8576b\"],[0.6666666666666666,\"#ed7953\"],[0.7777777777777778,\"#fb9f3a\"],[0.8888888888888888,\"#fdca26\"],[1.0,\"#f0f921\"]]},\"colorway\":[\"#636efa\",\"#EF553B\",\"#00cc96\",\"#ab63fa\",\"#FFA15A\",\"#19d3f3\",\"#FF6692\",\"#B6E880\",\"#FF97FF\",\"#FECB52\"],\"font\":{\"color\":\"#2a3f5f\"},\"geo\":{\"bgcolor\":\"white\",\"lakecolor\":\"white\",\"landcolor\":\"#E5ECF6\",\"showlakes\":true,\"showland\":true,\"subunitcolor\":\"white\"},\"hoverlabel\":{\"align\":\"left\"},\"hovermode\":\"closest\",\"mapbox\":{\"style\":\"light\"},\"paper_bgcolor\":\"white\",\"plot_bgcolor\":\"#E5ECF6\",\"polar\":{\"angularaxis\":{\"gridcolor\":\"white\",\"linecolor\":\"white\",\"ticks\":\"\"},\"bgcolor\":\"#E5ECF6\",\"radialaxis\":{\"gridcolor\":\"white\",\"linecolor\":\"white\",\"ticks\":\"\"}},\"scene\":{\"xaxis\":{\"backgroundcolor\":\"#E5ECF6\",\"gridcolor\":\"white\",\"gridwidth\":2,\"linecolor\":\"white\",\"showbackground\":true,\"ticks\":\"\",\"zerolinecolor\":\"white\"},\"yaxis\":{\"backgroundcolor\":\"#E5ECF6\",\"gridcolor\":\"white\",\"gridwidth\":2,\"linecolor\":\"white\",\"showbackground\":true,\"ticks\":\"\",\"zerolinecolor\":\"white\"},\"zaxis\":{\"backgroundcolor\":\"#E5ECF6\",\"gridcolor\":\"white\",\"gridwidth\":2,\"linecolor\":\"white\",\"showbackground\":true,\"ticks\":\"\",\"zerolinecolor\":\"white\"}},\"shapedefaults\":{\"line\":{\"color\":\"#2a3f5f\"}},\"ternary\":{\"aaxis\":{\"gridcolor\":\"white\",\"linecolor\":\"white\",\"ticks\":\"\"},\"baxis\":{\"gridcolor\":\"white\",\"linecolor\":\"white\",\"ticks\":\"\"},\"bgcolor\":\"#E5ECF6\",\"caxis\":{\"gridcolor\":\"white\",\"linecolor\":\"white\",\"ticks\":\"\"}},\"title\":{\"x\":0.05},\"xaxis\":{\"automargin\":true,\"gridcolor\":\"white\",\"linecolor\":\"white\",\"ticks\":\"\",\"title\":{\"standoff\":15},\"zerolinecolor\":\"white\",\"zerolinewidth\":2},\"yaxis\":{\"automargin\":true,\"gridcolor\":\"white\",\"linecolor\":\"white\",\"ticks\":\"\",\"title\":{\"standoff\":15},\"zerolinecolor\":\"white\",\"zerolinewidth\":2}}},\"xaxis\":{\"anchor\":\"y\",\"domain\":[0.0,0.94],\"title\":{\"text\":\"Date\"}},\"yaxis\":{\"anchor\":\"x\",\"domain\":[0.0,1.0],\"title\":{\"text\":\"<b>Mean precipitation (mm/h)</b>\"}},\"yaxis2\":{\"anchor\":\"x\",\"overlaying\":\"y\",\"side\":\"right\",\"title\":{\"text\":\"<b>Mean temperature (\\u00b0C)</b>\"}},\"title\":{\"text\":\"Daily mean temperature and precipitation from ARPA ground sensors - 1 Month time range - October 2021\"}},                        {\"responsive\": true}                    ).then(function(){\n",
       "                            \n",
       "var gd = document.getElementById('40a850bc-2841-4011-ba75-4e7699e65ff6');\n",
       "var x = new MutationObserver(function (mutations, observer) {{\n",
       "        var display = window.getComputedStyle(gd).display;\n",
       "        if (!display || display === 'none') {{\n",
       "            console.log([gd, 'removed!']);\n",
       "            Plotly.purge(gd);\n",
       "            observer.disconnect();\n",
       "        }}\n",
       "}});\n",
       "\n",
       "// Listen for the removal of the full notebook cells\n",
       "var notebookContainer = gd.closest('#notebook-container');\n",
       "if (notebookContainer) {{\n",
       "    x.observe(notebookContainer, {childList: true});\n",
       "}}\n",
       "\n",
       "// Listen for the clearing of the current output cell\n",
       "var outputEl = gd.closest('.output');\n",
       "if (outputEl) {{\n",
       "    x.observe(outputEl, {childList: true});\n",
       "}}\n",
       "\n",
       "                        })                };                });            </script>        </div>"
      ]
     },
     "metadata": {},
     "output_type": "display_data"
    }
   ],
   "source": [
    "import matplotlib.pyplot as plt\n",
    "import plotly.graph_objects as go\n",
    "from plotly.subplots import make_subplots\n",
    "\n",
    "fig = make_subplots(specs=[[{\"secondary_y\": True}]])\n",
    "\n",
    "# Add traces\n",
    "fig.add_trace(\n",
    "    go.Scatter(x=prec_mean.index, y=prec_mean.valore, name=\"Daily mean precipitation\"),\n",
    "    secondary_y=False,\n",
    ")\n",
    "\n",
    "fig.add_trace(\n",
    "    go.Scatter(x=temp_mean.index, y=temp_mean.valore, name=\"Daily mean temperature\"),\n",
    "    secondary_y=True,\n",
    ")\n",
    "\n",
    "# Add figure title\n",
    "fig.update_layout(\n",
    "    title_text=\"Daily mean temperature and precipitation from ARPA ground sensors - 1 Month time range - \" +str(start_date_dt.strftime(\"%B %Y\"))\n",
    ")\n",
    "\n",
    "# Set x-axis title\n",
    "fig.update_xaxes(title_text=\"Date\")\n",
    "\n",
    "# Set y-axes titles\n",
    "fig.update_yaxes(title_text=\"<b>Mean precipitation (mm/h)</b>\", secondary_y=False)\n",
    "fig.update_yaxes(title_text=\"<b>Mean temperature (°C)</b>\", secondary_y=True)\n",
    "\n",
    "fig.show()"
   ]
  },
  {
   "cell_type": "markdown",
   "id": "7d1846d6-2bfa-49da-bb1f-6206304c376c",
   "metadata": {},
   "source": [
    "----"
   ]
  },
  {
   "cell_type": "markdown",
   "id": "f285d35c-2beb-405d-b74d-3f937de77a1d",
   "metadata": {},
   "source": [
    "Could be used for longer time ranges. With 1 month is better to use graph maybe"
   ]
  },
  {
   "cell_type": "code",
   "execution_count": null,
   "id": "aaaa3859-2057-439a-a163-c8254a8dcae6",
   "metadata": {},
   "outputs": [],
   "source": [
    "prec_mean['roll'] = prec_mean['valore'].rolling(7).mean()\n",
    "temp_mean['roll'] = temp_mean['valore'].rolling(7).mean()"
   ]
  },
  {
   "cell_type": "code",
   "execution_count": null,
   "id": "d3b8dd9f-109a-4cde-8795-b6e812a54ed8",
   "metadata": {},
   "outputs": [],
   "source": [
    "prec_mean_min = prec_mean['roll'].min()\n",
    "temp_mean_max = temp_mean['roll'].max()"
   ]
  },
  {
   "cell_type": "code",
   "execution_count": null,
   "id": "d5d416f6-be7a-4308-a8c9-63786edd6d1e",
   "metadata": {},
   "outputs": [],
   "source": [
    "final_prec = prec_mean.loc[prec_mean['roll'] == prec_mean_min]\n",
    "final_temp = temp_mean.loc[temp_mean['roll'] == temp_mean_max]"
   ]
  },
  {
   "cell_type": "code",
   "execution_count": null,
   "id": "5905408e-b77f-4c90-92d6-7af9319ecabe",
   "metadata": {},
   "outputs": [],
   "source": [
    "print('Least raining period: ' + str(final_prec.index[0]-timedelta(days=6))[0:10], 'to '+ str(final_prec.index[0])[0:10])\n",
    "print('Highest temperature period: ' + str(final_temp.index[0]-timedelta(days=6))[0:10], 'to '+ str(final_temp.index[0])[0:10])"
   ]
  },
  {
   "cell_type": "code",
   "execution_count": null,
   "id": "6e1020b4-bf03-4af0-bc3e-1219ee3b06ae",
   "metadata": {},
   "outputs": [],
   "source": [
    "prec_mean"
   ]
  },
  {
   "cell_type": "code",
   "execution_count": null,
   "id": "74dc090d-7c4b-4262-8807-f387295fb835",
   "metadata": {},
   "outputs": [],
   "source": [
    "temp_mean"
   ]
  }
 ],
 "metadata": {
  "kernelspec": {
   "display_name": "Python 3 (ipykernel)",
   "language": "python",
   "name": "python3"
  },
  "language_info": {
   "codemirror_mode": {
    "name": "ipython",
    "version": 3
   },
   "file_extension": ".py",
   "mimetype": "text/x-python",
   "name": "python",
   "nbconvert_exporter": "python",
   "pygments_lexer": "ipython3",
   "version": "3.9.10"
  }
 },
 "nbformat": 4,
 "nbformat_minor": 5
}
