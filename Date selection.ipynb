{
 "cells": [
  {
   "cell_type": "markdown",
   "id": "a1fc47bd-5651-406e-82e6-e0ed87b9b611",
   "metadata": {},
   "source": [
    "# Date Selection\n",
    "This notebook allows to plot average precipitation and temperature over the Lombardy region for a given month of the year."
   ]
  },
  {
   "cell_type": "markdown",
   "id": "3d6195f4-15ef-401c-9610-9910756ecc5f",
   "metadata": {},
   "source": [
    "## Import libraries"
   ]
  },
  {
   "cell_type": "code",
   "execution_count": null,
   "id": "e51b2bc2-1c6c-4795-a4f6-10187fc2399c",
   "metadata": {},
   "outputs": [],
   "source": [
    "from sodapy import Socrata\n",
    "import pandas as pd\n",
    "import geopandas as gpd\n",
    "import os\n",
    "import zipfile\n",
    "import requests\n",
    "import json\n",
    "import io\n",
    "from scipy import stats\n",
    "import numpy as np\n",
    "from datetime import datetime\n",
    "from datetime import timedelta\n",
    "import warnings\n",
    "warnings.filterwarnings('ignore')\n",
    "\n",
    "# Set current working directory\n",
    "cwd = os.getcwd()\n",
    "\n",
    "# Import functions defined for DDUST project:\n",
    "from functions import my_methods\n",
    "\n",
    "# Key and app token for Socrata API\n",
    "f = open('keys.json')\n",
    "keys = json.load(f)"
   ]
  },
  {
   "cell_type": "markdown",
   "id": "cd8a1e19-0ca6-46aa-a1c2-13fb67453f5c",
   "metadata": {},
   "source": [
    "## Define time range\n",
    "Select a month and a year:"
   ]
  },
  {
   "cell_type": "code",
   "execution_count": null,
   "id": "71886cf7-a5ca-4843-85ef-e14f3fe08044",
   "metadata": {},
   "outputs": [],
   "source": [
    "month = 10\n",
    "year = 2021\n",
    "start_date_dt = datetime(year, month, 1).date()\n",
    "print(start_date_dt)"
   ]
  },
  {
   "cell_type": "code",
   "execution_count": null,
   "id": "3f0e3f2c-077a-43fd-99c6-82e050a99de3",
   "metadata": {},
   "outputs": [],
   "source": [
    "# Function to get the last day of the month\n",
    "def last_day_month(test_date):            \n",
    "    # getting next month\n",
    "    # using replace to get to last day + offset\n",
    "    # to reach next month\n",
    "    nxt_mnth = test_date.replace(day=28) + timedelta(days=4)\n",
    "\n",
    "    # subtracting the days from next month date to\n",
    "    # get last date of current Month\n",
    "    res = nxt_mnth - timedelta(days=nxt_mnth.day)\n",
    "\n",
    "    return res"
   ]
  },
  {
   "cell_type": "code",
   "execution_count": null,
   "id": "c240d3a2-88a8-4af9-b41f-29ec4c92543e",
   "metadata": {},
   "outputs": [],
   "source": [
    "# Start and end days of the month\n",
    "start_date = str(start_date_dt)\n",
    "end_date = str(last_day_month(start_date_dt))[0:10]\n",
    "end_date_dt = datetime.strptime(end_date, '%Y-%m-%d') + timedelta(days=1)\n",
    "print('The time range is '+start_date + ' - ' + end_date)"
   ]
  },
  {
   "cell_type": "markdown",
   "id": "3eba4e24-e07b-4d7c-8b48-61d9cbde696c",
   "metadata": {},
   "source": [
    "## Get ARPA meteorological sensors information"
   ]
  },
  {
   "cell_type": "code",
   "execution_count": null,
   "id": "d81ad60b-5f55-4982-9891-d0c91436edef",
   "metadata": {},
   "outputs": [],
   "source": [
    "arpa_domain = \"www.dati.lombardia.it\"\n",
    "m_st_descr = \"nf78-nj6b\"\n",
    "client = Socrata(arpa_domain, app_token = keys['arpa_token'])\n",
    "results = client.get_all(m_st_descr)\n",
    "meteo_st_descr = pd.DataFrame(results)\n",
    "meteo_st_descr[\"idsensore\"] = meteo_st_descr[\"idsensore\"].astype(int)"
   ]
  },
  {
   "cell_type": "markdown",
   "id": "1ce51ca4-3362-458c-91a4-b1ef78378294",
   "metadata": {},
   "source": [
    "## Get ARPA meteorological sensors times series"
   ]
  },
  {
   "cell_type": "code",
   "execution_count": null,
   "id": "4739254c-9b49-4899-9549-b55f588c08e8",
   "metadata": {},
   "outputs": [],
   "source": [
    "# If current year use data from API\n",
    "if int(year) == datetime.today().year:\n",
    "    arpa_domain = \"www.dati.lombardia.it\"\n",
    "    dati = \"647i-nhxk\" #change this depending on the dataset (check Open Data Lombardia datasets)\n",
    "    client = Socrata(arpa_domain, app_token = keys['arpa_token']) #insert your arpa_token\n",
    "    date_query = \"data > {} and data < {}\".format('\"'+ start_date + '\"','\"'+ str(end_date_dt) + '\"')\n",
    "    results = client.get(dati, where=date_query, limit=5000000000000)\n",
    "    meteo_data = pd.DataFrame(results)\n",
    "    meteo_data.rename(columns={'IdSensore': 'idsensore','Data': 'data','idOperatore': 'idoperatore','Stato': 'stato','Valore': 'valore'}, inplace=True)\n",
    "    meteo_data['data'] =  pd.to_datetime(meteo_data['data'], format='%Y/%m/%d %H:%M:%S')\n",
    "    meteo_data = meteo_data.astype({\"idsensore\": int,\"valore\": float})\n",
    "    \n",
    "# If previous years download the corresponding year .csv file and filter the dates  \n",
    "elif int(year) < datetime.today().year:\n",
    "    filename = 'meteo_'+str(year)+'.zip'\n",
    "    if not os.path.exists(os.path.join(filename)):\n",
    "        csv_url = my_methods.meteo_sensor(str(year))\n",
    "        r2 = requests.get(csv_url, allow_redirects=True)\n",
    "        DL_zip = open(filename, 'wb').write(r2.content)\n",
    "        print('Dowloaded zip file')\n",
    "    \n",
    "    print('Zip file exist')\n",
    "    archive = zipfile.ZipFile(filename, 'r')\n",
    "    data = archive.open(str(year)+'.csv') \n",
    "    meteo_data_df = pd.read_csv(data, dtype={\"IdSensore\": int,\"Valore\": float, \"Stato\": str, \"idOperatore\":str})\n",
    "    meteo_data_df.rename(columns={'IdSensore': 'idsensore','Data': 'data','idOperatore': 'idoperatore','Stato': 'stato','Valore': 'valore'}, inplace=True)\n",
    "    meteo_data_df['data'] =  pd.to_datetime(meteo_data_df['data'], format='%d/%m/%Y %H:%M:%S')"
   ]
  },
  {
   "cell_type": "markdown",
   "id": "ccb45532-a487-42b7-ac44-57e2923f6ffe",
   "metadata": {},
   "source": [
    "For .csv data, the whole dataset is loaded in meteo_data_df dataframe. Changing the time period is possible to filter the data and"
   ]
  },
  {
   "cell_type": "code",
   "execution_count": null,
   "id": "243b5a83-35ac-4449-830b-b49b10c0f42e",
   "metadata": {},
   "outputs": [],
   "source": [
    "# Keep meteo_data_df in memory for .csv files only. It's possible to create a new meteo_data dataframe changing the time period\n",
    "mask = (meteo_data_df.data >= start_date) & (meteo_data_df.data < str(end_date_dt))\n",
    "meteo_data = meteo_data_df.loc[mask]"
   ]
  },
  {
   "cell_type": "markdown",
   "id": "89761fe3-29be-40c5-9bc0-5a7b2f0ade81",
   "metadata": {},
   "source": [
    "## Data processing"
   ]
  },
  {
   "cell_type": "code",
   "execution_count": null,
   "id": "c9f58963-7485-464a-9088-8d1bd416cadd",
   "metadata": {},
   "outputs": [],
   "source": [
    "meteo_data = meteo_data.drop(columns=['stato', 'idoperatore'])\n",
    "meteo_data = meteo_data[meteo_data.valore.astype(float) != -9999]"
   ]
  },
  {
   "cell_type": "code",
   "execution_count": null,
   "id": "119a6575-55d2-4b71-9640-1f20efc62ea9",
   "metadata": {},
   "outputs": [],
   "source": [
    "m_sensor_sel = ['Precipitazione','Temperatura']\n",
    "meteo_table = pd.merge(meteo_data, meteo_st_descr, on = 'idsensore')"
   ]
  },
  {
   "cell_type": "code",
   "execution_count": null,
   "id": "267389d1-b043-4519-be12-1936c6b075ea",
   "metadata": {},
   "outputs": [],
   "source": [
    "meteo_table['tipologia'].astype(str)\n",
    "meteo_table = meteo_table[meteo_table['tipologia'].isin(m_sensor_sel)]"
   ]
  },
  {
   "cell_type": "code",
   "execution_count": null,
   "id": "7393329d-4361-4fdf-a94b-942e7a4c7488",
   "metadata": {},
   "outputs": [],
   "source": [
    "temp_st = meteo_table.loc[meteo_table['tipologia'] == 'Temperatura']\n",
    "prec_st = meteo_table.loc[meteo_table['tipologia'] == 'Precipitazione']"
   ]
  },
  {
   "cell_type": "code",
   "execution_count": null,
   "id": "07cda0cc-53fe-476c-8341-45e14fc76519",
   "metadata": {},
   "outputs": [],
   "source": [
    "prec_st"
   ]
  },
  {
   "cell_type": "code",
   "execution_count": null,
   "id": "b09d0ebb-084e-4c51-822c-097306d058ef",
   "metadata": {},
   "outputs": [],
   "source": [
    "# Remove Outliers\n",
    "# For precipitation values less than 100 mm/h\n",
    "prec_st = prec_st[prec_st.valore < 100]\n",
    "\n",
    "# For temperature using a Z-Score with high threshold\n",
    "threshold = 4\n",
    "temp_st['zscore'] = np.abs(stats.zscore(temp_st['valore'], nan_policy='propagate'))\n",
    "temp_st = temp_st[temp_st.zscore < threshold]"
   ]
  },
  {
   "cell_type": "markdown",
   "id": "cdf76818-0d2a-441d-a778-9d26177b7b6c",
   "metadata": {},
   "source": [
    "Create month precipitation and temperature dataframes:"
   ]
  },
  {
   "cell_type": "code",
   "execution_count": null,
   "id": "f65239f8-7625-4562-930b-f68f4fa4dc9e",
   "metadata": {},
   "outputs": [],
   "source": [
    "prec_st['data'] = pd.to_datetime(prec_st['data'], format='%Y-%m-%d hh:mm:ss')\n",
    "temp_st['data'] = pd.to_datetime(temp_st['data'], format='%Y-%m-%d hh:mm:ss')"
   ]
  },
  {
   "cell_type": "code",
   "execution_count": null,
   "id": "8da69bad-f941-49a8-a4b2-a7e621fefe56",
   "metadata": {},
   "outputs": [],
   "source": [
    "# Precipitation\n",
    "prec_mean = prec_st.groupby(pd.Grouper(freq='D', key='data')).mean()\n",
    "prec_mean = prec_mean.drop(columns=['idsensore'])\n",
    "prec_mean['data'] = prec_mean.index\n",
    "\n",
    "#Temperature\n",
    "temp_mean = temp_st.groupby(pd.Grouper(freq='D', key='data')).mean()\n",
    "temp_mean = temp_mean.drop(columns=['idsensore'])\n",
    "temp_mean['data'] = temp_mean.index"
   ]
  },
  {
   "cell_type": "markdown",
   "id": "ea93c92a-50f9-4cab-bba4-1b1d8238483b",
   "metadata": {},
   "source": [
    "## Plot mean temperature and precipitation for all ARPA sensor over Lombardy region"
   ]
  },
  {
   "cell_type": "code",
   "execution_count": null,
   "id": "9c22f05a-37de-446c-b6c8-3908f1220f1f",
   "metadata": {},
   "outputs": [],
   "source": [
    "import matplotlib.pyplot as plt\n",
    "import plotly.graph_objects as go\n",
    "from plotly.subplots import make_subplots\n",
    "\n",
    "fig = make_subplots(specs=[[{\"secondary_y\": True}]])\n",
    "\n",
    "# Add traces\n",
    "fig.add_trace(\n",
    "    go.Scatter(x=prec_mean.index, y=prec_mean.valore, name=\"Daily mean precipitation\"),\n",
    "    secondary_y=False,\n",
    ")\n",
    "\n",
    "fig.add_trace(\n",
    "    go.Scatter(x=temp_mean.index, y=temp_mean.valore, name=\"Daily mean temperature\"),\n",
    "    secondary_y=True,\n",
    ")\n",
    "\n",
    "# Add figure title\n",
    "fig.update_layout(\n",
    "    title_text=\"Daily mean temperature and precipitation from ARPA ground sensors - 1 Month time range - \" +str(start_date_dt.strftime(\"%B %Y\"))\n",
    ")\n",
    "\n",
    "# Set x-axis title\n",
    "fig.update_xaxes(title_text=\"Date\")\n",
    "\n",
    "# Set y-axes titles\n",
    "fig.update_yaxes(title_text=\"<b>Mean precipitation (mm/h)</b>\", secondary_y=False)\n",
    "fig.update_yaxes(title_text=\"<b>Mean temperature (°C)</b>\", secondary_y=True)\n",
    "\n",
    "fig.show()"
   ]
  },
  {
   "cell_type": "markdown",
   "id": "7d1846d6-2bfa-49da-bb1f-6206304c376c",
   "metadata": {},
   "source": [
    "----"
   ]
  },
  {
   "cell_type": "markdown",
   "id": "f285d35c-2beb-405d-b74d-3f937de77a1d",
   "metadata": {},
   "source": [
    "Could be used for longer time ranges. With 1 month is better to use graph maybe"
   ]
  },
  {
   "cell_type": "code",
   "execution_count": null,
   "id": "aaaa3859-2057-439a-a163-c8254a8dcae6",
   "metadata": {},
   "outputs": [],
   "source": [
    "prec_mean['roll'] = prec_mean['valore'].rolling(7).mean()\n",
    "temp_mean['roll'] = temp_mean['valore'].rolling(7).mean()"
   ]
  },
  {
   "cell_type": "code",
   "execution_count": null,
   "id": "d3b8dd9f-109a-4cde-8795-b6e812a54ed8",
   "metadata": {},
   "outputs": [],
   "source": [
    "prec_mean_min = prec_mean['roll'].min()\n",
    "temp_mean_max = temp_mean['roll'].max()"
   ]
  },
  {
   "cell_type": "code",
   "execution_count": null,
   "id": "d5d416f6-be7a-4308-a8c9-63786edd6d1e",
   "metadata": {},
   "outputs": [],
   "source": [
    "final_prec = prec_mean.loc[prec_mean['roll'] == prec_mean_min]\n",
    "final_temp = temp_mean.loc[temp_mean['roll'] == temp_mean_max]"
   ]
  },
  {
   "cell_type": "code",
   "execution_count": null,
   "id": "5905408e-b77f-4c90-92d6-7af9319ecabe",
   "metadata": {},
   "outputs": [],
   "source": [
    "print('Least raining period: ' + str(final_prec.index[0]-timedelta(days=6))[0:10], 'to '+ str(final_prec.index[0])[0:10])\n",
    "print('Highest temperature period: ' + str(final_temp.index[0]-timedelta(days=6))[0:10], 'to '+ str(final_temp.index[0])[0:10])"
   ]
  },
  {
   "cell_type": "code",
   "execution_count": null,
   "id": "6e1020b4-bf03-4af0-bc3e-1219ee3b06ae",
   "metadata": {},
   "outputs": [],
   "source": [
    "prec_mean"
   ]
  },
  {
   "cell_type": "code",
   "execution_count": null,
   "id": "74dc090d-7c4b-4262-8807-f387295fb835",
   "metadata": {},
   "outputs": [],
   "source": [
    "temp_mean"
   ]
  }
 ],
 "metadata": {
  "kernelspec": {
   "display_name": "Python 3 (ipykernel)",
   "language": "python",
   "name": "python3"
  },
  "language_info": {
   "codemirror_mode": {
    "name": "ipython",
    "version": 3
   },
   "file_extension": ".py",
   "mimetype": "text/x-python",
   "name": "python",
   "nbconvert_exporter": "python",
   "pygments_lexer": "ipython3",
   "version": "3.9.12"
  }
 },
 "nbformat": 4,
 "nbformat_minor": 5
}
