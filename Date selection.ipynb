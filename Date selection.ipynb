{
 "cells": [
  {
   "cell_type": "markdown",
   "id": "a1fc47bd-5651-406e-82e6-e0ed87b9b611",
   "metadata": {},
   "source": [
    "# Date Selection\n",
    "This notebook allows to plot average precipitation and temperature over the Lombardy region for a given month of the year."
   ]
  },
  {
   "cell_type": "markdown",
   "id": "3d6195f4-15ef-401c-9610-9910756ecc5f",
   "metadata": {},
   "source": [
    "## Import libraries"
   ]
  },
  {
   "cell_type": "code",
   "execution_count": 1,
   "id": "e51b2bc2-1c6c-4795-a4f6-10187fc2399c",
   "metadata": {},
   "outputs": [],
   "source": [
    "from sodapy import Socrata\n",
    "import pandas as pd\n",
    "import geopandas as gpd\n",
    "import os\n",
    "import zipfile\n",
    "import requests\n",
    "import json\n",
    "import io\n",
    "from scipy import stats\n",
    "import numpy as np\n",
    "from datetime import datetime\n",
    "from datetime import timedelta\n",
    "import warnings\n",
    "warnings.filterwarnings('ignore')\n",
    "\n",
    "# Set current working directory\n",
    "cwd = os.getcwd()\n",
    "\n",
    "# Import functions defined for DDUST project:\n",
    "from functions import my_methods\n",
    "\n",
    "# Key and app token for Socrata API\n",
    "f = open('keys.json')\n",
    "keys = json.load(f)"
   ]
  },
  {
   "cell_type": "markdown",
   "id": "cd8a1e19-0ca6-46aa-a1c2-13fb67453f5c",
   "metadata": {},
   "source": [
    "## Define time range\n",
    "Select a month and a year:"
   ]
  },
  {
   "cell_type": "code",
   "execution_count": 17,
   "id": "71886cf7-a5ca-4843-85ef-e14f3fe08044",
   "metadata": {},
   "outputs": [
    {
     "name": "stdout",
     "output_type": "stream",
     "text": [
      "2021-02-01\n"
     ]
    }
   ],
   "source": [
    "month = 2\n",
    "year = 2021\n",
    "start_date_dt = datetime(year, month, 1).date()\n",
    "print(start_date_dt)"
   ]
  },
  {
   "cell_type": "code",
   "execution_count": 29,
   "id": "3f0e3f2c-077a-43fd-99c6-82e050a99de3",
   "metadata": {},
   "outputs": [],
   "source": [
    "# Function to get the last day of the month\n",
    "def last_day_month(test_date):            \n",
    "    # getting next month\n",
    "    # using replace to get to last day + offset\n",
    "    # to reach next month\n",
    "    nxt_mnth = test_date.replace(day=28) + timedelta(days=4)\n",
    "\n",
    "    # subtracting the days from next month date to\n",
    "    # get last date of current Month\n",
    "    res = nxt_mnth - timedelta(days=nxt_mnth.day)\n",
    "\n",
    "    return res"
   ]
  },
  {
   "cell_type": "code",
   "execution_count": 30,
   "id": "c240d3a2-88a8-4af9-b41f-29ec4c92543e",
   "metadata": {},
   "outputs": [
    {
     "name": "stdout",
     "output_type": "stream",
     "text": [
      "The time range is 2021-02-01 - 2021-02-28\n"
     ]
    }
   ],
   "source": [
    "# Start and end days of the month\n",
    "start_date = str(start_date_dt)\n",
    "end_date = str(last_day_month(start_date_dt))[0:10]\n",
    "end_date_dt = datetime.strptime(end_date, '%Y-%m-%d') + timedelta(days=1)\n",
    "print('The time range is '+start_date + ' - ' + end_date)"
   ]
  },
  {
   "cell_type": "markdown",
   "id": "3eba4e24-e07b-4d7c-8b48-61d9cbde696c",
   "metadata": {},
   "source": [
    "## Get ARPA meteorological sensors information"
   ]
  },
  {
   "cell_type": "code",
   "execution_count": 5,
   "id": "d81ad60b-5f55-4982-9891-d0c91436edef",
   "metadata": {},
   "outputs": [],
   "source": [
    "arpa_domain = \"www.dati.lombardia.it\"\n",
    "m_st_descr = \"nf78-nj6b\"\n",
    "client = Socrata(arpa_domain, app_token = keys['arpa_token'])\n",
    "results = client.get_all(m_st_descr)\n",
    "meteo_st_descr = pd.DataFrame(results)\n",
    "meteo_st_descr[\"idsensore\"] = meteo_st_descr[\"idsensore\"].astype(int)"
   ]
  },
  {
   "cell_type": "markdown",
   "id": "1ce51ca4-3362-458c-91a4-b1ef78378294",
   "metadata": {},
   "source": [
    "## Get ARPA meteorological sensors times series"
   ]
  },
  {
   "cell_type": "code",
   "execution_count": 6,
   "id": "4739254c-9b49-4899-9549-b55f588c08e8",
   "metadata": {},
   "outputs": [
    {
     "name": "stdout",
     "output_type": "stream",
     "text": [
      "Zip file exist\n"
     ]
    }
   ],
   "source": [
    "# If current year use data from API\n",
    "if int(year) == datetime.today().year:\n",
    "    arpa_domain = \"www.dati.lombardia.it\"\n",
    "    dati = \"647i-nhxk\" #change this depending on the dataset (check Open Data Lombardia datasets)\n",
    "    client = Socrata(arpa_domain, app_token = keys['arpa_token']) #insert your arpa_token\n",
    "    date_query = \"data > {} and data < {}\".format('\"'+ start_date + '\"','\"'+ str(end_date_dt) + '\"')\n",
    "    results = client.get(dati, where=date_query, limit=5000000000000)\n",
    "    meteo_data = pd.DataFrame(results)\n",
    "    meteo_data.rename(columns={'IdSensore': 'idsensore','Data': 'data','idOperatore': 'idoperatore','Stato': 'stato','Valore': 'valore'}, inplace=True)\n",
    "    meteo_data['data'] =  pd.to_datetime(meteo_data['data'], format='%Y/%m/%d %H:%M:%S')\n",
    "    meteo_data = meteo_data.astype({\"idsensore\": int,\"valore\": float})\n",
    "    \n",
    "# If previous years download the corresponding year .csv file and filter the dates  \n",
    "elif int(year) < datetime.today().year:\n",
    "    filename = 'meteo_'+str(year)+'.zip'\n",
    "    if not os.path.exists(os.path.join(filename)):\n",
    "        csv_url = my_methods.meteo_sensor(str(year))\n",
    "        r2 = requests.get(csv_url, allow_redirects=True)\n",
    "        DL_zip = open(filename, 'wb').write(r2.content)\n",
    "        print('Dowloaded zip file')\n",
    "    \n",
    "    print('Zip file exist')\n",
    "    archive = zipfile.ZipFile(filename, 'r')\n",
    "    data = archive.open(str(year)+'.csv') \n",
    "    meteo_data_df = pd.read_csv(data, dtype={\"IdSensore\": int,\"Valore\": float, \"Stato\": str, \"idOperatore\":str})\n",
    "    meteo_data_df.rename(columns={'IdSensore': 'idsensore','Data': 'data','idOperatore': 'idoperatore','Stato': 'stato','Valore': 'valore'}, inplace=True)\n",
    "    meteo_data_df['data'] =  pd.to_datetime(meteo_data_df['data'], format='%d/%m/%Y %H:%M:%S')"
   ]
  },
  {
   "cell_type": "markdown",
   "id": "ccb45532-a487-42b7-ac44-57e2923f6ffe",
   "metadata": {},
   "source": [
    "For .csv data, the whole dataset is loaded in meteo_data_df dataframe. Changing the time period is possible to filter the data and"
   ]
  },
  {
   "cell_type": "code",
   "execution_count": 31,
   "id": "243b5a83-35ac-4449-830b-b49b10c0f42e",
   "metadata": {},
   "outputs": [],
   "source": [
    "# Keep meteo_data_df in memory for .csv files only. It's possible to create a new meteo_data dataframe changing the time period\n",
    "mask = (meteo_data_df.data >= start_date) & (meteo_data_df.data < str(end_date_dt))\n",
    "meteo_data = meteo_data_df.loc[mask]"
   ]
  },
  {
   "cell_type": "markdown",
   "id": "89761fe3-29be-40c5-9bc0-5a7b2f0ade81",
   "metadata": {},
   "source": [
    "## Data processing"
   ]
  },
  {
   "cell_type": "code",
   "execution_count": 32,
   "id": "c9f58963-7485-464a-9088-8d1bd416cadd",
   "metadata": {},
   "outputs": [],
   "source": [
    "meteo_data = meteo_data.drop(columns=['stato', 'idoperatore'])\n",
    "meteo_data = meteo_data[meteo_data.valore.astype(float) != -9999]"
   ]
  },
  {
   "cell_type": "code",
   "execution_count": 33,
   "id": "119a6575-55d2-4b71-9640-1f20efc62ea9",
   "metadata": {},
   "outputs": [],
   "source": [
    "m_sensor_sel = ['Precipitazione','Temperatura']\n",
    "meteo_table = pd.merge(meteo_data, meteo_st_descr, on = 'idsensore')"
   ]
  },
  {
   "cell_type": "code",
   "execution_count": 34,
   "id": "267389d1-b043-4519-be12-1936c6b075ea",
   "metadata": {},
   "outputs": [],
   "source": [
    "meteo_table['tipologia'].astype(str)\n",
    "meteo_table = meteo_table[meteo_table['tipologia'].isin(m_sensor_sel)]"
   ]
  },
  {
   "cell_type": "code",
   "execution_count": 35,
   "id": "7393329d-4361-4fdf-a94b-942e7a4c7488",
   "metadata": {},
   "outputs": [],
   "source": [
    "temp_st = meteo_table.loc[meteo_table['tipologia'] == 'Temperatura']\n",
    "prec_st = meteo_table.loc[meteo_table['tipologia'] == 'Precipitazione']"
   ]
  },
  {
   "cell_type": "code",
   "execution_count": 36,
   "id": "07cda0cc-53fe-476c-8341-45e14fc76519",
   "metadata": {},
   "outputs": [
    {
     "data": {
      "text/html": [
       "<div>\n",
       "<style scoped>\n",
       "    .dataframe tbody tr th:only-of-type {\n",
       "        vertical-align: middle;\n",
       "    }\n",
       "\n",
       "    .dataframe tbody tr th {\n",
       "        vertical-align: top;\n",
       "    }\n",
       "\n",
       "    .dataframe thead th {\n",
       "        text-align: right;\n",
       "    }\n",
       "</style>\n",
       "<table border=\"1\" class=\"dataframe\">\n",
       "  <thead>\n",
       "    <tr style=\"text-align: right;\">\n",
       "      <th></th>\n",
       "      <th>idsensore</th>\n",
       "      <th>data</th>\n",
       "      <th>valore</th>\n",
       "      <th>tipologia</th>\n",
       "      <th>unit_dimisura</th>\n",
       "      <th>idstazione</th>\n",
       "      <th>nomestazione</th>\n",
       "      <th>quota</th>\n",
       "      <th>provincia</th>\n",
       "      <th>datastart</th>\n",
       "      <th>storico</th>\n",
       "      <th>cgb_nord</th>\n",
       "      <th>cgb_est</th>\n",
       "      <th>lng</th>\n",
       "      <th>lat</th>\n",
       "      <th>location</th>\n",
       "      <th>:@computed_region_6hky_swhk</th>\n",
       "      <th>:@computed_region_ttgh_9sm5</th>\n",
       "      <th>datastop</th>\n",
       "    </tr>\n",
       "  </thead>\n",
       "  <tbody>\n",
       "    <tr>\n",
       "      <th>408241</th>\n",
       "      <td>5856</td>\n",
       "      <td>2021-02-01 00:00:00</td>\n",
       "      <td>0.0</td>\n",
       "      <td>Precipitazione</td>\n",
       "      <td>mm</td>\n",
       "      <td>595</td>\n",
       "      <td>Filago v.Don Milani</td>\n",
       "      <td>190</td>\n",
       "      <td>BG</td>\n",
       "      <td>1991-12-07T00:00:00.000</td>\n",
       "      <td>N</td>\n",
       "      <td>5053519</td>\n",
       "      <td>543342</td>\n",
       "      <td>9.556084255790864</td>\n",
       "      <td>45.63386450908066</td>\n",
       "      <td>{'latitude': '45.63386450908066', 'longitude':...</td>\n",
       "      <td>5</td>\n",
       "      <td>5</td>\n",
       "      <td>NaN</td>\n",
       "    </tr>\n",
       "    <tr>\n",
       "      <th>408242</th>\n",
       "      <td>5856</td>\n",
       "      <td>2021-02-01 01:00:00</td>\n",
       "      <td>0.0</td>\n",
       "      <td>Precipitazione</td>\n",
       "      <td>mm</td>\n",
       "      <td>595</td>\n",
       "      <td>Filago v.Don Milani</td>\n",
       "      <td>190</td>\n",
       "      <td>BG</td>\n",
       "      <td>1991-12-07T00:00:00.000</td>\n",
       "      <td>N</td>\n",
       "      <td>5053519</td>\n",
       "      <td>543342</td>\n",
       "      <td>9.556084255790864</td>\n",
       "      <td>45.63386450908066</td>\n",
       "      <td>{'latitude': '45.63386450908066', 'longitude':...</td>\n",
       "      <td>5</td>\n",
       "      <td>5</td>\n",
       "      <td>NaN</td>\n",
       "    </tr>\n",
       "    <tr>\n",
       "      <th>408243</th>\n",
       "      <td>5856</td>\n",
       "      <td>2021-02-01 02:00:00</td>\n",
       "      <td>0.0</td>\n",
       "      <td>Precipitazione</td>\n",
       "      <td>mm</td>\n",
       "      <td>595</td>\n",
       "      <td>Filago v.Don Milani</td>\n",
       "      <td>190</td>\n",
       "      <td>BG</td>\n",
       "      <td>1991-12-07T00:00:00.000</td>\n",
       "      <td>N</td>\n",
       "      <td>5053519</td>\n",
       "      <td>543342</td>\n",
       "      <td>9.556084255790864</td>\n",
       "      <td>45.63386450908066</td>\n",
       "      <td>{'latitude': '45.63386450908066', 'longitude':...</td>\n",
       "      <td>5</td>\n",
       "      <td>5</td>\n",
       "      <td>NaN</td>\n",
       "    </tr>\n",
       "    <tr>\n",
       "      <th>408244</th>\n",
       "      <td>5856</td>\n",
       "      <td>2021-02-01 03:00:00</td>\n",
       "      <td>0.0</td>\n",
       "      <td>Precipitazione</td>\n",
       "      <td>mm</td>\n",
       "      <td>595</td>\n",
       "      <td>Filago v.Don Milani</td>\n",
       "      <td>190</td>\n",
       "      <td>BG</td>\n",
       "      <td>1991-12-07T00:00:00.000</td>\n",
       "      <td>N</td>\n",
       "      <td>5053519</td>\n",
       "      <td>543342</td>\n",
       "      <td>9.556084255790864</td>\n",
       "      <td>45.63386450908066</td>\n",
       "      <td>{'latitude': '45.63386450908066', 'longitude':...</td>\n",
       "      <td>5</td>\n",
       "      <td>5</td>\n",
       "      <td>NaN</td>\n",
       "    </tr>\n",
       "    <tr>\n",
       "      <th>408245</th>\n",
       "      <td>5856</td>\n",
       "      <td>2021-02-01 04:00:00</td>\n",
       "      <td>0.0</td>\n",
       "      <td>Precipitazione</td>\n",
       "      <td>mm</td>\n",
       "      <td>595</td>\n",
       "      <td>Filago v.Don Milani</td>\n",
       "      <td>190</td>\n",
       "      <td>BG</td>\n",
       "      <td>1991-12-07T00:00:00.000</td>\n",
       "      <td>N</td>\n",
       "      <td>5053519</td>\n",
       "      <td>543342</td>\n",
       "      <td>9.556084255790864</td>\n",
       "      <td>45.63386450908066</td>\n",
       "      <td>{'latitude': '45.63386450908066', 'longitude':...</td>\n",
       "      <td>5</td>\n",
       "      <td>5</td>\n",
       "      <td>NaN</td>\n",
       "    </tr>\n",
       "    <tr>\n",
       "      <th>...</th>\n",
       "      <td>...</td>\n",
       "      <td>...</td>\n",
       "      <td>...</td>\n",
       "      <td>...</td>\n",
       "      <td>...</td>\n",
       "      <td>...</td>\n",
       "      <td>...</td>\n",
       "      <td>...</td>\n",
       "      <td>...</td>\n",
       "      <td>...</td>\n",
       "      <td>...</td>\n",
       "      <td>...</td>\n",
       "      <td>...</td>\n",
       "      <td>...</td>\n",
       "      <td>...</td>\n",
       "      <td>...</td>\n",
       "      <td>...</td>\n",
       "      <td>...</td>\n",
       "      <td>...</td>\n",
       "    </tr>\n",
       "    <tr>\n",
       "      <th>4263566</th>\n",
       "      <td>10585</td>\n",
       "      <td>2021-02-28 23:10:00</td>\n",
       "      <td>0.0</td>\n",
       "      <td>Precipitazione</td>\n",
       "      <td>mm</td>\n",
       "      <td>1274</td>\n",
       "      <td>Perledo P.zza della stazione</td>\n",
       "      <td>212</td>\n",
       "      <td>LC</td>\n",
       "      <td>2010-07-01T00:00:00.000</td>\n",
       "      <td>N</td>\n",
       "      <td>5095846</td>\n",
       "      <td>522171</td>\n",
       "      <td>9.286409208680807</td>\n",
       "      <td>46.01582830438376</td>\n",
       "      <td>{'latitude': '46.01582830438376', 'longitude':...</td>\n",
       "      <td>10</td>\n",
       "      <td>10</td>\n",
       "      <td>NaN</td>\n",
       "    </tr>\n",
       "    <tr>\n",
       "      <th>4263567</th>\n",
       "      <td>10585</td>\n",
       "      <td>2021-02-28 23:20:00</td>\n",
       "      <td>0.0</td>\n",
       "      <td>Precipitazione</td>\n",
       "      <td>mm</td>\n",
       "      <td>1274</td>\n",
       "      <td>Perledo P.zza della stazione</td>\n",
       "      <td>212</td>\n",
       "      <td>LC</td>\n",
       "      <td>2010-07-01T00:00:00.000</td>\n",
       "      <td>N</td>\n",
       "      <td>5095846</td>\n",
       "      <td>522171</td>\n",
       "      <td>9.286409208680807</td>\n",
       "      <td>46.01582830438376</td>\n",
       "      <td>{'latitude': '46.01582830438376', 'longitude':...</td>\n",
       "      <td>10</td>\n",
       "      <td>10</td>\n",
       "      <td>NaN</td>\n",
       "    </tr>\n",
       "    <tr>\n",
       "      <th>4263568</th>\n",
       "      <td>10585</td>\n",
       "      <td>2021-02-28 23:30:00</td>\n",
       "      <td>0.0</td>\n",
       "      <td>Precipitazione</td>\n",
       "      <td>mm</td>\n",
       "      <td>1274</td>\n",
       "      <td>Perledo P.zza della stazione</td>\n",
       "      <td>212</td>\n",
       "      <td>LC</td>\n",
       "      <td>2010-07-01T00:00:00.000</td>\n",
       "      <td>N</td>\n",
       "      <td>5095846</td>\n",
       "      <td>522171</td>\n",
       "      <td>9.286409208680807</td>\n",
       "      <td>46.01582830438376</td>\n",
       "      <td>{'latitude': '46.01582830438376', 'longitude':...</td>\n",
       "      <td>10</td>\n",
       "      <td>10</td>\n",
       "      <td>NaN</td>\n",
       "    </tr>\n",
       "    <tr>\n",
       "      <th>4263569</th>\n",
       "      <td>10585</td>\n",
       "      <td>2021-02-28 23:40:00</td>\n",
       "      <td>0.0</td>\n",
       "      <td>Precipitazione</td>\n",
       "      <td>mm</td>\n",
       "      <td>1274</td>\n",
       "      <td>Perledo P.zza della stazione</td>\n",
       "      <td>212</td>\n",
       "      <td>LC</td>\n",
       "      <td>2010-07-01T00:00:00.000</td>\n",
       "      <td>N</td>\n",
       "      <td>5095846</td>\n",
       "      <td>522171</td>\n",
       "      <td>9.286409208680807</td>\n",
       "      <td>46.01582830438376</td>\n",
       "      <td>{'latitude': '46.01582830438376', 'longitude':...</td>\n",
       "      <td>10</td>\n",
       "      <td>10</td>\n",
       "      <td>NaN</td>\n",
       "    </tr>\n",
       "    <tr>\n",
       "      <th>4263570</th>\n",
       "      <td>10585</td>\n",
       "      <td>2021-02-28 23:50:00</td>\n",
       "      <td>0.0</td>\n",
       "      <td>Precipitazione</td>\n",
       "      <td>mm</td>\n",
       "      <td>1274</td>\n",
       "      <td>Perledo P.zza della stazione</td>\n",
       "      <td>212</td>\n",
       "      <td>LC</td>\n",
       "      <td>2010-07-01T00:00:00.000</td>\n",
       "      <td>N</td>\n",
       "      <td>5095846</td>\n",
       "      <td>522171</td>\n",
       "      <td>9.286409208680807</td>\n",
       "      <td>46.01582830438376</td>\n",
       "      <td>{'latitude': '46.01582830438376', 'longitude':...</td>\n",
       "      <td>10</td>\n",
       "      <td>10</td>\n",
       "      <td>NaN</td>\n",
       "    </tr>\n",
       "  </tbody>\n",
       "</table>\n",
       "<p>709277 rows × 19 columns</p>\n",
       "</div>"
      ],
      "text/plain": [
       "         idsensore                data  valore       tipologia unit_dimisura  \\\n",
       "408241        5856 2021-02-01 00:00:00     0.0  Precipitazione            mm   \n",
       "408242        5856 2021-02-01 01:00:00     0.0  Precipitazione            mm   \n",
       "408243        5856 2021-02-01 02:00:00     0.0  Precipitazione            mm   \n",
       "408244        5856 2021-02-01 03:00:00     0.0  Precipitazione            mm   \n",
       "408245        5856 2021-02-01 04:00:00     0.0  Precipitazione            mm   \n",
       "...            ...                 ...     ...             ...           ...   \n",
       "4263566      10585 2021-02-28 23:10:00     0.0  Precipitazione            mm   \n",
       "4263567      10585 2021-02-28 23:20:00     0.0  Precipitazione            mm   \n",
       "4263568      10585 2021-02-28 23:30:00     0.0  Precipitazione            mm   \n",
       "4263569      10585 2021-02-28 23:40:00     0.0  Precipitazione            mm   \n",
       "4263570      10585 2021-02-28 23:50:00     0.0  Precipitazione            mm   \n",
       "\n",
       "        idstazione                  nomestazione quota provincia  \\\n",
       "408241         595           Filago v.Don Milani   190        BG   \n",
       "408242         595           Filago v.Don Milani   190        BG   \n",
       "408243         595           Filago v.Don Milani   190        BG   \n",
       "408244         595           Filago v.Don Milani   190        BG   \n",
       "408245         595           Filago v.Don Milani   190        BG   \n",
       "...            ...                           ...   ...       ...   \n",
       "4263566       1274  Perledo P.zza della stazione   212        LC   \n",
       "4263567       1274  Perledo P.zza della stazione   212        LC   \n",
       "4263568       1274  Perledo P.zza della stazione   212        LC   \n",
       "4263569       1274  Perledo P.zza della stazione   212        LC   \n",
       "4263570       1274  Perledo P.zza della stazione   212        LC   \n",
       "\n",
       "                       datastart storico cgb_nord cgb_est                lng  \\\n",
       "408241   1991-12-07T00:00:00.000       N  5053519  543342  9.556084255790864   \n",
       "408242   1991-12-07T00:00:00.000       N  5053519  543342  9.556084255790864   \n",
       "408243   1991-12-07T00:00:00.000       N  5053519  543342  9.556084255790864   \n",
       "408244   1991-12-07T00:00:00.000       N  5053519  543342  9.556084255790864   \n",
       "408245   1991-12-07T00:00:00.000       N  5053519  543342  9.556084255790864   \n",
       "...                          ...     ...      ...     ...                ...   \n",
       "4263566  2010-07-01T00:00:00.000       N  5095846  522171  9.286409208680807   \n",
       "4263567  2010-07-01T00:00:00.000       N  5095846  522171  9.286409208680807   \n",
       "4263568  2010-07-01T00:00:00.000       N  5095846  522171  9.286409208680807   \n",
       "4263569  2010-07-01T00:00:00.000       N  5095846  522171  9.286409208680807   \n",
       "4263570  2010-07-01T00:00:00.000       N  5095846  522171  9.286409208680807   \n",
       "\n",
       "                       lat                                           location  \\\n",
       "408241   45.63386450908066  {'latitude': '45.63386450908066', 'longitude':...   \n",
       "408242   45.63386450908066  {'latitude': '45.63386450908066', 'longitude':...   \n",
       "408243   45.63386450908066  {'latitude': '45.63386450908066', 'longitude':...   \n",
       "408244   45.63386450908066  {'latitude': '45.63386450908066', 'longitude':...   \n",
       "408245   45.63386450908066  {'latitude': '45.63386450908066', 'longitude':...   \n",
       "...                    ...                                                ...   \n",
       "4263566  46.01582830438376  {'latitude': '46.01582830438376', 'longitude':...   \n",
       "4263567  46.01582830438376  {'latitude': '46.01582830438376', 'longitude':...   \n",
       "4263568  46.01582830438376  {'latitude': '46.01582830438376', 'longitude':...   \n",
       "4263569  46.01582830438376  {'latitude': '46.01582830438376', 'longitude':...   \n",
       "4263570  46.01582830438376  {'latitude': '46.01582830438376', 'longitude':...   \n",
       "\n",
       "        :@computed_region_6hky_swhk :@computed_region_ttgh_9sm5 datastop  \n",
       "408241                            5                           5      NaN  \n",
       "408242                            5                           5      NaN  \n",
       "408243                            5                           5      NaN  \n",
       "408244                            5                           5      NaN  \n",
       "408245                            5                           5      NaN  \n",
       "...                             ...                         ...      ...  \n",
       "4263566                          10                          10      NaN  \n",
       "4263567                          10                          10      NaN  \n",
       "4263568                          10                          10      NaN  \n",
       "4263569                          10                          10      NaN  \n",
       "4263570                          10                          10      NaN  \n",
       "\n",
       "[709277 rows x 19 columns]"
      ]
     },
     "execution_count": 36,
     "metadata": {},
     "output_type": "execute_result"
    }
   ],
   "source": [
    "prec_st"
   ]
  },
  {
   "cell_type": "code",
   "execution_count": 37,
   "id": "b09d0ebb-084e-4c51-822c-097306d058ef",
   "metadata": {},
   "outputs": [],
   "source": [
    "# Remove Outliers\n",
    "# For precipitation values less than 100 mm/h\n",
    "prec_st = prec_st[prec_st.valore < 100]\n",
    "\n",
    "# For temperature using a Z-Score with high threshold\n",
    "threshold = 4\n",
    "temp_st['zscore'] = np.abs(stats.zscore(temp_st['valore'], nan_policy='propagate'))\n",
    "temp_st = temp_st[temp_st.zscore < threshold]"
   ]
  },
  {
   "cell_type": "markdown",
   "id": "cdf76818-0d2a-441d-a778-9d26177b7b6c",
   "metadata": {},
   "source": [
    "Create month precipitation and temperature dataframes:"
   ]
  },
  {
   "cell_type": "code",
   "execution_count": 38,
   "id": "f65239f8-7625-4562-930b-f68f4fa4dc9e",
   "metadata": {},
   "outputs": [],
   "source": [
    "prec_st['data'] = pd.to_datetime(prec_st['data'], format='%Y-%m-%d hh:mm:ss')\n",
    "temp_st['data'] = pd.to_datetime(temp_st['data'], format='%Y-%m-%d hh:mm:ss')"
   ]
  },
  {
   "cell_type": "code",
   "execution_count": 39,
   "id": "8da69bad-f941-49a8-a4b2-a7e621fefe56",
   "metadata": {},
   "outputs": [],
   "source": [
    "# Precipitation\n",
    "prec_mean = prec_st.groupby(pd.Grouper(freq='D', key='data')).mean()\n",
    "prec_mean = prec_mean.drop(columns=['idsensore'])\n",
    "prec_mean['data'] = prec_mean.index\n",
    "\n",
    "#Temperature\n",
    "temp_mean = temp_st.groupby(pd.Grouper(freq='D', key='data')).mean()\n",
    "temp_mean = temp_mean.drop(columns=['idsensore'])\n",
    "temp_mean['data'] = temp_mean.index"
   ]
  },
  {
   "cell_type": "markdown",
   "id": "ea93c92a-50f9-4cab-bba4-1b1d8238483b",
   "metadata": {},
   "source": [
    "## Plot mean temperature and precipitation for all ARPA sensor over Lombardy region"
   ]
  },
  {
   "cell_type": "code",
   "execution_count": 40,
   "id": "9c22f05a-37de-446c-b6c8-3908f1220f1f",
   "metadata": {},
   "outputs": [
    {
     "data": {
      "application/vnd.plotly.v1+json": {
       "config": {
        "plotlyServerURL": "https://plot.ly"
       },
       "data": [
        {
         "name": "Daily mean precipitation",
         "type": "scatter",
         "x": [
          "2021-02-01T00:00:00",
          "2021-02-02T00:00:00",
          "2021-02-03T00:00:00",
          "2021-02-04T00:00:00",
          "2021-02-05T00:00:00",
          "2021-02-06T00:00:00",
          "2021-02-07T00:00:00",
          "2021-02-08T00:00:00",
          "2021-02-09T00:00:00",
          "2021-02-10T00:00:00",
          "2021-02-11T00:00:00",
          "2021-02-12T00:00:00",
          "2021-02-13T00:00:00",
          "2021-02-14T00:00:00",
          "2021-02-15T00:00:00",
          "2021-02-16T00:00:00",
          "2021-02-17T00:00:00",
          "2021-02-18T00:00:00",
          "2021-02-19T00:00:00",
          "2021-02-20T00:00:00",
          "2021-02-21T00:00:00",
          "2021-02-22T00:00:00",
          "2021-02-23T00:00:00",
          "2021-02-24T00:00:00",
          "2021-02-25T00:00:00",
          "2021-02-26T00:00:00",
          "2021-02-27T00:00:00",
          "2021-02-28T00:00:00"
         ],
         "xaxis": "x",
         "y": [
          0.002196322632221147,
          0.004381206709505132,
          0.027618967546662182,
          0.004652340946510744,
          0.00475588160890463,
          0.005513995124821384,
          0.1900509987250319,
          0.01712863350630722,
          0.010227651767845231,
          0.07105152559468775,
          0.0036371202663337495,
          0.0006012108895380838,
          0.0007317834991745127,
          0.0015968232510983442,
          0.002085610966277016,
          0.010807948142185315,
          0.003712002705787849,
          0.002166820045176943,
          0.002324629614471638,
          0.0009231978000392851,
          0.0005874208030881551,
          9.89486703772418e-05,
          0.0007709657576378922,
          0.0006178003732543922,
          0.0004437299035369775,
          3.216985684413704e-05,
          0,
          4.504069748737252e-05
         ],
         "yaxis": "y"
        },
        {
         "name": "Daily mean temperature",
         "type": "scatter",
         "x": [
          "2021-02-01T00:00:00",
          "2021-02-02T00:00:00",
          "2021-02-03T00:00:00",
          "2021-02-04T00:00:00",
          "2021-02-05T00:00:00",
          "2021-02-06T00:00:00",
          "2021-02-07T00:00:00",
          "2021-02-08T00:00:00",
          "2021-02-09T00:00:00",
          "2021-02-10T00:00:00",
          "2021-02-11T00:00:00",
          "2021-02-12T00:00:00",
          "2021-02-13T00:00:00",
          "2021-02-14T00:00:00",
          "2021-02-15T00:00:00",
          "2021-02-16T00:00:00",
          "2021-02-17T00:00:00",
          "2021-02-18T00:00:00",
          "2021-02-19T00:00:00",
          "2021-02-20T00:00:00",
          "2021-02-21T00:00:00",
          "2021-02-22T00:00:00",
          "2021-02-23T00:00:00",
          "2021-02-24T00:00:00",
          "2021-02-25T00:00:00",
          "2021-02-26T00:00:00",
          "2021-02-27T00:00:00",
          "2021-02-28T00:00:00"
         ],
         "xaxis": "x",
         "y": [
          3.2975018498291107,
          2.89372356921342,
          3.5876450054652516,
          5.548590059922454,
          6.273367260390161,
          6.101713741669311,
          5.045299907281934,
          3.957487440766737,
          4.595614746868936,
          3.8559758849245522,
          3.3945315527994078,
          -0.15257410296411855,
          -3.451628072675454,
          -2.9579812791401214,
          -0.8671543499928804,
          2.8466267507751524,
          5.303868485733623,
          4.906068263515677,
          6.071145822188938,
          6.750785247299603,
          6.557333097219762,
          6.886093489740228,
          8.317305512257333,
          10.043564777112914,
          10.151118425709635,
          9.79832855271079,
          9.621177221021298,
          6.566269925611052
         ],
         "yaxis": "y2"
        }
       ],
       "layout": {
        "autosize": true,
        "template": {
         "data": {
          "bar": [
           {
            "error_x": {
             "color": "#2a3f5f"
            },
            "error_y": {
             "color": "#2a3f5f"
            },
            "marker": {
             "line": {
              "color": "#E5ECF6",
              "width": 0.5
             },
             "pattern": {
              "fillmode": "overlay",
              "size": 10,
              "solidity": 0.2
             }
            },
            "type": "bar"
           }
          ],
          "barpolar": [
           {
            "marker": {
             "line": {
              "color": "#E5ECF6",
              "width": 0.5
             },
             "pattern": {
              "fillmode": "overlay",
              "size": 10,
              "solidity": 0.2
             }
            },
            "type": "barpolar"
           }
          ],
          "carpet": [
           {
            "aaxis": {
             "endlinecolor": "#2a3f5f",
             "gridcolor": "white",
             "linecolor": "white",
             "minorgridcolor": "white",
             "startlinecolor": "#2a3f5f"
            },
            "baxis": {
             "endlinecolor": "#2a3f5f",
             "gridcolor": "white",
             "linecolor": "white",
             "minorgridcolor": "white",
             "startlinecolor": "#2a3f5f"
            },
            "type": "carpet"
           }
          ],
          "choropleth": [
           {
            "colorbar": {
             "outlinewidth": 0,
             "ticks": ""
            },
            "type": "choropleth"
           }
          ],
          "contour": [
           {
            "colorbar": {
             "outlinewidth": 0,
             "ticks": ""
            },
            "colorscale": [
             [
              0,
              "#0d0887"
             ],
             [
              0.1111111111111111,
              "#46039f"
             ],
             [
              0.2222222222222222,
              "#7201a8"
             ],
             [
              0.3333333333333333,
              "#9c179e"
             ],
             [
              0.4444444444444444,
              "#bd3786"
             ],
             [
              0.5555555555555556,
              "#d8576b"
             ],
             [
              0.6666666666666666,
              "#ed7953"
             ],
             [
              0.7777777777777778,
              "#fb9f3a"
             ],
             [
              0.8888888888888888,
              "#fdca26"
             ],
             [
              1,
              "#f0f921"
             ]
            ],
            "type": "contour"
           }
          ],
          "contourcarpet": [
           {
            "colorbar": {
             "outlinewidth": 0,
             "ticks": ""
            },
            "type": "contourcarpet"
           }
          ],
          "heatmap": [
           {
            "colorbar": {
             "outlinewidth": 0,
             "ticks": ""
            },
            "colorscale": [
             [
              0,
              "#0d0887"
             ],
             [
              0.1111111111111111,
              "#46039f"
             ],
             [
              0.2222222222222222,
              "#7201a8"
             ],
             [
              0.3333333333333333,
              "#9c179e"
             ],
             [
              0.4444444444444444,
              "#bd3786"
             ],
             [
              0.5555555555555556,
              "#d8576b"
             ],
             [
              0.6666666666666666,
              "#ed7953"
             ],
             [
              0.7777777777777778,
              "#fb9f3a"
             ],
             [
              0.8888888888888888,
              "#fdca26"
             ],
             [
              1,
              "#f0f921"
             ]
            ],
            "type": "heatmap"
           }
          ],
          "heatmapgl": [
           {
            "colorbar": {
             "outlinewidth": 0,
             "ticks": ""
            },
            "colorscale": [
             [
              0,
              "#0d0887"
             ],
             [
              0.1111111111111111,
              "#46039f"
             ],
             [
              0.2222222222222222,
              "#7201a8"
             ],
             [
              0.3333333333333333,
              "#9c179e"
             ],
             [
              0.4444444444444444,
              "#bd3786"
             ],
             [
              0.5555555555555556,
              "#d8576b"
             ],
             [
              0.6666666666666666,
              "#ed7953"
             ],
             [
              0.7777777777777778,
              "#fb9f3a"
             ],
             [
              0.8888888888888888,
              "#fdca26"
             ],
             [
              1,
              "#f0f921"
             ]
            ],
            "type": "heatmapgl"
           }
          ],
          "histogram": [
           {
            "marker": {
             "pattern": {
              "fillmode": "overlay",
              "size": 10,
              "solidity": 0.2
             }
            },
            "type": "histogram"
           }
          ],
          "histogram2d": [
           {
            "colorbar": {
             "outlinewidth": 0,
             "ticks": ""
            },
            "colorscale": [
             [
              0,
              "#0d0887"
             ],
             [
              0.1111111111111111,
              "#46039f"
             ],
             [
              0.2222222222222222,
              "#7201a8"
             ],
             [
              0.3333333333333333,
              "#9c179e"
             ],
             [
              0.4444444444444444,
              "#bd3786"
             ],
             [
              0.5555555555555556,
              "#d8576b"
             ],
             [
              0.6666666666666666,
              "#ed7953"
             ],
             [
              0.7777777777777778,
              "#fb9f3a"
             ],
             [
              0.8888888888888888,
              "#fdca26"
             ],
             [
              1,
              "#f0f921"
             ]
            ],
            "type": "histogram2d"
           }
          ],
          "histogram2dcontour": [
           {
            "colorbar": {
             "outlinewidth": 0,
             "ticks": ""
            },
            "colorscale": [
             [
              0,
              "#0d0887"
             ],
             [
              0.1111111111111111,
              "#46039f"
             ],
             [
              0.2222222222222222,
              "#7201a8"
             ],
             [
              0.3333333333333333,
              "#9c179e"
             ],
             [
              0.4444444444444444,
              "#bd3786"
             ],
             [
              0.5555555555555556,
              "#d8576b"
             ],
             [
              0.6666666666666666,
              "#ed7953"
             ],
             [
              0.7777777777777778,
              "#fb9f3a"
             ],
             [
              0.8888888888888888,
              "#fdca26"
             ],
             [
              1,
              "#f0f921"
             ]
            ],
            "type": "histogram2dcontour"
           }
          ],
          "mesh3d": [
           {
            "colorbar": {
             "outlinewidth": 0,
             "ticks": ""
            },
            "type": "mesh3d"
           }
          ],
          "parcoords": [
           {
            "line": {
             "colorbar": {
              "outlinewidth": 0,
              "ticks": ""
             }
            },
            "type": "parcoords"
           }
          ],
          "pie": [
           {
            "automargin": true,
            "type": "pie"
           }
          ],
          "scatter": [
           {
            "marker": {
             "colorbar": {
              "outlinewidth": 0,
              "ticks": ""
             }
            },
            "type": "scatter"
           }
          ],
          "scatter3d": [
           {
            "line": {
             "colorbar": {
              "outlinewidth": 0,
              "ticks": ""
             }
            },
            "marker": {
             "colorbar": {
              "outlinewidth": 0,
              "ticks": ""
             }
            },
            "type": "scatter3d"
           }
          ],
          "scattercarpet": [
           {
            "marker": {
             "colorbar": {
              "outlinewidth": 0,
              "ticks": ""
             }
            },
            "type": "scattercarpet"
           }
          ],
          "scattergeo": [
           {
            "marker": {
             "colorbar": {
              "outlinewidth": 0,
              "ticks": ""
             }
            },
            "type": "scattergeo"
           }
          ],
          "scattergl": [
           {
            "marker": {
             "colorbar": {
              "outlinewidth": 0,
              "ticks": ""
             }
            },
            "type": "scattergl"
           }
          ],
          "scattermapbox": [
           {
            "marker": {
             "colorbar": {
              "outlinewidth": 0,
              "ticks": ""
             }
            },
            "type": "scattermapbox"
           }
          ],
          "scatterpolar": [
           {
            "marker": {
             "colorbar": {
              "outlinewidth": 0,
              "ticks": ""
             }
            },
            "type": "scatterpolar"
           }
          ],
          "scatterpolargl": [
           {
            "marker": {
             "colorbar": {
              "outlinewidth": 0,
              "ticks": ""
             }
            },
            "type": "scatterpolargl"
           }
          ],
          "scatterternary": [
           {
            "marker": {
             "colorbar": {
              "outlinewidth": 0,
              "ticks": ""
             }
            },
            "type": "scatterternary"
           }
          ],
          "surface": [
           {
            "colorbar": {
             "outlinewidth": 0,
             "ticks": ""
            },
            "colorscale": [
             [
              0,
              "#0d0887"
             ],
             [
              0.1111111111111111,
              "#46039f"
             ],
             [
              0.2222222222222222,
              "#7201a8"
             ],
             [
              0.3333333333333333,
              "#9c179e"
             ],
             [
              0.4444444444444444,
              "#bd3786"
             ],
             [
              0.5555555555555556,
              "#d8576b"
             ],
             [
              0.6666666666666666,
              "#ed7953"
             ],
             [
              0.7777777777777778,
              "#fb9f3a"
             ],
             [
              0.8888888888888888,
              "#fdca26"
             ],
             [
              1,
              "#f0f921"
             ]
            ],
            "type": "surface"
           }
          ],
          "table": [
           {
            "cells": {
             "fill": {
              "color": "#EBF0F8"
             },
             "line": {
              "color": "white"
             }
            },
            "header": {
             "fill": {
              "color": "#C8D4E3"
             },
             "line": {
              "color": "white"
             }
            },
            "type": "table"
           }
          ]
         },
         "layout": {
          "annotationdefaults": {
           "arrowcolor": "#2a3f5f",
           "arrowhead": 0,
           "arrowwidth": 1
          },
          "autotypenumbers": "strict",
          "coloraxis": {
           "colorbar": {
            "outlinewidth": 0,
            "ticks": ""
           }
          },
          "colorscale": {
           "diverging": [
            [
             0,
             "#8e0152"
            ],
            [
             0.1,
             "#c51b7d"
            ],
            [
             0.2,
             "#de77ae"
            ],
            [
             0.3,
             "#f1b6da"
            ],
            [
             0.4,
             "#fde0ef"
            ],
            [
             0.5,
             "#f7f7f7"
            ],
            [
             0.6,
             "#e6f5d0"
            ],
            [
             0.7,
             "#b8e186"
            ],
            [
             0.8,
             "#7fbc41"
            ],
            [
             0.9,
             "#4d9221"
            ],
            [
             1,
             "#276419"
            ]
           ],
           "sequential": [
            [
             0,
             "#0d0887"
            ],
            [
             0.1111111111111111,
             "#46039f"
            ],
            [
             0.2222222222222222,
             "#7201a8"
            ],
            [
             0.3333333333333333,
             "#9c179e"
            ],
            [
             0.4444444444444444,
             "#bd3786"
            ],
            [
             0.5555555555555556,
             "#d8576b"
            ],
            [
             0.6666666666666666,
             "#ed7953"
            ],
            [
             0.7777777777777778,
             "#fb9f3a"
            ],
            [
             0.8888888888888888,
             "#fdca26"
            ],
            [
             1,
             "#f0f921"
            ]
           ],
           "sequentialminus": [
            [
             0,
             "#0d0887"
            ],
            [
             0.1111111111111111,
             "#46039f"
            ],
            [
             0.2222222222222222,
             "#7201a8"
            ],
            [
             0.3333333333333333,
             "#9c179e"
            ],
            [
             0.4444444444444444,
             "#bd3786"
            ],
            [
             0.5555555555555556,
             "#d8576b"
            ],
            [
             0.6666666666666666,
             "#ed7953"
            ],
            [
             0.7777777777777778,
             "#fb9f3a"
            ],
            [
             0.8888888888888888,
             "#fdca26"
            ],
            [
             1,
             "#f0f921"
            ]
           ]
          },
          "colorway": [
           "#636efa",
           "#EF553B",
           "#00cc96",
           "#ab63fa",
           "#FFA15A",
           "#19d3f3",
           "#FF6692",
           "#B6E880",
           "#FF97FF",
           "#FECB52"
          ],
          "font": {
           "color": "#2a3f5f"
          },
          "geo": {
           "bgcolor": "white",
           "lakecolor": "white",
           "landcolor": "#E5ECF6",
           "showlakes": true,
           "showland": true,
           "subunitcolor": "white"
          },
          "hoverlabel": {
           "align": "left"
          },
          "hovermode": "closest",
          "mapbox": {
           "style": "light"
          },
          "paper_bgcolor": "white",
          "plot_bgcolor": "#E5ECF6",
          "polar": {
           "angularaxis": {
            "gridcolor": "white",
            "linecolor": "white",
            "ticks": ""
           },
           "bgcolor": "#E5ECF6",
           "radialaxis": {
            "gridcolor": "white",
            "linecolor": "white",
            "ticks": ""
           }
          },
          "scene": {
           "xaxis": {
            "backgroundcolor": "#E5ECF6",
            "gridcolor": "white",
            "gridwidth": 2,
            "linecolor": "white",
            "showbackground": true,
            "ticks": "",
            "zerolinecolor": "white"
           },
           "yaxis": {
            "backgroundcolor": "#E5ECF6",
            "gridcolor": "white",
            "gridwidth": 2,
            "linecolor": "white",
            "showbackground": true,
            "ticks": "",
            "zerolinecolor": "white"
           },
           "zaxis": {
            "backgroundcolor": "#E5ECF6",
            "gridcolor": "white",
            "gridwidth": 2,
            "linecolor": "white",
            "showbackground": true,
            "ticks": "",
            "zerolinecolor": "white"
           }
          },
          "shapedefaults": {
           "line": {
            "color": "#2a3f5f"
           }
          },
          "ternary": {
           "aaxis": {
            "gridcolor": "white",
            "linecolor": "white",
            "ticks": ""
           },
           "baxis": {
            "gridcolor": "white",
            "linecolor": "white",
            "ticks": ""
           },
           "bgcolor": "#E5ECF6",
           "caxis": {
            "gridcolor": "white",
            "linecolor": "white",
            "ticks": ""
           }
          },
          "title": {
           "x": 0.05
          },
          "xaxis": {
           "automargin": true,
           "gridcolor": "white",
           "linecolor": "white",
           "ticks": "",
           "title": {
            "standoff": 15
           },
           "zerolinecolor": "white",
           "zerolinewidth": 2
          },
          "yaxis": {
           "automargin": true,
           "gridcolor": "white",
           "linecolor": "white",
           "ticks": "",
           "title": {
            "standoff": 15
           },
           "zerolinecolor": "white",
           "zerolinewidth": 2
          }
         }
        },
        "title": {
         "text": "Daily mean temperature and precipitation from ARPA ground sensors - 1 Month time range - February 2021"
        },
        "xaxis": {
         "anchor": "y",
         "autorange": true,
         "domain": [
          0,
          0.94
         ],
         "range": [
          "2021-02-01",
          "2021-02-28"
         ],
         "title": {
          "text": "Date"
         },
         "type": "date"
        },
        "yaxis": {
         "anchor": "x",
         "autorange": true,
         "domain": [
          0,
          1
         ],
         "range": [
          -0.010558388818057327,
          0.2006093875430892
         ],
         "title": {
          "text": "<b>Mean precipitation (mm/h)</b>"
         },
         "type": "linear"
        },
        "yaxis2": {
         "anchor": "x",
         "autorange": true,
         "overlaying": "y",
         "range": [
          -4.207336211474626,
          10.906826564508806
         ],
         "side": "right",
         "title": {
          "text": "<b>Mean temperature (°C)</b>"
         },
         "type": "linear"
        }
       }
      },
      "image/png": "[encoded data removed]",
      "text/html": [
       "<div>                            <div id=\"e06fb5c4-67dc-4f1b-b715-82c49e4c2b9b\" class=\"plotly-graph-div\" style=\"height:525px; width:100%;\"></div>            <script type=\"text/javascript\">                require([\"plotly\"], function(Plotly) {                    window.PLOTLYENV=window.PLOTLYENV || {};                                    if (document.getElementById(\"e06fb5c4-67dc-4f1b-b715-82c49e4c2b9b\")) {                    Plotly.newPlot(                        \"e06fb5c4-67dc-4f1b-b715-82c49e4c2b9b\",                        [{\"name\":\"Daily mean precipitation\",\"x\":[\"2021-02-01T00:00:00\",\"2021-02-02T00:00:00\",\"2021-02-03T00:00:00\",\"2021-02-04T00:00:00\",\"2021-02-05T00:00:00\",\"2021-02-06T00:00:00\",\"2021-02-07T00:00:00\",\"2021-02-08T00:00:00\",\"2021-02-09T00:00:00\",\"2021-02-10T00:00:00\",\"2021-02-11T00:00:00\",\"2021-02-12T00:00:00\",\"2021-02-13T00:00:00\",\"2021-02-14T00:00:00\",\"2021-02-15T00:00:00\",\"2021-02-16T00:00:00\",\"2021-02-17T00:00:00\",\"2021-02-18T00:00:00\",\"2021-02-19T00:00:00\",\"2021-02-20T00:00:00\",\"2021-02-21T00:00:00\",\"2021-02-22T00:00:00\",\"2021-02-23T00:00:00\",\"2021-02-24T00:00:00\",\"2021-02-25T00:00:00\",\"2021-02-26T00:00:00\",\"2021-02-27T00:00:00\",\"2021-02-28T00:00:00\"],\"y\":[0.002196322632221147,0.004381206709505132,0.027618967546662182,0.004652340946510744,0.00475588160890463,0.005513995124821384,0.1900509987250319,0.01712863350630722,0.010227651767845231,0.07105152559468775,0.0036371202663337495,0.0006012108895380838,0.0007317834991745127,0.0015968232510983442,0.002085610966277016,0.010807948142185315,0.003712002705787849,0.002166820045176943,0.002324629614471638,0.0009231978000392851,0.0005874208030881551,9.89486703772418e-05,0.0007709657576378922,0.0006178003732543922,0.0004437299035369775,3.216985684413704e-05,0.0,4.504069748737252e-05],\"type\":\"scatter\",\"xaxis\":\"x\",\"yaxis\":\"y\"},{\"name\":\"Daily mean temperature\",\"x\":[\"2021-02-01T00:00:00\",\"2021-02-02T00:00:00\",\"2021-02-03T00:00:00\",\"2021-02-04T00:00:00\",\"2021-02-05T00:00:00\",\"2021-02-06T00:00:00\",\"2021-02-07T00:00:00\",\"2021-02-08T00:00:00\",\"2021-02-09T00:00:00\",\"2021-02-10T00:00:00\",\"2021-02-11T00:00:00\",\"2021-02-12T00:00:00\",\"2021-02-13T00:00:00\",\"2021-02-14T00:00:00\",\"2021-02-15T00:00:00\",\"2021-02-16T00:00:00\",\"2021-02-17T00:00:00\",\"2021-02-18T00:00:00\",\"2021-02-19T00:00:00\",\"2021-02-20T00:00:00\",\"2021-02-21T00:00:00\",\"2021-02-22T00:00:00\",\"2021-02-23T00:00:00\",\"2021-02-24T00:00:00\",\"2021-02-25T00:00:00\",\"2021-02-26T00:00:00\",\"2021-02-27T00:00:00\",\"2021-02-28T00:00:00\"],\"y\":[3.2975018498291107,2.89372356921342,3.5876450054652516,5.548590059922454,6.273367260390161,6.101713741669311,5.045299907281934,3.957487440766737,4.595614746868936,3.8559758849245522,3.3945315527994078,-0.15257410296411855,-3.451628072675454,-2.9579812791401214,-0.8671543499928804,2.8466267507751524,5.303868485733623,4.906068263515677,6.071145822188938,6.750785247299603,6.557333097219762,6.886093489740228,8.317305512257333,10.043564777112914,10.151118425709635,9.79832855271079,9.621177221021298,6.566269925611052],\"type\":\"scatter\",\"xaxis\":\"x\",\"yaxis\":\"y2\"}],                        {\"template\":{\"data\":{\"bar\":[{\"error_x\":{\"color\":\"#2a3f5f\"},\"error_y\":{\"color\":\"#2a3f5f\"},\"marker\":{\"line\":{\"color\":\"#E5ECF6\",\"width\":0.5},\"pattern\":{\"fillmode\":\"overlay\",\"size\":10,\"solidity\":0.2}},\"type\":\"bar\"}],\"barpolar\":[{\"marker\":{\"line\":{\"color\":\"#E5ECF6\",\"width\":0.5},\"pattern\":{\"fillmode\":\"overlay\",\"size\":10,\"solidity\":0.2}},\"type\":\"barpolar\"}],\"carpet\":[{\"aaxis\":{\"endlinecolor\":\"#2a3f5f\",\"gridcolor\":\"white\",\"linecolor\":\"white\",\"minorgridcolor\":\"white\",\"startlinecolor\":\"#2a3f5f\"},\"baxis\":{\"endlinecolor\":\"#2a3f5f\",\"gridcolor\":\"white\",\"linecolor\":\"white\",\"minorgridcolor\":\"white\",\"startlinecolor\":\"#2a3f5f\"},\"type\":\"carpet\"}],\"choropleth\":[{\"colorbar\":{\"outlinewidth\":0,\"ticks\":\"\"},\"type\":\"choropleth\"}],\"contour\":[{\"colorbar\":{\"outlinewidth\":0,\"ticks\":\"\"},\"colorscale\":[[0.0,\"#0d0887\"],[0.1111111111111111,\"#46039f\"],[0.2222222222222222,\"#7201a8\"],[0.3333333333333333,\"#9c179e\"],[0.4444444444444444,\"#bd3786\"],[0.5555555555555556,\"#d8576b\"],[0.6666666666666666,\"#ed7953\"],[0.7777777777777778,\"#fb9f3a\"],[0.8888888888888888,\"#fdca26\"],[1.0,\"#f0f921\"]],\"type\":\"contour\"}],\"contourcarpet\":[{\"colorbar\":{\"outlinewidth\":0,\"ticks\":\"\"},\"type\":\"contourcarpet\"}],\"heatmap\":[{\"colorbar\":{\"outlinewidth\":0,\"ticks\":\"\"},\"colorscale\":[[0.0,\"#0d0887\"],[0.1111111111111111,\"#46039f\"],[0.2222222222222222,\"#7201a8\"],[0.3333333333333333,\"#9c179e\"],[0.4444444444444444,\"#bd3786\"],[0.5555555555555556,\"#d8576b\"],[0.6666666666666666,\"#ed7953\"],[0.7777777777777778,\"#fb9f3a\"],[0.8888888888888888,\"#fdca26\"],[1.0,\"#f0f921\"]],\"type\":\"heatmap\"}],\"heatmapgl\":[{\"colorbar\":{\"outlinewidth\":0,\"ticks\":\"\"},\"colorscale\":[[0.0,\"#0d0887\"],[0.1111111111111111,\"#46039f\"],[0.2222222222222222,\"#7201a8\"],[0.3333333333333333,\"#9c179e\"],[0.4444444444444444,\"#bd3786\"],[0.5555555555555556,\"#d8576b\"],[0.6666666666666666,\"#ed7953\"],[0.7777777777777778,\"#fb9f3a\"],[0.8888888888888888,\"#fdca26\"],[1.0,\"#f0f921\"]],\"type\":\"heatmapgl\"}],\"histogram\":[{\"marker\":{\"pattern\":{\"fillmode\":\"overlay\",\"size\":10,\"solidity\":0.2}},\"type\":\"histogram\"}],\"histogram2d\":[{\"colorbar\":{\"outlinewidth\":0,\"ticks\":\"\"},\"colorscale\":[[0.0,\"#0d0887\"],[0.1111111111111111,\"#46039f\"],[0.2222222222222222,\"#7201a8\"],[0.3333333333333333,\"#9c179e\"],[0.4444444444444444,\"#bd3786\"],[0.5555555555555556,\"#d8576b\"],[0.6666666666666666,\"#ed7953\"],[0.7777777777777778,\"#fb9f3a\"],[0.8888888888888888,\"#fdca26\"],[1.0,\"#f0f921\"]],\"type\":\"histogram2d\"}],\"histogram2dcontour\":[{\"colorbar\":{\"outlinewidth\":0,\"ticks\":\"\"},\"colorscale\":[[0.0,\"#0d0887\"],[0.1111111111111111,\"#46039f\"],[0.2222222222222222,\"#7201a8\"],[0.3333333333333333,\"#9c179e\"],[0.4444444444444444,\"#bd3786\"],[0.5555555555555556,\"#d8576b\"],[0.6666666666666666,\"#ed7953\"],[0.7777777777777778,\"#fb9f3a\"],[0.8888888888888888,\"#fdca26\"],[1.0,\"#f0f921\"]],\"type\":\"histogram2dcontour\"}],\"mesh3d\":[{\"colorbar\":{\"outlinewidth\":0,\"ticks\":\"\"},\"type\":\"mesh3d\"}],\"parcoords\":[{\"line\":{\"colorbar\":{\"outlinewidth\":0,\"ticks\":\"\"}},\"type\":\"parcoords\"}],\"pie\":[{\"automargin\":true,\"type\":\"pie\"}],\"scatter\":[{\"marker\":{\"colorbar\":{\"outlinewidth\":0,\"ticks\":\"\"}},\"type\":\"scatter\"}],\"scatter3d\":[{\"line\":{\"colorbar\":{\"outlinewidth\":0,\"ticks\":\"\"}},\"marker\":{\"colorbar\":{\"outlinewidth\":0,\"ticks\":\"\"}},\"type\":\"scatter3d\"}],\"scattercarpet\":[{\"marker\":{\"colorbar\":{\"outlinewidth\":0,\"ticks\":\"\"}},\"type\":\"scattercarpet\"}],\"scattergeo\":[{\"marker\":{\"colorbar\":{\"outlinewidth\":0,\"ticks\":\"\"}},\"type\":\"scattergeo\"}],\"scattergl\":[{\"marker\":{\"colorbar\":{\"outlinewidth\":0,\"ticks\":\"\"}},\"type\":\"scattergl\"}],\"scattermapbox\":[{\"marker\":{\"colorbar\":{\"outlinewidth\":0,\"ticks\":\"\"}},\"type\":\"scattermapbox\"}],\"scatterpolar\":[{\"marker\":{\"colorbar\":{\"outlinewidth\":0,\"ticks\":\"\"}},\"type\":\"scatterpolar\"}],\"scatterpolargl\":[{\"marker\":{\"colorbar\":{\"outlinewidth\":0,\"ticks\":\"\"}},\"type\":\"scatterpolargl\"}],\"scatterternary\":[{\"marker\":{\"colorbar\":{\"outlinewidth\":0,\"ticks\":\"\"}},\"type\":\"scatterternary\"}],\"surface\":[{\"colorbar\":{\"outlinewidth\":0,\"ticks\":\"\"},\"colorscale\":[[0.0,\"#0d0887\"],[0.1111111111111111,\"#46039f\"],[0.2222222222222222,\"#7201a8\"],[0.3333333333333333,\"#9c179e\"],[0.4444444444444444,\"#bd3786\"],[0.5555555555555556,\"#d8576b\"],[0.6666666666666666,\"#ed7953\"],[0.7777777777777778,\"#fb9f3a\"],[0.8888888888888888,\"#fdca26\"],[1.0,\"#f0f921\"]],\"type\":\"surface\"}],\"table\":[{\"cells\":{\"fill\":{\"color\":\"#EBF0F8\"},\"line\":{\"color\":\"white\"}},\"header\":{\"fill\":{\"color\":\"#C8D4E3\"},\"line\":{\"color\":\"white\"}},\"type\":\"table\"}]},\"layout\":{\"annotationdefaults\":{\"arrowcolor\":\"#2a3f5f\",\"arrowhead\":0,\"arrowwidth\":1},\"autotypenumbers\":\"strict\",\"coloraxis\":{\"colorbar\":{\"outlinewidth\":0,\"ticks\":\"\"}},\"colorscale\":{\"diverging\":[[0,\"#8e0152\"],[0.1,\"#c51b7d\"],[0.2,\"#de77ae\"],[0.3,\"#f1b6da\"],[0.4,\"#fde0ef\"],[0.5,\"#f7f7f7\"],[0.6,\"#e6f5d0\"],[0.7,\"#b8e186\"],[0.8,\"#7fbc41\"],[0.9,\"#4d9221\"],[1,\"#276419\"]],\"sequential\":[[0.0,\"#0d0887\"],[0.1111111111111111,\"#46039f\"],[0.2222222222222222,\"#7201a8\"],[0.3333333333333333,\"#9c179e\"],[0.4444444444444444,\"#bd3786\"],[0.5555555555555556,\"#d8576b\"],[0.6666666666666666,\"#ed7953\"],[0.7777777777777778,\"#fb9f3a\"],[0.8888888888888888,\"#fdca26\"],[1.0,\"#f0f921\"]],\"sequentialminus\":[[0.0,\"#0d0887\"],[0.1111111111111111,\"#46039f\"],[0.2222222222222222,\"#7201a8\"],[0.3333333333333333,\"#9c179e\"],[0.4444444444444444,\"#bd3786\"],[0.5555555555555556,\"#d8576b\"],[0.6666666666666666,\"#ed7953\"],[0.7777777777777778,\"#fb9f3a\"],[0.8888888888888888,\"#fdca26\"],[1.0,\"#f0f921\"]]},\"colorway\":[\"#636efa\",\"#EF553B\",\"#00cc96\",\"#ab63fa\",\"#FFA15A\",\"#19d3f3\",\"#FF6692\",\"#B6E880\",\"#FF97FF\",\"#FECB52\"],\"font\":{\"color\":\"#2a3f5f\"},\"geo\":{\"bgcolor\":\"white\",\"lakecolor\":\"white\",\"landcolor\":\"#E5ECF6\",\"showlakes\":true,\"showland\":true,\"subunitcolor\":\"white\"},\"hoverlabel\":{\"align\":\"left\"},\"hovermode\":\"closest\",\"mapbox\":{\"style\":\"light\"},\"paper_bgcolor\":\"white\",\"plot_bgcolor\":\"#E5ECF6\",\"polar\":{\"angularaxis\":{\"gridcolor\":\"white\",\"linecolor\":\"white\",\"ticks\":\"\"},\"bgcolor\":\"#E5ECF6\",\"radialaxis\":{\"gridcolor\":\"white\",\"linecolor\":\"white\",\"ticks\":\"\"}},\"scene\":{\"xaxis\":{\"backgroundcolor\":\"#E5ECF6\",\"gridcolor\":\"white\",\"gridwidth\":2,\"linecolor\":\"white\",\"showbackground\":true,\"ticks\":\"\",\"zerolinecolor\":\"white\"},\"yaxis\":{\"backgroundcolor\":\"#E5ECF6\",\"gridcolor\":\"white\",\"gridwidth\":2,\"linecolor\":\"white\",\"showbackground\":true,\"ticks\":\"\",\"zerolinecolor\":\"white\"},\"zaxis\":{\"backgroundcolor\":\"#E5ECF6\",\"gridcolor\":\"white\",\"gridwidth\":2,\"linecolor\":\"white\",\"showbackground\":true,\"ticks\":\"\",\"zerolinecolor\":\"white\"}},\"shapedefaults\":{\"line\":{\"color\":\"#2a3f5f\"}},\"ternary\":{\"aaxis\":{\"gridcolor\":\"white\",\"linecolor\":\"white\",\"ticks\":\"\"},\"baxis\":{\"gridcolor\":\"white\",\"linecolor\":\"white\",\"ticks\":\"\"},\"bgcolor\":\"#E5ECF6\",\"caxis\":{\"gridcolor\":\"white\",\"linecolor\":\"white\",\"ticks\":\"\"}},\"title\":{\"x\":0.05},\"xaxis\":{\"automargin\":true,\"gridcolor\":\"white\",\"linecolor\":\"white\",\"ticks\":\"\",\"title\":{\"standoff\":15},\"zerolinecolor\":\"white\",\"zerolinewidth\":2},\"yaxis\":{\"automargin\":true,\"gridcolor\":\"white\",\"linecolor\":\"white\",\"ticks\":\"\",\"title\":{\"standoff\":15},\"zerolinecolor\":\"white\",\"zerolinewidth\":2}}},\"xaxis\":{\"anchor\":\"y\",\"domain\":[0.0,0.94],\"title\":{\"text\":\"Date\"}},\"yaxis\":{\"anchor\":\"x\",\"domain\":[0.0,1.0],\"title\":{\"text\":\"<b>Mean precipitation (mm/h)</b>\"}},\"yaxis2\":{\"anchor\":\"x\",\"overlaying\":\"y\",\"side\":\"right\",\"title\":{\"text\":\"<b>Mean temperature (\\u00b0C)</b>\"}},\"title\":{\"text\":\"Daily mean temperature and precipitation from ARPA ground sensors - 1 Month time range - February 2021\"}},                        {\"responsive\": true}                    ).then(function(){\n",
       "                            \n",
       "var gd = document.getElementById('e06fb5c4-67dc-4f1b-b715-82c49e4c2b9b');\n",
       "var x = new MutationObserver(function (mutations, observer) {{\n",
       "        var display = window.getComputedStyle(gd).display;\n",
       "        if (!display || display === 'none') {{\n",
       "            console.log([gd, 'removed!']);\n",
       "            Plotly.purge(gd);\n",
       "            observer.disconnect();\n",
       "        }}\n",
       "}});\n",
       "\n",
       "// Listen for the removal of the full notebook cells\n",
       "var notebookContainer = gd.closest('#notebook-container');\n",
       "if (notebookContainer) {{\n",
       "    x.observe(notebookContainer, {childList: true});\n",
       "}}\n",
       "\n",
       "// Listen for the clearing of the current output cell\n",
       "var outputEl = gd.closest('.output');\n",
       "if (outputEl) {{\n",
       "    x.observe(outputEl, {childList: true});\n",
       "}}\n",
       "\n",
       "                        })                };                });            </script>        </div>"
      ]
     },
     "metadata": {},
     "output_type": "display_data"
    }
   ],
   "source": [
    "import matplotlib.pyplot as plt\n",
    "import plotly.graph_objects as go\n",
    "from plotly.subplots import make_subplots\n",
    "\n",
    "fig = make_subplots(specs=[[{\"secondary_y\": True}]])\n",
    "\n",
    "# Add traces\n",
    "fig.add_trace(\n",
    "    go.Scatter(x=prec_mean.index, y=prec_mean.valore, name=\"Daily mean precipitation\"),\n",
    "    secondary_y=False,\n",
    ")\n",
    "\n",
    "fig.add_trace(\n",
    "    go.Scatter(x=temp_mean.index, y=temp_mean.valore, name=\"Daily mean temperature\"),\n",
    "    secondary_y=True,\n",
    ")\n",
    "\n",
    "# Add figure title\n",
    "fig.update_layout(\n",
    "    title_text=\"Daily mean temperature and precipitation from ARPA ground sensors - 1 Month time range - \" +str(start_date_dt.strftime(\"%B %Y\"))\n",
    ")\n",
    "\n",
    "# Set x-axis title\n",
    "fig.update_xaxes(title_text=\"Date\")\n",
    "\n",
    "# Set y-axes titles\n",
    "fig.update_yaxes(title_text=\"<b>Mean precipitation (mm/h)</b>\", secondary_y=False)\n",
    "fig.update_yaxes(title_text=\"<b>Mean temperature (°C)</b>\", secondary_y=True)\n",
    "\n",
    "fig.show()"
   ]
  },
  {
   "cell_type": "markdown",
   "id": "7d1846d6-2bfa-49da-bb1f-6206304c376c",
   "metadata": {},
   "source": [
    "----"
   ]
  },
  {
   "cell_type": "markdown",
   "id": "f285d35c-2beb-405d-b74d-3f937de77a1d",
   "metadata": {},
   "source": [
    "Could be used for longer time ranges. With 1 month is better to use graph maybe"
   ]
  },
  {
   "cell_type": "code",
   "execution_count": null,
   "id": "aaaa3859-2057-439a-a163-c8254a8dcae6",
   "metadata": {},
   "outputs": [],
   "source": [
    "prec_mean['roll'] = prec_mean['valore'].rolling(7).mean()\n",
    "temp_mean['roll'] = temp_mean['valore'].rolling(7).mean()"
   ]
  },
  {
   "cell_type": "code",
   "execution_count": null,
   "id": "d3b8dd9f-109a-4cde-8795-b6e812a54ed8",
   "metadata": {},
   "outputs": [],
   "source": [
    "prec_mean_min = prec_mean['roll'].min()\n",
    "temp_mean_max = temp_mean['roll'].max()"
   ]
  },
  {
   "cell_type": "code",
   "execution_count": null,
   "id": "d5d416f6-be7a-4308-a8c9-63786edd6d1e",
   "metadata": {},
   "outputs": [],
   "source": [
    "final_prec = prec_mean.loc[prec_mean['roll'] == prec_mean_min]\n",
    "final_temp = temp_mean.loc[temp_mean['roll'] == temp_mean_max]"
   ]
  },
  {
   "cell_type": "code",
   "execution_count": null,
   "id": "5905408e-b77f-4c90-92d6-7af9319ecabe",
   "metadata": {},
   "outputs": [],
   "source": [
    "print('Least raining period: ' + str(final_prec.index[0]-timedelta(days=6))[0:10], 'to '+ str(final_prec.index[0])[0:10])\n",
    "print('Highest temperature period: ' + str(final_temp.index[0]-timedelta(days=6))[0:10], 'to '+ str(final_temp.index[0])[0:10])"
   ]
  },
  {
   "cell_type": "code",
   "execution_count": null,
   "id": "6e1020b4-bf03-4af0-bc3e-1219ee3b06ae",
   "metadata": {},
   "outputs": [],
   "source": [
    "prec_mean"
   ]
  },
  {
   "cell_type": "code",
   "execution_count": null,
   "id": "74dc090d-7c4b-4262-8807-f387295fb835",
   "metadata": {},
   "outputs": [],
   "source": [
    "temp_mean"
   ]
  }
 ],
 "metadata": {
  "kernelspec": {
   "display_name": "Python 3 (ipykernel)",
   "language": "python",
   "name": "python3"
  },
  "language_info": {
   "codemirror_mode": {
    "name": "ipython",
    "version": 3
   },
   "file_extension": ".py",
   "mimetype": "text/x-python",
   "name": "python",
   "nbconvert_exporter": "python",
   "pygments_lexer": "ipython3",
   "version": "3.9.10"
  }
 },
 "nbformat": 4,
 "nbformat_minor": 5
}
