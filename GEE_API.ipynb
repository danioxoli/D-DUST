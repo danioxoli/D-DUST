{
 "cells": [
  {
   "cell_type": "markdown",
   "id": "7df1344b",
   "metadata": {},
   "source": [
    "# Google Earth Engine API - geemap"
   ]
  },
  {
   "cell_type": "markdown",
   "id": "ba94fea2",
   "metadata": {},
   "source": [
    "Reference material and datasets:\n",
    "1. geemap site and documentation: https://geemap.org/\n",
    "2. geemap GitHub repository: https://github.com/giswqs/geemap\n",
    "3. Google Earth Engine catalog: https://developers.google.com/earth-engine/datasets\n",
    "\n",
    "Each paragraph links to the specific resource used in this notebook."
   ]
  },
  {
   "cell_type": "markdown",
   "id": "67f665a1",
   "metadata": {},
   "source": [
    "This notebook allows access to [Google Earth Engine API](https://developers.google.com/earth-engine/datasets) using [geemap](https://geemap.org/) Python package and it requests data over the region identified by the bounding box given as input."
   ]
  },
  {
   "cell_type": "markdown",
   "id": "dd30dcd6",
   "metadata": {},
   "source": [
    "### Import libraries"
   ]
  },
  {
   "cell_type": "code",
   "execution_count": null,
   "id": "775426b5",
   "metadata": {},
   "outputs": [],
   "source": [
    "import ee\n",
    "import geemap\n",
    "import os\n",
    "import geopandas as gpd\n",
    "import json\n",
    "import rasterio as rio\n",
    "from matplotlib import pyplot"
   ]
  },
  {
   "cell_type": "markdown",
   "id": "b5aa9781",
   "metadata": {},
   "source": [
    "### Authentication\n",
    "A Google account is required to be able to log in and provide the requested URL:"
   ]
  },
  {
   "cell_type": "code",
   "execution_count": null,
   "id": "d9725309",
   "metadata": {},
   "outputs": [],
   "source": [
    "ee.Authenticate()"
   ]
  },
  {
   "cell_type": "code",
   "execution_count": null,
   "id": "1131cce5",
   "metadata": {},
   "outputs": [],
   "source": [
    "ee.Initialize()"
   ]
  },
  {
   "cell_type": "code",
   "execution_count": null,
   "id": "f6d71feb",
   "metadata": {},
   "outputs": [],
   "source": [
    "cwd = os.getcwd()"
   ]
  },
  {
   "cell_type": "markdown",
   "id": "57610d76",
   "metadata": {},
   "source": [
    "\n",
    "### Bounding Box selection\n",
    "The bounding box for the project is given as input and the ROI is selected for the following calculations:"
   ]
  },
  {
   "cell_type": "code",
   "execution_count": null,
   "id": "3db8c045",
   "metadata": {},
   "outputs": [],
   "source": [
    "area_path = cwd + '/bounding_box/bounding_box_buffer20.gpkg'\n",
    "area = gpd.read_file(area_path).to_crs(4326)\n",
    "bounds = area.total_bounds"
   ]
  },
  {
   "cell_type": "code",
   "execution_count": null,
   "id": "ae413095",
   "metadata": {},
   "outputs": [],
   "source": [
    "roi = ee.Geometry.BBox(bounds[0],bounds[1],bounds[2],bounds[3])"
   ]
  },
  {
   "cell_type": "markdown",
   "id": "d47f19d7",
   "metadata": {},
   "source": [
    "### Date selection\n",
    "The date is provided with the following order: (yyyy-mm-dd)"
   ]
  },
  {
   "cell_type": "code",
   "execution_count": null,
   "id": "ae7e2a70",
   "metadata": {},
   "outputs": [],
   "source": [
    "start_date = '2020-03-01'\n",
    "end_date = '2020-03-20'"
   ]
  },
  {
   "cell_type": "markdown",
   "id": "c69ac999",
   "metadata": {},
   "source": [
    "---"
   ]
  },
  {
   "cell_type": "markdown",
   "id": "15a30731",
   "metadata": {},
   "source": [
    "# [Google Earth Engine - NO2 - Sentinel-5P Tropomi](https://developers.google.com/earth-engine/datasets/catalog/COPERNICUS_S5P_OFFL_L3_NO2) "
   ]
  },
  {
   "cell_type": "code",
   "execution_count": null,
   "id": "e3015866",
   "metadata": {},
   "outputs": [],
   "source": [
    "#Create a map\n",
    "Map_no2 = geemap.Map(center=[45.5,10], zoom = 7 )\n",
    "Map_no2"
   ]
  },
  {
   "cell_type": "code",
   "execution_count": null,
   "id": "d4c364d2",
   "metadata": {},
   "outputs": [],
   "source": [
    "#Access to NO2 image collection, selecting the band name and giving a date range\n",
    "no2 = ee.ImageCollection('COPERNICUS/S5P/OFFL/L3_NO2')\\\n",
    "  .select('tropospheric_NO2_column_number_density')\\\n",
    "  .filterDate(start_date, end_date);\n",
    "\n",
    "#Image visualization properties\n",
    "no2_viz = {\n",
    "    'min': 0,\n",
    "    'max': 0.0001,\n",
    "    'opacity': 0.75,\n",
    "    'palette': ['black', 'blue', 'purple', 'cyan', 'green', 'yellow', 'red']\n",
    "};\n",
    "\n",
    "#Calculate the mean value for each pixel in the time range\n",
    "no2 = no2.mean()\n",
    "Map_no2 .addLayer(no2, no2_viz, 'so2');"
   ]
  },
  {
   "cell_type": "code",
   "execution_count": null,
   "id": "48cee5b5",
   "metadata": {},
   "outputs": [],
   "source": [
    "#Clip over the ROI previously defined\n",
    "no2_clip = no2.clip(roi)\n",
    "Map_no2.addLayer(no2_clip, no2_viz, 'no2');"
   ]
  },
  {
   "cell_type": "code",
   "execution_count": null,
   "id": "0974b311",
   "metadata": {},
   "outputs": [],
   "source": [
    "# Set output directory\n",
    "out_dir = os.path.expanduser(cwd + '/temp')\n",
    "\n",
    "if not os.path.exists(out_dir):\n",
    "    os.makedirs(out_dir)\n",
    "\n",
    "filename = os.path.join(out_dir, 'no2.tif')"
   ]
  },
  {
   "cell_type": "code",
   "execution_count": null,
   "id": "57bab351",
   "metadata": {},
   "outputs": [],
   "source": [
    "#Export the NO2 .tif file in the directory selected by filename\n",
    "geemap.ee_export_image(no2_clip, filename=filename, scale = 1000)"
   ]
  },
  {
   "cell_type": "markdown",
   "id": "980571bb",
   "metadata": {},
   "source": [
    "---"
   ]
  },
  {
   "cell_type": "markdown",
   "id": "0911d9ae",
   "metadata": {},
   "source": [
    "# [Google Earth Engine - SO2 - Sentinel-5P Tropomi](https://developers.google.com/earth-engine/datasets/catalog/COPERNICUS_S5P_OFFL_L3_SO2) "
   ]
  },
  {
   "cell_type": "code",
   "execution_count": null,
   "id": "92413e16",
   "metadata": {},
   "outputs": [],
   "source": [
    "Map_so2 = geemap.Map(center=[45.5,10], zoom = 7 )\n",
    "Map_so2 "
   ]
  },
  {
   "cell_type": "code",
   "execution_count": null,
   "id": "7605fa44",
   "metadata": {},
   "outputs": [],
   "source": [
    "#Access to SO2 image collection, selecting the band name and giving a date range\n",
    "so2 = ee.ImageCollection('COPERNICUS/S5P/OFFL/L3_SO2')\\\n",
    "  .select('SO2_column_number_density')\\\n",
    "  .filterDate(start_date, end_date);\n",
    "\n",
    "#Image visualization properties\n",
    "so2_viz = {\n",
    "    'min': 0,\n",
    "    'max': 0.001,\n",
    "    'opacity': 0.75,\n",
    "    'palette': ['black', 'blue', 'purple', 'cyan', 'green', 'yellow', 'red']\n",
    "};\n",
    "\n",
    "#Calculate the mean value for each pixel in the time range\n",
    "so2 = so2.mean()\n",
    "Map_so2 .addLayer(so2, so2_viz, 'so2');"
   ]
  },
  {
   "cell_type": "code",
   "execution_count": null,
   "id": "3b64d4f3",
   "metadata": {},
   "outputs": [],
   "source": [
    "#Clip over the ROI previously defined\n",
    "so2_clip = so2.clip(roi)\n",
    "Map_so2 .addLayer(so2_clip, so2_viz, 'so2');"
   ]
  },
  {
   "cell_type": "code",
   "execution_count": null,
   "id": "b4d0e736",
   "metadata": {},
   "outputs": [],
   "source": [
    "# Set output directory for SO2\n",
    "out_dir = os.path.expanduser(cwd + '/temp')\n",
    "\n",
    "filename = os.path.join(out_dir, 'so2.tif')"
   ]
  },
  {
   "cell_type": "code",
   "execution_count": null,
   "id": "48fa15c3",
   "metadata": {},
   "outputs": [],
   "source": [
    "geemap.ee_export_image(so2_clip, filename=filename, scale=1000)"
   ]
  },
  {
   "cell_type": "markdown",
   "id": "ccc271c4",
   "metadata": {},
   "source": [
    "---"
   ]
  },
  {
   "cell_type": "markdown",
   "id": "1b5f196a",
   "metadata": {},
   "source": [
    "# [Google Earth Engine - UV Aerosol Index - Sentinel-5P Tropomi](https://developers.google.com/earth-engine/datasets/catalog/COPERNICUS_S5P_OFFL_L3_AER_AI) "
   ]
  },
  {
   "cell_type": "code",
   "execution_count": null,
   "id": "d024f155",
   "metadata": {},
   "outputs": [],
   "source": [
    "Map_uvai = geemap.Map(center=[45.5,10], zoom = 7 )\n",
    "Map_uvai"
   ]
  },
  {
   "cell_type": "code",
   "execution_count": null,
   "id": "e8555188",
   "metadata": {},
   "outputs": [],
   "source": [
    "#Access to UV Aerosol index image collection, selecting the band name and giving a date range\n",
    "uvai = ee.ImageCollection('COPERNICUS/S5P/OFFL/L3_AER_AI')\\\n",
    "  .select('absorbing_aerosol_index')\\\n",
    "  .filterDate(start_date, end_date);\n",
    "\n",
    "#Image visualization properties\n",
    "uvai_viz = {\n",
    "    'min': -1,\n",
    "    'max': 0.05,\n",
    "    'opacity': 0.75,\n",
    "    'palette': ['black', 'blue', 'purple', 'cyan', 'green', 'yellow', 'red']\n",
    "};\n",
    "\n",
    "#Calculate the mean value for each pixel in the time range\n",
    "uvai = uvai.mean()\n",
    "Map_uvai.addLayer(uvai, uvai_viz, 'uvai');"
   ]
  },
  {
   "cell_type": "code",
   "execution_count": null,
   "id": "4439b00b",
   "metadata": {},
   "outputs": [],
   "source": [
    "#Clip over the ROI previously defined\n",
    "uvai_clip = uvai.clip(roi)\n",
    "Map_uvai.addLayer(uvai_clip, uvai_viz, 'uvai');"
   ]
  },
  {
   "cell_type": "code",
   "execution_count": null,
   "id": "5a72c762",
   "metadata": {},
   "outputs": [],
   "source": [
    "# Set output directory for UVAI\n",
    "out_dir = os.path.expanduser(cwd + '/temp')\n",
    "\n",
    "filename = os.path.join(out_dir, 'uvai.tif')"
   ]
  },
  {
   "cell_type": "code",
   "execution_count": null,
   "id": "07c24195",
   "metadata": {},
   "outputs": [],
   "source": [
    "geemap.ee_export_image(uvai_clip, filename=filename, scale=1000)"
   ]
  },
  {
   "cell_type": "markdown",
   "id": "7478b63d",
   "metadata": {},
   "source": [
    "- - -"
   ]
  },
  {
   "cell_type": "markdown",
   "id": "714766df",
   "metadata": {},
   "source": [
    "# [Google Earth Engine - Carbon Monoxide - Sentinel-5P Tropomi](https://developers.google.com/earth-engine/datasets/catalog/COPERNICUS_S5P_OFFL_L3_CO) "
   ]
  },
  {
   "cell_type": "code",
   "execution_count": null,
   "id": "812bc1e3",
   "metadata": {},
   "outputs": [],
   "source": [
    "Map_co = geemap.Map(center=[45.5,10], zoom = 7 )\n",
    "Map_co"
   ]
  },
  {
   "cell_type": "code",
   "execution_count": null,
   "id": "cf057654",
   "metadata": {},
   "outputs": [],
   "source": [
    "#Access to CO image collection, selecting the band name and giving a date range\n",
    "co = ee.ImageCollection('COPERNICUS/S5P/OFFL/L3_CO')\\\n",
    "  .select('CO_column_number_density')\\\n",
    "  .filterDate(start_date, end_date);\n",
    "\n",
    "#Image visualization properties\n",
    "co_viz = {\n",
    "    'min': 0,\n",
    "    'max': 0.05,\n",
    "    'opacity': 0.75,\n",
    "    'palette': ['black', 'blue', 'purple', 'cyan', 'green', 'yellow', 'red']\n",
    "};\n",
    "\n",
    "co = co.mean()\n",
    "Map_co.addLayer(co, co_viz, 'co');"
   ]
  },
  {
   "cell_type": "code",
   "execution_count": null,
   "id": "9857e8a0",
   "metadata": {},
   "outputs": [],
   "source": [
    "#Clip over the ROI previously defined\n",
    "co_clip = co.clip(roi)\n",
    "Map_co.addLayer(co_clip, co_viz, 'co');"
   ]
  },
  {
   "cell_type": "code",
   "execution_count": null,
   "id": "7d4be7e8",
   "metadata": {},
   "outputs": [],
   "source": [
    "# Set output directory for CO\n",
    "out_dir = os.path.expanduser(cwd + '/temp')\n",
    "\n",
    "filename = os.path.join(out_dir, 'co.tif')"
   ]
  },
  {
   "cell_type": "code",
   "execution_count": null,
   "id": "a4308932",
   "metadata": {},
   "outputs": [],
   "source": [
    "geemap.ee_export_image(co_clip, filename=filename, scale=1000)"
   ]
  },
  {
   "cell_type": "markdown",
   "id": "b985a024",
   "metadata": {},
   "source": [
    "- - -"
   ]
  },
  {
   "cell_type": "markdown",
   "id": "b52b12d2",
   "metadata": {},
   "source": [
    "# [Google Earth Engine - Formaldehyde - Sentinel-5P Tropomi](https://developers.google.com/earth-engine/datasets/catalog/COPERNICUS_S5P_OFFL_L3_HCHO) "
   ]
  },
  {
   "cell_type": "code",
   "execution_count": null,
   "id": "98a3a76e",
   "metadata": {},
   "outputs": [],
   "source": [
    "Map_form = geemap.Map(center=[45.5,10], zoom = 7 )\n",
    "Map_form"
   ]
  },
  {
   "cell_type": "code",
   "execution_count": null,
   "id": "53f21e85",
   "metadata": {},
   "outputs": [],
   "source": [
    "#Access to HCHO image collection, selecting the band name and giving a date range\n",
    "form = ee.ImageCollection('COPERNICUS/S5P/OFFL/L3_HCHO')\\\n",
    "  .select('tropospheric_HCHO_column_number_density')\\\n",
    "  .filterDate(start_date, end_date);\n",
    "\n",
    "#Image visualization properties\n",
    "form_viz = {\n",
    "    'min': 0,\n",
    "    'max': 0.0003,\n",
    "    'opacity': 0.75,\n",
    "    'palette': ['black', 'blue', 'purple', 'cyan', 'green', 'yellow', 'red']\n",
    "};\n",
    "\n",
    "#Calculate the mean value for each pixel in the time range\n",
    "form = form.mean()\n",
    "Map_form.addLayer(form, form_viz, 'form');"
   ]
  },
  {
   "cell_type": "code",
   "execution_count": null,
   "id": "504d9e4e",
   "metadata": {},
   "outputs": [],
   "source": [
    "#Clip over the ROI previously defined\n",
    "form_clip = form.clip(roi)\n",
    "Map_form.addLayer(form_clip, form_viz, 'form');"
   ]
  },
  {
   "cell_type": "code",
   "execution_count": null,
   "id": "f8316be8",
   "metadata": {},
   "outputs": [],
   "source": [
    "# Set output directory for Ozone\n",
    "out_dir = os.path.expanduser(cwd + '/temp')\n",
    "\n",
    "filename = os.path.join(out_dir, 'form.tif')"
   ]
  },
  {
   "cell_type": "code",
   "execution_count": null,
   "id": "8e2799f4",
   "metadata": {},
   "outputs": [],
   "source": [
    "geemap.ee_export_image(form_clip, filename=filename, scale=1000)"
   ]
  },
  {
   "cell_type": "markdown",
   "id": "34cfe125",
   "metadata": {},
   "source": [
    "---"
   ]
  },
  {
   "cell_type": "markdown",
   "id": "868e968a",
   "metadata": {},
   "source": [
    "# [Google Earth Engine - Ozone - Sentinel-5P Tropomi](https://developers.google.com/earth-engine/datasets/catalog/COPERNICUS_S5P_OFFL_L3_O3) "
   ]
  },
  {
   "cell_type": "code",
   "execution_count": null,
   "id": "ffecf7bb",
   "metadata": {},
   "outputs": [],
   "source": [
    "Map_ozone = geemap.Map(center=[45.5,10], zoom = 7 )\n",
    "Map_ozone"
   ]
  },
  {
   "cell_type": "code",
   "execution_count": null,
   "id": "3c1ae6ac",
   "metadata": {},
   "outputs": [],
   "source": [
    "#Access to O3 image collection, selecting the band name and giving a date range\n",
    "ozone = ee.ImageCollection('COPERNICUS/S5P/OFFL/L3_O3')\\\n",
    "  .select('O3_column_number_density')\\\n",
    "  .filterDate(start_date, end_date);\n",
    "\n",
    "#Image visualization properties\n",
    "ozone_viz = {\n",
    "    'min': 0.14,\n",
    "    'max': 0.17,\n",
    "    'opacity': 0.75,\n",
    "    'palette': ['black', 'blue', 'purple', 'cyan', 'green', 'yellow', 'red']\n",
    "};\n",
    "\n",
    "#Calculate the mean value for each pixel in the time range\n",
    "ozone = ozone.mean()\n",
    "Map_ozone.addLayer(ozone, ozone_viz, 'ozone');"
   ]
  },
  {
   "cell_type": "code",
   "execution_count": null,
   "id": "afd9ad28",
   "metadata": {},
   "outputs": [],
   "source": [
    "#Clip over the ROI previously defined\n",
    "ozone_clip = ozone.clip(roi)\n",
    "Map_ozone.addLayer(ozone_clip, ozone_viz, 'ozone');"
   ]
  },
  {
   "cell_type": "code",
   "execution_count": null,
   "id": "cb725792",
   "metadata": {},
   "outputs": [],
   "source": [
    "# Set output directory for Ozone\n",
    "out_dir = os.path.expanduser(cwd + '/temp')\n",
    "\n",
    "filename = os.path.join(out_dir, 'ozone.tif')"
   ]
  },
  {
   "cell_type": "code",
   "execution_count": null,
   "id": "25af9f82",
   "metadata": {},
   "outputs": [],
   "source": [
    "geemap.ee_export_image(ozone_clip, filename=filename, scale=1000)"
   ]
  },
  {
   "cell_type": "markdown",
   "id": "617db008",
   "metadata": {},
   "source": [
    "- - -"
   ]
  },
  {
   "cell_type": "markdown",
   "id": "8501a882",
   "metadata": {},
   "source": [
    "# [Google Earth Engine - AOD 550nm - Terra & Aqua MAIAC Land Aerosol Optical Depth - 1 km](https://developers.google.com/earth-engine/datasets/catalog/MODIS_006_MCD19A2_GRANULES) "
   ]
  },
  {
   "cell_type": "code",
   "execution_count": null,
   "id": "daec1ce9",
   "metadata": {},
   "outputs": [],
   "source": [
    "Map_aod55 = geemap.Map(center=[45.5,10], zoom = 7 )\n",
    "Map_aod55"
   ]
  },
  {
   "cell_type": "code",
   "execution_count": null,
   "id": "c0d79b66",
   "metadata": {},
   "outputs": [],
   "source": [
    "#Access to AOD 500 nm image collection, selecting the band name and giving a date range\n",
    "aod55 = ee.ImageCollection('MODIS/006/MCD19A2_GRANULES')\\\n",
    "  .select('Optical_Depth_055')\\\n",
    "  .filterDate(start_date, end_date);\n",
    "\n",
    "#Image visualization properties\n",
    "aod55_viz = {\n",
    "    'min': 0,\n",
    "    'max': 250,\n",
    "    'opacity': 0.75,\n",
    "    'palette': ['black', 'blue', 'purple', 'cyan', 'green', 'yellow', 'red']\n",
    "};\n",
    "\n",
    "#Calculate the mean value for each pixel in the time range\n",
    "aod55 = aod55.mean()\n",
    "Map_aod55.addLayer(aod55, aod55_viz, 'aod55');"
   ]
  },
  {
   "cell_type": "code",
   "execution_count": null,
   "id": "17288b42",
   "metadata": {},
   "outputs": [],
   "source": [
    "#Clip over the ROI previously defined\n",
    "aod55_clip = aod55.clip(roi)\n",
    "Map_aod55.addLayer(aod55_clip, aod55_viz, 'aod55');"
   ]
  },
  {
   "cell_type": "code",
   "execution_count": null,
   "id": "f862a8e2",
   "metadata": {},
   "outputs": [],
   "source": [
    "# Set output directory for AOD\n",
    "out_dir = os.path.expanduser(cwd + '/temp')\n",
    "\n",
    "filename = os.path.join(out_dir, 'aod_055.tif')"
   ]
  },
  {
   "cell_type": "code",
   "execution_count": null,
   "id": "50582976",
   "metadata": {},
   "outputs": [],
   "source": [
    "geemap.ee_export_image(aod55_clip, filename=filename, scale=1000)"
   ]
  },
  {
   "cell_type": "markdown",
   "id": "f49218a3",
   "metadata": {},
   "source": [
    "- - -"
   ]
  },
  {
   "cell_type": "markdown",
   "id": "bd3ca9fb",
   "metadata": {},
   "source": [
    "# [Google Earth Engine - AOD 470nm - Terra & Aqua MAIAC Land Aerosol Optical Depth - 1 km](https://developers.google.com/earth-engine/datasets/catalog/MODIS_006_MCD19A2_GRANULES) "
   ]
  },
  {
   "cell_type": "code",
   "execution_count": null,
   "id": "324bb290",
   "metadata": {},
   "outputs": [],
   "source": [
    "Map_aod47 = geemap.Map(center=[45.5,10], zoom = 7 )\n",
    "Map_aod47"
   ]
  },
  {
   "cell_type": "code",
   "execution_count": null,
   "id": "43a95793",
   "metadata": {},
   "outputs": [],
   "source": [
    "#Access to AOD 470 nm image collection, selecting the band name and giving a date range\n",
    "aod47 = ee.ImageCollection('MODIS/006/MCD19A2_GRANULES')\\\n",
    "  .select('Optical_Depth_047')\\\n",
    "  .filterDate(start_date, end_date);\n",
    "\n",
    "#Image visualization properties\n",
    "aod47_viz = {\n",
    "    'min': 0,\n",
    "    'max': 250,\n",
    "    'opacity': 0.75,\n",
    "    'palette': ['black', 'blue', 'purple', 'cyan', 'green', 'yellow', 'red']\n",
    "};\n",
    "\n",
    "#Calculate the mean value for each pixel in the time range\n",
    "aod47 = aod47.mean()\n",
    "Map_aod47.addLayer(aod47, aod47_viz, 'aod47');"
   ]
  },
  {
   "cell_type": "code",
   "execution_count": null,
   "id": "8a1b3dcb",
   "metadata": {},
   "outputs": [],
   "source": [
    "#Clip over the ROI previously defined\n",
    "aod47_clip = aod47.clip(roi)\n",
    "Map_aod47.addLayer(aod47_clip, aod47_viz, 'aod47');"
   ]
  },
  {
   "cell_type": "code",
   "execution_count": null,
   "id": "04d088b4",
   "metadata": {},
   "outputs": [],
   "source": [
    "# Set output directory for AOD\n",
    "out_dir = os.path.expanduser(cwd + '/temp')\n",
    "\n",
    "filename = os.path.join(out_dir, 'aod_047.tif')"
   ]
  },
  {
   "cell_type": "code",
   "execution_count": null,
   "id": "8adceaf4",
   "metadata": {},
   "outputs": [],
   "source": [
    "geemap.ee_export_image(aod47_clip, filename=filename, scale=1000)"
   ]
  },
  {
   "cell_type": "markdown",
   "id": "7a0015ae",
   "metadata": {},
   "source": [
    "---"
   ]
  },
  {
   "cell_type": "markdown",
   "id": "dd48c590",
   "metadata": {},
   "source": [
    "# [Google Earth Engine - NDVI - Terra Vegetation Indices 16-Day Global 250m](https://developers.google.com/earth-engine/datasets/catalog/MODIS_006_MOD13Q1) "
   ]
  },
  {
   "cell_type": "code",
   "execution_count": null,
   "id": "da59cfd8",
   "metadata": {},
   "outputs": [],
   "source": [
    "Map_ndvi = geemap.Map(center=[45.5,10], zoom = 7 )\n",
    "Map_ndvi"
   ]
  },
  {
   "cell_type": "code",
   "execution_count": null,
   "id": "5e17f7d1",
   "metadata": {},
   "outputs": [],
   "source": [
    "#Access to NDVI image collection, selecting the band name and giving a date range\n",
    "ndvi= ee.ImageCollection('MODIS/006/MOD13Q1')\\\n",
    "  .select('NDVI')\\\n",
    "  .filterDate(start_date, end_date);\n",
    "\n",
    "#Image visualization properties\n",
    "ndvi_viz = {\n",
    "    'min': 0,\n",
    "    'max': 8000,\n",
    "    'opacity': 0.75,\n",
    "    'palette': [\n",
    "    'FFFFFF', 'CE7E45', 'DF923D', 'F1B555', 'FCD163', '99B718', '74A901',\n",
    "    '66A000', '529400', '3E8601', '207401', '056201', '004C00', '023B01',\n",
    "    '012E01', '011D01', '011301'\n",
    "  ]\n",
    "};\n",
    "\n",
    "#Calculate the mean value for each pixel in the time range\n",
    "ndvi = ndvi.mean()\n",
    "Map_ndvi.addLayer(ndvi, ndvi_viz, 'ndvi');"
   ]
  },
  {
   "cell_type": "code",
   "execution_count": null,
   "id": "c1d9ec43",
   "metadata": {},
   "outputs": [],
   "source": [
    "ndvi_clip = ndvi.clip(roi)\n",
    "Map_ndvi.addLayer(ndvi_clip, ndvi_viz, 'ndvi');"
   ]
  },
  {
   "cell_type": "code",
   "execution_count": null,
   "id": "4ef1f125",
   "metadata": {},
   "outputs": [],
   "source": [
    "# Set output directory for NDVI\n",
    "out_dir = os.path.expanduser(cwd + '/temp')\n",
    "\n",
    "\n",
    "filename = os.path.join(out_dir, 'ndvi.tif')"
   ]
  },
  {
   "cell_type": "code",
   "execution_count": null,
   "id": "bd83e59b",
   "metadata": {},
   "outputs": [],
   "source": [
    "geemap.ee_export_image(ndvi_clip, filename=filename, scale=250)"
   ]
  },
  {
   "cell_type": "markdown",
   "id": "c9e691cf",
   "metadata": {},
   "source": [
    "- - -"
   ]
  },
  {
   "cell_type": "markdown",
   "id": "192e4ac2",
   "metadata": {},
   "source": [
    "# [Google Earth Engine - Land Hourly - ECMWF Climate Reanalysis ](https://developers.google.com/earth-engine/datasets/catalog/ECMWF_ERA5_LAND_HOURLY) "
   ]
  },
  {
   "cell_type": "code",
   "execution_count": null,
   "id": "d01118c5",
   "metadata": {},
   "outputs": [],
   "source": [
    "Map_era5 = geemap.Map(center=[45.5,10], zoom = 7 )\n",
    "Map_era5"
   ]
  },
  {
   "cell_type": "code",
   "execution_count": null,
   "id": "dc393fa8",
   "metadata": {},
   "outputs": [],
   "source": [
    "# Daily mean 2m air temperature\n",
    "temp_2m = ee.ImageCollection('ECMWF/ERA5_LAND/HOURLY')\\\n",
    "                   .select('temperature_2m')\\\n",
    "                   .filter(ee.Filter.date(start_date, end_date));\n",
    "\n",
    "# Daily total precipitation sums\n",
    "prec = ee.ImageCollection('ECMWF/ERA5_LAND/HOURLY')\\\n",
    "                  .select('total_precipitation')\\\n",
    "                  .filter(ee.Filter.date(start_date, end_date));\n",
    "\n",
    "# Daily mean surface pressure\n",
    "press = ee.ImageCollection('ECMWF/ERA5_LAND/HOURLY')\\\n",
    "                  .select('surface_pressure')\\\n",
    "                  .filter(ee.Filter.date(start_date, end_date));\n",
    "\n",
    "# Daily mean 10m u-component of wind\n",
    "u_wind = ee.ImageCollection('ECMWF/ERA5_LAND/HOURLY')\\\n",
    "                          .select('u_component_of_wind_10m')\\\n",
    "                          .filter(ee.Filter.date(start_date, end_date));\n",
    "\n",
    "# Daily mean 10m v-component of wind\n",
    "v_wind = ee.ImageCollection('ECMWF/ERA5_LAND/HOURLY')\\\n",
    "                          .select('v_component_of_wind_10m')\\\n",
    "                          .filter(ee.Filter.date(start_date, end_date));\n",
    "\n",
    "\n",
    "# Daily volumetric soil water content (level 1)\n",
    "hum = ee.ImageCollection('ECMWF/ERA5_LAND/HOURLY')\\\n",
    "                          .select('volumetric_soil_water_layer_1')\\\n",
    "                          .filter(ee.Filter.date(start_date, end_date));\n",
    "\n",
    "\n",
    "# Visualization palette for temperature at 2m\n",
    "temp_2m_viz  = {\n",
    "  'min': 220,\n",
    "  'max': 304,\n",
    "  'palette': ['#FFFFFF', '#00FFFF', '#0080FF', '#DA00FF', '#FFA400', '#FF0000']\n",
    "};\n",
    "\n",
    "# Visualization palette for pressure (surface pressure)\n",
    "press_viz = {\n",
    "  'min': 65000,\n",
    "  'max': 120000,\n",
    "  'palette': [\n",
    "    '#01FFFF', '#058BFF', '#0600FF', '#DF00FF', '#FF00FF', '#FF8C00', '#FF8C00'\n",
    "  ]\n",
    "};\n",
    "\n",
    "# Visualization palette for total precipitation\n",
    "prec_viz  = {\n",
    "  'min': 0,\n",
    "  'max': 0.1,\n",
    "  'palette': ['#FFFFFF', '#00FFFF', '#0080FF', '#DA00FF', '#FFA400', '#FF0000']\n",
    "};\n",
    "\n",
    "# Visualization palette for u-component of 10m wind\n",
    "u_wind_viz = {\n",
    "  'min': 0,\n",
    "  'max': 30,\n",
    "  'palette': [\n",
    "    '#FFFFFF', '#FFFF71', '#DEFF00', '#9EFF00', '#77B038', '#007E55', '#005F51',\n",
    "    '#004B51', '#013A7B', '#023AAD'\n",
    "  ]\n",
    "}\n",
    "                           \n",
    "# Visualization palette for v-component of 10m wind\n",
    "v_wind_viz = {\n",
    "  'min': 0,\n",
    "  'max': 30,\n",
    "  'palette': [\n",
    "    '#FFFFFF', '#FFFF71', '#DEFF00', '#9EFF00', '#77B038', '#007E55', '#005F51',\n",
    "    '#004B51', '#013A7B', '#023AAD'\n",
    "  ]\n",
    "};\n",
    "\n",
    "# Visualization palette for soil humitidy\n",
    "hum_viz = {\n",
    "  'min': 0,\n",
    "  'max': 1,\n",
    "  'palette': [\n",
    "    '#FFFFFF', '#FFFF71', '#DEFF00', '#9EFF00', '#77B038', '#007E55', '#005F51',\n",
    "    '#004B51', '#013A7B', '#023AAD'\n",
    "  ]\n",
    "};\n",
    "\n",
    "temp_2m = temp_2m.mean()\n",
    "press = press.mean()\n",
    "prec = prec.mean()\n",
    "u_wind = u_wind.mean()\n",
    "v_wind = v_wind.mean()\n",
    "hum = hum.mean()"
   ]
  },
  {
   "cell_type": "code",
   "execution_count": null,
   "id": "06433ffa",
   "metadata": {},
   "outputs": [],
   "source": [
    "#Clip over the ROI previously defined\n",
    "temp_2m_clip = temp_2m.clip(roi)\n",
    "press_clip = press.clip(roi)\n",
    "prec_clip = prec.clip(roi)\n",
    "u_wind_clip = u_wind.clip(roi)\n",
    "v_wind_clip = v_wind.clip(roi)\n",
    "hum_clip = hum.clip(roi)\n",
    "\n",
    "Map_era5.addLayer(temp_2m_clip, temp_2m_viz, '2m temperature');\n",
    "Map_era5.addLayer(press_clip, press_viz, 'press');\n",
    "Map_era5.addLayer(prec_clip, prec_viz, 'precipitation');\n",
    "Map_era5.addLayer(u_wind_clip, u_wind_viz, 'u wind');\n",
    "Map_era5.addLayer(v_wind_clip, v_wind_viz, 'v wind');\n",
    "Map_era5.addLayer(hum_clip, hum_viz, 'soil humitidy');"
   ]
  },
  {
   "cell_type": "code",
   "execution_count": null,
   "id": "08d45eb6",
   "metadata": {},
   "outputs": [],
   "source": [
    "out_dir = os.path.expanduser(cwd + '/temp')\n",
    "filename = os.path.join(out_dir, 'temp_2m.tif')\n",
    "geemap.ee_export_image(temp_2m_clip, filename=filename, scale=1000)"
   ]
  },
  {
   "cell_type": "code",
   "execution_count": null,
   "id": "e0bb28f2",
   "metadata": {},
   "outputs": [],
   "source": [
    "out_dir = os.path.expanduser(cwd + '/temp')\n",
    "filename = os.path.join(out_dir, 'press.tif')\n",
    "geemap.ee_export_image(press_clip, filename=filename, scale=1000)"
   ]
  },
  {
   "cell_type": "code",
   "execution_count": null,
   "id": "f504633f",
   "metadata": {},
   "outputs": [],
   "source": [
    "out_dir = os.path.expanduser(cwd + '/temp')\n",
    "filename = os.path.join(out_dir, 'prec.tif')\n",
    "geemap.ee_export_image(prec_clip, filename=filename, scale=1000)"
   ]
  },
  {
   "cell_type": "code",
   "execution_count": null,
   "id": "70645da5",
   "metadata": {},
   "outputs": [],
   "source": [
    "out_dir = os.path.expanduser(cwd + '/temp')\n",
    "filename = os.path.join(out_dir, 'e_wind.tif')\n",
    "geemap.ee_export_image(u_wind_clip, filename=filename, scale=1000)"
   ]
  },
  {
   "cell_type": "code",
   "execution_count": null,
   "id": "d7c071b3",
   "metadata": {},
   "outputs": [],
   "source": [
    "out_dir = os.path.expanduser(cwd + '/temp')\n",
    "filename = os.path.join(out_dir, 'n_wind.tif')\n",
    "geemap.ee_export_image(v_wind_clip, filename=filename, scale=1000)"
   ]
  },
  {
   "cell_type": "code",
   "execution_count": null,
   "id": "9f087ec7",
   "metadata": {},
   "outputs": [],
   "source": [
    "out_dir = os.path.expanduser(cwd + '/temp')\n",
    "filename = os.path.join(out_dir, 'soil_hum.tif')\n",
    "geemap.ee_export_image(hum_clip, filename=filename, scale=1000)"
   ]
  },
  {
   "cell_type": "markdown",
   "id": "1dd2481c",
   "metadata": {},
   "source": [
    "---"
   ]
  },
  {
   "cell_type": "markdown",
   "id": "1bd555f2",
   "metadata": {},
   "source": [
    "# [Soil type - Open Land Map USDA](https://developers.google.com/earth-engine/datasets/catalog/OpenLandMap_SOL_SOL_TEXTURE-CLASS_USDA-TT_M_v02#description)"
   ]
  },
  {
   "cell_type": "code",
   "execution_count": null,
   "id": "66216a79",
   "metadata": {},
   "outputs": [],
   "source": [
    "Map_soil = geemap.Map(center=[45.5,10], zoom = 7 )\n",
    "Map_soil"
   ]
  },
  {
   "cell_type": "code",
   "execution_count": null,
   "id": "78836db1",
   "metadata": {},
   "outputs": [],
   "source": [
    "#Access to USDA Open Land Map soil type image\n",
    "soil = ee.Image(\"OpenLandMap/SOL/SOL_TEXTURE-CLASS_USDA-TT_M/v02\")\n",
    "\n",
    "soil_viz = {\n",
    "  'bands': ['b0'],\n",
    "  'min': 1.0,\n",
    "  'max': 12.0,\n",
    "  'palette': [\n",
    "    \"d5c36b\",\"b96947\",\"9d3706\",\"ae868f\",\"f86714\",\"46d143\",\n",
    "    \"368f20\",\"3e5a14\",\"ffd557\",\"fff72e\",\"ff5a9d\",\"ff005b\",\n",
    "  ]\n",
    "};"
   ]
  },
  {
   "cell_type": "code",
   "execution_count": null,
   "id": "543c46d0",
   "metadata": {},
   "outputs": [],
   "source": [
    "soil_clip = soil.clip(roi)"
   ]
  },
  {
   "cell_type": "code",
   "execution_count": null,
   "id": "d1d6d763",
   "metadata": {},
   "outputs": [],
   "source": [
    "Map_soil.addLayer(soil_clip, soil_viz, 'Soil Type');"
   ]
  },
  {
   "cell_type": "code",
   "execution_count": null,
   "id": "90093d5a",
   "metadata": {},
   "outputs": [],
   "source": [
    "out_dir = os.path.expanduser(cwd + '/temp')\n",
    "filename = os.path.join(out_dir, 'soil_type.tif')\n",
    "geemap.ee_export_image(soil_clip, filename=filename, scale=250)"
   ]
  }
 ],
 "metadata": {
  "kernelspec": {
   "display_name": "Python 3 (ipykernel)",
   "language": "python",
   "name": "python3"
  },
  "language_info": {
   "codemirror_mode": {
    "name": "ipython",
    "version": 3
   },
   "file_extension": ".py",
   "mimetype": "text/x-python",
   "name": "python",
   "nbconvert_exporter": "python",
   "pygments_lexer": "ipython3",
   "version": "3.9.10"
  }
 },
 "nbformat": 4,
 "nbformat_minor": 5
}
