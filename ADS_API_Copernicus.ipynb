{
 "cells": [
  {
   "cell_type": "markdown",
   "id": "f8470b6c",
   "metadata": {},
   "source": [
    "# ADS API - Copernicus Atmosphere Monitoring Service (CAMS)"
   ]
  },
  {
   "cell_type": "markdown",
   "id": "3049c512",
   "metadata": {},
   "source": [
    "GitHub Repository containing examples from ECMWF: https://github.com/ecmwf-projects/copernicus-training"
   ]
  },
  {
   "cell_type": "markdown",
   "id": "083a73fd",
   "metadata": {},
   "source": [
    "Change key/value provided in the .cdsapirc file as explained in the following links:\n",
    "- Climate: ERA5 https://cds.climate.copernicus.eu/api-how-to\n",
    "- Atmosphere: CAMS https://ads.atmosphere.copernicus.eu/api-how-to \n",
    "\n",
    "Or use the Key/Value in the API request:\n",
    "\n",
    "- url: https://ads.atmosphere.copernicus.eu/api/v2\n",
    "- key: 7829:e0d40eca-947c-4eb8-91f5-c5cfbcaa2172\n",
    "<br><br>\n",
    "- url: https://cds.climate.copernicus.eu/api/v2\n",
    "- key: 114120:ff103cbe-66d7-4fde-bc68-0bb30039dc50\n",
    "\n",
    "\n",
    "\n",
    "Link to Copernicus Services:\n",
    "- Link to ADS Atmosphere Copernicus: https://ads.atmosphere.copernicus.eu/cdsapp#!/dataset/cams-europe-air-quality-forecasts?tab=overview\n",
    "- Link to CDS Climate Copernicus: https://cds.climate.copernicus.eu/cdsapp#!/dataset/reanalysis-era5-land?tab=overview\n",
    "\n"
   ]
  },
  {
   "cell_type": "markdown",
   "id": "d95bf0f7",
   "metadata": {},
   "source": [
    "### Import libraries"
   ]
  },
  {
   "cell_type": "code",
   "execution_count": null,
   "id": "f7aed58a",
   "metadata": {},
   "outputs": [],
   "source": [
    "import cdsapi\n",
    "import os\n",
    "import geopandas as gpd\n",
    "import xarray as xr\n",
    "import rasterio as rio\n",
    "import warnings\n",
    "warnings.filterwarnings('ignore')"
   ]
  },
  {
   "cell_type": "code",
   "execution_count": null,
   "id": "b19bf8c7",
   "metadata": {},
   "outputs": [],
   "source": [
    "cwd = os.getcwd()\n",
    "cwd "
   ]
  },
  {
   "cell_type": "markdown",
   "id": "bcc4e8e1",
   "metadata": {},
   "source": [
    "### Set and end date:"
   ]
  },
  {
   "cell_type": "code",
   "execution_count": null,
   "id": "552e212e",
   "metadata": {},
   "outputs": [],
   "source": [
    "start_date = '2020-03-01'\n",
    "end_date = '2020-03-20'"
   ]
  },
  {
   "cell_type": "markdown",
   "id": "bda5e0b0",
   "metadata": {},
   "source": [
    "### Import Bounding Box:"
   ]
  },
  {
   "cell_type": "code",
   "execution_count": null,
   "id": "15ba4116",
   "metadata": {},
   "outputs": [],
   "source": [
    "area_path = cwd + '/bounding_box/bounding_box_buffer20.gpkg'\n",
    "area = gpd.read_file(area_path).to_crs(4326)\n",
    "bounds = area.total_bounds"
   ]
  },
  {
   "cell_type": "code",
   "execution_count": null,
   "id": "406c2a20",
   "metadata": {},
   "outputs": [],
   "source": [
    "print(bounds)"
   ]
  },
  {
   "cell_type": "markdown",
   "id": "1ea387d5",
   "metadata": {},
   "source": [
    "# ADS Atmosphere Copernicus\n",
    "Example: https://github.com/ecmwf-projects/copernicus-training/blob/master/2021-02-Copernicus-ECMWF-data-tutorial.ipynb"
   ]
  },
  {
   "cell_type": "markdown",
   "id": "3fff4518",
   "metadata": {},
   "source": [
    "Link to ADS API from (https://ads.atmosphere.copernicus.eu/api-how-to \n",
    "):"
   ]
  },
  {
   "cell_type": "code",
   "execution_count": null,
   "id": "b04afe68",
   "metadata": {},
   "outputs": [],
   "source": [
    "ATM_ID = 'https://ads.atmosphere.copernicus.eu/api/v2'\n",
    "ATM_KEY = '7829:e0d40eca-947c-4eb8-91f5-c5cfbcaa2172'"
   ]
  },
  {
   "cell_type": "code",
   "execution_count": null,
   "id": "67d3c273",
   "metadata": {},
   "outputs": [],
   "source": [
    "c_atm = cdsapi.Client(ATM_ID, ATM_KEY)"
   ]
  },
  {
   "cell_type": "markdown",
   "id": "c98300b4",
   "metadata": {},
   "source": [
    "- - -"
   ]
  },
  {
   "cell_type": "markdown",
   "id": "b9a94b82",
   "metadata": {},
   "source": [
    "# [CAMS - PM2.5 - Analysis](https://ads.atmosphere.copernicus.eu/cdsapp#!/dataset/cams-europe-air-quality-forecasts?tab=overview) "
   ]
  },
  {
   "cell_type": "markdown",
   "id": "f7050f7a",
   "metadata": {},
   "source": [
    "Download and write .nc file for PM2.5 over the study area:"
   ]
  },
  {
   "cell_type": "code",
   "execution_count": null,
   "id": "b39fdf32",
   "metadata": {},
   "outputs": [],
   "source": [
    "pm25_path = cwd+r'\\temp\\pm25_cams.nc'\n",
    "pm25 = c_atm.retrieve(\n",
    "    'cams-europe-air-quality-forecasts',\n",
    "    {\n",
    "        'variable': 'particulate_matter_2.5um',\n",
    "        'model': 'ensemble',\n",
    "        'level': '0',\n",
    "        'date': start_date+'/'+end_date,\n",
    "        'type': 'analysis',\n",
    "        'time': [\n",
    "            '00:00', '01:00', '02:00',\n",
    "            '03:00', '04:00', '05:00',\n",
    "            '06:00', '07:00', '08:00',\n",
    "            '09:00', '10:00', '11:00',\n",
    "            '12:00', '13:00', '14:00',\n",
    "            '15:00', '16:00', '17:00',\n",
    "            '18:00', '19:00', '20:00',\n",
    "            '21:00', '22:00', '23:00',\n",
    "        ],\n",
    "        'leadtime_hour': '0',\n",
    "        'area': [\n",
    "            bounds[3], bounds[0], bounds[1],\n",
    "            bounds[2],\n",
    "        ],\n",
    "        'format': 'netcdf',\n",
    "    },\n",
    "    pm25_path\n",
    "    )"
   ]
  },
  {
   "cell_type": "markdown",
   "id": "008940a4",
   "metadata": {},
   "source": [
    "Read pm25 .nc file:"
   ]
  },
  {
   "cell_type": "code",
   "execution_count": null,
   "id": "18229d79",
   "metadata": {},
   "outputs": [],
   "source": [
    "pm25 = xr.open_dataset(pm25_path)"
   ]
  },
  {
   "cell_type": "code",
   "execution_count": null,
   "id": "643d4da3",
   "metadata": {},
   "outputs": [],
   "source": [
    "pm25_mean = pm25.mean(dim='time')"
   ]
  },
  {
   "cell_type": "markdown",
   "id": "4842dbad",
   "metadata": {},
   "source": [
    "Write pm25_mean .nc file:"
   ]
  },
  {
   "cell_type": "code",
   "execution_count": null,
   "id": "cd886a47",
   "metadata": {},
   "outputs": [],
   "source": [
    "pm25_mean.to_netcdf(cwd+r'\\temp\\pm25_cams.nc')"
   ]
  },
  {
   "cell_type": "markdown",
   "id": "83230de8",
   "metadata": {},
   "source": [
    "- - -"
   ]
  },
  {
   "cell_type": "markdown",
   "id": "dbd13a70",
   "metadata": {},
   "source": [
    "# [CAMS - Ammonia - Analysis](https://ads.atmosphere.copernicus.eu/cdsapp#!/dataset/cams-europe-air-quality-forecasts?tab=overview) "
   ]
  },
  {
   "cell_type": "markdown",
   "id": "71e12f31",
   "metadata": {},
   "source": [
    "Download and write .nc file for ammonia (NH3) over the study area:"
   ]
  },
  {
   "cell_type": "code",
   "execution_count": null,
   "id": "ec724708",
   "metadata": {},
   "outputs": [],
   "source": [
    "nh3_path = cwd+r'\\temp\\amm_cams.nc'\n",
    "nh3 = c_atm.retrieve(\n",
    "    'cams-europe-air-quality-forecasts',\n",
    "    {\n",
    "        'variable': 'ammonia',\n",
    "        'model': 'ensemble',\n",
    "        'level': '0',\n",
    "        'date': start_date+'/'+end_date,\n",
    "        'type': 'analysis',\n",
    "        'time': [\n",
    "            '00:00', '01:00', '02:00',\n",
    "            '03:00', '04:00', '05:00',\n",
    "            '06:00', '07:00', '08:00',\n",
    "            '09:00', '10:00', '11:00',\n",
    "            '12:00', '13:00', '14:00',\n",
    "            '15:00', '16:00', '17:00',\n",
    "            '18:00', '19:00', '20:00',\n",
    "            '21:00', '22:00', '23:00',\n",
    "        ],\n",
    "        'leadtime_hour': '0',\n",
    "        'area': [\n",
    "            bounds[3], bounds[0], bounds[1],\n",
    "            bounds[2],\n",
    "        ],\n",
    "        'format': 'netcdf',\n",
    "    },\n",
    "    nh3_path\n",
    "    )"
   ]
  },
  {
   "cell_type": "markdown",
   "id": "3abaf3be",
   "metadata": {},
   "source": [
    "Read ammonia .nc file:"
   ]
  },
  {
   "cell_type": "code",
   "execution_count": null,
   "id": "18c87c61",
   "metadata": {},
   "outputs": [],
   "source": [
    "nh3 = xr.open_dataset(nh3_path)"
   ]
  },
  {
   "cell_type": "markdown",
   "id": "39800122",
   "metadata": {},
   "source": [
    "Calculate average PM2.5 for the selected days:"
   ]
  },
  {
   "cell_type": "code",
   "execution_count": null,
   "id": "f8a26e46",
   "metadata": {},
   "outputs": [],
   "source": [
    "nh3_mean = nh3.mean(dim='time')"
   ]
  },
  {
   "cell_type": "markdown",
   "id": "65211fe2",
   "metadata": {},
   "source": [
    "Write ammonia_mean .nc file:"
   ]
  },
  {
   "cell_type": "code",
   "execution_count": null,
   "id": "1e88261c",
   "metadata": {},
   "outputs": [],
   "source": [
    "nh3_mean.to_netcdf(cwd+r'\\temp\\amm_cams.nc', 'w')"
   ]
  },
  {
   "cell_type": "markdown",
   "id": "1e71fa57",
   "metadata": {},
   "source": [
    "- - -"
   ]
  },
  {
   "cell_type": "markdown",
   "id": "384c9752",
   "metadata": {},
   "source": [
    "# [CAMS - Sulphur Dioxide - Analysis](https://ads.atmosphere.copernicus.eu/cdsapp#!/dataset/cams-europe-air-quality-forecasts?tab=overview) "
   ]
  },
  {
   "cell_type": "markdown",
   "id": "b3bca8ee",
   "metadata": {},
   "source": [
    "Download and write .nc file for sulphur sioxide (SO2) over the study area:"
   ]
  },
  {
   "cell_type": "code",
   "execution_count": null,
   "id": "3d783cd7",
   "metadata": {},
   "outputs": [],
   "source": [
    "so2_path = cwd + r'/temp/so2_cams.nc'\n",
    "so2 = c_atm.retrieve(\n",
    "    'cams-europe-air-quality-forecasts',\n",
    "    {\n",
    "        'variable': 'sulphur_dioxide',\n",
    "        'model': 'ensemble',\n",
    "        'level': '0',\n",
    "        'date': start_date+'/'+end_date,\n",
    "        'type': 'analysis',\n",
    "        'time': [\n",
    "            '00:00', '01:00', '02:00',\n",
    "            '03:00', '04:00', '05:00',\n",
    "            '06:00', '07:00', '08:00',\n",
    "            '09:00', '10:00', '11:00',\n",
    "            '12:00', '13:00', '14:00',\n",
    "            '15:00', '16:00', '17:00',\n",
    "            '18:00', '19:00', '20:00',\n",
    "            '21:00', '22:00', '23:00',\n",
    "        ],\n",
    "        'leadtime_hour': '0',\n",
    "        'area': [\n",
    "            bounds[3], bounds[0], bounds[1],\n",
    "            bounds[2],\n",
    "        ],\n",
    "        'format': 'netcdf',\n",
    "    },\n",
    "    so2_path\n",
    "    )"
   ]
  },
  {
   "cell_type": "markdown",
   "id": "9efc27d1",
   "metadata": {},
   "source": [
    "Read sulphur dioxide .nc file:"
   ]
  },
  {
   "cell_type": "code",
   "execution_count": null,
   "id": "2dc9530d",
   "metadata": {},
   "outputs": [],
   "source": [
    "so2 = xr.open_dataset(so2_path)"
   ]
  },
  {
   "cell_type": "markdown",
   "id": "4015798f",
   "metadata": {},
   "source": [
    "Calculate average sulphure dioxide concentration for the selected days:"
   ]
  },
  {
   "cell_type": "code",
   "execution_count": null,
   "id": "e043e188",
   "metadata": {},
   "outputs": [],
   "source": [
    "so2_mean = so2.mean(dim='time')"
   ]
  },
  {
   "cell_type": "markdown",
   "id": "bac47bd1",
   "metadata": {},
   "source": [
    "Write so2_mean .nc file:"
   ]
  },
  {
   "cell_type": "code",
   "execution_count": null,
   "id": "7cb4a0a0",
   "metadata": {},
   "outputs": [],
   "source": [
    "so2_mean.to_netcdf(so2_path)"
   ]
  },
  {
   "cell_type": "markdown",
   "id": "70f2f8b2",
   "metadata": {},
   "source": [
    "- - -"
   ]
  },
  {
   "cell_type": "markdown",
   "id": "c0a3d022",
   "metadata": {},
   "source": [
    "# [CAMS - Nitrogen Dioxide - Analysis](https://ads.atmosphere.copernicus.eu/cdsapp#!/dataset/cams-europe-air-quality-forecasts?tab=overview) "
   ]
  },
  {
   "cell_type": "markdown",
   "id": "f10f2975",
   "metadata": {},
   "source": [
    "Download and write .nc file for nitrogen dioxide (NO2) over the study area:"
   ]
  },
  {
   "cell_type": "code",
   "execution_count": null,
   "id": "8f3d4d3b",
   "metadata": {},
   "outputs": [],
   "source": [
    "no2_path = cwd + r'/temp/no2_cams.nc'\n",
    "no2 = c_atm.retrieve(\n",
    "    'cams-europe-air-quality-forecasts',\n",
    "    {\n",
    "        'variable': 'nitrogen_dioxide',\n",
    "        'model': 'ensemble',\n",
    "        'level': '0',\n",
    "        'date': start_date+'/'+end_date,\n",
    "        'type': 'analysis',\n",
    "        'time': [\n",
    "            '00:00', '01:00', '02:00',\n",
    "            '03:00', '04:00', '05:00',\n",
    "            '06:00', '07:00', '08:00',\n",
    "            '09:00', '10:00', '11:00',\n",
    "            '12:00', '13:00', '14:00',\n",
    "            '15:00', '16:00', '17:00',\n",
    "            '18:00', '19:00', '20:00',\n",
    "            '21:00', '22:00', '23:00',\n",
    "        ],\n",
    "        'leadtime_hour': '0',\n",
    "        'area': [\n",
    "            bounds[3], bounds[0], bounds[1],\n",
    "            bounds[2],\n",
    "        ],\n",
    "        'format': 'netcdf',\n",
    "    },\n",
    "    no2_path\n",
    "    )"
   ]
  },
  {
   "cell_type": "markdown",
   "id": "cd8711c5",
   "metadata": {},
   "source": [
    "Read nitrogen dioxide .nc file:"
   ]
  },
  {
   "cell_type": "code",
   "execution_count": null,
   "id": "acc56fcd",
   "metadata": {},
   "outputs": [],
   "source": [
    "no2 = xr.open_dataset(no2_path)"
   ]
  },
  {
   "cell_type": "markdown",
   "id": "c065cdcb",
   "metadata": {},
   "source": [
    "Calculate average nitrogen dioxide concentration for the selected days:"
   ]
  },
  {
   "cell_type": "code",
   "execution_count": null,
   "id": "1a531f79",
   "metadata": {},
   "outputs": [],
   "source": [
    "no2_mean = no2.mean(dim='time')\n",
    "no2_mean"
   ]
  },
  {
   "cell_type": "markdown",
   "id": "3b350f80",
   "metadata": {},
   "source": [
    "Write no2_mean.nc file:"
   ]
  },
  {
   "cell_type": "code",
   "execution_count": null,
   "id": "a3c72e80",
   "metadata": {},
   "outputs": [],
   "source": [
    "no2_mean.to_netcdf(no2_path)"
   ]
  },
  {
   "cell_type": "markdown",
   "id": "73484d5c",
   "metadata": {},
   "source": [
    "- - -"
   ]
  },
  {
   "cell_type": "markdown",
   "id": "51fba870",
   "metadata": {},
   "source": [
    "# [Nitrogen Monoxide](https://ads.atmosphere.copernicus.eu/cdsapp#!/dataset/cams-europe-air-quality-forecasts?tab=overview)"
   ]
  },
  {
   "cell_type": "markdown",
   "id": "627ba224",
   "metadata": {},
   "source": [
    "Download and write .nc file for nitrogen monoxide (NO) over the study area:"
   ]
  },
  {
   "cell_type": "code",
   "execution_count": null,
   "id": "8bc8305f",
   "metadata": {},
   "outputs": [],
   "source": [
    "no_path = cwd + r'/temp/no_cams.nc'\n",
    "no = c_atm.retrieve(\n",
    "    'cams-europe-air-quality-forecasts',\n",
    "    {\n",
    "        'variable': 'nitrogen_monoxide',\n",
    "        'model': 'ensemble',\n",
    "        'level': '0',\n",
    "        'date': start_date+'/'+end_date,\n",
    "        'type': 'analysis',\n",
    "        'time': [\n",
    "            '00:00', '01:00', '02:00',\n",
    "            '03:00', '04:00', '05:00',\n",
    "            '06:00', '07:00', '08:00',\n",
    "            '09:00', '10:00', '11:00',\n",
    "            '12:00', '13:00', '14:00',\n",
    "            '15:00', '16:00', '17:00',\n",
    "            '18:00', '19:00', '20:00',\n",
    "            '21:00', '22:00', '23:00',\n",
    "        ],\n",
    "        'leadtime_hour': '0',\n",
    "        'area': [\n",
    "            bounds[3], bounds[0], bounds[1],\n",
    "            bounds[2],\n",
    "        ],\n",
    "        'format': 'netcdf',\n",
    "    },\n",
    "    no_path\n",
    "    )"
   ]
  },
  {
   "cell_type": "markdown",
   "id": "5d8ca316",
   "metadata": {},
   "source": [
    "Read nitrogen monoxide .nc file:"
   ]
  },
  {
   "cell_type": "code",
   "execution_count": null,
   "id": "bbe636f1",
   "metadata": {},
   "outputs": [],
   "source": [
    "no = xr.open_dataset(no_path)"
   ]
  },
  {
   "cell_type": "markdown",
   "id": "e46217f1",
   "metadata": {},
   "source": [
    "Calculate average nitrogen monoxide concentration for the selected days:"
   ]
  },
  {
   "cell_type": "code",
   "execution_count": null,
   "id": "b88fa2e1",
   "metadata": {},
   "outputs": [],
   "source": [
    "no_mean = no.mean(dim='time')\n",
    "no_mean"
   ]
  },
  {
   "cell_type": "markdown",
   "id": "d01724b2",
   "metadata": {},
   "source": [
    "Write no_mean.nc file:"
   ]
  },
  {
   "cell_type": "code",
   "execution_count": null,
   "id": "566176d1",
   "metadata": {},
   "outputs": [],
   "source": [
    "no_mean.to_netcdf(no_path)"
   ]
  },
  {
   "cell_type": "markdown",
   "id": "03250b75",
   "metadata": {},
   "source": [
    "- - -"
   ]
  },
  {
   "cell_type": "markdown",
   "id": "d95aa5ab",
   "metadata": {},
   "source": [
    "# [Carbon Monoxide](https://ads.atmosphere.copernicus.eu/cdsapp#!/dataset/cams-europe-air-quality-forecasts?tab=overview)"
   ]
  },
  {
   "cell_type": "markdown",
   "id": "137a8be2",
   "metadata": {},
   "source": [
    "Download and write .nc file for carbon monoxide (CO) over the study area:"
   ]
  },
  {
   "cell_type": "code",
   "execution_count": null,
   "id": "94dbfb83",
   "metadata": {},
   "outputs": [],
   "source": [
    "co_path = cwd + r'/temp/co_cams.nc'\n",
    "co = c_atm.retrieve(\n",
    "    'cams-europe-air-quality-forecasts',\n",
    "    {\n",
    "        'variable': 'carbon_monoxide',\n",
    "        'model': 'ensemble',\n",
    "        'level': '0',\n",
    "        'date': start_date+'/'+end_date,\n",
    "        'type': 'analysis',\n",
    "        'time': [\n",
    "            '00:00', '01:00', '02:00',\n",
    "            '03:00', '04:00', '05:00',\n",
    "            '06:00', '07:00', '08:00',\n",
    "            '09:00', '10:00', '11:00',\n",
    "            '12:00', '13:00', '14:00',\n",
    "            '15:00', '16:00', '17:00',\n",
    "            '18:00', '19:00', '20:00',\n",
    "            '21:00', '22:00', '23:00',\n",
    "        ],\n",
    "        'leadtime_hour': '0',\n",
    "        'area': [\n",
    "            bounds[3], bounds[0], bounds[1],\n",
    "            bounds[2],\n",
    "        ],\n",
    "        'format': 'netcdf',\n",
    "    },\n",
    "    co_path\n",
    "    )"
   ]
  },
  {
   "cell_type": "markdown",
   "id": "8fbb7b08",
   "metadata": {},
   "source": [
    "Read carbon monoxide .nc file:"
   ]
  },
  {
   "cell_type": "code",
   "execution_count": null,
   "id": "6898d246",
   "metadata": {},
   "outputs": [],
   "source": [
    "co = xr.open_dataset(co_path)"
   ]
  },
  {
   "cell_type": "markdown",
   "id": "84744bd3",
   "metadata": {},
   "source": [
    "Calculate average carbon monoxide concentration for the selected days:"
   ]
  },
  {
   "cell_type": "code",
   "execution_count": null,
   "id": "745ad796",
   "metadata": {},
   "outputs": [],
   "source": [
    "co_mean = co.mean(dim='time')\n",
    "co_mean"
   ]
  },
  {
   "cell_type": "markdown",
   "id": "55a8d052",
   "metadata": {},
   "source": [
    "Write co_mean.nc file:"
   ]
  },
  {
   "cell_type": "code",
   "execution_count": null,
   "id": "acaea161",
   "metadata": {},
   "outputs": [],
   "source": [
    "co_mean.to_netcdf(co_path)"
   ]
  },
  {
   "cell_type": "markdown",
   "id": "adddfe3f",
   "metadata": {},
   "source": [
    "---"
   ]
  },
  {
   "cell_type": "markdown",
   "id": "6f665a3f",
   "metadata": {},
   "source": [
    "# [Ozone](https://ads.atmosphere.copernicus.eu/cdsapp#!/dataset/cams-europe-air-quality-forecasts?tab=overview)"
   ]
  },
  {
   "cell_type": "markdown",
   "id": "01a138e3",
   "metadata": {},
   "source": [
    "Download and write .nc file for ozone (O3) over the study area:"
   ]
  },
  {
   "cell_type": "code",
   "execution_count": null,
   "id": "21230b1e",
   "metadata": {},
   "outputs": [],
   "source": [
    "ozone_path = cwd + r'/temp/ozone_cams.nc'\n",
    "ozone = c_atm.retrieve(\n",
    "    'cams-europe-air-quality-forecasts',\n",
    "    {\n",
    "        'variable': 'ozone',\n",
    "        'model': 'ensemble',\n",
    "        'level': '0',\n",
    "        'date': start_date+'/'+end_date,\n",
    "        'type': 'analysis',\n",
    "        'time': [\n",
    "            '00:00', '01:00', '02:00',\n",
    "            '03:00', '04:00', '05:00',\n",
    "            '06:00', '07:00', '08:00',\n",
    "            '09:00', '10:00', '11:00',\n",
    "            '12:00', '13:00', '14:00',\n",
    "            '15:00', '16:00', '17:00',\n",
    "            '18:00', '19:00', '20:00',\n",
    "            '21:00', '22:00', '23:00',\n",
    "        ],\n",
    "        'leadtime_hour': '0',\n",
    "        'area': [\n",
    "            bounds[3], bounds[0], bounds[1],\n",
    "            bounds[2],\n",
    "        ],\n",
    "        'format': 'netcdf',\n",
    "    },\n",
    "    ozone_path\n",
    "    )"
   ]
  },
  {
   "cell_type": "markdown",
   "id": "416648a9",
   "metadata": {},
   "source": [
    "Read carbon monoxide .nc file:"
   ]
  },
  {
   "cell_type": "code",
   "execution_count": null,
   "id": "ddf9a537",
   "metadata": {},
   "outputs": [],
   "source": [
    "ozone = xr.open_dataset(ozone_path)"
   ]
  },
  {
   "cell_type": "markdown",
   "id": "a44ffa4d",
   "metadata": {},
   "source": [
    "Calculate average carbon monoxide concentration for the selected days:"
   ]
  },
  {
   "cell_type": "code",
   "execution_count": null,
   "id": "255d6bc3",
   "metadata": {},
   "outputs": [],
   "source": [
    "ozone_mean = ozone.mean(dim='time')\n",
    "ozone_mean"
   ]
  },
  {
   "cell_type": "markdown",
   "id": "9176d55e",
   "metadata": {},
   "source": [
    "Write co_mean.nc file:"
   ]
  },
  {
   "cell_type": "code",
   "execution_count": null,
   "id": "696964e3",
   "metadata": {},
   "outputs": [],
   "source": [
    "ozone_mean.to_netcdf(ozone_path)"
   ]
  },
  {
   "cell_type": "markdown",
   "id": "7484d19f",
   "metadata": {},
   "source": [
    "---"
   ]
  },
  {
   "cell_type": "markdown",
   "id": "d0f0e461",
   "metadata": {},
   "source": [
    "# [Dust](https://ads.atmosphere.copernicus.eu/cdsapp#!/dataset/cams-europe-air-quality-forecasts?tab=overview)"
   ]
  },
  {
   "cell_type": "markdown",
   "id": "a29f621f",
   "metadata": {},
   "source": [
    "Download and write .nc file for dust over the study area:"
   ]
  },
  {
   "cell_type": "code",
   "execution_count": null,
   "id": "27ee3eba",
   "metadata": {},
   "outputs": [],
   "source": [
    "dust_path = cwd + r'/temp/dust_cams.nc'\n",
    "dust = c_atm.retrieve(\n",
    "    'cams-europe-air-quality-forecasts',\n",
    "    {\n",
    "        'variable': 'dust',\n",
    "        'model': 'ensemble',\n",
    "        'level': '0',\n",
    "        'date': start_date+'/'+end_date,\n",
    "        'type': 'analysis',\n",
    "        'time': [\n",
    "            '00:00', '01:00', '02:00',\n",
    "            '03:00', '04:00', '05:00',\n",
    "            '06:00', '07:00', '08:00',\n",
    "            '09:00', '10:00', '11:00',\n",
    "            '12:00', '13:00', '14:00',\n",
    "            '15:00', '16:00', '17:00',\n",
    "            '18:00', '19:00', '20:00',\n",
    "            '21:00', '22:00', '23:00',\n",
    "        ],\n",
    "        'leadtime_hour': '0',\n",
    "        'area': [\n",
    "            bounds[3], bounds[0], bounds[1],\n",
    "            bounds[2],\n",
    "        ],\n",
    "        'format': 'netcdf',\n",
    "    },\n",
    "    dust_path\n",
    "    )"
   ]
  },
  {
   "cell_type": "markdown",
   "id": "5c078e28",
   "metadata": {},
   "source": [
    "Read dust .nc file:"
   ]
  },
  {
   "cell_type": "code",
   "execution_count": null,
   "id": "90b85837",
   "metadata": {},
   "outputs": [],
   "source": [
    "dust = xr.open_dataset(dust_path)"
   ]
  },
  {
   "cell_type": "markdown",
   "id": "44206d09",
   "metadata": {},
   "source": [
    "Calculate average dust concentration for the selected days:"
   ]
  },
  {
   "cell_type": "code",
   "execution_count": null,
   "id": "8ffab273",
   "metadata": {},
   "outputs": [],
   "source": [
    "dust_mean = dust.mean(dim='time')\n",
    "dust_mean"
   ]
  },
  {
   "cell_type": "markdown",
   "id": "a55bf95e",
   "metadata": {},
   "source": [
    "Write dust.nc file:"
   ]
  },
  {
   "cell_type": "code",
   "execution_count": null,
   "id": "e95419fe",
   "metadata": {},
   "outputs": [],
   "source": [
    "dust_mean.to_netcdf(dust_path)"
   ]
  },
  {
   "cell_type": "markdown",
   "id": "4aa46b02",
   "metadata": {},
   "source": [
    "# [PM10](https://ads.atmosphere.copernicus.eu/cdsapp#!/dataset/cams-europe-air-quality-forecasts?tab=overview)"
   ]
  },
  {
   "cell_type": "markdown",
   "id": "93a1b1a6",
   "metadata": {},
   "source": [
    "Download and write .nc file for PM10 over the study area:"
   ]
  },
  {
   "cell_type": "code",
   "execution_count": null,
   "id": "cc5202e0",
   "metadata": {
    "scrolled": true
   },
   "outputs": [],
   "source": [
    "pm10_path = cwd + r'/temp/pm10_cams.nc'\n",
    "pm10 = c_atm.retrieve(\n",
    "    'cams-europe-air-quality-forecasts',\n",
    "    {\n",
    "        'model': 'ensemble',\n",
    "        'date': start_date+'/'+end_date,\n",
    "        'format': 'netcdf',\n",
    "        'level': '0',\n",
    "        'type': 'analysis',\n",
    "        'variable': 'particulate_matter_10um',\n",
    "        'leadtime_hour': '0',\n",
    "        'time': [\n",
    "            '00:00', '01:00', '02:00',\n",
    "            '03:00', '04:00', '05:00',\n",
    "            '06:00', '07:00', '08:00',\n",
    "            '09:00', '10:00', '11:00',\n",
    "            '12:00', '13:00', '14:00',\n",
    "            '15:00', '16:00', '17:00',\n",
    "            '18:00', '19:00', '20:00',\n",
    "            '21:00', '22:00', '23:00',\n",
    "        ],\n",
    "        'area': [\n",
    "            bounds[3], bounds[0], bounds[1],\n",
    "            bounds[2]],\n",
    "        'format': 'netcdf'\n",
    "    },\n",
    "    pm10_path)"
   ]
  },
  {
   "cell_type": "markdown",
   "id": "4f298a18",
   "metadata": {},
   "source": [
    "Read PM10 .nc file:"
   ]
  },
  {
   "cell_type": "code",
   "execution_count": null,
   "id": "3bcf9d0c",
   "metadata": {},
   "outputs": [],
   "source": [
    "pm10 = xr.open_dataset(pm10_path)"
   ]
  },
  {
   "cell_type": "markdown",
   "id": "d22c0082",
   "metadata": {},
   "source": [
    "Calculate average PM10 concentration for the selected days:"
   ]
  },
  {
   "cell_type": "code",
   "execution_count": null,
   "id": "6f5cc72d",
   "metadata": {},
   "outputs": [],
   "source": [
    "pm10_mean = pm10.mean(dim='time')\n",
    "pm10_mean"
   ]
  },
  {
   "cell_type": "markdown",
   "id": "5e3248cc",
   "metadata": {},
   "source": [
    "Write pm10_mean.nc file:"
   ]
  },
  {
   "cell_type": "code",
   "execution_count": null,
   "id": "37709319",
   "metadata": {},
   "outputs": [],
   "source": [
    "pm10_mean.to_netcdf(pm10_path)"
   ]
  },
  {
   "cell_type": "markdown",
   "id": "f52628ac",
   "metadata": {},
   "source": [
    "# [Non Methane VOCs (NMVOCs)](https://ads.atmosphere.copernicus.eu/cdsapp#!/dataset/cams-europe-air-quality-forecasts?tab=overview)"
   ]
  },
  {
   "cell_type": "markdown",
   "id": "6af032bc",
   "metadata": {},
   "source": [
    "Download and write .nc file for non-methane volatile organic compoungs(NMVOCs) over the study area:"
   ]
  },
  {
   "cell_type": "code",
   "execution_count": null,
   "id": "264161a2",
   "metadata": {},
   "outputs": [],
   "source": [
    "nmvocs_path = cwd + r'/temp/nmvocs_cams.nc'\n",
    "nmvocs = c_atm.retrieve(\n",
    "    'cams-europe-air-quality-forecasts',\n",
    "    {\n",
    "        'model': 'ensemble',\n",
    "        'date': start_date+'/'+end_date,\n",
    "        'format': 'netcdf',\n",
    "        'level': '0',\n",
    "        'type': 'analysis',\n",
    "        'variable': 'non_methane_vocs',\n",
    "        'leadtime_hour': '0',\n",
    "        'time': [\n",
    "            '00:00', '01:00', '02:00',\n",
    "            '03:00', '04:00', '05:00',\n",
    "            '06:00', '07:00', '08:00',\n",
    "            '09:00', '10:00', '11:00',\n",
    "            '12:00', '13:00', '14:00',\n",
    "            '15:00', '16:00', '17:00',\n",
    "            '18:00', '19:00', '20:00',\n",
    "            '21:00', '22:00', '23:00',\n",
    "        ],\n",
    "        'area': [\n",
    "            bounds[3], bounds[0], bounds[1],\n",
    "            bounds[2]],\n",
    "        'format': 'netcdf'\n",
    "    },\n",
    "    nmvocs_path)"
   ]
  },
  {
   "cell_type": "markdown",
   "id": "30ba2f21",
   "metadata": {},
   "source": [
    "Read nmvocs .nc file:"
   ]
  },
  {
   "cell_type": "code",
   "execution_count": null,
   "id": "83cf504c",
   "metadata": {},
   "outputs": [],
   "source": [
    "nmvocs = xr.open_dataset(nmvocs_path)"
   ]
  },
  {
   "cell_type": "markdown",
   "id": "ff575a95",
   "metadata": {},
   "source": [
    "Calculate average NMVOCs concentration for the selected days:"
   ]
  },
  {
   "cell_type": "code",
   "execution_count": null,
   "id": "649f287d",
   "metadata": {},
   "outputs": [],
   "source": [
    "nmvocs_mean = nmvocs.mean(dim='time')\n",
    "nmvocs_mean"
   ]
  },
  {
   "cell_type": "markdown",
   "id": "424d0562",
   "metadata": {},
   "source": [
    "Write nmvocs_mean .nc file:"
   ]
  },
  {
   "cell_type": "code",
   "execution_count": null,
   "id": "a947c8ca",
   "metadata": {},
   "outputs": [],
   "source": [
    "nmvocs_mean.to_netcdf(nmvocs_path)"
   ]
  },
  {
   "cell_type": "markdown",
   "id": "b10b4c5a",
   "metadata": {},
   "source": [
    "---"
   ]
  },
  {
   "cell_type": "markdown",
   "id": "9d7c023c",
   "metadata": {},
   "source": [
    "# CDS Climate Copernicus"
   ]
  },
  {
   "cell_type": "markdown",
   "id": "bbd3d648",
   "metadata": {},
   "source": [
    "Link to ADS API from (https://cds.climate.copernicus.eu/api-how-to):<br>\n",
    "Example: https://github.com/ecmwf-projects/copernicus-training/blob/master/100_climate_data_store_intro.ipynb"
   ]
  },
  {
   "cell_type": "code",
   "execution_count": null,
   "id": "6e769ced",
   "metadata": {},
   "outputs": [],
   "source": [
    "# CLIM_ID = 'https://cds.climate.copernicus.eu/api/v2'\n",
    "# CLIM_KEY = '114120:ff103cbe-66d7-4fde-bc68-0bb30039dc50'"
   ]
  },
  {
   "cell_type": "code",
   "execution_count": null,
   "id": "7e578e64",
   "metadata": {},
   "outputs": [],
   "source": [
    "# c_clim = cdsapi.Client(CLIM_ID, CLIM_KEY)"
   ]
  },
  {
   "cell_type": "markdown",
   "id": "aec23b6c",
   "metadata": {},
   "source": [
    "# [ERA5 - Planet Boundary Layer Height 0.25°](https://cds.climate.copernicus.eu/cdsapp#!/dataset/reanalysis-era5-single-levels?tab=overview) "
   ]
  },
  {
   "cell_type": "code",
   "execution_count": null,
   "id": "816b1f86",
   "metadata": {},
   "outputs": [],
   "source": [
    "# pblh_path = cwd + r'/temp/pblh_cams.nc'\n",
    "\n",
    "# c_clim.retrieve(\n",
    "#     'reanalysis-era5-single-levels',\n",
    "#     {\n",
    "#         'product_type': 'reanalysis',\n",
    "#         'format': 'netcdf',\n",
    "#         'variable': 'boundary_layer_height',\n",
    "#         'year': '2020',\n",
    "#         'month': '03',\n",
    "#         'day': [\n",
    "#             '01', '02', '03',\n",
    "#             '04', '05', '06',\n",
    "#             '07', '08', '09',\n",
    "#             '10', '11', '12',\n",
    "#             '13', '14', '15',\n",
    "#             '16', '17', '18',\n",
    "#             '19', '20',\n",
    "#         ],\n",
    "#         'time': [\n",
    "#             '00:00', '01:00', '02:00',\n",
    "#             '03:00', '04:00', '05:00',\n",
    "#             '06:00', '07:00', '08:00',\n",
    "#             '09:00', '10:00', '11:00',\n",
    "#             '12:00', '13:00', '14:00',\n",
    "#             '15:00', '16:00', '17:00',\n",
    "#             '18:00', '19:00', '20:00',\n",
    "#             '21:00', '22:00', '23:00',\n",
    "#         ],\n",
    "#         'area': [\n",
    "#             bounds[3], bounds[0], bounds[1],\n",
    "#             bounds[2]],\n",
    "#         'format': 'netcdf'\n",
    "#     },\n",
    "#     pblh_path)"
   ]
  },
  {
   "cell_type": "code",
   "execution_count": null,
   "id": "023037b4",
   "metadata": {},
   "outputs": [],
   "source": [
    "# pblh = xr.open_dataset(pblh_path)"
   ]
  },
  {
   "cell_type": "code",
   "execution_count": null,
   "id": "704570f5",
   "metadata": {},
   "outputs": [],
   "source": [
    "# pblh_mean = pblh.mean(dim='time')\n",
    "# pblh_mean"
   ]
  },
  {
   "cell_type": "code",
   "execution_count": null,
   "id": "c56ac063",
   "metadata": {},
   "outputs": [],
   "source": [
    "# pblh_mean.to_netcdf(pblh_path)"
   ]
  },
  {
   "cell_type": "code",
   "execution_count": null,
   "id": "fdd186fd",
   "metadata": {},
   "outputs": [],
   "source": [
    "# bounds"
   ]
  },
  {
   "cell_type": "code",
   "execution_count": null,
   "id": "5b16fb8e",
   "metadata": {},
   "outputs": [],
   "source": []
  }
 ],
 "metadata": {
  "kernelspec": {
   "display_name": "Python 3 (ipykernel)",
   "language": "python",
   "name": "python3"
  },
  "language_info": {
   "codemirror_mode": {
    "name": "ipython",
    "version": 3
   },
   "file_extension": ".py",
   "mimetype": "text/x-python",
   "name": "python",
   "nbconvert_exporter": "python",
   "pygments_lexer": "ipython3",
   "version": "3.9.10"
  }
 },
 "nbformat": 4,
 "nbformat_minor": 5
}
