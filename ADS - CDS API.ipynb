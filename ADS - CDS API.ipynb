{
 "cells": [
  {
   "cell_type": "markdown",
   "id": "f8470b6c",
   "metadata": {},
   "source": [
    "# CDS API - Atmosphere Copernicus Request"
   ]
  },
  {
   "cell_type": "markdown",
   "id": "3049c512",
   "metadata": {},
   "source": [
    "GitHub Repository containing examples from ECMWF: https://github.com/ecmwf-projects/copernicus-training"
   ]
  },
  {
   "cell_type": "markdown",
   "id": "083a73fd",
   "metadata": {},
   "source": [
    "Change key/value provided in the .cdsapirc file as explained in the following links:\n",
    "- Climate -> ERA5 https://cds.climate.copernicus.eu/api-how-to\n",
    "- Atmosphere -> CAMS https://ads.atmosphere.copernicus.eu/api-how-to \n",
    "\n",
    "Or use the Key/Value:\n",
    "\n",
    "- url: https://ads.atmosphere.copernicus.eu/api/v2\n",
    "- key: 7829:e0d40eca-947c-4eb8-91f5-c5cfbcaa2172\n",
    "<br><br>\n",
    "- url: https://cds.climate.copernicus.eu/api/v2\n",
    "- key: 114120:ff103cbe-66d7-4fde-bc68-0bb30039dc50\n",
    "\n",
    "\n",
    "\n",
    "Link to Copernicus Services:\n",
    "- Link to ADS Atmosphere Copernicus: https://ads.atmosphere.copernicus.eu/cdsapp#!/dataset/cams-europe-air-quality-forecasts?tab=overview\n",
    "- Link to CDS Climate Copernicus: https://cds.climate.copernicus.eu/cdsapp#!/dataset/reanalysis-era5-land?tab=overview\n",
    "\n"
   ]
  },
  {
   "cell_type": "code",
   "execution_count": null,
   "id": "f7aed58a",
   "metadata": {},
   "outputs": [],
   "source": [
    "import cdsapi\n",
    "import os\n",
    "import geopandas as gpd\n",
    "import xarray as xr\n",
    "import rasterio as rio"
   ]
  },
  {
   "cell_type": "code",
   "execution_count": null,
   "id": "b19bf8c7",
   "metadata": {},
   "outputs": [],
   "source": [
    "absolutepath = os.getcwd()\n",
    "absolutepath "
   ]
  },
  {
   "cell_type": "markdown",
   "id": "bcc4e8e1",
   "metadata": {},
   "source": [
    "### Set and end date:"
   ]
  },
  {
   "cell_type": "code",
   "execution_count": null,
   "id": "552e212e",
   "metadata": {},
   "outputs": [],
   "source": [
    "start_date = '2020-03-01'\n",
    "end_date = '2020-03-20'"
   ]
  },
  {
   "cell_type": "markdown",
   "id": "bda5e0b0",
   "metadata": {},
   "source": [
    "### Import Bounding Box:"
   ]
  },
  {
   "cell_type": "code",
   "execution_count": null,
   "id": "15ba4116",
   "metadata": {},
   "outputs": [],
   "source": [
    "area_path = absolutepath + '/bounding_box/bounding_box_buffer20.gpkg'\n",
    "area = gpd.read_file(area_path).to_crs(4326)\n",
    "bounds = area.total_bounds"
   ]
  },
  {
   "cell_type": "code",
   "execution_count": null,
   "id": "406c2a20",
   "metadata": {},
   "outputs": [],
   "source": [
    "print(bounds)"
   ]
  },
  {
   "cell_type": "markdown",
   "id": "1ea387d5",
   "metadata": {},
   "source": [
    "# ADS Atmosphere Copernicus\n",
    "Example: https://github.com/ecmwf-projects/copernicus-training/blob/master/2021-02-Copernicus-ECMWF-data-tutorial.ipynb"
   ]
  },
  {
   "cell_type": "markdown",
   "id": "3fff4518",
   "metadata": {},
   "source": [
    "Link to ADS API from (https://ads.atmosphere.copernicus.eu/api-how-to \n",
    "):"
   ]
  },
  {
   "cell_type": "code",
   "execution_count": null,
   "id": "b04afe68",
   "metadata": {},
   "outputs": [],
   "source": [
    "ATM_ID = 'https://ads.atmosphere.copernicus.eu/api/v2'\n",
    "ATM_KEY = '7829:e0d40eca-947c-4eb8-91f5-c5cfbcaa2172'"
   ]
  },
  {
   "cell_type": "code",
   "execution_count": null,
   "id": "67d3c273",
   "metadata": {},
   "outputs": [],
   "source": [
    "c_atm = cdsapi.Client(ATM_ID, ATM_KEY)"
   ]
  },
  {
   "cell_type": "markdown",
   "id": "c98300b4",
   "metadata": {},
   "source": [
    "- - -"
   ]
  },
  {
   "cell_type": "markdown",
   "id": "b9a94b82",
   "metadata": {},
   "source": [
    "# [CAMS - PM2.5 - Analysis](https://ads.atmosphere.copernicus.eu/cdsapp#!/dataset/cams-europe-air-quality-forecasts?tab=overview) "
   ]
  },
  {
   "cell_type": "markdown",
   "id": "f7050f7a",
   "metadata": {},
   "source": [
    "Download and write .nc file for PM2.5 over the study area:"
   ]
  },
  {
   "cell_type": "code",
   "execution_count": null,
   "id": "b39fdf32",
   "metadata": {},
   "outputs": [],
   "source": [
    "pm25_path = absolutepath+r'\\temp\\pm25_cams.nc'\n",
    "pm25 = c_atm.retrieve(\n",
    "    'cams-europe-air-quality-forecasts',\n",
    "    {\n",
    "        'variable': 'particulate_matter_2.5um',\n",
    "        'model': 'ensemble',\n",
    "        'level': '0',\n",
    "        'date': start_date+'/'+end_date,\n",
    "        'type': 'analysis',\n",
    "        'time': [\n",
    "            '00:00', '01:00', '02:00',\n",
    "            '03:00', '04:00', '05:00',\n",
    "            '06:00', '07:00', '08:00',\n",
    "            '09:00', '10:00', '11:00',\n",
    "            '12:00', '13:00', '14:00',\n",
    "            '15:00', '16:00', '17:00',\n",
    "            '18:00', '19:00', '20:00',\n",
    "            '21:00', '22:00', '23:00',\n",
    "        ],\n",
    "        'leadtime_hour': '0',\n",
    "        'area': [\n",
    "            bounds[3], bounds[0], bounds[1],\n",
    "            bounds[2],\n",
    "        ],\n",
    "        'format': 'netcdf',\n",
    "    },\n",
    "    pm25_path\n",
    "    )"
   ]
  },
  {
   "cell_type": "markdown",
   "id": "008940a4",
   "metadata": {},
   "source": [
    "Read pm25 .nc file:"
   ]
  },
  {
   "cell_type": "code",
   "execution_count": null,
   "id": "18229d79",
   "metadata": {},
   "outputs": [],
   "source": [
    "pm25 = xr.open_dataset(pm25_path)"
   ]
  },
  {
   "cell_type": "code",
   "execution_count": null,
   "id": "643d4da3",
   "metadata": {},
   "outputs": [],
   "source": [
    "pm25_mean = pm25.mean(dim='time')"
   ]
  },
  {
   "cell_type": "markdown",
   "id": "4842dbad",
   "metadata": {},
   "source": [
    "Write pm25_mean .nc file:"
   ]
  },
  {
   "cell_type": "code",
   "execution_count": null,
   "id": "cd886a47",
   "metadata": {},
   "outputs": [],
   "source": [
    "pm25_mean.to_netcdf(absolutepath+r'\\temp\\pm25_cams.nc')"
   ]
  },
  {
   "cell_type": "markdown",
   "id": "83230de8",
   "metadata": {},
   "source": [
    "- - -"
   ]
  },
  {
   "cell_type": "markdown",
   "id": "dbd13a70",
   "metadata": {},
   "source": [
    "# [CAMS - Ammonia - Analysis](https://ads.atmosphere.copernicus.eu/cdsapp#!/dataset/cams-europe-air-quality-forecasts?tab=overview) "
   ]
  },
  {
   "cell_type": "markdown",
   "id": "71e12f31",
   "metadata": {},
   "source": [
    "Download and write .nc file for ammonia over the study area:"
   ]
  },
  {
   "cell_type": "code",
   "execution_count": null,
   "id": "ec724708",
   "metadata": {},
   "outputs": [],
   "source": [
    "nh3_path = absolutepath+r'\\temp\\nh3_cams.nc'\n",
    "nh3 = c_atm.retrieve(\n",
    "    'cams-europe-air-quality-forecasts',\n",
    "    {\n",
    "        'variable': 'ammonia',\n",
    "        'model': 'ensemble',\n",
    "        'level': '0',\n",
    "        'date': start_date+'/'+end_date,\n",
    "        'type': 'analysis',\n",
    "        'time': [\n",
    "            '00:00', '01:00', '02:00',\n",
    "            '03:00', '04:00', '05:00',\n",
    "            '06:00', '07:00', '08:00',\n",
    "            '09:00', '10:00', '11:00',\n",
    "            '12:00', '13:00', '14:00',\n",
    "            '15:00', '16:00', '17:00',\n",
    "            '18:00', '19:00', '20:00',\n",
    "            '21:00', '22:00', '23:00',\n",
    "        ],\n",
    "        'leadtime_hour': '0',\n",
    "        'area': [\n",
    "            bounds[3], bounds[0], bounds[1],\n",
    "            bounds[2],\n",
    "        ],\n",
    "        'format': 'netcdf',\n",
    "    },\n",
    "    nh3_path\n",
    "    )"
   ]
  },
  {
   "cell_type": "markdown",
   "id": "3abaf3be",
   "metadata": {},
   "source": [
    "Read ammonia .nc file:"
   ]
  },
  {
   "cell_type": "code",
   "execution_count": null,
   "id": "18c87c61",
   "metadata": {},
   "outputs": [],
   "source": [
    "nh3 = xr.open_dataset(nh3_path)"
   ]
  },
  {
   "cell_type": "markdown",
   "id": "39800122",
   "metadata": {},
   "source": [
    "Calculate average PM2.5 for the selected days:"
   ]
  },
  {
   "cell_type": "code",
   "execution_count": null,
   "id": "f8a26e46",
   "metadata": {},
   "outputs": [],
   "source": [
    "nh3_mean = nh3.mean(dim='time')"
   ]
  },
  {
   "cell_type": "markdown",
   "id": "65211fe2",
   "metadata": {},
   "source": [
    "Write ammonia_mean .nc file:"
   ]
  },
  {
   "cell_type": "code",
   "execution_count": null,
   "id": "1e88261c",
   "metadata": {},
   "outputs": [],
   "source": [
    "nh3_mean.to_netcdf(absolutepath+r'\\temp\\nh3_cams.nc', 'w')"
   ]
  },
  {
   "cell_type": "markdown",
   "id": "1e71fa57",
   "metadata": {},
   "source": [
    "- - -"
   ]
  },
  {
   "cell_type": "markdown",
   "id": "384c9752",
   "metadata": {},
   "source": [
    "# [CAMS - Sulphur Dioxide - Analysis](https://ads.atmosphere.copernicus.eu/cdsapp#!/dataset/cams-europe-air-quality-forecasts?tab=overview) "
   ]
  },
  {
   "cell_type": "markdown",
   "id": "b3bca8ee",
   "metadata": {},
   "source": [
    "Download and write .nc file for sulphur sioxide (so2) over the study area:"
   ]
  },
  {
   "cell_type": "code",
   "execution_count": null,
   "id": "3d783cd7",
   "metadata": {},
   "outputs": [],
   "source": [
    "so2_path = absolutepath + r'/temp/so2_cams.nc'\n",
    "so2 = c_atm.retrieve(\n",
    "    'cams-europe-air-quality-forecasts',\n",
    "    {\n",
    "        'variable': 'sulphur_dioxide',\n",
    "        'model': 'ensemble',\n",
    "        'level': '0',\n",
    "        'date': start_date+'/'+end_date,\n",
    "        'type': 'analysis',\n",
    "        'time': [\n",
    "            '00:00', '01:00', '02:00',\n",
    "            '03:00', '04:00', '05:00',\n",
    "            '06:00', '07:00', '08:00',\n",
    "            '09:00', '10:00', '11:00',\n",
    "            '12:00', '13:00', '14:00',\n",
    "            '15:00', '16:00', '17:00',\n",
    "            '18:00', '19:00', '20:00',\n",
    "            '21:00', '22:00', '23:00',\n",
    "        ],\n",
    "        'leadtime_hour': '0',\n",
    "        'area': [\n",
    "            bounds[3], bounds[0], bounds[1],\n",
    "            bounds[2],\n",
    "        ],\n",
    "        'format': 'netcdf',\n",
    "    },\n",
    "    so2_path\n",
    "    )"
   ]
  },
  {
   "cell_type": "markdown",
   "id": "9efc27d1",
   "metadata": {},
   "source": [
    "Read sulphur dioxide .nc file:"
   ]
  },
  {
   "cell_type": "code",
   "execution_count": null,
   "id": "2dc9530d",
   "metadata": {},
   "outputs": [],
   "source": [
    "so2 = xr.open_dataset(so2_path)"
   ]
  },
  {
   "cell_type": "markdown",
   "id": "4015798f",
   "metadata": {},
   "source": [
    "Calculate average sulphure dioxide concentration for the selected days:"
   ]
  },
  {
   "cell_type": "code",
   "execution_count": null,
   "id": "e043e188",
   "metadata": {},
   "outputs": [],
   "source": [
    "so2_mean = so2.mean(dim='time')"
   ]
  },
  {
   "cell_type": "markdown",
   "id": "bac47bd1",
   "metadata": {},
   "source": [
    "Write so2_mean .nc file:"
   ]
  },
  {
   "cell_type": "code",
   "execution_count": null,
   "id": "7cb4a0a0",
   "metadata": {},
   "outputs": [],
   "source": [
    "so2_mean.to_netcdf(so2_path)"
   ]
  },
  {
   "cell_type": "markdown",
   "id": "70f2f8b2",
   "metadata": {},
   "source": [
    "- - -"
   ]
  },
  {
   "cell_type": "markdown",
   "id": "c0a3d022",
   "metadata": {},
   "source": [
    "# [CAMS - Nitrogen Dioxide - Analysis](https://ads.atmosphere.copernicus.eu/cdsapp#!/dataset/cams-europe-air-quality-forecasts?tab=overview) "
   ]
  },
  {
   "cell_type": "code",
   "execution_count": null,
   "id": "8f3d4d3b",
   "metadata": {},
   "outputs": [],
   "source": [
    "no2_path = absolutepath + r'/temp/no2_cams.nc'\n",
    "no2 = c_atm.retrieve(\n",
    "    'cams-europe-air-quality-forecasts',\n",
    "    {\n",
    "        'variable': 'nitrogen_dioxide',\n",
    "        'model': 'ensemble',\n",
    "        'level': '0',\n",
    "        'date': start_date+'/'+end_date,\n",
    "        'type': 'analysis',\n",
    "        'time': [\n",
    "            '00:00', '01:00', '02:00',\n",
    "            '03:00', '04:00', '05:00',\n",
    "            '06:00', '07:00', '08:00',\n",
    "            '09:00', '10:00', '11:00',\n",
    "            '12:00', '13:00', '14:00',\n",
    "            '15:00', '16:00', '17:00',\n",
    "            '18:00', '19:00', '20:00',\n",
    "            '21:00', '22:00', '23:00',\n",
    "        ],\n",
    "        'leadtime_hour': '0',\n",
    "        'area': [\n",
    "            bounds[3], bounds[0], bounds[1],\n",
    "            bounds[2],\n",
    "        ],\n",
    "        'format': 'netcdf',\n",
    "    },\n",
    "    no2_path\n",
    "    )"
   ]
  },
  {
   "cell_type": "code",
   "execution_count": null,
   "id": "acc56fcd",
   "metadata": {},
   "outputs": [],
   "source": [
    "no2 = xr.open_dataset(no2_path)"
   ]
  },
  {
   "cell_type": "code",
   "execution_count": null,
   "id": "1a531f79",
   "metadata": {},
   "outputs": [],
   "source": [
    "no2_mean = no2.mean(dim='time')\n",
    "no2_mean"
   ]
  },
  {
   "cell_type": "code",
   "execution_count": null,
   "id": "a3c72e80",
   "metadata": {},
   "outputs": [],
   "source": [
    "no2_mean.to_netcdf(no2_path)"
   ]
  },
  {
   "cell_type": "markdown",
   "id": "73484d5c",
   "metadata": {},
   "source": [
    "- - -"
   ]
  },
  {
   "cell_type": "markdown",
   "id": "51fba870",
   "metadata": {},
   "source": [
    "# Nitrogen Monoxide"
   ]
  },
  {
   "cell_type": "code",
   "execution_count": null,
   "id": "8bc8305f",
   "metadata": {},
   "outputs": [],
   "source": [
    "no_path = absolutepath + r'/temp/no_cams.nc'\n",
    "no = c_atm.retrieve(\n",
    "    'cams-europe-air-quality-forecasts',\n",
    "    {\n",
    "        'variable': 'nitrogen_monoxide',\n",
    "        'model': 'ensemble',\n",
    "        'level': '0',\n",
    "        'date': start_date+'/'+end_date,\n",
    "        'type': 'analysis',\n",
    "        'time': [\n",
    "            '00:00', '01:00', '02:00',\n",
    "            '03:00', '04:00', '05:00',\n",
    "            '06:00', '07:00', '08:00',\n",
    "            '09:00', '10:00', '11:00',\n",
    "            '12:00', '13:00', '14:00',\n",
    "            '15:00', '16:00', '17:00',\n",
    "            '18:00', '19:00', '20:00',\n",
    "            '21:00', '22:00', '23:00',\n",
    "        ],\n",
    "        'leadtime_hour': '0',\n",
    "        'area': [\n",
    "            bounds[3], bounds[0], bounds[1],\n",
    "            bounds[2],\n",
    "        ],\n",
    "        'format': 'netcdf',\n",
    "    },\n",
    "    no_path\n",
    "    )"
   ]
  },
  {
   "cell_type": "code",
   "execution_count": null,
   "id": "bbe636f1",
   "metadata": {},
   "outputs": [],
   "source": [
    "no = xr.open_dataset(no_path)"
   ]
  },
  {
   "cell_type": "code",
   "execution_count": null,
   "id": "b88fa2e1",
   "metadata": {},
   "outputs": [],
   "source": [
    "no_mean = no.mean(dim='time')\n",
    "no_mean"
   ]
  },
  {
   "cell_type": "code",
   "execution_count": null,
   "id": "566176d1",
   "metadata": {},
   "outputs": [],
   "source": [
    "no_mean.to_netcdf(no_path)"
   ]
  },
  {
   "cell_type": "markdown",
   "id": "03250b75",
   "metadata": {},
   "source": [
    "- - -"
   ]
  },
  {
   "cell_type": "markdown",
   "id": "d95aa5ab",
   "metadata": {},
   "source": [
    "# Carbon monoxide"
   ]
  },
  {
   "cell_type": "code",
   "execution_count": null,
   "id": "94dbfb83",
   "metadata": {},
   "outputs": [],
   "source": [
    "co_path = absolutepath + r'/temp/co_cams.nc'\n",
    "co = c_atm.retrieve(\n",
    "    'cams-europe-air-quality-forecasts',\n",
    "    {\n",
    "        'variable': 'carbon_monoxide',\n",
    "        'model': 'ensemble',\n",
    "        'level': '0',\n",
    "        'date': start_date+'/'+end_date,\n",
    "        'type': 'analysis',\n",
    "        'time': [\n",
    "            '00:00', '01:00', '02:00',\n",
    "            '03:00', '04:00', '05:00',\n",
    "            '06:00', '07:00', '08:00',\n",
    "            '09:00', '10:00', '11:00',\n",
    "            '12:00', '13:00', '14:00',\n",
    "            '15:00', '16:00', '17:00',\n",
    "            '18:00', '19:00', '20:00',\n",
    "            '21:00', '22:00', '23:00',\n",
    "        ],\n",
    "        'leadtime_hour': '0',\n",
    "        'area': [\n",
    "            bounds[3], bounds[0], bounds[1],\n",
    "            bounds[2],\n",
    "        ],\n",
    "        'format': 'netcdf',\n",
    "    },\n",
    "    co_path\n",
    "    )"
   ]
  },
  {
   "cell_type": "code",
   "execution_count": null,
   "id": "6898d246",
   "metadata": {},
   "outputs": [],
   "source": [
    "co = xr.open_dataset(co_path)"
   ]
  },
  {
   "cell_type": "code",
   "execution_count": null,
   "id": "745ad796",
   "metadata": {},
   "outputs": [],
   "source": [
    "co_mean = co.mean(dim='time')\n",
    "co_mean"
   ]
  },
  {
   "cell_type": "code",
   "execution_count": null,
   "id": "acaea161",
   "metadata": {},
   "outputs": [],
   "source": [
    "co_mean.to_netcdf(co_path)"
   ]
  },
  {
   "cell_type": "markdown",
   "id": "adddfe3f",
   "metadata": {},
   "source": [
    "---"
   ]
  },
  {
   "cell_type": "markdown",
   "id": "f39a6d53",
   "metadata": {},
   "source": [
    "# Dust"
   ]
  },
  {
   "cell_type": "code",
   "execution_count": null,
   "id": "27ee3eba",
   "metadata": {},
   "outputs": [],
   "source": [
    "dust_path = absolutepath + r'/temp/dust_cams.nc'\n",
    "dust = c_atm.retrieve(\n",
    "    'cams-europe-air-quality-forecasts',\n",
    "    {\n",
    "        'variable': 'dust',\n",
    "        'model': 'ensemble',\n",
    "        'level': '0',\n",
    "        'date': start_date+'/'+end_date,\n",
    "        'type': 'analysis',\n",
    "        'time': [\n",
    "            '00:00', '01:00', '02:00',\n",
    "            '03:00', '04:00', '05:00',\n",
    "            '06:00', '07:00', '08:00',\n",
    "            '09:00', '10:00', '11:00',\n",
    "            '12:00', '13:00', '14:00',\n",
    "            '15:00', '16:00', '17:00',\n",
    "            '18:00', '19:00', '20:00',\n",
    "            '21:00', '22:00', '23:00',\n",
    "        ],\n",
    "        'leadtime_hour': '0',\n",
    "        'area': [\n",
    "            bounds[3], bounds[0], bounds[1],\n",
    "            bounds[2],\n",
    "        ],\n",
    "        'format': 'netcdf',\n",
    "    },\n",
    "    dust_path\n",
    "    )"
   ]
  },
  {
   "cell_type": "code",
   "execution_count": null,
   "id": "90b85837",
   "metadata": {},
   "outputs": [],
   "source": [
    "dust = xr.open_dataset(dust_path)"
   ]
  },
  {
   "cell_type": "code",
   "execution_count": null,
   "id": "8ffab273",
   "metadata": {},
   "outputs": [],
   "source": [
    "dust_mean = dust.mean(dim='time')\n",
    "dust_mean"
   ]
  },
  {
   "cell_type": "code",
   "execution_count": null,
   "id": "e95419fe",
   "metadata": {},
   "outputs": [],
   "source": [
    "dust_mean.to_netcdf(dust_path)"
   ]
  },
  {
   "cell_type": "markdown",
   "id": "4aa46b02",
   "metadata": {},
   "source": [
    "# PM10"
   ]
  },
  {
   "cell_type": "code",
   "execution_count": null,
   "id": "cc5202e0",
   "metadata": {
    "scrolled": true
   },
   "outputs": [],
   "source": [
    "pm10_path = absolutepath + r'/temp/pm10_cams.nc'\n",
    "pm10 = c_atm.retrieve(\n",
    "    'cams-europe-air-quality-forecasts',\n",
    "    {\n",
    "        'model': 'ensemble',\n",
    "        'date': start_date+'/'+end_date,\n",
    "        'format': 'netcdf',\n",
    "        'level': '0',\n",
    "        'type': 'analysis',\n",
    "        'variable': 'particulate_matter_10um',\n",
    "        'leadtime_hour': '0',\n",
    "        'time': [\n",
    "            '00:00', '01:00', '02:00',\n",
    "            '03:00', '04:00', '05:00',\n",
    "            '06:00', '07:00', '08:00',\n",
    "            '09:00', '10:00', '11:00',\n",
    "            '12:00', '13:00', '14:00',\n",
    "            '15:00', '16:00', '17:00',\n",
    "            '18:00', '19:00', '20:00',\n",
    "            '21:00', '22:00', '23:00',\n",
    "        ],\n",
    "        'area': [\n",
    "            bounds[3], bounds[0], bounds[1],\n",
    "            bounds[2]],\n",
    "        'format': 'netcdf'\n",
    "    },\n",
    "    pm10_path)"
   ]
  },
  {
   "cell_type": "code",
   "execution_count": null,
   "id": "3bcf9d0c",
   "metadata": {},
   "outputs": [],
   "source": [
    "pm10 = xr.open_dataset(pm10_path)"
   ]
  },
  {
   "cell_type": "code",
   "execution_count": null,
   "id": "6f5cc72d",
   "metadata": {},
   "outputs": [],
   "source": [
    "pm10_mean = pm10.mean(dim='time')\n",
    "pm10_mean"
   ]
  },
  {
   "cell_type": "code",
   "execution_count": null,
   "id": "37709319",
   "metadata": {},
   "outputs": [],
   "source": [
    "pm10_mean.to_netcdf(pm10_path)"
   ]
  },
  {
   "cell_type": "markdown",
   "id": "f52628ac",
   "metadata": {},
   "source": [
    "# Non Methane VOCs"
   ]
  },
  {
   "cell_type": "code",
   "execution_count": null,
   "id": "264161a2",
   "metadata": {},
   "outputs": [],
   "source": [
    "nmvocs_path = absolutepath + r'/temp/nmvocs_cams.nc'\n",
    "nmvocs = c_atm.retrieve(\n",
    "    'cams-europe-air-quality-forecasts',\n",
    "    {\n",
    "        'model': 'ensemble',\n",
    "        'date': start_date+'/'+end_date,\n",
    "        'format': 'netcdf',\n",
    "        'level': '0',\n",
    "        'type': 'analysis',\n",
    "        'variable': 'non_methane_vocs',\n",
    "        'leadtime_hour': '0',\n",
    "        'time': [\n",
    "            '00:00', '01:00', '02:00',\n",
    "            '03:00', '04:00', '05:00',\n",
    "            '06:00', '07:00', '08:00',\n",
    "            '09:00', '10:00', '11:00',\n",
    "            '12:00', '13:00', '14:00',\n",
    "            '15:00', '16:00', '17:00',\n",
    "            '18:00', '19:00', '20:00',\n",
    "            '21:00', '22:00', '23:00',\n",
    "        ],\n",
    "        'area': [\n",
    "            bounds[3], bounds[0], bounds[1],\n",
    "            bounds[2]],\n",
    "        'format': 'netcdf'\n",
    "    },\n",
    "    nmvocs_path)"
   ]
  },
  {
   "cell_type": "code",
   "execution_count": null,
   "id": "83cf504c",
   "metadata": {},
   "outputs": [],
   "source": [
    "nmvocs = xr.open_dataset(nmvocs_path)"
   ]
  },
  {
   "cell_type": "code",
   "execution_count": null,
   "id": "649f287d",
   "metadata": {},
   "outputs": [],
   "source": [
    "nmvocs_mean = nmvocs.mean(dim='time')\n",
    "nmvocs_mean"
   ]
  },
  {
   "cell_type": "code",
   "execution_count": null,
   "id": "a947c8ca",
   "metadata": {},
   "outputs": [],
   "source": [
    "nmvocs_mean.to_netcdf(nmvocs_path)"
   ]
  },
  {
   "cell_type": "markdown",
   "id": "9d7c023c",
   "metadata": {},
   "source": [
    "# CDS Climate Copernicus"
   ]
  },
  {
   "cell_type": "markdown",
   "id": "bbd3d648",
   "metadata": {},
   "source": [
    "Link to ADS API from (https://cds.climate.copernicus.eu/api-how-to):<br>\n",
    "Example: https://github.com/ecmwf-projects/copernicus-training/blob/master/100_climate_data_store_intro.ipynb"
   ]
  },
  {
   "cell_type": "code",
   "execution_count": null,
   "id": "6e769ced",
   "metadata": {},
   "outputs": [],
   "source": [
    "# CLIM_ID = 'https://cds.climate.copernicus.eu/api/v2'\n",
    "# CLIM_KEY = '114120:ff103cbe-66d7-4fde-bc68-0bb30039dc50'"
   ]
  },
  {
   "cell_type": "code",
   "execution_count": null,
   "id": "7e578e64",
   "metadata": {},
   "outputs": [],
   "source": [
    "# c_clim = cdsapi.Client()"
   ]
  },
  {
   "cell_type": "markdown",
   "id": "aec23b6c",
   "metadata": {},
   "source": [
    "# [ERA5 - Temperature 2 m level - Renalysis](https://cds.climate.copernicus.eu/cdsapp#!/dataset/reanalysis-era5-land?tab=form) "
   ]
  },
  {
   "cell_type": "code",
   "execution_count": null,
   "id": "816b1f86",
   "metadata": {},
   "outputs": [],
   "source": [
    "# temp2m_path = absolutepath + r'/temp/temp_2m.nc'\n",
    "# c_clim.retrieve(\n",
    "#     'reanalysis-era5-land',\n",
    "#     {\n",
    "#         'format': 'netcdf',\n",
    "#         'variable': '2m_temperature',\n",
    "#         'year': '2021',\n",
    "#         'month': '11',\n",
    "#         'day': [\n",
    "#             '01'\n",
    "#         ],\n",
    "#         'area': [\n",
    "#             bounds[3], bounds[0], bounds[1],\n",
    "#             bounds[2],\n",
    "#         ],\n",
    "#         'time': '12:00',\n",
    "#     },\n",
    "#     temp2m_path)"
   ]
  },
  {
   "cell_type": "code",
   "execution_count": null,
   "id": "023037b4",
   "metadata": {},
   "outputs": [],
   "source": [
    "# temp_2m = xr.open_dataset(temp2m_path)"
   ]
  },
  {
   "cell_type": "code",
   "execution_count": null,
   "id": "704570f5",
   "metadata": {},
   "outputs": [],
   "source": [
    "# temp_2m_mean = temp_2m.mean(dim='time')\n",
    "# temp_2m_mean"
   ]
  },
  {
   "cell_type": "code",
   "execution_count": null,
   "id": "c56ac063",
   "metadata": {},
   "outputs": [],
   "source": [
    "# temp_2m_mean.to_netcdf(temp2_path)"
   ]
  },
  {
   "cell_type": "code",
   "execution_count": null,
   "id": "fdd186fd",
   "metadata": {},
   "outputs": [],
   "source": [
    "# bounds"
   ]
  },
  {
   "cell_type": "code",
   "execution_count": null,
   "id": "5b16fb8e",
   "metadata": {},
   "outputs": [],
   "source": []
  }
 ],
 "metadata": {
  "kernelspec": {
   "display_name": "Python 3 (ipykernel)",
   "language": "python",
   "name": "python3"
  },
  "language_info": {
   "codemirror_mode": {
    "name": "ipython",
    "version": 3
   },
   "file_extension": ".py",
   "mimetype": "text/x-python",
   "name": "python",
   "nbconvert_exporter": "python",
   "pygments_lexer": "ipython3",
   "version": "3.9.10"
  }
 },
 "nbformat": 4,
 "nbformat_minor": 5
}
